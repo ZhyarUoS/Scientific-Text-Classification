{
  "cells": [
    {
      "cell_type": "code",
      "execution_count": 1,
      "metadata": {
        "colab": {
          "base_uri": "https://localhost:8080/"
        },
        "id": "iRuetRKhDN59",
        "outputId": "cf4696f2-d182-4df0-cd33-71aee03b99f5"
      },
      "outputs": [
        {
          "output_type": "stream",
          "name": "stdout",
          "text": [
            "Tue Jul 30 12:05:25 2024       \n",
            "+---------------------------------------------------------------------------------------+\n",
            "| NVIDIA-SMI 535.104.05             Driver Version: 535.104.05   CUDA Version: 12.2     |\n",
            "|-----------------------------------------+----------------------+----------------------+\n",
            "| GPU  Name                 Persistence-M | Bus-Id        Disp.A | Volatile Uncorr. ECC |\n",
            "| Fan  Temp   Perf          Pwr:Usage/Cap |         Memory-Usage | GPU-Util  Compute M. |\n",
            "|                                         |                      |               MIG M. |\n",
            "|=========================================+======================+======================|\n",
            "|   0  Tesla T4                       Off | 00000000:00:04.0 Off |                    0 |\n",
            "| N/A   68C    P8              12W /  70W |      0MiB / 15360MiB |      0%      Default |\n",
            "|                                         |                      |                  N/A |\n",
            "+-----------------------------------------+----------------------+----------------------+\n",
            "                                                                                         \n",
            "+---------------------------------------------------------------------------------------+\n",
            "| Processes:                                                                            |\n",
            "|  GPU   GI   CI        PID   Type   Process name                            GPU Memory |\n",
            "|        ID   ID                                                             Usage      |\n",
            "|=======================================================================================|\n",
            "|  No running processes found                                                           |\n",
            "+---------------------------------------------------------------------------------------+\n"
          ]
        }
      ],
      "source": [
        "gpu_info = !nvidia-smi\n",
        "gpu_info = '\\n'.join(gpu_info)\n",
        "if gpu_info.find('failed') >= 0:\n",
        "  print('Not connected to a GPU')\n",
        "else:\n",
        "  print(gpu_info)"
      ]
    },
    {
      "cell_type": "code",
      "execution_count": 2,
      "metadata": {
        "colab": {
          "base_uri": "https://localhost:8080/"
        },
        "id": "7BMB0YxADN5-",
        "outputId": "86555d64-caa3-4756-c934-5b53b8521656"
      },
      "outputs": [
        {
          "output_type": "stream",
          "name": "stdout",
          "text": [
            "Your runtime has 54.8 gigabytes of available RAM\n",
            "\n",
            "You are using a high-RAM runtime!\n"
          ]
        }
      ],
      "source": [
        "from psutil import virtual_memory\n",
        "ram_gb = virtual_memory().total / 1e9\n",
        "print('Your runtime has {:.1f} gigabytes of available RAM\\n'.format(ram_gb))\n",
        "\n",
        "if ram_gb < 20:\n",
        "  print('Not using a high-RAM runtime')\n",
        "else:\n",
        "  print('You are using a high-RAM runtime!')"
      ]
    },
    {
      "cell_type": "code",
      "execution_count": 3,
      "metadata": {
        "colab": {
          "base_uri": "https://localhost:8080/"
        },
        "id": "e2qEb3ivDN5-",
        "outputId": "efe53611-9638-4f53-fd71-8c0c1f8db933"
      },
      "outputs": [
        {
          "output_type": "stream",
          "name": "stdout",
          "text": [
            "Mounted at /content/drive\n"
          ]
        }
      ],
      "source": [
        "from google.colab import drive\n",
        "drive.mount('/content/drive')"
      ]
    },
    {
      "cell_type": "code",
      "execution_count": 4,
      "metadata": {
        "colab": {
          "base_uri": "https://localhost:8080/"
        },
        "id": "ZRaneJBnDN5_",
        "outputId": "ec096f19-fc10-4ceb-e723-75af685f6c0e"
      },
      "outputs": [
        {
          "output_type": "stream",
          "name": "stdout",
          "text": [
            "Requirement already satisfied: transformers in /usr/local/lib/python3.10/dist-packages (4.42.4)\n",
            "Requirement already satisfied: filelock in /usr/local/lib/python3.10/dist-packages (from transformers) (3.15.4)\n",
            "Requirement already satisfied: huggingface-hub<1.0,>=0.23.2 in /usr/local/lib/python3.10/dist-packages (from transformers) (0.23.5)\n",
            "Requirement already satisfied: numpy<2.0,>=1.17 in /usr/local/lib/python3.10/dist-packages (from transformers) (1.26.4)\n",
            "Requirement already satisfied: packaging>=20.0 in /usr/local/lib/python3.10/dist-packages (from transformers) (24.1)\n",
            "Requirement already satisfied: pyyaml>=5.1 in /usr/local/lib/python3.10/dist-packages (from transformers) (6.0.1)\n",
            "Requirement already satisfied: regex!=2019.12.17 in /usr/local/lib/python3.10/dist-packages (from transformers) (2024.5.15)\n",
            "Requirement already satisfied: requests in /usr/local/lib/python3.10/dist-packages (from transformers) (2.31.0)\n",
            "Requirement already satisfied: safetensors>=0.4.1 in /usr/local/lib/python3.10/dist-packages (from transformers) (0.4.3)\n",
            "Requirement already satisfied: tokenizers<0.20,>=0.19 in /usr/local/lib/python3.10/dist-packages (from transformers) (0.19.1)\n",
            "Requirement already satisfied: tqdm>=4.27 in /usr/local/lib/python3.10/dist-packages (from transformers) (4.66.4)\n",
            "Requirement already satisfied: fsspec>=2023.5.0 in /usr/local/lib/python3.10/dist-packages (from huggingface-hub<1.0,>=0.23.2->transformers) (2024.6.1)\n",
            "Requirement already satisfied: typing-extensions>=3.7.4.3 in /usr/local/lib/python3.10/dist-packages (from huggingface-hub<1.0,>=0.23.2->transformers) (4.12.2)\n",
            "Requirement already satisfied: charset-normalizer<4,>=2 in /usr/local/lib/python3.10/dist-packages (from requests->transformers) (3.3.2)\n",
            "Requirement already satisfied: idna<4,>=2.5 in /usr/local/lib/python3.10/dist-packages (from requests->transformers) (3.7)\n",
            "Requirement already satisfied: urllib3<3,>=1.21.1 in /usr/local/lib/python3.10/dist-packages (from requests->transformers) (2.0.7)\n",
            "Requirement already satisfied: certifi>=2017.4.17 in /usr/local/lib/python3.10/dist-packages (from requests->transformers) (2024.7.4)\n"
          ]
        }
      ],
      "source": [
        "!pip install transformers"
      ]
    },
    {
      "cell_type": "code",
      "execution_count": 5,
      "metadata": {
        "id": "jEVF9FbODN5_"
      },
      "outputs": [],
      "source": [
        "import os\n",
        "import numpy as np\n",
        "import pandas as pd\n",
        "from sklearn.model_selection import train_test_split\n",
        "from sklearn.metrics import confusion_matrix, classification_report, f1_score, precision_score, recall_score\n",
        "from transformers import AutoTokenizer, AutoModelForSequenceClassification, AdamW, get_linear_schedule_with_warmup\n",
        "import torch\n",
        "from torch.utils.data import DataLoader, TensorDataset, RandomSampler, SequentialSampler\n",
        "import torch.nn.functional as F\n",
        "from tqdm import trange, tqdm\n",
        "import matplotlib.pyplot as plt\n",
        "import sklearn.utils\n",
        "import time\n",
        "import re\n",
        "from google.colab import runtime"
      ]
    },
    {
      "cell_type": "code",
      "execution_count": 6,
      "metadata": {
        "colab": {
          "base_uri": "https://localhost:8080/"
        },
        "id": "d84lKOxcDN5_",
        "outputId": "66ebb88a-2101-48a3-9128-ac569d8a45a1"
      },
      "outputs": [
        {
          "output_type": "stream",
          "name": "stdout",
          "text": [
            "(46985, 4)\n"
          ]
        }
      ],
      "source": [
        "# Retrive the data from stored dataset\n",
        "dataDir = \"/content/drive/MyDrive/WoS/data/46985\"\n",
        "tsvData = os.path.join(dataDir,\"WoSDataset_46985.tsv\")\n",
        "\n",
        "tsvData = np.loadtxt(tsvData, dtype=str, delimiter=\"\\t\")\n",
        "print(np.shape(tsvData))"
      ]
    },
    {
      "cell_type": "code",
      "execution_count": 7,
      "metadata": {
        "colab": {
          "base_uri": "https://localhost:8080/"
        },
        "id": "FIYp3nhcDN5_",
        "outputId": "b4021945-58f4-49ec-f6ea-a6442e34bad0"
      },
      "outputs": [
        {
          "output_type": "stream",
          "name": "stdout",
          "text": [
            "[['0' 'CS'\n",
            "  ' 21dimensional nonlinear optical waves erbiumdoped optical fibre symbolic computation soliton solution soliton interaction        '\n",
            "  '2  1dimensional nonlinear optical waves through the coherently excited resonant medium doped with the erbium atoms can be described by a 2  1dimensional nonlinear schrodinger equation coupled with the selfinduced transparency equations for such a system via the hirota method and symbolic computation linear forms one twoand nsoliton solutions are obtained asymptotic analysis is conducted and suggests that the interaction between the two solitons is elastic bright solitons are obtained for the fields e and p while the dark ones for the field n with e as the electric field p as the polarization in the resonant medium induced by the electric field and n as the population inversion profile of the dopant atoms headon interaction between the bidirectional two solitons and overtaking interaction between the unidirectional two solitons are seen influence of the averaged natural frequency on the solitons are studied 1 can affect the velocities of all the solitons 2 amplitudes of the solitons for the fields p and n increase with decreasing and decrease with increasing 3 with decreasing for the fields p and n onepeak one soliton turns into the twopeak one as well as interaction type changes from the interaction between two onepeak ones to that between a onepeak one and a twopeak one 4 for the field e influence of on the solitons cannot be found the results of this paper might be of potential applications in the design of optical communication systems which can produce the bright and dark solitons simultaneously']\n",
            " ['5' 'Medical'\n",
            "  ' aging tau amyloid pet alzheimers disease polypathology        '\n",
            "  'betaamyloid a beta and tau pathology become increasingly prevalent with age however the spatial relationship between the two pathologies remains unknown we examined local same region and nonlocal different region associations between these 2 aggregated proteins in 46 normal older adults using f18av1451 for tau and c11pib for a beta positron emission tomography pet and 15 t magnetic resonance imaging mri images while local voxelwise analyses showed associations between pib and av1451 tracer largely in the temporal lobes kmeans clustering revealed that some of these associations were driven by regions with low tracer retention we followed this up with a wholebrain regionbyregion local and nonlocal partial correlational analysis we calculated each participants mean av1451 and pib uptake values within 87 regions of interest roi pairwise roi analysis demonstrated many positive pib av1451 associations importantly strong positive partial correlations controlling for age sex and global gray matter fraction p 01 were identified between pib in multiple regions of association cortex and av1451 in temporal cortical rois there were also less frequent and weaker positive associations of regional pib with frontoparietal av1451 uptake particularly in temporal lobe rois av1451 uptake was strongly predicted by nb across multiple roi locations these data indicate that a beta and tau pathology show significant local and nonlocal regional associations among cognitively normal elderly with increased pib uptake throughout the cortex correlating with increased temporal lobe av1451 uptake the spatial relationship between a beta and tau accumulation does not appear to be specific to a beta location suggesting a regional vulnerability of temporal brain regions to tau accumulation regardless of where ap accumulates']\n",
            " ['4' 'Civil'\n",
            "  ' led lighting system pv system distributed lighting control energy efficiency green building daylight responsive dimming system        '\n",
            "  'decreasing of energy consumption and environmentally friendly energy resources are the issues in the foreground nowadays as the electric energy consumed for the illumination is high longlasting and lowconsumption led lightemitting diode technology gets prominent there have been made much reseacrh regarding the use of photovoltaic sytems in meeting the energy demand in housing and industry however there is need for more research with regards to photovoltaic sytems integration with energy efficiency sytems in this study for the environments which have different lighting levels due to daylight factor there has been proposed a lowcost pv photovoltaics based and distributed sensor smart led illuminating system and there has been acquired 72075 more energy saving in comparison with conventional led illuminating system c 2017 elsevier inc all rights reserved']\n",
            " ['1' 'ECE'\n",
            "  ' ndfeb magnets electric motor electric vehicle hybrid electric vehicle recycling rare earth elements        '\n",
            "  'hybrid electric vehicles are assumed to play a major role in future mobility concepts although sales numbers are increasing little emphasis has been laid on the recycling of some key components such as power electronics or electric motors permanent magnet synchronous motors contain considerable amounts of rare earth elements that cannot be recovered in conventional recycling routes although their recycling could have large economic environmental and strategic advantages no industrial recycling for permanent magnets is available in western countries at the moment regarding the essential steps dismantling of electric vehicles as well as the extraction of magnets from the rotors little has been published before this paper therefore presents and discusses different recycling approaches for the recycling of ndfeb magnets from hybrid electric vehicles many results stem from the german research project recycling of components and strategic metals of electric drive motors']\n",
            " ['5' 'Medical'\n",
            "  ' parkinsons disease dyskinesia adenosine a2a receptor striatum glutamic acid decarboxylase        '\n",
            "  'l34dihydroxyphenylalanine ldopa remains the primary pharmacological agent for the symptomatic treatment of parkinsons disease pd however the development of ldopainduced dyskinesia lid limits the longterm use of ldopa for pd patients some data have reported that adenosine a2a receptor a2ar antagonists prevented lid in animal model of pd however the mechanism in which adenosine a2ar blockade alleviates the symptoms of lid has not been fully clarified here we determined to knock out ko the gene of a2ar and explored the possible underlying mechanisms implicated in development of lid in a mouse model of pd a2ar gene ko mice were unilaterally injected into the striatum with 6hydroxydopamine 6ohda in order to damage dopamine neurons on one side of the brain 6ohdalesioned mice were then injected once daily for 21 days with ldopa abnormal involuntary movements aims were evaluated on days 3 8 13 and 18 after ldopa administration and realtime polymerase chain reaction and immunohistochemistry for glutamic acid decarboxylase gad 65 and gad67 were performed we found that a2ar gene ko was effective in reducing aim scores and accompanied with decrease of striatal gad67 rather than gad65 these results demonstrated that the possible mechanism involved in alleviation of aim symptoms by a2ar gene ko might be through reducing the expression of striatal gad67']\n",
            " ['0' 'CS'\n",
            "  ' tea category identification computer vision color histogram wavelet packet entropy winnertakesall radial basis function artificial neural network pattern recognition support vector machine        '\n",
            "  'objective in order to increase classification accuracy of teacategory identification tci system this paper proposed a novel approach method the proposed methods first extracted 64 color histogram to obtain color information and 16 wavelet packet entropy to obtain the texture information with the aim of reducing the 80 features principal component analysis was harnessed the reduced features were used as input to generalized eigenvalue proximal support vector machine gepsvm winnertakesall wta was used to handle the multiclass problem two kernels were tested linear kernel and radial basis function rbf kernel ten repetitions of 10fold stratified cross validation technique were used to estimate the outofsample errors we named our method as gepsvm  rbf  wta and gepsvm  wta result the results showed that pca reduced the 80 features to merely five with explaining 9990 of total variance the recall rate of gepsvm  rbf  wta achieved the highest overall recall rate of 979 conclusion this was higher than the result of gepsvm  wta and other five stateoftheart algorithms back propagation neural network rbf support vector machine genetic neuralnetwork linear discriminant analysis and fitnessscaling chaotic artificial bee colony artificial neural network']\n",
            " ['6' 'biochemistry'\n",
            "  ' brainmachine interfaces electrical stimulation of the brain transcranial magnetic stimulation trends psychiatry        '\n",
            "  'recent advances in deep brain stimulators and brain machine interfaces have greatly expanded the possibilities of neuroprosthetics and neuromodulation together with advances in neuroengineering nanotechnology molecular biology and material sciences it is now possible to address fundamental questions in neuroscience in new more powerful ways it is now possible to apply these new technologies in ways that range from augmenting and restoring function to neuromodulation modalities that treat neuropsychiatric disorders recent developments in neuromodulation methods offer significant advantages and potential clinical benefits for a variety of disorders here we describe the current state of the art in neuromodulation methods and some advances in brain machine interfaces describing the advantages and limitations of the clinical applications of each method the future applications of these new methods and how they will shape the future of psychiatry and medicine along with safety and ethical implications are also discussed c 2017 elsevier inc all rights reserved']\n",
            " ['1' 'ECE'\n",
            "  ' softwaredefined radio ais receiver vhf data exchange services satellite radio applications flexible rf front end        '\n",
            "  'this paper presents the concept of a softwaredefined radio with a flexible rf front end the design and architecture of this system as well as possible application examples will be explained one specific scenario is the operation in maritime frequency bands a wellknown service is the automatic identification system ais which has been captured by the dlr mission aisat and will be chosen as a maritime application example the results of an embedded solution for ais on the sdr platform are presented in this paper since there is an increasing request for more performance on maritime radio bands services like ais will be enhanced by the international association of marine aids to navigation and lighthouse authorities iala the new vhf data exchange service vdes shall implement a dedicated satellite link this paper describes that the sdr with a flexible rf front end can be used as a technology demonstration platform for this upcoming data exchange service']\n",
            " ['3' 'MAE'\n",
            "  ' plumesthermals turbulence modelling turbulence simulation        '\n",
            "  'we develop a generalised unsteady plume theory and compare it with a new direct numerical simulation dns dataset for an ensemble of statistically unsteady turbulent plumes the theoretical framework described in this paper generalises previous models and exposes several fundamental aspects of the physics of unsteady plumes the framework allows one to understand how the structure of the governing integral equations depends on the assumptions one makes about the radial dependence of the longitudinal velocity turbulence and pressure consequently the illposed models identified by scase  hewitt j fluid mech vol 697 2012 pp 455480 are shown to be the result of a nonphysical assumption regarding the velocity profile the framework reveals that these illposed unsteady plume models are degenerate cases amongst a comparatively large set of wellposed models that can be derived from the generalised unsteady plume equations that we obtain drawing on the results of dns of a plume subjected to an instantaneous step change in its source buoyancy flux we use the framework in a diagnostic capacity to investigate the properties of the resulting travelling wave in general the governing integral equations are hyperbolic becoming parabolic in the limiting case of a tophat model and the travelling wave can be classified as lazy pure or forced according to the particular assumptions that are invoked to close the integral equations guided by observations from the dns data we use the framework in a prognostic capacity to develop a relatively simple accurate and wellposed model of unsteady plumes that is based on the assumption of a gaussian velocity profile an analytical solution is presented for a pure straightsided plume that is consistent with the key features observed from the dns']\n",
            " ['2' 'Psychology'\n",
            "  ' stomach of human fetus development endocrine cells immunohistochemistry        '\n",
            "  ' while ghrelin cells were the most numerous during the se since reports on endocrine cells and their kinetics in the corpus of the human stomach are limited the aim of this study was to examine the appearance localization density and the relationship among the endocrine cell types in the corpus of the human stomach during prenatal and early postnatal development we examined chromogranin a somatostatin ghrelin glucagon and serotonin expression by immunohistochemistry in 2 embryos 38 fetuses and 3 infants in the corpus of human stomach chromogranin a secreting endocrine cells were identified in the corpus at week 10 of gestation somatostatin cells were present from the 10th week ghrelin and serotonin cells from the 11th week and glucagon cells from the 12th week of gestation endocrine cells were present individually or clustered within the glandular base and body during the first trimester and were present separately within the basal and central parts of glands during the second and third trimesters somatostatin cells were the most common type of cells similar to 46  during the first trimestercond trimester similar to 34  and in infants similar to 28  the percentage of glucagon cells was significant only during the first trimester of pregnancy 55  and the percentage of serotonin cells was only significant just before birth 48  these results show for the first time that the largest number of endocrine cells are present in the corpus during the first trimester of prenatal development also these results suggest that secretory products of endocrine cells play a role in the regulation of homeostasis growth and differentiation and in human stomach function']]\n"
          ]
        }
      ],
      "source": [
        "print(tsvData[0:10])"
      ]
    },
    {
      "cell_type": "code",
      "execution_count": 8,
      "metadata": {
        "id": "WUvZlOibDN5_"
      },
      "outputs": [],
      "source": [
        "allLabels = tsvData[:,0]\n",
        "domains = tsvData[:,1]\n",
        "keywords = tsvData[:,2]\n",
        "abstracts = tsvData[:,3]"
      ]
    },
    {
      "cell_type": "code",
      "execution_count": 9,
      "metadata": {
        "id": "SE5jkqySDN6A",
        "colab": {
          "base_uri": "https://localhost:8080/"
        },
        "outputId": "88c33e45-f86d-4910-9710-445bcd260a9d"
      },
      "outputs": [
        {
          "output_type": "stream",
          "name": "stdout",
          "text": [
            "Labels  ['CS' 'Civil' 'ECE' 'MAE' 'Medical' 'Psychology' 'biochemistry']\n",
            "Label counts  [ 6514  4237  5483  3297 14625  7142  5687]\n"
          ]
        }
      ],
      "source": [
        "labels = np.unique(domains, return_counts=True)[0]\n",
        "labelCounts=  np.unique(domains, return_counts=True)[1]\n",
        "\n",
        "print(\"Labels \", labels)\n",
        "print(\"Label counts \", labelCounts)"
      ]
    },
    {
      "cell_type": "code",
      "execution_count": 10,
      "metadata": {
        "id": "4wUHmcLtDN6A",
        "colab": {
          "base_uri": "https://localhost:8080/",
          "height": 542
        },
        "outputId": "b7761160-88c4-40f9-e5c4-2d095dbe84b3"
      },
      "outputs": [
        {
          "output_type": "display_data",
          "data": {
            "text/plain": [
              "<Figure size 1000x600 with 1 Axes>"
            ],
            "image/png": "[encoded data removed]"
          },
          "metadata": {}
        },
        {
          "output_type": "stream",
          "name": "stdout",
          "text": [
            "The domain CS has 6514 records in the dataset.\n",
            "The domain Civil has 4237 records in the dataset.\n",
            "The domain ECE has 5483 records in the dataset.\n",
            "The domain MAE has 3297 records in the dataset.\n",
            "The domain Medical has 14625 records in the dataset.\n",
            "The domain Psychology has 7142 records in the dataset.\n",
            "The domain biochemistry has 5687 records in the dataset.\n"
          ]
        }
      ],
      "source": [
        "# Visualize domain counts in dataset\n",
        "plt.figure(figsize=(10, 6))\n",
        "plt.title(\"Domain Counts (Dataset)\")\n",
        "plt.pie(labelCounts, labels=labels, autopct='%1.1f%%', startangle=140, colors=plt.cm.Paired(range(len(labels))))\n",
        "plt.axis('equal')\n",
        "plt.show()\n",
        "\n",
        "for i, domain in enumerate(labels):\n",
        "    print(\"The domain\", domain, \"has\", labelCounts[i], \"records in the dataset.\")"
      ]
    },
    {
      "cell_type": "code",
      "execution_count": 11,
      "metadata": {
        "id": "iy4b69DrDN6A",
        "colab": {
          "base_uri": "https://localhost:8080/"
        },
        "outputId": "e4b36bf2-5e5a-496e-ee5f-93e0afcda87a"
      },
      "outputs": [
        {
          "output_type": "stream",
          "name": "stdout",
          "text": [
            "Number of abstracts:  46985\n",
            "Shape of abstracts:  (46985,)\n",
            "['objectives to investigate safety tolerability and efficacy of longterm 52 weeks openlabel treatment with mirabegron 50 mg with an optional dose increase to 100 mg in patients with overactive bladder oab methods patients received mirabegron 50 mg once daily for 52 weeks if efficacy was insufficient at week 8 the dose could be increased to 100 mg safety was evaluated based on vital signs adverse events aes laboratory findings electrocardiogram and postvoid residual volume treatment efficacy was assessed with a 3day micturition diary and the kings health questionnaire khq results two hundred and four patients were enrolled mirabegron dose was maintained at 50mg in 153 patients and increased to 100 mg in 50 patients mirabegron was well tolerated at both doses incidences of aes and treatmentrelated aes were 914 and 336 in patients on 50 mg and 100 and 300 in patients on 100 mg respectively time course changes in systolic or diastolic blood pressure and pulse rate were not considered clinically significant at the end of treatment eot patients on 50mg and 100 mg showed improvement in frequency and urgency improvements from baseline to eot in quality of life scores were observed for all khq domains conclusions there were no safety or tolerability concerns associated with mirabegron 50mg with an optional dose increase to 100 mg over 52 weeks improvement in micturition variables was maintained with mirabegron 50mg from weeks 8 to 52'\n",
            " 'this work describes the cofermentation to the simultaneous production of rhamnolipids and ethanol from exploded sugarcane bagasse esb using saccharomyces cerevisiae pseudomonas aeruginosa and crude enzyme complexes cecs the cecs were produced by aspergillus niger in solidstate fermentation ssf using different levels of esb rice bran rb and corn cob cc as substrates the best results for rhamnolipids 91 gl emulsification index of 84 surface tension of 35 mnm and ethanol 84 gl were obtained after 86 h of fermentation of esb 250 gl 30 degrees c using cec from ssf of esb 20 wtwt rb 30 wtwt and water 50 wtwt it was also observed that the fermented bagasse had approximately the same calorific value of a bagasse in nature and could be used as a potential source of energy these findings suggest that cofermentation using p aeruginosa s cerevisiae and esb can be used in the successful coproduction of rhamnolipids and ethanol with the recovery of energy present in the fermented bagasse c 2017 elsevier ltd all rights reserved']\n",
            "Number of keywords:  46985\n",
            "Shape of keywords:  (46985,)\n",
            "['objectives to investigate safety tolerability and efficacy of longterm 52 weeks openlabel treatment with mirabegron 50 mg with an optional dose increase to 100 mg in patients with overactive bladder oab methods patients received mirabegron 50 mg once daily for 52 weeks if efficacy was insufficient at week 8 the dose could be increased to 100 mg safety was evaluated based on vital signs adverse events aes laboratory findings electrocardiogram and postvoid residual volume treatment efficacy was assessed with a 3day micturition diary and the kings health questionnaire khq results two hundred and four patients were enrolled mirabegron dose was maintained at 50mg in 153 patients and increased to 100 mg in 50 patients mirabegron was well tolerated at both doses incidences of aes and treatmentrelated aes were 914 and 336 in patients on 50 mg and 100 and 300 in patients on 100 mg respectively time course changes in systolic or diastolic blood pressure and pulse rate were not considered clinically significant at the end of treatment eot patients on 50mg and 100 mg showed improvement in frequency and urgency improvements from baseline to eot in quality of life scores were observed for all khq domains conclusions there were no safety or tolerability concerns associated with mirabegron 50mg with an optional dose increase to 100 mg over 52 weeks improvement in micturition variables was maintained with mirabegron 50mg from weeks 8 to 52'\n",
            " 'this work describes the cofermentation to the simultaneous production of rhamnolipids and ethanol from exploded sugarcane bagasse esb using saccharomyces cerevisiae pseudomonas aeruginosa and crude enzyme complexes cecs the cecs were produced by aspergillus niger in solidstate fermentation ssf using different levels of esb rice bran rb and corn cob cc as substrates the best results for rhamnolipids 91 gl emulsification index of 84 surface tension of 35 mnm and ethanol 84 gl were obtained after 86 h of fermentation of esb 250 gl 30 degrees c using cec from ssf of esb 20 wtwt rb 30 wtwt and water 50 wtwt it was also observed that the fermented bagasse had approximately the same calorific value of a bagasse in nature and could be used as a potential source of energy these findings suggest that cofermentation using p aeruginosa s cerevisiae and esb can be used in the successful coproduction of rhamnolipids and ethanol with the recovery of energy present in the fermented bagasse c 2017 elsevier ltd all rights reserved']\n",
            "Number of domains:  46985\n",
            "Shape of domains:  (46985,)\n",
            "['Medical' 'ECE']\n",
            "Number of labels:  46985\n",
            "Shape of labels:  (46985,)\n",
            "['5' '1']\n",
            "['objectives to investigate safety tolerability and efficacy of longterm 52 weeks openlabel treatment with mirabegron 50 mg with an optional dose increase to 100 mg in patients with overactive bladder oab methods patients received mirabegron 50 mg once daily for 52 weeks if efficacy was insufficient at week 8 the dose could be increased to 100 mg safety was evaluated based on vital signs adverse events aes laboratory findings electrocardiogram and postvoid residual volume treatment efficacy was assessed with a 3day micturition diary and the kings health questionnaire khq results two hundred and four patients were enrolled mirabegron dose was maintained at 50mg in 153 patients and increased to 100 mg in 50 patients mirabegron was well tolerated at both doses incidences of aes and treatmentrelated aes were 914 and 336 in patients on 50 mg and 100 and 300 in patients on 100 mg respectively time course changes in systolic or diastolic blood pressure and pulse rate were not considered clinically significant at the end of treatment eot patients on 50mg and 100 mg showed improvement in frequency and urgency improvements from baseline to eot in quality of life scores were observed for all khq domains conclusions there were no safety or tolerability concerns associated with mirabegron 50mg with an optional dose increase to 100 mg over 52 weeks improvement in micturition variables was maintained with mirabegron 50mg from weeks 8 to 52'\n",
            " 'this work describes the cofermentation to the simultaneous production of rhamnolipids and ethanol from exploded sugarcane bagasse esb using saccharomyces cerevisiae pseudomonas aeruginosa and crude enzyme complexes cecs the cecs were produced by aspergillus niger in solidstate fermentation ssf using different levels of esb rice bran rb and corn cob cc as substrates the best results for rhamnolipids 91 gl emulsification index of 84 surface tension of 35 mnm and ethanol 84 gl were obtained after 86 h of fermentation of esb 250 gl 30 degrees c using cec from ssf of esb 20 wtwt rb 30 wtwt and water 50 wtwt it was also observed that the fermented bagasse had approximately the same calorific value of a bagasse in nature and could be used as a potential source of energy these findings suggest that cofermentation using p aeruginosa s cerevisiae and esb can be used in the successful coproduction of rhamnolipids and ethanol with the recovery of energy present in the fermented bagasse c 2017 elsevier ltd all rights reserved'\n",
            " 'geosynthetics are planar polymeric products which are used in connection with soil rock or other soillike materials to fulfill various functions in geoenvironmental engineering geosynthetics are of evergrowing importance in the construction industry sealing of waste storage facilities to safely prevent the emission of wastewater landfill gas and contaminated dust as well as the diffusion of pollutants into the environment and coastal protection against storms and floods and reconstruction after natural disaster are important fields of application we will give an overview of the various geosynthetic products two examples of the material problems related to geosynthetics are discussed in detail the effect of creep on the longterm performance of geocomposite drains and the numerical simulation of the interaction of soil with geogrids both issues are of importance for the use of these products in landfill capping systems the various functions which geosynthetics may fulfill in the protection of coastal lines are illustrated by case studies the geosynthetic market is evaluated and economical and environmental benefits as well as environmental side effects related to the use of geosynthetics are discussed'\n",
            " 'through the selection with five chemotherapeutics of diverse chemical structures and modes of action cisdiamminedichloroplatinum doxorubicin etoposide methotrexate and vincristine four multidrugresistant cell line panels were developed cancer cell lines of different species human and murine as well as tissue organ skin colon origin characterized by low endogenous expression of multidrug resistance mdr proteins and high sensitivity to anticancer agents were used as parental cell lines a selection process resulted in the up regulation of several abc transporters abcb1abcbla abcc1abccl and abcg2abcg2 which was confirmed by a number of molecular and cell biology methods the mdr protein expression pattern seemed to be mainly dependent on the drug used for the selection and nut on the species or tissue origin of the cell line we pustulate that such cell panels can be used as a research model to assess the role of mdr proteins in the pharmacokinetics of novel drugs or drug formulations c 2016 elsevier inc all rights reserved'\n",
            " 'this study introduces power quality pq state space representation to describe continuous pq disturbances a tolerance boundary is designed to represent the integrated disturbance tolerance of all equipment connected to electric power network and the uncertainty of integrated disturbance tolerance is described with the cloud model electromagnetic compatibility and incompatibility degree indices are proposed to reflect the severity of pq disturbances affecting the equipment the influence degree index is defined to quantify the severity and impact scope of pq disturbances the uncertainty of equipment fault state is expressed by a fuzzy membership function subsequently pq performance is assessed according to equipment compatibilityincompatibility degree to pq disturbances case studies on a 14bus distribution system are performed and analysed results reveal the effectiveness and reasonableness of the proposed indices in assessing equipment compatibilityincompatibility degree to pq disturbances influence of pq disturbances on the equipment and pq performance'\n",
            " 'objective thyroid abnormalities are common in obese children the aim of the present study was to examine the prevalence of subclinical hypothyroidism shand to determine how circulating thyroid hormone concentrations correlate with anthropometrics in danish lean and obese children and adolescents methods in this crosssectional study we included 3006 children and adolescents aged 618 years from the registry of the danish childhood obesity biobank the overweightobese group n 1796 consisted of study participants with a body mass index bmi standard deviation score sds  128 the control group n 1210 comprised lean children with a bmi sds  128 all participants were characterized by anthropometrics weight height and waist circumference and fasting serum concentrations of thyroidstimulating hormone tsh free triiodothyronine and free thyroxine ft4 at baseline results the prevalence of sh was higher among overweightobese compared to lean study participants 104 vs 64 p00001 in the overweightobese group fasting serum tsh concentrations were associated positively with bmi sds p00001 and waistheight ratio whtr p05 p 00003 conclusion the prevalence of sh was higher among overweightobese study participants the positive correlations of circulating tsh and ft 4 with whtr suggest that central obesity independent of the overall degree of obesity augments the risk of concurrent thyroid abnormalities in children and adolescents with obesity'\n",
            " 'background antibodies to saccharomyces cerevisiae asca antibodies to perinuclear antineutrophil cytoplasmic panca pancreatic autoantibodies pab and antibodies against intestinal goblet cells gab are important in diagnosing crohns disease cd and ulcerative colitis uc however little is known about their diagnostic value in real clinical practice in china this retrospective study aimed to present our 2year clinical experience with those biomarkers in diagnosis of cd and uc methods a total of 140 patients with uc 128 patients with cd and 224 patients with intestinal associated diseases as disease controls were included serum asca were determined by elisa serum panca gab and pab were tested by indirect immunofluorescent assay retrospective review of laboratory results and clinical information was performed results asca and asca panca  showed poor abilities in differentiating cd from uc cd from intestinal behcets disease bd or cd from intestinal tuberculosis itb in contrast pab exhibited good capacities in differentiating cd from uc cd from intestinal bd and cd from itb igg panca demonstrated a high sensitivity and specificity in differentiating uc from cd panca asca  or panca pab  displayed a high sensitivity and specificity in differentiating uc from cd gab showed poor potential in differentiating uc from cd pab were positively correlated with early disease onset ileocolonic disease and perianal disease in cd patients conclusions our data suggest that panca and pab are helpful in diagnosis of uc and cd respectively while asca and gab were not our findings indicate a clear need for additional biomarkers for diagnosis of cd in china'\n",
            " 'rationale aims and objectivesthe nature of the relationship between bipolar disorder and borderline personality disorder has been an intense field of debate in the last two decades current diagnostic classifications approach this complex phenomenon using syndromatic definitions based on presence or absence of a restricted set of signs or symptoms that have demonstrated low specificity one of the several utilities of the phenomenological method in psychiatry is to complement the clinical panorama helping in the process of identifying potential differences between two separated clinical syndromes the main objective of this publication is to explore one particular clinical difference between these two conditions  that is the experience of selfcontinuity and time perception methodsthe argument explored in this paper is based on previous secondperson or phenomenological accounts of sufferers of both conditions results and conclusionswhereas borderline personality disorder patients tend to experience only the present moment referring frequent difficulties of drawing experiences of the past in order to determine their own future bipolar disorder patients are constantly worried about the contradictions in their past experiences and the latent risk of losing control of themselves in future episodes of their disease this contrast should be however corroborated in future research comparing directly the two groups in terms of the continuity of the self and their temporal structures'\n",
            " 'objectives mutations in calr calreticulin have been discovered in 50 to 80 of jak2 janus kinase 2 and mpl myeloproliferative leukemia protein wildtype patients with philadelphianegative myeloproliferative neoplasm mpns we evaluate the performance of a monoclonal antibody for immunohistochemical detection of calr mutations methods a computerized archival search was performed for cases of nonchronic myeloid leukemia cml mpns with available calr and jak2 v617f mutational analysis data bone marrow biopsy specimens were stained with monoclonal antibody cal2 and the percentage of stained megakwyocytes was calculated in select cases double immunofluorescence staining was done with cal2 and each of the following cd61 myeloperoxidase cd34 and glycophorin a results we studied 38 bone marrow biopsy specimens of noncml mpns primal myelofibrosis n  21 essential thrombocythemia n  15 and n  2 post polycythemia vera myelofibrosis from 31 patients all eight bone marrow biopsy specimens from patients with mutant calr showed strong cytoplasmic staining of the megakaryocytes 835 range 5098 median 87 with the cal2 antibody double immunofluorescence staining of the small mononuclear cells seen in calr mutant cases revealed them to be myeloid blasts conclusions immunohistochemistry in routinely processed bone marrow biopsy specimens for mutated calr is feasible and accurately identifies mutated cases including rare cases with additional driver mutations'\n",
            " 'patientreported outcomes measurement information system promis tools can identify healthrelated quality of life hrqol domains that could differentially affect disease progression cirrhotics are highly prone to hospitalizations and rehospitalizations but the current clinical prognostic models may be insufficient and thus studying the contribution of individual hrqol domains could improve prognostication analyze the impact of individual hrqol promis domains in predicting time to all nonelective hospitalizations and rehospitalizations in cirrhosis outpatient cirrhotics were administered promis computerized tools the first nonelective hospitalization and subsequent rehospitalizations after enrollment were recorded individual promis domains significantly contributing toward these outcomes were generated using principal component analysis factor analysis revealed three major promis domain groups daily function fatigue physical function social rolesactivities and sleep issues mood anxiety anger and depression and pain pain behaviorimpact accounted for 77 of the variability cox proportional hazards regression modeling was used for these groups to evaluate time to first hospitalization and rehospitalization a total of 286 patients 57 years meld 13 67 men 40 hepatic encephalopathy he were enrolled patients were followed at 6month mth intervals for a median of 38 mths iqr 2247 during which 31 were hospitalized median iqr mths 125 327 and 12 were rehospitalized 105 mths 328 time to first hospitalization was predicted by he hr 15 ci 10125 p  004 and daily function promis group hr 14 ci 1118 p  001 independently in contrast the pain promis group were predictive of the time to rehospitalization hr 16 ci 1123 p  003 as was he hr 21 ci 1143 p  003 daily function and pain hrqol domain groups using promis tools independently predict hospitalizations and rehospitalizations in cirrhotic patients']\n",
            "[' dose titration longterm mirabegron overactive bladder        '\n",
            " ' ethanol rhamnolipids lignocellulosic biomass cofermentation ssf        '\n",
            " ' geosynthetics geoenvironmental engineering landfill capping system coastal protection geocomposite drain geogrid geotextile        '\n",
            " ' multidrug resistance pharinacokinetics cell line chemotherapeutics cytotoxicity        '\n",
            " ' power supply quality electromagnetic compatibility fuzzy set theory power distribution faults pq state space representation electromagnetic incompatibility degree pq performance assessment power quality state space representation continuous pq disturbances tolerance boundary disturbance tolerance electric power network cloud model electromagnetic compatibility fuzzy membership function 14bus distribution system        '\n",
            " ' childhood obesity thyroid hormones waistheight ratio        '\n",
            " ' asca crohns disease cd pancreatic autoantibodies pab perinuclear antineutrophil cytoplasmic panca serological biomarkers ulcerative colitis uc        '\n",
            " ' diagnosis experience humanity patientcentred care personcentred medicine philosophy of medicine        '\n",
            " ' myeloproliferative neoplasm immunohistochemistry cal2 antibody calr essential thrombocythemia primary myelofibrosis        '\n",
            " ' cirrhosis healthcarerelated quality of life patientreported outcomes hepatic encephalopathy patientreported outcomes measurement information system        ']\n",
            "['Medical' 'ECE' 'Civil' 'biochemistry' 'ECE' 'Medical' 'Medical'\n",
            " 'Psychology' 'Medical' 'Psychology']\n",
            "['5' '1' '4' '6' '1' '5' '5' '2' '5' '2']\n",
            "[5 1 4 6 1 5 5 2 5 2]\n"
          ]
        }
      ],
      "source": [
        "# Shuffle data\n",
        "dataShuffled = sklearn.utils.shuffle(tsvData)\n",
        "\n",
        "abstractsShuffled = dataShuffled[:,3]\n",
        "keywordsShuffled = dataShuffled[:,2]\n",
        "domainsShuffled = dataShuffled[:,1]\n",
        "allLabelsShuffled = dataShuffled[:,0]\n",
        "\n",
        "print(\"Number of abstracts: \", len(abstractsShuffled))\n",
        "print(\"Shape of abstracts: \", np.shape(abstractsShuffled))\n",
        "print(abstractsShuffled[0:2])\n",
        "\n",
        "print(\"Number of keywords: \", len(keywordsShuffled))\n",
        "print(\"Shape of keywords: \", np.shape(keywordsShuffled))\n",
        "print(abstractsShuffled[0:2])\n",
        "\n",
        "print(\"Number of domains: \", len(domainsShuffled))\n",
        "print(\"Shape of domains: \", np.shape(domainsShuffled))\n",
        "print(domainsShuffled[0:2])\n",
        "\n",
        "print(\"Number of labels: \", len(allLabelsShuffled))\n",
        "print(\"Shape of labels: \", np.shape(allLabelsShuffled))\n",
        "print(allLabelsShuffled[0:2])\n",
        "\n",
        "\n",
        "# Convert labels to integer\n",
        "allLabelsDigitShuffled = allLabelsShuffled.astype(int)\n",
        "\n",
        "print(abstractsShuffled[0:10])\n",
        "print(keywordsShuffled[0:10])\n",
        "print(domainsShuffled[0:10])\n",
        "print(allLabelsShuffled[0:10])\n",
        "print(allLabelsDigitShuffled[0:10])"
      ]
    },
    {
      "cell_type": "code",
      "execution_count": 12,
      "metadata": {
        "id": "oE8v68D2DN6A",
        "colab": {
          "base_uri": "https://localhost:8080/",
          "height": 292,
          "referenced_widgets": [
            "f29da3d216154f2bbaca99fa7da46dd1",
            "1bf808980b8242d2a0a0c3f06b3d2c23",
            "6d9d9270140c4abda377bc0cc03e6738",
            "55305be7ede34bf1a52fe03af130527d",
            "3bfc687d4f544c8194b467c3732396ba",
            "6c547a238735431b8999b1e20c4a5a23",
            "9aee6086d8ad45c483a17a0677b14736",
            "c46589db14d14b2ebcb2f0165548637b",
            "b7e835949dd74c098c8664435b4d8c23",
            "0f645299571b47d6a02b7da3ff2d48fc",
            "135646b8b2944d549f253aaadb28e2c0",
            "c7b133548ea740a6918ac76d83433b4d",
            "1077cb354da54e43aed709f1007d5f3b",
            "bc91be264acf4e41811a29aaf789aa0d",
            "61e054d2719f47f08f8d872f5739807d",
            "c4ea0576fafc45e4b10c0fd7200929b6",
            "619bb8ccfa0c4fc2b9c309ca3238b86a",
            "da5fc75b113641cdab58235053995ea8",
            "5ebdbe1e7b344a5789fc9b2a87b5f4b6",
            "f9b5edc8aa884f8497050558b3efbd28",
            "d61a52cc9c5a4f97859f710b0a6d4c1d",
            "0f0b41e285694a32980fe4dbfa64f78b"
          ]
        },
        "outputId": "5ab7ab50-df75-48e5-f458-930ee480e65f"
      },
      "outputs": [
        {
          "output_type": "stream",
          "name": "stdout",
          "text": [
            "(37588, 4)\n",
            "(9397, 4)\n",
            "(37588, 4)\n",
            "(9397, 4)\n",
            "(1880, 4)\n"
          ]
        },
        {
          "output_type": "stream",
          "name": "stderr",
          "text": [
            "/usr/local/lib/python3.10/dist-packages/huggingface_hub/utils/_token.py:89: UserWarning: \n",
            "The secret `HF_TOKEN` does not exist in your Colab secrets.\n",
            "To authenticate with the Hugging Face Hub, create a token in your settings tab (https://huggingface.co/settings/tokens), set it as secret in your Google Colab and restart your session.\n",
            "You will be able to reuse this secret in all of your notebooks.\n",
            "Please note that authentication is recommended but still optional to access public models or datasets.\n",
            "  warnings.warn(\n"
          ]
        },
        {
          "output_type": "display_data",
          "data": {
            "text/plain": [
              "config.json:   0%|          | 0.00/385 [00:00<?, ?B/s]"
            ],
            "application/vnd.jupyter.widget-view+json": {
              "version_major": 2,
              "version_minor": 0,
              "model_id": "f29da3d216154f2bbaca99fa7da46dd1"
            }
          },
          "metadata": {}
        },
        {
          "output_type": "display_data",
          "data": {
            "text/plain": [
              "vocab.txt:   0%|          | 0.00/228k [00:00<?, ?B/s]"
            ],
            "application/vnd.jupyter.widget-view+json": {
              "version_major": 2,
              "version_minor": 0,
              "model_id": "c7b133548ea740a6918ac76d83433b4d"
            }
          },
          "metadata": {}
        }
      ],
      "source": [
        "# Split dataset into training and testing (80/20 split)\n",
        "train_data, test_data = train_test_split(dataShuffled, test_size=0.2, random_state=42)\n",
        "print(np.shape(train_data))\n",
        "print(np.shape(test_data))\n",
        "\n",
        "# Further split training data into training and validation (80/20 split of training set)\n",
        "_, val_data = train_test_split(test_data, test_size=0.2, random_state=42)\n",
        "print(np.shape(train_data))\n",
        "print(np.shape(test_data))\n",
        "print(np.shape(val_data))\n",
        "# Load SciBERT tokenizer\n",
        "tokenizer = AutoTokenizer.from_pretrained(\"allenai/scibert_scivocab_uncased\")"
      ]
    },
    {
      "cell_type": "code",
      "execution_count": 13,
      "metadata": {
        "id": "ONFXZGUUDN6A",
        "colab": {
          "base_uri": "https://localhost:8080/"
        },
        "outputId": "1a4250d8-78c0-4db6-f0df-573e7250a699"
      },
      "outputs": [
        {
          "output_type": "stream",
          "name": "stdout",
          "text": [
            "Number of abstracts:  37588\n",
            "Shape of abstracts:  (37588,)\n",
            "Number of keywords:  37588\n",
            "Shape of keywords:  (37588,)\n",
            "Number of domains:  37588\n",
            "Shape of domains:  (37588,)\n",
            "Number of labels:  37588\n",
            "Shape of labels:  (37588,)\n",
            "['to explore the putative correlation between themultilocus sequence types mlst and antifungal susceptibility of clinical candida tropicalis isolates in mainland china eightytwo clinical c tropicalis isolates were collected from sixtynine patients at ruijin hospital shanghai jiao tong university school of medicine shanghai china from july 2012 to february 2015 and antifungal susceptibility tests were performed genetic profiles of those 82 isolates 30 azoleresistant and 52 azolesusceptible were characterised by multilocus sequence typing phylogenetic analysis of the data was conducted with the clustering method using upgma unweighted pair group method with arithmetic averages and the minimal spanning tree algorithm mlst clonal clusters were analysed using the eburst v3 package of the six gene fragments identified in multilocus sequence typing sapt4 presented the highest typing efficiency whereas sapt2 was the least efficient of the 44 diploid sequence types dsts differentiated 32 dsts and 12 genotypes were identified as new to the c tropicalis dst database twenty 4545 of the 44 dsts were assigned to seven major groups based on eburst analysis of these group 6 which contained dst 376 dst 505 dst 506 and dst 507 accounted for 767 of the 30 azoleresistant isolates however the genetic relationships among the azolesusceptible isolateswere relatively decentralised this mlst analysis of the putative correlation between the mlst types and antifungal susceptibility of clinical c tropicalis isolates in mainland china shows that dsts 376 505 506 and 507 are closely related azoleresistant c tropicalis clones c 2016 elsevier bv all rights reserved'\n",
            " 'kidney transplant recipients ktr are subjected to immunosuppressive therapy that can enhance hepatitis b and c virus replication leading to cirrhosis and hepatocellular carcinoma hcc the aim of this study was to assess the prevalence and outcome of hcc in ktr casecontrol study patients with chronic hbv andor hcv infection who underwent kidney transplantation between 1976 and 2011 and subsequently developed hcc were compared to a control group of patients with chronic hbv andor hcv infection matched for gender and age at hcc diagnosis who did not receive kidney transplantation among 2944 ktr 330 had hepatitis b andor c fourteen developed hcc a period prevalence of 42 age at hcc diagnosis was 526  65years 535  57 in controls p76 time between transplantation and hcc diagnosis was 167  27years six hccs were related to hbv six to hcv and two to coinfection with hbv and hcv immunosuppressive therapy was comparable in hbv hcv and hbvhcv patients at diagnosis 71 of patients met milan criteria 65 in the control group p4 alphafetoprotein levels tumour characteristics and treatment modalities were comparable between both groups patient survival 2years after hcc diagnosis was 28 in ktr compared to 68 in controls p024 survival after hcc diagnosis is significantly worse in ktr compared to nontransplanted patients with hbv andor hcv prevention is crucial and should be based on viral eradicationsuppression before or after transplantation']\n",
            "[' candida tropicalis multilocus sequence typing diploid sequence types antifungals        '\n",
            " ' chronic hepatitis b chronic hepatitis c hepatitis hepatocellular carcinoma kidney transplantation        ']\n",
            "['Medical' 'Medical']\n",
            "['5' '5']\n"
          ]
        }
      ],
      "source": [
        "abstractsTrain = train_data[:,3]\n",
        "keywordsTrain = train_data[:,2]\n",
        "domainsTrain = train_data[:,1]\n",
        "allLabelsTrain = train_data[:,0]\n",
        "\n",
        "print(\"Number of abstracts: \",len(abstractsTrain))\n",
        "print(\"Shape of abstracts: \",np.shape(abstractsTrain))\n",
        "print(\"Number of keywords: \",len(keywordsTrain))\n",
        "print(\"Shape of keywords: \",np.shape(keywordsTrain))\n",
        "print(\"Number of domains: \",len(domainsTrain))\n",
        "print(\"Shape of domains: \",np.shape(domainsTrain))\n",
        "print(\"Number of labels: \",len(allLabelsTrain))\n",
        "print(\"Shape of labels: \",np.shape(allLabelsTrain))\n",
        "\n",
        "print(abstractsTrain[0:2])\n",
        "print(keywordsTrain[0:2])\n",
        "print(domainsTrain[0:2])\n",
        "print(allLabelsTrain[0:2])"
      ]
    },
    {
      "cell_type": "code",
      "execution_count": 14,
      "metadata": {
        "id": "RBJjrIkeDN6A",
        "colab": {
          "base_uri": "https://localhost:8080/",
          "height": 576
        },
        "outputId": "60e639ec-1c12-48a5-a6a8-3e197fa54ff9"
      },
      "outputs": [
        {
          "output_type": "stream",
          "name": "stdout",
          "text": [
            "Labels  ['CS' 'Civil' 'ECE' 'MAE' 'Medical' 'Psychology' 'biochemistry']\n",
            "Label counts  [ 5192  3376  4417  2628 11738  5680  4557]\n"
          ]
        },
        {
          "output_type": "display_data",
          "data": {
            "text/plain": [
              "<Figure size 1000x600 with 1 Axes>"
            ],
            "image/png": "[encoded data removed]"
          },
          "metadata": {}
        },
        {
          "output_type": "stream",
          "name": "stdout",
          "text": [
            "The domain CS has 5192 records in the training set.\n",
            "The domain Civil has 3376 records in the training set.\n",
            "The domain ECE has 4417 records in the training set.\n",
            "The domain MAE has 2628 records in the training set.\n",
            "The domain Medical has 11738 records in the training set.\n",
            "The domain Psychology has 5680 records in the training set.\n",
            "The domain biochemistry has 4557 records in the training set.\n"
          ]
        }
      ],
      "source": [
        "labels = np.unique(domainsTrain, return_counts=True)[0]\n",
        "labelCounts =  np.unique(domainsTrain, return_counts=True)[1]\n",
        "\n",
        "print(\"Labels \", labels)\n",
        "print(\"Label counts \", labelCounts)\n",
        "\n",
        "nAbstract = len(abstractsTrain)\n",
        "plt.figure(figsize=(10, 6))\n",
        "plt.title(\"Domain Counts (Training Set)\")\n",
        "plt.pie(labelCounts, labels=labels, autopct='%1.1f%%', startangle=140, colors=plt.cm.Paired(range(len(labels))))\n",
        "plt.axis('equal')  # Equal aspect ratio ensures that pie is drawn as a circle.\n",
        "plt.show()\n",
        "\n",
        "for i, domain in enumerate(labels):\n",
        "    print(\"The domain\", domain, \"has\", labelCounts[i], \"records in the training set.\")"
      ]
    },
    {
      "cell_type": "code",
      "execution_count": 15,
      "metadata": {
        "id": "o4urSnRFDN6B",
        "colab": {
          "base_uri": "https://localhost:8080/"
        },
        "outputId": "eb34a0e9-e907-4538-d701-1c0d42091138"
      },
      "outputs": [
        {
          "output_type": "stream",
          "name": "stdout",
          "text": [
            "Number of abstracts:  9397\n",
            "Shape of abstracts:  (9397,)\n",
            "Number of keywords:  9397\n",
            "Shape of keywords:  (9397,)\n",
            "Number of domains:  9397\n",
            "Shape of domains:  (9397,)\n",
            "Number of labels:  9397\n",
            "Shape of labels:  (9397,)\n",
            "['objective to propose a phylogenetic significance to the moro reflex which remains unexplained since its publication in 1918 because both hands are free at the end of the gesture method among the 75 videos of healthy term newborns we have filmed in a research project on antenatal education to parenthood we describe a sequence that clearly showed the successive movements of the moro reflex and we report the occurrence of this reflex in the videos that were recorded from time 0 of birth defined as the moment that lies between the birth of the thorax and the pelvis of the infant results the selected sequence showed the following succession of the newborns actions quick extensionadduction of both arms the orientation of the body head and eyes towards a human person and full extensionabduction of both arms with spreading of the fingers crying and a distressed face there were 13 moro reflexes between 2 and 14s from time 0 of birth we found a significant association between the occurrence of the moro reflex and the placement of the newborn at birth in supine position on the mothers abdomen p  0002 discussion the quick extensionadduction of both arms which started the sequence may be considered as a startle reflex controlled by the neural fear system and the arm extension adduction which followed as a moro reflex the characteristics of all moro reflexes were those of ritualization amplitude duration stereotype of the gestures this evolutionary process turns a physiological behavior grasping in this case to a nonverbal communicative behavior whose meaning is a request to be picked up in the arms the gestures associated with the moro reflex crying and orientation of the body head and eyes towards a human person are gestures of intention to communicate which support our hypothesis the neural mechanism of the moro reaction probably involves both the fear and the separationdistress systems conclusion this paper proposes for the first time a phylogenetic significance to the moro reflex a ritualized behavior of nonverbal communication professionals should avoid stimulating the newborns fear system by unnecessarily triggering moro reflexes antenatal education should teach parents to respond to the moro reflexes of their newborn infant by picking her up in their arms with mother talk c 2017 elsevier inc all rights reserved'\n",
            " 'the hivaids epidemic in the us continues to persist in particular among race sexual orientation and gender minority populations preexposure prophylaxis prep or using antiretroviral medications for hiv prevention is an effective option but uptake of prep has been slow sociocultural barriers to using prep have been largely underemphasized yet have the potential to stall uptake and therefore warrant further understanding in order to assess the relationships between potential barriers to prep ie prep stigma and conspiracy beliefs and interest in prep black men and transgender women who have sex with men bmtw n  85 and white mtw wmtw n  179 were surveyed at a gay pride event in 2015 in a large southeastern us city bivariate and multivariate logistic regression analyses were completed to examine factors associated with prep interest among the full sample moderate levels of prep awareness 63 and low levels of use 9 were observed believing that prep is for people who are promiscuous stigma belief was strongly associated with lack of interest in using prep and individuals who endorsed this belief were more likely to report sexual risk taking behavior conspiracy beliefs related to prep were reported among a large minority of the sample 42 and were more frequently reported among bmtw than wmtw given the strong emphasis on the use of biomedical strategies for hiv prevention addressing sociocultural barriers to prep access is urgently needed and failure to do so will weaken the potential benefits of biomedical prevention']\n",
            "[' human newborn moro reflex ritualization nonverbal communication active defense reaction parental education        '\n",
            " ' prep hiv prevention stigma beliefs conspiracy beliefs        ']\n",
            "['Psychology' 'Medical']\n",
            "['2' '5']\n"
          ]
        }
      ],
      "source": [
        "abstractsTest = test_data[:,3]\n",
        "keywordsTest = test_data[:,2]\n",
        "domainsTest = test_data[:,1]\n",
        "allLabelsTest = test_data[:,0]\n",
        "\n",
        "print(\"Number of abstracts: \",len(abstractsTest))\n",
        "print(\"Shape of abstracts: \",np.shape(abstractsTest))\n",
        "print(\"Number of keywords: \",len(keywordsTest))\n",
        "print(\"Shape of keywords: \",np.shape(keywordsTest))\n",
        "print(\"Number of domains: \",len(domainsTest))\n",
        "print(\"Shape of domains: \",np.shape(domainsTest))\n",
        "print(\"Number of labels: \",len(allLabelsTest))\n",
        "print(\"Shape of labels: \",np.shape(allLabelsTest))\n",
        "\n",
        "# arr = np.array(domainsTest)\n",
        "# cleaned_domains = np.char.strip(arr)\n",
        "# print(\"Cleaned arr \", cleaned_domains)\n",
        "# domainsLabelsTest = cleaned_domains\n",
        "# print(\"Labels domains \", domainsLabelsTest)\n",
        "\n",
        "print(abstractsTest[0:2])\n",
        "print(keywordsTest[0:2])\n",
        "print(domainsTest[0:2])\n",
        "print(allLabelsTest[0:2])"
      ]
    },
    {
      "cell_type": "code",
      "execution_count": 16,
      "metadata": {
        "id": "wXDx7H28DN6B",
        "colab": {
          "base_uri": "https://localhost:8080/",
          "height": 576
        },
        "outputId": "604b34a6-f1d5-47b8-9cf5-21084a5a2afc"
      },
      "outputs": [
        {
          "output_type": "stream",
          "name": "stdout",
          "text": [
            "Labels  ['CS' 'Civil' 'ECE' 'MAE' 'Medical' 'Psychology' 'biochemistry']\n",
            "Label counts  [1322  861 1066  669 2887 1462 1130]\n"
          ]
        },
        {
          "output_type": "display_data",
          "data": {
            "text/plain": [
              "<Figure size 1000x600 with 1 Axes>"
            ],
            "image/png": "[encoded data removed]"
          },
          "metadata": {}
        },
        {
          "output_type": "stream",
          "name": "stdout",
          "text": [
            "The domain CS has 1322 records in the test set.\n",
            "The domain Civil has 861 records in the test set.\n",
            "The domain ECE has 1066 records in the test set.\n",
            "The domain MAE has 669 records in the test set.\n",
            "The domain Medical has 2887 records in the test set.\n",
            "The domain Psychology has 1462 records in the test set.\n",
            "The domain biochemistry has 1130 records in the test set.\n"
          ]
        }
      ],
      "source": [
        "labels = np.unique(domainsTest, return_counts=True)[0]\n",
        "labelCounts =  np.unique(domainsTest, return_counts=True)[1]\n",
        "\n",
        "print(\"Labels \", labels)\n",
        "print(\"Label counts \", labelCounts)\n",
        "\n",
        "nAbstract = len(abstractsTest)\n",
        "plt.figure(figsize=(10, 6))\n",
        "plt.title(\"Domain Counts (Test Set)\")\n",
        "plt.pie(labelCounts, labels=labels, autopct='%1.1f%%', startangle=140, colors=plt.cm.Paired(range(len(labels))))\n",
        "plt.axis('equal')  # Equal aspect ratio ensures that pie is drawn as a circle.\n",
        "plt.show()\n",
        "\n",
        "for i, domain in enumerate(labels):\n",
        "    print(\"The domain\", domain, \"has\", labelCounts[i], \"records in the test set.\")"
      ]
    },
    {
      "cell_type": "code",
      "execution_count": 17,
      "metadata": {
        "id": "zkEyui06DN6B",
        "colab": {
          "base_uri": "https://localhost:8080/"
        },
        "outputId": "ef09b32b-ebff-4505-8e7a-d08f7191d960"
      },
      "outputs": [
        {
          "output_type": "stream",
          "name": "stdout",
          "text": [
            "Number of abstracts:  1880\n",
            "Shape of abstracts:  (1880,)\n",
            "Number of keywords:  1880\n",
            "Shape of keywords:  (1880,)\n",
            "Number of domains:  1880\n",
            "Shape of domains:  (1880,)\n",
            "Number of labels:  1880\n",
            "Shape of labels:  (1880,)\n",
            "['the consistent depth positioning of seeds is vital for achieving the optimum yield of agricultural crops in stateoftheart seeding machines the depth of drill coulters will vary with changes in soil resistance this paper presents the retrofitting of an angle sensor to the pivoting point of a drill coulter providing sensor feedback to a control system that via an electrohydraulic actuator delivers a constant coulter depth the results showed a strong correlation between the angle of the coulter and the coulter depth under static r2  100 and dynamic r2  099 operations verified by a submillimetre accurate positioning system igps nikon metrology nv belgium mounted on the drill coulter at a drill coulter depth of 55 mm and controlled by an ordinary fixed spring loaded down force the change in soil resistance reduced the mean depth by 23 mm by dynamically controlling the spring loaded down force based on the angle sensor the mean depth was independent of the seedbed resistance change as shown from tests in soils ranging from sand to gravel the pid controller was most effective because it providing a mean depth deviation from the target depth of 017 mm and 008 mm for sand and gravel respectively the most cost efficient control function was found to be the threeposition control system resulting in a mean depth deviation from the target depth of 089 mm and 118 mm for sand and gravel respectively a fast fourier transform fft analysis of the coulter depth measurements showed that the control system also provided a damping effect on the coulter depth variations the research showed that it is possible to minimise the lowfrequency drill coulter depth variations and provide a consistent coulter depth independent of soil conditions by using the developed sensor system and control system c 2016 elsevier bv all rights reserved'\n",
            " 'commencing in 2017 the medicare access and chip reauthorization act macra of 2015 will change how medicare pays health professionals by enacting macra congress brought an end to the unsustainable growth rate formula while also setting forth a vision for how to transform the us healthcare system so that clinicians deliver higherquality care with smarter spending by the centers for medicare and medicaid services cms in october 2016 cms released the first of what stakeholders anticipate will be a number of annual rules related to implementation of macra cms received extensive input from stakeholders including the american geriatrics society under the quality payment program cms streamlined multiple medicare valuebased payment programs into a new meritbased incentive payment system mips cms also outlined how it will provide incentives for participation in advanced alternative payment models called apms although medicare payments to geriatrics health professionals will not be based on the new mips formula until 2019 those payments will be based upon performance during a 90day period in 2017 this article defines geriatrics health professionals as clinicians who care for a predominantly older adult population and who are eligible to bill under the medicare physician fee schedule given the current paucity of eligible apms this article will focus on mips while providing a brief overview of apms']\n",
            "[' seed drill coulter seed placement angle sensor coulter control systems        '\n",
            " ' health policy physician payment quality measures macra medicare payment        ']\n",
            "['ECE' 'Medical']\n",
            "['1' '5']\n"
          ]
        }
      ],
      "source": [
        "abstractsVal = val_data[:,3]\n",
        "keywordsVal = val_data[:,2]\n",
        "domainsVal = val_data[:,1]\n",
        "allLabelsVal = val_data[:,0]\n",
        "\n",
        "print(\"Number of abstracts: \",len(abstractsVal))\n",
        "print(\"Shape of abstracts: \",np.shape(abstractsVal))\n",
        "print(\"Number of keywords: \",len(keywordsVal))\n",
        "print(\"Shape of keywords: \",np.shape(keywordsVal))\n",
        "print(\"Number of domains: \",len(domainsVal))\n",
        "print(\"Shape of domains: \",np.shape(domainsVal))\n",
        "print(\"Number of labels: \",len(allLabelsVal))\n",
        "print(\"Shape of labels: \",np.shape(allLabelsVal))\n",
        "\n",
        "print(abstractsVal[0:2])\n",
        "print(keywordsVal[0:2])\n",
        "print(domainsVal[0:2])\n",
        "print(allLabelsVal[0:2])"
      ]
    },
    {
      "cell_type": "code",
      "execution_count": 18,
      "metadata": {
        "id": "1ax8-nZaDN6B",
        "colab": {
          "base_uri": "https://localhost:8080/",
          "height": 576
        },
        "outputId": "64a27d39-ef71-4277-f5f6-35487921f768"
      },
      "outputs": [
        {
          "output_type": "stream",
          "name": "stdout",
          "text": [
            "Labels  ['CS' 'Civil' 'ECE' 'MAE' 'Medical' 'Psychology' 'biochemistry']\n",
            "Label counts  [264 166 210 143 590 286 221]\n"
          ]
        },
        {
          "output_type": "display_data",
          "data": {
            "text/plain": [
              "<Figure size 1000x600 with 1 Axes>"
            ],
            "image/png": "[encoded data removed]"
          },
          "metadata": {}
        },
        {
          "output_type": "stream",
          "name": "stdout",
          "text": [
            "The domain CS has 264 records in the vaidation set.\n",
            "The domain Civil has 166 records in the vaidation set.\n",
            "The domain ECE has 210 records in the vaidation set.\n",
            "The domain MAE has 143 records in the vaidation set.\n",
            "The domain Medical has 590 records in the vaidation set.\n",
            "The domain Psychology has 286 records in the vaidation set.\n",
            "The domain biochemistry has 221 records in the vaidation set.\n"
          ]
        }
      ],
      "source": [
        "labels = np.unique(domainsVal, return_counts=True)[0]\n",
        "labelCounts =  np.unique(domainsVal, return_counts=True)[1]\n",
        "\n",
        "print(\"Labels \", labels)\n",
        "print(\"Label counts \", labelCounts)\n",
        "\n",
        "nAbstract = len(abstractsVal)\n",
        "plt.figure(figsize=(10, 6))\n",
        "plt.title(\"Domain Counts (Validation Set)\")\n",
        "plt.pie(labelCounts, labels=labels, autopct='%1.1f%%', startangle=140, colors=plt.cm.Paired(range(len(labels))))\n",
        "plt.axis('equal')  # Equal aspect ratio ensures that pie is drawn as a circle.\n",
        "plt.show()\n",
        "\n",
        "for i, domain in enumerate(labels):\n",
        "    print(\"The domain\", domain, \"has\", labelCounts[i], \"records in the vaidation set.\")"
      ]
    },
    {
      "cell_type": "code",
      "execution_count": 19,
      "metadata": {
        "id": "sxbOFbMrDN6C"
      },
      "outputs": [],
      "source": [
        "# Function to tokenize and encode the dataset\n",
        "def encode_data(data, tokenizer, max_length=128):\n",
        "    # print(len(data[:,2]))\n",
        "    inputs = tokenizer(\n",
        "        data[:,3].tolist(), # abstracts 3\n",
        "        max_length=max_length,\n",
        "        padding='max_length',\n",
        "        truncation=True,\n",
        "        return_tensors=\"pt\"\n",
        "    )\n",
        "    # print(len(dataShuffled[:, 0]))\n",
        "    labels = torch.tensor(data[:, 0].astype(int))\n",
        "    print(\"Label length \", len(labels))\n",
        "    return TensorDataset(inputs['input_ids'], inputs['attention_mask'], labels)"
      ]
    },
    {
      "cell_type": "code",
      "execution_count": 20,
      "metadata": {
        "id": "Y8_HDuDUDN6C",
        "colab": {
          "base_uri": "https://localhost:8080/"
        },
        "outputId": "a6061343-7b0d-4e47-d208-d32bc8b895f2"
      },
      "outputs": [
        {
          "output_type": "stream",
          "name": "stdout",
          "text": [
            "(37588, 4)\n",
            "(9397, 4)\n",
            "(1880, 4)\n"
          ]
        }
      ],
      "source": [
        "print(np.shape(train_data))\n",
        "print(np.shape(test_data))\n",
        "print(np.shape(val_data))\n"
      ]
    },
    {
      "cell_type": "code",
      "execution_count": 21,
      "metadata": {
        "id": "c6avATPgDN6C",
        "colab": {
          "base_uri": "https://localhost:8080/"
        },
        "outputId": "94888ea6-981a-4b37-d46c-2c0cc157e1e3"
      },
      "outputs": [
        {
          "output_type": "stream",
          "name": "stdout",
          "text": [
            "Label length  37588\n",
            "Label length  1880\n",
            "Label length  9397\n"
          ]
        }
      ],
      "source": [
        "# Encode training, validation, and testing data\n",
        "train_dataset = encode_data(train_data, tokenizer)\n",
        "val_dataset = encode_data(val_data, tokenizer)\n",
        "test_dataset = encode_data(test_data, tokenizer)\n",
        "\n",
        "\n",
        "\n",
        "# Data loaders\n",
        "train_dataloader = DataLoader(train_dataset, sampler=RandomSampler(train_dataset), batch_size=32)\n",
        "val_dataloader = DataLoader(val_dataset, sampler=SequentialSampler(val_dataset), batch_size=32)\n",
        "test_dataloader = DataLoader(test_dataset, sampler=SequentialSampler(test_dataset), batch_size=32)"
      ]
    },
    {
      "cell_type": "code",
      "execution_count": 22,
      "metadata": {
        "id": "ybVLIN-JDN6C",
        "colab": {
          "base_uri": "https://localhost:8080/",
          "height": 902,
          "referenced_widgets": [
            "85eb59cac20d41b4876cf3d5014ffc23",
            "01f7c32a352d45e789fc8c568114c6c8",
            "a158b922aa7b4805b90f7f196c77482f",
            "f781163e05944febab457318689e7499",
            "b96ea9a0351743d3b0da5058f6971ec3",
            "786fac114c32432791ad994c42f7ceea",
            "1945075c09ac447f8d81d7187bef5ea8",
            "cda18e9925e64fd79e1028348d048c22",
            "fd47ca68794447a49da34c661cce6cb0",
            "c9401f603fc14e7cb1d2eb77bdfbdc9c",
            "8ef2d102844942d0ba0f49e6cf7d24ba"
          ]
        },
        "outputId": "6a7977fa-30ad-47b1-91b3-b1924351c171"
      },
      "outputs": [
        {
          "output_type": "stream",
          "name": "stdout",
          "text": [
            "7\n"
          ]
        },
        {
          "output_type": "display_data",
          "data": {
            "text/plain": [
              "pytorch_model.bin:   0%|          | 0.00/442M [00:00<?, ?B/s]"
            ],
            "application/vnd.jupyter.widget-view+json": {
              "version_major": 2,
              "version_minor": 0,
              "model_id": "85eb59cac20d41b4876cf3d5014ffc23"
            }
          },
          "metadata": {}
        },
        {
          "output_type": "stream",
          "name": "stderr",
          "text": [
            "Some weights of BertForSequenceClassification were not initialized from the model checkpoint at allenai/scibert_scivocab_uncased and are newly initialized: ['classifier.bias', 'classifier.weight']\n",
            "You should probably TRAIN this model on a down-stream task to be able to use it for predictions and inference.\n"
          ]
        },
        {
          "output_type": "execute_result",
          "data": {
            "text/plain": [
              "BertForSequenceClassification(\n",
              "  (bert): BertModel(\n",
              "    (embeddings): BertEmbeddings(\n",
              "      (word_embeddings): Embedding(31090, 768, padding_idx=0)\n",
              "      (position_embeddings): Embedding(512, 768)\n",
              "      (token_type_embeddings): Embedding(2, 768)\n",
              "      (LayerNorm): LayerNorm((768,), eps=1e-12, elementwise_affine=True)\n",
              "      (dropout): Dropout(p=0.1, inplace=False)\n",
              "    )\n",
              "    (encoder): BertEncoder(\n",
              "      (layer): ModuleList(\n",
              "        (0-11): 12 x BertLayer(\n",
              "          (attention): BertAttention(\n",
              "            (self): BertSdpaSelfAttention(\n",
              "              (query): Linear(in_features=768, out_features=768, bias=True)\n",
              "              (key): Linear(in_features=768, out_features=768, bias=True)\n",
              "              (value): Linear(in_features=768, out_features=768, bias=True)\n",
              "              (dropout): Dropout(p=0.1, inplace=False)\n",
              "            )\n",
              "            (output): BertSelfOutput(\n",
              "              (dense): Linear(in_features=768, out_features=768, bias=True)\n",
              "              (LayerNorm): LayerNorm((768,), eps=1e-12, elementwise_affine=True)\n",
              "              (dropout): Dropout(p=0.1, inplace=False)\n",
              "            )\n",
              "          )\n",
              "          (intermediate): BertIntermediate(\n",
              "            (dense): Linear(in_features=768, out_features=3072, bias=True)\n",
              "            (intermediate_act_fn): GELUActivation()\n",
              "          )\n",
              "          (output): BertOutput(\n",
              "            (dense): Linear(in_features=3072, out_features=768, bias=True)\n",
              "            (LayerNorm): LayerNorm((768,), eps=1e-12, elementwise_affine=True)\n",
              "            (dropout): Dropout(p=0.1, inplace=False)\n",
              "          )\n",
              "        )\n",
              "      )\n",
              "    )\n",
              "    (pooler): BertPooler(\n",
              "      (dense): Linear(in_features=768, out_features=768, bias=True)\n",
              "      (activation): Tanh()\n",
              "    )\n",
              "  )\n",
              "  (dropout): Dropout(p=0.1, inplace=False)\n",
              "  (classifier): Linear(in_features=768, out_features=7, bias=True)\n",
              ")"
            ]
          },
          "metadata": {},
          "execution_count": 22
        }
      ],
      "source": [
        "# Load SciBERT model\n",
        "print(len(np.unique(train_data[:,0])))\n",
        "model = AutoModelForSequenceClassification.from_pretrained(\"allenai/scibert_scivocab_uncased\", num_labels=len(np.unique(train_data[:,0])))\n",
        "device = torch.device(\"cuda\" if torch.cuda.is_available() else \"cpu\")\n",
        "model.to(device)"
      ]
    },
    {
      "cell_type": "code",
      "execution_count": 23,
      "metadata": {
        "id": "ps1DInjXDN6C",
        "colab": {
          "base_uri": "https://localhost:8080/"
        },
        "outputId": "a6668403-d541-471e-d2c9-586596fe528b"
      },
      "outputs": [
        {
          "output_type": "execute_result",
          "data": {
            "text/plain": [
              "BertConfig {\n",
              "  \"_name_or_path\": \"allenai/scibert_scivocab_uncased\",\n",
              "  \"attention_probs_dropout_prob\": 0.1,\n",
              "  \"classifier_dropout\": null,\n",
              "  \"hidden_act\": \"gelu\",\n",
              "  \"hidden_dropout_prob\": 0.1,\n",
              "  \"hidden_size\": 768,\n",
              "  \"id2label\": {\n",
              "    \"0\": \"LABEL_0\",\n",
              "    \"1\": \"LABEL_1\",\n",
              "    \"2\": \"LABEL_2\",\n",
              "    \"3\": \"LABEL_3\",\n",
              "    \"4\": \"LABEL_4\",\n",
              "    \"5\": \"LABEL_5\",\n",
              "    \"6\": \"LABEL_6\"\n",
              "  },\n",
              "  \"initializer_range\": 0.02,\n",
              "  \"intermediate_size\": 3072,\n",
              "  \"label2id\": {\n",
              "    \"LABEL_0\": 0,\n",
              "    \"LABEL_1\": 1,\n",
              "    \"LABEL_2\": 2,\n",
              "    \"LABEL_3\": 3,\n",
              "    \"LABEL_4\": 4,\n",
              "    \"LABEL_5\": 5,\n",
              "    \"LABEL_6\": 6\n",
              "  },\n",
              "  \"layer_norm_eps\": 1e-12,\n",
              "  \"max_position_embeddings\": 512,\n",
              "  \"model_type\": \"bert\",\n",
              "  \"num_attention_heads\": 12,\n",
              "  \"num_hidden_layers\": 12,\n",
              "  \"pad_token_id\": 0,\n",
              "  \"position_embedding_type\": \"absolute\",\n",
              "  \"transformers_version\": \"4.42.4\",\n",
              "  \"type_vocab_size\": 2,\n",
              "  \"use_cache\": true,\n",
              "  \"vocab_size\": 31090\n",
              "}"
            ]
          },
          "metadata": {},
          "execution_count": 23
        }
      ],
      "source": [
        "model.config"
      ]
    },
    {
      "cell_type": "code",
      "execution_count": 24,
      "metadata": {
        "id": "qmjlyLnkDN6C",
        "colab": {
          "base_uri": "https://localhost:8080/"
        },
        "outputId": "d095c340-862c-42a0-e7d3-ccc6d3b730c8"
      },
      "outputs": [
        {
          "output_type": "stream",
          "name": "stderr",
          "text": [
            "/usr/local/lib/python3.10/dist-packages/transformers/optimization.py:591: FutureWarning: This implementation of AdamW is deprecated and will be removed in a future version. Use the PyTorch implementation torch.optim.AdamW instead, or set `no_deprecation_warning=True` to disable this warning\n",
            "  warnings.warn(\n"
          ]
        }
      ],
      "source": [
        "# Optimizer and learning rate scheduler\n",
        "optimizer = AdamW(model.parameters(), lr=2e-5, eps=1e-8)\n",
        "total_steps = len(train_dataloader) * 20\n",
        "num_warmup_steps = 1e-4\n",
        "scheduler = get_linear_schedule_with_warmup(optimizer, num_warmup_steps=num_warmup_steps, num_training_steps=total_steps)"
      ]
    },
    {
      "cell_type": "code",
      "execution_count": 25,
      "metadata": {
        "id": "xj4AnpxJDN6C"
      },
      "outputs": [],
      "source": [
        "def calculate_metrics(valType, predictions, true_labels):\n",
        "    # Confusion matrix\n",
        "    if(valType == 'test'):\n",
        "        cm = confusion_matrix(true_labels, predictions)\n",
        "        print(\"Confusion Matrix:\\n\", cm)\n",
        "\n",
        "        # Classification report (includes precision, recall, F1 score)\n",
        "        report = classification_report(true_labels, predictions, target_names=[str(i) for i in range(len(np.unique(true_labels)))])\n",
        "        print(\"\\nClassification Report:\\n\", report)\n",
        "\n",
        "        # Calculate different types of F1 scores, precision, and recall\n",
        "        f1_macro = f1_score(true_labels, predictions, average='macro')\n",
        "        f1_micro = f1_score(true_labels, predictions, average='micro')\n",
        "        f1_weighted = f1_score(true_labels, predictions, average='weighted')\n",
        "\n",
        "        precision_macro = precision_score(true_labels, predictions, average='macro')\n",
        "        precision_micro = precision_score(true_labels, predictions, average='micro')\n",
        "        precision_weighted = precision_score(true_labels, predictions, average='weighted')\n",
        "\n",
        "        recall_macro = recall_score(true_labels, predictions, average='macro')\n",
        "        recall_micro = recall_score(true_labels, predictions, average='micro')\n",
        "        recall_weighted = recall_score(true_labels, predictions, average='weighted')\n",
        "\n",
        "        print(f\"Macro F1 Score: {f1_macro}\")\n",
        "        print(f\"Micro F1 Score: {f1_micro}\")\n",
        "        print(f\"Weighted F1 Score: {f1_weighted}\")\n",
        "\n",
        "        print(f\"Macro Precision: {precision_macro}\")\n",
        "        print(f\"Micro Precision: {precision_micro}\")\n",
        "        print(f\"Weighted Precision: {precision_weighted}\")\n",
        "\n",
        "        print(f\"Macro Recall: {recall_macro}\")\n",
        "        print(f\"Micro Recall: {recall_micro}\")\n",
        "        print(f\"Weighted Recall: {recall_weighted}\")\n",
        "\n",
        "    elif(valType == 'val'):\n",
        "        cm = confusion_matrix(true_labels, predictions)\n",
        "        f1_macro = f1_score(true_labels, predictions, average='macro')\n",
        "        f1_micro = f1_score(true_labels, predictions, average='micro')\n",
        "        f1_weighted = f1_score(true_labels, predictions, average='weighted')\n",
        "\n",
        "        precision_macro = precision_score(true_labels, predictions, average='macro')\n",
        "        precision_micro = precision_score(true_labels, predictions, average='micro')\n",
        "        precision_weighted = precision_score(true_labels, predictions, average='weighted')\n",
        "\n",
        "        recall_macro = recall_score(true_labels, predictions, average='macro')\n",
        "        recall_micro = recall_score(true_labels, predictions, average='micro')\n",
        "        recall_weighted = recall_score(true_labels, predictions, average='weighted')\n",
        "        # print('Val Micro F1:', f1_micro)\n",
        "        return f1_micro"
      ]
    },
    {
      "cell_type": "code",
      "execution_count": 26,
      "metadata": {
        "id": "05xzH0FEDN6C",
        "colab": {
          "base_uri": "https://localhost:8080/"
        },
        "outputId": "899b590a-cd34-4c00-a203-9b36ff0820bd"
      },
      "outputs": [
        {
          "output_type": "stream",
          "name": "stderr",
          "text": [
            "Epoch 1/20: 100%|██████████| 1175/1175 [13:10<00:00,  1.49batch/s]\n"
          ]
        },
        {
          "output_type": "stream",
          "name": "stdout",
          "text": [
            "Epoch 1/20\n",
            "  Train Loss: 0.5584391588226277\n",
            "  Val Micro F1: 0.8622340425531915\n",
            "  Time: 13m 24s\n"
          ]
        },
        {
          "output_type": "stream",
          "name": "stderr",
          "text": [
            "Epoch 2/20: 100%|██████████| 1175/1175 [13:09<00:00,  1.49batch/s]\n"
          ]
        },
        {
          "output_type": "stream",
          "name": "stdout",
          "text": [
            "Epoch 2/20\n",
            "  Train Loss: 0.32967542683190487\n",
            "  Val Micro F1: 0.8739361702127659\n",
            "  Time: 13m 22s\n"
          ]
        },
        {
          "output_type": "stream",
          "name": "stderr",
          "text": [
            "Epoch 3/20: 100%|██████████| 1175/1175 [13:11<00:00,  1.48batch/s]\n"
          ]
        },
        {
          "output_type": "stream",
          "name": "stdout",
          "text": [
            "Epoch 3/20\n",
            "  Train Loss: 0.22376995940474753\n",
            "  Val Micro F1: 0.8712765957446809\n",
            "  Time: 13m 25s\n"
          ]
        },
        {
          "output_type": "stream",
          "name": "stderr",
          "text": [
            "Epoch 4/20: 100%|██████████| 1175/1175 [13:11<00:00,  1.48batch/s]\n"
          ]
        },
        {
          "output_type": "stream",
          "name": "stdout",
          "text": [
            "Epoch 4/20\n",
            "  Train Loss: 0.14570364224546134\n",
            "  Val Micro F1: 0.8675531914893617\n",
            "  Time: 13m 24s\n"
          ]
        },
        {
          "output_type": "stream",
          "name": "stderr",
          "text": [
            "Epoch 5/20: 100%|██████████| 1175/1175 [13:11<00:00,  1.48batch/s]\n"
          ]
        },
        {
          "output_type": "stream",
          "name": "stdout",
          "text": [
            "Epoch 5/20\n",
            "  Train Loss: 0.09283258687585909\n",
            "  Val Micro F1: 0.8707446808510638\n",
            "  Time: 13m 24s\n"
          ]
        },
        {
          "output_type": "stream",
          "name": "stderr",
          "text": [
            "Epoch 6/20: 100%|██████████| 1175/1175 [13:11<00:00,  1.48batch/s]\n"
          ]
        },
        {
          "output_type": "stream",
          "name": "stdout",
          "text": [
            "Epoch 6/20\n",
            "  Train Loss: 0.06347714311906454\n",
            "  Val Micro F1: 0.8723404255319149\n",
            "  Time: 13m 24s\n"
          ]
        },
        {
          "output_type": "stream",
          "name": "stderr",
          "text": [
            "Epoch 7/20: 100%|██████████| 1175/1175 [13:11<00:00,  1.48batch/s]\n"
          ]
        },
        {
          "output_type": "stream",
          "name": "stdout",
          "text": [
            "Epoch 7/20\n",
            "  Train Loss: 0.04102350584189209\n",
            "  Val Micro F1: 0.872872340425532\n",
            "  Time: 13m 24s\n"
          ]
        },
        {
          "output_type": "stream",
          "name": "stderr",
          "text": [
            "Epoch 8/20: 100%|██████████| 1175/1175 [13:10<00:00,  1.49batch/s]\n"
          ]
        },
        {
          "output_type": "stream",
          "name": "stdout",
          "text": [
            "Epoch 8/20\n",
            "  Train Loss: 0.030871714686174837\n",
            "  Val Micro F1: 0.8638297872340426\n",
            "  Time: 13m 23s\n"
          ]
        },
        {
          "output_type": "stream",
          "name": "stderr",
          "text": [
            "Epoch 9/20: 100%|██████████| 1175/1175 [13:10<00:00,  1.49batch/s]\n"
          ]
        },
        {
          "output_type": "stream",
          "name": "stdout",
          "text": [
            "Epoch 9/20\n",
            "  Train Loss: 0.02007709194159264\n",
            "  Val Micro F1: 0.8696808510638298\n",
            "  Time: 13m 23s\n"
          ]
        },
        {
          "output_type": "stream",
          "name": "stderr",
          "text": [
            "Epoch 10/20: 100%|██████████| 1175/1175 [13:11<00:00,  1.48batch/s]\n"
          ]
        },
        {
          "output_type": "stream",
          "name": "stdout",
          "text": [
            "Epoch 10/20\n",
            "  Train Loss: 0.01567533726348205\n",
            "  Val Micro F1: 0.8659574468085106\n",
            "  Time: 13m 24s\n"
          ]
        },
        {
          "output_type": "stream",
          "name": "stderr",
          "text": [
            "Epoch 11/20: 100%|██████████| 1175/1175 [13:10<00:00,  1.49batch/s]\n"
          ]
        },
        {
          "output_type": "stream",
          "name": "stdout",
          "text": [
            "Epoch 11/20\n",
            "  Train Loss: 0.01309782217378094\n",
            "  Val Micro F1: 0.8638297872340426\n",
            "  Time: 13m 24s\n"
          ]
        },
        {
          "output_type": "stream",
          "name": "stderr",
          "text": [
            "Epoch 12/20: 100%|██████████| 1175/1175 [13:10<00:00,  1.49batch/s]\n"
          ]
        },
        {
          "output_type": "stream",
          "name": "stdout",
          "text": [
            "Epoch 12/20\n",
            "  Train Loss: 0.011809234620338836\n",
            "  Val Micro F1: 0.8648936170212765\n",
            "  Time: 13m 23s\n"
          ]
        },
        {
          "output_type": "stream",
          "name": "stderr",
          "text": [
            "Epoch 13/20: 100%|██████████| 1175/1175 [13:09<00:00,  1.49batch/s]\n"
          ]
        },
        {
          "output_type": "stream",
          "name": "stdout",
          "text": [
            "Epoch 13/20\n",
            "  Train Loss: 0.0074550594900164415\n",
            "  Val Micro F1: 0.8632978723404255\n",
            "  Time: 13m 22s\n"
          ]
        },
        {
          "output_type": "stream",
          "name": "stderr",
          "text": [
            "Epoch 14/20: 100%|██████████| 1175/1175 [13:09<00:00,  1.49batch/s]\n"
          ]
        },
        {
          "output_type": "stream",
          "name": "stdout",
          "text": [
            "Epoch 14/20\n",
            "  Train Loss: 0.00896798345761744\n",
            "  Val Micro F1: 0.8691489361702127\n",
            "  Time: 13m 22s\n"
          ]
        },
        {
          "output_type": "stream",
          "name": "stderr",
          "text": [
            "Epoch 15/20: 100%|██████████| 1175/1175 [13:09<00:00,  1.49batch/s]\n"
          ]
        },
        {
          "output_type": "stream",
          "name": "stdout",
          "text": [
            "Epoch 15/20\n",
            "  Train Loss: 0.00432625716281999\n",
            "  Val Micro F1: 0.8670212765957447\n",
            "  Time: 13m 22s\n"
          ]
        },
        {
          "output_type": "stream",
          "name": "stderr",
          "text": [
            "Epoch 16/20: 100%|██████████| 1175/1175 [13:09<00:00,  1.49batch/s]\n"
          ]
        },
        {
          "output_type": "stream",
          "name": "stdout",
          "text": [
            "Epoch 16/20\n",
            "  Train Loss: 0.0045542541024282245\n",
            "  Val Micro F1: 0.8617021276595744\n",
            "  Time: 13m 22s\n"
          ]
        },
        {
          "output_type": "stream",
          "name": "stderr",
          "text": [
            "Epoch 17/20: 100%|██████████| 1175/1175 [13:09<00:00,  1.49batch/s]\n"
          ]
        },
        {
          "output_type": "stream",
          "name": "stdout",
          "text": [
            "Epoch 17/20\n",
            "  Train Loss: 0.003263584172332714\n",
            "  Val Micro F1: 0.8632978723404255\n",
            "  Time: 13m 22s\n"
          ]
        },
        {
          "output_type": "stream",
          "name": "stderr",
          "text": [
            "Epoch 18/20: 100%|██████████| 1175/1175 [13:09<00:00,  1.49batch/s]\n"
          ]
        },
        {
          "output_type": "stream",
          "name": "stdout",
          "text": [
            "Epoch 18/20\n",
            "  Train Loss: 0.001721353300178654\n",
            "  Val Micro F1: 0.8707446808510638\n",
            "  Time: 13m 22s\n"
          ]
        },
        {
          "output_type": "stream",
          "name": "stderr",
          "text": [
            "Epoch 19/20: 100%|██████████| 1175/1175 [13:09<00:00,  1.49batch/s]\n"
          ]
        },
        {
          "output_type": "stream",
          "name": "stdout",
          "text": [
            "Epoch 19/20\n",
            "  Train Loss: 0.001382425327773238\n",
            "  Val Micro F1: 0.8691489361702127\n",
            "  Time: 13m 23s\n"
          ]
        },
        {
          "output_type": "stream",
          "name": "stderr",
          "text": [
            "Epoch 20/20: 100%|██████████| 1175/1175 [13:10<00:00,  1.49batch/s]\n"
          ]
        },
        {
          "output_type": "stream",
          "name": "stdout",
          "text": [
            "Epoch 20/20\n",
            "  Train Loss: 0.0009993184087301067\n",
            "  Val Micro F1: 0.8702127659574467\n",
            "  Time: 13m 23s\n"
          ]
        }
      ],
      "source": [
        "epochs = 20\n",
        "for epoch in range(epochs):\n",
        "    model.train()\n",
        "    total_train_loss = 0\n",
        "    start_time = time.time()\n",
        "\n",
        "    # Training\n",
        "    for step, batch in enumerate(tqdm(train_dataloader, desc=f\"Epoch {epoch + 1}/{epochs}\", unit=\"batch\")):\n",
        "        batch = tuple(t.to(device) for t in batch)\n",
        "        input_ids, input_mask, labels = batch\n",
        "\n",
        "\n",
        "        model.zero_grad()\n",
        "        outputs = model(input_ids=input_ids, attention_mask=input_mask, labels=labels)\n",
        "        loss = outputs.loss\n",
        "        total_train_loss += loss.item()\n",
        "\n",
        "        loss.backward()\n",
        "        torch.nn.utils.clip_grad_norm_(model.parameters(), max_norm=1.0)\n",
        "        optimizer.step()\n",
        "        scheduler.step()\n",
        "\n",
        "    avg_train_loss = total_train_loss / len(train_dataloader)\n",
        "\n",
        "    # Validation\n",
        "    model.eval()\n",
        "    predictions = []\n",
        "    true_labels = []\n",
        "\n",
        "    for batch in val_dataloader:\n",
        "        batch = tuple(t.to(device) for t in batch)\n",
        "        input_ids, input_mask, labels = batch\n",
        "\n",
        "        with torch.no_grad():\n",
        "            outputs = model(input_ids=input_ids, attention_mask=input_mask)\n",
        "            logits = outputs.logits\n",
        "\n",
        "        logits = logits.detach().cpu().numpy()\n",
        "        label_ids = labels.to('cpu').numpy()\n",
        "\n",
        "        batch_predictions = np.argmax(logits, axis=1)\n",
        "        predictions.extend(batch_predictions)\n",
        "        true_labels.extend(label_ids)\n",
        "\n",
        "    val_micro_f1 = calculate_metrics('val', predictions, true_labels)\n",
        "    elapsed_time = time.time() - start_time\n",
        "\n",
        "    # Print epoch summary\n",
        "    print(f\"Epoch {epoch + 1}/{epochs}\")\n",
        "    print(f\"  Train Loss: {avg_train_loss}\")\n",
        "    print(f\"  Val Micro F1: {val_micro_f1}\")\n",
        "    print(f\"  Time: {elapsed_time // 60:.0f}m {elapsed_time % 60:.0f}s\")"
      ]
    },
    {
      "cell_type": "code",
      "execution_count": 27,
      "metadata": {
        "id": "YF1GCpcUDN6D",
        "colab": {
          "base_uri": "https://localhost:8080/"
        },
        "outputId": "43bab287-6473-4fcd-decc-f98b9c1032a8"
      },
      "outputs": [
        {
          "output_type": "stream",
          "name": "stdout",
          "text": [
            "Confusion Matrix:\n",
            " [[1202   30    8   18   22   22   20]\n",
            " [  27  974    3   30   25    5    2]\n",
            " [  24   10 1229    4    9  167   19]\n",
            " [  32   29    3  554   26   17    8]\n",
            " [  24   31    7   29  759    7    4]\n",
            " [  23    8  164   16   11 2535  130]\n",
            " [  22    2   12    8    8  164  914]]\n",
            "\n",
            "Classification Report:\n",
            "               precision    recall  f1-score   support\n",
            "\n",
            "           0       0.89      0.91      0.90      1322\n",
            "           1       0.90      0.91      0.91      1066\n",
            "           2       0.86      0.84      0.85      1462\n",
            "           3       0.84      0.83      0.83       669\n",
            "           4       0.88      0.88      0.88       861\n",
            "           5       0.87      0.88      0.87      2887\n",
            "           6       0.83      0.81      0.82      1130\n",
            "\n",
            "    accuracy                           0.87      9397\n",
            "   macro avg       0.87      0.87      0.87      9397\n",
            "weighted avg       0.87      0.87      0.87      9397\n",
            "\n",
            "Macro F1 Score: 0.8666090955265373\n",
            "Micro F1 Score: 0.8691071618601681\n",
            "Weighted F1 Score: 0.8688778644039442\n",
            "Macro Precision: 0.867652300960802\n",
            "Micro Precision: 0.8691071618601681\n",
            "Weighted Precision: 0.8688047728423026\n",
            "Macro Recall: 0.8657303149943544\n",
            "Micro Recall: 0.8691071618601681\n",
            "Weighted Recall: 0.8691071618601681\n"
          ]
        }
      ],
      "source": [
        "# Evaluation\n",
        "model.eval()\n",
        "predictions = []\n",
        "true_labels = []\n",
        "\n",
        "for batch in test_dataloader:\n",
        "    batch = tuple(t.to(device) for t in batch)\n",
        "    input_ids, input_mask, labels = batch\n",
        "\n",
        "    with torch.no_grad():\n",
        "        outputs = model(input_ids=input_ids, attention_mask=input_mask)\n",
        "        logits = outputs.logits\n",
        "\n",
        "    logits = logits.detach().cpu().numpy()\n",
        "    label_ids = labels.to('cpu').numpy()\n",
        "\n",
        "    batch_predictions = np.argmax(logits, axis=1)\n",
        "    predictions.extend(batch_predictions)\n",
        "    true_labels.extend(label_ids)\n",
        "\n",
        "# Calculate and print metrics\n",
        "calculate_metrics('test', predictions, true_labels)"
      ]
    },
    {
      "cell_type": "code",
      "execution_count": null,
      "metadata": {
        "id": "zBU4h6E7DN6D"
      },
      "outputs": [],
      "source": [
        "model.save_pretrained('/content/drive/MyDrive/WoS/SciBERT_WoS_Abstracts_46985')"
      ]
    },
    {
      "cell_type": "code",
      "source": [
        "print('End of the runtime!')"
      ],
      "metadata": {
        "id": "gXML14r1fqZ9"
      },
      "execution_count": null,
      "outputs": []
    },
    {
      "cell_type": "code",
      "source": [
        "runtime.unassign()"
      ],
      "metadata": {
        "id": "a3ftL0Kkd3f0"
      },
      "execution_count": null,
      "outputs": []
    }
  ],
  "metadata": {
    "language_info": {
      "name": "python"
    },
    "colab": {
      "provenance": [],
      "machine_shape": "hm",
      "gpuType": "T4"
    },
    "kernelspec": {
      "name": "python3",
      "display_name": "Python 3"
    },
    "accelerator": "GPU",
    "widgets": {
      "application/vnd.jupyter.widget-state+json": {
        "f29da3d216154f2bbaca99fa7da46dd1": {
          "model_module": "@jupyter-widgets/controls",
          "model_name": "HBoxModel",
          "model_module_version": "1.5.0",
          "state": {
            "_dom_classes": [],
            "_model_module": "@jupyter-widgets/controls",
            "_model_module_version": "1.5.0",
            "_model_name": "HBoxModel",
            "_view_count": null,
            "_view_module": "@jupyter-widgets/controls",
            "_view_module_version": "1.5.0",
            "_view_name": "HBoxView",
            "box_style": "",
            "children": [
              "IPY_MODEL_1bf808980b8242d2a0a0c3f06b3d2c23",
              "IPY_MODEL_6d9d9270140c4abda377bc0cc03e6738",
              "IPY_MODEL_55305be7ede34bf1a52fe03af130527d"
            ],
            "layout": "IPY_MODEL_3bfc687d4f544c8194b467c3732396ba"
          }
        },
        "1bf808980b8242d2a0a0c3f06b3d2c23": {
          "model_module": "@jupyter-widgets/controls",
          "model_name": "HTMLModel",
          "model_module_version": "1.5.0",
          "state": {
            "_dom_classes": [],
            "_model_module": "@jupyter-widgets/controls",
            "_model_module_version": "1.5.0",
            "_model_name": "HTMLModel",
            "_view_count": null,
            "_view_module": "@jupyter-widgets/controls",
            "_view_module_version": "1.5.0",
            "_view_name": "HTMLView",
            "description": "",
            "description_tooltip": null,
            "layout": "IPY_MODEL_6c547a238735431b8999b1e20c4a5a23",
            "placeholder": "​",
            "style": "IPY_MODEL_9aee6086d8ad45c483a17a0677b14736",
            "value": "config.json: 100%"
          }
        },
        "6d9d9270140c4abda377bc0cc03e6738": {
          "model_module": "@jupyter-widgets/controls",
          "model_name": "FloatProgressModel",
          "model_module_version": "1.5.0",
          "state": {
            "_dom_classes": [],
            "_model_module": "@jupyter-widgets/controls",
            "_model_module_version": "1.5.0",
            "_model_name": "FloatProgressModel",
            "_view_count": null,
            "_view_module": "@jupyter-widgets/controls",
            "_view_module_version": "1.5.0",
            "_view_name": "ProgressView",
            "bar_style": "success",
            "description": "",
            "description_tooltip": null,
            "layout": "IPY_MODEL_c46589db14d14b2ebcb2f0165548637b",
            "max": 385,
            "min": 0,
            "orientation": "horizontal",
            "style": "IPY_MODEL_b7e835949dd74c098c8664435b4d8c23",
            "value": 385
          }
        },
        "55305be7ede34bf1a52fe03af130527d": {
          "model_module": "@jupyter-widgets/controls",
          "model_name": "HTMLModel",
          "model_module_version": "1.5.0",
          "state": {
            "_dom_classes": [],
            "_model_module": "@jupyter-widgets/controls",
            "_model_module_version": "1.5.0",
            "_model_name": "HTMLModel",
            "_view_count": null,
            "_view_module": "@jupyter-widgets/controls",
            "_view_module_version": "1.5.0",
            "_view_name": "HTMLView",
            "description": "",
            "description_tooltip": null,
            "layout": "IPY_MODEL_0f645299571b47d6a02b7da3ff2d48fc",
            "placeholder": "​",
            "style": "IPY_MODEL_135646b8b2944d549f253aaadb28e2c0",
            "value": " 385/385 [00:00&lt;00:00, 25.5kB/s]"
          }
        },
        "3bfc687d4f544c8194b467c3732396ba": {
          "model_module": "@jupyter-widgets/base",
          "model_name": "LayoutModel",
          "model_module_version": "1.2.0",
          "state": {
            "_model_module": "@jupyter-widgets/base",
            "_model_module_version": "1.2.0",
            "_model_name": "LayoutModel",
            "_view_count": null,
            "_view_module": "@jupyter-widgets/base",
            "_view_module_version": "1.2.0",
            "_view_name": "LayoutView",
            "align_content": null,
            "align_items": null,
            "align_self": null,
            "border": null,
            "bottom": null,
            "display": null,
            "flex": null,
            "flex_flow": null,
            "grid_area": null,
            "grid_auto_columns": null,
            "grid_auto_flow": null,
            "grid_auto_rows": null,
            "grid_column": null,
            "grid_gap": null,
            "grid_row": null,
            "grid_template_areas": null,
            "grid_template_columns": null,
            "grid_template_rows": null,
            "height": null,
            "justify_content": null,
            "justify_items": null,
            "left": null,
            "margin": null,
            "max_height": null,
            "max_width": null,
            "min_height": null,
            "min_width": null,
            "object_fit": null,
            "object_position": null,
            "order": null,
            "overflow": null,
            "overflow_x": null,
            "overflow_y": null,
            "padding": null,
            "right": null,
            "top": null,
            "visibility": null,
            "width": null
          }
        },
        "6c547a238735431b8999b1e20c4a5a23": {
          "model_module": "@jupyter-widgets/base",
          "model_name": "LayoutModel",
          "model_module_version": "1.2.0",
          "state": {
            "_model_module": "@jupyter-widgets/base",
            "_model_module_version": "1.2.0",
            "_model_name": "LayoutModel",
            "_view_count": null,
            "_view_module": "@jupyter-widgets/base",
            "_view_module_version": "1.2.0",
            "_view_name": "LayoutView",
            "align_content": null,
            "align_items": null,
            "align_self": null,
            "border": null,
            "bottom": null,
            "display": null,
            "flex": null,
            "flex_flow": null,
            "grid_area": null,
            "grid_auto_columns": null,
            "grid_auto_flow": null,
            "grid_auto_rows": null,
            "grid_column": null,
            "grid_gap": null,
            "grid_row": null,
            "grid_template_areas": null,
            "grid_template_columns": null,
            "grid_template_rows": null,
            "height": null,
            "justify_content": null,
            "justify_items": null,
            "left": null,
            "margin": null,
            "max_height": null,
            "max_width": null,
            "min_height": null,
            "min_width": null,
            "object_fit": null,
            "object_position": null,
            "order": null,
            "overflow": null,
            "overflow_x": null,
            "overflow_y": null,
            "padding": null,
            "right": null,
            "top": null,
            "visibility": null,
            "width": null
          }
        },
        "9aee6086d8ad45c483a17a0677b14736": {
          "model_module": "@jupyter-widgets/controls",
          "model_name": "DescriptionStyleModel",
          "model_module_version": "1.5.0",
          "state": {
            "_model_module": "@jupyter-widgets/controls",
            "_model_module_version": "1.5.0",
            "_model_name": "DescriptionStyleModel",
            "_view_count": null,
            "_view_module": "@jupyter-widgets/base",
            "_view_module_version": "1.2.0",
            "_view_name": "StyleView",
            "description_width": ""
          }
        },
        "c46589db14d14b2ebcb2f0165548637b": {
          "model_module": "@jupyter-widgets/base",
          "model_name": "LayoutModel",
          "model_module_version": "1.2.0",
          "state": {
            "_model_module": "@jupyter-widgets/base",
            "_model_module_version": "1.2.0",
            "_model_name": "LayoutModel",
            "_view_count": null,
            "_view_module": "@jupyter-widgets/base",
            "_view_module_version": "1.2.0",
            "_view_name": "LayoutView",
            "align_content": null,
            "align_items": null,
            "align_self": null,
            "border": null,
            "bottom": null,
            "display": null,
            "flex": null,
            "flex_flow": null,
            "grid_area": null,
            "grid_auto_columns": null,
            "grid_auto_flow": null,
            "grid_auto_rows": null,
            "grid_column": null,
            "grid_gap": null,
            "grid_row": null,
            "grid_template_areas": null,
            "grid_template_columns": null,
            "grid_template_rows": null,
            "height": null,
            "justify_content": null,
            "justify_items": null,
            "left": null,
            "margin": null,
            "max_height": null,
            "max_width": null,
            "min_height": null,
            "min_width": null,
            "object_fit": null,
            "object_position": null,
            "order": null,
            "overflow": null,
            "overflow_x": null,
            "overflow_y": null,
            "padding": null,
            "right": null,
            "top": null,
            "visibility": null,
            "width": null
          }
        },
        "b7e835949dd74c098c8664435b4d8c23": {
          "model_module": "@jupyter-widgets/controls",
          "model_name": "ProgressStyleModel",
          "model_module_version": "1.5.0",
          "state": {
            "_model_module": "@jupyter-widgets/controls",
            "_model_module_version": "1.5.0",
            "_model_name": "ProgressStyleModel",
            "_view_count": null,
            "_view_module": "@jupyter-widgets/base",
            "_view_module_version": "1.2.0",
            "_view_name": "StyleView",
            "bar_color": null,
            "description_width": ""
          }
        },
        "0f645299571b47d6a02b7da3ff2d48fc": {
          "model_module": "@jupyter-widgets/base",
          "model_name": "LayoutModel",
          "model_module_version": "1.2.0",
          "state": {
            "_model_module": "@jupyter-widgets/base",
            "_model_module_version": "1.2.0",
            "_model_name": "LayoutModel",
            "_view_count": null,
            "_view_module": "@jupyter-widgets/base",
            "_view_module_version": "1.2.0",
            "_view_name": "LayoutView",
            "align_content": null,
            "align_items": null,
            "align_self": null,
            "border": null,
            "bottom": null,
            "display": null,
            "flex": null,
            "flex_flow": null,
            "grid_area": null,
            "grid_auto_columns": null,
            "grid_auto_flow": null,
            "grid_auto_rows": null,
            "grid_column": null,
            "grid_gap": null,
            "grid_row": null,
            "grid_template_areas": null,
            "grid_template_columns": null,
            "grid_template_rows": null,
            "height": null,
            "justify_content": null,
            "justify_items": null,
            "left": null,
            "margin": null,
            "max_height": null,
            "max_width": null,
            "min_height": null,
            "min_width": null,
            "object_fit": null,
            "object_position": null,
            "order": null,
            "overflow": null,
            "overflow_x": null,
            "overflow_y": null,
            "padding": null,
            "right": null,
            "top": null,
            "visibility": null,
            "width": null
          }
        },
        "135646b8b2944d549f253aaadb28e2c0": {
          "model_module": "@jupyter-widgets/controls",
          "model_name": "DescriptionStyleModel",
          "model_module_version": "1.5.0",
          "state": {
            "_model_module": "@jupyter-widgets/controls",
            "_model_module_version": "1.5.0",
            "_model_name": "DescriptionStyleModel",
            "_view_count": null,
            "_view_module": "@jupyter-widgets/base",
            "_view_module_version": "1.2.0",
            "_view_name": "StyleView",
            "description_width": ""
          }
        },
        "c7b133548ea740a6918ac76d83433b4d": {
          "model_module": "@jupyter-widgets/controls",
          "model_name": "HBoxModel",
          "model_module_version": "1.5.0",
          "state": {
            "_dom_classes": [],
            "_model_module": "@jupyter-widgets/controls",
            "_model_module_version": "1.5.0",
            "_model_name": "HBoxModel",
            "_view_count": null,
            "_view_module": "@jupyter-widgets/controls",
            "_view_module_version": "1.5.0",
            "_view_name": "HBoxView",
            "box_style": "",
            "children": [
              "IPY_MODEL_1077cb354da54e43aed709f1007d5f3b",
              "IPY_MODEL_bc91be264acf4e41811a29aaf789aa0d",
              "IPY_MODEL_61e054d2719f47f08f8d872f5739807d"
            ],
            "layout": "IPY_MODEL_c4ea0576fafc45e4b10c0fd7200929b6"
          }
        },
        "1077cb354da54e43aed709f1007d5f3b": {
          "model_module": "@jupyter-widgets/controls",
          "model_name": "HTMLModel",
          "model_module_version": "1.5.0",
          "state": {
            "_dom_classes": [],
            "_model_module": "@jupyter-widgets/controls",
            "_model_module_version": "1.5.0",
            "_model_name": "HTMLModel",
            "_view_count": null,
            "_view_module": "@jupyter-widgets/controls",
            "_view_module_version": "1.5.0",
            "_view_name": "HTMLView",
            "description": "",
            "description_tooltip": null,
            "layout": "IPY_MODEL_619bb8ccfa0c4fc2b9c309ca3238b86a",
            "placeholder": "​",
            "style": "IPY_MODEL_da5fc75b113641cdab58235053995ea8",
            "value": "vocab.txt: 100%"
          }
        },
        "bc91be264acf4e41811a29aaf789aa0d": {
          "model_module": "@jupyter-widgets/controls",
          "model_name": "FloatProgressModel",
          "model_module_version": "1.5.0",
          "state": {
            "_dom_classes": [],
            "_model_module": "@jupyter-widgets/controls",
            "_model_module_version": "1.5.0",
            "_model_name": "FloatProgressModel",
            "_view_count": null,
            "_view_module": "@jupyter-widgets/controls",
            "_view_module_version": "1.5.0",
            "_view_name": "ProgressView",
            "bar_style": "success",
            "description": "",
            "description_tooltip": null,
            "layout": "IPY_MODEL_5ebdbe1e7b344a5789fc9b2a87b5f4b6",
            "max": 227845,
            "min": 0,
            "orientation": "horizontal",
            "style": "IPY_MODEL_f9b5edc8aa884f8497050558b3efbd28",
            "value": 227845
          }
        },
        "61e054d2719f47f08f8d872f5739807d": {
          "model_module": "@jupyter-widgets/controls",
          "model_name": "HTMLModel",
          "model_module_version": "1.5.0",
          "state": {
            "_dom_classes": [],
            "_model_module": "@jupyter-widgets/controls",
            "_model_module_version": "1.5.0",
            "_model_name": "HTMLModel",
            "_view_count": null,
            "_view_module": "@jupyter-widgets/controls",
            "_view_module_version": "1.5.0",
            "_view_name": "HTMLView",
            "description": "",
            "description_tooltip": null,
            "layout": "IPY_MODEL_d61a52cc9c5a4f97859f710b0a6d4c1d",
            "placeholder": "​",
            "style": "IPY_MODEL_0f0b41e285694a32980fe4dbfa64f78b",
            "value": " 228k/228k [00:00&lt;00:00, 668kB/s]"
          }
        },
        "c4ea0576fafc45e4b10c0fd7200929b6": {
          "model_module": "@jupyter-widgets/base",
          "model_name": "LayoutModel",
          "model_module_version": "1.2.0",
          "state": {
            "_model_module": "@jupyter-widgets/base",
            "_model_module_version": "1.2.0",
            "_model_name": "LayoutModel",
            "_view_count": null,
            "_view_module": "@jupyter-widgets/base",
            "_view_module_version": "1.2.0",
            "_view_name": "LayoutView",
            "align_content": null,
            "align_items": null,
            "align_self": null,
            "border": null,
            "bottom": null,
            "display": null,
            "flex": null,
            "flex_flow": null,
            "grid_area": null,
            "grid_auto_columns": null,
            "grid_auto_flow": null,
            "grid_auto_rows": null,
            "grid_column": null,
            "grid_gap": null,
            "grid_row": null,
            "grid_template_areas": null,
            "grid_template_columns": null,
            "grid_template_rows": null,
            "height": null,
            "justify_content": null,
            "justify_items": null,
            "left": null,
            "margin": null,
            "max_height": null,
            "max_width": null,
            "min_height": null,
            "min_width": null,
            "object_fit": null,
            "object_position": null,
            "order": null,
            "overflow": null,
            "overflow_x": null,
            "overflow_y": null,
            "padding": null,
            "right": null,
            "top": null,
            "visibility": null,
            "width": null
          }
        },
        "619bb8ccfa0c4fc2b9c309ca3238b86a": {
          "model_module": "@jupyter-widgets/base",
          "model_name": "LayoutModel",
          "model_module_version": "1.2.0",
          "state": {
            "_model_module": "@jupyter-widgets/base",
            "_model_module_version": "1.2.0",
            "_model_name": "LayoutModel",
            "_view_count": null,
            "_view_module": "@jupyter-widgets/base",
            "_view_module_version": "1.2.0",
            "_view_name": "LayoutView",
            "align_content": null,
            "align_items": null,
            "align_self": null,
            "border": null,
            "bottom": null,
            "display": null,
            "flex": null,
            "flex_flow": null,
            "grid_area": null,
            "grid_auto_columns": null,
            "grid_auto_flow": null,
            "grid_auto_rows": null,
            "grid_column": null,
            "grid_gap": null,
            "grid_row": null,
            "grid_template_areas": null,
            "grid_template_columns": null,
            "grid_template_rows": null,
            "height": null,
            "justify_content": null,
            "justify_items": null,
            "left": null,
            "margin": null,
            "max_height": null,
            "max_width": null,
            "min_height": null,
            "min_width": null,
            "object_fit": null,
            "object_position": null,
            "order": null,
            "overflow": null,
            "overflow_x": null,
            "overflow_y": null,
            "padding": null,
            "right": null,
            "top": null,
            "visibility": null,
            "width": null
          }
        },
        "da5fc75b113641cdab58235053995ea8": {
          "model_module": "@jupyter-widgets/controls",
          "model_name": "DescriptionStyleModel",
          "model_module_version": "1.5.0",
          "state": {
            "_model_module": "@jupyter-widgets/controls",
            "_model_module_version": "1.5.0",
            "_model_name": "DescriptionStyleModel",
            "_view_count": null,
            "_view_module": "@jupyter-widgets/base",
            "_view_module_version": "1.2.0",
            "_view_name": "StyleView",
            "description_width": ""
          }
        },
        "5ebdbe1e7b344a5789fc9b2a87b5f4b6": {
          "model_module": "@jupyter-widgets/base",
          "model_name": "LayoutModel",
          "model_module_version": "1.2.0",
          "state": {
            "_model_module": "@jupyter-widgets/base",
            "_model_module_version": "1.2.0",
            "_model_name": "LayoutModel",
            "_view_count": null,
            "_view_module": "@jupyter-widgets/base",
            "_view_module_version": "1.2.0",
            "_view_name": "LayoutView",
            "align_content": null,
            "align_items": null,
            "align_self": null,
            "border": null,
            "bottom": null,
            "display": null,
            "flex": null,
            "flex_flow": null,
            "grid_area": null,
            "grid_auto_columns": null,
            "grid_auto_flow": null,
            "grid_auto_rows": null,
            "grid_column": null,
            "grid_gap": null,
            "grid_row": null,
            "grid_template_areas": null,
            "grid_template_columns": null,
            "grid_template_rows": null,
            "height": null,
            "justify_content": null,
            "justify_items": null,
            "left": null,
            "margin": null,
            "max_height": null,
            "max_width": null,
            "min_height": null,
            "min_width": null,
            "object_fit": null,
            "object_position": null,
            "order": null,
            "overflow": null,
            "overflow_x": null,
            "overflow_y": null,
            "padding": null,
            "right": null,
            "top": null,
            "visibility": null,
            "width": null
          }
        },
        "f9b5edc8aa884f8497050558b3efbd28": {
          "model_module": "@jupyter-widgets/controls",
          "model_name": "ProgressStyleModel",
          "model_module_version": "1.5.0",
          "state": {
            "_model_module": "@jupyter-widgets/controls",
            "_model_module_version": "1.5.0",
            "_model_name": "ProgressStyleModel",
            "_view_count": null,
            "_view_module": "@jupyter-widgets/base",
            "_view_module_version": "1.2.0",
            "_view_name": "StyleView",
            "bar_color": null,
            "description_width": ""
          }
        },
        "d61a52cc9c5a4f97859f710b0a6d4c1d": {
          "model_module": "@jupyter-widgets/base",
          "model_name": "LayoutModel",
          "model_module_version": "1.2.0",
          "state": {
            "_model_module": "@jupyter-widgets/base",
            "_model_module_version": "1.2.0",
            "_model_name": "LayoutModel",
            "_view_count": null,
            "_view_module": "@jupyter-widgets/base",
            "_view_module_version": "1.2.0",
            "_view_name": "LayoutView",
            "align_content": null,
            "align_items": null,
            "align_self": null,
            "border": null,
            "bottom": null,
            "display": null,
            "flex": null,
            "flex_flow": null,
            "grid_area": null,
            "grid_auto_columns": null,
            "grid_auto_flow": null,
            "grid_auto_rows": null,
            "grid_column": null,
            "grid_gap": null,
            "grid_row": null,
            "grid_template_areas": null,
            "grid_template_columns": null,
            "grid_template_rows": null,
            "height": null,
            "justify_content": null,
            "justify_items": null,
            "left": null,
            "margin": null,
            "max_height": null,
            "max_width": null,
            "min_height": null,
            "min_width": null,
            "object_fit": null,
            "object_position": null,
            "order": null,
            "overflow": null,
            "overflow_x": null,
            "overflow_y": null,
            "padding": null,
            "right": null,
            "top": null,
            "visibility": null,
            "width": null
          }
        },
        "0f0b41e285694a32980fe4dbfa64f78b": {
          "model_module": "@jupyter-widgets/controls",
          "model_name": "DescriptionStyleModel",
          "model_module_version": "1.5.0",
          "state": {
            "_model_module": "@jupyter-widgets/controls",
            "_model_module_version": "1.5.0",
            "_model_name": "DescriptionStyleModel",
            "_view_count": null,
            "_view_module": "@jupyter-widgets/base",
            "_view_module_version": "1.2.0",
            "_view_name": "StyleView",
            "description_width": ""
          }
        },
        "85eb59cac20d41b4876cf3d5014ffc23": {
          "model_module": "@jupyter-widgets/controls",
          "model_name": "HBoxModel",
          "model_module_version": "1.5.0",
          "state": {
            "_dom_classes": [],
            "_model_module": "@jupyter-widgets/controls",
            "_model_module_version": "1.5.0",
            "_model_name": "HBoxModel",
            "_view_count": null,
            "_view_module": "@jupyter-widgets/controls",
            "_view_module_version": "1.5.0",
            "_view_name": "HBoxView",
            "box_style": "",
            "children": [
              "IPY_MODEL_01f7c32a352d45e789fc8c568114c6c8",
              "IPY_MODEL_a158b922aa7b4805b90f7f196c77482f",
              "IPY_MODEL_f781163e05944febab457318689e7499"
            ],
            "layout": "IPY_MODEL_b96ea9a0351743d3b0da5058f6971ec3"
          }
        },
        "01f7c32a352d45e789fc8c568114c6c8": {
          "model_module": "@jupyter-widgets/controls",
          "model_name": "HTMLModel",
          "model_module_version": "1.5.0",
          "state": {
            "_dom_classes": [],
            "_model_module": "@jupyter-widgets/controls",
            "_model_module_version": "1.5.0",
            "_model_name": "HTMLModel",
            "_view_count": null,
            "_view_module": "@jupyter-widgets/controls",
            "_view_module_version": "1.5.0",
            "_view_name": "HTMLView",
            "description": "",
            "description_tooltip": null,
            "layout": "IPY_MODEL_786fac114c32432791ad994c42f7ceea",
            "placeholder": "​",
            "style": "IPY_MODEL_1945075c09ac447f8d81d7187bef5ea8",
            "value": "pytorch_model.bin: 100%"
          }
        },
        "a158b922aa7b4805b90f7f196c77482f": {
          "model_module": "@jupyter-widgets/controls",
          "model_name": "FloatProgressModel",
          "model_module_version": "1.5.0",
          "state": {
            "_dom_classes": [],
            "_model_module": "@jupyter-widgets/controls",
            "_model_module_version": "1.5.0",
            "_model_name": "FloatProgressModel",
            "_view_count": null,
            "_view_module": "@jupyter-widgets/controls",
            "_view_module_version": "1.5.0",
            "_view_name": "ProgressView",
            "bar_style": "success",
            "description": "",
            "description_tooltip": null,
            "layout": "IPY_MODEL_cda18e9925e64fd79e1028348d048c22",
            "max": 442221694,
            "min": 0,
            "orientation": "horizontal",
            "style": "IPY_MODEL_fd47ca68794447a49da34c661cce6cb0",
            "value": 442221694
          }
        },
        "f781163e05944febab457318689e7499": {
          "model_module": "@jupyter-widgets/controls",
          "model_name": "HTMLModel",
          "model_module_version": "1.5.0",
          "state": {
            "_dom_classes": [],
            "_model_module": "@jupyter-widgets/controls",
            "_model_module_version": "1.5.0",
            "_model_name": "HTMLModel",
            "_view_count": null,
            "_view_module": "@jupyter-widgets/controls",
            "_view_module_version": "1.5.0",
            "_view_name": "HTMLView",
            "description": "",
            "description_tooltip": null,
            "layout": "IPY_MODEL_c9401f603fc14e7cb1d2eb77bdfbdc9c",
            "placeholder": "​",
            "style": "IPY_MODEL_8ef2d102844942d0ba0f49e6cf7d24ba",
            "value": " 442M/442M [00:08&lt;00:00, 59.0MB/s]"
          }
        },
        "b96ea9a0351743d3b0da5058f6971ec3": {
          "model_module": "@jupyter-widgets/base",
          "model_name": "LayoutModel",
          "model_module_version": "1.2.0",
          "state": {
            "_model_module": "@jupyter-widgets/base",
            "_model_module_version": "1.2.0",
            "_model_name": "LayoutModel",
            "_view_count": null,
            "_view_module": "@jupyter-widgets/base",
            "_view_module_version": "1.2.0",
            "_view_name": "LayoutView",
            "align_content": null,
            "align_items": null,
            "align_self": null,
            "border": null,
            "bottom": null,
            "display": null,
            "flex": null,
            "flex_flow": null,
            "grid_area": null,
            "grid_auto_columns": null,
            "grid_auto_flow": null,
            "grid_auto_rows": null,
            "grid_column": null,
            "grid_gap": null,
            "grid_row": null,
            "grid_template_areas": null,
            "grid_template_columns": null,
            "grid_template_rows": null,
            "height": null,
            "justify_content": null,
            "justify_items": null,
            "left": null,
            "margin": null,
            "max_height": null,
            "max_width": null,
            "min_height": null,
            "min_width": null,
            "object_fit": null,
            "object_position": null,
            "order": null,
            "overflow": null,
            "overflow_x": null,
            "overflow_y": null,
            "padding": null,
            "right": null,
            "top": null,
            "visibility": null,
            "width": null
          }
        },
        "786fac114c32432791ad994c42f7ceea": {
          "model_module": "@jupyter-widgets/base",
          "model_name": "LayoutModel",
          "model_module_version": "1.2.0",
          "state": {
            "_model_module": "@jupyter-widgets/base",
            "_model_module_version": "1.2.0",
            "_model_name": "LayoutModel",
            "_view_count": null,
            "_view_module": "@jupyter-widgets/base",
            "_view_module_version": "1.2.0",
            "_view_name": "LayoutView",
            "align_content": null,
            "align_items": null,
            "align_self": null,
            "border": null,
            "bottom": null,
            "display": null,
            "flex": null,
            "flex_flow": null,
            "grid_area": null,
            "grid_auto_columns": null,
            "grid_auto_flow": null,
            "grid_auto_rows": null,
            "grid_column": null,
            "grid_gap": null,
            "grid_row": null,
            "grid_template_areas": null,
            "grid_template_columns": null,
            "grid_template_rows": null,
            "height": null,
            "justify_content": null,
            "justify_items": null,
            "left": null,
            "margin": null,
            "max_height": null,
            "max_width": null,
            "min_height": null,
            "min_width": null,
            "object_fit": null,
            "object_position": null,
            "order": null,
            "overflow": null,
            "overflow_x": null,
            "overflow_y": null,
            "padding": null,
            "right": null,
            "top": null,
            "visibility": null,
            "width": null
          }
        },
        "1945075c09ac447f8d81d7187bef5ea8": {
          "model_module": "@jupyter-widgets/controls",
          "model_name": "DescriptionStyleModel",
          "model_module_version": "1.5.0",
          "state": {
            "_model_module": "@jupyter-widgets/controls",
            "_model_module_version": "1.5.0",
            "_model_name": "DescriptionStyleModel",
            "_view_count": null,
            "_view_module": "@jupyter-widgets/base",
            "_view_module_version": "1.2.0",
            "_view_name": "StyleView",
            "description_width": ""
          }
        },
        "cda18e9925e64fd79e1028348d048c22": {
          "model_module": "@jupyter-widgets/base",
          "model_name": "LayoutModel",
          "model_module_version": "1.2.0",
          "state": {
            "_model_module": "@jupyter-widgets/base",
            "_model_module_version": "1.2.0",
            "_model_name": "LayoutModel",
            "_view_count": null,
            "_view_module": "@jupyter-widgets/base",
            "_view_module_version": "1.2.0",
            "_view_name": "LayoutView",
            "align_content": null,
            "align_items": null,
            "align_self": null,
            "border": null,
            "bottom": null,
            "display": null,
            "flex": null,
            "flex_flow": null,
            "grid_area": null,
            "grid_auto_columns": null,
            "grid_auto_flow": null,
            "grid_auto_rows": null,
            "grid_column": null,
            "grid_gap": null,
            "grid_row": null,
            "grid_template_areas": null,
            "grid_template_columns": null,
            "grid_template_rows": null,
            "height": null,
            "justify_content": null,
            "justify_items": null,
            "left": null,
            "margin": null,
            "max_height": null,
            "max_width": null,
            "min_height": null,
            "min_width": null,
            "object_fit": null,
            "object_position": null,
            "order": null,
            "overflow": null,
            "overflow_x": null,
            "overflow_y": null,
            "padding": null,
            "right": null,
            "top": null,
            "visibility": null,
            "width": null
          }
        },
        "fd47ca68794447a49da34c661cce6cb0": {
          "model_module": "@jupyter-widgets/controls",
          "model_name": "ProgressStyleModel",
          "model_module_version": "1.5.0",
          "state": {
            "_model_module": "@jupyter-widgets/controls",
            "_model_module_version": "1.5.0",
            "_model_name": "ProgressStyleModel",
            "_view_count": null,
            "_view_module": "@jupyter-widgets/base",
            "_view_module_version": "1.2.0",
            "_view_name": "StyleView",
            "bar_color": null,
            "description_width": ""
          }
        },
        "c9401f603fc14e7cb1d2eb77bdfbdc9c": {
          "model_module": "@jupyter-widgets/base",
          "model_name": "LayoutModel",
          "model_module_version": "1.2.0",
          "state": {
            "_model_module": "@jupyter-widgets/base",
            "_model_module_version": "1.2.0",
            "_model_name": "LayoutModel",
            "_view_count": null,
            "_view_module": "@jupyter-widgets/base",
            "_view_module_version": "1.2.0",
            "_view_name": "LayoutView",
            "align_content": null,
            "align_items": null,
            "align_self": null,
            "border": null,
            "bottom": null,
            "display": null,
            "flex": null,
            "flex_flow": null,
            "grid_area": null,
            "grid_auto_columns": null,
            "grid_auto_flow": null,
            "grid_auto_rows": null,
            "grid_column": null,
            "grid_gap": null,
            "grid_row": null,
            "grid_template_areas": null,
            "grid_template_columns": null,
            "grid_template_rows": null,
            "height": null,
            "justify_content": null,
            "justify_items": null,
            "left": null,
            "margin": null,
            "max_height": null,
            "max_width": null,
            "min_height": null,
            "min_width": null,
            "object_fit": null,
            "object_position": null,
            "order": null,
            "overflow": null,
            "overflow_x": null,
            "overflow_y": null,
            "padding": null,
            "right": null,
            "top": null,
            "visibility": null,
            "width": null
          }
        },
        "8ef2d102844942d0ba0f49e6cf7d24ba": {
          "model_module": "@jupyter-widgets/controls",
          "model_name": "DescriptionStyleModel",
          "model_module_version": "1.5.0",
          "state": {
            "_model_module": "@jupyter-widgets/controls",
            "_model_module_version": "1.5.0",
            "_model_name": "DescriptionStyleModel",
            "_view_count": null,
            "_view_module": "@jupyter-widgets/base",
            "_view_module_version": "1.2.0",
            "_view_name": "StyleView",
            "description_width": ""
          }
        }
      }
    }
  },
  "nbformat": 4,
  "nbformat_minor": 0
}