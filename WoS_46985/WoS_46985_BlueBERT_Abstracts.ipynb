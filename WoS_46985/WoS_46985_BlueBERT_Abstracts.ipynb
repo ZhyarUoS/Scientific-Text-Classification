{
  "cells": [
    {
      "cell_type": "code",
      "execution_count": 1,
      "metadata": {
        "colab": {
          "base_uri": "https://localhost:8080/"
        },
        "id": "iRuetRKhDN59",
        "outputId": "18ea0136-1e77-4596-92cf-dfe8db6fb2c0"
      },
      "outputs": [
        {
          "output_type": "stream",
          "name": "stdout",
          "text": [
            "Wed Jul 31 12:20:44 2024       \n",
            "+---------------------------------------------------------------------------------------+\n",
            "| NVIDIA-SMI 535.104.05             Driver Version: 535.104.05   CUDA Version: 12.2     |\n",
            "|-----------------------------------------+----------------------+----------------------+\n",
            "| GPU  Name                 Persistence-M | Bus-Id        Disp.A | Volatile Uncorr. ECC |\n",
            "| Fan  Temp   Perf          Pwr:Usage/Cap |         Memory-Usage | GPU-Util  Compute M. |\n",
            "|                                         |                      |               MIG M. |\n",
            "|=========================================+======================+======================|\n",
            "|   0  Tesla T4                       Off | 00000000:00:04.0 Off |                    0 |\n",
            "| N/A   51C    P8               9W /  70W |      0MiB / 15360MiB |      0%      Default |\n",
            "|                                         |                      |                  N/A |\n",
            "+-----------------------------------------+----------------------+----------------------+\n",
            "                                                                                         \n",
            "+---------------------------------------------------------------------------------------+\n",
            "| Processes:                                                                            |\n",
            "|  GPU   GI   CI        PID   Type   Process name                            GPU Memory |\n",
            "|        ID   ID                                                             Usage      |\n",
            "|=======================================================================================|\n",
            "|  No running processes found                                                           |\n",
            "+---------------------------------------------------------------------------------------+\n"
          ]
        }
      ],
      "source": [
        "gpu_info = !nvidia-smi\n",
        "gpu_info = '\\n'.join(gpu_info)\n",
        "if gpu_info.find('failed') >= 0:\n",
        "  print('Not connected to a GPU')\n",
        "else:\n",
        "  print(gpu_info)"
      ]
    },
    {
      "cell_type": "code",
      "execution_count": 2,
      "metadata": {
        "colab": {
          "base_uri": "https://localhost:8080/"
        },
        "id": "7BMB0YxADN5-",
        "outputId": "3437dd52-d09d-4cad-e858-7ca9ad0e8083"
      },
      "outputs": [
        {
          "output_type": "stream",
          "name": "stdout",
          "text": [
            "Your runtime has 54.8 gigabytes of available RAM\n",
            "\n",
            "You are using a high-RAM runtime!\n"
          ]
        }
      ],
      "source": [
        "from psutil import virtual_memory\n",
        "ram_gb = virtual_memory().total / 1e9\n",
        "print('Your runtime has {:.1f} gigabytes of available RAM\\n'.format(ram_gb))\n",
        "\n",
        "if ram_gb < 20:\n",
        "  print('Not using a high-RAM runtime')\n",
        "else:\n",
        "  print('You are using a high-RAM runtime!')"
      ]
    },
    {
      "cell_type": "code",
      "execution_count": 3,
      "metadata": {
        "colab": {
          "base_uri": "https://localhost:8080/"
        },
        "id": "e2qEb3ivDN5-",
        "outputId": "f4c024e2-570b-431f-c265-e22b70d59a9b"
      },
      "outputs": [
        {
          "output_type": "stream",
          "name": "stdout",
          "text": [
            "Mounted at /content/drive\n"
          ]
        }
      ],
      "source": [
        "from google.colab import drive\n",
        "drive.mount('/content/drive')"
      ]
    },
    {
      "cell_type": "code",
      "execution_count": 4,
      "metadata": {
        "colab": {
          "base_uri": "https://localhost:8080/"
        },
        "id": "ZRaneJBnDN5_",
        "outputId": "7b57f879-7ce9-4946-a968-a04ff64bf24f"
      },
      "outputs": [
        {
          "output_type": "stream",
          "name": "stdout",
          "text": [
            "Requirement already satisfied: transformers in /usr/local/lib/python3.10/dist-packages (4.42.4)\n",
            "Requirement already satisfied: filelock in /usr/local/lib/python3.10/dist-packages (from transformers) (3.15.4)\n",
            "Requirement already satisfied: huggingface-hub<1.0,>=0.23.2 in /usr/local/lib/python3.10/dist-packages (from transformers) (0.23.5)\n",
            "Requirement already satisfied: numpy<2.0,>=1.17 in /usr/local/lib/python3.10/dist-packages (from transformers) (1.26.4)\n",
            "Requirement already satisfied: packaging>=20.0 in /usr/local/lib/python3.10/dist-packages (from transformers) (24.1)\n",
            "Requirement already satisfied: pyyaml>=5.1 in /usr/local/lib/python3.10/dist-packages (from transformers) (6.0.1)\n",
            "Requirement already satisfied: regex!=2019.12.17 in /usr/local/lib/python3.10/dist-packages (from transformers) (2024.5.15)\n",
            "Requirement already satisfied: requests in /usr/local/lib/python3.10/dist-packages (from transformers) (2.31.0)\n",
            "Requirement already satisfied: safetensors>=0.4.1 in /usr/local/lib/python3.10/dist-packages (from transformers) (0.4.3)\n",
            "Requirement already satisfied: tokenizers<0.20,>=0.19 in /usr/local/lib/python3.10/dist-packages (from transformers) (0.19.1)\n",
            "Requirement already satisfied: tqdm>=4.27 in /usr/local/lib/python3.10/dist-packages (from transformers) (4.66.4)\n",
            "Requirement already satisfied: fsspec>=2023.5.0 in /usr/local/lib/python3.10/dist-packages (from huggingface-hub<1.0,>=0.23.2->transformers) (2024.6.1)\n",
            "Requirement already satisfied: typing-extensions>=3.7.4.3 in /usr/local/lib/python3.10/dist-packages (from huggingface-hub<1.0,>=0.23.2->transformers) (4.12.2)\n",
            "Requirement already satisfied: charset-normalizer<4,>=2 in /usr/local/lib/python3.10/dist-packages (from requests->transformers) (3.3.2)\n",
            "Requirement already satisfied: idna<4,>=2.5 in /usr/local/lib/python3.10/dist-packages (from requests->transformers) (3.7)\n",
            "Requirement already satisfied: urllib3<3,>=1.21.1 in /usr/local/lib/python3.10/dist-packages (from requests->transformers) (2.0.7)\n",
            "Requirement already satisfied: certifi>=2017.4.17 in /usr/local/lib/python3.10/dist-packages (from requests->transformers) (2024.7.4)\n"
          ]
        }
      ],
      "source": [
        "!pip install transformers"
      ]
    },
    {
      "cell_type": "code",
      "execution_count": 5,
      "metadata": {
        "id": "jEVF9FbODN5_"
      },
      "outputs": [],
      "source": [
        "import os\n",
        "import numpy as np\n",
        "import pandas as pd\n",
        "from sklearn.model_selection import train_test_split\n",
        "from sklearn.metrics import confusion_matrix, classification_report, f1_score, precision_score, recall_score\n",
        "from transformers import AutoTokenizer, AutoModelForSequenceClassification, AdamW, get_linear_schedule_with_warmup\n",
        "import torch\n",
        "from torch.utils.data import DataLoader, TensorDataset, RandomSampler, SequentialSampler\n",
        "import torch.nn.functional as F\n",
        "from tqdm import trange, tqdm\n",
        "import matplotlib.pyplot as plt\n",
        "import sklearn.utils\n",
        "import time\n",
        "import re\n",
        "from google.colab import runtime"
      ]
    },
    {
      "cell_type": "code",
      "execution_count": 6,
      "metadata": {
        "colab": {
          "base_uri": "https://localhost:8080/"
        },
        "id": "d84lKOxcDN5_",
        "outputId": "9bb84136-f5af-432e-aa99-5193276a248d"
      },
      "outputs": [
        {
          "output_type": "stream",
          "name": "stdout",
          "text": [
            "(46985, 4)\n"
          ]
        }
      ],
      "source": [
        "# Retrive the data from stored dataset\n",
        "dataDir = \"/content/drive/MyDrive/WoS/data/46985\"\n",
        "tsvData = os.path.join(dataDir,\"WoSDataset_46985.tsv\")\n",
        "\n",
        "tsvData = np.loadtxt(tsvData, dtype=str, delimiter=\"\\t\")\n",
        "print(np.shape(tsvData))"
      ]
    },
    {
      "cell_type": "code",
      "execution_count": 7,
      "metadata": {
        "colab": {
          "base_uri": "https://localhost:8080/"
        },
        "id": "FIYp3nhcDN5_",
        "outputId": "99c247f8-044d-438e-f21c-2d594b32cf24"
      },
      "outputs": [
        {
          "output_type": "stream",
          "name": "stdout",
          "text": [
            "[['0' 'CS'\n",
            "  ' 21dimensional nonlinear optical waves erbiumdoped optical fibre symbolic computation soliton solution soliton interaction        '\n",
            "  '2  1dimensional nonlinear optical waves through the coherently excited resonant medium doped with the erbium atoms can be described by a 2  1dimensional nonlinear schrodinger equation coupled with the selfinduced transparency equations for such a system via the hirota method and symbolic computation linear forms one twoand nsoliton solutions are obtained asymptotic analysis is conducted and suggests that the interaction between the two solitons is elastic bright solitons are obtained for the fields e and p while the dark ones for the field n with e as the electric field p as the polarization in the resonant medium induced by the electric field and n as the population inversion profile of the dopant atoms headon interaction between the bidirectional two solitons and overtaking interaction between the unidirectional two solitons are seen influence of the averaged natural frequency on the solitons are studied 1 can affect the velocities of all the solitons 2 amplitudes of the solitons for the fields p and n increase with decreasing and decrease with increasing 3 with decreasing for the fields p and n onepeak one soliton turns into the twopeak one as well as interaction type changes from the interaction between two onepeak ones to that between a onepeak one and a twopeak one 4 for the field e influence of on the solitons cannot be found the results of this paper might be of potential applications in the design of optical communication systems which can produce the bright and dark solitons simultaneously']\n",
            " ['5' 'Medical'\n",
            "  ' aging tau amyloid pet alzheimers disease polypathology        '\n",
            "  'betaamyloid a beta and tau pathology become increasingly prevalent with age however the spatial relationship between the two pathologies remains unknown we examined local same region and nonlocal different region associations between these 2 aggregated proteins in 46 normal older adults using f18av1451 for tau and c11pib for a beta positron emission tomography pet and 15 t magnetic resonance imaging mri images while local voxelwise analyses showed associations between pib and av1451 tracer largely in the temporal lobes kmeans clustering revealed that some of these associations were driven by regions with low tracer retention we followed this up with a wholebrain regionbyregion local and nonlocal partial correlational analysis we calculated each participants mean av1451 and pib uptake values within 87 regions of interest roi pairwise roi analysis demonstrated many positive pib av1451 associations importantly strong positive partial correlations controlling for age sex and global gray matter fraction p 01 were identified between pib in multiple regions of association cortex and av1451 in temporal cortical rois there were also less frequent and weaker positive associations of regional pib with frontoparietal av1451 uptake particularly in temporal lobe rois av1451 uptake was strongly predicted by nb across multiple roi locations these data indicate that a beta and tau pathology show significant local and nonlocal regional associations among cognitively normal elderly with increased pib uptake throughout the cortex correlating with increased temporal lobe av1451 uptake the spatial relationship between a beta and tau accumulation does not appear to be specific to a beta location suggesting a regional vulnerability of temporal brain regions to tau accumulation regardless of where ap accumulates']\n",
            " ['4' 'Civil'\n",
            "  ' led lighting system pv system distributed lighting control energy efficiency green building daylight responsive dimming system        '\n",
            "  'decreasing of energy consumption and environmentally friendly energy resources are the issues in the foreground nowadays as the electric energy consumed for the illumination is high longlasting and lowconsumption led lightemitting diode technology gets prominent there have been made much reseacrh regarding the use of photovoltaic sytems in meeting the energy demand in housing and industry however there is need for more research with regards to photovoltaic sytems integration with energy efficiency sytems in this study for the environments which have different lighting levels due to daylight factor there has been proposed a lowcost pv photovoltaics based and distributed sensor smart led illuminating system and there has been acquired 72075 more energy saving in comparison with conventional led illuminating system c 2017 elsevier inc all rights reserved']\n",
            " ['1' 'ECE'\n",
            "  ' ndfeb magnets electric motor electric vehicle hybrid electric vehicle recycling rare earth elements        '\n",
            "  'hybrid electric vehicles are assumed to play a major role in future mobility concepts although sales numbers are increasing little emphasis has been laid on the recycling of some key components such as power electronics or electric motors permanent magnet synchronous motors contain considerable amounts of rare earth elements that cannot be recovered in conventional recycling routes although their recycling could have large economic environmental and strategic advantages no industrial recycling for permanent magnets is available in western countries at the moment regarding the essential steps dismantling of electric vehicles as well as the extraction of magnets from the rotors little has been published before this paper therefore presents and discusses different recycling approaches for the recycling of ndfeb magnets from hybrid electric vehicles many results stem from the german research project recycling of components and strategic metals of electric drive motors']\n",
            " ['5' 'Medical'\n",
            "  ' parkinsons disease dyskinesia adenosine a2a receptor striatum glutamic acid decarboxylase        '\n",
            "  'l34dihydroxyphenylalanine ldopa remains the primary pharmacological agent for the symptomatic treatment of parkinsons disease pd however the development of ldopainduced dyskinesia lid limits the longterm use of ldopa for pd patients some data have reported that adenosine a2a receptor a2ar antagonists prevented lid in animal model of pd however the mechanism in which adenosine a2ar blockade alleviates the symptoms of lid has not been fully clarified here we determined to knock out ko the gene of a2ar and explored the possible underlying mechanisms implicated in development of lid in a mouse model of pd a2ar gene ko mice were unilaterally injected into the striatum with 6hydroxydopamine 6ohda in order to damage dopamine neurons on one side of the brain 6ohdalesioned mice were then injected once daily for 21 days with ldopa abnormal involuntary movements aims were evaluated on days 3 8 13 and 18 after ldopa administration and realtime polymerase chain reaction and immunohistochemistry for glutamic acid decarboxylase gad 65 and gad67 were performed we found that a2ar gene ko was effective in reducing aim scores and accompanied with decrease of striatal gad67 rather than gad65 these results demonstrated that the possible mechanism involved in alleviation of aim symptoms by a2ar gene ko might be through reducing the expression of striatal gad67']\n",
            " ['0' 'CS'\n",
            "  ' tea category identification computer vision color histogram wavelet packet entropy winnertakesall radial basis function artificial neural network pattern recognition support vector machine        '\n",
            "  'objective in order to increase classification accuracy of teacategory identification tci system this paper proposed a novel approach method the proposed methods first extracted 64 color histogram to obtain color information and 16 wavelet packet entropy to obtain the texture information with the aim of reducing the 80 features principal component analysis was harnessed the reduced features were used as input to generalized eigenvalue proximal support vector machine gepsvm winnertakesall wta was used to handle the multiclass problem two kernels were tested linear kernel and radial basis function rbf kernel ten repetitions of 10fold stratified cross validation technique were used to estimate the outofsample errors we named our method as gepsvm  rbf  wta and gepsvm  wta result the results showed that pca reduced the 80 features to merely five with explaining 9990 of total variance the recall rate of gepsvm  rbf  wta achieved the highest overall recall rate of 979 conclusion this was higher than the result of gepsvm  wta and other five stateoftheart algorithms back propagation neural network rbf support vector machine genetic neuralnetwork linear discriminant analysis and fitnessscaling chaotic artificial bee colony artificial neural network']\n",
            " ['6' 'biochemistry'\n",
            "  ' brainmachine interfaces electrical stimulation of the brain transcranial magnetic stimulation trends psychiatry        '\n",
            "  'recent advances in deep brain stimulators and brain machine interfaces have greatly expanded the possibilities of neuroprosthetics and neuromodulation together with advances in neuroengineering nanotechnology molecular biology and material sciences it is now possible to address fundamental questions in neuroscience in new more powerful ways it is now possible to apply these new technologies in ways that range from augmenting and restoring function to neuromodulation modalities that treat neuropsychiatric disorders recent developments in neuromodulation methods offer significant advantages and potential clinical benefits for a variety of disorders here we describe the current state of the art in neuromodulation methods and some advances in brain machine interfaces describing the advantages and limitations of the clinical applications of each method the future applications of these new methods and how they will shape the future of psychiatry and medicine along with safety and ethical implications are also discussed c 2017 elsevier inc all rights reserved']\n",
            " ['1' 'ECE'\n",
            "  ' softwaredefined radio ais receiver vhf data exchange services satellite radio applications flexible rf front end        '\n",
            "  'this paper presents the concept of a softwaredefined radio with a flexible rf front end the design and architecture of this system as well as possible application examples will be explained one specific scenario is the operation in maritime frequency bands a wellknown service is the automatic identification system ais which has been captured by the dlr mission aisat and will be chosen as a maritime application example the results of an embedded solution for ais on the sdr platform are presented in this paper since there is an increasing request for more performance on maritime radio bands services like ais will be enhanced by the international association of marine aids to navigation and lighthouse authorities iala the new vhf data exchange service vdes shall implement a dedicated satellite link this paper describes that the sdr with a flexible rf front end can be used as a technology demonstration platform for this upcoming data exchange service']\n",
            " ['3' 'MAE'\n",
            "  ' plumesthermals turbulence modelling turbulence simulation        '\n",
            "  'we develop a generalised unsteady plume theory and compare it with a new direct numerical simulation dns dataset for an ensemble of statistically unsteady turbulent plumes the theoretical framework described in this paper generalises previous models and exposes several fundamental aspects of the physics of unsteady plumes the framework allows one to understand how the structure of the governing integral equations depends on the assumptions one makes about the radial dependence of the longitudinal velocity turbulence and pressure consequently the illposed models identified by scase  hewitt j fluid mech vol 697 2012 pp 455480 are shown to be the result of a nonphysical assumption regarding the velocity profile the framework reveals that these illposed unsteady plume models are degenerate cases amongst a comparatively large set of wellposed models that can be derived from the generalised unsteady plume equations that we obtain drawing on the results of dns of a plume subjected to an instantaneous step change in its source buoyancy flux we use the framework in a diagnostic capacity to investigate the properties of the resulting travelling wave in general the governing integral equations are hyperbolic becoming parabolic in the limiting case of a tophat model and the travelling wave can be classified as lazy pure or forced according to the particular assumptions that are invoked to close the integral equations guided by observations from the dns data we use the framework in a prognostic capacity to develop a relatively simple accurate and wellposed model of unsteady plumes that is based on the assumption of a gaussian velocity profile an analytical solution is presented for a pure straightsided plume that is consistent with the key features observed from the dns']\n",
            " ['2' 'Psychology'\n",
            "  ' stomach of human fetus development endocrine cells immunohistochemistry        '\n",
            "  ' while ghrelin cells were the most numerous during the se since reports on endocrine cells and their kinetics in the corpus of the human stomach are limited the aim of this study was to examine the appearance localization density and the relationship among the endocrine cell types in the corpus of the human stomach during prenatal and early postnatal development we examined chromogranin a somatostatin ghrelin glucagon and serotonin expression by immunohistochemistry in 2 embryos 38 fetuses and 3 infants in the corpus of human stomach chromogranin a secreting endocrine cells were identified in the corpus at week 10 of gestation somatostatin cells were present from the 10th week ghrelin and serotonin cells from the 11th week and glucagon cells from the 12th week of gestation endocrine cells were present individually or clustered within the glandular base and body during the first trimester and were present separately within the basal and central parts of glands during the second and third trimesters somatostatin cells were the most common type of cells similar to 46  during the first trimestercond trimester similar to 34  and in infants similar to 28  the percentage of glucagon cells was significant only during the first trimester of pregnancy 55  and the percentage of serotonin cells was only significant just before birth 48  these results show for the first time that the largest number of endocrine cells are present in the corpus during the first trimester of prenatal development also these results suggest that secretory products of endocrine cells play a role in the regulation of homeostasis growth and differentiation and in human stomach function']]\n"
          ]
        }
      ],
      "source": [
        "print(tsvData[0:10])"
      ]
    },
    {
      "cell_type": "code",
      "execution_count": 8,
      "metadata": {
        "id": "WUvZlOibDN5_"
      },
      "outputs": [],
      "source": [
        "allLabels = tsvData[:,0]\n",
        "domains = tsvData[:,1]\n",
        "keywords = tsvData[:,2]\n",
        "abstracts = tsvData[:,3]"
      ]
    },
    {
      "cell_type": "code",
      "execution_count": 9,
      "metadata": {
        "id": "SE5jkqySDN6A",
        "colab": {
          "base_uri": "https://localhost:8080/"
        },
        "outputId": "d10e2f88-d6ed-482b-cb37-ceea5f2e3da5"
      },
      "outputs": [
        {
          "output_type": "stream",
          "name": "stdout",
          "text": [
            "Labels  ['CS' 'Civil' 'ECE' 'MAE' 'Medical' 'Psychology' 'biochemistry']\n",
            "Label counts  [ 6514  4237  5483  3297 14625  7142  5687]\n"
          ]
        }
      ],
      "source": [
        "labels = np.unique(domains, return_counts=True)[0]\n",
        "labelCounts=  np.unique(domains, return_counts=True)[1]\n",
        "\n",
        "print(\"Labels \", labels)\n",
        "print(\"Label counts \", labelCounts)"
      ]
    },
    {
      "cell_type": "code",
      "execution_count": 10,
      "metadata": {
        "id": "4wUHmcLtDN6A",
        "colab": {
          "base_uri": "https://localhost:8080/",
          "height": 653
        },
        "outputId": "2307dd45-2d9b-4859-ec6d-ef571047926c"
      },
      "outputs": [
        {
          "output_type": "display_data",
          "data": {
            "text/plain": [
              "<Figure size 1000x600 with 1 Axes>"
            ],
            "image/png": "[encoded data removed]"
          },
          "metadata": {}
        },
        {
          "output_type": "stream",
          "name": "stdout",
          "text": [
            "The domain CS has 6514 records in the dataset.\n",
            "The domain Civil has 4237 records in the dataset.\n",
            "The domain ECE has 5483 records in the dataset.\n",
            "The domain MAE has 3297 records in the dataset.\n",
            "The domain Medical has 14625 records in the dataset.\n",
            "The domain Psychology has 7142 records in the dataset.\n",
            "The domain biochemistry has 5687 records in the dataset.\n"
          ]
        }
      ],
      "source": [
        "# Visualize domain counts in dataset\n",
        "plt.figure(figsize=(10, 6))\n",
        "plt.title(\"Domain Counts (Dataset)\")\n",
        "plt.pie(labelCounts, labels=labels, autopct='%1.1f%%', startangle=140, colors=plt.cm.Paired(range(len(labels))))\n",
        "plt.axis('equal')\n",
        "plt.show()\n",
        "\n",
        "for i, domain in enumerate(labels):\n",
        "    print(\"The domain\", domain, \"has\", labelCounts[i], \"records in the dataset.\")"
      ]
    },
    {
      "cell_type": "code",
      "execution_count": 11,
      "metadata": {
        "id": "iy4b69DrDN6A",
        "colab": {
          "base_uri": "https://localhost:8080/"
        },
        "outputId": "bb2bea20-cbac-4bd5-af32-467dce680789"
      },
      "outputs": [
        {
          "output_type": "stream",
          "name": "stdout",
          "text": [
            "Number of abstracts:  46985\n",
            "Shape of abstracts:  (46985,)\n",
            "['obesity metabolic syndrome and type 2 diabetes t2d are related disorders with widespread deleterious effects throughout the body one important target of damage is the brain persons with metabolic disorders are at significantly increased risk for cognitive decline and the development of vascular dementia and alzheimers disease our review of available evidence from epidemiologic clinical and basic research suggests that neural dysfunction from t2drelated disease results from several underlying mechanisms including metabolic inflammatory vascular and oxidative changes the relationships between t2d and neural dysfunction are regulated by several modifiers we emphasize 2 such modifiers the genetic risk factor apolipoprotein e and an agerelated endocrine change low testosterone both factors are independent risk factors for alzheimers disease that may also cooperatively regulate pathologic interactions between t2d and dementia continued elucidation of the links between metabolic disorders and neural dysfunction promises to foster the development of effective therapeutic strategies'\n",
            " 'this article presents a design concept of a time gaincompensation tgc amplifier integrated circuit ic for ultrasonic echo signal processing the tgc chain contains preamplification attenuation filtering and comparison circuit blocks an onchip oscillator bias circuit and digital control core are also included the presented tgc ic concept blocks are designed and modeled using cadences ic design tools using a 250 nm cmos process the operational amplifier implemented in the tgc ic has a gain of 35 db with a 3 db bandwidth of 750 khz which corresponds to ultrasonic signal frequency range the second order active band pass filter is of a sallenkey topology with a 274 mhz center frequency and a filter quality factor of q  1018 a ring oscillator with external tuning capability is modeled at 448 khz and has a 009  frequency deviation the ultrasonic echo processing chain has a digital output where the length of the pulse corresponds to the received signal strength this makes the presented tgc ic concept suitable for both simple and complex ultrasonic medical industrial or research equipment']\n",
            "Number of keywords:  46985\n",
            "Shape of keywords:  (46985,)\n",
            "['obesity metabolic syndrome and type 2 diabetes t2d are related disorders with widespread deleterious effects throughout the body one important target of damage is the brain persons with metabolic disorders are at significantly increased risk for cognitive decline and the development of vascular dementia and alzheimers disease our review of available evidence from epidemiologic clinical and basic research suggests that neural dysfunction from t2drelated disease results from several underlying mechanisms including metabolic inflammatory vascular and oxidative changes the relationships between t2d and neural dysfunction are regulated by several modifiers we emphasize 2 such modifiers the genetic risk factor apolipoprotein e and an agerelated endocrine change low testosterone both factors are independent risk factors for alzheimers disease that may also cooperatively regulate pathologic interactions between t2d and dementia continued elucidation of the links between metabolic disorders and neural dysfunction promises to foster the development of effective therapeutic strategies'\n",
            " 'this article presents a design concept of a time gaincompensation tgc amplifier integrated circuit ic for ultrasonic echo signal processing the tgc chain contains preamplification attenuation filtering and comparison circuit blocks an onchip oscillator bias circuit and digital control core are also included the presented tgc ic concept blocks are designed and modeled using cadences ic design tools using a 250 nm cmos process the operational amplifier implemented in the tgc ic has a gain of 35 db with a 3 db bandwidth of 750 khz which corresponds to ultrasonic signal frequency range the second order active band pass filter is of a sallenkey topology with a 274 mhz center frequency and a filter quality factor of q  1018 a ring oscillator with external tuning capability is modeled at 448 khz and has a 009  frequency deviation the ultrasonic echo processing chain has a digital output where the length of the pulse corresponds to the received signal strength this makes the presented tgc ic concept suitable for both simple and complex ultrasonic medical industrial or research equipment']\n",
            "Number of domains:  46985\n",
            "Shape of domains:  (46985,)\n",
            "['Medical' 'ECE']\n",
            "Number of labels:  46985\n",
            "Shape of labels:  (46985,)\n",
            "['5' '1']\n",
            "['obesity metabolic syndrome and type 2 diabetes t2d are related disorders with widespread deleterious effects throughout the body one important target of damage is the brain persons with metabolic disorders are at significantly increased risk for cognitive decline and the development of vascular dementia and alzheimers disease our review of available evidence from epidemiologic clinical and basic research suggests that neural dysfunction from t2drelated disease results from several underlying mechanisms including metabolic inflammatory vascular and oxidative changes the relationships between t2d and neural dysfunction are regulated by several modifiers we emphasize 2 such modifiers the genetic risk factor apolipoprotein e and an agerelated endocrine change low testosterone both factors are independent risk factors for alzheimers disease that may also cooperatively regulate pathologic interactions between t2d and dementia continued elucidation of the links between metabolic disorders and neural dysfunction promises to foster the development of effective therapeutic strategies'\n",
            " 'this article presents a design concept of a time gaincompensation tgc amplifier integrated circuit ic for ultrasonic echo signal processing the tgc chain contains preamplification attenuation filtering and comparison circuit blocks an onchip oscillator bias circuit and digital control core are also included the presented tgc ic concept blocks are designed and modeled using cadences ic design tools using a 250 nm cmos process the operational amplifier implemented in the tgc ic has a gain of 35 db with a 3 db bandwidth of 750 khz which corresponds to ultrasonic signal frequency range the second order active band pass filter is of a sallenkey topology with a 274 mhz center frequency and a filter quality factor of q  1018 a ring oscillator with external tuning capability is modeled at 448 khz and has a 009  frequency deviation the ultrasonic echo processing chain has a digital output where the length of the pulse corresponds to the received signal strength this makes the presented tgc ic concept suitable for both simple and complex ultrasonic medical industrial or research equipment'\n",
            " 'background a key message in the world health organization report on dementia 2012 emphasizes this disease as a top priority in public health and the need to improve professional attitudes to patients with dementia while acknowledging that the workforce in dementia care is becoming increasingly diverse culturally aims to trace whether there are substantial gaps between formal caretakers from different cultural groups israeli born jews sabras israeli arabs arabs and migrants from russia russians regarding their stances on the human dignity and autonomy of patients with dementia as well as understand the meaning of these gaps design  method quantitative analysis utilizing questionnaires that were filledout by approximately 200 caretakers from the different cultural groups working in a nursing home or a hospital results in nursing homes substantial differences were found in the attitudes to human dignity and autonomy of patients with dementia between russian and arab as well as sabra caretakers in the hospital there was no influence for the ethnoculture variable on dignity or autonomy conclusion contrary to past research in nursing homes significant differences were found between certain ethnocultural groups arabs and russians regarding their stance towards the dignity of patients with dementia arab caretakers hold a conception of dignity and autonomy that resonates strongly with personcentered care and outweighs institutional settings as well as may be related to the fostering of virtues c 2016 elsevier ireland ltd all rights reserved'\n",
            " 'we herein report a 31yearold japanese woman with evolving hypopituitarism due to pituitary stalk transection syndrome she had a history of short stature treated with growth hormone gh in childhood and had hypothyroidism and primary amenorrhea at 20 years old levothyroxine replacement and recombinant follicle stimulating hormonehuman chorionic gonadotropin fshhcg therapy for ovulation induction were started gh replacement therapy ghrt was resumed when she was 26 years old she developed mild adrenocortical insufficiency at 31 years old she succeeded in becoming pregnant and delivered twice ghrt was partially continued during pregnancy and stopped at the end of the second trimester without any complications'\n",
            " 'based on fredricksons broadenandbuild theory of positive emotion we explored the role of school affect ie positive affect in school and negative affect in school in connecting gratitude prosocial behavior and school satisfaction among a sample of 324 176 males elementary school students in grades 4 to 6 by using structural equation modeling the participants completed a packet of questionnaires including the gratitude questionnaire gq6 the elementary school students subjective wellbeing in school scale essswbss and the primary school upper grade students prosocial behaviors questionnaire psugspbq the results showed that elementary school students 1 positive affect in school and negative affect in school significantly related to school satisfaction 2 prosocial behavior fully mediated the relation between gratitude and school satisfaction 3 gratitude related to school satisfaction indirectly through positive affect in school and negative affect in school as hypothesized the effect was stronger for positive affect in school limitations and practical applications of the study were discussed'\n",
            " 'solar photocatalytic degradation indoor formaldehyde is an advanced technology due to its durability stability friendly cost and zero energy input this article proposes a combined system of photocatalytic oxidation and trombe wall pcotw which can simultaneously realize the space heating and removal of indoor contaminants ceramic fiber papertio2 film was prepared by the method of dipping depending on the complicated working conditions of the pcotw system the effects of multiple factors including formaldehyde concentration humidity temperature and light intensity on pco rate should be considered the conversion experiments under multiple factors were conducted to investigate the performance and kinetics of ceramic fiber papertio2 film for photocatalytic degradation of indoor formaldehyde the experimental factors included the typical indoor formaldehyde concentration 170900 ppb humidity 2090 rh typical solar uv light intensity 021 045 066 and 090 mwcm2 and temperatures 15 25 and 45 degrees c kinetic model simultaneously considering four explored factors was proposed results showed the proposed kinetic model fit the experimental data very well from the degree of fitting r2 of 09711 and rmsd of 724 based on this fourvariable kinetic model factors optimizing for the target of increasing photocatalytic reaction rate in cold and warm seasons was analyzed and relative effective optimized measures were proposed c 2017 elsevier ltd all rights reserved'\n",
            " 'aim the zinc finger antiviral protein zap is a mammalian host restriction factor and it could inhibit hbv rna synthesis in vitro experiments however the role of zap against hbv in vivo environment is unclear this study aimed to investigate whether zap could act against hbv transcription and replication in zap tansgenic mouse model methods hbvreplicationcompetent plasmid phbv41 was transferred to zap transgenic icr mouse via the tail vein using a hydrodynamic in vivo transfection procedure and icr mouse were used as controls hbv rna and hbv dna replication intermediates in the liver were respectively analyzed by northern blotting and southern blotting the expression of hepatitis b surface antigen hbsag and hepatitis b core antigen hbcag in the liver tissue was detected by immunohistochemical staining results as compared to icr control mouse the levels of 35 kb mrna in zap transgenic mouse were decreased by 84 while the level of hbv dna replication intermediates was decreased by 82 in addition the expression of hbsag and hbcag in zap transgenic mouse liver were both significantly less than that of icr control mouse conclusions our findings suggest that zap could inhibit hbv replication in vivo in mice which offers a new target for antihbv drug development'\n",
            " 'a novel configuration of current mirrors differentiatorsbased continuoustime currentmode low pass filter is proposed in this paper the filter only consists of current mirrors differentiators and capacitors the topology is really simple the sensitivity is very low so it suits full integration the computer simulation of transistor is carried out and the results show that the proposed circuits are effective'\n",
            " 'sialic acids existing as terminal sugars of glycoconjugates play important roles in various physiological and pathological processes such as cellcell adhesion immune defense tumor cell metastasis and inflammation sialyltransferases sts catalyze the transfer of sialic acid residues to nonreducing oligosaccharide chains of proteins and lipids using cytidine monophosphate nacetylneuraminic acid cmpneu5ac as the donor elevated sialyltransferase activity leads to overexpression of cell surface sialic acids and contributes to many disease developments such as cancer and inflammation therefore sialyltransferases are considered as potential drug targets for disease treatment inhibitors of sialyltransferases thus are of medicinal interest especially for the cancer therapy in addition sialyltransferase inhibitors are useful tool to study sialyltransferase function and related mechanisms this review highlights recent development of inhibitors of sialyltransferases reported since 2004 the inhibitors are summarized as eight groups 1 sialic acid analogs 2 cmpsialic acid analogs 3 cytidine analogs 4 oligosaccharide derivatives 5 aromatic compounds 6 flavonoids 7 lithocholic acid analogs and 8 others this article is part of a special issue entitled physiological enzymology and protein functions c 2015 elsevier bv all rights reserved'\n",
            " 'insulinlike growth factor igf1 functions as a neuroprotective hormone and may protect against cognitive impairment which may occur as a result of sevoflurane exposure the aim of the present study was to assess the effect of sevoflurane on the production of igf1 and investigate the molecular mechanisms underlying this regulation the brl rat hepatocyte cell line and adult mice were exposed to 1 or 2 minimal alveolar concentrations sevoflurane for 4 or 8 h igf1 and microrna98 levels were quantified using an enzymelinked immunosorbent assay western blotting and reverse transcriptionquantitative polymerase chain reaction analyses the importance of microrna98 in the regulation of igf1 by sevoflurane was investigated using a microrna98 inhibitor sevoflurane treatment reduced igf1 levels and simultaneously upregulated microrna98 expression levelsin rat hepatocytes and adult mice inhibition of microrna98 attenuated this effect therefore sevoflurane may reduce the synthesis of igf1 by upregulating microrna98 expression']\n",
            "[' alzheimers disease betaamyloid apolipoprotein e diabetes inflammation obesity testosterone type 2 diabetes interactions        '\n",
            " ' cmos tgc time gain compensation amplifier ring oscillator ultrasonic echo processing        '\n",
            " ' human dignity patients with dementia formal caretakers autonomy multicultural perceptions quantitative research        '\n",
            " ' pregnancy delivery hypopituitarism pituitary stalk transection syndrome hormone replacement        '\n",
            " ' gratitude prosocial behavior school affect school satisfaction mediation chain elementary school students        '\n",
            " ' kinetic model pcotw multifactor formaldehyde solar energy ceramic fiber papertio2        '\n",
            " ' zincfinger antiviral protein hepatitis b virus transgenic mouse transcription and replication        '\n",
            " ' current mirror currentmode differentiator signal flow graph biquad circuit        '\n",
            " ' sialic acids sialylation sialyltransferases polysialyltransferases cmpsialic acid fluorinated sialic acid        '\n",
            " ' sevoflurane insulinlike growth factor1 microrna98 liver aging        ']\n",
            "['Medical' 'ECE' 'Medical' 'Medical' 'Psychology' 'Civil' 'biochemistry'\n",
            " 'ECE' 'biochemistry' 'biochemistry']\n",
            "['5' '1' '5' '5' '2' '4' '6' '1' '6' '6']\n",
            "[5 1 5 5 2 4 6 1 6 6]\n"
          ]
        }
      ],
      "source": [
        "# Shuffle data\n",
        "dataShuffled = sklearn.utils.shuffle(tsvData)\n",
        "\n",
        "abstractsShuffled = dataShuffled[:,3]\n",
        "keywordsShuffled = dataShuffled[:,2]\n",
        "domainsShuffled = dataShuffled[:,1]\n",
        "allLabelsShuffled = dataShuffled[:,0]\n",
        "\n",
        "print(\"Number of abstracts: \", len(abstractsShuffled))\n",
        "print(\"Shape of abstracts: \", np.shape(abstractsShuffled))\n",
        "print(abstractsShuffled[0:2])\n",
        "\n",
        "print(\"Number of keywords: \", len(keywordsShuffled))\n",
        "print(\"Shape of keywords: \", np.shape(keywordsShuffled))\n",
        "print(abstractsShuffled[0:2])\n",
        "\n",
        "print(\"Number of domains: \", len(domainsShuffled))\n",
        "print(\"Shape of domains: \", np.shape(domainsShuffled))\n",
        "print(domainsShuffled[0:2])\n",
        "\n",
        "print(\"Number of labels: \", len(allLabelsShuffled))\n",
        "print(\"Shape of labels: \", np.shape(allLabelsShuffled))\n",
        "print(allLabelsShuffled[0:2])\n",
        "\n",
        "\n",
        "# Convert labels to integer\n",
        "allLabelsDigitShuffled = allLabelsShuffled.astype(int)\n",
        "\n",
        "print(abstractsShuffled[0:10])\n",
        "print(keywordsShuffled[0:10])\n",
        "print(domainsShuffled[0:10])\n",
        "print(allLabelsShuffled[0:10])\n",
        "print(allLabelsDigitShuffled[0:10])"
      ]
    },
    {
      "cell_type": "code",
      "execution_count": 12,
      "metadata": {
        "id": "oE8v68D2DN6A",
        "colab": {
          "base_uri": "https://localhost:8080/",
          "height": 301,
          "referenced_widgets": [
            "6f41c834ebba4fccb4d553d5559a1093",
            "14a6d233ec954434a20bd3a39b22b6b0",
            "0b673c6a1f23490f85373a499fac4534",
            "2898fbd5974a4c7b841d15195c5791fa",
            "4a08f32d5b884e0db2580a98b22e141f",
            "1c855fa1cd1849c290604050b3812d5c",
            "91f3e8c8e9854d95b198bc87a33234fc",
            "bbd91484e8be431bbebd6f0f9cbab7ab",
            "40395c3e55b9445e82d645d7818ef9c1",
            "79b1f0fbd86b400eac774da8ecd89ec3",
            "74820bd305204c49b2e4ecfc9417700a",
            "1953cedc658745f18a51c57a095c87af",
            "93513ec8f18c4e8c95ac2c532d35d17e",
            "8b94aa088a85491e86b98c09de7bf741",
            "3c545c2ac5cf4c9ebb970ede8cb73739",
            "95b37a9bef254813af9be4c4aff33bd7",
            "72cfff79ce80421a834bfcd2a617dc56",
            "680ee895c7184be3bfab281e88709b76",
            "7dc0681245cb4f538033fc449b96ddd3",
            "324c9d0365364bf5a3163a1083c2a059",
            "61509514d70a47dcb0a1c0225fb3f1ca",
            "acae5d26028944e59f5ec5a8c4e7396a"
          ]
        },
        "outputId": "0f43a070-21c1-4d15-d714-6205d91b9d49"
      },
      "outputs": [
        {
          "output_type": "stream",
          "name": "stdout",
          "text": [
            "(37588, 4)\n",
            "(9397, 4)\n",
            "(37588, 4)\n",
            "(9397, 4)\n",
            "(1880, 4)\n"
          ]
        },
        {
          "output_type": "stream",
          "name": "stderr",
          "text": [
            "/usr/local/lib/python3.10/dist-packages/huggingface_hub/utils/_token.py:89: UserWarning: \n",
            "The secret `HF_TOKEN` does not exist in your Colab secrets.\n",
            "To authenticate with the Hugging Face Hub, create a token in your settings tab (https://huggingface.co/settings/tokens), set it as secret in your Google Colab and restart your session.\n",
            "You will be able to reuse this secret in all of your notebooks.\n",
            "Please note that authentication is recommended but still optional to access public models or datasets.\n",
            "  warnings.warn(\n"
          ]
        },
        {
          "output_type": "display_data",
          "data": {
            "text/plain": [
              "config.json:   0%|          | 0.00/314 [00:00<?, ?B/s]"
            ],
            "application/vnd.jupyter.widget-view+json": {
              "version_major": 2,
              "version_minor": 0,
              "model_id": "6f41c834ebba4fccb4d553d5559a1093"
            }
          },
          "metadata": {}
        },
        {
          "output_type": "display_data",
          "data": {
            "text/plain": [
              "vocab.txt:   0%|          | 0.00/232k [00:00<?, ?B/s]"
            ],
            "application/vnd.jupyter.widget-view+json": {
              "version_major": 2,
              "version_minor": 0,
              "model_id": "1953cedc658745f18a51c57a095c87af"
            }
          },
          "metadata": {}
        }
      ],
      "source": [
        "# Split dataset into training and testing (80/20 split)\n",
        "train_data, test_data = train_test_split(dataShuffled, test_size=0.2, random_state=42)\n",
        "print(np.shape(train_data))\n",
        "print(np.shape(test_data))\n",
        "\n",
        "# Further split training data into training and validation (80/20 split of training set)\n",
        "_, val_data = train_test_split(test_data, test_size=0.2, random_state=42)\n",
        "print(np.shape(train_data))\n",
        "print(np.shape(test_data))\n",
        "print(np.shape(val_data))\n",
        "# Load BlueBERT tokenizer\n",
        "tokenizer = AutoTokenizer.from_pretrained(\"bionlp/bluebert_pubmed_uncased_L-24_H-1024_A-16\")"
      ]
    },
    {
      "cell_type": "code",
      "execution_count": 13,
      "metadata": {
        "id": "ONFXZGUUDN6A",
        "colab": {
          "base_uri": "https://localhost:8080/"
        },
        "outputId": "f1c9ca3e-97cd-4a23-c092-b62d0ab17f70"
      },
      "outputs": [
        {
          "output_type": "stream",
          "name": "stdout",
          "text": [
            "Number of abstracts:  37588\n",
            "Shape of abstracts:  (37588,)\n",
            "Number of keywords:  37588\n",
            "Shape of keywords:  (37588,)\n",
            "Number of domains:  37588\n",
            "Shape of domains:  (37588,)\n",
            "Number of labels:  37588\n",
            "Shape of labels:  (37588,)\n",
            "['to decrease the accumulation of reducing and nonreducing sugars in potato tubers stored at low temperature a multiple genesilencing vector pbiphlsar1ir possessing a part of starch phosphorylase l and starchassociated r1 genes was constructed and transformed into potato solanum tuberosum l cultivars agria and marfona polymerase chain reaction pcr and southern blotting indicated that the rnai construct was transformed successfully into the genome realtime reverse transcription pcr rtpcr analysis showed that the expression level of starch phosphorylase l and starchassociated r1 genes was reduced in transgenic microtubers in relation to the nontransgenic plants the accumulation of total and reducing sugars in transgenic microtubers was significantly decreased up to 58 in line am6 compared to the control repression of these genes decreased the phosphate content of starch and increased starch content in transgenic microtubers implying that silencing of starch phosphorylase l and starchassociated r1 genes reduced starch breakdown during cold storage conditions'\n",
            " 'gene replacement gr via homologous recombination is a powerful tool for genome editing recently direct gr is achieved successfully by coinjection of mrnas for engineered endonucleases such as zinc finger nucleases zfns and donor dna in developing embryos of diverse organisms here we report the procedures and efficiency for direct gr by using zfns in the fish medaka upon zygotic coinjection of mrnas encoding zfns that target the gonadspecifically expressed gsdf locus linear dna of gr vector pgrgsdf containing the red fluorescent protein rfp gene flanked by two homology arms of similar to 1kb each underwent gr via homologous recombination specifically 15 of 231 adults from manipulated embryos contained a gr allele in the caudal fin producing an efficiency of similar to 7  for somatic gr progeny test revealed that two out of nine fertile fish containing the gr allele in the fin were capable of transmitting the gr allele to similar to 6  of f1 generation at adulthood generating an efficiency of similar to 22  for germline transmission sequencing and southern blotting validated precise gr we show that the gr allele expressed a chimeric gsdfrfp rna between gsdf and cointegrated rfp specifically in the gonad demonstrating recapitulation of endogenous rna expression as predicted for the defined gr allele most importantly rfp expression coincides faithfully with the gonadspecific gsdf expression in developing embryos and adults these results demonstrate for the first time the feasibility and efficiency of zfnmediated precise gr directly in the developing embryo of medaka as a lower vertebrate model']\n",
            "[' cold sweetening potato rna interference solanum tuberosum l starchphosphorylase l starchassociated r1        '\n",
            " ' gene targeting gene replacement gsdf homologous recombination zinc finger nuclease        ']\n",
            "['biochemistry' 'biochemistry']\n",
            "['6' '6']\n"
          ]
        }
      ],
      "source": [
        "abstractsTrain = train_data[:,3]\n",
        "keywordsTrain = train_data[:,2]\n",
        "domainsTrain = train_data[:,1]\n",
        "allLabelsTrain = train_data[:,0]\n",
        "\n",
        "print(\"Number of abstracts: \",len(abstractsTrain))\n",
        "print(\"Shape of abstracts: \",np.shape(abstractsTrain))\n",
        "print(\"Number of keywords: \",len(keywordsTrain))\n",
        "print(\"Shape of keywords: \",np.shape(keywordsTrain))\n",
        "print(\"Number of domains: \",len(domainsTrain))\n",
        "print(\"Shape of domains: \",np.shape(domainsTrain))\n",
        "print(\"Number of labels: \",len(allLabelsTrain))\n",
        "print(\"Shape of labels: \",np.shape(allLabelsTrain))\n",
        "\n",
        "print(abstractsTrain[0:2])\n",
        "print(keywordsTrain[0:2])\n",
        "print(domainsTrain[0:2])\n",
        "print(allLabelsTrain[0:2])"
      ]
    },
    {
      "cell_type": "code",
      "execution_count": 14,
      "metadata": {
        "id": "RBJjrIkeDN6A",
        "colab": {
          "base_uri": "https://localhost:8080/",
          "height": 689
        },
        "outputId": "82028d24-56c2-4ba7-b9ef-edea95bbe1e7"
      },
      "outputs": [
        {
          "output_type": "stream",
          "name": "stdout",
          "text": [
            "Labels  ['CS' 'Civil' 'ECE' 'MAE' 'Medical' 'Psychology' 'biochemistry']\n",
            "Label counts  [ 5225  3397  4411  2647 11690  5679  4539]\n"
          ]
        },
        {
          "output_type": "display_data",
          "data": {
            "text/plain": [
              "<Figure size 1000x600 with 1 Axes>"
            ],
            "image/png": "[encoded data removed]"
          },
          "metadata": {}
        },
        {
          "output_type": "stream",
          "name": "stdout",
          "text": [
            "The domain CS has 5225 records in the training set.\n",
            "The domain Civil has 3397 records in the training set.\n",
            "The domain ECE has 4411 records in the training set.\n",
            "The domain MAE has 2647 records in the training set.\n",
            "The domain Medical has 11690 records in the training set.\n",
            "The domain Psychology has 5679 records in the training set.\n",
            "The domain biochemistry has 4539 records in the training set.\n"
          ]
        }
      ],
      "source": [
        "labels = np.unique(domainsTrain, return_counts=True)[0]\n",
        "labelCounts =  np.unique(domainsTrain, return_counts=True)[1]\n",
        "\n",
        "print(\"Labels \", labels)\n",
        "print(\"Label counts \", labelCounts)\n",
        "\n",
        "nAbstract = len(abstractsTrain)\n",
        "plt.figure(figsize=(10, 6))\n",
        "plt.title(\"Domain Counts (Training Set)\")\n",
        "plt.pie(labelCounts, labels=labels, autopct='%1.1f%%', startangle=140, colors=plt.cm.Paired(range(len(labels))))\n",
        "plt.axis('equal')  # Equal aspect ratio ensures that pie is drawn as a circle.\n",
        "plt.show()\n",
        "\n",
        "for i, domain in enumerate(labels):\n",
        "    print(\"The domain\", domain, \"has\", labelCounts[i], \"records in the training set.\")"
      ]
    },
    {
      "cell_type": "code",
      "execution_count": 15,
      "metadata": {
        "id": "o4urSnRFDN6B",
        "colab": {
          "base_uri": "https://localhost:8080/"
        },
        "outputId": "1777d9b4-76f6-48c4-9e78-017983b45c8f"
      },
      "outputs": [
        {
          "output_type": "stream",
          "name": "stdout",
          "text": [
            "Number of abstracts:  9397\n",
            "Shape of abstracts:  (9397,)\n",
            "Number of keywords:  9397\n",
            "Shape of keywords:  (9397,)\n",
            "Number of domains:  9397\n",
            "Shape of domains:  (9397,)\n",
            "Number of labels:  9397\n",
            "Shape of labels:  (9397,)\n",
            "['this paper presents a study on the tunisian electrical network with multilateral mixed hvac and hvdc interconnections first a generic average model of the hvdc line is developed the parameters of the hvdc link power modulation controller are determined and tuned using the graphical identification method of strecj the multilateral ties of the system are studied via different study cases single bilateral and trilateral interconnections in dc and ac configurations in particular a parallel acdc interconnection between tunisia and libya is simulated a special emphasis is given to an hvdc link to the italian transmission grid the results confirm the contribution of the hvdc transmission links in improving the tunisian network stability'\n",
            " 'the use of nonwoven geotextile drains in geosyntheticreinforced soil grs structures has been suggested to facilitate the dissipation of pore water pressure it has also been recognised that the nonwoven geotextile may retard water penetration due to the capillary barrier effect under unsaturated soil conditions and can function as a drainage material only once the soil immediately above it is nearly saturated in this study numerical models of unsaturated slopes with nonwoven geotextile drains subjected to rainfall infiltration were developed to investigate the unsaturated hydraulic behaviour and stability of slopes constructed with nonwoven geotextile drains in thin layers of highly permeable sand ie sand cushions the numerical models were first validated for their suitability for modelling water flow and the capillary barrier effect within unsaturated soils using the experimental results from a onedimensional soil column infiltration test and fullscale infiltration tests next a series of numerical simulations of unsaturated slopes with and without sand cushions and under different infiltration conditions were performed the numerical results indicated that the sand cushions reduced the development of the capillary barrier effect by acting as an intermediate material between the backfill and the nonwoven geotextile which bridged the gap between two materials with very different unsaturated hydraulic characteristics the reduction of the development of the capillary barrier effect led to the accumulation of pore water pressure above the nonwoven geotextile being effectively dissipated downward the sand cushions also acted as additional drain layers to facilitate the drainage of water within the slope system thus the inclusion of sand cushions enhanced the local slope stability for soils above the top geotextile layer based on the numerical results methods for determining the occurrence of the capillary barrier effect are identified from the literature and discussed']\n",
            "[' load frequency control hvdc link hvac link power system security automatic generation control        '\n",
            " ' geosynthetics unsaturated flow capillary barrier effect infiltration nonwoven geotextile sand cushion        ']\n",
            "['ECE' 'Civil']\n",
            "['1' '4']\n"
          ]
        }
      ],
      "source": [
        "abstractsTest = test_data[:,3]\n",
        "keywordsTest = test_data[:,2]\n",
        "domainsTest = test_data[:,1]\n",
        "allLabelsTest = test_data[:,0]\n",
        "\n",
        "print(\"Number of abstracts: \",len(abstractsTest))\n",
        "print(\"Shape of abstracts: \",np.shape(abstractsTest))\n",
        "print(\"Number of keywords: \",len(keywordsTest))\n",
        "print(\"Shape of keywords: \",np.shape(keywordsTest))\n",
        "print(\"Number of domains: \",len(domainsTest))\n",
        "print(\"Shape of domains: \",np.shape(domainsTest))\n",
        "print(\"Number of labels: \",len(allLabelsTest))\n",
        "print(\"Shape of labels: \",np.shape(allLabelsTest))\n",
        "\n",
        "# arr = np.array(domainsTest)\n",
        "# cleaned_domains = np.char.strip(arr)\n",
        "# print(\"Cleaned arr \", cleaned_domains)\n",
        "# domainsLabelsTest = cleaned_domains\n",
        "# print(\"Labels domains \", domainsLabelsTest)\n",
        "\n",
        "print(abstractsTest[0:2])\n",
        "print(keywordsTest[0:2])\n",
        "print(domainsTest[0:2])\n",
        "print(allLabelsTest[0:2])"
      ]
    },
    {
      "cell_type": "code",
      "execution_count": 16,
      "metadata": {
        "id": "wXDx7H28DN6B",
        "colab": {
          "base_uri": "https://localhost:8080/",
          "height": 690
        },
        "outputId": "bf2009c3-3e4f-4d22-a7f8-b710a67f5567"
      },
      "outputs": [
        {
          "output_type": "stream",
          "name": "stdout",
          "text": [
            "Labels  ['CS' 'Civil' 'ECE' 'MAE' 'Medical' 'Psychology' 'biochemistry']\n",
            "Label counts  [1289  840 1072  650 2935 1463 1148]\n"
          ]
        },
        {
          "output_type": "display_data",
          "data": {
            "text/plain": [
              "<Figure size 1000x600 with 1 Axes>"
            ],
            "image/png": "[encoded data removed]"
          },
          "metadata": {}
        },
        {
          "output_type": "stream",
          "name": "stdout",
          "text": [
            "The domain CS has 1289 records in the test set.\n",
            "The domain Civil has 840 records in the test set.\n",
            "The domain ECE has 1072 records in the test set.\n",
            "The domain MAE has 650 records in the test set.\n",
            "The domain Medical has 2935 records in the test set.\n",
            "The domain Psychology has 1463 records in the test set.\n",
            "The domain biochemistry has 1148 records in the test set.\n"
          ]
        }
      ],
      "source": [
        "labels = np.unique(domainsTest, return_counts=True)[0]\n",
        "labelCounts =  np.unique(domainsTest, return_counts=True)[1]\n",
        "\n",
        "print(\"Labels \", labels)\n",
        "print(\"Label counts \", labelCounts)\n",
        "\n",
        "nAbstract = len(abstractsTest)\n",
        "plt.figure(figsize=(10, 6))\n",
        "plt.title(\"Domain Counts (Test Set)\")\n",
        "plt.pie(labelCounts, labels=labels, autopct='%1.1f%%', startangle=140, colors=plt.cm.Paired(range(len(labels))))\n",
        "plt.axis('equal')  # Equal aspect ratio ensures that pie is drawn as a circle.\n",
        "plt.show()\n",
        "\n",
        "for i, domain in enumerate(labels):\n",
        "    print(\"The domain\", domain, \"has\", labelCounts[i], \"records in the test set.\")"
      ]
    },
    {
      "cell_type": "code",
      "execution_count": 17,
      "metadata": {
        "id": "zkEyui06DN6B",
        "colab": {
          "base_uri": "https://localhost:8080/"
        },
        "outputId": "579b9d5c-3aaf-401b-9b5c-63dc5f15c7bd"
      },
      "outputs": [
        {
          "output_type": "stream",
          "name": "stdout",
          "text": [
            "Number of abstracts:  1880\n",
            "Shape of abstracts:  (1880,)\n",
            "Number of keywords:  1880\n",
            "Shape of keywords:  (1880,)\n",
            "Number of domains:  1880\n",
            "Shape of domains:  (1880,)\n",
            "Number of labels:  1880\n",
            "Shape of labels:  (1880,)\n",
            "['henochschonlein purpura hsp is a systemic vasculitis mediated by autologous immune complex animal models of hsp are scarce here we describe the characteristics of hsp rabbit model in the acute and recovery phase first we constructed the hsp rabbit models and then assessed immunologic indicators of models by enzymelinked immunosorbent assay and immunoturbidimetry histomorphological characteristics were analyzed by haematoxylineosin immunofluorescence and special staining in the acute stage 24 h after antigen challenge the model group rabbits featured skin ecchymosis and abnormal laboratory examination results three weeks following the allergic reaction purple spots improved markedly and edema and blood seeping decreased but obvious inflammation was present in the skin kidneys joints gastrointestinal lung and liver serological results of cd4 cdcd8 il2 il4 and tnfalpha iga igg tropi alb and t were still abnormal iga and c3 expressed in skin and kidney and eosinophils expressed in skin and lungs were increased the rabbit model can mimic human hsp lesions in symptoms pathology and immunology and may provide valuable insight into the pathogenesis of hsp and serve as a tool for future therapeutic development targeting hsp'\n",
            " 'in order to get the unbiased parameter estimation of transfer function from noisy input and output data this paper presents an auxiliary model based method the basic idea is to replace the unmeasurable outputs in the information vector of the system by auxiliary model outputs and to modify the recursive least squares parameter estimation by the errors between the system output and auxiliary model output the proposed method improves the precision of parameter estimates and has wide application in modelling and control engineering without strict mathematical assumption finally the advantages of the proposed approach are shown by simulation tests c 2014 elsevier inc all rights reserved']\n",
            "[' anaphylactoid purpura acute and recovery phase histopathology immunology rabbit model vasculitis        '\n",
            " ' parameter estimates errors in variables systems auxiliary model least squares        ']\n",
            "['biochemistry' 'ECE']\n",
            "['6' '1']\n"
          ]
        }
      ],
      "source": [
        "abstractsVal = val_data[:,3]\n",
        "keywordsVal = val_data[:,2]\n",
        "domainsVal = val_data[:,1]\n",
        "allLabelsVal = val_data[:,0]\n",
        "\n",
        "print(\"Number of abstracts: \",len(abstractsVal))\n",
        "print(\"Shape of abstracts: \",np.shape(abstractsVal))\n",
        "print(\"Number of keywords: \",len(keywordsVal))\n",
        "print(\"Shape of keywords: \",np.shape(keywordsVal))\n",
        "print(\"Number of domains: \",len(domainsVal))\n",
        "print(\"Shape of domains: \",np.shape(domainsVal))\n",
        "print(\"Number of labels: \",len(allLabelsVal))\n",
        "print(\"Shape of labels: \",np.shape(allLabelsVal))\n",
        "\n",
        "print(abstractsVal[0:2])\n",
        "print(keywordsVal[0:2])\n",
        "print(domainsVal[0:2])\n",
        "print(allLabelsVal[0:2])"
      ]
    },
    {
      "cell_type": "code",
      "execution_count": 18,
      "metadata": {
        "id": "1ax8-nZaDN6B",
        "colab": {
          "base_uri": "https://localhost:8080/",
          "height": 688
        },
        "outputId": "9da05243-ae03-4a66-f754-a1273661b0a7"
      },
      "outputs": [
        {
          "output_type": "stream",
          "name": "stdout",
          "text": [
            "Labels  ['CS' 'Civil' 'ECE' 'MAE' 'Medical' 'Psychology' 'biochemistry']\n",
            "Label counts  [244 187 226 141 587 289 206]\n"
          ]
        },
        {
          "output_type": "display_data",
          "data": {
            "text/plain": [
              "<Figure size 1000x600 with 1 Axes>"
            ],
            "image/png": "[encoded data removed]"
          },
          "metadata": {}
        },
        {
          "output_type": "stream",
          "name": "stdout",
          "text": [
            "The domain CS has 244 records in the vaidation set.\n",
            "The domain Civil has 187 records in the vaidation set.\n",
            "The domain ECE has 226 records in the vaidation set.\n",
            "The domain MAE has 141 records in the vaidation set.\n",
            "The domain Medical has 587 records in the vaidation set.\n",
            "The domain Psychology has 289 records in the vaidation set.\n",
            "The domain biochemistry has 206 records in the vaidation set.\n"
          ]
        }
      ],
      "source": [
        "labels = np.unique(domainsVal, return_counts=True)[0]\n",
        "labelCounts =  np.unique(domainsVal, return_counts=True)[1]\n",
        "\n",
        "print(\"Labels \", labels)\n",
        "print(\"Label counts \", labelCounts)\n",
        "\n",
        "nAbstract = len(abstractsVal)\n",
        "plt.figure(figsize=(10, 6))\n",
        "plt.title(\"Domain Counts (Validation Set)\")\n",
        "plt.pie(labelCounts, labels=labels, autopct='%1.1f%%', startangle=140, colors=plt.cm.Paired(range(len(labels))))\n",
        "plt.axis('equal')  # Equal aspect ratio ensures that pie is drawn as a circle.\n",
        "plt.show()\n",
        "\n",
        "for i, domain in enumerate(labels):\n",
        "    print(\"The domain\", domain, \"has\", labelCounts[i], \"records in the vaidation set.\")"
      ]
    },
    {
      "cell_type": "code",
      "execution_count": 19,
      "metadata": {
        "id": "sxbOFbMrDN6C"
      },
      "outputs": [],
      "source": [
        "# Function to tokenize and encode the dataset\n",
        "def encode_data(data, tokenizer, max_length=128):\n",
        "    # print(len(data[:,2]))\n",
        "    inputs = tokenizer(\n",
        "        data[:,3].tolist(), # abstracts 3\n",
        "        max_length=max_length,\n",
        "        padding='max_length',\n",
        "        truncation=True,\n",
        "        return_tensors=\"pt\"\n",
        "    )\n",
        "    # print(len(dataShuffled[:, 0]))\n",
        "    labels = torch.tensor(data[:, 0].astype(int))\n",
        "    print(\"Label length \", len(labels))\n",
        "    return TensorDataset(inputs['input_ids'], inputs['attention_mask'], labels)"
      ]
    },
    {
      "cell_type": "code",
      "execution_count": 20,
      "metadata": {
        "id": "Y8_HDuDUDN6C",
        "colab": {
          "base_uri": "https://localhost:8080/"
        },
        "outputId": "ee329374-efe5-424e-e1fd-609f40564a79"
      },
      "outputs": [
        {
          "output_type": "stream",
          "name": "stdout",
          "text": [
            "(37588, 4)\n",
            "(9397, 4)\n",
            "(1880, 4)\n"
          ]
        }
      ],
      "source": [
        "print(np.shape(train_data))\n",
        "print(np.shape(test_data))\n",
        "print(np.shape(val_data))\n"
      ]
    },
    {
      "cell_type": "code",
      "execution_count": 21,
      "metadata": {
        "id": "c6avATPgDN6C",
        "colab": {
          "base_uri": "https://localhost:8080/"
        },
        "outputId": "7027bb9b-e71e-4418-8b46-dda0c9fc0ea1"
      },
      "outputs": [
        {
          "output_type": "stream",
          "name": "stdout",
          "text": [
            "Label length  37588\n",
            "Label length  1880\n",
            "Label length  9397\n"
          ]
        }
      ],
      "source": [
        "# Encode training, validation, and testing data\n",
        "train_dataset = encode_data(train_data, tokenizer)\n",
        "val_dataset = encode_data(val_data, tokenizer)\n",
        "test_dataset = encode_data(test_data, tokenizer)\n",
        "\n",
        "\n",
        "\n",
        "# Data loaders\n",
        "train_dataloader = DataLoader(train_dataset, sampler=RandomSampler(train_dataset), batch_size=32)\n",
        "val_dataloader = DataLoader(val_dataset, sampler=SequentialSampler(val_dataset), batch_size=32)\n",
        "test_dataloader = DataLoader(test_dataset, sampler=SequentialSampler(test_dataset), batch_size=32)"
      ]
    },
    {
      "cell_type": "code",
      "execution_count": 22,
      "metadata": {
        "id": "ybVLIN-JDN6C",
        "colab": {
          "base_uri": "https://localhost:8080/",
          "height": 940,
          "referenced_widgets": [
            "73b9d6cbb99347ef967b0a77fae5afc1",
            "1c9b2f2441ab4f9c9ce74e2eacde28f0",
            "448368910e50405f81aef1c1b8e5e2f3",
            "c3bf8f965feb4405a795a196e5bb7270",
            "72ce59c880e24a838cdbdaa0aeaaabf0",
            "3dbc2a4de61f408da641dbc263d0184a",
            "3fadce7784574b5592dfec9153ce3db2",
            "df94ccaa64f64121a5ab8f2b4b5b68d4",
            "844251c5ea364c11a73b102269ed341f",
            "cde19547bca7433988ef6c711a563113",
            "492d85adae5c4d8bb2a6833b4a069acd"
          ]
        },
        "outputId": "926be036-6d09-4a28-ac7c-d4f1dfcca9d2"
      },
      "outputs": [
        {
          "output_type": "stream",
          "name": "stdout",
          "text": [
            "7\n"
          ]
        },
        {
          "output_type": "display_data",
          "data": {
            "text/plain": [
              "pytorch_model.bin:   0%|          | 0.00/1.35G [00:00<?, ?B/s]"
            ],
            "application/vnd.jupyter.widget-view+json": {
              "version_major": 2,
              "version_minor": 0,
              "model_id": "73b9d6cbb99347ef967b0a77fae5afc1"
            }
          },
          "metadata": {}
        },
        {
          "output_type": "stream",
          "name": "stderr",
          "text": [
            "Some weights of BertForSequenceClassification were not initialized from the model checkpoint at bionlp/bluebert_pubmed_uncased_L-24_H-1024_A-16 and are newly initialized: ['classifier.bias', 'classifier.weight']\n",
            "You should probably TRAIN this model on a down-stream task to be able to use it for predictions and inference.\n"
          ]
        },
        {
          "output_type": "execute_result",
          "data": {
            "text/plain": [
              "BertForSequenceClassification(\n",
              "  (bert): BertModel(\n",
              "    (embeddings): BertEmbeddings(\n",
              "      (word_embeddings): Embedding(30522, 1024, padding_idx=0)\n",
              "      (position_embeddings): Embedding(512, 1024)\n",
              "      (token_type_embeddings): Embedding(2, 1024)\n",
              "      (LayerNorm): LayerNorm((1024,), eps=1e-12, elementwise_affine=True)\n",
              "      (dropout): Dropout(p=0.1, inplace=False)\n",
              "    )\n",
              "    (encoder): BertEncoder(\n",
              "      (layer): ModuleList(\n",
              "        (0-23): 24 x BertLayer(\n",
              "          (attention): BertAttention(\n",
              "            (self): BertSdpaSelfAttention(\n",
              "              (query): Linear(in_features=1024, out_features=1024, bias=True)\n",
              "              (key): Linear(in_features=1024, out_features=1024, bias=True)\n",
              "              (value): Linear(in_features=1024, out_features=1024, bias=True)\n",
              "              (dropout): Dropout(p=0.1, inplace=False)\n",
              "            )\n",
              "            (output): BertSelfOutput(\n",
              "              (dense): Linear(in_features=1024, out_features=1024, bias=True)\n",
              "              (LayerNorm): LayerNorm((1024,), eps=1e-12, elementwise_affine=True)\n",
              "              (dropout): Dropout(p=0.1, inplace=False)\n",
              "            )\n",
              "          )\n",
              "          (intermediate): BertIntermediate(\n",
              "            (dense): Linear(in_features=1024, out_features=4096, bias=True)\n",
              "            (intermediate_act_fn): GELUActivation()\n",
              "          )\n",
              "          (output): BertOutput(\n",
              "            (dense): Linear(in_features=4096, out_features=1024, bias=True)\n",
              "            (LayerNorm): LayerNorm((1024,), eps=1e-12, elementwise_affine=True)\n",
              "            (dropout): Dropout(p=0.1, inplace=False)\n",
              "          )\n",
              "        )\n",
              "      )\n",
              "    )\n",
              "    (pooler): BertPooler(\n",
              "      (dense): Linear(in_features=1024, out_features=1024, bias=True)\n",
              "      (activation): Tanh()\n",
              "    )\n",
              "  )\n",
              "  (dropout): Dropout(p=0.1, inplace=False)\n",
              "  (classifier): Linear(in_features=1024, out_features=7, bias=True)\n",
              ")"
            ]
          },
          "metadata": {},
          "execution_count": 22
        }
      ],
      "source": [
        "# Load BlueBERT model\n",
        "print(len(np.unique(train_data[:,0])))\n",
        "model = AutoModelForSequenceClassification.from_pretrained(\"bionlp/bluebert_pubmed_uncased_L-24_H-1024_A-16\", num_labels=len(np.unique(train_data[:,0])))\n",
        "device = torch.device(\"cuda\" if torch.cuda.is_available() else \"cpu\")\n",
        "model.to(device)"
      ]
    },
    {
      "cell_type": "code",
      "execution_count": 23,
      "metadata": {
        "id": "ps1DInjXDN6C",
        "colab": {
          "base_uri": "https://localhost:8080/"
        },
        "outputId": "cd9a26ee-7a55-46b6-f8ca-c14402bf24f9"
      },
      "outputs": [
        {
          "output_type": "execute_result",
          "data": {
            "text/plain": [
              "BertConfig {\n",
              "  \"_name_or_path\": \"bionlp/bluebert_pubmed_uncased_L-24_H-1024_A-16\",\n",
              "  \"attention_probs_dropout_prob\": 0.1,\n",
              "  \"classifier_dropout\": null,\n",
              "  \"hidden_act\": \"gelu\",\n",
              "  \"hidden_dropout_prob\": 0.1,\n",
              "  \"hidden_size\": 1024,\n",
              "  \"id2label\": {\n",
              "    \"0\": \"LABEL_0\",\n",
              "    \"1\": \"LABEL_1\",\n",
              "    \"2\": \"LABEL_2\",\n",
              "    \"3\": \"LABEL_3\",\n",
              "    \"4\": \"LABEL_4\",\n",
              "    \"5\": \"LABEL_5\",\n",
              "    \"6\": \"LABEL_6\"\n",
              "  },\n",
              "  \"initializer_range\": 0.02,\n",
              "  \"intermediate_size\": 4096,\n",
              "  \"label2id\": {\n",
              "    \"LABEL_0\": 0,\n",
              "    \"LABEL_1\": 1,\n",
              "    \"LABEL_2\": 2,\n",
              "    \"LABEL_3\": 3,\n",
              "    \"LABEL_4\": 4,\n",
              "    \"LABEL_5\": 5,\n",
              "    \"LABEL_6\": 6\n",
              "  },\n",
              "  \"layer_norm_eps\": 1e-12,\n",
              "  \"max_position_embeddings\": 512,\n",
              "  \"model_type\": \"bert\",\n",
              "  \"num_attention_heads\": 16,\n",
              "  \"num_hidden_layers\": 24,\n",
              "  \"pad_token_id\": 0,\n",
              "  \"position_embedding_type\": \"absolute\",\n",
              "  \"transformers_version\": \"4.42.4\",\n",
              "  \"type_vocab_size\": 2,\n",
              "  \"use_cache\": true,\n",
              "  \"vocab_size\": 30522\n",
              "}"
            ]
          },
          "metadata": {},
          "execution_count": 23
        }
      ],
      "source": [
        "model.config"
      ]
    },
    {
      "cell_type": "code",
      "execution_count": 24,
      "metadata": {
        "id": "qmjlyLnkDN6C",
        "colab": {
          "base_uri": "https://localhost:8080/"
        },
        "outputId": "0fa61b3f-f03d-4974-ddd8-3b01b150cb9c"
      },
      "outputs": [
        {
          "output_type": "stream",
          "name": "stderr",
          "text": [
            "/usr/local/lib/python3.10/dist-packages/transformers/optimization.py:591: FutureWarning: This implementation of AdamW is deprecated and will be removed in a future version. Use the PyTorch implementation torch.optim.AdamW instead, or set `no_deprecation_warning=True` to disable this warning\n",
            "  warnings.warn(\n"
          ]
        }
      ],
      "source": [
        "# Optimizer and learning rate scheduler\n",
        "optimizer = AdamW(model.parameters(), lr=2e-5, eps=1e-8)\n",
        "total_steps = len(train_dataloader) * 20\n",
        "num_warmup_steps = 1e-4\n",
        "scheduler = get_linear_schedule_with_warmup(optimizer, num_warmup_steps=num_warmup_steps, num_training_steps=total_steps)"
      ]
    },
    {
      "cell_type": "code",
      "execution_count": 25,
      "metadata": {
        "id": "xj4AnpxJDN6C"
      },
      "outputs": [],
      "source": [
        "def calculate_metrics(valType, predictions, true_labels):\n",
        "    # Confusion matrix\n",
        "    if(valType == 'test'):\n",
        "        cm = confusion_matrix(true_labels, predictions)\n",
        "        print(\"Confusion Matrix:\\n\", cm)\n",
        "\n",
        "        # Classification report (includes precision, recall, F1 score)\n",
        "        report = classification_report(true_labels, predictions, target_names=[str(i) for i in range(len(np.unique(true_labels)))])\n",
        "        print(\"\\nClassification Report:\\n\", report)\n",
        "\n",
        "        # Calculate different types of F1 scores, precision, and recall\n",
        "        f1_macro = f1_score(true_labels, predictions, average='macro')\n",
        "        f1_micro = f1_score(true_labels, predictions, average='micro')\n",
        "        f1_weighted = f1_score(true_labels, predictions, average='weighted')\n",
        "\n",
        "        precision_macro = precision_score(true_labels, predictions, average='macro')\n",
        "        precision_micro = precision_score(true_labels, predictions, average='micro')\n",
        "        precision_weighted = precision_score(true_labels, predictions, average='weighted')\n",
        "\n",
        "        recall_macro = recall_score(true_labels, predictions, average='macro')\n",
        "        recall_micro = recall_score(true_labels, predictions, average='micro')\n",
        "        recall_weighted = recall_score(true_labels, predictions, average='weighted')\n",
        "\n",
        "        print(f\"Macro F1 Score: {f1_macro}\")\n",
        "        print(f\"Micro F1 Score: {f1_micro}\")\n",
        "        print(f\"Weighted F1 Score: {f1_weighted}\")\n",
        "\n",
        "        print(f\"Macro Precision: {precision_macro}\")\n",
        "        print(f\"Micro Precision: {precision_micro}\")\n",
        "        print(f\"Weighted Precision: {precision_weighted}\")\n",
        "\n",
        "        print(f\"Macro Recall: {recall_macro}\")\n",
        "        print(f\"Micro Recall: {recall_micro}\")\n",
        "        print(f\"Weighted Recall: {recall_weighted}\")\n",
        "\n",
        "    elif(valType == 'val'):\n",
        "        cm = confusion_matrix(true_labels, predictions)\n",
        "        f1_macro = f1_score(true_labels, predictions, average='macro')\n",
        "        f1_micro = f1_score(true_labels, predictions, average='micro')\n",
        "        f1_weighted = f1_score(true_labels, predictions, average='weighted')\n",
        "\n",
        "        precision_macro = precision_score(true_labels, predictions, average='macro')\n",
        "        precision_micro = precision_score(true_labels, predictions, average='micro')\n",
        "        precision_weighted = precision_score(true_labels, predictions, average='weighted')\n",
        "\n",
        "        recall_macro = recall_score(true_labels, predictions, average='macro')\n",
        "        recall_micro = recall_score(true_labels, predictions, average='micro')\n",
        "        recall_weighted = recall_score(true_labels, predictions, average='weighted')\n",
        "        # print('Val Micro F1:', f1_micro)\n",
        "        return f1_micro"
      ]
    },
    {
      "cell_type": "code",
      "execution_count": 26,
      "metadata": {
        "id": "05xzH0FEDN6C",
        "colab": {
          "base_uri": "https://localhost:8080/"
        },
        "outputId": "f501dd24-1f86-45c7-cda0-cb628c93e0ca"
      },
      "outputs": [
        {
          "metadata": {
            "tags": null
          },
          "name": "stderr",
          "output_type": "stream",
          "text": [
            "Epoch 1/20: 100%|██████████| 1175/1175 [41:32<00:00,  2.12s/batch]\n"
          ]
        },
        {
          "metadata": {
            "tags": null
          },
          "name": "stdout",
          "output_type": "stream",
          "text": [
            "Epoch 1/20\n",
            "  Train Loss: 0.6358496225831356\n",
            "  Val Micro F1: 0.8420212765957447\n",
            "  Time: 42m 11s\n"
          ]
        },
        {
          "metadata": {
            "tags": null
          },
          "name": "stderr",
          "output_type": "stream",
          "text": [
            "Epoch 2/20: 100%|██████████| 1175/1175 [41:35<00:00,  2.12s/batch]\n"
          ]
        },
        {
          "metadata": {
            "tags": null
          },
          "name": "stdout",
          "output_type": "stream",
          "text": [
            "Epoch 2/20\n",
            "  Train Loss: 0.38289694578723704\n",
            "  Val Micro F1: 0.8531914893617021\n",
            "  Time: 42m 14s\n"
          ]
        },
        {
          "metadata": {
            "tags": null
          },
          "name": "stderr",
          "output_type": "stream",
          "text": [
            "Epoch 3/20: 100%|██████████| 1175/1175 [41:35<00:00,  2.12s/batch]\n"
          ]
        },
        {
          "metadata": {
            "tags": null
          },
          "name": "stdout",
          "output_type": "stream",
          "text": [
            "Epoch 3/20\n",
            "  Train Loss: 0.26438083779938676\n",
            "  Val Micro F1: 0.8526595744680852\n",
            "  Time: 42m 14s\n"
          ]
        },
        {
          "metadata": {
            "tags": null
          },
          "name": "stderr",
          "output_type": "stream",
          "text": [
            "Epoch 4/20: 100%|██████████| 1175/1175 [41:34<00:00,  2.12s/batch]\n"
          ]
        },
        {
          "metadata": {
            "tags": null
          },
          "name": "stdout",
          "output_type": "stream",
          "text": [
            "Epoch 4/20\n",
            "  Train Loss: 0.17241332083227154\n",
            "  Val Micro F1: 0.8531914893617021\n",
            "  Time: 42m 13s\n"
          ]
        },
        {
          "metadata": {
            "tags": null
          },
          "name": "stderr",
          "output_type": "stream",
          "text": [
            "Epoch 5/20: 100%|██████████| 1175/1175 [41:33<00:00,  2.12s/batch]\n"
          ]
        },
        {
          "metadata": {
            "tags": null
          },
          "name": "stdout",
          "output_type": "stream",
          "text": [
            "Epoch 5/20\n",
            "  Train Loss: 0.10382518539710485\n",
            "  Val Micro F1: 0.8510638297872339\n",
            "  Time: 42m 13s\n"
          ]
        },
        {
          "metadata": {
            "tags": null
          },
          "name": "stderr",
          "output_type": "stream",
          "text": [
            "Epoch 6/20: 100%|██████████| 1175/1175 [41:36<00:00,  2.12s/batch]\n"
          ]
        },
        {
          "metadata": {
            "tags": null
          },
          "name": "stdout",
          "output_type": "stream",
          "text": [
            "Epoch 6/20\n",
            "  Train Loss: 0.06478568929827158\n",
            "  Val Micro F1: 0.8446808510638298\n",
            "  Time: 42m 15s\n"
          ]
        },
        {
          "metadata": {
            "tags": null
          },
          "name": "stderr",
          "output_type": "stream",
          "text": [
            "Epoch 7/20: 100%|██████████| 1175/1175 [41:35<00:00,  2.12s/batch]\n"
          ]
        },
        {
          "metadata": {
            "tags": null
          },
          "name": "stdout",
          "output_type": "stream",
          "text": [
            "Epoch 7/20\n",
            "  Train Loss: 0.04535617135035399\n",
            "  Val Micro F1: 0.8441489361702128\n",
            "  Time: 42m 14s\n"
          ]
        },
        {
          "metadata": {
            "tags": null
          },
          "name": "stderr",
          "output_type": "stream",
          "text": [
            "Epoch 8/20: 100%|██████████| 1175/1175 [41:34<00:00,  2.12s/batch]\n"
          ]
        },
        {
          "metadata": {
            "tags": null
          },
          "name": "stdout",
          "output_type": "stream",
          "text": [
            "Epoch 8/20\n",
            "  Train Loss: 0.030623597950269615\n",
            "  Val Micro F1: 0.8473404255319148\n",
            "  Time: 42m 13s\n"
          ]
        },
        {
          "metadata": {
            "tags": null
          },
          "name": "stderr",
          "output_type": "stream",
          "text": [
            "Epoch 9/20: 100%|██████████| 1175/1175 [41:34<00:00,  2.12s/batch]\n"
          ]
        },
        {
          "metadata": {
            "tags": null
          },
          "name": "stdout",
          "output_type": "stream",
          "text": [
            "Epoch 9/20\n",
            "  Train Loss: 0.022224717138900466\n",
            "  Val Micro F1: 0.8457446808510638\n",
            "  Time: 42m 13s\n"
          ]
        },
        {
          "metadata": {
            "tags": null
          },
          "name": "stderr",
          "output_type": "stream",
          "text": [
            "Epoch 10/20: 100%|██████████| 1175/1175 [41:34<00:00,  2.12s/batch]\n"
          ]
        },
        {
          "metadata": {
            "tags": null
          },
          "name": "stdout",
          "output_type": "stream",
          "text": [
            "Epoch 10/20\n",
            "  Train Loss: 0.01907502558850807\n",
            "  Val Micro F1: 0.850531914893617\n",
            "  Time: 42m 13s\n"
          ]
        },
        {
          "output_type": "stream",
          "name": "stderr",
          "text": [
            "Epoch 11/20: 100%|██████████| 1175/1175 [41:34<00:00,  2.12s/batch]\n"
          ]
        },
        {
          "output_type": "stream",
          "name": "stdout",
          "text": [
            "Epoch 11/20\n",
            "  Train Loss: 0.018182431620595532\n",
            "  Val Micro F1: 0.8382978723404255\n",
            "  Time: 42m 13s\n"
          ]
        },
        {
          "output_type": "stream",
          "name": "stderr",
          "text": [
            "Epoch 12/20: 100%|██████████| 1175/1175 [41:34<00:00,  2.12s/batch]\n"
          ]
        },
        {
          "output_type": "stream",
          "name": "stdout",
          "text": [
            "Epoch 12/20\n",
            "  Train Loss: 0.016024278071654796\n",
            "  Val Micro F1: 0.8531914893617021\n",
            "  Time: 42m 13s\n"
          ]
        },
        {
          "output_type": "stream",
          "name": "stderr",
          "text": [
            "Epoch 13/20: 100%|██████████| 1175/1175 [41:35<00:00,  2.12s/batch]\n"
          ]
        },
        {
          "output_type": "stream",
          "name": "stdout",
          "text": [
            "Epoch 13/20\n",
            "  Train Loss: 0.008884179445835508\n",
            "  Val Micro F1: 0.8436170212765958\n",
            "  Time: 42m 14s\n"
          ]
        },
        {
          "output_type": "stream",
          "name": "stderr",
          "text": [
            "Epoch 14/20: 100%|██████████| 1175/1175 [41:35<00:00,  2.12s/batch]\n"
          ]
        },
        {
          "output_type": "stream",
          "name": "stdout",
          "text": [
            "Epoch 14/20\n",
            "  Train Loss: 0.008205797846164794\n",
            "  Val Micro F1: 0.85\n",
            "  Time: 42m 15s\n"
          ]
        },
        {
          "output_type": "stream",
          "name": "stderr",
          "text": [
            "Epoch 15/20: 100%|██████████| 1175/1175 [41:35<00:00,  2.12s/batch]\n"
          ]
        },
        {
          "output_type": "stream",
          "name": "stdout",
          "text": [
            "Epoch 15/20\n",
            "  Train Loss: 0.005482387844404002\n",
            "  Val Micro F1: 0.8553191489361702\n",
            "  Time: 42m 14s\n"
          ]
        },
        {
          "output_type": "stream",
          "name": "stderr",
          "text": [
            "Epoch 16/20: 100%|██████████| 1175/1175 [41:35<00:00,  2.12s/batch]\n"
          ]
        },
        {
          "output_type": "stream",
          "name": "stdout",
          "text": [
            "Epoch 16/20\n",
            "  Train Loss: 0.006321992590916473\n",
            "  Val Micro F1: 0.8537234042553191\n",
            "  Time: 42m 14s\n"
          ]
        },
        {
          "output_type": "stream",
          "name": "stderr",
          "text": [
            "Epoch 17/20: 100%|██████████| 1175/1175 [41:35<00:00,  2.12s/batch]\n"
          ]
        },
        {
          "output_type": "stream",
          "name": "stdout",
          "text": [
            "Epoch 17/20\n",
            "  Train Loss: 0.0030954468570440013\n",
            "  Val Micro F1: 0.8531914893617021\n",
            "  Time: 42m 14s\n"
          ]
        },
        {
          "output_type": "stream",
          "name": "stderr",
          "text": [
            "Epoch 18/20: 100%|██████████| 1175/1175 [41:35<00:00,  2.12s/batch]\n"
          ]
        },
        {
          "output_type": "stream",
          "name": "stdout",
          "text": [
            "Epoch 18/20\n",
            "  Train Loss: 0.00239108144211833\n",
            "  Val Micro F1: 0.8579787234042553\n",
            "  Time: 42m 14s\n"
          ]
        },
        {
          "output_type": "stream",
          "name": "stderr",
          "text": [
            "Epoch 19/20: 100%|██████████| 1175/1175 [41:36<00:00,  2.12s/batch]\n"
          ]
        },
        {
          "output_type": "stream",
          "name": "stdout",
          "text": [
            "Epoch 19/20\n",
            "  Train Loss: 0.0015320941476579236\n",
            "  Val Micro F1: 0.8579787234042553\n",
            "  Time: 42m 15s\n"
          ]
        },
        {
          "output_type": "stream",
          "name": "stderr",
          "text": [
            "Epoch 20/20: 100%|██████████| 1175/1175 [41:36<00:00,  2.12s/batch]\n"
          ]
        },
        {
          "output_type": "stream",
          "name": "stdout",
          "text": [
            "Epoch 20/20\n",
            "  Train Loss: 0.0005890665230478415\n",
            "  Val Micro F1: 0.8585106382978723\n",
            "  Time: 42m 15s\n"
          ]
        }
      ],
      "source": [
        "epochs = 20\n",
        "for epoch in range(epochs):\n",
        "    model.train()\n",
        "    total_train_loss = 0\n",
        "    start_time = time.time()\n",
        "\n",
        "    # Training\n",
        "    for step, batch in enumerate(tqdm(train_dataloader, desc=f\"Epoch {epoch + 1}/{epochs}\", unit=\"batch\")):\n",
        "        batch = tuple(t.to(device) for t in batch)\n",
        "        input_ids, input_mask, labels = batch\n",
        "\n",
        "\n",
        "        model.zero_grad()\n",
        "        outputs = model(input_ids=input_ids, attention_mask=input_mask, labels=labels)\n",
        "        loss = outputs.loss\n",
        "        total_train_loss += loss.item()\n",
        "\n",
        "        loss.backward()\n",
        "        torch.nn.utils.clip_grad_norm_(model.parameters(), max_norm=1.0)\n",
        "        optimizer.step()\n",
        "        scheduler.step()\n",
        "\n",
        "    avg_train_loss = total_train_loss / len(train_dataloader)\n",
        "\n",
        "    # Validation\n",
        "    model.eval()\n",
        "    predictions = []\n",
        "    true_labels = []\n",
        "\n",
        "    for batch in val_dataloader:\n",
        "        batch = tuple(t.to(device) for t in batch)\n",
        "        input_ids, input_mask, labels = batch\n",
        "\n",
        "        with torch.no_grad():\n",
        "            outputs = model(input_ids=input_ids, attention_mask=input_mask)\n",
        "            logits = outputs.logits\n",
        "\n",
        "        logits = logits.detach().cpu().numpy()\n",
        "        label_ids = labels.to('cpu').numpy()\n",
        "\n",
        "        batch_predictions = np.argmax(logits, axis=1)\n",
        "        predictions.extend(batch_predictions)\n",
        "        true_labels.extend(label_ids)\n",
        "\n",
        "    val_micro_f1 = calculate_metrics('val', predictions, true_labels)\n",
        "    elapsed_time = time.time() - start_time\n",
        "\n",
        "    # Print epoch summary\n",
        "    print(f\"Epoch {epoch + 1}/{epochs}\")\n",
        "    print(f\"  Train Loss: {avg_train_loss}\")\n",
        "    print(f\"  Val Micro F1: {val_micro_f1}\")\n",
        "    print(f\"  Time: {elapsed_time // 60:.0f}m {elapsed_time % 60:.0f}s\")"
      ]
    },
    {
      "cell_type": "code",
      "execution_count": 27,
      "metadata": {
        "id": "YF1GCpcUDN6D",
        "colab": {
          "base_uri": "https://localhost:8080/"
        },
        "outputId": "36ded658-c05b-4f37-83ef-2b846ba3f577"
      },
      "outputs": [
        {
          "output_type": "stream",
          "name": "stdout",
          "text": [
            "Confusion Matrix:\n",
            " [[1113   35   15   31   25   31   39]\n",
            " [  39  964    9   23   28    6    3]\n",
            " [  10   10 1185    8   11  212   27]\n",
            " [  30   35    8  536   20   13    8]\n",
            " [  28   22    8   32  739    7    4]\n",
            " [  18    2  165    7    8 2578  157]\n",
            " [  16    6   11   10    7  163  935]]\n",
            "\n",
            "Classification Report:\n",
            "               precision    recall  f1-score   support\n",
            "\n",
            "           0       0.89      0.86      0.88      1289\n",
            "           1       0.90      0.90      0.90      1072\n",
            "           2       0.85      0.81      0.83      1463\n",
            "           3       0.83      0.82      0.83       650\n",
            "           4       0.88      0.88      0.88       840\n",
            "           5       0.86      0.88      0.87      2935\n",
            "           6       0.80      0.81      0.81      1148\n",
            "\n",
            "    accuracy                           0.86      9397\n",
            "   macro avg       0.86      0.85      0.85      9397\n",
            "weighted avg       0.86      0.86      0.86      9397\n",
            "\n",
            "Macro F1 Score: 0.8545110820041575\n",
            "Micro F1 Score: 0.8566563796956476\n",
            "Weighted F1 Score: 0.8566137506240452\n",
            "Macro Precision: 0.856406248843126\n",
            "Micro Precision: 0.8566563796956476\n",
            "Weighted Precision: 0.8568475228127923\n",
            "Macro Recall: 0.8528421510513755\n",
            "Micro Recall: 0.8566563796956476\n",
            "Weighted Recall: 0.8566563796956476\n"
          ]
        }
      ],
      "source": [
        "# Evaluation\n",
        "model.eval()\n",
        "predictions = []\n",
        "true_labels = []\n",
        "\n",
        "for batch in test_dataloader:\n",
        "    batch = tuple(t.to(device) for t in batch)\n",
        "    input_ids, input_mask, labels = batch\n",
        "\n",
        "    with torch.no_grad():\n",
        "        outputs = model(input_ids=input_ids, attention_mask=input_mask)\n",
        "        logits = outputs.logits\n",
        "\n",
        "    logits = logits.detach().cpu().numpy()\n",
        "    label_ids = labels.to('cpu').numpy()\n",
        "\n",
        "    batch_predictions = np.argmax(logits, axis=1)\n",
        "    predictions.extend(batch_predictions)\n",
        "    true_labels.extend(label_ids)\n",
        "\n",
        "# Calculate and print metrics\n",
        "calculate_metrics('test', predictions, true_labels)"
      ]
    },
    {
      "cell_type": "code",
      "execution_count": null,
      "metadata": {
        "id": "zBU4h6E7DN6D"
      },
      "outputs": [],
      "source": [
        "model.save_pretrained('/content/drive/MyDrive/WoS/BlueBERT_WoS_Abstracts_46985')"
      ]
    },
    {
      "cell_type": "code",
      "source": [
        "print('End of the runtime!')"
      ],
      "metadata": {
        "id": "gXML14r1fqZ9"
      },
      "execution_count": null,
      "outputs": []
    },
    {
      "cell_type": "code",
      "source": [
        "runtime.unassign()"
      ],
      "metadata": {
        "id": "a3ftL0Kkd3f0"
      },
      "execution_count": null,
      "outputs": []
    }
  ],
  "metadata": {
    "language_info": {
      "name": "python"
    },
    "colab": {
      "provenance": [],
      "machine_shape": "hm",
      "gpuType": "T4"
    },
    "kernelspec": {
      "name": "python3",
      "display_name": "Python 3"
    },
    "accelerator": "GPU",
    "widgets": {
      "application/vnd.jupyter.widget-state+json": {
        "6f41c834ebba4fccb4d553d5559a1093": {
          "model_module": "@jupyter-widgets/controls",
          "model_name": "HBoxModel",
          "model_module_version": "1.5.0",
          "state": {
            "_dom_classes": [],
            "_model_module": "@jupyter-widgets/controls",
            "_model_module_version": "1.5.0",
            "_model_name": "HBoxModel",
            "_view_count": null,
            "_view_module": "@jupyter-widgets/controls",
            "_view_module_version": "1.5.0",
            "_view_name": "HBoxView",
            "box_style": "",
            "children": [
              "IPY_MODEL_14a6d233ec954434a20bd3a39b22b6b0",
              "IPY_MODEL_0b673c6a1f23490f85373a499fac4534",
              "IPY_MODEL_2898fbd5974a4c7b841d15195c5791fa"
            ],
            "layout": "IPY_MODEL_4a08f32d5b884e0db2580a98b22e141f"
          }
        },
        "14a6d233ec954434a20bd3a39b22b6b0": {
          "model_module": "@jupyter-widgets/controls",
          "model_name": "HTMLModel",
          "model_module_version": "1.5.0",
          "state": {
            "_dom_classes": [],
            "_model_module": "@jupyter-widgets/controls",
            "_model_module_version": "1.5.0",
            "_model_name": "HTMLModel",
            "_view_count": null,
            "_view_module": "@jupyter-widgets/controls",
            "_view_module_version": "1.5.0",
            "_view_name": "HTMLView",
            "description": "",
            "description_tooltip": null,
            "layout": "IPY_MODEL_1c855fa1cd1849c290604050b3812d5c",
            "placeholder": "​",
            "style": "IPY_MODEL_91f3e8c8e9854d95b198bc87a33234fc",
            "value": "config.json: 100%"
          }
        },
        "0b673c6a1f23490f85373a499fac4534": {
          "model_module": "@jupyter-widgets/controls",
          "model_name": "FloatProgressModel",
          "model_module_version": "1.5.0",
          "state": {
            "_dom_classes": [],
            "_model_module": "@jupyter-widgets/controls",
            "_model_module_version": "1.5.0",
            "_model_name": "FloatProgressModel",
            "_view_count": null,
            "_view_module": "@jupyter-widgets/controls",
            "_view_module_version": "1.5.0",
            "_view_name": "ProgressView",
            "bar_style": "success",
            "description": "",
            "description_tooltip": null,
            "layout": "IPY_MODEL_bbd91484e8be431bbebd6f0f9cbab7ab",
            "max": 314,
            "min": 0,
            "orientation": "horizontal",
            "style": "IPY_MODEL_40395c3e55b9445e82d645d7818ef9c1",
            "value": 314
          }
        },
        "2898fbd5974a4c7b841d15195c5791fa": {
          "model_module": "@jupyter-widgets/controls",
          "model_name": "HTMLModel",
          "model_module_version": "1.5.0",
          "state": {
            "_dom_classes": [],
            "_model_module": "@jupyter-widgets/controls",
            "_model_module_version": "1.5.0",
            "_model_name": "HTMLModel",
            "_view_count": null,
            "_view_module": "@jupyter-widgets/controls",
            "_view_module_version": "1.5.0",
            "_view_name": "HTMLView",
            "description": "",
            "description_tooltip": null,
            "layout": "IPY_MODEL_79b1f0fbd86b400eac774da8ecd89ec3",
            "placeholder": "​",
            "style": "IPY_MODEL_74820bd305204c49b2e4ecfc9417700a",
            "value": " 314/314 [00:00&lt;00:00, 27.6kB/s]"
          }
        },
        "4a08f32d5b884e0db2580a98b22e141f": {
          "model_module": "@jupyter-widgets/base",
          "model_name": "LayoutModel",
          "model_module_version": "1.2.0",
          "state": {
            "_model_module": "@jupyter-widgets/base",
            "_model_module_version": "1.2.0",
            "_model_name": "LayoutModel",
            "_view_count": null,
            "_view_module": "@jupyter-widgets/base",
            "_view_module_version": "1.2.0",
            "_view_name": "LayoutView",
            "align_content": null,
            "align_items": null,
            "align_self": null,
            "border": null,
            "bottom": null,
            "display": null,
            "flex": null,
            "flex_flow": null,
            "grid_area": null,
            "grid_auto_columns": null,
            "grid_auto_flow": null,
            "grid_auto_rows": null,
            "grid_column": null,
            "grid_gap": null,
            "grid_row": null,
            "grid_template_areas": null,
            "grid_template_columns": null,
            "grid_template_rows": null,
            "height": null,
            "justify_content": null,
            "justify_items": null,
            "left": null,
            "margin": null,
            "max_height": null,
            "max_width": null,
            "min_height": null,
            "min_width": null,
            "object_fit": null,
            "object_position": null,
            "order": null,
            "overflow": null,
            "overflow_x": null,
            "overflow_y": null,
            "padding": null,
            "right": null,
            "top": null,
            "visibility": null,
            "width": null
          }
        },
        "1c855fa1cd1849c290604050b3812d5c": {
          "model_module": "@jupyter-widgets/base",
          "model_name": "LayoutModel",
          "model_module_version": "1.2.0",
          "state": {
            "_model_module": "@jupyter-widgets/base",
            "_model_module_version": "1.2.0",
            "_model_name": "LayoutModel",
            "_view_count": null,
            "_view_module": "@jupyter-widgets/base",
            "_view_module_version": "1.2.0",
            "_view_name": "LayoutView",
            "align_content": null,
            "align_items": null,
            "align_self": null,
            "border": null,
            "bottom": null,
            "display": null,
            "flex": null,
            "flex_flow": null,
            "grid_area": null,
            "grid_auto_columns": null,
            "grid_auto_flow": null,
            "grid_auto_rows": null,
            "grid_column": null,
            "grid_gap": null,
            "grid_row": null,
            "grid_template_areas": null,
            "grid_template_columns": null,
            "grid_template_rows": null,
            "height": null,
            "justify_content": null,
            "justify_items": null,
            "left": null,
            "margin": null,
            "max_height": null,
            "max_width": null,
            "min_height": null,
            "min_width": null,
            "object_fit": null,
            "object_position": null,
            "order": null,
            "overflow": null,
            "overflow_x": null,
            "overflow_y": null,
            "padding": null,
            "right": null,
            "top": null,
            "visibility": null,
            "width": null
          }
        },
        "91f3e8c8e9854d95b198bc87a33234fc": {
          "model_module": "@jupyter-widgets/controls",
          "model_name": "DescriptionStyleModel",
          "model_module_version": "1.5.0",
          "state": {
            "_model_module": "@jupyter-widgets/controls",
            "_model_module_version": "1.5.0",
            "_model_name": "DescriptionStyleModel",
            "_view_count": null,
            "_view_module": "@jupyter-widgets/base",
            "_view_module_version": "1.2.0",
            "_view_name": "StyleView",
            "description_width": ""
          }
        },
        "bbd91484e8be431bbebd6f0f9cbab7ab": {
          "model_module": "@jupyter-widgets/base",
          "model_name": "LayoutModel",
          "model_module_version": "1.2.0",
          "state": {
            "_model_module": "@jupyter-widgets/base",
            "_model_module_version": "1.2.0",
            "_model_name": "LayoutModel",
            "_view_count": null,
            "_view_module": "@jupyter-widgets/base",
            "_view_module_version": "1.2.0",
            "_view_name": "LayoutView",
            "align_content": null,
            "align_items": null,
            "align_self": null,
            "border": null,
            "bottom": null,
            "display": null,
            "flex": null,
            "flex_flow": null,
            "grid_area": null,
            "grid_auto_columns": null,
            "grid_auto_flow": null,
            "grid_auto_rows": null,
            "grid_column": null,
            "grid_gap": null,
            "grid_row": null,
            "grid_template_areas": null,
            "grid_template_columns": null,
            "grid_template_rows": null,
            "height": null,
            "justify_content": null,
            "justify_items": null,
            "left": null,
            "margin": null,
            "max_height": null,
            "max_width": null,
            "min_height": null,
            "min_width": null,
            "object_fit": null,
            "object_position": null,
            "order": null,
            "overflow": null,
            "overflow_x": null,
            "overflow_y": null,
            "padding": null,
            "right": null,
            "top": null,
            "visibility": null,
            "width": null
          }
        },
        "40395c3e55b9445e82d645d7818ef9c1": {
          "model_module": "@jupyter-widgets/controls",
          "model_name": "ProgressStyleModel",
          "model_module_version": "1.5.0",
          "state": {
            "_model_module": "@jupyter-widgets/controls",
            "_model_module_version": "1.5.0",
            "_model_name": "ProgressStyleModel",
            "_view_count": null,
            "_view_module": "@jupyter-widgets/base",
            "_view_module_version": "1.2.0",
            "_view_name": "StyleView",
            "bar_color": null,
            "description_width": ""
          }
        },
        "79b1f0fbd86b400eac774da8ecd89ec3": {
          "model_module": "@jupyter-widgets/base",
          "model_name": "LayoutModel",
          "model_module_version": "1.2.0",
          "state": {
            "_model_module": "@jupyter-widgets/base",
            "_model_module_version": "1.2.0",
            "_model_name": "LayoutModel",
            "_view_count": null,
            "_view_module": "@jupyter-widgets/base",
            "_view_module_version": "1.2.0",
            "_view_name": "LayoutView",
            "align_content": null,
            "align_items": null,
            "align_self": null,
            "border": null,
            "bottom": null,
            "display": null,
            "flex": null,
            "flex_flow": null,
            "grid_area": null,
            "grid_auto_columns": null,
            "grid_auto_flow": null,
            "grid_auto_rows": null,
            "grid_column": null,
            "grid_gap": null,
            "grid_row": null,
            "grid_template_areas": null,
            "grid_template_columns": null,
            "grid_template_rows": null,
            "height": null,
            "justify_content": null,
            "justify_items": null,
            "left": null,
            "margin": null,
            "max_height": null,
            "max_width": null,
            "min_height": null,
            "min_width": null,
            "object_fit": null,
            "object_position": null,
            "order": null,
            "overflow": null,
            "overflow_x": null,
            "overflow_y": null,
            "padding": null,
            "right": null,
            "top": null,
            "visibility": null,
            "width": null
          }
        },
        "74820bd305204c49b2e4ecfc9417700a": {
          "model_module": "@jupyter-widgets/controls",
          "model_name": "DescriptionStyleModel",
          "model_module_version": "1.5.0",
          "state": {
            "_model_module": "@jupyter-widgets/controls",
            "_model_module_version": "1.5.0",
            "_model_name": "DescriptionStyleModel",
            "_view_count": null,
            "_view_module": "@jupyter-widgets/base",
            "_view_module_version": "1.2.0",
            "_view_name": "StyleView",
            "description_width": ""
          }
        },
        "1953cedc658745f18a51c57a095c87af": {
          "model_module": "@jupyter-widgets/controls",
          "model_name": "HBoxModel",
          "model_module_version": "1.5.0",
          "state": {
            "_dom_classes": [],
            "_model_module": "@jupyter-widgets/controls",
            "_model_module_version": "1.5.0",
            "_model_name": "HBoxModel",
            "_view_count": null,
            "_view_module": "@jupyter-widgets/controls",
            "_view_module_version": "1.5.0",
            "_view_name": "HBoxView",
            "box_style": "",
            "children": [
              "IPY_MODEL_93513ec8f18c4e8c95ac2c532d35d17e",
              "IPY_MODEL_8b94aa088a85491e86b98c09de7bf741",
              "IPY_MODEL_3c545c2ac5cf4c9ebb970ede8cb73739"
            ],
            "layout": "IPY_MODEL_95b37a9bef254813af9be4c4aff33bd7"
          }
        },
        "93513ec8f18c4e8c95ac2c532d35d17e": {
          "model_module": "@jupyter-widgets/controls",
          "model_name": "HTMLModel",
          "model_module_version": "1.5.0",
          "state": {
            "_dom_classes": [],
            "_model_module": "@jupyter-widgets/controls",
            "_model_module_version": "1.5.0",
            "_model_name": "HTMLModel",
            "_view_count": null,
            "_view_module": "@jupyter-widgets/controls",
            "_view_module_version": "1.5.0",
            "_view_name": "HTMLView",
            "description": "",
            "description_tooltip": null,
            "layout": "IPY_MODEL_72cfff79ce80421a834bfcd2a617dc56",
            "placeholder": "​",
            "style": "IPY_MODEL_680ee895c7184be3bfab281e88709b76",
            "value": "vocab.txt: 100%"
          }
        },
        "8b94aa088a85491e86b98c09de7bf741": {
          "model_module": "@jupyter-widgets/controls",
          "model_name": "FloatProgressModel",
          "model_module_version": "1.5.0",
          "state": {
            "_dom_classes": [],
            "_model_module": "@jupyter-widgets/controls",
            "_model_module_version": "1.5.0",
            "_model_name": "FloatProgressModel",
            "_view_count": null,
            "_view_module": "@jupyter-widgets/controls",
            "_view_module_version": "1.5.0",
            "_view_name": "ProgressView",
            "bar_style": "success",
            "description": "",
            "description_tooltip": null,
            "layout": "IPY_MODEL_7dc0681245cb4f538033fc449b96ddd3",
            "max": 231508,
            "min": 0,
            "orientation": "horizontal",
            "style": "IPY_MODEL_324c9d0365364bf5a3163a1083c2a059",
            "value": 231508
          }
        },
        "3c545c2ac5cf4c9ebb970ede8cb73739": {
          "model_module": "@jupyter-widgets/controls",
          "model_name": "HTMLModel",
          "model_module_version": "1.5.0",
          "state": {
            "_dom_classes": [],
            "_model_module": "@jupyter-widgets/controls",
            "_model_module_version": "1.5.0",
            "_model_name": "HTMLModel",
            "_view_count": null,
            "_view_module": "@jupyter-widgets/controls",
            "_view_module_version": "1.5.0",
            "_view_name": "HTMLView",
            "description": "",
            "description_tooltip": null,
            "layout": "IPY_MODEL_61509514d70a47dcb0a1c0225fb3f1ca",
            "placeholder": "​",
            "style": "IPY_MODEL_acae5d26028944e59f5ec5a8c4e7396a",
            "value": " 232k/232k [00:00&lt;00:00, 1.42MB/s]"
          }
        },
        "95b37a9bef254813af9be4c4aff33bd7": {
          "model_module": "@jupyter-widgets/base",
          "model_name": "LayoutModel",
          "model_module_version": "1.2.0",
          "state": {
            "_model_module": "@jupyter-widgets/base",
            "_model_module_version": "1.2.0",
            "_model_name": "LayoutModel",
            "_view_count": null,
            "_view_module": "@jupyter-widgets/base",
            "_view_module_version": "1.2.0",
            "_view_name": "LayoutView",
            "align_content": null,
            "align_items": null,
            "align_self": null,
            "border": null,
            "bottom": null,
            "display": null,
            "flex": null,
            "flex_flow": null,
            "grid_area": null,
            "grid_auto_columns": null,
            "grid_auto_flow": null,
            "grid_auto_rows": null,
            "grid_column": null,
            "grid_gap": null,
            "grid_row": null,
            "grid_template_areas": null,
            "grid_template_columns": null,
            "grid_template_rows": null,
            "height": null,
            "justify_content": null,
            "justify_items": null,
            "left": null,
            "margin": null,
            "max_height": null,
            "max_width": null,
            "min_height": null,
            "min_width": null,
            "object_fit": null,
            "object_position": null,
            "order": null,
            "overflow": null,
            "overflow_x": null,
            "overflow_y": null,
            "padding": null,
            "right": null,
            "top": null,
            "visibility": null,
            "width": null
          }
        },
        "72cfff79ce80421a834bfcd2a617dc56": {
          "model_module": "@jupyter-widgets/base",
          "model_name": "LayoutModel",
          "model_module_version": "1.2.0",
          "state": {
            "_model_module": "@jupyter-widgets/base",
            "_model_module_version": "1.2.0",
            "_model_name": "LayoutModel",
            "_view_count": null,
            "_view_module": "@jupyter-widgets/base",
            "_view_module_version": "1.2.0",
            "_view_name": "LayoutView",
            "align_content": null,
            "align_items": null,
            "align_self": null,
            "border": null,
            "bottom": null,
            "display": null,
            "flex": null,
            "flex_flow": null,
            "grid_area": null,
            "grid_auto_columns": null,
            "grid_auto_flow": null,
            "grid_auto_rows": null,
            "grid_column": null,
            "grid_gap": null,
            "grid_row": null,
            "grid_template_areas": null,
            "grid_template_columns": null,
            "grid_template_rows": null,
            "height": null,
            "justify_content": null,
            "justify_items": null,
            "left": null,
            "margin": null,
            "max_height": null,
            "max_width": null,
            "min_height": null,
            "min_width": null,
            "object_fit": null,
            "object_position": null,
            "order": null,
            "overflow": null,
            "overflow_x": null,
            "overflow_y": null,
            "padding": null,
            "right": null,
            "top": null,
            "visibility": null,
            "width": null
          }
        },
        "680ee895c7184be3bfab281e88709b76": {
          "model_module": "@jupyter-widgets/controls",
          "model_name": "DescriptionStyleModel",
          "model_module_version": "1.5.0",
          "state": {
            "_model_module": "@jupyter-widgets/controls",
            "_model_module_version": "1.5.0",
            "_model_name": "DescriptionStyleModel",
            "_view_count": null,
            "_view_module": "@jupyter-widgets/base",
            "_view_module_version": "1.2.0",
            "_view_name": "StyleView",
            "description_width": ""
          }
        },
        "7dc0681245cb4f538033fc449b96ddd3": {
          "model_module": "@jupyter-widgets/base",
          "model_name": "LayoutModel",
          "model_module_version": "1.2.0",
          "state": {
            "_model_module": "@jupyter-widgets/base",
            "_model_module_version": "1.2.0",
            "_model_name": "LayoutModel",
            "_view_count": null,
            "_view_module": "@jupyter-widgets/base",
            "_view_module_version": "1.2.0",
            "_view_name": "LayoutView",
            "align_content": null,
            "align_items": null,
            "align_self": null,
            "border": null,
            "bottom": null,
            "display": null,
            "flex": null,
            "flex_flow": null,
            "grid_area": null,
            "grid_auto_columns": null,
            "grid_auto_flow": null,
            "grid_auto_rows": null,
            "grid_column": null,
            "grid_gap": null,
            "grid_row": null,
            "grid_template_areas": null,
            "grid_template_columns": null,
            "grid_template_rows": null,
            "height": null,
            "justify_content": null,
            "justify_items": null,
            "left": null,
            "margin": null,
            "max_height": null,
            "max_width": null,
            "min_height": null,
            "min_width": null,
            "object_fit": null,
            "object_position": null,
            "order": null,
            "overflow": null,
            "overflow_x": null,
            "overflow_y": null,
            "padding": null,
            "right": null,
            "top": null,
            "visibility": null,
            "width": null
          }
        },
        "324c9d0365364bf5a3163a1083c2a059": {
          "model_module": "@jupyter-widgets/controls",
          "model_name": "ProgressStyleModel",
          "model_module_version": "1.5.0",
          "state": {
            "_model_module": "@jupyter-widgets/controls",
            "_model_module_version": "1.5.0",
            "_model_name": "ProgressStyleModel",
            "_view_count": null,
            "_view_module": "@jupyter-widgets/base",
            "_view_module_version": "1.2.0",
            "_view_name": "StyleView",
            "bar_color": null,
            "description_width": ""
          }
        },
        "61509514d70a47dcb0a1c0225fb3f1ca": {
          "model_module": "@jupyter-widgets/base",
          "model_name": "LayoutModel",
          "model_module_version": "1.2.0",
          "state": {
            "_model_module": "@jupyter-widgets/base",
            "_model_module_version": "1.2.0",
            "_model_name": "LayoutModel",
            "_view_count": null,
            "_view_module": "@jupyter-widgets/base",
            "_view_module_version": "1.2.0",
            "_view_name": "LayoutView",
            "align_content": null,
            "align_items": null,
            "align_self": null,
            "border": null,
            "bottom": null,
            "display": null,
            "flex": null,
            "flex_flow": null,
            "grid_area": null,
            "grid_auto_columns": null,
            "grid_auto_flow": null,
            "grid_auto_rows": null,
            "grid_column": null,
            "grid_gap": null,
            "grid_row": null,
            "grid_template_areas": null,
            "grid_template_columns": null,
            "grid_template_rows": null,
            "height": null,
            "justify_content": null,
            "justify_items": null,
            "left": null,
            "margin": null,
            "max_height": null,
            "max_width": null,
            "min_height": null,
            "min_width": null,
            "object_fit": null,
            "object_position": null,
            "order": null,
            "overflow": null,
            "overflow_x": null,
            "overflow_y": null,
            "padding": null,
            "right": null,
            "top": null,
            "visibility": null,
            "width": null
          }
        },
        "acae5d26028944e59f5ec5a8c4e7396a": {
          "model_module": "@jupyter-widgets/controls",
          "model_name": "DescriptionStyleModel",
          "model_module_version": "1.5.0",
          "state": {
            "_model_module": "@jupyter-widgets/controls",
            "_model_module_version": "1.5.0",
            "_model_name": "DescriptionStyleModel",
            "_view_count": null,
            "_view_module": "@jupyter-widgets/base",
            "_view_module_version": "1.2.0",
            "_view_name": "StyleView",
            "description_width": ""
          }
        },
        "73b9d6cbb99347ef967b0a77fae5afc1": {
          "model_module": "@jupyter-widgets/controls",
          "model_name": "HBoxModel",
          "model_module_version": "1.5.0",
          "state": {
            "_dom_classes": [],
            "_model_module": "@jupyter-widgets/controls",
            "_model_module_version": "1.5.0",
            "_model_name": "HBoxModel",
            "_view_count": null,
            "_view_module": "@jupyter-widgets/controls",
            "_view_module_version": "1.5.0",
            "_view_name": "HBoxView",
            "box_style": "",
            "children": [
              "IPY_MODEL_1c9b2f2441ab4f9c9ce74e2eacde28f0",
              "IPY_MODEL_448368910e50405f81aef1c1b8e5e2f3",
              "IPY_MODEL_c3bf8f965feb4405a795a196e5bb7270"
            ],
            "layout": "IPY_MODEL_72ce59c880e24a838cdbdaa0aeaaabf0"
          }
        },
        "1c9b2f2441ab4f9c9ce74e2eacde28f0": {
          "model_module": "@jupyter-widgets/controls",
          "model_name": "HTMLModel",
          "model_module_version": "1.5.0",
          "state": {
            "_dom_classes": [],
            "_model_module": "@jupyter-widgets/controls",
            "_model_module_version": "1.5.0",
            "_model_name": "HTMLModel",
            "_view_count": null,
            "_view_module": "@jupyter-widgets/controls",
            "_view_module_version": "1.5.0",
            "_view_name": "HTMLView",
            "description": "",
            "description_tooltip": null,
            "layout": "IPY_MODEL_3dbc2a4de61f408da641dbc263d0184a",
            "placeholder": "​",
            "style": "IPY_MODEL_3fadce7784574b5592dfec9153ce3db2",
            "value": "pytorch_model.bin: 100%"
          }
        },
        "448368910e50405f81aef1c1b8e5e2f3": {
          "model_module": "@jupyter-widgets/controls",
          "model_name": "FloatProgressModel",
          "model_module_version": "1.5.0",
          "state": {
            "_dom_classes": [],
            "_model_module": "@jupyter-widgets/controls",
            "_model_module_version": "1.5.0",
            "_model_name": "FloatProgressModel",
            "_view_count": null,
            "_view_module": "@jupyter-widgets/controls",
            "_view_module_version": "1.5.0",
            "_view_name": "ProgressView",
            "bar_style": "success",
            "description": "",
            "description_tooltip": null,
            "layout": "IPY_MODEL_df94ccaa64f64121a5ab8f2b4b5b68d4",
            "max": 1345067985,
            "min": 0,
            "orientation": "horizontal",
            "style": "IPY_MODEL_844251c5ea364c11a73b102269ed341f",
            "value": 1345067985
          }
        },
        "c3bf8f965feb4405a795a196e5bb7270": {
          "model_module": "@jupyter-widgets/controls",
          "model_name": "HTMLModel",
          "model_module_version": "1.5.0",
          "state": {
            "_dom_classes": [],
            "_model_module": "@jupyter-widgets/controls",
            "_model_module_version": "1.5.0",
            "_model_name": "HTMLModel",
            "_view_count": null,
            "_view_module": "@jupyter-widgets/controls",
            "_view_module_version": "1.5.0",
            "_view_name": "HTMLView",
            "description": "",
            "description_tooltip": null,
            "layout": "IPY_MODEL_cde19547bca7433988ef6c711a563113",
            "placeholder": "​",
            "style": "IPY_MODEL_492d85adae5c4d8bb2a6833b4a069acd",
            "value": " 1.35G/1.35G [00:04&lt;00:00, 333MB/s]"
          }
        },
        "72ce59c880e24a838cdbdaa0aeaaabf0": {
          "model_module": "@jupyter-widgets/base",
          "model_name": "LayoutModel",
          "model_module_version": "1.2.0",
          "state": {
            "_model_module": "@jupyter-widgets/base",
            "_model_module_version": "1.2.0",
            "_model_name": "LayoutModel",
            "_view_count": null,
            "_view_module": "@jupyter-widgets/base",
            "_view_module_version": "1.2.0",
            "_view_name": "LayoutView",
            "align_content": null,
            "align_items": null,
            "align_self": null,
            "border": null,
            "bottom": null,
            "display": null,
            "flex": null,
            "flex_flow": null,
            "grid_area": null,
            "grid_auto_columns": null,
            "grid_auto_flow": null,
            "grid_auto_rows": null,
            "grid_column": null,
            "grid_gap": null,
            "grid_row": null,
            "grid_template_areas": null,
            "grid_template_columns": null,
            "grid_template_rows": null,
            "height": null,
            "justify_content": null,
            "justify_items": null,
            "left": null,
            "margin": null,
            "max_height": null,
            "max_width": null,
            "min_height": null,
            "min_width": null,
            "object_fit": null,
            "object_position": null,
            "order": null,
            "overflow": null,
            "overflow_x": null,
            "overflow_y": null,
            "padding": null,
            "right": null,
            "top": null,
            "visibility": null,
            "width": null
          }
        },
        "3dbc2a4de61f408da641dbc263d0184a": {
          "model_module": "@jupyter-widgets/base",
          "model_name": "LayoutModel",
          "model_module_version": "1.2.0",
          "state": {
            "_model_module": "@jupyter-widgets/base",
            "_model_module_version": "1.2.0",
            "_model_name": "LayoutModel",
            "_view_count": null,
            "_view_module": "@jupyter-widgets/base",
            "_view_module_version": "1.2.0",
            "_view_name": "LayoutView",
            "align_content": null,
            "align_items": null,
            "align_self": null,
            "border": null,
            "bottom": null,
            "display": null,
            "flex": null,
            "flex_flow": null,
            "grid_area": null,
            "grid_auto_columns": null,
            "grid_auto_flow": null,
            "grid_auto_rows": null,
            "grid_column": null,
            "grid_gap": null,
            "grid_row": null,
            "grid_template_areas": null,
            "grid_template_columns": null,
            "grid_template_rows": null,
            "height": null,
            "justify_content": null,
            "justify_items": null,
            "left": null,
            "margin": null,
            "max_height": null,
            "max_width": null,
            "min_height": null,
            "min_width": null,
            "object_fit": null,
            "object_position": null,
            "order": null,
            "overflow": null,
            "overflow_x": null,
            "overflow_y": null,
            "padding": null,
            "right": null,
            "top": null,
            "visibility": null,
            "width": null
          }
        },
        "3fadce7784574b5592dfec9153ce3db2": {
          "model_module": "@jupyter-widgets/controls",
          "model_name": "DescriptionStyleModel",
          "model_module_version": "1.5.0",
          "state": {
            "_model_module": "@jupyter-widgets/controls",
            "_model_module_version": "1.5.0",
            "_model_name": "DescriptionStyleModel",
            "_view_count": null,
            "_view_module": "@jupyter-widgets/base",
            "_view_module_version": "1.2.0",
            "_view_name": "StyleView",
            "description_width": ""
          }
        },
        "df94ccaa64f64121a5ab8f2b4b5b68d4": {
          "model_module": "@jupyter-widgets/base",
          "model_name": "LayoutModel",
          "model_module_version": "1.2.0",
          "state": {
            "_model_module": "@jupyter-widgets/base",
            "_model_module_version": "1.2.0",
            "_model_name": "LayoutModel",
            "_view_count": null,
            "_view_module": "@jupyter-widgets/base",
            "_view_module_version": "1.2.0",
            "_view_name": "LayoutView",
            "align_content": null,
            "align_items": null,
            "align_self": null,
            "border": null,
            "bottom": null,
            "display": null,
            "flex": null,
            "flex_flow": null,
            "grid_area": null,
            "grid_auto_columns": null,
            "grid_auto_flow": null,
            "grid_auto_rows": null,
            "grid_column": null,
            "grid_gap": null,
            "grid_row": null,
            "grid_template_areas": null,
            "grid_template_columns": null,
            "grid_template_rows": null,
            "height": null,
            "justify_content": null,
            "justify_items": null,
            "left": null,
            "margin": null,
            "max_height": null,
            "max_width": null,
            "min_height": null,
            "min_width": null,
            "object_fit": null,
            "object_position": null,
            "order": null,
            "overflow": null,
            "overflow_x": null,
            "overflow_y": null,
            "padding": null,
            "right": null,
            "top": null,
            "visibility": null,
            "width": null
          }
        },
        "844251c5ea364c11a73b102269ed341f": {
          "model_module": "@jupyter-widgets/controls",
          "model_name": "ProgressStyleModel",
          "model_module_version": "1.5.0",
          "state": {
            "_model_module": "@jupyter-widgets/controls",
            "_model_module_version": "1.5.0",
            "_model_name": "ProgressStyleModel",
            "_view_count": null,
            "_view_module": "@jupyter-widgets/base",
            "_view_module_version": "1.2.0",
            "_view_name": "StyleView",
            "bar_color": null,
            "description_width": ""
          }
        },
        "cde19547bca7433988ef6c711a563113": {
          "model_module": "@jupyter-widgets/base",
          "model_name": "LayoutModel",
          "model_module_version": "1.2.0",
          "state": {
            "_model_module": "@jupyter-widgets/base",
            "_model_module_version": "1.2.0",
            "_model_name": "LayoutModel",
            "_view_count": null,
            "_view_module": "@jupyter-widgets/base",
            "_view_module_version": "1.2.0",
            "_view_name": "LayoutView",
            "align_content": null,
            "align_items": null,
            "align_self": null,
            "border": null,
            "bottom": null,
            "display": null,
            "flex": null,
            "flex_flow": null,
            "grid_area": null,
            "grid_auto_columns": null,
            "grid_auto_flow": null,
            "grid_auto_rows": null,
            "grid_column": null,
            "grid_gap": null,
            "grid_row": null,
            "grid_template_areas": null,
            "grid_template_columns": null,
            "grid_template_rows": null,
            "height": null,
            "justify_content": null,
            "justify_items": null,
            "left": null,
            "margin": null,
            "max_height": null,
            "max_width": null,
            "min_height": null,
            "min_width": null,
            "object_fit": null,
            "object_position": null,
            "order": null,
            "overflow": null,
            "overflow_x": null,
            "overflow_y": null,
            "padding": null,
            "right": null,
            "top": null,
            "visibility": null,
            "width": null
          }
        },
        "492d85adae5c4d8bb2a6833b4a069acd": {
          "model_module": "@jupyter-widgets/controls",
          "model_name": "DescriptionStyleModel",
          "model_module_version": "1.5.0",
          "state": {
            "_model_module": "@jupyter-widgets/controls",
            "_model_module_version": "1.5.0",
            "_model_name": "DescriptionStyleModel",
            "_view_count": null,
            "_view_module": "@jupyter-widgets/base",
            "_view_module_version": "1.2.0",
            "_view_name": "StyleView",
            "description_width": ""
          }
        }
      }
    }
  },
  "nbformat": 4,
  "nbformat_minor": 0
}
