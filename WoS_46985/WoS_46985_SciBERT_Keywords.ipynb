{
  "cells": [
    {
      "cell_type": "code",
      "execution_count": 1,
      "metadata": {
        "colab": {
          "base_uri": "https://localhost:8080/"
        },
        "id": "iRuetRKhDN59",
        "outputId": "eb492526-4f95-4a11-d742-3b347ddc3886"
      },
      "outputs": [
        {
          "output_type": "stream",
          "name": "stdout",
          "text": [
            "Thu Aug  1 08:05:39 2024       \n",
            "+---------------------------------------------------------------------------------------+\n",
            "| NVIDIA-SMI 535.104.05             Driver Version: 535.104.05   CUDA Version: 12.2     |\n",
            "|-----------------------------------------+----------------------+----------------------+\n",
            "| GPU  Name                 Persistence-M | Bus-Id        Disp.A | Volatile Uncorr. ECC |\n",
            "| Fan  Temp   Perf          Pwr:Usage/Cap |         Memory-Usage | GPU-Util  Compute M. |\n",
            "|                                         |                      |               MIG M. |\n",
            "|=========================================+======================+======================|\n",
            "|   0  Tesla T4                       Off | 00000000:00:04.0 Off |                    0 |\n",
            "| N/A   60C    P8              12W /  70W |      0MiB / 15360MiB |      0%      Default |\n",
            "|                                         |                      |                  N/A |\n",
            "+-----------------------------------------+----------------------+----------------------+\n",
            "                                                                                         \n",
            "+---------------------------------------------------------------------------------------+\n",
            "| Processes:                                                                            |\n",
            "|  GPU   GI   CI        PID   Type   Process name                            GPU Memory |\n",
            "|        ID   ID                                                             Usage      |\n",
            "|=======================================================================================|\n",
            "|  No running processes found                                                           |\n",
            "+---------------------------------------------------------------------------------------+\n"
          ]
        }
      ],
      "source": [
        "gpu_info = !nvidia-smi\n",
        "gpu_info = '\\n'.join(gpu_info)\n",
        "if gpu_info.find('failed') >= 0:\n",
        "  print('Not connected to a GPU')\n",
        "else:\n",
        "  print(gpu_info)"
      ]
    },
    {
      "cell_type": "code",
      "execution_count": 2,
      "metadata": {
        "colab": {
          "base_uri": "https://localhost:8080/"
        },
        "id": "7BMB0YxADN5-",
        "outputId": "fb3aa2b5-24f2-4a97-95b5-ff85e4a013a1"
      },
      "outputs": [
        {
          "output_type": "stream",
          "name": "stdout",
          "text": [
            "Your runtime has 54.8 gigabytes of available RAM\n",
            "\n",
            "You are using a high-RAM runtime!\n"
          ]
        }
      ],
      "source": [
        "from psutil import virtual_memory\n",
        "ram_gb = virtual_memory().total / 1e9\n",
        "print('Your runtime has {:.1f} gigabytes of available RAM\\n'.format(ram_gb))\n",
        "\n",
        "if ram_gb < 20:\n",
        "  print('Not using a high-RAM runtime')\n",
        "else:\n",
        "  print('You are using a high-RAM runtime!')"
      ]
    },
    {
      "cell_type": "code",
      "execution_count": 3,
      "metadata": {
        "colab": {
          "base_uri": "https://localhost:8080/"
        },
        "id": "e2qEb3ivDN5-",
        "outputId": "e5b701b1-dead-4e7b-a2d2-aea191fb29f7"
      },
      "outputs": [
        {
          "output_type": "stream",
          "name": "stdout",
          "text": [
            "Mounted at /content/drive\n"
          ]
        }
      ],
      "source": [
        "from google.colab import drive\n",
        "drive.mount('/content/drive')"
      ]
    },
    {
      "cell_type": "code",
      "execution_count": 4,
      "metadata": {
        "colab": {
          "base_uri": "https://localhost:8080/"
        },
        "id": "ZRaneJBnDN5_",
        "outputId": "584ea79e-d929-4b0e-c391-0027352ddcaf"
      },
      "outputs": [
        {
          "output_type": "stream",
          "name": "stdout",
          "text": [
            "Requirement already satisfied: transformers in /usr/local/lib/python3.10/dist-packages (4.42.4)\n",
            "Requirement already satisfied: filelock in /usr/local/lib/python3.10/dist-packages (from transformers) (3.15.4)\n",
            "Requirement already satisfied: huggingface-hub<1.0,>=0.23.2 in /usr/local/lib/python3.10/dist-packages (from transformers) (0.23.5)\n",
            "Requirement already satisfied: numpy<2.0,>=1.17 in /usr/local/lib/python3.10/dist-packages (from transformers) (1.26.4)\n",
            "Requirement already satisfied: packaging>=20.0 in /usr/local/lib/python3.10/dist-packages (from transformers) (24.1)\n",
            "Requirement already satisfied: pyyaml>=5.1 in /usr/local/lib/python3.10/dist-packages (from transformers) (6.0.1)\n",
            "Requirement already satisfied: regex!=2019.12.17 in /usr/local/lib/python3.10/dist-packages (from transformers) (2024.5.15)\n",
            "Requirement already satisfied: requests in /usr/local/lib/python3.10/dist-packages (from transformers) (2.31.0)\n",
            "Requirement already satisfied: safetensors>=0.4.1 in /usr/local/lib/python3.10/dist-packages (from transformers) (0.4.3)\n",
            "Requirement already satisfied: tokenizers<0.20,>=0.19 in /usr/local/lib/python3.10/dist-packages (from transformers) (0.19.1)\n",
            "Requirement already satisfied: tqdm>=4.27 in /usr/local/lib/python3.10/dist-packages (from transformers) (4.66.4)\n",
            "Requirement already satisfied: fsspec>=2023.5.0 in /usr/local/lib/python3.10/dist-packages (from huggingface-hub<1.0,>=0.23.2->transformers) (2024.6.1)\n",
            "Requirement already satisfied: typing-extensions>=3.7.4.3 in /usr/local/lib/python3.10/dist-packages (from huggingface-hub<1.0,>=0.23.2->transformers) (4.12.2)\n",
            "Requirement already satisfied: charset-normalizer<4,>=2 in /usr/local/lib/python3.10/dist-packages (from requests->transformers) (3.3.2)\n",
            "Requirement already satisfied: idna<4,>=2.5 in /usr/local/lib/python3.10/dist-packages (from requests->transformers) (3.7)\n",
            "Requirement already satisfied: urllib3<3,>=1.21.1 in /usr/local/lib/python3.10/dist-packages (from requests->transformers) (2.0.7)\n",
            "Requirement already satisfied: certifi>=2017.4.17 in /usr/local/lib/python3.10/dist-packages (from requests->transformers) (2024.7.4)\n"
          ]
        }
      ],
      "source": [
        "!pip install transformers"
      ]
    },
    {
      "cell_type": "code",
      "execution_count": 5,
      "metadata": {
        "id": "jEVF9FbODN5_"
      },
      "outputs": [],
      "source": [
        "import os\n",
        "import numpy as np\n",
        "import pandas as pd\n",
        "from sklearn.model_selection import train_test_split\n",
        "from sklearn.metrics import confusion_matrix, classification_report, f1_score, precision_score, recall_score\n",
        "from transformers import AutoTokenizer, AutoModelForSequenceClassification, AdamW, get_linear_schedule_with_warmup\n",
        "import torch\n",
        "from torch.utils.data import DataLoader, TensorDataset, RandomSampler, SequentialSampler\n",
        "import torch.nn.functional as F\n",
        "from tqdm import trange, tqdm\n",
        "import matplotlib.pyplot as plt\n",
        "import sklearn.utils\n",
        "import time\n",
        "import re\n",
        "from google.colab import runtime"
      ]
    },
    {
      "cell_type": "code",
      "execution_count": 6,
      "metadata": {
        "colab": {
          "base_uri": "https://localhost:8080/"
        },
        "id": "d84lKOxcDN5_",
        "outputId": "4325329f-91ae-451a-d41a-ae0b31709616"
      },
      "outputs": [
        {
          "output_type": "stream",
          "name": "stdout",
          "text": [
            "(46985, 4)\n"
          ]
        }
      ],
      "source": [
        "# Retrive the data from stored dataset\n",
        "dataDir = \"/content/drive/MyDrive/WoS/data/46985\"\n",
        "tsvData = os.path.join(dataDir,\"WoSDataset_46985.tsv\")\n",
        "\n",
        "tsvData = np.loadtxt(tsvData, dtype=str, delimiter=\"\\t\")\n",
        "print(np.shape(tsvData))"
      ]
    },
    {
      "cell_type": "code",
      "execution_count": 7,
      "metadata": {
        "colab": {
          "base_uri": "https://localhost:8080/"
        },
        "id": "FIYp3nhcDN5_",
        "outputId": "0c254a28-a7bc-4ac8-9541-5a9d705a544e"
      },
      "outputs": [
        {
          "output_type": "stream",
          "name": "stdout",
          "text": [
            "[['0' 'CS'\n",
            "  ' 21dimensional nonlinear optical waves erbiumdoped optical fibre symbolic computation soliton solution soliton interaction        '\n",
            "  '2  1dimensional nonlinear optical waves through the coherently excited resonant medium doped with the erbium atoms can be described by a 2  1dimensional nonlinear schrodinger equation coupled with the selfinduced transparency equations for such a system via the hirota method and symbolic computation linear forms one twoand nsoliton solutions are obtained asymptotic analysis is conducted and suggests that the interaction between the two solitons is elastic bright solitons are obtained for the fields e and p while the dark ones for the field n with e as the electric field p as the polarization in the resonant medium induced by the electric field and n as the population inversion profile of the dopant atoms headon interaction between the bidirectional two solitons and overtaking interaction between the unidirectional two solitons are seen influence of the averaged natural frequency on the solitons are studied 1 can affect the velocities of all the solitons 2 amplitudes of the solitons for the fields p and n increase with decreasing and decrease with increasing 3 with decreasing for the fields p and n onepeak one soliton turns into the twopeak one as well as interaction type changes from the interaction between two onepeak ones to that between a onepeak one and a twopeak one 4 for the field e influence of on the solitons cannot be found the results of this paper might be of potential applications in the design of optical communication systems which can produce the bright and dark solitons simultaneously']\n",
            " ['5' 'Medical'\n",
            "  ' aging tau amyloid pet alzheimers disease polypathology        '\n",
            "  'betaamyloid a beta and tau pathology become increasingly prevalent with age however the spatial relationship between the two pathologies remains unknown we examined local same region and nonlocal different region associations between these 2 aggregated proteins in 46 normal older adults using f18av1451 for tau and c11pib for a beta positron emission tomography pet and 15 t magnetic resonance imaging mri images while local voxelwise analyses showed associations between pib and av1451 tracer largely in the temporal lobes kmeans clustering revealed that some of these associations were driven by regions with low tracer retention we followed this up with a wholebrain regionbyregion local and nonlocal partial correlational analysis we calculated each participants mean av1451 and pib uptake values within 87 regions of interest roi pairwise roi analysis demonstrated many positive pib av1451 associations importantly strong positive partial correlations controlling for age sex and global gray matter fraction p 01 were identified between pib in multiple regions of association cortex and av1451 in temporal cortical rois there were also less frequent and weaker positive associations of regional pib with frontoparietal av1451 uptake particularly in temporal lobe rois av1451 uptake was strongly predicted by nb across multiple roi locations these data indicate that a beta and tau pathology show significant local and nonlocal regional associations among cognitively normal elderly with increased pib uptake throughout the cortex correlating with increased temporal lobe av1451 uptake the spatial relationship between a beta and tau accumulation does not appear to be specific to a beta location suggesting a regional vulnerability of temporal brain regions to tau accumulation regardless of where ap accumulates']\n",
            " ['4' 'Civil'\n",
            "  ' led lighting system pv system distributed lighting control energy efficiency green building daylight responsive dimming system        '\n",
            "  'decreasing of energy consumption and environmentally friendly energy resources are the issues in the foreground nowadays as the electric energy consumed for the illumination is high longlasting and lowconsumption led lightemitting diode technology gets prominent there have been made much reseacrh regarding the use of photovoltaic sytems in meeting the energy demand in housing and industry however there is need for more research with regards to photovoltaic sytems integration with energy efficiency sytems in this study for the environments which have different lighting levels due to daylight factor there has been proposed a lowcost pv photovoltaics based and distributed sensor smart led illuminating system and there has been acquired 72075 more energy saving in comparison with conventional led illuminating system c 2017 elsevier inc all rights reserved']\n",
            " ['1' 'ECE'\n",
            "  ' ndfeb magnets electric motor electric vehicle hybrid electric vehicle recycling rare earth elements        '\n",
            "  'hybrid electric vehicles are assumed to play a major role in future mobility concepts although sales numbers are increasing little emphasis has been laid on the recycling of some key components such as power electronics or electric motors permanent magnet synchronous motors contain considerable amounts of rare earth elements that cannot be recovered in conventional recycling routes although their recycling could have large economic environmental and strategic advantages no industrial recycling for permanent magnets is available in western countries at the moment regarding the essential steps dismantling of electric vehicles as well as the extraction of magnets from the rotors little has been published before this paper therefore presents and discusses different recycling approaches for the recycling of ndfeb magnets from hybrid electric vehicles many results stem from the german research project recycling of components and strategic metals of electric drive motors']\n",
            " ['5' 'Medical'\n",
            "  ' parkinsons disease dyskinesia adenosine a2a receptor striatum glutamic acid decarboxylase        '\n",
            "  'l34dihydroxyphenylalanine ldopa remains the primary pharmacological agent for the symptomatic treatment of parkinsons disease pd however the development of ldopainduced dyskinesia lid limits the longterm use of ldopa for pd patients some data have reported that adenosine a2a receptor a2ar antagonists prevented lid in animal model of pd however the mechanism in which adenosine a2ar blockade alleviates the symptoms of lid has not been fully clarified here we determined to knock out ko the gene of a2ar and explored the possible underlying mechanisms implicated in development of lid in a mouse model of pd a2ar gene ko mice were unilaterally injected into the striatum with 6hydroxydopamine 6ohda in order to damage dopamine neurons on one side of the brain 6ohdalesioned mice were then injected once daily for 21 days with ldopa abnormal involuntary movements aims were evaluated on days 3 8 13 and 18 after ldopa administration and realtime polymerase chain reaction and immunohistochemistry for glutamic acid decarboxylase gad 65 and gad67 were performed we found that a2ar gene ko was effective in reducing aim scores and accompanied with decrease of striatal gad67 rather than gad65 these results demonstrated that the possible mechanism involved in alleviation of aim symptoms by a2ar gene ko might be through reducing the expression of striatal gad67']\n",
            " ['0' 'CS'\n",
            "  ' tea category identification computer vision color histogram wavelet packet entropy winnertakesall radial basis function artificial neural network pattern recognition support vector machine        '\n",
            "  'objective in order to increase classification accuracy of teacategory identification tci system this paper proposed a novel approach method the proposed methods first extracted 64 color histogram to obtain color information and 16 wavelet packet entropy to obtain the texture information with the aim of reducing the 80 features principal component analysis was harnessed the reduced features were used as input to generalized eigenvalue proximal support vector machine gepsvm winnertakesall wta was used to handle the multiclass problem two kernels were tested linear kernel and radial basis function rbf kernel ten repetitions of 10fold stratified cross validation technique were used to estimate the outofsample errors we named our method as gepsvm  rbf  wta and gepsvm  wta result the results showed that pca reduced the 80 features to merely five with explaining 9990 of total variance the recall rate of gepsvm  rbf  wta achieved the highest overall recall rate of 979 conclusion this was higher than the result of gepsvm  wta and other five stateoftheart algorithms back propagation neural network rbf support vector machine genetic neuralnetwork linear discriminant analysis and fitnessscaling chaotic artificial bee colony artificial neural network']\n",
            " ['6' 'biochemistry'\n",
            "  ' brainmachine interfaces electrical stimulation of the brain transcranial magnetic stimulation trends psychiatry        '\n",
            "  'recent advances in deep brain stimulators and brain machine interfaces have greatly expanded the possibilities of neuroprosthetics and neuromodulation together with advances in neuroengineering nanotechnology molecular biology and material sciences it is now possible to address fundamental questions in neuroscience in new more powerful ways it is now possible to apply these new technologies in ways that range from augmenting and restoring function to neuromodulation modalities that treat neuropsychiatric disorders recent developments in neuromodulation methods offer significant advantages and potential clinical benefits for a variety of disorders here we describe the current state of the art in neuromodulation methods and some advances in brain machine interfaces describing the advantages and limitations of the clinical applications of each method the future applications of these new methods and how they will shape the future of psychiatry and medicine along with safety and ethical implications are also discussed c 2017 elsevier inc all rights reserved']\n",
            " ['1' 'ECE'\n",
            "  ' softwaredefined radio ais receiver vhf data exchange services satellite radio applications flexible rf front end        '\n",
            "  'this paper presents the concept of a softwaredefined radio with a flexible rf front end the design and architecture of this system as well as possible application examples will be explained one specific scenario is the operation in maritime frequency bands a wellknown service is the automatic identification system ais which has been captured by the dlr mission aisat and will be chosen as a maritime application example the results of an embedded solution for ais on the sdr platform are presented in this paper since there is an increasing request for more performance on maritime radio bands services like ais will be enhanced by the international association of marine aids to navigation and lighthouse authorities iala the new vhf data exchange service vdes shall implement a dedicated satellite link this paper describes that the sdr with a flexible rf front end can be used as a technology demonstration platform for this upcoming data exchange service']\n",
            " ['3' 'MAE'\n",
            "  ' plumesthermals turbulence modelling turbulence simulation        '\n",
            "  'we develop a generalised unsteady plume theory and compare it with a new direct numerical simulation dns dataset for an ensemble of statistically unsteady turbulent plumes the theoretical framework described in this paper generalises previous models and exposes several fundamental aspects of the physics of unsteady plumes the framework allows one to understand how the structure of the governing integral equations depends on the assumptions one makes about the radial dependence of the longitudinal velocity turbulence and pressure consequently the illposed models identified by scase  hewitt j fluid mech vol 697 2012 pp 455480 are shown to be the result of a nonphysical assumption regarding the velocity profile the framework reveals that these illposed unsteady plume models are degenerate cases amongst a comparatively large set of wellposed models that can be derived from the generalised unsteady plume equations that we obtain drawing on the results of dns of a plume subjected to an instantaneous step change in its source buoyancy flux we use the framework in a diagnostic capacity to investigate the properties of the resulting travelling wave in general the governing integral equations are hyperbolic becoming parabolic in the limiting case of a tophat model and the travelling wave can be classified as lazy pure or forced according to the particular assumptions that are invoked to close the integral equations guided by observations from the dns data we use the framework in a prognostic capacity to develop a relatively simple accurate and wellposed model of unsteady plumes that is based on the assumption of a gaussian velocity profile an analytical solution is presented for a pure straightsided plume that is consistent with the key features observed from the dns']\n",
            " ['2' 'Psychology'\n",
            "  ' stomach of human fetus development endocrine cells immunohistochemistry        '\n",
            "  ' while ghrelin cells were the most numerous during the se since reports on endocrine cells and their kinetics in the corpus of the human stomach are limited the aim of this study was to examine the appearance localization density and the relationship among the endocrine cell types in the corpus of the human stomach during prenatal and early postnatal development we examined chromogranin a somatostatin ghrelin glucagon and serotonin expression by immunohistochemistry in 2 embryos 38 fetuses and 3 infants in the corpus of human stomach chromogranin a secreting endocrine cells were identified in the corpus at week 10 of gestation somatostatin cells were present from the 10th week ghrelin and serotonin cells from the 11th week and glucagon cells from the 12th week of gestation endocrine cells were present individually or clustered within the glandular base and body during the first trimester and were present separately within the basal and central parts of glands during the second and third trimesters somatostatin cells were the most common type of cells similar to 46  during the first trimestercond trimester similar to 34  and in infants similar to 28  the percentage of glucagon cells was significant only during the first trimester of pregnancy 55  and the percentage of serotonin cells was only significant just before birth 48  these results show for the first time that the largest number of endocrine cells are present in the corpus during the first trimester of prenatal development also these results suggest that secretory products of endocrine cells play a role in the regulation of homeostasis growth and differentiation and in human stomach function']]\n"
          ]
        }
      ],
      "source": [
        "print(tsvData[0:10])"
      ]
    },
    {
      "cell_type": "code",
      "execution_count": 8,
      "metadata": {
        "id": "WUvZlOibDN5_"
      },
      "outputs": [],
      "source": [
        "allLabels = tsvData[:,0]\n",
        "domains = tsvData[:,1]\n",
        "keywords = tsvData[:,2]\n",
        "abstracts = tsvData[:,3]"
      ]
    },
    {
      "cell_type": "code",
      "execution_count": 9,
      "metadata": {
        "id": "SE5jkqySDN6A",
        "colab": {
          "base_uri": "https://localhost:8080/"
        },
        "outputId": "c4f401ed-c55b-42a9-d4b7-b38726f9bd90"
      },
      "outputs": [
        {
          "output_type": "stream",
          "name": "stdout",
          "text": [
            "Labels  ['CS' 'Civil' 'ECE' 'MAE' 'Medical' 'Psychology' 'biochemistry']\n",
            "Label counts  [ 6514  4237  5483  3297 14625  7142  5687]\n"
          ]
        }
      ],
      "source": [
        "labels = np.unique(domains, return_counts=True)[0]\n",
        "labelCounts=  np.unique(domains, return_counts=True)[1]\n",
        "\n",
        "print(\"Labels \", labels)\n",
        "print(\"Label counts \", labelCounts)"
      ]
    },
    {
      "cell_type": "code",
      "execution_count": 10,
      "metadata": {
        "id": "4wUHmcLtDN6A",
        "colab": {
          "base_uri": "https://localhost:8080/",
          "height": 653
        },
        "outputId": "b219607e-b2c4-432b-988e-6c401277fe75"
      },
      "outputs": [
        {
          "output_type": "display_data",
          "data": {
            "text/plain": [
              "<Figure size 1000x600 with 1 Axes>"
            ],
            "image/png": "[encoded data removed]"
          },
          "metadata": {}
        },
        {
          "output_type": "stream",
          "name": "stdout",
          "text": [
            "The domain CS has 6514 records in the dataset.\n",
            "The domain Civil has 4237 records in the dataset.\n",
            "The domain ECE has 5483 records in the dataset.\n",
            "The domain MAE has 3297 records in the dataset.\n",
            "The domain Medical has 14625 records in the dataset.\n",
            "The domain Psychology has 7142 records in the dataset.\n",
            "The domain biochemistry has 5687 records in the dataset.\n"
          ]
        }
      ],
      "source": [
        "# Visualize domain counts in dataset\n",
        "plt.figure(figsize=(10, 6))\n",
        "plt.title(\"Domain Counts (Dataset)\")\n",
        "plt.pie(labelCounts, labels=labels, autopct='%1.1f%%', startangle=140, colors=plt.cm.Paired(range(len(labels))))\n",
        "plt.axis('equal')\n",
        "plt.show()\n",
        "\n",
        "for i, domain in enumerate(labels):\n",
        "    print(\"The domain\", domain, \"has\", labelCounts[i], \"records in the dataset.\")"
      ]
    },
    {
      "cell_type": "code",
      "execution_count": 11,
      "metadata": {
        "id": "iy4b69DrDN6A",
        "colab": {
          "base_uri": "https://localhost:8080/"
        },
        "outputId": "f390347c-4001-4e6f-fe57-5c0030c5ab33"
      },
      "outputs": [
        {
          "output_type": "stream",
          "name": "stdout",
          "text": [
            "Number of abstracts:  46985\n",
            "Shape of abstracts:  (46985,)\n",
            "['rio san giorgio iglesiente sardinia italy a stream affected by abandoned mine wastes is characterized by dense vegetation in the streambed mainly comprised of phragmites australis and juncus acutus this vegetation creates natural biogeochemical barriers that drive mineralization processes and attenuate metals load in the stream several techniques covering scales from micrometres to kilometres were applied to investigate the biogeochemical processes water chemistry injected hydrologic tracer mineralogy microscopic investigation and xray spectroscopy from this multiscale and multimethod approach we recognized two predominant sets of biogeochemical processes microbially driven metal sulphide precipitation mainly resulting in pyrite formation and plant uptake of metals that leads to formation of iron oxidehydroxide and incorporation of zn within the roots and aerial part stem and leaves the dense vegetation in the rio san giorgio streambed controls its morphology velocity of streamflow and as reflected by observed bromidetracer loss enhanced water exchange between the streambed and the hyporheic zone the combined effect of these vegetative controls is to establish biogeochemical barriers that greatly retard tracemetal mobility in the hyporheic zone we estimated this effect can lead to an apparent decrease in zn load up to 60 c 2016 elsevier ltd all rights reserved'\n",
            " 'background our study aimed to investigate the associations between histamine h4 receptor hrh4 gene polymorphisms rs77485247 rs74604924 and rs77041280 and oral h1 antihistamine efficacy for the treatment of allergic rhinitis ar patients methods a total of 142 ar patients were selected as a case group and 160 healthy individuals were recruited as a control group single nucleotide polymorphisms snps in the hrh4 gene were detected using direct sequencing serum immunoglobulin e ige specific ige and eosinophil cationic protein ecp levels were measured by enzymelinked immunosorbent assay elisa clinical efficacy was evaluated by the visual analogue scale vas the occurrence of adverse reaction was recorded results there were significant differences in the distribution frequencies of mutant genotype ta  aa and a allele of rs77485247 mutant genotype at  tt and t allele of rs74604924 and mutant genotype at  tt and t allele of rs77041280 between the case and control groups ar patients with mutant genotype ta  aa of rs77485247 and ar patients with mutant genotype at  tt of rs77041280 had higher specific ige ecp levels and vas scores after treatment and lower incidence of adverse reactions and total effective rate than those with tt genotype and those with aa genotype respectively however for rs74604924 there were no differences was found between ar patients with mutant genotype at  tt and those with aa genotype conclusion our findings provide evidence that hrh4 rs77485247 and rs77041280 polymorphisms may be associated with the risk of ar and the efficacy of h1 antihistamines for the treatment of ar patients c 2016 arsaaoa llc']\n",
            "Number of keywords:  46985\n",
            "Shape of keywords:  (46985,)\n",
            "['rio san giorgio iglesiente sardinia italy a stream affected by abandoned mine wastes is characterized by dense vegetation in the streambed mainly comprised of phragmites australis and juncus acutus this vegetation creates natural biogeochemical barriers that drive mineralization processes and attenuate metals load in the stream several techniques covering scales from micrometres to kilometres were applied to investigate the biogeochemical processes water chemistry injected hydrologic tracer mineralogy microscopic investigation and xray spectroscopy from this multiscale and multimethod approach we recognized two predominant sets of biogeochemical processes microbially driven metal sulphide precipitation mainly resulting in pyrite formation and plant uptake of metals that leads to formation of iron oxidehydroxide and incorporation of zn within the roots and aerial part stem and leaves the dense vegetation in the rio san giorgio streambed controls its morphology velocity of streamflow and as reflected by observed bromidetracer loss enhanced water exchange between the streambed and the hyporheic zone the combined effect of these vegetative controls is to establish biogeochemical barriers that greatly retard tracemetal mobility in the hyporheic zone we estimated this effect can lead to an apparent decrease in zn load up to 60 c 2016 elsevier ltd all rights reserved'\n",
            " 'background our study aimed to investigate the associations between histamine h4 receptor hrh4 gene polymorphisms rs77485247 rs74604924 and rs77041280 and oral h1 antihistamine efficacy for the treatment of allergic rhinitis ar patients methods a total of 142 ar patients were selected as a case group and 160 healthy individuals were recruited as a control group single nucleotide polymorphisms snps in the hrh4 gene were detected using direct sequencing serum immunoglobulin e ige specific ige and eosinophil cationic protein ecp levels were measured by enzymelinked immunosorbent assay elisa clinical efficacy was evaluated by the visual analogue scale vas the occurrence of adverse reaction was recorded results there were significant differences in the distribution frequencies of mutant genotype ta  aa and a allele of rs77485247 mutant genotype at  tt and t allele of rs74604924 and mutant genotype at  tt and t allele of rs77041280 between the case and control groups ar patients with mutant genotype ta  aa of rs77485247 and ar patients with mutant genotype at  tt of rs77041280 had higher specific ige ecp levels and vas scores after treatment and lower incidence of adverse reactions and total effective rate than those with tt genotype and those with aa genotype respectively however for rs74604924 there were no differences was found between ar patients with mutant genotype at  tt and those with aa genotype conclusion our findings provide evidence that hrh4 rs77485247 and rs77041280 polymorphisms may be associated with the risk of ar and the efficacy of h1 antihistamines for the treatment of ar patients c 2016 arsaaoa llc']\n",
            "Number of domains:  46985\n",
            "Shape of domains:  (46985,)\n",
            "['Civil' 'Medical']\n",
            "Number of labels:  46985\n",
            "Shape of labels:  (46985,)\n",
            "['4' '5']\n",
            "['rio san giorgio iglesiente sardinia italy a stream affected by abandoned mine wastes is characterized by dense vegetation in the streambed mainly comprised of phragmites australis and juncus acutus this vegetation creates natural biogeochemical barriers that drive mineralization processes and attenuate metals load in the stream several techniques covering scales from micrometres to kilometres were applied to investigate the biogeochemical processes water chemistry injected hydrologic tracer mineralogy microscopic investigation and xray spectroscopy from this multiscale and multimethod approach we recognized two predominant sets of biogeochemical processes microbially driven metal sulphide precipitation mainly resulting in pyrite formation and plant uptake of metals that leads to formation of iron oxidehydroxide and incorporation of zn within the roots and aerial part stem and leaves the dense vegetation in the rio san giorgio streambed controls its morphology velocity of streamflow and as reflected by observed bromidetracer loss enhanced water exchange between the streambed and the hyporheic zone the combined effect of these vegetative controls is to establish biogeochemical barriers that greatly retard tracemetal mobility in the hyporheic zone we estimated this effect can lead to an apparent decrease in zn load up to 60 c 2016 elsevier ltd all rights reserved'\n",
            " 'background our study aimed to investigate the associations between histamine h4 receptor hrh4 gene polymorphisms rs77485247 rs74604924 and rs77041280 and oral h1 antihistamine efficacy for the treatment of allergic rhinitis ar patients methods a total of 142 ar patients were selected as a case group and 160 healthy individuals were recruited as a control group single nucleotide polymorphisms snps in the hrh4 gene were detected using direct sequencing serum immunoglobulin e ige specific ige and eosinophil cationic protein ecp levels were measured by enzymelinked immunosorbent assay elisa clinical efficacy was evaluated by the visual analogue scale vas the occurrence of adverse reaction was recorded results there were significant differences in the distribution frequencies of mutant genotype ta  aa and a allele of rs77485247 mutant genotype at  tt and t allele of rs74604924 and mutant genotype at  tt and t allele of rs77041280 between the case and control groups ar patients with mutant genotype ta  aa of rs77485247 and ar patients with mutant genotype at  tt of rs77041280 had higher specific ige ecp levels and vas scores after treatment and lower incidence of adverse reactions and total effective rate than those with tt genotype and those with aa genotype respectively however for rs74604924 there were no differences was found between ar patients with mutant genotype at  tt and those with aa genotype conclusion our findings provide evidence that hrh4 rs77485247 and rs77041280 polymorphisms may be associated with the risk of ar and the efficacy of h1 antihistamines for the treatment of ar patients c 2016 arsaaoa llc'\n",
            " 'bodyrelated checking behavior as a behavioral manifestation of a disturbed body image fosters the development and maintenance of eating disorders the body checking questionnaire bcq is the most commonly used questionnaire for measuring bodyrelated checking behavior internationally to date validation studies are only available for adult populations therefore the aim of this study was to statistically test the germanlanguage version of the bcq in adolescents a total of n  129 female adolescents were examined comprising n  57 with anorexia nervosa n  24 with bulimia nervosa and n  48 healthy female adolescents a confirmatory factor analysis supports the subdivision of the bcq into a general factor and the subfactors overall appearance specific body parts and idiosyncratic checking which was also found in the original version the internal consistencies are good alpha  081 and the bcq is able to differentiate well between adolescents with and without eating disorders significant correlations between the bcq and other body image questionnaires point to a good convergent validity the germanlanguage bcq thus constitutes a valid and reliable instrument for measuring bodyrelated checking behavior among adolescents in clinical research and practice'\n",
            " 'thin snote films with a thickness of 60 nm have been deposited by coevaporation of sn and teo2 on alumina substrates with interdigitated silverpalladium electrodes during the coevaporation a chemical reaction between the two substances takes place resulting in the formation of a snoxide matrix and finely dispersed phases of te sn teo2 or snte depending on the atomic ratio of sn to te rsnte to study the morphology and structure as well as to determine the atomic ratio rsnte of the films electron microscopy techniques tem saed and analytical methods eds in sem have been applied the electrical properties of the sensors studied have been investigated in the frequency range of 20 hz  5 mhz using a precision impedance analyzer the measurements have been taken on samples placed in a controlled humidity and temperature chamber the characteristics of the resistance r capacitance c impedance z and phase theta as functions of relative humidity rh the frequency dependences of r c z and center dot the nyquist plots and equivalent electrical circuits of the sensors have been obtained as a result the relation between the type of water adsorption impedance spectra and the properties of the films as humidity sensors are presented in this paper'\n",
            " 'the aim of this study is to identify and assess evidence related to the efficacy of mindbody interventions on irritable bowel syndrome ibs in the chinese population drawn from chinese databases nine rcts and three qe studies were included in the systematic review the methodological quality of rcts was evaluated based on the following criteria adequate sequence generation allocation concealment blinding completeness of outcome data selective reporting and other potential biases for continuous variables the effect size es was determined by calculating the standardized mean difference between groups for dichotomous variables the es was determined by calculating the risk ratio rr between groups given the heterogeneity between the trials and the small number of studies included both random effects and fixed effects models were used the inverse variance method was used for pooling statistical analyses were performed using review manager version 50 the total number of papers identified was 710 462 from english language databases and 248 from chinese language databases twelve studies met our eligibility criteria among the studies selected three were qe studies the rest rcts two studies described the randomization process none of the studies reported allocation concealment nor blinding seven studies reported no dropouts one of the studies mentioned the total amount of dropouts though the reason for dropping out was not referenced the other four studies did not clearly report dropouts with the exception of three studies there was inadequate information to determine biased reporting for the majority the level of risk for bias in these studies is unclear finally six metaanalyses were performed one was conducted with four randomized controlled trials rcts that used cure rate as outcome measures to evaluate gastrointestinal gi symptoms which suggested that mindbody interventions were effective in improving gi symptoms random effects model rr  108 95  ci 101 to 117 fixed effects model rr  107 95  ci 101 to 112 the remaining five were conducted in three rcts which suggested that mindbody interventions were effective in improving several aspects of quality of life including interference with activity random effects and fixed effects models smd  064 95  ci 041 to 086 body image random effects model smd  036 95  ci 006 to 067 fixed effects model smd  033 95  ci 011 to 055 health worry random effects and fixed effects models smd  067 95  ci 044 to 090 food avoidance random effects and fixed effects models smd  045 95  ci 023 to 068 and social reaction random effects model smd  079 95  ci 047 to 112 fixed effects model smd  078 95  ci 055 to 101 as measured by irritable bowel syndrome quality of life questionnaire  ibsqol mindbody interventions may have the potential to improve gi symptoms in chinese patients with ibs the improvement of gi symptoms was also accompanied with the improvement of various outcomes including depression anxiety and quality of life just to mention a few however the published studies generally had significant methodological limitations future clinical trials with rigorous research design are needed in this field more studies focusing on the mindbody interventions originated in china such as tai chi and qi gong should be encouraged'\n",
            " 'this paper will focus on the concept of how to reduce the complexity of connectivity in an integrated manufacturing engineering system using enterprise service bus esb approach software platform is developed for designing and implementing the interaction and communication between mutually interacting software subsystems and modules for manufacturing engineering systems the developed approach enables a manufacturing engineering systems to make use of a comprehensive flexible and consistent integration and to reduce the complexity of the applications being integrated the main objective of the current study is to analyse esb systems and integrate the data and activities considered with products supply chain and shopfloor management processes'\n",
            " 'nowadays water and energy consumption is intensifying every year in most of the countries this perpetual increase will not be supportable in the long run making urgently to manage these resources on a sustainable way domestic consumptions of water and electric energy usually are related and its important to study that relation identifying opportunities for use efficient improvement in fact without an understanding of waterenergy relations there are water efficiency measures that may lead to unintentional costs in the energy efficiency field in order to take full advantage of combined effect between water and energy water management methodologies it is necessary to collect data to ensure that the efforts are directed through the most effective paths this paper presents a study based in the characterization measurement and analysis of water and electricity consumption in a single family house 2 months period in order to find an interdependent relationship between consumptions at the end user level the study was carried out on about 200 baths divided in four different scenarios where the influence of two variables was tested the flow reducer valve and the bath temperature data showed that the presence of flow reducer valve decreased electric energy consumption and water consumption but increased the bath duration setting a lower temperature in waterheater decreased electric consumption water consumption and bath duration analysing the influence of the flow reducer valve and 60 degrees c temperature simultaneously it was concluded that it had a significant influence on electric energy consumption and on the baths duration but had no influence on water consumption c 2017 the authors published by elsevier bv'\n",
            " 'amyotrophic lateral sclerosis als is a neurodegenerative disorder that primarily affects the motor system and presents with progressive muscle weakness most patients survive for only 25 years after disease onset often due to failure of the respiratory muscles als is a familial disease in similar to 10 of patients with the remaining 90 developing sporadic als over the past decade major advances have been made in our understanding of the genetics and neuropathology of als to date around 20 genes are associated with als with the most common causes of typical als associated with mutations in sod1 tardbp fus and c9orf72 advances in our understanding of the genetic basis of als have led to the creation of different models of this disease the molecular pathways that have emerged from these systems are more heterogeneous than previously anticipated ranging from protein aggregation and defects in multiple key cellular processes in neurons to dysfunction of surrounding nonneuronal cells here we review the different model systems used to study als and discuss how they have contributed to our current knowledge of als disease mechanisms a better understanding of emerging disease pathways the detrimental effects of the various gene mutations and the causes underlying motor neuron denegation in sporadic als will accelerate progress in the development of novel treatments'\n",
            " 'objective the objective of this study was to determine the contribution of lymphatic tissue to heterotopic ossification ho background ho is the pathologic development of ectopic bone within soft tissues often following severe trauma characterization of the tissue niche supporting ho is critical to identifying therapies directed against this condition lymphangiogenesis is upregulated during incidents of trauma thereby coincident with the niche supportive of ho we hypothesized that lymphatic tissues play a critical role in ho formation methods mice underwent hindlimb achilles tendon transection and dorsal burn injury burntenotomy to induce ho the popliteal and inguinal lymph nodes were excised ipsilateral to the tenotomy site flow cytometry and immunostaining were used to quantify and localize lymphoendothelium microct was used to quantify ho results enrichment of mature lymphatic tissues was noted 2 weeks after injury at the tendon transection sites when compared with the contralateral intact tendon based on lyve1 tubules 109 vs 08 p  005 excision of the inguinal and popliteal nodes with draining popliteal lymphatic vessel significantly decreased the presence of mature lymphoendothelium 2 weeks after injury 109 vs 33 p  005 bonecartilagestromal progenitor cells cd105alphavtie2cd45cd90bp1 were also significantly decreased after lymph node excision 102 vs 05 p  005 a significant decrease was noted in the volume of de novo hopresent within the soft tissues 012 mm3 vs 002 mm3 conclusion these findings suggest that lymphatic vessels are intimately linked with the de novo formation bone within soft tissues following trauma and their presence may facilitate bone formation'\n",
            " 'the lipolysis reaction carried out by lipases at the water lipid interface is a complex process including enzyme conformational changes adsorptiondesorption equilibrium and substrate hydrolysis mixed monomolecular films of the lipase inhibitor orlistat and 12dicaprin were used here to investigate the adsorption of dog gastric lipase dgl followed by the hydrolysis of 12dicaprin the combined study of these two essential catalysis steps was made possible thanks to the highest affinity of dgl for orlistat than 12dicaprin and the fact that the inhibition of dgl by orlistat is reversible upon dgl binding to mixed 12dicaprinorlistat monolayers an increase in surface pressure reflecting lipase adsorption was first recorded limited amounts of orlistat allowed to maintain dgl inactive on 12dicaprin during a period of time that was sufficient to determine dgl adsorption and desorption rate constants a decrease in surface pressure reflecting 12dicaprin hydrolysis and product desorption was observed after the slow hydrolysis of the covalent dglorlistat complex was complete the rate of 12dicaprin hydrolysis was recorded using the surface barostat technique based on a kinetic model describing the inhibition by orlistat and the activity of dgl on a mixed 12dicaprinorlistat monolayer spread at the air water interface combined with surface pressure measurements it was possible to monitor dgl adsorption at the lipid water interface and substrate hydrolysis in the course of a single experiment this allowed to assess the kcatkm ratio for dgl acting on 12dicaprin monolayer after showing that mixed monolayers containing a low fraction of orlistat were similar to pure 12dicaprin monolayers c 2014 elsevier masson sas all rights reserved']\n",
            "[' mine wastes water pollution hydrologic tracer hyporheic zone biogeochemical barriers        '\n",
            " ' histamine h4 receptor single nucleotide polymorphism allergic rhinitis desloratadine h1 antihistamines efficacy        '\n",
            " ' body checking questionnaire eating disorders body image body image disturbances adolescents        '\n",
            " ' humidity sensors impedance spectra tin dioxide        '\n",
            " ' mindbody interventions irritable bowel syndrome chinese metaanalysis        '\n",
            " ' enterprise service bus emanufacturing integrated manufacturing management systems computer integrated manufacturing        '\n",
            " ' waterenergy relation baths consumption residential in situ measurement        '\n",
            " ' c elegans fruit fly motor neuron neurodegeneration zebrafish ipscs        '\n",
            " ' bone cartilage endochondral ossification heterotopic ossification immunology lymphatic wound healing        '\n",
            " ' enzyme kinetics interfacial enzymology lipase lipolysis monomolecular film lipase inhibition        ']\n",
            "['Civil' 'Medical' 'Psychology' 'ECE' 'Medical' 'MAE' 'ECE' 'biochemistry'\n",
            " 'biochemistry' 'biochemistry']\n",
            "['4' '5' '2' '1' '5' '3' '1' '6' '6' '6']\n",
            "[4 5 2 1 5 3 1 6 6 6]\n"
          ]
        }
      ],
      "source": [
        "# Shuffle data\n",
        "dataShuffled = sklearn.utils.shuffle(tsvData)\n",
        "\n",
        "abstractsShuffled = dataShuffled[:,3]\n",
        "keywordsShuffled = dataShuffled[:,2]\n",
        "domainsShuffled = dataShuffled[:,1]\n",
        "allLabelsShuffled = dataShuffled[:,0]\n",
        "\n",
        "print(\"Number of abstracts: \", len(abstractsShuffled))\n",
        "print(\"Shape of abstracts: \", np.shape(abstractsShuffled))\n",
        "print(abstractsShuffled[0:2])\n",
        "\n",
        "print(\"Number of keywords: \", len(keywordsShuffled))\n",
        "print(\"Shape of keywords: \", np.shape(keywordsShuffled))\n",
        "print(abstractsShuffled[0:2])\n",
        "\n",
        "print(\"Number of domains: \", len(domainsShuffled))\n",
        "print(\"Shape of domains: \", np.shape(domainsShuffled))\n",
        "print(domainsShuffled[0:2])\n",
        "\n",
        "print(\"Number of labels: \", len(allLabelsShuffled))\n",
        "print(\"Shape of labels: \", np.shape(allLabelsShuffled))\n",
        "print(allLabelsShuffled[0:2])\n",
        "\n",
        "\n",
        "# Convert labels to integer\n",
        "allLabelsDigitShuffled = allLabelsShuffled.astype(int)\n",
        "\n",
        "print(abstractsShuffled[0:10])\n",
        "print(keywordsShuffled[0:10])\n",
        "print(domainsShuffled[0:10])\n",
        "print(allLabelsShuffled[0:10])\n",
        "print(allLabelsDigitShuffled[0:10])"
      ]
    },
    {
      "cell_type": "code",
      "execution_count": 12,
      "metadata": {
        "id": "oE8v68D2DN6A",
        "colab": {
          "base_uri": "https://localhost:8080/",
          "height": 301,
          "referenced_widgets": [
            "c9abd590f4004324928829bffba0100e",
            "8eb5aff198cc49659b3900671f16fa22",
            "bce026e9c9ff40afb219d40ec838ce68",
            "3a84b48aa1b14f8f85d702e4725690d8",
            "5479de7dcd764943bacd8421a4cd8c6e",
            "372047e901374098874922fa0f007d7a",
            "23e3155db96a463a9d8a5db3c9fed023",
            "ebdb6268693c48d685e4073884958b4c",
            "12fc4a27cdd64b4f84b2c21e97bb336b",
            "87d040718238400a88d82b1c04d97c72",
            "45f20025db15466aa407b7734215bcd3",
            "89474b2f600d4cd696078457268b17c6",
            "7f7c62e5eec947d388c1cd6b85747127",
            "781fb2c6a6fe45e3b660729e64b9a97d",
            "4656a30edc8a4dbf93c8641b01493098",
            "66a40552416e4674b76ee5031472f1ab",
            "7091eceae83b47cc93850fec3f6382c8",
            "b6808547c37b4270be632770b3adbf33",
            "2397407b06bd4bc48eca80800a22ebdc",
            "57b89c747f6d40c69a78c6ad8d067a42",
            "d073029e679e4e149a00e111003b9b92",
            "b969e4375c27433ea4f5eccd4c07b0cb"
          ]
        },
        "outputId": "67094083-eb08-4348-e71d-4754ee1cf0cf"
      },
      "outputs": [
        {
          "output_type": "stream",
          "name": "stdout",
          "text": [
            "(37588, 4)\n",
            "(9397, 4)\n",
            "(37588, 4)\n",
            "(9397, 4)\n",
            "(1880, 4)\n"
          ]
        },
        {
          "output_type": "stream",
          "name": "stderr",
          "text": [
            "/usr/local/lib/python3.10/dist-packages/huggingface_hub/utils/_token.py:89: UserWarning: \n",
            "The secret `HF_TOKEN` does not exist in your Colab secrets.\n",
            "To authenticate with the Hugging Face Hub, create a token in your settings tab (https://huggingface.co/settings/tokens), set it as secret in your Google Colab and restart your session.\n",
            "You will be able to reuse this secret in all of your notebooks.\n",
            "Please note that authentication is recommended but still optional to access public models or datasets.\n",
            "  warnings.warn(\n"
          ]
        },
        {
          "output_type": "display_data",
          "data": {
            "text/plain": [
              "config.json:   0%|          | 0.00/385 [00:00<?, ?B/s]"
            ],
            "application/vnd.jupyter.widget-view+json": {
              "version_major": 2,
              "version_minor": 0,
              "model_id": "c9abd590f4004324928829bffba0100e"
            }
          },
          "metadata": {}
        },
        {
          "output_type": "display_data",
          "data": {
            "text/plain": [
              "vocab.txt:   0%|          | 0.00/228k [00:00<?, ?B/s]"
            ],
            "application/vnd.jupyter.widget-view+json": {
              "version_major": 2,
              "version_minor": 0,
              "model_id": "89474b2f600d4cd696078457268b17c6"
            }
          },
          "metadata": {}
        }
      ],
      "source": [
        "# Split dataset into training and testing (80/20 split)\n",
        "train_data, test_data = train_test_split(dataShuffled, test_size=0.2, random_state=42)\n",
        "print(np.shape(train_data))\n",
        "print(np.shape(test_data))\n",
        "\n",
        "# Further split training data into training and validation (80/20 split of training set)\n",
        "_, val_data = train_test_split(test_data, test_size=0.2, random_state=42)\n",
        "print(np.shape(train_data))\n",
        "print(np.shape(test_data))\n",
        "print(np.shape(val_data))\n",
        "# Load SciBERT tokenizer\n",
        "tokenizer = AutoTokenizer.from_pretrained(\"allenai/scibert_scivocab_uncased\")"
      ]
    },
    {
      "cell_type": "code",
      "execution_count": 13,
      "metadata": {
        "id": "ONFXZGUUDN6A",
        "colab": {
          "base_uri": "https://localhost:8080/"
        },
        "outputId": "ee3ca088-5145-498a-92fd-8146f8a97e04"
      },
      "outputs": [
        {
          "output_type": "stream",
          "name": "stdout",
          "text": [
            "Number of abstracts:  37588\n",
            "Shape of abstracts:  (37588,)\n",
            "Number of keywords:  37588\n",
            "Shape of keywords:  (37588,)\n",
            "Number of domains:  37588\n",
            "Shape of domains:  (37588,)\n",
            "Number of labels:  37588\n",
            "Shape of labels:  (37588,)\n",
            "['while many studies have focused on identifying the neural and behavioral characteristics of decodingbased reading disorder rd aka developmental dyslexia the etiology of rd remains largely unknown and understudied because the brain plays an intermediate role between genetic factors and behavioral outcomes it is promising to address causality from a neural perspective in the current study part i of the twopart review we discuss neuroimaging approaches to addressing the causality issue and review the results of studies that have employed these approaches we assume that if a neural signature were associated with rd etiology it would a manifest across comparisons in different languages b be experience independent and appear in comparisons between rd and readingmatched controls c be present both pre and postintervention d be found in atrisk prereading children and e be associated with genetic risk we discuss each of these five characteristics in turn and summarize the studies that have examined each of them the available literature provides evidence that anomalies in left temporoparietal cortex and possibly occipitotemporal cortex may be closely related to the etiology of rd improved understanding of the etiology of rd can help improve the accuracy of early detection and enable targeted intervention of cognitive processes that are amenable to change leading to improved outcomes in atrisk or affected populations'\n",
            " 'background salome study to assess longerterm opioid medication effectiveness tested in a doubleblind noninferiority clinical trial if hydromorphone could be as effective as diacetylmorphine for severe opioid use disorder although participants did not guess treatment correctly beyond what is expected by chance perceived treatment assignment could affect patients response to treatment this study tested if treatment allocation guess is associated with treatment outcomes and identified predictors of guessmethods data were obtained through questionnaires and clinical records participants were asked what medication they thought they were receiving diacetylmorphine hydromorphone or unsure and their openended reasons multinomial logistic regression was used to assess the predictors of treatment guess an inductive thematic analysis was used to code openended responses this clinical trial was registered with us national institutes of health httpsclinicaltrialsgovct2shownct01447212findings participants referred to prior experiences with opioids and the presence or absence of specific drug effects as reasons for their guesses there were no differences in illicit opioid use and retention by guess however those who guessed diacetylmorphine had better physical and mental health scores participants with a treatmentrelated observed drowsiness event and higher perceived drugrelated high scores were more likely to guess diacetylmorphine compared to hydromorphone guessing hydromorphone was more likely among those who made negative comments as reasons for treatment guessesconclusions understanding the clues participants use for treatment allocation guesses and relating them to treatment expectations could be integrated with accurate information about the treatment providing an opportunity for patientphysician shared decisionmaking in opioid maintenance treatmentclinical trial registration us national institutes of health clinicaltrialsgov identifier nct01447212 httpsclinicaltrialsgovct2shownct01447212']\n",
            "[' reading disorder developmental dyslexia etiology causal inference neuroimaging crosscultural readingmatched design behavioral intervention preliterate imaging genetics        '\n",
            " ' blinding masking opioid dependence supervised injectable diacetylmorphine supervised injectable hydromorphone treatment expectations        ']\n",
            "['biochemistry' 'Medical']\n",
            "['6' '5']\n"
          ]
        }
      ],
      "source": [
        "abstractsTrain = train_data[:,3]\n",
        "keywordsTrain = train_data[:,2]\n",
        "domainsTrain = train_data[:,1]\n",
        "allLabelsTrain = train_data[:,0]\n",
        "\n",
        "print(\"Number of abstracts: \",len(abstractsTrain))\n",
        "print(\"Shape of abstracts: \",np.shape(abstractsTrain))\n",
        "print(\"Number of keywords: \",len(keywordsTrain))\n",
        "print(\"Shape of keywords: \",np.shape(keywordsTrain))\n",
        "print(\"Number of domains: \",len(domainsTrain))\n",
        "print(\"Shape of domains: \",np.shape(domainsTrain))\n",
        "print(\"Number of labels: \",len(allLabelsTrain))\n",
        "print(\"Shape of labels: \",np.shape(allLabelsTrain))\n",
        "\n",
        "print(abstractsTrain[0:2])\n",
        "print(keywordsTrain[0:2])\n",
        "print(domainsTrain[0:2])\n",
        "print(allLabelsTrain[0:2])"
      ]
    },
    {
      "cell_type": "code",
      "execution_count": 14,
      "metadata": {
        "id": "RBJjrIkeDN6A",
        "colab": {
          "base_uri": "https://localhost:8080/",
          "height": 689
        },
        "outputId": "f5599dbc-70cb-440c-cad4-a3f62de10818"
      },
      "outputs": [
        {
          "output_type": "stream",
          "name": "stdout",
          "text": [
            "Labels  ['CS' 'Civil' 'ECE' 'MAE' 'Medical' 'Psychology' 'biochemistry']\n",
            "Label counts  [ 5201  3387  4429  2660 11651  5714  4546]\n"
          ]
        },
        {
          "output_type": "display_data",
          "data": {
            "text/plain": [
              "<Figure size 1000x600 with 1 Axes>"
            ],
            "image/png": "[encoded data removed]"
          },
          "metadata": {}
        },
        {
          "output_type": "stream",
          "name": "stdout",
          "text": [
            "The domain CS has 5201 records in the training set.\n",
            "The domain Civil has 3387 records in the training set.\n",
            "The domain ECE has 4429 records in the training set.\n",
            "The domain MAE has 2660 records in the training set.\n",
            "The domain Medical has 11651 records in the training set.\n",
            "The domain Psychology has 5714 records in the training set.\n",
            "The domain biochemistry has 4546 records in the training set.\n"
          ]
        }
      ],
      "source": [
        "labels = np.unique(domainsTrain, return_counts=True)[0]\n",
        "labelCounts =  np.unique(domainsTrain, return_counts=True)[1]\n",
        "\n",
        "print(\"Labels \", labels)\n",
        "print(\"Label counts \", labelCounts)\n",
        "\n",
        "nAbstract = len(abstractsTrain)\n",
        "plt.figure(figsize=(10, 6))\n",
        "plt.title(\"Domain Counts (Training Set)\")\n",
        "plt.pie(labelCounts, labels=labels, autopct='%1.1f%%', startangle=140, colors=plt.cm.Paired(range(len(labels))))\n",
        "plt.axis('equal')  # Equal aspect ratio ensures that pie is drawn as a circle.\n",
        "plt.show()\n",
        "\n",
        "for i, domain in enumerate(labels):\n",
        "    print(\"The domain\", domain, \"has\", labelCounts[i], \"records in the training set.\")"
      ]
    },
    {
      "cell_type": "code",
      "execution_count": 15,
      "metadata": {
        "id": "o4urSnRFDN6B",
        "colab": {
          "base_uri": "https://localhost:8080/"
        },
        "outputId": "26462fcb-417a-4c76-878d-a70b597d1c66"
      },
      "outputs": [
        {
          "output_type": "stream",
          "name": "stdout",
          "text": [
            "Number of abstracts:  9397\n",
            "Shape of abstracts:  (9397,)\n",
            "Number of keywords:  9397\n",
            "Shape of keywords:  (9397,)\n",
            "Number of domains:  9397\n",
            "Shape of domains:  (9397,)\n",
            "Number of labels:  9397\n",
            "Shape of labels:  (9397,)\n",
            "['occupational and recreational aquatic activity predisposes our population to a wide variety of dermatoses sunburn urticaria jellyfish stings and contact dermatitis to rubber equipment are common allergies that are encountered in the aquatic environment among the infections tinea versicolor intertrigo and verruca vulgaris are widespread swimmers itch may occur due to skin penetration by schistosome cercariae while freefloating nematocysts of marine coelenterates may precipitate seabathers eruption suit squeeze due to cutaneous barotrauma and lymphoedematous peau dorange due to decompression are rare described entities this review serves as a ready reckoner for indian dermatologists and medical practitioners to identify and manage these conditions'\n",
            " 'there are number of casualties and economic losses alarming caused by geological disasters each year in china it is serious to prevent and control geological disaster in order to make graduate students master the theory and practical skills of geological disaster prevention and control work the paper focuses on the construction and significance of geological hazard case database we summarize the work of the practical problems and put forward the construction of geological disaster case base ideas the construction of the case base adopts the structure from the total to the minute and strictly follows the principle of comprehensiveness extensiveness typicality and gradient at present some domestic geological disaster control engineering design and related colleges and universities of geological hazard risk assessment courseware have been collected it is necessary for course of geological disaster prevention and control to use case teaching method it will bring innovation to teaching curriculum training for the geological disaster prevention and treatment of talents and promote the work of geological disaster prevention and control to a new level']\n",
            "[' aquatic dermatoses diving marine swimming        '\n",
            " ' case teaching method geological disaster prevention and control case base construction innovation of teaching        ']\n",
            "['Medical' 'ECE']\n",
            "['5' '1']\n"
          ]
        }
      ],
      "source": [
        "abstractsTest = test_data[:,3]\n",
        "keywordsTest = test_data[:,2]\n",
        "domainsTest = test_data[:,1]\n",
        "allLabelsTest = test_data[:,0]\n",
        "\n",
        "print(\"Number of abstracts: \",len(abstractsTest))\n",
        "print(\"Shape of abstracts: \",np.shape(abstractsTest))\n",
        "print(\"Number of keywords: \",len(keywordsTest))\n",
        "print(\"Shape of keywords: \",np.shape(keywordsTest))\n",
        "print(\"Number of domains: \",len(domainsTest))\n",
        "print(\"Shape of domains: \",np.shape(domainsTest))\n",
        "print(\"Number of labels: \",len(allLabelsTest))\n",
        "print(\"Shape of labels: \",np.shape(allLabelsTest))\n",
        "\n",
        "# arr = np.array(domainsTest)\n",
        "# cleaned_domains = np.char.strip(arr)\n",
        "# print(\"Cleaned arr \", cleaned_domains)\n",
        "# domainsLabelsTest = cleaned_domains\n",
        "# print(\"Labels domains \", domainsLabelsTest)\n",
        "\n",
        "print(abstractsTest[0:2])\n",
        "print(keywordsTest[0:2])\n",
        "print(domainsTest[0:2])\n",
        "print(allLabelsTest[0:2])"
      ]
    },
    {
      "cell_type": "code",
      "execution_count": 16,
      "metadata": {
        "id": "wXDx7H28DN6B",
        "colab": {
          "base_uri": "https://localhost:8080/",
          "height": 690
        },
        "outputId": "3c2e73c2-5c7a-4954-e70b-ecebd4f90232"
      },
      "outputs": [
        {
          "output_type": "stream",
          "name": "stdout",
          "text": [
            "Labels  ['CS' 'Civil' 'ECE' 'MAE' 'Medical' 'Psychology' 'biochemistry']\n",
            "Label counts  [1313  850 1054  637 2974 1428 1141]\n"
          ]
        },
        {
          "output_type": "display_data",
          "data": {
            "text/plain": [
              "<Figure size 1000x600 with 1 Axes>"
            ],
            "image/png": "[encoded data removed]"
          },
          "metadata": {}
        },
        {
          "output_type": "stream",
          "name": "stdout",
          "text": [
            "The domain CS has 1313 records in the test set.\n",
            "The domain Civil has 850 records in the test set.\n",
            "The domain ECE has 1054 records in the test set.\n",
            "The domain MAE has 637 records in the test set.\n",
            "The domain Medical has 2974 records in the test set.\n",
            "The domain Psychology has 1428 records in the test set.\n",
            "The domain biochemistry has 1141 records in the test set.\n"
          ]
        }
      ],
      "source": [
        "labels = np.unique(domainsTest, return_counts=True)[0]\n",
        "labelCounts =  np.unique(domainsTest, return_counts=True)[1]\n",
        "\n",
        "print(\"Labels \", labels)\n",
        "print(\"Label counts \", labelCounts)\n",
        "\n",
        "nAbstract = len(abstractsTest)\n",
        "plt.figure(figsize=(10, 6))\n",
        "plt.title(\"Domain Counts (Test Set)\")\n",
        "plt.pie(labelCounts, labels=labels, autopct='%1.1f%%', startangle=140, colors=plt.cm.Paired(range(len(labels))))\n",
        "plt.axis('equal')  # Equal aspect ratio ensures that pie is drawn as a circle.\n",
        "plt.show()\n",
        "\n",
        "for i, domain in enumerate(labels):\n",
        "    print(\"The domain\", domain, \"has\", labelCounts[i], \"records in the test set.\")"
      ]
    },
    {
      "cell_type": "code",
      "execution_count": 17,
      "metadata": {
        "id": "zkEyui06DN6B",
        "colab": {
          "base_uri": "https://localhost:8080/"
        },
        "outputId": "3e7f4574-0fc6-4be9-85ab-205fcbb506f4"
      },
      "outputs": [
        {
          "output_type": "stream",
          "name": "stdout",
          "text": [
            "Number of abstracts:  1880\n",
            "Shape of abstracts:  (1880,)\n",
            "Number of keywords:  1880\n",
            "Shape of keywords:  (1880,)\n",
            "Number of domains:  1880\n",
            "Shape of domains:  (1880,)\n",
            "Number of labels:  1880\n",
            "Shape of labels:  (1880,)\n",
            "['nonrigid video interpolation is a common computer vision task in this paper we present an optical flow approach which adopts a laplacian cotangent mesh constraint to enhance the local smoothness similar to li et al our approach adopts a mesh to the image with a resolution up to one vertex per pixel and uses angle constraints to ensure sensible local deformations between image pairs the laplacian mesh constraints are expressed wholly inside the optical flow optimization and can be applied in a straightforward manner to a wide range of image tracking and registration problems we evaluate our approach by testing on several benchmark datasets including the middlebury and garg et al datasets in addition we show application of our method for constructing 3d morphable facial models from dynamic 3d data'\n",
            " 'objective computational models represent a novel framework for understanding the mechanisms behind atrial fibrillation af and offer a pathway for personalizing and optimizing treatment the characterization of local electrophysiological properties across the atria during procedures remains a challenge the aim of this work is to characterize the regional properties of the human atrium from multielectrode catheter measurements methods we propose a novel method that characterizes regional electrophysiology properties by fitting parameters of an ionic model to conduction velocity and effective refractory period restitution curves obtained by a s1s2 pacing protocol applied through a multielectrode catheter using an insilico dataset we demonstrate that the fitting method can constrain parameters with a mean error of 219  161 and can replicate conduction velocity and effective refractory curves not used in the original fitting with a relative error of 44  69 results we demonstrate this parameter estimation approach on five clinical datasets recorded from af patients recordings and parametrization took approx 5 and 6 min respectively models fitted restitution curves with an error of similar to 5 and identify a unique parameter set tissue properties were predicted using a twodimensional atrial tissue sheet model spiral wave stability in each case was predicted using tissue simulations identifying distinct stable 25 meandering and breaking up 25 and unstable selfterminating 15 spiral tip patterns for different cases conclusion and significance we have developed and demonstrated a robust and rapid approach for personalizing local ionic models from a clinically tractable protocol to characterize cellular properties and predict tissue electrophysiological function']\n",
            "[' optical flow nonrigid deformation video interpolation laplacian smoothness        '\n",
            " ' atrial fibrillation af catheter measurements computational model conduction velocity effective refractory periods electrograms model personalization restitution curves        ']\n",
            "['CS' 'Medical']\n",
            "['0' '5']\n"
          ]
        }
      ],
      "source": [
        "abstractsVal = val_data[:,3]\n",
        "keywordsVal = val_data[:,2]\n",
        "domainsVal = val_data[:,1]\n",
        "allLabelsVal = val_data[:,0]\n",
        "\n",
        "print(\"Number of abstracts: \",len(abstractsVal))\n",
        "print(\"Shape of abstracts: \",np.shape(abstractsVal))\n",
        "print(\"Number of keywords: \",len(keywordsVal))\n",
        "print(\"Shape of keywords: \",np.shape(keywordsVal))\n",
        "print(\"Number of domains: \",len(domainsVal))\n",
        "print(\"Shape of domains: \",np.shape(domainsVal))\n",
        "print(\"Number of labels: \",len(allLabelsVal))\n",
        "print(\"Shape of labels: \",np.shape(allLabelsVal))\n",
        "\n",
        "print(abstractsVal[0:2])\n",
        "print(keywordsVal[0:2])\n",
        "print(domainsVal[0:2])\n",
        "print(allLabelsVal[0:2])"
      ]
    },
    {
      "cell_type": "code",
      "execution_count": 18,
      "metadata": {
        "id": "1ax8-nZaDN6B",
        "colab": {
          "base_uri": "https://localhost:8080/",
          "height": 690
        },
        "outputId": "59fc7ded-4a1a-40c6-add5-32d7bdeddb93"
      },
      "outputs": [
        {
          "output_type": "stream",
          "name": "stdout",
          "text": [
            "Labels  ['CS' 'Civil' 'ECE' 'MAE' 'Medical' 'Psychology' 'biochemistry']\n",
            "Label counts  [264 167 204 137 587 289 232]\n"
          ]
        },
        {
          "output_type": "display_data",
          "data": {
            "text/plain": [
              "<Figure size 1000x600 with 1 Axes>"
            ],
            "image/png": "[encoded data removed]"
          },
          "metadata": {}
        },
        {
          "output_type": "stream",
          "name": "stdout",
          "text": [
            "The domain CS has 264 records in the vaidation set.\n",
            "The domain Civil has 167 records in the vaidation set.\n",
            "The domain ECE has 204 records in the vaidation set.\n",
            "The domain MAE has 137 records in the vaidation set.\n",
            "The domain Medical has 587 records in the vaidation set.\n",
            "The domain Psychology has 289 records in the vaidation set.\n",
            "The domain biochemistry has 232 records in the vaidation set.\n"
          ]
        }
      ],
      "source": [
        "labels = np.unique(domainsVal, return_counts=True)[0]\n",
        "labelCounts =  np.unique(domainsVal, return_counts=True)[1]\n",
        "\n",
        "print(\"Labels \", labels)\n",
        "print(\"Label counts \", labelCounts)\n",
        "\n",
        "nAbstract = len(abstractsVal)\n",
        "plt.figure(figsize=(10, 6))\n",
        "plt.title(\"Domain Counts (Validation Set)\")\n",
        "plt.pie(labelCounts, labels=labels, autopct='%1.1f%%', startangle=140, colors=plt.cm.Paired(range(len(labels))))\n",
        "plt.axis('equal')  # Equal aspect ratio ensures that pie is drawn as a circle.\n",
        "plt.show()\n",
        "\n",
        "for i, domain in enumerate(labels):\n",
        "    print(\"The domain\", domain, \"has\", labelCounts[i], \"records in the vaidation set.\")"
      ]
    },
    {
      "cell_type": "code",
      "execution_count": 19,
      "metadata": {
        "id": "sxbOFbMrDN6C"
      },
      "outputs": [],
      "source": [
        "# Function to tokenize and encode the dataset\n",
        "def encode_data(data, tokenizer, max_length=128):\n",
        "    # print(len(data[:,2]))\n",
        "    inputs = tokenizer(\n",
        "        data[:,2].tolist(), # Keywords 2\n",
        "        max_length=max_length,\n",
        "        padding='max_length',\n",
        "        truncation=True,\n",
        "        return_tensors=\"pt\"\n",
        "    )\n",
        "    # print(len(dataShuffled[:, 0]))\n",
        "    labels = torch.tensor(data[:, 0].astype(int))\n",
        "    print(\"Label length \", len(labels))\n",
        "    return TensorDataset(inputs['input_ids'], inputs['attention_mask'], labels)"
      ]
    },
    {
      "cell_type": "code",
      "execution_count": 20,
      "metadata": {
        "id": "Y8_HDuDUDN6C",
        "colab": {
          "base_uri": "https://localhost:8080/"
        },
        "outputId": "4f4a9908-c261-4da5-c50a-60bfb22c5a97"
      },
      "outputs": [
        {
          "output_type": "stream",
          "name": "stdout",
          "text": [
            "(37588, 4)\n",
            "(9397, 4)\n",
            "(1880, 4)\n"
          ]
        }
      ],
      "source": [
        "print(np.shape(train_data))\n",
        "print(np.shape(test_data))\n",
        "print(np.shape(val_data))\n"
      ]
    },
    {
      "cell_type": "code",
      "execution_count": 21,
      "metadata": {
        "id": "c6avATPgDN6C",
        "colab": {
          "base_uri": "https://localhost:8080/"
        },
        "outputId": "65b52a73-7648-4b37-b40e-7ab53a1699fa"
      },
      "outputs": [
        {
          "output_type": "stream",
          "name": "stdout",
          "text": [
            "Label length  37588\n",
            "Label length  1880\n",
            "Label length  9397\n"
          ]
        }
      ],
      "source": [
        "# Encode training, validation, and testing data\n",
        "train_dataset = encode_data(train_data, tokenizer)\n",
        "val_dataset = encode_data(val_data, tokenizer)\n",
        "test_dataset = encode_data(test_data, tokenizer)\n",
        "\n",
        "\n",
        "\n",
        "# Data loaders\n",
        "train_dataloader = DataLoader(train_dataset, sampler=RandomSampler(train_dataset), batch_size=32)\n",
        "val_dataloader = DataLoader(val_dataset, sampler=SequentialSampler(val_dataset), batch_size=32)\n",
        "test_dataloader = DataLoader(test_dataset, sampler=SequentialSampler(test_dataset), batch_size=32)"
      ]
    },
    {
      "cell_type": "code",
      "execution_count": 22,
      "metadata": {
        "id": "ybVLIN-JDN6C",
        "colab": {
          "base_uri": "https://localhost:8080/",
          "height": 940,
          "referenced_widgets": [
            "5fcaddd6c1274d8e8bc1c6d7956b6285",
            "60b0cfa5868a42959f9900786bcd1dae",
            "1afb00d98506457caa6e087b065fc3b3",
            "26f5b48a5fc7457cb882b4836d2342fb",
            "81ab7871bc7b41dd841dfccd40ce7e9f",
            "c26fa64c68ce42f7972e890bc34ac6a0",
            "339f9bbdd8364ee4b887ddf62d71d1fd",
            "c31f99811cd845c38571460acb06f37c",
            "148fc79a826d44eebaf26ddfb953c49c",
            "0dfed05efb434572adc0ee44eb585b89",
            "4d9bf91cba164b78bd3318040f5a25a6"
          ]
        },
        "outputId": "62df79ac-a828-4d1c-b44e-119fae2e0206"
      },
      "outputs": [
        {
          "output_type": "stream",
          "name": "stdout",
          "text": [
            "7\n"
          ]
        },
        {
          "output_type": "display_data",
          "data": {
            "text/plain": [
              "pytorch_model.bin:   0%|          | 0.00/442M [00:00<?, ?B/s]"
            ],
            "application/vnd.jupyter.widget-view+json": {
              "version_major": 2,
              "version_minor": 0,
              "model_id": "5fcaddd6c1274d8e8bc1c6d7956b6285"
            }
          },
          "metadata": {}
        },
        {
          "output_type": "stream",
          "name": "stderr",
          "text": [
            "Some weights of BertForSequenceClassification were not initialized from the model checkpoint at allenai/scibert_scivocab_uncased and are newly initialized: ['classifier.bias', 'classifier.weight']\n",
            "You should probably TRAIN this model on a down-stream task to be able to use it for predictions and inference.\n"
          ]
        },
        {
          "output_type": "execute_result",
          "data": {
            "text/plain": [
              "BertForSequenceClassification(\n",
              "  (bert): BertModel(\n",
              "    (embeddings): BertEmbeddings(\n",
              "      (word_embeddings): Embedding(31090, 768, padding_idx=0)\n",
              "      (position_embeddings): Embedding(512, 768)\n",
              "      (token_type_embeddings): Embedding(2, 768)\n",
              "      (LayerNorm): LayerNorm((768,), eps=1e-12, elementwise_affine=True)\n",
              "      (dropout): Dropout(p=0.1, inplace=False)\n",
              "    )\n",
              "    (encoder): BertEncoder(\n",
              "      (layer): ModuleList(\n",
              "        (0-11): 12 x BertLayer(\n",
              "          (attention): BertAttention(\n",
              "            (self): BertSdpaSelfAttention(\n",
              "              (query): Linear(in_features=768, out_features=768, bias=True)\n",
              "              (key): Linear(in_features=768, out_features=768, bias=True)\n",
              "              (value): Linear(in_features=768, out_features=768, bias=True)\n",
              "              (dropout): Dropout(p=0.1, inplace=False)\n",
              "            )\n",
              "            (output): BertSelfOutput(\n",
              "              (dense): Linear(in_features=768, out_features=768, bias=True)\n",
              "              (LayerNorm): LayerNorm((768,), eps=1e-12, elementwise_affine=True)\n",
              "              (dropout): Dropout(p=0.1, inplace=False)\n",
              "            )\n",
              "          )\n",
              "          (intermediate): BertIntermediate(\n",
              "            (dense): Linear(in_features=768, out_features=3072, bias=True)\n",
              "            (intermediate_act_fn): GELUActivation()\n",
              "          )\n",
              "          (output): BertOutput(\n",
              "            (dense): Linear(in_features=3072, out_features=768, bias=True)\n",
              "            (LayerNorm): LayerNorm((768,), eps=1e-12, elementwise_affine=True)\n",
              "            (dropout): Dropout(p=0.1, inplace=False)\n",
              "          )\n",
              "        )\n",
              "      )\n",
              "    )\n",
              "    (pooler): BertPooler(\n",
              "      (dense): Linear(in_features=768, out_features=768, bias=True)\n",
              "      (activation): Tanh()\n",
              "    )\n",
              "  )\n",
              "  (dropout): Dropout(p=0.1, inplace=False)\n",
              "  (classifier): Linear(in_features=768, out_features=7, bias=True)\n",
              ")"
            ]
          },
          "metadata": {},
          "execution_count": 22
        }
      ],
      "source": [
        "# Load SciBERT model\n",
        "print(len(np.unique(train_data[:,0])))\n",
        "model = AutoModelForSequenceClassification.from_pretrained(\"allenai/scibert_scivocab_uncased\", num_labels=len(np.unique(train_data[:,0])))\n",
        "device = torch.device(\"cuda\" if torch.cuda.is_available() else \"cpu\")\n",
        "model.to(device)"
      ]
    },
    {
      "cell_type": "code",
      "execution_count": 23,
      "metadata": {
        "id": "ps1DInjXDN6C",
        "colab": {
          "base_uri": "https://localhost:8080/"
        },
        "outputId": "432c21c0-532a-49b0-90d3-553e128fe9eb"
      },
      "outputs": [
        {
          "output_type": "execute_result",
          "data": {
            "text/plain": [
              "BertConfig {\n",
              "  \"_name_or_path\": \"allenai/scibert_scivocab_uncased\",\n",
              "  \"attention_probs_dropout_prob\": 0.1,\n",
              "  \"classifier_dropout\": null,\n",
              "  \"hidden_act\": \"gelu\",\n",
              "  \"hidden_dropout_prob\": 0.1,\n",
              "  \"hidden_size\": 768,\n",
              "  \"id2label\": {\n",
              "    \"0\": \"LABEL_0\",\n",
              "    \"1\": \"LABEL_1\",\n",
              "    \"2\": \"LABEL_2\",\n",
              "    \"3\": \"LABEL_3\",\n",
              "    \"4\": \"LABEL_4\",\n",
              "    \"5\": \"LABEL_5\",\n",
              "    \"6\": \"LABEL_6\"\n",
              "  },\n",
              "  \"initializer_range\": 0.02,\n",
              "  \"intermediate_size\": 3072,\n",
              "  \"label2id\": {\n",
              "    \"LABEL_0\": 0,\n",
              "    \"LABEL_1\": 1,\n",
              "    \"LABEL_2\": 2,\n",
              "    \"LABEL_3\": 3,\n",
              "    \"LABEL_4\": 4,\n",
              "    \"LABEL_5\": 5,\n",
              "    \"LABEL_6\": 6\n",
              "  },\n",
              "  \"layer_norm_eps\": 1e-12,\n",
              "  \"max_position_embeddings\": 512,\n",
              "  \"model_type\": \"bert\",\n",
              "  \"num_attention_heads\": 12,\n",
              "  \"num_hidden_layers\": 12,\n",
              "  \"pad_token_id\": 0,\n",
              "  \"position_embedding_type\": \"absolute\",\n",
              "  \"transformers_version\": \"4.42.4\",\n",
              "  \"type_vocab_size\": 2,\n",
              "  \"use_cache\": true,\n",
              "  \"vocab_size\": 31090\n",
              "}"
            ]
          },
          "metadata": {},
          "execution_count": 23
        }
      ],
      "source": [
        "model.config"
      ]
    },
    {
      "cell_type": "code",
      "execution_count": 24,
      "metadata": {
        "id": "qmjlyLnkDN6C",
        "colab": {
          "base_uri": "https://localhost:8080/"
        },
        "outputId": "e1e969e3-5ed4-4aa3-b56a-8e000e69f8f2"
      },
      "outputs": [
        {
          "output_type": "stream",
          "name": "stderr",
          "text": [
            "/usr/local/lib/python3.10/dist-packages/transformers/optimization.py:591: FutureWarning: This implementation of AdamW is deprecated and will be removed in a future version. Use the PyTorch implementation torch.optim.AdamW instead, or set `no_deprecation_warning=True` to disable this warning\n",
            "  warnings.warn(\n"
          ]
        }
      ],
      "source": [
        "# Optimizer and learning rate scheduler\n",
        "optimizer = AdamW(model.parameters(), lr=2e-5, eps=1e-8)\n",
        "total_steps = len(train_dataloader) * 20\n",
        "num_warmup_steps = 1e-4\n",
        "scheduler = get_linear_schedule_with_warmup(optimizer, num_warmup_steps=num_warmup_steps, num_training_steps=total_steps)"
      ]
    },
    {
      "cell_type": "code",
      "execution_count": 25,
      "metadata": {
        "id": "xj4AnpxJDN6C"
      },
      "outputs": [],
      "source": [
        "def calculate_metrics(valType, predictions, true_labels):\n",
        "    # Confusion matrix\n",
        "    if(valType == 'test'):\n",
        "        cm = confusion_matrix(true_labels, predictions)\n",
        "        print(\"Confusion Matrix:\\n\", cm)\n",
        "\n",
        "        # Classification report (includes precision, recall, F1 score)\n",
        "        report = classification_report(true_labels, predictions, target_names=[str(i) for i in range(len(np.unique(true_labels)))])\n",
        "        print(\"\\nClassification Report:\\n\", report)\n",
        "\n",
        "        # Calculate different types of F1 scores, precision, and recall\n",
        "        f1_macro = f1_score(true_labels, predictions, average='macro')\n",
        "        f1_micro = f1_score(true_labels, predictions, average='micro')\n",
        "        f1_weighted = f1_score(true_labels, predictions, average='weighted')\n",
        "\n",
        "        precision_macro = precision_score(true_labels, predictions, average='macro')\n",
        "        precision_micro = precision_score(true_labels, predictions, average='micro')\n",
        "        precision_weighted = precision_score(true_labels, predictions, average='weighted')\n",
        "\n",
        "        recall_macro = recall_score(true_labels, predictions, average='macro')\n",
        "        recall_micro = recall_score(true_labels, predictions, average='micro')\n",
        "        recall_weighted = recall_score(true_labels, predictions, average='weighted')\n",
        "\n",
        "        print(f\"Macro F1 Score: {f1_macro}\")\n",
        "        print(f\"Micro F1 Score: {f1_micro}\")\n",
        "        print(f\"Weighted F1 Score: {f1_weighted}\")\n",
        "\n",
        "        print(f\"Macro Precision: {precision_macro}\")\n",
        "        print(f\"Micro Precision: {precision_micro}\")\n",
        "        print(f\"Weighted Precision: {precision_weighted}\")\n",
        "\n",
        "        print(f\"Macro Recall: {recall_macro}\")\n",
        "        print(f\"Micro Recall: {recall_micro}\")\n",
        "        print(f\"Weighted Recall: {recall_weighted}\")\n",
        "\n",
        "    elif(valType == 'val'):\n",
        "        cm = confusion_matrix(true_labels, predictions)\n",
        "        f1_macro = f1_score(true_labels, predictions, average='macro')\n",
        "        f1_micro = f1_score(true_labels, predictions, average='micro')\n",
        "        f1_weighted = f1_score(true_labels, predictions, average='weighted')\n",
        "\n",
        "        precision_macro = precision_score(true_labels, predictions, average='macro')\n",
        "        precision_micro = precision_score(true_labels, predictions, average='micro')\n",
        "        precision_weighted = precision_score(true_labels, predictions, average='weighted')\n",
        "\n",
        "        recall_macro = recall_score(true_labels, predictions, average='macro')\n",
        "        recall_micro = recall_score(true_labels, predictions, average='micro')\n",
        "        recall_weighted = recall_score(true_labels, predictions, average='weighted')\n",
        "        # print('Val Micro F1:', f1_micro)\n",
        "        return f1_micro"
      ]
    },
    {
      "cell_type": "code",
      "execution_count": 26,
      "metadata": {
        "id": "05xzH0FEDN6C",
        "colab": {
          "base_uri": "https://localhost:8080/"
        },
        "outputId": "dc81181b-86e0-4c99-8408-2f39af5481ba"
      },
      "outputs": [
        {
          "output_type": "stream",
          "name": "stderr",
          "text": [
            "Epoch 1/20: 100%|██████████| 1175/1175 [12:13<00:00,  1.60batch/s]\n"
          ]
        },
        {
          "output_type": "stream",
          "name": "stdout",
          "text": [
            "Epoch 1/20\n",
            "  Train Loss: 0.6867219084628085\n",
            "  Val Micro F1: 0.8037234042553192\n",
            "  Time: 12m 25s\n"
          ]
        },
        {
          "output_type": "stream",
          "name": "stderr",
          "text": [
            "Epoch 2/20: 100%|██████████| 1175/1175 [12:12<00:00,  1.60batch/s]\n"
          ]
        },
        {
          "output_type": "stream",
          "name": "stdout",
          "text": [
            "Epoch 2/20\n",
            "  Train Loss: 0.4788790818287971\n",
            "  Val Micro F1: 0.8015957446808512\n",
            "  Time: 12m 25s\n"
          ]
        },
        {
          "output_type": "stream",
          "name": "stderr",
          "text": [
            "Epoch 3/20: 100%|██████████| 1175/1175 [12:12<00:00,  1.60batch/s]\n"
          ]
        },
        {
          "output_type": "stream",
          "name": "stdout",
          "text": [
            "Epoch 3/20\n",
            "  Train Loss: 0.36049057860323724\n",
            "  Val Micro F1: 0.8122340425531915\n",
            "  Time: 12m 25s\n"
          ]
        },
        {
          "output_type": "stream",
          "name": "stderr",
          "text": [
            "Epoch 4/20: 100%|██████████| 1175/1175 [12:12<00:00,  1.60batch/s]\n"
          ]
        },
        {
          "output_type": "stream",
          "name": "stdout",
          "text": [
            "Epoch 4/20\n",
            "  Train Loss: 0.2578614337710624\n",
            "  Val Micro F1: 0.7946808510638298\n",
            "  Time: 12m 25s\n"
          ]
        },
        {
          "output_type": "stream",
          "name": "stderr",
          "text": [
            "Epoch 5/20: 100%|██████████| 1175/1175 [12:14<00:00,  1.60batch/s]\n"
          ]
        },
        {
          "output_type": "stream",
          "name": "stdout",
          "text": [
            "Epoch 5/20\n",
            "  Train Loss: 0.17839816032017164\n",
            "  Val Micro F1: 0.7930851063829787\n",
            "  Time: 12m 26s\n"
          ]
        },
        {
          "output_type": "stream",
          "name": "stderr",
          "text": [
            "Epoch 6/20: 100%|██████████| 1175/1175 [12:13<00:00,  1.60batch/s]\n"
          ]
        },
        {
          "output_type": "stream",
          "name": "stdout",
          "text": [
            "Epoch 6/20\n",
            "  Train Loss: 0.12534972209384307\n",
            "  Val Micro F1: 0.7946808510638298\n",
            "  Time: 12m 26s\n"
          ]
        },
        {
          "output_type": "stream",
          "name": "stderr",
          "text": [
            "Epoch 7/20: 100%|██████████| 1175/1175 [12:14<00:00,  1.60batch/s]\n"
          ]
        },
        {
          "output_type": "stream",
          "name": "stdout",
          "text": [
            "Epoch 7/20\n",
            "  Train Loss: 0.09600923888950035\n",
            "  Val Micro F1: 0.7984042553191489\n",
            "  Time: 12m 26s\n"
          ]
        },
        {
          "output_type": "stream",
          "name": "stderr",
          "text": [
            "Epoch 8/20: 100%|██████████| 1175/1175 [12:13<00:00,  1.60batch/s]\n"
          ]
        },
        {
          "output_type": "stream",
          "name": "stdout",
          "text": [
            "Epoch 8/20\n",
            "  Train Loss: 0.07178592191345276\n",
            "  Val Micro F1: 0.8053191489361702\n",
            "  Time: 12m 26s\n"
          ]
        },
        {
          "output_type": "stream",
          "name": "stderr",
          "text": [
            "Epoch 9/20: 100%|██████████| 1175/1175 [12:14<00:00,  1.60batch/s]\n"
          ]
        },
        {
          "output_type": "stream",
          "name": "stdout",
          "text": [
            "Epoch 9/20\n",
            "  Train Loss: 0.05217644990711631\n",
            "  Val Micro F1: 0.8058510638297873\n",
            "  Time: 12m 27s\n"
          ]
        },
        {
          "output_type": "stream",
          "name": "stderr",
          "text": [
            "Epoch 10/20: 100%|██████████| 1175/1175 [12:14<00:00,  1.60batch/s]\n"
          ]
        },
        {
          "output_type": "stream",
          "name": "stdout",
          "text": [
            "Epoch 10/20\n",
            "  Train Loss: 0.039487633081227345\n",
            "  Val Micro F1: 0.8037234042553192\n",
            "  Time: 12m 27s\n"
          ]
        },
        {
          "output_type": "stream",
          "name": "stderr",
          "text": [
            "Epoch 11/20: 100%|██████████| 1175/1175 [12:13<00:00,  1.60batch/s]\n"
          ]
        },
        {
          "output_type": "stream",
          "name": "stdout",
          "text": [
            "Epoch 11/20\n",
            "  Train Loss: 0.03152088715568522\n",
            "  Val Micro F1: 0.8021276595744681\n",
            "  Time: 12m 26s\n"
          ]
        },
        {
          "output_type": "stream",
          "name": "stderr",
          "text": [
            "Epoch 12/20: 100%|██████████| 1175/1175 [12:13<00:00,  1.60batch/s]\n"
          ]
        },
        {
          "output_type": "stream",
          "name": "stdout",
          "text": [
            "Epoch 12/20\n",
            "  Train Loss: 0.024784926562600996\n",
            "  Val Micro F1: 0.8031914893617021\n",
            "  Time: 12m 26s\n"
          ]
        },
        {
          "output_type": "stream",
          "name": "stderr",
          "text": [
            "Epoch 13/20: 100%|██████████| 1175/1175 [12:13<00:00,  1.60batch/s]\n"
          ]
        },
        {
          "output_type": "stream",
          "name": "stdout",
          "text": [
            "Epoch 13/20\n",
            "  Train Loss: 0.015016300009341881\n",
            "  Val Micro F1: 0.7984042553191489\n",
            "  Time: 12m 26s\n"
          ]
        },
        {
          "output_type": "stream",
          "name": "stderr",
          "text": [
            "Epoch 14/20: 100%|██████████| 1175/1175 [12:12<00:00,  1.60batch/s]\n"
          ]
        },
        {
          "output_type": "stream",
          "name": "stdout",
          "text": [
            "Epoch 14/20\n",
            "  Train Loss: 0.018564437561559472\n",
            "  Val Micro F1: 0.8053191489361702\n",
            "  Time: 12m 25s\n"
          ]
        },
        {
          "output_type": "stream",
          "name": "stderr",
          "text": [
            "Epoch 15/20: 100%|██████████| 1175/1175 [12:13<00:00,  1.60batch/s]\n"
          ]
        },
        {
          "output_type": "stream",
          "name": "stdout",
          "text": [
            "Epoch 15/20\n",
            "  Train Loss: 0.012149065722469266\n",
            "  Val Micro F1: 0.8031914893617021\n",
            "  Time: 12m 25s\n"
          ]
        },
        {
          "output_type": "stream",
          "name": "stderr",
          "text": [
            "Epoch 16/20: 100%|██████████| 1175/1175 [12:13<00:00,  1.60batch/s]\n"
          ]
        },
        {
          "output_type": "stream",
          "name": "stdout",
          "text": [
            "Epoch 16/20\n",
            "  Train Loss: 0.008617416685145223\n",
            "  Val Micro F1: 0.8074468085106383\n",
            "  Time: 12m 26s\n"
          ]
        },
        {
          "output_type": "stream",
          "name": "stderr",
          "text": [
            "Epoch 17/20: 100%|██████████| 1175/1175 [12:13<00:00,  1.60batch/s]\n"
          ]
        },
        {
          "output_type": "stream",
          "name": "stdout",
          "text": [
            "Epoch 17/20\n",
            "  Train Loss: 0.009084534643125346\n",
            "  Val Micro F1: 0.8042553191489362\n",
            "  Time: 12m 26s\n"
          ]
        },
        {
          "output_type": "stream",
          "name": "stderr",
          "text": [
            "Epoch 18/20: 100%|██████████| 1175/1175 [12:13<00:00,  1.60batch/s]\n"
          ]
        },
        {
          "output_type": "stream",
          "name": "stdout",
          "text": [
            "Epoch 18/20\n",
            "  Train Loss: 0.004884895971713667\n",
            "  Val Micro F1: 0.8026595744680851\n",
            "  Time: 12m 26s\n"
          ]
        },
        {
          "output_type": "stream",
          "name": "stderr",
          "text": [
            "Epoch 19/20: 100%|██████████| 1175/1175 [12:13<00:00,  1.60batch/s]\n"
          ]
        },
        {
          "output_type": "stream",
          "name": "stdout",
          "text": [
            "Epoch 19/20\n",
            "  Train Loss: 0.003967085537719578\n",
            "  Val Micro F1: 0.8021276595744681\n",
            "  Time: 12m 26s\n"
          ]
        },
        {
          "output_type": "stream",
          "name": "stderr",
          "text": [
            "Epoch 20/20: 100%|██████████| 1175/1175 [12:11<00:00,  1.61batch/s]\n"
          ]
        },
        {
          "output_type": "stream",
          "name": "stdout",
          "text": [
            "Epoch 20/20\n",
            "  Train Loss: 0.0038205297736938985\n",
            "  Val Micro F1: 0.8015957446808512\n",
            "  Time: 12m 24s\n"
          ]
        }
      ],
      "source": [
        "epochs = 20\n",
        "for epoch in range(epochs):\n",
        "    model.train()\n",
        "    total_train_loss = 0\n",
        "    start_time = time.time()\n",
        "\n",
        "    # Training\n",
        "    for step, batch in enumerate(tqdm(train_dataloader, desc=f\"Epoch {epoch + 1}/{epochs}\", unit=\"batch\")):\n",
        "        batch = tuple(t.to(device) for t in batch)\n",
        "        input_ids, input_mask, labels = batch\n",
        "\n",
        "\n",
        "        model.zero_grad()\n",
        "        outputs = model(input_ids=input_ids, attention_mask=input_mask, labels=labels)\n",
        "        loss = outputs.loss\n",
        "        total_train_loss += loss.item()\n",
        "\n",
        "        loss.backward()\n",
        "        torch.nn.utils.clip_grad_norm_(model.parameters(), max_norm=1.0)\n",
        "        optimizer.step()\n",
        "        scheduler.step()\n",
        "\n",
        "    avg_train_loss = total_train_loss / len(train_dataloader)\n",
        "\n",
        "    # Validation\n",
        "    model.eval()\n",
        "    predictions = []\n",
        "    true_labels = []\n",
        "\n",
        "    for batch in val_dataloader:\n",
        "        batch = tuple(t.to(device) for t in batch)\n",
        "        input_ids, input_mask, labels = batch\n",
        "\n",
        "        with torch.no_grad():\n",
        "            outputs = model(input_ids=input_ids, attention_mask=input_mask)\n",
        "            logits = outputs.logits\n",
        "\n",
        "        logits = logits.detach().cpu().numpy()\n",
        "        label_ids = labels.to('cpu').numpy()\n",
        "\n",
        "        batch_predictions = np.argmax(logits, axis=1)\n",
        "        predictions.extend(batch_predictions)\n",
        "        true_labels.extend(label_ids)\n",
        "\n",
        "    val_micro_f1 = calculate_metrics('val', predictions, true_labels)\n",
        "    elapsed_time = time.time() - start_time\n",
        "\n",
        "    # Print epoch summary\n",
        "    print(f\"Epoch {epoch + 1}/{epochs}\")\n",
        "    print(f\"  Train Loss: {avg_train_loss}\")\n",
        "    print(f\"  Val Micro F1: {val_micro_f1}\")\n",
        "    print(f\"  Time: {elapsed_time // 60:.0f}m {elapsed_time % 60:.0f}s\")"
      ]
    },
    {
      "cell_type": "code",
      "execution_count": 27,
      "metadata": {
        "id": "YF1GCpcUDN6D",
        "colab": {
          "base_uri": "https://localhost:8080/"
        },
        "outputId": "f9d88933-d32f-4415-bd10-624c87fee9d8"
      },
      "outputs": [
        {
          "output_type": "stream",
          "name": "stdout",
          "text": [
            "Confusion Matrix:\n",
            " [[1049   71   31   35   43   28   56]\n",
            " [  50  880   17   49   37   16    5]\n",
            " [  28   10 1083   19   28  228   32]\n",
            " [  27   68   20  450   31   27   14]\n",
            " [  30   55   13   32  688   16   16]\n",
            " [  14   11  231   19   13 2493  193]\n",
            " [  47    7   42   10    9  197  829]]\n",
            "\n",
            "Classification Report:\n",
            "               precision    recall  f1-score   support\n",
            "\n",
            "           0       0.84      0.80      0.82      1313\n",
            "           1       0.80      0.83      0.82      1054\n",
            "           2       0.75      0.76      0.76      1428\n",
            "           3       0.73      0.71      0.72       637\n",
            "           4       0.81      0.81      0.81       850\n",
            "           5       0.83      0.84      0.83      2974\n",
            "           6       0.72      0.73      0.73      1141\n",
            "\n",
            "    accuracy                           0.80      9397\n",
            "   macro avg       0.78      0.78      0.78      9397\n",
            "weighted avg       0.80      0.80      0.80      9397\n",
            "\n",
            "Macro F1 Score: 0.783005023901131\n",
            "Micro F1 Score: 0.7951473874640843\n",
            "Weighted F1 Score: 0.7950616083807551\n",
            "Macro Precision: 0.7845243928815673\n",
            "Micro Precision: 0.7951473874640843\n",
            "Weighted Precision: 0.7952787512968025\n",
            "Macro Recall: 0.781845787607835\n",
            "Micro Recall: 0.7951473874640843\n",
            "Weighted Recall: 0.7951473874640843\n"
          ]
        }
      ],
      "source": [
        "# Evaluation\n",
        "model.eval()\n",
        "predictions = []\n",
        "true_labels = []\n",
        "\n",
        "for batch in test_dataloader:\n",
        "    batch = tuple(t.to(device) for t in batch)\n",
        "    input_ids, input_mask, labels = batch\n",
        "\n",
        "    with torch.no_grad():\n",
        "        outputs = model(input_ids=input_ids, attention_mask=input_mask)\n",
        "        logits = outputs.logits\n",
        "\n",
        "    logits = logits.detach().cpu().numpy()\n",
        "    label_ids = labels.to('cpu').numpy()\n",
        "\n",
        "    batch_predictions = np.argmax(logits, axis=1)\n",
        "    predictions.extend(batch_predictions)\n",
        "    true_labels.extend(label_ids)\n",
        "\n",
        "# Calculate and print metrics\n",
        "calculate_metrics('test', predictions, true_labels)"
      ]
    },
    {
      "cell_type": "code",
      "execution_count": 28,
      "metadata": {
        "id": "zBU4h6E7DN6D"
      },
      "outputs": [],
      "source": [
        "model.save_pretrained('/content/drive/MyDrive/WoS/SciBERT_WoS_Keywords_46985')"
      ]
    },
    {
      "cell_type": "code",
      "source": [
        "print('End of the runtime!')"
      ],
      "metadata": {
        "id": "gXML14r1fqZ9",
        "colab": {
          "base_uri": "https://localhost:8080/"
        },
        "outputId": "b6a9a282-4cb4-4f52-a63c-f9b4aadc376b"
      },
      "execution_count": 29,
      "outputs": [
        {
          "output_type": "stream",
          "name": "stdout",
          "text": [
            "End of the runtime!\n"
          ]
        }
      ]
    },
    {
      "cell_type": "code",
      "source": [
        "runtime.unassign()"
      ],
      "metadata": {
        "id": "a3ftL0Kkd3f0"
      },
      "execution_count": null,
      "outputs": []
    }
  ],
  "metadata": {
    "language_info": {
      "name": "python"
    },
    "colab": {
      "provenance": [],
      "machine_shape": "hm",
      "gpuType": "T4"
    },
    "kernelspec": {
      "name": "python3",
      "display_name": "Python 3"
    },
    "accelerator": "GPU",
    "widgets": {
      "application/vnd.jupyter.widget-state+json": {
        "c9abd590f4004324928829bffba0100e": {
          "model_module": "@jupyter-widgets/controls",
          "model_name": "HBoxModel",
          "model_module_version": "1.5.0",
          "state": {
            "_dom_classes": [],
            "_model_module": "@jupyter-widgets/controls",
            "_model_module_version": "1.5.0",
            "_model_name": "HBoxModel",
            "_view_count": null,
            "_view_module": "@jupyter-widgets/controls",
            "_view_module_version": "1.5.0",
            "_view_name": "HBoxView",
            "box_style": "",
            "children": [
              "IPY_MODEL_8eb5aff198cc49659b3900671f16fa22",
              "IPY_MODEL_bce026e9c9ff40afb219d40ec838ce68",
              "IPY_MODEL_3a84b48aa1b14f8f85d702e4725690d8"
            ],
            "layout": "IPY_MODEL_5479de7dcd764943bacd8421a4cd8c6e"
          }
        },
        "8eb5aff198cc49659b3900671f16fa22": {
          "model_module": "@jupyter-widgets/controls",
          "model_name": "HTMLModel",
          "model_module_version": "1.5.0",
          "state": {
            "_dom_classes": [],
            "_model_module": "@jupyter-widgets/controls",
            "_model_module_version": "1.5.0",
            "_model_name": "HTMLModel",
            "_view_count": null,
            "_view_module": "@jupyter-widgets/controls",
            "_view_module_version": "1.5.0",
            "_view_name": "HTMLView",
            "description": "",
            "description_tooltip": null,
            "layout": "IPY_MODEL_372047e901374098874922fa0f007d7a",
            "placeholder": "​",
            "style": "IPY_MODEL_23e3155db96a463a9d8a5db3c9fed023",
            "value": "config.json: 100%"
          }
        },
        "bce026e9c9ff40afb219d40ec838ce68": {
          "model_module": "@jupyter-widgets/controls",
          "model_name": "FloatProgressModel",
          "model_module_version": "1.5.0",
          "state": {
            "_dom_classes": [],
            "_model_module": "@jupyter-widgets/controls",
            "_model_module_version": "1.5.0",
            "_model_name": "FloatProgressModel",
            "_view_count": null,
            "_view_module": "@jupyter-widgets/controls",
            "_view_module_version": "1.5.0",
            "_view_name": "ProgressView",
            "bar_style": "success",
            "description": "",
            "description_tooltip": null,
            "layout": "IPY_MODEL_ebdb6268693c48d685e4073884958b4c",
            "max": 385,
            "min": 0,
            "orientation": "horizontal",
            "style": "IPY_MODEL_12fc4a27cdd64b4f84b2c21e97bb336b",
            "value": 385
          }
        },
        "3a84b48aa1b14f8f85d702e4725690d8": {
          "model_module": "@jupyter-widgets/controls",
          "model_name": "HTMLModel",
          "model_module_version": "1.5.0",
          "state": {
            "_dom_classes": [],
            "_model_module": "@jupyter-widgets/controls",
            "_model_module_version": "1.5.0",
            "_model_name": "HTMLModel",
            "_view_count": null,
            "_view_module": "@jupyter-widgets/controls",
            "_view_module_version": "1.5.0",
            "_view_name": "HTMLView",
            "description": "",
            "description_tooltip": null,
            "layout": "IPY_MODEL_87d040718238400a88d82b1c04d97c72",
            "placeholder": "​",
            "style": "IPY_MODEL_45f20025db15466aa407b7734215bcd3",
            "value": " 385/385 [00:00&lt;00:00, 33.6kB/s]"
          }
        },
        "5479de7dcd764943bacd8421a4cd8c6e": {
          "model_module": "@jupyter-widgets/base",
          "model_name": "LayoutModel",
          "model_module_version": "1.2.0",
          "state": {
            "_model_module": "@jupyter-widgets/base",
            "_model_module_version": "1.2.0",
            "_model_name": "LayoutModel",
            "_view_count": null,
            "_view_module": "@jupyter-widgets/base",
            "_view_module_version": "1.2.0",
            "_view_name": "LayoutView",
            "align_content": null,
            "align_items": null,
            "align_self": null,
            "border": null,
            "bottom": null,
            "display": null,
            "flex": null,
            "flex_flow": null,
            "grid_area": null,
            "grid_auto_columns": null,
            "grid_auto_flow": null,
            "grid_auto_rows": null,
            "grid_column": null,
            "grid_gap": null,
            "grid_row": null,
            "grid_template_areas": null,
            "grid_template_columns": null,
            "grid_template_rows": null,
            "height": null,
            "justify_content": null,
            "justify_items": null,
            "left": null,
            "margin": null,
            "max_height": null,
            "max_width": null,
            "min_height": null,
            "min_width": null,
            "object_fit": null,
            "object_position": null,
            "order": null,
            "overflow": null,
            "overflow_x": null,
            "overflow_y": null,
            "padding": null,
            "right": null,
            "top": null,
            "visibility": null,
            "width": null
          }
        },
        "372047e901374098874922fa0f007d7a": {
          "model_module": "@jupyter-widgets/base",
          "model_name": "LayoutModel",
          "model_module_version": "1.2.0",
          "state": {
            "_model_module": "@jupyter-widgets/base",
            "_model_module_version": "1.2.0",
            "_model_name": "LayoutModel",
            "_view_count": null,
            "_view_module": "@jupyter-widgets/base",
            "_view_module_version": "1.2.0",
            "_view_name": "LayoutView",
            "align_content": null,
            "align_items": null,
            "align_self": null,
            "border": null,
            "bottom": null,
            "display": null,
            "flex": null,
            "flex_flow": null,
            "grid_area": null,
            "grid_auto_columns": null,
            "grid_auto_flow": null,
            "grid_auto_rows": null,
            "grid_column": null,
            "grid_gap": null,
            "grid_row": null,
            "grid_template_areas": null,
            "grid_template_columns": null,
            "grid_template_rows": null,
            "height": null,
            "justify_content": null,
            "justify_items": null,
            "left": null,
            "margin": null,
            "max_height": null,
            "max_width": null,
            "min_height": null,
            "min_width": null,
            "object_fit": null,
            "object_position": null,
            "order": null,
            "overflow": null,
            "overflow_x": null,
            "overflow_y": null,
            "padding": null,
            "right": null,
            "top": null,
            "visibility": null,
            "width": null
          }
        },
        "23e3155db96a463a9d8a5db3c9fed023": {
          "model_module": "@jupyter-widgets/controls",
          "model_name": "DescriptionStyleModel",
          "model_module_version": "1.5.0",
          "state": {
            "_model_module": "@jupyter-widgets/controls",
            "_model_module_version": "1.5.0",
            "_model_name": "DescriptionStyleModel",
            "_view_count": null,
            "_view_module": "@jupyter-widgets/base",
            "_view_module_version": "1.2.0",
            "_view_name": "StyleView",
            "description_width": ""
          }
        },
        "ebdb6268693c48d685e4073884958b4c": {
          "model_module": "@jupyter-widgets/base",
          "model_name": "LayoutModel",
          "model_module_version": "1.2.0",
          "state": {
            "_model_module": "@jupyter-widgets/base",
            "_model_module_version": "1.2.0",
            "_model_name": "LayoutModel",
            "_view_count": null,
            "_view_module": "@jupyter-widgets/base",
            "_view_module_version": "1.2.0",
            "_view_name": "LayoutView",
            "align_content": null,
            "align_items": null,
            "align_self": null,
            "border": null,
            "bottom": null,
            "display": null,
            "flex": null,
            "flex_flow": null,
            "grid_area": null,
            "grid_auto_columns": null,
            "grid_auto_flow": null,
            "grid_auto_rows": null,
            "grid_column": null,
            "grid_gap": null,
            "grid_row": null,
            "grid_template_areas": null,
            "grid_template_columns": null,
            "grid_template_rows": null,
            "height": null,
            "justify_content": null,
            "justify_items": null,
            "left": null,
            "margin": null,
            "max_height": null,
            "max_width": null,
            "min_height": null,
            "min_width": null,
            "object_fit": null,
            "object_position": null,
            "order": null,
            "overflow": null,
            "overflow_x": null,
            "overflow_y": null,
            "padding": null,
            "right": null,
            "top": null,
            "visibility": null,
            "width": null
          }
        },
        "12fc4a27cdd64b4f84b2c21e97bb336b": {
          "model_module": "@jupyter-widgets/controls",
          "model_name": "ProgressStyleModel",
          "model_module_version": "1.5.0",
          "state": {
            "_model_module": "@jupyter-widgets/controls",
            "_model_module_version": "1.5.0",
            "_model_name": "ProgressStyleModel",
            "_view_count": null,
            "_view_module": "@jupyter-widgets/base",
            "_view_module_version": "1.2.0",
            "_view_name": "StyleView",
            "bar_color": null,
            "description_width": ""
          }
        },
        "87d040718238400a88d82b1c04d97c72": {
          "model_module": "@jupyter-widgets/base",
          "model_name": "LayoutModel",
          "model_module_version": "1.2.0",
          "state": {
            "_model_module": "@jupyter-widgets/base",
            "_model_module_version": "1.2.0",
            "_model_name": "LayoutModel",
            "_view_count": null,
            "_view_module": "@jupyter-widgets/base",
            "_view_module_version": "1.2.0",
            "_view_name": "LayoutView",
            "align_content": null,
            "align_items": null,
            "align_self": null,
            "border": null,
            "bottom": null,
            "display": null,
            "flex": null,
            "flex_flow": null,
            "grid_area": null,
            "grid_auto_columns": null,
            "grid_auto_flow": null,
            "grid_auto_rows": null,
            "grid_column": null,
            "grid_gap": null,
            "grid_row": null,
            "grid_template_areas": null,
            "grid_template_columns": null,
            "grid_template_rows": null,
            "height": null,
            "justify_content": null,
            "justify_items": null,
            "left": null,
            "margin": null,
            "max_height": null,
            "max_width": null,
            "min_height": null,
            "min_width": null,
            "object_fit": null,
            "object_position": null,
            "order": null,
            "overflow": null,
            "overflow_x": null,
            "overflow_y": null,
            "padding": null,
            "right": null,
            "top": null,
            "visibility": null,
            "width": null
          }
        },
        "45f20025db15466aa407b7734215bcd3": {
          "model_module": "@jupyter-widgets/controls",
          "model_name": "DescriptionStyleModel",
          "model_module_version": "1.5.0",
          "state": {
            "_model_module": "@jupyter-widgets/controls",
            "_model_module_version": "1.5.0",
            "_model_name": "DescriptionStyleModel",
            "_view_count": null,
            "_view_module": "@jupyter-widgets/base",
            "_view_module_version": "1.2.0",
            "_view_name": "StyleView",
            "description_width": ""
          }
        },
        "89474b2f600d4cd696078457268b17c6": {
          "model_module": "@jupyter-widgets/controls",
          "model_name": "HBoxModel",
          "model_module_version": "1.5.0",
          "state": {
            "_dom_classes": [],
            "_model_module": "@jupyter-widgets/controls",
            "_model_module_version": "1.5.0",
            "_model_name": "HBoxModel",
            "_view_count": null,
            "_view_module": "@jupyter-widgets/controls",
            "_view_module_version": "1.5.0",
            "_view_name": "HBoxView",
            "box_style": "",
            "children": [
              "IPY_MODEL_7f7c62e5eec947d388c1cd6b85747127",
              "IPY_MODEL_781fb2c6a6fe45e3b660729e64b9a97d",
              "IPY_MODEL_4656a30edc8a4dbf93c8641b01493098"
            ],
            "layout": "IPY_MODEL_66a40552416e4674b76ee5031472f1ab"
          }
        },
        "7f7c62e5eec947d388c1cd6b85747127": {
          "model_module": "@jupyter-widgets/controls",
          "model_name": "HTMLModel",
          "model_module_version": "1.5.0",
          "state": {
            "_dom_classes": [],
            "_model_module": "@jupyter-widgets/controls",
            "_model_module_version": "1.5.0",
            "_model_name": "HTMLModel",
            "_view_count": null,
            "_view_module": "@jupyter-widgets/controls",
            "_view_module_version": "1.5.0",
            "_view_name": "HTMLView",
            "description": "",
            "description_tooltip": null,
            "layout": "IPY_MODEL_7091eceae83b47cc93850fec3f6382c8",
            "placeholder": "​",
            "style": "IPY_MODEL_b6808547c37b4270be632770b3adbf33",
            "value": "vocab.txt: 100%"
          }
        },
        "781fb2c6a6fe45e3b660729e64b9a97d": {
          "model_module": "@jupyter-widgets/controls",
          "model_name": "FloatProgressModel",
          "model_module_version": "1.5.0",
          "state": {
            "_dom_classes": [],
            "_model_module": "@jupyter-widgets/controls",
            "_model_module_version": "1.5.0",
            "_model_name": "FloatProgressModel",
            "_view_count": null,
            "_view_module": "@jupyter-widgets/controls",
            "_view_module_version": "1.5.0",
            "_view_name": "ProgressView",
            "bar_style": "success",
            "description": "",
            "description_tooltip": null,
            "layout": "IPY_MODEL_2397407b06bd4bc48eca80800a22ebdc",
            "max": 227845,
            "min": 0,
            "orientation": "horizontal",
            "style": "IPY_MODEL_57b89c747f6d40c69a78c6ad8d067a42",
            "value": 227845
          }
        },
        "4656a30edc8a4dbf93c8641b01493098": {
          "model_module": "@jupyter-widgets/controls",
          "model_name": "HTMLModel",
          "model_module_version": "1.5.0",
          "state": {
            "_dom_classes": [],
            "_model_module": "@jupyter-widgets/controls",
            "_model_module_version": "1.5.0",
            "_model_name": "HTMLModel",
            "_view_count": null,
            "_view_module": "@jupyter-widgets/controls",
            "_view_module_version": "1.5.0",
            "_view_name": "HTMLView",
            "description": "",
            "description_tooltip": null,
            "layout": "IPY_MODEL_d073029e679e4e149a00e111003b9b92",
            "placeholder": "​",
            "style": "IPY_MODEL_b969e4375c27433ea4f5eccd4c07b0cb",
            "value": " 228k/228k [00:00&lt;00:00, 513kB/s]"
          }
        },
        "66a40552416e4674b76ee5031472f1ab": {
          "model_module": "@jupyter-widgets/base",
          "model_name": "LayoutModel",
          "model_module_version": "1.2.0",
          "state": {
            "_model_module": "@jupyter-widgets/base",
            "_model_module_version": "1.2.0",
            "_model_name": "LayoutModel",
            "_view_count": null,
            "_view_module": "@jupyter-widgets/base",
            "_view_module_version": "1.2.0",
            "_view_name": "LayoutView",
            "align_content": null,
            "align_items": null,
            "align_self": null,
            "border": null,
            "bottom": null,
            "display": null,
            "flex": null,
            "flex_flow": null,
            "grid_area": null,
            "grid_auto_columns": null,
            "grid_auto_flow": null,
            "grid_auto_rows": null,
            "grid_column": null,
            "grid_gap": null,
            "grid_row": null,
            "grid_template_areas": null,
            "grid_template_columns": null,
            "grid_template_rows": null,
            "height": null,
            "justify_content": null,
            "justify_items": null,
            "left": null,
            "margin": null,
            "max_height": null,
            "max_width": null,
            "min_height": null,
            "min_width": null,
            "object_fit": null,
            "object_position": null,
            "order": null,
            "overflow": null,
            "overflow_x": null,
            "overflow_y": null,
            "padding": null,
            "right": null,
            "top": null,
            "visibility": null,
            "width": null
          }
        },
        "7091eceae83b47cc93850fec3f6382c8": {
          "model_module": "@jupyter-widgets/base",
          "model_name": "LayoutModel",
          "model_module_version": "1.2.0",
          "state": {
            "_model_module": "@jupyter-widgets/base",
            "_model_module_version": "1.2.0",
            "_model_name": "LayoutModel",
            "_view_count": null,
            "_view_module": "@jupyter-widgets/base",
            "_view_module_version": "1.2.0",
            "_view_name": "LayoutView",
            "align_content": null,
            "align_items": null,
            "align_self": null,
            "border": null,
            "bottom": null,
            "display": null,
            "flex": null,
            "flex_flow": null,
            "grid_area": null,
            "grid_auto_columns": null,
            "grid_auto_flow": null,
            "grid_auto_rows": null,
            "grid_column": null,
            "grid_gap": null,
            "grid_row": null,
            "grid_template_areas": null,
            "grid_template_columns": null,
            "grid_template_rows": null,
            "height": null,
            "justify_content": null,
            "justify_items": null,
            "left": null,
            "margin": null,
            "max_height": null,
            "max_width": null,
            "min_height": null,
            "min_width": null,
            "object_fit": null,
            "object_position": null,
            "order": null,
            "overflow": null,
            "overflow_x": null,
            "overflow_y": null,
            "padding": null,
            "right": null,
            "top": null,
            "visibility": null,
            "width": null
          }
        },
        "b6808547c37b4270be632770b3adbf33": {
          "model_module": "@jupyter-widgets/controls",
          "model_name": "DescriptionStyleModel",
          "model_module_version": "1.5.0",
          "state": {
            "_model_module": "@jupyter-widgets/controls",
            "_model_module_version": "1.5.0",
            "_model_name": "DescriptionStyleModel",
            "_view_count": null,
            "_view_module": "@jupyter-widgets/base",
            "_view_module_version": "1.2.0",
            "_view_name": "StyleView",
            "description_width": ""
          }
        },
        "2397407b06bd4bc48eca80800a22ebdc": {
          "model_module": "@jupyter-widgets/base",
          "model_name": "LayoutModel",
          "model_module_version": "1.2.0",
          "state": {
            "_model_module": "@jupyter-widgets/base",
            "_model_module_version": "1.2.0",
            "_model_name": "LayoutModel",
            "_view_count": null,
            "_view_module": "@jupyter-widgets/base",
            "_view_module_version": "1.2.0",
            "_view_name": "LayoutView",
            "align_content": null,
            "align_items": null,
            "align_self": null,
            "border": null,
            "bottom": null,
            "display": null,
            "flex": null,
            "flex_flow": null,
            "grid_area": null,
            "grid_auto_columns": null,
            "grid_auto_flow": null,
            "grid_auto_rows": null,
            "grid_column": null,
            "grid_gap": null,
            "grid_row": null,
            "grid_template_areas": null,
            "grid_template_columns": null,
            "grid_template_rows": null,
            "height": null,
            "justify_content": null,
            "justify_items": null,
            "left": null,
            "margin": null,
            "max_height": null,
            "max_width": null,
            "min_height": null,
            "min_width": null,
            "object_fit": null,
            "object_position": null,
            "order": null,
            "overflow": null,
            "overflow_x": null,
            "overflow_y": null,
            "padding": null,
            "right": null,
            "top": null,
            "visibility": null,
            "width": null
          }
        },
        "57b89c747f6d40c69a78c6ad8d067a42": {
          "model_module": "@jupyter-widgets/controls",
          "model_name": "ProgressStyleModel",
          "model_module_version": "1.5.0",
          "state": {
            "_model_module": "@jupyter-widgets/controls",
            "_model_module_version": "1.5.0",
            "_model_name": "ProgressStyleModel",
            "_view_count": null,
            "_view_module": "@jupyter-widgets/base",
            "_view_module_version": "1.2.0",
            "_view_name": "StyleView",
            "bar_color": null,
            "description_width": ""
          }
        },
        "d073029e679e4e149a00e111003b9b92": {
          "model_module": "@jupyter-widgets/base",
          "model_name": "LayoutModel",
          "model_module_version": "1.2.0",
          "state": {
            "_model_module": "@jupyter-widgets/base",
            "_model_module_version": "1.2.0",
            "_model_name": "LayoutModel",
            "_view_count": null,
            "_view_module": "@jupyter-widgets/base",
            "_view_module_version": "1.2.0",
            "_view_name": "LayoutView",
            "align_content": null,
            "align_items": null,
            "align_self": null,
            "border": null,
            "bottom": null,
            "display": null,
            "flex": null,
            "flex_flow": null,
            "grid_area": null,
            "grid_auto_columns": null,
            "grid_auto_flow": null,
            "grid_auto_rows": null,
            "grid_column": null,
            "grid_gap": null,
            "grid_row": null,
            "grid_template_areas": null,
            "grid_template_columns": null,
            "grid_template_rows": null,
            "height": null,
            "justify_content": null,
            "justify_items": null,
            "left": null,
            "margin": null,
            "max_height": null,
            "max_width": null,
            "min_height": null,
            "min_width": null,
            "object_fit": null,
            "object_position": null,
            "order": null,
            "overflow": null,
            "overflow_x": null,
            "overflow_y": null,
            "padding": null,
            "right": null,
            "top": null,
            "visibility": null,
            "width": null
          }
        },
        "b969e4375c27433ea4f5eccd4c07b0cb": {
          "model_module": "@jupyter-widgets/controls",
          "model_name": "DescriptionStyleModel",
          "model_module_version": "1.5.0",
          "state": {
            "_model_module": "@jupyter-widgets/controls",
            "_model_module_version": "1.5.0",
            "_model_name": "DescriptionStyleModel",
            "_view_count": null,
            "_view_module": "@jupyter-widgets/base",
            "_view_module_version": "1.2.0",
            "_view_name": "StyleView",
            "description_width": ""
          }
        },
        "5fcaddd6c1274d8e8bc1c6d7956b6285": {
          "model_module": "@jupyter-widgets/controls",
          "model_name": "HBoxModel",
          "model_module_version": "1.5.0",
          "state": {
            "_dom_classes": [],
            "_model_module": "@jupyter-widgets/controls",
            "_model_module_version": "1.5.0",
            "_model_name": "HBoxModel",
            "_view_count": null,
            "_view_module": "@jupyter-widgets/controls",
            "_view_module_version": "1.5.0",
            "_view_name": "HBoxView",
            "box_style": "",
            "children": [
              "IPY_MODEL_60b0cfa5868a42959f9900786bcd1dae",
              "IPY_MODEL_1afb00d98506457caa6e087b065fc3b3",
              "IPY_MODEL_26f5b48a5fc7457cb882b4836d2342fb"
            ],
            "layout": "IPY_MODEL_81ab7871bc7b41dd841dfccd40ce7e9f"
          }
        },
        "60b0cfa5868a42959f9900786bcd1dae": {
          "model_module": "@jupyter-widgets/controls",
          "model_name": "HTMLModel",
          "model_module_version": "1.5.0",
          "state": {
            "_dom_classes": [],
            "_model_module": "@jupyter-widgets/controls",
            "_model_module_version": "1.5.0",
            "_model_name": "HTMLModel",
            "_view_count": null,
            "_view_module": "@jupyter-widgets/controls",
            "_view_module_version": "1.5.0",
            "_view_name": "HTMLView",
            "description": "",
            "description_tooltip": null,
            "layout": "IPY_MODEL_c26fa64c68ce42f7972e890bc34ac6a0",
            "placeholder": "​",
            "style": "IPY_MODEL_339f9bbdd8364ee4b887ddf62d71d1fd",
            "value": "pytorch_model.bin: 100%"
          }
        },
        "1afb00d98506457caa6e087b065fc3b3": {
          "model_module": "@jupyter-widgets/controls",
          "model_name": "FloatProgressModel",
          "model_module_version": "1.5.0",
          "state": {
            "_dom_classes": [],
            "_model_module": "@jupyter-widgets/controls",
            "_model_module_version": "1.5.0",
            "_model_name": "FloatProgressModel",
            "_view_count": null,
            "_view_module": "@jupyter-widgets/controls",
            "_view_module_version": "1.5.0",
            "_view_name": "ProgressView",
            "bar_style": "success",
            "description": "",
            "description_tooltip": null,
            "layout": "IPY_MODEL_c31f99811cd845c38571460acb06f37c",
            "max": 442221694,
            "min": 0,
            "orientation": "horizontal",
            "style": "IPY_MODEL_148fc79a826d44eebaf26ddfb953c49c",
            "value": 442221694
          }
        },
        "26f5b48a5fc7457cb882b4836d2342fb": {
          "model_module": "@jupyter-widgets/controls",
          "model_name": "HTMLModel",
          "model_module_version": "1.5.0",
          "state": {
            "_dom_classes": [],
            "_model_module": "@jupyter-widgets/controls",
            "_model_module_version": "1.5.0",
            "_model_name": "HTMLModel",
            "_view_count": null,
            "_view_module": "@jupyter-widgets/controls",
            "_view_module_version": "1.5.0",
            "_view_name": "HTMLView",
            "description": "",
            "description_tooltip": null,
            "layout": "IPY_MODEL_0dfed05efb434572adc0ee44eb585b89",
            "placeholder": "​",
            "style": "IPY_MODEL_4d9bf91cba164b78bd3318040f5a25a6",
            "value": " 442M/442M [00:02&lt;00:00, 239MB/s]"
          }
        },
        "81ab7871bc7b41dd841dfccd40ce7e9f": {
          "model_module": "@jupyter-widgets/base",
          "model_name": "LayoutModel",
          "model_module_version": "1.2.0",
          "state": {
            "_model_module": "@jupyter-widgets/base",
            "_model_module_version": "1.2.0",
            "_model_name": "LayoutModel",
            "_view_count": null,
            "_view_module": "@jupyter-widgets/base",
            "_view_module_version": "1.2.0",
            "_view_name": "LayoutView",
            "align_content": null,
            "align_items": null,
            "align_self": null,
            "border": null,
            "bottom": null,
            "display": null,
            "flex": null,
            "flex_flow": null,
            "grid_area": null,
            "grid_auto_columns": null,
            "grid_auto_flow": null,
            "grid_auto_rows": null,
            "grid_column": null,
            "grid_gap": null,
            "grid_row": null,
            "grid_template_areas": null,
            "grid_template_columns": null,
            "grid_template_rows": null,
            "height": null,
            "justify_content": null,
            "justify_items": null,
            "left": null,
            "margin": null,
            "max_height": null,
            "max_width": null,
            "min_height": null,
            "min_width": null,
            "object_fit": null,
            "object_position": null,
            "order": null,
            "overflow": null,
            "overflow_x": null,
            "overflow_y": null,
            "padding": null,
            "right": null,
            "top": null,
            "visibility": null,
            "width": null
          }
        },
        "c26fa64c68ce42f7972e890bc34ac6a0": {
          "model_module": "@jupyter-widgets/base",
          "model_name": "LayoutModel",
          "model_module_version": "1.2.0",
          "state": {
            "_model_module": "@jupyter-widgets/base",
            "_model_module_version": "1.2.0",
            "_model_name": "LayoutModel",
            "_view_count": null,
            "_view_module": "@jupyter-widgets/base",
            "_view_module_version": "1.2.0",
            "_view_name": "LayoutView",
            "align_content": null,
            "align_items": null,
            "align_self": null,
            "border": null,
            "bottom": null,
            "display": null,
            "flex": null,
            "flex_flow": null,
            "grid_area": null,
            "grid_auto_columns": null,
            "grid_auto_flow": null,
            "grid_auto_rows": null,
            "grid_column": null,
            "grid_gap": null,
            "grid_row": null,
            "grid_template_areas": null,
            "grid_template_columns": null,
            "grid_template_rows": null,
            "height": null,
            "justify_content": null,
            "justify_items": null,
            "left": null,
            "margin": null,
            "max_height": null,
            "max_width": null,
            "min_height": null,
            "min_width": null,
            "object_fit": null,
            "object_position": null,
            "order": null,
            "overflow": null,
            "overflow_x": null,
            "overflow_y": null,
            "padding": null,
            "right": null,
            "top": null,
            "visibility": null,
            "width": null
          }
        },
        "339f9bbdd8364ee4b887ddf62d71d1fd": {
          "model_module": "@jupyter-widgets/controls",
          "model_name": "DescriptionStyleModel",
          "model_module_version": "1.5.0",
          "state": {
            "_model_module": "@jupyter-widgets/controls",
            "_model_module_version": "1.5.0",
            "_model_name": "DescriptionStyleModel",
            "_view_count": null,
            "_view_module": "@jupyter-widgets/base",
            "_view_module_version": "1.2.0",
            "_view_name": "StyleView",
            "description_width": ""
          }
        },
        "c31f99811cd845c38571460acb06f37c": {
          "model_module": "@jupyter-widgets/base",
          "model_name": "LayoutModel",
          "model_module_version": "1.2.0",
          "state": {
            "_model_module": "@jupyter-widgets/base",
            "_model_module_version": "1.2.0",
            "_model_name": "LayoutModel",
            "_view_count": null,
            "_view_module": "@jupyter-widgets/base",
            "_view_module_version": "1.2.0",
            "_view_name": "LayoutView",
            "align_content": null,
            "align_items": null,
            "align_self": null,
            "border": null,
            "bottom": null,
            "display": null,
            "flex": null,
            "flex_flow": null,
            "grid_area": null,
            "grid_auto_columns": null,
            "grid_auto_flow": null,
            "grid_auto_rows": null,
            "grid_column": null,
            "grid_gap": null,
            "grid_row": null,
            "grid_template_areas": null,
            "grid_template_columns": null,
            "grid_template_rows": null,
            "height": null,
            "justify_content": null,
            "justify_items": null,
            "left": null,
            "margin": null,
            "max_height": null,
            "max_width": null,
            "min_height": null,
            "min_width": null,
            "object_fit": null,
            "object_position": null,
            "order": null,
            "overflow": null,
            "overflow_x": null,
            "overflow_y": null,
            "padding": null,
            "right": null,
            "top": null,
            "visibility": null,
            "width": null
          }
        },
        "148fc79a826d44eebaf26ddfb953c49c": {
          "model_module": "@jupyter-widgets/controls",
          "model_name": "ProgressStyleModel",
          "model_module_version": "1.5.0",
          "state": {
            "_model_module": "@jupyter-widgets/controls",
            "_model_module_version": "1.5.0",
            "_model_name": "ProgressStyleModel",
            "_view_count": null,
            "_view_module": "@jupyter-widgets/base",
            "_view_module_version": "1.2.0",
            "_view_name": "StyleView",
            "bar_color": null,
            "description_width": ""
          }
        },
        "0dfed05efb434572adc0ee44eb585b89": {
          "model_module": "@jupyter-widgets/base",
          "model_name": "LayoutModel",
          "model_module_version": "1.2.0",
          "state": {
            "_model_module": "@jupyter-widgets/base",
            "_model_module_version": "1.2.0",
            "_model_name": "LayoutModel",
            "_view_count": null,
            "_view_module": "@jupyter-widgets/base",
            "_view_module_version": "1.2.0",
            "_view_name": "LayoutView",
            "align_content": null,
            "align_items": null,
            "align_self": null,
            "border": null,
            "bottom": null,
            "display": null,
            "flex": null,
            "flex_flow": null,
            "grid_area": null,
            "grid_auto_columns": null,
            "grid_auto_flow": null,
            "grid_auto_rows": null,
            "grid_column": null,
            "grid_gap": null,
            "grid_row": null,
            "grid_template_areas": null,
            "grid_template_columns": null,
            "grid_template_rows": null,
            "height": null,
            "justify_content": null,
            "justify_items": null,
            "left": null,
            "margin": null,
            "max_height": null,
            "max_width": null,
            "min_height": null,
            "min_width": null,
            "object_fit": null,
            "object_position": null,
            "order": null,
            "overflow": null,
            "overflow_x": null,
            "overflow_y": null,
            "padding": null,
            "right": null,
            "top": null,
            "visibility": null,
            "width": null
          }
        },
        "4d9bf91cba164b78bd3318040f5a25a6": {
          "model_module": "@jupyter-widgets/controls",
          "model_name": "DescriptionStyleModel",
          "model_module_version": "1.5.0",
          "state": {
            "_model_module": "@jupyter-widgets/controls",
            "_model_module_version": "1.5.0",
            "_model_name": "DescriptionStyleModel",
            "_view_count": null,
            "_view_module": "@jupyter-widgets/base",
            "_view_module_version": "1.2.0",
            "_view_name": "StyleView",
            "description_width": ""
          }
        }
      }
    }
  },
  "nbformat": 4,
  "nbformat_minor": 0
}