{
  "cells": [
    {
      "cell_type": "code",
      "execution_count": 1,
      "metadata": {
        "colab": {
          "base_uri": "https://localhost:8080/"
        },
        "id": "iRuetRKhDN59",
        "outputId": "b751eca2-6bf1-4c84-a1b4-fdf8ed5f0394"
      },
      "outputs": [
        {
          "output_type": "stream",
          "name": "stdout",
          "text": [
            "Thu Aug  1 16:35:56 2024       \n",
            "+---------------------------------------------------------------------------------------+\n",
            "| NVIDIA-SMI 535.104.05             Driver Version: 535.104.05   CUDA Version: 12.2     |\n",
            "|-----------------------------------------+----------------------+----------------------+\n",
            "| GPU  Name                 Persistence-M | Bus-Id        Disp.A | Volatile Uncorr. ECC |\n",
            "| Fan  Temp   Perf          Pwr:Usage/Cap |         Memory-Usage | GPU-Util  Compute M. |\n",
            "|                                         |                      |               MIG M. |\n",
            "|=========================================+======================+======================|\n",
            "|   0  Tesla T4                       Off | 00000000:00:04.0 Off |                    0 |\n",
            "| N/A   65C    P8              12W /  70W |      0MiB / 15360MiB |      0%      Default |\n",
            "|                                         |                      |                  N/A |\n",
            "+-----------------------------------------+----------------------+----------------------+\n",
            "                                                                                         \n",
            "+---------------------------------------------------------------------------------------+\n",
            "| Processes:                                                                            |\n",
            "|  GPU   GI   CI        PID   Type   Process name                            GPU Memory |\n",
            "|        ID   ID                                                             Usage      |\n",
            "|=======================================================================================|\n",
            "|  No running processes found                                                           |\n",
            "+---------------------------------------------------------------------------------------+\n"
          ]
        }
      ],
      "source": [
        "gpu_info = !nvidia-smi\n",
        "gpu_info = '\\n'.join(gpu_info)\n",
        "if gpu_info.find('failed') >= 0:\n",
        "  print('Not connected to a GPU')\n",
        "else:\n",
        "  print(gpu_info)"
      ]
    },
    {
      "cell_type": "code",
      "execution_count": 2,
      "metadata": {
        "colab": {
          "base_uri": "https://localhost:8080/"
        },
        "id": "7BMB0YxADN5-",
        "outputId": "105432df-51ae-442c-ec33-225958dbfe06"
      },
      "outputs": [
        {
          "output_type": "stream",
          "name": "stdout",
          "text": [
            "Your runtime has 54.8 gigabytes of available RAM\n",
            "\n",
            "You are using a high-RAM runtime!\n"
          ]
        }
      ],
      "source": [
        "from psutil import virtual_memory\n",
        "ram_gb = virtual_memory().total / 1e9\n",
        "print('Your runtime has {:.1f} gigabytes of available RAM\\n'.format(ram_gb))\n",
        "\n",
        "if ram_gb < 20:\n",
        "  print('Not using a high-RAM runtime')\n",
        "else:\n",
        "  print('You are using a high-RAM runtime!')"
      ]
    },
    {
      "cell_type": "code",
      "execution_count": 3,
      "metadata": {
        "colab": {
          "base_uri": "https://localhost:8080/"
        },
        "id": "e2qEb3ivDN5-",
        "outputId": "7387130b-ab96-47e9-ba6f-6a66ab518c8f"
      },
      "outputs": [
        {
          "output_type": "stream",
          "name": "stdout",
          "text": [
            "Mounted at /content/drive\n"
          ]
        }
      ],
      "source": [
        "from google.colab import drive\n",
        "drive.mount('/content/drive')"
      ]
    },
    {
      "cell_type": "code",
      "execution_count": 4,
      "metadata": {
        "colab": {
          "base_uri": "https://localhost:8080/"
        },
        "id": "ZRaneJBnDN5_",
        "outputId": "5bcce10c-7aca-4a3e-ff35-878fbe9bcdbf"
      },
      "outputs": [
        {
          "output_type": "stream",
          "name": "stdout",
          "text": [
            "Requirement already satisfied: transformers in /usr/local/lib/python3.10/dist-packages (4.42.4)\n",
            "Requirement already satisfied: filelock in /usr/local/lib/python3.10/dist-packages (from transformers) (3.15.4)\n",
            "Requirement already satisfied: huggingface-hub<1.0,>=0.23.2 in /usr/local/lib/python3.10/dist-packages (from transformers) (0.23.5)\n",
            "Requirement already satisfied: numpy<2.0,>=1.17 in /usr/local/lib/python3.10/dist-packages (from transformers) (1.26.4)\n",
            "Requirement already satisfied: packaging>=20.0 in /usr/local/lib/python3.10/dist-packages (from transformers) (24.1)\n",
            "Requirement already satisfied: pyyaml>=5.1 in /usr/local/lib/python3.10/dist-packages (from transformers) (6.0.1)\n",
            "Requirement already satisfied: regex!=2019.12.17 in /usr/local/lib/python3.10/dist-packages (from transformers) (2024.5.15)\n",
            "Requirement already satisfied: requests in /usr/local/lib/python3.10/dist-packages (from transformers) (2.31.0)\n",
            "Requirement already satisfied: safetensors>=0.4.1 in /usr/local/lib/python3.10/dist-packages (from transformers) (0.4.3)\n",
            "Requirement already satisfied: tokenizers<0.20,>=0.19 in /usr/local/lib/python3.10/dist-packages (from transformers) (0.19.1)\n",
            "Requirement already satisfied: tqdm>=4.27 in /usr/local/lib/python3.10/dist-packages (from transformers) (4.66.4)\n",
            "Requirement already satisfied: fsspec>=2023.5.0 in /usr/local/lib/python3.10/dist-packages (from huggingface-hub<1.0,>=0.23.2->transformers) (2024.6.1)\n",
            "Requirement already satisfied: typing-extensions>=3.7.4.3 in /usr/local/lib/python3.10/dist-packages (from huggingface-hub<1.0,>=0.23.2->transformers) (4.12.2)\n",
            "Requirement already satisfied: charset-normalizer<4,>=2 in /usr/local/lib/python3.10/dist-packages (from requests->transformers) (3.3.2)\n",
            "Requirement already satisfied: idna<4,>=2.5 in /usr/local/lib/python3.10/dist-packages (from requests->transformers) (3.7)\n",
            "Requirement already satisfied: urllib3<3,>=1.21.1 in /usr/local/lib/python3.10/dist-packages (from requests->transformers) (2.0.7)\n",
            "Requirement already satisfied: certifi>=2017.4.17 in /usr/local/lib/python3.10/dist-packages (from requests->transformers) (2024.7.4)\n"
          ]
        }
      ],
      "source": [
        "!pip install transformers"
      ]
    },
    {
      "cell_type": "code",
      "execution_count": 5,
      "metadata": {
        "id": "jEVF9FbODN5_"
      },
      "outputs": [],
      "source": [
        "import os\n",
        "import numpy as np\n",
        "import pandas as pd\n",
        "from sklearn.model_selection import train_test_split\n",
        "from sklearn.metrics import confusion_matrix, classification_report, f1_score, precision_score, recall_score\n",
        "from transformers import AutoTokenizer, AutoModelForSequenceClassification, AdamW, get_linear_schedule_with_warmup\n",
        "import torch\n",
        "from torch.utils.data import DataLoader, TensorDataset, RandomSampler, SequentialSampler\n",
        "import torch.nn.functional as F\n",
        "from tqdm import trange, tqdm\n",
        "import matplotlib.pyplot as plt\n",
        "import sklearn.utils\n",
        "import time\n",
        "import re\n",
        "from google.colab import runtime"
      ]
    },
    {
      "cell_type": "code",
      "execution_count": 6,
      "metadata": {
        "colab": {
          "base_uri": "https://localhost:8080/"
        },
        "id": "d84lKOxcDN5_",
        "outputId": "d14cca55-b0c3-4bbe-91c9-56c8db9b0642"
      },
      "outputs": [
        {
          "output_type": "stream",
          "name": "stdout",
          "text": [
            "(46985, 4)\n"
          ]
        }
      ],
      "source": [
        "# Retrive the data from stored dataset\n",
        "dataDir = \"/content/drive/MyDrive/WoS/data/46985\"\n",
        "tsvData = os.path.join(dataDir,\"WoSDataset_46985.tsv\")\n",
        "\n",
        "tsvData = np.loadtxt(tsvData, dtype=str, delimiter=\"\\t\")\n",
        "print(np.shape(tsvData))"
      ]
    },
    {
      "cell_type": "code",
      "execution_count": 7,
      "metadata": {
        "colab": {
          "base_uri": "https://localhost:8080/"
        },
        "id": "FIYp3nhcDN5_",
        "outputId": "20792743-cc43-401a-f6d4-69253168f227"
      },
      "outputs": [
        {
          "output_type": "stream",
          "name": "stdout",
          "text": [
            "[['0' 'CS'\n",
            "  ' 21dimensional nonlinear optical waves erbiumdoped optical fibre symbolic computation soliton solution soliton interaction        '\n",
            "  '2  1dimensional nonlinear optical waves through the coherently excited resonant medium doped with the erbium atoms can be described by a 2  1dimensional nonlinear schrodinger equation coupled with the selfinduced transparency equations for such a system via the hirota method and symbolic computation linear forms one twoand nsoliton solutions are obtained asymptotic analysis is conducted and suggests that the interaction between the two solitons is elastic bright solitons are obtained for the fields e and p while the dark ones for the field n with e as the electric field p as the polarization in the resonant medium induced by the electric field and n as the population inversion profile of the dopant atoms headon interaction between the bidirectional two solitons and overtaking interaction between the unidirectional two solitons are seen influence of the averaged natural frequency on the solitons are studied 1 can affect the velocities of all the solitons 2 amplitudes of the solitons for the fields p and n increase with decreasing and decrease with increasing 3 with decreasing for the fields p and n onepeak one soliton turns into the twopeak one as well as interaction type changes from the interaction between two onepeak ones to that between a onepeak one and a twopeak one 4 for the field e influence of on the solitons cannot be found the results of this paper might be of potential applications in the design of optical communication systems which can produce the bright and dark solitons simultaneously']\n",
            " ['5' 'Medical'\n",
            "  ' aging tau amyloid pet alzheimers disease polypathology        '\n",
            "  'betaamyloid a beta and tau pathology become increasingly prevalent with age however the spatial relationship between the two pathologies remains unknown we examined local same region and nonlocal different region associations between these 2 aggregated proteins in 46 normal older adults using f18av1451 for tau and c11pib for a beta positron emission tomography pet and 15 t magnetic resonance imaging mri images while local voxelwise analyses showed associations between pib and av1451 tracer largely in the temporal lobes kmeans clustering revealed that some of these associations were driven by regions with low tracer retention we followed this up with a wholebrain regionbyregion local and nonlocal partial correlational analysis we calculated each participants mean av1451 and pib uptake values within 87 regions of interest roi pairwise roi analysis demonstrated many positive pib av1451 associations importantly strong positive partial correlations controlling for age sex and global gray matter fraction p 01 were identified between pib in multiple regions of association cortex and av1451 in temporal cortical rois there were also less frequent and weaker positive associations of regional pib with frontoparietal av1451 uptake particularly in temporal lobe rois av1451 uptake was strongly predicted by nb across multiple roi locations these data indicate that a beta and tau pathology show significant local and nonlocal regional associations among cognitively normal elderly with increased pib uptake throughout the cortex correlating with increased temporal lobe av1451 uptake the spatial relationship between a beta and tau accumulation does not appear to be specific to a beta location suggesting a regional vulnerability of temporal brain regions to tau accumulation regardless of where ap accumulates']\n",
            " ['4' 'Civil'\n",
            "  ' led lighting system pv system distributed lighting control energy efficiency green building daylight responsive dimming system        '\n",
            "  'decreasing of energy consumption and environmentally friendly energy resources are the issues in the foreground nowadays as the electric energy consumed for the illumination is high longlasting and lowconsumption led lightemitting diode technology gets prominent there have been made much reseacrh regarding the use of photovoltaic sytems in meeting the energy demand in housing and industry however there is need for more research with regards to photovoltaic sytems integration with energy efficiency sytems in this study for the environments which have different lighting levels due to daylight factor there has been proposed a lowcost pv photovoltaics based and distributed sensor smart led illuminating system and there has been acquired 72075 more energy saving in comparison with conventional led illuminating system c 2017 elsevier inc all rights reserved']\n",
            " ['1' 'ECE'\n",
            "  ' ndfeb magnets electric motor electric vehicle hybrid electric vehicle recycling rare earth elements        '\n",
            "  'hybrid electric vehicles are assumed to play a major role in future mobility concepts although sales numbers are increasing little emphasis has been laid on the recycling of some key components such as power electronics or electric motors permanent magnet synchronous motors contain considerable amounts of rare earth elements that cannot be recovered in conventional recycling routes although their recycling could have large economic environmental and strategic advantages no industrial recycling for permanent magnets is available in western countries at the moment regarding the essential steps dismantling of electric vehicles as well as the extraction of magnets from the rotors little has been published before this paper therefore presents and discusses different recycling approaches for the recycling of ndfeb magnets from hybrid electric vehicles many results stem from the german research project recycling of components and strategic metals of electric drive motors']\n",
            " ['5' 'Medical'\n",
            "  ' parkinsons disease dyskinesia adenosine a2a receptor striatum glutamic acid decarboxylase        '\n",
            "  'l34dihydroxyphenylalanine ldopa remains the primary pharmacological agent for the symptomatic treatment of parkinsons disease pd however the development of ldopainduced dyskinesia lid limits the longterm use of ldopa for pd patients some data have reported that adenosine a2a receptor a2ar antagonists prevented lid in animal model of pd however the mechanism in which adenosine a2ar blockade alleviates the symptoms of lid has not been fully clarified here we determined to knock out ko the gene of a2ar and explored the possible underlying mechanisms implicated in development of lid in a mouse model of pd a2ar gene ko mice were unilaterally injected into the striatum with 6hydroxydopamine 6ohda in order to damage dopamine neurons on one side of the brain 6ohdalesioned mice were then injected once daily for 21 days with ldopa abnormal involuntary movements aims were evaluated on days 3 8 13 and 18 after ldopa administration and realtime polymerase chain reaction and immunohistochemistry for glutamic acid decarboxylase gad 65 and gad67 were performed we found that a2ar gene ko was effective in reducing aim scores and accompanied with decrease of striatal gad67 rather than gad65 these results demonstrated that the possible mechanism involved in alleviation of aim symptoms by a2ar gene ko might be through reducing the expression of striatal gad67']\n",
            " ['0' 'CS'\n",
            "  ' tea category identification computer vision color histogram wavelet packet entropy winnertakesall radial basis function artificial neural network pattern recognition support vector machine        '\n",
            "  'objective in order to increase classification accuracy of teacategory identification tci system this paper proposed a novel approach method the proposed methods first extracted 64 color histogram to obtain color information and 16 wavelet packet entropy to obtain the texture information with the aim of reducing the 80 features principal component analysis was harnessed the reduced features were used as input to generalized eigenvalue proximal support vector machine gepsvm winnertakesall wta was used to handle the multiclass problem two kernels were tested linear kernel and radial basis function rbf kernel ten repetitions of 10fold stratified cross validation technique were used to estimate the outofsample errors we named our method as gepsvm  rbf  wta and gepsvm  wta result the results showed that pca reduced the 80 features to merely five with explaining 9990 of total variance the recall rate of gepsvm  rbf  wta achieved the highest overall recall rate of 979 conclusion this was higher than the result of gepsvm  wta and other five stateoftheart algorithms back propagation neural network rbf support vector machine genetic neuralnetwork linear discriminant analysis and fitnessscaling chaotic artificial bee colony artificial neural network']\n",
            " ['6' 'biochemistry'\n",
            "  ' brainmachine interfaces electrical stimulation of the brain transcranial magnetic stimulation trends psychiatry        '\n",
            "  'recent advances in deep brain stimulators and brain machine interfaces have greatly expanded the possibilities of neuroprosthetics and neuromodulation together with advances in neuroengineering nanotechnology molecular biology and material sciences it is now possible to address fundamental questions in neuroscience in new more powerful ways it is now possible to apply these new technologies in ways that range from augmenting and restoring function to neuromodulation modalities that treat neuropsychiatric disorders recent developments in neuromodulation methods offer significant advantages and potential clinical benefits for a variety of disorders here we describe the current state of the art in neuromodulation methods and some advances in brain machine interfaces describing the advantages and limitations of the clinical applications of each method the future applications of these new methods and how they will shape the future of psychiatry and medicine along with safety and ethical implications are also discussed c 2017 elsevier inc all rights reserved']\n",
            " ['1' 'ECE'\n",
            "  ' softwaredefined radio ais receiver vhf data exchange services satellite radio applications flexible rf front end        '\n",
            "  'this paper presents the concept of a softwaredefined radio with a flexible rf front end the design and architecture of this system as well as possible application examples will be explained one specific scenario is the operation in maritime frequency bands a wellknown service is the automatic identification system ais which has been captured by the dlr mission aisat and will be chosen as a maritime application example the results of an embedded solution for ais on the sdr platform are presented in this paper since there is an increasing request for more performance on maritime radio bands services like ais will be enhanced by the international association of marine aids to navigation and lighthouse authorities iala the new vhf data exchange service vdes shall implement a dedicated satellite link this paper describes that the sdr with a flexible rf front end can be used as a technology demonstration platform for this upcoming data exchange service']\n",
            " ['3' 'MAE'\n",
            "  ' plumesthermals turbulence modelling turbulence simulation        '\n",
            "  'we develop a generalised unsteady plume theory and compare it with a new direct numerical simulation dns dataset for an ensemble of statistically unsteady turbulent plumes the theoretical framework described in this paper generalises previous models and exposes several fundamental aspects of the physics of unsteady plumes the framework allows one to understand how the structure of the governing integral equations depends on the assumptions one makes about the radial dependence of the longitudinal velocity turbulence and pressure consequently the illposed models identified by scase  hewitt j fluid mech vol 697 2012 pp 455480 are shown to be the result of a nonphysical assumption regarding the velocity profile the framework reveals that these illposed unsteady plume models are degenerate cases amongst a comparatively large set of wellposed models that can be derived from the generalised unsteady plume equations that we obtain drawing on the results of dns of a plume subjected to an instantaneous step change in its source buoyancy flux we use the framework in a diagnostic capacity to investigate the properties of the resulting travelling wave in general the governing integral equations are hyperbolic becoming parabolic in the limiting case of a tophat model and the travelling wave can be classified as lazy pure or forced according to the particular assumptions that are invoked to close the integral equations guided by observations from the dns data we use the framework in a prognostic capacity to develop a relatively simple accurate and wellposed model of unsteady plumes that is based on the assumption of a gaussian velocity profile an analytical solution is presented for a pure straightsided plume that is consistent with the key features observed from the dns']\n",
            " ['2' 'Psychology'\n",
            "  ' stomach of human fetus development endocrine cells immunohistochemistry        '\n",
            "  ' while ghrelin cells were the most numerous during the se since reports on endocrine cells and their kinetics in the corpus of the human stomach are limited the aim of this study was to examine the appearance localization density and the relationship among the endocrine cell types in the corpus of the human stomach during prenatal and early postnatal development we examined chromogranin a somatostatin ghrelin glucagon and serotonin expression by immunohistochemistry in 2 embryos 38 fetuses and 3 infants in the corpus of human stomach chromogranin a secreting endocrine cells were identified in the corpus at week 10 of gestation somatostatin cells were present from the 10th week ghrelin and serotonin cells from the 11th week and glucagon cells from the 12th week of gestation endocrine cells were present individually or clustered within the glandular base and body during the first trimester and were present separately within the basal and central parts of glands during the second and third trimesters somatostatin cells were the most common type of cells similar to 46  during the first trimestercond trimester similar to 34  and in infants similar to 28  the percentage of glucagon cells was significant only during the first trimester of pregnancy 55  and the percentage of serotonin cells was only significant just before birth 48  these results show for the first time that the largest number of endocrine cells are present in the corpus during the first trimester of prenatal development also these results suggest that secretory products of endocrine cells play a role in the regulation of homeostasis growth and differentiation and in human stomach function']]\n"
          ]
        }
      ],
      "source": [
        "print(tsvData[0:10])"
      ]
    },
    {
      "cell_type": "code",
      "execution_count": 8,
      "metadata": {
        "id": "WUvZlOibDN5_"
      },
      "outputs": [],
      "source": [
        "allLabels = tsvData[:,0]\n",
        "domains = tsvData[:,1]\n",
        "keywords = tsvData[:,2]\n",
        "abstracts = tsvData[:,3]"
      ]
    },
    {
      "cell_type": "code",
      "execution_count": 9,
      "metadata": {
        "id": "SE5jkqySDN6A",
        "colab": {
          "base_uri": "https://localhost:8080/"
        },
        "outputId": "29742787-c65f-4c0e-b976-207dd10e1095"
      },
      "outputs": [
        {
          "output_type": "stream",
          "name": "stdout",
          "text": [
            "Labels  ['CS' 'Civil' 'ECE' 'MAE' 'Medical' 'Psychology' 'biochemistry']\n",
            "Label counts  [ 6514  4237  5483  3297 14625  7142  5687]\n"
          ]
        }
      ],
      "source": [
        "labels = np.unique(domains, return_counts=True)[0]\n",
        "labelCounts=  np.unique(domains, return_counts=True)[1]\n",
        "\n",
        "print(\"Labels \", labels)\n",
        "print(\"Label counts \", labelCounts)"
      ]
    },
    {
      "cell_type": "code",
      "execution_count": 10,
      "metadata": {
        "id": "4wUHmcLtDN6A",
        "colab": {
          "base_uri": "https://localhost:8080/",
          "height": 653
        },
        "outputId": "0eb29c88-a82d-476e-f4f6-a2b45e470393"
      },
      "outputs": [
        {
          "output_type": "display_data",
          "data": {
            "text/plain": [
              "<Figure size 1000x600 with 1 Axes>"
            ],
            "image/png": "[encoded data removed]"
          },
          "metadata": {}
        },
        {
          "output_type": "stream",
          "name": "stdout",
          "text": [
            "The domain CS has 6514 records in the dataset.\n",
            "The domain Civil has 4237 records in the dataset.\n",
            "The domain ECE has 5483 records in the dataset.\n",
            "The domain MAE has 3297 records in the dataset.\n",
            "The domain Medical has 14625 records in the dataset.\n",
            "The domain Psychology has 7142 records in the dataset.\n",
            "The domain biochemistry has 5687 records in the dataset.\n"
          ]
        }
      ],
      "source": [
        "# Visualize domain counts in dataset\n",
        "plt.figure(figsize=(10, 6))\n",
        "plt.title(\"Domain Counts (Dataset)\")\n",
        "plt.pie(labelCounts, labels=labels, autopct='%1.1f%%', startangle=140, colors=plt.cm.Paired(range(len(labels))))\n",
        "plt.axis('equal')\n",
        "plt.show()\n",
        "\n",
        "for i, domain in enumerate(labels):\n",
        "    print(\"The domain\", domain, \"has\", labelCounts[i], \"records in the dataset.\")"
      ]
    },
    {
      "cell_type": "code",
      "execution_count": 11,
      "metadata": {
        "id": "iy4b69DrDN6A",
        "colab": {
          "base_uri": "https://localhost:8080/"
        },
        "outputId": "adbe921a-0e54-4c1c-dc53-6b59732c210b"
      },
      "outputs": [
        {
          "output_type": "stream",
          "name": "stdout",
          "text": [
            "Number of abstracts:  46985\n",
            "Shape of abstracts:  (46985,)\n",
            "['tio2 powder was modified by lif through hydrothermal treating of lif and tio2 mixed powders the powders were characterized by scanning electron microscopy sem transmission electron microscopy tem uvvis spectrometry xray diffraction xrd and xray photoelectron spectrometry xps the hydrothermally treated liftio2 powder has shown strong absorbability of organic dye methylene blue mb xrd and xps results demonstrated that the existence of lif crystals was the main reason for the improved absorbability of tio2 charge transfer between lif and tio2 which could cause obvious polarization at the interface of the two materials is considered to be the source of the remarkable enhancement of the large amount of mb absorption on the surface of tio2 the lif modified tio2 could be used as functional material with good absorbability in the area of gas sensing dyesensitized solar cells and photocatalysts'\n",
            " 'objectives to describe the 1 prevalence of atrisk drinking and participation in healthrelated behaviors and practices and 2 associations of atrisk drinking with other healthrelated behaviors and practices among older persons completing a healthrisk appraisal for the elderly hrae design crosssectional study using data from a selfadministered mailed survey sample settings persons from three organizations were surveyed 1 the american association of retired persons and 2 a large medical group and 3 a communitybased senior health center in southern california participants 1889 persons age 55 years and older measurements the hrae included items on health characteristics drinking behaviors including amount of alcohol use and two alcoholism screening measures the cage cut down annoyed guilty eye opener and short michigan alcoholism screening testgeriatric version smastg and participation in selected healthrelated behaviors and practices social drinkers were defined as those who drank fewer than 14 drinks weekly and screened negative on the cage defined as two or more no responses and smastg hazardous drinkers drank fewer than 14 drinks weekly and screened negative harmful drinkers drank fewer than 14 drinks weekly and screened positive possible atrisk drinkers drank 14 or more drinks weekly and screened positive least squares regression models were used to assess the effects of hazardous harmful and possible atrisk drinking on each of the healthrelated practices and behaviors we also conducted these analyses using three other definitions of social possible atrisk hazardous and harmful drinking results of all respondents 40 were social drinkers 3 were harmful drinkers 2 were hazardous drinkers and 11 were possible atrisk drinkers hazardous harmful and possible atrisk drinkers commonly reported driving after drinking or being driven by someone who had been drinking 67 76 and 64 respectively harmful and possible atrisk drinkers were more likely than social drinkers to smoke and were less likely to use seatbelts regularly these findings were observed regardless of how the drinking groups were defined conclusion all groups of atrisk drinkers more commonly engaged in selected adverse healthrelated behaviors and practices than did social drinkers']\n",
            "Number of keywords:  46985\n",
            "Shape of keywords:  (46985,)\n",
            "['tio2 powder was modified by lif through hydrothermal treating of lif and tio2 mixed powders the powders were characterized by scanning electron microscopy sem transmission electron microscopy tem uvvis spectrometry xray diffraction xrd and xray photoelectron spectrometry xps the hydrothermally treated liftio2 powder has shown strong absorbability of organic dye methylene blue mb xrd and xps results demonstrated that the existence of lif crystals was the main reason for the improved absorbability of tio2 charge transfer between lif and tio2 which could cause obvious polarization at the interface of the two materials is considered to be the source of the remarkable enhancement of the large amount of mb absorption on the surface of tio2 the lif modified tio2 could be used as functional material with good absorbability in the area of gas sensing dyesensitized solar cells and photocatalysts'\n",
            " 'objectives to describe the 1 prevalence of atrisk drinking and participation in healthrelated behaviors and practices and 2 associations of atrisk drinking with other healthrelated behaviors and practices among older persons completing a healthrisk appraisal for the elderly hrae design crosssectional study using data from a selfadministered mailed survey sample settings persons from three organizations were surveyed 1 the american association of retired persons and 2 a large medical group and 3 a communitybased senior health center in southern california participants 1889 persons age 55 years and older measurements the hrae included items on health characteristics drinking behaviors including amount of alcohol use and two alcoholism screening measures the cage cut down annoyed guilty eye opener and short michigan alcoholism screening testgeriatric version smastg and participation in selected healthrelated behaviors and practices social drinkers were defined as those who drank fewer than 14 drinks weekly and screened negative on the cage defined as two or more no responses and smastg hazardous drinkers drank fewer than 14 drinks weekly and screened negative harmful drinkers drank fewer than 14 drinks weekly and screened positive possible atrisk drinkers drank 14 or more drinks weekly and screened positive least squares regression models were used to assess the effects of hazardous harmful and possible atrisk drinking on each of the healthrelated practices and behaviors we also conducted these analyses using three other definitions of social possible atrisk hazardous and harmful drinking results of all respondents 40 were social drinkers 3 were harmful drinkers 2 were hazardous drinkers and 11 were possible atrisk drinkers hazardous harmful and possible atrisk drinkers commonly reported driving after drinking or being driven by someone who had been drinking 67 76 and 64 respectively harmful and possible atrisk drinkers were more likely than social drinkers to smoke and were less likely to use seatbelts regularly these findings were observed regardless of how the drinking groups were defined conclusion all groups of atrisk drinkers more commonly engaged in selected adverse healthrelated behaviors and practices than did social drinkers']\n",
            "Number of domains:  46985\n",
            "Shape of domains:  (46985,)\n",
            "['Civil' 'Medical']\n",
            "Number of labels:  46985\n",
            "Shape of labels:  (46985,)\n",
            "['4' '5']\n",
            "['tio2 powder was modified by lif through hydrothermal treating of lif and tio2 mixed powders the powders were characterized by scanning electron microscopy sem transmission electron microscopy tem uvvis spectrometry xray diffraction xrd and xray photoelectron spectrometry xps the hydrothermally treated liftio2 powder has shown strong absorbability of organic dye methylene blue mb xrd and xps results demonstrated that the existence of lif crystals was the main reason for the improved absorbability of tio2 charge transfer between lif and tio2 which could cause obvious polarization at the interface of the two materials is considered to be the source of the remarkable enhancement of the large amount of mb absorption on the surface of tio2 the lif modified tio2 could be used as functional material with good absorbability in the area of gas sensing dyesensitized solar cells and photocatalysts'\n",
            " 'objectives to describe the 1 prevalence of atrisk drinking and participation in healthrelated behaviors and practices and 2 associations of atrisk drinking with other healthrelated behaviors and practices among older persons completing a healthrisk appraisal for the elderly hrae design crosssectional study using data from a selfadministered mailed survey sample settings persons from three organizations were surveyed 1 the american association of retired persons and 2 a large medical group and 3 a communitybased senior health center in southern california participants 1889 persons age 55 years and older measurements the hrae included items on health characteristics drinking behaviors including amount of alcohol use and two alcoholism screening measures the cage cut down annoyed guilty eye opener and short michigan alcoholism screening testgeriatric version smastg and participation in selected healthrelated behaviors and practices social drinkers were defined as those who drank fewer than 14 drinks weekly and screened negative on the cage defined as two or more no responses and smastg hazardous drinkers drank fewer than 14 drinks weekly and screened negative harmful drinkers drank fewer than 14 drinks weekly and screened positive possible atrisk drinkers drank 14 or more drinks weekly and screened positive least squares regression models were used to assess the effects of hazardous harmful and possible atrisk drinking on each of the healthrelated practices and behaviors we also conducted these analyses using three other definitions of social possible atrisk hazardous and harmful drinking results of all respondents 40 were social drinkers 3 were harmful drinkers 2 were hazardous drinkers and 11 were possible atrisk drinkers hazardous harmful and possible atrisk drinkers commonly reported driving after drinking or being driven by someone who had been drinking 67 76 and 64 respectively harmful and possible atrisk drinkers were more likely than social drinkers to smoke and were less likely to use seatbelts regularly these findings were observed regardless of how the drinking groups were defined conclusion all groups of atrisk drinkers more commonly engaged in selected adverse healthrelated behaviors and practices than did social drinkers'\n",
            " 'to investigate the nonlinear aerostatic stability of the hutong cablestayed railcumroad bridge with ultrakilometer main span a fem bridge model is established the tricomponent wind loads and geometric nonlinearity are taken into consideration and discussed for the influence of nonlinear parameters and factors on bridge resistant capacity of aerostatic instability the results show that the effect of initial wind attackangle is significant for the aerostatic stability analysis of the bridge the geometric nonlinearities of the bridge are of considerable importance in the analysis especially the effect of cable sag the instable mechanism of the hutong bridge with a steel truss girder is the spatial combination of vertical bending and torsion with large lateral bending displacement the design wind velocity is much lower than the static instability wind velocity and the structural aerostatic resistance capacity can meet the requirement'\n",
            " 'we present a new method for decomposing an image into a set of soft color segments that are analogous to color layers with alpha channels that have been commonly utilized in modern image manipulation software we show that the resulting decomposition serves as an effective intermediate image representation which can be utilized for performing various seemingly unrelated image manipulation tasks we identify a set of requirements that soft color segmentation methods have to fulfill and present an indepth theoretical analysis of prior work we propose an energy formulation for producing compact layers of homogeneous colors and a color refinement procedure as well as a method for automatically estimating a statistical color model from an image this results in a novel framework for automatic and highquality soft color segmentation that is efficient parallelizable and scalable we show that our technique is superior in quality compared to previous methods through quantitative analysis as well as visually through an extensive set of examples we demonstrate that our soft color segments can easily be exported to familiar image manipulation software packages and used to produce compelling results for numerous image manipulation applications without forcing the user to learn new tools and workflows'\n",
            " 'phenylketonuria pku is an inborn error of amino acid metabolism with an autosomal recessive inheritance caused in most cases by mutations in the phenylalanine hydroxylase pah gene pku has wide allelic heterogeneity here we report a novel heterozygous substitution c1223gt parg408leu in the pah gene in an iranian pku family the patient was 19yrold female with diagnosis of moderate pku referred to department of medical genetics tehran university of medical sciences tehran iran for genetic counselinganalysis in april 2015 we used pcrsequencing to identify any sequence variations in the pah gene'\n",
            " 'irritable bowel syndrome ibs is a common condition affecting around 1020 of the population and associated with poorer psychological wellbeing and quality of life the aim of the current study was to explore the efficacy of the common sense model csm using structural equation modelling sem in an ibs cohort one hundred and thirtyone ibs patients 2males 102 females mean age 38 years participating in the ibsclinic org au preintervention assessment were included measures included ibs severity irritable bowel syndrome severity scoring system coping patterns carver brief cope visceral sensitivity visceral sensitivity index illness perceptions brief illness perceptions questionnaire psychological distress depression anxiety and stress scale and quality of life ibs quality of life scale ibsqol using sem a final model with an excellent fit was identified 2 8  1191 p 162n  149 cfi 98 tli 96 srmr 05 consistent with the csm illness perceptions were significantly and directly influenced by ibs severity beta 90 p 001 illness perceptions in turn directly influenced maladaptive coping beta 40 p 001 and visceral sensitivity beta 70 p 001 maladaptive coping and visceral sensitivity were significantly associated with psychological distress beta 55 p 001 beta 22 p 01 and ibsqol beta   28 p 001 beta   62 p 001 based on these findings we argue that to augment the adverse impact of ibs severity on ibsqol and psychological distress psychological interventions will be best to target the mediating psychological processes including illness beliefs visceral sensitivity and maladaptive coping'\n",
            " 'fractional order pid fopid controllers are introducedas a general form of classical pid controllers using fractional calculus as this controller provides good disturbance rejection and is robust against plant uncertainties it is appropriate for the vibration mitigation in structures in this paper an fopid controller is designed to adjust the contact force of piezoelectric friction dampers for semiactive control of base isolated structures during farfield and nearfield earthquake excitations a multiobjective cuckoo search algorithm is employed to tune the controller parameters considering the resulting pareto optimal front the best input for the fopid controller is selected for seven pairs of earthquakes and nine performance indices the performance of the proposed controller is compared with those provided by several wellknown control techniques according to the simulation results the proposed controller performs better than other controllers in terms of simultaneous reduction of the maximum base displacement and story acceleration for various types of earthquakes also it provides acceptable responses in terms of inter story drifts root mean square of base displacements and floor acceleration in addition the evaluation of robustness for a stiffness uncertainty of 10 indicates that the proposed controller gives a robust performance against such modeling errors c 2017 isa published by elsevier ltd all rights reserved'\n",
            " 'many global identification approaches described in the literature for estimating linear parametervarying lpv discretetin time statespace ss models with affine dependence on the scheduling parameter suffer heavily from the curse of dimensionality making identification of moderate sized systems computationally intensive or infeasible in this paper we present a novel twostep approach to estimate lpvss models based on a single data set with varying scheduling signal by combining 1 lpv correlation analysis and 2 a deterministic lpv realization scheme step 1 includes the estimation of the submarkov parameters of the system using correlation analysis of the involved signals subsequently for step 2 this paper presents a novel basis reduced exact hokalman like realization scheme which uses only sub parts of the extended hankel matrix therefore the computational complexity is significantly reduced compared to the full scheme to demonstrate that the basis reduction does not lead to a loss in performance a simulation study is provided c 2015 ifac international federation of automatic control hosting by elsevier ltd all rights reserved'\n",
            " 'we describe a package realized in the julia programming language which performs symbolic manipulations applied to nonlinear evolution equations their flows and commutators of such objects this tool was employed to perform contrived computations arising in the analysis of the local error of operator splitting methods it enabled the proof of the convergence of the basic method and of the asymptotical correctness of a defectbased error estimator the performance of our package is illustrated on several examples'\n",
            " 'purpose of review to discuss the advantages and limitations of the microdialysis technique as a diagnostic and research tool using recent findings on human metabolism recent findings results from several studies have supported the potential of microdialysis as a diagnostic tool for metabolic monitoring in difficult accessible tissues brain liver intestine however despite promising results no clear diagnostic measures have yet emerged several studies combining microdialysis with stable isotope tracers have shown that this approach has great potential for studying human metabolism noninvasively in specific tissue beds in a more dynamic way summary bearing in mind the limitations and assumptions the microdialysis technique is a useful tool in investigations of human metabolism its main advantages are that it can be used safely with lowgrade invasiveness in humans and thereby allows continuous sampling over prolonged periods of time from specific tissues without taking any biopsies at present microdialysis would seem to be useful as a diagnostic tool when integrated in the total clinical physiological and pharmacological evaluation within human metabolic research microdialysis has been and will be a very useful technique']\n",
            "[' tio2 lif hydrothermal surface modification absorbability        '\n",
            " ' preventive health services health promotion risk alcohol drinking aged        '\n",
            " ' cablestayed bridge long span aerostatic stability geometric nonlinearity wind attackangle tricomponent wind loads        '\n",
            " ' image processing soft segmentation digital compositing image manipulation layer decomposition color manipulation color unmixing greenscreen keying        '\n",
            " ' phenylketonurias phenylalanine hydroxylase mutation analysis iran        '\n",
            " ' irritable bowel syndrome psychological distress quality of life        '\n",
            " ' baseisolated structure semiactive control piezoelectric friction damper fractional order pid controller multiobjective cuckoo search        '\n",
            " ' system identification linear parametervarying systems statespace representation correlation analysis infinite impulse response        '\n",
            " ' nonlinear evolution equations time integration splitting methods symbolic computation julia language        '\n",
            " ' human metabolism microdialysis        ']\n",
            "['Civil' 'Medical' 'Civil' 'CS' 'biochemistry' 'Medical' 'ECE' 'ECE' 'CS'\n",
            " 'biochemistry']\n",
            "['4' '5' '4' '0' '6' '5' '1' '1' '0' '6']\n",
            "[4 5 4 0 6 5 1 1 0 6]\n"
          ]
        }
      ],
      "source": [
        "# Shuffle data\n",
        "dataShuffled = sklearn.utils.shuffle(tsvData)\n",
        "\n",
        "abstractsShuffled = dataShuffled[:,3]\n",
        "keywordsShuffled = dataShuffled[:,2]\n",
        "domainsShuffled = dataShuffled[:,1]\n",
        "allLabelsShuffled = dataShuffled[:,0]\n",
        "\n",
        "print(\"Number of abstracts: \", len(abstractsShuffled))\n",
        "print(\"Shape of abstracts: \", np.shape(abstractsShuffled))\n",
        "print(abstractsShuffled[0:2])\n",
        "\n",
        "print(\"Number of keywords: \", len(keywordsShuffled))\n",
        "print(\"Shape of keywords: \", np.shape(keywordsShuffled))\n",
        "print(abstractsShuffled[0:2])\n",
        "\n",
        "print(\"Number of domains: \", len(domainsShuffled))\n",
        "print(\"Shape of domains: \", np.shape(domainsShuffled))\n",
        "print(domainsShuffled[0:2])\n",
        "\n",
        "print(\"Number of labels: \", len(allLabelsShuffled))\n",
        "print(\"Shape of labels: \", np.shape(allLabelsShuffled))\n",
        "print(allLabelsShuffled[0:2])\n",
        "\n",
        "\n",
        "# Convert labels to integer\n",
        "allLabelsDigitShuffled = allLabelsShuffled.astype(int)\n",
        "\n",
        "print(abstractsShuffled[0:10])\n",
        "print(keywordsShuffled[0:10])\n",
        "print(domainsShuffled[0:10])\n",
        "print(allLabelsShuffled[0:10])\n",
        "print(allLabelsDigitShuffled[0:10])"
      ]
    },
    {
      "cell_type": "code",
      "execution_count": 12,
      "metadata": {
        "id": "oE8v68D2DN6A",
        "colab": {
          "base_uri": "https://localhost:8080/",
          "height": 301,
          "referenced_widgets": [
            "37d6441e88dd4397bb225719d0afb900",
            "6ba047d4c6964f369fcd45841203a6d4",
            "77d0852f17e04d3d866ecc2404db7f62",
            "42951753291043f289e7ab8474831738",
            "9a72a14c0f6548dcb995b6033903684e",
            "5146521a7c2e40b4bd835b8e55e1413c",
            "f652ad670fe6408d90c232b3d9ed36c3",
            "e8696c15ad3b4da8aabacca0555d766a",
            "1b8efd5319e447ee9c157b477494df28",
            "75734eeeee7446639f136c6dd785a9f6",
            "3cc60f6607e444fbb6edac94f809ffbf",
            "cb9d52e261a742bfb636e0f0f93828d9",
            "94d42c68c25a4c7fafb09f718b2dce57",
            "e45934cd0729434a9d5fb2b319eb3e02",
            "1ba852dfa20247368d36a6652bd9955f",
            "d35c9fd6a01f4402a19670ea89f4ab6e",
            "fdb10e97387d4b8097e6f4cdb0c4337c",
            "b55d382a67584cf0aad40fdb71b5a111",
            "4276ae2b0b0b4212b8d4b0c4dcbfda09",
            "87a8a450134a4aa49dd80ccce9be7ef7",
            "045a3443052f4f5585ce5117bc5d7ed2",
            "97914cdce3c241509e6422c489593d79"
          ]
        },
        "outputId": "36f6f0ee-305c-40a6-d629-c4f2f0673cd1"
      },
      "outputs": [
        {
          "output_type": "stream",
          "name": "stdout",
          "text": [
            "(37588, 4)\n",
            "(9397, 4)\n",
            "(37588, 4)\n",
            "(9397, 4)\n",
            "(1880, 4)\n"
          ]
        },
        {
          "output_type": "stream",
          "name": "stderr",
          "text": [
            "/usr/local/lib/python3.10/dist-packages/huggingface_hub/utils/_token.py:89: UserWarning: \n",
            "The secret `HF_TOKEN` does not exist in your Colab secrets.\n",
            "To authenticate with the Hugging Face Hub, create a token in your settings tab (https://huggingface.co/settings/tokens), set it as secret in your Google Colab and restart your session.\n",
            "You will be able to reuse this secret in all of your notebooks.\n",
            "Please note that authentication is recommended but still optional to access public models or datasets.\n",
            "  warnings.warn(\n"
          ]
        },
        {
          "output_type": "display_data",
          "data": {
            "text/plain": [
              "config.json:   0%|          | 0.00/1.11k [00:00<?, ?B/s]"
            ],
            "application/vnd.jupyter.widget-view+json": {
              "version_major": 2,
              "version_minor": 0,
              "model_id": "37d6441e88dd4397bb225719d0afb900"
            }
          },
          "metadata": {}
        },
        {
          "output_type": "display_data",
          "data": {
            "text/plain": [
              "vocab.txt:   0%|          | 0.00/213k [00:00<?, ?B/s]"
            ],
            "application/vnd.jupyter.widget-view+json": {
              "version_major": 2,
              "version_minor": 0,
              "model_id": "cb9d52e261a742bfb636e0f0f93828d9"
            }
          },
          "metadata": {}
        }
      ],
      "source": [
        "# Split dataset into training and testing (80/20 split)\n",
        "train_data, test_data = train_test_split(dataShuffled, test_size=0.2, random_state=42)\n",
        "print(np.shape(train_data))\n",
        "print(np.shape(test_data))\n",
        "\n",
        "# Further split training data into training and validation (80/20 split of training set)\n",
        "_, val_data = train_test_split(test_data, test_size=0.2, random_state=42)\n",
        "print(np.shape(train_data))\n",
        "print(np.shape(test_data))\n",
        "print(np.shape(val_data))\n",
        "# Load SciBERT tokenizer\n",
        "tokenizer = AutoTokenizer.from_pretrained(\"dmis-lab/biobert-base-cased-v1.2\")"
      ]
    },
    {
      "cell_type": "code",
      "execution_count": 13,
      "metadata": {
        "id": "ONFXZGUUDN6A",
        "colab": {
          "base_uri": "https://localhost:8080/"
        },
        "outputId": "d0de2b5e-13ae-4109-c9fd-64541f1189d3"
      },
      "outputs": [
        {
          "output_type": "stream",
          "name": "stdout",
          "text": [
            "Number of abstracts:  37588\n",
            "Shape of abstracts:  (37588,)\n",
            "Number of keywords:  37588\n",
            "Shape of keywords:  (37588,)\n",
            "Number of domains:  37588\n",
            "Shape of domains:  (37588,)\n",
            "Number of labels:  37588\n",
            "Shape of labels:  (37588,)\n",
            "['pregnane x receptor pxr a member of the nuclear receptor nr superfamily is expressed in liver and intestine as also in other tissues and cells pxr is activated by a wide variety of endobiotics dietary compounds and pharmaceuticals this nuclear receptor serves as a master transcriptional regulator of cyp3a isozymes and also regulates a large number of enzymes and transporters involved in the pharmacokinetics of both endobiotics and xenobiotics pxr has an impact on energy homeostasis through glucose and lipid metabolism regulation pxr activation is also hepatoprotective against toxic bile acids new roles for pxr have been identified in bone homeostasis inflammatory bowel disease liver steatosis and fibrogenesis pxr directly regulates the expression of multidrug resistance protein 1 mdr1 and other important proteins involved in drug metabolism drugdrug interactions can affect patients with cardiovascular disease tuberculosis hiv and cancer especially cancer patients are at high risk of such interactions as treated with multidrug combinations pxr activation can affect the efficacy of chemotherapeutics thus targeting pxr may represent a novel strategy for the improvement of the pharmacokinetics of chemotherapeutic agents thereby providing safer and more effective therapies for cancer patients'\n",
            " 'aluminum can be absorbed through the digestive system from water and drinks and the food that contains natural traces and processed food or the food cooked in aluminum cookware some studies show that the people exposed to high levels of aluminum may develop kidney bone and brain diseases aluminum foil alfesi is daily used as packaging for food and drugs stored in the refrigerator where an electric motor induces a magnetic field of a few microteslas the purpose of this work is to study the corrosion behavior of various aluminum packaging foils and the effect of a weak magnetic field on the morphology and the corrosion kinetics in the 03  and 3  of mass fractions of nacl solutions the mean results for various aluminum packaging foils show that localized corrosion is controlled by the electrochemical potentials of different phases constituting the aluminum foil and the concentration of the precipitates from the other phases the morphology and the corrosion kinetics of aluminum packaging foil in the 03  and 3  of mass fractions of nacl solutions are different with and without an application of a weak magnetic field electrochemical tests applied to cheese packaging paper show that the introduction of a magnetic field decreases the polarization resistance the potential of passivation and the value of the opencircuit potential at the beginning of the corrosion however its passivationcurrent density increases at the beginning of the corrosion the values of the opencircuit potential with and without a weak magnetic field are the same after thirty days of corrosion']\n",
            "[' pregnane x receptor metabolism bile acids xenobiotics drug resistance chemotherapeutic agents        '\n",
            " ' aluminum packaging foil weak magnetic field aluminum alloys corrosion passivation        ']\n",
            "['biochemistry' 'ECE']\n",
            "['6' '1']\n"
          ]
        }
      ],
      "source": [
        "abstractsTrain = train_data[:,3]\n",
        "keywordsTrain = train_data[:,2]\n",
        "domainsTrain = train_data[:,1]\n",
        "allLabelsTrain = train_data[:,0]\n",
        "\n",
        "print(\"Number of abstracts: \",len(abstractsTrain))\n",
        "print(\"Shape of abstracts: \",np.shape(abstractsTrain))\n",
        "print(\"Number of keywords: \",len(keywordsTrain))\n",
        "print(\"Shape of keywords: \",np.shape(keywordsTrain))\n",
        "print(\"Number of domains: \",len(domainsTrain))\n",
        "print(\"Shape of domains: \",np.shape(domainsTrain))\n",
        "print(\"Number of labels: \",len(allLabelsTrain))\n",
        "print(\"Shape of labels: \",np.shape(allLabelsTrain))\n",
        "\n",
        "print(abstractsTrain[0:2])\n",
        "print(keywordsTrain[0:2])\n",
        "print(domainsTrain[0:2])\n",
        "print(allLabelsTrain[0:2])"
      ]
    },
    {
      "cell_type": "code",
      "execution_count": 14,
      "metadata": {
        "id": "RBJjrIkeDN6A",
        "colab": {
          "base_uri": "https://localhost:8080/",
          "height": 689
        },
        "outputId": "7cb2123b-9c00-4133-9fc9-61970a2ea6d4"
      },
      "outputs": [
        {
          "output_type": "stream",
          "name": "stdout",
          "text": [
            "Labels  ['CS' 'Civil' 'ECE' 'MAE' 'Medical' 'Psychology' 'biochemistry']\n",
            "Label counts  [ 5215  3413  4411  2592 11741  5651  4565]\n"
          ]
        },
        {
          "output_type": "display_data",
          "data": {
            "text/plain": [
              "<Figure size 1000x600 with 1 Axes>"
            ],
            "image/png": "[encoded data removed]"
          },
          "metadata": {}
        },
        {
          "output_type": "stream",
          "name": "stdout",
          "text": [
            "The domain CS has 5215 records in the training set.\n",
            "The domain Civil has 3413 records in the training set.\n",
            "The domain ECE has 4411 records in the training set.\n",
            "The domain MAE has 2592 records in the training set.\n",
            "The domain Medical has 11741 records in the training set.\n",
            "The domain Psychology has 5651 records in the training set.\n",
            "The domain biochemistry has 4565 records in the training set.\n"
          ]
        }
      ],
      "source": [
        "labels = np.unique(domainsTrain, return_counts=True)[0]\n",
        "labelCounts =  np.unique(domainsTrain, return_counts=True)[1]\n",
        "\n",
        "print(\"Labels \", labels)\n",
        "print(\"Label counts \", labelCounts)\n",
        "\n",
        "nAbstract = len(abstractsTrain)\n",
        "plt.figure(figsize=(10, 6))\n",
        "plt.title(\"Domain Counts (Training Set)\")\n",
        "plt.pie(labelCounts, labels=labels, autopct='%1.1f%%', startangle=140, colors=plt.cm.Paired(range(len(labels))))\n",
        "plt.axis('equal')  # Equal aspect ratio ensures that pie is drawn as a circle.\n",
        "plt.show()\n",
        "\n",
        "for i, domain in enumerate(labels):\n",
        "    print(\"The domain\", domain, \"has\", labelCounts[i], \"records in the training set.\")"
      ]
    },
    {
      "cell_type": "code",
      "execution_count": 15,
      "metadata": {
        "id": "o4urSnRFDN6B",
        "colab": {
          "base_uri": "https://localhost:8080/"
        },
        "outputId": "fc0f61d3-0b66-444e-a42b-8c617c187164"
      },
      "outputs": [
        {
          "output_type": "stream",
          "name": "stdout",
          "text": [
            "Number of abstracts:  9397\n",
            "Shape of abstracts:  (9397,)\n",
            "Number of keywords:  9397\n",
            "Shape of keywords:  (9397,)\n",
            "Number of domains:  9397\n",
            "Shape of domains:  (9397,)\n",
            "Number of labels:  9397\n",
            "Shape of labels:  (9397,)\n",
            "['in mycobacteria polyketide synthases and nonribosomal peptide synthetases nrpss produce complex lipidic metabolites by using a thiotemplate mechanism of catalysis in this study we demonstrate that offloading reductase r domain of mycobacterial nrpss performs two consecutive 2  2e reductions to release thioesterbound lipopeptides as corresponding alcohols using a nonprocessive mechanism of catalysis the first crystal structure of an r domain from mycobacterium tuberculosis nrps provides strong support to this mechanistic model and suggests that the displacement of intermediate would be required for cofactor recycling we show that 4e reductases produce alcohols through a committed aldehyde intermediate and the reduction of this intermediate is at least 10 times more efficient than the thioestersubstrate structural and biochemical studies also provide evidence for the conformational changes associated with the reductive cycle further we show that the large substratebinding pocket with a hydrophobic platform accounts for the remarkable substrate promiscuity of these domains our studies present an elegant example of the recruitment of a canonical shortchain dehydrogenasereductase family member as an offloading domain in the context of assemblyline enzymology'\n",
            " 'a new technique called geotextile mattress with floating curtain gmfc may be an advisable alternative countermeasure against seabed erosion since it can allow deposited sediment dunes to form naturally at upstream and downstream sides of gmfc when installed in erosive flow however cyclic loading of wave actions can lead to liquefaction of the seabed under the mattress reducing the maximum friction resistance of the mattress even leading to instability of the gmfc structure thus in this study a series of physical model tests in a rectangular flume were carried out to investigate the behavior of a single gmfc and the hydrodynamic environment around gmfc subjected to wave loading the wave force on seabed was recorded by pressure gauges installed on the flume bed experimental results indicated that some area of the unmovable bed around gmfc suffered much higher hydrodynamic pressure under the wave action the areas directly facing the bottom openings of gmfc are more prone to bear higher cyclic force of wave actions moreover the results also illustrated that the highest cyclic force of wave actions on the seabed appears at a distance of the mattresscurtain height to the gmfc centerline the parametric study indicated that the opening ratio has a significant impact on the wave force properties']\n",
            "[' chain release glycopeptidolipid nadph tyrosinedependent oxidoreductase        '\n",
            " ' mattress erosion control wave sediment trapping flexible structure        ']\n",
            "['biochemistry' 'Civil']\n",
            "['6' '4']\n"
          ]
        }
      ],
      "source": [
        "abstractsTest = test_data[:,3]\n",
        "keywordsTest = test_data[:,2]\n",
        "domainsTest = test_data[:,1]\n",
        "allLabelsTest = test_data[:,0]\n",
        "\n",
        "print(\"Number of abstracts: \",len(abstractsTest))\n",
        "print(\"Shape of abstracts: \",np.shape(abstractsTest))\n",
        "print(\"Number of keywords: \",len(keywordsTest))\n",
        "print(\"Shape of keywords: \",np.shape(keywordsTest))\n",
        "print(\"Number of domains: \",len(domainsTest))\n",
        "print(\"Shape of domains: \",np.shape(domainsTest))\n",
        "print(\"Number of labels: \",len(allLabelsTest))\n",
        "print(\"Shape of labels: \",np.shape(allLabelsTest))\n",
        "\n",
        "# arr = np.array(domainsTest)\n",
        "# cleaned_domains = np.char.strip(arr)\n",
        "# print(\"Cleaned arr \", cleaned_domains)\n",
        "# domainsLabelsTest = cleaned_domains\n",
        "# print(\"Labels domains \", domainsLabelsTest)\n",
        "\n",
        "print(abstractsTest[0:2])\n",
        "print(keywordsTest[0:2])\n",
        "print(domainsTest[0:2])\n",
        "print(allLabelsTest[0:2])"
      ]
    },
    {
      "cell_type": "code",
      "execution_count": 16,
      "metadata": {
        "id": "wXDx7H28DN6B",
        "colab": {
          "base_uri": "https://localhost:8080/",
          "height": 690
        },
        "outputId": "9880db79-9697-4ddf-d98c-b484211ae688"
      },
      "outputs": [
        {
          "output_type": "stream",
          "name": "stdout",
          "text": [
            "Labels  ['CS' 'Civil' 'ECE' 'MAE' 'Medical' 'Psychology' 'biochemistry']\n",
            "Label counts  [1299  824 1072  705 2884 1491 1122]\n"
          ]
        },
        {
          "output_type": "display_data",
          "data": {
            "text/plain": [
              "<Figure size 1000x600 with 1 Axes>"
            ],
            "image/png": "[encoded data removed]"
          },
          "metadata": {}
        },
        {
          "output_type": "stream",
          "name": "stdout",
          "text": [
            "The domain CS has 1299 records in the test set.\n",
            "The domain Civil has 824 records in the test set.\n",
            "The domain ECE has 1072 records in the test set.\n",
            "The domain MAE has 705 records in the test set.\n",
            "The domain Medical has 2884 records in the test set.\n",
            "The domain Psychology has 1491 records in the test set.\n",
            "The domain biochemistry has 1122 records in the test set.\n"
          ]
        }
      ],
      "source": [
        "labels = np.unique(domainsTest, return_counts=True)[0]\n",
        "labelCounts =  np.unique(domainsTest, return_counts=True)[1]\n",
        "\n",
        "print(\"Labels \", labels)\n",
        "print(\"Label counts \", labelCounts)\n",
        "\n",
        "nAbstract = len(abstractsTest)\n",
        "plt.figure(figsize=(10, 6))\n",
        "plt.title(\"Domain Counts (Test Set)\")\n",
        "plt.pie(labelCounts, labels=labels, autopct='%1.1f%%', startangle=140, colors=plt.cm.Paired(range(len(labels))))\n",
        "plt.axis('equal')  # Equal aspect ratio ensures that pie is drawn as a circle.\n",
        "plt.show()\n",
        "\n",
        "for i, domain in enumerate(labels):\n",
        "    print(\"The domain\", domain, \"has\", labelCounts[i], \"records in the test set.\")"
      ]
    },
    {
      "cell_type": "code",
      "execution_count": 17,
      "metadata": {
        "id": "zkEyui06DN6B",
        "colab": {
          "base_uri": "https://localhost:8080/"
        },
        "outputId": "2ef9ef68-d5b2-45be-bbd8-8ce561e6d1ac"
      },
      "outputs": [
        {
          "output_type": "stream",
          "name": "stdout",
          "text": [
            "Number of abstracts:  1880\n",
            "Shape of abstracts:  (1880,)\n",
            "Number of keywords:  1880\n",
            "Shape of keywords:  (1880,)\n",
            "Number of domains:  1880\n",
            "Shape of domains:  (1880,)\n",
            "Number of labels:  1880\n",
            "Shape of labels:  (1880,)\n",
            "['as it provides the simultaneous benefits of reducing the demand for potable water and the generation of water runoff rainwater harvesting rwh has received increasing attention from urban water managers in the past decades this study employs a mass balance based method to estimate rwh performance for four large metropolitan areas of the united states namely new york city philadelphia chicago and seattle geospatial analysis is used in concert with climatic records to characterize the cityscape and climatic patterns of each city and evaluate the rwh systems performance both in terms of potable water savings and roof runoff reductions the analysis indicates that typical urban rainwater harvesting setups consisting of a 100 m2 roof connected to a 5m3 storage volume would be able to reduce potable water demand by over 65 in all cities while contextually reduce roof runoff generation by over 75 small differences in performance are observed among cities due to differences in precipitation patterns typical roof area and population density furthermore an evaluation of the total water savings and runoff reduction for the application of rwh practices at maximum build out for all four study cities is provided and the sensitivity of our estimates of performance to precipitation patterns and to the systems operating algorithm is also analyzed and discussed c 2016 elsevier bv all rights reserved'\n",
            " 'the optimal power flow opf problem minimizes the power loss in an electrical network by optimizing the voltage and power delivered at the network buses and is a nonconvex problem that is generally hard to solve by leveraging a recent development on the zero duality gap of opf we propose a secondorder cone programming convex relaxation of the resistive network opf and study the uniqueness of the optimal solution using differential topology especially the poincarehopf index theorem we characterize the global uniqueness for different network topologies eg line radial and mesh networks this serves as a starting point to design distributed local algorithms with global behaviors that have low complexity are computationally fast and can run under synchronous and asynchronous settings in practical power grids']\n",
            "[' urban hydrology rainwater harvesting low impact development green infrastructure potable water savings urban runoff reduction        '\n",
            " ' differential topology distributed algorithm optimal power flow optimization power system secondorder cone programming        ']\n",
            "['Civil' 'ECE']\n",
            "['4' '1']\n"
          ]
        }
      ],
      "source": [
        "abstractsVal = val_data[:,3]\n",
        "keywordsVal = val_data[:,2]\n",
        "domainsVal = val_data[:,1]\n",
        "allLabelsVal = val_data[:,0]\n",
        "\n",
        "print(\"Number of abstracts: \",len(abstractsVal))\n",
        "print(\"Shape of abstracts: \",np.shape(abstractsVal))\n",
        "print(\"Number of keywords: \",len(keywordsVal))\n",
        "print(\"Shape of keywords: \",np.shape(keywordsVal))\n",
        "print(\"Number of domains: \",len(domainsVal))\n",
        "print(\"Shape of domains: \",np.shape(domainsVal))\n",
        "print(\"Number of labels: \",len(allLabelsVal))\n",
        "print(\"Shape of labels: \",np.shape(allLabelsVal))\n",
        "\n",
        "print(abstractsVal[0:2])\n",
        "print(keywordsVal[0:2])\n",
        "print(domainsVal[0:2])\n",
        "print(allLabelsVal[0:2])"
      ]
    },
    {
      "cell_type": "code",
      "execution_count": 18,
      "metadata": {
        "id": "1ax8-nZaDN6B",
        "colab": {
          "base_uri": "https://localhost:8080/",
          "height": 690
        },
        "outputId": "0a3bf8b6-267e-44da-9f94-d35504224f4d"
      },
      "outputs": [
        {
          "output_type": "stream",
          "name": "stdout",
          "text": [
            "Labels  ['CS' 'Civil' 'ECE' 'MAE' 'Medical' 'Psychology' 'biochemistry']\n",
            "Label counts  [237 176 222 146 565 290 244]\n"
          ]
        },
        {
          "output_type": "display_data",
          "data": {
            "text/plain": [
              "<Figure size 1000x600 with 1 Axes>"
            ],
            "image/png": "[encoded data removed]"
          },
          "metadata": {}
        },
        {
          "output_type": "stream",
          "name": "stdout",
          "text": [
            "The domain CS has 237 records in the vaidation set.\n",
            "The domain Civil has 176 records in the vaidation set.\n",
            "The domain ECE has 222 records in the vaidation set.\n",
            "The domain MAE has 146 records in the vaidation set.\n",
            "The domain Medical has 565 records in the vaidation set.\n",
            "The domain Psychology has 290 records in the vaidation set.\n",
            "The domain biochemistry has 244 records in the vaidation set.\n"
          ]
        }
      ],
      "source": [
        "labels = np.unique(domainsVal, return_counts=True)[0]\n",
        "labelCounts =  np.unique(domainsVal, return_counts=True)[1]\n",
        "\n",
        "print(\"Labels \", labels)\n",
        "print(\"Label counts \", labelCounts)\n",
        "\n",
        "nAbstract = len(abstractsVal)\n",
        "plt.figure(figsize=(10, 6))\n",
        "plt.title(\"Domain Counts (Validation Set)\")\n",
        "plt.pie(labelCounts, labels=labels, autopct='%1.1f%%', startangle=140, colors=plt.cm.Paired(range(len(labels))))\n",
        "plt.axis('equal')  # Equal aspect ratio ensures that pie is drawn as a circle.\n",
        "plt.show()\n",
        "\n",
        "for i, domain in enumerate(labels):\n",
        "    print(\"The domain\", domain, \"has\", labelCounts[i], \"records in the vaidation set.\")"
      ]
    },
    {
      "cell_type": "code",
      "execution_count": 19,
      "metadata": {
        "id": "sxbOFbMrDN6C"
      },
      "outputs": [],
      "source": [
        "# Function to tokenize and encode the dataset\n",
        "def encode_data(data, tokenizer, max_length=128):\n",
        "    # print(len(data[:,2]))\n",
        "    inputs = tokenizer(\n",
        "        data[:,2].tolist(), # Keywords 2\n",
        "        max_length=max_length,\n",
        "        padding='max_length',\n",
        "        truncation=True,\n",
        "        return_tensors=\"pt\"\n",
        "    )\n",
        "    # print(len(dataShuffled[:, 0]))\n",
        "    labels = torch.tensor(data[:, 0].astype(int))\n",
        "    print(\"Label length \", len(labels))\n",
        "    return TensorDataset(inputs['input_ids'], inputs['attention_mask'], labels)"
      ]
    },
    {
      "cell_type": "code",
      "execution_count": 20,
      "metadata": {
        "id": "Y8_HDuDUDN6C",
        "colab": {
          "base_uri": "https://localhost:8080/"
        },
        "outputId": "3254cd7d-9491-4f43-c454-f81383d9454b"
      },
      "outputs": [
        {
          "output_type": "stream",
          "name": "stdout",
          "text": [
            "(37588, 4)\n",
            "(9397, 4)\n",
            "(1880, 4)\n"
          ]
        }
      ],
      "source": [
        "print(np.shape(train_data))\n",
        "print(np.shape(test_data))\n",
        "print(np.shape(val_data))\n"
      ]
    },
    {
      "cell_type": "code",
      "execution_count": 21,
      "metadata": {
        "id": "c6avATPgDN6C",
        "colab": {
          "base_uri": "https://localhost:8080/"
        },
        "outputId": "219b7ed0-f692-490c-aa09-115619ac8259"
      },
      "outputs": [
        {
          "output_type": "stream",
          "name": "stdout",
          "text": [
            "Label length  37588\n",
            "Label length  1880\n",
            "Label length  9397\n"
          ]
        }
      ],
      "source": [
        "# Encode training, validation, and testing data\n",
        "train_dataset = encode_data(train_data, tokenizer)\n",
        "val_dataset = encode_data(val_data, tokenizer)\n",
        "test_dataset = encode_data(test_data, tokenizer)\n",
        "\n",
        "\n",
        "\n",
        "# Data loaders\n",
        "train_dataloader = DataLoader(train_dataset, sampler=RandomSampler(train_dataset), batch_size=32)\n",
        "val_dataloader = DataLoader(val_dataset, sampler=SequentialSampler(val_dataset), batch_size=32)\n",
        "test_dataloader = DataLoader(test_dataset, sampler=SequentialSampler(test_dataset), batch_size=32)"
      ]
    },
    {
      "cell_type": "code",
      "execution_count": 22,
      "metadata": {
        "id": "ybVLIN-JDN6C",
        "colab": {
          "base_uri": "https://localhost:8080/",
          "height": 940,
          "referenced_widgets": [
            "82939930f5a74a69b2ff93b2a9e4c611",
            "957a3467a4dc49f18f9c8bd45fe8dfd0",
            "4dffd6adf0fb41a2838b1622eea1e059",
            "acecfde4ffa14ff2ab398ca8f63b1851",
            "b9ff959839d94c4d9df8d9e4d804df40",
            "212624df10d1429792b8132cfbed7e67",
            "bf39e8b90d014571b1c2cac7438c3502",
            "9243a576d3354835aa76ee106dfdc5dd",
            "4cb6c23ed0ff4534825e252d2cd705bb",
            "9fa4fc242bd34e76b50d2b062bef801b",
            "231f308ce17d449dbffc8e44e17400d7"
          ]
        },
        "outputId": "4753c8a4-096e-4220-fa4e-7b160aa02077"
      },
      "outputs": [
        {
          "output_type": "stream",
          "name": "stdout",
          "text": [
            "7\n"
          ]
        },
        {
          "output_type": "display_data",
          "data": {
            "text/plain": [
              "pytorch_model.bin:   0%|          | 0.00/436M [00:00<?, ?B/s]"
            ],
            "application/vnd.jupyter.widget-view+json": {
              "version_major": 2,
              "version_minor": 0,
              "model_id": "82939930f5a74a69b2ff93b2a9e4c611"
            }
          },
          "metadata": {}
        },
        {
          "output_type": "stream",
          "name": "stderr",
          "text": [
            "Some weights of BertForSequenceClassification were not initialized from the model checkpoint at dmis-lab/biobert-base-cased-v1.2 and are newly initialized: ['classifier.bias', 'classifier.weight']\n",
            "You should probably TRAIN this model on a down-stream task to be able to use it for predictions and inference.\n"
          ]
        },
        {
          "output_type": "execute_result",
          "data": {
            "text/plain": [
              "BertForSequenceClassification(\n",
              "  (bert): BertModel(\n",
              "    (embeddings): BertEmbeddings(\n",
              "      (word_embeddings): Embedding(28996, 768, padding_idx=0)\n",
              "      (position_embeddings): Embedding(512, 768)\n",
              "      (token_type_embeddings): Embedding(2, 768)\n",
              "      (LayerNorm): LayerNorm((768,), eps=1e-12, elementwise_affine=True)\n",
              "      (dropout): Dropout(p=0.1, inplace=False)\n",
              "    )\n",
              "    (encoder): BertEncoder(\n",
              "      (layer): ModuleList(\n",
              "        (0-11): 12 x BertLayer(\n",
              "          (attention): BertAttention(\n",
              "            (self): BertSdpaSelfAttention(\n",
              "              (query): Linear(in_features=768, out_features=768, bias=True)\n",
              "              (key): Linear(in_features=768, out_features=768, bias=True)\n",
              "              (value): Linear(in_features=768, out_features=768, bias=True)\n",
              "              (dropout): Dropout(p=0.1, inplace=False)\n",
              "            )\n",
              "            (output): BertSelfOutput(\n",
              "              (dense): Linear(in_features=768, out_features=768, bias=True)\n",
              "              (LayerNorm): LayerNorm((768,), eps=1e-12, elementwise_affine=True)\n",
              "              (dropout): Dropout(p=0.1, inplace=False)\n",
              "            )\n",
              "          )\n",
              "          (intermediate): BertIntermediate(\n",
              "            (dense): Linear(in_features=768, out_features=3072, bias=True)\n",
              "            (intermediate_act_fn): GELUActivation()\n",
              "          )\n",
              "          (output): BertOutput(\n",
              "            (dense): Linear(in_features=3072, out_features=768, bias=True)\n",
              "            (LayerNorm): LayerNorm((768,), eps=1e-12, elementwise_affine=True)\n",
              "            (dropout): Dropout(p=0.1, inplace=False)\n",
              "          )\n",
              "        )\n",
              "      )\n",
              "    )\n",
              "    (pooler): BertPooler(\n",
              "      (dense): Linear(in_features=768, out_features=768, bias=True)\n",
              "      (activation): Tanh()\n",
              "    )\n",
              "  )\n",
              "  (dropout): Dropout(p=0.1, inplace=False)\n",
              "  (classifier): Linear(in_features=768, out_features=7, bias=True)\n",
              ")"
            ]
          },
          "metadata": {},
          "execution_count": 22
        }
      ],
      "source": [
        "# Load SciBERT model\n",
        "print(len(np.unique(train_data[:,0])))\n",
        "model = AutoModelForSequenceClassification.from_pretrained(\"dmis-lab/biobert-base-cased-v1.2\", num_labels=len(np.unique(train_data[:,0])))\n",
        "device = torch.device(\"cuda\" if torch.cuda.is_available() else \"cpu\")\n",
        "model.to(device)"
      ]
    },
    {
      "cell_type": "code",
      "execution_count": 23,
      "metadata": {
        "id": "ps1DInjXDN6C",
        "colab": {
          "base_uri": "https://localhost:8080/"
        },
        "outputId": "2e3295e2-26ec-4450-bc2c-bb33724a0fcd"
      },
      "outputs": [
        {
          "output_type": "execute_result",
          "data": {
            "text/plain": [
              "BertConfig {\n",
              "  \"_name_or_path\": \"dmis-lab/biobert-base-cased-v1.2\",\n",
              "  \"architectures\": [\n",
              "    \"BertForMaskedLM\"\n",
              "  ],\n",
              "  \"attention_probs_dropout_prob\": 0.1,\n",
              "  \"classifier_dropout\": null,\n",
              "  \"hidden_act\": \"gelu\",\n",
              "  \"hidden_dropout_prob\": 0.1,\n",
              "  \"hidden_size\": 768,\n",
              "  \"id2label\": {\n",
              "    \"0\": \"LABEL_0\",\n",
              "    \"1\": \"LABEL_1\",\n",
              "    \"2\": \"LABEL_2\",\n",
              "    \"3\": \"LABEL_3\",\n",
              "    \"4\": \"LABEL_4\",\n",
              "    \"5\": \"LABEL_5\",\n",
              "    \"6\": \"LABEL_6\"\n",
              "  },\n",
              "  \"initializer_range\": 0.02,\n",
              "  \"intermediate_size\": 3072,\n",
              "  \"label2id\": {\n",
              "    \"LABEL_0\": 0,\n",
              "    \"LABEL_1\": 1,\n",
              "    \"LABEL_2\": 2,\n",
              "    \"LABEL_3\": 3,\n",
              "    \"LABEL_4\": 4,\n",
              "    \"LABEL_5\": 5,\n",
              "    \"LABEL_6\": 6\n",
              "  },\n",
              "  \"layer_norm_eps\": 1e-12,\n",
              "  \"max_position_embeddings\": 512,\n",
              "  \"model_type\": \"bert\",\n",
              "  \"num_attention_heads\": 12,\n",
              "  \"num_hidden_layers\": 12,\n",
              "  \"pad_token_id\": 0,\n",
              "  \"position_embedding_type\": \"absolute\",\n",
              "  \"transformers_version\": \"4.42.4\",\n",
              "  \"type_vocab_size\": 2,\n",
              "  \"use_cache\": true,\n",
              "  \"vocab_size\": 28996\n",
              "}"
            ]
          },
          "metadata": {},
          "execution_count": 23
        }
      ],
      "source": [
        "model.config"
      ]
    },
    {
      "cell_type": "code",
      "execution_count": 24,
      "metadata": {
        "id": "qmjlyLnkDN6C",
        "colab": {
          "base_uri": "https://localhost:8080/"
        },
        "outputId": "1f0976e9-7eaf-4b03-8834-153ecdb01cf2"
      },
      "outputs": [
        {
          "output_type": "stream",
          "name": "stderr",
          "text": [
            "/usr/local/lib/python3.10/dist-packages/transformers/optimization.py:591: FutureWarning: This implementation of AdamW is deprecated and will be removed in a future version. Use the PyTorch implementation torch.optim.AdamW instead, or set `no_deprecation_warning=True` to disable this warning\n",
            "  warnings.warn(\n"
          ]
        }
      ],
      "source": [
        "# Optimizer and learning rate scheduler\n",
        "optimizer = AdamW(model.parameters(), lr=2e-5, eps=1e-8)\n",
        "total_steps = len(train_dataloader) * 20\n",
        "num_warmup_steps = 1e-4\n",
        "scheduler = get_linear_schedule_with_warmup(optimizer, num_warmup_steps=num_warmup_steps, num_training_steps=total_steps)"
      ]
    },
    {
      "cell_type": "code",
      "execution_count": 25,
      "metadata": {
        "id": "xj4AnpxJDN6C"
      },
      "outputs": [],
      "source": [
        "def calculate_metrics(valType, predictions, true_labels):\n",
        "    # Confusion matrix\n",
        "    if(valType == 'test'):\n",
        "        cm = confusion_matrix(true_labels, predictions)\n",
        "        print(\"Confusion Matrix:\\n\", cm)\n",
        "\n",
        "        # Classification report (includes precision, recall, F1 score)\n",
        "        report = classification_report(true_labels, predictions, target_names=[str(i) for i in range(len(np.unique(true_labels)))])\n",
        "        print(\"\\nClassification Report:\\n\", report)\n",
        "\n",
        "        # Calculate different types of F1 scores, precision, and recall\n",
        "        f1_macro = f1_score(true_labels, predictions, average='macro')\n",
        "        f1_micro = f1_score(true_labels, predictions, average='micro')\n",
        "        f1_weighted = f1_score(true_labels, predictions, average='weighted')\n",
        "\n",
        "        precision_macro = precision_score(true_labels, predictions, average='macro')\n",
        "        precision_micro = precision_score(true_labels, predictions, average='micro')\n",
        "        precision_weighted = precision_score(true_labels, predictions, average='weighted')\n",
        "\n",
        "        recall_macro = recall_score(true_labels, predictions, average='macro')\n",
        "        recall_micro = recall_score(true_labels, predictions, average='micro')\n",
        "        recall_weighted = recall_score(true_labels, predictions, average='weighted')\n",
        "\n",
        "        print(f\"Macro F1 Score: {f1_macro}\")\n",
        "        print(f\"Micro F1 Score: {f1_micro}\")\n",
        "        print(f\"Weighted F1 Score: {f1_weighted}\")\n",
        "\n",
        "        print(f\"Macro Precision: {precision_macro}\")\n",
        "        print(f\"Micro Precision: {precision_micro}\")\n",
        "        print(f\"Weighted Precision: {precision_weighted}\")\n",
        "\n",
        "        print(f\"Macro Recall: {recall_macro}\")\n",
        "        print(f\"Micro Recall: {recall_micro}\")\n",
        "        print(f\"Weighted Recall: {recall_weighted}\")\n",
        "\n",
        "    elif(valType == 'val'):\n",
        "        cm = confusion_matrix(true_labels, predictions)\n",
        "        f1_macro = f1_score(true_labels, predictions, average='macro')\n",
        "        f1_micro = f1_score(true_labels, predictions, average='micro')\n",
        "        f1_weighted = f1_score(true_labels, predictions, average='weighted')\n",
        "\n",
        "        precision_macro = precision_score(true_labels, predictions, average='macro')\n",
        "        precision_micro = precision_score(true_labels, predictions, average='micro')\n",
        "        precision_weighted = precision_score(true_labels, predictions, average='weighted')\n",
        "\n",
        "        recall_macro = recall_score(true_labels, predictions, average='macro')\n",
        "        recall_micro = recall_score(true_labels, predictions, average='micro')\n",
        "        recall_weighted = recall_score(true_labels, predictions, average='weighted')\n",
        "        # print('Val Micro F1:', f1_micro)\n",
        "        return f1_micro"
      ]
    },
    {
      "cell_type": "code",
      "execution_count": 26,
      "metadata": {
        "id": "05xzH0FEDN6C",
        "colab": {
          "base_uri": "https://localhost:8080/"
        },
        "outputId": "f01e6cc8-9dc0-40c2-f72c-a1abea1f052a"
      },
      "outputs": [
        {
          "output_type": "stream",
          "name": "stderr",
          "text": [
            "Epoch 1/20: 100%|██████████| 1175/1175 [13:20<00:00,  1.47batch/s]\n"
          ]
        },
        {
          "output_type": "stream",
          "name": "stdout",
          "text": [
            "Epoch 1/20\n",
            "  Train Loss: 0.7650797009468079\n",
            "  Val Micro F1: 0.7962765957446809\n",
            "  Time: 13m 34s\n"
          ]
        },
        {
          "output_type": "stream",
          "name": "stderr",
          "text": [
            "Epoch 2/20: 100%|██████████| 1175/1175 [13:20<00:00,  1.47batch/s]\n"
          ]
        },
        {
          "output_type": "stream",
          "name": "stdout",
          "text": [
            "Epoch 2/20\n",
            "  Train Loss: 0.528151641741712\n",
            "  Val Micro F1: 0.7952127659574468\n",
            "  Time: 13m 34s\n"
          ]
        },
        {
          "output_type": "stream",
          "name": "stderr",
          "text": [
            "Epoch 3/20: 100%|██████████| 1175/1175 [13:18<00:00,  1.47batch/s]\n"
          ]
        },
        {
          "output_type": "stream",
          "name": "stdout",
          "text": [
            "Epoch 3/20\n",
            "  Train Loss: 0.41363620160107917\n",
            "  Val Micro F1: 0.8015957446808512\n",
            "  Time: 13m 33s\n"
          ]
        },
        {
          "output_type": "stream",
          "name": "stderr",
          "text": [
            "Epoch 4/20: 100%|██████████| 1175/1175 [13:19<00:00,  1.47batch/s]\n"
          ]
        },
        {
          "output_type": "stream",
          "name": "stdout",
          "text": [
            "Epoch 4/20\n",
            "  Train Loss: 0.3035346840639064\n",
            "  Val Micro F1: 0.7984042553191489\n",
            "  Time: 13m 34s\n"
          ]
        },
        {
          "output_type": "stream",
          "name": "stderr",
          "text": [
            "Epoch 5/20: 100%|██████████| 1175/1175 [13:18<00:00,  1.47batch/s]\n"
          ]
        },
        {
          "output_type": "stream",
          "name": "stdout",
          "text": [
            "Epoch 5/20\n",
            "  Train Loss: 0.21746853912288838\n",
            "  Val Micro F1: 0.7957446808510639\n",
            "  Time: 13m 32s\n"
          ]
        },
        {
          "output_type": "stream",
          "name": "stderr",
          "text": [
            "Epoch 6/20: 100%|██████████| 1175/1175 [13:18<00:00,  1.47batch/s]\n"
          ]
        },
        {
          "output_type": "stream",
          "name": "stdout",
          "text": [
            "Epoch 6/20\n",
            "  Train Loss: 0.15603212239458522\n",
            "  Val Micro F1: 0.7936170212765957\n",
            "  Time: 13m 32s\n"
          ]
        },
        {
          "output_type": "stream",
          "name": "stderr",
          "text": [
            "Epoch 7/20: 100%|██████████| 1175/1175 [13:19<00:00,  1.47batch/s]\n"
          ]
        },
        {
          "output_type": "stream",
          "name": "stdout",
          "text": [
            "Epoch 7/20\n",
            "  Train Loss: 0.11287836265215215\n",
            "  Val Micro F1: 0.7925531914893617\n",
            "  Time: 13m 33s\n"
          ]
        },
        {
          "output_type": "stream",
          "name": "stderr",
          "text": [
            "Epoch 8/20: 100%|██████████| 1175/1175 [13:17<00:00,  1.47batch/s]\n"
          ]
        },
        {
          "output_type": "stream",
          "name": "stdout",
          "text": [
            "Epoch 8/20\n",
            "  Train Loss: 0.08735612370816871\n",
            "  Val Micro F1: 0.7819148936170213\n",
            "  Time: 13m 32s\n"
          ]
        },
        {
          "output_type": "stream",
          "name": "stderr",
          "text": [
            "Epoch 9/20: 100%|██████████| 1175/1175 [13:18<00:00,  1.47batch/s]\n"
          ]
        },
        {
          "output_type": "stream",
          "name": "stdout",
          "text": [
            "Epoch 9/20\n",
            "  Train Loss: 0.06670118782367121\n",
            "  Val Micro F1: 0.7914893617021276\n",
            "  Time: 13m 32s\n"
          ]
        },
        {
          "output_type": "stream",
          "name": "stderr",
          "text": [
            "Epoch 10/20: 100%|██████████| 1175/1175 [13:17<00:00,  1.47batch/s]\n"
          ]
        },
        {
          "output_type": "stream",
          "name": "stdout",
          "text": [
            "Epoch 10/20\n",
            "  Train Loss: 0.05236870293193398\n",
            "  Val Micro F1: 0.7808510638297872\n",
            "  Time: 13m 31s\n"
          ]
        },
        {
          "output_type": "stream",
          "name": "stderr",
          "text": [
            "Epoch 11/20: 100%|██████████| 1175/1175 [13:17<00:00,  1.47batch/s]\n"
          ]
        },
        {
          "output_type": "stream",
          "name": "stdout",
          "text": [
            "Epoch 11/20\n",
            "  Train Loss: 0.04184924311657248\n",
            "  Val Micro F1: 0.7882978723404257\n",
            "  Time: 13m 31s\n"
          ]
        },
        {
          "output_type": "stream",
          "name": "stderr",
          "text": [
            "Epoch 12/20: 100%|██████████| 1175/1175 [13:18<00:00,  1.47batch/s]\n"
          ]
        },
        {
          "output_type": "stream",
          "name": "stdout",
          "text": [
            "Epoch 12/20\n",
            "  Train Loss: 0.03347754669461791\n",
            "  Val Micro F1: 0.7898936170212766\n",
            "  Time: 13m 33s\n"
          ]
        },
        {
          "output_type": "stream",
          "name": "stderr",
          "text": [
            "Epoch 13/20: 100%|██████████| 1175/1175 [13:18<00:00,  1.47batch/s]\n"
          ]
        },
        {
          "output_type": "stream",
          "name": "stdout",
          "text": [
            "Epoch 13/20\n",
            "  Train Loss: 0.024759171289240725\n",
            "  Val Micro F1: 0.7914893617021276\n",
            "  Time: 13m 33s\n"
          ]
        },
        {
          "output_type": "stream",
          "name": "stderr",
          "text": [
            "Epoch 14/20: 100%|██████████| 1175/1175 [13:17<00:00,  1.47batch/s]\n"
          ]
        },
        {
          "output_type": "stream",
          "name": "stdout",
          "text": [
            "Epoch 14/20\n",
            "  Train Loss: 0.019369037279520464\n",
            "  Val Micro F1: 0.7914893617021276\n",
            "  Time: 13m 32s\n"
          ]
        },
        {
          "output_type": "stream",
          "name": "stderr",
          "text": [
            "Epoch 15/20: 100%|██████████| 1175/1175 [13:18<00:00,  1.47batch/s]\n"
          ]
        },
        {
          "output_type": "stream",
          "name": "stdout",
          "text": [
            "Epoch 15/20\n",
            "  Train Loss: 0.015305606021698778\n",
            "  Val Micro F1: 0.7893617021276595\n",
            "  Time: 13m 32s\n"
          ]
        },
        {
          "output_type": "stream",
          "name": "stderr",
          "text": [
            "Epoch 16/20: 100%|██████████| 1175/1175 [13:18<00:00,  1.47batch/s]\n"
          ]
        },
        {
          "output_type": "stream",
          "name": "stdout",
          "text": [
            "Epoch 16/20\n",
            "  Train Loss: 0.012822210902925284\n",
            "  Val Micro F1: 0.7861702127659576\n",
            "  Time: 13m 33s\n"
          ]
        },
        {
          "output_type": "stream",
          "name": "stderr",
          "text": [
            "Epoch 17/20: 100%|██████████| 1175/1175 [13:17<00:00,  1.47batch/s]\n"
          ]
        },
        {
          "output_type": "stream",
          "name": "stdout",
          "text": [
            "Epoch 17/20\n",
            "  Train Loss: 0.008112598479723253\n",
            "  Val Micro F1: 0.7946808510638298\n",
            "  Time: 13m 32s\n"
          ]
        },
        {
          "output_type": "stream",
          "name": "stderr",
          "text": [
            "Epoch 18/20: 100%|██████████| 1175/1175 [13:18<00:00,  1.47batch/s]\n"
          ]
        },
        {
          "output_type": "stream",
          "name": "stdout",
          "text": [
            "Epoch 18/20\n",
            "  Train Loss: 0.0075744808577276656\n",
            "  Val Micro F1: 0.7930851063829787\n",
            "  Time: 13m 32s\n"
          ]
        },
        {
          "output_type": "stream",
          "name": "stderr",
          "text": [
            "Epoch 19/20: 100%|██████████| 1175/1175 [13:18<00:00,  1.47batch/s]\n"
          ]
        },
        {
          "output_type": "stream",
          "name": "stdout",
          "text": [
            "Epoch 19/20\n",
            "  Train Loss: 0.004012072356321794\n",
            "  Val Micro F1: 0.7952127659574468\n",
            "  Time: 13m 33s\n"
          ]
        },
        {
          "output_type": "stream",
          "name": "stderr",
          "text": [
            "Epoch 20/20: 100%|██████████| 1175/1175 [13:18<00:00,  1.47batch/s]\n"
          ]
        },
        {
          "output_type": "stream",
          "name": "stdout",
          "text": [
            "Epoch 20/20\n",
            "  Train Loss: 0.0035853526328533687\n",
            "  Val Micro F1: 0.7914893617021276\n",
            "  Time: 13m 33s\n"
          ]
        }
      ],
      "source": [
        "epochs = 20\n",
        "for epoch in range(epochs):\n",
        "    model.train()\n",
        "    total_train_loss = 0\n",
        "    start_time = time.time()\n",
        "\n",
        "    # Training\n",
        "    for step, batch in enumerate(tqdm(train_dataloader, desc=f\"Epoch {epoch + 1}/{epochs}\", unit=\"batch\")):\n",
        "        batch = tuple(t.to(device) for t in batch)\n",
        "        input_ids, input_mask, labels = batch\n",
        "\n",
        "\n",
        "        model.zero_grad()\n",
        "        outputs = model(input_ids=input_ids, attention_mask=input_mask, labels=labels)\n",
        "        loss = outputs.loss\n",
        "        total_train_loss += loss.item()\n",
        "\n",
        "        loss.backward()\n",
        "        torch.nn.utils.clip_grad_norm_(model.parameters(), max_norm=1.0)\n",
        "        optimizer.step()\n",
        "        scheduler.step()\n",
        "\n",
        "    avg_train_loss = total_train_loss / len(train_dataloader)\n",
        "\n",
        "    # Validation\n",
        "    model.eval()\n",
        "    predictions = []\n",
        "    true_labels = []\n",
        "\n",
        "    for batch in val_dataloader:\n",
        "        batch = tuple(t.to(device) for t in batch)\n",
        "        input_ids, input_mask, labels = batch\n",
        "\n",
        "        with torch.no_grad():\n",
        "            outputs = model(input_ids=input_ids, attention_mask=input_mask)\n",
        "            logits = outputs.logits\n",
        "\n",
        "        logits = logits.detach().cpu().numpy()\n",
        "        label_ids = labels.to('cpu').numpy()\n",
        "\n",
        "        batch_predictions = np.argmax(logits, axis=1)\n",
        "        predictions.extend(batch_predictions)\n",
        "        true_labels.extend(label_ids)\n",
        "\n",
        "    val_micro_f1 = calculate_metrics('val', predictions, true_labels)\n",
        "    elapsed_time = time.time() - start_time\n",
        "\n",
        "    # Print epoch summary\n",
        "    print(f\"Epoch {epoch + 1}/{epochs}\")\n",
        "    print(f\"  Train Loss: {avg_train_loss}\")\n",
        "    print(f\"  Val Micro F1: {val_micro_f1}\")\n",
        "    print(f\"  Time: {elapsed_time // 60:.0f}m {elapsed_time % 60:.0f}s\")"
      ]
    },
    {
      "cell_type": "code",
      "execution_count": 27,
      "metadata": {
        "id": "YF1GCpcUDN6D",
        "colab": {
          "base_uri": "https://localhost:8080/"
        },
        "outputId": "1ea5f495-e89d-4a4e-f444-b8cbd69165ff"
      },
      "outputs": [
        {
          "output_type": "stream",
          "name": "stdout",
          "text": [
            "Confusion Matrix:\n",
            " [[1052   65   34   38   33   25   52]\n",
            " [  64  877   16   57   40   10    8]\n",
            " [  36   16 1131   12   23  241   32]\n",
            " [  56   80   14  486   44   15   10]\n",
            " [  31   41   17   35  683   13    4]\n",
            " [  22   17  214   18    6 2429  178]\n",
            " [  28    6   27   11   13  225  812]]\n",
            "\n",
            "Classification Report:\n",
            "               precision    recall  f1-score   support\n",
            "\n",
            "           0       0.82      0.81      0.81      1299\n",
            "           1       0.80      0.82      0.81      1072\n",
            "           2       0.78      0.76      0.77      1491\n",
            "           3       0.74      0.69      0.71       705\n",
            "           4       0.81      0.83      0.82       824\n",
            "           5       0.82      0.84      0.83      2884\n",
            "           6       0.74      0.72      0.73      1122\n",
            "\n",
            "    accuracy                           0.79      9397\n",
            "   macro avg       0.79      0.78      0.78      9397\n",
            "weighted avg       0.79      0.79      0.79      9397\n",
            "\n",
            "Macro F1 Score: 0.7836390246011\n",
            "Micro F1 Score: 0.7949345535809302\n",
            "Weighted F1 Score: 0.7944088861856977\n",
            "Macro Precision: 0.7861829476277331\n",
            "Micro Precision: 0.7949345535809301\n",
            "Weighted Precision: 0.794218155742147\n",
            "Macro Recall: 0.781526846897126\n",
            "Micro Recall: 0.7949345535809301\n",
            "Weighted Recall: 0.7949345535809301\n"
          ]
        }
      ],
      "source": [
        "# Evaluation\n",
        "model.eval()\n",
        "predictions = []\n",
        "true_labels = []\n",
        "\n",
        "for batch in test_dataloader:\n",
        "    batch = tuple(t.to(device) for t in batch)\n",
        "    input_ids, input_mask, labels = batch\n",
        "\n",
        "    with torch.no_grad():\n",
        "        outputs = model(input_ids=input_ids, attention_mask=input_mask)\n",
        "        logits = outputs.logits\n",
        "\n",
        "    logits = logits.detach().cpu().numpy()\n",
        "    label_ids = labels.to('cpu').numpy()\n",
        "\n",
        "    batch_predictions = np.argmax(logits, axis=1)\n",
        "    predictions.extend(batch_predictions)\n",
        "    true_labels.extend(label_ids)\n",
        "\n",
        "# Calculate and print metrics\n",
        "calculate_metrics('test', predictions, true_labels)"
      ]
    },
    {
      "cell_type": "code",
      "execution_count": 28,
      "metadata": {
        "id": "zBU4h6E7DN6D"
      },
      "outputs": [],
      "source": [
        "model.save_pretrained('/content/drive/MyDrive/WoS/BioBERT_WoS_Keywords_46985')"
      ]
    },
    {
      "cell_type": "code",
      "source": [
        "print('End of the runtime!')"
      ],
      "metadata": {
        "id": "gXML14r1fqZ9",
        "colab": {
          "base_uri": "https://localhost:8080/"
        },
        "outputId": "32b3ec34-fcc4-47e3-8d4f-5d1346e62d9d"
      },
      "execution_count": 29,
      "outputs": [
        {
          "output_type": "stream",
          "name": "stdout",
          "text": [
            "End of the runtime!\n"
          ]
        }
      ]
    },
    {
      "cell_type": "code",
      "source": [
        "runtime.unassign()"
      ],
      "metadata": {
        "id": "a3ftL0Kkd3f0"
      },
      "execution_count": null,
      "outputs": []
    }
  ],
  "metadata": {
    "language_info": {
      "name": "python"
    },
    "colab": {
      "provenance": [],
      "machine_shape": "hm",
      "gpuType": "T4"
    },
    "kernelspec": {
      "name": "python3",
      "display_name": "Python 3"
    },
    "accelerator": "GPU",
    "widgets": {
      "application/vnd.jupyter.widget-state+json": {
        "37d6441e88dd4397bb225719d0afb900": {
          "model_module": "@jupyter-widgets/controls",
          "model_name": "HBoxModel",
          "model_module_version": "1.5.0",
          "state": {
            "_dom_classes": [],
            "_model_module": "@jupyter-widgets/controls",
            "_model_module_version": "1.5.0",
            "_model_name": "HBoxModel",
            "_view_count": null,
            "_view_module": "@jupyter-widgets/controls",
            "_view_module_version": "1.5.0",
            "_view_name": "HBoxView",
            "box_style": "",
            "children": [
              "IPY_MODEL_6ba047d4c6964f369fcd45841203a6d4",
              "IPY_MODEL_77d0852f17e04d3d866ecc2404db7f62",
              "IPY_MODEL_42951753291043f289e7ab8474831738"
            ],
            "layout": "IPY_MODEL_9a72a14c0f6548dcb995b6033903684e"
          }
        },
        "6ba047d4c6964f369fcd45841203a6d4": {
          "model_module": "@jupyter-widgets/controls",
          "model_name": "HTMLModel",
          "model_module_version": "1.5.0",
          "state": {
            "_dom_classes": [],
            "_model_module": "@jupyter-widgets/controls",
            "_model_module_version": "1.5.0",
            "_model_name": "HTMLModel",
            "_view_count": null,
            "_view_module": "@jupyter-widgets/controls",
            "_view_module_version": "1.5.0",
            "_view_name": "HTMLView",
            "description": "",
            "description_tooltip": null,
            "layout": "IPY_MODEL_5146521a7c2e40b4bd835b8e55e1413c",
            "placeholder": "​",
            "style": "IPY_MODEL_f652ad670fe6408d90c232b3d9ed36c3",
            "value": "config.json: 100%"
          }
        },
        "77d0852f17e04d3d866ecc2404db7f62": {
          "model_module": "@jupyter-widgets/controls",
          "model_name": "FloatProgressModel",
          "model_module_version": "1.5.0",
          "state": {
            "_dom_classes": [],
            "_model_module": "@jupyter-widgets/controls",
            "_model_module_version": "1.5.0",
            "_model_name": "FloatProgressModel",
            "_view_count": null,
            "_view_module": "@jupyter-widgets/controls",
            "_view_module_version": "1.5.0",
            "_view_name": "ProgressView",
            "bar_style": "success",
            "description": "",
            "description_tooltip": null,
            "layout": "IPY_MODEL_e8696c15ad3b4da8aabacca0555d766a",
            "max": 1110,
            "min": 0,
            "orientation": "horizontal",
            "style": "IPY_MODEL_1b8efd5319e447ee9c157b477494df28",
            "value": 1110
          }
        },
        "42951753291043f289e7ab8474831738": {
          "model_module": "@jupyter-widgets/controls",
          "model_name": "HTMLModel",
          "model_module_version": "1.5.0",
          "state": {
            "_dom_classes": [],
            "_model_module": "@jupyter-widgets/controls",
            "_model_module_version": "1.5.0",
            "_model_name": "HTMLModel",
            "_view_count": null,
            "_view_module": "@jupyter-widgets/controls",
            "_view_module_version": "1.5.0",
            "_view_name": "HTMLView",
            "description": "",
            "description_tooltip": null,
            "layout": "IPY_MODEL_75734eeeee7446639f136c6dd785a9f6",
            "placeholder": "​",
            "style": "IPY_MODEL_3cc60f6607e444fbb6edac94f809ffbf",
            "value": " 1.11k/1.11k [00:00&lt;00:00, 86.5kB/s]"
          }
        },
        "9a72a14c0f6548dcb995b6033903684e": {
          "model_module": "@jupyter-widgets/base",
          "model_name": "LayoutModel",
          "model_module_version": "1.2.0",
          "state": {
            "_model_module": "@jupyter-widgets/base",
            "_model_module_version": "1.2.0",
            "_model_name": "LayoutModel",
            "_view_count": null,
            "_view_module": "@jupyter-widgets/base",
            "_view_module_version": "1.2.0",
            "_view_name": "LayoutView",
            "align_content": null,
            "align_items": null,
            "align_self": null,
            "border": null,
            "bottom": null,
            "display": null,
            "flex": null,
            "flex_flow": null,
            "grid_area": null,
            "grid_auto_columns": null,
            "grid_auto_flow": null,
            "grid_auto_rows": null,
            "grid_column": null,
            "grid_gap": null,
            "grid_row": null,
            "grid_template_areas": null,
            "grid_template_columns": null,
            "grid_template_rows": null,
            "height": null,
            "justify_content": null,
            "justify_items": null,
            "left": null,
            "margin": null,
            "max_height": null,
            "max_width": null,
            "min_height": null,
            "min_width": null,
            "object_fit": null,
            "object_position": null,
            "order": null,
            "overflow": null,
            "overflow_x": null,
            "overflow_y": null,
            "padding": null,
            "right": null,
            "top": null,
            "visibility": null,
            "width": null
          }
        },
        "5146521a7c2e40b4bd835b8e55e1413c": {
          "model_module": "@jupyter-widgets/base",
          "model_name": "LayoutModel",
          "model_module_version": "1.2.0",
          "state": {
            "_model_module": "@jupyter-widgets/base",
            "_model_module_version": "1.2.0",
            "_model_name": "LayoutModel",
            "_view_count": null,
            "_view_module": "@jupyter-widgets/base",
            "_view_module_version": "1.2.0",
            "_view_name": "LayoutView",
            "align_content": null,
            "align_items": null,
            "align_self": null,
            "border": null,
            "bottom": null,
            "display": null,
            "flex": null,
            "flex_flow": null,
            "grid_area": null,
            "grid_auto_columns": null,
            "grid_auto_flow": null,
            "grid_auto_rows": null,
            "grid_column": null,
            "grid_gap": null,
            "grid_row": null,
            "grid_template_areas": null,
            "grid_template_columns": null,
            "grid_template_rows": null,
            "height": null,
            "justify_content": null,
            "justify_items": null,
            "left": null,
            "margin": null,
            "max_height": null,
            "max_width": null,
            "min_height": null,
            "min_width": null,
            "object_fit": null,
            "object_position": null,
            "order": null,
            "overflow": null,
            "overflow_x": null,
            "overflow_y": null,
            "padding": null,
            "right": null,
            "top": null,
            "visibility": null,
            "width": null
          }
        },
        "f652ad670fe6408d90c232b3d9ed36c3": {
          "model_module": "@jupyter-widgets/controls",
          "model_name": "DescriptionStyleModel",
          "model_module_version": "1.5.0",
          "state": {
            "_model_module": "@jupyter-widgets/controls",
            "_model_module_version": "1.5.0",
            "_model_name": "DescriptionStyleModel",
            "_view_count": null,
            "_view_module": "@jupyter-widgets/base",
            "_view_module_version": "1.2.0",
            "_view_name": "StyleView",
            "description_width": ""
          }
        },
        "e8696c15ad3b4da8aabacca0555d766a": {
          "model_module": "@jupyter-widgets/base",
          "model_name": "LayoutModel",
          "model_module_version": "1.2.0",
          "state": {
            "_model_module": "@jupyter-widgets/base",
            "_model_module_version": "1.2.0",
            "_model_name": "LayoutModel",
            "_view_count": null,
            "_view_module": "@jupyter-widgets/base",
            "_view_module_version": "1.2.0",
            "_view_name": "LayoutView",
            "align_content": null,
            "align_items": null,
            "align_self": null,
            "border": null,
            "bottom": null,
            "display": null,
            "flex": null,
            "flex_flow": null,
            "grid_area": null,
            "grid_auto_columns": null,
            "grid_auto_flow": null,
            "grid_auto_rows": null,
            "grid_column": null,
            "grid_gap": null,
            "grid_row": null,
            "grid_template_areas": null,
            "grid_template_columns": null,
            "grid_template_rows": null,
            "height": null,
            "justify_content": null,
            "justify_items": null,
            "left": null,
            "margin": null,
            "max_height": null,
            "max_width": null,
            "min_height": null,
            "min_width": null,
            "object_fit": null,
            "object_position": null,
            "order": null,
            "overflow": null,
            "overflow_x": null,
            "overflow_y": null,
            "padding": null,
            "right": null,
            "top": null,
            "visibility": null,
            "width": null
          }
        },
        "1b8efd5319e447ee9c157b477494df28": {
          "model_module": "@jupyter-widgets/controls",
          "model_name": "ProgressStyleModel",
          "model_module_version": "1.5.0",
          "state": {
            "_model_module": "@jupyter-widgets/controls",
            "_model_module_version": "1.5.0",
            "_model_name": "ProgressStyleModel",
            "_view_count": null,
            "_view_module": "@jupyter-widgets/base",
            "_view_module_version": "1.2.0",
            "_view_name": "StyleView",
            "bar_color": null,
            "description_width": ""
          }
        },
        "75734eeeee7446639f136c6dd785a9f6": {
          "model_module": "@jupyter-widgets/base",
          "model_name": "LayoutModel",
          "model_module_version": "1.2.0",
          "state": {
            "_model_module": "@jupyter-widgets/base",
            "_model_module_version": "1.2.0",
            "_model_name": "LayoutModel",
            "_view_count": null,
            "_view_module": "@jupyter-widgets/base",
            "_view_module_version": "1.2.0",
            "_view_name": "LayoutView",
            "align_content": null,
            "align_items": null,
            "align_self": null,
            "border": null,
            "bottom": null,
            "display": null,
            "flex": null,
            "flex_flow": null,
            "grid_area": null,
            "grid_auto_columns": null,
            "grid_auto_flow": null,
            "grid_auto_rows": null,
            "grid_column": null,
            "grid_gap": null,
            "grid_row": null,
            "grid_template_areas": null,
            "grid_template_columns": null,
            "grid_template_rows": null,
            "height": null,
            "justify_content": null,
            "justify_items": null,
            "left": null,
            "margin": null,
            "max_height": null,
            "max_width": null,
            "min_height": null,
            "min_width": null,
            "object_fit": null,
            "object_position": null,
            "order": null,
            "overflow": null,
            "overflow_x": null,
            "overflow_y": null,
            "padding": null,
            "right": null,
            "top": null,
            "visibility": null,
            "width": null
          }
        },
        "3cc60f6607e444fbb6edac94f809ffbf": {
          "model_module": "@jupyter-widgets/controls",
          "model_name": "DescriptionStyleModel",
          "model_module_version": "1.5.0",
          "state": {
            "_model_module": "@jupyter-widgets/controls",
            "_model_module_version": "1.5.0",
            "_model_name": "DescriptionStyleModel",
            "_view_count": null,
            "_view_module": "@jupyter-widgets/base",
            "_view_module_version": "1.2.0",
            "_view_name": "StyleView",
            "description_width": ""
          }
        },
        "cb9d52e261a742bfb636e0f0f93828d9": {
          "model_module": "@jupyter-widgets/controls",
          "model_name": "HBoxModel",
          "model_module_version": "1.5.0",
          "state": {
            "_dom_classes": [],
            "_model_module": "@jupyter-widgets/controls",
            "_model_module_version": "1.5.0",
            "_model_name": "HBoxModel",
            "_view_count": null,
            "_view_module": "@jupyter-widgets/controls",
            "_view_module_version": "1.5.0",
            "_view_name": "HBoxView",
            "box_style": "",
            "children": [
              "IPY_MODEL_94d42c68c25a4c7fafb09f718b2dce57",
              "IPY_MODEL_e45934cd0729434a9d5fb2b319eb3e02",
              "IPY_MODEL_1ba852dfa20247368d36a6652bd9955f"
            ],
            "layout": "IPY_MODEL_d35c9fd6a01f4402a19670ea89f4ab6e"
          }
        },
        "94d42c68c25a4c7fafb09f718b2dce57": {
          "model_module": "@jupyter-widgets/controls",
          "model_name": "HTMLModel",
          "model_module_version": "1.5.0",
          "state": {
            "_dom_classes": [],
            "_model_module": "@jupyter-widgets/controls",
            "_model_module_version": "1.5.0",
            "_model_name": "HTMLModel",
            "_view_count": null,
            "_view_module": "@jupyter-widgets/controls",
            "_view_module_version": "1.5.0",
            "_view_name": "HTMLView",
            "description": "",
            "description_tooltip": null,
            "layout": "IPY_MODEL_fdb10e97387d4b8097e6f4cdb0c4337c",
            "placeholder": "​",
            "style": "IPY_MODEL_b55d382a67584cf0aad40fdb71b5a111",
            "value": "vocab.txt: 100%"
          }
        },
        "e45934cd0729434a9d5fb2b319eb3e02": {
          "model_module": "@jupyter-widgets/controls",
          "model_name": "FloatProgressModel",
          "model_module_version": "1.5.0",
          "state": {
            "_dom_classes": [],
            "_model_module": "@jupyter-widgets/controls",
            "_model_module_version": "1.5.0",
            "_model_name": "FloatProgressModel",
            "_view_count": null,
            "_view_module": "@jupyter-widgets/controls",
            "_view_module_version": "1.5.0",
            "_view_name": "ProgressView",
            "bar_style": "success",
            "description": "",
            "description_tooltip": null,
            "layout": "IPY_MODEL_4276ae2b0b0b4212b8d4b0c4dcbfda09",
            "max": 213450,
            "min": 0,
            "orientation": "horizontal",
            "style": "IPY_MODEL_87a8a450134a4aa49dd80ccce9be7ef7",
            "value": 213450
          }
        },
        "1ba852dfa20247368d36a6652bd9955f": {
          "model_module": "@jupyter-widgets/controls",
          "model_name": "HTMLModel",
          "model_module_version": "1.5.0",
          "state": {
            "_dom_classes": [],
            "_model_module": "@jupyter-widgets/controls",
            "_model_module_version": "1.5.0",
            "_model_name": "HTMLModel",
            "_view_count": null,
            "_view_module": "@jupyter-widgets/controls",
            "_view_module_version": "1.5.0",
            "_view_name": "HTMLView",
            "description": "",
            "description_tooltip": null,
            "layout": "IPY_MODEL_045a3443052f4f5585ce5117bc5d7ed2",
            "placeholder": "​",
            "style": "IPY_MODEL_97914cdce3c241509e6422c489593d79",
            "value": " 213k/213k [00:00&lt;00:00, 11.7MB/s]"
          }
        },
        "d35c9fd6a01f4402a19670ea89f4ab6e": {
          "model_module": "@jupyter-widgets/base",
          "model_name": "LayoutModel",
          "model_module_version": "1.2.0",
          "state": {
            "_model_module": "@jupyter-widgets/base",
            "_model_module_version": "1.2.0",
            "_model_name": "LayoutModel",
            "_view_count": null,
            "_view_module": "@jupyter-widgets/base",
            "_view_module_version": "1.2.0",
            "_view_name": "LayoutView",
            "align_content": null,
            "align_items": null,
            "align_self": null,
            "border": null,
            "bottom": null,
            "display": null,
            "flex": null,
            "flex_flow": null,
            "grid_area": null,
            "grid_auto_columns": null,
            "grid_auto_flow": null,
            "grid_auto_rows": null,
            "grid_column": null,
            "grid_gap": null,
            "grid_row": null,
            "grid_template_areas": null,
            "grid_template_columns": null,
            "grid_template_rows": null,
            "height": null,
            "justify_content": null,
            "justify_items": null,
            "left": null,
            "margin": null,
            "max_height": null,
            "max_width": null,
            "min_height": null,
            "min_width": null,
            "object_fit": null,
            "object_position": null,
            "order": null,
            "overflow": null,
            "overflow_x": null,
            "overflow_y": null,
            "padding": null,
            "right": null,
            "top": null,
            "visibility": null,
            "width": null
          }
        },
        "fdb10e97387d4b8097e6f4cdb0c4337c": {
          "model_module": "@jupyter-widgets/base",
          "model_name": "LayoutModel",
          "model_module_version": "1.2.0",
          "state": {
            "_model_module": "@jupyter-widgets/base",
            "_model_module_version": "1.2.0",
            "_model_name": "LayoutModel",
            "_view_count": null,
            "_view_module": "@jupyter-widgets/base",
            "_view_module_version": "1.2.0",
            "_view_name": "LayoutView",
            "align_content": null,
            "align_items": null,
            "align_self": null,
            "border": null,
            "bottom": null,
            "display": null,
            "flex": null,
            "flex_flow": null,
            "grid_area": null,
            "grid_auto_columns": null,
            "grid_auto_flow": null,
            "grid_auto_rows": null,
            "grid_column": null,
            "grid_gap": null,
            "grid_row": null,
            "grid_template_areas": null,
            "grid_template_columns": null,
            "grid_template_rows": null,
            "height": null,
            "justify_content": null,
            "justify_items": null,
            "left": null,
            "margin": null,
            "max_height": null,
            "max_width": null,
            "min_height": null,
            "min_width": null,
            "object_fit": null,
            "object_position": null,
            "order": null,
            "overflow": null,
            "overflow_x": null,
            "overflow_y": null,
            "padding": null,
            "right": null,
            "top": null,
            "visibility": null,
            "width": null
          }
        },
        "b55d382a67584cf0aad40fdb71b5a111": {
          "model_module": "@jupyter-widgets/controls",
          "model_name": "DescriptionStyleModel",
          "model_module_version": "1.5.0",
          "state": {
            "_model_module": "@jupyter-widgets/controls",
            "_model_module_version": "1.5.0",
            "_model_name": "DescriptionStyleModel",
            "_view_count": null,
            "_view_module": "@jupyter-widgets/base",
            "_view_module_version": "1.2.0",
            "_view_name": "StyleView",
            "description_width": ""
          }
        },
        "4276ae2b0b0b4212b8d4b0c4dcbfda09": {
          "model_module": "@jupyter-widgets/base",
          "model_name": "LayoutModel",
          "model_module_version": "1.2.0",
          "state": {
            "_model_module": "@jupyter-widgets/base",
            "_model_module_version": "1.2.0",
            "_model_name": "LayoutModel",
            "_view_count": null,
            "_view_module": "@jupyter-widgets/base",
            "_view_module_version": "1.2.0",
            "_view_name": "LayoutView",
            "align_content": null,
            "align_items": null,
            "align_self": null,
            "border": null,
            "bottom": null,
            "display": null,
            "flex": null,
            "flex_flow": null,
            "grid_area": null,
            "grid_auto_columns": null,
            "grid_auto_flow": null,
            "grid_auto_rows": null,
            "grid_column": null,
            "grid_gap": null,
            "grid_row": null,
            "grid_template_areas": null,
            "grid_template_columns": null,
            "grid_template_rows": null,
            "height": null,
            "justify_content": null,
            "justify_items": null,
            "left": null,
            "margin": null,
            "max_height": null,
            "max_width": null,
            "min_height": null,
            "min_width": null,
            "object_fit": null,
            "object_position": null,
            "order": null,
            "overflow": null,
            "overflow_x": null,
            "overflow_y": null,
            "padding": null,
            "right": null,
            "top": null,
            "visibility": null,
            "width": null
          }
        },
        "87a8a450134a4aa49dd80ccce9be7ef7": {
          "model_module": "@jupyter-widgets/controls",
          "model_name": "ProgressStyleModel",
          "model_module_version": "1.5.0",
          "state": {
            "_model_module": "@jupyter-widgets/controls",
            "_model_module_version": "1.5.0",
            "_model_name": "ProgressStyleModel",
            "_view_count": null,
            "_view_module": "@jupyter-widgets/base",
            "_view_module_version": "1.2.0",
            "_view_name": "StyleView",
            "bar_color": null,
            "description_width": ""
          }
        },
        "045a3443052f4f5585ce5117bc5d7ed2": {
          "model_module": "@jupyter-widgets/base",
          "model_name": "LayoutModel",
          "model_module_version": "1.2.0",
          "state": {
            "_model_module": "@jupyter-widgets/base",
            "_model_module_version": "1.2.0",
            "_model_name": "LayoutModel",
            "_view_count": null,
            "_view_module": "@jupyter-widgets/base",
            "_view_module_version": "1.2.0",
            "_view_name": "LayoutView",
            "align_content": null,
            "align_items": null,
            "align_self": null,
            "border": null,
            "bottom": null,
            "display": null,
            "flex": null,
            "flex_flow": null,
            "grid_area": null,
            "grid_auto_columns": null,
            "grid_auto_flow": null,
            "grid_auto_rows": null,
            "grid_column": null,
            "grid_gap": null,
            "grid_row": null,
            "grid_template_areas": null,
            "grid_template_columns": null,
            "grid_template_rows": null,
            "height": null,
            "justify_content": null,
            "justify_items": null,
            "left": null,
            "margin": null,
            "max_height": null,
            "max_width": null,
            "min_height": null,
            "min_width": null,
            "object_fit": null,
            "object_position": null,
            "order": null,
            "overflow": null,
            "overflow_x": null,
            "overflow_y": null,
            "padding": null,
            "right": null,
            "top": null,
            "visibility": null,
            "width": null
          }
        },
        "97914cdce3c241509e6422c489593d79": {
          "model_module": "@jupyter-widgets/controls",
          "model_name": "DescriptionStyleModel",
          "model_module_version": "1.5.0",
          "state": {
            "_model_module": "@jupyter-widgets/controls",
            "_model_module_version": "1.5.0",
            "_model_name": "DescriptionStyleModel",
            "_view_count": null,
            "_view_module": "@jupyter-widgets/base",
            "_view_module_version": "1.2.0",
            "_view_name": "StyleView",
            "description_width": ""
          }
        },
        "82939930f5a74a69b2ff93b2a9e4c611": {
          "model_module": "@jupyter-widgets/controls",
          "model_name": "HBoxModel",
          "model_module_version": "1.5.0",
          "state": {
            "_dom_classes": [],
            "_model_module": "@jupyter-widgets/controls",
            "_model_module_version": "1.5.0",
            "_model_name": "HBoxModel",
            "_view_count": null,
            "_view_module": "@jupyter-widgets/controls",
            "_view_module_version": "1.5.0",
            "_view_name": "HBoxView",
            "box_style": "",
            "children": [
              "IPY_MODEL_957a3467a4dc49f18f9c8bd45fe8dfd0",
              "IPY_MODEL_4dffd6adf0fb41a2838b1622eea1e059",
              "IPY_MODEL_acecfde4ffa14ff2ab398ca8f63b1851"
            ],
            "layout": "IPY_MODEL_b9ff959839d94c4d9df8d9e4d804df40"
          }
        },
        "957a3467a4dc49f18f9c8bd45fe8dfd0": {
          "model_module": "@jupyter-widgets/controls",
          "model_name": "HTMLModel",
          "model_module_version": "1.5.0",
          "state": {
            "_dom_classes": [],
            "_model_module": "@jupyter-widgets/controls",
            "_model_module_version": "1.5.0",
            "_model_name": "HTMLModel",
            "_view_count": null,
            "_view_module": "@jupyter-widgets/controls",
            "_view_module_version": "1.5.0",
            "_view_name": "HTMLView",
            "description": "",
            "description_tooltip": null,
            "layout": "IPY_MODEL_212624df10d1429792b8132cfbed7e67",
            "placeholder": "​",
            "style": "IPY_MODEL_bf39e8b90d014571b1c2cac7438c3502",
            "value": "pytorch_model.bin: 100%"
          }
        },
        "4dffd6adf0fb41a2838b1622eea1e059": {
          "model_module": "@jupyter-widgets/controls",
          "model_name": "FloatProgressModel",
          "model_module_version": "1.5.0",
          "state": {
            "_dom_classes": [],
            "_model_module": "@jupyter-widgets/controls",
            "_model_module_version": "1.5.0",
            "_model_name": "FloatProgressModel",
            "_view_count": null,
            "_view_module": "@jupyter-widgets/controls",
            "_view_module_version": "1.5.0",
            "_view_name": "ProgressView",
            "bar_style": "success",
            "description": "",
            "description_tooltip": null,
            "layout": "IPY_MODEL_9243a576d3354835aa76ee106dfdc5dd",
            "max": 435783451,
            "min": 0,
            "orientation": "horizontal",
            "style": "IPY_MODEL_4cb6c23ed0ff4534825e252d2cd705bb",
            "value": 435783451
          }
        },
        "acecfde4ffa14ff2ab398ca8f63b1851": {
          "model_module": "@jupyter-widgets/controls",
          "model_name": "HTMLModel",
          "model_module_version": "1.5.0",
          "state": {
            "_dom_classes": [],
            "_model_module": "@jupyter-widgets/controls",
            "_model_module_version": "1.5.0",
            "_model_name": "HTMLModel",
            "_view_count": null,
            "_view_module": "@jupyter-widgets/controls",
            "_view_module_version": "1.5.0",
            "_view_name": "HTMLView",
            "description": "",
            "description_tooltip": null,
            "layout": "IPY_MODEL_9fa4fc242bd34e76b50d2b062bef801b",
            "placeholder": "​",
            "style": "IPY_MODEL_231f308ce17d449dbffc8e44e17400d7",
            "value": " 436M/436M [00:01&lt;00:00, 436MB/s]"
          }
        },
        "b9ff959839d94c4d9df8d9e4d804df40": {
          "model_module": "@jupyter-widgets/base",
          "model_name": "LayoutModel",
          "model_module_version": "1.2.0",
          "state": {
            "_model_module": "@jupyter-widgets/base",
            "_model_module_version": "1.2.0",
            "_model_name": "LayoutModel",
            "_view_count": null,
            "_view_module": "@jupyter-widgets/base",
            "_view_module_version": "1.2.0",
            "_view_name": "LayoutView",
            "align_content": null,
            "align_items": null,
            "align_self": null,
            "border": null,
            "bottom": null,
            "display": null,
            "flex": null,
            "flex_flow": null,
            "grid_area": null,
            "grid_auto_columns": null,
            "grid_auto_flow": null,
            "grid_auto_rows": null,
            "grid_column": null,
            "grid_gap": null,
            "grid_row": null,
            "grid_template_areas": null,
            "grid_template_columns": null,
            "grid_template_rows": null,
            "height": null,
            "justify_content": null,
            "justify_items": null,
            "left": null,
            "margin": null,
            "max_height": null,
            "max_width": null,
            "min_height": null,
            "min_width": null,
            "object_fit": null,
            "object_position": null,
            "order": null,
            "overflow": null,
            "overflow_x": null,
            "overflow_y": null,
            "padding": null,
            "right": null,
            "top": null,
            "visibility": null,
            "width": null
          }
        },
        "212624df10d1429792b8132cfbed7e67": {
          "model_module": "@jupyter-widgets/base",
          "model_name": "LayoutModel",
          "model_module_version": "1.2.0",
          "state": {
            "_model_module": "@jupyter-widgets/base",
            "_model_module_version": "1.2.0",
            "_model_name": "LayoutModel",
            "_view_count": null,
            "_view_module": "@jupyter-widgets/base",
            "_view_module_version": "1.2.0",
            "_view_name": "LayoutView",
            "align_content": null,
            "align_items": null,
            "align_self": null,
            "border": null,
            "bottom": null,
            "display": null,
            "flex": null,
            "flex_flow": null,
            "grid_area": null,
            "grid_auto_columns": null,
            "grid_auto_flow": null,
            "grid_auto_rows": null,
            "grid_column": null,
            "grid_gap": null,
            "grid_row": null,
            "grid_template_areas": null,
            "grid_template_columns": null,
            "grid_template_rows": null,
            "height": null,
            "justify_content": null,
            "justify_items": null,
            "left": null,
            "margin": null,
            "max_height": null,
            "max_width": null,
            "min_height": null,
            "min_width": null,
            "object_fit": null,
            "object_position": null,
            "order": null,
            "overflow": null,
            "overflow_x": null,
            "overflow_y": null,
            "padding": null,
            "right": null,
            "top": null,
            "visibility": null,
            "width": null
          }
        },
        "bf39e8b90d014571b1c2cac7438c3502": {
          "model_module": "@jupyter-widgets/controls",
          "model_name": "DescriptionStyleModel",
          "model_module_version": "1.5.0",
          "state": {
            "_model_module": "@jupyter-widgets/controls",
            "_model_module_version": "1.5.0",
            "_model_name": "DescriptionStyleModel",
            "_view_count": null,
            "_view_module": "@jupyter-widgets/base",
            "_view_module_version": "1.2.0",
            "_view_name": "StyleView",
            "description_width": ""
          }
        },
        "9243a576d3354835aa76ee106dfdc5dd": {
          "model_module": "@jupyter-widgets/base",
          "model_name": "LayoutModel",
          "model_module_version": "1.2.0",
          "state": {
            "_model_module": "@jupyter-widgets/base",
            "_model_module_version": "1.2.0",
            "_model_name": "LayoutModel",
            "_view_count": null,
            "_view_module": "@jupyter-widgets/base",
            "_view_module_version": "1.2.0",
            "_view_name": "LayoutView",
            "align_content": null,
            "align_items": null,
            "align_self": null,
            "border": null,
            "bottom": null,
            "display": null,
            "flex": null,
            "flex_flow": null,
            "grid_area": null,
            "grid_auto_columns": null,
            "grid_auto_flow": null,
            "grid_auto_rows": null,
            "grid_column": null,
            "grid_gap": null,
            "grid_row": null,
            "grid_template_areas": null,
            "grid_template_columns": null,
            "grid_template_rows": null,
            "height": null,
            "justify_content": null,
            "justify_items": null,
            "left": null,
            "margin": null,
            "max_height": null,
            "max_width": null,
            "min_height": null,
            "min_width": null,
            "object_fit": null,
            "object_position": null,
            "order": null,
            "overflow": null,
            "overflow_x": null,
            "overflow_y": null,
            "padding": null,
            "right": null,
            "top": null,
            "visibility": null,
            "width": null
          }
        },
        "4cb6c23ed0ff4534825e252d2cd705bb": {
          "model_module": "@jupyter-widgets/controls",
          "model_name": "ProgressStyleModel",
          "model_module_version": "1.5.0",
          "state": {
            "_model_module": "@jupyter-widgets/controls",
            "_model_module_version": "1.5.0",
            "_model_name": "ProgressStyleModel",
            "_view_count": null,
            "_view_module": "@jupyter-widgets/base",
            "_view_module_version": "1.2.0",
            "_view_name": "StyleView",
            "bar_color": null,
            "description_width": ""
          }
        },
        "9fa4fc242bd34e76b50d2b062bef801b": {
          "model_module": "@jupyter-widgets/base",
          "model_name": "LayoutModel",
          "model_module_version": "1.2.0",
          "state": {
            "_model_module": "@jupyter-widgets/base",
            "_model_module_version": "1.2.0",
            "_model_name": "LayoutModel",
            "_view_count": null,
            "_view_module": "@jupyter-widgets/base",
            "_view_module_version": "1.2.0",
            "_view_name": "LayoutView",
            "align_content": null,
            "align_items": null,
            "align_self": null,
            "border": null,
            "bottom": null,
            "display": null,
            "flex": null,
            "flex_flow": null,
            "grid_area": null,
            "grid_auto_columns": null,
            "grid_auto_flow": null,
            "grid_auto_rows": null,
            "grid_column": null,
            "grid_gap": null,
            "grid_row": null,
            "grid_template_areas": null,
            "grid_template_columns": null,
            "grid_template_rows": null,
            "height": null,
            "justify_content": null,
            "justify_items": null,
            "left": null,
            "margin": null,
            "max_height": null,
            "max_width": null,
            "min_height": null,
            "min_width": null,
            "object_fit": null,
            "object_position": null,
            "order": null,
            "overflow": null,
            "overflow_x": null,
            "overflow_y": null,
            "padding": null,
            "right": null,
            "top": null,
            "visibility": null,
            "width": null
          }
        },
        "231f308ce17d449dbffc8e44e17400d7": {
          "model_module": "@jupyter-widgets/controls",
          "model_name": "DescriptionStyleModel",
          "model_module_version": "1.5.0",
          "state": {
            "_model_module": "@jupyter-widgets/controls",
            "_model_module_version": "1.5.0",
            "_model_name": "DescriptionStyleModel",
            "_view_count": null,
            "_view_module": "@jupyter-widgets/base",
            "_view_module_version": "1.2.0",
            "_view_name": "StyleView",
            "description_width": ""
          }
        }
      }
    }
  },
  "nbformat": 4,
  "nbformat_minor": 0
}