{
  "cells": [
    {
      "cell_type": "code",
      "execution_count": 1,
      "metadata": {
        "colab": {
          "base_uri": "https://localhost:8080/"
        },
        "id": "iRuetRKhDN59",
        "outputId": "5cf189a0-db3b-42e6-a924-995ce70d1de4"
      },
      "outputs": [
        {
          "output_type": "stream",
          "name": "stdout",
          "text": [
            "Wed Jul 31 07:45:27 2024       \n",
            "+---------------------------------------------------------------------------------------+\n",
            "| NVIDIA-SMI 535.104.05             Driver Version: 535.104.05   CUDA Version: 12.2     |\n",
            "|-----------------------------------------+----------------------+----------------------+\n",
            "| GPU  Name                 Persistence-M | Bus-Id        Disp.A | Volatile Uncorr. ECC |\n",
            "| Fan  Temp   Perf          Pwr:Usage/Cap |         Memory-Usage | GPU-Util  Compute M. |\n",
            "|                                         |                      |               MIG M. |\n",
            "|=========================================+======================+======================|\n",
            "|   0  Tesla T4                       Off | 00000000:00:04.0 Off |                    0 |\n",
            "| N/A   44C    P8               9W /  70W |      0MiB / 15360MiB |      0%      Default |\n",
            "|                                         |                      |                  N/A |\n",
            "+-----------------------------------------+----------------------+----------------------+\n",
            "                                                                                         \n",
            "+---------------------------------------------------------------------------------------+\n",
            "| Processes:                                                                            |\n",
            "|  GPU   GI   CI        PID   Type   Process name                            GPU Memory |\n",
            "|        ID   ID                                                             Usage      |\n",
            "|=======================================================================================|\n",
            "|  No running processes found                                                           |\n",
            "+---------------------------------------------------------------------------------------+\n"
          ]
        }
      ],
      "source": [
        "gpu_info = !nvidia-smi\n",
        "gpu_info = '\\n'.join(gpu_info)\n",
        "if gpu_info.find('failed') >= 0:\n",
        "  print('Not connected to a GPU')\n",
        "else:\n",
        "  print(gpu_info)"
      ]
    },
    {
      "cell_type": "code",
      "execution_count": 2,
      "metadata": {
        "colab": {
          "base_uri": "https://localhost:8080/"
        },
        "id": "7BMB0YxADN5-",
        "outputId": "c83ffe5e-b6a3-4cc1-d32d-27a7e607c0c2"
      },
      "outputs": [
        {
          "output_type": "stream",
          "name": "stdout",
          "text": [
            "Your runtime has 54.8 gigabytes of available RAM\n",
            "\n",
            "You are using a high-RAM runtime!\n"
          ]
        }
      ],
      "source": [
        "from psutil import virtual_memory\n",
        "ram_gb = virtual_memory().total / 1e9\n",
        "print('Your runtime has {:.1f} gigabytes of available RAM\\n'.format(ram_gb))\n",
        "\n",
        "if ram_gb < 20:\n",
        "  print('Not using a high-RAM runtime')\n",
        "else:\n",
        "  print('You are using a high-RAM runtime!')"
      ]
    },
    {
      "cell_type": "code",
      "execution_count": 3,
      "metadata": {
        "colab": {
          "base_uri": "https://localhost:8080/"
        },
        "id": "e2qEb3ivDN5-",
        "outputId": "528a1ae6-8cf1-4be3-d6e5-88b0c4f5b47a"
      },
      "outputs": [
        {
          "output_type": "stream",
          "name": "stdout",
          "text": [
            "Mounted at /content/drive\n"
          ]
        }
      ],
      "source": [
        "from google.colab import drive\n",
        "drive.mount('/content/drive')"
      ]
    },
    {
      "cell_type": "code",
      "execution_count": 4,
      "metadata": {
        "colab": {
          "base_uri": "https://localhost:8080/"
        },
        "id": "ZRaneJBnDN5_",
        "outputId": "04f04491-3e4f-4784-f1d7-551b1c56e67b"
      },
      "outputs": [
        {
          "output_type": "stream",
          "name": "stdout",
          "text": [
            "Requirement already satisfied: transformers in /usr/local/lib/python3.10/dist-packages (4.42.4)\n",
            "Requirement already satisfied: filelock in /usr/local/lib/python3.10/dist-packages (from transformers) (3.15.4)\n",
            "Requirement already satisfied: huggingface-hub<1.0,>=0.23.2 in /usr/local/lib/python3.10/dist-packages (from transformers) (0.23.5)\n",
            "Requirement already satisfied: numpy<2.0,>=1.17 in /usr/local/lib/python3.10/dist-packages (from transformers) (1.26.4)\n",
            "Requirement already satisfied: packaging>=20.0 in /usr/local/lib/python3.10/dist-packages (from transformers) (24.1)\n",
            "Requirement already satisfied: pyyaml>=5.1 in /usr/local/lib/python3.10/dist-packages (from transformers) (6.0.1)\n",
            "Requirement already satisfied: regex!=2019.12.17 in /usr/local/lib/python3.10/dist-packages (from transformers) (2024.5.15)\n",
            "Requirement already satisfied: requests in /usr/local/lib/python3.10/dist-packages (from transformers) (2.31.0)\n",
            "Requirement already satisfied: safetensors>=0.4.1 in /usr/local/lib/python3.10/dist-packages (from transformers) (0.4.3)\n",
            "Requirement already satisfied: tokenizers<0.20,>=0.19 in /usr/local/lib/python3.10/dist-packages (from transformers) (0.19.1)\n",
            "Requirement already satisfied: tqdm>=4.27 in /usr/local/lib/python3.10/dist-packages (from transformers) (4.66.4)\n",
            "Requirement already satisfied: fsspec>=2023.5.0 in /usr/local/lib/python3.10/dist-packages (from huggingface-hub<1.0,>=0.23.2->transformers) (2024.6.1)\n",
            "Requirement already satisfied: typing-extensions>=3.7.4.3 in /usr/local/lib/python3.10/dist-packages (from huggingface-hub<1.0,>=0.23.2->transformers) (4.12.2)\n",
            "Requirement already satisfied: charset-normalizer<4,>=2 in /usr/local/lib/python3.10/dist-packages (from requests->transformers) (3.3.2)\n",
            "Requirement already satisfied: idna<4,>=2.5 in /usr/local/lib/python3.10/dist-packages (from requests->transformers) (3.7)\n",
            "Requirement already satisfied: urllib3<3,>=1.21.1 in /usr/local/lib/python3.10/dist-packages (from requests->transformers) (2.0.7)\n",
            "Requirement already satisfied: certifi>=2017.4.17 in /usr/local/lib/python3.10/dist-packages (from requests->transformers) (2024.7.4)\n"
          ]
        }
      ],
      "source": [
        "!pip install transformers"
      ]
    },
    {
      "cell_type": "code",
      "execution_count": 5,
      "metadata": {
        "id": "jEVF9FbODN5_"
      },
      "outputs": [],
      "source": [
        "import os\n",
        "import numpy as np\n",
        "import pandas as pd\n",
        "from sklearn.model_selection import train_test_split\n",
        "from sklearn.metrics import confusion_matrix, classification_report, f1_score, precision_score, recall_score\n",
        "from transformers import AutoTokenizer, AutoModelForSequenceClassification, AdamW, get_linear_schedule_with_warmup\n",
        "import torch\n",
        "from torch.utils.data import DataLoader, TensorDataset, RandomSampler, SequentialSampler\n",
        "import torch.nn.functional as F\n",
        "from tqdm import trange, tqdm\n",
        "import matplotlib.pyplot as plt\n",
        "import sklearn.utils\n",
        "import time\n",
        "import re\n",
        "from google.colab import runtime"
      ]
    },
    {
      "cell_type": "code",
      "execution_count": 6,
      "metadata": {
        "colab": {
          "base_uri": "https://localhost:8080/"
        },
        "id": "d84lKOxcDN5_",
        "outputId": "df919717-0664-461d-aabd-4015d5194a1e"
      },
      "outputs": [
        {
          "output_type": "stream",
          "name": "stdout",
          "text": [
            "(46985, 4)\n"
          ]
        }
      ],
      "source": [
        "# Retrive the data from stored dataset\n",
        "dataDir = \"/content/drive/MyDrive/WoS/data/46985\"\n",
        "tsvData = os.path.join(dataDir,\"WoSDataset_46985.tsv\")\n",
        "\n",
        "tsvData = np.loadtxt(tsvData, dtype=str, delimiter=\"\\t\")\n",
        "print(np.shape(tsvData))"
      ]
    },
    {
      "cell_type": "code",
      "execution_count": 7,
      "metadata": {
        "colab": {
          "base_uri": "https://localhost:8080/"
        },
        "id": "FIYp3nhcDN5_",
        "outputId": "658a2b62-3389-40c1-dfb8-a595e0208d31"
      },
      "outputs": [
        {
          "output_type": "stream",
          "name": "stdout",
          "text": [
            "[['0' 'CS'\n",
            "  ' 21dimensional nonlinear optical waves erbiumdoped optical fibre symbolic computation soliton solution soliton interaction        '\n",
            "  '2  1dimensional nonlinear optical waves through the coherently excited resonant medium doped with the erbium atoms can be described by a 2  1dimensional nonlinear schrodinger equation coupled with the selfinduced transparency equations for such a system via the hirota method and symbolic computation linear forms one twoand nsoliton solutions are obtained asymptotic analysis is conducted and suggests that the interaction between the two solitons is elastic bright solitons are obtained for the fields e and p while the dark ones for the field n with e as the electric field p as the polarization in the resonant medium induced by the electric field and n as the population inversion profile of the dopant atoms headon interaction between the bidirectional two solitons and overtaking interaction between the unidirectional two solitons are seen influence of the averaged natural frequency on the solitons are studied 1 can affect the velocities of all the solitons 2 amplitudes of the solitons for the fields p and n increase with decreasing and decrease with increasing 3 with decreasing for the fields p and n onepeak one soliton turns into the twopeak one as well as interaction type changes from the interaction between two onepeak ones to that between a onepeak one and a twopeak one 4 for the field e influence of on the solitons cannot be found the results of this paper might be of potential applications in the design of optical communication systems which can produce the bright and dark solitons simultaneously']\n",
            " ['5' 'Medical'\n",
            "  ' aging tau amyloid pet alzheimers disease polypathology        '\n",
            "  'betaamyloid a beta and tau pathology become increasingly prevalent with age however the spatial relationship between the two pathologies remains unknown we examined local same region and nonlocal different region associations between these 2 aggregated proteins in 46 normal older adults using f18av1451 for tau and c11pib for a beta positron emission tomography pet and 15 t magnetic resonance imaging mri images while local voxelwise analyses showed associations between pib and av1451 tracer largely in the temporal lobes kmeans clustering revealed that some of these associations were driven by regions with low tracer retention we followed this up with a wholebrain regionbyregion local and nonlocal partial correlational analysis we calculated each participants mean av1451 and pib uptake values within 87 regions of interest roi pairwise roi analysis demonstrated many positive pib av1451 associations importantly strong positive partial correlations controlling for age sex and global gray matter fraction p 01 were identified between pib in multiple regions of association cortex and av1451 in temporal cortical rois there were also less frequent and weaker positive associations of regional pib with frontoparietal av1451 uptake particularly in temporal lobe rois av1451 uptake was strongly predicted by nb across multiple roi locations these data indicate that a beta and tau pathology show significant local and nonlocal regional associations among cognitively normal elderly with increased pib uptake throughout the cortex correlating with increased temporal lobe av1451 uptake the spatial relationship between a beta and tau accumulation does not appear to be specific to a beta location suggesting a regional vulnerability of temporal brain regions to tau accumulation regardless of where ap accumulates']\n",
            " ['4' 'Civil'\n",
            "  ' led lighting system pv system distributed lighting control energy efficiency green building daylight responsive dimming system        '\n",
            "  'decreasing of energy consumption and environmentally friendly energy resources are the issues in the foreground nowadays as the electric energy consumed for the illumination is high longlasting and lowconsumption led lightemitting diode technology gets prominent there have been made much reseacrh regarding the use of photovoltaic sytems in meeting the energy demand in housing and industry however there is need for more research with regards to photovoltaic sytems integration with energy efficiency sytems in this study for the environments which have different lighting levels due to daylight factor there has been proposed a lowcost pv photovoltaics based and distributed sensor smart led illuminating system and there has been acquired 72075 more energy saving in comparison with conventional led illuminating system c 2017 elsevier inc all rights reserved']\n",
            " ['1' 'ECE'\n",
            "  ' ndfeb magnets electric motor electric vehicle hybrid electric vehicle recycling rare earth elements        '\n",
            "  'hybrid electric vehicles are assumed to play a major role in future mobility concepts although sales numbers are increasing little emphasis has been laid on the recycling of some key components such as power electronics or electric motors permanent magnet synchronous motors contain considerable amounts of rare earth elements that cannot be recovered in conventional recycling routes although their recycling could have large economic environmental and strategic advantages no industrial recycling for permanent magnets is available in western countries at the moment regarding the essential steps dismantling of electric vehicles as well as the extraction of magnets from the rotors little has been published before this paper therefore presents and discusses different recycling approaches for the recycling of ndfeb magnets from hybrid electric vehicles many results stem from the german research project recycling of components and strategic metals of electric drive motors']\n",
            " ['5' 'Medical'\n",
            "  ' parkinsons disease dyskinesia adenosine a2a receptor striatum glutamic acid decarboxylase        '\n",
            "  'l34dihydroxyphenylalanine ldopa remains the primary pharmacological agent for the symptomatic treatment of parkinsons disease pd however the development of ldopainduced dyskinesia lid limits the longterm use of ldopa for pd patients some data have reported that adenosine a2a receptor a2ar antagonists prevented lid in animal model of pd however the mechanism in which adenosine a2ar blockade alleviates the symptoms of lid has not been fully clarified here we determined to knock out ko the gene of a2ar and explored the possible underlying mechanisms implicated in development of lid in a mouse model of pd a2ar gene ko mice were unilaterally injected into the striatum with 6hydroxydopamine 6ohda in order to damage dopamine neurons on one side of the brain 6ohdalesioned mice were then injected once daily for 21 days with ldopa abnormal involuntary movements aims were evaluated on days 3 8 13 and 18 after ldopa administration and realtime polymerase chain reaction and immunohistochemistry for glutamic acid decarboxylase gad 65 and gad67 were performed we found that a2ar gene ko was effective in reducing aim scores and accompanied with decrease of striatal gad67 rather than gad65 these results demonstrated that the possible mechanism involved in alleviation of aim symptoms by a2ar gene ko might be through reducing the expression of striatal gad67']\n",
            " ['0' 'CS'\n",
            "  ' tea category identification computer vision color histogram wavelet packet entropy winnertakesall radial basis function artificial neural network pattern recognition support vector machine        '\n",
            "  'objective in order to increase classification accuracy of teacategory identification tci system this paper proposed a novel approach method the proposed methods first extracted 64 color histogram to obtain color information and 16 wavelet packet entropy to obtain the texture information with the aim of reducing the 80 features principal component analysis was harnessed the reduced features were used as input to generalized eigenvalue proximal support vector machine gepsvm winnertakesall wta was used to handle the multiclass problem two kernels were tested linear kernel and radial basis function rbf kernel ten repetitions of 10fold stratified cross validation technique were used to estimate the outofsample errors we named our method as gepsvm  rbf  wta and gepsvm  wta result the results showed that pca reduced the 80 features to merely five with explaining 9990 of total variance the recall rate of gepsvm  rbf  wta achieved the highest overall recall rate of 979 conclusion this was higher than the result of gepsvm  wta and other five stateoftheart algorithms back propagation neural network rbf support vector machine genetic neuralnetwork linear discriminant analysis and fitnessscaling chaotic artificial bee colony artificial neural network']\n",
            " ['6' 'biochemistry'\n",
            "  ' brainmachine interfaces electrical stimulation of the brain transcranial magnetic stimulation trends psychiatry        '\n",
            "  'recent advances in deep brain stimulators and brain machine interfaces have greatly expanded the possibilities of neuroprosthetics and neuromodulation together with advances in neuroengineering nanotechnology molecular biology and material sciences it is now possible to address fundamental questions in neuroscience in new more powerful ways it is now possible to apply these new technologies in ways that range from augmenting and restoring function to neuromodulation modalities that treat neuropsychiatric disorders recent developments in neuromodulation methods offer significant advantages and potential clinical benefits for a variety of disorders here we describe the current state of the art in neuromodulation methods and some advances in brain machine interfaces describing the advantages and limitations of the clinical applications of each method the future applications of these new methods and how they will shape the future of psychiatry and medicine along with safety and ethical implications are also discussed c 2017 elsevier inc all rights reserved']\n",
            " ['1' 'ECE'\n",
            "  ' softwaredefined radio ais receiver vhf data exchange services satellite radio applications flexible rf front end        '\n",
            "  'this paper presents the concept of a softwaredefined radio with a flexible rf front end the design and architecture of this system as well as possible application examples will be explained one specific scenario is the operation in maritime frequency bands a wellknown service is the automatic identification system ais which has been captured by the dlr mission aisat and will be chosen as a maritime application example the results of an embedded solution for ais on the sdr platform are presented in this paper since there is an increasing request for more performance on maritime radio bands services like ais will be enhanced by the international association of marine aids to navigation and lighthouse authorities iala the new vhf data exchange service vdes shall implement a dedicated satellite link this paper describes that the sdr with a flexible rf front end can be used as a technology demonstration platform for this upcoming data exchange service']\n",
            " ['3' 'MAE'\n",
            "  ' plumesthermals turbulence modelling turbulence simulation        '\n",
            "  'we develop a generalised unsteady plume theory and compare it with a new direct numerical simulation dns dataset for an ensemble of statistically unsteady turbulent plumes the theoretical framework described in this paper generalises previous models and exposes several fundamental aspects of the physics of unsteady plumes the framework allows one to understand how the structure of the governing integral equations depends on the assumptions one makes about the radial dependence of the longitudinal velocity turbulence and pressure consequently the illposed models identified by scase  hewitt j fluid mech vol 697 2012 pp 455480 are shown to be the result of a nonphysical assumption regarding the velocity profile the framework reveals that these illposed unsteady plume models are degenerate cases amongst a comparatively large set of wellposed models that can be derived from the generalised unsteady plume equations that we obtain drawing on the results of dns of a plume subjected to an instantaneous step change in its source buoyancy flux we use the framework in a diagnostic capacity to investigate the properties of the resulting travelling wave in general the governing integral equations are hyperbolic becoming parabolic in the limiting case of a tophat model and the travelling wave can be classified as lazy pure or forced according to the particular assumptions that are invoked to close the integral equations guided by observations from the dns data we use the framework in a prognostic capacity to develop a relatively simple accurate and wellposed model of unsteady plumes that is based on the assumption of a gaussian velocity profile an analytical solution is presented for a pure straightsided plume that is consistent with the key features observed from the dns']\n",
            " ['2' 'Psychology'\n",
            "  ' stomach of human fetus development endocrine cells immunohistochemistry        '\n",
            "  ' while ghrelin cells were the most numerous during the se since reports on endocrine cells and their kinetics in the corpus of the human stomach are limited the aim of this study was to examine the appearance localization density and the relationship among the endocrine cell types in the corpus of the human stomach during prenatal and early postnatal development we examined chromogranin a somatostatin ghrelin glucagon and serotonin expression by immunohistochemistry in 2 embryos 38 fetuses and 3 infants in the corpus of human stomach chromogranin a secreting endocrine cells were identified in the corpus at week 10 of gestation somatostatin cells were present from the 10th week ghrelin and serotonin cells from the 11th week and glucagon cells from the 12th week of gestation endocrine cells were present individually or clustered within the glandular base and body during the first trimester and were present separately within the basal and central parts of glands during the second and third trimesters somatostatin cells were the most common type of cells similar to 46  during the first trimestercond trimester similar to 34  and in infants similar to 28  the percentage of glucagon cells was significant only during the first trimester of pregnancy 55  and the percentage of serotonin cells was only significant just before birth 48  these results show for the first time that the largest number of endocrine cells are present in the corpus during the first trimester of prenatal development also these results suggest that secretory products of endocrine cells play a role in the regulation of homeostasis growth and differentiation and in human stomach function']]\n"
          ]
        }
      ],
      "source": [
        "print(tsvData[0:10])"
      ]
    },
    {
      "cell_type": "code",
      "execution_count": 8,
      "metadata": {
        "id": "WUvZlOibDN5_"
      },
      "outputs": [],
      "source": [
        "allLabels = tsvData[:,0]\n",
        "domains = tsvData[:,1]\n",
        "keywords = tsvData[:,2]\n",
        "abstracts = tsvData[:,3]"
      ]
    },
    {
      "cell_type": "code",
      "execution_count": 9,
      "metadata": {
        "id": "SE5jkqySDN6A",
        "colab": {
          "base_uri": "https://localhost:8080/"
        },
        "outputId": "1127b162-1c3c-438b-d0a5-a916fb54d6d2"
      },
      "outputs": [
        {
          "output_type": "stream",
          "name": "stdout",
          "text": [
            "Labels  ['CS' 'Civil' 'ECE' 'MAE' 'Medical' 'Psychology' 'biochemistry']\n",
            "Label counts  [ 6514  4237  5483  3297 14625  7142  5687]\n"
          ]
        }
      ],
      "source": [
        "labels = np.unique(domains, return_counts=True)[0]\n",
        "labelCounts=  np.unique(domains, return_counts=True)[1]\n",
        "\n",
        "print(\"Labels \", labels)\n",
        "print(\"Label counts \", labelCounts)"
      ]
    },
    {
      "cell_type": "code",
      "execution_count": 10,
      "metadata": {
        "id": "4wUHmcLtDN6A",
        "colab": {
          "base_uri": "https://localhost:8080/",
          "height": 648
        },
        "outputId": "53454ce3-3813-4dfc-fb29-d14fc801452b"
      },
      "outputs": [
        {
          "output_type": "display_data",
          "data": {
            "text/plain": [
              "<Figure size 1000x600 with 1 Axes>"
            ],
            "image/png": "[encoded data removed]"
          },
          "metadata": {}
        },
        {
          "output_type": "stream",
          "name": "stdout",
          "text": [
            "The domain CS has 6514 records in the dataset.\n",
            "The domain Civil has 4237 records in the dataset.\n",
            "The domain ECE has 5483 records in the dataset.\n",
            "The domain MAE has 3297 records in the dataset.\n",
            "The domain Medical has 14625 records in the dataset.\n",
            "The domain Psychology has 7142 records in the dataset.\n",
            "The domain biochemistry has 5687 records in the dataset.\n"
          ]
        }
      ],
      "source": [
        "# Visualize domain counts in dataset\n",
        "plt.figure(figsize=(10, 6))\n",
        "plt.title(\"Domain Counts (Dataset)\")\n",
        "plt.pie(labelCounts, labels=labels, autopct='%1.1f%%', startangle=140, colors=plt.cm.Paired(range(len(labels))))\n",
        "plt.axis('equal')\n",
        "plt.show()\n",
        "\n",
        "for i, domain in enumerate(labels):\n",
        "    print(\"The domain\", domain, \"has\", labelCounts[i], \"records in the dataset.\")"
      ]
    },
    {
      "cell_type": "code",
      "execution_count": 11,
      "metadata": {
        "id": "iy4b69DrDN6A",
        "colab": {
          "base_uri": "https://localhost:8080/"
        },
        "outputId": "61cfa400-fa15-4eb5-b5d6-184e8b7c2be2"
      },
      "outputs": [
        {
          "output_type": "stream",
          "name": "stdout",
          "text": [
            "Number of abstracts:  46985\n",
            "Shape of abstracts:  (46985,)\n",
            "['bacterial colonization on skin or tonsil may influence the clinical response of patients with psoriasis to immunosuppressive drugs however few studies have investigated the effects of bacterial superantigens on therapy in these patients recently combination therapy with topical glucocorticoids gc and vitamin d3 vd3 appears to be more effective than gc or vd3 monotherapy for psoriasis we evaluated the suppressive effects of betamethasone butyrate propionate bbp three vd3 derivatives calcipotriol maxacalcitol and tacalcitol cyclosporin and bbp plus vd3 on concanavalin a cona or streptococcal pyrogenic enterotoxin a speastimulated proliferation of peripheral blood mononuclear cells pbmc obtained from 35 psoriasis patients drug concentrations effecting 50 inhibition concentration of cona or speastimulated pbmc proliferation were estimated cytokine levels of tumor necrosis factor interferon interleukin1b 2 4 5 6 8 10 and 12p70 in pbmc culture supernatants were measured with beadarray procedures suppression of pbmc proliferation by bbp was significantly lower when pbmc were stimulated by spea than when stimulated by cona in contrast the suppressive effects of calcipotriol and tacalcitol increased significantly when pbmc were stimulated by spea than when stimulated by cona the suppressive effect of bbp on speastimulated pbmc proliferation was improved significantly by adding 11000 ngml calcipotriol compared with bbp alone cytokine levels in pbmc culture supernatants were not significantly different between cona and speastimulated pbmc calcipotriol and bbp in combination markedly suppressed speastimulated pbmc proliferation spea produced by colonization of hemolytic streptococci may reduce the efficacy of bbp but not vd3 derivatives in the treatment of psoriasis'\n",
            " 'lately important advances take place in dermatological treatment phototherapy as one of the oldest treatment modalities in the history of dermatology does not fall behind these advances on the contrary it is still used widely in the treatment of many skin diseases with the advantages of being effective and safe this article aims to give practical and basic information about artificial ultraviolet sources dosimetry and calibration standards of these sources and ultraviolet treatment protocols starting with the history of current phototherapy modalities']\n",
            "Number of keywords:  46985\n",
            "Shape of keywords:  (46985,)\n",
            "['bacterial colonization on skin or tonsil may influence the clinical response of patients with psoriasis to immunosuppressive drugs however few studies have investigated the effects of bacterial superantigens on therapy in these patients recently combination therapy with topical glucocorticoids gc and vitamin d3 vd3 appears to be more effective than gc or vd3 monotherapy for psoriasis we evaluated the suppressive effects of betamethasone butyrate propionate bbp three vd3 derivatives calcipotriol maxacalcitol and tacalcitol cyclosporin and bbp plus vd3 on concanavalin a cona or streptococcal pyrogenic enterotoxin a speastimulated proliferation of peripheral blood mononuclear cells pbmc obtained from 35 psoriasis patients drug concentrations effecting 50 inhibition concentration of cona or speastimulated pbmc proliferation were estimated cytokine levels of tumor necrosis factor interferon interleukin1b 2 4 5 6 8 10 and 12p70 in pbmc culture supernatants were measured with beadarray procedures suppression of pbmc proliferation by bbp was significantly lower when pbmc were stimulated by spea than when stimulated by cona in contrast the suppressive effects of calcipotriol and tacalcitol increased significantly when pbmc were stimulated by spea than when stimulated by cona the suppressive effect of bbp on speastimulated pbmc proliferation was improved significantly by adding 11000 ngml calcipotriol compared with bbp alone cytokine levels in pbmc culture supernatants were not significantly different between cona and speastimulated pbmc calcipotriol and bbp in combination markedly suppressed speastimulated pbmc proliferation spea produced by colonization of hemolytic streptococci may reduce the efficacy of bbp but not vd3 derivatives in the treatment of psoriasis'\n",
            " 'lately important advances take place in dermatological treatment phototherapy as one of the oldest treatment modalities in the history of dermatology does not fall behind these advances on the contrary it is still used widely in the treatment of many skin diseases with the advantages of being effective and safe this article aims to give practical and basic information about artificial ultraviolet sources dosimetry and calibration standards of these sources and ultraviolet treatment protocols starting with the history of current phototherapy modalities']\n",
            "Number of domains:  46985\n",
            "Shape of domains:  (46985,)\n",
            "['Medical' 'Medical']\n",
            "Number of labels:  46985\n",
            "Shape of labels:  (46985,)\n",
            "['5' '5']\n",
            "['bacterial colonization on skin or tonsil may influence the clinical response of patients with psoriasis to immunosuppressive drugs however few studies have investigated the effects of bacterial superantigens on therapy in these patients recently combination therapy with topical glucocorticoids gc and vitamin d3 vd3 appears to be more effective than gc or vd3 monotherapy for psoriasis we evaluated the suppressive effects of betamethasone butyrate propionate bbp three vd3 derivatives calcipotriol maxacalcitol and tacalcitol cyclosporin and bbp plus vd3 on concanavalin a cona or streptococcal pyrogenic enterotoxin a speastimulated proliferation of peripheral blood mononuclear cells pbmc obtained from 35 psoriasis patients drug concentrations effecting 50 inhibition concentration of cona or speastimulated pbmc proliferation were estimated cytokine levels of tumor necrosis factor interferon interleukin1b 2 4 5 6 8 10 and 12p70 in pbmc culture supernatants were measured with beadarray procedures suppression of pbmc proliferation by bbp was significantly lower when pbmc were stimulated by spea than when stimulated by cona in contrast the suppressive effects of calcipotriol and tacalcitol increased significantly when pbmc were stimulated by spea than when stimulated by cona the suppressive effect of bbp on speastimulated pbmc proliferation was improved significantly by adding 11000 ngml calcipotriol compared with bbp alone cytokine levels in pbmc culture supernatants were not significantly different between cona and speastimulated pbmc calcipotriol and bbp in combination markedly suppressed speastimulated pbmc proliferation spea produced by colonization of hemolytic streptococci may reduce the efficacy of bbp but not vd3 derivatives in the treatment of psoriasis'\n",
            " 'lately important advances take place in dermatological treatment phototherapy as one of the oldest treatment modalities in the history of dermatology does not fall behind these advances on the contrary it is still used widely in the treatment of many skin diseases with the advantages of being effective and safe this article aims to give practical and basic information about artificial ultraviolet sources dosimetry and calibration standards of these sources and ultraviolet treatment protocols starting with the history of current phototherapy modalities'\n",
            " 'in this study we present a new theory of partitioning of disease prevalence and incidencebased mortality and demonstrate how this theory practically works for analyses of medicare data in the theory the prevalence of a disease and incidencebased mortality are modeled in terms of disease incidence and survival after diagnosis supplemented by information on disease prevalence at the initial age and year available in a dataset partitioning of the trends of prevalence and mortality is calculated with minimal assumptions the resulting expressions for the components of the trends are given by continuous functions of data the estimator is consistent and stable the developed methodology is applied for data on type 2 diabetes using individual records from a nationally representative 5 sample of medicare beneficiaries age 65 numerical estimates show excellent concordance between empirical estimates and theoretical predictions evaluated partitioning model showed that both prevalence and mortality increase with time the primary driving factors of the observed prevalence increase are improved survival and increased prevalence at age 65 the increase in diabetesrelated mortality is driven by increased prevalence and unobserved trends in timeperiods and agegroups outside of the range of the data used in the study finally the properties of the new estimator possible statistical and systematical uncertainties and future practical applications of this methodology in epidemiology demography public health and health forecasting are discussed c 2017 elsevier inc all rights reserved'\n",
            " 'hereditary angioedema hae is an autosomal dominant disease resulting from the deficiency of c1 inhibitor c1inh a glycosylated serine protease inhibitor that plays a regulatory role in the complement system cs the contact system and the intrinsic coagulation cascade hae disease severity is highly variable and may be influenced by genetic polymorphisms as well as by other factors such as gender hormonemediated effects in hae the potential inadequate clearance of immunecomplexes ic in the presence of reduced levels of cs components and in turn an excess of ic in the tissues results in inflammatory damage and release of autoantigens that may trigger an autoimmune response occasional reports link hae with autoimmune conditions and only few studies have been conducted on large patient populations with controversial results although several immunoregulatory disorders have been documented the prevalence of defined autoimmune diseases in patients with hae remains debated the occurrence of autoimmune conditions in hae patients may worsen the disease severity enhancing the complexity of the comprehensive care c 2015 elsevier bv all rights reserved'\n",
            " 'trifoliate orange poncirus trifoliata l raf is extremely cold hardy when fully acclimated but knowledge relevant to the molecular events underlying the acclimation is still limited so far in this study forward 4 degrees c over 25 degrees c and reverse 25 degrees c over 4 degrees c suppression subtractive hybridization ssh libraries were constructed in order to identify the genes involved in cold acclimation in trifoliate orange after reverse northern blotting analysis and sequencing a total of 105 and 117 nonredundant differentially expressed sequence tags ests were obtained from the forward and reverse libraries respectively blast2go analysis revealed that 91 ests 31 from the forward library and 60 from the reverse library displayed significant sequence homology to the genes with known or putative functions they were categorized into various functional groups including catalytic activity binding protein structural molecule enzyme regulator molecular transducer electron carrier and transport activitytranscription regulation expression analysis of the selected ests by reverse transcriptase polymerase chain reaction was consistent with the results of differential screening in addition timecourse expression patterns of the genes further confirmed that they were responsive to low temperature treatment among the genes of known functions many are related to maintenance of cell wall integrity adjustment of osmotic potential and maintenance of reactive oxygen species homeostasis implying that these physiological processes might be of paramount significance in rendering protective mechanisms against the low temperature stress the data presented here gain an insight into the molecular changes underlying the cold acclimation of trifoliate orange and the results can be of reference for unraveling candidate genes that hold great potential for genetic engineering in an effort to create novel germplasms with enhanced cold stress tolerance c 2011 elsevier bv all rights reserved'\n",
            " 'direct numerical simulations are used to study the interaction of a cavitybacked circular orifice with grazing laminar and turbulent boundary layers and incident sound waves the flow conditions and geometry are representative of single degreeoffreedom acoustic liners applied in the inlet and exhaust ducts of aircraft engines and are the same as those from experiments conducted at nasa langley the simulations identify the fluid mechanics of how the sound field and state of the grazing boundary layer impact the inorifice flow and suggest a simple flow analogy that enables scaling estimates from the scaling estimates the simulations are then used to develop reducedorder models for the inorifice flow and a timedomain impedance model is constructed the liner is found to increase drag at all conditions studied by an amount that increases with the incident sound pressure amplitude'\n",
            " 'men continue to bear disproportionate accounts of hiv diagnoses the patient protection and affordable care act aims to address health care disparities by recommending preventative services including hiv screening expanding community health centers and increasing the healthcare workforce this study examined the decision making of physician and primary care health providers to provide hiv screenings a quasiexperimental design was used to estimate the effects of the affordable care act on providerinitiated hiv screening the national ambulatory medical care survey was used to examine hiv screening characteristic from two time periods 2009 and 2012 logistic regression indicated that patient and provider characteristics were associated with likelihood of being prescribed hiv screening nonhispanic black men were more likely to be prescribed hiv screening compared to nonhispanic white men odds ratio or  1233 95 confidence interval ci 442 3446 men who see primary care providers were more likely to be prescribed hiv screening compared to men not seeing a primary care provider or  594 95 ci 215 1639 men between the ages of 19 and 22 were more likely to be prescribed hiv screening compared to men between the ages of 15 and 18 or  659 95 ci 216 2014 men between the ages of 23 and 25 were more likely to be prescribed hiv screening compared with men between the ages of 15 and 18 or  1013 95 ci 334 3069 health education programs identifying men at increased risk for contracting hiv may account for the increased screening rates in certain populations future research should examine age disparities surrounding adolescent and young men hiv screening'\n",
            " 'the introduction of the concept of child abuse has radically changed the mode of interaction between pediatricians and children but also the practice of sanitary personnel in primary care centers who are often the first to see victims of maltreatment this study aims at illustrating the results of a questionnaire sent to family doctors pediatricians and hospitals in milan and surrounding areas concerning child abuse among all the operators 273 returned the questionnaires the results show scarce knowledge on how to report to judicial authority in cases of child abuse 515 mainly because of lack of basilar information concerning the manner of reporting for what concerns specific training almost half the subjects recruited for the study admitted not to have attended any congress or meeting concerning child maltreatment in the last three years in the same time span more than one third has not read any scientific articles concerning child abuse in addition 756 admit to not ever having attended any professional training course concerning child maltreatment this study highlights the scarce knowledge on the behalf of pediatricians and general practitioners regarding how to deal with child abuse and the importance of proper training programs'\n",
            " 'the experimental advanced superconducting tokamak east device began operation in 2006 east visualization work has been paid more and more attention for simulating its running state and inner structure the veast system had been developed to display the 3d model of east facility and some diagnostic data based on java3d compared with the veast system a new system named autosterescopic scientific east aseast using cs clientserver structure in combination with the technology of opengl and an opensource software system for 3d computer graphics and visualization called vtk visualization toolkit and the qt5 libraries for the graphical user interface gui has been developed to improve the 3d effect of the virtual east and visualize the experimental data the aseast can be used to get access to the information of east and physical properties in addition as a general system aseast supports a wide variety of 3d formats the visualization result can be output in the corresponding format of the input in order to improve the rendering speed we used the classic qem algorithm to simplify the models in preprocess stage as for the 3d effect we made an investigation and the survey revealed that the system had good 3d effect c 2016 elsevier bv all rights reserved'\n",
            " 'chongmings current energy system is highly importdependent and the distributed energy system with high renewable energy penetration should be taken into consideration in this paper a simulation model based on energyplan software with 2014 as the reference year is developed to represent chongmings present energy structure four future scenarios which propose different further energy constructions have been observed results show that reductions in primary energy consumption electricity import annual operating costs as well as co2 emissions are realizable when switching to an energy system with a high share of renewable sources combining natural gas chp combined heating and power after preliminary discussions the feasibility of different renewable sources penetration are analyzed through calculating the excess electricity production ceep the estimated optimal combination is generated when the pv fraction is 20 while wind energy fraction is 80 moreover the analyses have taken into account that several flexible techniques are needed in order to balance supply and demand and to ensure the grid voltage and frequency stabilities as a result through the recommended three techniques the excess production can be avoided as far as a renewable energy input of up to nearly 60 c 2016 elsevier ltd all rights reserved']\n",
            "[' hemolytic streptococci peripheral blood mononuclear cells psoriasis superantigen vitamin d3 derivatives        '\n",
            " ' dosimetry calibration history psoralen ultraviolet a ultraviolet b phototherapy        '\n",
            " ' time trend partitioning incidence prevalence mortality diabetes        '\n",
            " ' autoimmunity c1 inhibitor complement system hereditary angioedema systemic lupus erythematosus        '\n",
            " ' differentially expressed genes low temperature stress molecular mechanism poncirus trifoliata suppression subtractive hybridization        '\n",
            " ' acoustics aeroacoustics        '\n",
            " ' epidemiology of mens health health screening health policy issues hivaids        '\n",
            " ' child abuse domestic violence professionalpatient relations pediatric nursing surveys and questionnaires general practitioners        '\n",
            " ' east virtual reality clientserver vtk qt5 autostereoscopic        '\n",
            " ' distributed energy system des renewable energy energyplan model scenarios analyses critical excess electricity production ceep        ']\n",
            "['Medical' 'Medical' 'Medical' 'Medical' 'biochemistry' 'MAE' 'Medical'\n",
            " 'Psychology' 'CS' 'ECE']\n",
            "['5' '5' '5' '5' '6' '3' '5' '2' '0' '1']\n",
            "[5 5 5 5 6 3 5 2 0 1]\n"
          ]
        }
      ],
      "source": [
        "# Shuffle data\n",
        "dataShuffled = sklearn.utils.shuffle(tsvData)\n",
        "\n",
        "abstractsShuffled = dataShuffled[:,3]\n",
        "keywordsShuffled = dataShuffled[:,2]\n",
        "domainsShuffled = dataShuffled[:,1]\n",
        "allLabelsShuffled = dataShuffled[:,0]\n",
        "\n",
        "print(\"Number of abstracts: \", len(abstractsShuffled))\n",
        "print(\"Shape of abstracts: \", np.shape(abstractsShuffled))\n",
        "print(abstractsShuffled[0:2])\n",
        "\n",
        "print(\"Number of keywords: \", len(keywordsShuffled))\n",
        "print(\"Shape of keywords: \", np.shape(keywordsShuffled))\n",
        "print(abstractsShuffled[0:2])\n",
        "\n",
        "print(\"Number of domains: \", len(domainsShuffled))\n",
        "print(\"Shape of domains: \", np.shape(domainsShuffled))\n",
        "print(domainsShuffled[0:2])\n",
        "\n",
        "print(\"Number of labels: \", len(allLabelsShuffled))\n",
        "print(\"Shape of labels: \", np.shape(allLabelsShuffled))\n",
        "print(allLabelsShuffled[0:2])\n",
        "\n",
        "\n",
        "# Convert labels to integer\n",
        "allLabelsDigitShuffled = allLabelsShuffled.astype(int)\n",
        "\n",
        "print(abstractsShuffled[0:10])\n",
        "print(keywordsShuffled[0:10])\n",
        "print(domainsShuffled[0:10])\n",
        "print(allLabelsShuffled[0:10])\n",
        "print(allLabelsDigitShuffled[0:10])"
      ]
    },
    {
      "cell_type": "code",
      "execution_count": 12,
      "metadata": {
        "id": "oE8v68D2DN6A",
        "colab": {
          "base_uri": "https://localhost:8080/",
          "height": 272,
          "referenced_widgets": [
            "c24c2359ffa3470d89e983d61bef1fe7",
            "90afdd5e62d4426887fb2ef28932b62e",
            "28fab65de0eb48b3adba55bd6af5d351",
            "85f7a38411ec4bb8afc44a3ddc3b07de",
            "f1ef1b24262c405994bef7bd5b667312",
            "ae6afc1f0890498ea064c857ffa44166",
            "f330ec558dd14e4e97336488104a8dab",
            "110855fb51064631b644124cc5ea9834",
            "7eefa79860144f85a311f9db7589347e",
            "d165e84b8a1e4d31bbe9da8dbd083d4c",
            "afef9466d6504c9e97eb94e9285ec295",
            "a4e6cdede6054ddd949080a8f4e4d754",
            "1f9fed7cf66340a3a81f490ecffc3db7",
            "7d3f962aedaf43a4bb1eb6d96699411a",
            "d7dc6e5a471d484b8a3960643f9550b6",
            "b7e1b145468e42de8c67e5756c6e61fa",
            "802291d54c1c41689f3f88e7fe634aaa",
            "52025824b9bf4709bf8e04d555a07e46",
            "decd47f6ec6741d4a802f6143aadb1cc",
            "c98d1423a4ce408093ea57c5aacdf07c",
            "c550d9dbb0a142e2a647a28ce1c00ad7",
            "2bc4aba89904412fb9a70d231e5f3943"
          ]
        },
        "outputId": "9f3a9525-f51a-4693-d8a3-95592b64591f"
      },
      "outputs": [
        {
          "output_type": "stream",
          "name": "stdout",
          "text": [
            "(37588, 4)\n",
            "(9397, 4)\n",
            "(37588, 4)\n",
            "(9397, 4)\n",
            "(1880, 4)\n"
          ]
        },
        {
          "output_type": "stream",
          "name": "stderr",
          "text": [
            "/usr/local/lib/python3.10/dist-packages/huggingface_hub/utils/_token.py:89: UserWarning: \n",
            "The secret `HF_TOKEN` does not exist in your Colab secrets.\n",
            "To authenticate with the Hugging Face Hub, create a token in your settings tab (https://huggingface.co/settings/tokens), set it as secret in your Google Colab and restart your session.\n",
            "You will be able to reuse this secret in all of your notebooks.\n",
            "Please note that authentication is recommended but still optional to access public models or datasets.\n",
            "  warnings.warn(\n"
          ]
        },
        {
          "output_type": "display_data",
          "data": {
            "text/plain": [
              "config.json:   0%|          | 0.00/1.11k [00:00<?, ?B/s]"
            ],
            "application/vnd.jupyter.widget-view+json": {
              "version_major": 2,
              "version_minor": 0,
              "model_id": "c24c2359ffa3470d89e983d61bef1fe7"
            }
          },
          "metadata": {}
        },
        {
          "output_type": "display_data",
          "data": {
            "text/plain": [
              "vocab.txt:   0%|          | 0.00/213k [00:00<?, ?B/s]"
            ],
            "application/vnd.jupyter.widget-view+json": {
              "version_major": 2,
              "version_minor": 0,
              "model_id": "a4e6cdede6054ddd949080a8f4e4d754"
            }
          },
          "metadata": {}
        }
      ],
      "source": [
        "# Split dataset into training and testing (80/20 split)\n",
        "train_data, test_data = train_test_split(dataShuffled, test_size=0.2, random_state=42)\n",
        "print(np.shape(train_data))\n",
        "print(np.shape(test_data))\n",
        "\n",
        "# Further split training data into training and validation (80/20 split of training set)\n",
        "_, val_data = train_test_split(test_data, test_size=0.2, random_state=42)\n",
        "print(np.shape(train_data))\n",
        "print(np.shape(test_data))\n",
        "print(np.shape(val_data))\n",
        "# Load SciBERT tokenizer\n",
        "tokenizer = AutoTokenizer.from_pretrained(\"dmis-lab/biobert-base-cased-v1.2\")"
      ]
    },
    {
      "cell_type": "code",
      "execution_count": 13,
      "metadata": {
        "id": "ONFXZGUUDN6A",
        "colab": {
          "base_uri": "https://localhost:8080/"
        },
        "outputId": "65041b2a-b0e4-42c2-bb65-31c2da4c1186"
      },
      "outputs": [
        {
          "output_type": "stream",
          "name": "stdout",
          "text": [
            "Number of abstracts:  37588\n",
            "Shape of abstracts:  (37588,)\n",
            "Number of keywords:  37588\n",
            "Shape of keywords:  (37588,)\n",
            "Number of domains:  37588\n",
            "Shape of domains:  (37588,)\n",
            "Number of labels:  37588\n",
            "Shape of labels:  (37588,)\n",
            "['purpose medulloblastoma is the most prevalent childhood brain cancer children with medulloblastoma typically receive a combination of surgery radiation and chemotherapy the survival rate is high but survivors often have sequelae from radiotherapy of the entire developing brain and spinal cord ongoing genetic studies have suggested that decreasing the dose of radiation might be possible among children with favorable molecular variants however this may result in an increased disease recurrence as such there is a need to investigate the nature of tradeoffs that individuals are willing to make regarding the treatment of medulloblastoma method we used bestworst scaling to estimate the importance of attributes affecting the general publics decision making around the treatment of medulloblastoma after conducting focus groups we selected three relevant attributes 1 the accuracy of the genetic test 2 the probability of serious adverse effects of the treatments and 3 the survival rate using the paired method we applied a conditional logit model to estimate preferences results in total 3006 respondents 513 female with an average age of 43 years answered the questionnaires all coefficients were statistically significantly different from zero and the attribute levels of adverse effects and the survival rate had the most impact on individuals stated decision making conclusion overall respondents showed high sensitivity to children experiencing disability particularly in the setting of a good prognosis however among children with poor prognostic molecular variants participants showed tolerance about having a child with mild and partial disability compared to a low rate of survival'\n",
            " 'development of plugin hybrid electric vehicles phevs is stimulated by the need to replace nonrenewable energies with sustainable and more environmentfriendly new energy types phevs benefit from a combination of an internal combustion engine and an electric motor with a rechargeable and larger battery pack than conventional hybrid vehicles in order to maximise customer satisfaction and motivate replacement of the conventional vehicles with this new technology the design of phevs requires sufficient differentiation in the product specifications for diverse market segments the added setup time processes costs and longer lead time for designing and manufacturing a diverse range of such vehicles is a hurdle towards increasing their diversity this study proposes an efficient product family design pfd method for mass customisation of the phev powertrains the methodology is less dependent on expensive simulations due to use of metamodelling and nonconventional sensitivity analysis the pfd concept and its implications to a family of five phevs are investigated and benefits as well as limitations of a sustainable development for this complex product are discussed']\n",
            "[' bestworst scaling bws medulloblastoma preference        '\n",
            " ' phev design product family design engineering design for sustainable development simulationbased design optimisation highdimensional expensive blackbox heb        ']\n",
            "['Medical' 'ECE']\n",
            "['5' '1']\n"
          ]
        }
      ],
      "source": [
        "abstractsTrain = train_data[:,3]\n",
        "keywordsTrain = train_data[:,2]\n",
        "domainsTrain = train_data[:,1]\n",
        "allLabelsTrain = train_data[:,0]\n",
        "\n",
        "print(\"Number of abstracts: \",len(abstractsTrain))\n",
        "print(\"Shape of abstracts: \",np.shape(abstractsTrain))\n",
        "print(\"Number of keywords: \",len(keywordsTrain))\n",
        "print(\"Shape of keywords: \",np.shape(keywordsTrain))\n",
        "print(\"Number of domains: \",len(domainsTrain))\n",
        "print(\"Shape of domains: \",np.shape(domainsTrain))\n",
        "print(\"Number of labels: \",len(allLabelsTrain))\n",
        "print(\"Shape of labels: \",np.shape(allLabelsTrain))\n",
        "\n",
        "print(abstractsTrain[0:2])\n",
        "print(keywordsTrain[0:2])\n",
        "print(domainsTrain[0:2])\n",
        "print(allLabelsTrain[0:2])"
      ]
    },
    {
      "cell_type": "code",
      "execution_count": 14,
      "metadata": {
        "id": "RBJjrIkeDN6A",
        "colab": {
          "base_uri": "https://localhost:8080/",
          "height": 682
        },
        "outputId": "152aea6c-c085-4861-faa0-3fcf0954297a"
      },
      "outputs": [
        {
          "output_type": "stream",
          "name": "stdout",
          "text": [
            "Labels  ['CS' 'Civil' 'ECE' 'MAE' 'Medical' 'Psychology' 'biochemistry']\n",
            "Label counts  [ 5153  3381  4398  2637 11702  5763  4554]\n"
          ]
        },
        {
          "output_type": "display_data",
          "data": {
            "text/plain": [
              "<Figure size 1000x600 with 1 Axes>"
            ],
            "image/png": "[encoded data removed]"
          },
          "metadata": {}
        },
        {
          "output_type": "stream",
          "name": "stdout",
          "text": [
            "The domain CS has 5153 records in the training set.\n",
            "The domain Civil has 3381 records in the training set.\n",
            "The domain ECE has 4398 records in the training set.\n",
            "The domain MAE has 2637 records in the training set.\n",
            "The domain Medical has 11702 records in the training set.\n",
            "The domain Psychology has 5763 records in the training set.\n",
            "The domain biochemistry has 4554 records in the training set.\n"
          ]
        }
      ],
      "source": [
        "labels = np.unique(domainsTrain, return_counts=True)[0]\n",
        "labelCounts =  np.unique(domainsTrain, return_counts=True)[1]\n",
        "\n",
        "print(\"Labels \", labels)\n",
        "print(\"Label counts \", labelCounts)\n",
        "\n",
        "nAbstract = len(abstractsTrain)\n",
        "plt.figure(figsize=(10, 6))\n",
        "plt.title(\"Domain Counts (Training Set)\")\n",
        "plt.pie(labelCounts, labels=labels, autopct='%1.1f%%', startangle=140, colors=plt.cm.Paired(range(len(labels))))\n",
        "plt.axis('equal')  # Equal aspect ratio ensures that pie is drawn as a circle.\n",
        "plt.show()\n",
        "\n",
        "for i, domain in enumerate(labels):\n",
        "    print(\"The domain\", domain, \"has\", labelCounts[i], \"records in the training set.\")"
      ]
    },
    {
      "cell_type": "code",
      "execution_count": 15,
      "metadata": {
        "id": "o4urSnRFDN6B",
        "colab": {
          "base_uri": "https://localhost:8080/"
        },
        "outputId": "4d5acf58-54b1-4b96-d10e-d8c5730acdb8"
      },
      "outputs": [
        {
          "output_type": "stream",
          "name": "stdout",
          "text": [
            "Number of abstracts:  9397\n",
            "Shape of abstracts:  (9397,)\n",
            "Number of keywords:  9397\n",
            "Shape of keywords:  (9397,)\n",
            "Number of domains:  9397\n",
            "Shape of domains:  (9397,)\n",
            "Number of labels:  9397\n",
            "Shape of labels:  (9397,)\n",
            "['tendons that connect muscles to bone are often the targets of sports injuries the currently unsatisfactory state of tendon repair is largely attributable to the limited understanding of basic tendon biology a number of tendon lineagerelated transcription factors have recently been uncovered and provide clues for the better understanding of tendon development scleraxis and mohawk have been identified as critical transcription factors in tendon development and differentiation other transcription factors such as sox9 and egr12 have also been recently reported to be involved in tendon development however the molecular mechanisms and application of these transcription factors remain largely unclear and this prohibits their use in tendon therapy here we systematically review and analyze recent findings and our own data concerning tendon transcription factors and tendon regeneration based on these findings we provide interaction and temporal programming maps of transcription factors as a basis for future tendon therapy finally we discuss future directions for tendon regeneration with differentiation and transdifferentiation approaches based on transcription factors'\n",
            " 'background there is little available data on carotidfemoral pulse wave velocity cfpwv in subjects with subclinical hypothyroidism sch we aimed to analyze the association between sch and cfpwv using baseline data from the brazilian longitudinal study of adult health elsabrasil methods we included subjects with normal thyroid function thyrotropin tsh 0440 miul and normal free thyroxine ft4 0819ngdl and sch tsh 40 miul and normal ft4 evaluated for cfpwv in a crosssectional analysis we excluded individuals using medications that interfere in thyroid function antihypertensives or diuretics and subjects with chronic kidney disease or previous cardiovascular disease generalized linear and logistic regression models evaluated cfpwv as a dependent variable and sch as an independent variable adjusted for cardiovascular risk factors results of 8341 subjects 523 women 7878 944 were euthyroid and 463 56 showed sch the median age was 50 years interquartile range 4456 the groups differed by age sex body mass index glomerular filtration rate and creactive protein sch was not associated with cfpwv in the fulladjusted linear model beta  0039 p  0562 and with cfpwv 75th percentile in the fulladjusted logistic model odds ratio  094 95 confidence interval  072122 conclusion in a large sample sch was not associated with increased cfpwv']\n",
            "[' tendon transcription factors scleraxis mohawk tendonderived stem cells tendon regeneration        '\n",
            " ' artery stiffness blood pressure cardiovascular risk factors hypertension pulse wave velocity subclinical atherosclerosis subclinical hypothyroidism thyroid dysfunction        ']\n",
            "['Medical' 'Medical']\n",
            "['5' '5']\n"
          ]
        }
      ],
      "source": [
        "abstractsTest = test_data[:,3]\n",
        "keywordsTest = test_data[:,2]\n",
        "domainsTest = test_data[:,1]\n",
        "allLabelsTest = test_data[:,0]\n",
        "\n",
        "print(\"Number of abstracts: \",len(abstractsTest))\n",
        "print(\"Shape of abstracts: \",np.shape(abstractsTest))\n",
        "print(\"Number of keywords: \",len(keywordsTest))\n",
        "print(\"Shape of keywords: \",np.shape(keywordsTest))\n",
        "print(\"Number of domains: \",len(domainsTest))\n",
        "print(\"Shape of domains: \",np.shape(domainsTest))\n",
        "print(\"Number of labels: \",len(allLabelsTest))\n",
        "print(\"Shape of labels: \",np.shape(allLabelsTest))\n",
        "\n",
        "# arr = np.array(domainsTest)\n",
        "# cleaned_domains = np.char.strip(arr)\n",
        "# print(\"Cleaned arr \", cleaned_domains)\n",
        "# domainsLabelsTest = cleaned_domains\n",
        "# print(\"Labels domains \", domainsLabelsTest)\n",
        "\n",
        "print(abstractsTest[0:2])\n",
        "print(keywordsTest[0:2])\n",
        "print(domainsTest[0:2])\n",
        "print(allLabelsTest[0:2])"
      ]
    },
    {
      "cell_type": "code",
      "execution_count": 16,
      "metadata": {
        "id": "wXDx7H28DN6B",
        "colab": {
          "base_uri": "https://localhost:8080/",
          "height": 681
        },
        "outputId": "189a2fb2-c834-4146-fff7-b84f96807eb9"
      },
      "outputs": [
        {
          "output_type": "stream",
          "name": "stdout",
          "text": [
            "Labels  ['CS' 'Civil' 'ECE' 'MAE' 'Medical' 'Psychology' 'biochemistry']\n",
            "Label counts  [1361  856 1085  660 2923 1379 1133]\n"
          ]
        },
        {
          "output_type": "display_data",
          "data": {
            "text/plain": [
              "<Figure size 1000x600 with 1 Axes>"
            ],
            "image/png": "[encoded data removed]"
          },
          "metadata": {}
        },
        {
          "output_type": "stream",
          "name": "stdout",
          "text": [
            "The domain CS has 1361 records in the test set.\n",
            "The domain Civil has 856 records in the test set.\n",
            "The domain ECE has 1085 records in the test set.\n",
            "The domain MAE has 660 records in the test set.\n",
            "The domain Medical has 2923 records in the test set.\n",
            "The domain Psychology has 1379 records in the test set.\n",
            "The domain biochemistry has 1133 records in the test set.\n"
          ]
        }
      ],
      "source": [
        "labels = np.unique(domainsTest, return_counts=True)[0]\n",
        "labelCounts =  np.unique(domainsTest, return_counts=True)[1]\n",
        "\n",
        "print(\"Labels \", labels)\n",
        "print(\"Label counts \", labelCounts)\n",
        "\n",
        "nAbstract = len(abstractsTest)\n",
        "plt.figure(figsize=(10, 6))\n",
        "plt.title(\"Domain Counts (Test Set)\")\n",
        "plt.pie(labelCounts, labels=labels, autopct='%1.1f%%', startangle=140, colors=plt.cm.Paired(range(len(labels))))\n",
        "plt.axis('equal')  # Equal aspect ratio ensures that pie is drawn as a circle.\n",
        "plt.show()\n",
        "\n",
        "for i, domain in enumerate(labels):\n",
        "    print(\"The domain\", domain, \"has\", labelCounts[i], \"records in the test set.\")"
      ]
    },
    {
      "cell_type": "code",
      "execution_count": 17,
      "metadata": {
        "id": "zkEyui06DN6B",
        "colab": {
          "base_uri": "https://localhost:8080/"
        },
        "outputId": "a728cfc4-4a18-462a-d487-4278b6a9966e"
      },
      "outputs": [
        {
          "output_type": "stream",
          "name": "stdout",
          "text": [
            "Number of abstracts:  1880\n",
            "Shape of abstracts:  (1880,)\n",
            "Number of keywords:  1880\n",
            "Shape of keywords:  (1880,)\n",
            "Number of domains:  1880\n",
            "Shape of domains:  (1880,)\n",
            "Number of labels:  1880\n",
            "Shape of labels:  (1880,)\n",
            "['research on language attitudes has shown that speech style plays an important role in social evaluation in croatia english words commonly occur in everyday communication which could affect the way we perceive other people this study aims to investigate the relation between english words and person perception 200 croatian elementary school students adolescents and young adults were given one of the three versions of the same text varying in the frequency of english words and a questionnaire to evaluate personal characteristics of the author of the text the results showed that frequent use of english words was related to higher estimations of social attractiveness indicating that the use of english words has become an important cue in person perception c 2016 elsevier ltd all rights reserved'\n",
            " 'backgroundmobile applications apps could support diabetes management through dietary weight and blood glucose selfmonitoring as well as by promoting behaviour change the present study aimed to evaluate diabetes apps for content functions and behaviour change techniques bcts methodsdiabetes selfmanagement apps for android smartphones were searched for on the google play store ten apps each from the following search terms were included diabetes diabetes type 1 diabetes type 2 gestational diabetes apps were evaluated by being scored according to their number of functions and bcts price and user rating resultsthe mean sd number of functions was 89 59 out of a possible maximum of 27 furthermore the mean sd number of bcts was 44 26 out of a possible maximum of 26 apps with optimum bct had significantly more functions 138 95 confidence interval ci  119159 than apps that did not 47 95 ci  3262 p  001 and significantly more bcts 58 95 ci  4870 than apps without 31 95 ci  2241 p  001 additionally apps with optimum bct also cost more than other apps in the adjusted models highly rated apps had an average of 48 95 ci  0987 p  002 more functions than lower rated apps conclusionsdiabetes apps include few functions or bcts compared to the maximum score possible apps with optimum bcts could indicate higher quality app developers should consider including both specific functions and bcts in diabetes apps to make them more helpful more research is needed to understand the components of an effective app for people with diabetes']\n",
            "[' language attitudes lexical borrowing social attractiveness positive characteristics negative characteristics        '\n",
            " ' behaviour change techniques diabetes mobile apps smartphone nutritional epidemiology        ']\n",
            "['Psychology' 'Medical']\n",
            "['2' '5']\n"
          ]
        }
      ],
      "source": [
        "abstractsVal = val_data[:,3]\n",
        "keywordsVal = val_data[:,2]\n",
        "domainsVal = val_data[:,1]\n",
        "allLabelsVal = val_data[:,0]\n",
        "\n",
        "print(\"Number of abstracts: \",len(abstractsVal))\n",
        "print(\"Shape of abstracts: \",np.shape(abstractsVal))\n",
        "print(\"Number of keywords: \",len(keywordsVal))\n",
        "print(\"Shape of keywords: \",np.shape(keywordsVal))\n",
        "print(\"Number of domains: \",len(domainsVal))\n",
        "print(\"Shape of domains: \",np.shape(domainsVal))\n",
        "print(\"Number of labels: \",len(allLabelsVal))\n",
        "print(\"Shape of labels: \",np.shape(allLabelsVal))\n",
        "\n",
        "print(abstractsVal[0:2])\n",
        "print(keywordsVal[0:2])\n",
        "print(domainsVal[0:2])\n",
        "print(allLabelsVal[0:2])"
      ]
    },
    {
      "cell_type": "code",
      "execution_count": 18,
      "metadata": {
        "id": "1ax8-nZaDN6B",
        "colab": {
          "base_uri": "https://localhost:8080/",
          "height": 683
        },
        "outputId": "3b180bbb-d87d-43fe-96ac-304352ac20a4"
      },
      "outputs": [
        {
          "output_type": "stream",
          "name": "stdout",
          "text": [
            "Labels  ['CS' 'Civil' 'ECE' 'MAE' 'Medical' 'Psychology' 'biochemistry']\n",
            "Label counts  [268 164 210 133 621 267 217]\n"
          ]
        },
        {
          "output_type": "display_data",
          "data": {
            "text/plain": [
              "<Figure size 1000x600 with 1 Axes>"
            ],
            "image/png": "[encoded data removed]"
          },
          "metadata": {}
        },
        {
          "output_type": "stream",
          "name": "stdout",
          "text": [
            "The domain CS has 268 records in the vaidation set.\n",
            "The domain Civil has 164 records in the vaidation set.\n",
            "The domain ECE has 210 records in the vaidation set.\n",
            "The domain MAE has 133 records in the vaidation set.\n",
            "The domain Medical has 621 records in the vaidation set.\n",
            "The domain Psychology has 267 records in the vaidation set.\n",
            "The domain biochemistry has 217 records in the vaidation set.\n"
          ]
        }
      ],
      "source": [
        "labels = np.unique(domainsVal, return_counts=True)[0]\n",
        "labelCounts =  np.unique(domainsVal, return_counts=True)[1]\n",
        "\n",
        "print(\"Labels \", labels)\n",
        "print(\"Label counts \", labelCounts)\n",
        "\n",
        "nAbstract = len(abstractsVal)\n",
        "plt.figure(figsize=(10, 6))\n",
        "plt.title(\"Domain Counts (Validation Set)\")\n",
        "plt.pie(labelCounts, labels=labels, autopct='%1.1f%%', startangle=140, colors=plt.cm.Paired(range(len(labels))))\n",
        "plt.axis('equal')  # Equal aspect ratio ensures that pie is drawn as a circle.\n",
        "plt.show()\n",
        "\n",
        "for i, domain in enumerate(labels):\n",
        "    print(\"The domain\", domain, \"has\", labelCounts[i], \"records in the vaidation set.\")"
      ]
    },
    {
      "cell_type": "code",
      "execution_count": 19,
      "metadata": {
        "id": "sxbOFbMrDN6C"
      },
      "outputs": [],
      "source": [
        "# Function to tokenize and encode the dataset\n",
        "def encode_data(data, tokenizer, max_length=128):\n",
        "    # print(len(data[:,2]))\n",
        "    inputs = tokenizer(\n",
        "        data[:,3].tolist(), # abstracts 3\n",
        "        max_length=max_length,\n",
        "        padding='max_length',\n",
        "        truncation=True,\n",
        "        return_tensors=\"pt\"\n",
        "    )\n",
        "    # print(len(dataShuffled[:, 0]))\n",
        "    labels = torch.tensor(data[:, 0].astype(int))\n",
        "    print(\"Label length \", len(labels))\n",
        "    return TensorDataset(inputs['input_ids'], inputs['attention_mask'], labels)"
      ]
    },
    {
      "cell_type": "code",
      "execution_count": 20,
      "metadata": {
        "id": "Y8_HDuDUDN6C",
        "colab": {
          "base_uri": "https://localhost:8080/"
        },
        "outputId": "be7c61e6-d9c7-493f-a5d2-69a06846d00e"
      },
      "outputs": [
        {
          "output_type": "stream",
          "name": "stdout",
          "text": [
            "(37588, 4)\n",
            "(9397, 4)\n",
            "(1880, 4)\n"
          ]
        }
      ],
      "source": [
        "print(np.shape(train_data))\n",
        "print(np.shape(test_data))\n",
        "print(np.shape(val_data))\n"
      ]
    },
    {
      "cell_type": "code",
      "execution_count": 21,
      "metadata": {
        "id": "c6avATPgDN6C",
        "colab": {
          "base_uri": "https://localhost:8080/"
        },
        "outputId": "4374b638-149d-4e4b-d979-769989f724c0"
      },
      "outputs": [
        {
          "output_type": "stream",
          "name": "stdout",
          "text": [
            "Label length  37588\n",
            "Label length  1880\n",
            "Label length  9397\n"
          ]
        }
      ],
      "source": [
        "# Encode training, validation, and testing data\n",
        "train_dataset = encode_data(train_data, tokenizer)\n",
        "val_dataset = encode_data(val_data, tokenizer)\n",
        "test_dataset = encode_data(test_data, tokenizer)\n",
        "\n",
        "\n",
        "\n",
        "# Data loaders\n",
        "train_dataloader = DataLoader(train_dataset, sampler=RandomSampler(train_dataset), batch_size=32)\n",
        "val_dataloader = DataLoader(val_dataset, sampler=SequentialSampler(val_dataset), batch_size=32)\n",
        "test_dataloader = DataLoader(test_dataset, sampler=SequentialSampler(test_dataset), batch_size=32)"
      ]
    },
    {
      "cell_type": "code",
      "execution_count": 22,
      "metadata": {
        "id": "ybVLIN-JDN6C",
        "colab": {
          "base_uri": "https://localhost:8080/",
          "height": 902,
          "referenced_widgets": [
            "90afbf9229904ff99a109a8ee1e5427f",
            "269b6d0173c74a988c4a2e35f43d10af",
            "078142a7f9fc460d8c278f2b4d0e5418",
            "793d8e84153246929d0e66e6f842ee92",
            "e4f31c60b58649d3b0acb5456c5468da",
            "9e06fb7120964148af32110448c76c97",
            "758b30436be64a4db414ff989e2491b9",
            "647037bb311c4fc2aef91acee669220e",
            "a73537372a92461ba688f583e519504c",
            "6a8acd5da31349c2b43ca3fbf486e8b4",
            "1629ae91da7c42198b3406843f90aff9"
          ]
        },
        "outputId": "de1f2110-3c82-4d1a-ef14-1048c3737dea"
      },
      "outputs": [
        {
          "output_type": "stream",
          "name": "stdout",
          "text": [
            "7\n"
          ]
        },
        {
          "output_type": "display_data",
          "data": {
            "text/plain": [
              "pytorch_model.bin:   0%|          | 0.00/436M [00:00<?, ?B/s]"
            ],
            "application/vnd.jupyter.widget-view+json": {
              "version_major": 2,
              "version_minor": 0,
              "model_id": "90afbf9229904ff99a109a8ee1e5427f"
            }
          },
          "metadata": {}
        },
        {
          "output_type": "stream",
          "name": "stderr",
          "text": [
            "Some weights of BertForSequenceClassification were not initialized from the model checkpoint at dmis-lab/biobert-base-cased-v1.2 and are newly initialized: ['classifier.bias', 'classifier.weight']\n",
            "You should probably TRAIN this model on a down-stream task to be able to use it for predictions and inference.\n"
          ]
        },
        {
          "output_type": "execute_result",
          "data": {
            "text/plain": [
              "BertForSequenceClassification(\n",
              "  (bert): BertModel(\n",
              "    (embeddings): BertEmbeddings(\n",
              "      (word_embeddings): Embedding(28996, 768, padding_idx=0)\n",
              "      (position_embeddings): Embedding(512, 768)\n",
              "      (token_type_embeddings): Embedding(2, 768)\n",
              "      (LayerNorm): LayerNorm((768,), eps=1e-12, elementwise_affine=True)\n",
              "      (dropout): Dropout(p=0.1, inplace=False)\n",
              "    )\n",
              "    (encoder): BertEncoder(\n",
              "      (layer): ModuleList(\n",
              "        (0-11): 12 x BertLayer(\n",
              "          (attention): BertAttention(\n",
              "            (self): BertSdpaSelfAttention(\n",
              "              (query): Linear(in_features=768, out_features=768, bias=True)\n",
              "              (key): Linear(in_features=768, out_features=768, bias=True)\n",
              "              (value): Linear(in_features=768, out_features=768, bias=True)\n",
              "              (dropout): Dropout(p=0.1, inplace=False)\n",
              "            )\n",
              "            (output): BertSelfOutput(\n",
              "              (dense): Linear(in_features=768, out_features=768, bias=True)\n",
              "              (LayerNorm): LayerNorm((768,), eps=1e-12, elementwise_affine=True)\n",
              "              (dropout): Dropout(p=0.1, inplace=False)\n",
              "            )\n",
              "          )\n",
              "          (intermediate): BertIntermediate(\n",
              "            (dense): Linear(in_features=768, out_features=3072, bias=True)\n",
              "            (intermediate_act_fn): GELUActivation()\n",
              "          )\n",
              "          (output): BertOutput(\n",
              "            (dense): Linear(in_features=3072, out_features=768, bias=True)\n",
              "            (LayerNorm): LayerNorm((768,), eps=1e-12, elementwise_affine=True)\n",
              "            (dropout): Dropout(p=0.1, inplace=False)\n",
              "          )\n",
              "        )\n",
              "      )\n",
              "    )\n",
              "    (pooler): BertPooler(\n",
              "      (dense): Linear(in_features=768, out_features=768, bias=True)\n",
              "      (activation): Tanh()\n",
              "    )\n",
              "  )\n",
              "  (dropout): Dropout(p=0.1, inplace=False)\n",
              "  (classifier): Linear(in_features=768, out_features=7, bias=True)\n",
              ")"
            ]
          },
          "metadata": {},
          "execution_count": 22
        }
      ],
      "source": [
        "# Load SciBERT model\n",
        "print(len(np.unique(train_data[:,0])))\n",
        "model = AutoModelForSequenceClassification.from_pretrained(\"dmis-lab/biobert-base-cased-v1.2\", num_labels=len(np.unique(train_data[:,0])))\n",
        "device = torch.device(\"cuda\" if torch.cuda.is_available() else \"cpu\")\n",
        "model.to(device)"
      ]
    },
    {
      "cell_type": "code",
      "execution_count": 23,
      "metadata": {
        "id": "ps1DInjXDN6C",
        "colab": {
          "base_uri": "https://localhost:8080/"
        },
        "outputId": "41fa32e6-b4e4-4248-a5ac-8a510c40748d"
      },
      "outputs": [
        {
          "output_type": "execute_result",
          "data": {
            "text/plain": [
              "BertConfig {\n",
              "  \"_name_or_path\": \"dmis-lab/biobert-base-cased-v1.2\",\n",
              "  \"architectures\": [\n",
              "    \"BertForMaskedLM\"\n",
              "  ],\n",
              "  \"attention_probs_dropout_prob\": 0.1,\n",
              "  \"classifier_dropout\": null,\n",
              "  \"hidden_act\": \"gelu\",\n",
              "  \"hidden_dropout_prob\": 0.1,\n",
              "  \"hidden_size\": 768,\n",
              "  \"id2label\": {\n",
              "    \"0\": \"LABEL_0\",\n",
              "    \"1\": \"LABEL_1\",\n",
              "    \"2\": \"LABEL_2\",\n",
              "    \"3\": \"LABEL_3\",\n",
              "    \"4\": \"LABEL_4\",\n",
              "    \"5\": \"LABEL_5\",\n",
              "    \"6\": \"LABEL_6\"\n",
              "  },\n",
              "  \"initializer_range\": 0.02,\n",
              "  \"intermediate_size\": 3072,\n",
              "  \"label2id\": {\n",
              "    \"LABEL_0\": 0,\n",
              "    \"LABEL_1\": 1,\n",
              "    \"LABEL_2\": 2,\n",
              "    \"LABEL_3\": 3,\n",
              "    \"LABEL_4\": 4,\n",
              "    \"LABEL_5\": 5,\n",
              "    \"LABEL_6\": 6\n",
              "  },\n",
              "  \"layer_norm_eps\": 1e-12,\n",
              "  \"max_position_embeddings\": 512,\n",
              "  \"model_type\": \"bert\",\n",
              "  \"num_attention_heads\": 12,\n",
              "  \"num_hidden_layers\": 12,\n",
              "  \"pad_token_id\": 0,\n",
              "  \"position_embedding_type\": \"absolute\",\n",
              "  \"transformers_version\": \"4.42.4\",\n",
              "  \"type_vocab_size\": 2,\n",
              "  \"use_cache\": true,\n",
              "  \"vocab_size\": 28996\n",
              "}"
            ]
          },
          "metadata": {},
          "execution_count": 23
        }
      ],
      "source": [
        "model.config"
      ]
    },
    {
      "cell_type": "code",
      "execution_count": 24,
      "metadata": {
        "id": "qmjlyLnkDN6C",
        "colab": {
          "base_uri": "https://localhost:8080/"
        },
        "outputId": "738f1af6-078a-424c-8dfa-6e627333e58a"
      },
      "outputs": [
        {
          "output_type": "stream",
          "name": "stderr",
          "text": [
            "/usr/local/lib/python3.10/dist-packages/transformers/optimization.py:591: FutureWarning: This implementation of AdamW is deprecated and will be removed in a future version. Use the PyTorch implementation torch.optim.AdamW instead, or set `no_deprecation_warning=True` to disable this warning\n",
            "  warnings.warn(\n"
          ]
        }
      ],
      "source": [
        "# Optimizer and learning rate scheduler\n",
        "optimizer = AdamW(model.parameters(), lr=2e-5, eps=1e-8)\n",
        "total_steps = len(train_dataloader) * 20\n",
        "num_warmup_steps = 1e-4\n",
        "scheduler = get_linear_schedule_with_warmup(optimizer, num_warmup_steps=num_warmup_steps, num_training_steps=total_steps)"
      ]
    },
    {
      "cell_type": "code",
      "execution_count": 25,
      "metadata": {
        "id": "xj4AnpxJDN6C"
      },
      "outputs": [],
      "source": [
        "def calculate_metrics(valType, predictions, true_labels):\n",
        "    # Confusion matrix\n",
        "    if(valType == 'test'):\n",
        "        cm = confusion_matrix(true_labels, predictions)\n",
        "        print(\"Confusion Matrix:\\n\", cm)\n",
        "\n",
        "        # Classification report (includes precision, recall, F1 score)\n",
        "        report = classification_report(true_labels, predictions, target_names=[str(i) for i in range(len(np.unique(true_labels)))])\n",
        "        print(\"\\nClassification Report:\\n\", report)\n",
        "\n",
        "        # Calculate different types of F1 scores, precision, and recall\n",
        "        f1_macro = f1_score(true_labels, predictions, average='macro')\n",
        "        f1_micro = f1_score(true_labels, predictions, average='micro')\n",
        "        f1_weighted = f1_score(true_labels, predictions, average='weighted')\n",
        "\n",
        "        precision_macro = precision_score(true_labels, predictions, average='macro')\n",
        "        precision_micro = precision_score(true_labels, predictions, average='micro')\n",
        "        precision_weighted = precision_score(true_labels, predictions, average='weighted')\n",
        "\n",
        "        recall_macro = recall_score(true_labels, predictions, average='macro')\n",
        "        recall_micro = recall_score(true_labels, predictions, average='micro')\n",
        "        recall_weighted = recall_score(true_labels, predictions, average='weighted')\n",
        "\n",
        "        print(f\"Macro F1 Score: {f1_macro}\")\n",
        "        print(f\"Micro F1 Score: {f1_micro}\")\n",
        "        print(f\"Weighted F1 Score: {f1_weighted}\")\n",
        "\n",
        "        print(f\"Macro Precision: {precision_macro}\")\n",
        "        print(f\"Micro Precision: {precision_micro}\")\n",
        "        print(f\"Weighted Precision: {precision_weighted}\")\n",
        "\n",
        "        print(f\"Macro Recall: {recall_macro}\")\n",
        "        print(f\"Micro Recall: {recall_micro}\")\n",
        "        print(f\"Weighted Recall: {recall_weighted}\")\n",
        "\n",
        "    elif(valType == 'val'):\n",
        "        cm = confusion_matrix(true_labels, predictions)\n",
        "        f1_macro = f1_score(true_labels, predictions, average='macro')\n",
        "        f1_micro = f1_score(true_labels, predictions, average='micro')\n",
        "        f1_weighted = f1_score(true_labels, predictions, average='weighted')\n",
        "\n",
        "        precision_macro = precision_score(true_labels, predictions, average='macro')\n",
        "        precision_micro = precision_score(true_labels, predictions, average='micro')\n",
        "        precision_weighted = precision_score(true_labels, predictions, average='weighted')\n",
        "\n",
        "        recall_macro = recall_score(true_labels, predictions, average='macro')\n",
        "        recall_micro = recall_score(true_labels, predictions, average='micro')\n",
        "        recall_weighted = recall_score(true_labels, predictions, average='weighted')\n",
        "        # print('Val Micro F1:', f1_micro)\n",
        "        return f1_micro"
      ]
    },
    {
      "cell_type": "code",
      "execution_count": 26,
      "metadata": {
        "id": "05xzH0FEDN6C",
        "colab": {
          "base_uri": "https://localhost:8080/"
        },
        "outputId": "188e0c85-7eb7-4411-d751-48f324df2799"
      },
      "outputs": [
        {
          "output_type": "stream",
          "name": "stderr",
          "text": [
            "Epoch 1/20: 100%|██████████| 1175/1175 [12:36<00:00,  1.55batch/s]\n"
          ]
        },
        {
          "output_type": "stream",
          "name": "stdout",
          "text": [
            "Epoch 1/20\n",
            "  Train Loss: 0.6340128238911324\n",
            "  Val Micro F1: 0.8521276595744681\n",
            "  Time: 12m 49s\n"
          ]
        },
        {
          "output_type": "stream",
          "name": "stderr",
          "text": [
            "Epoch 2/20: 100%|██████████| 1175/1175 [12:39<00:00,  1.55batch/s]\n"
          ]
        },
        {
          "output_type": "stream",
          "name": "stdout",
          "text": [
            "Epoch 2/20\n",
            "  Train Loss: 0.38865054192695214\n",
            "  Val Micro F1: 0.8611702127659574\n",
            "  Time: 12m 51s\n"
          ]
        },
        {
          "output_type": "stream",
          "name": "stderr",
          "text": [
            "Epoch 3/20: 100%|██████████| 1175/1175 [12:39<00:00,  1.55batch/s]\n"
          ]
        },
        {
          "output_type": "stream",
          "name": "stdout",
          "text": [
            "Epoch 3/20\n",
            "  Train Loss: 0.2798783399513427\n",
            "  Val Micro F1: 0.8542553191489362\n",
            "  Time: 12m 51s\n"
          ]
        },
        {
          "output_type": "stream",
          "name": "stderr",
          "text": [
            "Epoch 4/20: 100%|██████████| 1175/1175 [12:39<00:00,  1.55batch/s]\n"
          ]
        },
        {
          "output_type": "stream",
          "name": "stdout",
          "text": [
            "Epoch 4/20\n",
            "  Train Loss: 0.1950000609893431\n",
            "  Val Micro F1: 0.8601063829787234\n",
            "  Time: 12m 51s\n"
          ]
        },
        {
          "output_type": "stream",
          "name": "stderr",
          "text": [
            "Epoch 5/20: 100%|██████████| 1175/1175 [12:39<00:00,  1.55batch/s]\n"
          ]
        },
        {
          "output_type": "stream",
          "name": "stdout",
          "text": [
            "Epoch 5/20\n",
            "  Train Loss: 0.1313774269779629\n",
            "  Val Micro F1: 0.8627659574468085\n",
            "  Time: 12m 52s\n"
          ]
        },
        {
          "output_type": "stream",
          "name": "stderr",
          "text": [
            "Epoch 6/20: 100%|██████████| 1175/1175 [12:39<00:00,  1.55batch/s]\n"
          ]
        },
        {
          "output_type": "stream",
          "name": "stdout",
          "text": [
            "Epoch 6/20\n",
            "  Train Loss: 0.08990987347597454\n",
            "  Val Micro F1: 0.8489361702127659\n",
            "  Time: 12m 52s\n"
          ]
        },
        {
          "output_type": "stream",
          "name": "stderr",
          "text": [
            "Epoch 7/20: 100%|██████████| 1175/1175 [12:39<00:00,  1.55batch/s]\n"
          ]
        },
        {
          "output_type": "stream",
          "name": "stdout",
          "text": [
            "Epoch 7/20\n",
            "  Train Loss: 0.06424070017516335\n",
            "  Val Micro F1: 0.8446808510638298\n",
            "  Time: 12m 51s\n"
          ]
        },
        {
          "output_type": "stream",
          "name": "stderr",
          "text": [
            "Epoch 8/20: 100%|██████████| 1175/1175 [12:39<00:00,  1.55batch/s]\n"
          ]
        },
        {
          "output_type": "stream",
          "name": "stdout",
          "text": [
            "Epoch 8/20\n",
            "  Train Loss: 0.04574810921125352\n",
            "  Val Micro F1: 0.85\n",
            "  Time: 12m 52s\n"
          ]
        },
        {
          "output_type": "stream",
          "name": "stderr",
          "text": [
            "Epoch 9/20: 100%|██████████| 1175/1175 [12:39<00:00,  1.55batch/s]\n"
          ]
        },
        {
          "output_type": "stream",
          "name": "stdout",
          "text": [
            "Epoch 9/20\n",
            "  Train Loss: 0.033142100060915954\n",
            "  Val Micro F1: 0.8489361702127659\n",
            "  Time: 12m 52s\n"
          ]
        },
        {
          "output_type": "stream",
          "name": "stderr",
          "text": [
            "Epoch 10/20: 100%|██████████| 1175/1175 [12:39<00:00,  1.55batch/s]\n"
          ]
        },
        {
          "output_type": "stream",
          "name": "stdout",
          "text": [
            "Epoch 10/20\n",
            "  Train Loss: 0.02931203066110066\n",
            "  Val Micro F1: 0.8489361702127659\n",
            "  Time: 12m 52s\n"
          ]
        },
        {
          "output_type": "stream",
          "name": "stderr",
          "text": [
            "Epoch 11/20: 100%|██████████| 1175/1175 [12:39<00:00,  1.55batch/s]\n"
          ]
        },
        {
          "output_type": "stream",
          "name": "stdout",
          "text": [
            "Epoch 11/20\n",
            "  Train Loss: 0.02175454738263804\n",
            "  Val Micro F1: 0.8537234042553191\n",
            "  Time: 12m 52s\n"
          ]
        },
        {
          "output_type": "stream",
          "name": "stderr",
          "text": [
            "Epoch 12/20: 100%|██████████| 1175/1175 [12:39<00:00,  1.55batch/s]\n"
          ]
        },
        {
          "output_type": "stream",
          "name": "stdout",
          "text": [
            "Epoch 12/20\n",
            "  Train Loss: 0.015682402636287385\n",
            "  Val Micro F1: 0.8531914893617021\n",
            "  Time: 12m 51s\n"
          ]
        },
        {
          "output_type": "stream",
          "name": "stderr",
          "text": [
            "Epoch 13/20: 100%|██████████| 1175/1175 [12:39<00:00,  1.55batch/s]\n"
          ]
        },
        {
          "output_type": "stream",
          "name": "stdout",
          "text": [
            "Epoch 13/20\n",
            "  Train Loss: 0.011377219925473563\n",
            "  Val Micro F1: 0.8462765957446808\n",
            "  Time: 12m 52s\n"
          ]
        },
        {
          "output_type": "stream",
          "name": "stderr",
          "text": [
            "Epoch 14/20: 100%|██████████| 1175/1175 [12:39<00:00,  1.55batch/s]\n"
          ]
        },
        {
          "output_type": "stream",
          "name": "stdout",
          "text": [
            "Epoch 14/20\n",
            "  Train Loss: 0.011095298424741176\n",
            "  Val Micro F1: 0.848404255319149\n",
            "  Time: 12m 51s\n"
          ]
        },
        {
          "output_type": "stream",
          "name": "stderr",
          "text": [
            "Epoch 15/20: 100%|██████████| 1175/1175 [12:39<00:00,  1.55batch/s]\n"
          ]
        },
        {
          "output_type": "stream",
          "name": "stdout",
          "text": [
            "Epoch 15/20\n",
            "  Train Loss: 0.005514429748546582\n",
            "  Val Micro F1: 0.8590425531914894\n",
            "  Time: 12m 51s\n"
          ]
        },
        {
          "output_type": "stream",
          "name": "stderr",
          "text": [
            "Epoch 16/20: 100%|██████████| 1175/1175 [12:39<00:00,  1.55batch/s]\n"
          ]
        },
        {
          "output_type": "stream",
          "name": "stdout",
          "text": [
            "Epoch 16/20\n",
            "  Train Loss: 0.006919324190420547\n",
            "  Val Micro F1: 0.8515957446808511\n",
            "  Time: 12m 51s\n"
          ]
        },
        {
          "output_type": "stream",
          "name": "stderr",
          "text": [
            "Epoch 17/20: 100%|██████████| 1175/1175 [12:39<00:00,  1.55batch/s]\n"
          ]
        },
        {
          "output_type": "stream",
          "name": "stdout",
          "text": [
            "Epoch 17/20\n",
            "  Train Loss: 0.0037397390946190424\n",
            "  Val Micro F1: 0.85\n",
            "  Time: 12m 51s\n"
          ]
        },
        {
          "output_type": "stream",
          "name": "stderr",
          "text": [
            "Epoch 18/20: 100%|██████████| 1175/1175 [12:39<00:00,  1.55batch/s]\n"
          ]
        },
        {
          "output_type": "stream",
          "name": "stdout",
          "text": [
            "Epoch 18/20\n",
            "  Train Loss: 0.0023873850146946037\n",
            "  Val Micro F1: 0.8510638297872339\n",
            "  Time: 12m 52s\n"
          ]
        },
        {
          "output_type": "stream",
          "name": "stderr",
          "text": [
            "Epoch 19/20: 100%|██████████| 1175/1175 [12:39<00:00,  1.55batch/s]\n"
          ]
        },
        {
          "output_type": "stream",
          "name": "stdout",
          "text": [
            "Epoch 19/20\n",
            "  Train Loss: 0.0013441651436183514\n",
            "  Val Micro F1: 0.850531914893617\n",
            "  Time: 12m 51s\n"
          ]
        },
        {
          "output_type": "stream",
          "name": "stderr",
          "text": [
            "Epoch 20/20: 100%|██████████| 1175/1175 [12:39<00:00,  1.55batch/s]\n"
          ]
        },
        {
          "output_type": "stream",
          "name": "stdout",
          "text": [
            "Epoch 20/20\n",
            "  Train Loss: 0.001199811434450199\n",
            "  Val Micro F1: 0.8510638297872339\n",
            "  Time: 12m 51s\n"
          ]
        }
      ],
      "source": [
        "epochs = 20\n",
        "for epoch in range(epochs):\n",
        "    model.train()\n",
        "    total_train_loss = 0\n",
        "    start_time = time.time()\n",
        "\n",
        "    # Training\n",
        "    for step, batch in enumerate(tqdm(train_dataloader, desc=f\"Epoch {epoch + 1}/{epochs}\", unit=\"batch\")):\n",
        "        batch = tuple(t.to(device) for t in batch)\n",
        "        input_ids, input_mask, labels = batch\n",
        "\n",
        "\n",
        "        model.zero_grad()\n",
        "        outputs = model(input_ids=input_ids, attention_mask=input_mask, labels=labels)\n",
        "        loss = outputs.loss\n",
        "        total_train_loss += loss.item()\n",
        "\n",
        "        loss.backward()\n",
        "        torch.nn.utils.clip_grad_norm_(model.parameters(), max_norm=1.0)\n",
        "        optimizer.step()\n",
        "        scheduler.step()\n",
        "\n",
        "    avg_train_loss = total_train_loss / len(train_dataloader)\n",
        "\n",
        "    # Validation\n",
        "    model.eval()\n",
        "    predictions = []\n",
        "    true_labels = []\n",
        "\n",
        "    for batch in val_dataloader:\n",
        "        batch = tuple(t.to(device) for t in batch)\n",
        "        input_ids, input_mask, labels = batch\n",
        "\n",
        "        with torch.no_grad():\n",
        "            outputs = model(input_ids=input_ids, attention_mask=input_mask)\n",
        "            logits = outputs.logits\n",
        "\n",
        "        logits = logits.detach().cpu().numpy()\n",
        "        label_ids = labels.to('cpu').numpy()\n",
        "\n",
        "        batch_predictions = np.argmax(logits, axis=1)\n",
        "        predictions.extend(batch_predictions)\n",
        "        true_labels.extend(label_ids)\n",
        "\n",
        "    val_micro_f1 = calculate_metrics('val', predictions, true_labels)\n",
        "    elapsed_time = time.time() - start_time\n",
        "\n",
        "    # Print epoch summary\n",
        "    print(f\"Epoch {epoch + 1}/{epochs}\")\n",
        "    print(f\"  Train Loss: {avg_train_loss}\")\n",
        "    print(f\"  Val Micro F1: {val_micro_f1}\")\n",
        "    print(f\"  Time: {elapsed_time // 60:.0f}m {elapsed_time % 60:.0f}s\")"
      ]
    },
    {
      "cell_type": "code",
      "execution_count": 27,
      "metadata": {
        "id": "YF1GCpcUDN6D",
        "colab": {
          "base_uri": "https://localhost:8080/"
        },
        "outputId": "0b01cd45-b925-4df0-c4db-a3b717f17332"
      },
      "outputs": [
        {
          "output_type": "stream",
          "name": "stdout",
          "text": [
            "Confusion Matrix:\n",
            " [[1198   37   17   19   23   30   37]\n",
            " [  40  965    8   33   30    8    1]\n",
            " [  18    5 1156    5   12  175    8]\n",
            " [  22   30    9  552   29   10    8]\n",
            " [  27   30   17   15  737   18   12]\n",
            " [  14    4  191   14    9 2524  167]\n",
            " [  25    2   21    2    3  162  918]]\n",
            "\n",
            "Classification Report:\n",
            "               precision    recall  f1-score   support\n",
            "\n",
            "           0       0.89      0.88      0.89      1361\n",
            "           1       0.90      0.89      0.89      1085\n",
            "           2       0.81      0.84      0.83      1379\n",
            "           3       0.86      0.84      0.85       660\n",
            "           4       0.87      0.86      0.87       856\n",
            "           5       0.86      0.86      0.86      2923\n",
            "           6       0.80      0.81      0.80      1133\n",
            "\n",
            "    accuracy                           0.86      9397\n",
            "   macro avg       0.86      0.85      0.86      9397\n",
            "weighted avg       0.86      0.86      0.86      9397\n",
            "\n",
            "Macro F1 Score: 0.8557110026505609\n",
            "Micro F1 Score: 0.8566563796956476\n",
            "Weighted F1 Score: 0.8568202648952262\n",
            "Macro Precision: 0.85743102556882\n",
            "Micro Precision: 0.8566563796956476\n",
            "Weighted Precision: 0.8571000320575783\n",
            "Macro Recall: 0.8541434736843897\n",
            "Micro Recall: 0.8566563796956476\n",
            "Weighted Recall: 0.8566563796956476\n"
          ]
        }
      ],
      "source": [
        "# Evaluation\n",
        "model.eval()\n",
        "predictions = []\n",
        "true_labels = []\n",
        "\n",
        "for batch in test_dataloader:\n",
        "    batch = tuple(t.to(device) for t in batch)\n",
        "    input_ids, input_mask, labels = batch\n",
        "\n",
        "    with torch.no_grad():\n",
        "        outputs = model(input_ids=input_ids, attention_mask=input_mask)\n",
        "        logits = outputs.logits\n",
        "\n",
        "    logits = logits.detach().cpu().numpy()\n",
        "    label_ids = labels.to('cpu').numpy()\n",
        "\n",
        "    batch_predictions = np.argmax(logits, axis=1)\n",
        "    predictions.extend(batch_predictions)\n",
        "    true_labels.extend(label_ids)\n",
        "\n",
        "# Calculate and print metrics\n",
        "calculate_metrics('test', predictions, true_labels)"
      ]
    },
    {
      "cell_type": "code",
      "execution_count": 28,
      "metadata": {
        "id": "zBU4h6E7DN6D"
      },
      "outputs": [],
      "source": [
        "model.save_pretrained('/content/drive/MyDrive/WoS/BERT_WoS_Abstracts_46985')"
      ]
    },
    {
      "cell_type": "code",
      "source": [
        "print('End of the runtime!')"
      ],
      "metadata": {
        "id": "gXML14r1fqZ9",
        "colab": {
          "base_uri": "https://localhost:8080/"
        },
        "outputId": "60a3a620-9de9-4847-db55-d6b4707fb556"
      },
      "execution_count": 29,
      "outputs": [
        {
          "output_type": "stream",
          "name": "stdout",
          "text": [
            "End of the runtime!\n"
          ]
        }
      ]
    },
    {
      "cell_type": "code",
      "source": [
        "runtime.unassign()"
      ],
      "metadata": {
        "id": "a3ftL0Kkd3f0"
      },
      "execution_count": null,
      "outputs": []
    }
  ],
  "metadata": {
    "language_info": {
      "name": "python"
    },
    "colab": {
      "provenance": [],
      "machine_shape": "hm",
      "gpuType": "T4"
    },
    "kernelspec": {
      "name": "python3",
      "display_name": "Python 3"
    },
    "accelerator": "GPU",
    "widgets": {
      "application/vnd.jupyter.widget-state+json": {
        "c24c2359ffa3470d89e983d61bef1fe7": {
          "model_module": "@jupyter-widgets/controls",
          "model_name": "HBoxModel",
          "model_module_version": "1.5.0",
          "state": {
            "_dom_classes": [],
            "_model_module": "@jupyter-widgets/controls",
            "_model_module_version": "1.5.0",
            "_model_name": "HBoxModel",
            "_view_count": null,
            "_view_module": "@jupyter-widgets/controls",
            "_view_module_version": "1.5.0",
            "_view_name": "HBoxView",
            "box_style": "",
            "children": [
              "IPY_MODEL_90afdd5e62d4426887fb2ef28932b62e",
              "IPY_MODEL_28fab65de0eb48b3adba55bd6af5d351",
              "IPY_MODEL_85f7a38411ec4bb8afc44a3ddc3b07de"
            ],
            "layout": "IPY_MODEL_f1ef1b24262c405994bef7bd5b667312"
          }
        },
        "90afdd5e62d4426887fb2ef28932b62e": {
          "model_module": "@jupyter-widgets/controls",
          "model_name": "HTMLModel",
          "model_module_version": "1.5.0",
          "state": {
            "_dom_classes": [],
            "_model_module": "@jupyter-widgets/controls",
            "_model_module_version": "1.5.0",
            "_model_name": "HTMLModel",
            "_view_count": null,
            "_view_module": "@jupyter-widgets/controls",
            "_view_module_version": "1.5.0",
            "_view_name": "HTMLView",
            "description": "",
            "description_tooltip": null,
            "layout": "IPY_MODEL_ae6afc1f0890498ea064c857ffa44166",
            "placeholder": "​",
            "style": "IPY_MODEL_f330ec558dd14e4e97336488104a8dab",
            "value": "config.json: 100%"
          }
        },
        "28fab65de0eb48b3adba55bd6af5d351": {
          "model_module": "@jupyter-widgets/controls",
          "model_name": "FloatProgressModel",
          "model_module_version": "1.5.0",
          "state": {
            "_dom_classes": [],
            "_model_module": "@jupyter-widgets/controls",
            "_model_module_version": "1.5.0",
            "_model_name": "FloatProgressModel",
            "_view_count": null,
            "_view_module": "@jupyter-widgets/controls",
            "_view_module_version": "1.5.0",
            "_view_name": "ProgressView",
            "bar_style": "success",
            "description": "",
            "description_tooltip": null,
            "layout": "IPY_MODEL_110855fb51064631b644124cc5ea9834",
            "max": 1110,
            "min": 0,
            "orientation": "horizontal",
            "style": "IPY_MODEL_7eefa79860144f85a311f9db7589347e",
            "value": 1110
          }
        },
        "85f7a38411ec4bb8afc44a3ddc3b07de": {
          "model_module": "@jupyter-widgets/controls",
          "model_name": "HTMLModel",
          "model_module_version": "1.5.0",
          "state": {
            "_dom_classes": [],
            "_model_module": "@jupyter-widgets/controls",
            "_model_module_version": "1.5.0",
            "_model_name": "HTMLModel",
            "_view_count": null,
            "_view_module": "@jupyter-widgets/controls",
            "_view_module_version": "1.5.0",
            "_view_name": "HTMLView",
            "description": "",
            "description_tooltip": null,
            "layout": "IPY_MODEL_d165e84b8a1e4d31bbe9da8dbd083d4c",
            "placeholder": "​",
            "style": "IPY_MODEL_afef9466d6504c9e97eb94e9285ec295",
            "value": " 1.11k/1.11k [00:00&lt;00:00, 98.3kB/s]"
          }
        },
        "f1ef1b24262c405994bef7bd5b667312": {
          "model_module": "@jupyter-widgets/base",
          "model_name": "LayoutModel",
          "model_module_version": "1.2.0",
          "state": {
            "_model_module": "@jupyter-widgets/base",
            "_model_module_version": "1.2.0",
            "_model_name": "LayoutModel",
            "_view_count": null,
            "_view_module": "@jupyter-widgets/base",
            "_view_module_version": "1.2.0",
            "_view_name": "LayoutView",
            "align_content": null,
            "align_items": null,
            "align_self": null,
            "border": null,
            "bottom": null,
            "display": null,
            "flex": null,
            "flex_flow": null,
            "grid_area": null,
            "grid_auto_columns": null,
            "grid_auto_flow": null,
            "grid_auto_rows": null,
            "grid_column": null,
            "grid_gap": null,
            "grid_row": null,
            "grid_template_areas": null,
            "grid_template_columns": null,
            "grid_template_rows": null,
            "height": null,
            "justify_content": null,
            "justify_items": null,
            "left": null,
            "margin": null,
            "max_height": null,
            "max_width": null,
            "min_height": null,
            "min_width": null,
            "object_fit": null,
            "object_position": null,
            "order": null,
            "overflow": null,
            "overflow_x": null,
            "overflow_y": null,
            "padding": null,
            "right": null,
            "top": null,
            "visibility": null,
            "width": null
          }
        },
        "ae6afc1f0890498ea064c857ffa44166": {
          "model_module": "@jupyter-widgets/base",
          "model_name": "LayoutModel",
          "model_module_version": "1.2.0",
          "state": {
            "_model_module": "@jupyter-widgets/base",
            "_model_module_version": "1.2.0",
            "_model_name": "LayoutModel",
            "_view_count": null,
            "_view_module": "@jupyter-widgets/base",
            "_view_module_version": "1.2.0",
            "_view_name": "LayoutView",
            "align_content": null,
            "align_items": null,
            "align_self": null,
            "border": null,
            "bottom": null,
            "display": null,
            "flex": null,
            "flex_flow": null,
            "grid_area": null,
            "grid_auto_columns": null,
            "grid_auto_flow": null,
            "grid_auto_rows": null,
            "grid_column": null,
            "grid_gap": null,
            "grid_row": null,
            "grid_template_areas": null,
            "grid_template_columns": null,
            "grid_template_rows": null,
            "height": null,
            "justify_content": null,
            "justify_items": null,
            "left": null,
            "margin": null,
            "max_height": null,
            "max_width": null,
            "min_height": null,
            "min_width": null,
            "object_fit": null,
            "object_position": null,
            "order": null,
            "overflow": null,
            "overflow_x": null,
            "overflow_y": null,
            "padding": null,
            "right": null,
            "top": null,
            "visibility": null,
            "width": null
          }
        },
        "f330ec558dd14e4e97336488104a8dab": {
          "model_module": "@jupyter-widgets/controls",
          "model_name": "DescriptionStyleModel",
          "model_module_version": "1.5.0",
          "state": {
            "_model_module": "@jupyter-widgets/controls",
            "_model_module_version": "1.5.0",
            "_model_name": "DescriptionStyleModel",
            "_view_count": null,
            "_view_module": "@jupyter-widgets/base",
            "_view_module_version": "1.2.0",
            "_view_name": "StyleView",
            "description_width": ""
          }
        },
        "110855fb51064631b644124cc5ea9834": {
          "model_module": "@jupyter-widgets/base",
          "model_name": "LayoutModel",
          "model_module_version": "1.2.0",
          "state": {
            "_model_module": "@jupyter-widgets/base",
            "_model_module_version": "1.2.0",
            "_model_name": "LayoutModel",
            "_view_count": null,
            "_view_module": "@jupyter-widgets/base",
            "_view_module_version": "1.2.0",
            "_view_name": "LayoutView",
            "align_content": null,
            "align_items": null,
            "align_self": null,
            "border": null,
            "bottom": null,
            "display": null,
            "flex": null,
            "flex_flow": null,
            "grid_area": null,
            "grid_auto_columns": null,
            "grid_auto_flow": null,
            "grid_auto_rows": null,
            "grid_column": null,
            "grid_gap": null,
            "grid_row": null,
            "grid_template_areas": null,
            "grid_template_columns": null,
            "grid_template_rows": null,
            "height": null,
            "justify_content": null,
            "justify_items": null,
            "left": null,
            "margin": null,
            "max_height": null,
            "max_width": null,
            "min_height": null,
            "min_width": null,
            "object_fit": null,
            "object_position": null,
            "order": null,
            "overflow": null,
            "overflow_x": null,
            "overflow_y": null,
            "padding": null,
            "right": null,
            "top": null,
            "visibility": null,
            "width": null
          }
        },
        "7eefa79860144f85a311f9db7589347e": {
          "model_module": "@jupyter-widgets/controls",
          "model_name": "ProgressStyleModel",
          "model_module_version": "1.5.0",
          "state": {
            "_model_module": "@jupyter-widgets/controls",
            "_model_module_version": "1.5.0",
            "_model_name": "ProgressStyleModel",
            "_view_count": null,
            "_view_module": "@jupyter-widgets/base",
            "_view_module_version": "1.2.0",
            "_view_name": "StyleView",
            "bar_color": null,
            "description_width": ""
          }
        },
        "d165e84b8a1e4d31bbe9da8dbd083d4c": {
          "model_module": "@jupyter-widgets/base",
          "model_name": "LayoutModel",
          "model_module_version": "1.2.0",
          "state": {
            "_model_module": "@jupyter-widgets/base",
            "_model_module_version": "1.2.0",
            "_model_name": "LayoutModel",
            "_view_count": null,
            "_view_module": "@jupyter-widgets/base",
            "_view_module_version": "1.2.0",
            "_view_name": "LayoutView",
            "align_content": null,
            "align_items": null,
            "align_self": null,
            "border": null,
            "bottom": null,
            "display": null,
            "flex": null,
            "flex_flow": null,
            "grid_area": null,
            "grid_auto_columns": null,
            "grid_auto_flow": null,
            "grid_auto_rows": null,
            "grid_column": null,
            "grid_gap": null,
            "grid_row": null,
            "grid_template_areas": null,
            "grid_template_columns": null,
            "grid_template_rows": null,
            "height": null,
            "justify_content": null,
            "justify_items": null,
            "left": null,
            "margin": null,
            "max_height": null,
            "max_width": null,
            "min_height": null,
            "min_width": null,
            "object_fit": null,
            "object_position": null,
            "order": null,
            "overflow": null,
            "overflow_x": null,
            "overflow_y": null,
            "padding": null,
            "right": null,
            "top": null,
            "visibility": null,
            "width": null
          }
        },
        "afef9466d6504c9e97eb94e9285ec295": {
          "model_module": "@jupyter-widgets/controls",
          "model_name": "DescriptionStyleModel",
          "model_module_version": "1.5.0",
          "state": {
            "_model_module": "@jupyter-widgets/controls",
            "_model_module_version": "1.5.0",
            "_model_name": "DescriptionStyleModel",
            "_view_count": null,
            "_view_module": "@jupyter-widgets/base",
            "_view_module_version": "1.2.0",
            "_view_name": "StyleView",
            "description_width": ""
          }
        },
        "a4e6cdede6054ddd949080a8f4e4d754": {
          "model_module": "@jupyter-widgets/controls",
          "model_name": "HBoxModel",
          "model_module_version": "1.5.0",
          "state": {
            "_dom_classes": [],
            "_model_module": "@jupyter-widgets/controls",
            "_model_module_version": "1.5.0",
            "_model_name": "HBoxModel",
            "_view_count": null,
            "_view_module": "@jupyter-widgets/controls",
            "_view_module_version": "1.5.0",
            "_view_name": "HBoxView",
            "box_style": "",
            "children": [
              "IPY_MODEL_1f9fed7cf66340a3a81f490ecffc3db7",
              "IPY_MODEL_7d3f962aedaf43a4bb1eb6d96699411a",
              "IPY_MODEL_d7dc6e5a471d484b8a3960643f9550b6"
            ],
            "layout": "IPY_MODEL_b7e1b145468e42de8c67e5756c6e61fa"
          }
        },
        "1f9fed7cf66340a3a81f490ecffc3db7": {
          "model_module": "@jupyter-widgets/controls",
          "model_name": "HTMLModel",
          "model_module_version": "1.5.0",
          "state": {
            "_dom_classes": [],
            "_model_module": "@jupyter-widgets/controls",
            "_model_module_version": "1.5.0",
            "_model_name": "HTMLModel",
            "_view_count": null,
            "_view_module": "@jupyter-widgets/controls",
            "_view_module_version": "1.5.0",
            "_view_name": "HTMLView",
            "description": "",
            "description_tooltip": null,
            "layout": "IPY_MODEL_802291d54c1c41689f3f88e7fe634aaa",
            "placeholder": "​",
            "style": "IPY_MODEL_52025824b9bf4709bf8e04d555a07e46",
            "value": "vocab.txt: 100%"
          }
        },
        "7d3f962aedaf43a4bb1eb6d96699411a": {
          "model_module": "@jupyter-widgets/controls",
          "model_name": "FloatProgressModel",
          "model_module_version": "1.5.0",
          "state": {
            "_dom_classes": [],
            "_model_module": "@jupyter-widgets/controls",
            "_model_module_version": "1.5.0",
            "_model_name": "FloatProgressModel",
            "_view_count": null,
            "_view_module": "@jupyter-widgets/controls",
            "_view_module_version": "1.5.0",
            "_view_name": "ProgressView",
            "bar_style": "success",
            "description": "",
            "description_tooltip": null,
            "layout": "IPY_MODEL_decd47f6ec6741d4a802f6143aadb1cc",
            "max": 213450,
            "min": 0,
            "orientation": "horizontal",
            "style": "IPY_MODEL_c98d1423a4ce408093ea57c5aacdf07c",
            "value": 213450
          }
        },
        "d7dc6e5a471d484b8a3960643f9550b6": {
          "model_module": "@jupyter-widgets/controls",
          "model_name": "HTMLModel",
          "model_module_version": "1.5.0",
          "state": {
            "_dom_classes": [],
            "_model_module": "@jupyter-widgets/controls",
            "_model_module_version": "1.5.0",
            "_model_name": "HTMLModel",
            "_view_count": null,
            "_view_module": "@jupyter-widgets/controls",
            "_view_module_version": "1.5.0",
            "_view_name": "HTMLView",
            "description": "",
            "description_tooltip": null,
            "layout": "IPY_MODEL_c550d9dbb0a142e2a647a28ce1c00ad7",
            "placeholder": "​",
            "style": "IPY_MODEL_2bc4aba89904412fb9a70d231e5f3943",
            "value": " 213k/213k [00:00&lt;00:00, 9.37MB/s]"
          }
        },
        "b7e1b145468e42de8c67e5756c6e61fa": {
          "model_module": "@jupyter-widgets/base",
          "model_name": "LayoutModel",
          "model_module_version": "1.2.0",
          "state": {
            "_model_module": "@jupyter-widgets/base",
            "_model_module_version": "1.2.0",
            "_model_name": "LayoutModel",
            "_view_count": null,
            "_view_module": "@jupyter-widgets/base",
            "_view_module_version": "1.2.0",
            "_view_name": "LayoutView",
            "align_content": null,
            "align_items": null,
            "align_self": null,
            "border": null,
            "bottom": null,
            "display": null,
            "flex": null,
            "flex_flow": null,
            "grid_area": null,
            "grid_auto_columns": null,
            "grid_auto_flow": null,
            "grid_auto_rows": null,
            "grid_column": null,
            "grid_gap": null,
            "grid_row": null,
            "grid_template_areas": null,
            "grid_template_columns": null,
            "grid_template_rows": null,
            "height": null,
            "justify_content": null,
            "justify_items": null,
            "left": null,
            "margin": null,
            "max_height": null,
            "max_width": null,
            "min_height": null,
            "min_width": null,
            "object_fit": null,
            "object_position": null,
            "order": null,
            "overflow": null,
            "overflow_x": null,
            "overflow_y": null,
            "padding": null,
            "right": null,
            "top": null,
            "visibility": null,
            "width": null
          }
        },
        "802291d54c1c41689f3f88e7fe634aaa": {
          "model_module": "@jupyter-widgets/base",
          "model_name": "LayoutModel",
          "model_module_version": "1.2.0",
          "state": {
            "_model_module": "@jupyter-widgets/base",
            "_model_module_version": "1.2.0",
            "_model_name": "LayoutModel",
            "_view_count": null,
            "_view_module": "@jupyter-widgets/base",
            "_view_module_version": "1.2.0",
            "_view_name": "LayoutView",
            "align_content": null,
            "align_items": null,
            "align_self": null,
            "border": null,
            "bottom": null,
            "display": null,
            "flex": null,
            "flex_flow": null,
            "grid_area": null,
            "grid_auto_columns": null,
            "grid_auto_flow": null,
            "grid_auto_rows": null,
            "grid_column": null,
            "grid_gap": null,
            "grid_row": null,
            "grid_template_areas": null,
            "grid_template_columns": null,
            "grid_template_rows": null,
            "height": null,
            "justify_content": null,
            "justify_items": null,
            "left": null,
            "margin": null,
            "max_height": null,
            "max_width": null,
            "min_height": null,
            "min_width": null,
            "object_fit": null,
            "object_position": null,
            "order": null,
            "overflow": null,
            "overflow_x": null,
            "overflow_y": null,
            "padding": null,
            "right": null,
            "top": null,
            "visibility": null,
            "width": null
          }
        },
        "52025824b9bf4709bf8e04d555a07e46": {
          "model_module": "@jupyter-widgets/controls",
          "model_name": "DescriptionStyleModel",
          "model_module_version": "1.5.0",
          "state": {
            "_model_module": "@jupyter-widgets/controls",
            "_model_module_version": "1.5.0",
            "_model_name": "DescriptionStyleModel",
            "_view_count": null,
            "_view_module": "@jupyter-widgets/base",
            "_view_module_version": "1.2.0",
            "_view_name": "StyleView",
            "description_width": ""
          }
        },
        "decd47f6ec6741d4a802f6143aadb1cc": {
          "model_module": "@jupyter-widgets/base",
          "model_name": "LayoutModel",
          "model_module_version": "1.2.0",
          "state": {
            "_model_module": "@jupyter-widgets/base",
            "_model_module_version": "1.2.0",
            "_model_name": "LayoutModel",
            "_view_count": null,
            "_view_module": "@jupyter-widgets/base",
            "_view_module_version": "1.2.0",
            "_view_name": "LayoutView",
            "align_content": null,
            "align_items": null,
            "align_self": null,
            "border": null,
            "bottom": null,
            "display": null,
            "flex": null,
            "flex_flow": null,
            "grid_area": null,
            "grid_auto_columns": null,
            "grid_auto_flow": null,
            "grid_auto_rows": null,
            "grid_column": null,
            "grid_gap": null,
            "grid_row": null,
            "grid_template_areas": null,
            "grid_template_columns": null,
            "grid_template_rows": null,
            "height": null,
            "justify_content": null,
            "justify_items": null,
            "left": null,
            "margin": null,
            "max_height": null,
            "max_width": null,
            "min_height": null,
            "min_width": null,
            "object_fit": null,
            "object_position": null,
            "order": null,
            "overflow": null,
            "overflow_x": null,
            "overflow_y": null,
            "padding": null,
            "right": null,
            "top": null,
            "visibility": null,
            "width": null
          }
        },
        "c98d1423a4ce408093ea57c5aacdf07c": {
          "model_module": "@jupyter-widgets/controls",
          "model_name": "ProgressStyleModel",
          "model_module_version": "1.5.0",
          "state": {
            "_model_module": "@jupyter-widgets/controls",
            "_model_module_version": "1.5.0",
            "_model_name": "ProgressStyleModel",
            "_view_count": null,
            "_view_module": "@jupyter-widgets/base",
            "_view_module_version": "1.2.0",
            "_view_name": "StyleView",
            "bar_color": null,
            "description_width": ""
          }
        },
        "c550d9dbb0a142e2a647a28ce1c00ad7": {
          "model_module": "@jupyter-widgets/base",
          "model_name": "LayoutModel",
          "model_module_version": "1.2.0",
          "state": {
            "_model_module": "@jupyter-widgets/base",
            "_model_module_version": "1.2.0",
            "_model_name": "LayoutModel",
            "_view_count": null,
            "_view_module": "@jupyter-widgets/base",
            "_view_module_version": "1.2.0",
            "_view_name": "LayoutView",
            "align_content": null,
            "align_items": null,
            "align_self": null,
            "border": null,
            "bottom": null,
            "display": null,
            "flex": null,
            "flex_flow": null,
            "grid_area": null,
            "grid_auto_columns": null,
            "grid_auto_flow": null,
            "grid_auto_rows": null,
            "grid_column": null,
            "grid_gap": null,
            "grid_row": null,
            "grid_template_areas": null,
            "grid_template_columns": null,
            "grid_template_rows": null,
            "height": null,
            "justify_content": null,
            "justify_items": null,
            "left": null,
            "margin": null,
            "max_height": null,
            "max_width": null,
            "min_height": null,
            "min_width": null,
            "object_fit": null,
            "object_position": null,
            "order": null,
            "overflow": null,
            "overflow_x": null,
            "overflow_y": null,
            "padding": null,
            "right": null,
            "top": null,
            "visibility": null,
            "width": null
          }
        },
        "2bc4aba89904412fb9a70d231e5f3943": {
          "model_module": "@jupyter-widgets/controls",
          "model_name": "DescriptionStyleModel",
          "model_module_version": "1.5.0",
          "state": {
            "_model_module": "@jupyter-widgets/controls",
            "_model_module_version": "1.5.0",
            "_model_name": "DescriptionStyleModel",
            "_view_count": null,
            "_view_module": "@jupyter-widgets/base",
            "_view_module_version": "1.2.0",
            "_view_name": "StyleView",
            "description_width": ""
          }
        },
        "90afbf9229904ff99a109a8ee1e5427f": {
          "model_module": "@jupyter-widgets/controls",
          "model_name": "HBoxModel",
          "model_module_version": "1.5.0",
          "state": {
            "_dom_classes": [],
            "_model_module": "@jupyter-widgets/controls",
            "_model_module_version": "1.5.0",
            "_model_name": "HBoxModel",
            "_view_count": null,
            "_view_module": "@jupyter-widgets/controls",
            "_view_module_version": "1.5.0",
            "_view_name": "HBoxView",
            "box_style": "",
            "children": [
              "IPY_MODEL_269b6d0173c74a988c4a2e35f43d10af",
              "IPY_MODEL_078142a7f9fc460d8c278f2b4d0e5418",
              "IPY_MODEL_793d8e84153246929d0e66e6f842ee92"
            ],
            "layout": "IPY_MODEL_e4f31c60b58649d3b0acb5456c5468da"
          }
        },
        "269b6d0173c74a988c4a2e35f43d10af": {
          "model_module": "@jupyter-widgets/controls",
          "model_name": "HTMLModel",
          "model_module_version": "1.5.0",
          "state": {
            "_dom_classes": [],
            "_model_module": "@jupyter-widgets/controls",
            "_model_module_version": "1.5.0",
            "_model_name": "HTMLModel",
            "_view_count": null,
            "_view_module": "@jupyter-widgets/controls",
            "_view_module_version": "1.5.0",
            "_view_name": "HTMLView",
            "description": "",
            "description_tooltip": null,
            "layout": "IPY_MODEL_9e06fb7120964148af32110448c76c97",
            "placeholder": "​",
            "style": "IPY_MODEL_758b30436be64a4db414ff989e2491b9",
            "value": "pytorch_model.bin: 100%"
          }
        },
        "078142a7f9fc460d8c278f2b4d0e5418": {
          "model_module": "@jupyter-widgets/controls",
          "model_name": "FloatProgressModel",
          "model_module_version": "1.5.0",
          "state": {
            "_dom_classes": [],
            "_model_module": "@jupyter-widgets/controls",
            "_model_module_version": "1.5.0",
            "_model_name": "FloatProgressModel",
            "_view_count": null,
            "_view_module": "@jupyter-widgets/controls",
            "_view_module_version": "1.5.0",
            "_view_name": "ProgressView",
            "bar_style": "success",
            "description": "",
            "description_tooltip": null,
            "layout": "IPY_MODEL_647037bb311c4fc2aef91acee669220e",
            "max": 435783451,
            "min": 0,
            "orientation": "horizontal",
            "style": "IPY_MODEL_a73537372a92461ba688f583e519504c",
            "value": 435783451
          }
        },
        "793d8e84153246929d0e66e6f842ee92": {
          "model_module": "@jupyter-widgets/controls",
          "model_name": "HTMLModel",
          "model_module_version": "1.5.0",
          "state": {
            "_dom_classes": [],
            "_model_module": "@jupyter-widgets/controls",
            "_model_module_version": "1.5.0",
            "_model_name": "HTMLModel",
            "_view_count": null,
            "_view_module": "@jupyter-widgets/controls",
            "_view_module_version": "1.5.0",
            "_view_name": "HTMLView",
            "description": "",
            "description_tooltip": null,
            "layout": "IPY_MODEL_6a8acd5da31349c2b43ca3fbf486e8b4",
            "placeholder": "​",
            "style": "IPY_MODEL_1629ae91da7c42198b3406843f90aff9",
            "value": " 436M/436M [00:01&lt;00:00, 402MB/s]"
          }
        },
        "e4f31c60b58649d3b0acb5456c5468da": {
          "model_module": "@jupyter-widgets/base",
          "model_name": "LayoutModel",
          "model_module_version": "1.2.0",
          "state": {
            "_model_module": "@jupyter-widgets/base",
            "_model_module_version": "1.2.0",
            "_model_name": "LayoutModel",
            "_view_count": null,
            "_view_module": "@jupyter-widgets/base",
            "_view_module_version": "1.2.0",
            "_view_name": "LayoutView",
            "align_content": null,
            "align_items": null,
            "align_self": null,
            "border": null,
            "bottom": null,
            "display": null,
            "flex": null,
            "flex_flow": null,
            "grid_area": null,
            "grid_auto_columns": null,
            "grid_auto_flow": null,
            "grid_auto_rows": null,
            "grid_column": null,
            "grid_gap": null,
            "grid_row": null,
            "grid_template_areas": null,
            "grid_template_columns": null,
            "grid_template_rows": null,
            "height": null,
            "justify_content": null,
            "justify_items": null,
            "left": null,
            "margin": null,
            "max_height": null,
            "max_width": null,
            "min_height": null,
            "min_width": null,
            "object_fit": null,
            "object_position": null,
            "order": null,
            "overflow": null,
            "overflow_x": null,
            "overflow_y": null,
            "padding": null,
            "right": null,
            "top": null,
            "visibility": null,
            "width": null
          }
        },
        "9e06fb7120964148af32110448c76c97": {
          "model_module": "@jupyter-widgets/base",
          "model_name": "LayoutModel",
          "model_module_version": "1.2.0",
          "state": {
            "_model_module": "@jupyter-widgets/base",
            "_model_module_version": "1.2.0",
            "_model_name": "LayoutModel",
            "_view_count": null,
            "_view_module": "@jupyter-widgets/base",
            "_view_module_version": "1.2.0",
            "_view_name": "LayoutView",
            "align_content": null,
            "align_items": null,
            "align_self": null,
            "border": null,
            "bottom": null,
            "display": null,
            "flex": null,
            "flex_flow": null,
            "grid_area": null,
            "grid_auto_columns": null,
            "grid_auto_flow": null,
            "grid_auto_rows": null,
            "grid_column": null,
            "grid_gap": null,
            "grid_row": null,
            "grid_template_areas": null,
            "grid_template_columns": null,
            "grid_template_rows": null,
            "height": null,
            "justify_content": null,
            "justify_items": null,
            "left": null,
            "margin": null,
            "max_height": null,
            "max_width": null,
            "min_height": null,
            "min_width": null,
            "object_fit": null,
            "object_position": null,
            "order": null,
            "overflow": null,
            "overflow_x": null,
            "overflow_y": null,
            "padding": null,
            "right": null,
            "top": null,
            "visibility": null,
            "width": null
          }
        },
        "758b30436be64a4db414ff989e2491b9": {
          "model_module": "@jupyter-widgets/controls",
          "model_name": "DescriptionStyleModel",
          "model_module_version": "1.5.0",
          "state": {
            "_model_module": "@jupyter-widgets/controls",
            "_model_module_version": "1.5.0",
            "_model_name": "DescriptionStyleModel",
            "_view_count": null,
            "_view_module": "@jupyter-widgets/base",
            "_view_module_version": "1.2.0",
            "_view_name": "StyleView",
            "description_width": ""
          }
        },
        "647037bb311c4fc2aef91acee669220e": {
          "model_module": "@jupyter-widgets/base",
          "model_name": "LayoutModel",
          "model_module_version": "1.2.0",
          "state": {
            "_model_module": "@jupyter-widgets/base",
            "_model_module_version": "1.2.0",
            "_model_name": "LayoutModel",
            "_view_count": null,
            "_view_module": "@jupyter-widgets/base",
            "_view_module_version": "1.2.0",
            "_view_name": "LayoutView",
            "align_content": null,
            "align_items": null,
            "align_self": null,
            "border": null,
            "bottom": null,
            "display": null,
            "flex": null,
            "flex_flow": null,
            "grid_area": null,
            "grid_auto_columns": null,
            "grid_auto_flow": null,
            "grid_auto_rows": null,
            "grid_column": null,
            "grid_gap": null,
            "grid_row": null,
            "grid_template_areas": null,
            "grid_template_columns": null,
            "grid_template_rows": null,
            "height": null,
            "justify_content": null,
            "justify_items": null,
            "left": null,
            "margin": null,
            "max_height": null,
            "max_width": null,
            "min_height": null,
            "min_width": null,
            "object_fit": null,
            "object_position": null,
            "order": null,
            "overflow": null,
            "overflow_x": null,
            "overflow_y": null,
            "padding": null,
            "right": null,
            "top": null,
            "visibility": null,
            "width": null
          }
        },
        "a73537372a92461ba688f583e519504c": {
          "model_module": "@jupyter-widgets/controls",
          "model_name": "ProgressStyleModel",
          "model_module_version": "1.5.0",
          "state": {
            "_model_module": "@jupyter-widgets/controls",
            "_model_module_version": "1.5.0",
            "_model_name": "ProgressStyleModel",
            "_view_count": null,
            "_view_module": "@jupyter-widgets/base",
            "_view_module_version": "1.2.0",
            "_view_name": "StyleView",
            "bar_color": null,
            "description_width": ""
          }
        },
        "6a8acd5da31349c2b43ca3fbf486e8b4": {
          "model_module": "@jupyter-widgets/base",
          "model_name": "LayoutModel",
          "model_module_version": "1.2.0",
          "state": {
            "_model_module": "@jupyter-widgets/base",
            "_model_module_version": "1.2.0",
            "_model_name": "LayoutModel",
            "_view_count": null,
            "_view_module": "@jupyter-widgets/base",
            "_view_module_version": "1.2.0",
            "_view_name": "LayoutView",
            "align_content": null,
            "align_items": null,
            "align_self": null,
            "border": null,
            "bottom": null,
            "display": null,
            "flex": null,
            "flex_flow": null,
            "grid_area": null,
            "grid_auto_columns": null,
            "grid_auto_flow": null,
            "grid_auto_rows": null,
            "grid_column": null,
            "grid_gap": null,
            "grid_row": null,
            "grid_template_areas": null,
            "grid_template_columns": null,
            "grid_template_rows": null,
            "height": null,
            "justify_content": null,
            "justify_items": null,
            "left": null,
            "margin": null,
            "max_height": null,
            "max_width": null,
            "min_height": null,
            "min_width": null,
            "object_fit": null,
            "object_position": null,
            "order": null,
            "overflow": null,
            "overflow_x": null,
            "overflow_y": null,
            "padding": null,
            "right": null,
            "top": null,
            "visibility": null,
            "width": null
          }
        },
        "1629ae91da7c42198b3406843f90aff9": {
          "model_module": "@jupyter-widgets/controls",
          "model_name": "DescriptionStyleModel",
          "model_module_version": "1.5.0",
          "state": {
            "_model_module": "@jupyter-widgets/controls",
            "_model_module_version": "1.5.0",
            "_model_name": "DescriptionStyleModel",
            "_view_count": null,
            "_view_module": "@jupyter-widgets/base",
            "_view_module_version": "1.2.0",
            "_view_name": "StyleView",
            "description_width": ""
          }
        }
      }
    }
  },
  "nbformat": 4,
  "nbformat_minor": 0
}