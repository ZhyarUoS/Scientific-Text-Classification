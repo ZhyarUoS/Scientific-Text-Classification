{
  "cells": [
    {
      "cell_type": "code",
      "execution_count": 33,
      "metadata": {
        "colab": {
          "base_uri": "https://localhost:8080/"
        },
        "id": "iRuetRKhDN59",
        "outputId": "8cffd255-f193-4e26-a2a1-24c913dd2a9e"
      },
      "outputs": [
        {
          "output_type": "stream",
          "name": "stdout",
          "text": [
            "Mon Jul 29 16:52:01 2024       \n",
            "+---------------------------------------------------------------------------------------+\n",
            "| NVIDIA-SMI 535.104.05             Driver Version: 535.104.05   CUDA Version: 12.2     |\n",
            "|-----------------------------------------+----------------------+----------------------+\n",
            "| GPU  Name                 Persistence-M | Bus-Id        Disp.A | Volatile Uncorr. ECC |\n",
            "| Fan  Temp   Perf          Pwr:Usage/Cap |         Memory-Usage | GPU-Util  Compute M. |\n",
            "|                                         |                      |               MIG M. |\n",
            "|=========================================+======================+======================|\n",
            "|   0  Tesla T4                       Off | 00000000:00:04.0 Off |                    0 |\n",
            "| N/A   72C    P0              30W /  70W |   4159MiB / 15360MiB |      0%      Default |\n",
            "|                                         |                      |                  N/A |\n",
            "+-----------------------------------------+----------------------+----------------------+\n",
            "                                                                                         \n",
            "+---------------------------------------------------------------------------------------+\n",
            "| Processes:                                                                            |\n",
            "|  GPU   GI   CI        PID   Type   Process name                            GPU Memory |\n",
            "|        ID   ID                                                             Usage      |\n",
            "|=======================================================================================|\n",
            "+---------------------------------------------------------------------------------------+\n"
          ]
        }
      ],
      "source": [
        "gpu_info = !nvidia-smi\n",
        "gpu_info = '\\n'.join(gpu_info)\n",
        "if gpu_info.find('failed') >= 0:\n",
        "  print('Not connected to a GPU')\n",
        "else:\n",
        "  print(gpu_info)"
      ]
    },
    {
      "cell_type": "code",
      "execution_count": 34,
      "metadata": {
        "colab": {
          "base_uri": "https://localhost:8080/"
        },
        "id": "7BMB0YxADN5-",
        "outputId": "376a9d42-308c-48e0-8bfb-1c9a84d9c2de"
      },
      "outputs": [
        {
          "output_type": "stream",
          "name": "stdout",
          "text": [
            "Your runtime has 54.8 gigabytes of available RAM\n",
            "\n",
            "You are using a high-RAM runtime!\n"
          ]
        }
      ],
      "source": [
        "from psutil import virtual_memory\n",
        "ram_gb = virtual_memory().total / 1e9\n",
        "print('Your runtime has {:.1f} gigabytes of available RAM\\n'.format(ram_gb))\n",
        "\n",
        "if ram_gb < 20:\n",
        "  print('Not using a high-RAM runtime')\n",
        "else:\n",
        "  print('You are using a high-RAM runtime!')"
      ]
    },
    {
      "cell_type": "code",
      "execution_count": 35,
      "metadata": {
        "colab": {
          "base_uri": "https://localhost:8080/"
        },
        "id": "e2qEb3ivDN5-",
        "outputId": "5b09f1c2-4a37-4058-b87c-8e6f7094b228"
      },
      "outputs": [
        {
          "output_type": "stream",
          "name": "stdout",
          "text": [
            "Drive already mounted at /content/drive; to attempt to forcibly remount, call drive.mount(\"/content/drive\", force_remount=True).\n"
          ]
        }
      ],
      "source": [
        "from google.colab import drive\n",
        "drive.mount('/content/drive')"
      ]
    },
    {
      "cell_type": "code",
      "execution_count": 36,
      "metadata": {
        "colab": {
          "base_uri": "https://localhost:8080/"
        },
        "id": "ZRaneJBnDN5_",
        "outputId": "cf79b160-48eb-41d5-944b-741c96fdf66a"
      },
      "outputs": [
        {
          "output_type": "stream",
          "name": "stdout",
          "text": [
            "Requirement already satisfied: transformers in /usr/local/lib/python3.10/dist-packages (4.42.4)\n",
            "Requirement already satisfied: filelock in /usr/local/lib/python3.10/dist-packages (from transformers) (3.15.4)\n",
            "Requirement already satisfied: huggingface-hub<1.0,>=0.23.2 in /usr/local/lib/python3.10/dist-packages (from transformers) (0.23.5)\n",
            "Requirement already satisfied: numpy<2.0,>=1.17 in /usr/local/lib/python3.10/dist-packages (from transformers) (1.25.2)\n",
            "Requirement already satisfied: packaging>=20.0 in /usr/local/lib/python3.10/dist-packages (from transformers) (24.1)\n",
            "Requirement already satisfied: pyyaml>=5.1 in /usr/local/lib/python3.10/dist-packages (from transformers) (6.0.1)\n",
            "Requirement already satisfied: regex!=2019.12.17 in /usr/local/lib/python3.10/dist-packages (from transformers) (2024.5.15)\n",
            "Requirement already satisfied: requests in /usr/local/lib/python3.10/dist-packages (from transformers) (2.31.0)\n",
            "Requirement already satisfied: safetensors>=0.4.1 in /usr/local/lib/python3.10/dist-packages (from transformers) (0.4.3)\n",
            "Requirement already satisfied: tokenizers<0.20,>=0.19 in /usr/local/lib/python3.10/dist-packages (from transformers) (0.19.1)\n",
            "Requirement already satisfied: tqdm>=4.27 in /usr/local/lib/python3.10/dist-packages (from transformers) (4.66.4)\n",
            "Requirement already satisfied: fsspec>=2023.5.0 in /usr/local/lib/python3.10/dist-packages (from huggingface-hub<1.0,>=0.23.2->transformers) (2024.6.1)\n",
            "Requirement already satisfied: typing-extensions>=3.7.4.3 in /usr/local/lib/python3.10/dist-packages (from huggingface-hub<1.0,>=0.23.2->transformers) (4.12.2)\n",
            "Requirement already satisfied: charset-normalizer<4,>=2 in /usr/local/lib/python3.10/dist-packages (from requests->transformers) (3.3.2)\n",
            "Requirement already satisfied: idna<4,>=2.5 in /usr/local/lib/python3.10/dist-packages (from requests->transformers) (3.7)\n",
            "Requirement already satisfied: urllib3<3,>=1.21.1 in /usr/local/lib/python3.10/dist-packages (from requests->transformers) (2.0.7)\n",
            "Requirement already satisfied: certifi>=2017.4.17 in /usr/local/lib/python3.10/dist-packages (from requests->transformers) (2024.7.4)\n"
          ]
        }
      ],
      "source": [
        "!pip install transformers"
      ]
    },
    {
      "cell_type": "code",
      "execution_count": 37,
      "metadata": {
        "id": "jEVF9FbODN5_"
      },
      "outputs": [],
      "source": [
        "import os\n",
        "import numpy as np\n",
        "import pandas as pd\n",
        "from sklearn.model_selection import train_test_split\n",
        "from sklearn.metrics import confusion_matrix, classification_report, f1_score, precision_score, recall_score\n",
        "from transformers import AutoTokenizer, AutoModelForSequenceClassification, AdamW, get_linear_schedule_with_warmup\n",
        "import torch\n",
        "from torch.utils.data import DataLoader, TensorDataset, RandomSampler, SequentialSampler\n",
        "import torch.nn.functional as F\n",
        "from tqdm import trange, tqdm\n",
        "import matplotlib.pyplot as plt\n",
        "import sklearn.utils\n",
        "import time\n",
        "import re\n"
      ]
    },
    {
      "cell_type": "code",
      "execution_count": 38,
      "metadata": {
        "colab": {
          "base_uri": "https://localhost:8080/"
        },
        "id": "d84lKOxcDN5_",
        "outputId": "cc59657c-b3bc-438e-ed4c-ff186ad0c671"
      },
      "outputs": [
        {
          "output_type": "stream",
          "name": "stdout",
          "text": [
            "(11967, 4)\n"
          ]
        }
      ],
      "source": [
        "# Retrive the data from stored dataset\n",
        "dataDir = \"/content/drive/MyDrive/WoS/data/X11967\"\n",
        "tsvData = os.path.join(dataDir,\"WoSDataset_11967.tsv\")\n",
        "\n",
        "tsvData = np.loadtxt(tsvData, dtype=str, delimiter=\"\\t\")\n",
        "print(np.shape(tsvData))"
      ]
    },
    {
      "cell_type": "code",
      "execution_count": 39,
      "metadata": {
        "colab": {
          "base_uri": "https://localhost:8080/"
        },
        "id": "FIYp3nhcDN5_",
        "outputId": "854a1f0a-9078-43e7-af7f-610e1a4d7283"
      },
      "outputs": [
        {
          "output_type": "stream",
          "name": "stdout",
          "text": [
            "[['2' 'Psychology'\n",
            "  ' interview anxiety interview performance person perception job interview        '\n",
            "  'the aim of this study was to investigate a the behavioral cues that are displayed by and trait judgments formed about anxious interviewees and b why anxious interviewees receive lower interview performance ratings the behavioral expression of interview anxiety model was created as a conceptual framework to explore these relations we videotaped and transcribed mock job interviews obtained ratings of interview anxiety and interview performance and trained raters to assess several verbal and nonverbal cues and trait judgments the results indicated that few behavioral cues but several traits were related to interviewee and interviewer ratings of interview anxiety two factors emerged from our factor analysis on the trait judgmentsassertiveness and interpersonal warmth mediation analyses were performed and indicated that assertiveness and interpersonal warmth mediated the relation between interview anxiety and interview performance speech rate words spoken per minute and assertiveness were found to mediate the relation between interviewee and interviewer ratings of interview anxiety overall the results indicated that interviewees should focus less on their nervous tics and more on the broader impressions that they convey our findings indicate that anxious interviewees may want to focus on how assertive and interpersonally warm they appear to interviewers to our knowledge this is the first study to use a validated interview anxiety measure to examine behavioral cues and traits exhibited by anxious interviewees we offer new insight into why anxious interviewees receive lower interview performance ratings']\n",
            " ['0' 'CS'\n",
            "  ' affective database anxiety depression depressionanxietystress scales dass emotional state handwriting random forests stress        '\n",
            "  'the detection of negative emotions through daily activities such as writing and drawing is useful for promoting wellbeing the spread of humanmachine interfaces such as tablets makes the collection of handwriting and drawing samples easier in this context we present a first publicly available database which relates emotional states to handwriting and drawing that we call emothaw emotion recognition from handwriting and drawing this database includes samples of 129 participants whose emotional states namely anxiety depression and stress are assessed by the depressionanxietystress scales dass questionnaire seven tasks are recorded through a digitizing tablet pentagons and house drawing words copied in handprint circles and clock drawing and one sentence copied in cursive writing records consist in pen positions onpaper and inair time stamp pressure pen azimuth and altitude we report our analysis on this database from collected data we first compute measurements related to timing and ductus we compute separate measurements according to the position of the writing device on paper or inair we analyze and classify this set of measurements referred to as features using a random forest approach this latter is a machine learning method 1 based on an ensemble of decision trees which includes a feature ranking process we use this ranking process to identify the features which best reveal a targeted emotional state we then build random forest classifiers associated with each emotional state we provide accuracy sensitivity and specificity evaluation measures obtained from crossvalidation experiments our results showthat anxiety and stress recognition perform better than depression recognition']\n",
            " ['6' 'biochemistry'\n",
            "  ' dna assembly preprocessing sequence alignment gpu computing        '\n",
            "  'dnarna sequencing has recently become a primary way researchers generate biological data for further analysis assembling algorithms are an integral part of this process however some of them require pairwise alignment to be applied to a great deal of reads although several efficient alignment tools have been released over the past few years including those taking advantage of gpus graphics processing units none of them directly targets highthroughput sequencing data as a result a need arose to create software that could handle such data as effectively as possible gdna gpubased dna aligner is the first highly parallel solution that has been optimized to process nucleotide reads dnarna from modern sequencing machines results show that the software reaches up to 89 gcups giga cell updates per second on a single gpu and as a result it is the fastest tool in its class moreover it scales up well on multiple gpus systems including mpibased computational clusters where its performance is counted in tcups tera cups']\n",
            " ['3' 'MAE'\n",
            "  ' induction machine multiphase machine startergenerator 48 v automotive applications thermal analysis thermal model hybrid vehicle        '\n",
            "  'primary european carmakers agree on a 48 v embeddedsupply to support the growing currentload requirements in modern vehicles the functionalities required to the startergenerator are the engine start up launch assistant torque regenerative braking battery charging and early fuel cut off the dynamic load profile and the harsh environment working conditions make thermal issues the key challenge in the machine design the paper presents the simulation and experimental test results of a belt driven startergenerator for 48 v mini hybrid powertrains in particular a double threephase 10 kw induction machine has been selected as the suitable candidate for the application in detail the authors illustrate the experimental calibration and validation of the steady state thermal model as well as the thermal characterization of a liquid cooled prototype finally the paper deals with the temperatures prediction of the motor working in different load conditions']\n",
            " ['5' 'Medical'\n",
            "  ' alcohol abuse chronic alcoholics liver damage skin manifestations        '\n",
            "  'background chronic alcohol intake impacts skin directly through organ dysfunction or by modifying preexisting dermatoses however dermatoses afflicting chronic alcoholics figure in a few studies only aim this study aims to correlate the spectrum of dermatoses in chronic alcoholics with the quantumduration of alcohol intake and raised liver transaminases materials and methods adult males totaling 196 ascertained to fulfill the royal college of psychiatry criteria for chronic alcoholism by the de addiction center and referred for dermatological consult were enrolled as cases and similar number of age sex matched teetotallers as controls data emanating from detailed history clinical examination and routine liver functions tests were summarized and subsequently analyzed including statistically using the chisquare independent t and spearmans rank correlation tests and compared with data from previous studies results majority 104 drank 4150 units of alcoholweek since 340 mean 2001  9322 years generalized pruritus odds ratio or 3115 p  0001 xerosis or 362 p  0008 and seborrheic dermatitis or 1226 p  0001 were significantly more common in cases than controls infections 73 372 eczemas 45 229 and generalized hyperpigmentation 28 142 were the major presenting complaints spider nevi gynecomastia and pellagroid dermatitis were present in 34 173 19 97 and 8 41 respectively exclusively in cases only commonly seen systemic abnormalities were an alcoholic liver disease 45 229 diabetes mellitus 23 117 and peripheral neuropathy 19 97 conclusion knowledge of cutaneous manifestations of chronic alcoholism could prompt indepth history taking of alcohol intake lead to specialist referral and thereby enable timely de addiction hopefully before serious adversities in the chronic alcoholics']\n",
            " ['4' 'Civil' ' service reputation trust evidence theory ami        '\n",
            "  'service reputation is a key factor for service selection and service composition in serviceoriented ambient intelligence systems hence service reputation computing should fully reflect the feature of multirating fusion and the utility value dynamic attenuation characters of the rating the paper combines ds evidence theory with dynamic attenuation and puts forward a service reputation computing algorithm based on multirating fusion which is adapted to the ambient intelligence systems first a layered computing model of the service reputation is given then a mechanism of dynamic attenuation based on time windows an objective rating and advertisement honesty rating of service and a user credibility computing algorithm are presented afterward the rating information is combined with the ds evidence theory to raise an aggregation algorithm of the service general reputation for the ambient intelligence environments finally a prototype test is carried out to verify the effectiveness and availability of the model together with the algorithms']\n",
            " ['3' 'MAE'\n",
            "  ' straightening thinwalled circular steel tube crosssectional ovalization maximal flattening plastic bending        '\n",
            "  'crosssectional ovalization of thinwalled circular steel tube because of large plastic bending also known as the brazier effect usually occurs during the initial stage of tubes continuous rotary straightening process the amount of ovalization defined as maximal cross section flattening is an important technical parameter in tubes straightening process to control tubes bending deformation and prevent buckling however for the lack of special analytical model the maximal section flattening was determined in accordance with the specified charts developed by experienced operators on the basis of experimental data thus it was inevitable that the localized buckling might occur during some actual straightening operations new normal strain component formulas were derived based on the thin shell theory then strain energy of thinwalled tube per unit length was obtained using the elasticplastic theory a rational model for predicting the maximal section flattening of the thinwalled circular steel tube under its straightening process was presented by the principle of minimum potential energy the new model was validated by experiments and numerical simulations the results show that the new model agrees well with the experiments and the numerical simulations with error of less than 10 this new model was expected to find its potential application in thinwalled steel tube straightening machine design']\n",
            " ['1' 'ECE'\n",
            "  ' envelopefollowing methods simulation of switching power converters timedomain simulation highorder stable methods        '\n",
            "  'transient analysis of switching power converter spc circuits is a computationally expensive task this high expense arises from the fact that these circuits are driven by a clock with a period that is very small compared to the time interval the designer is typically interested in envelopefollowing ef technique has been recently proposed in the literature for efficient timedomain simulation of spc circuits in this paper a parallel highorder ef method which is based on obreshkovformula is presented for analysis of spc circuits a numerical example is presented to demonstrate the efficiency and scalability of the proposed method on parallel platforms']\n",
            " ['1' 'ECE'\n",
            "  ' flash flood electrical circuit analogy weibull distribution distributed modelling        '\n",
            "  'the assessment and prevention of floods require appropriate forecasting and knowledge of the related hydrological processes due to the similar form of the governing equations flood hydrograph shows a clear analytical and mathematical analogy with electrical circuits in this paper a spatially distributed hydrological model is developed which is analogue to a network of electrical resistancecapacitance with five circuits for describing the hydrological processes leading to floods the spatially distributed hydrological model simulates rainfall potential evapotranspiration canopy interception surface storage and soil storage the parameters for analogical modelling were derived from translation of the physical catchment characteristics a twoparameter weibull equation aggregates the response functions of each pixel and calculates the hydrograph of the catchment we applied the model to the openbook or tilted vcatchment theoretical benchmark problem as well as to four hourly flood events and simulation of daily discharges for the last two cases data were used from the mountainous catchment of upper tarqui in the andes of ecuador comparison of single versus multiple circuit designs for the benchmark problem indicates that the multiple circuit analogy provides a result similar to other hydrological models the results further illustrate the usefulness of the methodology for flood modelling and how it can simplify the simulation for ungauged basins of temporal and spatial variations of influencing hydrological processes']\n",
            " ['3' 'MAE'\n",
            "  ' ski motion analysis posture joint angle inertial sensor sensor fusion        '\n",
            "  'this paper deals with the motion analysis of skier gliding on the actual snow field using inertial sensors it is difficult to measure the motion of skier gliding on the actual snow field since the gliding velocity is fast and the measurement area is large therefore few studies have analyzed ski turns in gliding on the actual snow field it is necessary to analyze the skier gliding on the actual snow field in resolving the mechanism of ski turns in our previous study we developed the motion measurement method of skier using inertial and magnetic field sensors the 3d posture is estimated by applying the sensor fusion method and the method can estimate the 3d posture compensating the drift error of gyro sensor and reducing the effect of dynamic acceleration of accelerometer furthermore we developed the sensor fusion method estimating the 3d posture in local coordinate by the information of inertial sensors attaching the body segments the joint angle of skier in gliding on the actual snow field can be estimated by this method and inverse kinematics we conducted the measurement experiment by skier gliding on the actual snow field the inertial sensors and the gps receiver were attached to the body segments and the top of skier respectively skier conducted carving and skidding turns in this experiment we calculated the joint angles of skier by the information of inertial sensors and the switchovers of turns are estimated by the gps receiver output the results of motion analysis indicated the major feature of skiers motion and the difference between carving and skidding turns therefore the analysis results can be used to the skill rating the clarification of the mechanism of ski turns and the suggestion of more ideal turning form c 2013 the authors published by elsevier ltd selection and peerreview under responsibility of the school of aerospace mechanical and manufacturing engineering rmit university']]\n"
          ]
        }
      ],
      "source": [
        "print(tsvData[0:10])"
      ]
    },
    {
      "cell_type": "code",
      "execution_count": 40,
      "metadata": {
        "id": "WUvZlOibDN5_"
      },
      "outputs": [],
      "source": [
        "allLabels = tsvData[:,0]\n",
        "domains = tsvData[:,1]\n",
        "keywords = tsvData[:,2]\n",
        "abstracts = tsvData[:,3]"
      ]
    },
    {
      "cell_type": "code",
      "execution_count": 41,
      "metadata": {
        "colab": {
          "base_uri": "https://localhost:8080/"
        },
        "id": "SE5jkqySDN6A",
        "outputId": "14123d76-ca41-4394-8a80-386997de36a8"
      },
      "outputs": [
        {
          "output_type": "stream",
          "name": "stdout",
          "text": [
            "Labels  ['CS' 'Civil' 'ECE' 'MAE' 'Medical' 'Psychology' 'biochemistry']\n",
            "Label counts  [1499 2107 1132 1925 1617 1959 1728]\n"
          ]
        }
      ],
      "source": [
        "labels = np.unique(domains, return_counts=True)[0]\n",
        "labelCounts=  np.unique(domains, return_counts=True)[1]\n",
        "\n",
        "print(\"Labels \", labels)\n",
        "print(\"Label counts \", labelCounts)"
      ]
    },
    {
      "cell_type": "code",
      "execution_count": 42,
      "metadata": {
        "colab": {
          "base_uri": "https://localhost:8080/",
          "height": 649
        },
        "id": "4wUHmcLtDN6A",
        "outputId": "8629c1ca-c3ae-4b11-d33f-b97a5acfabd9"
      },
      "outputs": [
        {
          "output_type": "display_data",
          "data": {
            "text/plain": [
              "<Figure size 1000x600 with 1 Axes>"
            ],
            "image/png": "[encoded data removed]"
          },
          "metadata": {}
        },
        {
          "output_type": "stream",
          "name": "stdout",
          "text": [
            "The domain CS has 1499 records in the dataset.\n",
            "The domain Civil has 2107 records in the dataset.\n",
            "The domain ECE has 1132 records in the dataset.\n",
            "The domain MAE has 1925 records in the dataset.\n",
            "The domain Medical has 1617 records in the dataset.\n",
            "The domain Psychology has 1959 records in the dataset.\n",
            "The domain biochemistry has 1728 records in the dataset.\n"
          ]
        }
      ],
      "source": [
        "# Visualize domain counts in dataset\n",
        "plt.figure(figsize=(10, 6))\n",
        "plt.title(\"Domain Counts (Dataset)\")\n",
        "plt.pie(labelCounts, labels=labels, autopct='%1.1f%%', startangle=140, colors=plt.cm.Paired(range(len(labels))))\n",
        "plt.axis('equal')\n",
        "plt.show()\n",
        "\n",
        "for i, domain in enumerate(labels):\n",
        "    print(\"The domain\", domain, \"has\", labelCounts[i], \"records in the dataset.\")"
      ]
    },
    {
      "cell_type": "code",
      "execution_count": 43,
      "metadata": {
        "colab": {
          "base_uri": "https://localhost:8080/"
        },
        "id": "iy4b69DrDN6A",
        "outputId": "9974fe7e-a5ad-4385-8e87-332cb95c4f43"
      },
      "outputs": [
        {
          "output_type": "stream",
          "name": "stdout",
          "text": [
            "Number of abstracts:  11967\n",
            "Shape of abstracts:  (11967,)\n",
            "['inflammatory bowel disease ibd which includes both crohns disease cd and ulcerative colitis uc is a chronic idiopathic inflammatory disorder affecting the gastrointestinal tract extraintestinal manifestations eims are common in patients with ibd and occur in 647 of patients with cd or uc eims can involve organs other than the gastrointestinal tract such as skin eyes joints biliary tract and kidneys renal and urinary involvement particularly occurs in 423 of patients with ibd among the renal complications of ibd secondary amyloidosis aatype aaa is a rare but serious complication renal amyloidosis has been proven to be the most common lethal manifestation of ibdassociated amyloidosis since renal involvement rapidly leads to endstage renal failure a few studies suggest that aaa is more prevalent in cd than in uc mainly occurring in male patients with an extensive longlasting and penetrating disease pattern the therapeutic approaches of ibdassociated aaa are based both on control of the chronic inflammatory process that causes the production and storage of serum amyloid a saa which is a precursor of the amyloid as well as on destabilizing amyloid fibrils so that they can no longer maintain their betapleated sheet configuration however in patients with endstage renal disease the only therapeutic options still available are hemodyalisis and renal transplantation whether effective treatment exists for aaa remains controversial'\n",
            " 'filament growth and breakup are investigated in the context of ceramic inkjet printing several inks were formulated and ejected on a printer dedicated to ceramic materials they consisted of six colloidal inks four simple fluids and two graphic inks for each stroboscopic snapshots were acquired and the filament shape was extracted and analysed for different nozzle actuation pulses the filament length and the thread minimum radius were measured during the ejection process a scaling of the breakup time with the rayleigh number was obtained as well as a general behaviour for the filament growth rate during the ejection process c 2016 elsevier ltd all rights reserved']\n",
            "Number of keywords:  11967\n",
            "Shape of keywords:  (11967,)\n",
            "['inflammatory bowel disease ibd which includes both crohns disease cd and ulcerative colitis uc is a chronic idiopathic inflammatory disorder affecting the gastrointestinal tract extraintestinal manifestations eims are common in patients with ibd and occur in 647 of patients with cd or uc eims can involve organs other than the gastrointestinal tract such as skin eyes joints biliary tract and kidneys renal and urinary involvement particularly occurs in 423 of patients with ibd among the renal complications of ibd secondary amyloidosis aatype aaa is a rare but serious complication renal amyloidosis has been proven to be the most common lethal manifestation of ibdassociated amyloidosis since renal involvement rapidly leads to endstage renal failure a few studies suggest that aaa is more prevalent in cd than in uc mainly occurring in male patients with an extensive longlasting and penetrating disease pattern the therapeutic approaches of ibdassociated aaa are based both on control of the chronic inflammatory process that causes the production and storage of serum amyloid a saa which is a precursor of the amyloid as well as on destabilizing amyloid fibrils so that they can no longer maintain their betapleated sheet configuration however in patients with endstage renal disease the only therapeutic options still available are hemodyalisis and renal transplantation whether effective treatment exists for aaa remains controversial'\n",
            " 'filament growth and breakup are investigated in the context of ceramic inkjet printing several inks were formulated and ejected on a printer dedicated to ceramic materials they consisted of six colloidal inks four simple fluids and two graphic inks for each stroboscopic snapshots were acquired and the filament shape was extracted and analysed for different nozzle actuation pulses the filament length and the thread minimum radius were measured during the ejection process a scaling of the breakup time with the rayleigh number was obtained as well as a general behaviour for the filament growth rate during the ejection process c 2016 elsevier ltd all rights reserved']\n",
            "Number of domains:  11967\n",
            "Shape of domains:  (11967,)\n",
            "['Medical' 'MAE']\n",
            "Number of labels:  11967\n",
            "Shape of labels:  (11967,)\n",
            "['5' '3']\n",
            "['inflammatory bowel disease ibd which includes both crohns disease cd and ulcerative colitis uc is a chronic idiopathic inflammatory disorder affecting the gastrointestinal tract extraintestinal manifestations eims are common in patients with ibd and occur in 647 of patients with cd or uc eims can involve organs other than the gastrointestinal tract such as skin eyes joints biliary tract and kidneys renal and urinary involvement particularly occurs in 423 of patients with ibd among the renal complications of ibd secondary amyloidosis aatype aaa is a rare but serious complication renal amyloidosis has been proven to be the most common lethal manifestation of ibdassociated amyloidosis since renal involvement rapidly leads to endstage renal failure a few studies suggest that aaa is more prevalent in cd than in uc mainly occurring in male patients with an extensive longlasting and penetrating disease pattern the therapeutic approaches of ibdassociated aaa are based both on control of the chronic inflammatory process that causes the production and storage of serum amyloid a saa which is a precursor of the amyloid as well as on destabilizing amyloid fibrils so that they can no longer maintain their betapleated sheet configuration however in patients with endstage renal disease the only therapeutic options still available are hemodyalisis and renal transplantation whether effective treatment exists for aaa remains controversial'\n",
            " 'filament growth and breakup are investigated in the context of ceramic inkjet printing several inks were formulated and ejected on a printer dedicated to ceramic materials they consisted of six colloidal inks four simple fluids and two graphic inks for each stroboscopic snapshots were acquired and the filament shape was extracted and analysed for different nozzle actuation pulses the filament length and the thread minimum radius were measured during the ejection process a scaling of the breakup time with the rayleigh number was obtained as well as a general behaviour for the filament growth rate during the ejection process c 2016 elsevier ltd all rights reserved'\n",
            " 'excessive ethanol consumption alters the neuroimmune system and particularly impacts the cytokine milieu of the cns cytokine dysregulation has been shown to underlie addictivelike behaviors including alcohol abuse however many studies focus primarily on the proinflammatory cytokine profile during alcohol dependence the current study furthers this research by determining the impact of excessive ethanol consumption on interleukin10 il10 and interleukin4 il4 activity in a model of nondependent binge consumption called the drinking in the dark did paradigm furthermore the ability of il10 to modulate ethanol consumption was tested using sitedirected pharmacology immunohistochemistry analyses determined that ethanol decreased il10 by 50  in the basolateral amygdala bla but had no effect on il4 neither il10 nor il4 however were altered in the central amygdala cea enzyme linked immunosorbent assays confirmed that il10 was decreased in the amygdala but not in the serum suggesting changes of this cytokine with the did paradigm are restricted to the central nervous system finally bilateral infusions of il10 into the bla but not cea reduced bingelike drinking and corresponding blood ethanol concentrations without impacting either locomotor activity or anxietylike behavioral correlates together these data support the idea that alcohol abuse dysregulates specific antiinflammatory cytokines however ameliorating alcoholinduced effects on cytokines like il10 may prove to be an effective therapy in curbing excessive consumption'\n",
            " 'integrating microflood irrigation with infield rainwater harvesting irwh was proposed and experiments were conducted in the 20072008 production season at paradys experimental farm of the university of the free state south africa three water regimes dryland dl supplemental spi and full irrigation fi were tested with 1 2 and 3m runoff strip width rsw to determine their effects on soil water balance components for the integrated irwh four blocks with nine subplots were prepared for the 3x3 split plot factorial experimental design plots were 30m long with a standard 1m width site specific data were used to estimate rainfallrunoff and deep drainage functions soil water content swc was measured with a neutron water meter evapotranspiration et was partitioned into evaporation and transpiration using a beta parameter deep drainage was the least significantly affected rainfalls not less than 24mm had significantly higher gains on change in swc for the 2m and 3m rsw during dry spells these rsws had significantly higher swc deficit for the vegetative and reproductive growth stages evaporation from the 3m rsw constituted not less than 60 of et compared to less than 40 from 1m rsw the 1m rsw had significantly higher et and t irrespective of water regime with the highest values from irrigation treatments the 1m rsw can therefore be used with either fi or spi to optimize soil water balance for the integrated irwh water management'\n",
            " 'a longterm northern hemisphere nh daily 5km snow cover extent sce product jasmes was developed by the application of a consistent objective snow cover mapping algorithm to data from historical optical sensors on polar orbiting satellites from 1978 to 2015 a conventional decision tree algorithm with multiple threshold tests was employed to analyze radiances for the five spectral bands available across the full analysis period the accuracies of the analyzed sce maps were evaluated against insitu snow data measured at ground stations along with the sce maps from the national oceanic and atmospheric administration climate data record noaacdr product the evaluation showed the jasmes product to have a more temporally stable producers accuracy pa 1omission error than noaa which is a key factor in the analysis of longterm sce trends comparison of seasonal nh sce trends from the two products showed noaa to have opposite trends to those of jasmes in the fall and winter seasons and to have overestimated sce decreasing trends in the spring and summer these tendencies are consistent with the increasing spatial and temporal resolutions of information over time which were used in generating the noaa snow analysis an estimation of unbiased sces based on the accuracies of sce maps also endorses the longterm trends of the jasmes product the jasmes nh seasonal sce exhibited negative slopes in all seasons but was only statistically significant in the summer jja and fall son delayed snow cover onset was observed to be the main driver of decreasing annual snow duration scd trends the spatial pattern of annual scd trends exhibited noticeable asymmetry between continents with the largest significant decreases observed over western eurasia with relatively few statistically significant decreases over north america c 2017 the authors published by elsevier inc'\n",
            " 'additive manufacturing technologies enable the fabrication of parts characterized by shape complexity and therefore allow the design of optimized components based on minimal material usage and weight in the literature two approaches are available to reach this goal adoption of lattice structures and topology optimization in a recent work a computeraided method for generative design and optimization of regular lattice structures was proposed the method was investigated in few configurations of a cantilever beam considering six different cell types and two load conditions in order to strengthen the method in this paper a number of test cases have been carried out results explain the behavior of the method during the iterations and the effects of the load and of the cell dimension moreover a visual comparison between the proposed method and the results achieved by topology optimization is shown'\n",
            " 'this commentary argues that the recently approved contract under which the millennium challenge corporation mcc is investing us437 million dollars in niger over the next five years most of it on largescale irrigation is not a good investment the paper explains why the programme is not likely to achieve the benefits anticipated mcc had commissioned a detailed feasibility study carried out by the authors of this paper which strongly argued against investing in largescale irrigation in part because there is a poor track record for these investments in niger and in part because mcc has no comparative advantage in such investments instead the feasibility study presented a strong case for investing in smallscale rainwater harvesting for agriculture and livestock at farm and watershed levels and individualised smallscale irrigation for highvalue nutritious crops and other water uses the commentary concludes with suggestions on how the funds allocated for largescale irrigation infrastructure about us250 million could be reallocated to benefit a far larger number of people and a recommendation that investors in african agricultural water management projects carry out an assessment of the performance and impacts of investment experiences over the past decade to identify lessons that could inform the next decade of investments in agricultural water management'\n",
            " 'since earlier days most of the failures encountered by the structures or machines are mainly due to material fatigue the dynamic behaviour of the beam may change when cracks begin to appear in it knowledge of these changes in the dynamic individualism is important in crack detection as well as in structure or in machine design this paper deals with systematic study on the free vibration of eulerbernoulli beam containing open edge transverse cracks in this study two springs steel materials en 8 and en 47 are considered the effect of the top side cracks and bottom side cracks on the natural frequency of a cantilever beam is discussed the natural frequency of a cracked case cantilever beam is investigated numerically using fe analysis software ansys experimental work is done by using dewefrf to investigate the natural frequency of cracked beams for strong validation of the numerical results the results of this study suggest that the average value of natural frequencies for all top side cracked beams are identical to the average value of natural frequency for all bottom side cracked beams this is true for both en 47 and en 8 hence it is clear that the dynamic characteristic natural frequency is not changing when same configuration of cracks is either on top or bottom side of the beam the natural frequencies for en 8 material are comparatively on higher side than en 47 material for the same crack configurations in most of the cracked cases the damping effect of en 47 is greater than en 8 it is also found that as crack location increases at constant crack depth then natural frequency increases at the last location as crack depth increases natural frequencies almost remain same it is observed that the presence of top side crack and bottom side crack of the same configuration in the cantilever beam is not a function of natural frequency when cantilever beam is of a square cross section'\n",
            " 'in elearning research teachers can record lecture videos in eclass and upload these lecture videos to elearning system themselves once lecture videos and handouts can be generated automatically in traditional classroom it can help students with selflearning and teacher with lecture content development for elearning services this paper proposed a teaching assistant system based on computer vision that can help in content development for elearning services lecture videos are taken by using two cameras and merged on both sides so that students can see a clear and complete teaching content the kmeans segmentation is used to extract board area and then connected component technique helps refill the board area which is covered by lecturers body then we use adaptive threshold to extract handwritings in various light conditions and timeseries denoising technique is designed to reduce noise according to extracted handwritings the lecture videos can be automatically structured with high level of semantics the lecture videos are segmented into video clips and all keyframes are integrated as handouts of the education videos'\n",
            " 'chronic myeloid leukemia cml is a myeloproliferative disease with a characteristic bcrabl tyrosine kinase tk fusion protein despite the clinical efficacy accomplished by tkis therapies disease progression may affect patient response rate to these inhibitors due to a multitude of factors that could lead to development of a mechanism known as multidrug resistance mdr 7ketocholesterol 7kc is an oxidized cholesterol derivative that has been extensively reported to cause cell death in a variety of cancer models in this study we showed the in vitro efficacy of 7kc against mdr leukemia cell line lucena 7kc treatment induced reduction in cell viability together with apoptosismediated cell death moreover downregulation of mdr protein caused intracellular drug accumulation and 7kc coincubation with either daunorubicin or vincristine reduced cell viability compared to the use of each drug alone additionally quantitative labelfree mass spectrometrybased protein quantification showed alteration of different molecular pathways involved in cell cycle arrest induction of apoptosis and misfolded protein response conclusively this study highlights the effect of 7kc as a sensitizing agent of multi drug resistance cml and elucidates its molecular mechanisms significance cml patients treated with tyrosine kinase inhibitors tkis have showed a 5year estimated overall survival of 89 with cumulative complete cytogenetic response of 87 however development of drug resistance is a common feature of the disease progression this study aimed at showing the effect of 7kc as a cytotoxic and sensitizing agent of multidrug resistance cml cell lines the cellular and molecular basis of this compound were elucidated using a comprehensive strategy based on quantitative proteomic and cell biology assays we showed that 7kc induced cell death and overcomes drug resistance in cml through mechanisms that go beyond the classical mdr1 pathways c 2016 elsevier bv all rights reserved']\n",
            "[' amyloidosis crohns disease ulcerative colitis inflammatory bowel disease ibd        '\n",
            " ' inkjet printing dropondemand colloidal suspensions ceramics fluid mechanics filament breakup        '\n",
            " ' interleukin10 interleukin4 drinking in the dark paradigm binge drinking alcohol abuse neuroimmune system cytokines amygdala        '\n",
            " ' dryland soil water regime supplemental irrigation row spacing maize production runoff farming        '\n",
            " ' snow cover extent snow cover duration remote sensing longterm data climate avhrr modis        '\n",
            " ' cellular structure lattice structures additive manufacturing design methods computeraided design cad        '\n",
            " ' irrigation investment largescale irrigation millennium challenge corporation agricultural water management niger        '\n",
            " ' natural frequency cantilever beam en 47 en 8 top side crack bottom side crack ansys damping factor        '\n",
            " ' video segmentation video summarization notes extraction image processing        '\n",
            " ' oxysterols multidrug resistance chronic myeloid leukemia quantitative proteomics cell death and 7ketocholesterol        ']\n",
            "['Medical' 'MAE' 'Medical' 'Civil' 'Civil' 'MAE' 'Civil' 'MAE' 'CS'\n",
            " 'biochemistry']\n",
            "['5' '3' '5' '4' '4' '3' '4' '3' '0' '6']\n",
            "[5 3 5 4 4 3 4 3 0 6]\n"
          ]
        }
      ],
      "source": [
        "# Shuffle data\n",
        "dataShuffled = sklearn.utils.shuffle(tsvData)\n",
        "\n",
        "abstractsShuffled = dataShuffled[:,3]\n",
        "keywordsShuffled = dataShuffled[:,2]\n",
        "domainsShuffled = dataShuffled[:,1]\n",
        "allLabelsShuffled = dataShuffled[:,0]\n",
        "\n",
        "print(\"Number of abstracts: \", len(abstractsShuffled))\n",
        "print(\"Shape of abstracts: \", np.shape(abstractsShuffled))\n",
        "print(abstractsShuffled[0:2])\n",
        "\n",
        "print(\"Number of keywords: \", len(keywordsShuffled))\n",
        "print(\"Shape of keywords: \", np.shape(keywordsShuffled))\n",
        "print(abstractsShuffled[0:2])\n",
        "\n",
        "print(\"Number of domains: \", len(domainsShuffled))\n",
        "print(\"Shape of domains: \", np.shape(domainsShuffled))\n",
        "print(domainsShuffled[0:2])\n",
        "\n",
        "print(\"Number of labels: \", len(allLabelsShuffled))\n",
        "print(\"Shape of labels: \", np.shape(allLabelsShuffled))\n",
        "print(allLabelsShuffled[0:2])\n",
        "\n",
        "\n",
        "# Convert labels to integer\n",
        "allLabelsDigitShuffled = allLabelsShuffled.astype(int)\n",
        "\n",
        "print(abstractsShuffled[0:10])\n",
        "print(keywordsShuffled[0:10])\n",
        "print(domainsShuffled[0:10])\n",
        "print(allLabelsShuffled[0:10])\n",
        "print(allLabelsDigitShuffled[0:10])"
      ]
    },
    {
      "cell_type": "code",
      "execution_count": 44,
      "metadata": {
        "colab": {
          "base_uri": "https://localhost:8080/"
        },
        "id": "oE8v68D2DN6A",
        "outputId": "70923055-dbb9-4e17-f42a-59ee95975297"
      },
      "outputs": [
        {
          "output_type": "stream",
          "name": "stdout",
          "text": [
            "(9573, 4)\n",
            "(2394, 4)\n",
            "(9573, 4)\n",
            "(2394, 4)\n",
            "(479, 4)\n"
          ]
        }
      ],
      "source": [
        "# Split dataset into training and testing (80/20 split)\n",
        "train_data, test_data = train_test_split(dataShuffled, test_size=0.2, random_state=42)\n",
        "print(np.shape(train_data))\n",
        "print(np.shape(test_data))\n",
        "\n",
        "# Further split training data into training and validation (80/20 split of training set)\n",
        "_, val_data = train_test_split(test_data, test_size=0.2, random_state=42)\n",
        "print(np.shape(train_data))\n",
        "print(np.shape(test_data))\n",
        "print(np.shape(val_data))\n",
        "# Load SciBERT tokenizer\n",
        "tokenizer = AutoTokenizer.from_pretrained(\"allenai/scibert_scivocab_uncased\")"
      ]
    },
    {
      "cell_type": "code",
      "execution_count": 45,
      "metadata": {
        "colab": {
          "base_uri": "https://localhost:8080/"
        },
        "id": "ONFXZGUUDN6A",
        "outputId": "3a77f8ea-392f-4a2a-bb78-920341b05a95"
      },
      "outputs": [
        {
          "output_type": "stream",
          "name": "stdout",
          "text": [
            "Number of abstracts:  9573\n",
            "Shape of abstracts:  (9573,)\n",
            "Number of keywords:  9573\n",
            "Shape of keywords:  (9573,)\n",
            "Number of domains:  9573\n",
            "Shape of domains:  (9573,)\n",
            "Number of labels:  9573\n",
            "Shape of labels:  (9573,)\n",
            "['the study examined the social skills of 92 russian children males  64 adopted by italian families the children aged between 8 and 14 years were compared with a control group of children who grew up with the biological family evaluation by both parents and children of the childrens social competence were investigated the results showed that according to the parents reports the adopted children had more problems in social functioning than peers in the control group along with a greater propensity to use maladaptive behaviors such as oppositive behavior rulebreaking behavior aggressive behavior and externalization by contrast according to the childrens assessments the adopted children were less aggressive and used prosocial behaviors to a greater extent than children raised in the biological family the views of the parents and the children about the childrens aggressive behavior were mutually conflicting finally the influence of adoption related variables on the social competence of children was examined contrary to our expectations there were no significant relationships between social competence and age of adoption the duration of institutionalization and the time spent in the adoptive family c 2017 elsevier ltd all rights reserved'\n",
            " 'erap1 single nucleotide polymorphisms snp are associated with ankylosing spondylitis data on erap1snps in juvenile idiopathic arthritis jia is scarce erap1 rs30187 snp was shown to confer risk in the enthesitisrelated arthritis era category of jia we examined the prevalence and association of this snp in indian children with era snps in erap1 rs30187 were genotyped in children with era n  271 ankylosing spondylitis as n  213 and healthy controls n  101 using taqman genotyping allele frequencies and genotype frequencies were calculated and compared using the cochran armitage test minor allele frequencies were 052 in era 057 in as and 057 in healthy controls neither era nor as patients showed significant association with this snp segregating according to hlab27 status did not alter the lack of association rs30187 snp in erap1 does not confer risk of developing era or as in the asian indian population']\n",
            "[' postinstitutionalized children international adoption social competence aggressive behavior prosocial behavior social maladjustment        '\n",
            " ' ankylosing spondylitis genetics juvenile idiopathic arthritis methodology rheumatic diseases spondyloarthritis        ']\n",
            "['Psychology' 'Medical']\n",
            "['2' '5']\n"
          ]
        }
      ],
      "source": [
        "abstractsTrain = train_data[:,3]\n",
        "keywordsTrain = train_data[:,2]\n",
        "domainsTrain = train_data[:,1]\n",
        "allLabelsTrain = train_data[:,0]\n",
        "\n",
        "print(\"Number of abstracts: \",len(abstractsTrain))\n",
        "print(\"Shape of abstracts: \",np.shape(abstractsTrain))\n",
        "print(\"Number of keywords: \",len(keywordsTrain))\n",
        "print(\"Shape of keywords: \",np.shape(keywordsTrain))\n",
        "print(\"Number of domains: \",len(domainsTrain))\n",
        "print(\"Shape of domains: \",np.shape(domainsTrain))\n",
        "print(\"Number of labels: \",len(allLabelsTrain))\n",
        "print(\"Shape of labels: \",np.shape(allLabelsTrain))\n",
        "\n",
        "print(abstractsTrain[0:2])\n",
        "print(keywordsTrain[0:2])\n",
        "print(domainsTrain[0:2])\n",
        "print(allLabelsTrain[0:2])"
      ]
    },
    {
      "cell_type": "code",
      "execution_count": 46,
      "metadata": {
        "colab": {
          "base_uri": "https://localhost:8080/",
          "height": 683
        },
        "id": "RBJjrIkeDN6A",
        "outputId": "5c37a5d2-7df9-4de7-848f-4d1479911f5f"
      },
      "outputs": [
        {
          "output_type": "stream",
          "name": "stdout",
          "text": [
            "Labels  ['CS' 'Civil' 'ECE' 'MAE' 'Medical' 'Psychology' 'biochemistry']\n",
            "Label counts  [1218 1649  923 1501 1319 1575 1388]\n"
          ]
        },
        {
          "output_type": "display_data",
          "data": {
            "text/plain": [
              "<Figure size 1000x600 with 1 Axes>"
            ],
            "image/png": "[encoded data removed]"
          },
          "metadata": {}
        },
        {
          "output_type": "stream",
          "name": "stdout",
          "text": [
            "The domain CS has 1218 records in the training set.\n",
            "The domain Civil has 1649 records in the training set.\n",
            "The domain ECE has 923 records in the training set.\n",
            "The domain MAE has 1501 records in the training set.\n",
            "The domain Medical has 1319 records in the training set.\n",
            "The domain Psychology has 1575 records in the training set.\n",
            "The domain biochemistry has 1388 records in the training set.\n"
          ]
        }
      ],
      "source": [
        "labels = np.unique(domainsTrain, return_counts=True)[0]\n",
        "labelCounts =  np.unique(domainsTrain, return_counts=True)[1]\n",
        "\n",
        "print(\"Labels \", labels)\n",
        "print(\"Label counts \", labelCounts)\n",
        "\n",
        "nAbstract = len(abstractsTrain)\n",
        "plt.figure(figsize=(10, 6))\n",
        "plt.title(\"Domain Counts (Training Set)\")\n",
        "plt.pie(labelCounts, labels=labels, autopct='%1.1f%%', startangle=140, colors=plt.cm.Paired(range(len(labels))))\n",
        "plt.axis('equal')  # Equal aspect ratio ensures that pie is drawn as a circle.\n",
        "plt.show()\n",
        "\n",
        "for i, domain in enumerate(labels):\n",
        "    print(\"The domain\", domain, \"has\", labelCounts[i], \"records in the training set.\")"
      ]
    },
    {
      "cell_type": "code",
      "execution_count": 47,
      "metadata": {
        "colab": {
          "base_uri": "https://localhost:8080/"
        },
        "id": "o4urSnRFDN6B",
        "outputId": "4d3fae4a-1dfc-4d43-87d5-4a9dc72576ea"
      },
      "outputs": [
        {
          "output_type": "stream",
          "name": "stdout",
          "text": [
            "Number of abstracts:  2394\n",
            "Shape of abstracts:  (2394,)\n",
            "Number of keywords:  2394\n",
            "Shape of keywords:  (2394,)\n",
            "Number of domains:  2394\n",
            "Shape of domains:  (2394,)\n",
            "Number of labels:  2394\n",
            "Shape of labels:  (2394,)\n",
            "['piezoelectric fans have been studied extensively and are seen as a promising technology for thermal management due to their ability to provide quiet reliable cooling with low power consumption the fluid mechanics associated with a piezoelectric fan are similar to that for a flapping bird wing which are known to be complex this paper is the first to investigate the threedimensional fluid mechanics of an unconfined fan operating in its first vibration frequency mode a custom built experimental facility was developed to capture the fans flow field using twodimensional phase locked particle image velocimetry piv the fluidstructure interaction was also captured through unique twoway coupled threedimensional simulations of an oscillating beam in which the beam is actuated by a shear force at its resonant frequency and interacts with the surrounding air this forgoes the need for temporal beam displacement data from experiments as in previous studies allowing the numerical technique to be used independently a finite element method is used for the simulations which allows the twoway coupling while maintaining computational efficiency a three dimensional lambda2 criterion constructed from interpolated piv measurements as well as numerical data was used to identify a horse shoe vortex in the vicinity of the fan and its evolution into a hairpin vortex before it breaks up due to a combination of vortex shedding and flow along the fan blade the experimental and numerical data are comparatively in agreement confirming that the methods presented are valid for capturing the complex flow fields generated by this fluidstructure interaction the results provide both a fundamental understanding on the formation and breakup of vortices from an oscillating beam and demonstrate a validated approach which can be applied in the development of high efficiency piezoelectrically driven air moving devices and extended to the study of flapping bird and uav wings'\n",
            " 'a new procedure to extract the parameters of mathematical models that describe charge flow phenomena through thin dielectrics is proposed for characterizing undesirable leakage current mechanisms in modern mosfets gates the procedures basis is the small signal conductancetocurrent ratio of the iv characteristics it is an alternative to and has advantages over the other presently used methods that extract those models parameters from the slope and intercept of phenomenonspecific linear plots in contrast this is a generic method that may be directly applied to the iv characteristics regardless of the specific leakage mechanism involved the procedure inherently reduces by one the number of unknowns that needs to be determined during numerical optimization in addition it does not require as other traditional methods do a prior knowledge of the exact relationship between the applied voltage and the effective internal electric field strength which in this case is determined together with the other parameters the procedure is illustrated by three examples with different kinds of data mathematically synthesized computer aided design simulated and experimentally measured leakage iv characteristics of mos capacitors']\n",
            "[' vortical structures flow visualization piezoelectric beam particle image velocimetry computational fluid dynamics        '\n",
            " ' fowlernordheim fn tunneling model parameter extractions mos gate leakage models poolefrenkel pf emission        ']\n",
            "['MAE' 'MAE']\n",
            "['3' '3']\n"
          ]
        }
      ],
      "source": [
        "abstractsTest = test_data[:,3]\n",
        "keywordsTest = test_data[:,2]\n",
        "domainsTest = test_data[:,1]\n",
        "allLabelsTest = test_data[:,0]\n",
        "\n",
        "print(\"Number of abstracts: \",len(abstractsTest))\n",
        "print(\"Shape of abstracts: \",np.shape(abstractsTest))\n",
        "print(\"Number of keywords: \",len(keywordsTest))\n",
        "print(\"Shape of keywords: \",np.shape(keywordsTest))\n",
        "print(\"Number of domains: \",len(domainsTest))\n",
        "print(\"Shape of domains: \",np.shape(domainsTest))\n",
        "print(\"Number of labels: \",len(allLabelsTest))\n",
        "print(\"Shape of labels: \",np.shape(allLabelsTest))\n",
        "\n",
        "# arr = np.array(domainsTest)\n",
        "# cleaned_domains = np.char.strip(arr)\n",
        "# print(\"Cleaned arr \", cleaned_domains)\n",
        "# domainsLabelsTest = cleaned_domains\n",
        "# print(\"Labels domains \", domainsLabelsTest)\n",
        "\n",
        "print(abstractsTest[0:2])\n",
        "print(keywordsTest[0:2])\n",
        "print(domainsTest[0:2])\n",
        "print(allLabelsTest[0:2])"
      ]
    },
    {
      "cell_type": "code",
      "execution_count": 48,
      "metadata": {
        "colab": {
          "base_uri": "https://localhost:8080/",
          "height": 683
        },
        "id": "wXDx7H28DN6B",
        "outputId": "cf0c6ebc-ef14-4158-e37c-485e6943e8c0"
      },
      "outputs": [
        {
          "output_type": "stream",
          "name": "stdout",
          "text": [
            "Labels  ['CS' 'Civil' 'ECE' 'MAE' 'Medical' 'Psychology' 'biochemistry']\n",
            "Label counts  [281 458 209 424 298 384 340]\n"
          ]
        },
        {
          "output_type": "display_data",
          "data": {
            "text/plain": [
              "<Figure size 1000x600 with 1 Axes>"
            ],
            "image/png": "[encoded data removed]"
          },
          "metadata": {}
        },
        {
          "output_type": "stream",
          "name": "stdout",
          "text": [
            "The domain CS has 281 records in the test set.\n",
            "The domain Civil has 458 records in the test set.\n",
            "The domain ECE has 209 records in the test set.\n",
            "The domain MAE has 424 records in the test set.\n",
            "The domain Medical has 298 records in the test set.\n",
            "The domain Psychology has 384 records in the test set.\n",
            "The domain biochemistry has 340 records in the test set.\n"
          ]
        }
      ],
      "source": [
        "labels = np.unique(domainsTest, return_counts=True)[0]\n",
        "labelCounts =  np.unique(domainsTest, return_counts=True)[1]\n",
        "\n",
        "print(\"Labels \", labels)\n",
        "print(\"Label counts \", labelCounts)\n",
        "\n",
        "nAbstract = len(abstractsTest)\n",
        "plt.figure(figsize=(10, 6))\n",
        "plt.title(\"Domain Counts (Test Set)\")\n",
        "plt.pie(labelCounts, labels=labels, autopct='%1.1f%%', startangle=140, colors=plt.cm.Paired(range(len(labels))))\n",
        "plt.axis('equal')  # Equal aspect ratio ensures that pie is drawn as a circle.\n",
        "plt.show()\n",
        "\n",
        "for i, domain in enumerate(labels):\n",
        "    print(\"The domain\", domain, \"has\", labelCounts[i], \"records in the test set.\")"
      ]
    },
    {
      "cell_type": "code",
      "execution_count": 49,
      "metadata": {
        "colab": {
          "base_uri": "https://localhost:8080/"
        },
        "id": "zkEyui06DN6B",
        "outputId": "db6a8474-b327-4b3e-f205-0ea081510dc0"
      },
      "outputs": [
        {
          "output_type": "stream",
          "name": "stdout",
          "text": [
            "Number of abstracts:  479\n",
            "Shape of abstracts:  (479,)\n",
            "Number of keywords:  479\n",
            "Shape of keywords:  (479,)\n",
            "Number of domains:  479\n",
            "Shape of domains:  (479,)\n",
            "Number of labels:  479\n",
            "Shape of labels:  (479,)\n",
            "['with the great success of the secondgeneration wireless telephone technology and the thirdgeneration mobile telecommunications technology and the fast development of the fourthgeneration mobile telecommunications technology the phase of fifthgeneration mobile networks or fifthgeneration wireless systems 5g is coming in this article we indicate the open research issues of 5g security and trust in the context of virtualized networking and softwaredefined networking we further propose a framework of security and trust focusing on solving 5g network security issues the proposed framework applies adaptive trust evaluation and management technologies and sustainable trusted computing technologies to ensure computing platform trust and achieve softwaredefined network security it adopts cloud computing to securely deploy various trustworthy security services over the virtualized networks we analyze that the framework can support and satisfy all security requirements specified in standardization we also suggest future research work according to the proposed framework and discuss the advantages of our framework in terms of practical deployment copyright c 2015 john wiley  sons ltd'\n",
            " 'larger and larger proportions of aluminium castings especially those produced by the die casting process can be observed during recent years in the automotive industry household articles and others in case of the automotive industry apart from the traditional elements produced by the die pressure method such as engine blocks or crank shaft bedplates aluminium is displacing steel from structural parts of cars body in white the current state and development directions of the structural solutions of coldchamber die castings are analysed in this paper these solutions drive the prospective development of these machines and die casting technology the focus is mainly on essential functional systems such as hydraulic drives of closing and locking units as well as pressing in die machines of known companies present on the european market']\n",
            "[' 5g security network function virtualization softwaredefined networking trusted computing trust management cloud computing        '\n",
            " ' die casting machine design cold chamber        ']\n",
            "['CS' 'MAE']\n",
            "['0' '3']\n"
          ]
        }
      ],
      "source": [
        "abstractsVal = val_data[:,3]\n",
        "keywordsVal = val_data[:,2]\n",
        "domainsVal = val_data[:,1]\n",
        "allLabelsVal = val_data[:,0]\n",
        "\n",
        "print(\"Number of abstracts: \",len(abstractsVal))\n",
        "print(\"Shape of abstracts: \",np.shape(abstractsVal))\n",
        "print(\"Number of keywords: \",len(keywordsVal))\n",
        "print(\"Shape of keywords: \",np.shape(keywordsVal))\n",
        "print(\"Number of domains: \",len(domainsVal))\n",
        "print(\"Shape of domains: \",np.shape(domainsVal))\n",
        "print(\"Number of labels: \",len(allLabelsVal))\n",
        "print(\"Shape of labels: \",np.shape(allLabelsVal))\n",
        "\n",
        "print(abstractsVal[0:2])\n",
        "print(keywordsVal[0:2])\n",
        "print(domainsVal[0:2])\n",
        "print(allLabelsVal[0:2])"
      ]
    },
    {
      "cell_type": "code",
      "execution_count": 50,
      "metadata": {
        "colab": {
          "base_uri": "https://localhost:8080/",
          "height": 682
        },
        "id": "1ax8-nZaDN6B",
        "outputId": "028fe253-1a22-4df7-87ea-1d7fc3048c62"
      },
      "outputs": [
        {
          "output_type": "stream",
          "name": "stdout",
          "text": [
            "Labels  ['CS' 'Civil' 'ECE' 'MAE' 'Medical' 'Psychology' 'biochemistry']\n",
            "Label counts  [64 84 32 80 68 81 70]\n"
          ]
        },
        {
          "output_type": "display_data",
          "data": {
            "text/plain": [
              "<Figure size 1000x600 with 1 Axes>"
            ],
            "image/png": "[encoded data removed]"
          },
          "metadata": {}
        },
        {
          "output_type": "stream",
          "name": "stdout",
          "text": [
            "The domain CS has 64 records in the vaidation set.\n",
            "The domain Civil has 84 records in the vaidation set.\n",
            "The domain ECE has 32 records in the vaidation set.\n",
            "The domain MAE has 80 records in the vaidation set.\n",
            "The domain Medical has 68 records in the vaidation set.\n",
            "The domain Psychology has 81 records in the vaidation set.\n",
            "The domain biochemistry has 70 records in the vaidation set.\n"
          ]
        }
      ],
      "source": [
        "labels = np.unique(domainsVal, return_counts=True)[0]\n",
        "labelCounts =  np.unique(domainsVal, return_counts=True)[1]\n",
        "\n",
        "print(\"Labels \", labels)\n",
        "print(\"Label counts \", labelCounts)\n",
        "\n",
        "nAbstract = len(abstractsVal)\n",
        "plt.figure(figsize=(10, 6))\n",
        "plt.title(\"Domain Counts (Validation Set)\")\n",
        "plt.pie(labelCounts, labels=labels, autopct='%1.1f%%', startangle=140, colors=plt.cm.Paired(range(len(labels))))\n",
        "plt.axis('equal')  # Equal aspect ratio ensures that pie is drawn as a circle.\n",
        "plt.show()\n",
        "\n",
        "for i, domain in enumerate(labels):\n",
        "    print(\"The domain\", domain, \"has\", labelCounts[i], \"records in the vaidation set.\")"
      ]
    },
    {
      "cell_type": "code",
      "execution_count": 51,
      "metadata": {
        "id": "sxbOFbMrDN6C"
      },
      "outputs": [],
      "source": [
        "# Function to tokenize and encode the dataset\n",
        "def encode_data(data, tokenizer, max_length=128):\n",
        "    # print(len(data[:,2]))\n",
        "    inputs = tokenizer(\n",
        "        data[:,3].tolist(), # abstracts\n",
        "        max_length=max_length,\n",
        "        padding='max_length',\n",
        "        truncation=True,\n",
        "        return_tensors=\"pt\"\n",
        "    )\n",
        "    # print(len(dataShuffled[:, 0]))\n",
        "    labels = torch.tensor(data[:, 0].astype(int))\n",
        "    print(\"Label length \", len(labels))\n",
        "    return TensorDataset(inputs['input_ids'], inputs['attention_mask'], labels)"
      ]
    },
    {
      "cell_type": "code",
      "execution_count": 52,
      "metadata": {
        "colab": {
          "base_uri": "https://localhost:8080/"
        },
        "id": "Y8_HDuDUDN6C",
        "outputId": "9ab58d6a-df0e-489d-c734-174992ba6ce1"
      },
      "outputs": [
        {
          "output_type": "stream",
          "name": "stdout",
          "text": [
            "(9573, 4)\n",
            "(2394, 4)\n",
            "(479, 4)\n"
          ]
        }
      ],
      "source": [
        "print(np.shape(train_data))\n",
        "print(np.shape(test_data))\n",
        "print(np.shape(val_data))\n"
      ]
    },
    {
      "cell_type": "code",
      "execution_count": 53,
      "metadata": {
        "colab": {
          "base_uri": "https://localhost:8080/"
        },
        "id": "c6avATPgDN6C",
        "outputId": "37d028ab-e91f-4003-f034-947af41afc3e"
      },
      "outputs": [
        {
          "output_type": "stream",
          "name": "stdout",
          "text": [
            "Label length  9573\n",
            "Label length  479\n",
            "Label length  2394\n"
          ]
        }
      ],
      "source": [
        "# Encode training, validation, and testing data\n",
        "train_dataset = encode_data(train_data, tokenizer)\n",
        "val_dataset = encode_data(val_data, tokenizer)\n",
        "test_dataset = encode_data(test_data, tokenizer)\n",
        "\n",
        "\n",
        "\n",
        "# Data loaders\n",
        "train_dataloader = DataLoader(train_dataset, sampler=RandomSampler(train_dataset), batch_size=32)\n",
        "val_dataloader = DataLoader(val_dataset, sampler=SequentialSampler(val_dataset), batch_size=32)\n",
        "test_dataloader = DataLoader(test_dataset, sampler=SequentialSampler(test_dataset), batch_size=32)"
      ]
    },
    {
      "cell_type": "code",
      "execution_count": 54,
      "metadata": {
        "colab": {
          "base_uri": "https://localhost:8080/"
        },
        "id": "ybVLIN-JDN6C",
        "outputId": "3cc4db3c-d2ff-4c7e-cea3-46b958907d99"
      },
      "outputs": [
        {
          "output_type": "stream",
          "name": "stdout",
          "text": [
            "7\n"
          ]
        },
        {
          "output_type": "stream",
          "name": "stderr",
          "text": [
            "Some weights of BertForSequenceClassification were not initialized from the model checkpoint at allenai/scibert_scivocab_uncased and are newly initialized: ['classifier.bias', 'classifier.weight']\n",
            "You should probably TRAIN this model on a down-stream task to be able to use it for predictions and inference.\n"
          ]
        },
        {
          "output_type": "execute_result",
          "data": {
            "text/plain": [
              "BertForSequenceClassification(\n",
              "  (bert): BertModel(\n",
              "    (embeddings): BertEmbeddings(\n",
              "      (word_embeddings): Embedding(31090, 768, padding_idx=0)\n",
              "      (position_embeddings): Embedding(512, 768)\n",
              "      (token_type_embeddings): Embedding(2, 768)\n",
              "      (LayerNorm): LayerNorm((768,), eps=1e-12, elementwise_affine=True)\n",
              "      (dropout): Dropout(p=0.1, inplace=False)\n",
              "    )\n",
              "    (encoder): BertEncoder(\n",
              "      (layer): ModuleList(\n",
              "        (0-11): 12 x BertLayer(\n",
              "          (attention): BertAttention(\n",
              "            (self): BertSdpaSelfAttention(\n",
              "              (query): Linear(in_features=768, out_features=768, bias=True)\n",
              "              (key): Linear(in_features=768, out_features=768, bias=True)\n",
              "              (value): Linear(in_features=768, out_features=768, bias=True)\n",
              "              (dropout): Dropout(p=0.1, inplace=False)\n",
              "            )\n",
              "            (output): BertSelfOutput(\n",
              "              (dense): Linear(in_features=768, out_features=768, bias=True)\n",
              "              (LayerNorm): LayerNorm((768,), eps=1e-12, elementwise_affine=True)\n",
              "              (dropout): Dropout(p=0.1, inplace=False)\n",
              "            )\n",
              "          )\n",
              "          (intermediate): BertIntermediate(\n",
              "            (dense): Linear(in_features=768, out_features=3072, bias=True)\n",
              "            (intermediate_act_fn): GELUActivation()\n",
              "          )\n",
              "          (output): BertOutput(\n",
              "            (dense): Linear(in_features=3072, out_features=768, bias=True)\n",
              "            (LayerNorm): LayerNorm((768,), eps=1e-12, elementwise_affine=True)\n",
              "            (dropout): Dropout(p=0.1, inplace=False)\n",
              "          )\n",
              "        )\n",
              "      )\n",
              "    )\n",
              "    (pooler): BertPooler(\n",
              "      (dense): Linear(in_features=768, out_features=768, bias=True)\n",
              "      (activation): Tanh()\n",
              "    )\n",
              "  )\n",
              "  (dropout): Dropout(p=0.1, inplace=False)\n",
              "  (classifier): Linear(in_features=768, out_features=7, bias=True)\n",
              ")"
            ]
          },
          "metadata": {},
          "execution_count": 54
        }
      ],
      "source": [
        "# Load SciBERT model\n",
        "print(len(np.unique(train_data[:,0])))\n",
        "model = AutoModelForSequenceClassification.from_pretrained(\"allenai/scibert_scivocab_uncased\", num_labels=len(np.unique(train_data[:,0])))\n",
        "device = torch.device(\"cuda\" if torch.cuda.is_available() else \"cpu\")\n",
        "model.to(device)"
      ]
    },
    {
      "cell_type": "code",
      "execution_count": 55,
      "metadata": {
        "colab": {
          "base_uri": "https://localhost:8080/"
        },
        "id": "ps1DInjXDN6C",
        "outputId": "f816e336-1471-4912-efed-05432a1a4c7e"
      },
      "outputs": [
        {
          "output_type": "execute_result",
          "data": {
            "text/plain": [
              "BertConfig {\n",
              "  \"_name_or_path\": \"allenai/scibert_scivocab_uncased\",\n",
              "  \"attention_probs_dropout_prob\": 0.1,\n",
              "  \"classifier_dropout\": null,\n",
              "  \"hidden_act\": \"gelu\",\n",
              "  \"hidden_dropout_prob\": 0.1,\n",
              "  \"hidden_size\": 768,\n",
              "  \"id2label\": {\n",
              "    \"0\": \"LABEL_0\",\n",
              "    \"1\": \"LABEL_1\",\n",
              "    \"2\": \"LABEL_2\",\n",
              "    \"3\": \"LABEL_3\",\n",
              "    \"4\": \"LABEL_4\",\n",
              "    \"5\": \"LABEL_5\",\n",
              "    \"6\": \"LABEL_6\"\n",
              "  },\n",
              "  \"initializer_range\": 0.02,\n",
              "  \"intermediate_size\": 3072,\n",
              "  \"label2id\": {\n",
              "    \"LABEL_0\": 0,\n",
              "    \"LABEL_1\": 1,\n",
              "    \"LABEL_2\": 2,\n",
              "    \"LABEL_3\": 3,\n",
              "    \"LABEL_4\": 4,\n",
              "    \"LABEL_5\": 5,\n",
              "    \"LABEL_6\": 6\n",
              "  },\n",
              "  \"layer_norm_eps\": 1e-12,\n",
              "  \"max_position_embeddings\": 512,\n",
              "  \"model_type\": \"bert\",\n",
              "  \"num_attention_heads\": 12,\n",
              "  \"num_hidden_layers\": 12,\n",
              "  \"pad_token_id\": 0,\n",
              "  \"position_embedding_type\": \"absolute\",\n",
              "  \"transformers_version\": \"4.42.4\",\n",
              "  \"type_vocab_size\": 2,\n",
              "  \"use_cache\": true,\n",
              "  \"vocab_size\": 31090\n",
              "}"
            ]
          },
          "metadata": {},
          "execution_count": 55
        }
      ],
      "source": [
        "model.config"
      ]
    },
    {
      "cell_type": "code",
      "execution_count": 56,
      "metadata": {
        "colab": {
          "base_uri": "https://localhost:8080/"
        },
        "id": "qmjlyLnkDN6C",
        "outputId": "20407602-f0ca-4749-c802-68bb3165567a"
      },
      "outputs": [
        {
          "output_type": "stream",
          "name": "stderr",
          "text": [
            "/usr/local/lib/python3.10/dist-packages/transformers/optimization.py:591: FutureWarning: This implementation of AdamW is deprecated and will be removed in a future version. Use the PyTorch implementation torch.optim.AdamW instead, or set `no_deprecation_warning=True` to disable this warning\n",
            "  warnings.warn(\n"
          ]
        }
      ],
      "source": [
        "# Optimizer and learning rate scheduler\n",
        "optimizer = AdamW(model.parameters(), lr=2e-5, eps=1e-8)\n",
        "total_steps = len(train_dataloader) * 20\n",
        "num_warmup_steps = 1e-4\n",
        "scheduler = get_linear_schedule_with_warmup(optimizer, num_warmup_steps=num_warmup_steps, num_training_steps=total_steps)"
      ]
    },
    {
      "cell_type": "code",
      "execution_count": 57,
      "metadata": {
        "id": "xj4AnpxJDN6C"
      },
      "outputs": [],
      "source": [
        "def calculate_metrics(valType, predictions, true_labels):\n",
        "    # Confusion matrix\n",
        "    if(valType == 'test'):\n",
        "        cm = confusion_matrix(true_labels, predictions)\n",
        "        print(\"Confusion Matrix:\\n\", cm)\n",
        "\n",
        "        # Classification report (includes precision, recall, F1 score)\n",
        "        report = classification_report(true_labels, predictions, target_names=[str(i) for i in range(len(np.unique(true_labels)))])\n",
        "        print(\"\\nClassification Report:\\n\", report)\n",
        "\n",
        "        # Calculate different types of F1 scores, precision, and recall\n",
        "        f1_macro = f1_score(true_labels, predictions, average='macro')\n",
        "        f1_micro = f1_score(true_labels, predictions, average='micro')\n",
        "        f1_weighted = f1_score(true_labels, predictions, average='weighted')\n",
        "\n",
        "        precision_macro = precision_score(true_labels, predictions, average='macro')\n",
        "        precision_micro = precision_score(true_labels, predictions, average='micro')\n",
        "        precision_weighted = precision_score(true_labels, predictions, average='weighted')\n",
        "\n",
        "        recall_macro = recall_score(true_labels, predictions, average='macro')\n",
        "        recall_micro = recall_score(true_labels, predictions, average='micro')\n",
        "        recall_weighted = recall_score(true_labels, predictions, average='weighted')\n",
        "\n",
        "        print(f\"Macro F1 Score: {f1_macro}\")\n",
        "        print(f\"Micro F1 Score: {f1_micro}\")\n",
        "        print(f\"Weighted F1 Score: {f1_weighted}\")\n",
        "\n",
        "        print(f\"Macro Precision: {precision_macro}\")\n",
        "        print(f\"Micro Precision: {precision_micro}\")\n",
        "        print(f\"Weighted Precision: {precision_weighted}\")\n",
        "\n",
        "        print(f\"Macro Recall: {recall_macro}\")\n",
        "        print(f\"Micro Recall: {recall_micro}\")\n",
        "        print(f\"Weighted Recall: {recall_weighted}\")\n",
        "\n",
        "    elif(valType == 'val'):\n",
        "        cm = confusion_matrix(true_labels, predictions)\n",
        "        f1_macro = f1_score(true_labels, predictions, average='macro')\n",
        "        f1_micro = f1_score(true_labels, predictions, average='micro')\n",
        "        f1_weighted = f1_score(true_labels, predictions, average='weighted')\n",
        "\n",
        "        precision_macro = precision_score(true_labels, predictions, average='macro')\n",
        "        precision_micro = precision_score(true_labels, predictions, average='micro')\n",
        "        precision_weighted = precision_score(true_labels, predictions, average='weighted')\n",
        "\n",
        "        recall_macro = recall_score(true_labels, predictions, average='macro')\n",
        "        recall_micro = recall_score(true_labels, predictions, average='micro')\n",
        "        recall_weighted = recall_score(true_labels, predictions, average='weighted')\n",
        "        # print('Val Micro F1:', f1_micro)\n",
        "        return f1_micro"
      ]
    },
    {
      "cell_type": "code",
      "execution_count": 58,
      "metadata": {
        "colab": {
          "base_uri": "https://localhost:8080/"
        },
        "id": "05xzH0FEDN6C",
        "outputId": "4e9b636b-202f-4c68-c754-dc0053905050"
      },
      "outputs": [
        {
          "output_type": "stream",
          "name": "stderr",
          "text": [
            "Epoch 1/20: 100%|██████████| 300/300 [03:11<00:00,  1.57batch/s]\n"
          ]
        },
        {
          "output_type": "stream",
          "name": "stdout",
          "text": [
            "Epoch 1/20\n",
            "  Train Loss: 0.5989201717823743\n",
            "  Val Micro F1: 0.8684759916492694\n",
            "  Time: 3m 14s\n"
          ]
        },
        {
          "output_type": "stream",
          "name": "stderr",
          "text": [
            "Epoch 2/20: 100%|██████████| 300/300 [03:10<00:00,  1.57batch/s]\n"
          ]
        },
        {
          "output_type": "stream",
          "name": "stdout",
          "text": [
            "Epoch 2/20\n",
            "  Train Loss: 0.23394950684780877\n",
            "  Val Micro F1: 0.8956158663883089\n",
            "  Time: 3m 14s\n"
          ]
        },
        {
          "output_type": "stream",
          "name": "stderr",
          "text": [
            "Epoch 3/20: 100%|██████████| 300/300 [03:10<00:00,  1.57batch/s]\n"
          ]
        },
        {
          "output_type": "stream",
          "name": "stdout",
          "text": [
            "Epoch 3/20\n",
            "  Train Loss: 0.1416627359436825\n",
            "  Val Micro F1: 0.8977035490605428\n",
            "  Time: 3m 14s\n"
          ]
        },
        {
          "output_type": "stream",
          "name": "stderr",
          "text": [
            "Epoch 4/20: 100%|██████████| 300/300 [03:10<00:00,  1.58batch/s]\n"
          ]
        },
        {
          "output_type": "stream",
          "name": "stdout",
          "text": [
            "Epoch 4/20\n",
            "  Train Loss: 0.08010256132499004\n",
            "  Val Micro F1: 0.8851774530271399\n",
            "  Time: 3m 13s\n"
          ]
        },
        {
          "output_type": "stream",
          "name": "stderr",
          "text": [
            "Epoch 5/20: 100%|██████████| 300/300 [03:10<00:00,  1.58batch/s]\n"
          ]
        },
        {
          "output_type": "stream",
          "name": "stdout",
          "text": [
            "Epoch 5/20\n",
            "  Train Loss: 0.05140880016804052\n",
            "  Val Micro F1: 0.906054279749478\n",
            "  Time: 3m 13s\n"
          ]
        },
        {
          "output_type": "stream",
          "name": "stderr",
          "text": [
            "Epoch 6/20: 100%|██████████| 300/300 [03:10<00:00,  1.58batch/s]\n"
          ]
        },
        {
          "output_type": "stream",
          "name": "stdout",
          "text": [
            "Epoch 6/20\n",
            "  Train Loss: 0.022838485107252685\n",
            "  Val Micro F1: 0.8893528183716075\n",
            "  Time: 3m 13s\n"
          ]
        },
        {
          "output_type": "stream",
          "name": "stderr",
          "text": [
            "Epoch 7/20: 100%|██████████| 300/300 [03:10<00:00,  1.58batch/s]\n"
          ]
        },
        {
          "output_type": "stream",
          "name": "stdout",
          "text": [
            "Epoch 7/20\n",
            "  Train Loss: 0.012290955249336549\n",
            "  Val Micro F1: 0.8956158663883089\n",
            "  Time: 3m 13s\n"
          ]
        },
        {
          "output_type": "stream",
          "name": "stderr",
          "text": [
            "Epoch 8/20: 100%|██████████| 300/300 [03:10<00:00,  1.58batch/s]\n"
          ]
        },
        {
          "output_type": "stream",
          "name": "stdout",
          "text": [
            "Epoch 8/20\n",
            "  Train Loss: 0.007653954147632855\n",
            "  Val Micro F1: 0.9102296450939458\n",
            "  Time: 3m 13s\n"
          ]
        },
        {
          "output_type": "stream",
          "name": "stderr",
          "text": [
            "Epoch 9/20: 100%|██████████| 300/300 [03:10<00:00,  1.57batch/s]\n"
          ]
        },
        {
          "output_type": "stream",
          "name": "stdout",
          "text": [
            "Epoch 9/20\n",
            "  Train Loss: 0.004337858236394823\n",
            "  Val Micro F1: 0.9018789144050104\n",
            "  Time: 3m 14s\n"
          ]
        },
        {
          "output_type": "stream",
          "name": "stderr",
          "text": [
            "Epoch 10/20: 100%|██████████| 300/300 [03:10<00:00,  1.58batch/s]\n"
          ]
        },
        {
          "output_type": "stream",
          "name": "stdout",
          "text": [
            "Epoch 10/20\n",
            "  Train Loss: 0.003920638060226338\n",
            "  Val Micro F1: 0.8977035490605428\n",
            "  Time: 3m 13s\n"
          ]
        },
        {
          "output_type": "stream",
          "name": "stderr",
          "text": [
            "Epoch 11/20: 100%|██████████| 300/300 [03:10<00:00,  1.58batch/s]\n"
          ]
        },
        {
          "output_type": "stream",
          "name": "stdout",
          "text": [
            "Epoch 11/20\n",
            "  Train Loss: 0.0012731530544018218\n",
            "  Val Micro F1: 0.8997912317327766\n",
            "  Time: 3m 13s\n"
          ]
        },
        {
          "output_type": "stream",
          "name": "stderr",
          "text": [
            "Epoch 12/20: 100%|██████████| 300/300 [03:10<00:00,  1.58batch/s]\n"
          ]
        },
        {
          "output_type": "stream",
          "name": "stdout",
          "text": [
            "Epoch 12/20\n",
            "  Train Loss: 0.00242266972491052\n",
            "  Val Micro F1: 0.8956158663883089\n",
            "  Time: 3m 13s\n"
          ]
        },
        {
          "output_type": "stream",
          "name": "stderr",
          "text": [
            "Epoch 13/20: 100%|██████████| 300/300 [03:10<00:00,  1.58batch/s]\n"
          ]
        },
        {
          "output_type": "stream",
          "name": "stdout",
          "text": [
            "Epoch 13/20\n",
            "  Train Loss: 0.001123333067225758\n",
            "  Val Micro F1: 0.8997912317327766\n",
            "  Time: 3m 13s\n"
          ]
        },
        {
          "output_type": "stream",
          "name": "stderr",
          "text": [
            "Epoch 14/20: 100%|██████████| 300/300 [03:10<00:00,  1.57batch/s]\n"
          ]
        },
        {
          "output_type": "stream",
          "name": "stdout",
          "text": [
            "Epoch 14/20\n",
            "  Train Loss: 0.0006689360948803368\n",
            "  Val Micro F1: 0.8997912317327766\n",
            "  Time: 3m 14s\n"
          ]
        },
        {
          "output_type": "stream",
          "name": "stderr",
          "text": [
            "Epoch 15/20: 100%|██████████| 300/300 [03:10<00:00,  1.57batch/s]\n"
          ]
        },
        {
          "output_type": "stream",
          "name": "stdout",
          "text": [
            "Epoch 15/20\n",
            "  Train Loss: 0.00022905362449819223\n",
            "  Val Micro F1: 0.9039665970772442\n",
            "  Time: 3m 14s\n"
          ]
        },
        {
          "output_type": "stream",
          "name": "stderr",
          "text": [
            "Epoch 16/20: 100%|██████████| 300/300 [03:10<00:00,  1.58batch/s]\n"
          ]
        },
        {
          "output_type": "stream",
          "name": "stdout",
          "text": [
            "Epoch 16/20\n",
            "  Train Loss: 0.00040892652151039026\n",
            "  Val Micro F1: 0.8977035490605428\n",
            "  Time: 3m 13s\n"
          ]
        },
        {
          "output_type": "stream",
          "name": "stderr",
          "text": [
            "Epoch 17/20: 100%|██████████| 300/300 [03:10<00:00,  1.58batch/s]\n"
          ]
        },
        {
          "output_type": "stream",
          "name": "stdout",
          "text": [
            "Epoch 17/20\n",
            "  Train Loss: 0.00012704396785314506\n",
            "  Val Micro F1: 0.9018789144050104\n",
            "  Time: 3m 13s\n"
          ]
        },
        {
          "output_type": "stream",
          "name": "stderr",
          "text": [
            "Epoch 18/20: 100%|██████████| 300/300 [03:10<00:00,  1.58batch/s]\n"
          ]
        },
        {
          "output_type": "stream",
          "name": "stdout",
          "text": [
            "Epoch 18/20\n",
            "  Train Loss: 0.00011818201366016487\n",
            "  Val Micro F1: 0.9018789144050104\n",
            "  Time: 3m 13s\n"
          ]
        },
        {
          "output_type": "stream",
          "name": "stderr",
          "text": [
            "Epoch 19/20: 100%|██████████| 300/300 [03:10<00:00,  1.58batch/s]\n"
          ]
        },
        {
          "output_type": "stream",
          "name": "stdout",
          "text": [
            "Epoch 19/20\n",
            "  Train Loss: 0.0004968292575358646\n",
            "  Val Micro F1: 0.9018789144050104\n",
            "  Time: 3m 14s\n"
          ]
        },
        {
          "output_type": "stream",
          "name": "stderr",
          "text": [
            "Epoch 20/20: 100%|██████████| 300/300 [03:10<00:00,  1.58batch/s]\n"
          ]
        },
        {
          "output_type": "stream",
          "name": "stdout",
          "text": [
            "Epoch 20/20\n",
            "  Train Loss: 0.0001243506183527643\n",
            "  Val Micro F1: 0.9039665970772442\n",
            "  Time: 3m 13s\n"
          ]
        }
      ],
      "source": [
        "epochs = 20\n",
        "for epoch in range(epochs):\n",
        "    model.train()\n",
        "    total_train_loss = 0\n",
        "    start_time = time.time()\n",
        "\n",
        "    # Training\n",
        "    for step, batch in enumerate(tqdm(train_dataloader, desc=f\"Epoch {epoch + 1}/{epochs}\", unit=\"batch\")):\n",
        "        batch = tuple(t.to(device) for t in batch)\n",
        "        input_ids, input_mask, labels = batch\n",
        "\n",
        "\n",
        "        model.zero_grad()\n",
        "        outputs = model(input_ids=input_ids, attention_mask=input_mask, labels=labels)\n",
        "        loss = outputs.loss\n",
        "        total_train_loss += loss.item()\n",
        "\n",
        "        loss.backward()\n",
        "        torch.nn.utils.clip_grad_norm_(model.parameters(), max_norm=1.0)\n",
        "        optimizer.step()\n",
        "        scheduler.step()\n",
        "\n",
        "    avg_train_loss = total_train_loss / len(train_dataloader)\n",
        "\n",
        "    # Validation\n",
        "    model.eval()\n",
        "    predictions = []\n",
        "    true_labels = []\n",
        "\n",
        "    for batch in val_dataloader:\n",
        "        batch = tuple(t.to(device) for t in batch)\n",
        "        input_ids, input_mask, labels = batch\n",
        "\n",
        "        with torch.no_grad():\n",
        "            outputs = model(input_ids=input_ids, attention_mask=input_mask)\n",
        "            logits = outputs.logits\n",
        "\n",
        "        logits = logits.detach().cpu().numpy()\n",
        "        label_ids = labels.to('cpu').numpy()\n",
        "\n",
        "        batch_predictions = np.argmax(logits, axis=1)\n",
        "        predictions.extend(batch_predictions)\n",
        "        true_labels.extend(label_ids)\n",
        "\n",
        "    val_micro_f1 = calculate_metrics('val', predictions, true_labels)\n",
        "    elapsed_time = time.time() - start_time\n",
        "\n",
        "    # Print epoch summary\n",
        "    print(f\"Epoch {epoch + 1}/{epochs}\")\n",
        "    print(f\"  Train Loss: {avg_train_loss}\")\n",
        "    print(f\"  Val Micro F1: {val_micro_f1}\")\n",
        "    print(f\"  Time: {elapsed_time // 60:.0f}m {elapsed_time % 60:.0f}s\")"
      ]
    },
    {
      "cell_type": "code",
      "execution_count": 59,
      "metadata": {
        "colab": {
          "base_uri": "https://localhost:8080/"
        },
        "id": "YF1GCpcUDN6D",
        "outputId": "6a2bfbff-56bf-42a3-f74d-09757586129e"
      },
      "outputs": [
        {
          "output_type": "stream",
          "name": "stdout",
          "text": [
            "Confusion Matrix:\n",
            " [[254   2   3   5  10   2   5]\n",
            " [  0 199   0   6   4   0   0]\n",
            " [  2   0 363   0   2  16   1]\n",
            " [  9  13   2 379  10   1  10]\n",
            " [  9   2   2  11 432   1   1]\n",
            " [  0   0  14   1   1 268  14]\n",
            " [  2   1   4   0   2  19 312]]\n",
            "\n",
            "Classification Report:\n",
            "               precision    recall  f1-score   support\n",
            "\n",
            "           0       0.92      0.90      0.91       281\n",
            "           1       0.92      0.95      0.93       209\n",
            "           2       0.94      0.95      0.94       384\n",
            "           3       0.94      0.89      0.92       424\n",
            "           4       0.94      0.94      0.94       458\n",
            "           5       0.87      0.90      0.89       298\n",
            "           6       0.91      0.92      0.91       340\n",
            "\n",
            "    accuracy                           0.92      2394\n",
            "   macro avg       0.92      0.92      0.92      2394\n",
            "weighted avg       0.92      0.92      0.92      2394\n",
            "\n",
            "Macro F1 Score: 0.9205871756165026\n",
            "Micro F1 Score: 0.9218880534670009\n",
            "Weighted F1 Score: 0.9218835232341194\n",
            "Macro Precision: 0.9193388660572206\n",
            "Micro Precision: 0.9218880534670009\n",
            "Weighted Precision: 0.9222503128286776\n",
            "Macro Recall: 0.9222079263222068\n",
            "Micro Recall: 0.9218880534670009\n",
            "Weighted Recall: 0.9218880534670009\n"
          ]
        }
      ],
      "source": [
        "# Evaluation\n",
        "model.eval()\n",
        "predictions = []\n",
        "true_labels = []\n",
        "\n",
        "for batch in test_dataloader:\n",
        "    batch = tuple(t.to(device) for t in batch)\n",
        "    input_ids, input_mask, labels = batch\n",
        "\n",
        "    with torch.no_grad():\n",
        "        outputs = model(input_ids=input_ids, attention_mask=input_mask)\n",
        "        logits = outputs.logits\n",
        "\n",
        "    logits = logits.detach().cpu().numpy()\n",
        "    label_ids = labels.to('cpu').numpy()\n",
        "\n",
        "    batch_predictions = np.argmax(logits, axis=1)\n",
        "    predictions.extend(batch_predictions)\n",
        "    true_labels.extend(label_ids)\n",
        "\n",
        "# Calculate and print metrics\n",
        "calculate_metrics('test', predictions, true_labels)"
      ]
    },
    {
      "cell_type": "code",
      "execution_count": 60,
      "metadata": {
        "id": "zBU4h6E7DN6D"
      },
      "outputs": [],
      "source": [
        "model.save_pretrained('/content/drive/MyDrive/WoS/SciBERT_WoS_Abstracts_11967')"
      ]
    }
  ],
  "metadata": {
    "language_info": {
      "name": "python"
    },
    "colab": {
      "provenance": [],
      "machine_shape": "hm"
    },
    "kernelspec": {
      "name": "python3",
      "display_name": "Python 3"
    }
  },
  "nbformat": 4,
  "nbformat_minor": 0
}