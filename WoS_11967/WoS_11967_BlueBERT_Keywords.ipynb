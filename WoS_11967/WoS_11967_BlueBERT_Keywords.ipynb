{
  "cells": [
    {
      "cell_type": "code",
      "execution_count": 1,
      "metadata": {
        "colab": {
          "base_uri": "https://localhost:8080/"
        },
        "id": "iRuetRKhDN59",
        "outputId": "3cfa34dc-d9ed-41fa-ee25-d2242b50ac49"
      },
      "outputs": [
        {
          "output_type": "stream",
          "name": "stdout",
          "text": [
            "Thu Aug  1 12:40:37 2024       \n",
            "+---------------------------------------------------------------------------------------+\n",
            "| NVIDIA-SMI 535.104.05             Driver Version: 535.104.05   CUDA Version: 12.2     |\n",
            "|-----------------------------------------+----------------------+----------------------+\n",
            "| GPU  Name                 Persistence-M | Bus-Id        Disp.A | Volatile Uncorr. ECC |\n",
            "| Fan  Temp   Perf          Pwr:Usage/Cap |         Memory-Usage | GPU-Util  Compute M. |\n",
            "|                                         |                      |               MIG M. |\n",
            "|=========================================+======================+======================|\n",
            "|   0  Tesla T4                       Off | 00000000:00:04.0 Off |                    0 |\n",
            "| N/A   64C    P8              10W /  70W |      0MiB / 15360MiB |      0%      Default |\n",
            "|                                         |                      |                  N/A |\n",
            "+-----------------------------------------+----------------------+----------------------+\n",
            "                                                                                         \n",
            "+---------------------------------------------------------------------------------------+\n",
            "| Processes:                                                                            |\n",
            "|  GPU   GI   CI        PID   Type   Process name                            GPU Memory |\n",
            "|        ID   ID                                                             Usage      |\n",
            "|=======================================================================================|\n",
            "|  No running processes found                                                           |\n",
            "+---------------------------------------------------------------------------------------+\n"
          ]
        }
      ],
      "source": [
        "gpu_info = !nvidia-smi\n",
        "gpu_info = '\\n'.join(gpu_info)\n",
        "if gpu_info.find('failed') >= 0:\n",
        "  print('Not connected to a GPU')\n",
        "else:\n",
        "  print(gpu_info)"
      ]
    },
    {
      "cell_type": "code",
      "execution_count": 2,
      "metadata": {
        "colab": {
          "base_uri": "https://localhost:8080/"
        },
        "id": "7BMB0YxADN5-",
        "outputId": "fe65fbcd-b663-4574-d220-8e24f1dc8ee4"
      },
      "outputs": [
        {
          "output_type": "stream",
          "name": "stdout",
          "text": [
            "Your runtime has 13.6 gigabytes of available RAM\n",
            "\n",
            "Not using a high-RAM runtime\n"
          ]
        }
      ],
      "source": [
        "from psutil import virtual_memory\n",
        "ram_gb = virtual_memory().total / 1e9\n",
        "print('Your runtime has {:.1f} gigabytes of available RAM\\n'.format(ram_gb))\n",
        "\n",
        "if ram_gb < 20:\n",
        "  print('Not using a high-RAM runtime')\n",
        "else:\n",
        "  print('You are using a high-RAM runtime!')"
      ]
    },
    {
      "cell_type": "code",
      "execution_count": 3,
      "metadata": {
        "colab": {
          "base_uri": "https://localhost:8080/"
        },
        "id": "e2qEb3ivDN5-",
        "outputId": "4e644e50-ed88-4e04-ef3a-a2a155b5cf80"
      },
      "outputs": [
        {
          "output_type": "stream",
          "name": "stdout",
          "text": [
            "Mounted at /content/drive\n"
          ]
        }
      ],
      "source": [
        "from google.colab import drive\n",
        "drive.mount('/content/drive')"
      ]
    },
    {
      "cell_type": "code",
      "execution_count": 4,
      "metadata": {
        "colab": {
          "base_uri": "https://localhost:8080/"
        },
        "id": "ZRaneJBnDN5_",
        "outputId": "f95d4741-69e8-462c-a761-2a24031259b6"
      },
      "outputs": [
        {
          "output_type": "stream",
          "name": "stdout",
          "text": [
            "Requirement already satisfied: transformers in /usr/local/lib/python3.10/dist-packages (4.42.4)\n",
            "Requirement already satisfied: filelock in /usr/local/lib/python3.10/dist-packages (from transformers) (3.15.4)\n",
            "Requirement already satisfied: huggingface-hub<1.0,>=0.23.2 in /usr/local/lib/python3.10/dist-packages (from transformers) (0.23.5)\n",
            "Requirement already satisfied: numpy<2.0,>=1.17 in /usr/local/lib/python3.10/dist-packages (from transformers) (1.26.4)\n",
            "Requirement already satisfied: packaging>=20.0 in /usr/local/lib/python3.10/dist-packages (from transformers) (24.1)\n",
            "Requirement already satisfied: pyyaml>=5.1 in /usr/local/lib/python3.10/dist-packages (from transformers) (6.0.1)\n",
            "Requirement already satisfied: regex!=2019.12.17 in /usr/local/lib/python3.10/dist-packages (from transformers) (2024.5.15)\n",
            "Requirement already satisfied: requests in /usr/local/lib/python3.10/dist-packages (from transformers) (2.31.0)\n",
            "Requirement already satisfied: safetensors>=0.4.1 in /usr/local/lib/python3.10/dist-packages (from transformers) (0.4.3)\n",
            "Requirement already satisfied: tokenizers<0.20,>=0.19 in /usr/local/lib/python3.10/dist-packages (from transformers) (0.19.1)\n",
            "Requirement already satisfied: tqdm>=4.27 in /usr/local/lib/python3.10/dist-packages (from transformers) (4.66.4)\n",
            "Requirement already satisfied: fsspec>=2023.5.0 in /usr/local/lib/python3.10/dist-packages (from huggingface-hub<1.0,>=0.23.2->transformers) (2024.6.1)\n",
            "Requirement already satisfied: typing-extensions>=3.7.4.3 in /usr/local/lib/python3.10/dist-packages (from huggingface-hub<1.0,>=0.23.2->transformers) (4.12.2)\n",
            "Requirement already satisfied: charset-normalizer<4,>=2 in /usr/local/lib/python3.10/dist-packages (from requests->transformers) (3.3.2)\n",
            "Requirement already satisfied: idna<4,>=2.5 in /usr/local/lib/python3.10/dist-packages (from requests->transformers) (3.7)\n",
            "Requirement already satisfied: urllib3<3,>=1.21.1 in /usr/local/lib/python3.10/dist-packages (from requests->transformers) (2.0.7)\n",
            "Requirement already satisfied: certifi>=2017.4.17 in /usr/local/lib/python3.10/dist-packages (from requests->transformers) (2024.7.4)\n"
          ]
        }
      ],
      "source": [
        "!pip install transformers"
      ]
    },
    {
      "cell_type": "code",
      "execution_count": 5,
      "metadata": {
        "id": "jEVF9FbODN5_"
      },
      "outputs": [],
      "source": [
        "import os\n",
        "import numpy as np\n",
        "import pandas as pd\n",
        "from sklearn.model_selection import train_test_split\n",
        "from sklearn.metrics import confusion_matrix, classification_report, f1_score, precision_score, recall_score\n",
        "from transformers import AutoTokenizer, AutoModelForSequenceClassification, AdamW, get_linear_schedule_with_warmup\n",
        "import torch\n",
        "from torch.utils.data import DataLoader, TensorDataset, RandomSampler, SequentialSampler\n",
        "import torch.nn.functional as F\n",
        "from tqdm import trange, tqdm\n",
        "import matplotlib.pyplot as plt\n",
        "import sklearn.utils\n",
        "import time\n",
        "import re\n"
      ]
    },
    {
      "cell_type": "code",
      "execution_count": 6,
      "metadata": {
        "colab": {
          "base_uri": "https://localhost:8080/"
        },
        "id": "d84lKOxcDN5_",
        "outputId": "650fa121-6975-49f9-e910-e8f026985126"
      },
      "outputs": [
        {
          "output_type": "stream",
          "name": "stdout",
          "text": [
            "(11967, 4)\n"
          ]
        }
      ],
      "source": [
        "# Retrive the data from stored dataset\n",
        "dataDir = \"/content/drive/MyDrive/WoS/data/X11967\"\n",
        "tsvData = os.path.join(dataDir,\"WoSDataset_11967.tsv\")\n",
        "\n",
        "tsvData = np.loadtxt(tsvData, dtype=str, delimiter=\"\\t\")\n",
        "print(np.shape(tsvData))"
      ]
    },
    {
      "cell_type": "code",
      "execution_count": 7,
      "metadata": {
        "colab": {
          "base_uri": "https://localhost:8080/"
        },
        "id": "FIYp3nhcDN5_",
        "outputId": "54326cc2-cbe2-4927-a627-9fb160cbd40e"
      },
      "outputs": [
        {
          "output_type": "stream",
          "name": "stdout",
          "text": [
            "[['2' 'Psychology'\n",
            "  ' interview anxiety interview performance person perception job interview        '\n",
            "  'the aim of this study was to investigate a the behavioral cues that are displayed by and trait judgments formed about anxious interviewees and b why anxious interviewees receive lower interview performance ratings the behavioral expression of interview anxiety model was created as a conceptual framework to explore these relations we videotaped and transcribed mock job interviews obtained ratings of interview anxiety and interview performance and trained raters to assess several verbal and nonverbal cues and trait judgments the results indicated that few behavioral cues but several traits were related to interviewee and interviewer ratings of interview anxiety two factors emerged from our factor analysis on the trait judgmentsassertiveness and interpersonal warmth mediation analyses were performed and indicated that assertiveness and interpersonal warmth mediated the relation between interview anxiety and interview performance speech rate words spoken per minute and assertiveness were found to mediate the relation between interviewee and interviewer ratings of interview anxiety overall the results indicated that interviewees should focus less on their nervous tics and more on the broader impressions that they convey our findings indicate that anxious interviewees may want to focus on how assertive and interpersonally warm they appear to interviewers to our knowledge this is the first study to use a validated interview anxiety measure to examine behavioral cues and traits exhibited by anxious interviewees we offer new insight into why anxious interviewees receive lower interview performance ratings']\n",
            " ['0' 'CS'\n",
            "  ' affective database anxiety depression depressionanxietystress scales dass emotional state handwriting random forests stress        '\n",
            "  'the detection of negative emotions through daily activities such as writing and drawing is useful for promoting wellbeing the spread of humanmachine interfaces such as tablets makes the collection of handwriting and drawing samples easier in this context we present a first publicly available database which relates emotional states to handwriting and drawing that we call emothaw emotion recognition from handwriting and drawing this database includes samples of 129 participants whose emotional states namely anxiety depression and stress are assessed by the depressionanxietystress scales dass questionnaire seven tasks are recorded through a digitizing tablet pentagons and house drawing words copied in handprint circles and clock drawing and one sentence copied in cursive writing records consist in pen positions onpaper and inair time stamp pressure pen azimuth and altitude we report our analysis on this database from collected data we first compute measurements related to timing and ductus we compute separate measurements according to the position of the writing device on paper or inair we analyze and classify this set of measurements referred to as features using a random forest approach this latter is a machine learning method 1 based on an ensemble of decision trees which includes a feature ranking process we use this ranking process to identify the features which best reveal a targeted emotional state we then build random forest classifiers associated with each emotional state we provide accuracy sensitivity and specificity evaluation measures obtained from crossvalidation experiments our results showthat anxiety and stress recognition perform better than depression recognition']\n",
            " ['6' 'biochemistry'\n",
            "  ' dna assembly preprocessing sequence alignment gpu computing        '\n",
            "  'dnarna sequencing has recently become a primary way researchers generate biological data for further analysis assembling algorithms are an integral part of this process however some of them require pairwise alignment to be applied to a great deal of reads although several efficient alignment tools have been released over the past few years including those taking advantage of gpus graphics processing units none of them directly targets highthroughput sequencing data as a result a need arose to create software that could handle such data as effectively as possible gdna gpubased dna aligner is the first highly parallel solution that has been optimized to process nucleotide reads dnarna from modern sequencing machines results show that the software reaches up to 89 gcups giga cell updates per second on a single gpu and as a result it is the fastest tool in its class moreover it scales up well on multiple gpus systems including mpibased computational clusters where its performance is counted in tcups tera cups']\n",
            " ['3' 'MAE'\n",
            "  ' induction machine multiphase machine startergenerator 48 v automotive applications thermal analysis thermal model hybrid vehicle        '\n",
            "  'primary european carmakers agree on a 48 v embeddedsupply to support the growing currentload requirements in modern vehicles the functionalities required to the startergenerator are the engine start up launch assistant torque regenerative braking battery charging and early fuel cut off the dynamic load profile and the harsh environment working conditions make thermal issues the key challenge in the machine design the paper presents the simulation and experimental test results of a belt driven startergenerator for 48 v mini hybrid powertrains in particular a double threephase 10 kw induction machine has been selected as the suitable candidate for the application in detail the authors illustrate the experimental calibration and validation of the steady state thermal model as well as the thermal characterization of a liquid cooled prototype finally the paper deals with the temperatures prediction of the motor working in different load conditions']\n",
            " ['5' 'Medical'\n",
            "  ' alcohol abuse chronic alcoholics liver damage skin manifestations        '\n",
            "  'background chronic alcohol intake impacts skin directly through organ dysfunction or by modifying preexisting dermatoses however dermatoses afflicting chronic alcoholics figure in a few studies only aim this study aims to correlate the spectrum of dermatoses in chronic alcoholics with the quantumduration of alcohol intake and raised liver transaminases materials and methods adult males totaling 196 ascertained to fulfill the royal college of psychiatry criteria for chronic alcoholism by the de addiction center and referred for dermatological consult were enrolled as cases and similar number of age sex matched teetotallers as controls data emanating from detailed history clinical examination and routine liver functions tests were summarized and subsequently analyzed including statistically using the chisquare independent t and spearmans rank correlation tests and compared with data from previous studies results majority 104 drank 4150 units of alcoholweek since 340 mean 2001  9322 years generalized pruritus odds ratio or 3115 p  0001 xerosis or 362 p  0008 and seborrheic dermatitis or 1226 p  0001 were significantly more common in cases than controls infections 73 372 eczemas 45 229 and generalized hyperpigmentation 28 142 were the major presenting complaints spider nevi gynecomastia and pellagroid dermatitis were present in 34 173 19 97 and 8 41 respectively exclusively in cases only commonly seen systemic abnormalities were an alcoholic liver disease 45 229 diabetes mellitus 23 117 and peripheral neuropathy 19 97 conclusion knowledge of cutaneous manifestations of chronic alcoholism could prompt indepth history taking of alcohol intake lead to specialist referral and thereby enable timely de addiction hopefully before serious adversities in the chronic alcoholics']\n",
            " ['4' 'Civil' ' service reputation trust evidence theory ami        '\n",
            "  'service reputation is a key factor for service selection and service composition in serviceoriented ambient intelligence systems hence service reputation computing should fully reflect the feature of multirating fusion and the utility value dynamic attenuation characters of the rating the paper combines ds evidence theory with dynamic attenuation and puts forward a service reputation computing algorithm based on multirating fusion which is adapted to the ambient intelligence systems first a layered computing model of the service reputation is given then a mechanism of dynamic attenuation based on time windows an objective rating and advertisement honesty rating of service and a user credibility computing algorithm are presented afterward the rating information is combined with the ds evidence theory to raise an aggregation algorithm of the service general reputation for the ambient intelligence environments finally a prototype test is carried out to verify the effectiveness and availability of the model together with the algorithms']\n",
            " ['3' 'MAE'\n",
            "  ' straightening thinwalled circular steel tube crosssectional ovalization maximal flattening plastic bending        '\n",
            "  'crosssectional ovalization of thinwalled circular steel tube because of large plastic bending also known as the brazier effect usually occurs during the initial stage of tubes continuous rotary straightening process the amount of ovalization defined as maximal cross section flattening is an important technical parameter in tubes straightening process to control tubes bending deformation and prevent buckling however for the lack of special analytical model the maximal section flattening was determined in accordance with the specified charts developed by experienced operators on the basis of experimental data thus it was inevitable that the localized buckling might occur during some actual straightening operations new normal strain component formulas were derived based on the thin shell theory then strain energy of thinwalled tube per unit length was obtained using the elasticplastic theory a rational model for predicting the maximal section flattening of the thinwalled circular steel tube under its straightening process was presented by the principle of minimum potential energy the new model was validated by experiments and numerical simulations the results show that the new model agrees well with the experiments and the numerical simulations with error of less than 10 this new model was expected to find its potential application in thinwalled steel tube straightening machine design']\n",
            " ['1' 'ECE'\n",
            "  ' envelopefollowing methods simulation of switching power converters timedomain simulation highorder stable methods        '\n",
            "  'transient analysis of switching power converter spc circuits is a computationally expensive task this high expense arises from the fact that these circuits are driven by a clock with a period that is very small compared to the time interval the designer is typically interested in envelopefollowing ef technique has been recently proposed in the literature for efficient timedomain simulation of spc circuits in this paper a parallel highorder ef method which is based on obreshkovformula is presented for analysis of spc circuits a numerical example is presented to demonstrate the efficiency and scalability of the proposed method on parallel platforms']\n",
            " ['1' 'ECE'\n",
            "  ' flash flood electrical circuit analogy weibull distribution distributed modelling        '\n",
            "  'the assessment and prevention of floods require appropriate forecasting and knowledge of the related hydrological processes due to the similar form of the governing equations flood hydrograph shows a clear analytical and mathematical analogy with electrical circuits in this paper a spatially distributed hydrological model is developed which is analogue to a network of electrical resistancecapacitance with five circuits for describing the hydrological processes leading to floods the spatially distributed hydrological model simulates rainfall potential evapotranspiration canopy interception surface storage and soil storage the parameters for analogical modelling were derived from translation of the physical catchment characteristics a twoparameter weibull equation aggregates the response functions of each pixel and calculates the hydrograph of the catchment we applied the model to the openbook or tilted vcatchment theoretical benchmark problem as well as to four hourly flood events and simulation of daily discharges for the last two cases data were used from the mountainous catchment of upper tarqui in the andes of ecuador comparison of single versus multiple circuit designs for the benchmark problem indicates that the multiple circuit analogy provides a result similar to other hydrological models the results further illustrate the usefulness of the methodology for flood modelling and how it can simplify the simulation for ungauged basins of temporal and spatial variations of influencing hydrological processes']\n",
            " ['3' 'MAE'\n",
            "  ' ski motion analysis posture joint angle inertial sensor sensor fusion        '\n",
            "  'this paper deals with the motion analysis of skier gliding on the actual snow field using inertial sensors it is difficult to measure the motion of skier gliding on the actual snow field since the gliding velocity is fast and the measurement area is large therefore few studies have analyzed ski turns in gliding on the actual snow field it is necessary to analyze the skier gliding on the actual snow field in resolving the mechanism of ski turns in our previous study we developed the motion measurement method of skier using inertial and magnetic field sensors the 3d posture is estimated by applying the sensor fusion method and the method can estimate the 3d posture compensating the drift error of gyro sensor and reducing the effect of dynamic acceleration of accelerometer furthermore we developed the sensor fusion method estimating the 3d posture in local coordinate by the information of inertial sensors attaching the body segments the joint angle of skier in gliding on the actual snow field can be estimated by this method and inverse kinematics we conducted the measurement experiment by skier gliding on the actual snow field the inertial sensors and the gps receiver were attached to the body segments and the top of skier respectively skier conducted carving and skidding turns in this experiment we calculated the joint angles of skier by the information of inertial sensors and the switchovers of turns are estimated by the gps receiver output the results of motion analysis indicated the major feature of skiers motion and the difference between carving and skidding turns therefore the analysis results can be used to the skill rating the clarification of the mechanism of ski turns and the suggestion of more ideal turning form c 2013 the authors published by elsevier ltd selection and peerreview under responsibility of the school of aerospace mechanical and manufacturing engineering rmit university']]\n"
          ]
        }
      ],
      "source": [
        "print(tsvData[0:10])"
      ]
    },
    {
      "cell_type": "code",
      "execution_count": 8,
      "metadata": {
        "id": "WUvZlOibDN5_"
      },
      "outputs": [],
      "source": [
        "allLabels = tsvData[:,0]\n",
        "domains = tsvData[:,1]\n",
        "keywords = tsvData[:,2]\n",
        "abstracts = tsvData[:,3]"
      ]
    },
    {
      "cell_type": "code",
      "execution_count": 9,
      "metadata": {
        "colab": {
          "base_uri": "https://localhost:8080/"
        },
        "id": "SE5jkqySDN6A",
        "outputId": "5f6ebbab-bc44-4351-c706-fe79228f737d"
      },
      "outputs": [
        {
          "output_type": "stream",
          "name": "stdout",
          "text": [
            "Labels  ['CS' 'Civil' 'ECE' 'MAE' 'Medical' 'Psychology' 'biochemistry']\n",
            "Label counts  [1499 2107 1132 1925 1617 1959 1728]\n"
          ]
        }
      ],
      "source": [
        "labels = np.unique(domains, return_counts=True)[0]\n",
        "labelCounts=  np.unique(domains, return_counts=True)[1]\n",
        "\n",
        "print(\"Labels \", labels)\n",
        "print(\"Label counts \", labelCounts)"
      ]
    },
    {
      "cell_type": "code",
      "execution_count": 10,
      "metadata": {
        "colab": {
          "base_uri": "https://localhost:8080/",
          "height": 558
        },
        "id": "4wUHmcLtDN6A",
        "outputId": "11b90ac5-7d70-4d1d-8bb4-15333de430ae"
      },
      "outputs": [
        {
          "output_type": "display_data",
          "data": {
            "text/plain": [
              "<Figure size 1000x600 with 1 Axes>"
            ],
            "image/png": "[encoded data removed]"
          },
          "metadata": {}
        },
        {
          "output_type": "stream",
          "name": "stdout",
          "text": [
            "The domain CS has 1499 records in the dataset.\n",
            "The domain Civil has 2107 records in the dataset.\n",
            "The domain ECE has 1132 records in the dataset.\n",
            "The domain MAE has 1925 records in the dataset.\n",
            "The domain Medical has 1617 records in the dataset.\n",
            "The domain Psychology has 1959 records in the dataset.\n",
            "The domain biochemistry has 1728 records in the dataset.\n"
          ]
        }
      ],
      "source": [
        "# Visualize domain counts in dataset\n",
        "plt.figure(figsize=(10, 6))\n",
        "plt.title(\"Domain Counts (Dataset)\")\n",
        "plt.pie(labelCounts, labels=labels, autopct='%1.1f%%', startangle=140, colors=plt.cm.Paired(range(len(labels))))\n",
        "plt.axis('equal')\n",
        "plt.show()\n",
        "\n",
        "for i, domain in enumerate(labels):\n",
        "    print(\"The domain\", domain, \"has\", labelCounts[i], \"records in the dataset.\")"
      ]
    },
    {
      "cell_type": "code",
      "execution_count": 11,
      "metadata": {
        "colab": {
          "base_uri": "https://localhost:8080/"
        },
        "id": "iy4b69DrDN6A",
        "outputId": "93d1d096-f7c3-4dd1-8259-0fc6ba28f917"
      },
      "outputs": [
        {
          "output_type": "stream",
          "name": "stdout",
          "text": [
            "Number of abstracts:  11967\n",
            "Shape of abstracts:  (11967,)\n",
            "['psychotic disorders are some of the most severe psychiatric conditions patients have difficulties in identifying facial expressions and appear to be highly sensitive to the presence of emotional distractors yet no study has investigated whether perceptual load modulates the interference of emotional distractors our goal was to test whether psychotic patients were more sensitive to irrelevant emotional stimulus even when the task demands a high amount of attentional resources twentytwo participants with schizophrenia or schizoaffective disorder and twentytwo healthy controls performed a target letter discrimination task with emotional taskirrelevant stimulus angry happy and neutral facial expressions targetletters were presented among distratorletters which could be similar low perceptual load or different high load participants should discriminate the targetletter and ignore the facial expression results showed that patients were more prone to distraction by taskirrelevant stimulus especially under high load suggesting difficulties in attention control moreover in psychotic patients happy faces caused higher interference with the task whereas neutral and angry faces resulted in less interference these findings could provide innovative approaches regarding attentional deficits on social contexts in patients with schizophrenia spectrum disorders'\n",
            " 'this paper presents a decentralized control method for distributed generations dgs in an islanded direct current dc microgrid in most typical dc microgrids a decentralized control method is based on a voltage droop control method however the grid voltage differs from node to node due to line voltage drop and hence the power sharing ratio among dgs cannot be matched with as desired value especially in an islanded dc microgrid including an energy storage system as a voltage source it is difficult for dgs to maintain the charge state of the ess in a decentralized way to overcome this problem state of charge socvoltage droop control is applied to the ess by using the proposed droop method the soc information can be assigned to the grid voltage and hence the other dgs are able to support the soc in a decentralized way for dgs to enhance the accuracy of the soc estimation voltage drop is compensated for based on forecasting data and line impedance data the simulation is modeled and implemented using power system computer aided designelectromagnetic transients for dc pscademtdc version 42 winnipeg manitoba canada and the simulation results show that the capability to maintain soc as well as the system voltage profile are improved by using the proposed method']\n",
            "Number of keywords:  11967\n",
            "Shape of keywords:  (11967,)\n",
            "['psychotic disorders are some of the most severe psychiatric conditions patients have difficulties in identifying facial expressions and appear to be highly sensitive to the presence of emotional distractors yet no study has investigated whether perceptual load modulates the interference of emotional distractors our goal was to test whether psychotic patients were more sensitive to irrelevant emotional stimulus even when the task demands a high amount of attentional resources twentytwo participants with schizophrenia or schizoaffective disorder and twentytwo healthy controls performed a target letter discrimination task with emotional taskirrelevant stimulus angry happy and neutral facial expressions targetletters were presented among distratorletters which could be similar low perceptual load or different high load participants should discriminate the targetletter and ignore the facial expression results showed that patients were more prone to distraction by taskirrelevant stimulus especially under high load suggesting difficulties in attention control moreover in psychotic patients happy faces caused higher interference with the task whereas neutral and angry faces resulted in less interference these findings could provide innovative approaches regarding attentional deficits on social contexts in patients with schizophrenia spectrum disorders'\n",
            " 'this paper presents a decentralized control method for distributed generations dgs in an islanded direct current dc microgrid in most typical dc microgrids a decentralized control method is based on a voltage droop control method however the grid voltage differs from node to node due to line voltage drop and hence the power sharing ratio among dgs cannot be matched with as desired value especially in an islanded dc microgrid including an energy storage system as a voltage source it is difficult for dgs to maintain the charge state of the ess in a decentralized way to overcome this problem state of charge socvoltage droop control is applied to the ess by using the proposed droop method the soc information can be assigned to the grid voltage and hence the other dgs are able to support the soc in a decentralized way for dgs to enhance the accuracy of the soc estimation voltage drop is compensated for based on forecasting data and line impedance data the simulation is modeled and implemented using power system computer aided designelectromagnetic transients for dc pscademtdc version 42 winnipeg manitoba canada and the simulation results show that the capability to maintain soc as well as the system voltage profile are improved by using the proposed method']\n",
            "Number of domains:  11967\n",
            "Shape of domains:  (11967,)\n",
            "['Psychology' 'MAE']\n",
            "Number of labels:  11967\n",
            "Shape of labels:  (11967,)\n",
            "['2' '3']\n",
            "['psychotic disorders are some of the most severe psychiatric conditions patients have difficulties in identifying facial expressions and appear to be highly sensitive to the presence of emotional distractors yet no study has investigated whether perceptual load modulates the interference of emotional distractors our goal was to test whether psychotic patients were more sensitive to irrelevant emotional stimulus even when the task demands a high amount of attentional resources twentytwo participants with schizophrenia or schizoaffective disorder and twentytwo healthy controls performed a target letter discrimination task with emotional taskirrelevant stimulus angry happy and neutral facial expressions targetletters were presented among distratorletters which could be similar low perceptual load or different high load participants should discriminate the targetletter and ignore the facial expression results showed that patients were more prone to distraction by taskirrelevant stimulus especially under high load suggesting difficulties in attention control moreover in psychotic patients happy faces caused higher interference with the task whereas neutral and angry faces resulted in less interference these findings could provide innovative approaches regarding attentional deficits on social contexts in patients with schizophrenia spectrum disorders'\n",
            " 'this paper presents a decentralized control method for distributed generations dgs in an islanded direct current dc microgrid in most typical dc microgrids a decentralized control method is based on a voltage droop control method however the grid voltage differs from node to node due to line voltage drop and hence the power sharing ratio among dgs cannot be matched with as desired value especially in an islanded dc microgrid including an energy storage system as a voltage source it is difficult for dgs to maintain the charge state of the ess in a decentralized way to overcome this problem state of charge socvoltage droop control is applied to the ess by using the proposed droop method the soc information can be assigned to the grid voltage and hence the other dgs are able to support the soc in a decentralized way for dgs to enhance the accuracy of the soc estimation voltage drop is compensated for based on forecasting data and line impedance data the simulation is modeled and implemented using power system computer aided designelectromagnetic transients for dc pscademtdc version 42 winnipeg manitoba canada and the simulation results show that the capability to maintain soc as well as the system voltage profile are improved by using the proposed method'\n",
            " 'for the past decade lean manufacturing has reshaped manufacturing processes at numerous corporations even organizations that were already conscious of quality cost and delivery have benefited tremendously from these principles the foundation of lean manufacturing is the elimination of nonvalue added elements waste there are three important value streams in the realization of any product  the engineering value stream the manufacturing value stream and the information management value stream this paper focuses on the engineering value stream the methods of lean manufacturing can be applied for waste elimination in engineering the dissemination of lean manufacturing principles into engineering would multiply the significant benefits already derived by embracing lean in the manufacturing part of the enterprise little attention has been given to a systematic method of lean engineering that aims not only at reducing engineering leadtime but also at identifying measuring and eliminating waste in engineering processes engineering organizations lack a basic methodology for waste elimination this paper proposes a systematic tenstep method for engineering waste elimination such a systematic method will help engineering organizations systematically identify measure and eliminate engineering wastes from all engineering processes the systematic method is then used to demonstrate the elimination of waste in engineering through its application to the manufacturing equipment installation  a manufacturing engineering process in todays competitive world the ability to bring better products to market faster has become the focal point of competition the use of this systematic method for engineering waste elimination holds significant promise for organizations wanting to outperform their competitors on quality cost and delivery'\n",
            " 'nonverbal behavior plays a crucial role in human communication and often leads to misunderstandings between people from different cultures even if they speak the same language fluently while translation systems are available for verbal communication translators for nonverbal communication do not exist yet we present the conceptual design and an early prototype of a realtime gesture translator using body tracking and gesture recognition in avatarmediated intercultural interactions it contributes to the ambitious goal of bridging between cultures by translating culturespecific gestures to enhance mutual understanding possible applications of the gesture translator are discussed as a facilitating tool for global business meetings and as a means of technologyenhanced conflict resolution and prevention'\n",
            " 'optical character recognition ocr that has been a main research topic of computer vision and artificial intelligence now extend its applications to detection of text area from video or image contents taken by camera devices and retrieval of text information from the area this paper aims to implement a binarization algorithm that removes user intervention and provides robust performance to outdoor lights by using tophat algorithm and channel transformation technique in this study we particularly concentrate on text information of outdoor signboards and validate our proposed technique using those data'\n",
            " 'wood is a renewable abundant bioenergy and environment friendly resource woody biomass moisture content mc is a key parameter for controlling the biofuel product qualities and properties in this paper we are interested in predicting mc from data the input impedance of halfwave dipole antenna when buried in the wood pile varies according to the permittivity of wood hence the measurement of reflection coefficient that gives information about the input impedance depends directly on the mc of wood the relationship between the reflection coefficient measurements and the mc is studied based upon this relationship mc predictive models that use machine learning techniques and feature selection methods are proposed numerical experiments using real world data show the relevance of the proposed approach that requires a limited computational power therefore a realtime implementation for industrial processes is feasible c 2016 elsevier bv all rights reserved'\n",
            " 'masculine selfconcept refers to a mans psychological sense of being male in this study we used the semantic misattribution procedure to assess mens implicit masculine selfconcept as expected implicit masculine selfconcept was not associated with social desirability but was positively associated with several genderrelevant outcomes including conformity to masculine norms endorsement of traditional masculinity ideology hostile sexism and benevolent sexism we also found support for a mediation model in which explicit masculine selfconcept mediated the impact of implicit masculine selfconcept on these outcomes these results provide evidence for the importance of implicit masculine selfconcept when exploring genderrelevant outcomes c 2016 elsevier ltd all rights reserved'\n",
            " 'this paper deals with a brief history of the most remarkable euler numbers e i and gamma in mathematical sciences included are many properties of the constants e i and gamma and their applications in algebra geometry physics chemistry ecology business and industry special attention is given to the growth and decay phenomena in many realworld problems including stability and instability of their solutions some specific and modern applications of logarithms complex numbers and complex exponential functions to electrical circuits and mechanical systems are presented with examples included are the use of complex numbers and complex functions in the description and analysis of chaos and fractals with the aid of modern computer technology in addition the phasor method is described with examples of applications in engineering science the major focus of this paper is to provide basic information through historical approach to mathematics teaching and learning of the fundamental knowledge and skills required for students and teachers at all levels so that they can understand the concepts of mathematics and mathematics education in science and technology'\n",
            " 'experimental data from multiple studies show the coarsening of cocontinuous high interfacial tension fluid systems is driven by capillary instabilities coarsening of low interfacial tension systems follows viscosity ratio dependence consistent with the pinchoff of suspended short filaments although there is uncertainty of this interpretation the attenuation of coarsening rates for both types follows a common dependence on phase volume fraction and viscosity ratio dimensional analysis provides an interpretation of the transition from linear coarsening to slower nonlinear coarsening as a balance of interfacial tension driven flow and a critical level of interconnectivity the slowdown of coarsening is consistent with the formation of discrete domains which subsequently coexist with the remaining cocontinuous structure c 2016 american institute of chemical engineers aiche j 62 41404156 2016'\n",
            " 'this paper aims to develop and evaluate information assurance and security learning materials on hardwarefirmware attacks for undergraduate education topics include firmware worms application programming interface and operating systems computing devices are equipped with firmware that performs basic hardware testing and loads operating systems according to hardware rooted security guidelines the following fundamental security primitives are required roots of trust an application programming interface api to the platform and a policy enforcement engine we believe it is important to verify these primitives integrity with handson experiments to educate next generation computer experts the learning material has been implemented and evaluated in an undergraduate computer architecture course using intels chipsec to validate pc bios in terms of known vulnerabilities']\n",
            "[' psychotic disorders schizophrenia attentional control emotional facial expressions perceptual load social cognition        '\n",
            " ' decentralized control durable state of charge soc islanded dc microgrid voltage drop compensation        '\n",
            " ' lean engineering process improvement waste waste elimination        '\n",
            " ' nonverbal communication intercultural communication translation systems body tracking gesture recognition avatars virtual environments        '\n",
            " ' text area detection histogram filtering tophat algorithm illuminationrobust image        '\n",
            " ' moisture content nonlinear regression lssvm feature selection        '\n",
            " ' gender selfconcept masculinity implicit measure affect misattribution procedure        '\n",
            " ' euler number e exponential functions imaginary number i complex numbers and the euler constant gamma        '\n",
            " ' multiphase flow fluid mechanics interfacial processes cocontinuous fluids        '\n",
            " ' hardware attacks information security computer science education        ']\n",
            "['Psychology' 'MAE' 'MAE' 'Psychology' 'CS' 'CS' 'Psychology' 'ECE' 'MAE'\n",
            " 'CS']\n",
            "['2' '3' '3' '2' '0' '0' '2' '1' '3' '0']\n",
            "[2 3 3 2 0 0 2 1 3 0]\n"
          ]
        }
      ],
      "source": [
        "# Shuffle data\n",
        "dataShuffled = sklearn.utils.shuffle(tsvData)\n",
        "\n",
        "abstractsShuffled = dataShuffled[:,3]\n",
        "keywordsShuffled = dataShuffled[:,2]\n",
        "domainsShuffled = dataShuffled[:,1]\n",
        "allLabelsShuffled = dataShuffled[:,0]\n",
        "\n",
        "print(\"Number of abstracts: \", len(abstractsShuffled))\n",
        "print(\"Shape of abstracts: \", np.shape(abstractsShuffled))\n",
        "print(abstractsShuffled[0:2])\n",
        "\n",
        "print(\"Number of keywords: \", len(keywordsShuffled))\n",
        "print(\"Shape of keywords: \", np.shape(keywordsShuffled))\n",
        "print(abstractsShuffled[0:2])\n",
        "\n",
        "print(\"Number of domains: \", len(domainsShuffled))\n",
        "print(\"Shape of domains: \", np.shape(domainsShuffled))\n",
        "print(domainsShuffled[0:2])\n",
        "\n",
        "print(\"Number of labels: \", len(allLabelsShuffled))\n",
        "print(\"Shape of labels: \", np.shape(allLabelsShuffled))\n",
        "print(allLabelsShuffled[0:2])\n",
        "\n",
        "\n",
        "# Convert labels to integer\n",
        "allLabelsDigitShuffled = allLabelsShuffled.astype(int)\n",
        "\n",
        "print(abstractsShuffled[0:10])\n",
        "print(keywordsShuffled[0:10])\n",
        "print(domainsShuffled[0:10])\n",
        "print(allLabelsShuffled[0:10])\n",
        "print(allLabelsDigitShuffled[0:10])"
      ]
    },
    {
      "cell_type": "code",
      "execution_count": 12,
      "metadata": {
        "colab": {
          "base_uri": "https://localhost:8080/",
          "height": 301,
          "referenced_widgets": [
            "77b7507dba0b420491cc0efb805890c0",
            "d41e802ca82d47e098d809eb6e0c585a",
            "b3dc57fa846d499295965efdc2d9ddc1",
            "3f7f8836df074e16a626e2e7be127fa5",
            "4f171a936d204ef685879d06ba06a093",
            "796ce66cdc7a488d82670356fc791a13",
            "b75d0ea57b5c473b98e31658763e9b12",
            "09953b0fa8f64216a3fbc1419b256042",
            "1287dadd78a44980b8f2ab5622250c20",
            "88fc40914ea54fd7a30932f2b9165f1a",
            "7f700411dfd24e78ab016c47df0a3ac4",
            "0715bb17af204f90b9469ebada3a0692",
            "70e06004aa1f4ae7a09d048840273d7f",
            "23a7d40a6ea24a1cb099f2d585cc0bcf",
            "a596a068deb74a6fa76b7ba7bd5c1398",
            "65203516ca4940c7909dddafd1ea0024",
            "2c4f33aa971447e9bb0e768297b58812",
            "c075800afd6f4438aa7c0be75a212686",
            "db36330165cc4ae4ae519bd20b1df882",
            "160181feaeb94ff685af6788fd2875d2",
            "02ca5e27a1a24ea188007eeceea10dee",
            "ec023bbdab184ad1b8070534ec2aec0a"
          ]
        },
        "id": "oE8v68D2DN6A",
        "outputId": "381b86bc-603d-4311-9656-6456483b2ae6"
      },
      "outputs": [
        {
          "output_type": "stream",
          "name": "stdout",
          "text": [
            "(9573, 4)\n",
            "(2394, 4)\n",
            "(9573, 4)\n",
            "(2394, 4)\n",
            "(479, 4)\n"
          ]
        },
        {
          "output_type": "stream",
          "name": "stderr",
          "text": [
            "/usr/local/lib/python3.10/dist-packages/huggingface_hub/utils/_token.py:89: UserWarning: \n",
            "The secret `HF_TOKEN` does not exist in your Colab secrets.\n",
            "To authenticate with the Hugging Face Hub, create a token in your settings tab (https://huggingface.co/settings/tokens), set it as secret in your Google Colab and restart your session.\n",
            "You will be able to reuse this secret in all of your notebooks.\n",
            "Please note that authentication is recommended but still optional to access public models or datasets.\n",
            "  warnings.warn(\n"
          ]
        },
        {
          "output_type": "display_data",
          "data": {
            "text/plain": [
              "config.json:   0%|          | 0.00/314 [00:00<?, ?B/s]"
            ],
            "application/vnd.jupyter.widget-view+json": {
              "version_major": 2,
              "version_minor": 0,
              "model_id": "77b7507dba0b420491cc0efb805890c0"
            }
          },
          "metadata": {}
        },
        {
          "output_type": "display_data",
          "data": {
            "text/plain": [
              "vocab.txt:   0%|          | 0.00/232k [00:00<?, ?B/s]"
            ],
            "application/vnd.jupyter.widget-view+json": {
              "version_major": 2,
              "version_minor": 0,
              "model_id": "0715bb17af204f90b9469ebada3a0692"
            }
          },
          "metadata": {}
        }
      ],
      "source": [
        "# Split dataset into training and testing (80/20 split)\n",
        "train_data, test_data = train_test_split(dataShuffled, test_size=0.2, random_state=42)\n",
        "print(np.shape(train_data))\n",
        "print(np.shape(test_data))\n",
        "\n",
        "# Further split training data into training and validation (80/20 split of training set)\n",
        "_, val_data = train_test_split(test_data, test_size=0.2, random_state=42)\n",
        "print(np.shape(train_data))\n",
        "print(np.shape(test_data))\n",
        "print(np.shape(val_data))\n",
        "# Load BlueBERT tokenizer\n",
        "tokenizer = AutoTokenizer.from_pretrained(\"bionlp/bluebert_pubmed_uncased_L-24_H-1024_A-16\")"
      ]
    },
    {
      "cell_type": "code",
      "execution_count": 13,
      "metadata": {
        "colab": {
          "base_uri": "https://localhost:8080/"
        },
        "id": "ONFXZGUUDN6A",
        "outputId": "160f4426-8ce4-43a4-fd11-51d6ba6319fa"
      },
      "outputs": [
        {
          "output_type": "stream",
          "name": "stdout",
          "text": [
            "Number of abstracts:  9573\n",
            "Shape of abstracts:  (9573,)\n",
            "Number of keywords:  9573\n",
            "Shape of keywords:  (9573,)\n",
            "Number of domains:  9573\n",
            "Shape of domains:  (9573,)\n",
            "Number of labels:  9573\n",
            "Shape of labels:  (9573,)\n",
            "['neuroinflammation is a pathophysiological process present in a number of neurodegenerative disorders such as alzheimers disease huntingtons disease parkinsons disease stroke traumatic brain injury including chronic traumatic encephalopathy and other agerelated cns disorders although there is still much debate about the initial trigger for some of these neurodegenerative disorders during the progression of disease broad range antiinflammatory drugs including cytokine suppressive antiinflammatory drugs csaids might be promising therapeutic options to limit neuroinflammation and improve the clinical outcome one of the most promising csaids is curcumin which modulates the activity of several transcription factors eg stat nfkappa b ap1 and their proinflammatory molecular signaling pathways however normal curcumin preparations demonstrate low bioavailability in vivo to increase bioavailability preparations of high bioavailability curcumin have been introduced to achieve therapeutically relevant concentrations in target tissues this literature review aims to summarize the pharmacokinetic and toxicity profile of different curcumin formulations'\n",
            " 'nonlinearity and noise play a significant role in an enormous range of subjects across the entire spectrum of science and engineering this paper considers several research topics that encompass the area of random dynamical systems rds a general overview of the problems the multidisciplinary methods required for their analysis and relevant results achieved in rds are given with particular emphasis on developments during the past 25 years the first part of this paper focuses on developing methods to unravel complex interactions between noise and nonlinearities using a mix of multidisciplinary approaches from theory modeling and simulation practical applications of these research results are beginning to appear across the entire spectrum of mechanics for example vibration absorbers panel flutter variable speed machining processes and mixing and transport phenomena in fluid mechanics the second part of this paper focuses on developing new algorithms and tools for the collection assimilation and harnessing of data by threading together ideas ranging from random dynamical systems to information theory a new particle filtering algorithm that combines stochastic homogenization with filtering theory is presented importance sampling and control methods are then used as a basic and flexible tool for the construction of the proposal density inherent in particle filtering']\n",
            "[' neuroinflammation curcumin pharmacokinetics microglia        '\n",
            " ' stochastic differential equation lyapunov exponents invariant measures stochastic stability homogenization stochastic bifurcation nonlinear filtering particle filters chaos        ']\n",
            "['Medical' 'MAE']\n",
            "['5' '3']\n"
          ]
        }
      ],
      "source": [
        "abstractsTrain = train_data[:,3]\n",
        "keywordsTrain = train_data[:,2]\n",
        "domainsTrain = train_data[:,1]\n",
        "allLabelsTrain = train_data[:,0]\n",
        "\n",
        "print(\"Number of abstracts: \",len(abstractsTrain))\n",
        "print(\"Shape of abstracts: \",np.shape(abstractsTrain))\n",
        "print(\"Number of keywords: \",len(keywordsTrain))\n",
        "print(\"Shape of keywords: \",np.shape(keywordsTrain))\n",
        "print(\"Number of domains: \",len(domainsTrain))\n",
        "print(\"Shape of domains: \",np.shape(domainsTrain))\n",
        "print(\"Number of labels: \",len(allLabelsTrain))\n",
        "print(\"Shape of labels: \",np.shape(allLabelsTrain))\n",
        "\n",
        "print(abstractsTrain[0:2])\n",
        "print(keywordsTrain[0:2])\n",
        "print(domainsTrain[0:2])\n",
        "print(allLabelsTrain[0:2])"
      ]
    },
    {
      "cell_type": "code",
      "execution_count": 14,
      "metadata": {
        "colab": {
          "base_uri": "https://localhost:8080/",
          "height": 594
        },
        "id": "RBJjrIkeDN6A",
        "outputId": "4fcc465e-f063-468b-8cd5-429508da42d4"
      },
      "outputs": [
        {
          "output_type": "stream",
          "name": "stdout",
          "text": [
            "Labels  ['CS' 'Civil' 'ECE' 'MAE' 'Medical' 'Psychology' 'biochemistry']\n",
            "Label counts  [1194 1676  904 1558 1297 1566 1378]\n"
          ]
        },
        {
          "output_type": "display_data",
          "data": {
            "text/plain": [
              "<Figure size 1000x600 with 1 Axes>"
            ],
            "image/png": "[encoded data removed]"
          },
          "metadata": {}
        },
        {
          "output_type": "stream",
          "name": "stdout",
          "text": [
            "The domain CS has 1194 records in the training set.\n",
            "The domain Civil has 1676 records in the training set.\n",
            "The domain ECE has 904 records in the training set.\n",
            "The domain MAE has 1558 records in the training set.\n",
            "The domain Medical has 1297 records in the training set.\n",
            "The domain Psychology has 1566 records in the training set.\n",
            "The domain biochemistry has 1378 records in the training set.\n"
          ]
        }
      ],
      "source": [
        "labels = np.unique(domainsTrain, return_counts=True)[0]\n",
        "labelCounts =  np.unique(domainsTrain, return_counts=True)[1]\n",
        "\n",
        "print(\"Labels \", labels)\n",
        "print(\"Label counts \", labelCounts)\n",
        "\n",
        "nAbstract = len(abstractsTrain)\n",
        "plt.figure(figsize=(10, 6))\n",
        "plt.title(\"Domain Counts (Training Set)\")\n",
        "plt.pie(labelCounts, labels=labels, autopct='%1.1f%%', startangle=140, colors=plt.cm.Paired(range(len(labels))))\n",
        "plt.axis('equal')  # Equal aspect ratio ensures that pie is drawn as a circle.\n",
        "plt.show()\n",
        "\n",
        "for i, domain in enumerate(labels):\n",
        "    print(\"The domain\", domain, \"has\", labelCounts[i], \"records in the training set.\")"
      ]
    },
    {
      "cell_type": "code",
      "execution_count": 15,
      "metadata": {
        "colab": {
          "base_uri": "https://localhost:8080/"
        },
        "id": "o4urSnRFDN6B",
        "outputId": "9928ed9f-2f48-49d5-fcd7-28aae4aa835b"
      },
      "outputs": [
        {
          "output_type": "stream",
          "name": "stdout",
          "text": [
            "Number of abstracts:  2394\n",
            "Shape of abstracts:  (2394,)\n",
            "Number of keywords:  2394\n",
            "Shape of keywords:  (2394,)\n",
            "Number of domains:  2394\n",
            "Shape of domains:  (2394,)\n",
            "Number of labels:  2394\n",
            "Shape of labels:  (2394,)\n",
            "['alcohol dependence ad is characterized by corticostriatal impairments in individual brain areas such as the striatum as yet however complex brain network topology in ad and its association with disease progression are unknown we applied graph theory to restingstate functional magnetic resonance imaging rsfmri to examine weighted global efficiency and local clustering coefficient degree and eigenvector centrality network topology and the functional role of the striatumin 24 ad patients compared with 20 matched healthy controls hcs and their association with dependence characteristics graph analyses were performed based on pearsons correlations between rsfmri time series while correcting for age gender and head motion we found no significant group differences between ad patients and hcs in network topology notably within the patient group but not in hcs the wholebrain network showed reduced average cluster coefficient with more severe alcohol use whereas longer ad duration within the patient group was associated with a global decrease in efficiency degree and clustering coefficient additionally within four apriori chosen bilateral striatal nodes alcohol use severity was associated with lower clustering coefficient in the left caudate longer ad duration was associated with reduced clustering coefficient in caudate and putamen and reduced degree in bilateral caudate but with increased eigenvector centrality in left posterior putamen especially changes in global network topology and clustering coefficient in anterior striatum remained strikingly robust after exploratory variations in network weight our results show adverse effects of ad on overall network integration and possibly on striatal efficiency putatively contributing to the increasing behavioral impairments seen in chronically addicted patients'\n",
            " 'evolution of melanoma from a primary tumor to widespread metastasis is crucially dependent on lymphatic spread the mechanisms regulating the initial step in metastatic dissemination via regional lymph nodes remain largely unknown however evidence supporting the establishment of a premetastatic niche is evolving we have previously described a dysfunctional immune profile including reduced expression of dendritic cell dc maturation markers in the first node draining from the primary tumor the sentinel lymph node sln importantly this phenotype is present prior to evidence of nodal metastasis herein we evaluate melanomaderived extracellular vesicles evs as potential mediators of the premetastatic niche through cargospecific polarization of dcs dcs matured in vitro in the presence of melanoma evs demonstrated significantly impaired expression of cd83 and cd86 as well as decreased expression of th1 polarizing chemokines fit3l and il15 and migration chemokines mipl alpha and mip1 beta compared to liposometreated dcs profiling of melanoma ev cargo identified shared proteomic and rna signatures including s100a8 and s100a9 protein cargo which in vitro compromised dc maturation similar to melanoma evs early evidence demonstrates that similar evs can be isolated from human afferent lymphatic fluid ex vivo taken together here we propose melanoma ev cargo as a mechanism by which dc maturation is compromised warranting further study to consider this as a potential mechanism enabled by the primary tumor to establish the premetastatic niche in tumordraining slns of patients']\n",
            "[' alcohol dependence brain network functional connectivity graph theory restingstate fmri striatum        '\n",
            " ' extracellular vesicles dendritic cells lymphatics metastasis tumor immunology        ']\n",
            "['Medical' 'biochemistry']\n",
            "['5' '6']\n"
          ]
        }
      ],
      "source": [
        "abstractsTest = test_data[:,3]\n",
        "keywordsTest = test_data[:,2]\n",
        "domainsTest = test_data[:,1]\n",
        "allLabelsTest = test_data[:,0]\n",
        "\n",
        "print(\"Number of abstracts: \",len(abstractsTest))\n",
        "print(\"Shape of abstracts: \",np.shape(abstractsTest))\n",
        "print(\"Number of keywords: \",len(keywordsTest))\n",
        "print(\"Shape of keywords: \",np.shape(keywordsTest))\n",
        "print(\"Number of domains: \",len(domainsTest))\n",
        "print(\"Shape of domains: \",np.shape(domainsTest))\n",
        "print(\"Number of labels: \",len(allLabelsTest))\n",
        "print(\"Shape of labels: \",np.shape(allLabelsTest))\n",
        "\n",
        "# arr = np.array(domainsTest)\n",
        "# cleaned_domains = np.char.strip(arr)\n",
        "# print(\"Cleaned arr \", cleaned_domains)\n",
        "# domainsLabelsTest = cleaned_domains\n",
        "# print(\"Labels domains \", domainsLabelsTest)\n",
        "\n",
        "print(abstractsTest[0:2])\n",
        "print(keywordsTest[0:2])\n",
        "print(domainsTest[0:2])\n",
        "print(allLabelsTest[0:2])"
      ]
    },
    {
      "cell_type": "code",
      "execution_count": 16,
      "metadata": {
        "colab": {
          "base_uri": "https://localhost:8080/",
          "height": 595
        },
        "id": "wXDx7H28DN6B",
        "outputId": "9c7602fe-5160-4fe1-ba44-83b637f5d5f4"
      },
      "outputs": [
        {
          "output_type": "stream",
          "name": "stdout",
          "text": [
            "Labels  ['CS' 'Civil' 'ECE' 'MAE' 'Medical' 'Psychology' 'biochemistry']\n",
            "Label counts  [305 431 228 367 320 393 350]\n"
          ]
        },
        {
          "output_type": "display_data",
          "data": {
            "text/plain": [
              "<Figure size 1000x600 with 1 Axes>"
            ],
            "image/png": "[encoded data removed]"
          },
          "metadata": {}
        },
        {
          "output_type": "stream",
          "name": "stdout",
          "text": [
            "The domain CS has 305 records in the test set.\n",
            "The domain Civil has 431 records in the test set.\n",
            "The domain ECE has 228 records in the test set.\n",
            "The domain MAE has 367 records in the test set.\n",
            "The domain Medical has 320 records in the test set.\n",
            "The domain Psychology has 393 records in the test set.\n",
            "The domain biochemistry has 350 records in the test set.\n"
          ]
        }
      ],
      "source": [
        "labels = np.unique(domainsTest, return_counts=True)[0]\n",
        "labelCounts =  np.unique(domainsTest, return_counts=True)[1]\n",
        "\n",
        "print(\"Labels \", labels)\n",
        "print(\"Label counts \", labelCounts)\n",
        "\n",
        "nAbstract = len(abstractsTest)\n",
        "plt.figure(figsize=(10, 6))\n",
        "plt.title(\"Domain Counts (Test Set)\")\n",
        "plt.pie(labelCounts, labels=labels, autopct='%1.1f%%', startangle=140, colors=plt.cm.Paired(range(len(labels))))\n",
        "plt.axis('equal')  # Equal aspect ratio ensures that pie is drawn as a circle.\n",
        "plt.show()\n",
        "\n",
        "for i, domain in enumerate(labels):\n",
        "    print(\"The domain\", domain, \"has\", labelCounts[i], \"records in the test set.\")"
      ]
    },
    {
      "cell_type": "code",
      "execution_count": 17,
      "metadata": {
        "colab": {
          "base_uri": "https://localhost:8080/"
        },
        "id": "zkEyui06DN6B",
        "outputId": "f1ee4646-a122-46c5-e7f2-c35545d0082c"
      },
      "outputs": [
        {
          "output_type": "stream",
          "name": "stdout",
          "text": [
            "Number of abstracts:  479\n",
            "Shape of abstracts:  (479,)\n",
            "Number of keywords:  479\n",
            "Shape of keywords:  (479,)\n",
            "Number of domains:  479\n",
            "Shape of domains:  (479,)\n",
            "Number of labels:  479\n",
            "Shape of labels:  (479,)\n",
            "['flux switching permanent magnet machines provide many advantages due to their superior behavior associated with sinusoidal backemf and low torque ripple topologies featuring 12 stator teeth and 10 rotor poles 1210 are favored however this follows that for a given mechanical rotor speed the required electric fundamental frequency is ten times to that of a conventional two pole pm machine imposing challenging requirements are set on the power electronics in this paper a 64 fspm machine design is investigated since it has the lowest feasible slotpole combination the conventional 64 fspm machine design is not a viable design due to the presence of dominant second order harmonic component of flux linkage and high torque ripple thus a split magnet design is introduced which allows achieving better performance by significantly reducing the second harmonic component a multiobjective optimization scenario is carried out utilizing an evolutionary algorithm and performing massively distributed finite element simulations on a computer cluster the selected machine design and its particular torque characteristics are analyzed the achieved results reveal that by considering split magnet topologies the low slotpole fspm machine configurations can unlock their potential for highspeed operation'\n",
            " 'deep convolutional neural networks dcnns have recently emerged as a dominant paradigm for machine learning in a variety of domains however acquiring a suitably large data set for training dcnn is often a significant challenge this is a major issue in the remote sensing domain where we have extremely large collections of satellite and aerial imagery but lack the rich label information that is often readily available for other image modalities in this letter we investigate the use of dcnn for landcover classification in highresolution remote sensing imagery to overcome the lack of massive labeled remotesensing image data sets we employ two techniques in conjunction with dcnn transfer learning tl with finetuning and data augmentation tailored specifically for remote sensing imagery tl allows one to bootstrap a dcnn while preserving the deep visual feature extraction learned over an image corpus from a different image domain data augmentation exploits various aspects of remote sensing imagery to dramatically expand small training image data sets and improve dcnn robustness for remote sensing image data here we apply these techniques to the wellknown uc merced data set to achieve the landcover classification accuracies of 978  23 976  26 and 985  14 with caffenet googlenet and resnet respectively']\n",
            "[' flux switching harmonic distortion high speed low pole optimization permanent magnet split magnet torque ripple        '\n",
            " ' deep convolutional neural network dcnn deep learning highresolution remote sensing imagery landcover classification transfer learning tl        ']\n",
            "['MAE' 'CS']\n",
            "['3' '0']\n"
          ]
        }
      ],
      "source": [
        "abstractsVal = val_data[:,3]\n",
        "keywordsVal = val_data[:,2]\n",
        "domainsVal = val_data[:,1]\n",
        "allLabelsVal = val_data[:,0]\n",
        "\n",
        "print(\"Number of abstracts: \",len(abstractsVal))\n",
        "print(\"Shape of abstracts: \",np.shape(abstractsVal))\n",
        "print(\"Number of keywords: \",len(keywordsVal))\n",
        "print(\"Shape of keywords: \",np.shape(keywordsVal))\n",
        "print(\"Number of domains: \",len(domainsVal))\n",
        "print(\"Shape of domains: \",np.shape(domainsVal))\n",
        "print(\"Number of labels: \",len(allLabelsVal))\n",
        "print(\"Shape of labels: \",np.shape(allLabelsVal))\n",
        "\n",
        "print(abstractsVal[0:2])\n",
        "print(keywordsVal[0:2])\n",
        "print(domainsVal[0:2])\n",
        "print(allLabelsVal[0:2])"
      ]
    },
    {
      "cell_type": "code",
      "execution_count": 18,
      "metadata": {
        "colab": {
          "base_uri": "https://localhost:8080/",
          "height": 594
        },
        "id": "1ax8-nZaDN6B",
        "outputId": "5fb73040-af91-417c-b0b7-4297a5b130f1"
      },
      "outputs": [
        {
          "output_type": "stream",
          "name": "stdout",
          "text": [
            "Labels  ['CS' 'Civil' 'ECE' 'MAE' 'Medical' 'Psychology' 'biochemistry']\n",
            "Label counts  [53 90 47 78 61 89 61]\n"
          ]
        },
        {
          "output_type": "display_data",
          "data": {
            "text/plain": [
              "<Figure size 1000x600 with 1 Axes>"
            ],
            "image/png": "[encoded data removed]"
          },
          "metadata": {}
        },
        {
          "output_type": "stream",
          "name": "stdout",
          "text": [
            "The domain CS has 53 records in the vaidation set.\n",
            "The domain Civil has 90 records in the vaidation set.\n",
            "The domain ECE has 47 records in the vaidation set.\n",
            "The domain MAE has 78 records in the vaidation set.\n",
            "The domain Medical has 61 records in the vaidation set.\n",
            "The domain Psychology has 89 records in the vaidation set.\n",
            "The domain biochemistry has 61 records in the vaidation set.\n"
          ]
        }
      ],
      "source": [
        "labels = np.unique(domainsVal, return_counts=True)[0]\n",
        "labelCounts =  np.unique(domainsVal, return_counts=True)[1]\n",
        "\n",
        "print(\"Labels \", labels)\n",
        "print(\"Label counts \", labelCounts)\n",
        "\n",
        "nAbstract = len(abstractsVal)\n",
        "plt.figure(figsize=(10, 6))\n",
        "plt.title(\"Domain Counts (Validation Set)\")\n",
        "plt.pie(labelCounts, labels=labels, autopct='%1.1f%%', startangle=140, colors=plt.cm.Paired(range(len(labels))))\n",
        "plt.axis('equal')  # Equal aspect ratio ensures that pie is drawn as a circle.\n",
        "plt.show()\n",
        "\n",
        "for i, domain in enumerate(labels):\n",
        "    print(\"The domain\", domain, \"has\", labelCounts[i], \"records in the vaidation set.\")"
      ]
    },
    {
      "cell_type": "code",
      "execution_count": 19,
      "metadata": {
        "id": "sxbOFbMrDN6C"
      },
      "outputs": [],
      "source": [
        "# Function to tokenize and encode the dataset\n",
        "def encode_data(data, tokenizer, max_length=128):\n",
        "    # print(len(data[:,2]))\n",
        "    inputs = tokenizer(\n",
        "        data[:,2].tolist(), # Keywords\n",
        "        max_length=max_length,\n",
        "        padding='max_length',\n",
        "        truncation=True,\n",
        "        return_tensors=\"pt\"\n",
        "    )\n",
        "    # print(len(dataShuffled[:, 0]))\n",
        "    labels = torch.tensor(data[:, 0].astype(int))\n",
        "    print(\"Label length \", len(labels))\n",
        "    return TensorDataset(inputs['input_ids'], inputs['attention_mask'], labels)"
      ]
    },
    {
      "cell_type": "code",
      "execution_count": 20,
      "metadata": {
        "colab": {
          "base_uri": "https://localhost:8080/"
        },
        "id": "Y8_HDuDUDN6C",
        "outputId": "25f3fcd5-85c1-4f5c-b850-7ad67d7061b0"
      },
      "outputs": [
        {
          "output_type": "stream",
          "name": "stdout",
          "text": [
            "(9573, 4)\n",
            "(2394, 4)\n",
            "(479, 4)\n"
          ]
        }
      ],
      "source": [
        "print(np.shape(train_data))\n",
        "print(np.shape(test_data))\n",
        "print(np.shape(val_data))\n"
      ]
    },
    {
      "cell_type": "code",
      "execution_count": 21,
      "metadata": {
        "colab": {
          "base_uri": "https://localhost:8080/"
        },
        "id": "c6avATPgDN6C",
        "outputId": "0ec8df98-4759-4174-80a7-ed164082529e"
      },
      "outputs": [
        {
          "output_type": "stream",
          "name": "stdout",
          "text": [
            "Label length  9573\n",
            "Label length  479\n",
            "Label length  2394\n"
          ]
        }
      ],
      "source": [
        "# Encode training, validation, and testing data\n",
        "train_dataset = encode_data(train_data, tokenizer)\n",
        "val_dataset = encode_data(val_data, tokenizer)\n",
        "test_dataset = encode_data(test_data, tokenizer)\n",
        "\n",
        "\n",
        "\n",
        "# Data loaders\n",
        "train_dataloader = DataLoader(train_dataset, sampler=RandomSampler(train_dataset), batch_size=32)\n",
        "val_dataloader = DataLoader(val_dataset, sampler=SequentialSampler(val_dataset), batch_size=32)\n",
        "test_dataloader = DataLoader(test_dataset, sampler=SequentialSampler(test_dataset), batch_size=32)"
      ]
    },
    {
      "cell_type": "code",
      "execution_count": 22,
      "metadata": {
        "colab": {
          "base_uri": "https://localhost:8080/",
          "height": 940,
          "referenced_widgets": [
            "2cd139b3a3b141e3adcf5c2db7ae9d1e",
            "7cd6717533dc411dbc0e6c23c6913b40",
            "01c8b3bfcb744d1a91dde0d069c7d1d0",
            "613e418c7ac24ee6a0a2b1c81e079754",
            "2c14ba5f507b4f0abdd5fd84c14ade86",
            "91b0208d76f8436fbb93eba5586b8c86",
            "acd12418a9ad4b998382a2e00c158320",
            "dc8933df29b84170a8ca2e38686835ac",
            "e574c8362a1d49a1b8f1028c3ba3637f",
            "9bba90f7c6a74e1d9408eb2de691559c",
            "4a086aa0f3454faea59ff401786790fa"
          ]
        },
        "id": "ybVLIN-JDN6C",
        "outputId": "03d84509-0c1c-4816-ebad-a7cd7c56fb2d"
      },
      "outputs": [
        {
          "output_type": "stream",
          "name": "stdout",
          "text": [
            "7\n"
          ]
        },
        {
          "output_type": "display_data",
          "data": {
            "text/plain": [
              "pytorch_model.bin:   0%|          | 0.00/1.35G [00:00<?, ?B/s]"
            ],
            "application/vnd.jupyter.widget-view+json": {
              "version_major": 2,
              "version_minor": 0,
              "model_id": "2cd139b3a3b141e3adcf5c2db7ae9d1e"
            }
          },
          "metadata": {}
        },
        {
          "output_type": "stream",
          "name": "stderr",
          "text": [
            "Some weights of BertForSequenceClassification were not initialized from the model checkpoint at bionlp/bluebert_pubmed_uncased_L-24_H-1024_A-16 and are newly initialized: ['classifier.bias', 'classifier.weight']\n",
            "You should probably TRAIN this model on a down-stream task to be able to use it for predictions and inference.\n"
          ]
        },
        {
          "output_type": "execute_result",
          "data": {
            "text/plain": [
              "BertForSequenceClassification(\n",
              "  (bert): BertModel(\n",
              "    (embeddings): BertEmbeddings(\n",
              "      (word_embeddings): Embedding(30522, 1024, padding_idx=0)\n",
              "      (position_embeddings): Embedding(512, 1024)\n",
              "      (token_type_embeddings): Embedding(2, 1024)\n",
              "      (LayerNorm): LayerNorm((1024,), eps=1e-12, elementwise_affine=True)\n",
              "      (dropout): Dropout(p=0.1, inplace=False)\n",
              "    )\n",
              "    (encoder): BertEncoder(\n",
              "      (layer): ModuleList(\n",
              "        (0-23): 24 x BertLayer(\n",
              "          (attention): BertAttention(\n",
              "            (self): BertSdpaSelfAttention(\n",
              "              (query): Linear(in_features=1024, out_features=1024, bias=True)\n",
              "              (key): Linear(in_features=1024, out_features=1024, bias=True)\n",
              "              (value): Linear(in_features=1024, out_features=1024, bias=True)\n",
              "              (dropout): Dropout(p=0.1, inplace=False)\n",
              "            )\n",
              "            (output): BertSelfOutput(\n",
              "              (dense): Linear(in_features=1024, out_features=1024, bias=True)\n",
              "              (LayerNorm): LayerNorm((1024,), eps=1e-12, elementwise_affine=True)\n",
              "              (dropout): Dropout(p=0.1, inplace=False)\n",
              "            )\n",
              "          )\n",
              "          (intermediate): BertIntermediate(\n",
              "            (dense): Linear(in_features=1024, out_features=4096, bias=True)\n",
              "            (intermediate_act_fn): GELUActivation()\n",
              "          )\n",
              "          (output): BertOutput(\n",
              "            (dense): Linear(in_features=4096, out_features=1024, bias=True)\n",
              "            (LayerNorm): LayerNorm((1024,), eps=1e-12, elementwise_affine=True)\n",
              "            (dropout): Dropout(p=0.1, inplace=False)\n",
              "          )\n",
              "        )\n",
              "      )\n",
              "    )\n",
              "    (pooler): BertPooler(\n",
              "      (dense): Linear(in_features=1024, out_features=1024, bias=True)\n",
              "      (activation): Tanh()\n",
              "    )\n",
              "  )\n",
              "  (dropout): Dropout(p=0.1, inplace=False)\n",
              "  (classifier): Linear(in_features=1024, out_features=7, bias=True)\n",
              ")"
            ]
          },
          "metadata": {},
          "execution_count": 22
        }
      ],
      "source": [
        "# Load BlueBERT model\n",
        "print(len(np.unique(train_data[:,0])))\n",
        "model = AutoModelForSequenceClassification.from_pretrained(\"bionlp/bluebert_pubmed_uncased_L-24_H-1024_A-16\", num_labels=len(np.unique(train_data[:,0])))\n",
        "device = torch.device(\"cuda\" if torch.cuda.is_available() else \"cpu\")\n",
        "model.to(device)"
      ]
    },
    {
      "cell_type": "code",
      "execution_count": 23,
      "metadata": {
        "colab": {
          "base_uri": "https://localhost:8080/"
        },
        "id": "ps1DInjXDN6C",
        "outputId": "bfff602b-752a-4e31-f6c9-c67e9ca08109"
      },
      "outputs": [
        {
          "output_type": "execute_result",
          "data": {
            "text/plain": [
              "BertConfig {\n",
              "  \"_name_or_path\": \"bionlp/bluebert_pubmed_uncased_L-24_H-1024_A-16\",\n",
              "  \"attention_probs_dropout_prob\": 0.1,\n",
              "  \"classifier_dropout\": null,\n",
              "  \"hidden_act\": \"gelu\",\n",
              "  \"hidden_dropout_prob\": 0.1,\n",
              "  \"hidden_size\": 1024,\n",
              "  \"id2label\": {\n",
              "    \"0\": \"LABEL_0\",\n",
              "    \"1\": \"LABEL_1\",\n",
              "    \"2\": \"LABEL_2\",\n",
              "    \"3\": \"LABEL_3\",\n",
              "    \"4\": \"LABEL_4\",\n",
              "    \"5\": \"LABEL_5\",\n",
              "    \"6\": \"LABEL_6\"\n",
              "  },\n",
              "  \"initializer_range\": 0.02,\n",
              "  \"intermediate_size\": 4096,\n",
              "  \"label2id\": {\n",
              "    \"LABEL_0\": 0,\n",
              "    \"LABEL_1\": 1,\n",
              "    \"LABEL_2\": 2,\n",
              "    \"LABEL_3\": 3,\n",
              "    \"LABEL_4\": 4,\n",
              "    \"LABEL_5\": 5,\n",
              "    \"LABEL_6\": 6\n",
              "  },\n",
              "  \"layer_norm_eps\": 1e-12,\n",
              "  \"max_position_embeddings\": 512,\n",
              "  \"model_type\": \"bert\",\n",
              "  \"num_attention_heads\": 16,\n",
              "  \"num_hidden_layers\": 24,\n",
              "  \"pad_token_id\": 0,\n",
              "  \"position_embedding_type\": \"absolute\",\n",
              "  \"transformers_version\": \"4.42.4\",\n",
              "  \"type_vocab_size\": 2,\n",
              "  \"use_cache\": true,\n",
              "  \"vocab_size\": 30522\n",
              "}"
            ]
          },
          "metadata": {},
          "execution_count": 23
        }
      ],
      "source": [
        "model.config"
      ]
    },
    {
      "cell_type": "code",
      "execution_count": 24,
      "metadata": {
        "colab": {
          "base_uri": "https://localhost:8080/"
        },
        "id": "qmjlyLnkDN6C",
        "outputId": "0ae3c72e-964b-4b0a-d81a-d0994743b364"
      },
      "outputs": [
        {
          "output_type": "stream",
          "name": "stderr",
          "text": [
            "/usr/local/lib/python3.10/dist-packages/transformers/optimization.py:591: FutureWarning: This implementation of AdamW is deprecated and will be removed in a future version. Use the PyTorch implementation torch.optim.AdamW instead, or set `no_deprecation_warning=True` to disable this warning\n",
            "  warnings.warn(\n"
          ]
        }
      ],
      "source": [
        "# Optimizer and learning rate scheduler\n",
        "optimizer = AdamW(model.parameters(), lr=2e-5, eps=1e-8)\n",
        "total_steps = len(train_dataloader) * 20\n",
        "num_warmup_steps = 1e-4\n",
        "scheduler = get_linear_schedule_with_warmup(optimizer, num_warmup_steps=num_warmup_steps, num_training_steps=total_steps)"
      ]
    },
    {
      "cell_type": "code",
      "execution_count": 25,
      "metadata": {
        "id": "xj4AnpxJDN6C"
      },
      "outputs": [],
      "source": [
        "def calculate_metrics(valType, predictions, true_labels):\n",
        "    # Confusion matrix\n",
        "    if(valType == 'test'):\n",
        "        cm = confusion_matrix(true_labels, predictions)\n",
        "        print(\"Confusion Matrix:\\n\", cm)\n",
        "\n",
        "        # Classification report (includes precision, recall, F1 score)\n",
        "        report = classification_report(true_labels, predictions, target_names=[str(i) for i in range(len(np.unique(true_labels)))])\n",
        "        print(\"\\nClassification Report:\\n\", report)\n",
        "\n",
        "        # Calculate different types of F1 scores, precision, and recall\n",
        "        f1_macro = f1_score(true_labels, predictions, average='macro')\n",
        "        f1_micro = f1_score(true_labels, predictions, average='micro')\n",
        "        f1_weighted = f1_score(true_labels, predictions, average='weighted')\n",
        "\n",
        "        precision_macro = precision_score(true_labels, predictions, average='macro')\n",
        "        precision_micro = precision_score(true_labels, predictions, average='micro')\n",
        "        precision_weighted = precision_score(true_labels, predictions, average='weighted')\n",
        "\n",
        "        recall_macro = recall_score(true_labels, predictions, average='macro')\n",
        "        recall_micro = recall_score(true_labels, predictions, average='micro')\n",
        "        recall_weighted = recall_score(true_labels, predictions, average='weighted')\n",
        "\n",
        "        print(f\"Macro F1 Score: {f1_macro}\")\n",
        "        print(f\"Micro F1 Score: {f1_micro}\")\n",
        "        print(f\"Weighted F1 Score: {f1_weighted}\")\n",
        "\n",
        "        print(f\"Macro Precision: {precision_macro}\")\n",
        "        print(f\"Micro Precision: {precision_micro}\")\n",
        "        print(f\"Weighted Precision: {precision_weighted}\")\n",
        "\n",
        "        print(f\"Macro Recall: {recall_macro}\")\n",
        "        print(f\"Micro Recall: {recall_micro}\")\n",
        "        print(f\"Weighted Recall: {recall_weighted}\")\n",
        "\n",
        "    elif(valType == 'val'):\n",
        "        cm = confusion_matrix(true_labels, predictions)\n",
        "        f1_macro = f1_score(true_labels, predictions, average='macro')\n",
        "        f1_micro = f1_score(true_labels, predictions, average='micro')\n",
        "        f1_weighted = f1_score(true_labels, predictions, average='weighted')\n",
        "\n",
        "        precision_macro = precision_score(true_labels, predictions, average='macro')\n",
        "        precision_micro = precision_score(true_labels, predictions, average='micro')\n",
        "        precision_weighted = precision_score(true_labels, predictions, average='weighted')\n",
        "\n",
        "        recall_macro = recall_score(true_labels, predictions, average='macro')\n",
        "        recall_micro = recall_score(true_labels, predictions, average='micro')\n",
        "        recall_weighted = recall_score(true_labels, predictions, average='weighted')\n",
        "        # print('Val Micro F1:', f1_micro)\n",
        "        return f1_micro"
      ]
    },
    {
      "cell_type": "code",
      "execution_count": 26,
      "metadata": {
        "colab": {
          "base_uri": "https://localhost:8080/"
        },
        "id": "05xzH0FEDN6C",
        "outputId": "4d85c891-884b-40cc-98ad-8251ef3e28c3"
      },
      "outputs": [
        {
          "output_type": "stream",
          "name": "stderr",
          "text": [
            "Epoch 1/20: 100%|██████████| 300/300 [10:02<00:00,  2.01s/batch]\n"
          ]
        },
        {
          "output_type": "stream",
          "name": "stdout",
          "text": [
            "Epoch 1/20\n",
            "  Train Loss: 0.8027357295155525\n",
            "  Val Micro F1: 0.8496868475991649\n",
            "  Time: 10m 13s\n"
          ]
        },
        {
          "output_type": "stream",
          "name": "stderr",
          "text": [
            "Epoch 2/20: 100%|██████████| 300/300 [10:08<00:00,  2.03s/batch]\n"
          ]
        },
        {
          "output_type": "stream",
          "name": "stdout",
          "text": [
            "Epoch 2/20\n",
            "  Train Loss: 0.3976818982263406\n",
            "  Val Micro F1: 0.8308977035490606\n",
            "  Time: 10m 19s\n"
          ]
        },
        {
          "output_type": "stream",
          "name": "stderr",
          "text": [
            "Epoch 3/20: 100%|██████████| 300/300 [10:08<00:00,  2.03s/batch]\n"
          ]
        },
        {
          "output_type": "stream",
          "name": "stdout",
          "text": [
            "Epoch 3/20\n",
            "  Train Loss: 0.2575368942506611\n",
            "  Val Micro F1: 0.8329853862212944\n",
            "  Time: 10m 19s\n"
          ]
        },
        {
          "output_type": "stream",
          "name": "stderr",
          "text": [
            "Epoch 4/20: 100%|██████████| 300/300 [10:08<00:00,  2.03s/batch]\n"
          ]
        },
        {
          "output_type": "stream",
          "name": "stdout",
          "text": [
            "Epoch 4/20\n",
            "  Train Loss: 0.14721110379633803\n",
            "  Val Micro F1: 0.837160751565762\n",
            "  Time: 10m 18s\n"
          ]
        },
        {
          "output_type": "stream",
          "name": "stderr",
          "text": [
            "Epoch 5/20: 100%|██████████| 300/300 [10:08<00:00,  2.03s/batch]\n"
          ]
        },
        {
          "output_type": "stream",
          "name": "stdout",
          "text": [
            "Epoch 5/20\n",
            "  Train Loss: 0.09111263038047279\n",
            "  Val Micro F1: 0.8308977035490606\n",
            "  Time: 10m 18s\n"
          ]
        },
        {
          "output_type": "stream",
          "name": "stderr",
          "text": [
            "Epoch 6/20: 100%|██████████| 300/300 [10:08<00:00,  2.03s/batch]\n"
          ]
        },
        {
          "output_type": "stream",
          "name": "stdout",
          "text": [
            "Epoch 6/20\n",
            "  Train Loss: 0.056844451727811246\n",
            "  Val Micro F1: 0.8392484342379958\n",
            "  Time: 10m 19s\n"
          ]
        },
        {
          "output_type": "stream",
          "name": "stderr",
          "text": [
            "Epoch 7/20: 100%|██████████| 300/300 [10:07<00:00,  2.02s/batch]\n"
          ]
        },
        {
          "output_type": "stream",
          "name": "stdout",
          "text": [
            "Epoch 7/20\n",
            "  Train Loss: 0.03454676533399227\n",
            "  Val Micro F1: 0.8434237995824636\n",
            "  Time: 10m 18s\n"
          ]
        },
        {
          "output_type": "stream",
          "name": "stderr",
          "text": [
            "Epoch 8/20: 100%|██████████| 300/300 [10:07<00:00,  2.02s/batch]\n"
          ]
        },
        {
          "output_type": "stream",
          "name": "stdout",
          "text": [
            "Epoch 8/20\n",
            "  Train Loss: 0.01960084304009797\n",
            "  Val Micro F1: 0.8475991649269311\n",
            "  Time: 10m 18s\n"
          ]
        },
        {
          "output_type": "stream",
          "name": "stderr",
          "text": [
            "Epoch 9/20: 100%|██████████| 300/300 [10:07<00:00,  2.02s/batch]\n"
          ]
        },
        {
          "output_type": "stream",
          "name": "stdout",
          "text": [
            "Epoch 9/20\n",
            "  Train Loss: 0.012188384815575166\n",
            "  Val Micro F1: 0.8475991649269311\n",
            "  Time: 10m 18s\n"
          ]
        },
        {
          "output_type": "stream",
          "name": "stderr",
          "text": [
            "Epoch 10/20: 100%|██████████| 300/300 [10:07<00:00,  2.03s/batch]\n"
          ]
        },
        {
          "output_type": "stream",
          "name": "stdout",
          "text": [
            "Epoch 10/20\n",
            "  Train Loss: 0.008487871951559403\n",
            "  Val Micro F1: 0.8413361169102297\n",
            "  Time: 10m 18s\n"
          ]
        },
        {
          "output_type": "stream",
          "name": "stderr",
          "text": [
            "Epoch 11/20: 100%|██████████| 300/300 [10:07<00:00,  2.02s/batch]\n"
          ]
        },
        {
          "output_type": "stream",
          "name": "stdout",
          "text": [
            "Epoch 11/20\n",
            "  Train Loss: 0.0070029205374642816\n",
            "  Val Micro F1: 0.8434237995824636\n",
            "  Time: 10m 18s\n"
          ]
        },
        {
          "output_type": "stream",
          "name": "stderr",
          "text": [
            "Epoch 12/20: 100%|██████████| 300/300 [10:07<00:00,  2.03s/batch]\n"
          ]
        },
        {
          "output_type": "stream",
          "name": "stdout",
          "text": [
            "Epoch 12/20\n",
            "  Train Loss: 0.005558445410230585\n",
            "  Val Micro F1: 0.837160751565762\n",
            "  Time: 10m 18s\n"
          ]
        },
        {
          "output_type": "stream",
          "name": "stderr",
          "text": [
            "Epoch 13/20: 100%|██████████| 300/300 [10:07<00:00,  2.03s/batch]\n"
          ]
        },
        {
          "output_type": "stream",
          "name": "stdout",
          "text": [
            "Epoch 13/20\n",
            "  Train Loss: 0.0023897489327161263\n",
            "  Val Micro F1: 0.8455114822546973\n",
            "  Time: 10m 18s\n"
          ]
        },
        {
          "output_type": "stream",
          "name": "stderr",
          "text": [
            "Epoch 14/20: 100%|██████████| 300/300 [10:08<00:00,  2.03s/batch]\n"
          ]
        },
        {
          "output_type": "stream",
          "name": "stdout",
          "text": [
            "Epoch 14/20\n",
            "  Train Loss: 0.003332994374456272\n",
            "  Val Micro F1: 0.8455114822546973\n",
            "  Time: 10m 19s\n"
          ]
        },
        {
          "output_type": "stream",
          "name": "stderr",
          "text": [
            "Epoch 15/20: 100%|██████████| 300/300 [10:07<00:00,  2.03s/batch]\n"
          ]
        },
        {
          "output_type": "stream",
          "name": "stdout",
          "text": [
            "Epoch 15/20\n",
            "  Train Loss: 0.0023249013287446967\n",
            "  Val Micro F1: 0.8455114822546973\n",
            "  Time: 10m 18s\n"
          ]
        },
        {
          "output_type": "stream",
          "name": "stderr",
          "text": [
            "Epoch 16/20: 100%|██████████| 300/300 [10:08<00:00,  2.03s/batch]\n"
          ]
        },
        {
          "output_type": "stream",
          "name": "stdout",
          "text": [
            "Epoch 16/20\n",
            "  Train Loss: 0.0015962119102914585\n",
            "  Val Micro F1: 0.8350730688935282\n",
            "  Time: 10m 19s\n"
          ]
        },
        {
          "output_type": "stream",
          "name": "stderr",
          "text": [
            "Epoch 17/20: 100%|██████████| 300/300 [10:08<00:00,  2.03s/batch]\n"
          ]
        },
        {
          "output_type": "stream",
          "name": "stdout",
          "text": [
            "Epoch 17/20\n",
            "  Train Loss: 0.001670042812390117\n",
            "  Val Micro F1: 0.8455114822546973\n",
            "  Time: 10m 19s\n"
          ]
        },
        {
          "output_type": "stream",
          "name": "stderr",
          "text": [
            "Epoch 18/20: 100%|██████████| 300/300 [10:08<00:00,  2.03s/batch]\n"
          ]
        },
        {
          "output_type": "stream",
          "name": "stdout",
          "text": [
            "Epoch 18/20\n",
            "  Train Loss: 0.0020647621801981584\n",
            "  Val Micro F1: 0.8392484342379958\n",
            "  Time: 10m 19s\n"
          ]
        },
        {
          "output_type": "stream",
          "name": "stderr",
          "text": [
            "Epoch 19/20: 100%|██████████| 300/300 [10:08<00:00,  2.03s/batch]\n"
          ]
        },
        {
          "output_type": "stream",
          "name": "stdout",
          "text": [
            "Epoch 19/20\n",
            "  Train Loss: 0.0008226797901685738\n",
            "  Val Micro F1: 0.8413361169102297\n",
            "  Time: 10m 19s\n"
          ]
        },
        {
          "output_type": "stream",
          "name": "stderr",
          "text": [
            "Epoch 20/20: 100%|██████████| 300/300 [10:08<00:00,  2.03s/batch]\n"
          ]
        },
        {
          "output_type": "stream",
          "name": "stdout",
          "text": [
            "Epoch 20/20\n",
            "  Train Loss: 0.0006958757285246975\n",
            "  Val Micro F1: 0.8413361169102297\n",
            "  Time: 10m 19s\n"
          ]
        }
      ],
      "source": [
        "epochs = 20\n",
        "for epoch in range(epochs):\n",
        "    model.train()\n",
        "    total_train_loss = 0\n",
        "    start_time = time.time()\n",
        "\n",
        "    # Training\n",
        "    for step, batch in enumerate(tqdm(train_dataloader, desc=f\"Epoch {epoch + 1}/{epochs}\", unit=\"batch\")):\n",
        "        batch = tuple(t.to(device) for t in batch)\n",
        "        input_ids, input_mask, labels = batch\n",
        "\n",
        "\n",
        "        model.zero_grad()\n",
        "        outputs = model(input_ids=input_ids, attention_mask=input_mask, labels=labels)\n",
        "        loss = outputs.loss\n",
        "        total_train_loss += loss.item()\n",
        "\n",
        "        loss.backward()\n",
        "        torch.nn.utils.clip_grad_norm_(model.parameters(), max_norm=1.0)\n",
        "        optimizer.step()\n",
        "        scheduler.step()\n",
        "\n",
        "    avg_train_loss = total_train_loss / len(train_dataloader)\n",
        "\n",
        "    # Validation\n",
        "    model.eval()\n",
        "    predictions = []\n",
        "    true_labels = []\n",
        "\n",
        "    for batch in val_dataloader:\n",
        "        batch = tuple(t.to(device) for t in batch)\n",
        "        input_ids, input_mask, labels = batch\n",
        "\n",
        "        with torch.no_grad():\n",
        "            outputs = model(input_ids=input_ids, attention_mask=input_mask)\n",
        "            logits = outputs.logits\n",
        "\n",
        "        logits = logits.detach().cpu().numpy()\n",
        "        label_ids = labels.to('cpu').numpy()\n",
        "\n",
        "        batch_predictions = np.argmax(logits, axis=1)\n",
        "        predictions.extend(batch_predictions)\n",
        "        true_labels.extend(label_ids)\n",
        "\n",
        "    val_micro_f1 = calculate_metrics('val', predictions, true_labels)\n",
        "    elapsed_time = time.time() - start_time\n",
        "\n",
        "    # Print epoch summary\n",
        "    print(f\"Epoch {epoch + 1}/{epochs}\")\n",
        "    print(f\"  Train Loss: {avg_train_loss}\")\n",
        "    print(f\"  Val Micro F1: {val_micro_f1}\")\n",
        "    print(f\"  Time: {elapsed_time // 60:.0f}m {elapsed_time % 60:.0f}s\")"
      ]
    },
    {
      "cell_type": "code",
      "execution_count": 27,
      "metadata": {
        "colab": {
          "base_uri": "https://localhost:8080/"
        },
        "id": "YF1GCpcUDN6D",
        "outputId": "26135674-73d5-4389-ca8f-80d998742300"
      },
      "outputs": [
        {
          "output_type": "stream",
          "name": "stdout",
          "text": [
            "Confusion Matrix:\n",
            " [[254   7   5  19  11   4   5]\n",
            " [  7 189   1  16  14   1   0]\n",
            " [  5   2 362   0   5  18   1]\n",
            " [ 15  25   0 305  14   2   6]\n",
            " [ 15   5   2  20 375   3  11]\n",
            " [  0   0  21   2   4 263  30]\n",
            " [  4   2   6  12   6  28 292]]\n",
            "\n",
            "Classification Report:\n",
            "               precision    recall  f1-score   support\n",
            "\n",
            "           0       0.85      0.83      0.84       305\n",
            "           1       0.82      0.83      0.83       228\n",
            "           2       0.91      0.92      0.92       393\n",
            "           3       0.82      0.83      0.82       367\n",
            "           4       0.87      0.87      0.87       431\n",
            "           5       0.82      0.82      0.82       320\n",
            "           6       0.85      0.83      0.84       350\n",
            "\n",
            "    accuracy                           0.85      2394\n",
            "   macro avg       0.85      0.85      0.85      2394\n",
            "weighted avg       0.85      0.85      0.85      2394\n",
            "\n",
            "Macro F1 Score: 0.8486009266927113\n",
            "Micro F1 Score: 0.8521303258145363\n",
            "Weighted F1 Score: 0.8521069699780034\n",
            "Macro Precision: 0.8486723865431711\n",
            "Micro Precision: 0.8521303258145363\n",
            "Weighted Precision: 0.8521464206248474\n",
            "Macro Recall: 0.8485924052423085\n",
            "Micro Recall: 0.8521303258145363\n",
            "Weighted Recall: 0.8521303258145363\n"
          ]
        }
      ],
      "source": [
        "# Evaluation\n",
        "model.eval()\n",
        "predictions = []\n",
        "true_labels = []\n",
        "\n",
        "for batch in test_dataloader:\n",
        "    batch = tuple(t.to(device) for t in batch)\n",
        "    input_ids, input_mask, labels = batch\n",
        "\n",
        "    with torch.no_grad():\n",
        "        outputs = model(input_ids=input_ids, attention_mask=input_mask)\n",
        "        logits = outputs.logits\n",
        "\n",
        "    logits = logits.detach().cpu().numpy()\n",
        "    label_ids = labels.to('cpu').numpy()\n",
        "\n",
        "    batch_predictions = np.argmax(logits, axis=1)\n",
        "    predictions.extend(batch_predictions)\n",
        "    true_labels.extend(label_ids)\n",
        "\n",
        "# Calculate and print metrics\n",
        "calculate_metrics('test', predictions, true_labels)"
      ]
    },
    {
      "cell_type": "code",
      "execution_count": 28,
      "metadata": {
        "id": "zBU4h6E7DN6D"
      },
      "outputs": [],
      "source": [
        "model.save_pretrained('/content/drive/MyDrive/WoS/BlueBERT_WoS_Keywords_11967')"
      ]
    },
    {
      "cell_type": "code",
      "source": [
        "from google.colab import runtime\n",
        "runtime.unassign()"
      ],
      "metadata": {
        "id": "pkXcVELnPhIq"
      },
      "execution_count": null,
      "outputs": []
    }
  ],
  "metadata": {
    "language_info": {
      "name": "python"
    },
    "colab": {
      "provenance": [],
      "gpuType": "T4"
    },
    "kernelspec": {
      "name": "python3",
      "display_name": "Python 3"
    },
    "accelerator": "GPU",
    "widgets": {
      "application/vnd.jupyter.widget-state+json": {
        "77b7507dba0b420491cc0efb805890c0": {
          "model_module": "@jupyter-widgets/controls",
          "model_name": "HBoxModel",
          "model_module_version": "1.5.0",
          "state": {
            "_dom_classes": [],
            "_model_module": "@jupyter-widgets/controls",
            "_model_module_version": "1.5.0",
            "_model_name": "HBoxModel",
            "_view_count": null,
            "_view_module": "@jupyter-widgets/controls",
            "_view_module_version": "1.5.0",
            "_view_name": "HBoxView",
            "box_style": "",
            "children": [
              "IPY_MODEL_d41e802ca82d47e098d809eb6e0c585a",
              "IPY_MODEL_b3dc57fa846d499295965efdc2d9ddc1",
              "IPY_MODEL_3f7f8836df074e16a626e2e7be127fa5"
            ],
            "layout": "IPY_MODEL_4f171a936d204ef685879d06ba06a093"
          }
        },
        "d41e802ca82d47e098d809eb6e0c585a": {
          "model_module": "@jupyter-widgets/controls",
          "model_name": "HTMLModel",
          "model_module_version": "1.5.0",
          "state": {
            "_dom_classes": [],
            "_model_module": "@jupyter-widgets/controls",
            "_model_module_version": "1.5.0",
            "_model_name": "HTMLModel",
            "_view_count": null,
            "_view_module": "@jupyter-widgets/controls",
            "_view_module_version": "1.5.0",
            "_view_name": "HTMLView",
            "description": "",
            "description_tooltip": null,
            "layout": "IPY_MODEL_796ce66cdc7a488d82670356fc791a13",
            "placeholder": "​",
            "style": "IPY_MODEL_b75d0ea57b5c473b98e31658763e9b12",
            "value": "config.json: 100%"
          }
        },
        "b3dc57fa846d499295965efdc2d9ddc1": {
          "model_module": "@jupyter-widgets/controls",
          "model_name": "FloatProgressModel",
          "model_module_version": "1.5.0",
          "state": {
            "_dom_classes": [],
            "_model_module": "@jupyter-widgets/controls",
            "_model_module_version": "1.5.0",
            "_model_name": "FloatProgressModel",
            "_view_count": null,
            "_view_module": "@jupyter-widgets/controls",
            "_view_module_version": "1.5.0",
            "_view_name": "ProgressView",
            "bar_style": "success",
            "description": "",
            "description_tooltip": null,
            "layout": "IPY_MODEL_09953b0fa8f64216a3fbc1419b256042",
            "max": 314,
            "min": 0,
            "orientation": "horizontal",
            "style": "IPY_MODEL_1287dadd78a44980b8f2ab5622250c20",
            "value": 314
          }
        },
        "3f7f8836df074e16a626e2e7be127fa5": {
          "model_module": "@jupyter-widgets/controls",
          "model_name": "HTMLModel",
          "model_module_version": "1.5.0",
          "state": {
            "_dom_classes": [],
            "_model_module": "@jupyter-widgets/controls",
            "_model_module_version": "1.5.0",
            "_model_name": "HTMLModel",
            "_view_count": null,
            "_view_module": "@jupyter-widgets/controls",
            "_view_module_version": "1.5.0",
            "_view_name": "HTMLView",
            "description": "",
            "description_tooltip": null,
            "layout": "IPY_MODEL_88fc40914ea54fd7a30932f2b9165f1a",
            "placeholder": "​",
            "style": "IPY_MODEL_7f700411dfd24e78ab016c47df0a3ac4",
            "value": " 314/314 [00:00&lt;00:00, 8.55kB/s]"
          }
        },
        "4f171a936d204ef685879d06ba06a093": {
          "model_module": "@jupyter-widgets/base",
          "model_name": "LayoutModel",
          "model_module_version": "1.2.0",
          "state": {
            "_model_module": "@jupyter-widgets/base",
            "_model_module_version": "1.2.0",
            "_model_name": "LayoutModel",
            "_view_count": null,
            "_view_module": "@jupyter-widgets/base",
            "_view_module_version": "1.2.0",
            "_view_name": "LayoutView",
            "align_content": null,
            "align_items": null,
            "align_self": null,
            "border": null,
            "bottom": null,
            "display": null,
            "flex": null,
            "flex_flow": null,
            "grid_area": null,
            "grid_auto_columns": null,
            "grid_auto_flow": null,
            "grid_auto_rows": null,
            "grid_column": null,
            "grid_gap": null,
            "grid_row": null,
            "grid_template_areas": null,
            "grid_template_columns": null,
            "grid_template_rows": null,
            "height": null,
            "justify_content": null,
            "justify_items": null,
            "left": null,
            "margin": null,
            "max_height": null,
            "max_width": null,
            "min_height": null,
            "min_width": null,
            "object_fit": null,
            "object_position": null,
            "order": null,
            "overflow": null,
            "overflow_x": null,
            "overflow_y": null,
            "padding": null,
            "right": null,
            "top": null,
            "visibility": null,
            "width": null
          }
        },
        "796ce66cdc7a488d82670356fc791a13": {
          "model_module": "@jupyter-widgets/base",
          "model_name": "LayoutModel",
          "model_module_version": "1.2.0",
          "state": {
            "_model_module": "@jupyter-widgets/base",
            "_model_module_version": "1.2.0",
            "_model_name": "LayoutModel",
            "_view_count": null,
            "_view_module": "@jupyter-widgets/base",
            "_view_module_version": "1.2.0",
            "_view_name": "LayoutView",
            "align_content": null,
            "align_items": null,
            "align_self": null,
            "border": null,
            "bottom": null,
            "display": null,
            "flex": null,
            "flex_flow": null,
            "grid_area": null,
            "grid_auto_columns": null,
            "grid_auto_flow": null,
            "grid_auto_rows": null,
            "grid_column": null,
            "grid_gap": null,
            "grid_row": null,
            "grid_template_areas": null,
            "grid_template_columns": null,
            "grid_template_rows": null,
            "height": null,
            "justify_content": null,
            "justify_items": null,
            "left": null,
            "margin": null,
            "max_height": null,
            "max_width": null,
            "min_height": null,
            "min_width": null,
            "object_fit": null,
            "object_position": null,
            "order": null,
            "overflow": null,
            "overflow_x": null,
            "overflow_y": null,
            "padding": null,
            "right": null,
            "top": null,
            "visibility": null,
            "width": null
          }
        },
        "b75d0ea57b5c473b98e31658763e9b12": {
          "model_module": "@jupyter-widgets/controls",
          "model_name": "DescriptionStyleModel",
          "model_module_version": "1.5.0",
          "state": {
            "_model_module": "@jupyter-widgets/controls",
            "_model_module_version": "1.5.0",
            "_model_name": "DescriptionStyleModel",
            "_view_count": null,
            "_view_module": "@jupyter-widgets/base",
            "_view_module_version": "1.2.0",
            "_view_name": "StyleView",
            "description_width": ""
          }
        },
        "09953b0fa8f64216a3fbc1419b256042": {
          "model_module": "@jupyter-widgets/base",
          "model_name": "LayoutModel",
          "model_module_version": "1.2.0",
          "state": {
            "_model_module": "@jupyter-widgets/base",
            "_model_module_version": "1.2.0",
            "_model_name": "LayoutModel",
            "_view_count": null,
            "_view_module": "@jupyter-widgets/base",
            "_view_module_version": "1.2.0",
            "_view_name": "LayoutView",
            "align_content": null,
            "align_items": null,
            "align_self": null,
            "border": null,
            "bottom": null,
            "display": null,
            "flex": null,
            "flex_flow": null,
            "grid_area": null,
            "grid_auto_columns": null,
            "grid_auto_flow": null,
            "grid_auto_rows": null,
            "grid_column": null,
            "grid_gap": null,
            "grid_row": null,
            "grid_template_areas": null,
            "grid_template_columns": null,
            "grid_template_rows": null,
            "height": null,
            "justify_content": null,
            "justify_items": null,
            "left": null,
            "margin": null,
            "max_height": null,
            "max_width": null,
            "min_height": null,
            "min_width": null,
            "object_fit": null,
            "object_position": null,
            "order": null,
            "overflow": null,
            "overflow_x": null,
            "overflow_y": null,
            "padding": null,
            "right": null,
            "top": null,
            "visibility": null,
            "width": null
          }
        },
        "1287dadd78a44980b8f2ab5622250c20": {
          "model_module": "@jupyter-widgets/controls",
          "model_name": "ProgressStyleModel",
          "model_module_version": "1.5.0",
          "state": {
            "_model_module": "@jupyter-widgets/controls",
            "_model_module_version": "1.5.0",
            "_model_name": "ProgressStyleModel",
            "_view_count": null,
            "_view_module": "@jupyter-widgets/base",
            "_view_module_version": "1.2.0",
            "_view_name": "StyleView",
            "bar_color": null,
            "description_width": ""
          }
        },
        "88fc40914ea54fd7a30932f2b9165f1a": {
          "model_module": "@jupyter-widgets/base",
          "model_name": "LayoutModel",
          "model_module_version": "1.2.0",
          "state": {
            "_model_module": "@jupyter-widgets/base",
            "_model_module_version": "1.2.0",
            "_model_name": "LayoutModel",
            "_view_count": null,
            "_view_module": "@jupyter-widgets/base",
            "_view_module_version": "1.2.0",
            "_view_name": "LayoutView",
            "align_content": null,
            "align_items": null,
            "align_self": null,
            "border": null,
            "bottom": null,
            "display": null,
            "flex": null,
            "flex_flow": null,
            "grid_area": null,
            "grid_auto_columns": null,
            "grid_auto_flow": null,
            "grid_auto_rows": null,
            "grid_column": null,
            "grid_gap": null,
            "grid_row": null,
            "grid_template_areas": null,
            "grid_template_columns": null,
            "grid_template_rows": null,
            "height": null,
            "justify_content": null,
            "justify_items": null,
            "left": null,
            "margin": null,
            "max_height": null,
            "max_width": null,
            "min_height": null,
            "min_width": null,
            "object_fit": null,
            "object_position": null,
            "order": null,
            "overflow": null,
            "overflow_x": null,
            "overflow_y": null,
            "padding": null,
            "right": null,
            "top": null,
            "visibility": null,
            "width": null
          }
        },
        "7f700411dfd24e78ab016c47df0a3ac4": {
          "model_module": "@jupyter-widgets/controls",
          "model_name": "DescriptionStyleModel",
          "model_module_version": "1.5.0",
          "state": {
            "_model_module": "@jupyter-widgets/controls",
            "_model_module_version": "1.5.0",
            "_model_name": "DescriptionStyleModel",
            "_view_count": null,
            "_view_module": "@jupyter-widgets/base",
            "_view_module_version": "1.2.0",
            "_view_name": "StyleView",
            "description_width": ""
          }
        },
        "0715bb17af204f90b9469ebada3a0692": {
          "model_module": "@jupyter-widgets/controls",
          "model_name": "HBoxModel",
          "model_module_version": "1.5.0",
          "state": {
            "_dom_classes": [],
            "_model_module": "@jupyter-widgets/controls",
            "_model_module_version": "1.5.0",
            "_model_name": "HBoxModel",
            "_view_count": null,
            "_view_module": "@jupyter-widgets/controls",
            "_view_module_version": "1.5.0",
            "_view_name": "HBoxView",
            "box_style": "",
            "children": [
              "IPY_MODEL_70e06004aa1f4ae7a09d048840273d7f",
              "IPY_MODEL_23a7d40a6ea24a1cb099f2d585cc0bcf",
              "IPY_MODEL_a596a068deb74a6fa76b7ba7bd5c1398"
            ],
            "layout": "IPY_MODEL_65203516ca4940c7909dddafd1ea0024"
          }
        },
        "70e06004aa1f4ae7a09d048840273d7f": {
          "model_module": "@jupyter-widgets/controls",
          "model_name": "HTMLModel",
          "model_module_version": "1.5.0",
          "state": {
            "_dom_classes": [],
            "_model_module": "@jupyter-widgets/controls",
            "_model_module_version": "1.5.0",
            "_model_name": "HTMLModel",
            "_view_count": null,
            "_view_module": "@jupyter-widgets/controls",
            "_view_module_version": "1.5.0",
            "_view_name": "HTMLView",
            "description": "",
            "description_tooltip": null,
            "layout": "IPY_MODEL_2c4f33aa971447e9bb0e768297b58812",
            "placeholder": "​",
            "style": "IPY_MODEL_c075800afd6f4438aa7c0be75a212686",
            "value": "vocab.txt: 100%"
          }
        },
        "23a7d40a6ea24a1cb099f2d585cc0bcf": {
          "model_module": "@jupyter-widgets/controls",
          "model_name": "FloatProgressModel",
          "model_module_version": "1.5.0",
          "state": {
            "_dom_classes": [],
            "_model_module": "@jupyter-widgets/controls",
            "_model_module_version": "1.5.0",
            "_model_name": "FloatProgressModel",
            "_view_count": null,
            "_view_module": "@jupyter-widgets/controls",
            "_view_module_version": "1.5.0",
            "_view_name": "ProgressView",
            "bar_style": "success",
            "description": "",
            "description_tooltip": null,
            "layout": "IPY_MODEL_db36330165cc4ae4ae519bd20b1df882",
            "max": 231508,
            "min": 0,
            "orientation": "horizontal",
            "style": "IPY_MODEL_160181feaeb94ff685af6788fd2875d2",
            "value": 231508
          }
        },
        "a596a068deb74a6fa76b7ba7bd5c1398": {
          "model_module": "@jupyter-widgets/controls",
          "model_name": "HTMLModel",
          "model_module_version": "1.5.0",
          "state": {
            "_dom_classes": [],
            "_model_module": "@jupyter-widgets/controls",
            "_model_module_version": "1.5.0",
            "_model_name": "HTMLModel",
            "_view_count": null,
            "_view_module": "@jupyter-widgets/controls",
            "_view_module_version": "1.5.0",
            "_view_name": "HTMLView",
            "description": "",
            "description_tooltip": null,
            "layout": "IPY_MODEL_02ca5e27a1a24ea188007eeceea10dee",
            "placeholder": "​",
            "style": "IPY_MODEL_ec023bbdab184ad1b8070534ec2aec0a",
            "value": " 232k/232k [00:00&lt;00:00, 1.83MB/s]"
          }
        },
        "65203516ca4940c7909dddafd1ea0024": {
          "model_module": "@jupyter-widgets/base",
          "model_name": "LayoutModel",
          "model_module_version": "1.2.0",
          "state": {
            "_model_module": "@jupyter-widgets/base",
            "_model_module_version": "1.2.0",
            "_model_name": "LayoutModel",
            "_view_count": null,
            "_view_module": "@jupyter-widgets/base",
            "_view_module_version": "1.2.0",
            "_view_name": "LayoutView",
            "align_content": null,
            "align_items": null,
            "align_self": null,
            "border": null,
            "bottom": null,
            "display": null,
            "flex": null,
            "flex_flow": null,
            "grid_area": null,
            "grid_auto_columns": null,
            "grid_auto_flow": null,
            "grid_auto_rows": null,
            "grid_column": null,
            "grid_gap": null,
            "grid_row": null,
            "grid_template_areas": null,
            "grid_template_columns": null,
            "grid_template_rows": null,
            "height": null,
            "justify_content": null,
            "justify_items": null,
            "left": null,
            "margin": null,
            "max_height": null,
            "max_width": null,
            "min_height": null,
            "min_width": null,
            "object_fit": null,
            "object_position": null,
            "order": null,
            "overflow": null,
            "overflow_x": null,
            "overflow_y": null,
            "padding": null,
            "right": null,
            "top": null,
            "visibility": null,
            "width": null
          }
        },
        "2c4f33aa971447e9bb0e768297b58812": {
          "model_module": "@jupyter-widgets/base",
          "model_name": "LayoutModel",
          "model_module_version": "1.2.0",
          "state": {
            "_model_module": "@jupyter-widgets/base",
            "_model_module_version": "1.2.0",
            "_model_name": "LayoutModel",
            "_view_count": null,
            "_view_module": "@jupyter-widgets/base",
            "_view_module_version": "1.2.0",
            "_view_name": "LayoutView",
            "align_content": null,
            "align_items": null,
            "align_self": null,
            "border": null,
            "bottom": null,
            "display": null,
            "flex": null,
            "flex_flow": null,
            "grid_area": null,
            "grid_auto_columns": null,
            "grid_auto_flow": null,
            "grid_auto_rows": null,
            "grid_column": null,
            "grid_gap": null,
            "grid_row": null,
            "grid_template_areas": null,
            "grid_template_columns": null,
            "grid_template_rows": null,
            "height": null,
            "justify_content": null,
            "justify_items": null,
            "left": null,
            "margin": null,
            "max_height": null,
            "max_width": null,
            "min_height": null,
            "min_width": null,
            "object_fit": null,
            "object_position": null,
            "order": null,
            "overflow": null,
            "overflow_x": null,
            "overflow_y": null,
            "padding": null,
            "right": null,
            "top": null,
            "visibility": null,
            "width": null
          }
        },
        "c075800afd6f4438aa7c0be75a212686": {
          "model_module": "@jupyter-widgets/controls",
          "model_name": "DescriptionStyleModel",
          "model_module_version": "1.5.0",
          "state": {
            "_model_module": "@jupyter-widgets/controls",
            "_model_module_version": "1.5.0",
            "_model_name": "DescriptionStyleModel",
            "_view_count": null,
            "_view_module": "@jupyter-widgets/base",
            "_view_module_version": "1.2.0",
            "_view_name": "StyleView",
            "description_width": ""
          }
        },
        "db36330165cc4ae4ae519bd20b1df882": {
          "model_module": "@jupyter-widgets/base",
          "model_name": "LayoutModel",
          "model_module_version": "1.2.0",
          "state": {
            "_model_module": "@jupyter-widgets/base",
            "_model_module_version": "1.2.0",
            "_model_name": "LayoutModel",
            "_view_count": null,
            "_view_module": "@jupyter-widgets/base",
            "_view_module_version": "1.2.0",
            "_view_name": "LayoutView",
            "align_content": null,
            "align_items": null,
            "align_self": null,
            "border": null,
            "bottom": null,
            "display": null,
            "flex": null,
            "flex_flow": null,
            "grid_area": null,
            "grid_auto_columns": null,
            "grid_auto_flow": null,
            "grid_auto_rows": null,
            "grid_column": null,
            "grid_gap": null,
            "grid_row": null,
            "grid_template_areas": null,
            "grid_template_columns": null,
            "grid_template_rows": null,
            "height": null,
            "justify_content": null,
            "justify_items": null,
            "left": null,
            "margin": null,
            "max_height": null,
            "max_width": null,
            "min_height": null,
            "min_width": null,
            "object_fit": null,
            "object_position": null,
            "order": null,
            "overflow": null,
            "overflow_x": null,
            "overflow_y": null,
            "padding": null,
            "right": null,
            "top": null,
            "visibility": null,
            "width": null
          }
        },
        "160181feaeb94ff685af6788fd2875d2": {
          "model_module": "@jupyter-widgets/controls",
          "model_name": "ProgressStyleModel",
          "model_module_version": "1.5.0",
          "state": {
            "_model_module": "@jupyter-widgets/controls",
            "_model_module_version": "1.5.0",
            "_model_name": "ProgressStyleModel",
            "_view_count": null,
            "_view_module": "@jupyter-widgets/base",
            "_view_module_version": "1.2.0",
            "_view_name": "StyleView",
            "bar_color": null,
            "description_width": ""
          }
        },
        "02ca5e27a1a24ea188007eeceea10dee": {
          "model_module": "@jupyter-widgets/base",
          "model_name": "LayoutModel",
          "model_module_version": "1.2.0",
          "state": {
            "_model_module": "@jupyter-widgets/base",
            "_model_module_version": "1.2.0",
            "_model_name": "LayoutModel",
            "_view_count": null,
            "_view_module": "@jupyter-widgets/base",
            "_view_module_version": "1.2.0",
            "_view_name": "LayoutView",
            "align_content": null,
            "align_items": null,
            "align_self": null,
            "border": null,
            "bottom": null,
            "display": null,
            "flex": null,
            "flex_flow": null,
            "grid_area": null,
            "grid_auto_columns": null,
            "grid_auto_flow": null,
            "grid_auto_rows": null,
            "grid_column": null,
            "grid_gap": null,
            "grid_row": null,
            "grid_template_areas": null,
            "grid_template_columns": null,
            "grid_template_rows": null,
            "height": null,
            "justify_content": null,
            "justify_items": null,
            "left": null,
            "margin": null,
            "max_height": null,
            "max_width": null,
            "min_height": null,
            "min_width": null,
            "object_fit": null,
            "object_position": null,
            "order": null,
            "overflow": null,
            "overflow_x": null,
            "overflow_y": null,
            "padding": null,
            "right": null,
            "top": null,
            "visibility": null,
            "width": null
          }
        },
        "ec023bbdab184ad1b8070534ec2aec0a": {
          "model_module": "@jupyter-widgets/controls",
          "model_name": "DescriptionStyleModel",
          "model_module_version": "1.5.0",
          "state": {
            "_model_module": "@jupyter-widgets/controls",
            "_model_module_version": "1.5.0",
            "_model_name": "DescriptionStyleModel",
            "_view_count": null,
            "_view_module": "@jupyter-widgets/base",
            "_view_module_version": "1.2.0",
            "_view_name": "StyleView",
            "description_width": ""
          }
        },
        "2cd139b3a3b141e3adcf5c2db7ae9d1e": {
          "model_module": "@jupyter-widgets/controls",
          "model_name": "HBoxModel",
          "model_module_version": "1.5.0",
          "state": {
            "_dom_classes": [],
            "_model_module": "@jupyter-widgets/controls",
            "_model_module_version": "1.5.0",
            "_model_name": "HBoxModel",
            "_view_count": null,
            "_view_module": "@jupyter-widgets/controls",
            "_view_module_version": "1.5.0",
            "_view_name": "HBoxView",
            "box_style": "",
            "children": [
              "IPY_MODEL_7cd6717533dc411dbc0e6c23c6913b40",
              "IPY_MODEL_01c8b3bfcb744d1a91dde0d069c7d1d0",
              "IPY_MODEL_613e418c7ac24ee6a0a2b1c81e079754"
            ],
            "layout": "IPY_MODEL_2c14ba5f507b4f0abdd5fd84c14ade86"
          }
        },
        "7cd6717533dc411dbc0e6c23c6913b40": {
          "model_module": "@jupyter-widgets/controls",
          "model_name": "HTMLModel",
          "model_module_version": "1.5.0",
          "state": {
            "_dom_classes": [],
            "_model_module": "@jupyter-widgets/controls",
            "_model_module_version": "1.5.0",
            "_model_name": "HTMLModel",
            "_view_count": null,
            "_view_module": "@jupyter-widgets/controls",
            "_view_module_version": "1.5.0",
            "_view_name": "HTMLView",
            "description": "",
            "description_tooltip": null,
            "layout": "IPY_MODEL_91b0208d76f8436fbb93eba5586b8c86",
            "placeholder": "​",
            "style": "IPY_MODEL_acd12418a9ad4b998382a2e00c158320",
            "value": "pytorch_model.bin: 100%"
          }
        },
        "01c8b3bfcb744d1a91dde0d069c7d1d0": {
          "model_module": "@jupyter-widgets/controls",
          "model_name": "FloatProgressModel",
          "model_module_version": "1.5.0",
          "state": {
            "_dom_classes": [],
            "_model_module": "@jupyter-widgets/controls",
            "_model_module_version": "1.5.0",
            "_model_name": "FloatProgressModel",
            "_view_count": null,
            "_view_module": "@jupyter-widgets/controls",
            "_view_module_version": "1.5.0",
            "_view_name": "ProgressView",
            "bar_style": "success",
            "description": "",
            "description_tooltip": null,
            "layout": "IPY_MODEL_dc8933df29b84170a8ca2e38686835ac",
            "max": 1345067985,
            "min": 0,
            "orientation": "horizontal",
            "style": "IPY_MODEL_e574c8362a1d49a1b8f1028c3ba3637f",
            "value": 1345067985
          }
        },
        "613e418c7ac24ee6a0a2b1c81e079754": {
          "model_module": "@jupyter-widgets/controls",
          "model_name": "HTMLModel",
          "model_module_version": "1.5.0",
          "state": {
            "_dom_classes": [],
            "_model_module": "@jupyter-widgets/controls",
            "_model_module_version": "1.5.0",
            "_model_name": "HTMLModel",
            "_view_count": null,
            "_view_module": "@jupyter-widgets/controls",
            "_view_module_version": "1.5.0",
            "_view_name": "HTMLView",
            "description": "",
            "description_tooltip": null,
            "layout": "IPY_MODEL_9bba90f7c6a74e1d9408eb2de691559c",
            "placeholder": "​",
            "style": "IPY_MODEL_4a086aa0f3454faea59ff401786790fa",
            "value": " 1.35G/1.35G [00:59&lt;00:00, 20.4MB/s]"
          }
        },
        "2c14ba5f507b4f0abdd5fd84c14ade86": {
          "model_module": "@jupyter-widgets/base",
          "model_name": "LayoutModel",
          "model_module_version": "1.2.0",
          "state": {
            "_model_module": "@jupyter-widgets/base",
            "_model_module_version": "1.2.0",
            "_model_name": "LayoutModel",
            "_view_count": null,
            "_view_module": "@jupyter-widgets/base",
            "_view_module_version": "1.2.0",
            "_view_name": "LayoutView",
            "align_content": null,
            "align_items": null,
            "align_self": null,
            "border": null,
            "bottom": null,
            "display": null,
            "flex": null,
            "flex_flow": null,
            "grid_area": null,
            "grid_auto_columns": null,
            "grid_auto_flow": null,
            "grid_auto_rows": null,
            "grid_column": null,
            "grid_gap": null,
            "grid_row": null,
            "grid_template_areas": null,
            "grid_template_columns": null,
            "grid_template_rows": null,
            "height": null,
            "justify_content": null,
            "justify_items": null,
            "left": null,
            "margin": null,
            "max_height": null,
            "max_width": null,
            "min_height": null,
            "min_width": null,
            "object_fit": null,
            "object_position": null,
            "order": null,
            "overflow": null,
            "overflow_x": null,
            "overflow_y": null,
            "padding": null,
            "right": null,
            "top": null,
            "visibility": null,
            "width": null
          }
        },
        "91b0208d76f8436fbb93eba5586b8c86": {
          "model_module": "@jupyter-widgets/base",
          "model_name": "LayoutModel",
          "model_module_version": "1.2.0",
          "state": {
            "_model_module": "@jupyter-widgets/base",
            "_model_module_version": "1.2.0",
            "_model_name": "LayoutModel",
            "_view_count": null,
            "_view_module": "@jupyter-widgets/base",
            "_view_module_version": "1.2.0",
            "_view_name": "LayoutView",
            "align_content": null,
            "align_items": null,
            "align_self": null,
            "border": null,
            "bottom": null,
            "display": null,
            "flex": null,
            "flex_flow": null,
            "grid_area": null,
            "grid_auto_columns": null,
            "grid_auto_flow": null,
            "grid_auto_rows": null,
            "grid_column": null,
            "grid_gap": null,
            "grid_row": null,
            "grid_template_areas": null,
            "grid_template_columns": null,
            "grid_template_rows": null,
            "height": null,
            "justify_content": null,
            "justify_items": null,
            "left": null,
            "margin": null,
            "max_height": null,
            "max_width": null,
            "min_height": null,
            "min_width": null,
            "object_fit": null,
            "object_position": null,
            "order": null,
            "overflow": null,
            "overflow_x": null,
            "overflow_y": null,
            "padding": null,
            "right": null,
            "top": null,
            "visibility": null,
            "width": null
          }
        },
        "acd12418a9ad4b998382a2e00c158320": {
          "model_module": "@jupyter-widgets/controls",
          "model_name": "DescriptionStyleModel",
          "model_module_version": "1.5.0",
          "state": {
            "_model_module": "@jupyter-widgets/controls",
            "_model_module_version": "1.5.0",
            "_model_name": "DescriptionStyleModel",
            "_view_count": null,
            "_view_module": "@jupyter-widgets/base",
            "_view_module_version": "1.2.0",
            "_view_name": "StyleView",
            "description_width": ""
          }
        },
        "dc8933df29b84170a8ca2e38686835ac": {
          "model_module": "@jupyter-widgets/base",
          "model_name": "LayoutModel",
          "model_module_version": "1.2.0",
          "state": {
            "_model_module": "@jupyter-widgets/base",
            "_model_module_version": "1.2.0",
            "_model_name": "LayoutModel",
            "_view_count": null,
            "_view_module": "@jupyter-widgets/base",
            "_view_module_version": "1.2.0",
            "_view_name": "LayoutView",
            "align_content": null,
            "align_items": null,
            "align_self": null,
            "border": null,
            "bottom": null,
            "display": null,
            "flex": null,
            "flex_flow": null,
            "grid_area": null,
            "grid_auto_columns": null,
            "grid_auto_flow": null,
            "grid_auto_rows": null,
            "grid_column": null,
            "grid_gap": null,
            "grid_row": null,
            "grid_template_areas": null,
            "grid_template_columns": null,
            "grid_template_rows": null,
            "height": null,
            "justify_content": null,
            "justify_items": null,
            "left": null,
            "margin": null,
            "max_height": null,
            "max_width": null,
            "min_height": null,
            "min_width": null,
            "object_fit": null,
            "object_position": null,
            "order": null,
            "overflow": null,
            "overflow_x": null,
            "overflow_y": null,
            "padding": null,
            "right": null,
            "top": null,
            "visibility": null,
            "width": null
          }
        },
        "e574c8362a1d49a1b8f1028c3ba3637f": {
          "model_module": "@jupyter-widgets/controls",
          "model_name": "ProgressStyleModel",
          "model_module_version": "1.5.0",
          "state": {
            "_model_module": "@jupyter-widgets/controls",
            "_model_module_version": "1.5.0",
            "_model_name": "ProgressStyleModel",
            "_view_count": null,
            "_view_module": "@jupyter-widgets/base",
            "_view_module_version": "1.2.0",
            "_view_name": "StyleView",
            "bar_color": null,
            "description_width": ""
          }
        },
        "9bba90f7c6a74e1d9408eb2de691559c": {
          "model_module": "@jupyter-widgets/base",
          "model_name": "LayoutModel",
          "model_module_version": "1.2.0",
          "state": {
            "_model_module": "@jupyter-widgets/base",
            "_model_module_version": "1.2.0",
            "_model_name": "LayoutModel",
            "_view_count": null,
            "_view_module": "@jupyter-widgets/base",
            "_view_module_version": "1.2.0",
            "_view_name": "LayoutView",
            "align_content": null,
            "align_items": null,
            "align_self": null,
            "border": null,
            "bottom": null,
            "display": null,
            "flex": null,
            "flex_flow": null,
            "grid_area": null,
            "grid_auto_columns": null,
            "grid_auto_flow": null,
            "grid_auto_rows": null,
            "grid_column": null,
            "grid_gap": null,
            "grid_row": null,
            "grid_template_areas": null,
            "grid_template_columns": null,
            "grid_template_rows": null,
            "height": null,
            "justify_content": null,
            "justify_items": null,
            "left": null,
            "margin": null,
            "max_height": null,
            "max_width": null,
            "min_height": null,
            "min_width": null,
            "object_fit": null,
            "object_position": null,
            "order": null,
            "overflow": null,
            "overflow_x": null,
            "overflow_y": null,
            "padding": null,
            "right": null,
            "top": null,
            "visibility": null,
            "width": null
          }
        },
        "4a086aa0f3454faea59ff401786790fa": {
          "model_module": "@jupyter-widgets/controls",
          "model_name": "DescriptionStyleModel",
          "model_module_version": "1.5.0",
          "state": {
            "_model_module": "@jupyter-widgets/controls",
            "_model_module_version": "1.5.0",
            "_model_name": "DescriptionStyleModel",
            "_view_count": null,
            "_view_module": "@jupyter-widgets/base",
            "_view_module_version": "1.2.0",
            "_view_name": "StyleView",
            "description_width": ""
          }
        }
      }
    }
  },
  "nbformat": 4,
  "nbformat_minor": 0
}
