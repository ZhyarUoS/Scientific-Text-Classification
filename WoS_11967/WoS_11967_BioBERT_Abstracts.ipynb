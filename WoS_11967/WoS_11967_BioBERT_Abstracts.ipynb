{
  "cells": [
    {
      "cell_type": "code",
      "execution_count": 1,
      "metadata": {
        "colab": {
          "base_uri": "https://localhost:8080/"
        },
        "id": "iRuetRKhDN59",
        "outputId": "c0b1f875-e8d9-4b82-ee39-b6394139b6b2"
      },
      "outputs": [
        {
          "output_type": "stream",
          "name": "stdout",
          "text": [
            "Tue Jul 30 12:32:11 2024       \n",
            "+---------------------------------------------------------------------------------------+\n",
            "| NVIDIA-SMI 535.104.05             Driver Version: 535.104.05   CUDA Version: 12.2     |\n",
            "|-----------------------------------------+----------------------+----------------------+\n",
            "| GPU  Name                 Persistence-M | Bus-Id        Disp.A | Volatile Uncorr. ECC |\n",
            "| Fan  Temp   Perf          Pwr:Usage/Cap |         Memory-Usage | GPU-Util  Compute M. |\n",
            "|                                         |                      |               MIG M. |\n",
            "|=========================================+======================+======================|\n",
            "|   0  Tesla T4                       Off | 00000000:00:04.0 Off |                    0 |\n",
            "| N/A   48C    P8              10W /  70W |      0MiB / 15360MiB |      0%      Default |\n",
            "|                                         |                      |                  N/A |\n",
            "+-----------------------------------------+----------------------+----------------------+\n",
            "                                                                                         \n",
            "+---------------------------------------------------------------------------------------+\n",
            "| Processes:                                                                            |\n",
            "|  GPU   GI   CI        PID   Type   Process name                            GPU Memory |\n",
            "|        ID   ID                                                             Usage      |\n",
            "|=======================================================================================|\n",
            "|  No running processes found                                                           |\n",
            "+---------------------------------------------------------------------------------------+\n"
          ]
        }
      ],
      "source": [
        "gpu_info = !nvidia-smi\n",
        "gpu_info = '\\n'.join(gpu_info)\n",
        "if gpu_info.find('failed') >= 0:\n",
        "  print('Not connected to a GPU')\n",
        "else:\n",
        "  print(gpu_info)"
      ]
    },
    {
      "cell_type": "code",
      "execution_count": 2,
      "metadata": {
        "colab": {
          "base_uri": "https://localhost:8080/"
        },
        "id": "7BMB0YxADN5-",
        "outputId": "6191b358-10eb-4116-e2ed-df06e57894a4"
      },
      "outputs": [
        {
          "output_type": "stream",
          "name": "stdout",
          "text": [
            "Your runtime has 13.6 gigabytes of available RAM\n",
            "\n",
            "Not using a high-RAM runtime\n"
          ]
        }
      ],
      "source": [
        "from psutil import virtual_memory\n",
        "ram_gb = virtual_memory().total / 1e9\n",
        "print('Your runtime has {:.1f} gigabytes of available RAM\\n'.format(ram_gb))\n",
        "\n",
        "if ram_gb < 20:\n",
        "  print('Not using a high-RAM runtime')\n",
        "else:\n",
        "  print('You are using a high-RAM runtime!')"
      ]
    },
    {
      "cell_type": "code",
      "execution_count": 3,
      "metadata": {
        "colab": {
          "base_uri": "https://localhost:8080/"
        },
        "id": "e2qEb3ivDN5-",
        "outputId": "6cb1a770-3d11-4d2b-8154-6aa74e524ee7"
      },
      "outputs": [
        {
          "output_type": "stream",
          "name": "stdout",
          "text": [
            "Mounted at /content/drive\n"
          ]
        }
      ],
      "source": [
        "from google.colab import drive\n",
        "drive.mount('/content/drive')"
      ]
    },
    {
      "cell_type": "code",
      "execution_count": 4,
      "metadata": {
        "colab": {
          "base_uri": "https://localhost:8080/"
        },
        "id": "ZRaneJBnDN5_",
        "outputId": "6eb4a88f-7302-43ac-9bbd-af2564555946"
      },
      "outputs": [
        {
          "output_type": "stream",
          "name": "stdout",
          "text": [
            "Requirement already satisfied: transformers in /usr/local/lib/python3.10/dist-packages (4.42.4)\n",
            "Requirement already satisfied: filelock in /usr/local/lib/python3.10/dist-packages (from transformers) (3.15.4)\n",
            "Requirement already satisfied: huggingface-hub<1.0,>=0.23.2 in /usr/local/lib/python3.10/dist-packages (from transformers) (0.23.5)\n",
            "Requirement already satisfied: numpy<2.0,>=1.17 in /usr/local/lib/python3.10/dist-packages (from transformers) (1.26.4)\n",
            "Requirement already satisfied: packaging>=20.0 in /usr/local/lib/python3.10/dist-packages (from transformers) (24.1)\n",
            "Requirement already satisfied: pyyaml>=5.1 in /usr/local/lib/python3.10/dist-packages (from transformers) (6.0.1)\n",
            "Requirement already satisfied: regex!=2019.12.17 in /usr/local/lib/python3.10/dist-packages (from transformers) (2024.5.15)\n",
            "Requirement already satisfied: requests in /usr/local/lib/python3.10/dist-packages (from transformers) (2.31.0)\n",
            "Requirement already satisfied: safetensors>=0.4.1 in /usr/local/lib/python3.10/dist-packages (from transformers) (0.4.3)\n",
            "Requirement already satisfied: tokenizers<0.20,>=0.19 in /usr/local/lib/python3.10/dist-packages (from transformers) (0.19.1)\n",
            "Requirement already satisfied: tqdm>=4.27 in /usr/local/lib/python3.10/dist-packages (from transformers) (4.66.4)\n",
            "Requirement already satisfied: fsspec>=2023.5.0 in /usr/local/lib/python3.10/dist-packages (from huggingface-hub<1.0,>=0.23.2->transformers) (2024.6.1)\n",
            "Requirement already satisfied: typing-extensions>=3.7.4.3 in /usr/local/lib/python3.10/dist-packages (from huggingface-hub<1.0,>=0.23.2->transformers) (4.12.2)\n",
            "Requirement already satisfied: charset-normalizer<4,>=2 in /usr/local/lib/python3.10/dist-packages (from requests->transformers) (3.3.2)\n",
            "Requirement already satisfied: idna<4,>=2.5 in /usr/local/lib/python3.10/dist-packages (from requests->transformers) (3.7)\n",
            "Requirement already satisfied: urllib3<3,>=1.21.1 in /usr/local/lib/python3.10/dist-packages (from requests->transformers) (2.0.7)\n",
            "Requirement already satisfied: certifi>=2017.4.17 in /usr/local/lib/python3.10/dist-packages (from requests->transformers) (2024.7.4)\n"
          ]
        }
      ],
      "source": [
        "!pip install transformers"
      ]
    },
    {
      "cell_type": "code",
      "execution_count": 5,
      "metadata": {
        "id": "jEVF9FbODN5_"
      },
      "outputs": [],
      "source": [
        "import os\n",
        "import numpy as np\n",
        "import pandas as pd\n",
        "from sklearn.model_selection import train_test_split\n",
        "from sklearn.metrics import confusion_matrix, classification_report, f1_score, precision_score, recall_score\n",
        "from transformers import AutoTokenizer, AutoModelForSequenceClassification, AdamW, get_linear_schedule_with_warmup\n",
        "import torch\n",
        "from torch.utils.data import DataLoader, TensorDataset, RandomSampler, SequentialSampler\n",
        "import torch.nn.functional as F\n",
        "from tqdm import trange, tqdm\n",
        "import matplotlib.pyplot as plt\n",
        "import sklearn.utils\n",
        "import time\n",
        "import re\n"
      ]
    },
    {
      "cell_type": "code",
      "execution_count": 8,
      "metadata": {
        "colab": {
          "base_uri": "https://localhost:8080/"
        },
        "id": "d84lKOxcDN5_",
        "outputId": "3f883f12-7249-4f08-98d4-f640114ef80d"
      },
      "outputs": [
        {
          "output_type": "stream",
          "name": "stdout",
          "text": [
            "(11967, 4)\n"
          ]
        }
      ],
      "source": [
        "# Retrive the data from stored dataset\n",
        "dataDir = \"/content/drive/MyDrive/WoS/data/X11967\"\n",
        "tsvData = os.path.join(dataDir,\"WoSDataset_11967.tsv\")\n",
        "\n",
        "tsvData = np.loadtxt(tsvData, dtype=str, delimiter=\"\\t\")\n",
        "print(np.shape(tsvData))"
      ]
    },
    {
      "cell_type": "code",
      "execution_count": 9,
      "metadata": {
        "colab": {
          "base_uri": "https://localhost:8080/"
        },
        "id": "FIYp3nhcDN5_",
        "outputId": "32d71600-939b-4f5f-ae0b-a8938ca5b20d"
      },
      "outputs": [
        {
          "output_type": "stream",
          "name": "stdout",
          "text": [
            "[['2' 'Psychology'\n",
            "  ' interview anxiety interview performance person perception job interview        '\n",
            "  'the aim of this study was to investigate a the behavioral cues that are displayed by and trait judgments formed about anxious interviewees and b why anxious interviewees receive lower interview performance ratings the behavioral expression of interview anxiety model was created as a conceptual framework to explore these relations we videotaped and transcribed mock job interviews obtained ratings of interview anxiety and interview performance and trained raters to assess several verbal and nonverbal cues and trait judgments the results indicated that few behavioral cues but several traits were related to interviewee and interviewer ratings of interview anxiety two factors emerged from our factor analysis on the trait judgmentsassertiveness and interpersonal warmth mediation analyses were performed and indicated that assertiveness and interpersonal warmth mediated the relation between interview anxiety and interview performance speech rate words spoken per minute and assertiveness were found to mediate the relation between interviewee and interviewer ratings of interview anxiety overall the results indicated that interviewees should focus less on their nervous tics and more on the broader impressions that they convey our findings indicate that anxious interviewees may want to focus on how assertive and interpersonally warm they appear to interviewers to our knowledge this is the first study to use a validated interview anxiety measure to examine behavioral cues and traits exhibited by anxious interviewees we offer new insight into why anxious interviewees receive lower interview performance ratings']\n",
            " ['0' 'CS'\n",
            "  ' affective database anxiety depression depressionanxietystress scales dass emotional state handwriting random forests stress        '\n",
            "  'the detection of negative emotions through daily activities such as writing and drawing is useful for promoting wellbeing the spread of humanmachine interfaces such as tablets makes the collection of handwriting and drawing samples easier in this context we present a first publicly available database which relates emotional states to handwriting and drawing that we call emothaw emotion recognition from handwriting and drawing this database includes samples of 129 participants whose emotional states namely anxiety depression and stress are assessed by the depressionanxietystress scales dass questionnaire seven tasks are recorded through a digitizing tablet pentagons and house drawing words copied in handprint circles and clock drawing and one sentence copied in cursive writing records consist in pen positions onpaper and inair time stamp pressure pen azimuth and altitude we report our analysis on this database from collected data we first compute measurements related to timing and ductus we compute separate measurements according to the position of the writing device on paper or inair we analyze and classify this set of measurements referred to as features using a random forest approach this latter is a machine learning method 1 based on an ensemble of decision trees which includes a feature ranking process we use this ranking process to identify the features which best reveal a targeted emotional state we then build random forest classifiers associated with each emotional state we provide accuracy sensitivity and specificity evaluation measures obtained from crossvalidation experiments our results showthat anxiety and stress recognition perform better than depression recognition']\n",
            " ['6' 'biochemistry'\n",
            "  ' dna assembly preprocessing sequence alignment gpu computing        '\n",
            "  'dnarna sequencing has recently become a primary way researchers generate biological data for further analysis assembling algorithms are an integral part of this process however some of them require pairwise alignment to be applied to a great deal of reads although several efficient alignment tools have been released over the past few years including those taking advantage of gpus graphics processing units none of them directly targets highthroughput sequencing data as a result a need arose to create software that could handle such data as effectively as possible gdna gpubased dna aligner is the first highly parallel solution that has been optimized to process nucleotide reads dnarna from modern sequencing machines results show that the software reaches up to 89 gcups giga cell updates per second on a single gpu and as a result it is the fastest tool in its class moreover it scales up well on multiple gpus systems including mpibased computational clusters where its performance is counted in tcups tera cups']\n",
            " ['3' 'MAE'\n",
            "  ' induction machine multiphase machine startergenerator 48 v automotive applications thermal analysis thermal model hybrid vehicle        '\n",
            "  'primary european carmakers agree on a 48 v embeddedsupply to support the growing currentload requirements in modern vehicles the functionalities required to the startergenerator are the engine start up launch assistant torque regenerative braking battery charging and early fuel cut off the dynamic load profile and the harsh environment working conditions make thermal issues the key challenge in the machine design the paper presents the simulation and experimental test results of a belt driven startergenerator for 48 v mini hybrid powertrains in particular a double threephase 10 kw induction machine has been selected as the suitable candidate for the application in detail the authors illustrate the experimental calibration and validation of the steady state thermal model as well as the thermal characterization of a liquid cooled prototype finally the paper deals with the temperatures prediction of the motor working in different load conditions']\n",
            " ['5' 'Medical'\n",
            "  ' alcohol abuse chronic alcoholics liver damage skin manifestations        '\n",
            "  'background chronic alcohol intake impacts skin directly through organ dysfunction or by modifying preexisting dermatoses however dermatoses afflicting chronic alcoholics figure in a few studies only aim this study aims to correlate the spectrum of dermatoses in chronic alcoholics with the quantumduration of alcohol intake and raised liver transaminases materials and methods adult males totaling 196 ascertained to fulfill the royal college of psychiatry criteria for chronic alcoholism by the de addiction center and referred for dermatological consult were enrolled as cases and similar number of age sex matched teetotallers as controls data emanating from detailed history clinical examination and routine liver functions tests were summarized and subsequently analyzed including statistically using the chisquare independent t and spearmans rank correlation tests and compared with data from previous studies results majority 104 drank 4150 units of alcoholweek since 340 mean 2001  9322 years generalized pruritus odds ratio or 3115 p  0001 xerosis or 362 p  0008 and seborrheic dermatitis or 1226 p  0001 were significantly more common in cases than controls infections 73 372 eczemas 45 229 and generalized hyperpigmentation 28 142 were the major presenting complaints spider nevi gynecomastia and pellagroid dermatitis were present in 34 173 19 97 and 8 41 respectively exclusively in cases only commonly seen systemic abnormalities were an alcoholic liver disease 45 229 diabetes mellitus 23 117 and peripheral neuropathy 19 97 conclusion knowledge of cutaneous manifestations of chronic alcoholism could prompt indepth history taking of alcohol intake lead to specialist referral and thereby enable timely de addiction hopefully before serious adversities in the chronic alcoholics']\n",
            " ['4' 'Civil' ' service reputation trust evidence theory ami        '\n",
            "  'service reputation is a key factor for service selection and service composition in serviceoriented ambient intelligence systems hence service reputation computing should fully reflect the feature of multirating fusion and the utility value dynamic attenuation characters of the rating the paper combines ds evidence theory with dynamic attenuation and puts forward a service reputation computing algorithm based on multirating fusion which is adapted to the ambient intelligence systems first a layered computing model of the service reputation is given then a mechanism of dynamic attenuation based on time windows an objective rating and advertisement honesty rating of service and a user credibility computing algorithm are presented afterward the rating information is combined with the ds evidence theory to raise an aggregation algorithm of the service general reputation for the ambient intelligence environments finally a prototype test is carried out to verify the effectiveness and availability of the model together with the algorithms']\n",
            " ['3' 'MAE'\n",
            "  ' straightening thinwalled circular steel tube crosssectional ovalization maximal flattening plastic bending        '\n",
            "  'crosssectional ovalization of thinwalled circular steel tube because of large plastic bending also known as the brazier effect usually occurs during the initial stage of tubes continuous rotary straightening process the amount of ovalization defined as maximal cross section flattening is an important technical parameter in tubes straightening process to control tubes bending deformation and prevent buckling however for the lack of special analytical model the maximal section flattening was determined in accordance with the specified charts developed by experienced operators on the basis of experimental data thus it was inevitable that the localized buckling might occur during some actual straightening operations new normal strain component formulas were derived based on the thin shell theory then strain energy of thinwalled tube per unit length was obtained using the elasticplastic theory a rational model for predicting the maximal section flattening of the thinwalled circular steel tube under its straightening process was presented by the principle of minimum potential energy the new model was validated by experiments and numerical simulations the results show that the new model agrees well with the experiments and the numerical simulations with error of less than 10 this new model was expected to find its potential application in thinwalled steel tube straightening machine design']\n",
            " ['1' 'ECE'\n",
            "  ' envelopefollowing methods simulation of switching power converters timedomain simulation highorder stable methods        '\n",
            "  'transient analysis of switching power converter spc circuits is a computationally expensive task this high expense arises from the fact that these circuits are driven by a clock with a period that is very small compared to the time interval the designer is typically interested in envelopefollowing ef technique has been recently proposed in the literature for efficient timedomain simulation of spc circuits in this paper a parallel highorder ef method which is based on obreshkovformula is presented for analysis of spc circuits a numerical example is presented to demonstrate the efficiency and scalability of the proposed method on parallel platforms']\n",
            " ['1' 'ECE'\n",
            "  ' flash flood electrical circuit analogy weibull distribution distributed modelling        '\n",
            "  'the assessment and prevention of floods require appropriate forecasting and knowledge of the related hydrological processes due to the similar form of the governing equations flood hydrograph shows a clear analytical and mathematical analogy with electrical circuits in this paper a spatially distributed hydrological model is developed which is analogue to a network of electrical resistancecapacitance with five circuits for describing the hydrological processes leading to floods the spatially distributed hydrological model simulates rainfall potential evapotranspiration canopy interception surface storage and soil storage the parameters for analogical modelling were derived from translation of the physical catchment characteristics a twoparameter weibull equation aggregates the response functions of each pixel and calculates the hydrograph of the catchment we applied the model to the openbook or tilted vcatchment theoretical benchmark problem as well as to four hourly flood events and simulation of daily discharges for the last two cases data were used from the mountainous catchment of upper tarqui in the andes of ecuador comparison of single versus multiple circuit designs for the benchmark problem indicates that the multiple circuit analogy provides a result similar to other hydrological models the results further illustrate the usefulness of the methodology for flood modelling and how it can simplify the simulation for ungauged basins of temporal and spatial variations of influencing hydrological processes']\n",
            " ['3' 'MAE'\n",
            "  ' ski motion analysis posture joint angle inertial sensor sensor fusion        '\n",
            "  'this paper deals with the motion analysis of skier gliding on the actual snow field using inertial sensors it is difficult to measure the motion of skier gliding on the actual snow field since the gliding velocity is fast and the measurement area is large therefore few studies have analyzed ski turns in gliding on the actual snow field it is necessary to analyze the skier gliding on the actual snow field in resolving the mechanism of ski turns in our previous study we developed the motion measurement method of skier using inertial and magnetic field sensors the 3d posture is estimated by applying the sensor fusion method and the method can estimate the 3d posture compensating the drift error of gyro sensor and reducing the effect of dynamic acceleration of accelerometer furthermore we developed the sensor fusion method estimating the 3d posture in local coordinate by the information of inertial sensors attaching the body segments the joint angle of skier in gliding on the actual snow field can be estimated by this method and inverse kinematics we conducted the measurement experiment by skier gliding on the actual snow field the inertial sensors and the gps receiver were attached to the body segments and the top of skier respectively skier conducted carving and skidding turns in this experiment we calculated the joint angles of skier by the information of inertial sensors and the switchovers of turns are estimated by the gps receiver output the results of motion analysis indicated the major feature of skiers motion and the difference between carving and skidding turns therefore the analysis results can be used to the skill rating the clarification of the mechanism of ski turns and the suggestion of more ideal turning form c 2013 the authors published by elsevier ltd selection and peerreview under responsibility of the school of aerospace mechanical and manufacturing engineering rmit university']]\n"
          ]
        }
      ],
      "source": [
        "print(tsvData[0:10])"
      ]
    },
    {
      "cell_type": "code",
      "execution_count": 10,
      "metadata": {
        "id": "WUvZlOibDN5_"
      },
      "outputs": [],
      "source": [
        "allLabels = tsvData[:,0]\n",
        "domains = tsvData[:,1]\n",
        "keywords = tsvData[:,2]\n",
        "abstracts = tsvData[:,3]"
      ]
    },
    {
      "cell_type": "code",
      "execution_count": 11,
      "metadata": {
        "colab": {
          "base_uri": "https://localhost:8080/"
        },
        "id": "SE5jkqySDN6A",
        "outputId": "bf742ae1-cd70-4587-ea35-7a9fe2b891f4"
      },
      "outputs": [
        {
          "output_type": "stream",
          "name": "stdout",
          "text": [
            "Labels  ['CS' 'Civil' 'ECE' 'MAE' 'Medical' 'Psychology' 'biochemistry']\n",
            "Label counts  [1499 2107 1132 1925 1617 1959 1728]\n"
          ]
        }
      ],
      "source": [
        "labels = np.unique(domains, return_counts=True)[0]\n",
        "labelCounts=  np.unique(domains, return_counts=True)[1]\n",
        "\n",
        "print(\"Labels \", labels)\n",
        "print(\"Label counts \", labelCounts)"
      ]
    },
    {
      "cell_type": "code",
      "execution_count": 12,
      "metadata": {
        "colab": {
          "base_uri": "https://localhost:8080/",
          "height": 571
        },
        "id": "4wUHmcLtDN6A",
        "outputId": "ec4e26ab-ceb6-4ff6-dbd6-a4cf4811af93"
      },
      "outputs": [
        {
          "output_type": "display_data",
          "data": {
            "text/plain": [
              "<Figure size 1000x600 with 1 Axes>"
            ],
            "image/png": "[encoded data removed]"
          },
          "metadata": {}
        },
        {
          "output_type": "stream",
          "name": "stdout",
          "text": [
            "The domain CS has 1499 records in the dataset.\n",
            "The domain Civil has 2107 records in the dataset.\n",
            "The domain ECE has 1132 records in the dataset.\n",
            "The domain MAE has 1925 records in the dataset.\n",
            "The domain Medical has 1617 records in the dataset.\n",
            "The domain Psychology has 1959 records in the dataset.\n",
            "The domain biochemistry has 1728 records in the dataset.\n"
          ]
        }
      ],
      "source": [
        "# Visualize domain counts in dataset\n",
        "plt.figure(figsize=(10, 6))\n",
        "plt.title(\"Domain Counts (Dataset)\")\n",
        "plt.pie(labelCounts, labels=labels, autopct='%1.1f%%', startangle=140, colors=plt.cm.Paired(range(len(labels))))\n",
        "plt.axis('equal')\n",
        "plt.show()\n",
        "\n",
        "for i, domain in enumerate(labels):\n",
        "    print(\"The domain\", domain, \"has\", labelCounts[i], \"records in the dataset.\")"
      ]
    },
    {
      "cell_type": "code",
      "execution_count": 13,
      "metadata": {
        "colab": {
          "base_uri": "https://localhost:8080/"
        },
        "id": "iy4b69DrDN6A",
        "outputId": "2af6f909-2eeb-4f80-b020-7a193b2ea9cc"
      },
      "outputs": [
        {
          "output_type": "stream",
          "name": "stdout",
          "text": [
            "Number of abstracts:  11967\n",
            "Shape of abstracts:  (11967,)\n",
            "['great part of human communication is carried out nonverbally all this information is lost in mobile text messaging this work describes an attempt to augment text chatting in mobile phones by adding automatically detected facial expression reactions to conversations these expressions are detected using known image processing techniques known related work concerning the investigation of nonverbal communication through text messaging are considered and distinguished from the present solution the conception and implementation of a mobile phone application with the debated feature is described and user studies are narrated finally context of application conclusions and future work are also discussed'\n",
            " 'based on logical ghz states and logical bell states two robust quantum key agreement protocols are proposed which can be immune to the collectivedephasing noise and the collectiverotation noise respectively the delayed measurement technique ensures that two participants can fairly negotiate a shared key and any one of them cannot successfully perform the participant attacks the two protocols are congenitally free from the trojan horse attacks and they can resist against other outsider attacks with the help of the decoy state technology moreover they have no information leakage problem and achieve high qubit efficiency']\n",
            "Number of keywords:  11967\n",
            "Shape of keywords:  (11967,)\n",
            "['great part of human communication is carried out nonverbally all this information is lost in mobile text messaging this work describes an attempt to augment text chatting in mobile phones by adding automatically detected facial expression reactions to conversations these expressions are detected using known image processing techniques known related work concerning the investigation of nonverbal communication through text messaging are considered and distinguished from the present solution the conception and implementation of a mobile phone application with the debated feature is described and user studies are narrated finally context of application conclusions and future work are also discussed'\n",
            " 'based on logical ghz states and logical bell states two robust quantum key agreement protocols are proposed which can be immune to the collectivedephasing noise and the collectiverotation noise respectively the delayed measurement technique ensures that two participants can fairly negotiate a shared key and any one of them cannot successfully perform the participant attacks the two protocols are congenitally free from the trojan horse attacks and they can resist against other outsider attacks with the help of the decoy state technology moreover they have no information leakage problem and achieve high qubit efficiency']\n",
            "Number of domains:  11967\n",
            "Shape of domains:  (11967,)\n",
            "['Psychology' 'CS']\n",
            "Number of labels:  11967\n",
            "Shape of labels:  (11967,)\n",
            "['2' '0']\n",
            "['great part of human communication is carried out nonverbally all this information is lost in mobile text messaging this work describes an attempt to augment text chatting in mobile phones by adding automatically detected facial expression reactions to conversations these expressions are detected using known image processing techniques known related work concerning the investigation of nonverbal communication through text messaging are considered and distinguished from the present solution the conception and implementation of a mobile phone application with the debated feature is described and user studies are narrated finally context of application conclusions and future work are also discussed'\n",
            " 'based on logical ghz states and logical bell states two robust quantum key agreement protocols are proposed which can be immune to the collectivedephasing noise and the collectiverotation noise respectively the delayed measurement technique ensures that two participants can fairly negotiate a shared key and any one of them cannot successfully perform the participant attacks the two protocols are congenitally free from the trojan horse attacks and they can resist against other outsider attacks with the help of the decoy state technology moreover they have no information leakage problem and achieve high qubit efficiency'\n",
            " 'automatically describing the content of an image is a fundamental problem in artificial intelligence that connects computer vision and natural language processing in this paper we present a generative model based on a deep recurrent architecture that combines recent advances in computer vision and machine translation and that can be used to generate natural sentences describing an image the model is trained to maximize the likelihood of the target description sentence given the training image experiments on several datasets show the accuracy of the model and the fluency of the language it learns solely from image descriptions our model is often quite accurate which we verify both qualitatively and quantitatively finally given the recent surge of interest in this task a competition was organized in 2015 using the newly released coco dataset we describe and analyze the various improvements we applied to our own baseline and show the resulting performance in the competition which we won exaequo with a team from microsoft research'\n",
            " 'moving beyond the distinction between biological and social facts has proved challenging due to several basic methodological and ontological differences among scientific disciplines the aim of this paper is to show how attention schema theory hereafter ast developed by michael graziano provides a useful addition to existing integrative approaches that can be used to overcome impediments to interdisciplinary crossfertilization such that the influence of a range of interconnected institutional situational biographical psychological neural and genetic variables can be considered simultaneously in a parsimonious way the paper provides an overview of three basic methodological and ontological differences dividing scientists researching human nature and society it then draws on ast and a selection of existing approaches in the interdisciplinary vein to demonstrate how to move beyond the reductionist tendencies of each discipline in the view of ast intrinsic brain processes and social and situational aspects are intricately intertwined and continuously influence each other in shaping specific attentional focuses social identities biographical experiences symbols roles and subject positions contribute to directing attention to certain kinds of stimuli details or information while at the same time intrinsic predispositions make individuals inclined to attend to different types of information by accounting for the brain basis of awareness as a subjective experience ast can be used to clarify how social identities influence attention and thus the linkages between individual cognition and wider institutional structures finally the paper considers the relationships between the cognitive and the institutional levels of analysis and highlights the importance of the latter as a distinct level of analysis in this way the paper charts the multidirectional and interactive causal relationship between intrinsic brain processes attention and conscious awareness and how they relate to wider institutional structures and joint attentional interactions at higher levels of aggregation'\n",
            " 'this research investigated the relevance of four hydrological variables in the performance of a domestic rainwater harvesting drwh system the hydrological variables investigated are average annual rainfall p precipitation concentration degree pcd antecedent dry weather period adwp and ratio of dry days to rainy days ndnr principal component analyses are used to group the watersaving efficiency into a select set of variables and the relevance of the hydrological variables in a watersaving efficiency system was studied using canonical correlation analysis the p associated with pcd adwp or ndnr attained a better correlation with watersaving efficiency than single p we conclude that empirical models that represent a large combinations of roofsurface areas rainwatertank sizes water demands and rainfall regimes should also consider a variable for precipitation temporal variability and treat it as an independent variable c 2016 elsevier bv all rights reserved'\n",
            " 'a wide variety of predictive analytics techniques have been developed in statistics machine learning and data mining however many of these algorithms take a blackbox approach in which data is input and future predictions are output with no insight into what goes on during the process unfortunately such a closed system approach often leaves little room for injecting domain expertise and can result in frustration from analysts when results seem spurious or confusing in order to allow for more humancentric approaches the visualization community has begun developing methods to enable users to incorporate expert knowledge into the prediction process at all stages including data cleaning feature selection model building and model validation this paper surveys current progress and trends in predictive visual analytics identifies the common framework in which predictive visual analytics systems operate and develops a summarization of the predictive analytics workflow'\n",
            " 'this paper is concerned with the numerical solution of the unified first order hyperbolic formulation of continuum mechanics recently proposed by peshkov and romenski 110 further denoted as hpr model in that framework the viscous stresses are computed from the socalled distortion tensor a which is one of the primary state variables in the proposed first order system a very important key feature of the hpr model is its ability to describe at the same time the behavior of inviscid and viscous compressible newtonian and nonnewtonian fluids with heat conduction as well as the behavior of elastic and viscoplastic solids actually the model treats viscous and inviscid fluids as generalized viscoplastic solids this is achieved via a stiff source term that accounts for strain relaxation in the evolution equations of a also heat conduction is included via a first order hyperbolic system for the thermal impulse from which the heat flux is computed the governing pde system is hyperbolic and fully consistent with the first and the second principle of thermodynamics it is also fundamentally different from first order maxwellcattaneotype relaxation models based on extended irreversible thermodynamics the hpr model represents therefore a novel and unified description of continuum mechanics which applies at the same time to fluid mechanics and solid mechanics in this paper the direct connection between the hpr model and the classical hyperbolicparabolic navierstokesfourier theory is established for the first time via a formal asymptotic analysis in the stiff relaxation limit from a numerical point of view the governing partial differential equations are very challenging since they form a large nonlinear hyperbolic pde system that includes stiff source terms and nonconservative products we apply the successful family of onestep aderweno finite volume fv and ader discontinuous galerkin dg finite element schemes to the hpr model in the stiff relaxation limit and compare the numerical results with exact or numerical reference solutions obtained for the euler and navierstokes equations numerical convergence results are also provided to show the universality of the hpr model the paper is roundedoff with an application to wave propagation in elastic solids for which one only needs to switch off the strain relaxation source term in the governing pde system we provide various examples showing that for the purpose of flow visualization the distortion tensor aseems to be particularly useful c 2016 the authors published by elsevier inc this is an open access article under the cc byncnd license'\n",
            " 'using a large survey of czech high school students n1103 aged 1520 years this paper explores youth prejudice to a wide range of minority groups n21 where family school and community contexts are taken into account general structural equation models are used to explore the determinants of prejudice for 21 minorities using a comparative explanatory framework where the focus is gender differences in prejudice to minorities are examined using three social theories social dominance theory sdt the theory of gendered prejudice tgp and gender role beliefs grb this research shows that gender plays a strong role in expressing prejudiced attitudes where females express a less prejudiced attitudes toward the roma black africans gays and those with mental or physical disabilities and b more prejudiced attitudes towards the homeless vietnamese muslims and lesbians this gendered pattern is explained in terms of insights from sdt tgp and grb'\n",
            " 'voltage drifting islanding detection methods idms force the voltage at point of common coupling pcc to move outside the appropriate limits so that underover voltage protection disconnects distributed generation dg units this kind of idms does not possess the advantage of keeping microgrid energized after islanding occurrence there are active idms without forcing the islanded microgrid to lose its stable operation but they degrade the power quality because of perturbation injection in this study an active idm is proposed which makes the second harmonic of pcc voltage drift suddenly after islanding occurrence and pass a predefined threshold value without affecting the fundamental component when islanding is detected the method is deactivated and the voltage and frequency remain in expected limits in the conditions of power balance another advantage of the proposed method is that it decreases the second harmonic of pcc voltage in gridconnected mode and improves the power quality of system unlike other active idms the ul 1741 test results show that the proposed method detects islanding occurrence in a multiinverter system in 100 ms also the correct performance of the proposed method has been shown for nonislanding conditions the paper simulations are performed using pscademtdc software'\n",
            " 'paper deals with mathematical modelling of impulse waveforms and impulse switching functions used in electrical engineering using ztransformation the impulse switching functions can be obtained for any discrete time instant as impulse sequences of exciting functions applying such an impulse sequence to electrical circuit the response of state variables can be investigated using inverse ztransformation theoretical derived waveforms are verified by ltspice circuit simulator and compared to those of simulation workedout results']\n",
            "[' affective user interfaces multimodal integration nonverbal communication dialogue acts        '\n",
            " ' quantum cryptography quantum key agreement collective noise logical ghz state logical bell state        '\n",
            " ' image captioning recurrent neural network sequencetosequence language model        '\n",
            " ' attention cognitive anthropology culture institutionalism interdisciplinarity joint attention social cognition        '\n",
            " ' rainfall regime hydrological variables principal components canonical correlation        '\n",
            " ' predictive visual analytics visualization visual analytics data mining predictive analysis        '\n",
            " ' aderweno finite volume schemes arbitrary highorder discontinuous galerkin schemes pathconservative methods and stiff source terms unified first order hyperbolic formulation of nonlinear continuum mechanics fluid mechanics and solid mechanics viscous compressible fluids and elastic solids        '\n",
            " ' prejudice youth attitudes towards minorities sex differences tolerance        '\n",
            " ' distributed power generation invertors overvoltage protection power generation protection power supply quality regression analysis power system harmonics fast active islanding detection method second harmonic drifting inverterbased distributed generation idms point of common coupling overvoltage protection undervoltage protection dg units islanded microgrid power quality perturbation injection pcc voltage drift power balance conditions gridconnected mode regression analysis ul 1741 test multiinverter system power system computeraided designelectromagnetic transient design control software        '\n",
            " ' impulse switching function ztransform inverse ztransform modelling and simulation steady state operation dynamical state model        ']\n",
            "['Psychology' 'CS' 'CS' 'Psychology' 'Civil' 'CS' 'MAE' 'Psychology' 'MAE'\n",
            " 'ECE']\n",
            "['2' '0' '0' '2' '4' '0' '3' '2' '3' '1']\n",
            "[2 0 0 2 4 0 3 2 3 1]\n"
          ]
        }
      ],
      "source": [
        "# Shuffle data\n",
        "dataShuffled = sklearn.utils.shuffle(tsvData)\n",
        "\n",
        "abstractsShuffled = dataShuffled[:,3]\n",
        "keywordsShuffled = dataShuffled[:,2]\n",
        "domainsShuffled = dataShuffled[:,1]\n",
        "allLabelsShuffled = dataShuffled[:,0]\n",
        "\n",
        "print(\"Number of abstracts: \", len(abstractsShuffled))\n",
        "print(\"Shape of abstracts: \", np.shape(abstractsShuffled))\n",
        "print(abstractsShuffled[0:2])\n",
        "\n",
        "print(\"Number of keywords: \", len(keywordsShuffled))\n",
        "print(\"Shape of keywords: \", np.shape(keywordsShuffled))\n",
        "print(abstractsShuffled[0:2])\n",
        "\n",
        "print(\"Number of domains: \", len(domainsShuffled))\n",
        "print(\"Shape of domains: \", np.shape(domainsShuffled))\n",
        "print(domainsShuffled[0:2])\n",
        "\n",
        "print(\"Number of labels: \", len(allLabelsShuffled))\n",
        "print(\"Shape of labels: \", np.shape(allLabelsShuffled))\n",
        "print(allLabelsShuffled[0:2])\n",
        "\n",
        "\n",
        "# Convert labels to integer\n",
        "allLabelsDigitShuffled = allLabelsShuffled.astype(int)\n",
        "\n",
        "print(abstractsShuffled[0:10])\n",
        "print(keywordsShuffled[0:10])\n",
        "print(domainsShuffled[0:10])\n",
        "print(allLabelsShuffled[0:10])\n",
        "print(allLabelsDigitShuffled[0:10])"
      ]
    },
    {
      "cell_type": "code",
      "execution_count": 14,
      "metadata": {
        "colab": {
          "base_uri": "https://localhost:8080/",
          "height": 292,
          "referenced_widgets": [
            "56a5f40cfa184d2da74da3037c3d124c",
            "e7515d0892dd435883d0fb48c51270ee",
            "d5f7bf9a4b1f4b71b3c46e7eef959f98",
            "fc4120d026494395bfc62be06153ad7c",
            "832ba0ea72d04decab1d88e0a22ae576",
            "2152e75eef77473eb13433b30b9388d2",
            "417ca4c0dede4d2ab0e993ffe7b9b10d",
            "67cb9ab2f80d48649f8bb4777df9f809",
            "8bfd401c4e1f41e7b6f87552e8de5fda",
            "4fdec6a18c2a45208087b3d4ad29d7c8",
            "45f1f120b006422c991825424779faec",
            "1d5723f6e10d42098c0846d0c9849f46",
            "e3e2fa45f93d40cf8834495079566590",
            "9462456d07fe483ab9d70136b3304936",
            "38dd606680664b8ba42a0eb7664f44b9",
            "f6054f7e09f346c6a67123efbae47c92",
            "0955a53e2e9046b2b0b48409d5fad6fb",
            "37e8a6e469b84232917d3bb09aa65ee1",
            "ad9198e26d8949bcb1998892ba156871",
            "a29af5e5769b4fdcbb9734a4bbf3a300",
            "af106a90286c45f6a56f3c7e1846c516",
            "7d81f1c4e2fb48ac8f6893faf2a0f077"
          ]
        },
        "id": "oE8v68D2DN6A",
        "outputId": "a807b714-10dd-43fc-c56d-b98892934695"
      },
      "outputs": [
        {
          "output_type": "stream",
          "name": "stdout",
          "text": [
            "(9573, 4)\n",
            "(2394, 4)\n",
            "(9573, 4)\n",
            "(2394, 4)\n",
            "(479, 4)\n"
          ]
        },
        {
          "output_type": "stream",
          "name": "stderr",
          "text": [
            "/usr/local/lib/python3.10/dist-packages/huggingface_hub/utils/_token.py:89: UserWarning: \n",
            "The secret `HF_TOKEN` does not exist in your Colab secrets.\n",
            "To authenticate with the Hugging Face Hub, create a token in your settings tab (https://huggingface.co/settings/tokens), set it as secret in your Google Colab and restart your session.\n",
            "You will be able to reuse this secret in all of your notebooks.\n",
            "Please note that authentication is recommended but still optional to access public models or datasets.\n",
            "  warnings.warn(\n"
          ]
        },
        {
          "output_type": "display_data",
          "data": {
            "text/plain": [
              "config.json:   0%|          | 0.00/1.11k [00:00<?, ?B/s]"
            ],
            "application/vnd.jupyter.widget-view+json": {
              "version_major": 2,
              "version_minor": 0,
              "model_id": "56a5f40cfa184d2da74da3037c3d124c"
            }
          },
          "metadata": {}
        },
        {
          "output_type": "display_data",
          "data": {
            "text/plain": [
              "vocab.txt:   0%|          | 0.00/213k [00:00<?, ?B/s]"
            ],
            "application/vnd.jupyter.widget-view+json": {
              "version_major": 2,
              "version_minor": 0,
              "model_id": "1d5723f6e10d42098c0846d0c9849f46"
            }
          },
          "metadata": {}
        }
      ],
      "source": [
        "# Split dataset into training and testing (80/20 split)\n",
        "train_data, test_data = train_test_split(dataShuffled, test_size=0.2, random_state=42)\n",
        "print(np.shape(train_data))\n",
        "print(np.shape(test_data))\n",
        "\n",
        "# Further split training data into training and validation (80/20 split of training set)\n",
        "_, val_data = train_test_split(test_data, test_size=0.2, random_state=42)\n",
        "print(np.shape(train_data))\n",
        "print(np.shape(test_data))\n",
        "print(np.shape(val_data))\n",
        "# Load BioBERT tokenizer\n",
        "tokenizer = AutoTokenizer.from_pretrained(\"dmis-lab/biobert-base-cased-v1.2\")"
      ]
    },
    {
      "cell_type": "code",
      "execution_count": 15,
      "metadata": {
        "colab": {
          "base_uri": "https://localhost:8080/"
        },
        "id": "ONFXZGUUDN6A",
        "outputId": "0bf45cc2-1685-4498-c61b-889548b6bea9"
      },
      "outputs": [
        {
          "output_type": "stream",
          "name": "stdout",
          "text": [
            "Number of abstracts:  9573\n",
            "Shape of abstracts:  (9573,)\n",
            "Number of keywords:  9573\n",
            "Shape of keywords:  (9573,)\n",
            "Number of domains:  9573\n",
            "Shape of domains:  (9573,)\n",
            "Number of labels:  9573\n",
            "Shape of labels:  (9573,)\n",
            "['objective individuals with schizophrenia demonstrate cognitive social cognitive and motivational deficits that contribute to impairment in realworld functioning in the current study we investigated the effects of supplementing computerized neurocognitive training with social cognitive exercises as compared with neurocognitive training alone method in this ongoing doubleblind randomized controlled trial of 111 participants with psychosis we compare the effects of supplementing intensive targeted cognitive training with social cognitive training exercises tct  sct with the effects of targeted cognitive training alone tctonly participants were assessed on cognition symptoms functional capacity and functional outcomes as well as social cognition and measures related to reward processing results both treatment groups showed significant improvement in multiple cognitive domains and improvement in functional capacity however as predicted tct  sct group participants showed significant improvement in prosody identification and reward processing relative to tctonly participants conclusions and implications for practice our findings indicate that supplementing intensive computerized cognitive training with social cognitive exercises in people with psychosis confers greater benefits in prosody identification and reward processing relative to cognitive training alone even though both approaches drive significant improvements in cognition and functional capacity impairments in both prosody identification and reward processing have been associated with greater negative symptoms and poorer functional outcomes in schizophrenia raising the possibility that this form of treatment may lead to better longterm outcomes than traditional cognitive training approaches followup assessments will determine whether results are durable and generalize over time to improvements in symptoms and functioning'\n",
            " 'energy efficient medical equipment design is the current research trend in medical science now scientists are shifting focus toward energy efficient medical equipment design ecg machine is the commonly used medical equipment if any medical equipment is consuming less power than the traditional counterpart then the whole medical system will be more greener or energy efficient finally it reduces the cost of medical treatment in this work we are going to design and implement energy efficient ecg machine using lvdci low voltage digitally control impedance sstl stub series terminated logic and hstl high speed transistor logic io standard']\n",
            "[' cognitive remediation emotion perception motivation neuroplasticity social cognition        '\n",
            " ' energy efficient ecg machine lvdci sstl hstl io standard fpga        ']\n",
            "['Psychology' 'MAE']\n",
            "['2' '3']\n"
          ]
        }
      ],
      "source": [
        "abstractsTrain = train_data[:,3]\n",
        "keywordsTrain = train_data[:,2]\n",
        "domainsTrain = train_data[:,1]\n",
        "allLabelsTrain = train_data[:,0]\n",
        "\n",
        "print(\"Number of abstracts: \",len(abstractsTrain))\n",
        "print(\"Shape of abstracts: \",np.shape(abstractsTrain))\n",
        "print(\"Number of keywords: \",len(keywordsTrain))\n",
        "print(\"Shape of keywords: \",np.shape(keywordsTrain))\n",
        "print(\"Number of domains: \",len(domainsTrain))\n",
        "print(\"Shape of domains: \",np.shape(domainsTrain))\n",
        "print(\"Number of labels: \",len(allLabelsTrain))\n",
        "print(\"Shape of labels: \",np.shape(allLabelsTrain))\n",
        "\n",
        "print(abstractsTrain[0:2])\n",
        "print(keywordsTrain[0:2])\n",
        "print(domainsTrain[0:2])\n",
        "print(allLabelsTrain[0:2])"
      ]
    },
    {
      "cell_type": "code",
      "execution_count": 16,
      "metadata": {
        "colab": {
          "base_uri": "https://localhost:8080/",
          "height": 606
        },
        "id": "RBJjrIkeDN6A",
        "outputId": "43de267c-8972-4ff4-8bb3-a78fd7179f3c"
      },
      "outputs": [
        {
          "output_type": "stream",
          "name": "stdout",
          "text": [
            "Labels  ['CS' 'Civil' 'ECE' 'MAE' 'Medical' 'Psychology' 'biochemistry']\n",
            "Label counts  [1183 1691  895 1556 1303 1580 1365]\n"
          ]
        },
        {
          "output_type": "display_data",
          "data": {
            "text/plain": [
              "<Figure size 1000x600 with 1 Axes>"
            ],
            "image/png": "[encoded data removed]"
          },
          "metadata": {}
        },
        {
          "output_type": "stream",
          "name": "stdout",
          "text": [
            "The domain CS has 1183 records in the training set.\n",
            "The domain Civil has 1691 records in the training set.\n",
            "The domain ECE has 895 records in the training set.\n",
            "The domain MAE has 1556 records in the training set.\n",
            "The domain Medical has 1303 records in the training set.\n",
            "The domain Psychology has 1580 records in the training set.\n",
            "The domain biochemistry has 1365 records in the training set.\n"
          ]
        }
      ],
      "source": [
        "labels = np.unique(domainsTrain, return_counts=True)[0]\n",
        "labelCounts =  np.unique(domainsTrain, return_counts=True)[1]\n",
        "\n",
        "print(\"Labels \", labels)\n",
        "print(\"Label counts \", labelCounts)\n",
        "\n",
        "nAbstract = len(abstractsTrain)\n",
        "plt.figure(figsize=(10, 6))\n",
        "plt.title(\"Domain Counts (Training Set)\")\n",
        "plt.pie(labelCounts, labels=labels, autopct='%1.1f%%', startangle=140, colors=plt.cm.Paired(range(len(labels))))\n",
        "plt.axis('equal')  # Equal aspect ratio ensures that pie is drawn as a circle.\n",
        "plt.show()\n",
        "\n",
        "for i, domain in enumerate(labels):\n",
        "    print(\"The domain\", domain, \"has\", labelCounts[i], \"records in the training set.\")"
      ]
    },
    {
      "cell_type": "code",
      "execution_count": 17,
      "metadata": {
        "colab": {
          "base_uri": "https://localhost:8080/"
        },
        "id": "o4urSnRFDN6B",
        "outputId": "516501ea-d711-46e3-e04c-9b8abe22fcb2"
      },
      "outputs": [
        {
          "output_type": "stream",
          "name": "stdout",
          "text": [
            "Number of abstracts:  2394\n",
            "Shape of abstracts:  (2394,)\n",
            "Number of keywords:  2394\n",
            "Shape of keywords:  (2394,)\n",
            "Number of domains:  2394\n",
            "Shape of domains:  (2394,)\n",
            "Number of labels:  2394\n",
            "Shape of labels:  (2394,)\n",
            "['in this study cluster analysis ca and discriminant analysis da were used to assess the water quality and evaluate its spatial and temporal variations in south florida for this purpose 15 years 20002014 data set of 12 water quality variables covering 16 monitoring stations and about 35000 observations were used agglomerative hierarchical ca grouped 16 monitoring sites into three groups low pollution moderate pollution and high pollution based on their similarity of water quality characteristics da as an important data reduction method and ca were used to assess the water pollution status and analysis of its spatiotemporal variation it was found by the stepwise da that five variables chia do tkn tp and water temperature were the most important discriminating water quality parameters responsible for temporal variations in spatial da the stepwise mode identified seven variables chla do tkn tp magnesium chloride and sodium and six variables do tkn tp turbidity magnesium and chloride as the most important discriminating variables responsible for spatial variations in wet and dry seasons respectively different patterns associated with spatial variations were identified depending on the variables and considered season however the overall trend of environment pollution problems was found from the low pollution lp region to high pollution hp region it is believed that the results of this study could be very useful to the local authorities for the control and management of pollution and better protection of important riverine water quality c 2016 elsevier bv all rights reserved'\n",
            " 'animal studies suggest that nmethyldaspartate receptor nmdar dependent signalling in limbic and prefrontal regions is critically involved in both cognitive and emotional functions in humans ketamineinduced transient and disorder associated chronic nmdar hypofunction ie in schizophrenia has been associated with deficient performance in the domains of memory and higherorder emotional functioning as well as altered neural activity in the underlying limbicprefrontal circuits to model the effects of nmdar hypofunction on the integration of emotion and cognition the present pharmacological fmri study applied the nmdar antagonist ketamine target plasma level100 ngml to 21 healthy volunteers in a withinsubject placebo controlled crossover design during encoding of neutral positive and negative pictures our results show that irrespective of emotion ketamine suppressed parahippocampal and medial prefrontal activity in contrast ketamine selectively increased amygdala and orbitofrontal activity during successful encoding of negative stimuli on the network level ketamine generally increased medial prefrontalparahippocampal coupling while specifically decreasing amygdalaorbitofrontal interplay during encoding of negative stimuli on the behavioural level ketamine produced generally decreased memory performance and abolished the emotional enhancement of memory after a washout period of 5 days the present findings suggest that ketamine produces general as well as valencespecific effects during emotional memory formation the pattern partly overlaps with alterations previously observed in patients with schizophrenia']\n",
            "[' water quality river water cluster analysis discriminant analysis south florida        '\n",
            " ' nmdar limbic cortex orbitofrontal cortex schizophrenia emotion regulation        ']\n",
            "['Civil' 'Psychology']\n",
            "['4' '2']\n"
          ]
        }
      ],
      "source": [
        "abstractsTest = test_data[:,3]\n",
        "keywordsTest = test_data[:,2]\n",
        "domainsTest = test_data[:,1]\n",
        "allLabelsTest = test_data[:,0]\n",
        "\n",
        "print(\"Number of abstracts: \",len(abstractsTest))\n",
        "print(\"Shape of abstracts: \",np.shape(abstractsTest))\n",
        "print(\"Number of keywords: \",len(keywordsTest))\n",
        "print(\"Shape of keywords: \",np.shape(keywordsTest))\n",
        "print(\"Number of domains: \",len(domainsTest))\n",
        "print(\"Shape of domains: \",np.shape(domainsTest))\n",
        "print(\"Number of labels: \",len(allLabelsTest))\n",
        "print(\"Shape of labels: \",np.shape(allLabelsTest))\n",
        "\n",
        "# arr = np.array(domainsTest)\n",
        "# cleaned_domains = np.char.strip(arr)\n",
        "# print(\"Cleaned arr \", cleaned_domains)\n",
        "# domainsLabelsTest = cleaned_domains\n",
        "# print(\"Labels domains \", domainsLabelsTest)\n",
        "\n",
        "print(abstractsTest[0:2])\n",
        "print(keywordsTest[0:2])\n",
        "print(domainsTest[0:2])\n",
        "print(allLabelsTest[0:2])"
      ]
    },
    {
      "cell_type": "code",
      "execution_count": 18,
      "metadata": {
        "colab": {
          "base_uri": "https://localhost:8080/",
          "height": 607
        },
        "id": "wXDx7H28DN6B",
        "outputId": "48ed72ce-5b81-4cb5-9445-2669e0258343"
      },
      "outputs": [
        {
          "output_type": "stream",
          "name": "stdout",
          "text": [
            "Labels  ['CS' 'Civil' 'ECE' 'MAE' 'Medical' 'Psychology' 'biochemistry']\n",
            "Label counts  [316 416 237 369 314 379 363]\n"
          ]
        },
        {
          "output_type": "display_data",
          "data": {
            "text/plain": [
              "<Figure size 1000x600 with 1 Axes>"
            ],
            "image/png": "[encoded data removed]"
          },
          "metadata": {}
        },
        {
          "output_type": "stream",
          "name": "stdout",
          "text": [
            "The domain CS has 316 records in the test set.\n",
            "The domain Civil has 416 records in the test set.\n",
            "The domain ECE has 237 records in the test set.\n",
            "The domain MAE has 369 records in the test set.\n",
            "The domain Medical has 314 records in the test set.\n",
            "The domain Psychology has 379 records in the test set.\n",
            "The domain biochemistry has 363 records in the test set.\n"
          ]
        }
      ],
      "source": [
        "labels = np.unique(domainsTest, return_counts=True)[0]\n",
        "labelCounts =  np.unique(domainsTest, return_counts=True)[1]\n",
        "\n",
        "print(\"Labels \", labels)\n",
        "print(\"Label counts \", labelCounts)\n",
        "\n",
        "nAbstract = len(abstractsTest)\n",
        "plt.figure(figsize=(10, 6))\n",
        "plt.title(\"Domain Counts (Test Set)\")\n",
        "plt.pie(labelCounts, labels=labels, autopct='%1.1f%%', startangle=140, colors=plt.cm.Paired(range(len(labels))))\n",
        "plt.axis('equal')  # Equal aspect ratio ensures that pie is drawn as a circle.\n",
        "plt.show()\n",
        "\n",
        "for i, domain in enumerate(labels):\n",
        "    print(\"The domain\", domain, \"has\", labelCounts[i], \"records in the test set.\")"
      ]
    },
    {
      "cell_type": "code",
      "execution_count": 19,
      "metadata": {
        "colab": {
          "base_uri": "https://localhost:8080/"
        },
        "id": "zkEyui06DN6B",
        "outputId": "cd08f596-6f12-4550-c7f5-e30f097caf3f"
      },
      "outputs": [
        {
          "output_type": "stream",
          "name": "stdout",
          "text": [
            "Number of abstracts:  479\n",
            "Shape of abstracts:  (479,)\n",
            "Number of keywords:  479\n",
            "Shape of keywords:  (479,)\n",
            "Number of domains:  479\n",
            "Shape of domains:  (479,)\n",
            "Number of labels:  479\n",
            "Shape of labels:  (479,)\n",
            "['nowadays elders often find it difficult to keep track of their cognitive and functional abilities required for remaining independent in their homes ambient assisted living aal are the ambient intelligence based technologies for the support of daily activities to elders traditional rehabilitation is an example of a common activity elders may require and that usually implies they move to the rehabilitation clinics which is the main reason for treatment discontinuation telerehabilitation is a solution that not only may help elders but also their family members and health professionals to monitor elders treatment the purpose of this paper is to present a telerehabilitation system that uses the motiontracking sensor of the kinect to allow the elderly users natural interaction combined with a set of external sensors as a form of input data fusion techniques are applied in order to integrate these data for detecting right movements and to monitor elders treatment in the rehabilitation process'\n",
            " 'soymeal which contains natural plasticizer and tackifier has been used to fabricate biodegradable and lowcost warp sizes with potential for replacing nonbiodegradable polyvinyl alcohol pva sizes for largequantity industrial applications warp sizes from soyprotein isolates spi have been reported as a potential substitute for pva sizes which contribute to high chemical oxygen demand in textile effluents and cause serious water pollution however sizes from spi are high in cost and need additional plasticizers to overcome brittleness of films in this research the developed lowcost soymeal sizes contain soyprotein as majority and saccharidessaponifiedoil from soymeal as minorities comparing to films from triethanolamineplasticized spi sizes the soymeal size had about 301 252 and 83 higher film flexibility adhesion to yarns and abrasion resistance respectively saccharides in soymeal and saponified oil formed during size extraction functioned as plantbased additives with capability of improving adhesion of protein sizing pastes to cotton andor polyester yarns and increasing elongation of proteinbased size films successful utilization of soymeal in textile sizing will lead to its largequantity application resulting in high value addition to agricultural byproducts and profound impact on soybean industry and textile industry c 2016 elsevier bv all rights reserved']\n",
            "[' gamification data fusion ambient assisted living humancomputer interaction        '\n",
            " ' soymeal biodegradable warp sizes polyvinyl alcohol saccharides saponified oil        ']\n",
            "['Civil' 'Civil']\n",
            "['4' '4']\n"
          ]
        }
      ],
      "source": [
        "abstractsVal = val_data[:,3]\n",
        "keywordsVal = val_data[:,2]\n",
        "domainsVal = val_data[:,1]\n",
        "allLabelsVal = val_data[:,0]\n",
        "\n",
        "print(\"Number of abstracts: \",len(abstractsVal))\n",
        "print(\"Shape of abstracts: \",np.shape(abstractsVal))\n",
        "print(\"Number of keywords: \",len(keywordsVal))\n",
        "print(\"Shape of keywords: \",np.shape(keywordsVal))\n",
        "print(\"Number of domains: \",len(domainsVal))\n",
        "print(\"Shape of domains: \",np.shape(domainsVal))\n",
        "print(\"Number of labels: \",len(allLabelsVal))\n",
        "print(\"Shape of labels: \",np.shape(allLabelsVal))\n",
        "\n",
        "print(abstractsVal[0:2])\n",
        "print(keywordsVal[0:2])\n",
        "print(domainsVal[0:2])\n",
        "print(allLabelsVal[0:2])"
      ]
    },
    {
      "cell_type": "code",
      "execution_count": 20,
      "metadata": {
        "colab": {
          "base_uri": "https://localhost:8080/",
          "height": 606
        },
        "id": "1ax8-nZaDN6B",
        "outputId": "e4b310b3-2dee-46fe-b0cd-bd974311798b"
      },
      "outputs": [
        {
          "output_type": "stream",
          "name": "stdout",
          "text": [
            "Labels  ['CS' 'Civil' 'ECE' 'MAE' 'Medical' 'Psychology' 'biochemistry']\n",
            "Label counts  [70 70 57 68 71 78 65]\n"
          ]
        },
        {
          "output_type": "display_data",
          "data": {
            "text/plain": [
              "<Figure size 1000x600 with 1 Axes>"
            ],
            "image/png": "[encoded data removed]"
          },
          "metadata": {}
        },
        {
          "output_type": "stream",
          "name": "stdout",
          "text": [
            "The domain CS has 70 records in the vaidation set.\n",
            "The domain Civil has 70 records in the vaidation set.\n",
            "The domain ECE has 57 records in the vaidation set.\n",
            "The domain MAE has 68 records in the vaidation set.\n",
            "The domain Medical has 71 records in the vaidation set.\n",
            "The domain Psychology has 78 records in the vaidation set.\n",
            "The domain biochemistry has 65 records in the vaidation set.\n"
          ]
        }
      ],
      "source": [
        "labels = np.unique(domainsVal, return_counts=True)[0]\n",
        "labelCounts =  np.unique(domainsVal, return_counts=True)[1]\n",
        "\n",
        "print(\"Labels \", labels)\n",
        "print(\"Label counts \", labelCounts)\n",
        "\n",
        "nAbstract = len(abstractsVal)\n",
        "plt.figure(figsize=(10, 6))\n",
        "plt.title(\"Domain Counts (Validation Set)\")\n",
        "plt.pie(labelCounts, labels=labels, autopct='%1.1f%%', startangle=140, colors=plt.cm.Paired(range(len(labels))))\n",
        "plt.axis('equal')  # Equal aspect ratio ensures that pie is drawn as a circle.\n",
        "plt.show()\n",
        "\n",
        "for i, domain in enumerate(labels):\n",
        "    print(\"The domain\", domain, \"has\", labelCounts[i], \"records in the vaidation set.\")"
      ]
    },
    {
      "cell_type": "code",
      "execution_count": 21,
      "metadata": {
        "id": "sxbOFbMrDN6C"
      },
      "outputs": [],
      "source": [
        "# Function to tokenize and encode the dataset\n",
        "def encode_data(data, tokenizer, max_length=128):\n",
        "    # print(len(data[:,2]))\n",
        "    inputs = tokenizer(\n",
        "        data[:,3].tolist(), # abstracts\n",
        "        max_length=max_length,\n",
        "        padding='max_length',\n",
        "        truncation=True,\n",
        "        return_tensors=\"pt\"\n",
        "    )\n",
        "    # print(len(dataShuffled[:, 0]))\n",
        "    labels = torch.tensor(data[:, 0].astype(int))\n",
        "    print(\"Label length \", len(labels))\n",
        "    return TensorDataset(inputs['input_ids'], inputs['attention_mask'], labels)"
      ]
    },
    {
      "cell_type": "code",
      "execution_count": 22,
      "metadata": {
        "colab": {
          "base_uri": "https://localhost:8080/"
        },
        "id": "Y8_HDuDUDN6C",
        "outputId": "7af3fe8d-1bff-4bc1-a90a-00d673d96e53"
      },
      "outputs": [
        {
          "output_type": "stream",
          "name": "stdout",
          "text": [
            "(9573, 4)\n",
            "(2394, 4)\n",
            "(479, 4)\n"
          ]
        }
      ],
      "source": [
        "print(np.shape(train_data))\n",
        "print(np.shape(test_data))\n",
        "print(np.shape(val_data))\n"
      ]
    },
    {
      "cell_type": "code",
      "execution_count": 23,
      "metadata": {
        "colab": {
          "base_uri": "https://localhost:8080/"
        },
        "id": "c6avATPgDN6C",
        "outputId": "144bfa72-8287-4d61-a5fc-c43327518ab2"
      },
      "outputs": [
        {
          "output_type": "stream",
          "name": "stdout",
          "text": [
            "Label length  9573\n",
            "Label length  479\n",
            "Label length  2394\n"
          ]
        }
      ],
      "source": [
        "# Encode training, validation, and testing data\n",
        "train_dataset = encode_data(train_data, tokenizer)\n",
        "val_dataset = encode_data(val_data, tokenizer)\n",
        "test_dataset = encode_data(test_data, tokenizer)\n",
        "\n",
        "\n",
        "\n",
        "# Data loaders\n",
        "train_dataloader = DataLoader(train_dataset, sampler=RandomSampler(train_dataset), batch_size=32)\n",
        "val_dataloader = DataLoader(val_dataset, sampler=SequentialSampler(val_dataset), batch_size=32)\n",
        "test_dataloader = DataLoader(test_dataset, sampler=SequentialSampler(test_dataset), batch_size=32)"
      ]
    },
    {
      "cell_type": "code",
      "execution_count": 24,
      "metadata": {
        "colab": {
          "base_uri": "https://localhost:8080/",
          "height": 902,
          "referenced_widgets": [
            "d2ace5807124486192c880fe0ed09b43",
            "3ee1428a4044400893b4a698958d6a67",
            "c14dcdfdfa064dc592e3710e705737f7",
            "fb2f7734199944deb9db0c586541a8a7",
            "94cb7ae19f7344ad97c3132c67180afb",
            "9a0847e588b74bc3ac90cdc30e20209e",
            "85c9d61fbb734f0f903f40f904e12073",
            "2bbec686c5d64b43bf09ad76d1b876d4",
            "7118c7bdb0fd44be9abd7bab3de340e4",
            "46e00d8841f84370b300d87f6f746a23",
            "078169621d2546f98fe026ebb7890ed9"
          ]
        },
        "id": "ybVLIN-JDN6C",
        "outputId": "3483bbdd-f462-4541-9c00-39db8a9be216"
      },
      "outputs": [
        {
          "output_type": "stream",
          "name": "stdout",
          "text": [
            "7\n"
          ]
        },
        {
          "output_type": "display_data",
          "data": {
            "text/plain": [
              "pytorch_model.bin:   0%|          | 0.00/436M [00:00<?, ?B/s]"
            ],
            "application/vnd.jupyter.widget-view+json": {
              "version_major": 2,
              "version_minor": 0,
              "model_id": "d2ace5807124486192c880fe0ed09b43"
            }
          },
          "metadata": {}
        },
        {
          "output_type": "stream",
          "name": "stderr",
          "text": [
            "Some weights of BertForSequenceClassification were not initialized from the model checkpoint at dmis-lab/biobert-base-cased-v1.2 and are newly initialized: ['classifier.bias', 'classifier.weight']\n",
            "You should probably TRAIN this model on a down-stream task to be able to use it for predictions and inference.\n"
          ]
        },
        {
          "output_type": "execute_result",
          "data": {
            "text/plain": [
              "BertForSequenceClassification(\n",
              "  (bert): BertModel(\n",
              "    (embeddings): BertEmbeddings(\n",
              "      (word_embeddings): Embedding(28996, 768, padding_idx=0)\n",
              "      (position_embeddings): Embedding(512, 768)\n",
              "      (token_type_embeddings): Embedding(2, 768)\n",
              "      (LayerNorm): LayerNorm((768,), eps=1e-12, elementwise_affine=True)\n",
              "      (dropout): Dropout(p=0.1, inplace=False)\n",
              "    )\n",
              "    (encoder): BertEncoder(\n",
              "      (layer): ModuleList(\n",
              "        (0-11): 12 x BertLayer(\n",
              "          (attention): BertAttention(\n",
              "            (self): BertSdpaSelfAttention(\n",
              "              (query): Linear(in_features=768, out_features=768, bias=True)\n",
              "              (key): Linear(in_features=768, out_features=768, bias=True)\n",
              "              (value): Linear(in_features=768, out_features=768, bias=True)\n",
              "              (dropout): Dropout(p=0.1, inplace=False)\n",
              "            )\n",
              "            (output): BertSelfOutput(\n",
              "              (dense): Linear(in_features=768, out_features=768, bias=True)\n",
              "              (LayerNorm): LayerNorm((768,), eps=1e-12, elementwise_affine=True)\n",
              "              (dropout): Dropout(p=0.1, inplace=False)\n",
              "            )\n",
              "          )\n",
              "          (intermediate): BertIntermediate(\n",
              "            (dense): Linear(in_features=768, out_features=3072, bias=True)\n",
              "            (intermediate_act_fn): GELUActivation()\n",
              "          )\n",
              "          (output): BertOutput(\n",
              "            (dense): Linear(in_features=3072, out_features=768, bias=True)\n",
              "            (LayerNorm): LayerNorm((768,), eps=1e-12, elementwise_affine=True)\n",
              "            (dropout): Dropout(p=0.1, inplace=False)\n",
              "          )\n",
              "        )\n",
              "      )\n",
              "    )\n",
              "    (pooler): BertPooler(\n",
              "      (dense): Linear(in_features=768, out_features=768, bias=True)\n",
              "      (activation): Tanh()\n",
              "    )\n",
              "  )\n",
              "  (dropout): Dropout(p=0.1, inplace=False)\n",
              "  (classifier): Linear(in_features=768, out_features=7, bias=True)\n",
              ")"
            ]
          },
          "metadata": {},
          "execution_count": 24
        }
      ],
      "source": [
        "# Load BioBERT model\n",
        "print(len(np.unique(train_data[:,0])))\n",
        "model = AutoModelForSequenceClassification.from_pretrained(\"dmis-lab/biobert-base-cased-v1.2\", num_labels=len(np.unique(train_data[:,0])))\n",
        "device = torch.device(\"cuda\" if torch.cuda.is_available() else \"cpu\")\n",
        "model.to(device)"
      ]
    },
    {
      "cell_type": "code",
      "execution_count": 25,
      "metadata": {
        "colab": {
          "base_uri": "https://localhost:8080/"
        },
        "id": "ps1DInjXDN6C",
        "outputId": "1e29bfcc-c6c2-455b-825b-b5d82ed21d6c"
      },
      "outputs": [
        {
          "output_type": "execute_result",
          "data": {
            "text/plain": [
              "BertConfig {\n",
              "  \"_name_or_path\": \"dmis-lab/biobert-base-cased-v1.2\",\n",
              "  \"architectures\": [\n",
              "    \"BertForMaskedLM\"\n",
              "  ],\n",
              "  \"attention_probs_dropout_prob\": 0.1,\n",
              "  \"classifier_dropout\": null,\n",
              "  \"hidden_act\": \"gelu\",\n",
              "  \"hidden_dropout_prob\": 0.1,\n",
              "  \"hidden_size\": 768,\n",
              "  \"id2label\": {\n",
              "    \"0\": \"LABEL_0\",\n",
              "    \"1\": \"LABEL_1\",\n",
              "    \"2\": \"LABEL_2\",\n",
              "    \"3\": \"LABEL_3\",\n",
              "    \"4\": \"LABEL_4\",\n",
              "    \"5\": \"LABEL_5\",\n",
              "    \"6\": \"LABEL_6\"\n",
              "  },\n",
              "  \"initializer_range\": 0.02,\n",
              "  \"intermediate_size\": 3072,\n",
              "  \"label2id\": {\n",
              "    \"LABEL_0\": 0,\n",
              "    \"LABEL_1\": 1,\n",
              "    \"LABEL_2\": 2,\n",
              "    \"LABEL_3\": 3,\n",
              "    \"LABEL_4\": 4,\n",
              "    \"LABEL_5\": 5,\n",
              "    \"LABEL_6\": 6\n",
              "  },\n",
              "  \"layer_norm_eps\": 1e-12,\n",
              "  \"max_position_embeddings\": 512,\n",
              "  \"model_type\": \"bert\",\n",
              "  \"num_attention_heads\": 12,\n",
              "  \"num_hidden_layers\": 12,\n",
              "  \"pad_token_id\": 0,\n",
              "  \"position_embedding_type\": \"absolute\",\n",
              "  \"transformers_version\": \"4.42.4\",\n",
              "  \"type_vocab_size\": 2,\n",
              "  \"use_cache\": true,\n",
              "  \"vocab_size\": 28996\n",
              "}"
            ]
          },
          "metadata": {},
          "execution_count": 25
        }
      ],
      "source": [
        "model.config"
      ]
    },
    {
      "cell_type": "code",
      "execution_count": 26,
      "metadata": {
        "colab": {
          "base_uri": "https://localhost:8080/"
        },
        "id": "qmjlyLnkDN6C",
        "outputId": "7f6039a7-a7ce-45bf-80a3-c1721e3dbca2"
      },
      "outputs": [
        {
          "output_type": "stream",
          "name": "stderr",
          "text": [
            "/usr/local/lib/python3.10/dist-packages/transformers/optimization.py:591: FutureWarning: This implementation of AdamW is deprecated and will be removed in a future version. Use the PyTorch implementation torch.optim.AdamW instead, or set `no_deprecation_warning=True` to disable this warning\n",
            "  warnings.warn(\n"
          ]
        }
      ],
      "source": [
        "# Optimizer and learning rate scheduler\n",
        "optimizer = AdamW(model.parameters(), lr=2e-5, eps=1e-8)\n",
        "total_steps = len(train_dataloader) * 20\n",
        "num_warmup_steps = 1e-4\n",
        "scheduler = get_linear_schedule_with_warmup(optimizer, num_warmup_steps=num_warmup_steps, num_training_steps=total_steps)"
      ]
    },
    {
      "cell_type": "code",
      "execution_count": 27,
      "metadata": {
        "id": "xj4AnpxJDN6C"
      },
      "outputs": [],
      "source": [
        "def calculate_metrics(valType, predictions, true_labels):\n",
        "    # Confusion matrix\n",
        "    if(valType == 'test'):\n",
        "        cm = confusion_matrix(true_labels, predictions)\n",
        "        print(\"Confusion Matrix:\\n\", cm)\n",
        "\n",
        "        # Classification report (includes precision, recall, F1 score)\n",
        "        report = classification_report(true_labels, predictions, target_names=[str(i) for i in range(len(np.unique(true_labels)))])\n",
        "        print(\"\\nClassification Report:\\n\", report)\n",
        "\n",
        "        # Calculate different types of F1 scores, precision, and recall\n",
        "        f1_macro = f1_score(true_labels, predictions, average='macro')\n",
        "        f1_micro = f1_score(true_labels, predictions, average='micro')\n",
        "        f1_weighted = f1_score(true_labels, predictions, average='weighted')\n",
        "\n",
        "        precision_macro = precision_score(true_labels, predictions, average='macro')\n",
        "        precision_micro = precision_score(true_labels, predictions, average='micro')\n",
        "        precision_weighted = precision_score(true_labels, predictions, average='weighted')\n",
        "\n",
        "        recall_macro = recall_score(true_labels, predictions, average='macro')\n",
        "        recall_micro = recall_score(true_labels, predictions, average='micro')\n",
        "        recall_weighted = recall_score(true_labels, predictions, average='weighted')\n",
        "\n",
        "        print(f\"Macro F1 Score: {f1_macro}\")\n",
        "        print(f\"Micro F1 Score: {f1_micro}\")\n",
        "        print(f\"Weighted F1 Score: {f1_weighted}\")\n",
        "\n",
        "        print(f\"Macro Precision: {precision_macro}\")\n",
        "        print(f\"Micro Precision: {precision_micro}\")\n",
        "        print(f\"Weighted Precision: {precision_weighted}\")\n",
        "\n",
        "        print(f\"Macro Recall: {recall_macro}\")\n",
        "        print(f\"Micro Recall: {recall_micro}\")\n",
        "        print(f\"Weighted Recall: {recall_weighted}\")\n",
        "\n",
        "    elif(valType == 'val'):\n",
        "        cm = confusion_matrix(true_labels, predictions)\n",
        "        f1_macro = f1_score(true_labels, predictions, average='macro')\n",
        "        f1_micro = f1_score(true_labels, predictions, average='micro')\n",
        "        f1_weighted = f1_score(true_labels, predictions, average='weighted')\n",
        "\n",
        "        precision_macro = precision_score(true_labels, predictions, average='macro')\n",
        "        precision_micro = precision_score(true_labels, predictions, average='micro')\n",
        "        precision_weighted = precision_score(true_labels, predictions, average='weighted')\n",
        "\n",
        "        recall_macro = recall_score(true_labels, predictions, average='macro')\n",
        "        recall_micro = recall_score(true_labels, predictions, average='micro')\n",
        "        recall_weighted = recall_score(true_labels, predictions, average='weighted')\n",
        "        # print('Val Micro F1:', f1_micro)\n",
        "        return f1_micro"
      ]
    },
    {
      "cell_type": "code",
      "execution_count": 28,
      "metadata": {
        "colab": {
          "base_uri": "https://localhost:8080/"
        },
        "id": "05xzH0FEDN6C",
        "outputId": "0ef3fc26-da1e-49e7-ee9c-bd2b969342d6"
      },
      "outputs": [
        {
          "output_type": "stream",
          "name": "stderr",
          "text": [
            "Epoch 1/20: 100%|██████████| 300/300 [03:16<00:00,  1.53batch/s]\n"
          ]
        },
        {
          "output_type": "stream",
          "name": "stdout",
          "text": [
            "Epoch 1/20\n",
            "  Train Loss: 0.7183264290789763\n",
            "  Val Micro F1: 0.8997912317327766\n",
            "  Time: 3m 19s\n"
          ]
        },
        {
          "output_type": "stream",
          "name": "stderr",
          "text": [
            "Epoch 2/20: 100%|██████████| 300/300 [03:21<00:00,  1.49batch/s]\n"
          ]
        },
        {
          "output_type": "stream",
          "name": "stdout",
          "text": [
            "Epoch 2/20\n",
            "  Train Loss: 0.3016367871065935\n",
            "  Val Micro F1: 0.8956158663883089\n",
            "  Time: 3m 24s\n"
          ]
        },
        {
          "output_type": "stream",
          "name": "stderr",
          "text": [
            "Epoch 3/20: 100%|██████████| 300/300 [03:20<00:00,  1.49batch/s]\n"
          ]
        },
        {
          "output_type": "stream",
          "name": "stdout",
          "text": [
            "Epoch 3/20\n",
            "  Train Loss: 0.19731494115665554\n",
            "  Val Micro F1: 0.9102296450939458\n",
            "  Time: 3m 24s\n"
          ]
        },
        {
          "output_type": "stream",
          "name": "stderr",
          "text": [
            "Epoch 4/20: 100%|██████████| 300/300 [03:20<00:00,  1.49batch/s]\n"
          ]
        },
        {
          "output_type": "stream",
          "name": "stdout",
          "text": [
            "Epoch 4/20\n",
            "  Train Loss: 0.12974325192471345\n",
            "  Val Micro F1: 0.918580375782881\n",
            "  Time: 3m 24s\n"
          ]
        },
        {
          "output_type": "stream",
          "name": "stderr",
          "text": [
            "Epoch 5/20: 100%|██████████| 300/300 [03:21<00:00,  1.49batch/s]\n"
          ]
        },
        {
          "output_type": "stream",
          "name": "stdout",
          "text": [
            "Epoch 5/20\n",
            "  Train Loss: 0.07506933394431448\n",
            "  Val Micro F1: 0.9123173277661796\n",
            "  Time: 3m 24s\n"
          ]
        },
        {
          "output_type": "stream",
          "name": "stderr",
          "text": [
            "Epoch 6/20: 100%|██████████| 300/300 [03:21<00:00,  1.49batch/s]\n"
          ]
        },
        {
          "output_type": "stream",
          "name": "stdout",
          "text": [
            "Epoch 6/20\n",
            "  Train Loss: 0.04748234879846374\n",
            "  Val Micro F1: 0.9018789144050104\n",
            "  Time: 3m 24s\n"
          ]
        },
        {
          "output_type": "stream",
          "name": "stderr",
          "text": [
            "Epoch 7/20: 100%|██████████| 300/300 [03:21<00:00,  1.49batch/s]\n"
          ]
        },
        {
          "output_type": "stream",
          "name": "stdout",
          "text": [
            "Epoch 7/20\n",
            "  Train Loss: 0.03191929715297495\n",
            "  Val Micro F1: 0.918580375782881\n",
            "  Time: 3m 24s\n"
          ]
        },
        {
          "output_type": "stream",
          "name": "stderr",
          "text": [
            "Epoch 8/20: 100%|██████████| 300/300 [03:21<00:00,  1.49batch/s]\n"
          ]
        },
        {
          "output_type": "stream",
          "name": "stdout",
          "text": [
            "Epoch 8/20\n",
            "  Train Loss: 0.015803680360550063\n",
            "  Val Micro F1: 0.9311064718162839\n",
            "  Time: 3m 24s\n"
          ]
        },
        {
          "output_type": "stream",
          "name": "stderr",
          "text": [
            "Epoch 9/20: 100%|██████████| 300/300 [03:21<00:00,  1.49batch/s]\n"
          ]
        },
        {
          "output_type": "stream",
          "name": "stdout",
          "text": [
            "Epoch 9/20\n",
            "  Train Loss: 0.012226292212532523\n",
            "  Val Micro F1: 0.9206680584551148\n",
            "  Time: 3m 24s\n"
          ]
        },
        {
          "output_type": "stream",
          "name": "stderr",
          "text": [
            "Epoch 10/20: 100%|██████████| 300/300 [03:21<00:00,  1.49batch/s]\n"
          ]
        },
        {
          "output_type": "stream",
          "name": "stdout",
          "text": [
            "Epoch 10/20\n",
            "  Train Loss: 0.0055665740802457245\n",
            "  Val Micro F1: 0.9164926931106472\n",
            "  Time: 3m 24s\n"
          ]
        },
        {
          "output_type": "stream",
          "name": "stderr",
          "text": [
            "Epoch 11/20: 100%|██████████| 300/300 [03:20<00:00,  1.49batch/s]\n"
          ]
        },
        {
          "output_type": "stream",
          "name": "stdout",
          "text": [
            "Epoch 11/20\n",
            "  Train Loss: 0.0051203447950926295\n",
            "  Val Micro F1: 0.9102296450939458\n",
            "  Time: 3m 24s\n"
          ]
        },
        {
          "output_type": "stream",
          "name": "stderr",
          "text": [
            "Epoch 12/20: 100%|██████████| 300/300 [03:20<00:00,  1.49batch/s]\n"
          ]
        },
        {
          "output_type": "stream",
          "name": "stdout",
          "text": [
            "Epoch 12/20\n",
            "  Train Loss: 0.002980750599720826\n",
            "  Val Micro F1: 0.918580375782881\n",
            "  Time: 3m 24s\n"
          ]
        },
        {
          "output_type": "stream",
          "name": "stderr",
          "text": [
            "Epoch 13/20: 100%|██████████| 300/300 [03:20<00:00,  1.49batch/s]\n"
          ]
        },
        {
          "output_type": "stream",
          "name": "stdout",
          "text": [
            "Epoch 13/20\n",
            "  Train Loss: 0.0033284744622263437\n",
            "  Val Micro F1: 0.9164926931106472\n",
            "  Time: 3m 24s\n"
          ]
        },
        {
          "output_type": "stream",
          "name": "stderr",
          "text": [
            "Epoch 14/20: 100%|██████████| 300/300 [03:20<00:00,  1.49batch/s]\n"
          ]
        },
        {
          "output_type": "stream",
          "name": "stdout",
          "text": [
            "Epoch 14/20\n",
            "  Train Loss: 0.0011111653767875396\n",
            "  Val Micro F1: 0.9144050104384134\n",
            "  Time: 3m 24s\n"
          ]
        },
        {
          "output_type": "stream",
          "name": "stderr",
          "text": [
            "Epoch 15/20: 100%|██████████| 300/300 [03:20<00:00,  1.49batch/s]\n"
          ]
        },
        {
          "output_type": "stream",
          "name": "stdout",
          "text": [
            "Epoch 15/20\n",
            "  Train Loss: 0.0007607029911499315\n",
            "  Val Micro F1: 0.9144050104384134\n",
            "  Time: 3m 24s\n"
          ]
        },
        {
          "output_type": "stream",
          "name": "stderr",
          "text": [
            "Epoch 16/20: 100%|██████████| 300/300 [03:20<00:00,  1.49batch/s]\n"
          ]
        },
        {
          "output_type": "stream",
          "name": "stdout",
          "text": [
            "Epoch 16/20\n",
            "  Train Loss: 0.0012439246884605381\n",
            "  Val Micro F1: 0.9144050104384134\n",
            "  Time: 3m 24s\n"
          ]
        },
        {
          "output_type": "stream",
          "name": "stderr",
          "text": [
            "Epoch 17/20: 100%|██████████| 300/300 [03:20<00:00,  1.50batch/s]\n"
          ]
        },
        {
          "output_type": "stream",
          "name": "stdout",
          "text": [
            "Epoch 17/20\n",
            "  Train Loss: 0.0004605577582454619\n",
            "  Val Micro F1: 0.9206680584551148\n",
            "  Time: 3m 24s\n"
          ]
        },
        {
          "output_type": "stream",
          "name": "stderr",
          "text": [
            "Epoch 18/20: 100%|██████████| 300/300 [03:20<00:00,  1.49batch/s]\n"
          ]
        },
        {
          "output_type": "stream",
          "name": "stdout",
          "text": [
            "Epoch 18/20\n",
            "  Train Loss: 0.0003730582168888456\n",
            "  Val Micro F1: 0.9206680584551148\n",
            "  Time: 3m 24s\n"
          ]
        },
        {
          "output_type": "stream",
          "name": "stderr",
          "text": [
            "Epoch 19/20: 100%|██████████| 300/300 [03:20<00:00,  1.49batch/s]\n"
          ]
        },
        {
          "output_type": "stream",
          "name": "stdout",
          "text": [
            "Epoch 19/20\n",
            "  Train Loss: 0.0004091457219813795\n",
            "  Val Micro F1: 0.9206680584551148\n",
            "  Time: 3m 24s\n"
          ]
        },
        {
          "output_type": "stream",
          "name": "stderr",
          "text": [
            "Epoch 20/20: 100%|██████████| 300/300 [03:20<00:00,  1.49batch/s]\n"
          ]
        },
        {
          "output_type": "stream",
          "name": "stdout",
          "text": [
            "Epoch 20/20\n",
            "  Train Loss: 0.0002683713068836369\n",
            "  Val Micro F1: 0.918580375782881\n",
            "  Time: 3m 24s\n"
          ]
        }
      ],
      "source": [
        "epochs = 20\n",
        "for epoch in range(epochs):\n",
        "    model.train()\n",
        "    total_train_loss = 0\n",
        "    start_time = time.time()\n",
        "\n",
        "    # Training\n",
        "    for step, batch in enumerate(tqdm(train_dataloader, desc=f\"Epoch {epoch + 1}/{epochs}\", unit=\"batch\")):\n",
        "        batch = tuple(t.to(device) for t in batch)\n",
        "        input_ids, input_mask, labels = batch\n",
        "\n",
        "\n",
        "        model.zero_grad()\n",
        "        outputs = model(input_ids=input_ids, attention_mask=input_mask, labels=labels)\n",
        "        loss = outputs.loss\n",
        "        total_train_loss += loss.item()\n",
        "\n",
        "        loss.backward()\n",
        "        torch.nn.utils.clip_grad_norm_(model.parameters(), max_norm=1.0)\n",
        "        optimizer.step()\n",
        "        scheduler.step()\n",
        "\n",
        "    avg_train_loss = total_train_loss / len(train_dataloader)\n",
        "\n",
        "    # Validation\n",
        "    model.eval()\n",
        "    predictions = []\n",
        "    true_labels = []\n",
        "\n",
        "    for batch in val_dataloader:\n",
        "        batch = tuple(t.to(device) for t in batch)\n",
        "        input_ids, input_mask, labels = batch\n",
        "\n",
        "        with torch.no_grad():\n",
        "            outputs = model(input_ids=input_ids, attention_mask=input_mask)\n",
        "            logits = outputs.logits\n",
        "\n",
        "        logits = logits.detach().cpu().numpy()\n",
        "        label_ids = labels.to('cpu').numpy()\n",
        "\n",
        "        batch_predictions = np.argmax(logits, axis=1)\n",
        "        predictions.extend(batch_predictions)\n",
        "        true_labels.extend(label_ids)\n",
        "\n",
        "    val_micro_f1 = calculate_metrics('val', predictions, true_labels)\n",
        "    elapsed_time = time.time() - start_time\n",
        "\n",
        "    # Print epoch summary\n",
        "    print(f\"Epoch {epoch + 1}/{epochs}\")\n",
        "    print(f\"  Train Loss: {avg_train_loss}\")\n",
        "    print(f\"  Val Micro F1: {val_micro_f1}\")\n",
        "    print(f\"  Time: {elapsed_time // 60:.0f}m {elapsed_time % 60:.0f}s\")"
      ]
    },
    {
      "cell_type": "code",
      "execution_count": 29,
      "metadata": {
        "colab": {
          "base_uri": "https://localhost:8080/"
        },
        "id": "YF1GCpcUDN6D",
        "outputId": "f3b2ac40-46b2-49a6-d688-4f5eda42ff81"
      },
      "outputs": [
        {
          "output_type": "stream",
          "name": "stdout",
          "text": [
            "Confusion Matrix:\n",
            " [[274   2   4  14  14   4   4]\n",
            " [  8 211   0  12   6   0   0]\n",
            " [  0   0 362   0   2  12   3]\n",
            " [  6  10   4 337   8   3   1]\n",
            " [  5   5   2   8 391   0   5]\n",
            " [  2   1  12   0   2 274  23]\n",
            " [  3   2   2   2   3  32 319]]\n",
            "\n",
            "Classification Report:\n",
            "               precision    recall  f1-score   support\n",
            "\n",
            "           0       0.92      0.87      0.89       316\n",
            "           1       0.91      0.89      0.90       237\n",
            "           2       0.94      0.96      0.95       379\n",
            "           3       0.90      0.91      0.91       369\n",
            "           4       0.92      0.94      0.93       416\n",
            "           5       0.84      0.87      0.86       314\n",
            "           6       0.90      0.88      0.89       363\n",
            "\n",
            "    accuracy                           0.91      2394\n",
            "   macro avg       0.90      0.90      0.90      2394\n",
            "weighted avg       0.91      0.91      0.91      2394\n",
            "\n",
            "Macro F1 Score: 0.9034127190160074\n",
            "Micro F1 Score: 0.9055973266499582\n",
            "Weighted F1 Score: 0.9055148031644594\n",
            "Macro Precision: 0.9048144196451956\n",
            "Micro Precision: 0.9055973266499582\n",
            "Weighted Precision: 0.9058432037082271\n",
            "Macro Recall: 0.9024444868113487\n",
            "Micro Recall: 0.9055973266499582\n",
            "Weighted Recall: 0.9055973266499582\n"
          ]
        }
      ],
      "source": [
        "# Evaluation\n",
        "model.eval()\n",
        "predictions = []\n",
        "true_labels = []\n",
        "\n",
        "for batch in test_dataloader:\n",
        "    batch = tuple(t.to(device) for t in batch)\n",
        "    input_ids, input_mask, labels = batch\n",
        "\n",
        "    with torch.no_grad():\n",
        "        outputs = model(input_ids=input_ids, attention_mask=input_mask)\n",
        "        logits = outputs.logits\n",
        "\n",
        "    logits = logits.detach().cpu().numpy()\n",
        "    label_ids = labels.to('cpu').numpy()\n",
        "\n",
        "    batch_predictions = np.argmax(logits, axis=1)\n",
        "    predictions.extend(batch_predictions)\n",
        "    true_labels.extend(label_ids)\n",
        "\n",
        "# Calculate and print metrics\n",
        "calculate_metrics('test', predictions, true_labels)"
      ]
    },
    {
      "cell_type": "code",
      "execution_count": 30,
      "metadata": {
        "id": "zBU4h6E7DN6D"
      },
      "outputs": [],
      "source": [
        "model.save_pretrained('/content/drive/MyDrive/WoS/BioBERT_WoS_Abstracts_11967')"
      ]
    },
    {
      "cell_type": "code",
      "source": [
        "from google.colab import runtime\n",
        "runtime.unassign()"
      ],
      "metadata": {
        "id": "VaA6-4qopKxT"
      },
      "execution_count": null,
      "outputs": []
    }
  ],
  "metadata": {
    "language_info": {
      "name": "python"
    },
    "colab": {
      "provenance": [],
      "gpuType": "T4"
    },
    "kernelspec": {
      "name": "python3",
      "display_name": "Python 3"
    },
    "accelerator": "GPU",
    "widgets": {
      "application/vnd.jupyter.widget-state+json": {
        "56a5f40cfa184d2da74da3037c3d124c": {
          "model_module": "@jupyter-widgets/controls",
          "model_name": "HBoxModel",
          "model_module_version": "1.5.0",
          "state": {
            "_dom_classes": [],
            "_model_module": "@jupyter-widgets/controls",
            "_model_module_version": "1.5.0",
            "_model_name": "HBoxModel",
            "_view_count": null,
            "_view_module": "@jupyter-widgets/controls",
            "_view_module_version": "1.5.0",
            "_view_name": "HBoxView",
            "box_style": "",
            "children": [
              "IPY_MODEL_e7515d0892dd435883d0fb48c51270ee",
              "IPY_MODEL_d5f7bf9a4b1f4b71b3c46e7eef959f98",
              "IPY_MODEL_fc4120d026494395bfc62be06153ad7c"
            ],
            "layout": "IPY_MODEL_832ba0ea72d04decab1d88e0a22ae576"
          }
        },
        "e7515d0892dd435883d0fb48c51270ee": {
          "model_module": "@jupyter-widgets/controls",
          "model_name": "HTMLModel",
          "model_module_version": "1.5.0",
          "state": {
            "_dom_classes": [],
            "_model_module": "@jupyter-widgets/controls",
            "_model_module_version": "1.5.0",
            "_model_name": "HTMLModel",
            "_view_count": null,
            "_view_module": "@jupyter-widgets/controls",
            "_view_module_version": "1.5.0",
            "_view_name": "HTMLView",
            "description": "",
            "description_tooltip": null,
            "layout": "IPY_MODEL_2152e75eef77473eb13433b30b9388d2",
            "placeholder": "​",
            "style": "IPY_MODEL_417ca4c0dede4d2ab0e993ffe7b9b10d",
            "value": "config.json: 100%"
          }
        },
        "d5f7bf9a4b1f4b71b3c46e7eef959f98": {
          "model_module": "@jupyter-widgets/controls",
          "model_name": "FloatProgressModel",
          "model_module_version": "1.5.0",
          "state": {
            "_dom_classes": [],
            "_model_module": "@jupyter-widgets/controls",
            "_model_module_version": "1.5.0",
            "_model_name": "FloatProgressModel",
            "_view_count": null,
            "_view_module": "@jupyter-widgets/controls",
            "_view_module_version": "1.5.0",
            "_view_name": "ProgressView",
            "bar_style": "success",
            "description": "",
            "description_tooltip": null,
            "layout": "IPY_MODEL_67cb9ab2f80d48649f8bb4777df9f809",
            "max": 1110,
            "min": 0,
            "orientation": "horizontal",
            "style": "IPY_MODEL_8bfd401c4e1f41e7b6f87552e8de5fda",
            "value": 1110
          }
        },
        "fc4120d026494395bfc62be06153ad7c": {
          "model_module": "@jupyter-widgets/controls",
          "model_name": "HTMLModel",
          "model_module_version": "1.5.0",
          "state": {
            "_dom_classes": [],
            "_model_module": "@jupyter-widgets/controls",
            "_model_module_version": "1.5.0",
            "_model_name": "HTMLModel",
            "_view_count": null,
            "_view_module": "@jupyter-widgets/controls",
            "_view_module_version": "1.5.0",
            "_view_name": "HTMLView",
            "description": "",
            "description_tooltip": null,
            "layout": "IPY_MODEL_4fdec6a18c2a45208087b3d4ad29d7c8",
            "placeholder": "​",
            "style": "IPY_MODEL_45f1f120b006422c991825424779faec",
            "value": " 1.11k/1.11k [00:00&lt;00:00, 64.0kB/s]"
          }
        },
        "832ba0ea72d04decab1d88e0a22ae576": {
          "model_module": "@jupyter-widgets/base",
          "model_name": "LayoutModel",
          "model_module_version": "1.2.0",
          "state": {
            "_model_module": "@jupyter-widgets/base",
            "_model_module_version": "1.2.0",
            "_model_name": "LayoutModel",
            "_view_count": null,
            "_view_module": "@jupyter-widgets/base",
            "_view_module_version": "1.2.0",
            "_view_name": "LayoutView",
            "align_content": null,
            "align_items": null,
            "align_self": null,
            "border": null,
            "bottom": null,
            "display": null,
            "flex": null,
            "flex_flow": null,
            "grid_area": null,
            "grid_auto_columns": null,
            "grid_auto_flow": null,
            "grid_auto_rows": null,
            "grid_column": null,
            "grid_gap": null,
            "grid_row": null,
            "grid_template_areas": null,
            "grid_template_columns": null,
            "grid_template_rows": null,
            "height": null,
            "justify_content": null,
            "justify_items": null,
            "left": null,
            "margin": null,
            "max_height": null,
            "max_width": null,
            "min_height": null,
            "min_width": null,
            "object_fit": null,
            "object_position": null,
            "order": null,
            "overflow": null,
            "overflow_x": null,
            "overflow_y": null,
            "padding": null,
            "right": null,
            "top": null,
            "visibility": null,
            "width": null
          }
        },
        "2152e75eef77473eb13433b30b9388d2": {
          "model_module": "@jupyter-widgets/base",
          "model_name": "LayoutModel",
          "model_module_version": "1.2.0",
          "state": {
            "_model_module": "@jupyter-widgets/base",
            "_model_module_version": "1.2.0",
            "_model_name": "LayoutModel",
            "_view_count": null,
            "_view_module": "@jupyter-widgets/base",
            "_view_module_version": "1.2.0",
            "_view_name": "LayoutView",
            "align_content": null,
            "align_items": null,
            "align_self": null,
            "border": null,
            "bottom": null,
            "display": null,
            "flex": null,
            "flex_flow": null,
            "grid_area": null,
            "grid_auto_columns": null,
            "grid_auto_flow": null,
            "grid_auto_rows": null,
            "grid_column": null,
            "grid_gap": null,
            "grid_row": null,
            "grid_template_areas": null,
            "grid_template_columns": null,
            "grid_template_rows": null,
            "height": null,
            "justify_content": null,
            "justify_items": null,
            "left": null,
            "margin": null,
            "max_height": null,
            "max_width": null,
            "min_height": null,
            "min_width": null,
            "object_fit": null,
            "object_position": null,
            "order": null,
            "overflow": null,
            "overflow_x": null,
            "overflow_y": null,
            "padding": null,
            "right": null,
            "top": null,
            "visibility": null,
            "width": null
          }
        },
        "417ca4c0dede4d2ab0e993ffe7b9b10d": {
          "model_module": "@jupyter-widgets/controls",
          "model_name": "DescriptionStyleModel",
          "model_module_version": "1.5.0",
          "state": {
            "_model_module": "@jupyter-widgets/controls",
            "_model_module_version": "1.5.0",
            "_model_name": "DescriptionStyleModel",
            "_view_count": null,
            "_view_module": "@jupyter-widgets/base",
            "_view_module_version": "1.2.0",
            "_view_name": "StyleView",
            "description_width": ""
          }
        },
        "67cb9ab2f80d48649f8bb4777df9f809": {
          "model_module": "@jupyter-widgets/base",
          "model_name": "LayoutModel",
          "model_module_version": "1.2.0",
          "state": {
            "_model_module": "@jupyter-widgets/base",
            "_model_module_version": "1.2.0",
            "_model_name": "LayoutModel",
            "_view_count": null,
            "_view_module": "@jupyter-widgets/base",
            "_view_module_version": "1.2.0",
            "_view_name": "LayoutView",
            "align_content": null,
            "align_items": null,
            "align_self": null,
            "border": null,
            "bottom": null,
            "display": null,
            "flex": null,
            "flex_flow": null,
            "grid_area": null,
            "grid_auto_columns": null,
            "grid_auto_flow": null,
            "grid_auto_rows": null,
            "grid_column": null,
            "grid_gap": null,
            "grid_row": null,
            "grid_template_areas": null,
            "grid_template_columns": null,
            "grid_template_rows": null,
            "height": null,
            "justify_content": null,
            "justify_items": null,
            "left": null,
            "margin": null,
            "max_height": null,
            "max_width": null,
            "min_height": null,
            "min_width": null,
            "object_fit": null,
            "object_position": null,
            "order": null,
            "overflow": null,
            "overflow_x": null,
            "overflow_y": null,
            "padding": null,
            "right": null,
            "top": null,
            "visibility": null,
            "width": null
          }
        },
        "8bfd401c4e1f41e7b6f87552e8de5fda": {
          "model_module": "@jupyter-widgets/controls",
          "model_name": "ProgressStyleModel",
          "model_module_version": "1.5.0",
          "state": {
            "_model_module": "@jupyter-widgets/controls",
            "_model_module_version": "1.5.0",
            "_model_name": "ProgressStyleModel",
            "_view_count": null,
            "_view_module": "@jupyter-widgets/base",
            "_view_module_version": "1.2.0",
            "_view_name": "StyleView",
            "bar_color": null,
            "description_width": ""
          }
        },
        "4fdec6a18c2a45208087b3d4ad29d7c8": {
          "model_module": "@jupyter-widgets/base",
          "model_name": "LayoutModel",
          "model_module_version": "1.2.0",
          "state": {
            "_model_module": "@jupyter-widgets/base",
            "_model_module_version": "1.2.0",
            "_model_name": "LayoutModel",
            "_view_count": null,
            "_view_module": "@jupyter-widgets/base",
            "_view_module_version": "1.2.0",
            "_view_name": "LayoutView",
            "align_content": null,
            "align_items": null,
            "align_self": null,
            "border": null,
            "bottom": null,
            "display": null,
            "flex": null,
            "flex_flow": null,
            "grid_area": null,
            "grid_auto_columns": null,
            "grid_auto_flow": null,
            "grid_auto_rows": null,
            "grid_column": null,
            "grid_gap": null,
            "grid_row": null,
            "grid_template_areas": null,
            "grid_template_columns": null,
            "grid_template_rows": null,
            "height": null,
            "justify_content": null,
            "justify_items": null,
            "left": null,
            "margin": null,
            "max_height": null,
            "max_width": null,
            "min_height": null,
            "min_width": null,
            "object_fit": null,
            "object_position": null,
            "order": null,
            "overflow": null,
            "overflow_x": null,
            "overflow_y": null,
            "padding": null,
            "right": null,
            "top": null,
            "visibility": null,
            "width": null
          }
        },
        "45f1f120b006422c991825424779faec": {
          "model_module": "@jupyter-widgets/controls",
          "model_name": "DescriptionStyleModel",
          "model_module_version": "1.5.0",
          "state": {
            "_model_module": "@jupyter-widgets/controls",
            "_model_module_version": "1.5.0",
            "_model_name": "DescriptionStyleModel",
            "_view_count": null,
            "_view_module": "@jupyter-widgets/base",
            "_view_module_version": "1.2.0",
            "_view_name": "StyleView",
            "description_width": ""
          }
        },
        "1d5723f6e10d42098c0846d0c9849f46": {
          "model_module": "@jupyter-widgets/controls",
          "model_name": "HBoxModel",
          "model_module_version": "1.5.0",
          "state": {
            "_dom_classes": [],
            "_model_module": "@jupyter-widgets/controls",
            "_model_module_version": "1.5.0",
            "_model_name": "HBoxModel",
            "_view_count": null,
            "_view_module": "@jupyter-widgets/controls",
            "_view_module_version": "1.5.0",
            "_view_name": "HBoxView",
            "box_style": "",
            "children": [
              "IPY_MODEL_e3e2fa45f93d40cf8834495079566590",
              "IPY_MODEL_9462456d07fe483ab9d70136b3304936",
              "IPY_MODEL_38dd606680664b8ba42a0eb7664f44b9"
            ],
            "layout": "IPY_MODEL_f6054f7e09f346c6a67123efbae47c92"
          }
        },
        "e3e2fa45f93d40cf8834495079566590": {
          "model_module": "@jupyter-widgets/controls",
          "model_name": "HTMLModel",
          "model_module_version": "1.5.0",
          "state": {
            "_dom_classes": [],
            "_model_module": "@jupyter-widgets/controls",
            "_model_module_version": "1.5.0",
            "_model_name": "HTMLModel",
            "_view_count": null,
            "_view_module": "@jupyter-widgets/controls",
            "_view_module_version": "1.5.0",
            "_view_name": "HTMLView",
            "description": "",
            "description_tooltip": null,
            "layout": "IPY_MODEL_0955a53e2e9046b2b0b48409d5fad6fb",
            "placeholder": "​",
            "style": "IPY_MODEL_37e8a6e469b84232917d3bb09aa65ee1",
            "value": "vocab.txt: 100%"
          }
        },
        "9462456d07fe483ab9d70136b3304936": {
          "model_module": "@jupyter-widgets/controls",
          "model_name": "FloatProgressModel",
          "model_module_version": "1.5.0",
          "state": {
            "_dom_classes": [],
            "_model_module": "@jupyter-widgets/controls",
            "_model_module_version": "1.5.0",
            "_model_name": "FloatProgressModel",
            "_view_count": null,
            "_view_module": "@jupyter-widgets/controls",
            "_view_module_version": "1.5.0",
            "_view_name": "ProgressView",
            "bar_style": "success",
            "description": "",
            "description_tooltip": null,
            "layout": "IPY_MODEL_ad9198e26d8949bcb1998892ba156871",
            "max": 213450,
            "min": 0,
            "orientation": "horizontal",
            "style": "IPY_MODEL_a29af5e5769b4fdcbb9734a4bbf3a300",
            "value": 213450
          }
        },
        "38dd606680664b8ba42a0eb7664f44b9": {
          "model_module": "@jupyter-widgets/controls",
          "model_name": "HTMLModel",
          "model_module_version": "1.5.0",
          "state": {
            "_dom_classes": [],
            "_model_module": "@jupyter-widgets/controls",
            "_model_module_version": "1.5.0",
            "_model_name": "HTMLModel",
            "_view_count": null,
            "_view_module": "@jupyter-widgets/controls",
            "_view_module_version": "1.5.0",
            "_view_name": "HTMLView",
            "description": "",
            "description_tooltip": null,
            "layout": "IPY_MODEL_af106a90286c45f6a56f3c7e1846c516",
            "placeholder": "​",
            "style": "IPY_MODEL_7d81f1c4e2fb48ac8f6893faf2a0f077",
            "value": " 213k/213k [00:00&lt;00:00, 3.03MB/s]"
          }
        },
        "f6054f7e09f346c6a67123efbae47c92": {
          "model_module": "@jupyter-widgets/base",
          "model_name": "LayoutModel",
          "model_module_version": "1.2.0",
          "state": {
            "_model_module": "@jupyter-widgets/base",
            "_model_module_version": "1.2.0",
            "_model_name": "LayoutModel",
            "_view_count": null,
            "_view_module": "@jupyter-widgets/base",
            "_view_module_version": "1.2.0",
            "_view_name": "LayoutView",
            "align_content": null,
            "align_items": null,
            "align_self": null,
            "border": null,
            "bottom": null,
            "display": null,
            "flex": null,
            "flex_flow": null,
            "grid_area": null,
            "grid_auto_columns": null,
            "grid_auto_flow": null,
            "grid_auto_rows": null,
            "grid_column": null,
            "grid_gap": null,
            "grid_row": null,
            "grid_template_areas": null,
            "grid_template_columns": null,
            "grid_template_rows": null,
            "height": null,
            "justify_content": null,
            "justify_items": null,
            "left": null,
            "margin": null,
            "max_height": null,
            "max_width": null,
            "min_height": null,
            "min_width": null,
            "object_fit": null,
            "object_position": null,
            "order": null,
            "overflow": null,
            "overflow_x": null,
            "overflow_y": null,
            "padding": null,
            "right": null,
            "top": null,
            "visibility": null,
            "width": null
          }
        },
        "0955a53e2e9046b2b0b48409d5fad6fb": {
          "model_module": "@jupyter-widgets/base",
          "model_name": "LayoutModel",
          "model_module_version": "1.2.0",
          "state": {
            "_model_module": "@jupyter-widgets/base",
            "_model_module_version": "1.2.0",
            "_model_name": "LayoutModel",
            "_view_count": null,
            "_view_module": "@jupyter-widgets/base",
            "_view_module_version": "1.2.0",
            "_view_name": "LayoutView",
            "align_content": null,
            "align_items": null,
            "align_self": null,
            "border": null,
            "bottom": null,
            "display": null,
            "flex": null,
            "flex_flow": null,
            "grid_area": null,
            "grid_auto_columns": null,
            "grid_auto_flow": null,
            "grid_auto_rows": null,
            "grid_column": null,
            "grid_gap": null,
            "grid_row": null,
            "grid_template_areas": null,
            "grid_template_columns": null,
            "grid_template_rows": null,
            "height": null,
            "justify_content": null,
            "justify_items": null,
            "left": null,
            "margin": null,
            "max_height": null,
            "max_width": null,
            "min_height": null,
            "min_width": null,
            "object_fit": null,
            "object_position": null,
            "order": null,
            "overflow": null,
            "overflow_x": null,
            "overflow_y": null,
            "padding": null,
            "right": null,
            "top": null,
            "visibility": null,
            "width": null
          }
        },
        "37e8a6e469b84232917d3bb09aa65ee1": {
          "model_module": "@jupyter-widgets/controls",
          "model_name": "DescriptionStyleModel",
          "model_module_version": "1.5.0",
          "state": {
            "_model_module": "@jupyter-widgets/controls",
            "_model_module_version": "1.5.0",
            "_model_name": "DescriptionStyleModel",
            "_view_count": null,
            "_view_module": "@jupyter-widgets/base",
            "_view_module_version": "1.2.0",
            "_view_name": "StyleView",
            "description_width": ""
          }
        },
        "ad9198e26d8949bcb1998892ba156871": {
          "model_module": "@jupyter-widgets/base",
          "model_name": "LayoutModel",
          "model_module_version": "1.2.0",
          "state": {
            "_model_module": "@jupyter-widgets/base",
            "_model_module_version": "1.2.0",
            "_model_name": "LayoutModel",
            "_view_count": null,
            "_view_module": "@jupyter-widgets/base",
            "_view_module_version": "1.2.0",
            "_view_name": "LayoutView",
            "align_content": null,
            "align_items": null,
            "align_self": null,
            "border": null,
            "bottom": null,
            "display": null,
            "flex": null,
            "flex_flow": null,
            "grid_area": null,
            "grid_auto_columns": null,
            "grid_auto_flow": null,
            "grid_auto_rows": null,
            "grid_column": null,
            "grid_gap": null,
            "grid_row": null,
            "grid_template_areas": null,
            "grid_template_columns": null,
            "grid_template_rows": null,
            "height": null,
            "justify_content": null,
            "justify_items": null,
            "left": null,
            "margin": null,
            "max_height": null,
            "max_width": null,
            "min_height": null,
            "min_width": null,
            "object_fit": null,
            "object_position": null,
            "order": null,
            "overflow": null,
            "overflow_x": null,
            "overflow_y": null,
            "padding": null,
            "right": null,
            "top": null,
            "visibility": null,
            "width": null
          }
        },
        "a29af5e5769b4fdcbb9734a4bbf3a300": {
          "model_module": "@jupyter-widgets/controls",
          "model_name": "ProgressStyleModel",
          "model_module_version": "1.5.0",
          "state": {
            "_model_module": "@jupyter-widgets/controls",
            "_model_module_version": "1.5.0",
            "_model_name": "ProgressStyleModel",
            "_view_count": null,
            "_view_module": "@jupyter-widgets/base",
            "_view_module_version": "1.2.0",
            "_view_name": "StyleView",
            "bar_color": null,
            "description_width": ""
          }
        },
        "af106a90286c45f6a56f3c7e1846c516": {
          "model_module": "@jupyter-widgets/base",
          "model_name": "LayoutModel",
          "model_module_version": "1.2.0",
          "state": {
            "_model_module": "@jupyter-widgets/base",
            "_model_module_version": "1.2.0",
            "_model_name": "LayoutModel",
            "_view_count": null,
            "_view_module": "@jupyter-widgets/base",
            "_view_module_version": "1.2.0",
            "_view_name": "LayoutView",
            "align_content": null,
            "align_items": null,
            "align_self": null,
            "border": null,
            "bottom": null,
            "display": null,
            "flex": null,
            "flex_flow": null,
            "grid_area": null,
            "grid_auto_columns": null,
            "grid_auto_flow": null,
            "grid_auto_rows": null,
            "grid_column": null,
            "grid_gap": null,
            "grid_row": null,
            "grid_template_areas": null,
            "grid_template_columns": null,
            "grid_template_rows": null,
            "height": null,
            "justify_content": null,
            "justify_items": null,
            "left": null,
            "margin": null,
            "max_height": null,
            "max_width": null,
            "min_height": null,
            "min_width": null,
            "object_fit": null,
            "object_position": null,
            "order": null,
            "overflow": null,
            "overflow_x": null,
            "overflow_y": null,
            "padding": null,
            "right": null,
            "top": null,
            "visibility": null,
            "width": null
          }
        },
        "7d81f1c4e2fb48ac8f6893faf2a0f077": {
          "model_module": "@jupyter-widgets/controls",
          "model_name": "DescriptionStyleModel",
          "model_module_version": "1.5.0",
          "state": {
            "_model_module": "@jupyter-widgets/controls",
            "_model_module_version": "1.5.0",
            "_model_name": "DescriptionStyleModel",
            "_view_count": null,
            "_view_module": "@jupyter-widgets/base",
            "_view_module_version": "1.2.0",
            "_view_name": "StyleView",
            "description_width": ""
          }
        },
        "d2ace5807124486192c880fe0ed09b43": {
          "model_module": "@jupyter-widgets/controls",
          "model_name": "HBoxModel",
          "model_module_version": "1.5.0",
          "state": {
            "_dom_classes": [],
            "_model_module": "@jupyter-widgets/controls",
            "_model_module_version": "1.5.0",
            "_model_name": "HBoxModel",
            "_view_count": null,
            "_view_module": "@jupyter-widgets/controls",
            "_view_module_version": "1.5.0",
            "_view_name": "HBoxView",
            "box_style": "",
            "children": [
              "IPY_MODEL_3ee1428a4044400893b4a698958d6a67",
              "IPY_MODEL_c14dcdfdfa064dc592e3710e705737f7",
              "IPY_MODEL_fb2f7734199944deb9db0c586541a8a7"
            ],
            "layout": "IPY_MODEL_94cb7ae19f7344ad97c3132c67180afb"
          }
        },
        "3ee1428a4044400893b4a698958d6a67": {
          "model_module": "@jupyter-widgets/controls",
          "model_name": "HTMLModel",
          "model_module_version": "1.5.0",
          "state": {
            "_dom_classes": [],
            "_model_module": "@jupyter-widgets/controls",
            "_model_module_version": "1.5.0",
            "_model_name": "HTMLModel",
            "_view_count": null,
            "_view_module": "@jupyter-widgets/controls",
            "_view_module_version": "1.5.0",
            "_view_name": "HTMLView",
            "description": "",
            "description_tooltip": null,
            "layout": "IPY_MODEL_9a0847e588b74bc3ac90cdc30e20209e",
            "placeholder": "​",
            "style": "IPY_MODEL_85c9d61fbb734f0f903f40f904e12073",
            "value": "pytorch_model.bin: 100%"
          }
        },
        "c14dcdfdfa064dc592e3710e705737f7": {
          "model_module": "@jupyter-widgets/controls",
          "model_name": "FloatProgressModel",
          "model_module_version": "1.5.0",
          "state": {
            "_dom_classes": [],
            "_model_module": "@jupyter-widgets/controls",
            "_model_module_version": "1.5.0",
            "_model_name": "FloatProgressModel",
            "_view_count": null,
            "_view_module": "@jupyter-widgets/controls",
            "_view_module_version": "1.5.0",
            "_view_name": "ProgressView",
            "bar_style": "success",
            "description": "",
            "description_tooltip": null,
            "layout": "IPY_MODEL_2bbec686c5d64b43bf09ad76d1b876d4",
            "max": 435783451,
            "min": 0,
            "orientation": "horizontal",
            "style": "IPY_MODEL_7118c7bdb0fd44be9abd7bab3de340e4",
            "value": 435783451
          }
        },
        "fb2f7734199944deb9db0c586541a8a7": {
          "model_module": "@jupyter-widgets/controls",
          "model_name": "HTMLModel",
          "model_module_version": "1.5.0",
          "state": {
            "_dom_classes": [],
            "_model_module": "@jupyter-widgets/controls",
            "_model_module_version": "1.5.0",
            "_model_name": "HTMLModel",
            "_view_count": null,
            "_view_module": "@jupyter-widgets/controls",
            "_view_module_version": "1.5.0",
            "_view_name": "HTMLView",
            "description": "",
            "description_tooltip": null,
            "layout": "IPY_MODEL_46e00d8841f84370b300d87f6f746a23",
            "placeholder": "​",
            "style": "IPY_MODEL_078169621d2546f98fe026ebb7890ed9",
            "value": " 436M/436M [00:06&lt;00:00, 20.7MB/s]"
          }
        },
        "94cb7ae19f7344ad97c3132c67180afb": {
          "model_module": "@jupyter-widgets/base",
          "model_name": "LayoutModel",
          "model_module_version": "1.2.0",
          "state": {
            "_model_module": "@jupyter-widgets/base",
            "_model_module_version": "1.2.0",
            "_model_name": "LayoutModel",
            "_view_count": null,
            "_view_module": "@jupyter-widgets/base",
            "_view_module_version": "1.2.0",
            "_view_name": "LayoutView",
            "align_content": null,
            "align_items": null,
            "align_self": null,
            "border": null,
            "bottom": null,
            "display": null,
            "flex": null,
            "flex_flow": null,
            "grid_area": null,
            "grid_auto_columns": null,
            "grid_auto_flow": null,
            "grid_auto_rows": null,
            "grid_column": null,
            "grid_gap": null,
            "grid_row": null,
            "grid_template_areas": null,
            "grid_template_columns": null,
            "grid_template_rows": null,
            "height": null,
            "justify_content": null,
            "justify_items": null,
            "left": null,
            "margin": null,
            "max_height": null,
            "max_width": null,
            "min_height": null,
            "min_width": null,
            "object_fit": null,
            "object_position": null,
            "order": null,
            "overflow": null,
            "overflow_x": null,
            "overflow_y": null,
            "padding": null,
            "right": null,
            "top": null,
            "visibility": null,
            "width": null
          }
        },
        "9a0847e588b74bc3ac90cdc30e20209e": {
          "model_module": "@jupyter-widgets/base",
          "model_name": "LayoutModel",
          "model_module_version": "1.2.0",
          "state": {
            "_model_module": "@jupyter-widgets/base",
            "_model_module_version": "1.2.0",
            "_model_name": "LayoutModel",
            "_view_count": null,
            "_view_module": "@jupyter-widgets/base",
            "_view_module_version": "1.2.0",
            "_view_name": "LayoutView",
            "align_content": null,
            "align_items": null,
            "align_self": null,
            "border": null,
            "bottom": null,
            "display": null,
            "flex": null,
            "flex_flow": null,
            "grid_area": null,
            "grid_auto_columns": null,
            "grid_auto_flow": null,
            "grid_auto_rows": null,
            "grid_column": null,
            "grid_gap": null,
            "grid_row": null,
            "grid_template_areas": null,
            "grid_template_columns": null,
            "grid_template_rows": null,
            "height": null,
            "justify_content": null,
            "justify_items": null,
            "left": null,
            "margin": null,
            "max_height": null,
            "max_width": null,
            "min_height": null,
            "min_width": null,
            "object_fit": null,
            "object_position": null,
            "order": null,
            "overflow": null,
            "overflow_x": null,
            "overflow_y": null,
            "padding": null,
            "right": null,
            "top": null,
            "visibility": null,
            "width": null
          }
        },
        "85c9d61fbb734f0f903f40f904e12073": {
          "model_module": "@jupyter-widgets/controls",
          "model_name": "DescriptionStyleModel",
          "model_module_version": "1.5.0",
          "state": {
            "_model_module": "@jupyter-widgets/controls",
            "_model_module_version": "1.5.0",
            "_model_name": "DescriptionStyleModel",
            "_view_count": null,
            "_view_module": "@jupyter-widgets/base",
            "_view_module_version": "1.2.0",
            "_view_name": "StyleView",
            "description_width": ""
          }
        },
        "2bbec686c5d64b43bf09ad76d1b876d4": {
          "model_module": "@jupyter-widgets/base",
          "model_name": "LayoutModel",
          "model_module_version": "1.2.0",
          "state": {
            "_model_module": "@jupyter-widgets/base",
            "_model_module_version": "1.2.0",
            "_model_name": "LayoutModel",
            "_view_count": null,
            "_view_module": "@jupyter-widgets/base",
            "_view_module_version": "1.2.0",
            "_view_name": "LayoutView",
            "align_content": null,
            "align_items": null,
            "align_self": null,
            "border": null,
            "bottom": null,
            "display": null,
            "flex": null,
            "flex_flow": null,
            "grid_area": null,
            "grid_auto_columns": null,
            "grid_auto_flow": null,
            "grid_auto_rows": null,
            "grid_column": null,
            "grid_gap": null,
            "grid_row": null,
            "grid_template_areas": null,
            "grid_template_columns": null,
            "grid_template_rows": null,
            "height": null,
            "justify_content": null,
            "justify_items": null,
            "left": null,
            "margin": null,
            "max_height": null,
            "max_width": null,
            "min_height": null,
            "min_width": null,
            "object_fit": null,
            "object_position": null,
            "order": null,
            "overflow": null,
            "overflow_x": null,
            "overflow_y": null,
            "padding": null,
            "right": null,
            "top": null,
            "visibility": null,
            "width": null
          }
        },
        "7118c7bdb0fd44be9abd7bab3de340e4": {
          "model_module": "@jupyter-widgets/controls",
          "model_name": "ProgressStyleModel",
          "model_module_version": "1.5.0",
          "state": {
            "_model_module": "@jupyter-widgets/controls",
            "_model_module_version": "1.5.0",
            "_model_name": "ProgressStyleModel",
            "_view_count": null,
            "_view_module": "@jupyter-widgets/base",
            "_view_module_version": "1.2.0",
            "_view_name": "StyleView",
            "bar_color": null,
            "description_width": ""
          }
        },
        "46e00d8841f84370b300d87f6f746a23": {
          "model_module": "@jupyter-widgets/base",
          "model_name": "LayoutModel",
          "model_module_version": "1.2.0",
          "state": {
            "_model_module": "@jupyter-widgets/base",
            "_model_module_version": "1.2.0",
            "_model_name": "LayoutModel",
            "_view_count": null,
            "_view_module": "@jupyter-widgets/base",
            "_view_module_version": "1.2.0",
            "_view_name": "LayoutView",
            "align_content": null,
            "align_items": null,
            "align_self": null,
            "border": null,
            "bottom": null,
            "display": null,
            "flex": null,
            "flex_flow": null,
            "grid_area": null,
            "grid_auto_columns": null,
            "grid_auto_flow": null,
            "grid_auto_rows": null,
            "grid_column": null,
            "grid_gap": null,
            "grid_row": null,
            "grid_template_areas": null,
            "grid_template_columns": null,
            "grid_template_rows": null,
            "height": null,
            "justify_content": null,
            "justify_items": null,
            "left": null,
            "margin": null,
            "max_height": null,
            "max_width": null,
            "min_height": null,
            "min_width": null,
            "object_fit": null,
            "object_position": null,
            "order": null,
            "overflow": null,
            "overflow_x": null,
            "overflow_y": null,
            "padding": null,
            "right": null,
            "top": null,
            "visibility": null,
            "width": null
          }
        },
        "078169621d2546f98fe026ebb7890ed9": {
          "model_module": "@jupyter-widgets/controls",
          "model_name": "DescriptionStyleModel",
          "model_module_version": "1.5.0",
          "state": {
            "_model_module": "@jupyter-widgets/controls",
            "_model_module_version": "1.5.0",
            "_model_name": "DescriptionStyleModel",
            "_view_count": null,
            "_view_module": "@jupyter-widgets/base",
            "_view_module_version": "1.2.0",
            "_view_name": "StyleView",
            "description_width": ""
          }
        }
      }
    }
  },
  "nbformat": 4,
  "nbformat_minor": 0
}
