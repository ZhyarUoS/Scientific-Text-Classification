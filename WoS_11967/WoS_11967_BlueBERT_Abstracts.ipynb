{
  "cells": [
    {
      "cell_type": "code",
      "execution_count": 1,
      "metadata": {
        "colab": {
          "base_uri": "https://localhost:8080/"
        },
        "id": "iRuetRKhDN59",
        "outputId": "637439ea-4335-4d69-a15b-c5b5eabcf002"
      },
      "outputs": [
        {
          "output_type": "stream",
          "name": "stdout",
          "text": [
            "Wed Jul 31 17:40:16 2024       \n",
            "+---------------------------------------------------------------------------------------+\n",
            "| NVIDIA-SMI 535.104.05             Driver Version: 535.104.05   CUDA Version: 12.2     |\n",
            "|-----------------------------------------+----------------------+----------------------+\n",
            "| GPU  Name                 Persistence-M | Bus-Id        Disp.A | Volatile Uncorr. ECC |\n",
            "| Fan  Temp   Perf          Pwr:Usage/Cap |         Memory-Usage | GPU-Util  Compute M. |\n",
            "|                                         |                      |               MIG M. |\n",
            "|=========================================+======================+======================|\n",
            "|   0  Tesla T4                       Off | 00000000:00:04.0 Off |                    0 |\n",
            "| N/A   65C    P8              10W /  70W |      0MiB / 15360MiB |      0%      Default |\n",
            "|                                         |                      |                  N/A |\n",
            "+-----------------------------------------+----------------------+----------------------+\n",
            "                                                                                         \n",
            "+---------------------------------------------------------------------------------------+\n",
            "| Processes:                                                                            |\n",
            "|  GPU   GI   CI        PID   Type   Process name                            GPU Memory |\n",
            "|        ID   ID                                                             Usage      |\n",
            "|=======================================================================================|\n",
            "|  No running processes found                                                           |\n",
            "+---------------------------------------------------------------------------------------+\n"
          ]
        }
      ],
      "source": [
        "gpu_info = !nvidia-smi\n",
        "gpu_info = '\\n'.join(gpu_info)\n",
        "if gpu_info.find('failed') >= 0:\n",
        "  print('Not connected to a GPU')\n",
        "else:\n",
        "  print(gpu_info)"
      ]
    },
    {
      "cell_type": "code",
      "execution_count": 2,
      "metadata": {
        "colab": {
          "base_uri": "https://localhost:8080/"
        },
        "id": "7BMB0YxADN5-",
        "outputId": "09e07a96-d632-4785-aca7-7349e4ece670"
      },
      "outputs": [
        {
          "output_type": "stream",
          "name": "stdout",
          "text": [
            "Your runtime has 13.6 gigabytes of available RAM\n",
            "\n",
            "Not using a high-RAM runtime\n"
          ]
        }
      ],
      "source": [
        "from psutil import virtual_memory\n",
        "ram_gb = virtual_memory().total / 1e9\n",
        "print('Your runtime has {:.1f} gigabytes of available RAM\\n'.format(ram_gb))\n",
        "\n",
        "if ram_gb < 20:\n",
        "  print('Not using a high-RAM runtime')\n",
        "else:\n",
        "  print('You are using a high-RAM runtime!')"
      ]
    },
    {
      "cell_type": "code",
      "execution_count": 3,
      "metadata": {
        "colab": {
          "base_uri": "https://localhost:8080/"
        },
        "id": "e2qEb3ivDN5-",
        "outputId": "e45e46b5-119f-414b-a472-6be52f33d978"
      },
      "outputs": [
        {
          "output_type": "stream",
          "name": "stdout",
          "text": [
            "Mounted at /content/drive\n"
          ]
        }
      ],
      "source": [
        "from google.colab import drive\n",
        "drive.mount('/content/drive')"
      ]
    },
    {
      "cell_type": "code",
      "execution_count": 4,
      "metadata": {
        "colab": {
          "base_uri": "https://localhost:8080/"
        },
        "id": "ZRaneJBnDN5_",
        "outputId": "95e1af9e-df03-4766-d21f-96a4670f175c"
      },
      "outputs": [
        {
          "output_type": "stream",
          "name": "stdout",
          "text": [
            "Requirement already satisfied: transformers in /usr/local/lib/python3.10/dist-packages (4.42.4)\n",
            "Requirement already satisfied: filelock in /usr/local/lib/python3.10/dist-packages (from transformers) (3.15.4)\n",
            "Requirement already satisfied: huggingface-hub<1.0,>=0.23.2 in /usr/local/lib/python3.10/dist-packages (from transformers) (0.23.5)\n",
            "Requirement already satisfied: numpy<2.0,>=1.17 in /usr/local/lib/python3.10/dist-packages (from transformers) (1.26.4)\n",
            "Requirement already satisfied: packaging>=20.0 in /usr/local/lib/python3.10/dist-packages (from transformers) (24.1)\n",
            "Requirement already satisfied: pyyaml>=5.1 in /usr/local/lib/python3.10/dist-packages (from transformers) (6.0.1)\n",
            "Requirement already satisfied: regex!=2019.12.17 in /usr/local/lib/python3.10/dist-packages (from transformers) (2024.5.15)\n",
            "Requirement already satisfied: requests in /usr/local/lib/python3.10/dist-packages (from transformers) (2.31.0)\n",
            "Requirement already satisfied: safetensors>=0.4.1 in /usr/local/lib/python3.10/dist-packages (from transformers) (0.4.3)\n",
            "Requirement already satisfied: tokenizers<0.20,>=0.19 in /usr/local/lib/python3.10/dist-packages (from transformers) (0.19.1)\n",
            "Requirement already satisfied: tqdm>=4.27 in /usr/local/lib/python3.10/dist-packages (from transformers) (4.66.4)\n",
            "Requirement already satisfied: fsspec>=2023.5.0 in /usr/local/lib/python3.10/dist-packages (from huggingface-hub<1.0,>=0.23.2->transformers) (2024.6.1)\n",
            "Requirement already satisfied: typing-extensions>=3.7.4.3 in /usr/local/lib/python3.10/dist-packages (from huggingface-hub<1.0,>=0.23.2->transformers) (4.12.2)\n",
            "Requirement already satisfied: charset-normalizer<4,>=2 in /usr/local/lib/python3.10/dist-packages (from requests->transformers) (3.3.2)\n",
            "Requirement already satisfied: idna<4,>=2.5 in /usr/local/lib/python3.10/dist-packages (from requests->transformers) (3.7)\n",
            "Requirement already satisfied: urllib3<3,>=1.21.1 in /usr/local/lib/python3.10/dist-packages (from requests->transformers) (2.0.7)\n",
            "Requirement already satisfied: certifi>=2017.4.17 in /usr/local/lib/python3.10/dist-packages (from requests->transformers) (2024.7.4)\n"
          ]
        }
      ],
      "source": [
        "!pip install transformers"
      ]
    },
    {
      "cell_type": "code",
      "execution_count": 5,
      "metadata": {
        "id": "jEVF9FbODN5_"
      },
      "outputs": [],
      "source": [
        "import os\n",
        "import numpy as np\n",
        "import pandas as pd\n",
        "from sklearn.model_selection import train_test_split\n",
        "from sklearn.metrics import confusion_matrix, classification_report, f1_score, precision_score, recall_score\n",
        "from transformers import AutoTokenizer, AutoModelForSequenceClassification, AdamW, get_linear_schedule_with_warmup\n",
        "import torch\n",
        "from torch.utils.data import DataLoader, TensorDataset, RandomSampler, SequentialSampler\n",
        "import torch.nn.functional as F\n",
        "from tqdm import trange, tqdm\n",
        "import matplotlib.pyplot as plt\n",
        "import sklearn.utils\n",
        "import time\n",
        "import re\n"
      ]
    },
    {
      "cell_type": "code",
      "execution_count": 6,
      "metadata": {
        "colab": {
          "base_uri": "https://localhost:8080/"
        },
        "id": "d84lKOxcDN5_",
        "outputId": "42fffc3b-937d-45ed-e6bf-a13c6d5e2245"
      },
      "outputs": [
        {
          "output_type": "stream",
          "name": "stdout",
          "text": [
            "(11967, 4)\n"
          ]
        }
      ],
      "source": [
        "# Retrive the data from stored dataset\n",
        "dataDir = \"/content/drive/MyDrive/WoS/data/X11967\"\n",
        "tsvData = os.path.join(dataDir,\"WoSDataset_11967.tsv\")\n",
        "\n",
        "tsvData = np.loadtxt(tsvData, dtype=str, delimiter=\"\\t\")\n",
        "print(np.shape(tsvData))"
      ]
    },
    {
      "cell_type": "code",
      "execution_count": 7,
      "metadata": {
        "colab": {
          "base_uri": "https://localhost:8080/"
        },
        "id": "FIYp3nhcDN5_",
        "outputId": "a2ffadb6-42f3-47cb-cc54-53fc14e3acc0"
      },
      "outputs": [
        {
          "output_type": "stream",
          "name": "stdout",
          "text": [
            "[['2' 'Psychology'\n",
            "  ' interview anxiety interview performance person perception job interview        '\n",
            "  'the aim of this study was to investigate a the behavioral cues that are displayed by and trait judgments formed about anxious interviewees and b why anxious interviewees receive lower interview performance ratings the behavioral expression of interview anxiety model was created as a conceptual framework to explore these relations we videotaped and transcribed mock job interviews obtained ratings of interview anxiety and interview performance and trained raters to assess several verbal and nonverbal cues and trait judgments the results indicated that few behavioral cues but several traits were related to interviewee and interviewer ratings of interview anxiety two factors emerged from our factor analysis on the trait judgmentsassertiveness and interpersonal warmth mediation analyses were performed and indicated that assertiveness and interpersonal warmth mediated the relation between interview anxiety and interview performance speech rate words spoken per minute and assertiveness were found to mediate the relation between interviewee and interviewer ratings of interview anxiety overall the results indicated that interviewees should focus less on their nervous tics and more on the broader impressions that they convey our findings indicate that anxious interviewees may want to focus on how assertive and interpersonally warm they appear to interviewers to our knowledge this is the first study to use a validated interview anxiety measure to examine behavioral cues and traits exhibited by anxious interviewees we offer new insight into why anxious interviewees receive lower interview performance ratings']\n",
            " ['0' 'CS'\n",
            "  ' affective database anxiety depression depressionanxietystress scales dass emotional state handwriting random forests stress        '\n",
            "  'the detection of negative emotions through daily activities such as writing and drawing is useful for promoting wellbeing the spread of humanmachine interfaces such as tablets makes the collection of handwriting and drawing samples easier in this context we present a first publicly available database which relates emotional states to handwriting and drawing that we call emothaw emotion recognition from handwriting and drawing this database includes samples of 129 participants whose emotional states namely anxiety depression and stress are assessed by the depressionanxietystress scales dass questionnaire seven tasks are recorded through a digitizing tablet pentagons and house drawing words copied in handprint circles and clock drawing and one sentence copied in cursive writing records consist in pen positions onpaper and inair time stamp pressure pen azimuth and altitude we report our analysis on this database from collected data we first compute measurements related to timing and ductus we compute separate measurements according to the position of the writing device on paper or inair we analyze and classify this set of measurements referred to as features using a random forest approach this latter is a machine learning method 1 based on an ensemble of decision trees which includes a feature ranking process we use this ranking process to identify the features which best reveal a targeted emotional state we then build random forest classifiers associated with each emotional state we provide accuracy sensitivity and specificity evaluation measures obtained from crossvalidation experiments our results showthat anxiety and stress recognition perform better than depression recognition']\n",
            " ['6' 'biochemistry'\n",
            "  ' dna assembly preprocessing sequence alignment gpu computing        '\n",
            "  'dnarna sequencing has recently become a primary way researchers generate biological data for further analysis assembling algorithms are an integral part of this process however some of them require pairwise alignment to be applied to a great deal of reads although several efficient alignment tools have been released over the past few years including those taking advantage of gpus graphics processing units none of them directly targets highthroughput sequencing data as a result a need arose to create software that could handle such data as effectively as possible gdna gpubased dna aligner is the first highly parallel solution that has been optimized to process nucleotide reads dnarna from modern sequencing machines results show that the software reaches up to 89 gcups giga cell updates per second on a single gpu and as a result it is the fastest tool in its class moreover it scales up well on multiple gpus systems including mpibased computational clusters where its performance is counted in tcups tera cups']\n",
            " ['3' 'MAE'\n",
            "  ' induction machine multiphase machine startergenerator 48 v automotive applications thermal analysis thermal model hybrid vehicle        '\n",
            "  'primary european carmakers agree on a 48 v embeddedsupply to support the growing currentload requirements in modern vehicles the functionalities required to the startergenerator are the engine start up launch assistant torque regenerative braking battery charging and early fuel cut off the dynamic load profile and the harsh environment working conditions make thermal issues the key challenge in the machine design the paper presents the simulation and experimental test results of a belt driven startergenerator for 48 v mini hybrid powertrains in particular a double threephase 10 kw induction machine has been selected as the suitable candidate for the application in detail the authors illustrate the experimental calibration and validation of the steady state thermal model as well as the thermal characterization of a liquid cooled prototype finally the paper deals with the temperatures prediction of the motor working in different load conditions']\n",
            " ['5' 'Medical'\n",
            "  ' alcohol abuse chronic alcoholics liver damage skin manifestations        '\n",
            "  'background chronic alcohol intake impacts skin directly through organ dysfunction or by modifying preexisting dermatoses however dermatoses afflicting chronic alcoholics figure in a few studies only aim this study aims to correlate the spectrum of dermatoses in chronic alcoholics with the quantumduration of alcohol intake and raised liver transaminases materials and methods adult males totaling 196 ascertained to fulfill the royal college of psychiatry criteria for chronic alcoholism by the de addiction center and referred for dermatological consult were enrolled as cases and similar number of age sex matched teetotallers as controls data emanating from detailed history clinical examination and routine liver functions tests were summarized and subsequently analyzed including statistically using the chisquare independent t and spearmans rank correlation tests and compared with data from previous studies results majority 104 drank 4150 units of alcoholweek since 340 mean 2001  9322 years generalized pruritus odds ratio or 3115 p  0001 xerosis or 362 p  0008 and seborrheic dermatitis or 1226 p  0001 were significantly more common in cases than controls infections 73 372 eczemas 45 229 and generalized hyperpigmentation 28 142 were the major presenting complaints spider nevi gynecomastia and pellagroid dermatitis were present in 34 173 19 97 and 8 41 respectively exclusively in cases only commonly seen systemic abnormalities were an alcoholic liver disease 45 229 diabetes mellitus 23 117 and peripheral neuropathy 19 97 conclusion knowledge of cutaneous manifestations of chronic alcoholism could prompt indepth history taking of alcohol intake lead to specialist referral and thereby enable timely de addiction hopefully before serious adversities in the chronic alcoholics']\n",
            " ['4' 'Civil' ' service reputation trust evidence theory ami        '\n",
            "  'service reputation is a key factor for service selection and service composition in serviceoriented ambient intelligence systems hence service reputation computing should fully reflect the feature of multirating fusion and the utility value dynamic attenuation characters of the rating the paper combines ds evidence theory with dynamic attenuation and puts forward a service reputation computing algorithm based on multirating fusion which is adapted to the ambient intelligence systems first a layered computing model of the service reputation is given then a mechanism of dynamic attenuation based on time windows an objective rating and advertisement honesty rating of service and a user credibility computing algorithm are presented afterward the rating information is combined with the ds evidence theory to raise an aggregation algorithm of the service general reputation for the ambient intelligence environments finally a prototype test is carried out to verify the effectiveness and availability of the model together with the algorithms']\n",
            " ['3' 'MAE'\n",
            "  ' straightening thinwalled circular steel tube crosssectional ovalization maximal flattening plastic bending        '\n",
            "  'crosssectional ovalization of thinwalled circular steel tube because of large plastic bending also known as the brazier effect usually occurs during the initial stage of tubes continuous rotary straightening process the amount of ovalization defined as maximal cross section flattening is an important technical parameter in tubes straightening process to control tubes bending deformation and prevent buckling however for the lack of special analytical model the maximal section flattening was determined in accordance with the specified charts developed by experienced operators on the basis of experimental data thus it was inevitable that the localized buckling might occur during some actual straightening operations new normal strain component formulas were derived based on the thin shell theory then strain energy of thinwalled tube per unit length was obtained using the elasticplastic theory a rational model for predicting the maximal section flattening of the thinwalled circular steel tube under its straightening process was presented by the principle of minimum potential energy the new model was validated by experiments and numerical simulations the results show that the new model agrees well with the experiments and the numerical simulations with error of less than 10 this new model was expected to find its potential application in thinwalled steel tube straightening machine design']\n",
            " ['1' 'ECE'\n",
            "  ' envelopefollowing methods simulation of switching power converters timedomain simulation highorder stable methods        '\n",
            "  'transient analysis of switching power converter spc circuits is a computationally expensive task this high expense arises from the fact that these circuits are driven by a clock with a period that is very small compared to the time interval the designer is typically interested in envelopefollowing ef technique has been recently proposed in the literature for efficient timedomain simulation of spc circuits in this paper a parallel highorder ef method which is based on obreshkovformula is presented for analysis of spc circuits a numerical example is presented to demonstrate the efficiency and scalability of the proposed method on parallel platforms']\n",
            " ['1' 'ECE'\n",
            "  ' flash flood electrical circuit analogy weibull distribution distributed modelling        '\n",
            "  'the assessment and prevention of floods require appropriate forecasting and knowledge of the related hydrological processes due to the similar form of the governing equations flood hydrograph shows a clear analytical and mathematical analogy with electrical circuits in this paper a spatially distributed hydrological model is developed which is analogue to a network of electrical resistancecapacitance with five circuits for describing the hydrological processes leading to floods the spatially distributed hydrological model simulates rainfall potential evapotranspiration canopy interception surface storage and soil storage the parameters for analogical modelling were derived from translation of the physical catchment characteristics a twoparameter weibull equation aggregates the response functions of each pixel and calculates the hydrograph of the catchment we applied the model to the openbook or tilted vcatchment theoretical benchmark problem as well as to four hourly flood events and simulation of daily discharges for the last two cases data were used from the mountainous catchment of upper tarqui in the andes of ecuador comparison of single versus multiple circuit designs for the benchmark problem indicates that the multiple circuit analogy provides a result similar to other hydrological models the results further illustrate the usefulness of the methodology for flood modelling and how it can simplify the simulation for ungauged basins of temporal and spatial variations of influencing hydrological processes']\n",
            " ['3' 'MAE'\n",
            "  ' ski motion analysis posture joint angle inertial sensor sensor fusion        '\n",
            "  'this paper deals with the motion analysis of skier gliding on the actual snow field using inertial sensors it is difficult to measure the motion of skier gliding on the actual snow field since the gliding velocity is fast and the measurement area is large therefore few studies have analyzed ski turns in gliding on the actual snow field it is necessary to analyze the skier gliding on the actual snow field in resolving the mechanism of ski turns in our previous study we developed the motion measurement method of skier using inertial and magnetic field sensors the 3d posture is estimated by applying the sensor fusion method and the method can estimate the 3d posture compensating the drift error of gyro sensor and reducing the effect of dynamic acceleration of accelerometer furthermore we developed the sensor fusion method estimating the 3d posture in local coordinate by the information of inertial sensors attaching the body segments the joint angle of skier in gliding on the actual snow field can be estimated by this method and inverse kinematics we conducted the measurement experiment by skier gliding on the actual snow field the inertial sensors and the gps receiver were attached to the body segments and the top of skier respectively skier conducted carving and skidding turns in this experiment we calculated the joint angles of skier by the information of inertial sensors and the switchovers of turns are estimated by the gps receiver output the results of motion analysis indicated the major feature of skiers motion and the difference between carving and skidding turns therefore the analysis results can be used to the skill rating the clarification of the mechanism of ski turns and the suggestion of more ideal turning form c 2013 the authors published by elsevier ltd selection and peerreview under responsibility of the school of aerospace mechanical and manufacturing engineering rmit university']]\n"
          ]
        }
      ],
      "source": [
        "print(tsvData[0:10])"
      ]
    },
    {
      "cell_type": "code",
      "execution_count": 8,
      "metadata": {
        "id": "WUvZlOibDN5_"
      },
      "outputs": [],
      "source": [
        "allLabels = tsvData[:,0]\n",
        "domains = tsvData[:,1]\n",
        "keywords = tsvData[:,2]\n",
        "abstracts = tsvData[:,3]"
      ]
    },
    {
      "cell_type": "code",
      "execution_count": 9,
      "metadata": {
        "colab": {
          "base_uri": "https://localhost:8080/"
        },
        "id": "SE5jkqySDN6A",
        "outputId": "071e9f4d-5f11-4be9-d54e-d0dd79a4f3ea"
      },
      "outputs": [
        {
          "output_type": "stream",
          "name": "stdout",
          "text": [
            "Labels  ['CS' 'Civil' 'ECE' 'MAE' 'Medical' 'Psychology' 'biochemistry']\n",
            "Label counts  [1499 2107 1132 1925 1617 1959 1728]\n"
          ]
        }
      ],
      "source": [
        "labels = np.unique(domains, return_counts=True)[0]\n",
        "labelCounts=  np.unique(domains, return_counts=True)[1]\n",
        "\n",
        "print(\"Labels \", labels)\n",
        "print(\"Label counts \", labelCounts)"
      ]
    },
    {
      "cell_type": "code",
      "execution_count": 10,
      "metadata": {
        "colab": {
          "base_uri": "https://localhost:8080/",
          "height": 543
        },
        "id": "4wUHmcLtDN6A",
        "outputId": "b224beeb-a1bc-4a0d-e8d7-7be35bdcc4c9"
      },
      "outputs": [
        {
          "output_type": "display_data",
          "data": {
            "text/plain": [
              "<Figure size 1000x600 with 1 Axes>"
            ],
            "image/png": "[encoded data removed]"
          },
          "metadata": {}
        },
        {
          "output_type": "stream",
          "name": "stdout",
          "text": [
            "The domain CS has 1499 records in the dataset.\n",
            "The domain Civil has 2107 records in the dataset.\n",
            "The domain ECE has 1132 records in the dataset.\n",
            "The domain MAE has 1925 records in the dataset.\n",
            "The domain Medical has 1617 records in the dataset.\n",
            "The domain Psychology has 1959 records in the dataset.\n",
            "The domain biochemistry has 1728 records in the dataset.\n"
          ]
        }
      ],
      "source": [
        "# Visualize domain counts in dataset\n",
        "plt.figure(figsize=(10, 6))\n",
        "plt.title(\"Domain Counts (Dataset)\")\n",
        "plt.pie(labelCounts, labels=labels, autopct='%1.1f%%', startangle=140, colors=plt.cm.Paired(range(len(labels))))\n",
        "plt.axis('equal')\n",
        "plt.show()\n",
        "\n",
        "for i, domain in enumerate(labels):\n",
        "    print(\"The domain\", domain, \"has\", labelCounts[i], \"records in the dataset.\")"
      ]
    },
    {
      "cell_type": "code",
      "execution_count": 11,
      "metadata": {
        "colab": {
          "base_uri": "https://localhost:8080/"
        },
        "id": "iy4b69DrDN6A",
        "outputId": "1d4d7330-9578-4972-ef2d-81048e331c02"
      },
      "outputs": [
        {
          "output_type": "stream",
          "name": "stdout",
          "text": [
            "Number of abstracts:  11967\n",
            "Shape of abstracts:  (11967,)\n",
            "['available cholinergic drugs for treating alzheimers disease ad provide modest symptomatic benefit we hypothesized that coadministration of a peripheral anticholinergic to reduce doselimiting adverse effects aes would enable the safetolerable use of higher cholinesterase inhibitor doses and thus improve their antidementia efficacy a modified singleblind ascendingdose phase iia study of donepezil plus solifenacin cpc201 lasting 26 weeks was conducted in 41 patients with probable ad of moderate severity entry criteria included the use of donepezil at a dose of 10 mgday during the preceding 3 months the primary outcome measure was the maximum tolerated dose mtd of donepezil achieved to protocol limit of 40 mgday when administered with the anticholinergic solifenacin 15 mgday secondary measures included assessments of cognitive and global function as well as of aes the mean  sd donepezil mtd increased to 38  074 mgday median 40 mgday p  0001 88 of the study population safely attained this dose at the end of titration markedly reduced donepezil ae frequency especially gastrointestinal allowed this dose increase there were no drugrelated serious aes or clinically significant laboratory abnormalities at 26 weeks alzheimers disease assessment scale cognitive component scores in the efficacy evaluable population improved by 035  085 points over baseline p  005 an estimated 25  084 points above 10 mgday donepezil and 54  084 points above historic placebo both p  005 clinical global impression of improvement scores improved by 094  020 to 31  020 points p  0001 the findings suggest that limiting donepezil aes by coadministration of solifenacin allows the safe administration of substantially higher cholinesterase inhibitors doses that may augment cognitive and global benefits in patients with ad'\n",
            " 'in this study a model is presented to obtain the parameters of penalty and reward scheme prs in performancebased regulation pbr for each electricity distribution company edc using analytical hierarchy process ahp and fuzzy cmeans clustering fcm in the fcm algorithm similar companies were categorized into clusters by using ahp score of effective factor in reliability index was obtained in this model external factors affecting edcs performance were considered to reduce the risk of pbr implementation for companies and customers the proposed model was applied on the edcs in iran the results including ahp score parameters of prs and prs cost were calculated c 2017 elsevier ltd all rights reserved']\n",
            "Number of keywords:  11967\n",
            "Shape of keywords:  (11967,)\n",
            "['available cholinergic drugs for treating alzheimers disease ad provide modest symptomatic benefit we hypothesized that coadministration of a peripheral anticholinergic to reduce doselimiting adverse effects aes would enable the safetolerable use of higher cholinesterase inhibitor doses and thus improve their antidementia efficacy a modified singleblind ascendingdose phase iia study of donepezil plus solifenacin cpc201 lasting 26 weeks was conducted in 41 patients with probable ad of moderate severity entry criteria included the use of donepezil at a dose of 10 mgday during the preceding 3 months the primary outcome measure was the maximum tolerated dose mtd of donepezil achieved to protocol limit of 40 mgday when administered with the anticholinergic solifenacin 15 mgday secondary measures included assessments of cognitive and global function as well as of aes the mean  sd donepezil mtd increased to 38  074 mgday median 40 mgday p  0001 88 of the study population safely attained this dose at the end of titration markedly reduced donepezil ae frequency especially gastrointestinal allowed this dose increase there were no drugrelated serious aes or clinically significant laboratory abnormalities at 26 weeks alzheimers disease assessment scale cognitive component scores in the efficacy evaluable population improved by 035  085 points over baseline p  005 an estimated 25  084 points above 10 mgday donepezil and 54  084 points above historic placebo both p  005 clinical global impression of improvement scores improved by 094  020 to 31  020 points p  0001 the findings suggest that limiting donepezil aes by coadministration of solifenacin allows the safe administration of substantially higher cholinesterase inhibitors doses that may augment cognitive and global benefits in patients with ad'\n",
            " 'in this study a model is presented to obtain the parameters of penalty and reward scheme prs in performancebased regulation pbr for each electricity distribution company edc using analytical hierarchy process ahp and fuzzy cmeans clustering fcm in the fcm algorithm similar companies were categorized into clusters by using ahp score of effective factor in reliability index was obtained in this model external factors affecting edcs performance were considered to reduce the risk of pbr implementation for companies and customers the proposed model was applied on the edcs in iran the results including ahp score parameters of prs and prs cost were calculated c 2017 elsevier ltd all rights reserved']\n",
            "Number of domains:  11967\n",
            "Shape of domains:  (11967,)\n",
            "['Medical' 'ECE']\n",
            "Number of labels:  11967\n",
            "Shape of labels:  (11967,)\n",
            "['5' '1']\n",
            "['available cholinergic drugs for treating alzheimers disease ad provide modest symptomatic benefit we hypothesized that coadministration of a peripheral anticholinergic to reduce doselimiting adverse effects aes would enable the safetolerable use of higher cholinesterase inhibitor doses and thus improve their antidementia efficacy a modified singleblind ascendingdose phase iia study of donepezil plus solifenacin cpc201 lasting 26 weeks was conducted in 41 patients with probable ad of moderate severity entry criteria included the use of donepezil at a dose of 10 mgday during the preceding 3 months the primary outcome measure was the maximum tolerated dose mtd of donepezil achieved to protocol limit of 40 mgday when administered with the anticholinergic solifenacin 15 mgday secondary measures included assessments of cognitive and global function as well as of aes the mean  sd donepezil mtd increased to 38  074 mgday median 40 mgday p  0001 88 of the study population safely attained this dose at the end of titration markedly reduced donepezil ae frequency especially gastrointestinal allowed this dose increase there were no drugrelated serious aes or clinically significant laboratory abnormalities at 26 weeks alzheimers disease assessment scale cognitive component scores in the efficacy evaluable population improved by 035  085 points over baseline p  005 an estimated 25  084 points above 10 mgday donepezil and 54  084 points above historic placebo both p  005 clinical global impression of improvement scores improved by 094  020 to 31  020 points p  0001 the findings suggest that limiting donepezil aes by coadministration of solifenacin allows the safe administration of substantially higher cholinesterase inhibitors doses that may augment cognitive and global benefits in patients with ad'\n",
            " 'in this study a model is presented to obtain the parameters of penalty and reward scheme prs in performancebased regulation pbr for each electricity distribution company edc using analytical hierarchy process ahp and fuzzy cmeans clustering fcm in the fcm algorithm similar companies were categorized into clusters by using ahp score of effective factor in reliability index was obtained in this model external factors affecting edcs performance were considered to reduce the risk of pbr implementation for companies and customers the proposed model was applied on the edcs in iran the results including ahp score parameters of prs and prs cost were calculated c 2017 elsevier ltd all rights reserved'\n",
            " 'nuclear power uprates are investments in generation capacity that enable reactors to operate beyond their original power limit we find that owners of deregulated reactors are more likely to make investment in power uprates moreover after deregulation owners of boiling water reactors are more likely to choose extended power uprates epus that could add up to 20 percent of the original power but owners of pressurized water reactors another type of reactors for which epus are more technically challenging tend to select other types of uprates that add less of reactor power deregulation incentivizes reactor owners to pursue profitable investments and propels them to make careful investment decisions more consistent with the technological nature of their plants'\n",
            " 'rainfall analysis is essential for agricultural crop planning and water resources management especially under water scarcity conditions the 36 years 19772013 of rainfall data for kharagpur were analyzed for characterization of different seasonal events the weibulls formula predicted the probability of mean onset on 23rd standard meteorological weeks smw 3rd9th june and withdrawal on 43rd smw 21st27th october there was 8083 probability of a wet week pw occurring within 25th35th smw the first order markov chain process shows the conditional probability of one wet week preceded by another wet week pww varied between 0 and 86 whereas dry week preceded by another dry week pdd varied in the range of 70 to 100 the stochastic analysis of successive wet or dry weeks formulates the adaptation strategies to avoid the possible effect of wet or dry spell during cropping seasons the wet spell analysis suggests rainwater harvesting to control soil erosion and maximization of water use efficiency the probability of getting consecutive wet pww and dry days pdd were varied in the range of 4070 and 5090 respectively the probability of getting different magnitude of rainfall 10 to 40 mm during the monsoon weeks 25th39th week were found to be more than 50 probability level which suggest for harvesting of excess runoff water for future supplemental irrigation'\n",
            " 'an accurate analysis of the flow transient is very important in safety evaluation of a nuclear power plant in this study analysis of a vvvver1000 reactor is investigated in order to perform this analysis a model is developed to simulate the coupled kinetics and thermalhydraulics of the reactor with a simple and accurate numerical algorithm for thermalhydraulic calculations the fourequation driftflux model is applied based on a multichannel approach core is divided into some regions each region has different characteristics as represented in a single fuel pin with its associated coolant channel to obtain the core power distribution point kinetic equations with different feedback effects are utilized the appropriate initial and boundary conditions are considered and two situations of decreasing the coolant flow rate in a protected and unprotected core are analyzed in addition to analysis of normal operation condition a full range of thermalhydraulic parameters is obtained for transients too finally the data obtained from the model are compared with the calculations conducted using relap5mod3 code and bushehr nuclear power plant data it is shown that the model can provide accurate predictions for both steadystate and transient conditions'\n",
            " 'the current practice of discretetime electricity pricing starts to fall short in providing an accurate economic signal reflecting the continuoustime variations of load and generation schedule in power systems this paper introduces the fundamental mathematical theory of continuoustime marginal electricity pricing we first formulate the continuoustime unit commitment problem as a constrained variational problem and subsequently define the continuoustime economic dispatch ed problem where the binary commitment variables are fixed to their optimal values we then prove that the continuoustime marginal electricity price equals to the lagrange multiplier of the variational power balance constraint in the continuoustime ed problem the proposed continuoustime marginal price is not only dependent to the incremental generation cost rate but also to the incremental ramping cost rate of the units thus embedding the ramping costs in calculation of the marginal electricity price the numerical results demonstrate that the continuoustime marginal price manifests the behavior of the constantly varying load and generation schedule in power systems'\n",
            " 'a permeability measurement method based on perturbed pressure decay between a source and a sink communicating through a porous medium is formulated nonideality of gas as well as corrections due to adsorption are considered the method allows us to infer permeability at a given rock and fluid state the accuracy of the method may be evaluated through comparison with theoretical decay characteristics and its modal amplitudes a quantitative evaluation of the experimental inference is therefore possible based on the pressure decay theory an apparatus built in our laboratory for measuring permeability is presented as a secondary output data analysis also provides porosity the lowest permeability that the present apparatus is capable of characterizing is about 03 nm2 and with additional improvements capability down to 005 nm2 is anticipated where a steadystate permeameter is pragmatic excellent agreement between the two measurements is showed validating the method measurements in synthetic samples also show that the method is accurate porosity data from a standard helium pycnometer confirm the porosity obtained from the decay method c 2015 american institute of chemical engineers aiche j 62 12781293 2016'\n",
            " 'the use of drugs with intrinsic anticholinergic properties is widespread among old age persons a growing body of evidences suggest that a high anticholinergic burden is associated with physical and cognitive impairment however the association between anticholinergic drug use and functional status is still poorly investigated particularly among subjects with initial cognitive impairment crosssectional study examining the association between drugrelated anticholinergic burden and functional status in cognitively healthy ch n691 mild cognitive impairment mci n541 or mild alzheimers diseases ad n1127 subjects data were gathered from the regal project rete geriatrica alzheimergeriatric network on alzheimers disease a large longitudinal italian multicentric clinicalbased study promoted by the italian society of gerontology and geriatrics sigg 2359 outpatients older than 65 years admitted to memory clinics the total sample size estimated according to a global effect size of 25 with type i error of 005 and a power of 95 is 2010 subjects functional status was evaluated by the katz index of independence in activities of daily living adl and the lawtonbrody instrumental activities of daily living iadl scales the drugrelated anticholinergic burden was estimated by the anticholinergic risk scale ars the 159  n375 of total population used at least one drug with anticholinergic properties such a drug use was associated with partially dependence in adl or142 ci95 110183 p0006 independently of gender number of drugs comorbidity index presence of clinically relevant neuropsychiatric symptoms and adjusted mmse anticholinergic drug use was associated with unability at each iadl task only in male mci subjects with significant impairment in shopping p0011 and drug management p005 the use of medications with anticholinergic properties is common among older persons cognitively health as well as with cognitive impairment our results suggest that the use of anticholinergic drugs is associated with functional impairment especially in old age subjects with initial cognitive impairment minimizing anticholinergic burden should result in maintaining daily functioning especially in a vulnerable population such as mci and mild ad'\n",
            " 'previous studies have shown that female infidelity attachment insecurity and male sexual coercion in intimate relationships are empirically related to each other however the mechanisms that are involved remain poorly understood the study aimed to examine two mediating models of male sexual coercion concerning first sex in chinese college students dating relationships perceived female infidelity or attachment insecurity as the mediator with both male and female participants not using dyadic data a total of 927 validly completed questionnaires provided the data the respondents were recruited by purposive snowball sampling of students attending colleges in five of chinas largest cities who were currently in a romantic relationship first with both the male and female samples perceived female infidelity was positively correlated with violence threat coercive tactics and with the male sample only it was positively correlated with emotional manipulation coercive tactics second with the male sample only male partners attachment insecurity anxiety and avoidance were positively correlated with perceived female infidelity third male partners attachment anxiety fully mediated the relationship between perceived female infidelity and emotional manipulation coercive tactics these findings suggest how the proximate and ultimate causes of sexual coercion in intimate relationships interact implications for clinical practice are discussed c 2017 elsevier ltd all rights reserved'\n",
            " 'this study focuses on characterizing the effect of a high salt diet hsd on intestinal immunity and the risk of inflammatory bowel diseases ibd we found that mice on a hsd had an increased frequency of il17a producing cells in the intestinal lamina propria lp compared to mice on a normal diet nd furthermore most intestinal il17a producing cells were cd4tcr beta cells a hsd increased the lp t helper 17 th17 responses in both the small and large intestines but did not increase the th17 response of other gutassociated lymphoid organ although hsd did not change the percentage of regulatory t treg cells hsd significantly inhibit secretion of il10 and the suppressive function of treg cells moreover we found that hsd exacerbates trinitrobenzenesulfonic acid tnbs induced colitis and th17 response was significantly increased in the colonic lp of hsd tnbstreated mice compared with the nd tnbstreated mice this study demonstrates that hsd stimulates the intestinal th17 response but inhibits the function of treg cells moreover hsd exacerbates tnbs induced mice colitis suggesting that hsd disrupts the intestinal immunity and increases the risk of ibd']\n",
            "[' dementia clinical trial donepezil solifenacin cholinesterase inhibitor anticholinergic        '\n",
            " ' performancebased regulation distribution system reliability rewardandpenalty scheme analytical hierarchy process fuzzy cmeans clustering        '\n",
            " ' deregulation power uprate investment efficiency generation capacity nuclear energy electricity market        '\n",
            " ' conditional probability markov chain model onset and withdrawal of monsoon supplemental irrigation modified weibulls distribution        '\n",
            " ' relap5 driftflux model nuclear reactor nuclear power plant wwer1000        '\n",
            " ' continuoustime marginal electricity price generation trajectory ramping trajectory variational problem        '\n",
            " ' porous media fluid mechanics mathematical modeling gas permeability        '\n",
            " ' elderly functional status cognitive impairment drug anticholinergic burden        '\n",
            " ' female infidelity male sexual coercion attachment insecurity first sex        '\n",
            " ' high salt diet th17 cells regulatory t cells inflammatory bowel diseases intestinal immunity immunology and microbiology section immune response immunity        ']\n",
            "['Medical' 'ECE' 'ECE' 'Civil' 'MAE' 'ECE' 'MAE' 'Medical' 'Medical'\n",
            " 'biochemistry']\n",
            "['5' '1' '1' '4' '3' '1' '3' '5' '5' '6']\n",
            "[5 1 1 4 3 1 3 5 5 6]\n"
          ]
        }
      ],
      "source": [
        "# Shuffle data\n",
        "dataShuffled = sklearn.utils.shuffle(tsvData)\n",
        "\n",
        "abstractsShuffled = dataShuffled[:,3]\n",
        "keywordsShuffled = dataShuffled[:,2]\n",
        "domainsShuffled = dataShuffled[:,1]\n",
        "allLabelsShuffled = dataShuffled[:,0]\n",
        "\n",
        "print(\"Number of abstracts: \", len(abstractsShuffled))\n",
        "print(\"Shape of abstracts: \", np.shape(abstractsShuffled))\n",
        "print(abstractsShuffled[0:2])\n",
        "\n",
        "print(\"Number of keywords: \", len(keywordsShuffled))\n",
        "print(\"Shape of keywords: \", np.shape(keywordsShuffled))\n",
        "print(abstractsShuffled[0:2])\n",
        "\n",
        "print(\"Number of domains: \", len(domainsShuffled))\n",
        "print(\"Shape of domains: \", np.shape(domainsShuffled))\n",
        "print(domainsShuffled[0:2])\n",
        "\n",
        "print(\"Number of labels: \", len(allLabelsShuffled))\n",
        "print(\"Shape of labels: \", np.shape(allLabelsShuffled))\n",
        "print(allLabelsShuffled[0:2])\n",
        "\n",
        "\n",
        "# Convert labels to integer\n",
        "allLabelsDigitShuffled = allLabelsShuffled.astype(int)\n",
        "\n",
        "print(abstractsShuffled[0:10])\n",
        "print(keywordsShuffled[0:10])\n",
        "print(domainsShuffled[0:10])\n",
        "print(allLabelsShuffled[0:10])\n",
        "print(allLabelsDigitShuffled[0:10])"
      ]
    },
    {
      "cell_type": "code",
      "execution_count": 12,
      "metadata": {
        "colab": {
          "base_uri": "https://localhost:8080/",
          "height": 292,
          "referenced_widgets": [
            "fbb2584688da442a8a2915be035de71b",
            "74a2b831ca614b4a93efc4e93a53c221",
            "b0c53b4e6b9148fab61119a7272747b1",
            "6fc63a9d3c874562890cb61355a4a55f",
            "88b9b4fb5c454f68836ee49262753809",
            "595d851c1be7430e88a00b489d65b807",
            "6bd24cf506fb407ea90b6b656582ba0e",
            "84f285adc9744d04a1788233ae97ecfa",
            "bff47801dfd346d4b6931f7b11794d7c",
            "906ace30dfc14d14aae62ac0c43527a8",
            "9f86e43652f249b885e854237c60298e",
            "ef4f9deb9a6347cdae6fe5033c649cff",
            "9ad32a3825e24bafa5594c10d21602d8",
            "66c24a0a3a4841df9b4256415ffb2ccb",
            "b3fca455b3984812817b3a964315ea2b",
            "060089395315405ea232a70ee62205bc",
            "11bc2dc49302486ca13be899d04d20bf",
            "60c56f90a3ae4e39880ba0c05a6296a3",
            "d948679ecd1c40aeb3bf7a8cf416bdd1",
            "7dfef7db5c934fc18fadd4fbb767dbc3",
            "15d5a9b1562b43358d7c686cb0cba3c9",
            "efe558121ebe43b8a6a12440cf9df9a8"
          ]
        },
        "id": "oE8v68D2DN6A",
        "outputId": "5eb52314-0053-41ef-c2a7-1f45208119df"
      },
      "outputs": [
        {
          "output_type": "stream",
          "name": "stdout",
          "text": [
            "(9573, 4)\n",
            "(2394, 4)\n",
            "(9573, 4)\n",
            "(2394, 4)\n",
            "(479, 4)\n"
          ]
        },
        {
          "output_type": "stream",
          "name": "stderr",
          "text": [
            "/usr/local/lib/python3.10/dist-packages/huggingface_hub/utils/_token.py:89: UserWarning: \n",
            "The secret `HF_TOKEN` does not exist in your Colab secrets.\n",
            "To authenticate with the Hugging Face Hub, create a token in your settings tab (https://huggingface.co/settings/tokens), set it as secret in your Google Colab and restart your session.\n",
            "You will be able to reuse this secret in all of your notebooks.\n",
            "Please note that authentication is recommended but still optional to access public models or datasets.\n",
            "  warnings.warn(\n"
          ]
        },
        {
          "output_type": "display_data",
          "data": {
            "text/plain": [
              "config.json:   0%|          | 0.00/314 [00:00<?, ?B/s]"
            ],
            "application/vnd.jupyter.widget-view+json": {
              "version_major": 2,
              "version_minor": 0,
              "model_id": "fbb2584688da442a8a2915be035de71b"
            }
          },
          "metadata": {}
        },
        {
          "output_type": "display_data",
          "data": {
            "text/plain": [
              "vocab.txt:   0%|          | 0.00/232k [00:00<?, ?B/s]"
            ],
            "application/vnd.jupyter.widget-view+json": {
              "version_major": 2,
              "version_minor": 0,
              "model_id": "ef4f9deb9a6347cdae6fe5033c649cff"
            }
          },
          "metadata": {}
        }
      ],
      "source": [
        "# Split dataset into training and testing (80/20 split)\n",
        "train_data, test_data = train_test_split(dataShuffled, test_size=0.2, random_state=42)\n",
        "print(np.shape(train_data))\n",
        "print(np.shape(test_data))\n",
        "\n",
        "# Further split training data into training and validation (80/20 split of training set)\n",
        "_, val_data = train_test_split(test_data, test_size=0.2, random_state=42)\n",
        "print(np.shape(train_data))\n",
        "print(np.shape(test_data))\n",
        "print(np.shape(val_data))\n",
        "# Load SciBERT tokenizer\n",
        "tokenizer = AutoTokenizer.from_pretrained(\"bionlp/bluebert_pubmed_uncased_L-24_H-1024_A-16\")"
      ]
    },
    {
      "cell_type": "code",
      "execution_count": 13,
      "metadata": {
        "colab": {
          "base_uri": "https://localhost:8080/"
        },
        "id": "ONFXZGUUDN6A",
        "outputId": "92ccc0c8-a64a-4fb4-fb13-9b0be40f3068"
      },
      "outputs": [
        {
          "output_type": "stream",
          "name": "stdout",
          "text": [
            "Number of abstracts:  9573\n",
            "Shape of abstracts:  (9573,)\n",
            "Number of keywords:  9573\n",
            "Shape of keywords:  (9573,)\n",
            "Number of domains:  9573\n",
            "Shape of domains:  (9573,)\n",
            "Number of labels:  9573\n",
            "Shape of labels:  (9573,)\n",
            "['the requirements concerning the technical availability as part of the overall equipment effectiveness increase constantly in production nowadays unplanned downtimes have to be prevented via efficient methods predictive conditionbased maintenance represents a valuable approach for fulfilling these demands but precise models for state estimation are missing from the manufacturers point of view the challenge consists in wear models with the capability of specifying the correct components state as well as providing reliable failure forecasts unfortunately nowadays creation of wear models is based on specific stress tests or design of experiments from the manufacturer the integration of the production phase or even data feedback and user knowledge does not take place new potential is promised by crosscutting technologies from ict like cloud technologiesin general virtual platform conceptsor approaches of machine learning as enabling technologies the objective of this paper is to adopt existing algorithms to the new application of condition monitoring in order to evaluate the applicability for automated training of robust wear models in that context the most commonly used algorithms are described and the reader gets an impression what challenges have to be met when dealing with machine learning a selection of about ten algorithms with 45 variants is evaluated for four different features within a packaging machine in the outlook the embedding of the trained model in a cloud architecture is presented'\n",
            " 'this paper deals with the design the modeling and the simulation of two electrical circuits devoted to kinetic piezoelectric energy harvesters for powering distributed control cells two schemes are proposed analyzed and discussed the first is a based on classical electrical stages and the second integrates a novel multiplierrectifier stage which permits to reduce the voltage loss simulation and experimental tests are carried out and demonstrate the advantage of the second scheme relative to the first one']\n",
            "[' state estimation condition monitoring machine learning algorithms        '\n",
            " ' piezoelectric energy harvesting electrical circuit booster rectifier voltage multiplier oscillator adaptator        ']\n",
            "['CS' 'ECE']\n",
            "['0' '1']\n"
          ]
        }
      ],
      "source": [
        "abstractsTrain = train_data[:,3]\n",
        "keywordsTrain = train_data[:,2]\n",
        "domainsTrain = train_data[:,1]\n",
        "allLabelsTrain = train_data[:,0]\n",
        "\n",
        "print(\"Number of abstracts: \",len(abstractsTrain))\n",
        "print(\"Shape of abstracts: \",np.shape(abstractsTrain))\n",
        "print(\"Number of keywords: \",len(keywordsTrain))\n",
        "print(\"Shape of keywords: \",np.shape(keywordsTrain))\n",
        "print(\"Number of domains: \",len(domainsTrain))\n",
        "print(\"Shape of domains: \",np.shape(domainsTrain))\n",
        "print(\"Number of labels: \",len(allLabelsTrain))\n",
        "print(\"Shape of labels: \",np.shape(allLabelsTrain))\n",
        "\n",
        "print(abstractsTrain[0:2])\n",
        "print(keywordsTrain[0:2])\n",
        "print(domainsTrain[0:2])\n",
        "print(allLabelsTrain[0:2])"
      ]
    },
    {
      "cell_type": "code",
      "execution_count": 14,
      "metadata": {
        "colab": {
          "base_uri": "https://localhost:8080/",
          "height": 577
        },
        "id": "RBJjrIkeDN6A",
        "outputId": "becd37ca-4602-4471-9d8c-e631a258644a"
      },
      "outputs": [
        {
          "output_type": "stream",
          "name": "stdout",
          "text": [
            "Labels  ['CS' 'Civil' 'ECE' 'MAE' 'Medical' 'Psychology' 'biochemistry']\n",
            "Label counts  [1207 1657  908 1533 1308 1586 1374]\n"
          ]
        },
        {
          "output_type": "display_data",
          "data": {
            "text/plain": [
              "<Figure size 1000x600 with 1 Axes>"
            ],
            "image/png": "[encoded data removed]"
          },
          "metadata": {}
        },
        {
          "output_type": "stream",
          "name": "stdout",
          "text": [
            "The domain CS has 1207 records in the training set.\n",
            "The domain Civil has 1657 records in the training set.\n",
            "The domain ECE has 908 records in the training set.\n",
            "The domain MAE has 1533 records in the training set.\n",
            "The domain Medical has 1308 records in the training set.\n",
            "The domain Psychology has 1586 records in the training set.\n",
            "The domain biochemistry has 1374 records in the training set.\n"
          ]
        }
      ],
      "source": [
        "labels = np.unique(domainsTrain, return_counts=True)[0]\n",
        "labelCounts =  np.unique(domainsTrain, return_counts=True)[1]\n",
        "\n",
        "print(\"Labels \", labels)\n",
        "print(\"Label counts \", labelCounts)\n",
        "\n",
        "nAbstract = len(abstractsTrain)\n",
        "plt.figure(figsize=(10, 6))\n",
        "plt.title(\"Domain Counts (Training Set)\")\n",
        "plt.pie(labelCounts, labels=labels, autopct='%1.1f%%', startangle=140, colors=plt.cm.Paired(range(len(labels))))\n",
        "plt.axis('equal')  # Equal aspect ratio ensures that pie is drawn as a circle.\n",
        "plt.show()\n",
        "\n",
        "for i, domain in enumerate(labels):\n",
        "    print(\"The domain\", domain, \"has\", labelCounts[i], \"records in the training set.\")"
      ]
    },
    {
      "cell_type": "code",
      "execution_count": 15,
      "metadata": {
        "colab": {
          "base_uri": "https://localhost:8080/"
        },
        "id": "o4urSnRFDN6B",
        "outputId": "244b2662-159a-4deb-e776-76e31d8e2505"
      },
      "outputs": [
        {
          "output_type": "stream",
          "name": "stdout",
          "text": [
            "Number of abstracts:  2394\n",
            "Shape of abstracts:  (2394,)\n",
            "Number of keywords:  2394\n",
            "Shape of keywords:  (2394,)\n",
            "Number of domains:  2394\n",
            "Shape of domains:  (2394,)\n",
            "Number of labels:  2394\n",
            "Shape of labels:  (2394,)\n",
            "['background the incidence of spinal epidural hematoma seh is estimated to be 1 per 1000000 patients per year seh can be classified as idiopathic spontaneous and secondary the cause of spontaneous seh is uncertain but it may be associated with minor trauma seh can compress surrounding structures shown by clinical symptoms and signs that affect the spinal cord or nerve roots surgical treatment may be considered if medical treatment fails case description a 26yearold man presented with lower back pain and significant radicular symptoms on the left side for a week he denied previous lumbar trauma or the use of anticoagulation drugs we used the fullendoscopic transforaminal approach extraforaminal technique to remove the seh under local anesthesia the patient was discharged home 2 days after surgery and the radicular pain disappeared completely three months later followup magnetic resonance imaging showed that the darkbrown lesion had been totally removed conclusions spontaneous sehs are uncommon although lumbar laminectomy is the mainstream treatment in those with neurologic deficits caused by epidural hematomas the percutaneous fullendoscopic transforaminal approach may be an option for certain sehs'\n",
            " 'females are two times as likely as males to develop generalized anxiety disorder gad steiner et al 2005 vesgalopez et al 2008 moreover the clinical presentation of gad is different across genders one explanation for these differences may be the role of cognitive biases involved in gad between genders in the present study we used an exogenous spatial cueing task to examine gender differences in attentional bias for negative and positive information in 118 individuals with a primary diagnosis of gad males and females did not differ in their attentional bias for idiographically selected negative or neutral words however women showed a significantly larger attentional bias for positive words than did men results suggest that developing genderspecific treatments for gad could improve treatment response rates']\n",
            "[' extraforaminal full endoscopic lumbar spine spinal epidural hematoma transforaminal        '\n",
            " ' generalized anxiety disorder attentional bias gender        ']\n",
            "['Medical' 'Medical']\n",
            "['5' '5']\n"
          ]
        }
      ],
      "source": [
        "abstractsTest = test_data[:,3]\n",
        "keywordsTest = test_data[:,2]\n",
        "domainsTest = test_data[:,1]\n",
        "allLabelsTest = test_data[:,0]\n",
        "\n",
        "print(\"Number of abstracts: \",len(abstractsTest))\n",
        "print(\"Shape of abstracts: \",np.shape(abstractsTest))\n",
        "print(\"Number of keywords: \",len(keywordsTest))\n",
        "print(\"Shape of keywords: \",np.shape(keywordsTest))\n",
        "print(\"Number of domains: \",len(domainsTest))\n",
        "print(\"Shape of domains: \",np.shape(domainsTest))\n",
        "print(\"Number of labels: \",len(allLabelsTest))\n",
        "print(\"Shape of labels: \",np.shape(allLabelsTest))\n",
        "\n",
        "# arr = np.array(domainsTest)\n",
        "# cleaned_domains = np.char.strip(arr)\n",
        "# print(\"Cleaned arr \", cleaned_domains)\n",
        "# domainsLabelsTest = cleaned_domains\n",
        "# print(\"Labels domains \", domainsLabelsTest)\n",
        "\n",
        "print(abstractsTest[0:2])\n",
        "print(keywordsTest[0:2])\n",
        "print(domainsTest[0:2])\n",
        "print(allLabelsTest[0:2])"
      ]
    },
    {
      "cell_type": "code",
      "execution_count": 16,
      "metadata": {
        "colab": {
          "base_uri": "https://localhost:8080/",
          "height": 578
        },
        "id": "wXDx7H28DN6B",
        "outputId": "a85f6ba6-6355-4168-c4a5-29408809b503"
      },
      "outputs": [
        {
          "output_type": "stream",
          "name": "stdout",
          "text": [
            "Labels  ['CS' 'Civil' 'ECE' 'MAE' 'Medical' 'Psychology' 'biochemistry']\n",
            "Label counts  [292 450 224 392 309 373 354]\n"
          ]
        },
        {
          "output_type": "display_data",
          "data": {
            "text/plain": [
              "<Figure size 1000x600 with 1 Axes>"
            ],
            "image/png": "[encoded data removed]"
          },
          "metadata": {}
        },
        {
          "output_type": "stream",
          "name": "stdout",
          "text": [
            "The domain CS has 292 records in the test set.\n",
            "The domain Civil has 450 records in the test set.\n",
            "The domain ECE has 224 records in the test set.\n",
            "The domain MAE has 392 records in the test set.\n",
            "The domain Medical has 309 records in the test set.\n",
            "The domain Psychology has 373 records in the test set.\n",
            "The domain biochemistry has 354 records in the test set.\n"
          ]
        }
      ],
      "source": [
        "labels = np.unique(domainsTest, return_counts=True)[0]\n",
        "labelCounts =  np.unique(domainsTest, return_counts=True)[1]\n",
        "\n",
        "print(\"Labels \", labels)\n",
        "print(\"Label counts \", labelCounts)\n",
        "\n",
        "nAbstract = len(abstractsTest)\n",
        "plt.figure(figsize=(10, 6))\n",
        "plt.title(\"Domain Counts (Test Set)\")\n",
        "plt.pie(labelCounts, labels=labels, autopct='%1.1f%%', startangle=140, colors=plt.cm.Paired(range(len(labels))))\n",
        "plt.axis('equal')  # Equal aspect ratio ensures that pie is drawn as a circle.\n",
        "plt.show()\n",
        "\n",
        "for i, domain in enumerate(labels):\n",
        "    print(\"The domain\", domain, \"has\", labelCounts[i], \"records in the test set.\")"
      ]
    },
    {
      "cell_type": "code",
      "execution_count": 17,
      "metadata": {
        "colab": {
          "base_uri": "https://localhost:8080/"
        },
        "id": "zkEyui06DN6B",
        "outputId": "b1df6f5a-72db-4ab5-b81e-4754ce867714"
      },
      "outputs": [
        {
          "output_type": "stream",
          "name": "stdout",
          "text": [
            "Number of abstracts:  479\n",
            "Shape of abstracts:  (479,)\n",
            "Number of keywords:  479\n",
            "Shape of keywords:  (479,)\n",
            "Number of domains:  479\n",
            "Shape of domains:  (479,)\n",
            "Number of labels:  479\n",
            "Shape of labels:  (479,)\n",
            "['wireless sensor networks wsns are a collection of several small and inexpensive batterypowered nodes commonly used to monitor regions of interests and to collect data from the environment several issues exist in routing data packets through wsn but the most crucial problem is energy there are a number of routing approaches in wsns that address the issue of energy by the use of different energyefficient methods this paper presents a brief summary of routing and related issues in wsns the most recent energyefficient data routing approaches are reviewed and categorized based on their aims and methodologies the traditional battery based energy sources for sensor nodes and the conventional energy harvesting mechanisms that are widely used to in energy replenishment in wsn are reviewed then a new emerging energy harvesting technology that uses piezoelectric nanogenerators to supply power to nanosensor the type of sensors that cannot be charged by conventional energy harvesters are explained the energy consumption reduction routing strategies in wsn are also discussed furthermore comparisons of the variety of energy harvesting mechanisms and battery power routing protocols that have been discussed are presented eliciting their advantages disadvantages and their specific feature finally a highlight of the challenges and future works in this research domain is presented'\n",
            " 'most psychotherapists and researchers agree that a good relationship essentially contributes to therapeutic change the psychoanalytic concepts transference and countertransference which describe fundamental aspects of the psychotherapeutic relationship have now become integrated into behavior therapy these concepts however are used differently in psychoanalysis as well as in behavior therapy this makes the communication between psychotherapists coming from different orientations difficult therefore a research approach which describes the important verbal and nonverbal elements of a helpful therapeutic interaction independently from therapeutic orientation could help to evaluate their effectiveness in different psychotherapeutic methods in this way a culture of integration into psychotherapy could be encouraged']\n",
            "[' energy harvesting battery power routing piezoelectric nanogenerators sensor nodes        '\n",
            " ' professional patient relationship psychotherapeutic processes nonverbal communication conflict affect        ']\n",
            "['Civil' 'Psychology']\n",
            "['4' '2']\n"
          ]
        }
      ],
      "source": [
        "abstractsVal = val_data[:,3]\n",
        "keywordsVal = val_data[:,2]\n",
        "domainsVal = val_data[:,1]\n",
        "allLabelsVal = val_data[:,0]\n",
        "\n",
        "print(\"Number of abstracts: \",len(abstractsVal))\n",
        "print(\"Shape of abstracts: \",np.shape(abstractsVal))\n",
        "print(\"Number of keywords: \",len(keywordsVal))\n",
        "print(\"Shape of keywords: \",np.shape(keywordsVal))\n",
        "print(\"Number of domains: \",len(domainsVal))\n",
        "print(\"Shape of domains: \",np.shape(domainsVal))\n",
        "print(\"Number of labels: \",len(allLabelsVal))\n",
        "print(\"Shape of labels: \",np.shape(allLabelsVal))\n",
        "\n",
        "print(abstractsVal[0:2])\n",
        "print(keywordsVal[0:2])\n",
        "print(domainsVal[0:2])\n",
        "print(allLabelsVal[0:2])"
      ]
    },
    {
      "cell_type": "code",
      "execution_count": 18,
      "metadata": {
        "colab": {
          "base_uri": "https://localhost:8080/",
          "height": 578
        },
        "id": "1ax8-nZaDN6B",
        "outputId": "6b136056-0d2e-4546-b085-aed97d15ab59"
      },
      "outputs": [
        {
          "output_type": "stream",
          "name": "stdout",
          "text": [
            "Labels  ['CS' 'Civil' 'ECE' 'MAE' 'Medical' 'Psychology' 'biochemistry']\n",
            "Label counts  [58 97 41 75 56 76 76]\n"
          ]
        },
        {
          "output_type": "display_data",
          "data": {
            "text/plain": [
              "<Figure size 1000x600 with 1 Axes>"
            ],
            "image/png": "[encoded data removed]"
          },
          "metadata": {}
        },
        {
          "output_type": "stream",
          "name": "stdout",
          "text": [
            "The domain CS has 58 records in the vaidation set.\n",
            "The domain Civil has 97 records in the vaidation set.\n",
            "The domain ECE has 41 records in the vaidation set.\n",
            "The domain MAE has 75 records in the vaidation set.\n",
            "The domain Medical has 56 records in the vaidation set.\n",
            "The domain Psychology has 76 records in the vaidation set.\n",
            "The domain biochemistry has 76 records in the vaidation set.\n"
          ]
        }
      ],
      "source": [
        "labels = np.unique(domainsVal, return_counts=True)[0]\n",
        "labelCounts =  np.unique(domainsVal, return_counts=True)[1]\n",
        "\n",
        "print(\"Labels \", labels)\n",
        "print(\"Label counts \", labelCounts)\n",
        "\n",
        "nAbstract = len(abstractsVal)\n",
        "plt.figure(figsize=(10, 6))\n",
        "plt.title(\"Domain Counts (Validation Set)\")\n",
        "plt.pie(labelCounts, labels=labels, autopct='%1.1f%%', startangle=140, colors=plt.cm.Paired(range(len(labels))))\n",
        "plt.axis('equal')  # Equal aspect ratio ensures that pie is drawn as a circle.\n",
        "plt.show()\n",
        "\n",
        "for i, domain in enumerate(labels):\n",
        "    print(\"The domain\", domain, \"has\", labelCounts[i], \"records in the vaidation set.\")"
      ]
    },
    {
      "cell_type": "code",
      "execution_count": 19,
      "metadata": {
        "id": "sxbOFbMrDN6C"
      },
      "outputs": [],
      "source": [
        "# Function to tokenize and encode the dataset\n",
        "def encode_data(data, tokenizer, max_length=128):\n",
        "    # print(len(data[:,2]))\n",
        "    inputs = tokenizer(\n",
        "        data[:,3].tolist(), # abstracts\n",
        "        max_length=max_length,\n",
        "        padding='max_length',\n",
        "        truncation=True,\n",
        "        return_tensors=\"pt\"\n",
        "    )\n",
        "    # print(len(dataShuffled[:, 0]))\n",
        "    labels = torch.tensor(data[:, 0].astype(int))\n",
        "    print(\"Label length \", len(labels))\n",
        "    return TensorDataset(inputs['input_ids'], inputs['attention_mask'], labels)"
      ]
    },
    {
      "cell_type": "code",
      "execution_count": 20,
      "metadata": {
        "colab": {
          "base_uri": "https://localhost:8080/"
        },
        "id": "Y8_HDuDUDN6C",
        "outputId": "6eb84ab7-aba8-4851-a643-1bf89d910453"
      },
      "outputs": [
        {
          "output_type": "stream",
          "name": "stdout",
          "text": [
            "(9573, 4)\n",
            "(2394, 4)\n",
            "(479, 4)\n"
          ]
        }
      ],
      "source": [
        "print(np.shape(train_data))\n",
        "print(np.shape(test_data))\n",
        "print(np.shape(val_data))\n"
      ]
    },
    {
      "cell_type": "code",
      "execution_count": 21,
      "metadata": {
        "colab": {
          "base_uri": "https://localhost:8080/"
        },
        "id": "c6avATPgDN6C",
        "outputId": "8b7442b2-658f-478a-fe02-d6e6ad213f5c"
      },
      "outputs": [
        {
          "output_type": "stream",
          "name": "stdout",
          "text": [
            "Label length  9573\n",
            "Label length  479\n",
            "Label length  2394\n"
          ]
        }
      ],
      "source": [
        "# Encode training, validation, and testing data\n",
        "train_dataset = encode_data(train_data, tokenizer)\n",
        "val_dataset = encode_data(val_data, tokenizer)\n",
        "test_dataset = encode_data(test_data, tokenizer)\n",
        "\n",
        "\n",
        "\n",
        "# Data loaders\n",
        "train_dataloader = DataLoader(train_dataset, sampler=RandomSampler(train_dataset), batch_size=32)\n",
        "val_dataloader = DataLoader(val_dataset, sampler=SequentialSampler(val_dataset), batch_size=32)\n",
        "test_dataloader = DataLoader(test_dataset, sampler=SequentialSampler(test_dataset), batch_size=32)"
      ]
    },
    {
      "cell_type": "code",
      "execution_count": 22,
      "metadata": {
        "colab": {
          "base_uri": "https://localhost:8080/",
          "height": 902,
          "referenced_widgets": [
            "7169540b1f16437bb541890a7c4e1274",
            "49236e5742f043d1be2551c31a03e09e",
            "31f2b3ae6d2a481a94666754690d0e29",
            "137641ee24cb441ea9a7605ffbaf744f",
            "3a18f9bcef8e4c2da52b555edfab0efd",
            "5d3d743da2aa49249c8334661d26d396",
            "b800a31478b14f5a812ca842d943e3b0",
            "451694cb224d4c8980959b9c255a3b6e",
            "92f44e8bd241494dbfdcb6ccd5200ed5",
            "32dbda5ab0b640b287b4b63cf1fa877d",
            "f77a78ec3d314b4ca66630c1c628e885"
          ]
        },
        "id": "ybVLIN-JDN6C",
        "outputId": "61c8d27a-ec80-4322-b7ad-7886f3bb8022"
      },
      "outputs": [
        {
          "output_type": "stream",
          "name": "stdout",
          "text": [
            "7\n"
          ]
        },
        {
          "output_type": "display_data",
          "data": {
            "text/plain": [
              "pytorch_model.bin:   0%|          | 0.00/1.35G [00:00<?, ?B/s]"
            ],
            "application/vnd.jupyter.widget-view+json": {
              "version_major": 2,
              "version_minor": 0,
              "model_id": "7169540b1f16437bb541890a7c4e1274"
            }
          },
          "metadata": {}
        },
        {
          "output_type": "stream",
          "name": "stderr",
          "text": [
            "Some weights of BertForSequenceClassification were not initialized from the model checkpoint at bionlp/bluebert_pubmed_uncased_L-24_H-1024_A-16 and are newly initialized: ['classifier.bias', 'classifier.weight']\n",
            "You should probably TRAIN this model on a down-stream task to be able to use it for predictions and inference.\n"
          ]
        },
        {
          "output_type": "execute_result",
          "data": {
            "text/plain": [
              "BertForSequenceClassification(\n",
              "  (bert): BertModel(\n",
              "    (embeddings): BertEmbeddings(\n",
              "      (word_embeddings): Embedding(30522, 1024, padding_idx=0)\n",
              "      (position_embeddings): Embedding(512, 1024)\n",
              "      (token_type_embeddings): Embedding(2, 1024)\n",
              "      (LayerNorm): LayerNorm((1024,), eps=1e-12, elementwise_affine=True)\n",
              "      (dropout): Dropout(p=0.1, inplace=False)\n",
              "    )\n",
              "    (encoder): BertEncoder(\n",
              "      (layer): ModuleList(\n",
              "        (0-23): 24 x BertLayer(\n",
              "          (attention): BertAttention(\n",
              "            (self): BertSdpaSelfAttention(\n",
              "              (query): Linear(in_features=1024, out_features=1024, bias=True)\n",
              "              (key): Linear(in_features=1024, out_features=1024, bias=True)\n",
              "              (value): Linear(in_features=1024, out_features=1024, bias=True)\n",
              "              (dropout): Dropout(p=0.1, inplace=False)\n",
              "            )\n",
              "            (output): BertSelfOutput(\n",
              "              (dense): Linear(in_features=1024, out_features=1024, bias=True)\n",
              "              (LayerNorm): LayerNorm((1024,), eps=1e-12, elementwise_affine=True)\n",
              "              (dropout): Dropout(p=0.1, inplace=False)\n",
              "            )\n",
              "          )\n",
              "          (intermediate): BertIntermediate(\n",
              "            (dense): Linear(in_features=1024, out_features=4096, bias=True)\n",
              "            (intermediate_act_fn): GELUActivation()\n",
              "          )\n",
              "          (output): BertOutput(\n",
              "            (dense): Linear(in_features=4096, out_features=1024, bias=True)\n",
              "            (LayerNorm): LayerNorm((1024,), eps=1e-12, elementwise_affine=True)\n",
              "            (dropout): Dropout(p=0.1, inplace=False)\n",
              "          )\n",
              "        )\n",
              "      )\n",
              "    )\n",
              "    (pooler): BertPooler(\n",
              "      (dense): Linear(in_features=1024, out_features=1024, bias=True)\n",
              "      (activation): Tanh()\n",
              "    )\n",
              "  )\n",
              "  (dropout): Dropout(p=0.1, inplace=False)\n",
              "  (classifier): Linear(in_features=1024, out_features=7, bias=True)\n",
              ")"
            ]
          },
          "metadata": {},
          "execution_count": 22
        }
      ],
      "source": [
        "# Load SciBERT model\n",
        "print(len(np.unique(train_data[:,0])))\n",
        "model = AutoModelForSequenceClassification.from_pretrained(\"bionlp/bluebert_pubmed_uncased_L-24_H-1024_A-16\", num_labels=len(np.unique(train_data[:,0])))\n",
        "device = torch.device(\"cuda\" if torch.cuda.is_available() else \"cpu\")\n",
        "model.to(device)"
      ]
    },
    {
      "cell_type": "code",
      "execution_count": 23,
      "metadata": {
        "colab": {
          "base_uri": "https://localhost:8080/"
        },
        "id": "ps1DInjXDN6C",
        "outputId": "283ff6df-a3da-4d7a-b9de-5108e094f96f"
      },
      "outputs": [
        {
          "output_type": "execute_result",
          "data": {
            "text/plain": [
              "BertConfig {\n",
              "  \"_name_or_path\": \"bionlp/bluebert_pubmed_uncased_L-24_H-1024_A-16\",\n",
              "  \"attention_probs_dropout_prob\": 0.1,\n",
              "  \"classifier_dropout\": null,\n",
              "  \"hidden_act\": \"gelu\",\n",
              "  \"hidden_dropout_prob\": 0.1,\n",
              "  \"hidden_size\": 1024,\n",
              "  \"id2label\": {\n",
              "    \"0\": \"LABEL_0\",\n",
              "    \"1\": \"LABEL_1\",\n",
              "    \"2\": \"LABEL_2\",\n",
              "    \"3\": \"LABEL_3\",\n",
              "    \"4\": \"LABEL_4\",\n",
              "    \"5\": \"LABEL_5\",\n",
              "    \"6\": \"LABEL_6\"\n",
              "  },\n",
              "  \"initializer_range\": 0.02,\n",
              "  \"intermediate_size\": 4096,\n",
              "  \"label2id\": {\n",
              "    \"LABEL_0\": 0,\n",
              "    \"LABEL_1\": 1,\n",
              "    \"LABEL_2\": 2,\n",
              "    \"LABEL_3\": 3,\n",
              "    \"LABEL_4\": 4,\n",
              "    \"LABEL_5\": 5,\n",
              "    \"LABEL_6\": 6\n",
              "  },\n",
              "  \"layer_norm_eps\": 1e-12,\n",
              "  \"max_position_embeddings\": 512,\n",
              "  \"model_type\": \"bert\",\n",
              "  \"num_attention_heads\": 16,\n",
              "  \"num_hidden_layers\": 24,\n",
              "  \"pad_token_id\": 0,\n",
              "  \"position_embedding_type\": \"absolute\",\n",
              "  \"transformers_version\": \"4.42.4\",\n",
              "  \"type_vocab_size\": 2,\n",
              "  \"use_cache\": true,\n",
              "  \"vocab_size\": 30522\n",
              "}"
            ]
          },
          "metadata": {},
          "execution_count": 23
        }
      ],
      "source": [
        "model.config"
      ]
    },
    {
      "cell_type": "code",
      "execution_count": 24,
      "metadata": {
        "colab": {
          "base_uri": "https://localhost:8080/"
        },
        "id": "qmjlyLnkDN6C",
        "outputId": "c5368dec-8b76-4767-a921-5d668ea1c629"
      },
      "outputs": [
        {
          "output_type": "stream",
          "name": "stderr",
          "text": [
            "/usr/local/lib/python3.10/dist-packages/transformers/optimization.py:591: FutureWarning: This implementation of AdamW is deprecated and will be removed in a future version. Use the PyTorch implementation torch.optim.AdamW instead, or set `no_deprecation_warning=True` to disable this warning\n",
            "  warnings.warn(\n"
          ]
        }
      ],
      "source": [
        "# Optimizer and learning rate scheduler\n",
        "optimizer = AdamW(model.parameters(), lr=2e-5, eps=1e-8)\n",
        "total_steps = len(train_dataloader) * 20\n",
        "num_warmup_steps = 1e-4\n",
        "scheduler = get_linear_schedule_with_warmup(optimizer, num_warmup_steps=num_warmup_steps, num_training_steps=total_steps)"
      ]
    },
    {
      "cell_type": "code",
      "execution_count": 25,
      "metadata": {
        "id": "xj4AnpxJDN6C"
      },
      "outputs": [],
      "source": [
        "def calculate_metrics(valType, predictions, true_labels):\n",
        "    # Confusion matrix\n",
        "    if(valType == 'test'):\n",
        "        cm = confusion_matrix(true_labels, predictions)\n",
        "        print(\"Confusion Matrix:\\n\", cm)\n",
        "\n",
        "        # Classification report (includes precision, recall, F1 score)\n",
        "        report = classification_report(true_labels, predictions, target_names=[str(i) for i in range(len(np.unique(true_labels)))])\n",
        "        print(\"\\nClassification Report:\\n\", report)\n",
        "\n",
        "        # Calculate different types of F1 scores, precision, and recall\n",
        "        f1_macro = f1_score(true_labels, predictions, average='macro')\n",
        "        f1_micro = f1_score(true_labels, predictions, average='micro')\n",
        "        f1_weighted = f1_score(true_labels, predictions, average='weighted')\n",
        "\n",
        "        precision_macro = precision_score(true_labels, predictions, average='macro')\n",
        "        precision_micro = precision_score(true_labels, predictions, average='micro')\n",
        "        precision_weighted = precision_score(true_labels, predictions, average='weighted')\n",
        "\n",
        "        recall_macro = recall_score(true_labels, predictions, average='macro')\n",
        "        recall_micro = recall_score(true_labels, predictions, average='micro')\n",
        "        recall_weighted = recall_score(true_labels, predictions, average='weighted')\n",
        "\n",
        "        print(f\"Macro F1 Score: {f1_macro}\")\n",
        "        print(f\"Micro F1 Score: {f1_micro}\")\n",
        "        print(f\"Weighted F1 Score: {f1_weighted}\")\n",
        "\n",
        "        print(f\"Macro Precision: {precision_macro}\")\n",
        "        print(f\"Micro Precision: {precision_micro}\")\n",
        "        print(f\"Weighted Precision: {precision_weighted}\")\n",
        "\n",
        "        print(f\"Macro Recall: {recall_macro}\")\n",
        "        print(f\"Micro Recall: {recall_micro}\")\n",
        "        print(f\"Weighted Recall: {recall_weighted}\")\n",
        "\n",
        "    elif(valType == 'val'):\n",
        "        cm = confusion_matrix(true_labels, predictions)\n",
        "        f1_macro = f1_score(true_labels, predictions, average='macro')\n",
        "        f1_micro = f1_score(true_labels, predictions, average='micro')\n",
        "        f1_weighted = f1_score(true_labels, predictions, average='weighted')\n",
        "\n",
        "        precision_macro = precision_score(true_labels, predictions, average='macro')\n",
        "        precision_micro = precision_score(true_labels, predictions, average='micro')\n",
        "        precision_weighted = precision_score(true_labels, predictions, average='weighted')\n",
        "\n",
        "        recall_macro = recall_score(true_labels, predictions, average='macro')\n",
        "        recall_micro = recall_score(true_labels, predictions, average='micro')\n",
        "        recall_weighted = recall_score(true_labels, predictions, average='weighted')\n",
        "        # print('Val Micro F1:', f1_micro)\n",
        "        return f1_micro"
      ]
    },
    {
      "cell_type": "code",
      "execution_count": 26,
      "metadata": {
        "colab": {
          "base_uri": "https://localhost:8080/"
        },
        "id": "05xzH0FEDN6C",
        "outputId": "db6d3a6e-2347-4f88-8b4b-b6aa58d31dca"
      },
      "outputs": [
        {
          "metadata": {
            "tags": null
          },
          "name": "stderr",
          "output_type": "stream",
          "text": [
            "Epoch 1/20: 100%|██████████| 300/300 [10:34<00:00,  2.11s/batch]\n"
          ]
        },
        {
          "metadata": {
            "tags": null
          },
          "name": "stdout",
          "output_type": "stream",
          "text": [
            "Epoch 1/20\n",
            "  Train Loss: 0.7746203962465127\n",
            "  Val Micro F1: 0.8684759916492694\n",
            "  Time: 10m 44s\n"
          ]
        },
        {
          "metadata": {
            "tags": null
          },
          "name": "stderr",
          "output_type": "stream",
          "text": [
            "Epoch 2/20: 100%|██████████| 300/300 [10:35<00:00,  2.12s/batch]\n"
          ]
        },
        {
          "metadata": {
            "tags": null
          },
          "name": "stdout",
          "output_type": "stream",
          "text": [
            "Epoch 2/20\n",
            "  Train Loss: 0.2887838546435038\n",
            "  Val Micro F1: 0.8977035490605428\n",
            "  Time: 10m 45s\n"
          ]
        },
        {
          "metadata": {
            "tags": null
          },
          "name": "stderr",
          "output_type": "stream",
          "text": [
            "Epoch 3/20: 100%|██████████| 300/300 [10:34<00:00,  2.12s/batch]\n"
          ]
        },
        {
          "metadata": {
            "tags": null
          },
          "name": "stdout",
          "output_type": "stream",
          "text": [
            "Epoch 3/20\n",
            "  Train Loss: 0.16479893434482315\n",
            "  Val Micro F1: 0.8997912317327766\n",
            "  Time: 10m 45s\n"
          ]
        },
        {
          "metadata": {
            "tags": null
          },
          "name": "stderr",
          "output_type": "stream",
          "text": [
            "Epoch 4/20: 100%|██████████| 300/300 [10:35<00:00,  2.12s/batch]\n"
          ]
        },
        {
          "metadata": {
            "tags": null
          },
          "name": "stdout",
          "output_type": "stream",
          "text": [
            "Epoch 4/20\n",
            "  Train Loss: 0.09254058681273213\n",
            "  Val Micro F1: 0.8935281837160751\n",
            "  Time: 10m 45s\n"
          ]
        },
        {
          "metadata": {
            "tags": null
          },
          "name": "stderr",
          "output_type": "stream",
          "text": [
            "Epoch 5/20: 100%|██████████| 300/300 [10:35<00:00,  2.12s/batch]\n"
          ]
        },
        {
          "metadata": {
            "tags": null
          },
          "name": "stdout",
          "output_type": "stream",
          "text": [
            "Epoch 5/20\n",
            "  Train Loss: 0.05435442032564121\n",
            "  Val Micro F1: 0.8830897703549061\n",
            "  Time: 10m 45s\n"
          ]
        },
        {
          "metadata": {
            "tags": null
          },
          "name": "stderr",
          "output_type": "stream",
          "text": [
            "Epoch 6/20: 100%|██████████| 300/300 [10:35<00:00,  2.12s/batch]\n"
          ]
        },
        {
          "metadata": {
            "tags": null
          },
          "name": "stdout",
          "output_type": "stream",
          "text": [
            "Epoch 6/20\n",
            "  Train Loss: 0.026393811253947207\n",
            "  Val Micro F1: 0.8935281837160751\n",
            "  Time: 10m 45s\n"
          ]
        },
        {
          "output_type": "stream",
          "name": "stderr",
          "text": [
            "Epoch 7/20: 100%|██████████| 300/300 [10:35<00:00,  2.12s/batch]\n"
          ]
        },
        {
          "output_type": "stream",
          "name": "stdout",
          "text": [
            "Epoch 7/20\n",
            "  Train Loss: 0.014467969948697524\n",
            "  Val Micro F1: 0.8830897703549061\n",
            "  Time: 10m 45s\n"
          ]
        },
        {
          "output_type": "stream",
          "name": "stderr",
          "text": [
            "Epoch 8/20: 100%|██████████| 300/300 [10:35<00:00,  2.12s/batch]\n"
          ]
        },
        {
          "output_type": "stream",
          "name": "stdout",
          "text": [
            "Epoch 8/20\n",
            "  Train Loss: 0.0094761546094378\n",
            "  Val Micro F1: 0.8935281837160751\n",
            "  Time: 10m 45s\n"
          ]
        },
        {
          "output_type": "stream",
          "name": "stderr",
          "text": [
            "Epoch 9/20: 100%|██████████| 300/300 [10:35<00:00,  2.12s/batch]\n"
          ]
        },
        {
          "output_type": "stream",
          "name": "stdout",
          "text": [
            "Epoch 9/20\n",
            "  Train Loss: 0.0033308909784439795\n",
            "  Val Micro F1: 0.8935281837160751\n",
            "  Time: 10m 45s\n"
          ]
        },
        {
          "output_type": "stream",
          "name": "stderr",
          "text": [
            "Epoch 10/20: 100%|██████████| 300/300 [10:35<00:00,  2.12s/batch]\n"
          ]
        },
        {
          "output_type": "stream",
          "name": "stdout",
          "text": [
            "Epoch 10/20\n",
            "  Train Loss: 0.0015481068741792115\n",
            "  Val Micro F1: 0.8935281837160751\n",
            "  Time: 10m 45s\n"
          ]
        },
        {
          "output_type": "stream",
          "name": "stderr",
          "text": [
            "Epoch 11/20: 100%|██████████| 300/300 [10:35<00:00,  2.12s/batch]\n"
          ]
        },
        {
          "output_type": "stream",
          "name": "stdout",
          "text": [
            "Epoch 11/20\n",
            "  Train Loss: 0.0008963524172092244\n",
            "  Val Micro F1: 0.8935281837160751\n",
            "  Time: 10m 45s\n"
          ]
        },
        {
          "output_type": "stream",
          "name": "stderr",
          "text": [
            "Epoch 12/20: 100%|██████████| 300/300 [10:35<00:00,  2.12s/batch]\n"
          ]
        },
        {
          "output_type": "stream",
          "name": "stdout",
          "text": [
            "Epoch 12/20\n",
            "  Train Loss: 0.00033856251766943996\n",
            "  Val Micro F1: 0.8935281837160751\n",
            "  Time: 10m 45s\n"
          ]
        },
        {
          "output_type": "stream",
          "name": "stderr",
          "text": [
            "Epoch 13/20: 100%|██████████| 300/300 [10:34<00:00,  2.12s/batch]\n"
          ]
        },
        {
          "output_type": "stream",
          "name": "stdout",
          "text": [
            "Epoch 13/20\n",
            "  Train Loss: 0.0004202377209003316\n",
            "  Val Micro F1: 0.8914405010438413\n",
            "  Time: 10m 45s\n"
          ]
        },
        {
          "output_type": "stream",
          "name": "stderr",
          "text": [
            "Epoch 14/20: 100%|██████████| 300/300 [10:34<00:00,  2.12s/batch]\n"
          ]
        },
        {
          "output_type": "stream",
          "name": "stdout",
          "text": [
            "Epoch 14/20\n",
            "  Train Loss: 0.002717557712700606\n",
            "  Val Micro F1: 0.8893528183716075\n",
            "  Time: 10m 45s\n"
          ]
        },
        {
          "output_type": "stream",
          "name": "stderr",
          "text": [
            "Epoch 15/20: 100%|██████████| 300/300 [10:34<00:00,  2.12s/batch]\n"
          ]
        },
        {
          "output_type": "stream",
          "name": "stdout",
          "text": [
            "Epoch 15/20\n",
            "  Train Loss: 0.0016223574535979425\n",
            "  Val Micro F1: 0.8893528183716075\n",
            "  Time: 10m 45s\n"
          ]
        },
        {
          "output_type": "stream",
          "name": "stderr",
          "text": [
            "Epoch 16/20: 100%|██████████| 300/300 [10:34<00:00,  2.12s/batch]\n"
          ]
        },
        {
          "output_type": "stream",
          "name": "stdout",
          "text": [
            "Epoch 16/20\n",
            "  Train Loss: 8.819721059505052e-05\n",
            "  Val Micro F1: 0.8893528183716075\n",
            "  Time: 10m 45s\n"
          ]
        },
        {
          "output_type": "stream",
          "name": "stderr",
          "text": [
            "Epoch 17/20: 100%|██████████| 300/300 [10:34<00:00,  2.12s/batch]\n"
          ]
        },
        {
          "output_type": "stream",
          "name": "stdout",
          "text": [
            "Epoch 17/20\n",
            "  Train Loss: 8.271397502539912e-05\n",
            "  Val Micro F1: 0.8893528183716075\n",
            "  Time: 10m 45s\n"
          ]
        },
        {
          "output_type": "stream",
          "name": "stderr",
          "text": [
            "Epoch 18/20: 100%|██████████| 300/300 [10:34<00:00,  2.12s/batch]\n"
          ]
        },
        {
          "output_type": "stream",
          "name": "stdout",
          "text": [
            "Epoch 18/20\n",
            "  Train Loss: 8.286143353567847e-05\n",
            "  Val Micro F1: 0.8914405010438413\n",
            "  Time: 10m 45s\n"
          ]
        },
        {
          "output_type": "stream",
          "name": "stderr",
          "text": [
            "Epoch 19/20: 100%|██████████| 300/300 [10:34<00:00,  2.12s/batch]\n"
          ]
        },
        {
          "output_type": "stream",
          "name": "stdout",
          "text": [
            "Epoch 19/20\n",
            "  Train Loss: 7.608110359190807e-05\n",
            "  Val Micro F1: 0.8914405010438413\n",
            "  Time: 10m 45s\n"
          ]
        },
        {
          "output_type": "stream",
          "name": "stderr",
          "text": [
            "Epoch 20/20: 100%|██████████| 300/300 [10:34<00:00,  2.12s/batch]\n"
          ]
        },
        {
          "output_type": "stream",
          "name": "stdout",
          "text": [
            "Epoch 20/20\n",
            "  Train Loss: 7.034063972241711e-05\n",
            "  Val Micro F1: 0.8872651356993737\n",
            "  Time: 10m 45s\n"
          ]
        }
      ],
      "source": [
        "epochs = 20\n",
        "for epoch in range(epochs):\n",
        "    model.train()\n",
        "    total_train_loss = 0\n",
        "    start_time = time.time()\n",
        "\n",
        "    # Training\n",
        "    for step, batch in enumerate(tqdm(train_dataloader, desc=f\"Epoch {epoch + 1}/{epochs}\", unit=\"batch\")):\n",
        "        batch = tuple(t.to(device) for t in batch)\n",
        "        input_ids, input_mask, labels = batch\n",
        "\n",
        "\n",
        "        model.zero_grad()\n",
        "        outputs = model(input_ids=input_ids, attention_mask=input_mask, labels=labels)\n",
        "        loss = outputs.loss\n",
        "        total_train_loss += loss.item()\n",
        "\n",
        "        loss.backward()\n",
        "        torch.nn.utils.clip_grad_norm_(model.parameters(), max_norm=1.0)\n",
        "        optimizer.step()\n",
        "        scheduler.step()\n",
        "\n",
        "    avg_train_loss = total_train_loss / len(train_dataloader)\n",
        "\n",
        "    # Validation\n",
        "    model.eval()\n",
        "    predictions = []\n",
        "    true_labels = []\n",
        "\n",
        "    for batch in val_dataloader:\n",
        "        batch = tuple(t.to(device) for t in batch)\n",
        "        input_ids, input_mask, labels = batch\n",
        "\n",
        "        with torch.no_grad():\n",
        "            outputs = model(input_ids=input_ids, attention_mask=input_mask)\n",
        "            logits = outputs.logits\n",
        "\n",
        "        logits = logits.detach().cpu().numpy()\n",
        "        label_ids = labels.to('cpu').numpy()\n",
        "\n",
        "        batch_predictions = np.argmax(logits, axis=1)\n",
        "        predictions.extend(batch_predictions)\n",
        "        true_labels.extend(label_ids)\n",
        "\n",
        "    val_micro_f1 = calculate_metrics('val', predictions, true_labels)\n",
        "    elapsed_time = time.time() - start_time\n",
        "\n",
        "    # Print epoch summary\n",
        "    print(f\"Epoch {epoch + 1}/{epochs}\")\n",
        "    print(f\"  Train Loss: {avg_train_loss}\")\n",
        "    print(f\"  Val Micro F1: {val_micro_f1}\")\n",
        "    print(f\"  Time: {elapsed_time // 60:.0f}m {elapsed_time % 60:.0f}s\")"
      ]
    },
    {
      "cell_type": "code",
      "execution_count": 27,
      "metadata": {
        "colab": {
          "base_uri": "https://localhost:8080/"
        },
        "id": "YF1GCpcUDN6D",
        "outputId": "3df1f233-52c1-4e16-f18e-3cd6e1dc80b2"
      },
      "outputs": [
        {
          "output_type": "stream",
          "name": "stdout",
          "text": [
            "Confusion Matrix:\n",
            " [[260   4   0   8  13   2   5]\n",
            " [  3 205   1   9   5   0   1]\n",
            " [  5   2 349   0   1  14   2]\n",
            " [ 11  15   2 350   9   1   4]\n",
            " [ 12   7   3   5 415   0   8]\n",
            " [  1   2   8   0   1 279  18]\n",
            " [  1   2   0   4   7  23 317]]\n",
            "\n",
            "Classification Report:\n",
            "               precision    recall  f1-score   support\n",
            "\n",
            "           0       0.89      0.89      0.89       292\n",
            "           1       0.86      0.92      0.89       224\n",
            "           2       0.96      0.94      0.95       373\n",
            "           3       0.93      0.89      0.91       392\n",
            "           4       0.92      0.92      0.92       450\n",
            "           5       0.87      0.90      0.89       309\n",
            "           6       0.89      0.90      0.89       354\n",
            "\n",
            "    accuracy                           0.91      2394\n",
            "   macro avg       0.90      0.91      0.91      2394\n",
            "weighted avg       0.91      0.91      0.91      2394\n",
            "\n",
            "Macro F1 Score: 0.9060055182174865\n",
            "Micro F1 Score: 0.9085213032581454\n",
            "Weighted F1 Score: 0.9087125212566527\n",
            "Macro Precision: 0.9046253954090592\n",
            "Micro Precision: 0.9085213032581454\n",
            "Weighted Precision: 0.9092801285310466\n",
            "Macro Recall: 0.907816939888728\n",
            "Micro Recall: 0.9085213032581454\n",
            "Weighted Recall: 0.9085213032581454\n"
          ]
        }
      ],
      "source": [
        "# Evaluation\n",
        "model.eval()\n",
        "predictions = []\n",
        "true_labels = []\n",
        "\n",
        "for batch in test_dataloader:\n",
        "    batch = tuple(t.to(device) for t in batch)\n",
        "    input_ids, input_mask, labels = batch\n",
        "\n",
        "    with torch.no_grad():\n",
        "        outputs = model(input_ids=input_ids, attention_mask=input_mask)\n",
        "        logits = outputs.logits\n",
        "\n",
        "    logits = logits.detach().cpu().numpy()\n",
        "    label_ids = labels.to('cpu').numpy()\n",
        "\n",
        "    batch_predictions = np.argmax(logits, axis=1)\n",
        "    predictions.extend(batch_predictions)\n",
        "    true_labels.extend(label_ids)\n",
        "\n",
        "# Calculate and print metrics\n",
        "calculate_metrics('test', predictions, true_labels)"
      ]
    },
    {
      "cell_type": "code",
      "execution_count": null,
      "metadata": {
        "id": "zBU4h6E7DN6D"
      },
      "outputs": [],
      "source": [
        "model.save_pretrained('/content/drive/MyDrive/WoS/BlueBERT_WoS_Abstracts_11967')"
      ]
    },
    {
      "cell_type": "code",
      "source": [
        "from google.colab import runtime\n",
        "runtime.unassign()"
      ],
      "metadata": {
        "id": "rwrkJP5S351n"
      },
      "execution_count": 29,
      "outputs": []
    }
  ],
  "metadata": {
    "language_info": {
      "name": "python"
    },
    "colab": {
      "provenance": [],
      "gpuType": "T4"
    },
    "kernelspec": {
      "name": "python3",
      "display_name": "Python 3"
    },
    "accelerator": "GPU",
    "widgets": {
      "application/vnd.jupyter.widget-state+json": {
        "fbb2584688da442a8a2915be035de71b": {
          "model_module": "@jupyter-widgets/controls",
          "model_name": "HBoxModel",
          "model_module_version": "1.5.0",
          "state": {
            "_dom_classes": [],
            "_model_module": "@jupyter-widgets/controls",
            "_model_module_version": "1.5.0",
            "_model_name": "HBoxModel",
            "_view_count": null,
            "_view_module": "@jupyter-widgets/controls",
            "_view_module_version": "1.5.0",
            "_view_name": "HBoxView",
            "box_style": "",
            "children": [
              "IPY_MODEL_74a2b831ca614b4a93efc4e93a53c221",
              "IPY_MODEL_b0c53b4e6b9148fab61119a7272747b1",
              "IPY_MODEL_6fc63a9d3c874562890cb61355a4a55f"
            ],
            "layout": "IPY_MODEL_88b9b4fb5c454f68836ee49262753809"
          }
        },
        "74a2b831ca614b4a93efc4e93a53c221": {
          "model_module": "@jupyter-widgets/controls",
          "model_name": "HTMLModel",
          "model_module_version": "1.5.0",
          "state": {
            "_dom_classes": [],
            "_model_module": "@jupyter-widgets/controls",
            "_model_module_version": "1.5.0",
            "_model_name": "HTMLModel",
            "_view_count": null,
            "_view_module": "@jupyter-widgets/controls",
            "_view_module_version": "1.5.0",
            "_view_name": "HTMLView",
            "description": "",
            "description_tooltip": null,
            "layout": "IPY_MODEL_595d851c1be7430e88a00b489d65b807",
            "placeholder": "​",
            "style": "IPY_MODEL_6bd24cf506fb407ea90b6b656582ba0e",
            "value": "config.json: 100%"
          }
        },
        "b0c53b4e6b9148fab61119a7272747b1": {
          "model_module": "@jupyter-widgets/controls",
          "model_name": "FloatProgressModel",
          "model_module_version": "1.5.0",
          "state": {
            "_dom_classes": [],
            "_model_module": "@jupyter-widgets/controls",
            "_model_module_version": "1.5.0",
            "_model_name": "FloatProgressModel",
            "_view_count": null,
            "_view_module": "@jupyter-widgets/controls",
            "_view_module_version": "1.5.0",
            "_view_name": "ProgressView",
            "bar_style": "success",
            "description": "",
            "description_tooltip": null,
            "layout": "IPY_MODEL_84f285adc9744d04a1788233ae97ecfa",
            "max": 314,
            "min": 0,
            "orientation": "horizontal",
            "style": "IPY_MODEL_bff47801dfd346d4b6931f7b11794d7c",
            "value": 314
          }
        },
        "6fc63a9d3c874562890cb61355a4a55f": {
          "model_module": "@jupyter-widgets/controls",
          "model_name": "HTMLModel",
          "model_module_version": "1.5.0",
          "state": {
            "_dom_classes": [],
            "_model_module": "@jupyter-widgets/controls",
            "_model_module_version": "1.5.0",
            "_model_name": "HTMLModel",
            "_view_count": null,
            "_view_module": "@jupyter-widgets/controls",
            "_view_module_version": "1.5.0",
            "_view_name": "HTMLView",
            "description": "",
            "description_tooltip": null,
            "layout": "IPY_MODEL_906ace30dfc14d14aae62ac0c43527a8",
            "placeholder": "​",
            "style": "IPY_MODEL_9f86e43652f249b885e854237c60298e",
            "value": " 314/314 [00:00&lt;00:00, 5.12kB/s]"
          }
        },
        "88b9b4fb5c454f68836ee49262753809": {
          "model_module": "@jupyter-widgets/base",
          "model_name": "LayoutModel",
          "model_module_version": "1.2.0",
          "state": {
            "_model_module": "@jupyter-widgets/base",
            "_model_module_version": "1.2.0",
            "_model_name": "LayoutModel",
            "_view_count": null,
            "_view_module": "@jupyter-widgets/base",
            "_view_module_version": "1.2.0",
            "_view_name": "LayoutView",
            "align_content": null,
            "align_items": null,
            "align_self": null,
            "border": null,
            "bottom": null,
            "display": null,
            "flex": null,
            "flex_flow": null,
            "grid_area": null,
            "grid_auto_columns": null,
            "grid_auto_flow": null,
            "grid_auto_rows": null,
            "grid_column": null,
            "grid_gap": null,
            "grid_row": null,
            "grid_template_areas": null,
            "grid_template_columns": null,
            "grid_template_rows": null,
            "height": null,
            "justify_content": null,
            "justify_items": null,
            "left": null,
            "margin": null,
            "max_height": null,
            "max_width": null,
            "min_height": null,
            "min_width": null,
            "object_fit": null,
            "object_position": null,
            "order": null,
            "overflow": null,
            "overflow_x": null,
            "overflow_y": null,
            "padding": null,
            "right": null,
            "top": null,
            "visibility": null,
            "width": null
          }
        },
        "595d851c1be7430e88a00b489d65b807": {
          "model_module": "@jupyter-widgets/base",
          "model_name": "LayoutModel",
          "model_module_version": "1.2.0",
          "state": {
            "_model_module": "@jupyter-widgets/base",
            "_model_module_version": "1.2.0",
            "_model_name": "LayoutModel",
            "_view_count": null,
            "_view_module": "@jupyter-widgets/base",
            "_view_module_version": "1.2.0",
            "_view_name": "LayoutView",
            "align_content": null,
            "align_items": null,
            "align_self": null,
            "border": null,
            "bottom": null,
            "display": null,
            "flex": null,
            "flex_flow": null,
            "grid_area": null,
            "grid_auto_columns": null,
            "grid_auto_flow": null,
            "grid_auto_rows": null,
            "grid_column": null,
            "grid_gap": null,
            "grid_row": null,
            "grid_template_areas": null,
            "grid_template_columns": null,
            "grid_template_rows": null,
            "height": null,
            "justify_content": null,
            "justify_items": null,
            "left": null,
            "margin": null,
            "max_height": null,
            "max_width": null,
            "min_height": null,
            "min_width": null,
            "object_fit": null,
            "object_position": null,
            "order": null,
            "overflow": null,
            "overflow_x": null,
            "overflow_y": null,
            "padding": null,
            "right": null,
            "top": null,
            "visibility": null,
            "width": null
          }
        },
        "6bd24cf506fb407ea90b6b656582ba0e": {
          "model_module": "@jupyter-widgets/controls",
          "model_name": "DescriptionStyleModel",
          "model_module_version": "1.5.0",
          "state": {
            "_model_module": "@jupyter-widgets/controls",
            "_model_module_version": "1.5.0",
            "_model_name": "DescriptionStyleModel",
            "_view_count": null,
            "_view_module": "@jupyter-widgets/base",
            "_view_module_version": "1.2.0",
            "_view_name": "StyleView",
            "description_width": ""
          }
        },
        "84f285adc9744d04a1788233ae97ecfa": {
          "model_module": "@jupyter-widgets/base",
          "model_name": "LayoutModel",
          "model_module_version": "1.2.0",
          "state": {
            "_model_module": "@jupyter-widgets/base",
            "_model_module_version": "1.2.0",
            "_model_name": "LayoutModel",
            "_view_count": null,
            "_view_module": "@jupyter-widgets/base",
            "_view_module_version": "1.2.0",
            "_view_name": "LayoutView",
            "align_content": null,
            "align_items": null,
            "align_self": null,
            "border": null,
            "bottom": null,
            "display": null,
            "flex": null,
            "flex_flow": null,
            "grid_area": null,
            "grid_auto_columns": null,
            "grid_auto_flow": null,
            "grid_auto_rows": null,
            "grid_column": null,
            "grid_gap": null,
            "grid_row": null,
            "grid_template_areas": null,
            "grid_template_columns": null,
            "grid_template_rows": null,
            "height": null,
            "justify_content": null,
            "justify_items": null,
            "left": null,
            "margin": null,
            "max_height": null,
            "max_width": null,
            "min_height": null,
            "min_width": null,
            "object_fit": null,
            "object_position": null,
            "order": null,
            "overflow": null,
            "overflow_x": null,
            "overflow_y": null,
            "padding": null,
            "right": null,
            "top": null,
            "visibility": null,
            "width": null
          }
        },
        "bff47801dfd346d4b6931f7b11794d7c": {
          "model_module": "@jupyter-widgets/controls",
          "model_name": "ProgressStyleModel",
          "model_module_version": "1.5.0",
          "state": {
            "_model_module": "@jupyter-widgets/controls",
            "_model_module_version": "1.5.0",
            "_model_name": "ProgressStyleModel",
            "_view_count": null,
            "_view_module": "@jupyter-widgets/base",
            "_view_module_version": "1.2.0",
            "_view_name": "StyleView",
            "bar_color": null,
            "description_width": ""
          }
        },
        "906ace30dfc14d14aae62ac0c43527a8": {
          "model_module": "@jupyter-widgets/base",
          "model_name": "LayoutModel",
          "model_module_version": "1.2.0",
          "state": {
            "_model_module": "@jupyter-widgets/base",
            "_model_module_version": "1.2.0",
            "_model_name": "LayoutModel",
            "_view_count": null,
            "_view_module": "@jupyter-widgets/base",
            "_view_module_version": "1.2.0",
            "_view_name": "LayoutView",
            "align_content": null,
            "align_items": null,
            "align_self": null,
            "border": null,
            "bottom": null,
            "display": null,
            "flex": null,
            "flex_flow": null,
            "grid_area": null,
            "grid_auto_columns": null,
            "grid_auto_flow": null,
            "grid_auto_rows": null,
            "grid_column": null,
            "grid_gap": null,
            "grid_row": null,
            "grid_template_areas": null,
            "grid_template_columns": null,
            "grid_template_rows": null,
            "height": null,
            "justify_content": null,
            "justify_items": null,
            "left": null,
            "margin": null,
            "max_height": null,
            "max_width": null,
            "min_height": null,
            "min_width": null,
            "object_fit": null,
            "object_position": null,
            "order": null,
            "overflow": null,
            "overflow_x": null,
            "overflow_y": null,
            "padding": null,
            "right": null,
            "top": null,
            "visibility": null,
            "width": null
          }
        },
        "9f86e43652f249b885e854237c60298e": {
          "model_module": "@jupyter-widgets/controls",
          "model_name": "DescriptionStyleModel",
          "model_module_version": "1.5.0",
          "state": {
            "_model_module": "@jupyter-widgets/controls",
            "_model_module_version": "1.5.0",
            "_model_name": "DescriptionStyleModel",
            "_view_count": null,
            "_view_module": "@jupyter-widgets/base",
            "_view_module_version": "1.2.0",
            "_view_name": "StyleView",
            "description_width": ""
          }
        },
        "ef4f9deb9a6347cdae6fe5033c649cff": {
          "model_module": "@jupyter-widgets/controls",
          "model_name": "HBoxModel",
          "model_module_version": "1.5.0",
          "state": {
            "_dom_classes": [],
            "_model_module": "@jupyter-widgets/controls",
            "_model_module_version": "1.5.0",
            "_model_name": "HBoxModel",
            "_view_count": null,
            "_view_module": "@jupyter-widgets/controls",
            "_view_module_version": "1.5.0",
            "_view_name": "HBoxView",
            "box_style": "",
            "children": [
              "IPY_MODEL_9ad32a3825e24bafa5594c10d21602d8",
              "IPY_MODEL_66c24a0a3a4841df9b4256415ffb2ccb",
              "IPY_MODEL_b3fca455b3984812817b3a964315ea2b"
            ],
            "layout": "IPY_MODEL_060089395315405ea232a70ee62205bc"
          }
        },
        "9ad32a3825e24bafa5594c10d21602d8": {
          "model_module": "@jupyter-widgets/controls",
          "model_name": "HTMLModel",
          "model_module_version": "1.5.0",
          "state": {
            "_dom_classes": [],
            "_model_module": "@jupyter-widgets/controls",
            "_model_module_version": "1.5.0",
            "_model_name": "HTMLModel",
            "_view_count": null,
            "_view_module": "@jupyter-widgets/controls",
            "_view_module_version": "1.5.0",
            "_view_name": "HTMLView",
            "description": "",
            "description_tooltip": null,
            "layout": "IPY_MODEL_11bc2dc49302486ca13be899d04d20bf",
            "placeholder": "​",
            "style": "IPY_MODEL_60c56f90a3ae4e39880ba0c05a6296a3",
            "value": "vocab.txt: 100%"
          }
        },
        "66c24a0a3a4841df9b4256415ffb2ccb": {
          "model_module": "@jupyter-widgets/controls",
          "model_name": "FloatProgressModel",
          "model_module_version": "1.5.0",
          "state": {
            "_dom_classes": [],
            "_model_module": "@jupyter-widgets/controls",
            "_model_module_version": "1.5.0",
            "_model_name": "FloatProgressModel",
            "_view_count": null,
            "_view_module": "@jupyter-widgets/controls",
            "_view_module_version": "1.5.0",
            "_view_name": "ProgressView",
            "bar_style": "success",
            "description": "",
            "description_tooltip": null,
            "layout": "IPY_MODEL_d948679ecd1c40aeb3bf7a8cf416bdd1",
            "max": 231508,
            "min": 0,
            "orientation": "horizontal",
            "style": "IPY_MODEL_7dfef7db5c934fc18fadd4fbb767dbc3",
            "value": 231508
          }
        },
        "b3fca455b3984812817b3a964315ea2b": {
          "model_module": "@jupyter-widgets/controls",
          "model_name": "HTMLModel",
          "model_module_version": "1.5.0",
          "state": {
            "_dom_classes": [],
            "_model_module": "@jupyter-widgets/controls",
            "_model_module_version": "1.5.0",
            "_model_name": "HTMLModel",
            "_view_count": null,
            "_view_module": "@jupyter-widgets/controls",
            "_view_module_version": "1.5.0",
            "_view_name": "HTMLView",
            "description": "",
            "description_tooltip": null,
            "layout": "IPY_MODEL_15d5a9b1562b43358d7c686cb0cba3c9",
            "placeholder": "​",
            "style": "IPY_MODEL_efe558121ebe43b8a6a12440cf9df9a8",
            "value": " 232k/232k [00:00&lt;00:00, 1.73MB/s]"
          }
        },
        "060089395315405ea232a70ee62205bc": {
          "model_module": "@jupyter-widgets/base",
          "model_name": "LayoutModel",
          "model_module_version": "1.2.0",
          "state": {
            "_model_module": "@jupyter-widgets/base",
            "_model_module_version": "1.2.0",
            "_model_name": "LayoutModel",
            "_view_count": null,
            "_view_module": "@jupyter-widgets/base",
            "_view_module_version": "1.2.0",
            "_view_name": "LayoutView",
            "align_content": null,
            "align_items": null,
            "align_self": null,
            "border": null,
            "bottom": null,
            "display": null,
            "flex": null,
            "flex_flow": null,
            "grid_area": null,
            "grid_auto_columns": null,
            "grid_auto_flow": null,
            "grid_auto_rows": null,
            "grid_column": null,
            "grid_gap": null,
            "grid_row": null,
            "grid_template_areas": null,
            "grid_template_columns": null,
            "grid_template_rows": null,
            "height": null,
            "justify_content": null,
            "justify_items": null,
            "left": null,
            "margin": null,
            "max_height": null,
            "max_width": null,
            "min_height": null,
            "min_width": null,
            "object_fit": null,
            "object_position": null,
            "order": null,
            "overflow": null,
            "overflow_x": null,
            "overflow_y": null,
            "padding": null,
            "right": null,
            "top": null,
            "visibility": null,
            "width": null
          }
        },
        "11bc2dc49302486ca13be899d04d20bf": {
          "model_module": "@jupyter-widgets/base",
          "model_name": "LayoutModel",
          "model_module_version": "1.2.0",
          "state": {
            "_model_module": "@jupyter-widgets/base",
            "_model_module_version": "1.2.0",
            "_model_name": "LayoutModel",
            "_view_count": null,
            "_view_module": "@jupyter-widgets/base",
            "_view_module_version": "1.2.0",
            "_view_name": "LayoutView",
            "align_content": null,
            "align_items": null,
            "align_self": null,
            "border": null,
            "bottom": null,
            "display": null,
            "flex": null,
            "flex_flow": null,
            "grid_area": null,
            "grid_auto_columns": null,
            "grid_auto_flow": null,
            "grid_auto_rows": null,
            "grid_column": null,
            "grid_gap": null,
            "grid_row": null,
            "grid_template_areas": null,
            "grid_template_columns": null,
            "grid_template_rows": null,
            "height": null,
            "justify_content": null,
            "justify_items": null,
            "left": null,
            "margin": null,
            "max_height": null,
            "max_width": null,
            "min_height": null,
            "min_width": null,
            "object_fit": null,
            "object_position": null,
            "order": null,
            "overflow": null,
            "overflow_x": null,
            "overflow_y": null,
            "padding": null,
            "right": null,
            "top": null,
            "visibility": null,
            "width": null
          }
        },
        "60c56f90a3ae4e39880ba0c05a6296a3": {
          "model_module": "@jupyter-widgets/controls",
          "model_name": "DescriptionStyleModel",
          "model_module_version": "1.5.0",
          "state": {
            "_model_module": "@jupyter-widgets/controls",
            "_model_module_version": "1.5.0",
            "_model_name": "DescriptionStyleModel",
            "_view_count": null,
            "_view_module": "@jupyter-widgets/base",
            "_view_module_version": "1.2.0",
            "_view_name": "StyleView",
            "description_width": ""
          }
        },
        "d948679ecd1c40aeb3bf7a8cf416bdd1": {
          "model_module": "@jupyter-widgets/base",
          "model_name": "LayoutModel",
          "model_module_version": "1.2.0",
          "state": {
            "_model_module": "@jupyter-widgets/base",
            "_model_module_version": "1.2.0",
            "_model_name": "LayoutModel",
            "_view_count": null,
            "_view_module": "@jupyter-widgets/base",
            "_view_module_version": "1.2.0",
            "_view_name": "LayoutView",
            "align_content": null,
            "align_items": null,
            "align_self": null,
            "border": null,
            "bottom": null,
            "display": null,
            "flex": null,
            "flex_flow": null,
            "grid_area": null,
            "grid_auto_columns": null,
            "grid_auto_flow": null,
            "grid_auto_rows": null,
            "grid_column": null,
            "grid_gap": null,
            "grid_row": null,
            "grid_template_areas": null,
            "grid_template_columns": null,
            "grid_template_rows": null,
            "height": null,
            "justify_content": null,
            "justify_items": null,
            "left": null,
            "margin": null,
            "max_height": null,
            "max_width": null,
            "min_height": null,
            "min_width": null,
            "object_fit": null,
            "object_position": null,
            "order": null,
            "overflow": null,
            "overflow_x": null,
            "overflow_y": null,
            "padding": null,
            "right": null,
            "top": null,
            "visibility": null,
            "width": null
          }
        },
        "7dfef7db5c934fc18fadd4fbb767dbc3": {
          "model_module": "@jupyter-widgets/controls",
          "model_name": "ProgressStyleModel",
          "model_module_version": "1.5.0",
          "state": {
            "_model_module": "@jupyter-widgets/controls",
            "_model_module_version": "1.5.0",
            "_model_name": "ProgressStyleModel",
            "_view_count": null,
            "_view_module": "@jupyter-widgets/base",
            "_view_module_version": "1.2.0",
            "_view_name": "StyleView",
            "bar_color": null,
            "description_width": ""
          }
        },
        "15d5a9b1562b43358d7c686cb0cba3c9": {
          "model_module": "@jupyter-widgets/base",
          "model_name": "LayoutModel",
          "model_module_version": "1.2.0",
          "state": {
            "_model_module": "@jupyter-widgets/base",
            "_model_module_version": "1.2.0",
            "_model_name": "LayoutModel",
            "_view_count": null,
            "_view_module": "@jupyter-widgets/base",
            "_view_module_version": "1.2.0",
            "_view_name": "LayoutView",
            "align_content": null,
            "align_items": null,
            "align_self": null,
            "border": null,
            "bottom": null,
            "display": null,
            "flex": null,
            "flex_flow": null,
            "grid_area": null,
            "grid_auto_columns": null,
            "grid_auto_flow": null,
            "grid_auto_rows": null,
            "grid_column": null,
            "grid_gap": null,
            "grid_row": null,
            "grid_template_areas": null,
            "grid_template_columns": null,
            "grid_template_rows": null,
            "height": null,
            "justify_content": null,
            "justify_items": null,
            "left": null,
            "margin": null,
            "max_height": null,
            "max_width": null,
            "min_height": null,
            "min_width": null,
            "object_fit": null,
            "object_position": null,
            "order": null,
            "overflow": null,
            "overflow_x": null,
            "overflow_y": null,
            "padding": null,
            "right": null,
            "top": null,
            "visibility": null,
            "width": null
          }
        },
        "efe558121ebe43b8a6a12440cf9df9a8": {
          "model_module": "@jupyter-widgets/controls",
          "model_name": "DescriptionStyleModel",
          "model_module_version": "1.5.0",
          "state": {
            "_model_module": "@jupyter-widgets/controls",
            "_model_module_version": "1.5.0",
            "_model_name": "DescriptionStyleModel",
            "_view_count": null,
            "_view_module": "@jupyter-widgets/base",
            "_view_module_version": "1.2.0",
            "_view_name": "StyleView",
            "description_width": ""
          }
        },
        "7169540b1f16437bb541890a7c4e1274": {
          "model_module": "@jupyter-widgets/controls",
          "model_name": "HBoxModel",
          "model_module_version": "1.5.0",
          "state": {
            "_dom_classes": [],
            "_model_module": "@jupyter-widgets/controls",
            "_model_module_version": "1.5.0",
            "_model_name": "HBoxModel",
            "_view_count": null,
            "_view_module": "@jupyter-widgets/controls",
            "_view_module_version": "1.5.0",
            "_view_name": "HBoxView",
            "box_style": "",
            "children": [
              "IPY_MODEL_49236e5742f043d1be2551c31a03e09e",
              "IPY_MODEL_31f2b3ae6d2a481a94666754690d0e29",
              "IPY_MODEL_137641ee24cb441ea9a7605ffbaf744f"
            ],
            "layout": "IPY_MODEL_3a18f9bcef8e4c2da52b555edfab0efd"
          }
        },
        "49236e5742f043d1be2551c31a03e09e": {
          "model_module": "@jupyter-widgets/controls",
          "model_name": "HTMLModel",
          "model_module_version": "1.5.0",
          "state": {
            "_dom_classes": [],
            "_model_module": "@jupyter-widgets/controls",
            "_model_module_version": "1.5.0",
            "_model_name": "HTMLModel",
            "_view_count": null,
            "_view_module": "@jupyter-widgets/controls",
            "_view_module_version": "1.5.0",
            "_view_name": "HTMLView",
            "description": "",
            "description_tooltip": null,
            "layout": "IPY_MODEL_5d3d743da2aa49249c8334661d26d396",
            "placeholder": "​",
            "style": "IPY_MODEL_b800a31478b14f5a812ca842d943e3b0",
            "value": "pytorch_model.bin: 100%"
          }
        },
        "31f2b3ae6d2a481a94666754690d0e29": {
          "model_module": "@jupyter-widgets/controls",
          "model_name": "FloatProgressModel",
          "model_module_version": "1.5.0",
          "state": {
            "_dom_classes": [],
            "_model_module": "@jupyter-widgets/controls",
            "_model_module_version": "1.5.0",
            "_model_name": "FloatProgressModel",
            "_view_count": null,
            "_view_module": "@jupyter-widgets/controls",
            "_view_module_version": "1.5.0",
            "_view_name": "ProgressView",
            "bar_style": "success",
            "description": "",
            "description_tooltip": null,
            "layout": "IPY_MODEL_451694cb224d4c8980959b9c255a3b6e",
            "max": 1345067985,
            "min": 0,
            "orientation": "horizontal",
            "style": "IPY_MODEL_92f44e8bd241494dbfdcb6ccd5200ed5",
            "value": 1345067985
          }
        },
        "137641ee24cb441ea9a7605ffbaf744f": {
          "model_module": "@jupyter-widgets/controls",
          "model_name": "HTMLModel",
          "model_module_version": "1.5.0",
          "state": {
            "_dom_classes": [],
            "_model_module": "@jupyter-widgets/controls",
            "_model_module_version": "1.5.0",
            "_model_name": "HTMLModel",
            "_view_count": null,
            "_view_module": "@jupyter-widgets/controls",
            "_view_module_version": "1.5.0",
            "_view_name": "HTMLView",
            "description": "",
            "description_tooltip": null,
            "layout": "IPY_MODEL_32dbda5ab0b640b287b4b63cf1fa877d",
            "placeholder": "​",
            "style": "IPY_MODEL_f77a78ec3d314b4ca66630c1c628e885",
            "value": " 1.35G/1.35G [00:17&lt;00:00, 40.2MB/s]"
          }
        },
        "3a18f9bcef8e4c2da52b555edfab0efd": {
          "model_module": "@jupyter-widgets/base",
          "model_name": "LayoutModel",
          "model_module_version": "1.2.0",
          "state": {
            "_model_module": "@jupyter-widgets/base",
            "_model_module_version": "1.2.0",
            "_model_name": "LayoutModel",
            "_view_count": null,
            "_view_module": "@jupyter-widgets/base",
            "_view_module_version": "1.2.0",
            "_view_name": "LayoutView",
            "align_content": null,
            "align_items": null,
            "align_self": null,
            "border": null,
            "bottom": null,
            "display": null,
            "flex": null,
            "flex_flow": null,
            "grid_area": null,
            "grid_auto_columns": null,
            "grid_auto_flow": null,
            "grid_auto_rows": null,
            "grid_column": null,
            "grid_gap": null,
            "grid_row": null,
            "grid_template_areas": null,
            "grid_template_columns": null,
            "grid_template_rows": null,
            "height": null,
            "justify_content": null,
            "justify_items": null,
            "left": null,
            "margin": null,
            "max_height": null,
            "max_width": null,
            "min_height": null,
            "min_width": null,
            "object_fit": null,
            "object_position": null,
            "order": null,
            "overflow": null,
            "overflow_x": null,
            "overflow_y": null,
            "padding": null,
            "right": null,
            "top": null,
            "visibility": null,
            "width": null
          }
        },
        "5d3d743da2aa49249c8334661d26d396": {
          "model_module": "@jupyter-widgets/base",
          "model_name": "LayoutModel",
          "model_module_version": "1.2.0",
          "state": {
            "_model_module": "@jupyter-widgets/base",
            "_model_module_version": "1.2.0",
            "_model_name": "LayoutModel",
            "_view_count": null,
            "_view_module": "@jupyter-widgets/base",
            "_view_module_version": "1.2.0",
            "_view_name": "LayoutView",
            "align_content": null,
            "align_items": null,
            "align_self": null,
            "border": null,
            "bottom": null,
            "display": null,
            "flex": null,
            "flex_flow": null,
            "grid_area": null,
            "grid_auto_columns": null,
            "grid_auto_flow": null,
            "grid_auto_rows": null,
            "grid_column": null,
            "grid_gap": null,
            "grid_row": null,
            "grid_template_areas": null,
            "grid_template_columns": null,
            "grid_template_rows": null,
            "height": null,
            "justify_content": null,
            "justify_items": null,
            "left": null,
            "margin": null,
            "max_height": null,
            "max_width": null,
            "min_height": null,
            "min_width": null,
            "object_fit": null,
            "object_position": null,
            "order": null,
            "overflow": null,
            "overflow_x": null,
            "overflow_y": null,
            "padding": null,
            "right": null,
            "top": null,
            "visibility": null,
            "width": null
          }
        },
        "b800a31478b14f5a812ca842d943e3b0": {
          "model_module": "@jupyter-widgets/controls",
          "model_name": "DescriptionStyleModel",
          "model_module_version": "1.5.0",
          "state": {
            "_model_module": "@jupyter-widgets/controls",
            "_model_module_version": "1.5.0",
            "_model_name": "DescriptionStyleModel",
            "_view_count": null,
            "_view_module": "@jupyter-widgets/base",
            "_view_module_version": "1.2.0",
            "_view_name": "StyleView",
            "description_width": ""
          }
        },
        "451694cb224d4c8980959b9c255a3b6e": {
          "model_module": "@jupyter-widgets/base",
          "model_name": "LayoutModel",
          "model_module_version": "1.2.0",
          "state": {
            "_model_module": "@jupyter-widgets/base",
            "_model_module_version": "1.2.0",
            "_model_name": "LayoutModel",
            "_view_count": null,
            "_view_module": "@jupyter-widgets/base",
            "_view_module_version": "1.2.0",
            "_view_name": "LayoutView",
            "align_content": null,
            "align_items": null,
            "align_self": null,
            "border": null,
            "bottom": null,
            "display": null,
            "flex": null,
            "flex_flow": null,
            "grid_area": null,
            "grid_auto_columns": null,
            "grid_auto_flow": null,
            "grid_auto_rows": null,
            "grid_column": null,
            "grid_gap": null,
            "grid_row": null,
            "grid_template_areas": null,
            "grid_template_columns": null,
            "grid_template_rows": null,
            "height": null,
            "justify_content": null,
            "justify_items": null,
            "left": null,
            "margin": null,
            "max_height": null,
            "max_width": null,
            "min_height": null,
            "min_width": null,
            "object_fit": null,
            "object_position": null,
            "order": null,
            "overflow": null,
            "overflow_x": null,
            "overflow_y": null,
            "padding": null,
            "right": null,
            "top": null,
            "visibility": null,
            "width": null
          }
        },
        "92f44e8bd241494dbfdcb6ccd5200ed5": {
          "model_module": "@jupyter-widgets/controls",
          "model_name": "ProgressStyleModel",
          "model_module_version": "1.5.0",
          "state": {
            "_model_module": "@jupyter-widgets/controls",
            "_model_module_version": "1.5.0",
            "_model_name": "ProgressStyleModel",
            "_view_count": null,
            "_view_module": "@jupyter-widgets/base",
            "_view_module_version": "1.2.0",
            "_view_name": "StyleView",
            "bar_color": null,
            "description_width": ""
          }
        },
        "32dbda5ab0b640b287b4b63cf1fa877d": {
          "model_module": "@jupyter-widgets/base",
          "model_name": "LayoutModel",
          "model_module_version": "1.2.0",
          "state": {
            "_model_module": "@jupyter-widgets/base",
            "_model_module_version": "1.2.0",
            "_model_name": "LayoutModel",
            "_view_count": null,
            "_view_module": "@jupyter-widgets/base",
            "_view_module_version": "1.2.0",
            "_view_name": "LayoutView",
            "align_content": null,
            "align_items": null,
            "align_self": null,
            "border": null,
            "bottom": null,
            "display": null,
            "flex": null,
            "flex_flow": null,
            "grid_area": null,
            "grid_auto_columns": null,
            "grid_auto_flow": null,
            "grid_auto_rows": null,
            "grid_column": null,
            "grid_gap": null,
            "grid_row": null,
            "grid_template_areas": null,
            "grid_template_columns": null,
            "grid_template_rows": null,
            "height": null,
            "justify_content": null,
            "justify_items": null,
            "left": null,
            "margin": null,
            "max_height": null,
            "max_width": null,
            "min_height": null,
            "min_width": null,
            "object_fit": null,
            "object_position": null,
            "order": null,
            "overflow": null,
            "overflow_x": null,
            "overflow_y": null,
            "padding": null,
            "right": null,
            "top": null,
            "visibility": null,
            "width": null
          }
        },
        "f77a78ec3d314b4ca66630c1c628e885": {
          "model_module": "@jupyter-widgets/controls",
          "model_name": "DescriptionStyleModel",
          "model_module_version": "1.5.0",
          "state": {
            "_model_module": "@jupyter-widgets/controls",
            "_model_module_version": "1.5.0",
            "_model_name": "DescriptionStyleModel",
            "_view_count": null,
            "_view_module": "@jupyter-widgets/base",
            "_view_module_version": "1.2.0",
            "_view_name": "StyleView",
            "description_width": ""
          }
        }
      }
    }
  },
  "nbformat": 4,
  "nbformat_minor": 0
}