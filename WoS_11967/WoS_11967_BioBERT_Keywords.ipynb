{
  "cells": [
    {
      "cell_type": "code",
      "execution_count": 1,
      "metadata": {
        "colab": {
          "base_uri": "https://localhost:8080/"
        },
        "id": "iRuetRKhDN59",
        "outputId": "6fa4dfed-970d-489c-ea87-e45057b357b3"
      },
      "outputs": [
        {
          "output_type": "stream",
          "name": "stdout",
          "text": [
            "Wed Jul 31 16:16:41 2024       \n",
            "+---------------------------------------------------------------------------------------+\n",
            "| NVIDIA-SMI 535.104.05             Driver Version: 535.104.05   CUDA Version: 12.2     |\n",
            "|-----------------------------------------+----------------------+----------------------+\n",
            "| GPU  Name                 Persistence-M | Bus-Id        Disp.A | Volatile Uncorr. ECC |\n",
            "| Fan  Temp   Perf          Pwr:Usage/Cap |         Memory-Usage | GPU-Util  Compute M. |\n",
            "|                                         |                      |               MIG M. |\n",
            "|=========================================+======================+======================|\n",
            "|   0  Tesla T4                       Off | 00000000:00:04.0 Off |                    0 |\n",
            "| N/A   44C    P8               9W /  70W |      0MiB / 15360MiB |      0%      Default |\n",
            "|                                         |                      |                  N/A |\n",
            "+-----------------------------------------+----------------------+----------------------+\n",
            "                                                                                         \n",
            "+---------------------------------------------------------------------------------------+\n",
            "| Processes:                                                                            |\n",
            "|  GPU   GI   CI        PID   Type   Process name                            GPU Memory |\n",
            "|        ID   ID                                                             Usage      |\n",
            "|=======================================================================================|\n",
            "|  No running processes found                                                           |\n",
            "+---------------------------------------------------------------------------------------+\n"
          ]
        }
      ],
      "source": [
        "gpu_info = !nvidia-smi\n",
        "gpu_info = '\\n'.join(gpu_info)\n",
        "if gpu_info.find('failed') >= 0:\n",
        "  print('Not connected to a GPU')\n",
        "else:\n",
        "  print(gpu_info)"
      ]
    },
    {
      "cell_type": "code",
      "execution_count": 2,
      "metadata": {
        "colab": {
          "base_uri": "https://localhost:8080/"
        },
        "id": "7BMB0YxADN5-",
        "outputId": "e20bd42d-b3bf-4cb0-e5e7-14c8b0196ebb"
      },
      "outputs": [
        {
          "output_type": "stream",
          "name": "stdout",
          "text": [
            "Your runtime has 13.6 gigabytes of available RAM\n",
            "\n",
            "Not using a high-RAM runtime\n"
          ]
        }
      ],
      "source": [
        "from psutil import virtual_memory\n",
        "ram_gb = virtual_memory().total / 1e9\n",
        "print('Your runtime has {:.1f} gigabytes of available RAM\\n'.format(ram_gb))\n",
        "\n",
        "if ram_gb < 20:\n",
        "  print('Not using a high-RAM runtime')\n",
        "else:\n",
        "  print('You are using a high-RAM runtime!')"
      ]
    },
    {
      "cell_type": "code",
      "execution_count": 3,
      "metadata": {
        "colab": {
          "base_uri": "https://localhost:8080/"
        },
        "id": "e2qEb3ivDN5-",
        "outputId": "d932fd1b-a388-4e74-ab59-fa3a3e0dd146"
      },
      "outputs": [
        {
          "output_type": "stream",
          "name": "stdout",
          "text": [
            "Mounted at /content/drive\n"
          ]
        }
      ],
      "source": [
        "from google.colab import drive\n",
        "drive.mount('/content/drive')"
      ]
    },
    {
      "cell_type": "code",
      "execution_count": 4,
      "metadata": {
        "colab": {
          "base_uri": "https://localhost:8080/"
        },
        "id": "ZRaneJBnDN5_",
        "outputId": "b56e7e78-f87e-4a1c-d9b1-4b3f77944905"
      },
      "outputs": [
        {
          "output_type": "stream",
          "name": "stdout",
          "text": [
            "Requirement already satisfied: transformers in /usr/local/lib/python3.10/dist-packages (4.42.4)\n",
            "Requirement already satisfied: filelock in /usr/local/lib/python3.10/dist-packages (from transformers) (3.15.4)\n",
            "Requirement already satisfied: huggingface-hub<1.0,>=0.23.2 in /usr/local/lib/python3.10/dist-packages (from transformers) (0.23.5)\n",
            "Requirement already satisfied: numpy<2.0,>=1.17 in /usr/local/lib/python3.10/dist-packages (from transformers) (1.26.4)\n",
            "Requirement already satisfied: packaging>=20.0 in /usr/local/lib/python3.10/dist-packages (from transformers) (24.1)\n",
            "Requirement already satisfied: pyyaml>=5.1 in /usr/local/lib/python3.10/dist-packages (from transformers) (6.0.1)\n",
            "Requirement already satisfied: regex!=2019.12.17 in /usr/local/lib/python3.10/dist-packages (from transformers) (2024.5.15)\n",
            "Requirement already satisfied: requests in /usr/local/lib/python3.10/dist-packages (from transformers) (2.31.0)\n",
            "Requirement already satisfied: safetensors>=0.4.1 in /usr/local/lib/python3.10/dist-packages (from transformers) (0.4.3)\n",
            "Requirement already satisfied: tokenizers<0.20,>=0.19 in /usr/local/lib/python3.10/dist-packages (from transformers) (0.19.1)\n",
            "Requirement already satisfied: tqdm>=4.27 in /usr/local/lib/python3.10/dist-packages (from transformers) (4.66.4)\n",
            "Requirement already satisfied: fsspec>=2023.5.0 in /usr/local/lib/python3.10/dist-packages (from huggingface-hub<1.0,>=0.23.2->transformers) (2024.6.1)\n",
            "Requirement already satisfied: typing-extensions>=3.7.4.3 in /usr/local/lib/python3.10/dist-packages (from huggingface-hub<1.0,>=0.23.2->transformers) (4.12.2)\n",
            "Requirement already satisfied: charset-normalizer<4,>=2 in /usr/local/lib/python3.10/dist-packages (from requests->transformers) (3.3.2)\n",
            "Requirement already satisfied: idna<4,>=2.5 in /usr/local/lib/python3.10/dist-packages (from requests->transformers) (3.7)\n",
            "Requirement already satisfied: urllib3<3,>=1.21.1 in /usr/local/lib/python3.10/dist-packages (from requests->transformers) (2.0.7)\n",
            "Requirement already satisfied: certifi>=2017.4.17 in /usr/local/lib/python3.10/dist-packages (from requests->transformers) (2024.7.4)\n"
          ]
        }
      ],
      "source": [
        "!pip install transformers"
      ]
    },
    {
      "cell_type": "code",
      "execution_count": 5,
      "metadata": {
        "id": "jEVF9FbODN5_"
      },
      "outputs": [],
      "source": [
        "import os\n",
        "import numpy as np\n",
        "import pandas as pd\n",
        "from sklearn.model_selection import train_test_split\n",
        "from sklearn.metrics import confusion_matrix, classification_report, f1_score, precision_score, recall_score\n",
        "from transformers import AutoTokenizer, AutoModelForSequenceClassification, AdamW, get_linear_schedule_with_warmup\n",
        "import torch\n",
        "from torch.utils.data import DataLoader, TensorDataset, RandomSampler, SequentialSampler\n",
        "import torch.nn.functional as F\n",
        "from tqdm import trange, tqdm\n",
        "import matplotlib.pyplot as plt\n",
        "import sklearn.utils\n",
        "import time\n",
        "import re\n",
        "from google.colab import runtime"
      ]
    },
    {
      "cell_type": "code",
      "execution_count": 6,
      "metadata": {
        "colab": {
          "base_uri": "https://localhost:8080/"
        },
        "id": "d84lKOxcDN5_",
        "outputId": "e4dce407-af5c-4dd8-8aeb-3887ae3785d1"
      },
      "outputs": [
        {
          "output_type": "stream",
          "name": "stdout",
          "text": [
            "(11967, 4)\n"
          ]
        }
      ],
      "source": [
        "# Retrive the data from stored dataset\n",
        "dataDir = \"/content/drive/MyDrive/WoS/data/X11967\"\n",
        "tsvData = os.path.join(dataDir,\"WoSDataset_11967.tsv\")\n",
        "\n",
        "tsvData = np.loadtxt(tsvData, dtype=str, delimiter=\"\\t\")\n",
        "print(np.shape(tsvData))"
      ]
    },
    {
      "cell_type": "code",
      "execution_count": 7,
      "metadata": {
        "colab": {
          "base_uri": "https://localhost:8080/"
        },
        "id": "FIYp3nhcDN5_",
        "outputId": "4f859291-388c-4e23-b492-52b7eab1cd54"
      },
      "outputs": [
        {
          "output_type": "stream",
          "name": "stdout",
          "text": [
            "[['2' 'Psychology'\n",
            "  ' interview anxiety interview performance person perception job interview        '\n",
            "  'the aim of this study was to investigate a the behavioral cues that are displayed by and trait judgments formed about anxious interviewees and b why anxious interviewees receive lower interview performance ratings the behavioral expression of interview anxiety model was created as a conceptual framework to explore these relations we videotaped and transcribed mock job interviews obtained ratings of interview anxiety and interview performance and trained raters to assess several verbal and nonverbal cues and trait judgments the results indicated that few behavioral cues but several traits were related to interviewee and interviewer ratings of interview anxiety two factors emerged from our factor analysis on the trait judgmentsassertiveness and interpersonal warmth mediation analyses were performed and indicated that assertiveness and interpersonal warmth mediated the relation between interview anxiety and interview performance speech rate words spoken per minute and assertiveness were found to mediate the relation between interviewee and interviewer ratings of interview anxiety overall the results indicated that interviewees should focus less on their nervous tics and more on the broader impressions that they convey our findings indicate that anxious interviewees may want to focus on how assertive and interpersonally warm they appear to interviewers to our knowledge this is the first study to use a validated interview anxiety measure to examine behavioral cues and traits exhibited by anxious interviewees we offer new insight into why anxious interviewees receive lower interview performance ratings']\n",
            " ['0' 'CS'\n",
            "  ' affective database anxiety depression depressionanxietystress scales dass emotional state handwriting random forests stress        '\n",
            "  'the detection of negative emotions through daily activities such as writing and drawing is useful for promoting wellbeing the spread of humanmachine interfaces such as tablets makes the collection of handwriting and drawing samples easier in this context we present a first publicly available database which relates emotional states to handwriting and drawing that we call emothaw emotion recognition from handwriting and drawing this database includes samples of 129 participants whose emotional states namely anxiety depression and stress are assessed by the depressionanxietystress scales dass questionnaire seven tasks are recorded through a digitizing tablet pentagons and house drawing words copied in handprint circles and clock drawing and one sentence copied in cursive writing records consist in pen positions onpaper and inair time stamp pressure pen azimuth and altitude we report our analysis on this database from collected data we first compute measurements related to timing and ductus we compute separate measurements according to the position of the writing device on paper or inair we analyze and classify this set of measurements referred to as features using a random forest approach this latter is a machine learning method 1 based on an ensemble of decision trees which includes a feature ranking process we use this ranking process to identify the features which best reveal a targeted emotional state we then build random forest classifiers associated with each emotional state we provide accuracy sensitivity and specificity evaluation measures obtained from crossvalidation experiments our results showthat anxiety and stress recognition perform better than depression recognition']\n",
            " ['6' 'biochemistry'\n",
            "  ' dna assembly preprocessing sequence alignment gpu computing        '\n",
            "  'dnarna sequencing has recently become a primary way researchers generate biological data for further analysis assembling algorithms are an integral part of this process however some of them require pairwise alignment to be applied to a great deal of reads although several efficient alignment tools have been released over the past few years including those taking advantage of gpus graphics processing units none of them directly targets highthroughput sequencing data as a result a need arose to create software that could handle such data as effectively as possible gdna gpubased dna aligner is the first highly parallel solution that has been optimized to process nucleotide reads dnarna from modern sequencing machines results show that the software reaches up to 89 gcups giga cell updates per second on a single gpu and as a result it is the fastest tool in its class moreover it scales up well on multiple gpus systems including mpibased computational clusters where its performance is counted in tcups tera cups']\n",
            " ['3' 'MAE'\n",
            "  ' induction machine multiphase machine startergenerator 48 v automotive applications thermal analysis thermal model hybrid vehicle        '\n",
            "  'primary european carmakers agree on a 48 v embeddedsupply to support the growing currentload requirements in modern vehicles the functionalities required to the startergenerator are the engine start up launch assistant torque regenerative braking battery charging and early fuel cut off the dynamic load profile and the harsh environment working conditions make thermal issues the key challenge in the machine design the paper presents the simulation and experimental test results of a belt driven startergenerator for 48 v mini hybrid powertrains in particular a double threephase 10 kw induction machine has been selected as the suitable candidate for the application in detail the authors illustrate the experimental calibration and validation of the steady state thermal model as well as the thermal characterization of a liquid cooled prototype finally the paper deals with the temperatures prediction of the motor working in different load conditions']\n",
            " ['5' 'Medical'\n",
            "  ' alcohol abuse chronic alcoholics liver damage skin manifestations        '\n",
            "  'background chronic alcohol intake impacts skin directly through organ dysfunction or by modifying preexisting dermatoses however dermatoses afflicting chronic alcoholics figure in a few studies only aim this study aims to correlate the spectrum of dermatoses in chronic alcoholics with the quantumduration of alcohol intake and raised liver transaminases materials and methods adult males totaling 196 ascertained to fulfill the royal college of psychiatry criteria for chronic alcoholism by the de addiction center and referred for dermatological consult were enrolled as cases and similar number of age sex matched teetotallers as controls data emanating from detailed history clinical examination and routine liver functions tests were summarized and subsequently analyzed including statistically using the chisquare independent t and spearmans rank correlation tests and compared with data from previous studies results majority 104 drank 4150 units of alcoholweek since 340 mean 2001  9322 years generalized pruritus odds ratio or 3115 p  0001 xerosis or 362 p  0008 and seborrheic dermatitis or 1226 p  0001 were significantly more common in cases than controls infections 73 372 eczemas 45 229 and generalized hyperpigmentation 28 142 were the major presenting complaints spider nevi gynecomastia and pellagroid dermatitis were present in 34 173 19 97 and 8 41 respectively exclusively in cases only commonly seen systemic abnormalities were an alcoholic liver disease 45 229 diabetes mellitus 23 117 and peripheral neuropathy 19 97 conclusion knowledge of cutaneous manifestations of chronic alcoholism could prompt indepth history taking of alcohol intake lead to specialist referral and thereby enable timely de addiction hopefully before serious adversities in the chronic alcoholics']\n",
            " ['4' 'Civil' ' service reputation trust evidence theory ami        '\n",
            "  'service reputation is a key factor for service selection and service composition in serviceoriented ambient intelligence systems hence service reputation computing should fully reflect the feature of multirating fusion and the utility value dynamic attenuation characters of the rating the paper combines ds evidence theory with dynamic attenuation and puts forward a service reputation computing algorithm based on multirating fusion which is adapted to the ambient intelligence systems first a layered computing model of the service reputation is given then a mechanism of dynamic attenuation based on time windows an objective rating and advertisement honesty rating of service and a user credibility computing algorithm are presented afterward the rating information is combined with the ds evidence theory to raise an aggregation algorithm of the service general reputation for the ambient intelligence environments finally a prototype test is carried out to verify the effectiveness and availability of the model together with the algorithms']\n",
            " ['3' 'MAE'\n",
            "  ' straightening thinwalled circular steel tube crosssectional ovalization maximal flattening plastic bending        '\n",
            "  'crosssectional ovalization of thinwalled circular steel tube because of large plastic bending also known as the brazier effect usually occurs during the initial stage of tubes continuous rotary straightening process the amount of ovalization defined as maximal cross section flattening is an important technical parameter in tubes straightening process to control tubes bending deformation and prevent buckling however for the lack of special analytical model the maximal section flattening was determined in accordance with the specified charts developed by experienced operators on the basis of experimental data thus it was inevitable that the localized buckling might occur during some actual straightening operations new normal strain component formulas were derived based on the thin shell theory then strain energy of thinwalled tube per unit length was obtained using the elasticplastic theory a rational model for predicting the maximal section flattening of the thinwalled circular steel tube under its straightening process was presented by the principle of minimum potential energy the new model was validated by experiments and numerical simulations the results show that the new model agrees well with the experiments and the numerical simulations with error of less than 10 this new model was expected to find its potential application in thinwalled steel tube straightening machine design']\n",
            " ['1' 'ECE'\n",
            "  ' envelopefollowing methods simulation of switching power converters timedomain simulation highorder stable methods        '\n",
            "  'transient analysis of switching power converter spc circuits is a computationally expensive task this high expense arises from the fact that these circuits are driven by a clock with a period that is very small compared to the time interval the designer is typically interested in envelopefollowing ef technique has been recently proposed in the literature for efficient timedomain simulation of spc circuits in this paper a parallel highorder ef method which is based on obreshkovformula is presented for analysis of spc circuits a numerical example is presented to demonstrate the efficiency and scalability of the proposed method on parallel platforms']\n",
            " ['1' 'ECE'\n",
            "  ' flash flood electrical circuit analogy weibull distribution distributed modelling        '\n",
            "  'the assessment and prevention of floods require appropriate forecasting and knowledge of the related hydrological processes due to the similar form of the governing equations flood hydrograph shows a clear analytical and mathematical analogy with electrical circuits in this paper a spatially distributed hydrological model is developed which is analogue to a network of electrical resistancecapacitance with five circuits for describing the hydrological processes leading to floods the spatially distributed hydrological model simulates rainfall potential evapotranspiration canopy interception surface storage and soil storage the parameters for analogical modelling were derived from translation of the physical catchment characteristics a twoparameter weibull equation aggregates the response functions of each pixel and calculates the hydrograph of the catchment we applied the model to the openbook or tilted vcatchment theoretical benchmark problem as well as to four hourly flood events and simulation of daily discharges for the last two cases data were used from the mountainous catchment of upper tarqui in the andes of ecuador comparison of single versus multiple circuit designs for the benchmark problem indicates that the multiple circuit analogy provides a result similar to other hydrological models the results further illustrate the usefulness of the methodology for flood modelling and how it can simplify the simulation for ungauged basins of temporal and spatial variations of influencing hydrological processes']\n",
            " ['3' 'MAE'\n",
            "  ' ski motion analysis posture joint angle inertial sensor sensor fusion        '\n",
            "  'this paper deals with the motion analysis of skier gliding on the actual snow field using inertial sensors it is difficult to measure the motion of skier gliding on the actual snow field since the gliding velocity is fast and the measurement area is large therefore few studies have analyzed ski turns in gliding on the actual snow field it is necessary to analyze the skier gliding on the actual snow field in resolving the mechanism of ski turns in our previous study we developed the motion measurement method of skier using inertial and magnetic field sensors the 3d posture is estimated by applying the sensor fusion method and the method can estimate the 3d posture compensating the drift error of gyro sensor and reducing the effect of dynamic acceleration of accelerometer furthermore we developed the sensor fusion method estimating the 3d posture in local coordinate by the information of inertial sensors attaching the body segments the joint angle of skier in gliding on the actual snow field can be estimated by this method and inverse kinematics we conducted the measurement experiment by skier gliding on the actual snow field the inertial sensors and the gps receiver were attached to the body segments and the top of skier respectively skier conducted carving and skidding turns in this experiment we calculated the joint angles of skier by the information of inertial sensors and the switchovers of turns are estimated by the gps receiver output the results of motion analysis indicated the major feature of skiers motion and the difference between carving and skidding turns therefore the analysis results can be used to the skill rating the clarification of the mechanism of ski turns and the suggestion of more ideal turning form c 2013 the authors published by elsevier ltd selection and peerreview under responsibility of the school of aerospace mechanical and manufacturing engineering rmit university']]\n"
          ]
        }
      ],
      "source": [
        "print(tsvData[0:10])"
      ]
    },
    {
      "cell_type": "code",
      "execution_count": 8,
      "metadata": {
        "id": "WUvZlOibDN5_"
      },
      "outputs": [],
      "source": [
        "allLabels = tsvData[:,0]\n",
        "domains = tsvData[:,1]\n",
        "keywords = tsvData[:,2]\n",
        "abstracts = tsvData[:,3]"
      ]
    },
    {
      "cell_type": "code",
      "execution_count": 9,
      "metadata": {
        "colab": {
          "base_uri": "https://localhost:8080/"
        },
        "id": "SE5jkqySDN6A",
        "outputId": "e98985b6-6579-43aa-fb05-a5467ea0f68a"
      },
      "outputs": [
        {
          "output_type": "stream",
          "name": "stdout",
          "text": [
            "Labels  ['CS' 'Civil' 'ECE' 'MAE' 'Medical' 'Psychology' 'biochemistry']\n",
            "Label counts  [1499 2107 1132 1925 1617 1959 1728]\n"
          ]
        }
      ],
      "source": [
        "labels = np.unique(domains, return_counts=True)[0]\n",
        "labelCounts=  np.unique(domains, return_counts=True)[1]\n",
        "\n",
        "print(\"Labels \", labels)\n",
        "print(\"Label counts \", labelCounts)"
      ]
    },
    {
      "cell_type": "code",
      "execution_count": 10,
      "metadata": {
        "colab": {
          "base_uri": "https://localhost:8080/",
          "height": 558
        },
        "id": "4wUHmcLtDN6A",
        "outputId": "e47c7205-8367-4695-f676-203523b6687a"
      },
      "outputs": [
        {
          "output_type": "display_data",
          "data": {
            "text/plain": [
              "<Figure size 1000x600 with 1 Axes>"
            ],
            "image/png": "[encoded data removed]"
          },
          "metadata": {}
        },
        {
          "output_type": "stream",
          "name": "stdout",
          "text": [
            "The domain CS has 1499 records in the dataset.\n",
            "The domain Civil has 2107 records in the dataset.\n",
            "The domain ECE has 1132 records in the dataset.\n",
            "The domain MAE has 1925 records in the dataset.\n",
            "The domain Medical has 1617 records in the dataset.\n",
            "The domain Psychology has 1959 records in the dataset.\n",
            "The domain biochemistry has 1728 records in the dataset.\n"
          ]
        }
      ],
      "source": [
        "# Visualize domain counts in dataset\n",
        "plt.figure(figsize=(10, 6))\n",
        "plt.title(\"Domain Counts (Dataset)\")\n",
        "plt.pie(labelCounts, labels=labels, autopct='%1.1f%%', startangle=140, colors=plt.cm.Paired(range(len(labels))))\n",
        "plt.axis('equal')\n",
        "plt.show()\n",
        "\n",
        "for i, domain in enumerate(labels):\n",
        "    print(\"The domain\", domain, \"has\", labelCounts[i], \"records in the dataset.\")"
      ]
    },
    {
      "cell_type": "code",
      "execution_count": 11,
      "metadata": {
        "colab": {
          "base_uri": "https://localhost:8080/"
        },
        "id": "iy4b69DrDN6A",
        "outputId": "b10adeac-e031-470e-cc67-acaa2e314c15"
      },
      "outputs": [
        {
          "output_type": "stream",
          "name": "stdout",
          "text": [
            "Number of abstracts:  11967\n",
            "Shape of abstracts:  (11967,)\n",
            "['in higher education interdisciplinary gender studies centers deconstruct traditional androcentric positivist academic knowledge making it possible to apply the gender perspective to all objects of knowledge however they suffer from insufficient recognition and weak institutionalization in brazilian academia this paper focuses on the trajectories of the gender studies centers affiliated to the northnortheast gender studies feminist network redor and of their founders the analysis is based on documentary data and biographical and autobiographical narratives the histories of the centers and women intertwine personal and institutional dimensions the involvement with feminist studies influenced their personal and professional lives many of them suffered from prejudice and discrimination for researching gender practically all of them continue their activism within the universities in order to sustain their centers the research was supported by cnpq and capes grants'\n",
            " 'quality function deployment qfd is a wellknown method of developing customeroriented products for satisfying customer needs cns one important process of qfd is to determine importance weights of cns however it is also important to estimate the future importance of cns because of the existence of the time interval between determining importance weights of cns and the launch of new products in this paper an approach based on fuzzy markov chain and fuzzy weighted average methods is proposed to determine both present and future importance weights of cns a case study of a packing machine design is used to illustrate the applicability of the proposed approach']\n",
            "Number of keywords:  11967\n",
            "Shape of keywords:  (11967,)\n",
            "['in higher education interdisciplinary gender studies centers deconstruct traditional androcentric positivist academic knowledge making it possible to apply the gender perspective to all objects of knowledge however they suffer from insufficient recognition and weak institutionalization in brazilian academia this paper focuses on the trajectories of the gender studies centers affiliated to the northnortheast gender studies feminist network redor and of their founders the analysis is based on documentary data and biographical and autobiographical narratives the histories of the centers and women intertwine personal and institutional dimensions the involvement with feminist studies influenced their personal and professional lives many of them suffered from prejudice and discrimination for researching gender practically all of them continue their activism within the universities in order to sustain their centers the research was supported by cnpq and capes grants'\n",
            " 'quality function deployment qfd is a wellknown method of developing customeroriented products for satisfying customer needs cns one important process of qfd is to determine importance weights of cns however it is also important to estimate the future importance of cns because of the existence of the time interval between determining importance weights of cns and the launch of new products in this paper an approach based on fuzzy markov chain and fuzzy weighted average methods is proposed to determine both present and future importance weights of cns a case study of a packing machine design is used to illustrate the applicability of the proposed approach']\n",
            "Number of domains:  11967\n",
            "Shape of domains:  (11967,)\n",
            "['Psychology' 'MAE']\n",
            "Number of labels:  11967\n",
            "Shape of labels:  (11967,)\n",
            "['2' '3']\n",
            "['in higher education interdisciplinary gender studies centers deconstruct traditional androcentric positivist academic knowledge making it possible to apply the gender perspective to all objects of knowledge however they suffer from insufficient recognition and weak institutionalization in brazilian academia this paper focuses on the trajectories of the gender studies centers affiliated to the northnortheast gender studies feminist network redor and of their founders the analysis is based on documentary data and biographical and autobiographical narratives the histories of the centers and women intertwine personal and institutional dimensions the involvement with feminist studies influenced their personal and professional lives many of them suffered from prejudice and discrimination for researching gender practically all of them continue their activism within the universities in order to sustain their centers the research was supported by cnpq and capes grants'\n",
            " 'quality function deployment qfd is a wellknown method of developing customeroriented products for satisfying customer needs cns one important process of qfd is to determine importance weights of cns however it is also important to estimate the future importance of cns because of the existence of the time interval between determining importance weights of cns and the launch of new products in this paper an approach based on fuzzy markov chain and fuzzy weighted average methods is proposed to determine both present and future importance weights of cns a case study of a packing machine design is used to illustrate the applicability of the proposed approach'\n",
            " 'this paper is based on a prospective scenario of development of rainwater harvesting rwh on a given large urban area such as metropolitan area or region in such a perspective a new method is proposed to quantify the related potential of potable water savings ppws indicator on this type of area by adapting the reference model usually used on the building level the method is based on four settingup principles gathering definition of buildingstypes and municipalitiestypes progressing use of an intermediate level increasing choice of an upper estimation and prioritizing ranking the stakes of rwh its application to the paris agglomeration shows that is possible to save up to 11 of the total current potable water through the use of rwh it also shows that the residential sector offers the most important part because it holds twothirds of the agglomeration ppws'\n",
            " 'in this paper piezoelectric patches and electrical circuits are associated to attenuate vibration of a flat panel the resulting electrical network is equivalent to a resistorinductorcapacitor circuit performing as a tuned vibration absorber denoted by piezoelectric resonator the choice of design parameters such as the correct placement for piezoelectric patches and the optimal electrical circuit elements is assisted by finite element simulation and theoretical analysis measurements of sound transmission loss and modal analysis are conducted to demonstrate the structural vibration control and its resulting sound insulation performance it is shown that despite its reduced mass the piezoelectric resonator can be more effective than conventional damping in low frequencies which enables the overall sound insulation system to perform with lower mass in a wider frequency range'\n",
            " 'organisms inhabiting unpredictable environments often evolve diversified reproductive bethedging strategies expressed as production of multiple offspring phenotypes thereby avoiding complete reproductive failure to cope with unpredictable rainfall african annual killifish from temporary savannah pools lay droughtresistant eggs that vary widely in the duration of embryo development we examined the sources of variability in the duration of individual embryo development egg production and fertilization rate in nothobranchius furzeri using a quantitative genetics approach north carolina type ii design we found support for maternal effects rather than polyandrous mating as the primary source of the variability in the duration of embryo development the number of previously laid eggs appeared to serve as an internal physiological cue initiating a shift from rapidtoslow embryo developmental mode in annual killifish extensive phenotypic variability in progeny traits is adaptive as the conditions experienced by parents have limited relevance to the offspring generation in contrast to genetic control with high phenotypic expression and heritability maternal control of traits under natural selection prevents standing genetic diversity from potentially detrimental effects of selection in fluctuating environments'\n",
            " 'slotted axialflux machines have excellent power and torque densities however it is difficult to reduce their cogging torque due to the complexity associated with implementing classical techniques in this paper slotopening widths and tooth profiles will be shown to be significant in mitigating cogging torque in these machines in particular varying the slot opening reduced it by 52 whereas a paralleltooth rectangular profile lowered it by 24 when compared with a conventional trapezoidaltooth profile an analytical quasi3d analysis was formulated and used to analyze and determine cogging torque it was validated numerically and experimentally its versatility is in its ability to analyze different shapes of poles and slot openings which can be extended to model airgap nonuniformity this paper also presents cogging torque minimization techniques that maintain the ease of manufacture of the paralleltooth stator experimental results showed 73 and 48 reduction in cogging torque which are achieved by the use of alternating pole arcs and skewed poles'\n",
            " 'in response to palermo 2016 australian psychologist in press comments some aspects of the target paper are further elaborated here in particular given palermos timely emphasis on the potential social and cultural implications of research demonstrating the beneficial consequences of negative affect the historical background and practical implications of the experimental evidence are elaborated furthermore the reviewer also comments on the applicability of alternative theoretical conceptualizations to the data reported here and this issue also receives further attention overall it is concluded that there is now strong and convergent evidence for the often beneficial consequences of mild negative affect and these findings deserve serious consideration in practical applications of psychology and in our conceptions of what represents a healthy and balanced emotional life embracing and accepting periods of negative affectivity should be recognised as a normal and healthy part of the human condition and the cultural bias towards positive affect should be tempered by an appreciation of the adaptive benefits of dysphoria'\n",
            " 'according to french standards constructed wetlands for combined sewer overflow treatment cso cws are vertical flow filters with detention basin and outflow rate limitation their purpose is to treat rapid loads of wastewater with stochastic volumes concentrations and periodicity the first fullscale cso cw has been monitored for three years involving online equipment this provided indepth understanding of hydraulics and nitrogen dynamics the saturation of the filter was visualized along a longitudinal section to follow hydraulics at filling tracer tests showed that shortcircuiting effects which are adverse weaken during the process this was confirmed by the decreasing nh4n concentrations in the outflow as such shortcircuiting can be addressed by minimizing filling time as for nitrogen dynamics nh4n adsorption capacities were identical for the applied sandzeolite mixture and pozzolana materials to calculate interevent nitrification of adsorbed masses an equation was fitted to temperature and mass measurements the rate doubled with every 57 degrees c finally nitrate was found to get washed out by low hydraulic loads median 095 m3m2 highlighting the possibility of developing a second filter stage for denitrification the results helped to calibrate the designsupport software orage c 2017 elsevier bv all rights reserved'\n",
            " 'ambient intelligence ami is a very active topic of research that is gaining more and more attention because of its characteristics transparency and intelligence older people is one of the collectives that can take advantage of the use of ami systems because thanks to these characteristics ami systems can focus on older adults real needs so that they satisfy one of their main motivations to adapt technological innovations perceived benefits and perhaps everything related to healthcare and home care is perceived by them as both valuable and beneficial in this paper it is presented the multiagent architecture mas of a healthcare ami system to treat older people motor impairment problems by using specific devices to control the patients movements in this way the natural relationship between ami and mas is being widely exploited ami proposes the development of contextaware systems that integrate different devices to recognize the context and act accordingly agents provide an effective way to develop such systems since agents are reactive proactive and exhibit an intelligent and autonomous behavior one of the main differences of our system is that it provides therapist with support to design new therapies to adapt them to each specific person and to control their execution instead of using a fixed set of exercises'\n",
            " 'the case study presented in this paper aimed at discovering opportunities for ambient intelligence and new interaction methods for a future remote craneoperating environment the theoretical objective was to carry out an experiencedriven research project in an industrial work context and the practical objective was to create and evaluate a futureoriented science fiction prototype the work was carried out in close cooperation with an industrial partner who was a domain expert in the field of crane industry the aim was to focus on clearly defined user experience goals to which the industrial partner committed the consequent immediate objective was to focus on two explicit experiences relating to feeling of being motivated and to sense of community that were placed at the core of the design investigations these experiences were deliberated into a science fiction prototype entitled remote operators day in a future control center the science fiction prototype was further introduced to users by twofold means as a plain simple short story and through an interactive experience path the main contribution of the paper is to demonstrate how an emerging technology research of a new domain may employ science fiction prototyping method as a primary means of experience design investigations']\n",
            "[' gender studies centers higher education feminist academics redorbrazil        '\n",
            " ' customer needs fuzzy markov chain fuzzy weighted average        '\n",
            " ' paris agglomeration rainwater harvesting urban area water saving        '\n",
            " ' pzt shunt circuits control vibration        '\n",
            " ' diapause erratic rainfall genetic benefit good genes mating system        '\n",
            " ' analytical models axialflux permanentmagnet afpm machines cogging torque finiteelement analysis fea machine design manufacturing assembly numerical analysis pulsating torque ripple torque rotating machines        '\n",
            " ' affect interpersonal behaviour social cognition social judgements        '\n",
            " ' adsorption capacity combined sewer overflow constructed wetland nitrification rate orage shortcircuiting        '\n",
            " ' ambient intelligence intelligent system multiagent system healthcare ami system architecture motor impairment problems home care telerehabilitation        '\n",
            " ' user experience ux science fiction prototyping sfp humancomputer interaction hci remote crane operation intelligent environment        ']\n",
            "['Psychology' 'MAE' 'Civil' 'ECE' 'biochemistry' 'MAE' 'Psychology' 'MAE'\n",
            " 'Civil' 'Civil']\n",
            "['2' '3' '4' '1' '6' '3' '2' '3' '4' '4']\n",
            "[2 3 4 1 6 3 2 3 4 4]\n"
          ]
        }
      ],
      "source": [
        "# Shuffle data\n",
        "dataShuffled = sklearn.utils.shuffle(tsvData)\n",
        "\n",
        "abstractsShuffled = dataShuffled[:,3]\n",
        "keywordsShuffled = dataShuffled[:,2]\n",
        "domainsShuffled = dataShuffled[:,1]\n",
        "allLabelsShuffled = dataShuffled[:,0]\n",
        "\n",
        "print(\"Number of abstracts: \", len(abstractsShuffled))\n",
        "print(\"Shape of abstracts: \", np.shape(abstractsShuffled))\n",
        "print(abstractsShuffled[0:2])\n",
        "\n",
        "print(\"Number of keywords: \", len(keywordsShuffled))\n",
        "print(\"Shape of keywords: \", np.shape(keywordsShuffled))\n",
        "print(abstractsShuffled[0:2])\n",
        "\n",
        "print(\"Number of domains: \", len(domainsShuffled))\n",
        "print(\"Shape of domains: \", np.shape(domainsShuffled))\n",
        "print(domainsShuffled[0:2])\n",
        "\n",
        "print(\"Number of labels: \", len(allLabelsShuffled))\n",
        "print(\"Shape of labels: \", np.shape(allLabelsShuffled))\n",
        "print(allLabelsShuffled[0:2])\n",
        "\n",
        "\n",
        "# Convert labels to integer\n",
        "allLabelsDigitShuffled = allLabelsShuffled.astype(int)\n",
        "\n",
        "print(abstractsShuffled[0:10])\n",
        "print(keywordsShuffled[0:10])\n",
        "print(domainsShuffled[0:10])\n",
        "print(allLabelsShuffled[0:10])\n",
        "print(allLabelsDigitShuffled[0:10])"
      ]
    },
    {
      "cell_type": "code",
      "execution_count": 12,
      "metadata": {
        "colab": {
          "base_uri": "https://localhost:8080/",
          "height": 301,
          "referenced_widgets": [
            "26d78bd4012e47a7ad5f43096e8211d1",
            "edb888c8761943978de0ba4a1aae1c4e",
            "bb957fea22bc4f25ac106f8466b785b4",
            "d658a8b49e8a4e8db654af162f47b400",
            "20431ef339704751aa928718dd516446",
            "70915991a2d4463da2734db4ad4e09c7",
            "49c26048cc6f491aa8a45c4f412e7141",
            "676ef9bc22ce4884bb88b571c1fe632a",
            "dcfce3321af94fe9ac6de7581d080e38",
            "79ddc0e51a754de982453d58427e9285",
            "c3bf9abedf694cfc9cef135085a01360",
            "f9af0547774d44e89bfccdf38cf4805d",
            "4cb1c25cd23844d79608887181538c55",
            "4a675962f5d2490bb3475256c5d087af",
            "eeabf13ac6554d1aa79071e33c94c6c5",
            "301cf1edb284451bac13a5c8d3e81888",
            "d17d7f6a4c524623a84ea5e56511ea86",
            "1d0a880fd65f47b1902b11fbe871d2d4",
            "662c3b81252344a1b6f501e59791b81a",
            "acc5cf7cc82c46aeabafc8d0b2431caa",
            "83d7b9f302f943b7a64b7e68ea4bf1fe",
            "529a23a68db140e8ba0fc5b092b62ecc"
          ]
        },
        "id": "oE8v68D2DN6A",
        "outputId": "4a96eaa3-2689-42de-eb5c-5b40020ee241"
      },
      "outputs": [
        {
          "output_type": "stream",
          "name": "stdout",
          "text": [
            "(9573, 4)\n",
            "(2394, 4)\n",
            "(9573, 4)\n",
            "(2394, 4)\n",
            "(479, 4)\n"
          ]
        },
        {
          "output_type": "stream",
          "name": "stderr",
          "text": [
            "/usr/local/lib/python3.10/dist-packages/huggingface_hub/utils/_token.py:89: UserWarning: \n",
            "The secret `HF_TOKEN` does not exist in your Colab secrets.\n",
            "To authenticate with the Hugging Face Hub, create a token in your settings tab (https://huggingface.co/settings/tokens), set it as secret in your Google Colab and restart your session.\n",
            "You will be able to reuse this secret in all of your notebooks.\n",
            "Please note that authentication is recommended but still optional to access public models or datasets.\n",
            "  warnings.warn(\n"
          ]
        },
        {
          "output_type": "display_data",
          "data": {
            "text/plain": [
              "config.json:   0%|          | 0.00/1.11k [00:00<?, ?B/s]"
            ],
            "application/vnd.jupyter.widget-view+json": {
              "version_major": 2,
              "version_minor": 0,
              "model_id": "26d78bd4012e47a7ad5f43096e8211d1"
            }
          },
          "metadata": {}
        },
        {
          "output_type": "display_data",
          "data": {
            "text/plain": [
              "vocab.txt:   0%|          | 0.00/213k [00:00<?, ?B/s]"
            ],
            "application/vnd.jupyter.widget-view+json": {
              "version_major": 2,
              "version_minor": 0,
              "model_id": "f9af0547774d44e89bfccdf38cf4805d"
            }
          },
          "metadata": {}
        }
      ],
      "source": [
        "# Split dataset into training and testing (80/20 split)\n",
        "train_data, test_data = train_test_split(dataShuffled, test_size=0.2, random_state=42)\n",
        "print(np.shape(train_data))\n",
        "print(np.shape(test_data))\n",
        "\n",
        "# Further split training data into training and validation (80/20 split of training set)\n",
        "_, val_data = train_test_split(test_data, test_size=0.2, random_state=42)\n",
        "print(np.shape(train_data))\n",
        "print(np.shape(test_data))\n",
        "print(np.shape(val_data))\n",
        "# Load SciBERT tokenizer\n",
        "tokenizer = AutoTokenizer.from_pretrained(\"dmis-lab/biobert-base-cased-v1.2\")"
      ]
    },
    {
      "cell_type": "code",
      "execution_count": 13,
      "metadata": {
        "colab": {
          "base_uri": "https://localhost:8080/"
        },
        "id": "ONFXZGUUDN6A",
        "outputId": "2098a7c7-de05-4f12-c736-b5833d51dd06"
      },
      "outputs": [
        {
          "output_type": "stream",
          "name": "stdout",
          "text": [
            "Number of abstracts:  9573\n",
            "Shape of abstracts:  (9573,)\n",
            "Number of keywords:  9573\n",
            "Shape of keywords:  (9573,)\n",
            "Number of domains:  9573\n",
            "Shape of domains:  (9573,)\n",
            "Number of labels:  9573\n",
            "Shape of labels:  (9573,)\n",
            "['backgroundpavlovianinstrumentaltransfer pit examines the effects of associative learning upon instrumental responding previous studies examining pit with ethanol etohmaintained responding showed increases in responding following presentation of an etohpaired conditioned stimulus cs recently we conducted 2 studies examining pit with an etohpaired cs one of these found increases in responding while the other did not this less robust demonstration of pit may have resulted from the form of the cs used as we used a 120second light stimulus as a cs while the previous studies used either a 120second auditory stimulus or a 10second light stimulus this study examined whether using conditions similar to our earlier study but with either a 120second auditory or a 10second light stimulus as a cs resulted in more robust pit we also examined the reliability of our previous failure to observe pit methodsthree experiments were conducted examining whether pit was obtained using i a 120second light stimulus ii a 10second light stimulus or iii a 120second auditory stimulus as css resultswe found pit was not obtained using i a 120second light stimulus as a cs ii a 10second light stimulus as a cs or iii a 120second auditory stimulus as a cs conclusionsthese results suggest that cs form does not account for our earlier failure to see pit rather factors like rat strain or how etoh drinking is induced may account for when pit is or is not observed'\n",
            " 'food supply and consumption are critical for sustaining urban system functions and are key determinants of the quantity and pathways of nutrient flow in cities nutrient elements from urban food consumption are becoming major pollutant sources in urban environments therefore understanding flow magnitude and pathways the role of a growing population and changing dietary structure and technology in future nutrient metabolism are essential to understand cities as ecosystems and urban environmental management taking the city of xiamen a rapid urbanizing area of southeast china as a case study we simulated urban metabolism of three major foodsourced nutrient elements carbon nitrogen and phosphorus or cnp over 19912010 and environmental emissions impacts of future population growth dietary habit change and waste treatment improvement on various environments were forecast by scenario analysis a sensitivity analysis was conducted to test how different waste treatment technologies affect environmental emissions from foodsourced nutrients our results show that the foodsourced cnp had various metabolic fluxes through urban systems with carbon mostly emitted into the air and nitrogen and phosphorus mostly discharged into landfills and water population growth and dietary structure change will accelerate increases of nutrient emissions to the environment whereas enhancing current waste treatment technology can just alter emissions to different environments based on the results we discuss how foodsourced nutrient metabolism can be better managed to enhance connectivity between cities and their hinterlands and maintain environmental emissions within the carrying capacity of the cities c 2016 published by elsevier ltd']\n",
            "[' alcoholism ethanol selfadministration operant behavior craving relapse        '\n",
            " ' urban metabolism nutrient flows carbon nitrogen phosphorus china        ']\n",
            "['Medical' 'Civil']\n",
            "['5' '4']\n"
          ]
        }
      ],
      "source": [
        "abstractsTrain = train_data[:,3]\n",
        "keywordsTrain = train_data[:,2]\n",
        "domainsTrain = train_data[:,1]\n",
        "allLabelsTrain = train_data[:,0]\n",
        "\n",
        "print(\"Number of abstracts: \",len(abstractsTrain))\n",
        "print(\"Shape of abstracts: \",np.shape(abstractsTrain))\n",
        "print(\"Number of keywords: \",len(keywordsTrain))\n",
        "print(\"Shape of keywords: \",np.shape(keywordsTrain))\n",
        "print(\"Number of domains: \",len(domainsTrain))\n",
        "print(\"Shape of domains: \",np.shape(domainsTrain))\n",
        "print(\"Number of labels: \",len(allLabelsTrain))\n",
        "print(\"Shape of labels: \",np.shape(allLabelsTrain))\n",
        "\n",
        "print(abstractsTrain[0:2])\n",
        "print(keywordsTrain[0:2])\n",
        "print(domainsTrain[0:2])\n",
        "print(allLabelsTrain[0:2])"
      ]
    },
    {
      "cell_type": "code",
      "execution_count": 14,
      "metadata": {
        "colab": {
          "base_uri": "https://localhost:8080/",
          "height": 594
        },
        "id": "RBJjrIkeDN6A",
        "outputId": "03db1d84-af69-4962-cd39-c41497093e78"
      },
      "outputs": [
        {
          "output_type": "stream",
          "name": "stdout",
          "text": [
            "Labels  ['CS' 'Civil' 'ECE' 'MAE' 'Medical' 'Psychology' 'biochemistry']\n",
            "Label counts  [1172 1688  905 1560 1273 1575 1400]\n"
          ]
        },
        {
          "output_type": "display_data",
          "data": {
            "text/plain": [
              "<Figure size 1000x600 with 1 Axes>"
            ],
            "image/png": "[encoded data removed]"
          },
          "metadata": {}
        },
        {
          "output_type": "stream",
          "name": "stdout",
          "text": [
            "The domain CS has 1172 records in the training set.\n",
            "The domain Civil has 1688 records in the training set.\n",
            "The domain ECE has 905 records in the training set.\n",
            "The domain MAE has 1560 records in the training set.\n",
            "The domain Medical has 1273 records in the training set.\n",
            "The domain Psychology has 1575 records in the training set.\n",
            "The domain biochemistry has 1400 records in the training set.\n"
          ]
        }
      ],
      "source": [
        "labels = np.unique(domainsTrain, return_counts=True)[0]\n",
        "labelCounts =  np.unique(domainsTrain, return_counts=True)[1]\n",
        "\n",
        "print(\"Labels \", labels)\n",
        "print(\"Label counts \", labelCounts)\n",
        "\n",
        "nAbstract = len(abstractsTrain)\n",
        "plt.figure(figsize=(10, 6))\n",
        "plt.title(\"Domain Counts (Training Set)\")\n",
        "plt.pie(labelCounts, labels=labels, autopct='%1.1f%%', startangle=140, colors=plt.cm.Paired(range(len(labels))))\n",
        "plt.axis('equal')  # Equal aspect ratio ensures that pie is drawn as a circle.\n",
        "plt.show()\n",
        "\n",
        "for i, domain in enumerate(labels):\n",
        "    print(\"The domain\", domain, \"has\", labelCounts[i], \"records in the training set.\")"
      ]
    },
    {
      "cell_type": "code",
      "execution_count": 15,
      "metadata": {
        "colab": {
          "base_uri": "https://localhost:8080/"
        },
        "id": "o4urSnRFDN6B",
        "outputId": "800c292a-0325-49d3-d3f4-54928b1c8685"
      },
      "outputs": [
        {
          "output_type": "stream",
          "name": "stdout",
          "text": [
            "Number of abstracts:  2394\n",
            "Shape of abstracts:  (2394,)\n",
            "Number of keywords:  2394\n",
            "Shape of keywords:  (2394,)\n",
            "Number of domains:  2394\n",
            "Shape of domains:  (2394,)\n",
            "Number of labels:  2394\n",
            "Shape of labels:  (2394,)\n",
            "['efficient power generation techniques used in a modern aircraft are described in the form of a high voltage variable frequency starter generator its advantages in enabling an allelectric aircraft are discussed machine design aspects of such a system are obtained from detailed analysis of the output equation of a high speed rotating machine case studies are taken by varying various parameters of the equation and results obtained are compared graphically new and important conclusions derived from the study are summarized'\n",
            " 'optimization of cutting parameters is very important issues in manufacturing engineering for slender bar turning operations drumshaped error is one of the most important product quality characteristics in this work an artificial neural network model was developed firstly to describe the relationship between cutting parameters and drumshaped error in slender bar turning process based on the obtained model cutting parameter was optimized to satisfy the specified drumshaped error and economics criterion in multipass turning of slender bar due to the high complexity of the machining optimization problem genetic algorithm was employed to resolve this problem experimental results show that the proposed optimization method is both effective and efficient for slender bar turning operations']\n",
            "[' aircraft machine design aircraft electrical systems integrated starter generator        '\n",
            " ' optimization slender bar artificial neural network genetic algorithm drumshaped error        ']\n",
            "['MAE' 'MAE']\n",
            "['3' '3']\n"
          ]
        }
      ],
      "source": [
        "abstractsTest = test_data[:,3]\n",
        "keywordsTest = test_data[:,2]\n",
        "domainsTest = test_data[:,1]\n",
        "allLabelsTest = test_data[:,0]\n",
        "\n",
        "print(\"Number of abstracts: \",len(abstractsTest))\n",
        "print(\"Shape of abstracts: \",np.shape(abstractsTest))\n",
        "print(\"Number of keywords: \",len(keywordsTest))\n",
        "print(\"Shape of keywords: \",np.shape(keywordsTest))\n",
        "print(\"Number of domains: \",len(domainsTest))\n",
        "print(\"Shape of domains: \",np.shape(domainsTest))\n",
        "print(\"Number of labels: \",len(allLabelsTest))\n",
        "print(\"Shape of labels: \",np.shape(allLabelsTest))\n",
        "\n",
        "# arr = np.array(domainsTest)\n",
        "# cleaned_domains = np.char.strip(arr)\n",
        "# print(\"Cleaned arr \", cleaned_domains)\n",
        "# domainsLabelsTest = cleaned_domains\n",
        "# print(\"Labels domains \", domainsLabelsTest)\n",
        "\n",
        "print(abstractsTest[0:2])\n",
        "print(keywordsTest[0:2])\n",
        "print(domainsTest[0:2])\n",
        "print(allLabelsTest[0:2])"
      ]
    },
    {
      "cell_type": "code",
      "execution_count": 16,
      "metadata": {
        "colab": {
          "base_uri": "https://localhost:8080/",
          "height": 595
        },
        "id": "wXDx7H28DN6B",
        "outputId": "62d8cdf5-d19b-4204-c9ff-933d836e92b4"
      },
      "outputs": [
        {
          "output_type": "stream",
          "name": "stdout",
          "text": [
            "Labels  ['CS' 'Civil' 'ECE' 'MAE' 'Medical' 'Psychology' 'biochemistry']\n",
            "Label counts  [327 419 227 365 344 384 328]\n"
          ]
        },
        {
          "output_type": "display_data",
          "data": {
            "text/plain": [
              "<Figure size 1000x600 with 1 Axes>"
            ],
            "image/png": "[encoded data removed]"
          },
          "metadata": {}
        },
        {
          "output_type": "stream",
          "name": "stdout",
          "text": [
            "The domain CS has 327 records in the test set.\n",
            "The domain Civil has 419 records in the test set.\n",
            "The domain ECE has 227 records in the test set.\n",
            "The domain MAE has 365 records in the test set.\n",
            "The domain Medical has 344 records in the test set.\n",
            "The domain Psychology has 384 records in the test set.\n",
            "The domain biochemistry has 328 records in the test set.\n"
          ]
        }
      ],
      "source": [
        "labels = np.unique(domainsTest, return_counts=True)[0]\n",
        "labelCounts =  np.unique(domainsTest, return_counts=True)[1]\n",
        "\n",
        "print(\"Labels \", labels)\n",
        "print(\"Label counts \", labelCounts)\n",
        "\n",
        "nAbstract = len(abstractsTest)\n",
        "plt.figure(figsize=(10, 6))\n",
        "plt.title(\"Domain Counts (Test Set)\")\n",
        "plt.pie(labelCounts, labels=labels, autopct='%1.1f%%', startangle=140, colors=plt.cm.Paired(range(len(labels))))\n",
        "plt.axis('equal')  # Equal aspect ratio ensures that pie is drawn as a circle.\n",
        "plt.show()\n",
        "\n",
        "for i, domain in enumerate(labels):\n",
        "    print(\"The domain\", domain, \"has\", labelCounts[i], \"records in the test set.\")"
      ]
    },
    {
      "cell_type": "code",
      "execution_count": 17,
      "metadata": {
        "colab": {
          "base_uri": "https://localhost:8080/"
        },
        "id": "zkEyui06DN6B",
        "outputId": "01896203-35fe-447b-b37f-9ea60be14683"
      },
      "outputs": [
        {
          "output_type": "stream",
          "name": "stdout",
          "text": [
            "Number of abstracts:  479\n",
            "Shape of abstracts:  (479,)\n",
            "Number of keywords:  479\n",
            "Shape of keywords:  (479,)\n",
            "Number of domains:  479\n",
            "Shape of domains:  (479,)\n",
            "Number of labels:  479\n",
            "Shape of labels:  (479,)\n",
            "['this study examines whether the perception of peripersonal actionspace and interpersonal socialspace is modified in patients with restrictivetype anorexia in two experimental conditions using videos first participants stopped the video of an approaching stimulus when they felt the distance to be comfortable for interacting with it firstperson perspective second participants stopped the video when an observed individual approaching a stimulus or being approached by it was at a comfortable distance thirdperson perspective in the firstperson perspective the results showed an estimation of peripersonal space that did not differ from controls when an object was approaching and an increase in interpersonal space compared with controls when a male or female individual was approaching in the thirdperson perspective both individualobject and individualindividual distances were larger in anorexic patients these results indicate a specific deficit in adjusting interpersonal distances in both the firstperson and thirdperson perspectives copyright c 2017 john wiley  sons ltd and eating disorders association'\n",
            " 'pathwhiz is a web server built to facilitate the creation of colorful interactive visually pleasing pathway diagrams that are rich in biological information the pathways generated by this online application are machinereadable and fully compatible with essentially all webbrowsers and computer operating systems it uses a specially developed webenabled pathway drawing interface that permits the selection and placement of different combinations of predrawn biological or biochemical entities to depict reactions interactions transport processes and binding events this palette of entities consists of chemical compounds proteins nucleic acids cellular membranes subcellular structures tissues and organs all of the visual elements in it can be interactively adjusted and customized furthermore because this tool is a web server all pathways and pathway elements are publicly accessible this kind of pathway crowd sourcing means that pathwhiz already contains a large and rapidly growing collection of previously drawn pathways and pathway elements here we describe a protocol for the quick and easy creation of new pathways and the alteration of existing pathways to further facilitate pathway editing and creation the tool contains replication and propagation functions the replication function allows existing pathways to be used as templates to create or edit new pathways the propagation function allows one to take an existing pathway and automatically propagate it across different species pathways created with this tool can be restyled into different formats kegglike or textbook like colored with different backgrounds exported to biopax sbgnml sbml or pwml data exchange formats and downloaded as png or svg images the pathways can easily be incorporated into online databases integrated into presentations posters or publications or used exclusively for online visualization and exploration this protocol has been successfully applied to generate over 2000 pathway diagrams which are now found in many online databases including hmdb drugbank smpdb and ecmdb']\n",
            "[' anorexia peripersonal space interpersonal space interaction social cognition        '\n",
            " ' biochemistry issue 120 pathway diagram web reaction illustration metabolism interaction signaling disease drug        ']\n",
            "['Psychology' 'CS']\n",
            "['2' '0']\n"
          ]
        }
      ],
      "source": [
        "abstractsVal = val_data[:,3]\n",
        "keywordsVal = val_data[:,2]\n",
        "domainsVal = val_data[:,1]\n",
        "allLabelsVal = val_data[:,0]\n",
        "\n",
        "print(\"Number of abstracts: \",len(abstractsVal))\n",
        "print(\"Shape of abstracts: \",np.shape(abstractsVal))\n",
        "print(\"Number of keywords: \",len(keywordsVal))\n",
        "print(\"Shape of keywords: \",np.shape(keywordsVal))\n",
        "print(\"Number of domains: \",len(domainsVal))\n",
        "print(\"Shape of domains: \",np.shape(domainsVal))\n",
        "print(\"Number of labels: \",len(allLabelsVal))\n",
        "print(\"Shape of labels: \",np.shape(allLabelsVal))\n",
        "\n",
        "print(abstractsVal[0:2])\n",
        "print(keywordsVal[0:2])\n",
        "print(domainsVal[0:2])\n",
        "print(allLabelsVal[0:2])"
      ]
    },
    {
      "cell_type": "code",
      "execution_count": 18,
      "metadata": {
        "colab": {
          "base_uri": "https://localhost:8080/",
          "height": 594
        },
        "id": "1ax8-nZaDN6B",
        "outputId": "424c09ed-fa28-4cd7-f713-4fff177011b6"
      },
      "outputs": [
        {
          "output_type": "stream",
          "name": "stdout",
          "text": [
            "Labels  ['CS' 'Civil' 'ECE' 'MAE' 'Medical' 'Psychology' 'biochemistry']\n",
            "Label counts  [76 86 32 78 77 67 63]\n"
          ]
        },
        {
          "output_type": "display_data",
          "data": {
            "text/plain": [
              "<Figure size 1000x600 with 1 Axes>"
            ],
            "image/png": "[encoded data removed]"
          },
          "metadata": {}
        },
        {
          "output_type": "stream",
          "name": "stdout",
          "text": [
            "The domain CS has 76 records in the vaidation set.\n",
            "The domain Civil has 86 records in the vaidation set.\n",
            "The domain ECE has 32 records in the vaidation set.\n",
            "The domain MAE has 78 records in the vaidation set.\n",
            "The domain Medical has 77 records in the vaidation set.\n",
            "The domain Psychology has 67 records in the vaidation set.\n",
            "The domain biochemistry has 63 records in the vaidation set.\n"
          ]
        }
      ],
      "source": [
        "labels = np.unique(domainsVal, return_counts=True)[0]\n",
        "labelCounts =  np.unique(domainsVal, return_counts=True)[1]\n",
        "\n",
        "print(\"Labels \", labels)\n",
        "print(\"Label counts \", labelCounts)\n",
        "\n",
        "nAbstract = len(abstractsVal)\n",
        "plt.figure(figsize=(10, 6))\n",
        "plt.title(\"Domain Counts (Validation Set)\")\n",
        "plt.pie(labelCounts, labels=labels, autopct='%1.1f%%', startangle=140, colors=plt.cm.Paired(range(len(labels))))\n",
        "plt.axis('equal')  # Equal aspect ratio ensures that pie is drawn as a circle.\n",
        "plt.show()\n",
        "\n",
        "for i, domain in enumerate(labels):\n",
        "    print(\"The domain\", domain, \"has\", labelCounts[i], \"records in the vaidation set.\")"
      ]
    },
    {
      "cell_type": "code",
      "execution_count": 19,
      "metadata": {
        "id": "sxbOFbMrDN6C"
      },
      "outputs": [],
      "source": [
        "# Function to tokenize and encode the dataset\n",
        "def encode_data(data, tokenizer, max_length=128):\n",
        "    # print(len(data[:,2]))\n",
        "    inputs = tokenizer(\n",
        "        data[:,2].tolist(), # keywords\n",
        "        max_length=max_length,\n",
        "        padding='max_length',\n",
        "        truncation=True,\n",
        "        return_tensors=\"pt\"\n",
        "    )\n",
        "    # print(len(dataShuffled[:, 0]))\n",
        "    labels = torch.tensor(data[:, 0].astype(int))\n",
        "    print(\"Label length \", len(labels))\n",
        "    return TensorDataset(inputs['input_ids'], inputs['attention_mask'], labels)"
      ]
    },
    {
      "cell_type": "code",
      "execution_count": 20,
      "metadata": {
        "colab": {
          "base_uri": "https://localhost:8080/"
        },
        "id": "Y8_HDuDUDN6C",
        "outputId": "6166627e-fe7d-4dd1-e455-4057c312a17a"
      },
      "outputs": [
        {
          "output_type": "stream",
          "name": "stdout",
          "text": [
            "(9573, 4)\n",
            "(2394, 4)\n",
            "(479, 4)\n"
          ]
        }
      ],
      "source": [
        "print(np.shape(train_data))\n",
        "print(np.shape(test_data))\n",
        "print(np.shape(val_data))\n"
      ]
    },
    {
      "cell_type": "code",
      "execution_count": 21,
      "metadata": {
        "colab": {
          "base_uri": "https://localhost:8080/"
        },
        "id": "c6avATPgDN6C",
        "outputId": "11d3f180-dea6-49ea-db58-567ab319bcf0"
      },
      "outputs": [
        {
          "output_type": "stream",
          "name": "stdout",
          "text": [
            "Label length  9573\n",
            "Label length  479\n",
            "Label length  2394\n"
          ]
        }
      ],
      "source": [
        "# Encode training, validation, and testing data\n",
        "train_dataset = encode_data(train_data, tokenizer)\n",
        "val_dataset = encode_data(val_data, tokenizer)\n",
        "test_dataset = encode_data(test_data, tokenizer)\n",
        "\n",
        "\n",
        "\n",
        "# Data loaders\n",
        "train_dataloader = DataLoader(train_dataset, sampler=RandomSampler(train_dataset), batch_size=32)\n",
        "val_dataloader = DataLoader(val_dataset, sampler=SequentialSampler(val_dataset), batch_size=32)\n",
        "test_dataloader = DataLoader(test_dataset, sampler=SequentialSampler(test_dataset), batch_size=32)"
      ]
    },
    {
      "cell_type": "code",
      "execution_count": 22,
      "metadata": {
        "colab": {
          "base_uri": "https://localhost:8080/",
          "height": 940,
          "referenced_widgets": [
            "7ce0d0ad6b2f464d884290fbe55486fa",
            "e04b273e14694b20bd1b7378a086cb10",
            "0c2e6e13dec941769f1a6e018a9825cb",
            "c344f9c76ab74f198f3d04a4bed4c796",
            "6de509d217164db4b68e1d599caeda58",
            "58f72447afad48978fca1e41c48103c1",
            "db7b48fa538748f9839a0710f6f32560",
            "d9cb634c040c4d8798b6c644a5fb8f8c",
            "ab30a08876c5405085f721c06f082d77",
            "f9d0ccc35052466badabbd65767f1efb",
            "896940572838417b9d5c45f9601972c0"
          ]
        },
        "id": "ybVLIN-JDN6C",
        "outputId": "466acd71-d419-4d08-88f1-5369770464b6"
      },
      "outputs": [
        {
          "output_type": "stream",
          "name": "stdout",
          "text": [
            "7\n"
          ]
        },
        {
          "output_type": "display_data",
          "data": {
            "text/plain": [
              "pytorch_model.bin:   0%|          | 0.00/436M [00:00<?, ?B/s]"
            ],
            "application/vnd.jupyter.widget-view+json": {
              "version_major": 2,
              "version_minor": 0,
              "model_id": "7ce0d0ad6b2f464d884290fbe55486fa"
            }
          },
          "metadata": {}
        },
        {
          "output_type": "stream",
          "name": "stderr",
          "text": [
            "Some weights of BertForSequenceClassification were not initialized from the model checkpoint at dmis-lab/biobert-base-cased-v1.2 and are newly initialized: ['classifier.bias', 'classifier.weight']\n",
            "You should probably TRAIN this model on a down-stream task to be able to use it for predictions and inference.\n"
          ]
        },
        {
          "output_type": "execute_result",
          "data": {
            "text/plain": [
              "BertForSequenceClassification(\n",
              "  (bert): BertModel(\n",
              "    (embeddings): BertEmbeddings(\n",
              "      (word_embeddings): Embedding(28996, 768, padding_idx=0)\n",
              "      (position_embeddings): Embedding(512, 768)\n",
              "      (token_type_embeddings): Embedding(2, 768)\n",
              "      (LayerNorm): LayerNorm((768,), eps=1e-12, elementwise_affine=True)\n",
              "      (dropout): Dropout(p=0.1, inplace=False)\n",
              "    )\n",
              "    (encoder): BertEncoder(\n",
              "      (layer): ModuleList(\n",
              "        (0-11): 12 x BertLayer(\n",
              "          (attention): BertAttention(\n",
              "            (self): BertSdpaSelfAttention(\n",
              "              (query): Linear(in_features=768, out_features=768, bias=True)\n",
              "              (key): Linear(in_features=768, out_features=768, bias=True)\n",
              "              (value): Linear(in_features=768, out_features=768, bias=True)\n",
              "              (dropout): Dropout(p=0.1, inplace=False)\n",
              "            )\n",
              "            (output): BertSelfOutput(\n",
              "              (dense): Linear(in_features=768, out_features=768, bias=True)\n",
              "              (LayerNorm): LayerNorm((768,), eps=1e-12, elementwise_affine=True)\n",
              "              (dropout): Dropout(p=0.1, inplace=False)\n",
              "            )\n",
              "          )\n",
              "          (intermediate): BertIntermediate(\n",
              "            (dense): Linear(in_features=768, out_features=3072, bias=True)\n",
              "            (intermediate_act_fn): GELUActivation()\n",
              "          )\n",
              "          (output): BertOutput(\n",
              "            (dense): Linear(in_features=3072, out_features=768, bias=True)\n",
              "            (LayerNorm): LayerNorm((768,), eps=1e-12, elementwise_affine=True)\n",
              "            (dropout): Dropout(p=0.1, inplace=False)\n",
              "          )\n",
              "        )\n",
              "      )\n",
              "    )\n",
              "    (pooler): BertPooler(\n",
              "      (dense): Linear(in_features=768, out_features=768, bias=True)\n",
              "      (activation): Tanh()\n",
              "    )\n",
              "  )\n",
              "  (dropout): Dropout(p=0.1, inplace=False)\n",
              "  (classifier): Linear(in_features=768, out_features=7, bias=True)\n",
              ")"
            ]
          },
          "metadata": {},
          "execution_count": 22
        }
      ],
      "source": [
        "# Load SciBERT model\n",
        "print(len(np.unique(train_data[:,0])))\n",
        "model = AutoModelForSequenceClassification.from_pretrained(\"dmis-lab/biobert-base-cased-v1.2\", num_labels=len(np.unique(train_data[:,0])))\n",
        "device = torch.device(\"cuda\" if torch.cuda.is_available() else \"cpu\")\n",
        "model.to(device)"
      ]
    },
    {
      "cell_type": "code",
      "execution_count": 23,
      "metadata": {
        "colab": {
          "base_uri": "https://localhost:8080/"
        },
        "id": "ps1DInjXDN6C",
        "outputId": "e9157e72-1adf-44b7-8360-b3698d0fcbaf"
      },
      "outputs": [
        {
          "output_type": "execute_result",
          "data": {
            "text/plain": [
              "BertConfig {\n",
              "  \"_name_or_path\": \"dmis-lab/biobert-base-cased-v1.2\",\n",
              "  \"architectures\": [\n",
              "    \"BertForMaskedLM\"\n",
              "  ],\n",
              "  \"attention_probs_dropout_prob\": 0.1,\n",
              "  \"classifier_dropout\": null,\n",
              "  \"hidden_act\": \"gelu\",\n",
              "  \"hidden_dropout_prob\": 0.1,\n",
              "  \"hidden_size\": 768,\n",
              "  \"id2label\": {\n",
              "    \"0\": \"LABEL_0\",\n",
              "    \"1\": \"LABEL_1\",\n",
              "    \"2\": \"LABEL_2\",\n",
              "    \"3\": \"LABEL_3\",\n",
              "    \"4\": \"LABEL_4\",\n",
              "    \"5\": \"LABEL_5\",\n",
              "    \"6\": \"LABEL_6\"\n",
              "  },\n",
              "  \"initializer_range\": 0.02,\n",
              "  \"intermediate_size\": 3072,\n",
              "  \"label2id\": {\n",
              "    \"LABEL_0\": 0,\n",
              "    \"LABEL_1\": 1,\n",
              "    \"LABEL_2\": 2,\n",
              "    \"LABEL_3\": 3,\n",
              "    \"LABEL_4\": 4,\n",
              "    \"LABEL_5\": 5,\n",
              "    \"LABEL_6\": 6\n",
              "  },\n",
              "  \"layer_norm_eps\": 1e-12,\n",
              "  \"max_position_embeddings\": 512,\n",
              "  \"model_type\": \"bert\",\n",
              "  \"num_attention_heads\": 12,\n",
              "  \"num_hidden_layers\": 12,\n",
              "  \"pad_token_id\": 0,\n",
              "  \"position_embedding_type\": \"absolute\",\n",
              "  \"transformers_version\": \"4.42.4\",\n",
              "  \"type_vocab_size\": 2,\n",
              "  \"use_cache\": true,\n",
              "  \"vocab_size\": 28996\n",
              "}"
            ]
          },
          "metadata": {},
          "execution_count": 23
        }
      ],
      "source": [
        "model.config"
      ]
    },
    {
      "cell_type": "code",
      "execution_count": 24,
      "metadata": {
        "colab": {
          "base_uri": "https://localhost:8080/"
        },
        "id": "qmjlyLnkDN6C",
        "outputId": "80dacd5a-b8bc-4331-c38a-7f734a4a4462"
      },
      "outputs": [
        {
          "output_type": "stream",
          "name": "stderr",
          "text": [
            "/usr/local/lib/python3.10/dist-packages/transformers/optimization.py:591: FutureWarning: This implementation of AdamW is deprecated and will be removed in a future version. Use the PyTorch implementation torch.optim.AdamW instead, or set `no_deprecation_warning=True` to disable this warning\n",
            "  warnings.warn(\n"
          ]
        }
      ],
      "source": [
        "# Optimizer and learning rate scheduler\n",
        "optimizer = AdamW(model.parameters(), lr=2e-5, eps=1e-8)\n",
        "total_steps = len(train_dataloader) * 20\n",
        "num_warmup_steps = 1e-4\n",
        "scheduler = get_linear_schedule_with_warmup(optimizer, num_warmup_steps=num_warmup_steps, num_training_steps=total_steps)"
      ]
    },
    {
      "cell_type": "code",
      "execution_count": 25,
      "metadata": {
        "id": "xj4AnpxJDN6C"
      },
      "outputs": [],
      "source": [
        "def calculate_metrics(valType, predictions, true_labels):\n",
        "    # Confusion matrix\n",
        "    if(valType == 'test'):\n",
        "        cm = confusion_matrix(true_labels, predictions)\n",
        "        print(\"Confusion Matrix:\\n\", cm)\n",
        "\n",
        "        # Classification report (includes precision, recall, F1 score)\n",
        "        report = classification_report(true_labels, predictions, target_names=[str(i) for i in range(len(np.unique(true_labels)))])\n",
        "        print(\"\\nClassification Report:\\n\", report)\n",
        "\n",
        "        # Calculate different types of F1 scores, precision, and recall\n",
        "        f1_macro = f1_score(true_labels, predictions, average='macro')\n",
        "        f1_micro = f1_score(true_labels, predictions, average='micro')\n",
        "        f1_weighted = f1_score(true_labels, predictions, average='weighted')\n",
        "\n",
        "        precision_macro = precision_score(true_labels, predictions, average='macro')\n",
        "        precision_micro = precision_score(true_labels, predictions, average='micro')\n",
        "        precision_weighted = precision_score(true_labels, predictions, average='weighted')\n",
        "\n",
        "        recall_macro = recall_score(true_labels, predictions, average='macro')\n",
        "        recall_micro = recall_score(true_labels, predictions, average='micro')\n",
        "        recall_weighted = recall_score(true_labels, predictions, average='weighted')\n",
        "\n",
        "        print(f\"Macro F1 Score: {f1_macro}\")\n",
        "        print(f\"Micro F1 Score: {f1_micro}\")\n",
        "        print(f\"Weighted F1 Score: {f1_weighted}\")\n",
        "\n",
        "        print(f\"Macro Precision: {precision_macro}\")\n",
        "        print(f\"Micro Precision: {precision_micro}\")\n",
        "        print(f\"Weighted Precision: {precision_weighted}\")\n",
        "\n",
        "        print(f\"Macro Recall: {recall_macro}\")\n",
        "        print(f\"Micro Recall: {recall_micro}\")\n",
        "        print(f\"Weighted Recall: {recall_weighted}\")\n",
        "\n",
        "    elif(valType == 'val'):\n",
        "        cm = confusion_matrix(true_labels, predictions)\n",
        "        f1_macro = f1_score(true_labels, predictions, average='macro')\n",
        "        f1_micro = f1_score(true_labels, predictions, average='micro')\n",
        "        f1_weighted = f1_score(true_labels, predictions, average='weighted')\n",
        "\n",
        "        precision_macro = precision_score(true_labels, predictions, average='macro')\n",
        "        precision_micro = precision_score(true_labels, predictions, average='micro')\n",
        "        precision_weighted = precision_score(true_labels, predictions, average='weighted')\n",
        "\n",
        "        recall_macro = recall_score(true_labels, predictions, average='macro')\n",
        "        recall_micro = recall_score(true_labels, predictions, average='micro')\n",
        "        recall_weighted = recall_score(true_labels, predictions, average='weighted')\n",
        "        # print('Val Micro F1:', f1_micro)\n",
        "        return f1_micro"
      ]
    },
    {
      "cell_type": "code",
      "execution_count": 26,
      "metadata": {
        "colab": {
          "base_uri": "https://localhost:8080/"
        },
        "id": "05xzH0FEDN6C",
        "outputId": "73c22d87-f781-4441-b0fe-1dbd288645cb"
      },
      "outputs": [
        {
          "metadata": {
            "tags": null
          },
          "name": "stderr",
          "output_type": "stream",
          "text": [
            "Epoch 1/20: 100%|██████████| 300/300 [02:52<00:00,  1.74batch/s]\n"
          ]
        },
        {
          "metadata": {
            "tags": null
          },
          "name": "stdout",
          "output_type": "stream",
          "text": [
            "Epoch 1/20\n",
            "  Train Loss: 0.8661088566978773\n",
            "  Val Micro F1: 0.8204592901878914\n",
            "  Time: 2m 56s\n"
          ]
        },
        {
          "metadata": {
            "tags": null
          },
          "name": "stderr",
          "output_type": "stream",
          "text": [
            "Epoch 2/20: 100%|██████████| 300/300 [02:59<00:00,  1.67batch/s]\n"
          ]
        },
        {
          "metadata": {
            "tags": null
          },
          "name": "stdout",
          "output_type": "stream",
          "text": [
            "Epoch 2/20\n",
            "  Train Loss: 0.45243956012030445\n",
            "  Val Micro F1: 0.8288100208768268\n",
            "  Time: 3m 3s\n"
          ]
        },
        {
          "metadata": {
            "tags": null
          },
          "name": "stderr",
          "output_type": "stream",
          "text": [
            "Epoch 3/20: 100%|██████████| 300/300 [03:01<00:00,  1.65batch/s]\n"
          ]
        },
        {
          "metadata": {
            "tags": null
          },
          "name": "stdout",
          "output_type": "stream",
          "text": [
            "Epoch 3/20\n",
            "  Train Loss: 0.30284594076996046\n",
            "  Val Micro F1: 0.8496868475991649\n",
            "  Time: 3m 5s\n"
          ]
        },
        {
          "metadata": {
            "tags": null
          },
          "name": "stderr",
          "output_type": "stream",
          "text": [
            "Epoch 4/20: 100%|██████████| 300/300 [03:02<00:00,  1.65batch/s]\n"
          ]
        },
        {
          "metadata": {
            "tags": null
          },
          "name": "stdout",
          "output_type": "stream",
          "text": [
            "Epoch 4/20\n",
            "  Train Loss: 0.20694221329254409\n",
            "  Val Micro F1: 0.8350730688935282\n",
            "  Time: 3m 5s\n"
          ]
        },
        {
          "metadata": {
            "tags": null
          },
          "name": "stderr",
          "output_type": "stream",
          "text": [
            "Epoch 5/20: 100%|██████████| 300/300 [03:01<00:00,  1.65batch/s]\n"
          ]
        },
        {
          "metadata": {
            "tags": null
          },
          "name": "stdout",
          "output_type": "stream",
          "text": [
            "Epoch 5/20\n",
            "  Train Loss: 0.13900203003548087\n",
            "  Val Micro F1: 0.8183716075156577\n",
            "  Time: 3m 5s\n"
          ]
        },
        {
          "metadata": {
            "tags": null
          },
          "name": "stderr",
          "output_type": "stream",
          "text": [
            "Epoch 6/20: 100%|██████████| 300/300 [03:01<00:00,  1.65batch/s]\n"
          ]
        },
        {
          "metadata": {
            "tags": null
          },
          "name": "stdout",
          "output_type": "stream",
          "text": [
            "Epoch 6/20\n",
            "  Train Loss: 0.09246775358139227\n",
            "  Val Micro F1: 0.8267223382045931\n",
            "  Time: 3m 5s\n"
          ]
        },
        {
          "metadata": {
            "tags": null
          },
          "name": "stderr",
          "output_type": "stream",
          "text": [
            "Epoch 7/20: 100%|██████████| 300/300 [03:02<00:00,  1.65batch/s]\n"
          ]
        },
        {
          "metadata": {
            "tags": null
          },
          "name": "stdout",
          "output_type": "stream",
          "text": [
            "Epoch 7/20\n",
            "  Train Loss: 0.05887396753144761\n",
            "  Val Micro F1: 0.8350730688935282\n",
            "  Time: 3m 5s\n"
          ]
        },
        {
          "metadata": {
            "tags": null
          },
          "name": "stderr",
          "output_type": "stream",
          "text": [
            "Epoch 8/20: 100%|██████████| 300/300 [03:01<00:00,  1.65batch/s]\n"
          ]
        },
        {
          "metadata": {
            "tags": null
          },
          "name": "stdout",
          "output_type": "stream",
          "text": [
            "Epoch 8/20\n",
            "  Train Loss: 0.040278989853880676\n",
            "  Val Micro F1: 0.8288100208768268\n",
            "  Time: 3m 5s\n"
          ]
        },
        {
          "metadata": {
            "tags": null
          },
          "name": "stderr",
          "output_type": "stream",
          "text": [
            "Epoch 9/20: 100%|██████████| 300/300 [03:01<00:00,  1.65batch/s]\n"
          ]
        },
        {
          "metadata": {
            "tags": null
          },
          "name": "stdout",
          "output_type": "stream",
          "text": [
            "Epoch 9/20\n",
            "  Train Loss: 0.02742930236485942\n",
            "  Val Micro F1: 0.8434237995824636\n",
            "  Time: 3m 5s\n"
          ]
        },
        {
          "metadata": {
            "tags": null
          },
          "name": "stderr",
          "output_type": "stream",
          "text": [
            "Epoch 10/20: 100%|██████████| 300/300 [03:01<00:00,  1.65batch/s]\n"
          ]
        },
        {
          "metadata": {
            "tags": null
          },
          "name": "stdout",
          "output_type": "stream",
          "text": [
            "Epoch 10/20\n",
            "  Train Loss: 0.01961624222371029\n",
            "  Val Micro F1: 0.8413361169102297\n",
            "  Time: 3m 5s\n"
          ]
        },
        {
          "metadata": {
            "tags": null
          },
          "name": "stderr",
          "output_type": "stream",
          "text": [
            "Epoch 11/20: 100%|██████████| 300/300 [03:02<00:00,  1.65batch/s]\n"
          ]
        },
        {
          "metadata": {
            "tags": null
          },
          "name": "stdout",
          "output_type": "stream",
          "text": [
            "Epoch 11/20\n",
            "  Train Loss: 0.01539798068794577\n",
            "  Val Micro F1: 0.8496868475991649\n",
            "  Time: 3m 5s\n"
          ]
        },
        {
          "metadata": {
            "tags": null
          },
          "name": "stderr",
          "output_type": "stream",
          "text": [
            "Epoch 12/20: 100%|██████████| 300/300 [03:03<00:00,  1.64batch/s]\n"
          ]
        },
        {
          "metadata": {
            "tags": null
          },
          "name": "stdout",
          "output_type": "stream",
          "text": [
            "Epoch 12/20\n",
            "  Train Loss: 0.008799249240158437\n",
            "  Val Micro F1: 0.8434237995824636\n",
            "  Time: 3m 6s\n"
          ]
        },
        {
          "metadata": {
            "tags": null
          },
          "name": "stderr",
          "output_type": "stream",
          "text": [
            "Epoch 13/20: 100%|██████████| 300/300 [03:03<00:00,  1.64batch/s]\n"
          ]
        },
        {
          "metadata": {
            "tags": null
          },
          "name": "stdout",
          "output_type": "stream",
          "text": [
            "Epoch 13/20\n",
            "  Train Loss: 0.006971651250205468\n",
            "  Val Micro F1: 0.8434237995824636\n",
            "  Time: 3m 6s\n"
          ]
        },
        {
          "metadata": {
            "tags": null
          },
          "name": "stderr",
          "output_type": "stream",
          "text": [
            "Epoch 14/20: 100%|██████████| 300/300 [03:03<00:00,  1.64batch/s]\n"
          ]
        },
        {
          "metadata": {
            "tags": null
          },
          "name": "stdout",
          "output_type": "stream",
          "text": [
            "Epoch 14/20\n",
            "  Train Loss: 0.004204970924377752\n",
            "  Val Micro F1: 0.8496868475991649\n",
            "  Time: 3m 6s\n"
          ]
        },
        {
          "metadata": {
            "tags": null
          },
          "name": "stderr",
          "output_type": "stream",
          "text": [
            "Epoch 15/20: 100%|██████████| 300/300 [03:03<00:00,  1.64batch/s]\n"
          ]
        },
        {
          "metadata": {
            "tags": null
          },
          "name": "stdout",
          "output_type": "stream",
          "text": [
            "Epoch 15/20\n",
            "  Train Loss: 0.002828640239167726\n",
            "  Val Micro F1: 0.8455114822546973\n",
            "  Time: 3m 6s\n"
          ]
        },
        {
          "metadata": {
            "tags": null
          },
          "name": "stderr",
          "output_type": "stream",
          "text": [
            "Epoch 16/20: 100%|██████████| 300/300 [03:03<00:00,  1.64batch/s]\n"
          ]
        },
        {
          "metadata": {
            "tags": null
          },
          "name": "stdout",
          "output_type": "stream",
          "text": [
            "Epoch 16/20\n",
            "  Train Loss: 0.0020899770903148843\n",
            "  Val Micro F1: 0.8434237995824636\n",
            "  Time: 3m 6s\n"
          ]
        },
        {
          "metadata": {
            "tags": null
          },
          "name": "stderr",
          "output_type": "stream",
          "text": [
            "Epoch 17/20: 100%|██████████| 300/300 [03:03<00:00,  1.63batch/s]\n"
          ]
        },
        {
          "metadata": {
            "tags": null
          },
          "name": "stdout",
          "output_type": "stream",
          "text": [
            "Epoch 17/20\n",
            "  Train Loss: 0.002107780753625169\n",
            "  Val Micro F1: 0.8496868475991649\n",
            "  Time: 3m 7s\n"
          ]
        },
        {
          "output_type": "stream",
          "name": "stderr",
          "text": [
            "Epoch 18/20: 100%|██████████| 300/300 [03:03<00:00,  1.64batch/s]\n"
          ]
        },
        {
          "output_type": "stream",
          "name": "stdout",
          "text": [
            "Epoch 18/20\n",
            "  Train Loss: 0.004079475816445968\n",
            "  Val Micro F1: 0.8496868475991649\n",
            "  Time: 3m 7s\n"
          ]
        },
        {
          "output_type": "stream",
          "name": "stderr",
          "text": [
            "Epoch 19/20: 100%|██████████| 300/300 [03:03<00:00,  1.64batch/s]\n"
          ]
        },
        {
          "output_type": "stream",
          "name": "stdout",
          "text": [
            "Epoch 19/20\n",
            "  Train Loss: 0.0013489108044692935\n",
            "  Val Micro F1: 0.8559498956158664\n",
            "  Time: 3m 6s\n"
          ]
        },
        {
          "output_type": "stream",
          "name": "stderr",
          "text": [
            "Epoch 20/20: 100%|██████████| 300/300 [03:03<00:00,  1.64batch/s]\n"
          ]
        },
        {
          "output_type": "stream",
          "name": "stdout",
          "text": [
            "Epoch 20/20\n",
            "  Train Loss: 0.001248561772905911\n",
            "  Val Micro F1: 0.8455114822546973\n",
            "  Time: 3m 6s\n"
          ]
        }
      ],
      "source": [
        "epochs = 20\n",
        "for epoch in range(epochs):\n",
        "    model.train()\n",
        "    total_train_loss = 0\n",
        "    start_time = time.time()\n",
        "\n",
        "    # Training\n",
        "    for step, batch in enumerate(tqdm(train_dataloader, desc=f\"Epoch {epoch + 1}/{epochs}\", unit=\"batch\")):\n",
        "        batch = tuple(t.to(device) for t in batch)\n",
        "        input_ids, input_mask, labels = batch\n",
        "\n",
        "\n",
        "        model.zero_grad()\n",
        "        outputs = model(input_ids=input_ids, attention_mask=input_mask, labels=labels)\n",
        "        loss = outputs.loss\n",
        "        total_train_loss += loss.item()\n",
        "\n",
        "        loss.backward()\n",
        "        torch.nn.utils.clip_grad_norm_(model.parameters(), max_norm=1.0)\n",
        "        optimizer.step()\n",
        "        scheduler.step()\n",
        "\n",
        "    avg_train_loss = total_train_loss / len(train_dataloader)\n",
        "\n",
        "    # Validation\n",
        "    model.eval()\n",
        "    predictions = []\n",
        "    true_labels = []\n",
        "\n",
        "    for batch in val_dataloader:\n",
        "        batch = tuple(t.to(device) for t in batch)\n",
        "        input_ids, input_mask, labels = batch\n",
        "\n",
        "        with torch.no_grad():\n",
        "            outputs = model(input_ids=input_ids, attention_mask=input_mask)\n",
        "            logits = outputs.logits\n",
        "\n",
        "        logits = logits.detach().cpu().numpy()\n",
        "        label_ids = labels.to('cpu').numpy()\n",
        "\n",
        "        batch_predictions = np.argmax(logits, axis=1)\n",
        "        predictions.extend(batch_predictions)\n",
        "        true_labels.extend(label_ids)\n",
        "\n",
        "    val_micro_f1 = calculate_metrics('val', predictions, true_labels)\n",
        "    elapsed_time = time.time() - start_time\n",
        "\n",
        "    # Print epoch summary\n",
        "    print(f\"Epoch {epoch + 1}/{epochs}\")\n",
        "    print(f\"  Train Loss: {avg_train_loss}\")\n",
        "    print(f\"  Val Micro F1: {val_micro_f1}\")\n",
        "    print(f\"  Time: {elapsed_time // 60:.0f}m {elapsed_time % 60:.0f}s\")"
      ]
    },
    {
      "cell_type": "code",
      "execution_count": 27,
      "metadata": {
        "colab": {
          "base_uri": "https://localhost:8080/"
        },
        "id": "YF1GCpcUDN6D",
        "outputId": "eb73f3e8-d3a6-4cef-8014-09be2faa6d45"
      },
      "outputs": [
        {
          "output_type": "stream",
          "name": "stdout",
          "text": [
            "Confusion Matrix:\n",
            " [[260  15   3  23  19   3   4]\n",
            " [ 12 190   0  17   7   0   1]\n",
            " [  4   1 347   1   4  20   7]\n",
            " [  9  14   2 323  13   0   4]\n",
            " [ 13   7   2  18 372   2   5]\n",
            " [  2   1  18   5   5 271  42]\n",
            " [  7   4   2   5   6  19 285]]\n",
            "\n",
            "Classification Report:\n",
            "               precision    recall  f1-score   support\n",
            "\n",
            "           0       0.85      0.80      0.82       327\n",
            "           1       0.82      0.84      0.83       227\n",
            "           2       0.93      0.90      0.92       384\n",
            "           3       0.82      0.88      0.85       365\n",
            "           4       0.87      0.89      0.88       419\n",
            "           5       0.86      0.79      0.82       344\n",
            "           6       0.82      0.87      0.84       328\n",
            "\n",
            "    accuracy                           0.86      2394\n",
            "   macro avg       0.85      0.85      0.85      2394\n",
            "weighted avg       0.86      0.86      0.86      2394\n",
            "\n",
            "Macro F1 Score: 0.8518769623249511\n",
            "Micro F1 Score: 0.8554720133667502\n",
            "Weighted F1 Score: 0.8553055857427518\n",
            "Macro Precision: 0.8528829353352815\n",
            "Micro Precision: 0.8554720133667502\n",
            "Weighted Precision: 0.8564457514610434\n",
            "Macro Recall: 0.8521728682997306\n",
            "Micro Recall: 0.8554720133667502\n",
            "Weighted Recall: 0.8554720133667502\n"
          ]
        }
      ],
      "source": [
        "# Evaluation\n",
        "model.eval()\n",
        "predictions = []\n",
        "true_labels = []\n",
        "\n",
        "for batch in test_dataloader:\n",
        "    batch = tuple(t.to(device) for t in batch)\n",
        "    input_ids, input_mask, labels = batch\n",
        "\n",
        "    with torch.no_grad():\n",
        "        outputs = model(input_ids=input_ids, attention_mask=input_mask)\n",
        "        logits = outputs.logits\n",
        "\n",
        "    logits = logits.detach().cpu().numpy()\n",
        "    label_ids = labels.to('cpu').numpy()\n",
        "\n",
        "    batch_predictions = np.argmax(logits, axis=1)\n",
        "    predictions.extend(batch_predictions)\n",
        "    true_labels.extend(label_ids)\n",
        "\n",
        "# Calculate and print metrics\n",
        "calculate_metrics('test', predictions, true_labels)"
      ]
    },
    {
      "cell_type": "code",
      "execution_count": null,
      "metadata": {
        "id": "zBU4h6E7DN6D"
      },
      "outputs": [],
      "source": [
        "model.save_pretrained('/content/drive/MyDrive/WoS/BioBERT_WoS_Keywords_11967')"
      ]
    },
    {
      "cell_type": "code",
      "source": [
        "runtime.unassign()"
      ],
      "metadata": {
        "id": "E548UIS3l94B"
      },
      "execution_count": null,
      "outputs": []
    }
  ],
  "metadata": {
    "language_info": {
      "name": "python"
    },
    "colab": {
      "provenance": [],
      "gpuType": "T4"
    },
    "kernelspec": {
      "name": "python3",
      "display_name": "Python 3"
    },
    "accelerator": "GPU",
    "widgets": {
      "application/vnd.jupyter.widget-state+json": {
        "26d78bd4012e47a7ad5f43096e8211d1": {
          "model_module": "@jupyter-widgets/controls",
          "model_name": "HBoxModel",
          "model_module_version": "1.5.0",
          "state": {
            "_dom_classes": [],
            "_model_module": "@jupyter-widgets/controls",
            "_model_module_version": "1.5.0",
            "_model_name": "HBoxModel",
            "_view_count": null,
            "_view_module": "@jupyter-widgets/controls",
            "_view_module_version": "1.5.0",
            "_view_name": "HBoxView",
            "box_style": "",
            "children": [
              "IPY_MODEL_edb888c8761943978de0ba4a1aae1c4e",
              "IPY_MODEL_bb957fea22bc4f25ac106f8466b785b4",
              "IPY_MODEL_d658a8b49e8a4e8db654af162f47b400"
            ],
            "layout": "IPY_MODEL_20431ef339704751aa928718dd516446"
          }
        },
        "edb888c8761943978de0ba4a1aae1c4e": {
          "model_module": "@jupyter-widgets/controls",
          "model_name": "HTMLModel",
          "model_module_version": "1.5.0",
          "state": {
            "_dom_classes": [],
            "_model_module": "@jupyter-widgets/controls",
            "_model_module_version": "1.5.0",
            "_model_name": "HTMLModel",
            "_view_count": null,
            "_view_module": "@jupyter-widgets/controls",
            "_view_module_version": "1.5.0",
            "_view_name": "HTMLView",
            "description": "",
            "description_tooltip": null,
            "layout": "IPY_MODEL_70915991a2d4463da2734db4ad4e09c7",
            "placeholder": "​",
            "style": "IPY_MODEL_49c26048cc6f491aa8a45c4f412e7141",
            "value": "config.json: 100%"
          }
        },
        "bb957fea22bc4f25ac106f8466b785b4": {
          "model_module": "@jupyter-widgets/controls",
          "model_name": "FloatProgressModel",
          "model_module_version": "1.5.0",
          "state": {
            "_dom_classes": [],
            "_model_module": "@jupyter-widgets/controls",
            "_model_module_version": "1.5.0",
            "_model_name": "FloatProgressModel",
            "_view_count": null,
            "_view_module": "@jupyter-widgets/controls",
            "_view_module_version": "1.5.0",
            "_view_name": "ProgressView",
            "bar_style": "success",
            "description": "",
            "description_tooltip": null,
            "layout": "IPY_MODEL_676ef9bc22ce4884bb88b571c1fe632a",
            "max": 1110,
            "min": 0,
            "orientation": "horizontal",
            "style": "IPY_MODEL_dcfce3321af94fe9ac6de7581d080e38",
            "value": 1110
          }
        },
        "d658a8b49e8a4e8db654af162f47b400": {
          "model_module": "@jupyter-widgets/controls",
          "model_name": "HTMLModel",
          "model_module_version": "1.5.0",
          "state": {
            "_dom_classes": [],
            "_model_module": "@jupyter-widgets/controls",
            "_model_module_version": "1.5.0",
            "_model_name": "HTMLModel",
            "_view_count": null,
            "_view_module": "@jupyter-widgets/controls",
            "_view_module_version": "1.5.0",
            "_view_name": "HTMLView",
            "description": "",
            "description_tooltip": null,
            "layout": "IPY_MODEL_79ddc0e51a754de982453d58427e9285",
            "placeholder": "​",
            "style": "IPY_MODEL_c3bf9abedf694cfc9cef135085a01360",
            "value": " 1.11k/1.11k [00:00&lt;00:00, 28.0kB/s]"
          }
        },
        "20431ef339704751aa928718dd516446": {
          "model_module": "@jupyter-widgets/base",
          "model_name": "LayoutModel",
          "model_module_version": "1.2.0",
          "state": {
            "_model_module": "@jupyter-widgets/base",
            "_model_module_version": "1.2.0",
            "_model_name": "LayoutModel",
            "_view_count": null,
            "_view_module": "@jupyter-widgets/base",
            "_view_module_version": "1.2.0",
            "_view_name": "LayoutView",
            "align_content": null,
            "align_items": null,
            "align_self": null,
            "border": null,
            "bottom": null,
            "display": null,
            "flex": null,
            "flex_flow": null,
            "grid_area": null,
            "grid_auto_columns": null,
            "grid_auto_flow": null,
            "grid_auto_rows": null,
            "grid_column": null,
            "grid_gap": null,
            "grid_row": null,
            "grid_template_areas": null,
            "grid_template_columns": null,
            "grid_template_rows": null,
            "height": null,
            "justify_content": null,
            "justify_items": null,
            "left": null,
            "margin": null,
            "max_height": null,
            "max_width": null,
            "min_height": null,
            "min_width": null,
            "object_fit": null,
            "object_position": null,
            "order": null,
            "overflow": null,
            "overflow_x": null,
            "overflow_y": null,
            "padding": null,
            "right": null,
            "top": null,
            "visibility": null,
            "width": null
          }
        },
        "70915991a2d4463da2734db4ad4e09c7": {
          "model_module": "@jupyter-widgets/base",
          "model_name": "LayoutModel",
          "model_module_version": "1.2.0",
          "state": {
            "_model_module": "@jupyter-widgets/base",
            "_model_module_version": "1.2.0",
            "_model_name": "LayoutModel",
            "_view_count": null,
            "_view_module": "@jupyter-widgets/base",
            "_view_module_version": "1.2.0",
            "_view_name": "LayoutView",
            "align_content": null,
            "align_items": null,
            "align_self": null,
            "border": null,
            "bottom": null,
            "display": null,
            "flex": null,
            "flex_flow": null,
            "grid_area": null,
            "grid_auto_columns": null,
            "grid_auto_flow": null,
            "grid_auto_rows": null,
            "grid_column": null,
            "grid_gap": null,
            "grid_row": null,
            "grid_template_areas": null,
            "grid_template_columns": null,
            "grid_template_rows": null,
            "height": null,
            "justify_content": null,
            "justify_items": null,
            "left": null,
            "margin": null,
            "max_height": null,
            "max_width": null,
            "min_height": null,
            "min_width": null,
            "object_fit": null,
            "object_position": null,
            "order": null,
            "overflow": null,
            "overflow_x": null,
            "overflow_y": null,
            "padding": null,
            "right": null,
            "top": null,
            "visibility": null,
            "width": null
          }
        },
        "49c26048cc6f491aa8a45c4f412e7141": {
          "model_module": "@jupyter-widgets/controls",
          "model_name": "DescriptionStyleModel",
          "model_module_version": "1.5.0",
          "state": {
            "_model_module": "@jupyter-widgets/controls",
            "_model_module_version": "1.5.0",
            "_model_name": "DescriptionStyleModel",
            "_view_count": null,
            "_view_module": "@jupyter-widgets/base",
            "_view_module_version": "1.2.0",
            "_view_name": "StyleView",
            "description_width": ""
          }
        },
        "676ef9bc22ce4884bb88b571c1fe632a": {
          "model_module": "@jupyter-widgets/base",
          "model_name": "LayoutModel",
          "model_module_version": "1.2.0",
          "state": {
            "_model_module": "@jupyter-widgets/base",
            "_model_module_version": "1.2.0",
            "_model_name": "LayoutModel",
            "_view_count": null,
            "_view_module": "@jupyter-widgets/base",
            "_view_module_version": "1.2.0",
            "_view_name": "LayoutView",
            "align_content": null,
            "align_items": null,
            "align_self": null,
            "border": null,
            "bottom": null,
            "display": null,
            "flex": null,
            "flex_flow": null,
            "grid_area": null,
            "grid_auto_columns": null,
            "grid_auto_flow": null,
            "grid_auto_rows": null,
            "grid_column": null,
            "grid_gap": null,
            "grid_row": null,
            "grid_template_areas": null,
            "grid_template_columns": null,
            "grid_template_rows": null,
            "height": null,
            "justify_content": null,
            "justify_items": null,
            "left": null,
            "margin": null,
            "max_height": null,
            "max_width": null,
            "min_height": null,
            "min_width": null,
            "object_fit": null,
            "object_position": null,
            "order": null,
            "overflow": null,
            "overflow_x": null,
            "overflow_y": null,
            "padding": null,
            "right": null,
            "top": null,
            "visibility": null,
            "width": null
          }
        },
        "dcfce3321af94fe9ac6de7581d080e38": {
          "model_module": "@jupyter-widgets/controls",
          "model_name": "ProgressStyleModel",
          "model_module_version": "1.5.0",
          "state": {
            "_model_module": "@jupyter-widgets/controls",
            "_model_module_version": "1.5.0",
            "_model_name": "ProgressStyleModel",
            "_view_count": null,
            "_view_module": "@jupyter-widgets/base",
            "_view_module_version": "1.2.0",
            "_view_name": "StyleView",
            "bar_color": null,
            "description_width": ""
          }
        },
        "79ddc0e51a754de982453d58427e9285": {
          "model_module": "@jupyter-widgets/base",
          "model_name": "LayoutModel",
          "model_module_version": "1.2.0",
          "state": {
            "_model_module": "@jupyter-widgets/base",
            "_model_module_version": "1.2.0",
            "_model_name": "LayoutModel",
            "_view_count": null,
            "_view_module": "@jupyter-widgets/base",
            "_view_module_version": "1.2.0",
            "_view_name": "LayoutView",
            "align_content": null,
            "align_items": null,
            "align_self": null,
            "border": null,
            "bottom": null,
            "display": null,
            "flex": null,
            "flex_flow": null,
            "grid_area": null,
            "grid_auto_columns": null,
            "grid_auto_flow": null,
            "grid_auto_rows": null,
            "grid_column": null,
            "grid_gap": null,
            "grid_row": null,
            "grid_template_areas": null,
            "grid_template_columns": null,
            "grid_template_rows": null,
            "height": null,
            "justify_content": null,
            "justify_items": null,
            "left": null,
            "margin": null,
            "max_height": null,
            "max_width": null,
            "min_height": null,
            "min_width": null,
            "object_fit": null,
            "object_position": null,
            "order": null,
            "overflow": null,
            "overflow_x": null,
            "overflow_y": null,
            "padding": null,
            "right": null,
            "top": null,
            "visibility": null,
            "width": null
          }
        },
        "c3bf9abedf694cfc9cef135085a01360": {
          "model_module": "@jupyter-widgets/controls",
          "model_name": "DescriptionStyleModel",
          "model_module_version": "1.5.0",
          "state": {
            "_model_module": "@jupyter-widgets/controls",
            "_model_module_version": "1.5.0",
            "_model_name": "DescriptionStyleModel",
            "_view_count": null,
            "_view_module": "@jupyter-widgets/base",
            "_view_module_version": "1.2.0",
            "_view_name": "StyleView",
            "description_width": ""
          }
        },
        "f9af0547774d44e89bfccdf38cf4805d": {
          "model_module": "@jupyter-widgets/controls",
          "model_name": "HBoxModel",
          "model_module_version": "1.5.0",
          "state": {
            "_dom_classes": [],
            "_model_module": "@jupyter-widgets/controls",
            "_model_module_version": "1.5.0",
            "_model_name": "HBoxModel",
            "_view_count": null,
            "_view_module": "@jupyter-widgets/controls",
            "_view_module_version": "1.5.0",
            "_view_name": "HBoxView",
            "box_style": "",
            "children": [
              "IPY_MODEL_4cb1c25cd23844d79608887181538c55",
              "IPY_MODEL_4a675962f5d2490bb3475256c5d087af",
              "IPY_MODEL_eeabf13ac6554d1aa79071e33c94c6c5"
            ],
            "layout": "IPY_MODEL_301cf1edb284451bac13a5c8d3e81888"
          }
        },
        "4cb1c25cd23844d79608887181538c55": {
          "model_module": "@jupyter-widgets/controls",
          "model_name": "HTMLModel",
          "model_module_version": "1.5.0",
          "state": {
            "_dom_classes": [],
            "_model_module": "@jupyter-widgets/controls",
            "_model_module_version": "1.5.0",
            "_model_name": "HTMLModel",
            "_view_count": null,
            "_view_module": "@jupyter-widgets/controls",
            "_view_module_version": "1.5.0",
            "_view_name": "HTMLView",
            "description": "",
            "description_tooltip": null,
            "layout": "IPY_MODEL_d17d7f6a4c524623a84ea5e56511ea86",
            "placeholder": "​",
            "style": "IPY_MODEL_1d0a880fd65f47b1902b11fbe871d2d4",
            "value": "vocab.txt: 100%"
          }
        },
        "4a675962f5d2490bb3475256c5d087af": {
          "model_module": "@jupyter-widgets/controls",
          "model_name": "FloatProgressModel",
          "model_module_version": "1.5.0",
          "state": {
            "_dom_classes": [],
            "_model_module": "@jupyter-widgets/controls",
            "_model_module_version": "1.5.0",
            "_model_name": "FloatProgressModel",
            "_view_count": null,
            "_view_module": "@jupyter-widgets/controls",
            "_view_module_version": "1.5.0",
            "_view_name": "ProgressView",
            "bar_style": "success",
            "description": "",
            "description_tooltip": null,
            "layout": "IPY_MODEL_662c3b81252344a1b6f501e59791b81a",
            "max": 213450,
            "min": 0,
            "orientation": "horizontal",
            "style": "IPY_MODEL_acc5cf7cc82c46aeabafc8d0b2431caa",
            "value": 213450
          }
        },
        "eeabf13ac6554d1aa79071e33c94c6c5": {
          "model_module": "@jupyter-widgets/controls",
          "model_name": "HTMLModel",
          "model_module_version": "1.5.0",
          "state": {
            "_dom_classes": [],
            "_model_module": "@jupyter-widgets/controls",
            "_model_module_version": "1.5.0",
            "_model_name": "HTMLModel",
            "_view_count": null,
            "_view_module": "@jupyter-widgets/controls",
            "_view_module_version": "1.5.0",
            "_view_name": "HTMLView",
            "description": "",
            "description_tooltip": null,
            "layout": "IPY_MODEL_83d7b9f302f943b7a64b7e68ea4bf1fe",
            "placeholder": "​",
            "style": "IPY_MODEL_529a23a68db140e8ba0fc5b092b62ecc",
            "value": " 213k/213k [00:00&lt;00:00, 1.34MB/s]"
          }
        },
        "301cf1edb284451bac13a5c8d3e81888": {
          "model_module": "@jupyter-widgets/base",
          "model_name": "LayoutModel",
          "model_module_version": "1.2.0",
          "state": {
            "_model_module": "@jupyter-widgets/base",
            "_model_module_version": "1.2.0",
            "_model_name": "LayoutModel",
            "_view_count": null,
            "_view_module": "@jupyter-widgets/base",
            "_view_module_version": "1.2.0",
            "_view_name": "LayoutView",
            "align_content": null,
            "align_items": null,
            "align_self": null,
            "border": null,
            "bottom": null,
            "display": null,
            "flex": null,
            "flex_flow": null,
            "grid_area": null,
            "grid_auto_columns": null,
            "grid_auto_flow": null,
            "grid_auto_rows": null,
            "grid_column": null,
            "grid_gap": null,
            "grid_row": null,
            "grid_template_areas": null,
            "grid_template_columns": null,
            "grid_template_rows": null,
            "height": null,
            "justify_content": null,
            "justify_items": null,
            "left": null,
            "margin": null,
            "max_height": null,
            "max_width": null,
            "min_height": null,
            "min_width": null,
            "object_fit": null,
            "object_position": null,
            "order": null,
            "overflow": null,
            "overflow_x": null,
            "overflow_y": null,
            "padding": null,
            "right": null,
            "top": null,
            "visibility": null,
            "width": null
          }
        },
        "d17d7f6a4c524623a84ea5e56511ea86": {
          "model_module": "@jupyter-widgets/base",
          "model_name": "LayoutModel",
          "model_module_version": "1.2.0",
          "state": {
            "_model_module": "@jupyter-widgets/base",
            "_model_module_version": "1.2.0",
            "_model_name": "LayoutModel",
            "_view_count": null,
            "_view_module": "@jupyter-widgets/base",
            "_view_module_version": "1.2.0",
            "_view_name": "LayoutView",
            "align_content": null,
            "align_items": null,
            "align_self": null,
            "border": null,
            "bottom": null,
            "display": null,
            "flex": null,
            "flex_flow": null,
            "grid_area": null,
            "grid_auto_columns": null,
            "grid_auto_flow": null,
            "grid_auto_rows": null,
            "grid_column": null,
            "grid_gap": null,
            "grid_row": null,
            "grid_template_areas": null,
            "grid_template_columns": null,
            "grid_template_rows": null,
            "height": null,
            "justify_content": null,
            "justify_items": null,
            "left": null,
            "margin": null,
            "max_height": null,
            "max_width": null,
            "min_height": null,
            "min_width": null,
            "object_fit": null,
            "object_position": null,
            "order": null,
            "overflow": null,
            "overflow_x": null,
            "overflow_y": null,
            "padding": null,
            "right": null,
            "top": null,
            "visibility": null,
            "width": null
          }
        },
        "1d0a880fd65f47b1902b11fbe871d2d4": {
          "model_module": "@jupyter-widgets/controls",
          "model_name": "DescriptionStyleModel",
          "model_module_version": "1.5.0",
          "state": {
            "_model_module": "@jupyter-widgets/controls",
            "_model_module_version": "1.5.0",
            "_model_name": "DescriptionStyleModel",
            "_view_count": null,
            "_view_module": "@jupyter-widgets/base",
            "_view_module_version": "1.2.0",
            "_view_name": "StyleView",
            "description_width": ""
          }
        },
        "662c3b81252344a1b6f501e59791b81a": {
          "model_module": "@jupyter-widgets/base",
          "model_name": "LayoutModel",
          "model_module_version": "1.2.0",
          "state": {
            "_model_module": "@jupyter-widgets/base",
            "_model_module_version": "1.2.0",
            "_model_name": "LayoutModel",
            "_view_count": null,
            "_view_module": "@jupyter-widgets/base",
            "_view_module_version": "1.2.0",
            "_view_name": "LayoutView",
            "align_content": null,
            "align_items": null,
            "align_self": null,
            "border": null,
            "bottom": null,
            "display": null,
            "flex": null,
            "flex_flow": null,
            "grid_area": null,
            "grid_auto_columns": null,
            "grid_auto_flow": null,
            "grid_auto_rows": null,
            "grid_column": null,
            "grid_gap": null,
            "grid_row": null,
            "grid_template_areas": null,
            "grid_template_columns": null,
            "grid_template_rows": null,
            "height": null,
            "justify_content": null,
            "justify_items": null,
            "left": null,
            "margin": null,
            "max_height": null,
            "max_width": null,
            "min_height": null,
            "min_width": null,
            "object_fit": null,
            "object_position": null,
            "order": null,
            "overflow": null,
            "overflow_x": null,
            "overflow_y": null,
            "padding": null,
            "right": null,
            "top": null,
            "visibility": null,
            "width": null
          }
        },
        "acc5cf7cc82c46aeabafc8d0b2431caa": {
          "model_module": "@jupyter-widgets/controls",
          "model_name": "ProgressStyleModel",
          "model_module_version": "1.5.0",
          "state": {
            "_model_module": "@jupyter-widgets/controls",
            "_model_module_version": "1.5.0",
            "_model_name": "ProgressStyleModel",
            "_view_count": null,
            "_view_module": "@jupyter-widgets/base",
            "_view_module_version": "1.2.0",
            "_view_name": "StyleView",
            "bar_color": null,
            "description_width": ""
          }
        },
        "83d7b9f302f943b7a64b7e68ea4bf1fe": {
          "model_module": "@jupyter-widgets/base",
          "model_name": "LayoutModel",
          "model_module_version": "1.2.0",
          "state": {
            "_model_module": "@jupyter-widgets/base",
            "_model_module_version": "1.2.0",
            "_model_name": "LayoutModel",
            "_view_count": null,
            "_view_module": "@jupyter-widgets/base",
            "_view_module_version": "1.2.0",
            "_view_name": "LayoutView",
            "align_content": null,
            "align_items": null,
            "align_self": null,
            "border": null,
            "bottom": null,
            "display": null,
            "flex": null,
            "flex_flow": null,
            "grid_area": null,
            "grid_auto_columns": null,
            "grid_auto_flow": null,
            "grid_auto_rows": null,
            "grid_column": null,
            "grid_gap": null,
            "grid_row": null,
            "grid_template_areas": null,
            "grid_template_columns": null,
            "grid_template_rows": null,
            "height": null,
            "justify_content": null,
            "justify_items": null,
            "left": null,
            "margin": null,
            "max_height": null,
            "max_width": null,
            "min_height": null,
            "min_width": null,
            "object_fit": null,
            "object_position": null,
            "order": null,
            "overflow": null,
            "overflow_x": null,
            "overflow_y": null,
            "padding": null,
            "right": null,
            "top": null,
            "visibility": null,
            "width": null
          }
        },
        "529a23a68db140e8ba0fc5b092b62ecc": {
          "model_module": "@jupyter-widgets/controls",
          "model_name": "DescriptionStyleModel",
          "model_module_version": "1.5.0",
          "state": {
            "_model_module": "@jupyter-widgets/controls",
            "_model_module_version": "1.5.0",
            "_model_name": "DescriptionStyleModel",
            "_view_count": null,
            "_view_module": "@jupyter-widgets/base",
            "_view_module_version": "1.2.0",
            "_view_name": "StyleView",
            "description_width": ""
          }
        },
        "7ce0d0ad6b2f464d884290fbe55486fa": {
          "model_module": "@jupyter-widgets/controls",
          "model_name": "HBoxModel",
          "model_module_version": "1.5.0",
          "state": {
            "_dom_classes": [],
            "_model_module": "@jupyter-widgets/controls",
            "_model_module_version": "1.5.0",
            "_model_name": "HBoxModel",
            "_view_count": null,
            "_view_module": "@jupyter-widgets/controls",
            "_view_module_version": "1.5.0",
            "_view_name": "HBoxView",
            "box_style": "",
            "children": [
              "IPY_MODEL_e04b273e14694b20bd1b7378a086cb10",
              "IPY_MODEL_0c2e6e13dec941769f1a6e018a9825cb",
              "IPY_MODEL_c344f9c76ab74f198f3d04a4bed4c796"
            ],
            "layout": "IPY_MODEL_6de509d217164db4b68e1d599caeda58"
          }
        },
        "e04b273e14694b20bd1b7378a086cb10": {
          "model_module": "@jupyter-widgets/controls",
          "model_name": "HTMLModel",
          "model_module_version": "1.5.0",
          "state": {
            "_dom_classes": [],
            "_model_module": "@jupyter-widgets/controls",
            "_model_module_version": "1.5.0",
            "_model_name": "HTMLModel",
            "_view_count": null,
            "_view_module": "@jupyter-widgets/controls",
            "_view_module_version": "1.5.0",
            "_view_name": "HTMLView",
            "description": "",
            "description_tooltip": null,
            "layout": "IPY_MODEL_58f72447afad48978fca1e41c48103c1",
            "placeholder": "​",
            "style": "IPY_MODEL_db7b48fa538748f9839a0710f6f32560",
            "value": "pytorch_model.bin: 100%"
          }
        },
        "0c2e6e13dec941769f1a6e018a9825cb": {
          "model_module": "@jupyter-widgets/controls",
          "model_name": "FloatProgressModel",
          "model_module_version": "1.5.0",
          "state": {
            "_dom_classes": [],
            "_model_module": "@jupyter-widgets/controls",
            "_model_module_version": "1.5.0",
            "_model_name": "FloatProgressModel",
            "_view_count": null,
            "_view_module": "@jupyter-widgets/controls",
            "_view_module_version": "1.5.0",
            "_view_name": "ProgressView",
            "bar_style": "success",
            "description": "",
            "description_tooltip": null,
            "layout": "IPY_MODEL_d9cb634c040c4d8798b6c644a5fb8f8c",
            "max": 435783451,
            "min": 0,
            "orientation": "horizontal",
            "style": "IPY_MODEL_ab30a08876c5405085f721c06f082d77",
            "value": 435783451
          }
        },
        "c344f9c76ab74f198f3d04a4bed4c796": {
          "model_module": "@jupyter-widgets/controls",
          "model_name": "HTMLModel",
          "model_module_version": "1.5.0",
          "state": {
            "_dom_classes": [],
            "_model_module": "@jupyter-widgets/controls",
            "_model_module_version": "1.5.0",
            "_model_name": "HTMLModel",
            "_view_count": null,
            "_view_module": "@jupyter-widgets/controls",
            "_view_module_version": "1.5.0",
            "_view_name": "HTMLView",
            "description": "",
            "description_tooltip": null,
            "layout": "IPY_MODEL_f9d0ccc35052466badabbd65767f1efb",
            "placeholder": "​",
            "style": "IPY_MODEL_896940572838417b9d5c45f9601972c0",
            "value": " 436M/436M [00:05&lt;00:00, 21.2MB/s]"
          }
        },
        "6de509d217164db4b68e1d599caeda58": {
          "model_module": "@jupyter-widgets/base",
          "model_name": "LayoutModel",
          "model_module_version": "1.2.0",
          "state": {
            "_model_module": "@jupyter-widgets/base",
            "_model_module_version": "1.2.0",
            "_model_name": "LayoutModel",
            "_view_count": null,
            "_view_module": "@jupyter-widgets/base",
            "_view_module_version": "1.2.0",
            "_view_name": "LayoutView",
            "align_content": null,
            "align_items": null,
            "align_self": null,
            "border": null,
            "bottom": null,
            "display": null,
            "flex": null,
            "flex_flow": null,
            "grid_area": null,
            "grid_auto_columns": null,
            "grid_auto_flow": null,
            "grid_auto_rows": null,
            "grid_column": null,
            "grid_gap": null,
            "grid_row": null,
            "grid_template_areas": null,
            "grid_template_columns": null,
            "grid_template_rows": null,
            "height": null,
            "justify_content": null,
            "justify_items": null,
            "left": null,
            "margin": null,
            "max_height": null,
            "max_width": null,
            "min_height": null,
            "min_width": null,
            "object_fit": null,
            "object_position": null,
            "order": null,
            "overflow": null,
            "overflow_x": null,
            "overflow_y": null,
            "padding": null,
            "right": null,
            "top": null,
            "visibility": null,
            "width": null
          }
        },
        "58f72447afad48978fca1e41c48103c1": {
          "model_module": "@jupyter-widgets/base",
          "model_name": "LayoutModel",
          "model_module_version": "1.2.0",
          "state": {
            "_model_module": "@jupyter-widgets/base",
            "_model_module_version": "1.2.0",
            "_model_name": "LayoutModel",
            "_view_count": null,
            "_view_module": "@jupyter-widgets/base",
            "_view_module_version": "1.2.0",
            "_view_name": "LayoutView",
            "align_content": null,
            "align_items": null,
            "align_self": null,
            "border": null,
            "bottom": null,
            "display": null,
            "flex": null,
            "flex_flow": null,
            "grid_area": null,
            "grid_auto_columns": null,
            "grid_auto_flow": null,
            "grid_auto_rows": null,
            "grid_column": null,
            "grid_gap": null,
            "grid_row": null,
            "grid_template_areas": null,
            "grid_template_columns": null,
            "grid_template_rows": null,
            "height": null,
            "justify_content": null,
            "justify_items": null,
            "left": null,
            "margin": null,
            "max_height": null,
            "max_width": null,
            "min_height": null,
            "min_width": null,
            "object_fit": null,
            "object_position": null,
            "order": null,
            "overflow": null,
            "overflow_x": null,
            "overflow_y": null,
            "padding": null,
            "right": null,
            "top": null,
            "visibility": null,
            "width": null
          }
        },
        "db7b48fa538748f9839a0710f6f32560": {
          "model_module": "@jupyter-widgets/controls",
          "model_name": "DescriptionStyleModel",
          "model_module_version": "1.5.0",
          "state": {
            "_model_module": "@jupyter-widgets/controls",
            "_model_module_version": "1.5.0",
            "_model_name": "DescriptionStyleModel",
            "_view_count": null,
            "_view_module": "@jupyter-widgets/base",
            "_view_module_version": "1.2.0",
            "_view_name": "StyleView",
            "description_width": ""
          }
        },
        "d9cb634c040c4d8798b6c644a5fb8f8c": {
          "model_module": "@jupyter-widgets/base",
          "model_name": "LayoutModel",
          "model_module_version": "1.2.0",
          "state": {
            "_model_module": "@jupyter-widgets/base",
            "_model_module_version": "1.2.0",
            "_model_name": "LayoutModel",
            "_view_count": null,
            "_view_module": "@jupyter-widgets/base",
            "_view_module_version": "1.2.0",
            "_view_name": "LayoutView",
            "align_content": null,
            "align_items": null,
            "align_self": null,
            "border": null,
            "bottom": null,
            "display": null,
            "flex": null,
            "flex_flow": null,
            "grid_area": null,
            "grid_auto_columns": null,
            "grid_auto_flow": null,
            "grid_auto_rows": null,
            "grid_column": null,
            "grid_gap": null,
            "grid_row": null,
            "grid_template_areas": null,
            "grid_template_columns": null,
            "grid_template_rows": null,
            "height": null,
            "justify_content": null,
            "justify_items": null,
            "left": null,
            "margin": null,
            "max_height": null,
            "max_width": null,
            "min_height": null,
            "min_width": null,
            "object_fit": null,
            "object_position": null,
            "order": null,
            "overflow": null,
            "overflow_x": null,
            "overflow_y": null,
            "padding": null,
            "right": null,
            "top": null,
            "visibility": null,
            "width": null
          }
        },
        "ab30a08876c5405085f721c06f082d77": {
          "model_module": "@jupyter-widgets/controls",
          "model_name": "ProgressStyleModel",
          "model_module_version": "1.5.0",
          "state": {
            "_model_module": "@jupyter-widgets/controls",
            "_model_module_version": "1.5.0",
            "_model_name": "ProgressStyleModel",
            "_view_count": null,
            "_view_module": "@jupyter-widgets/base",
            "_view_module_version": "1.2.0",
            "_view_name": "StyleView",
            "bar_color": null,
            "description_width": ""
          }
        },
        "f9d0ccc35052466badabbd65767f1efb": {
          "model_module": "@jupyter-widgets/base",
          "model_name": "LayoutModel",
          "model_module_version": "1.2.0",
          "state": {
            "_model_module": "@jupyter-widgets/base",
            "_model_module_version": "1.2.0",
            "_model_name": "LayoutModel",
            "_view_count": null,
            "_view_module": "@jupyter-widgets/base",
            "_view_module_version": "1.2.0",
            "_view_name": "LayoutView",
            "align_content": null,
            "align_items": null,
            "align_self": null,
            "border": null,
            "bottom": null,
            "display": null,
            "flex": null,
            "flex_flow": null,
            "grid_area": null,
            "grid_auto_columns": null,
            "grid_auto_flow": null,
            "grid_auto_rows": null,
            "grid_column": null,
            "grid_gap": null,
            "grid_row": null,
            "grid_template_areas": null,
            "grid_template_columns": null,
            "grid_template_rows": null,
            "height": null,
            "justify_content": null,
            "justify_items": null,
            "left": null,
            "margin": null,
            "max_height": null,
            "max_width": null,
            "min_height": null,
            "min_width": null,
            "object_fit": null,
            "object_position": null,
            "order": null,
            "overflow": null,
            "overflow_x": null,
            "overflow_y": null,
            "padding": null,
            "right": null,
            "top": null,
            "visibility": null,
            "width": null
          }
        },
        "896940572838417b9d5c45f9601972c0": {
          "model_module": "@jupyter-widgets/controls",
          "model_name": "DescriptionStyleModel",
          "model_module_version": "1.5.0",
          "state": {
            "_model_module": "@jupyter-widgets/controls",
            "_model_module_version": "1.5.0",
            "_model_name": "DescriptionStyleModel",
            "_view_count": null,
            "_view_module": "@jupyter-widgets/base",
            "_view_module_version": "1.2.0",
            "_view_name": "StyleView",
            "description_width": ""
          }
        }
      }
    }
  },
  "nbformat": 4,
  "nbformat_minor": 0
}