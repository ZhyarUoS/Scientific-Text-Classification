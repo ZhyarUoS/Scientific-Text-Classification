{
  "cells": [
    {
      "cell_type": "code",
      "execution_count": 1,
      "metadata": {
        "colab": {
          "base_uri": "https://localhost:8080/"
        },
        "id": "Va5ItHiVWXUG",
        "outputId": "16bc25cf-86e2-4997-f65a-9cd4e2fb7a27"
      },
      "outputs": [
        {
          "output_type": "stream",
          "name": "stdout",
          "text": [
            "Tue Jul 30 19:52:04 2024       \n",
            "+---------------------------------------------------------------------------------------+\n",
            "| NVIDIA-SMI 535.104.05             Driver Version: 535.104.05   CUDA Version: 12.2     |\n",
            "|-----------------------------------------+----------------------+----------------------+\n",
            "| GPU  Name                 Persistence-M | Bus-Id        Disp.A | Volatile Uncorr. ECC |\n",
            "| Fan  Temp   Perf          Pwr:Usage/Cap |         Memory-Usage | GPU-Util  Compute M. |\n",
            "|                                         |                      |               MIG M. |\n",
            "|=========================================+======================+======================|\n",
            "|   0  Tesla T4                       Off | 00000000:00:04.0 Off |                    0 |\n",
            "| N/A   41C    P8               9W /  70W |      0MiB / 15360MiB |      0%      Default |\n",
            "|                                         |                      |                  N/A |\n",
            "+-----------------------------------------+----------------------+----------------------+\n",
            "                                                                                         \n",
            "+---------------------------------------------------------------------------------------+\n",
            "| Processes:                                                                            |\n",
            "|  GPU   GI   CI        PID   Type   Process name                            GPU Memory |\n",
            "|        ID   ID                                                             Usage      |\n",
            "|=======================================================================================|\n",
            "|  No running processes found                                                           |\n",
            "+---------------------------------------------------------------------------------------+\n"
          ]
        }
      ],
      "source": [
        "gpu_info = !nvidia-smi\n",
        "gpu_info = '\\n'.join(gpu_info)\n",
        "if gpu_info.find('failed') >= 0:\n",
        "  print('Not connected to a GPU')\n",
        "else:\n",
        "  print(gpu_info)"
      ]
    },
    {
      "cell_type": "code",
      "execution_count": 2,
      "metadata": {
        "id": "6PAN1HD9WXUH",
        "colab": {
          "base_uri": "https://localhost:8080/"
        },
        "outputId": "1abb50de-7297-4afc-fec6-1bc7a6265934"
      },
      "outputs": [
        {
          "output_type": "stream",
          "name": "stdout",
          "text": [
            "Your runtime has 13.6 gigabytes of available RAM\n",
            "\n",
            "Not using a high-RAM runtime\n"
          ]
        }
      ],
      "source": [
        "from psutil import virtual_memory\n",
        "ram_gb = virtual_memory().total / 1e9\n",
        "print('Your runtime has {:.1f} gigabytes of available RAM\\n'.format(ram_gb))\n",
        "\n",
        "if ram_gb < 20:\n",
        "  print('Not using a high-RAM runtime')\n",
        "else:\n",
        "  print('You are using a high-RAM runtime!')"
      ]
    },
    {
      "cell_type": "code",
      "execution_count": 3,
      "metadata": {
        "id": "M7k7VLmJWXUH",
        "colab": {
          "base_uri": "https://localhost:8080/"
        },
        "outputId": "41885370-504a-410f-e01d-9c7a6aff3b71"
      },
      "outputs": [
        {
          "output_type": "stream",
          "name": "stdout",
          "text": [
            "Mounted at /content/drive\n"
          ]
        }
      ],
      "source": [
        "from google.colab import drive\n",
        "drive.mount('/content/drive')"
      ]
    },
    {
      "cell_type": "code",
      "execution_count": 4,
      "metadata": {
        "id": "SqnIUcZCWXUI",
        "colab": {
          "base_uri": "https://localhost:8080/"
        },
        "outputId": "790fd344-0393-4b42-9357-6b074c962a3e"
      },
      "outputs": [
        {
          "output_type": "stream",
          "name": "stdout",
          "text": [
            "Requirement already satisfied: transformers in /usr/local/lib/python3.10/dist-packages (4.42.4)\n",
            "Requirement already satisfied: filelock in /usr/local/lib/python3.10/dist-packages (from transformers) (3.15.4)\n",
            "Requirement already satisfied: huggingface-hub<1.0,>=0.23.2 in /usr/local/lib/python3.10/dist-packages (from transformers) (0.23.5)\n",
            "Requirement already satisfied: numpy<2.0,>=1.17 in /usr/local/lib/python3.10/dist-packages (from transformers) (1.26.4)\n",
            "Requirement already satisfied: packaging>=20.0 in /usr/local/lib/python3.10/dist-packages (from transformers) (24.1)\n",
            "Requirement already satisfied: pyyaml>=5.1 in /usr/local/lib/python3.10/dist-packages (from transformers) (6.0.1)\n",
            "Requirement already satisfied: regex!=2019.12.17 in /usr/local/lib/python3.10/dist-packages (from transformers) (2024.5.15)\n",
            "Requirement already satisfied: requests in /usr/local/lib/python3.10/dist-packages (from transformers) (2.31.0)\n",
            "Requirement already satisfied: safetensors>=0.4.1 in /usr/local/lib/python3.10/dist-packages (from transformers) (0.4.3)\n",
            "Requirement already satisfied: tokenizers<0.20,>=0.19 in /usr/local/lib/python3.10/dist-packages (from transformers) (0.19.1)\n",
            "Requirement already satisfied: tqdm>=4.27 in /usr/local/lib/python3.10/dist-packages (from transformers) (4.66.4)\n",
            "Requirement already satisfied: fsspec>=2023.5.0 in /usr/local/lib/python3.10/dist-packages (from huggingface-hub<1.0,>=0.23.2->transformers) (2024.6.1)\n",
            "Requirement already satisfied: typing-extensions>=3.7.4.3 in /usr/local/lib/python3.10/dist-packages (from huggingface-hub<1.0,>=0.23.2->transformers) (4.12.2)\n",
            "Requirement already satisfied: charset-normalizer<4,>=2 in /usr/local/lib/python3.10/dist-packages (from requests->transformers) (3.3.2)\n",
            "Requirement already satisfied: idna<4,>=2.5 in /usr/local/lib/python3.10/dist-packages (from requests->transformers) (3.7)\n",
            "Requirement already satisfied: urllib3<3,>=1.21.1 in /usr/local/lib/python3.10/dist-packages (from requests->transformers) (2.0.7)\n",
            "Requirement already satisfied: certifi>=2017.4.17 in /usr/local/lib/python3.10/dist-packages (from requests->transformers) (2024.7.4)\n"
          ]
        }
      ],
      "source": [
        "!pip install transformers"
      ]
    },
    {
      "cell_type": "code",
      "execution_count": 5,
      "metadata": {
        "id": "WhVPx8QYWXUI"
      },
      "outputs": [],
      "source": [
        "import os\n",
        "import numpy as np\n",
        "import pandas as pd\n",
        "from sklearn.model_selection import train_test_split\n",
        "from sklearn.metrics import confusion_matrix, classification_report, f1_score, precision_score, recall_score\n",
        "from transformers import AutoTokenizer, AutoModelForSequenceClassification, AdamW, get_linear_schedule_with_warmup\n",
        "import torch\n",
        "from torch.utils.data import DataLoader, TensorDataset, RandomSampler, SequentialSampler\n",
        "import torch.nn.functional as F\n",
        "from tqdm import trange, tqdm\n",
        "import matplotlib.pyplot as plt\n",
        "import sklearn.utils\n",
        "import time\n",
        "import re\n",
        "from google.colab import runtime"
      ]
    },
    {
      "cell_type": "code",
      "execution_count": 6,
      "metadata": {
        "id": "3oFtbbtBWXUI",
        "colab": {
          "base_uri": "https://localhost:8080/"
        },
        "outputId": "44ebd062-2b73-4986-e61b-91fd13688e37"
      },
      "outputs": [
        {
          "output_type": "stream",
          "name": "stdout",
          "text": [
            "(5736, 4)\n"
          ]
        }
      ],
      "source": [
        "# Retrive the data from stored dataset\n",
        "dataDir = \"/content/drive/MyDrive/WoS/data\"\n",
        "tsvData = os.path.join(dataDir,\"WoSDataset_5736.tsv\")\n",
        "\n",
        "tsvData = np.loadtxt(tsvData, dtype=str, delimiter=\"\\t\")\n",
        "print(np.shape(tsvData))"
      ]
    },
    {
      "cell_type": "code",
      "execution_count": 7,
      "metadata": {
        "id": "5xw9-_jdWXUI",
        "colab": {
          "base_uri": "https://localhost:8080/"
        },
        "outputId": "df23e661-2506-4a23-8099-51c347cf230d"
      },
      "outputs": [
        {
          "output_type": "stream",
          "name": "stdout",
          "text": [
            "[['2' 'biochemistry'\n",
            "  ' candidatus phytoplasma    16s rrna biosecurity taxonomy biodiversity vector seed transmission host range       '\n",
            "  'phytoplasmas are insectvectored bacteria that cause disease in a wide range of plant species the increasing availability of molecular dna analyses expertise and additional methods in recent years has led to a proliferation of discoveries of phytoplasmaplant host associations and in the numbers of taxonomic groupings for phytoplasmas the widespread use of common names based on the diseases with which they are associated as well as separate phenetic and taxonomic systems for classifying phytoplasmas based on variation at the 16s rrnaencoding gene complicates interpretation of the literature we explore this issue and related trends through a focus on australian pathosystems providing the first comprehensive compilation of information for this continent covering the phytoplasmas host plants vectors and diseases of the 33 16sr groups reported internationally only groups i ii iii x xi and xii have been recorded in australia and this highlights the need for ongoing biosecurity measures to prevent the introduction of additional pathogen groups many of the phytoplasmas reported in australia have not been sufficiently well studied to assign them to 16sr groups so it is likely that unrecognized groups and subgroups are present wide host plant ranges are apparent among well studied phytoplasmas with multiple crop and noncrop species infected by some disease management is further complicated by the fact that putative vectors have been identified for few phytoplasmas especially in australia despite rapid progress in recent years using molecular approaches phytoplasmas remain the least well studied group of plant pathogens making them a crouching tiger disease threat']\n",
            " ['2' 'biochemistry'\n",
            "  ' alphabisabolol alphabisabolol synthase mevalonate pathway farnesyl diphosphate synthase in situ extraction vegetable oils escherichia coli        '\n",
            "  'background alphabisabolol also known as levomenol is an unsaturated sesquiterpene alcohol that has mainly been used in pharmaceutical and cosmetic products due to its antiinflammatory and skinsoothing properties alphabisabolol is currently manufactured mainly by steamdistillation of the essential oils extracted from the brazilian candeia tree that is under threat because its natural habitat is constantly shrinking therefore microbial production of alphabisabolol plays a key role in the development of its sustainable production from renewable feedstock results here we created an escherichia coli strain producing alphabisabolol at high titer and developed an in situ extraction method of alphabisabolol using natural vegetable oils we expressed a recently identified alphabisabolol synthase isolated from german chamomile matricaria recutita titer 3 mgl converted the acetylcoa to mevalonate using the biosynthetic mevalonate pathway 128 mgl and overexpressed farnesyl diphosphate synthase to efficiently supply the alphabisabolol precursor farnesyl diphosphate combinatorial expression of the exogenous mevalonate pathway and farnesyl diphosphate synthase enabled a dramatic increase in alphabisabolol production in the shake flask culture 80 mgl and 5 l bioreactor culture 342 mgl of engineered e coli harboring alphabisabolol synthase fedbatch fermentation using a 50 l fermenter was conducted after optimizing culture conditions resulting in efficient alphabisabolol production with a titer of 91 gl moreover a green downstream extraction process using vegetable oils was developed for in situ extraction of alphabisabolol during fermentation and showed high yield recovery 98 conclusions the engineered e coli strains and economically viable extraction process developed in this study will serve as promising platforms for further development of microbial production of alphabisabolol at large scale']\n",
            " ['2' 'biochemistry'\n",
            "  ' rna virus cirv yeast programmed cell death acetic acid        '\n",
            "  'a universal feature of the replication of positivestrand rna viruses is the association with intracellular membranes carnation italian ringspot virus cirv replication in plants occurs in vesicles derived from the mitochondrial outer membrane the product encoded by cirv orf1 p36 is required for targeting the virus replication complex to the outer mitochondrial membrane both in plant and yeast cells here the yeast saccharomyces cerevisiae was used as a model host to study the effect of cirv p36 on cell survival and death it was shown that p36 does not promote cell death but decreases cell growth rate in addition p36 changed the nature of acetic acidinduced cell death in yeast by increasing the number of cells dying by necrosis with concomitant decrease of the number of cells dying by programmed cell death as judged by measurements of phosphatidylserine externalization the tight association of p36 to membranes was not affected by acetic acid treatment thus confirming the peculiar and independent interaction of cirv p36 with mitochondria in yeast this work proved yeast as an invaluable model organism to study both the mitochondrial determinants of the type of cell death in response to stress and the molecular pathogenesis of rna viruses c 2016 elsevier ireland ltd all rights reserved']\n",
            " ['2' 'biochemistry'\n",
            "  ' 1 2dicloropropane dichloromethane gpt delta rat in vivo mutagenicity liver        '\n",
            "  '12dichloropropane 12dcp and dichloromethane dcm are possible causative agents associated with the development of cholangiocarcinoma in employees working in printing plant in osaka japan however few reports have demonstrated an association between these agents and cholangiocarcinoma in rodent carcinogenicity studies moreover the combined effects of these compounds have not been fully elucidated in the present study we evaluated the in vivo mutagenicity of 12dcp and dcm alone or combined in the livers of gpt delta rats sixweekold male f344 gpt delta rats were treated with 12dcp dcm or 12dcpdcm by oral administration for 4weeks at the dose 200mgkg1 body weight 12dcp and 500mgkg1 body weight dcm used in the carcinogenesis study performed by the national toxicology program in vivo mutagenicity was analyzed by gpt mutationspi assays in the livers of rats in addition gene and protein expression of cyp2e1 and gstt1 the major enzymes responsible for the genotoxic effects of 12dcp and dcm were analyzed by quantitative polymerase chain reaction and western blotting gpt and spi mutation frequencies were not increased by 12dcp andor dcm in any group additionally there were no significant changes in the gene and protein expression of cyp2e1 and gstt1 in any group these results indicated that 12dcp dcm and 12dcpdcm had no significant impact on mutagenicity in the livers of gpt delta rats under our experimental conditions copyright c 2016 john wiley  sons ltd']\n",
            " ['0' 'ECE' ' 130 nm cmos pa programmable pa 24 ghz pa        '\n",
            "  'this paper presents the simulation results of a linear fully integrated twostage digitally programmable 130 nm cmos power amplifier pa operating at 24 ghz its power stage is composed of a set of amplifying cells which can be enabled or disabled independently by a digital control circuit all seven operational modes are univocal in terms of 1 db output compression point ocp1db saturated output power psat and power gain at 24 ghz the lowest power mode achieves an 81 dbm psat a 135 db power gain and consumes 171 mw dc power pdc at an ocp1db of 6 dbm whereas the highest power mode reaches an 189 dbm psat and a 211 db power gain and consumes 415 mw pdc at an ocp1db of 182 dbm']\n",
            " ['2' 'biochemistry'\n",
            "  ' 14alphaglucan branching enzyme hispatch thioredoxin geobacillus sp glycogen branching enzyme genome mining        '\n",
            "  'the glycogen branching enzyme ec 24118 which catalyses the formation of alpha16glycosidic branch points in glycogen structure is often used to enhance the nutritional value and quality of food and beverages in order to be applicable in industries enzymes that are stable and active at high temperature are much desired using genome mining the nucleotide sequence of the branching enzyme gene glgb was extracted from the geobacillus mahadia geo05 genome sequence provided by the malaysia genome institute the size of the gene is 2013 bp and the theoretical molecular weight of the protein is 7843 kda the gene sequence was then used to predict the thermostability function and the three dimensional structure of the enzyme the gene was cloned and overexpressed in e coli to verify the predicted result experimentally the purified enzyme was used to study the effect of temperature and ph on enzyme activity and stability and the inhibitory effect by metal ion on enzyme activity this thermostable glycogen branching enzyme was found to be most active at 55 degrees c and the halflife at 60 degrees c and 70 degrees c was 24 h and 5 h respectively from this research a thermostable glycogen branching enzyme was successfully isolated from geobacillus mahadia geo05 by genome mining together with molecular biology technique']\n",
            " ['2' 'biochemistry'\n",
            "  ' 16s rrna amplicon sequencing activated sludge bacterial populations molecular biology        '\n",
            "  'the microbial populations in the activated sludge of two polish wastewater treatment plants wwtps were identified and quantified using illumina sequencing of 16s ribosomal rna amplicons over a 2year period their dynamics over time were compared to danish wwtps data collected in previous studies by center for microbial communities aalborg university the bacterial communities in polish and danish wwtps were similar to each other but the microbial diversity in polish wwtps was lower the dominant genera in polish wwtps were more abundant than in danish wwtps 30 of them constituted more than half the of activated sludge community polish wwtps showed a higher abundance of bacteria involved in nitrogen and chemical oxygen demand removal proteobacteria and bacteroidetes while polyphosphateacculumating bacteria were the dominant bacterial group in danish plants the microbial community structures in the examined polish wwtps were relatively similar to each other and showed strong seasonal variations which are not normally observed in danish wwtps']\n",
            " ['2' 'biochemistry'\n",
            "  ' 16s 16s rrna utility bacterial infections cost analysis        '\n",
            "  'background broadrange 16s rrna pcr can be used for the detection and identification of bacteria from clinical specimens in patients for whom there is a high suspicion of infection and cultures are negative the aims of this study were 1 to compare 16s rrna pcr results with microbiolog ical culture results 2 to assess the utility of 16s rrna pcr with regard to antimicrobial therapy and 3 to compare the yield of 16s rrna pcr for different types of clinical specimen and to perform a cost analysis of the test methods a retrospective study was performed on different clinical specimens which had 16s performed over 3 years 20122015 standard microbiological cultures were performed on appropriate media as per the laboratory protocol patient clinical and microbiological data were obtained from the electronic medical records and laboratory information system respectively 16s rrna pcr was performed in a reference laboratory using a validated method for amplification and sequencing the outcomes assessed were the performance of 16s rrna pcr change of antimicrobials rationalization cessation or addition and duration of therapy concordance of 16s rrna pcr with bacterial cultures was also determined for tissue specimens results thirtytwo patients were included in the study for whom an equal number of specimens n  32 were sent for 16s rrna pcr 16s rrna pcr could identify an organism in 10 of 32 cases 312 of which seven were culturepositive and three were culturenegative the sensitivity was 58 confidence interval ci 2859835 and specificity was 85 ci 611396 with a positive predictive value of 70 ci 353919 and negative predictive value of 772 ci 5417913 antimicrobial therapy was rationalized after 16s rrna pcr results in five patients 156 and was ceased in four based on negative results 125 overall the 16s rrna pcr result had an impact on antimicrobial therapy in 28 of patients 932 the highest concordance of 16s rrna pcr with bacterial culture was found for heart valve tissue 80 followed by joint fluidtissue 50 conclusions despite the low diagnostic yield results of 16s rrna pcr can still have a significant impact on patient management due to rationalization or cessation of the antimicrobial therapy the yield of 16s rrna pcr was highest for heart valves c 2017 the authors published by elsevier ltd on behalf of international society for infectious diseases']\n",
            " ['2' 'biochemistry'\n",
            "  ' 16sriid subgroup 16srvid subgroup phytoplasma hishimonas phycitis cannabis sativa subsp sativa portulaca oleracea        '\n",
            "  'brinjal little leaf bll is a widespread disease of phytoplasma etiology in india that induces severe economic losses surveys were conducted in eight brinjalgrowing states of india during july 2014 to september 2015 and eighteen bll samples showing little leaf phyllody and witches broom symptoms were collected for phytoplasma identification presence of phytoplasmas was confirmed in all the eighteen bll samples using polymerase chain reaction with phytoplasmaspecific primer pairs p1p6 r16f2nr16r2 pair wise sequence comparison and phylogenetic relationship of 16s rrna gene sequences of bll phytoplasma strains confirmed that sixteen out of eighteen bll strains belonged to clover proliferation phytoplasma 16srvi group and two bll strains gkpa and gkpb from gorakhpur uttar pradesh were classified under 16srii group further virtual rflp analysis of 16s rdna sequences allowed finer classification of bll strains into 16sriid and 16srvid subgroups bll phytoplasma strains belonging to 16srvid subgroup were found as the most widespread phytoplasma strains associated with bll disease in india 16srvid subgroup phytoplasma association with two symptomatic weed species viz cannabis sativa subsp sativa at noida uttar pradesh and portulaca oleracea at iari fields new delhi was also confirmed by nested pcr assays with similar set of phytoplasmaspecific primers pairwise 16s rdna sequence comparison phylogeny and virtual rflp analysis out of five identified leafhopper species from bllinfected fields at noida uttar pradesh and delhi only hishimonas phycitis was identified as carrier and natural vector of 16srvid subgroup of phytoplasmas by nested pcr assays sequence comparison phylogeny virtual rflp analysis and transmission assays']\n",
            " ['2' 'biochemistry'\n",
            "  ' 16srxxiib phytoplasma candidatus phytoplasma palmicola coconut palm cocos nucifera lethal yellowing pcrrflp phylogeny ribosomal protein gene seca gene        '\n",
            "  'surveys for the cote divoire lethal yellowing cily phytoplasma were conducted in eight severely cilyaffected villages of grandlahou in 2015 leaves inflorescences and trunk borings were collected from coconut palms showing cily symptoms and from symptomless trees total dna was extracted from these samples and tested by nested polymerase chain reactionrflp and sequence analysis of the 16s rrna ribosomal protein rp and the translocation protein seca genes the cily phytoplasma was detected in 829 of the symptombearing palms collected from all the surveyed villages and from all the plant parts trunk borings were recommended as the most suitable plant tissue type for sampling results indicate that the cily phytoplasma may have a westward spread to other coconutgrowing areas of grandlahou cily phytoplasma strains infecting coconut palms in the western region of grandlahou exhibited unique single nucleotide polymorphisms on the rp sequence compared to the strains from the eastern region moreover single nucleotide polymorphisms on the seca sequence distinguished the cily phytoplasma from the cape st paul wilt disease phytoplasma in ghana and the lethal yellowing phytoplasma in mozambique']\n",
            " ['2' 'biochemistry'\n",
            "  ' 18s qsmrt quantitative ribosomal ross sea sequencing silicoflagellate smrt        '\n",
            "  'advances in sequencing technologies continue to provide unprecedented opportunities to characterize microbial communities for example the pacific biosciences single molecule realtime smrt platform has emerged as a unique approach harnessing dna polymerase activity to sequence template molecules enabling long reads at low costs with the aim to simultaneously classify and enumerate in situ microbial populations we developed a quantitative smrt qsmrt approach that involves the addition of exogenous standards to quantify ribosomal amplicons derived from environmental samples the v79 regions of 18s ssu rdna were targeted and quantified from protistan community samples collected in the ross sea during the austral summer of 2011 we used three standards of different length and optimized conditions to obtain accurate quantitative retrieval across the range of expected amplicon sizes a necessary criterion for analyzing taxonomically diverse 18s rdna molecules from natural environments the ability to concurrently identify and quantify microorganisms in their natural environment makes qsmrt a powerful rapid and costeffective approach for defining ecosystem diversity and function c 2017 elsevier bv all rights reserved']\n",
            " ['2' 'biochemistry'\n",
            "  ' 1a6drim utp20 18s rrna processing u3 snorna        '\n",
            "  '1a6drim is a nucleolar protein with a nucleolar targeting sequence in its 3terminus bioinformatic analysis indicated that human 1a6 drim shares 23 identity and 43 similarity with yeast utp20 which has been reported as a component of u3 snorna protein complex and has been implicated in 18s rrna processing in the present study we found by utilizing rtpcr with rna extracted from anti1a6drim inummoprecipitates and northern blotting that 1a6drim is associated with u3 snorna pulsechase labeling assays showed that silencing of 1a6drim expression in hela cells resulted in a delayed 18s rrna processing furthermore immunoprecipitations revealed that 1a6drim was also associated with fibrillarin another u3 rnp component in hela cells these results indicate that 1a6drim is involved in 18s rrna processing and is the bona fide mammalian utp20 c 2007 elsevier bv all rights reserved']\n",
            " ['1' 'Psychology'\n",
            "  ' 22q112 deletion syndrome face recognition negative performance belief negative symptom        '\n",
            "  'aims 22q112 deletion syndrome 22q112ds is a neurogenetic condition associated with an increased risk of developing schizophrenia previous studies have shown that negative symptoms represent the most specific clinical characteristic of psychosis in 22q112ds and are strongly associated with outcome however the psychological mechanisms associated with these symptoms in this population are poorly understood in accordance with recent conceptualizations in the field of schizophrenia the present study aims at investigating whether negative symptoms are associated with the presence of negative performance beliefs and cognitive deficits methods thirtyfive participants with 22q112ds and 24 typically developing individuals aged between 11 and 24 years were included in the study selfreported schizotypal symptoms cognitiveperceptual paranoid negative and disorganization symptoms and dysfunctional beliefs negative performance beliefs and need for approval were assessed measures of processing speed verbal memory working memory executive functioning and face recognitionwere also extracted from a broad cognitive evaluation protocol results adolescents with 22q112ds reported significantly higher score on the negative dimension of the schizotypal personality questionnaire than controls even when controlling for the influence of anxietydepression and intellectual functioning negative and paranoid symptoms were associated with the severity of negative performance beliefs and lower face recognition abilities mediation analyses revealed that negative performance beliefs significantly mediated the association between face recognition and negativeparanoid symptoms conclusions these findings suggest that negative performance beliefs and basic social cognitive mechanisms are associated with negative and paranoid symptoms in individuals with 22q112ds implications for intervention are discussed in this article']\n",
            " ['1' 'Psychology'\n",
            "  ' 22q112 deletion syndrome social brain network social cognition twotensor tractography white matter tracts        '\n",
            "  'background chromosome 22q112 deletion syndrome 22q112ds is a neurogenetic disorder that is associated with a 25fold increase in schizophrenia both individuals with 22q112ds and those with schizophrenia present with social cognitive deficits which are putatively subserved by a network of brain regions that are involved in the processing of social cognitive information this study used twotensor tractography to examine the white matter tracts believed to underlie the social brain network in a group of 57 young adults with 22q112ds compared to 30 unaffected controls results results indicated that relative to controls participants with 22q112ds showed significant differences in several dti metrics within the inferior frontooccipital fasciculus cingulum bundle thalamofrontal tract and inferior longitudinal fasciculus in addition participants with 22q112ds showed significant differences in scores on measures of social cognition including the social responsiveness scale and trait emotional intelligence questionnaire further analyses among individuals with 22q112ds demonstrated an association between dti metrics and positive and negative symptoms of psychosis as well as differentiation between individuals with 22q112ds and overt psychosis relative to those with positive prodromal symptoms or no psychosis conclusions findings suggest that white matter disruption specifically disrupted axonal coherence in the right inferior frontooccipital fasciculus may be a biomarker for social cognitive difficulties and psychosis in individuals with 22q112ds']\n",
            " ['2' 'biochemistry'\n",
            "  ' 22q121 tetratricopeptide repeat tpr centrosome aurora kinase b cell division midbody        '\n",
            "  'through the comprehensive analysis of the genomic dna sequence of human chromosome 22 we identified a novel gene of 702 kb encoding a big protein of 2481 amino acid residues and named it as tprbk tpr containing big gene cloned at keio a novel protein tprbk possesses 25 units of the tpr motif which has been known to associate with a diverse range of biological functions orthologous genes of human tprbk were found widely in animal species from insecta to mammal but not found in plants fungi and nematoda northern blotting and rtpcr analyses revealed that tprbk gene is expressed ubiquitously in the human and mouse fetal tissues and various cell lines of human monkey and mouse lmmunofluorescent staining of the synchronized monkey cos7 cells with several relevant antibodies indicated that tprbk changes its subcellular localization during the cell cycle at interphase tprbk locates on the centrosomes during mitosis it translocates from spindle poles to mitotic spindles then to spindle midzone and through a period of cytokinesis it stays on the midbody coimmunoprecipitation assay and immunofluorescent staining with adequate antibodies revealed that tprbk binds to aurora b and those proteins together translocate throughout mitosis and cytokinesis treatments of cells with two drugs blebbistatin and y27632 that are known to inhibit the contractility of actinmyosin disturbed the proper intracellular localization of tprbk moreover the knockdown of tprbk expression by small interfering rna sirna suppressed the bundling of spindle midzone microtubules and disrupted the midbody formation arresting the cells at g2  m phase these observations indicated that a novel big protein tprbk is essential for the formation and integrity of the midbody hence we postulated that tprbk plays a critical role in the progress of mitosis and cytokinesis during mammalian cell cycle c 2012 elsevier bv all rights reserved']]\n"
          ]
        }
      ],
      "source": [
        "print(tsvData[0:15])"
      ]
    },
    {
      "cell_type": "code",
      "execution_count": 8,
      "metadata": {
        "id": "eMlvUSrlWXUI"
      },
      "outputs": [],
      "source": [
        "allLabels = tsvData[:,0]\n",
        "domains = tsvData[:,1]\n",
        "keywords = tsvData[:,2]\n",
        "abstracts = tsvData[:,3]"
      ]
    },
    {
      "cell_type": "code",
      "execution_count": 9,
      "metadata": {
        "id": "I5ukmXOvWXUI",
        "colab": {
          "base_uri": "https://localhost:8080/"
        },
        "outputId": "8e9067c5-a18e-41fa-ea18-28c09946c35f"
      },
      "outputs": [
        {
          "output_type": "stream",
          "name": "stdout",
          "text": [
            "Labels  ['ECE' 'Psychology' 'biochemistry']\n",
            "Label counts  [1292 1597 2847]\n"
          ]
        }
      ],
      "source": [
        "labels = np.unique(domains, return_counts=True)[0]\n",
        "labelCounts=  np.unique(domains, return_counts=True)[1]\n",
        "\n",
        "print(\"Labels \", labels)\n",
        "print(\"Label counts \", labelCounts)"
      ]
    },
    {
      "cell_type": "code",
      "execution_count": 10,
      "metadata": {
        "id": "-T7QrmVmWXUI",
        "colab": {
          "base_uri": "https://localhost:8080/",
          "height": 582
        },
        "outputId": "f984e77f-3688-4255-b705-9d9e602de6f5"
      },
      "outputs": [
        {
          "output_type": "display_data",
          "data": {
            "text/plain": [
              "<Figure size 1000x600 with 1 Axes>"
            ],
            "image/png": "[encoded data removed]"
          },
          "metadata": {}
        },
        {
          "output_type": "stream",
          "name": "stdout",
          "text": [
            "The domain ECE has 1292 records in the dataset.\n",
            "The domain Psychology has 1597 records in the dataset.\n",
            "The domain biochemistry has 2847 records in the dataset.\n"
          ]
        }
      ],
      "source": [
        "# Visualize domain counts in dataset\n",
        "plt.figure(figsize=(10, 6))\n",
        "plt.title(\"Domain Counts (Dataset)\")\n",
        "plt.pie(labelCounts, labels=labels, autopct='%1.1f%%', startangle=140, colors=plt.cm.Paired(range(len(labels))))\n",
        "plt.axis('equal')\n",
        "plt.show()\n",
        "\n",
        "for i, domain in enumerate(labels):\n",
        "    print(\"The domain\", domain, \"has\", labelCounts[i], \"records in the dataset.\")"
      ]
    },
    {
      "cell_type": "code",
      "execution_count": 11,
      "metadata": {
        "id": "MWaqWll9WXUI",
        "colab": {
          "base_uri": "https://localhost:8080/"
        },
        "outputId": "dc661c87-9f66-4e9a-f0e8-87a2846d9f5a"
      },
      "outputs": [
        {
          "output_type": "stream",
          "name": "stdout",
          "text": [
            "Number of abstracts:  5736\n",
            "Shape of abstracts:  (5736,)\n",
            "['we previously demonstrated that serotonin 5ht and 5ht2a receptor 5ht2ar levels in platelets were up or downregulated after myocardial infarction mi associated with depression in this study we further evaluated the effects of pretreatment with ginseng fruit saponins gfs on the expression of 5ht and 5ht2ar in mi with or without depression eighty spraguedawley sd rats were treated with saline and gfs n40 per group the animals were then randomly divided into four subgroups sham mi depression and mi  depression n10 per subgroup protein levels of 5ht and 5ht2ar in the serum platelets and brain tissues were determined with elisa the results demonstrated that serum 5ht levels was significantly increased by gfs pretreatment in all subgroups except the sham subgroup when compared with salinetreated counterparts p001 in platelets gfs pretreatment significantly increased 5ht levels in all subgroups when compared with their respective salinetreated counterparts p001 brain 5ht levels also declined with gfs pretreatment in the mionly and depressiononly subgroups p005 vs saline pretreatment with respect to 5ht2ar levels platelet 5ht2ar was decreased in gfs pretreated mi depression and mi  depression subgroups p001 vs saline pretreatment similarly brain 5ht2ar levels decreased in all four subgroups pretreated with gfs p001 vs saline pretreatment we conclude that gfs plays a clear role in modulating 5ht and 5ht2ar expressions after mi and depression although the effects of gfs on brain 5ht remain to be elucidated its therapeutic potential for comorbidities of acute cardiovascular events and depression appears to hold much promise'\n",
            " 'this paper examines the current electrical generation expansion plan of ghana and compares it with proposed expansion pathways with higher penetration of renewable energy technologies an adaptation of schwartzs scenario methodology was used to develop the scenarios which were then analysed using the longrange alternatives planning leap model each of the scenarios represents policy options for generation expansion in ghana up to 2040 energy economic and environmental analysis of the three alternative scenarios compared to the base scenarios was undertaken sensitivity results show that if the country were to follow the generation expansion path described in the renewable energy scenarios it could reap economic benefits of 051323 depending on the developments in fuel prices and renewable technology capital cost the analysis further quantifies benefits to be derived from a reduction in greenhouse gases of the scenarios policy implications for the generation system of ghana based on the results are also discussed']\n",
            "Number of keywords:  5736\n",
            "Shape of keywords:  (5736,)\n",
            "['we previously demonstrated that serotonin 5ht and 5ht2a receptor 5ht2ar levels in platelets were up or downregulated after myocardial infarction mi associated with depression in this study we further evaluated the effects of pretreatment with ginseng fruit saponins gfs on the expression of 5ht and 5ht2ar in mi with or without depression eighty spraguedawley sd rats were treated with saline and gfs n40 per group the animals were then randomly divided into four subgroups sham mi depression and mi  depression n10 per subgroup protein levels of 5ht and 5ht2ar in the serum platelets and brain tissues were determined with elisa the results demonstrated that serum 5ht levels was significantly increased by gfs pretreatment in all subgroups except the sham subgroup when compared with salinetreated counterparts p001 in platelets gfs pretreatment significantly increased 5ht levels in all subgroups when compared with their respective salinetreated counterparts p001 brain 5ht levels also declined with gfs pretreatment in the mionly and depressiononly subgroups p005 vs saline pretreatment with respect to 5ht2ar levels platelet 5ht2ar was decreased in gfs pretreated mi depression and mi  depression subgroups p001 vs saline pretreatment similarly brain 5ht2ar levels decreased in all four subgroups pretreated with gfs p001 vs saline pretreatment we conclude that gfs plays a clear role in modulating 5ht and 5ht2ar expressions after mi and depression although the effects of gfs on brain 5ht remain to be elucidated its therapeutic potential for comorbidities of acute cardiovascular events and depression appears to hold much promise'\n",
            " 'this paper examines the current electrical generation expansion plan of ghana and compares it with proposed expansion pathways with higher penetration of renewable energy technologies an adaptation of schwartzs scenario methodology was used to develop the scenarios which were then analysed using the longrange alternatives planning leap model each of the scenarios represents policy options for generation expansion in ghana up to 2040 energy economic and environmental analysis of the three alternative scenarios compared to the base scenarios was undertaken sensitivity results show that if the country were to follow the generation expansion path described in the renewable energy scenarios it could reap economic benefits of 051323 depending on the developments in fuel prices and renewable technology capital cost the analysis further quantifies benefits to be derived from a reduction in greenhouse gases of the scenarios policy implications for the generation system of ghana based on the results are also discussed']\n",
            "Number of domains:  5736\n",
            "Shape of domains:  (5736,)\n",
            "['Psychology' 'ECE']\n",
            "Number of labels:  5736\n",
            "Shape of labels:  (5736,)\n",
            "['1' '0']\n",
            "['we previously demonstrated that serotonin 5ht and 5ht2a receptor 5ht2ar levels in platelets were up or downregulated after myocardial infarction mi associated with depression in this study we further evaluated the effects of pretreatment with ginseng fruit saponins gfs on the expression of 5ht and 5ht2ar in mi with or without depression eighty spraguedawley sd rats were treated with saline and gfs n40 per group the animals were then randomly divided into four subgroups sham mi depression and mi  depression n10 per subgroup protein levels of 5ht and 5ht2ar in the serum platelets and brain tissues were determined with elisa the results demonstrated that serum 5ht levels was significantly increased by gfs pretreatment in all subgroups except the sham subgroup when compared with salinetreated counterparts p001 in platelets gfs pretreatment significantly increased 5ht levels in all subgroups when compared with their respective salinetreated counterparts p001 brain 5ht levels also declined with gfs pretreatment in the mionly and depressiononly subgroups p005 vs saline pretreatment with respect to 5ht2ar levels platelet 5ht2ar was decreased in gfs pretreated mi depression and mi  depression subgroups p001 vs saline pretreatment similarly brain 5ht2ar levels decreased in all four subgroups pretreated with gfs p001 vs saline pretreatment we conclude that gfs plays a clear role in modulating 5ht and 5ht2ar expressions after mi and depression although the effects of gfs on brain 5ht remain to be elucidated its therapeutic potential for comorbidities of acute cardiovascular events and depression appears to hold much promise'\n",
            " 'this paper examines the current electrical generation expansion plan of ghana and compares it with proposed expansion pathways with higher penetration of renewable energy technologies an adaptation of schwartzs scenario methodology was used to develop the scenarios which were then analysed using the longrange alternatives planning leap model each of the scenarios represents policy options for generation expansion in ghana up to 2040 energy economic and environmental analysis of the three alternative scenarios compared to the base scenarios was undertaken sensitivity results show that if the country were to follow the generation expansion path described in the renewable energy scenarios it could reap economic benefits of 051323 depending on the developments in fuel prices and renewable technology capital cost the analysis further quantifies benefits to be derived from a reduction in greenhouse gases of the scenarios policy implications for the generation system of ghana based on the results are also discussed'\n",
            " 'background psychosocial distress is common among cancer patients significant associations between coping and social support with distress and quality of life in adult cancer patients have been identified before but little is known about the interrelationships between distress medical coping and social support in adolescents and young adults ayas objective the aims of this study are to investigate the prevalence of psychological distress in chinese ayas with cancer and examine the associations among distress anxiety and depression medical coping and social support in the same population methods a total of 610 aya patients were recruited for this study 551 patients completed the chinese version of the national comprehensive cancer network distress thermometer dt the hospital anxiety and depression scale the medical coping modes questionnaire and the social support rating scale results the prevalence of psychological distress was 891 in chinese ayas with cancer the dt scores were the highest in the 21to 25yearold patients the dt scores were positively correlated with anxiety and depression pg 01 but negatively correlated with medical coping and social support pg 01 conclusion the prevalence of psychological distress in aya cancer patients was higher than that in the general cancer population medical coping and social support can lower the prevalence of psychological distress in aya cancer patients implications for practice findings suggest the need for evidencebased intervention strategies to enhance medical coping and social support in aya cancer patients nurses are crucial to implementing psychological interventions in aya cancer patients'\n",
            " 'backgroundhuman papillomavirus hpvpositive oropharyngeal cancer is generally associated with excellent response to therapy but some hpvpositive tumors progress despite aggressive therapy the purpose of this study was to evaluate viral oncogene expression and viral integration sites in hpv16 and hpv18positive squamous cell carcinoma lines methodse6e7 alternate transcripts were assessed by reverse transcriptasepolymerase chain reaction rtpcr detection of integrated papillomavirus sequences dipspcr and sequencing identified viral insertion sites and affected host genes cellular gene expression was assessed across viral integration sites resultsall hpvpositive cell lines expressed alternate hpve6e7 splicing indicative of active viral oncogenesis hpv integration occurred within cancerrelated genes tp63 dcc jak1 tert atr etv6 pgr ptprn2 and tmem237 in 8 head and neck squamous cell carcinoma hnscc lines but umscc105 and umgcc1 had only intergenic integration conclusionhpv integration into cancerrelated genes occurred in 7 of 9 hpvpositive cell lines and of these 6 were from tumors that progressed hpv integration into cancerrelated genes may be a secondary carcinogenic driver in hpvdriven tumors c 2017 wiley periodicals inc head neck 39 840852 2017'\n",
            " 'criminal justice research frequently investigates relationships between punishment decisions and demographic characteristics of the accused such as gender race and age while there are many similarities between criminal justice and child welfare cases research on child maltreatment has yet to examine potential demographic influences on case outcomes the current study examines relationships between parent gender type of maltreatment and child removal among agency responses to child maltreatment cases using data collected by the national data archive on child abuse and neglect data system ncands we identify differences in the likelihood of child removal from the parental home across type of maltreatment and perpetrator gender our results indicate that mother perpetrators of physical abuse not only face significantly higher likelihood of removal than mother perpetrators of neglect but are more at risk for losing their children than father perpetrators of both physical abuse and neglect findings suggest that gendered attributions and stereotypes regarding parenting can shape assessments of parents blameworthiness dangerousness and rehabilitative potential we propose that future research on child maltreatment cases adapt and apply justice concepts and frameworks to uncover potential unwarranted demographic disparities in agency decisionmaking c 2016 elsevier ltd all rights reserved'\n",
            " 'in this paper we use the electricity consumption model for electric vehicular flow h xiao h j huang and t q tang mod phys lett b 30 2016 1650325 to study the effects of road conditions on the electricity consumption of electric vehicular flow during the evolutions of shock rarefaction wave and small perturbation the numerical results indicate that road conditions have negative influences on the electricity consumption during the evolutions of shock and rarefaction wave ie the electricity consumption increases when road conditions become better and positive impacts on the electricity consumption during the evolution of small perturbation when the traffic flow is unstable ie the electricity consumption produces oscillation but its amplitude decreases when road conditions become better'\n",
            " 'a novel threedimensional dnaaunps network structure amplification strategy was employed to design a lateral flow biosensor by introducing streptavidin coated gold nanoparticles ausa in this paper they act as amplification probes which aggregate numerous gold nanoparticles aunps on test line by forming a threedimensional dnaaunps network structure in the presence of target sensitive detection of nucleic acid with pointofcare analysis is significant for infectious agent early diagnosis and treatment of genetic diseases the use of these particles in rapid ultrasensitive point of care poc lateral flow assays lead to a linear range from 01 pm to 250 nm with a limit of detection of 001 pm without polymerase chain reaction pcr the proposed method could increase the sensitivity by 4 orders of magnitudes than traditional sandwich assays labeled with aunps furthermore the assay owns good reproducibility and stability which will prove practical diagnostic applications'\n",
            " 'in the early 1980s the dispute on the existence of a multiplicity of receptors for neurotransmitter was at its height several subtypes of serotonin 5ht receptors were proposed on the basis of radioligand binding assays in order to provide further support to the existence of these receptors we performed quantitative autoradiographic mapping of the binding of several ligands for the 5ht1 receptor labeling the subtypes 5ht1a 5ht1b and 5ht1c and characterized pharmacologically these different receptors the results demonstrated differential localization of the subtypes of 5ht1 receptors indicating that they were expressed by different cell populations probably neurons in the brain and further supporting their reality shortly afterwards the cloning of the genes coding for these 5ht receptors and many others ended the dispute by demonstrating that they were different proteins the advent of molecular biology provided new methodologies for the study of the chemical and molecular anatomy of 5ht receptors in brain by visualizing cells expressing their mrna by in situ hybridization and showed that the family of mammalian 5ht receptors has 14 members a figure much larger than ever suspected at that time this article is part of a special issue entitled si50th anniversary issue c 2016 elsevier bv all rights reserved'\n",
            " 'children make many decisions about whether and how to disclose their performance to peers teachers parents and others previous research has found that childrens disclosure declines with age and that older children and teenagers preferentially choose a peer audience for performance disclosure based on similar achievement this research examines younger childrens choice of a disclosure audience whether young children predict that people will distinguish between peers at different achievement levels and whether or not younger children expect preferential selections between those peers for their performance disclosure one hundred and thirtynine children aged 3 to 6years were asked about a characters disclosure of classroom performance information at least until the age of 6years children predicted significantly greater disclosure of failure to a high achieving peer who had been successful when asked to predict the disclosure of success however children in all age groups did not discriminate between disclosing to the highachieving or lowachieving peer this evidence suggests that very young children may not show the same valencematching preferences as older children and that early school ages are a critical time when children begin to adopt social norms around disclosure that impinge on possible helpseeking copyright c 2016 john wiley  sons ltd'\n",
            " 'baby factories and baby harvesting are relatively new terms that involve breeding trafficking and abuse of infants and their biological mothers since it was first described in a united nations educational scientific and cultural organization report in nigeria in 2006 several more baby factories have been discovered over the years infertile women are noted to be major patrons of these baby factories due to the stigmatization of childless couples in southern nigeria and issues around cultural acceptability of surrogacy and adoption these practices have contributed to the growth in the industry which results in physical psychological and sexual violence to the victims tackling baby factories will involve a multifaceted approach that includes advocacy and enacting of legislation barring baby factories and infant trafficking and harsh consequences for their patrons also programs to educate young girls on preventing unwanted pregnancies are needed methods of improving awareness and acceptability of adoption and surrogacy and reducing the administrative and legal bottlenecks associated with these options for infertile couples should be explored to diminish the importance of baby factories']\n",
            "[' serotonin ginseng myocardial infarction depression brain        '\n",
            " ' economic environment ghana leap renewable energy scenario analysis        '\n",
            " ' anxiety cancer coping depression distress social support        '\n",
            " ' human papillomavirus hpv integration head and neck squamous cell carcinoma hnscc cancer oropharynx        '\n",
            " ' child maltreatment gender removal extralegal factors        '\n",
            " ' electric vehicular flow electricity consumption road conditions macro traffic flow        '\n",
            " ' lateral flow assay gold nanoparticles nucleic acid network amplification        '\n",
            " ' receptor multiplicity serotonin 5ht receptor autoradiography molecular neuroanatomy human brain        '\n",
            " ' disclosure peer interaction social cognition social development academic performance        '\n",
            " ' baby factory child abuse human rights human trafficking infertility violence        ']\n",
            "['Psychology' 'ECE' 'Psychology' 'biochemistry' 'Psychology' 'ECE'\n",
            " 'biochemistry' 'biochemistry' 'Psychology' 'Psychology']\n",
            "['1' '0' '1' '2' '1' '0' '2' '2' '1' '1']\n",
            "[1 0 1 2 1 0 2 2 1 1]\n"
          ]
        }
      ],
      "source": [
        "# Shuffle data\n",
        "dataShuffled = sklearn.utils.shuffle(tsvData)\n",
        "\n",
        "abstractsShuffled = dataShuffled[:,3]\n",
        "keywordsShuffled = dataShuffled[:,2]\n",
        "domainsShuffled = dataShuffled[:,1]\n",
        "allLabelsShuffled = dataShuffled[:,0]\n",
        "\n",
        "print(\"Number of abstracts: \", len(abstractsShuffled))\n",
        "print(\"Shape of abstracts: \", np.shape(abstractsShuffled))\n",
        "print(abstractsShuffled[0:2])\n",
        "\n",
        "print(\"Number of keywords: \", len(keywordsShuffled))\n",
        "print(\"Shape of keywords: \", np.shape(keywordsShuffled))\n",
        "print(abstractsShuffled[0:2])\n",
        "\n",
        "print(\"Number of domains: \", len(domainsShuffled))\n",
        "print(\"Shape of domains: \", np.shape(domainsShuffled))\n",
        "print(domainsShuffled[0:2])\n",
        "\n",
        "print(\"Number of labels: \", len(allLabelsShuffled))\n",
        "print(\"Shape of labels: \", np.shape(allLabelsShuffled))\n",
        "print(allLabelsShuffled[0:2])\n",
        "\n",
        "\n",
        "# Convert labels to integer\n",
        "allLabelsDigitShuffled = allLabelsShuffled.astype(int)\n",
        "\n",
        "print(abstractsShuffled[0:10])\n",
        "print(keywordsShuffled[0:10])\n",
        "print(domainsShuffled[0:10])\n",
        "print(allLabelsShuffled[0:10])\n",
        "print(allLabelsDigitShuffled[0:10])"
      ]
    },
    {
      "cell_type": "code",
      "execution_count": 12,
      "metadata": {
        "id": "t9_3IhKwWXUI",
        "colab": {
          "base_uri": "https://localhost:8080/",
          "height": 301,
          "referenced_widgets": [
            "1f319b1d1f5f487d9be6778af690e6eb",
            "bb5e548a95c34fb69f737b40ff6204f8",
            "10f3a61f535b456a83c84ec65d263365",
            "daeb953508504c90a726cdde25dadff5",
            "b37bff729ba24bd4ac462fa4b5e6d803",
            "07256f1c1d404b43bbdfcc9cda8866fa",
            "2f1ad09495b84751889ac03cf6a4fbce",
            "4eb11c20838d4ca1add3d42e2faa3264",
            "95a5caec8ff447ceb04e2a0c263dc82a",
            "440455a202c245d5bb06803679f79289",
            "7c502171010f445da97881599d6142dd",
            "da75a6cf21504e00a0736a6140ce684e",
            "fa23d49afae54eca998049ae4eb8f9cd",
            "7ee876d8b5034873bf7a657875e8d3a9",
            "525dc98ec6334eabbe6bcd604c5902be",
            "cadf5b444ad448a4b61c82868f710783",
            "fbf74b4f43fc49a698e509834fac3057",
            "4a50fb50d4ec4cada2d6c1f938fbcb25",
            "c26bb1f024284e4f970d09372d9dd91b",
            "5e30a0ed903d49aa97fe8f6e94fecec4",
            "b4c079f032e74f939cce0ae8fac41818",
            "3c11c802c7cd4cd2b8e96ef0de2ea26d"
          ]
        },
        "outputId": "beaefc11-74a6-4bba-edc0-5b8080e191f8"
      },
      "outputs": [
        {
          "output_type": "stream",
          "name": "stdout",
          "text": [
            "(4588, 4)\n",
            "(1148, 4)\n",
            "(4588, 4)\n",
            "(1148, 4)\n",
            "(230, 4)\n"
          ]
        },
        {
          "output_type": "stream",
          "name": "stderr",
          "text": [
            "/usr/local/lib/python3.10/dist-packages/huggingface_hub/utils/_token.py:89: UserWarning: \n",
            "The secret `HF_TOKEN` does not exist in your Colab secrets.\n",
            "To authenticate with the Hugging Face Hub, create a token in your settings tab (https://huggingface.co/settings/tokens), set it as secret in your Google Colab and restart your session.\n",
            "You will be able to reuse this secret in all of your notebooks.\n",
            "Please note that authentication is recommended but still optional to access public models or datasets.\n",
            "  warnings.warn(\n"
          ]
        },
        {
          "output_type": "display_data",
          "data": {
            "text/plain": [
              "config.json:   0%|          | 0.00/314 [00:00<?, ?B/s]"
            ],
            "application/vnd.jupyter.widget-view+json": {
              "version_major": 2,
              "version_minor": 0,
              "model_id": "1f319b1d1f5f487d9be6778af690e6eb"
            }
          },
          "metadata": {}
        },
        {
          "output_type": "display_data",
          "data": {
            "text/plain": [
              "vocab.txt:   0%|          | 0.00/232k [00:00<?, ?B/s]"
            ],
            "application/vnd.jupyter.widget-view+json": {
              "version_major": 2,
              "version_minor": 0,
              "model_id": "da75a6cf21504e00a0736a6140ce684e"
            }
          },
          "metadata": {}
        }
      ],
      "source": [
        "# Split dataset into training and testing (80/20 split)\n",
        "train_data, test_data = train_test_split(dataShuffled, test_size=0.2, random_state=42)\n",
        "print(np.shape(train_data))\n",
        "print(np.shape(test_data))\n",
        "\n",
        "# Further split training data into training and validation (80/20 split of training set)\n",
        "_, val_data = train_test_split(test_data, test_size=0.2, random_state=42)\n",
        "print(np.shape(train_data))\n",
        "print(np.shape(test_data))\n",
        "print(np.shape(val_data))\n",
        "# Load SciBERT tokenizer\n",
        "tokenizer = AutoTokenizer.from_pretrained(\"bionlp/bluebert_pubmed_uncased_L-24_H-1024_A-16\")"
      ]
    },
    {
      "cell_type": "code",
      "execution_count": 13,
      "metadata": {
        "id": "5wYiosJzWXUJ",
        "colab": {
          "base_uri": "https://localhost:8080/"
        },
        "outputId": "dbf3175c-e5d4-41d0-d144-a6fabafb1639"
      },
      "outputs": [
        {
          "output_type": "stream",
          "name": "stdout",
          "text": [
            "Number of abstracts:  4588\n",
            "Shape of abstracts:  (4588,)\n",
            "Number of keywords:  4588\n",
            "Shape of keywords:  (4588,)\n",
            "Number of domains:  4588\n",
            "Shape of domains:  (4588,)\n",
            "Number of labels:  4588\n",
            "Shape of labels:  (4588,)\n",
            "['the aim of the present study was to evaluate the functions of mir200c in the regulation of tumor growth and metastasis in renal cancer cells and to investigate the underlying mechanisms in this study mir200c was up and downregulated in two renal cancer cell lines namely achn and a498 and the proliferation colony formation migration and invasion of the cells were measured the expression levels of various mrnas and proteins were then analyzed using reverse transcriptionquantitative polymerase chain reaction and western blotting respectively it was found that mir200c suppressed proliferation migration and invasion of the renal cancer cells and conversely the inhibition of endogenous mir200c resulted in increased cell proliferation and metastasis furthermore a luciferase reporter assay revealed that mir200c directly targeted the 3 untranslated regions of the oncogenes bcellspecific moloney murine leukemia virus insertion site 1 bmi1 and e2f transcription factor 3 e2f3 mrnas reduced the expression of bmi1 and e2f3 and regulated the expression of downstream genes including ecadherin ncadherin vimentin p14 and p16 these results indicate a tumor suppressor role for mir200c in renal cancer cells via the direct targeting of bmi1 and e2f3'\n",
            " 'twocomponent signal transduction system tcs is a common mechanism of signal transduction and exists in almost all bacterial species the putative twocomponent genes sco6421 ecre1 and sco6422 ecre2 in streptomyces coelicolor which located in the vicinity of the red locus could modulate the antibiotic undecylprodigiosin red biosynthesis in this study the mutants of m145e1 ecre1 knockout and m145e2 ecre2 knockout were constructed using homologous recombination by double crossover red production of two mutants decreased dramatically compared with that of the wildtype strain however the production of actinorhodin act of two mutants had not changed significantly the results suggested that ecre1ecre2 participated in regulating the antibiotic red synthesis northern blotting analysis indicated that ecre1ecre2 may regulate the biosynthesis of red through influencing the transcription of redd and redz during cell growth therefore ecre1ecre2 as a specific pair of tcs most likely regulates the red gene cluster positively']\n",
            "[' mir200c bmi1 e2f3 renal cancer cells        '\n",
            " ' ecre1ecre2 streptomyces coelicolor twocomponent signal transduction system undecylprodigiosin  red        ']\n",
            "['biochemistry' 'biochemistry']\n",
            "['2' '2']\n"
          ]
        }
      ],
      "source": [
        "abstractsTrain = train_data[:,3]\n",
        "keywordsTrain = train_data[:,2]\n",
        "domainsTrain = train_data[:,1]\n",
        "allLabelsTrain = train_data[:,0]\n",
        "\n",
        "print(\"Number of abstracts: \",len(abstractsTrain))\n",
        "print(\"Shape of abstracts: \",np.shape(abstractsTrain))\n",
        "print(\"Number of keywords: \",len(keywordsTrain))\n",
        "print(\"Shape of keywords: \",np.shape(keywordsTrain))\n",
        "print(\"Number of domains: \",len(domainsTrain))\n",
        "print(\"Shape of domains: \",np.shape(domainsTrain))\n",
        "print(\"Number of labels: \",len(allLabelsTrain))\n",
        "print(\"Shape of labels: \",np.shape(allLabelsTrain))\n",
        "\n",
        "print(abstractsTrain[0:2])\n",
        "print(keywordsTrain[0:2])\n",
        "print(domainsTrain[0:2])\n",
        "print(allLabelsTrain[0:2])"
      ]
    },
    {
      "cell_type": "code",
      "execution_count": 14,
      "metadata": {
        "id": "kuvxdWDRWXUJ",
        "colab": {
          "base_uri": "https://localhost:8080/",
          "height": 619
        },
        "outputId": "056ae2a9-5bc8-4f01-e1fd-36a4f84cd27d"
      },
      "outputs": [
        {
          "output_type": "stream",
          "name": "stdout",
          "text": [
            "Labels  ['ECE' 'Psychology' 'biochemistry']\n",
            "Label counts  [1038 1269 2281]\n"
          ]
        },
        {
          "output_type": "display_data",
          "data": {
            "text/plain": [
              "<Figure size 1000x600 with 1 Axes>"
            ],
            "image/png": "[encoded data removed]"
          },
          "metadata": {}
        },
        {
          "output_type": "stream",
          "name": "stdout",
          "text": [
            "The domain ECE has 1038 records in the training set.\n",
            "The domain Psychology has 1269 records in the training set.\n",
            "The domain biochemistry has 2281 records in the training set.\n"
          ]
        }
      ],
      "source": [
        "labels = np.unique(domainsTrain, return_counts=True)[0]\n",
        "labelCounts =  np.unique(domainsTrain, return_counts=True)[1]\n",
        "\n",
        "print(\"Labels \", labels)\n",
        "print(\"Label counts \", labelCounts)\n",
        "\n",
        "nAbstract = len(abstractsTrain)\n",
        "plt.figure(figsize=(10, 6))\n",
        "plt.title(\"Domain Counts (Training Set)\")\n",
        "plt.pie(labelCounts, labels=labels, autopct='%1.1f%%', startangle=140, colors=plt.cm.Paired(range(len(labels))))\n",
        "plt.axis('equal')  # Equal aspect ratio ensures that pie is drawn as a circle.\n",
        "plt.show()\n",
        "\n",
        "for i, domain in enumerate(labels):\n",
        "    print(\"The domain\", domain, \"has\", labelCounts[i], \"records in the training set.\")"
      ]
    },
    {
      "cell_type": "code",
      "execution_count": 15,
      "metadata": {
        "id": "WpHlCnwUWXUJ",
        "colab": {
          "base_uri": "https://localhost:8080/"
        },
        "outputId": "cb866ae4-b26a-4f04-f745-dbd248374b3b"
      },
      "outputs": [
        {
          "output_type": "stream",
          "name": "stdout",
          "text": [
            "Number of abstracts:  1148\n",
            "Shape of abstracts:  (1148,)\n",
            "Number of keywords:  1148\n",
            "Shape of keywords:  (1148,)\n",
            "Number of domains:  1148\n",
            "Shape of domains:  (1148,)\n",
            "Number of labels:  1148\n",
            "Shape of labels:  (1148,)\n",
            "['the cdna of crassostrea gigas hsp70 was cloned and rapid amplification of cdna race techniques were used the full length of hsp70 cdna was 2045 bp consisting of a 5 terminal untranslated region utr of 80 bp a 3 terminal utr 146 bp and an open reading frame ore of 1829 bp encoding deduced 620 amino acids the hsp70 cdna contained hsp70 family signatures atpgtp binding site motif tetrapeptide ggmp and conserved carboxyl terminal region eevd at cterminal of deduced amino acid sequence blast analysis revealed that the hsp70 gene has an extreme similarity of 989 with c gigas af144646 northern blotting was used to examine the expression of hsp70 mrna in the gill tissue of the oyster obtained from surface middle and bottom layers the hsp70 mrna observed the samples taken from middle and bottom layers in september and february but samples from the surface layer did not find a signal intensity of hsp70 mrna transcript consequently it seems that the oyster occurring middle and bottom layer have been stressed during the period of summer and winter which is associated with the massive mortality in gamak bay'\n",
            " 'a simple and high sensitive cholesterol amperometric biosensor which is based on in situ electropolymerization of multiwalled carbon nanotubepolyaniline mwcntpani nanocomposite and electrodeposition of platinum nanoparticle nanopt films onto the glassy carbon electrode surface for cholesterol oxidase immobilization was constructed in this study the preparation process of the modified electrode was characterized by cyclic voltammetry electrochemical impedance spectroscopy scanning electron microscopy and chronoamperometry because of the synergistic electrocatalytic activity between mwcntpani nanocomposites and nanopt the cholesterol biosensor exhibited an excellent performance with a linear range of 205100 mu m a detection limit of 08 mu m signaltonoise ratio  3 a high sensitivity of 1099 mu a mm1 and a short response time within 5 sec moreover the reproducibility stability and selectivity of the biosensor were also investigated c 2015 international union of biochemistry and molecular biology inc volume 63 number 6 pages 757764 2016']\n",
            "[' hsp70 gene expression oyster environmental impact        '\n",
            " ' multiwalled carbon nanotube polyaniline platinum nanoparticles cholesterol oxidase biosensor        ']\n",
            "['biochemistry' 'biochemistry']\n",
            "['2' '2']\n"
          ]
        }
      ],
      "source": [
        "abstractsTest = test_data[:,3]\n",
        "keywordsTest = test_data[:,2]\n",
        "domainsTest = test_data[:,1]\n",
        "allLabelsTest = test_data[:,0]\n",
        "\n",
        "print(\"Number of abstracts: \",len(abstractsTest))\n",
        "print(\"Shape of abstracts: \",np.shape(abstractsTest))\n",
        "print(\"Number of keywords: \",len(keywordsTest))\n",
        "print(\"Shape of keywords: \",np.shape(keywordsTest))\n",
        "print(\"Number of domains: \",len(domainsTest))\n",
        "print(\"Shape of domains: \",np.shape(domainsTest))\n",
        "print(\"Number of labels: \",len(allLabelsTest))\n",
        "print(\"Shape of labels: \",np.shape(allLabelsTest))\n",
        "\n",
        "# arr = np.array(domainsTest)\n",
        "# cleaned_domains = np.char.strip(arr)\n",
        "# print(\"Cleaned arr \", cleaned_domains)\n",
        "# domainsLabelsTest = cleaned_domains\n",
        "# print(\"Labels domains \", domainsLabelsTest)\n",
        "\n",
        "print(abstractsTest[0:2])\n",
        "print(keywordsTest[0:2])\n",
        "print(domainsTest[0:2])\n",
        "print(allLabelsTest[0:2])"
      ]
    },
    {
      "cell_type": "code",
      "execution_count": 16,
      "metadata": {
        "id": "imNTasg6WXUJ",
        "colab": {
          "base_uri": "https://localhost:8080/",
          "height": 619
        },
        "outputId": "dc3fc644-b56a-47dc-9180-982daaee211c"
      },
      "outputs": [
        {
          "output_type": "stream",
          "name": "stdout",
          "text": [
            "Labels  ['ECE' 'Psychology' 'biochemistry']\n",
            "Label counts  [254 328 566]\n"
          ]
        },
        {
          "output_type": "display_data",
          "data": {
            "text/plain": [
              "<Figure size 1000x600 with 1 Axes>"
            ],
            "image/png": "[encoded data removed]"
          },
          "metadata": {}
        },
        {
          "output_type": "stream",
          "name": "stdout",
          "text": [
            "The domain ECE has 254 records in the test set.\n",
            "The domain Psychology has 328 records in the test set.\n",
            "The domain biochemistry has 566 records in the test set.\n"
          ]
        }
      ],
      "source": [
        "labels = np.unique(domainsTest, return_counts=True)[0]\n",
        "labelCounts =  np.unique(domainsTest, return_counts=True)[1]\n",
        "\n",
        "print(\"Labels \", labels)\n",
        "print(\"Label counts \", labelCounts)\n",
        "\n",
        "nAbstract = len(abstractsTest)\n",
        "plt.figure(figsize=(10, 6))\n",
        "plt.title(\"Domain Counts (Test Set)\")\n",
        "plt.pie(labelCounts, labels=labels, autopct='%1.1f%%', startangle=140, colors=plt.cm.Paired(range(len(labels))))\n",
        "plt.axis('equal')  # Equal aspect ratio ensures that pie is drawn as a circle.\n",
        "plt.show()\n",
        "\n",
        "for i, domain in enumerate(labels):\n",
        "    print(\"The domain\", domain, \"has\", labelCounts[i], \"records in the test set.\")"
      ]
    },
    {
      "cell_type": "code",
      "execution_count": 17,
      "metadata": {
        "id": "sPFav1v1WXUJ",
        "colab": {
          "base_uri": "https://localhost:8080/"
        },
        "outputId": "83b0301a-95db-429c-d94c-0709d8c0e873"
      },
      "outputs": [
        {
          "output_type": "stream",
          "name": "stdout",
          "text": [
            "Number of abstracts:  230\n",
            "Shape of abstracts:  (230,)\n",
            "Number of keywords:  230\n",
            "Shape of keywords:  (230,)\n",
            "Number of domains:  230\n",
            "Shape of domains:  (230,)\n",
            "Number of labels:  230\n",
            "Shape of labels:  (230,)\n",
            "['background the rapid increase of extendedspectrum betalactamase esbl producing bacteria are a potential health hazard development of antimicrobial resistance in animal pathogens has serious implications for human health especially when such strains could be transmitted to human in this study the antimicrobial resistance due to esbl producing pseudomonas aeruginosa in the camel meat was investigated methods in this study meat samples from 200 healthy camels at two major abattoirs in egypt cairo and giza were collected following culture on cetrimide agar suspected p aeruginosa colonies were confirmed with a vitek 2 system biomerieux p aeruginosa isolates were phenotypically identified as esbl by double disk synergy test additionally antimicrobial susceptibility testing of esbl producing p aeruginosa isolates were done against 11 antimicrobial drugs and carried out by disk diffusion method the esbl genotypes were determined by polymerase chain reaction according to the presence of the blapfr1 blactxm blashv and blatfm results pseudomonas aeruginosa was isolated from 45 camel meat sample 225 the total percentage of esbl producing p aeruginosa was 45 2145 from camel meat isolates antibiogram results revealed the highest resistance was for c ceftriaxone and rifampicin followed by cefepime and aztreonam the prevalence rates of betalactamase genes were recorded blaper1 285 blactxm 38 blashv 333 and blatem 238 conclusions this study illustrates the presence of high rates of esblp aeruginosa in camels that represents an increasing alarming for the risk of transmission to human and opens the door for current and future antibiotics therapy failure livestock associated esblp aeruginosa is a growing disaster therefore attention has to be fully given to livestock associated esblbacteria which try to find its way to human beings'\n",
            " 'background child abuse and neglect can is a risk factor for the development of psychiatric disorders untreated disorders can sustain into adulthood objectives this study compares rates of psychiatric disorders to mental health care utilization in victims of can methods from three regions in germany 322 children and adolescents aged between 4 and 17 and a nonabusive caregiver were assessed for the childs history of can mental health and mental health care utilization via semistructured interviews results approximately two thirds of the participants present state 6429  lifetime 6957  suffered from a psychiatric disorder classifiable with icd10 posttraumatic stress disorder 2516  conduct disorders 2134 and attention and hyperactivity disorders 1615  were most frequently diagnosed merely 1988 were using mental health care at the time of the assessment conclusions the provision of mental health care for victims of can is insufficient to improve access to appropriate services for this vulnerable clientele cooperation between psychiatrists and psychotherapists and the child welfare system is essential the implementation and dissemination of evidencebased diagnostic methods and treatments must be further advanced']\n",
            "[' camel esbl paeruginosa resistance genes livestock egypt        '\n",
            " ' child abuse neglect service use mental health disorders        ']\n",
            "['biochemistry' 'Psychology']\n",
            "['2' '1']\n"
          ]
        }
      ],
      "source": [
        "abstractsVal = val_data[:,3]\n",
        "keywordsVal = val_data[:,2]\n",
        "domainsVal = val_data[:,1]\n",
        "allLabelsVal = val_data[:,0]\n",
        "\n",
        "print(\"Number of abstracts: \",len(abstractsVal))\n",
        "print(\"Shape of abstracts: \",np.shape(abstractsVal))\n",
        "print(\"Number of keywords: \",len(keywordsVal))\n",
        "print(\"Shape of keywords: \",np.shape(keywordsVal))\n",
        "print(\"Number of domains: \",len(domainsVal))\n",
        "print(\"Shape of domains: \",np.shape(domainsVal))\n",
        "print(\"Number of labels: \",len(allLabelsVal))\n",
        "print(\"Shape of labels: \",np.shape(allLabelsVal))\n",
        "\n",
        "print(abstractsVal[0:2])\n",
        "print(keywordsVal[0:2])\n",
        "print(domainsVal[0:2])\n",
        "print(allLabelsVal[0:2])"
      ]
    },
    {
      "cell_type": "code",
      "execution_count": 18,
      "metadata": {
        "id": "qW_P1Zn6WXUJ",
        "colab": {
          "base_uri": "https://localhost:8080/",
          "height": 619
        },
        "outputId": "adfe3d5c-0515-4388-fff1-31300334d9ae"
      },
      "outputs": [
        {
          "output_type": "stream",
          "name": "stdout",
          "text": [
            "Labels  ['ECE' 'Psychology' 'biochemistry']\n",
            "Label counts  [ 48  73 109]\n"
          ]
        },
        {
          "output_type": "display_data",
          "data": {
            "text/plain": [
              "<Figure size 1000x600 with 1 Axes>"
            ],
            "image/png": "[encoded data removed]"
          },
          "metadata": {}
        },
        {
          "output_type": "stream",
          "name": "stdout",
          "text": [
            "The domain ECE has 48 records in the vaidation set.\n",
            "The domain Psychology has 73 records in the vaidation set.\n",
            "The domain biochemistry has 109 records in the vaidation set.\n"
          ]
        }
      ],
      "source": [
        "labels = np.unique(domainsVal, return_counts=True)[0]\n",
        "labelCounts =  np.unique(domainsVal, return_counts=True)[1]\n",
        "\n",
        "print(\"Labels \", labels)\n",
        "print(\"Label counts \", labelCounts)\n",
        "\n",
        "nAbstract = len(abstractsVal)\n",
        "plt.figure(figsize=(10, 6))\n",
        "plt.title(\"Domain Counts (Validation Set)\")\n",
        "plt.pie(labelCounts, labels=labels, autopct='%1.1f%%', startangle=140, colors=plt.cm.Paired(range(len(labels))))\n",
        "plt.axis('equal')  # Equal aspect ratio ensures that pie is drawn as a circle.\n",
        "plt.show()\n",
        "\n",
        "for i, domain in enumerate(labels):\n",
        "    print(\"The domain\", domain, \"has\", labelCounts[i], \"records in the vaidation set.\")"
      ]
    },
    {
      "cell_type": "code",
      "execution_count": 19,
      "metadata": {
        "id": "AewCWU8XWXUJ"
      },
      "outputs": [],
      "source": [
        "# Function to tokenize and encode the dataset\n",
        "def encode_data(data, tokenizer, max_length=128):\n",
        "    # print(len(data[:,2]))\n",
        "    inputs = tokenizer(\n",
        "        data[:,2].tolist(), # keywords\n",
        "        max_length=max_length,\n",
        "        padding='max_length',\n",
        "        truncation=True,\n",
        "        return_tensors=\"pt\"\n",
        "    )\n",
        "    # print(len(dataShuffled[:, 0]))\n",
        "    labels = torch.tensor(data[:, 0].astype(int))\n",
        "    print(\"Label length \", len(labels))\n",
        "    return TensorDataset(inputs['input_ids'], inputs['attention_mask'], labels)"
      ]
    },
    {
      "cell_type": "code",
      "execution_count": 20,
      "metadata": {
        "id": "qosmRYrmWXUJ",
        "colab": {
          "base_uri": "https://localhost:8080/"
        },
        "outputId": "192d0bb7-7c0b-49a6-c7f1-e5a64a54a80a"
      },
      "outputs": [
        {
          "output_type": "stream",
          "name": "stdout",
          "text": [
            "(4588, 4)\n",
            "(1148, 4)\n",
            "(230, 4)\n"
          ]
        }
      ],
      "source": [
        "print(np.shape(train_data))\n",
        "print(np.shape(test_data))\n",
        "print(np.shape(val_data))\n"
      ]
    },
    {
      "cell_type": "code",
      "execution_count": 21,
      "metadata": {
        "id": "ntqAS03ZWXUJ",
        "colab": {
          "base_uri": "https://localhost:8080/"
        },
        "outputId": "12327af1-a799-42b1-ad93-8bbc9ea5c345"
      },
      "outputs": [
        {
          "output_type": "stream",
          "name": "stdout",
          "text": [
            "Label length  4588\n",
            "Label length  230\n",
            "Label length  1148\n"
          ]
        }
      ],
      "source": [
        "# Encode training, validation, and testing data\n",
        "train_dataset = encode_data(train_data, tokenizer)\n",
        "val_dataset = encode_data(val_data, tokenizer)\n",
        "test_dataset = encode_data(test_data, tokenizer)\n",
        "\n",
        "\n",
        "\n",
        "# Data loaders\n",
        "train_dataloader = DataLoader(train_dataset, sampler=RandomSampler(train_dataset), batch_size=32)\n",
        "val_dataloader = DataLoader(val_dataset, sampler=SequentialSampler(val_dataset), batch_size=32)\n",
        "test_dataloader = DataLoader(test_dataset, sampler=SequentialSampler(test_dataset), batch_size=32)"
      ]
    },
    {
      "cell_type": "code",
      "source": [
        "print(np.unique(train_data[:,0]))"
      ],
      "metadata": {
        "id": "cGH9hmFwafTf",
        "colab": {
          "base_uri": "https://localhost:8080/"
        },
        "outputId": "e3b1d542-00ce-4ece-d34c-06426ffe9763"
      },
      "execution_count": 22,
      "outputs": [
        {
          "output_type": "stream",
          "name": "stdout",
          "text": [
            "['0' '1' '2']\n"
          ]
        }
      ]
    },
    {
      "cell_type": "code",
      "execution_count": 23,
      "metadata": {
        "id": "GWDExyfRWXUJ",
        "colab": {
          "base_uri": "https://localhost:8080/",
          "height": 940,
          "referenced_widgets": [
            "76f4b37e6a0040fab43bbeff2ab06771",
            "3caa8470403047fd849fcccf1a821e31",
            "d5a250d7e19041108e32f918ce55ae23",
            "1c51ae3c872e43a39fa068ca9f57c1e4",
            "1b1d68260b2940f5b783c85665310f9b",
            "817b1bd54e2148f282e276b31ef54b82",
            "a02868097b8749589572345c26042b59",
            "92a585e9405642b6a3af9f31484a254c",
            "c6bb99df238d4d4d970bf87fb666428c",
            "23b63a83a70d454b90c9c2acb7e5b354",
            "fdd6714506d84370ad862faa85f6ac8f"
          ]
        },
        "outputId": "b5730a19-5945-4136-a3e2-ee92f8b881b6"
      },
      "outputs": [
        {
          "output_type": "stream",
          "name": "stdout",
          "text": [
            "3\n"
          ]
        },
        {
          "output_type": "display_data",
          "data": {
            "text/plain": [
              "pytorch_model.bin:   0%|          | 0.00/1.35G [00:00<?, ?B/s]"
            ],
            "application/vnd.jupyter.widget-view+json": {
              "version_major": 2,
              "version_minor": 0,
              "model_id": "76f4b37e6a0040fab43bbeff2ab06771"
            }
          },
          "metadata": {}
        },
        {
          "output_type": "stream",
          "name": "stderr",
          "text": [
            "Some weights of BertForSequenceClassification were not initialized from the model checkpoint at bionlp/bluebert_pubmed_uncased_L-24_H-1024_A-16 and are newly initialized: ['classifier.bias', 'classifier.weight']\n",
            "You should probably TRAIN this model on a down-stream task to be able to use it for predictions and inference.\n"
          ]
        },
        {
          "output_type": "execute_result",
          "data": {
            "text/plain": [
              "BertForSequenceClassification(\n",
              "  (bert): BertModel(\n",
              "    (embeddings): BertEmbeddings(\n",
              "      (word_embeddings): Embedding(30522, 1024, padding_idx=0)\n",
              "      (position_embeddings): Embedding(512, 1024)\n",
              "      (token_type_embeddings): Embedding(2, 1024)\n",
              "      (LayerNorm): LayerNorm((1024,), eps=1e-12, elementwise_affine=True)\n",
              "      (dropout): Dropout(p=0.1, inplace=False)\n",
              "    )\n",
              "    (encoder): BertEncoder(\n",
              "      (layer): ModuleList(\n",
              "        (0-23): 24 x BertLayer(\n",
              "          (attention): BertAttention(\n",
              "            (self): BertSdpaSelfAttention(\n",
              "              (query): Linear(in_features=1024, out_features=1024, bias=True)\n",
              "              (key): Linear(in_features=1024, out_features=1024, bias=True)\n",
              "              (value): Linear(in_features=1024, out_features=1024, bias=True)\n",
              "              (dropout): Dropout(p=0.1, inplace=False)\n",
              "            )\n",
              "            (output): BertSelfOutput(\n",
              "              (dense): Linear(in_features=1024, out_features=1024, bias=True)\n",
              "              (LayerNorm): LayerNorm((1024,), eps=1e-12, elementwise_affine=True)\n",
              "              (dropout): Dropout(p=0.1, inplace=False)\n",
              "            )\n",
              "          )\n",
              "          (intermediate): BertIntermediate(\n",
              "            (dense): Linear(in_features=1024, out_features=4096, bias=True)\n",
              "            (intermediate_act_fn): GELUActivation()\n",
              "          )\n",
              "          (output): BertOutput(\n",
              "            (dense): Linear(in_features=4096, out_features=1024, bias=True)\n",
              "            (LayerNorm): LayerNorm((1024,), eps=1e-12, elementwise_affine=True)\n",
              "            (dropout): Dropout(p=0.1, inplace=False)\n",
              "          )\n",
              "        )\n",
              "      )\n",
              "    )\n",
              "    (pooler): BertPooler(\n",
              "      (dense): Linear(in_features=1024, out_features=1024, bias=True)\n",
              "      (activation): Tanh()\n",
              "    )\n",
              "  )\n",
              "  (dropout): Dropout(p=0.1, inplace=False)\n",
              "  (classifier): Linear(in_features=1024, out_features=3, bias=True)\n",
              ")"
            ]
          },
          "metadata": {},
          "execution_count": 23
        }
      ],
      "source": [
        "# Load SciBERT model\n",
        "print(len(np.unique(train_data[:,0])))\n",
        "model = AutoModelForSequenceClassification.from_pretrained(\"bionlp/bluebert_pubmed_uncased_L-24_H-1024_A-16\", num_labels=len(np.unique(train_data[:,0])))\n",
        "device = torch.device(\"cuda\" if torch.cuda.is_available() else \"cpu\")\n",
        "model.to(device)"
      ]
    },
    {
      "cell_type": "code",
      "execution_count": 24,
      "metadata": {
        "id": "FXZH5dFPWXUJ",
        "colab": {
          "base_uri": "https://localhost:8080/"
        },
        "outputId": "60b9f977-694b-4873-e3f1-a57405911761"
      },
      "outputs": [
        {
          "output_type": "execute_result",
          "data": {
            "text/plain": [
              "BertConfig {\n",
              "  \"_name_or_path\": \"bionlp/bluebert_pubmed_uncased_L-24_H-1024_A-16\",\n",
              "  \"attention_probs_dropout_prob\": 0.1,\n",
              "  \"classifier_dropout\": null,\n",
              "  \"hidden_act\": \"gelu\",\n",
              "  \"hidden_dropout_prob\": 0.1,\n",
              "  \"hidden_size\": 1024,\n",
              "  \"id2label\": {\n",
              "    \"0\": \"LABEL_0\",\n",
              "    \"1\": \"LABEL_1\",\n",
              "    \"2\": \"LABEL_2\"\n",
              "  },\n",
              "  \"initializer_range\": 0.02,\n",
              "  \"intermediate_size\": 4096,\n",
              "  \"label2id\": {\n",
              "    \"LABEL_0\": 0,\n",
              "    \"LABEL_1\": 1,\n",
              "    \"LABEL_2\": 2\n",
              "  },\n",
              "  \"layer_norm_eps\": 1e-12,\n",
              "  \"max_position_embeddings\": 512,\n",
              "  \"model_type\": \"bert\",\n",
              "  \"num_attention_heads\": 16,\n",
              "  \"num_hidden_layers\": 24,\n",
              "  \"pad_token_id\": 0,\n",
              "  \"position_embedding_type\": \"absolute\",\n",
              "  \"transformers_version\": \"4.42.4\",\n",
              "  \"type_vocab_size\": 2,\n",
              "  \"use_cache\": true,\n",
              "  \"vocab_size\": 30522\n",
              "}"
            ]
          },
          "metadata": {},
          "execution_count": 24
        }
      ],
      "source": [
        "model.config"
      ]
    },
    {
      "cell_type": "code",
      "execution_count": 25,
      "metadata": {
        "id": "SXpJq-t0WXUJ",
        "colab": {
          "base_uri": "https://localhost:8080/"
        },
        "outputId": "0c1a2c19-f382-44f9-aff1-8eaf443b8f15"
      },
      "outputs": [
        {
          "output_type": "stream",
          "name": "stderr",
          "text": [
            "/usr/local/lib/python3.10/dist-packages/transformers/optimization.py:591: FutureWarning: This implementation of AdamW is deprecated and will be removed in a future version. Use the PyTorch implementation torch.optim.AdamW instead, or set `no_deprecation_warning=True` to disable this warning\n",
            "  warnings.warn(\n"
          ]
        }
      ],
      "source": [
        "# Optimizer and learning rate scheduler\n",
        "optimizer = AdamW(model.parameters(), lr=2e-5, eps=1e-8)\n",
        "total_steps = len(train_dataloader) * 20\n",
        "num_warmup_steps = 1e-4\n",
        "scheduler = get_linear_schedule_with_warmup(optimizer, num_warmup_steps=num_warmup_steps, num_training_steps=total_steps)"
      ]
    },
    {
      "cell_type": "code",
      "execution_count": 26,
      "metadata": {
        "id": "PL4PtJ4_WXUJ"
      },
      "outputs": [],
      "source": [
        "def calculate_metrics(valType, predictions, true_labels):\n",
        "    # Confusion matrix\n",
        "    if(valType == 'test'):\n",
        "        cm = confusion_matrix(true_labels, predictions)\n",
        "        print(\"Confusion Matrix:\\n\", cm)\n",
        "\n",
        "        # Classification report (includes precision, recall, F1 score)\n",
        "        report = classification_report(true_labels, predictions, target_names=[str(i) for i in range(len(np.unique(true_labels)))])\n",
        "        print(\"\\nClassification Report:\\n\", report)\n",
        "\n",
        "        # Calculate different types of F1 scores, precision, and recall\n",
        "        f1_macro = f1_score(true_labels, predictions, average='macro')\n",
        "        f1_micro = f1_score(true_labels, predictions, average='micro')\n",
        "        f1_weighted = f1_score(true_labels, predictions, average='weighted')\n",
        "\n",
        "        precision_macro = precision_score(true_labels, predictions, average='macro')\n",
        "        precision_micro = precision_score(true_labels, predictions, average='micro')\n",
        "        precision_weighted = precision_score(true_labels, predictions, average='weighted')\n",
        "\n",
        "        recall_macro = recall_score(true_labels, predictions, average='macro')\n",
        "        recall_micro = recall_score(true_labels, predictions, average='micro')\n",
        "        recall_weighted = recall_score(true_labels, predictions, average='weighted')\n",
        "\n",
        "        print(f\"Macro F1 Score: {f1_macro}\")\n",
        "        print(f\"Micro F1 Score: {f1_micro}\")\n",
        "        print(f\"Weighted F1 Score: {f1_weighted}\")\n",
        "\n",
        "        print(f\"Macro Precision: {precision_macro}\")\n",
        "        print(f\"Micro Precision: {precision_micro}\")\n",
        "        print(f\"Weighted Precision: {precision_weighted}\")\n",
        "\n",
        "        print(f\"Macro Recall: {recall_macro}\")\n",
        "        print(f\"Micro Recall: {recall_micro}\")\n",
        "        print(f\"Weighted Recall: {recall_weighted}\")\n",
        "\n",
        "    elif(valType == 'val'):\n",
        "        cm = confusion_matrix(true_labels, predictions)\n",
        "        f1_macro = f1_score(true_labels, predictions, average='macro')\n",
        "        f1_micro = f1_score(true_labels, predictions, average='micro')\n",
        "        f1_weighted = f1_score(true_labels, predictions, average='weighted')\n",
        "\n",
        "        precision_macro = precision_score(true_labels, predictions, average='macro')\n",
        "        precision_micro = precision_score(true_labels, predictions, average='micro')\n",
        "        precision_weighted = precision_score(true_labels, predictions, average='weighted')\n",
        "\n",
        "        recall_macro = recall_score(true_labels, predictions, average='macro')\n",
        "        recall_micro = recall_score(true_labels, predictions, average='micro')\n",
        "        recall_weighted = recall_score(true_labels, predictions, average='weighted')\n",
        "        # print('Val Micro F1:', f1_micro)\n",
        "        return f1_micro"
      ]
    },
    {
      "cell_type": "code",
      "execution_count": 27,
      "metadata": {
        "id": "aAhwPA8HWXUJ",
        "colab": {
          "base_uri": "https://localhost:8080/"
        },
        "outputId": "84b81ac2-6555-4ae2-aee8-8db48b5ea267"
      },
      "outputs": [
        {
          "metadata": {
            "tags": null
          },
          "name": "stderr",
          "output_type": "stream",
          "text": [
            "Epoch 1/20: 100%|██████████| 144/144 [04:48<00:00,  2.00s/batch]\n"
          ]
        },
        {
          "metadata": {
            "tags": null
          },
          "name": "stdout",
          "output_type": "stream",
          "text": [
            "Epoch 1/20\n",
            "  Train Loss: 0.39488274609256124\n",
            "  Val Micro F1: 0.908695652173913\n",
            "  Time: 4m 54s\n"
          ]
        },
        {
          "metadata": {
            "tags": null
          },
          "name": "stderr",
          "output_type": "stream",
          "text": [
            "Epoch 2/20: 100%|██████████| 144/144 [04:54<00:00,  2.05s/batch]\n"
          ]
        },
        {
          "metadata": {
            "tags": null
          },
          "name": "stdout",
          "output_type": "stream",
          "text": [
            "Epoch 2/20\n",
            "  Train Loss: 0.16443398661471698\n",
            "  Val Micro F1: 0.908695652173913\n",
            "  Time: 4m 60s\n"
          ]
        },
        {
          "metadata": {
            "tags": null
          },
          "name": "stderr",
          "output_type": "stream",
          "text": [
            "Epoch 3/20: 100%|██████████| 144/144 [04:54<00:00,  2.05s/batch]\n"
          ]
        },
        {
          "metadata": {
            "tags": null
          },
          "name": "stdout",
          "output_type": "stream",
          "text": [
            "Epoch 3/20\n",
            "  Train Loss: 0.10285752864405771\n",
            "  Val Micro F1: 0.9217391304347826\n",
            "  Time: 4m 60s\n"
          ]
        },
        {
          "metadata": {
            "tags": null
          },
          "name": "stderr",
          "output_type": "stream",
          "text": [
            "Epoch 4/20: 100%|██████████| 144/144 [04:54<00:00,  2.05s/batch]\n"
          ]
        },
        {
          "metadata": {
            "tags": null
          },
          "name": "stdout",
          "output_type": "stream",
          "text": [
            "Epoch 4/20\n",
            "  Train Loss: 0.05514758124142342\n",
            "  Val Micro F1: 0.9130434782608695\n",
            "  Time: 4m 60s\n"
          ]
        },
        {
          "metadata": {
            "tags": null
          },
          "name": "stderr",
          "output_type": "stream",
          "text": [
            "Epoch 5/20: 100%|██████████| 144/144 [04:54<00:00,  2.05s/batch]\n"
          ]
        },
        {
          "metadata": {
            "tags": null
          },
          "name": "stdout",
          "output_type": "stream",
          "text": [
            "Epoch 5/20\n",
            "  Train Loss: 0.03171875103402676\n",
            "  Val Micro F1: 0.9173913043478261\n",
            "  Time: 4m 60s\n"
          ]
        },
        {
          "metadata": {
            "tags": null
          },
          "name": "stderr",
          "output_type": "stream",
          "text": [
            "Epoch 6/20: 100%|██████████| 144/144 [04:54<00:00,  2.05s/batch]\n"
          ]
        },
        {
          "metadata": {
            "tags": null
          },
          "name": "stdout",
          "output_type": "stream",
          "text": [
            "Epoch 6/20\n",
            "  Train Loss: 0.016161907946702234\n",
            "  Val Micro F1: 0.9260869565217392\n",
            "  Time: 4m 60s\n"
          ]
        },
        {
          "metadata": {
            "tags": null
          },
          "name": "stderr",
          "output_type": "stream",
          "text": [
            "Epoch 7/20: 100%|██████████| 144/144 [04:54<00:00,  2.05s/batch]\n"
          ]
        },
        {
          "metadata": {
            "tags": null
          },
          "name": "stdout",
          "output_type": "stream",
          "text": [
            "Epoch 7/20\n",
            "  Train Loss: 0.008364486633733273\n",
            "  Val Micro F1: 0.9173913043478261\n",
            "  Time: 4m 60s\n"
          ]
        },
        {
          "metadata": {
            "tags": null
          },
          "name": "stderr",
          "output_type": "stream",
          "text": [
            "Epoch 8/20: 100%|██████████| 144/144 [04:54<00:00,  2.05s/batch]\n"
          ]
        },
        {
          "metadata": {
            "tags": null
          },
          "name": "stdout",
          "output_type": "stream",
          "text": [
            "Epoch 8/20\n",
            "  Train Loss: 0.005946713572636024\n",
            "  Val Micro F1: 0.9217391304347826\n",
            "  Time: 4m 60s\n"
          ]
        },
        {
          "metadata": {
            "tags": null
          },
          "name": "stderr",
          "output_type": "stream",
          "text": [
            "Epoch 9/20: 100%|██████████| 144/144 [04:54<00:00,  2.05s/batch]\n"
          ]
        },
        {
          "metadata": {
            "tags": null
          },
          "name": "stdout",
          "output_type": "stream",
          "text": [
            "Epoch 9/20\n",
            "  Train Loss: 0.004194592513310151\n",
            "  Val Micro F1: 0.9130434782608695\n",
            "  Time: 4m 60s\n"
          ]
        },
        {
          "metadata": {
            "tags": null
          },
          "name": "stderr",
          "output_type": "stream",
          "text": [
            "Epoch 10/20: 100%|██████████| 144/144 [04:54<00:00,  2.05s/batch]\n"
          ]
        },
        {
          "metadata": {
            "tags": null
          },
          "name": "stdout",
          "output_type": "stream",
          "text": [
            "Epoch 10/20\n",
            "  Train Loss: 0.0017011913443335895\n",
            "  Val Micro F1: 0.9260869565217392\n",
            "  Time: 4m 60s\n"
          ]
        },
        {
          "output_type": "stream",
          "name": "stderr",
          "text": [
            "Epoch 11/20: 100%|██████████| 144/144 [04:54<00:00,  2.05s/batch]\n"
          ]
        },
        {
          "output_type": "stream",
          "name": "stdout",
          "text": [
            "Epoch 11/20\n",
            "  Train Loss: 0.0018589456322186176\n",
            "  Val Micro F1: 0.9260869565217392\n",
            "  Time: 4m 60s\n"
          ]
        },
        {
          "output_type": "stream",
          "name": "stderr",
          "text": [
            "Epoch 12/20: 100%|██████████| 144/144 [04:54<00:00,  2.05s/batch]\n"
          ]
        },
        {
          "output_type": "stream",
          "name": "stdout",
          "text": [
            "Epoch 12/20\n",
            "  Train Loss: 0.0010578640369911024\n",
            "  Val Micro F1: 0.9130434782608695\n",
            "  Time: 4m 60s\n"
          ]
        },
        {
          "output_type": "stream",
          "name": "stderr",
          "text": [
            "Epoch 13/20: 100%|██████████| 144/144 [04:54<00:00,  2.05s/batch]\n"
          ]
        },
        {
          "output_type": "stream",
          "name": "stdout",
          "text": [
            "Epoch 13/20\n",
            "  Train Loss: 0.00020973126606804726\n",
            "  Val Micro F1: 0.9173913043478261\n",
            "  Time: 4m 60s\n"
          ]
        },
        {
          "output_type": "stream",
          "name": "stderr",
          "text": [
            "Epoch 14/20: 100%|██████████| 144/144 [04:55<00:00,  2.05s/batch]\n"
          ]
        },
        {
          "output_type": "stream",
          "name": "stdout",
          "text": [
            "Epoch 14/20\n",
            "  Train Loss: 0.0008511603091644954\n",
            "  Val Micro F1: 0.9173913043478261\n",
            "  Time: 5m 0s\n"
          ]
        },
        {
          "output_type": "stream",
          "name": "stderr",
          "text": [
            "Epoch 15/20: 100%|██████████| 144/144 [04:55<00:00,  2.05s/batch]\n"
          ]
        },
        {
          "output_type": "stream",
          "name": "stdout",
          "text": [
            "Epoch 15/20\n",
            "  Train Loss: 0.00014371148563441238\n",
            "  Val Micro F1: 0.9260869565217392\n",
            "  Time: 5m 0s\n"
          ]
        },
        {
          "output_type": "stream",
          "name": "stderr",
          "text": [
            "Epoch 16/20: 100%|██████████| 144/144 [04:54<00:00,  2.05s/batch]\n"
          ]
        },
        {
          "output_type": "stream",
          "name": "stdout",
          "text": [
            "Epoch 16/20\n",
            "  Train Loss: 0.003044184664607504\n",
            "  Val Micro F1: 0.9260869565217392\n",
            "  Time: 4m 60s\n"
          ]
        },
        {
          "output_type": "stream",
          "name": "stderr",
          "text": [
            "Epoch 17/20: 100%|██████████| 144/144 [04:54<00:00,  2.05s/batch]\n"
          ]
        },
        {
          "output_type": "stream",
          "name": "stdout",
          "text": [
            "Epoch 17/20\n",
            "  Train Loss: 0.0008817430238600031\n",
            "  Val Micro F1: 0.9173913043478261\n",
            "  Time: 5m 0s\n"
          ]
        },
        {
          "output_type": "stream",
          "name": "stderr",
          "text": [
            "Epoch 18/20: 100%|██████████| 144/144 [04:54<00:00,  2.05s/batch]\n"
          ]
        },
        {
          "output_type": "stream",
          "name": "stdout",
          "text": [
            "Epoch 18/20\n",
            "  Train Loss: 0.0006049735577562387\n",
            "  Val Micro F1: 0.9173913043478261\n",
            "  Time: 5m 0s\n"
          ]
        },
        {
          "output_type": "stream",
          "name": "stderr",
          "text": [
            "Epoch 19/20: 100%|██████████| 144/144 [04:54<00:00,  2.05s/batch]\n"
          ]
        },
        {
          "output_type": "stream",
          "name": "stdout",
          "text": [
            "Epoch 19/20\n",
            "  Train Loss: 0.0003382342573432753\n",
            "  Val Micro F1: 0.9260869565217392\n",
            "  Time: 4m 60s\n"
          ]
        },
        {
          "output_type": "stream",
          "name": "stderr",
          "text": [
            "Epoch 20/20: 100%|██████████| 144/144 [04:54<00:00,  2.05s/batch]\n"
          ]
        },
        {
          "output_type": "stream",
          "name": "stdout",
          "text": [
            "Epoch 20/20\n",
            "  Train Loss: 4.154913204325162e-05\n",
            "  Val Micro F1: 0.9173913043478261\n",
            "  Time: 5m 0s\n"
          ]
        }
      ],
      "source": [
        "epochs = 20\n",
        "for epoch in range(epochs):\n",
        "    model.train()\n",
        "    total_train_loss = 0\n",
        "    start_time = time.time()\n",
        "\n",
        "    # Training\n",
        "    for step, batch in enumerate(tqdm(train_dataloader, desc=f\"Epoch {epoch + 1}/{epochs}\", unit=\"batch\")):\n",
        "        batch = tuple(t.to(device) for t in batch)\n",
        "        input_ids, input_mask, labels = batch\n",
        "\n",
        "\n",
        "        model.zero_grad()\n",
        "        outputs = model(input_ids=input_ids, attention_mask=input_mask, labels=labels)\n",
        "        loss = outputs.loss\n",
        "        total_train_loss += loss.item()\n",
        "\n",
        "        loss.backward()\n",
        "        torch.nn.utils.clip_grad_norm_(model.parameters(), max_norm=1.0)\n",
        "        optimizer.step()\n",
        "        scheduler.step()\n",
        "\n",
        "    avg_train_loss = total_train_loss / len(train_dataloader)\n",
        "\n",
        "    # Validation\n",
        "    model.eval()\n",
        "    predictions = []\n",
        "    true_labels = []\n",
        "\n",
        "    for batch in val_dataloader:\n",
        "        batch = tuple(t.to(device) for t in batch)\n",
        "        input_ids, input_mask, labels = batch\n",
        "\n",
        "        with torch.no_grad():\n",
        "            outputs = model(input_ids=input_ids, attention_mask=input_mask)\n",
        "            logits = outputs.logits\n",
        "\n",
        "        logits = logits.detach().cpu().numpy()\n",
        "        label_ids = labels.to('cpu').numpy()\n",
        "\n",
        "        batch_predictions = np.argmax(logits, axis=1)\n",
        "        predictions.extend(batch_predictions)\n",
        "        true_labels.extend(label_ids)\n",
        "\n",
        "    val_micro_f1 = calculate_metrics('val', predictions, true_labels)\n",
        "    elapsed_time = time.time() - start_time\n",
        "\n",
        "    # Print epoch summary\n",
        "    print(f\"Epoch {epoch + 1}/{epochs}\")\n",
        "    print(f\"  Train Loss: {avg_train_loss}\")\n",
        "    print(f\"  Val Micro F1: {val_micro_f1}\")\n",
        "    print(f\"  Time: {elapsed_time // 60:.0f}m {elapsed_time % 60:.0f}s\")"
      ]
    },
    {
      "cell_type": "code",
      "execution_count": 28,
      "metadata": {
        "id": "eySPoilnWXUJ",
        "colab": {
          "base_uri": "https://localhost:8080/"
        },
        "outputId": "9f32f422-d8cf-4b28-e7f6-a2d99a632391"
      },
      "outputs": [
        {
          "output_type": "stream",
          "name": "stdout",
          "text": [
            "Confusion Matrix:\n",
            " [[239  12   3]\n",
            " [ 21 280  27]\n",
            " [  2  15 549]]\n",
            "\n",
            "Classification Report:\n",
            "               precision    recall  f1-score   support\n",
            "\n",
            "           0       0.91      0.94      0.93       254\n",
            "           1       0.91      0.85      0.88       328\n",
            "           2       0.95      0.97      0.96       566\n",
            "\n",
            "    accuracy                           0.93      1148\n",
            "   macro avg       0.92      0.92      0.92      1148\n",
            "weighted avg       0.93      0.93      0.93      1148\n",
            "\n",
            "Macro F1 Score: 0.9223994393307722\n",
            "Micro F1 Score: 0.9303135888501742\n",
            "Weighted F1 Score: 0.9297223243816812\n",
            "Macro Precision: 0.9241507954064229\n",
            "Micro Precision: 0.9303135888501742\n",
            "Weighted Precision: 0.9299032749724827\n",
            "Macro Recall: 0.9215226942620278\n",
            "Micro Recall: 0.9303135888501742\n",
            "Weighted Recall: 0.9303135888501742\n"
          ]
        }
      ],
      "source": [
        "# Evaluation\n",
        "model.eval()\n",
        "predictions = []\n",
        "true_labels = []\n",
        "\n",
        "for batch in test_dataloader:\n",
        "    batch = tuple(t.to(device) for t in batch)\n",
        "    input_ids, input_mask, labels = batch\n",
        "\n",
        "    with torch.no_grad():\n",
        "        outputs = model(input_ids=input_ids, attention_mask=input_mask)\n",
        "        logits = outputs.logits\n",
        "\n",
        "    logits = logits.detach().cpu().numpy()\n",
        "    label_ids = labels.to('cpu').numpy()\n",
        "\n",
        "    batch_predictions = np.argmax(logits, axis=1)\n",
        "    predictions.extend(batch_predictions)\n",
        "    true_labels.extend(label_ids)\n",
        "\n",
        "# Calculate and print metrics\n",
        "calculate_metrics('test', predictions, true_labels)"
      ]
    },
    {
      "cell_type": "code",
      "execution_count": null,
      "metadata": {
        "id": "GDaeLSDEWXUJ"
      },
      "outputs": [],
      "source": [
        "model.save_pretrained('/content/drive/MyDrive/WoS/BlueBERT_WoS_Keywords_5736')"
      ]
    },
    {
      "cell_type": "code",
      "source": [
        "runtime.unassign()"
      ],
      "metadata": {
        "id": "MO5pkHJIhIP9"
      },
      "execution_count": null,
      "outputs": []
    }
  ],
  "metadata": {
    "language_info": {
      "name": "python"
    },
    "colab": {
      "provenance": [],
      "gpuType": "T4"
    },
    "kernelspec": {
      "name": "python3",
      "display_name": "Python 3"
    },
    "accelerator": "GPU",
    "widgets": {
      "application/vnd.jupyter.widget-state+json": {
        "1f319b1d1f5f487d9be6778af690e6eb": {
          "model_module": "@jupyter-widgets/controls",
          "model_name": "HBoxModel",
          "model_module_version": "1.5.0",
          "state": {
            "_dom_classes": [],
            "_model_module": "@jupyter-widgets/controls",
            "_model_module_version": "1.5.0",
            "_model_name": "HBoxModel",
            "_view_count": null,
            "_view_module": "@jupyter-widgets/controls",
            "_view_module_version": "1.5.0",
            "_view_name": "HBoxView",
            "box_style": "",
            "children": [
              "IPY_MODEL_bb5e548a95c34fb69f737b40ff6204f8",
              "IPY_MODEL_10f3a61f535b456a83c84ec65d263365",
              "IPY_MODEL_daeb953508504c90a726cdde25dadff5"
            ],
            "layout": "IPY_MODEL_b37bff729ba24bd4ac462fa4b5e6d803"
          }
        },
        "bb5e548a95c34fb69f737b40ff6204f8": {
          "model_module": "@jupyter-widgets/controls",
          "model_name": "HTMLModel",
          "model_module_version": "1.5.0",
          "state": {
            "_dom_classes": [],
            "_model_module": "@jupyter-widgets/controls",
            "_model_module_version": "1.5.0",
            "_model_name": "HTMLModel",
            "_view_count": null,
            "_view_module": "@jupyter-widgets/controls",
            "_view_module_version": "1.5.0",
            "_view_name": "HTMLView",
            "description": "",
            "description_tooltip": null,
            "layout": "IPY_MODEL_07256f1c1d404b43bbdfcc9cda8866fa",
            "placeholder": "​",
            "style": "IPY_MODEL_2f1ad09495b84751889ac03cf6a4fbce",
            "value": "config.json: 100%"
          }
        },
        "10f3a61f535b456a83c84ec65d263365": {
          "model_module": "@jupyter-widgets/controls",
          "model_name": "FloatProgressModel",
          "model_module_version": "1.5.0",
          "state": {
            "_dom_classes": [],
            "_model_module": "@jupyter-widgets/controls",
            "_model_module_version": "1.5.0",
            "_model_name": "FloatProgressModel",
            "_view_count": null,
            "_view_module": "@jupyter-widgets/controls",
            "_view_module_version": "1.5.0",
            "_view_name": "ProgressView",
            "bar_style": "success",
            "description": "",
            "description_tooltip": null,
            "layout": "IPY_MODEL_4eb11c20838d4ca1add3d42e2faa3264",
            "max": 314,
            "min": 0,
            "orientation": "horizontal",
            "style": "IPY_MODEL_95a5caec8ff447ceb04e2a0c263dc82a",
            "value": 314
          }
        },
        "daeb953508504c90a726cdde25dadff5": {
          "model_module": "@jupyter-widgets/controls",
          "model_name": "HTMLModel",
          "model_module_version": "1.5.0",
          "state": {
            "_dom_classes": [],
            "_model_module": "@jupyter-widgets/controls",
            "_model_module_version": "1.5.0",
            "_model_name": "HTMLModel",
            "_view_count": null,
            "_view_module": "@jupyter-widgets/controls",
            "_view_module_version": "1.5.0",
            "_view_name": "HTMLView",
            "description": "",
            "description_tooltip": null,
            "layout": "IPY_MODEL_440455a202c245d5bb06803679f79289",
            "placeholder": "​",
            "style": "IPY_MODEL_7c502171010f445da97881599d6142dd",
            "value": " 314/314 [00:00&lt;00:00, 10.0kB/s]"
          }
        },
        "b37bff729ba24bd4ac462fa4b5e6d803": {
          "model_module": "@jupyter-widgets/base",
          "model_name": "LayoutModel",
          "model_module_version": "1.2.0",
          "state": {
            "_model_module": "@jupyter-widgets/base",
            "_model_module_version": "1.2.0",
            "_model_name": "LayoutModel",
            "_view_count": null,
            "_view_module": "@jupyter-widgets/base",
            "_view_module_version": "1.2.0",
            "_view_name": "LayoutView",
            "align_content": null,
            "align_items": null,
            "align_self": null,
            "border": null,
            "bottom": null,
            "display": null,
            "flex": null,
            "flex_flow": null,
            "grid_area": null,
            "grid_auto_columns": null,
            "grid_auto_flow": null,
            "grid_auto_rows": null,
            "grid_column": null,
            "grid_gap": null,
            "grid_row": null,
            "grid_template_areas": null,
            "grid_template_columns": null,
            "grid_template_rows": null,
            "height": null,
            "justify_content": null,
            "justify_items": null,
            "left": null,
            "margin": null,
            "max_height": null,
            "max_width": null,
            "min_height": null,
            "min_width": null,
            "object_fit": null,
            "object_position": null,
            "order": null,
            "overflow": null,
            "overflow_x": null,
            "overflow_y": null,
            "padding": null,
            "right": null,
            "top": null,
            "visibility": null,
            "width": null
          }
        },
        "07256f1c1d404b43bbdfcc9cda8866fa": {
          "model_module": "@jupyter-widgets/base",
          "model_name": "LayoutModel",
          "model_module_version": "1.2.0",
          "state": {
            "_model_module": "@jupyter-widgets/base",
            "_model_module_version": "1.2.0",
            "_model_name": "LayoutModel",
            "_view_count": null,
            "_view_module": "@jupyter-widgets/base",
            "_view_module_version": "1.2.0",
            "_view_name": "LayoutView",
            "align_content": null,
            "align_items": null,
            "align_self": null,
            "border": null,
            "bottom": null,
            "display": null,
            "flex": null,
            "flex_flow": null,
            "grid_area": null,
            "grid_auto_columns": null,
            "grid_auto_flow": null,
            "grid_auto_rows": null,
            "grid_column": null,
            "grid_gap": null,
            "grid_row": null,
            "grid_template_areas": null,
            "grid_template_columns": null,
            "grid_template_rows": null,
            "height": null,
            "justify_content": null,
            "justify_items": null,
            "left": null,
            "margin": null,
            "max_height": null,
            "max_width": null,
            "min_height": null,
            "min_width": null,
            "object_fit": null,
            "object_position": null,
            "order": null,
            "overflow": null,
            "overflow_x": null,
            "overflow_y": null,
            "padding": null,
            "right": null,
            "top": null,
            "visibility": null,
            "width": null
          }
        },
        "2f1ad09495b84751889ac03cf6a4fbce": {
          "model_module": "@jupyter-widgets/controls",
          "model_name": "DescriptionStyleModel",
          "model_module_version": "1.5.0",
          "state": {
            "_model_module": "@jupyter-widgets/controls",
            "_model_module_version": "1.5.0",
            "_model_name": "DescriptionStyleModel",
            "_view_count": null,
            "_view_module": "@jupyter-widgets/base",
            "_view_module_version": "1.2.0",
            "_view_name": "StyleView",
            "description_width": ""
          }
        },
        "4eb11c20838d4ca1add3d42e2faa3264": {
          "model_module": "@jupyter-widgets/base",
          "model_name": "LayoutModel",
          "model_module_version": "1.2.0",
          "state": {
            "_model_module": "@jupyter-widgets/base",
            "_model_module_version": "1.2.0",
            "_model_name": "LayoutModel",
            "_view_count": null,
            "_view_module": "@jupyter-widgets/base",
            "_view_module_version": "1.2.0",
            "_view_name": "LayoutView",
            "align_content": null,
            "align_items": null,
            "align_self": null,
            "border": null,
            "bottom": null,
            "display": null,
            "flex": null,
            "flex_flow": null,
            "grid_area": null,
            "grid_auto_columns": null,
            "grid_auto_flow": null,
            "grid_auto_rows": null,
            "grid_column": null,
            "grid_gap": null,
            "grid_row": null,
            "grid_template_areas": null,
            "grid_template_columns": null,
            "grid_template_rows": null,
            "height": null,
            "justify_content": null,
            "justify_items": null,
            "left": null,
            "margin": null,
            "max_height": null,
            "max_width": null,
            "min_height": null,
            "min_width": null,
            "object_fit": null,
            "object_position": null,
            "order": null,
            "overflow": null,
            "overflow_x": null,
            "overflow_y": null,
            "padding": null,
            "right": null,
            "top": null,
            "visibility": null,
            "width": null
          }
        },
        "95a5caec8ff447ceb04e2a0c263dc82a": {
          "model_module": "@jupyter-widgets/controls",
          "model_name": "ProgressStyleModel",
          "model_module_version": "1.5.0",
          "state": {
            "_model_module": "@jupyter-widgets/controls",
            "_model_module_version": "1.5.0",
            "_model_name": "ProgressStyleModel",
            "_view_count": null,
            "_view_module": "@jupyter-widgets/base",
            "_view_module_version": "1.2.0",
            "_view_name": "StyleView",
            "bar_color": null,
            "description_width": ""
          }
        },
        "440455a202c245d5bb06803679f79289": {
          "model_module": "@jupyter-widgets/base",
          "model_name": "LayoutModel",
          "model_module_version": "1.2.0",
          "state": {
            "_model_module": "@jupyter-widgets/base",
            "_model_module_version": "1.2.0",
            "_model_name": "LayoutModel",
            "_view_count": null,
            "_view_module": "@jupyter-widgets/base",
            "_view_module_version": "1.2.0",
            "_view_name": "LayoutView",
            "align_content": null,
            "align_items": null,
            "align_self": null,
            "border": null,
            "bottom": null,
            "display": null,
            "flex": null,
            "flex_flow": null,
            "grid_area": null,
            "grid_auto_columns": null,
            "grid_auto_flow": null,
            "grid_auto_rows": null,
            "grid_column": null,
            "grid_gap": null,
            "grid_row": null,
            "grid_template_areas": null,
            "grid_template_columns": null,
            "grid_template_rows": null,
            "height": null,
            "justify_content": null,
            "justify_items": null,
            "left": null,
            "margin": null,
            "max_height": null,
            "max_width": null,
            "min_height": null,
            "min_width": null,
            "object_fit": null,
            "object_position": null,
            "order": null,
            "overflow": null,
            "overflow_x": null,
            "overflow_y": null,
            "padding": null,
            "right": null,
            "top": null,
            "visibility": null,
            "width": null
          }
        },
        "7c502171010f445da97881599d6142dd": {
          "model_module": "@jupyter-widgets/controls",
          "model_name": "DescriptionStyleModel",
          "model_module_version": "1.5.0",
          "state": {
            "_model_module": "@jupyter-widgets/controls",
            "_model_module_version": "1.5.0",
            "_model_name": "DescriptionStyleModel",
            "_view_count": null,
            "_view_module": "@jupyter-widgets/base",
            "_view_module_version": "1.2.0",
            "_view_name": "StyleView",
            "description_width": ""
          }
        },
        "da75a6cf21504e00a0736a6140ce684e": {
          "model_module": "@jupyter-widgets/controls",
          "model_name": "HBoxModel",
          "model_module_version": "1.5.0",
          "state": {
            "_dom_classes": [],
            "_model_module": "@jupyter-widgets/controls",
            "_model_module_version": "1.5.0",
            "_model_name": "HBoxModel",
            "_view_count": null,
            "_view_module": "@jupyter-widgets/controls",
            "_view_module_version": "1.5.0",
            "_view_name": "HBoxView",
            "box_style": "",
            "children": [
              "IPY_MODEL_fa23d49afae54eca998049ae4eb8f9cd",
              "IPY_MODEL_7ee876d8b5034873bf7a657875e8d3a9",
              "IPY_MODEL_525dc98ec6334eabbe6bcd604c5902be"
            ],
            "layout": "IPY_MODEL_cadf5b444ad448a4b61c82868f710783"
          }
        },
        "fa23d49afae54eca998049ae4eb8f9cd": {
          "model_module": "@jupyter-widgets/controls",
          "model_name": "HTMLModel",
          "model_module_version": "1.5.0",
          "state": {
            "_dom_classes": [],
            "_model_module": "@jupyter-widgets/controls",
            "_model_module_version": "1.5.0",
            "_model_name": "HTMLModel",
            "_view_count": null,
            "_view_module": "@jupyter-widgets/controls",
            "_view_module_version": "1.5.0",
            "_view_name": "HTMLView",
            "description": "",
            "description_tooltip": null,
            "layout": "IPY_MODEL_fbf74b4f43fc49a698e509834fac3057",
            "placeholder": "​",
            "style": "IPY_MODEL_4a50fb50d4ec4cada2d6c1f938fbcb25",
            "value": "vocab.txt: 100%"
          }
        },
        "7ee876d8b5034873bf7a657875e8d3a9": {
          "model_module": "@jupyter-widgets/controls",
          "model_name": "FloatProgressModel",
          "model_module_version": "1.5.0",
          "state": {
            "_dom_classes": [],
            "_model_module": "@jupyter-widgets/controls",
            "_model_module_version": "1.5.0",
            "_model_name": "FloatProgressModel",
            "_view_count": null,
            "_view_module": "@jupyter-widgets/controls",
            "_view_module_version": "1.5.0",
            "_view_name": "ProgressView",
            "bar_style": "success",
            "description": "",
            "description_tooltip": null,
            "layout": "IPY_MODEL_c26bb1f024284e4f970d09372d9dd91b",
            "max": 231508,
            "min": 0,
            "orientation": "horizontal",
            "style": "IPY_MODEL_5e30a0ed903d49aa97fe8f6e94fecec4",
            "value": 231508
          }
        },
        "525dc98ec6334eabbe6bcd604c5902be": {
          "model_module": "@jupyter-widgets/controls",
          "model_name": "HTMLModel",
          "model_module_version": "1.5.0",
          "state": {
            "_dom_classes": [],
            "_model_module": "@jupyter-widgets/controls",
            "_model_module_version": "1.5.0",
            "_model_name": "HTMLModel",
            "_view_count": null,
            "_view_module": "@jupyter-widgets/controls",
            "_view_module_version": "1.5.0",
            "_view_name": "HTMLView",
            "description": "",
            "description_tooltip": null,
            "layout": "IPY_MODEL_b4c079f032e74f939cce0ae8fac41818",
            "placeholder": "​",
            "style": "IPY_MODEL_3c11c802c7cd4cd2b8e96ef0de2ea26d",
            "value": " 232k/232k [00:00&lt;00:00, 3.16MB/s]"
          }
        },
        "cadf5b444ad448a4b61c82868f710783": {
          "model_module": "@jupyter-widgets/base",
          "model_name": "LayoutModel",
          "model_module_version": "1.2.0",
          "state": {
            "_model_module": "@jupyter-widgets/base",
            "_model_module_version": "1.2.0",
            "_model_name": "LayoutModel",
            "_view_count": null,
            "_view_module": "@jupyter-widgets/base",
            "_view_module_version": "1.2.0",
            "_view_name": "LayoutView",
            "align_content": null,
            "align_items": null,
            "align_self": null,
            "border": null,
            "bottom": null,
            "display": null,
            "flex": null,
            "flex_flow": null,
            "grid_area": null,
            "grid_auto_columns": null,
            "grid_auto_flow": null,
            "grid_auto_rows": null,
            "grid_column": null,
            "grid_gap": null,
            "grid_row": null,
            "grid_template_areas": null,
            "grid_template_columns": null,
            "grid_template_rows": null,
            "height": null,
            "justify_content": null,
            "justify_items": null,
            "left": null,
            "margin": null,
            "max_height": null,
            "max_width": null,
            "min_height": null,
            "min_width": null,
            "object_fit": null,
            "object_position": null,
            "order": null,
            "overflow": null,
            "overflow_x": null,
            "overflow_y": null,
            "padding": null,
            "right": null,
            "top": null,
            "visibility": null,
            "width": null
          }
        },
        "fbf74b4f43fc49a698e509834fac3057": {
          "model_module": "@jupyter-widgets/base",
          "model_name": "LayoutModel",
          "model_module_version": "1.2.0",
          "state": {
            "_model_module": "@jupyter-widgets/base",
            "_model_module_version": "1.2.0",
            "_model_name": "LayoutModel",
            "_view_count": null,
            "_view_module": "@jupyter-widgets/base",
            "_view_module_version": "1.2.0",
            "_view_name": "LayoutView",
            "align_content": null,
            "align_items": null,
            "align_self": null,
            "border": null,
            "bottom": null,
            "display": null,
            "flex": null,
            "flex_flow": null,
            "grid_area": null,
            "grid_auto_columns": null,
            "grid_auto_flow": null,
            "grid_auto_rows": null,
            "grid_column": null,
            "grid_gap": null,
            "grid_row": null,
            "grid_template_areas": null,
            "grid_template_columns": null,
            "grid_template_rows": null,
            "height": null,
            "justify_content": null,
            "justify_items": null,
            "left": null,
            "margin": null,
            "max_height": null,
            "max_width": null,
            "min_height": null,
            "min_width": null,
            "object_fit": null,
            "object_position": null,
            "order": null,
            "overflow": null,
            "overflow_x": null,
            "overflow_y": null,
            "padding": null,
            "right": null,
            "top": null,
            "visibility": null,
            "width": null
          }
        },
        "4a50fb50d4ec4cada2d6c1f938fbcb25": {
          "model_module": "@jupyter-widgets/controls",
          "model_name": "DescriptionStyleModel",
          "model_module_version": "1.5.0",
          "state": {
            "_model_module": "@jupyter-widgets/controls",
            "_model_module_version": "1.5.0",
            "_model_name": "DescriptionStyleModel",
            "_view_count": null,
            "_view_module": "@jupyter-widgets/base",
            "_view_module_version": "1.2.0",
            "_view_name": "StyleView",
            "description_width": ""
          }
        },
        "c26bb1f024284e4f970d09372d9dd91b": {
          "model_module": "@jupyter-widgets/base",
          "model_name": "LayoutModel",
          "model_module_version": "1.2.0",
          "state": {
            "_model_module": "@jupyter-widgets/base",
            "_model_module_version": "1.2.0",
            "_model_name": "LayoutModel",
            "_view_count": null,
            "_view_module": "@jupyter-widgets/base",
            "_view_module_version": "1.2.0",
            "_view_name": "LayoutView",
            "align_content": null,
            "align_items": null,
            "align_self": null,
            "border": null,
            "bottom": null,
            "display": null,
            "flex": null,
            "flex_flow": null,
            "grid_area": null,
            "grid_auto_columns": null,
            "grid_auto_flow": null,
            "grid_auto_rows": null,
            "grid_column": null,
            "grid_gap": null,
            "grid_row": null,
            "grid_template_areas": null,
            "grid_template_columns": null,
            "grid_template_rows": null,
            "height": null,
            "justify_content": null,
            "justify_items": null,
            "left": null,
            "margin": null,
            "max_height": null,
            "max_width": null,
            "min_height": null,
            "min_width": null,
            "object_fit": null,
            "object_position": null,
            "order": null,
            "overflow": null,
            "overflow_x": null,
            "overflow_y": null,
            "padding": null,
            "right": null,
            "top": null,
            "visibility": null,
            "width": null
          }
        },
        "5e30a0ed903d49aa97fe8f6e94fecec4": {
          "model_module": "@jupyter-widgets/controls",
          "model_name": "ProgressStyleModel",
          "model_module_version": "1.5.0",
          "state": {
            "_model_module": "@jupyter-widgets/controls",
            "_model_module_version": "1.5.0",
            "_model_name": "ProgressStyleModel",
            "_view_count": null,
            "_view_module": "@jupyter-widgets/base",
            "_view_module_version": "1.2.0",
            "_view_name": "StyleView",
            "bar_color": null,
            "description_width": ""
          }
        },
        "b4c079f032e74f939cce0ae8fac41818": {
          "model_module": "@jupyter-widgets/base",
          "model_name": "LayoutModel",
          "model_module_version": "1.2.0",
          "state": {
            "_model_module": "@jupyter-widgets/base",
            "_model_module_version": "1.2.0",
            "_model_name": "LayoutModel",
            "_view_count": null,
            "_view_module": "@jupyter-widgets/base",
            "_view_module_version": "1.2.0",
            "_view_name": "LayoutView",
            "align_content": null,
            "align_items": null,
            "align_self": null,
            "border": null,
            "bottom": null,
            "display": null,
            "flex": null,
            "flex_flow": null,
            "grid_area": null,
            "grid_auto_columns": null,
            "grid_auto_flow": null,
            "grid_auto_rows": null,
            "grid_column": null,
            "grid_gap": null,
            "grid_row": null,
            "grid_template_areas": null,
            "grid_template_columns": null,
            "grid_template_rows": null,
            "height": null,
            "justify_content": null,
            "justify_items": null,
            "left": null,
            "margin": null,
            "max_height": null,
            "max_width": null,
            "min_height": null,
            "min_width": null,
            "object_fit": null,
            "object_position": null,
            "order": null,
            "overflow": null,
            "overflow_x": null,
            "overflow_y": null,
            "padding": null,
            "right": null,
            "top": null,
            "visibility": null,
            "width": null
          }
        },
        "3c11c802c7cd4cd2b8e96ef0de2ea26d": {
          "model_module": "@jupyter-widgets/controls",
          "model_name": "DescriptionStyleModel",
          "model_module_version": "1.5.0",
          "state": {
            "_model_module": "@jupyter-widgets/controls",
            "_model_module_version": "1.5.0",
            "_model_name": "DescriptionStyleModel",
            "_view_count": null,
            "_view_module": "@jupyter-widgets/base",
            "_view_module_version": "1.2.0",
            "_view_name": "StyleView",
            "description_width": ""
          }
        },
        "76f4b37e6a0040fab43bbeff2ab06771": {
          "model_module": "@jupyter-widgets/controls",
          "model_name": "HBoxModel",
          "model_module_version": "1.5.0",
          "state": {
            "_dom_classes": [],
            "_model_module": "@jupyter-widgets/controls",
            "_model_module_version": "1.5.0",
            "_model_name": "HBoxModel",
            "_view_count": null,
            "_view_module": "@jupyter-widgets/controls",
            "_view_module_version": "1.5.0",
            "_view_name": "HBoxView",
            "box_style": "",
            "children": [
              "IPY_MODEL_3caa8470403047fd849fcccf1a821e31",
              "IPY_MODEL_d5a250d7e19041108e32f918ce55ae23",
              "IPY_MODEL_1c51ae3c872e43a39fa068ca9f57c1e4"
            ],
            "layout": "IPY_MODEL_1b1d68260b2940f5b783c85665310f9b"
          }
        },
        "3caa8470403047fd849fcccf1a821e31": {
          "model_module": "@jupyter-widgets/controls",
          "model_name": "HTMLModel",
          "model_module_version": "1.5.0",
          "state": {
            "_dom_classes": [],
            "_model_module": "@jupyter-widgets/controls",
            "_model_module_version": "1.5.0",
            "_model_name": "HTMLModel",
            "_view_count": null,
            "_view_module": "@jupyter-widgets/controls",
            "_view_module_version": "1.5.0",
            "_view_name": "HTMLView",
            "description": "",
            "description_tooltip": null,
            "layout": "IPY_MODEL_817b1bd54e2148f282e276b31ef54b82",
            "placeholder": "​",
            "style": "IPY_MODEL_a02868097b8749589572345c26042b59",
            "value": "pytorch_model.bin: 100%"
          }
        },
        "d5a250d7e19041108e32f918ce55ae23": {
          "model_module": "@jupyter-widgets/controls",
          "model_name": "FloatProgressModel",
          "model_module_version": "1.5.0",
          "state": {
            "_dom_classes": [],
            "_model_module": "@jupyter-widgets/controls",
            "_model_module_version": "1.5.0",
            "_model_name": "FloatProgressModel",
            "_view_count": null,
            "_view_module": "@jupyter-widgets/controls",
            "_view_module_version": "1.5.0",
            "_view_name": "ProgressView",
            "bar_style": "success",
            "description": "",
            "description_tooltip": null,
            "layout": "IPY_MODEL_92a585e9405642b6a3af9f31484a254c",
            "max": 1345067985,
            "min": 0,
            "orientation": "horizontal",
            "style": "IPY_MODEL_c6bb99df238d4d4d970bf87fb666428c",
            "value": 1345067985
          }
        },
        "1c51ae3c872e43a39fa068ca9f57c1e4": {
          "model_module": "@jupyter-widgets/controls",
          "model_name": "HTMLModel",
          "model_module_version": "1.5.0",
          "state": {
            "_dom_classes": [],
            "_model_module": "@jupyter-widgets/controls",
            "_model_module_version": "1.5.0",
            "_model_name": "HTMLModel",
            "_view_count": null,
            "_view_module": "@jupyter-widgets/controls",
            "_view_module_version": "1.5.0",
            "_view_name": "HTMLView",
            "description": "",
            "description_tooltip": null,
            "layout": "IPY_MODEL_23b63a83a70d454b90c9c2acb7e5b354",
            "placeholder": "​",
            "style": "IPY_MODEL_fdd6714506d84370ad862faa85f6ac8f",
            "value": " 1.35G/1.35G [00:15&lt;00:00, 25.9MB/s]"
          }
        },
        "1b1d68260b2940f5b783c85665310f9b": {
          "model_module": "@jupyter-widgets/base",
          "model_name": "LayoutModel",
          "model_module_version": "1.2.0",
          "state": {
            "_model_module": "@jupyter-widgets/base",
            "_model_module_version": "1.2.0",
            "_model_name": "LayoutModel",
            "_view_count": null,
            "_view_module": "@jupyter-widgets/base",
            "_view_module_version": "1.2.0",
            "_view_name": "LayoutView",
            "align_content": null,
            "align_items": null,
            "align_self": null,
            "border": null,
            "bottom": null,
            "display": null,
            "flex": null,
            "flex_flow": null,
            "grid_area": null,
            "grid_auto_columns": null,
            "grid_auto_flow": null,
            "grid_auto_rows": null,
            "grid_column": null,
            "grid_gap": null,
            "grid_row": null,
            "grid_template_areas": null,
            "grid_template_columns": null,
            "grid_template_rows": null,
            "height": null,
            "justify_content": null,
            "justify_items": null,
            "left": null,
            "margin": null,
            "max_height": null,
            "max_width": null,
            "min_height": null,
            "min_width": null,
            "object_fit": null,
            "object_position": null,
            "order": null,
            "overflow": null,
            "overflow_x": null,
            "overflow_y": null,
            "padding": null,
            "right": null,
            "top": null,
            "visibility": null,
            "width": null
          }
        },
        "817b1bd54e2148f282e276b31ef54b82": {
          "model_module": "@jupyter-widgets/base",
          "model_name": "LayoutModel",
          "model_module_version": "1.2.0",
          "state": {
            "_model_module": "@jupyter-widgets/base",
            "_model_module_version": "1.2.0",
            "_model_name": "LayoutModel",
            "_view_count": null,
            "_view_module": "@jupyter-widgets/base",
            "_view_module_version": "1.2.0",
            "_view_name": "LayoutView",
            "align_content": null,
            "align_items": null,
            "align_self": null,
            "border": null,
            "bottom": null,
            "display": null,
            "flex": null,
            "flex_flow": null,
            "grid_area": null,
            "grid_auto_columns": null,
            "grid_auto_flow": null,
            "grid_auto_rows": null,
            "grid_column": null,
            "grid_gap": null,
            "grid_row": null,
            "grid_template_areas": null,
            "grid_template_columns": null,
            "grid_template_rows": null,
            "height": null,
            "justify_content": null,
            "justify_items": null,
            "left": null,
            "margin": null,
            "max_height": null,
            "max_width": null,
            "min_height": null,
            "min_width": null,
            "object_fit": null,
            "object_position": null,
            "order": null,
            "overflow": null,
            "overflow_x": null,
            "overflow_y": null,
            "padding": null,
            "right": null,
            "top": null,
            "visibility": null,
            "width": null
          }
        },
        "a02868097b8749589572345c26042b59": {
          "model_module": "@jupyter-widgets/controls",
          "model_name": "DescriptionStyleModel",
          "model_module_version": "1.5.0",
          "state": {
            "_model_module": "@jupyter-widgets/controls",
            "_model_module_version": "1.5.0",
            "_model_name": "DescriptionStyleModel",
            "_view_count": null,
            "_view_module": "@jupyter-widgets/base",
            "_view_module_version": "1.2.0",
            "_view_name": "StyleView",
            "description_width": ""
          }
        },
        "92a585e9405642b6a3af9f31484a254c": {
          "model_module": "@jupyter-widgets/base",
          "model_name": "LayoutModel",
          "model_module_version": "1.2.0",
          "state": {
            "_model_module": "@jupyter-widgets/base",
            "_model_module_version": "1.2.0",
            "_model_name": "LayoutModel",
            "_view_count": null,
            "_view_module": "@jupyter-widgets/base",
            "_view_module_version": "1.2.0",
            "_view_name": "LayoutView",
            "align_content": null,
            "align_items": null,
            "align_self": null,
            "border": null,
            "bottom": null,
            "display": null,
            "flex": null,
            "flex_flow": null,
            "grid_area": null,
            "grid_auto_columns": null,
            "grid_auto_flow": null,
            "grid_auto_rows": null,
            "grid_column": null,
            "grid_gap": null,
            "grid_row": null,
            "grid_template_areas": null,
            "grid_template_columns": null,
            "grid_template_rows": null,
            "height": null,
            "justify_content": null,
            "justify_items": null,
            "left": null,
            "margin": null,
            "max_height": null,
            "max_width": null,
            "min_height": null,
            "min_width": null,
            "object_fit": null,
            "object_position": null,
            "order": null,
            "overflow": null,
            "overflow_x": null,
            "overflow_y": null,
            "padding": null,
            "right": null,
            "top": null,
            "visibility": null,
            "width": null
          }
        },
        "c6bb99df238d4d4d970bf87fb666428c": {
          "model_module": "@jupyter-widgets/controls",
          "model_name": "ProgressStyleModel",
          "model_module_version": "1.5.0",
          "state": {
            "_model_module": "@jupyter-widgets/controls",
            "_model_module_version": "1.5.0",
            "_model_name": "ProgressStyleModel",
            "_view_count": null,
            "_view_module": "@jupyter-widgets/base",
            "_view_module_version": "1.2.0",
            "_view_name": "StyleView",
            "bar_color": null,
            "description_width": ""
          }
        },
        "23b63a83a70d454b90c9c2acb7e5b354": {
          "model_module": "@jupyter-widgets/base",
          "model_name": "LayoutModel",
          "model_module_version": "1.2.0",
          "state": {
            "_model_module": "@jupyter-widgets/base",
            "_model_module_version": "1.2.0",
            "_model_name": "LayoutModel",
            "_view_count": null,
            "_view_module": "@jupyter-widgets/base",
            "_view_module_version": "1.2.0",
            "_view_name": "LayoutView",
            "align_content": null,
            "align_items": null,
            "align_self": null,
            "border": null,
            "bottom": null,
            "display": null,
            "flex": null,
            "flex_flow": null,
            "grid_area": null,
            "grid_auto_columns": null,
            "grid_auto_flow": null,
            "grid_auto_rows": null,
            "grid_column": null,
            "grid_gap": null,
            "grid_row": null,
            "grid_template_areas": null,
            "grid_template_columns": null,
            "grid_template_rows": null,
            "height": null,
            "justify_content": null,
            "justify_items": null,
            "left": null,
            "margin": null,
            "max_height": null,
            "max_width": null,
            "min_height": null,
            "min_width": null,
            "object_fit": null,
            "object_position": null,
            "order": null,
            "overflow": null,
            "overflow_x": null,
            "overflow_y": null,
            "padding": null,
            "right": null,
            "top": null,
            "visibility": null,
            "width": null
          }
        },
        "fdd6714506d84370ad862faa85f6ac8f": {
          "model_module": "@jupyter-widgets/controls",
          "model_name": "DescriptionStyleModel",
          "model_module_version": "1.5.0",
          "state": {
            "_model_module": "@jupyter-widgets/controls",
            "_model_module_version": "1.5.0",
            "_model_name": "DescriptionStyleModel",
            "_view_count": null,
            "_view_module": "@jupyter-widgets/base",
            "_view_module_version": "1.2.0",
            "_view_name": "StyleView",
            "description_width": ""
          }
        }
      }
    }
  },
  "nbformat": 4,
  "nbformat_minor": 0
}