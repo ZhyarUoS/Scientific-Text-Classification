{
  "cells": [
    {
      "cell_type": "code",
      "execution_count": 1,
      "metadata": {
        "colab": {
          "base_uri": "https://localhost:8080/"
        },
        "id": "Va5ItHiVWXUG",
        "outputId": "8bb232d8-d932-406c-8eb2-4903b9462610"
      },
      "outputs": [
        {
          "output_type": "stream",
          "name": "stdout",
          "text": [
            "Tue Jul 30 15:46:50 2024       \n",
            "+---------------------------------------------------------------------------------------+\n",
            "| NVIDIA-SMI 535.104.05             Driver Version: 535.104.05   CUDA Version: 12.2     |\n",
            "|-----------------------------------------+----------------------+----------------------+\n",
            "| GPU  Name                 Persistence-M | Bus-Id        Disp.A | Volatile Uncorr. ECC |\n",
            "| Fan  Temp   Perf          Pwr:Usage/Cap |         Memory-Usage | GPU-Util  Compute M. |\n",
            "|                                         |                      |               MIG M. |\n",
            "|=========================================+======================+======================|\n",
            "|   0  Tesla T4                       Off | 00000000:00:04.0 Off |                    0 |\n",
            "| N/A   36C    P8               9W /  70W |      0MiB / 15360MiB |      0%      Default |\n",
            "|                                         |                      |                  N/A |\n",
            "+-----------------------------------------+----------------------+----------------------+\n",
            "                                                                                         \n",
            "+---------------------------------------------------------------------------------------+\n",
            "| Processes:                                                                            |\n",
            "|  GPU   GI   CI        PID   Type   Process name                            GPU Memory |\n",
            "|        ID   ID                                                             Usage      |\n",
            "|=======================================================================================|\n",
            "|  No running processes found                                                           |\n",
            "+---------------------------------------------------------------------------------------+\n"
          ]
        }
      ],
      "source": [
        "gpu_info = !nvidia-smi\n",
        "gpu_info = '\\n'.join(gpu_info)\n",
        "if gpu_info.find('failed') >= 0:\n",
        "  print('Not connected to a GPU')\n",
        "else:\n",
        "  print(gpu_info)"
      ]
    },
    {
      "cell_type": "code",
      "execution_count": 2,
      "metadata": {
        "colab": {
          "base_uri": "https://localhost:8080/"
        },
        "id": "6PAN1HD9WXUH",
        "outputId": "d7cd7b04-8941-4538-a1f7-1f1537d6ed33"
      },
      "outputs": [
        {
          "output_type": "stream",
          "name": "stdout",
          "text": [
            "Your runtime has 13.6 gigabytes of available RAM\n",
            "\n",
            "Not using a high-RAM runtime\n"
          ]
        }
      ],
      "source": [
        "from psutil import virtual_memory\n",
        "ram_gb = virtual_memory().total / 1e9\n",
        "print('Your runtime has {:.1f} gigabytes of available RAM\\n'.format(ram_gb))\n",
        "\n",
        "if ram_gb < 20:\n",
        "  print('Not using a high-RAM runtime')\n",
        "else:\n",
        "  print('You are using a high-RAM runtime!')"
      ]
    },
    {
      "cell_type": "code",
      "execution_count": 3,
      "metadata": {
        "colab": {
          "base_uri": "https://localhost:8080/"
        },
        "id": "M7k7VLmJWXUH",
        "outputId": "5e3a5e3d-a945-4958-ce3b-15773167c158"
      },
      "outputs": [
        {
          "output_type": "stream",
          "name": "stdout",
          "text": [
            "Mounted at /content/drive\n"
          ]
        }
      ],
      "source": [
        "from google.colab import drive\n",
        "drive.mount('/content/drive')"
      ]
    },
    {
      "cell_type": "code",
      "execution_count": 4,
      "metadata": {
        "colab": {
          "base_uri": "https://localhost:8080/"
        },
        "id": "SqnIUcZCWXUI",
        "outputId": "1a3db643-5bcc-4060-b4d6-1467a73cbc81"
      },
      "outputs": [
        {
          "output_type": "stream",
          "name": "stdout",
          "text": [
            "Requirement already satisfied: transformers in /usr/local/lib/python3.10/dist-packages (4.42.4)\n",
            "Requirement already satisfied: filelock in /usr/local/lib/python3.10/dist-packages (from transformers) (3.15.4)\n",
            "Requirement already satisfied: huggingface-hub<1.0,>=0.23.2 in /usr/local/lib/python3.10/dist-packages (from transformers) (0.23.5)\n",
            "Requirement already satisfied: numpy<2.0,>=1.17 in /usr/local/lib/python3.10/dist-packages (from transformers) (1.26.4)\n",
            "Requirement already satisfied: packaging>=20.0 in /usr/local/lib/python3.10/dist-packages (from transformers) (24.1)\n",
            "Requirement already satisfied: pyyaml>=5.1 in /usr/local/lib/python3.10/dist-packages (from transformers) (6.0.1)\n",
            "Requirement already satisfied: regex!=2019.12.17 in /usr/local/lib/python3.10/dist-packages (from transformers) (2024.5.15)\n",
            "Requirement already satisfied: requests in /usr/local/lib/python3.10/dist-packages (from transformers) (2.31.0)\n",
            "Requirement already satisfied: safetensors>=0.4.1 in /usr/local/lib/python3.10/dist-packages (from transformers) (0.4.3)\n",
            "Requirement already satisfied: tokenizers<0.20,>=0.19 in /usr/local/lib/python3.10/dist-packages (from transformers) (0.19.1)\n",
            "Requirement already satisfied: tqdm>=4.27 in /usr/local/lib/python3.10/dist-packages (from transformers) (4.66.4)\n",
            "Requirement already satisfied: fsspec>=2023.5.0 in /usr/local/lib/python3.10/dist-packages (from huggingface-hub<1.0,>=0.23.2->transformers) (2024.6.1)\n",
            "Requirement already satisfied: typing-extensions>=3.7.4.3 in /usr/local/lib/python3.10/dist-packages (from huggingface-hub<1.0,>=0.23.2->transformers) (4.12.2)\n",
            "Requirement already satisfied: charset-normalizer<4,>=2 in /usr/local/lib/python3.10/dist-packages (from requests->transformers) (3.3.2)\n",
            "Requirement already satisfied: idna<4,>=2.5 in /usr/local/lib/python3.10/dist-packages (from requests->transformers) (3.7)\n",
            "Requirement already satisfied: urllib3<3,>=1.21.1 in /usr/local/lib/python3.10/dist-packages (from requests->transformers) (2.0.7)\n",
            "Requirement already satisfied: certifi>=2017.4.17 in /usr/local/lib/python3.10/dist-packages (from requests->transformers) (2024.7.4)\n"
          ]
        }
      ],
      "source": [
        "!pip install transformers"
      ]
    },
    {
      "cell_type": "code",
      "execution_count": 7,
      "metadata": {
        "id": "WhVPx8QYWXUI"
      },
      "outputs": [],
      "source": [
        "import os\n",
        "import numpy as np\n",
        "import pandas as pd\n",
        "from sklearn.model_selection import train_test_split\n",
        "from sklearn.metrics import confusion_matrix, classification_report, f1_score, precision_score, recall_score\n",
        "from transformers import AutoTokenizer, AutoModelForSequenceClassification, AdamW, get_linear_schedule_with_warmup\n",
        "import torch\n",
        "from torch.utils.data import DataLoader, TensorDataset, RandomSampler, SequentialSampler\n",
        "import torch.nn.functional as F\n",
        "from tqdm import trange, tqdm\n",
        "import matplotlib.pyplot as plt\n",
        "import sklearn.utils\n",
        "import time\n",
        "import re\n",
        "from google.colab import runtime\n"
      ]
    },
    {
      "cell_type": "code",
      "execution_count": 8,
      "metadata": {
        "colab": {
          "base_uri": "https://localhost:8080/"
        },
        "id": "3oFtbbtBWXUI",
        "outputId": "ad812ae5-ce72-4681-dccc-ed86770813b9"
      },
      "outputs": [
        {
          "output_type": "stream",
          "name": "stdout",
          "text": [
            "(5736, 4)\n"
          ]
        }
      ],
      "source": [
        "# Retrive the data from stored dataset\n",
        "dataDir = \"/content/drive/MyDrive/WoS/data\"\n",
        "tsvData = os.path.join(dataDir,\"WoSDataset_5736.tsv\")\n",
        "\n",
        "tsvData = np.loadtxt(tsvData, dtype=str, delimiter=\"\\t\")\n",
        "print(np.shape(tsvData))"
      ]
    },
    {
      "cell_type": "code",
      "execution_count": 9,
      "metadata": {
        "colab": {
          "base_uri": "https://localhost:8080/"
        },
        "id": "5xw9-_jdWXUI",
        "outputId": "b9e6656a-ee4f-40db-ebc1-01564d6c6a6a"
      },
      "outputs": [
        {
          "output_type": "stream",
          "name": "stdout",
          "text": [
            "[['2' 'biochemistry'\n",
            "  ' candidatus phytoplasma    16s rrna biosecurity taxonomy biodiversity vector seed transmission host range       '\n",
            "  'phytoplasmas are insectvectored bacteria that cause disease in a wide range of plant species the increasing availability of molecular dna analyses expertise and additional methods in recent years has led to a proliferation of discoveries of phytoplasmaplant host associations and in the numbers of taxonomic groupings for phytoplasmas the widespread use of common names based on the diseases with which they are associated as well as separate phenetic and taxonomic systems for classifying phytoplasmas based on variation at the 16s rrnaencoding gene complicates interpretation of the literature we explore this issue and related trends through a focus on australian pathosystems providing the first comprehensive compilation of information for this continent covering the phytoplasmas host plants vectors and diseases of the 33 16sr groups reported internationally only groups i ii iii x xi and xii have been recorded in australia and this highlights the need for ongoing biosecurity measures to prevent the introduction of additional pathogen groups many of the phytoplasmas reported in australia have not been sufficiently well studied to assign them to 16sr groups so it is likely that unrecognized groups and subgroups are present wide host plant ranges are apparent among well studied phytoplasmas with multiple crop and noncrop species infected by some disease management is further complicated by the fact that putative vectors have been identified for few phytoplasmas especially in australia despite rapid progress in recent years using molecular approaches phytoplasmas remain the least well studied group of plant pathogens making them a crouching tiger disease threat']\n",
            " ['2' 'biochemistry'\n",
            "  ' alphabisabolol alphabisabolol synthase mevalonate pathway farnesyl diphosphate synthase in situ extraction vegetable oils escherichia coli        '\n",
            "  'background alphabisabolol also known as levomenol is an unsaturated sesquiterpene alcohol that has mainly been used in pharmaceutical and cosmetic products due to its antiinflammatory and skinsoothing properties alphabisabolol is currently manufactured mainly by steamdistillation of the essential oils extracted from the brazilian candeia tree that is under threat because its natural habitat is constantly shrinking therefore microbial production of alphabisabolol plays a key role in the development of its sustainable production from renewable feedstock results here we created an escherichia coli strain producing alphabisabolol at high titer and developed an in situ extraction method of alphabisabolol using natural vegetable oils we expressed a recently identified alphabisabolol synthase isolated from german chamomile matricaria recutita titer 3 mgl converted the acetylcoa to mevalonate using the biosynthetic mevalonate pathway 128 mgl and overexpressed farnesyl diphosphate synthase to efficiently supply the alphabisabolol precursor farnesyl diphosphate combinatorial expression of the exogenous mevalonate pathway and farnesyl diphosphate synthase enabled a dramatic increase in alphabisabolol production in the shake flask culture 80 mgl and 5 l bioreactor culture 342 mgl of engineered e coli harboring alphabisabolol synthase fedbatch fermentation using a 50 l fermenter was conducted after optimizing culture conditions resulting in efficient alphabisabolol production with a titer of 91 gl moreover a green downstream extraction process using vegetable oils was developed for in situ extraction of alphabisabolol during fermentation and showed high yield recovery 98 conclusions the engineered e coli strains and economically viable extraction process developed in this study will serve as promising platforms for further development of microbial production of alphabisabolol at large scale']\n",
            " ['2' 'biochemistry'\n",
            "  ' rna virus cirv yeast programmed cell death acetic acid        '\n",
            "  'a universal feature of the replication of positivestrand rna viruses is the association with intracellular membranes carnation italian ringspot virus cirv replication in plants occurs in vesicles derived from the mitochondrial outer membrane the product encoded by cirv orf1 p36 is required for targeting the virus replication complex to the outer mitochondrial membrane both in plant and yeast cells here the yeast saccharomyces cerevisiae was used as a model host to study the effect of cirv p36 on cell survival and death it was shown that p36 does not promote cell death but decreases cell growth rate in addition p36 changed the nature of acetic acidinduced cell death in yeast by increasing the number of cells dying by necrosis with concomitant decrease of the number of cells dying by programmed cell death as judged by measurements of phosphatidylserine externalization the tight association of p36 to membranes was not affected by acetic acid treatment thus confirming the peculiar and independent interaction of cirv p36 with mitochondria in yeast this work proved yeast as an invaluable model organism to study both the mitochondrial determinants of the type of cell death in response to stress and the molecular pathogenesis of rna viruses c 2016 elsevier ireland ltd all rights reserved']\n",
            " ['2' 'biochemistry'\n",
            "  ' 1 2dicloropropane dichloromethane gpt delta rat in vivo mutagenicity liver        '\n",
            "  '12dichloropropane 12dcp and dichloromethane dcm are possible causative agents associated with the development of cholangiocarcinoma in employees working in printing plant in osaka japan however few reports have demonstrated an association between these agents and cholangiocarcinoma in rodent carcinogenicity studies moreover the combined effects of these compounds have not been fully elucidated in the present study we evaluated the in vivo mutagenicity of 12dcp and dcm alone or combined in the livers of gpt delta rats sixweekold male f344 gpt delta rats were treated with 12dcp dcm or 12dcpdcm by oral administration for 4weeks at the dose 200mgkg1 body weight 12dcp and 500mgkg1 body weight dcm used in the carcinogenesis study performed by the national toxicology program in vivo mutagenicity was analyzed by gpt mutationspi assays in the livers of rats in addition gene and protein expression of cyp2e1 and gstt1 the major enzymes responsible for the genotoxic effects of 12dcp and dcm were analyzed by quantitative polymerase chain reaction and western blotting gpt and spi mutation frequencies were not increased by 12dcp andor dcm in any group additionally there were no significant changes in the gene and protein expression of cyp2e1 and gstt1 in any group these results indicated that 12dcp dcm and 12dcpdcm had no significant impact on mutagenicity in the livers of gpt delta rats under our experimental conditions copyright c 2016 john wiley  sons ltd']\n",
            " ['0' 'ECE' ' 130 nm cmos pa programmable pa 24 ghz pa        '\n",
            "  'this paper presents the simulation results of a linear fully integrated twostage digitally programmable 130 nm cmos power amplifier pa operating at 24 ghz its power stage is composed of a set of amplifying cells which can be enabled or disabled independently by a digital control circuit all seven operational modes are univocal in terms of 1 db output compression point ocp1db saturated output power psat and power gain at 24 ghz the lowest power mode achieves an 81 dbm psat a 135 db power gain and consumes 171 mw dc power pdc at an ocp1db of 6 dbm whereas the highest power mode reaches an 189 dbm psat and a 211 db power gain and consumes 415 mw pdc at an ocp1db of 182 dbm']\n",
            " ['2' 'biochemistry'\n",
            "  ' 14alphaglucan branching enzyme hispatch thioredoxin geobacillus sp glycogen branching enzyme genome mining        '\n",
            "  'the glycogen branching enzyme ec 24118 which catalyses the formation of alpha16glycosidic branch points in glycogen structure is often used to enhance the nutritional value and quality of food and beverages in order to be applicable in industries enzymes that are stable and active at high temperature are much desired using genome mining the nucleotide sequence of the branching enzyme gene glgb was extracted from the geobacillus mahadia geo05 genome sequence provided by the malaysia genome institute the size of the gene is 2013 bp and the theoretical molecular weight of the protein is 7843 kda the gene sequence was then used to predict the thermostability function and the three dimensional structure of the enzyme the gene was cloned and overexpressed in e coli to verify the predicted result experimentally the purified enzyme was used to study the effect of temperature and ph on enzyme activity and stability and the inhibitory effect by metal ion on enzyme activity this thermostable glycogen branching enzyme was found to be most active at 55 degrees c and the halflife at 60 degrees c and 70 degrees c was 24 h and 5 h respectively from this research a thermostable glycogen branching enzyme was successfully isolated from geobacillus mahadia geo05 by genome mining together with molecular biology technique']\n",
            " ['2' 'biochemistry'\n",
            "  ' 16s rrna amplicon sequencing activated sludge bacterial populations molecular biology        '\n",
            "  'the microbial populations in the activated sludge of two polish wastewater treatment plants wwtps were identified and quantified using illumina sequencing of 16s ribosomal rna amplicons over a 2year period their dynamics over time were compared to danish wwtps data collected in previous studies by center for microbial communities aalborg university the bacterial communities in polish and danish wwtps were similar to each other but the microbial diversity in polish wwtps was lower the dominant genera in polish wwtps were more abundant than in danish wwtps 30 of them constituted more than half the of activated sludge community polish wwtps showed a higher abundance of bacteria involved in nitrogen and chemical oxygen demand removal proteobacteria and bacteroidetes while polyphosphateacculumating bacteria were the dominant bacterial group in danish plants the microbial community structures in the examined polish wwtps were relatively similar to each other and showed strong seasonal variations which are not normally observed in danish wwtps']\n",
            " ['2' 'biochemistry'\n",
            "  ' 16s 16s rrna utility bacterial infections cost analysis        '\n",
            "  'background broadrange 16s rrna pcr can be used for the detection and identification of bacteria from clinical specimens in patients for whom there is a high suspicion of infection and cultures are negative the aims of this study were 1 to compare 16s rrna pcr results with microbiolog ical culture results 2 to assess the utility of 16s rrna pcr with regard to antimicrobial therapy and 3 to compare the yield of 16s rrna pcr for different types of clinical specimen and to perform a cost analysis of the test methods a retrospective study was performed on different clinical specimens which had 16s performed over 3 years 20122015 standard microbiological cultures were performed on appropriate media as per the laboratory protocol patient clinical and microbiological data were obtained from the electronic medical records and laboratory information system respectively 16s rrna pcr was performed in a reference laboratory using a validated method for amplification and sequencing the outcomes assessed were the performance of 16s rrna pcr change of antimicrobials rationalization cessation or addition and duration of therapy concordance of 16s rrna pcr with bacterial cultures was also determined for tissue specimens results thirtytwo patients were included in the study for whom an equal number of specimens n  32 were sent for 16s rrna pcr 16s rrna pcr could identify an organism in 10 of 32 cases 312 of which seven were culturepositive and three were culturenegative the sensitivity was 58 confidence interval ci 2859835 and specificity was 85 ci 611396 with a positive predictive value of 70 ci 353919 and negative predictive value of 772 ci 5417913 antimicrobial therapy was rationalized after 16s rrna pcr results in five patients 156 and was ceased in four based on negative results 125 overall the 16s rrna pcr result had an impact on antimicrobial therapy in 28 of patients 932 the highest concordance of 16s rrna pcr with bacterial culture was found for heart valve tissue 80 followed by joint fluidtissue 50 conclusions despite the low diagnostic yield results of 16s rrna pcr can still have a significant impact on patient management due to rationalization or cessation of the antimicrobial therapy the yield of 16s rrna pcr was highest for heart valves c 2017 the authors published by elsevier ltd on behalf of international society for infectious diseases']\n",
            " ['2' 'biochemistry'\n",
            "  ' 16sriid subgroup 16srvid subgroup phytoplasma hishimonas phycitis cannabis sativa subsp sativa portulaca oleracea        '\n",
            "  'brinjal little leaf bll is a widespread disease of phytoplasma etiology in india that induces severe economic losses surveys were conducted in eight brinjalgrowing states of india during july 2014 to september 2015 and eighteen bll samples showing little leaf phyllody and witches broom symptoms were collected for phytoplasma identification presence of phytoplasmas was confirmed in all the eighteen bll samples using polymerase chain reaction with phytoplasmaspecific primer pairs p1p6 r16f2nr16r2 pair wise sequence comparison and phylogenetic relationship of 16s rrna gene sequences of bll phytoplasma strains confirmed that sixteen out of eighteen bll strains belonged to clover proliferation phytoplasma 16srvi group and two bll strains gkpa and gkpb from gorakhpur uttar pradesh were classified under 16srii group further virtual rflp analysis of 16s rdna sequences allowed finer classification of bll strains into 16sriid and 16srvid subgroups bll phytoplasma strains belonging to 16srvid subgroup were found as the most widespread phytoplasma strains associated with bll disease in india 16srvid subgroup phytoplasma association with two symptomatic weed species viz cannabis sativa subsp sativa at noida uttar pradesh and portulaca oleracea at iari fields new delhi was also confirmed by nested pcr assays with similar set of phytoplasmaspecific primers pairwise 16s rdna sequence comparison phylogeny and virtual rflp analysis out of five identified leafhopper species from bllinfected fields at noida uttar pradesh and delhi only hishimonas phycitis was identified as carrier and natural vector of 16srvid subgroup of phytoplasmas by nested pcr assays sequence comparison phylogeny virtual rflp analysis and transmission assays']\n",
            " ['2' 'biochemistry'\n",
            "  ' 16srxxiib phytoplasma candidatus phytoplasma palmicola coconut palm cocos nucifera lethal yellowing pcrrflp phylogeny ribosomal protein gene seca gene        '\n",
            "  'surveys for the cote divoire lethal yellowing cily phytoplasma were conducted in eight severely cilyaffected villages of grandlahou in 2015 leaves inflorescences and trunk borings were collected from coconut palms showing cily symptoms and from symptomless trees total dna was extracted from these samples and tested by nested polymerase chain reactionrflp and sequence analysis of the 16s rrna ribosomal protein rp and the translocation protein seca genes the cily phytoplasma was detected in 829 of the symptombearing palms collected from all the surveyed villages and from all the plant parts trunk borings were recommended as the most suitable plant tissue type for sampling results indicate that the cily phytoplasma may have a westward spread to other coconutgrowing areas of grandlahou cily phytoplasma strains infecting coconut palms in the western region of grandlahou exhibited unique single nucleotide polymorphisms on the rp sequence compared to the strains from the eastern region moreover single nucleotide polymorphisms on the seca sequence distinguished the cily phytoplasma from the cape st paul wilt disease phytoplasma in ghana and the lethal yellowing phytoplasma in mozambique']\n",
            " ['2' 'biochemistry'\n",
            "  ' 18s qsmrt quantitative ribosomal ross sea sequencing silicoflagellate smrt        '\n",
            "  'advances in sequencing technologies continue to provide unprecedented opportunities to characterize microbial communities for example the pacific biosciences single molecule realtime smrt platform has emerged as a unique approach harnessing dna polymerase activity to sequence template molecules enabling long reads at low costs with the aim to simultaneously classify and enumerate in situ microbial populations we developed a quantitative smrt qsmrt approach that involves the addition of exogenous standards to quantify ribosomal amplicons derived from environmental samples the v79 regions of 18s ssu rdna were targeted and quantified from protistan community samples collected in the ross sea during the austral summer of 2011 we used three standards of different length and optimized conditions to obtain accurate quantitative retrieval across the range of expected amplicon sizes a necessary criterion for analyzing taxonomically diverse 18s rdna molecules from natural environments the ability to concurrently identify and quantify microorganisms in their natural environment makes qsmrt a powerful rapid and costeffective approach for defining ecosystem diversity and function c 2017 elsevier bv all rights reserved']\n",
            " ['2' 'biochemistry'\n",
            "  ' 1a6drim utp20 18s rrna processing u3 snorna        '\n",
            "  '1a6drim is a nucleolar protein with a nucleolar targeting sequence in its 3terminus bioinformatic analysis indicated that human 1a6 drim shares 23 identity and 43 similarity with yeast utp20 which has been reported as a component of u3 snorna protein complex and has been implicated in 18s rrna processing in the present study we found by utilizing rtpcr with rna extracted from anti1a6drim inummoprecipitates and northern blotting that 1a6drim is associated with u3 snorna pulsechase labeling assays showed that silencing of 1a6drim expression in hela cells resulted in a delayed 18s rrna processing furthermore immunoprecipitations revealed that 1a6drim was also associated with fibrillarin another u3 rnp component in hela cells these results indicate that 1a6drim is involved in 18s rrna processing and is the bona fide mammalian utp20 c 2007 elsevier bv all rights reserved']\n",
            " ['1' 'Psychology'\n",
            "  ' 22q112 deletion syndrome face recognition negative performance belief negative symptom        '\n",
            "  'aims 22q112 deletion syndrome 22q112ds is a neurogenetic condition associated with an increased risk of developing schizophrenia previous studies have shown that negative symptoms represent the most specific clinical characteristic of psychosis in 22q112ds and are strongly associated with outcome however the psychological mechanisms associated with these symptoms in this population are poorly understood in accordance with recent conceptualizations in the field of schizophrenia the present study aims at investigating whether negative symptoms are associated with the presence of negative performance beliefs and cognitive deficits methods thirtyfive participants with 22q112ds and 24 typically developing individuals aged between 11 and 24 years were included in the study selfreported schizotypal symptoms cognitiveperceptual paranoid negative and disorganization symptoms and dysfunctional beliefs negative performance beliefs and need for approval were assessed measures of processing speed verbal memory working memory executive functioning and face recognitionwere also extracted from a broad cognitive evaluation protocol results adolescents with 22q112ds reported significantly higher score on the negative dimension of the schizotypal personality questionnaire than controls even when controlling for the influence of anxietydepression and intellectual functioning negative and paranoid symptoms were associated with the severity of negative performance beliefs and lower face recognition abilities mediation analyses revealed that negative performance beliefs significantly mediated the association between face recognition and negativeparanoid symptoms conclusions these findings suggest that negative performance beliefs and basic social cognitive mechanisms are associated with negative and paranoid symptoms in individuals with 22q112ds implications for intervention are discussed in this article']\n",
            " ['1' 'Psychology'\n",
            "  ' 22q112 deletion syndrome social brain network social cognition twotensor tractography white matter tracts        '\n",
            "  'background chromosome 22q112 deletion syndrome 22q112ds is a neurogenetic disorder that is associated with a 25fold increase in schizophrenia both individuals with 22q112ds and those with schizophrenia present with social cognitive deficits which are putatively subserved by a network of brain regions that are involved in the processing of social cognitive information this study used twotensor tractography to examine the white matter tracts believed to underlie the social brain network in a group of 57 young adults with 22q112ds compared to 30 unaffected controls results results indicated that relative to controls participants with 22q112ds showed significant differences in several dti metrics within the inferior frontooccipital fasciculus cingulum bundle thalamofrontal tract and inferior longitudinal fasciculus in addition participants with 22q112ds showed significant differences in scores on measures of social cognition including the social responsiveness scale and trait emotional intelligence questionnaire further analyses among individuals with 22q112ds demonstrated an association between dti metrics and positive and negative symptoms of psychosis as well as differentiation between individuals with 22q112ds and overt psychosis relative to those with positive prodromal symptoms or no psychosis conclusions findings suggest that white matter disruption specifically disrupted axonal coherence in the right inferior frontooccipital fasciculus may be a biomarker for social cognitive difficulties and psychosis in individuals with 22q112ds']\n",
            " ['2' 'biochemistry'\n",
            "  ' 22q121 tetratricopeptide repeat tpr centrosome aurora kinase b cell division midbody        '\n",
            "  'through the comprehensive analysis of the genomic dna sequence of human chromosome 22 we identified a novel gene of 702 kb encoding a big protein of 2481 amino acid residues and named it as tprbk tpr containing big gene cloned at keio a novel protein tprbk possesses 25 units of the tpr motif which has been known to associate with a diverse range of biological functions orthologous genes of human tprbk were found widely in animal species from insecta to mammal but not found in plants fungi and nematoda northern blotting and rtpcr analyses revealed that tprbk gene is expressed ubiquitously in the human and mouse fetal tissues and various cell lines of human monkey and mouse lmmunofluorescent staining of the synchronized monkey cos7 cells with several relevant antibodies indicated that tprbk changes its subcellular localization during the cell cycle at interphase tprbk locates on the centrosomes during mitosis it translocates from spindle poles to mitotic spindles then to spindle midzone and through a period of cytokinesis it stays on the midbody coimmunoprecipitation assay and immunofluorescent staining with adequate antibodies revealed that tprbk binds to aurora b and those proteins together translocate throughout mitosis and cytokinesis treatments of cells with two drugs blebbistatin and y27632 that are known to inhibit the contractility of actinmyosin disturbed the proper intracellular localization of tprbk moreover the knockdown of tprbk expression by small interfering rna sirna suppressed the bundling of spindle midzone microtubules and disrupted the midbody formation arresting the cells at g2  m phase these observations indicated that a novel big protein tprbk is essential for the formation and integrity of the midbody hence we postulated that tprbk plays a critical role in the progress of mitosis and cytokinesis during mammalian cell cycle c 2012 elsevier bv all rights reserved']]\n"
          ]
        }
      ],
      "source": [
        "print(tsvData[0:15])"
      ]
    },
    {
      "cell_type": "code",
      "execution_count": 10,
      "metadata": {
        "id": "eMlvUSrlWXUI"
      },
      "outputs": [],
      "source": [
        "allLabels = tsvData[:,0]\n",
        "domains = tsvData[:,1]\n",
        "keywords = tsvData[:,2]\n",
        "abstracts = tsvData[:,3]"
      ]
    },
    {
      "cell_type": "code",
      "execution_count": 11,
      "metadata": {
        "colab": {
          "base_uri": "https://localhost:8080/"
        },
        "id": "I5ukmXOvWXUI",
        "outputId": "30976b76-eb11-4f0e-c051-fb0037611e30"
      },
      "outputs": [
        {
          "output_type": "stream",
          "name": "stdout",
          "text": [
            "Labels  ['ECE' 'Psychology' 'biochemistry']\n",
            "Label counts  [1292 1597 2847]\n"
          ]
        }
      ],
      "source": [
        "labels = np.unique(domains, return_counts=True)[0]\n",
        "labelCounts=  np.unique(domains, return_counts=True)[1]\n",
        "\n",
        "print(\"Labels \", labels)\n",
        "print(\"Label counts \", labelCounts)"
      ]
    },
    {
      "cell_type": "code",
      "execution_count": 12,
      "metadata": {
        "colab": {
          "base_uri": "https://localhost:8080/",
          "height": 486
        },
        "id": "-T7QrmVmWXUI",
        "outputId": "be441c5f-c064-4f01-fd3f-b7efe29d0ea0"
      },
      "outputs": [
        {
          "output_type": "display_data",
          "data": {
            "text/plain": [
              "<Figure size 1000x600 with 1 Axes>"
            ],
            "image/png": "[encoded data removed]"
          },
          "metadata": {}
        },
        {
          "output_type": "stream",
          "name": "stdout",
          "text": [
            "The domain ECE has 1292 records in the dataset.\n",
            "The domain Psychology has 1597 records in the dataset.\n",
            "The domain biochemistry has 2847 records in the dataset.\n"
          ]
        }
      ],
      "source": [
        "# Visualize domain counts in dataset\n",
        "plt.figure(figsize=(10, 6))\n",
        "plt.title(\"Domain Counts (Dataset)\")\n",
        "plt.pie(labelCounts, labels=labels, autopct='%1.1f%%', startangle=140, colors=plt.cm.Paired(range(len(labels))))\n",
        "plt.axis('equal')\n",
        "plt.show()\n",
        "\n",
        "for i, domain in enumerate(labels):\n",
        "    print(\"The domain\", domain, \"has\", labelCounts[i], \"records in the dataset.\")"
      ]
    },
    {
      "cell_type": "code",
      "execution_count": 13,
      "metadata": {
        "colab": {
          "base_uri": "https://localhost:8080/"
        },
        "id": "MWaqWll9WXUI",
        "outputId": "2be43b55-92e0-4b47-d949-5a98683cde86"
      },
      "outputs": [
        {
          "output_type": "stream",
          "name": "stdout",
          "text": [
            "Number of abstracts:  5736\n",
            "Shape of abstracts:  (5736,)\n",
            "['primary cutaneous gamma delta tcell lymphoma pcgd tcl an aggressive type of lymphoma accounts for approximately 1 of all primary cutaneous lymphomas we have occasionally observed changes in tcell antigen expression immunophenotypic ip shift over time a phenomenon that is considered rare in tcell lymphoma including cutaneous tcell lymphoma therefore we assessed sequential biopsies of pcgd tcl for possible ip shifts of the lymphoma cells we searched for cases of pcgd tcl with consecutive biopsies to perform a comprehensive immunohistochemical analysis of paired specimens a median of 12 markers per case was tested we evaluated the percentage of neoplastic lymphocytes and determined the differential expression of antigens gain loss increase or decrease we identified 9 patients with pcgd tcl with consecutive biopsies all 100 cases had ip shifts of at least 1 antigen whereas overall 22 pairs of markers were shifted gain of reactivity occurred in 7 318 and loss in 3 136 increased reactivity in 4 182 and decreased in 8 364 molecular analysis of tcr gamma showed identically sized monoclonal rearrangements between biopsy pairs in 44 100 patients there was no correlation between ip shifts and the clinical appearance of lesions histopathologic or cytologic features or molecular rearrangements ip shifts are common in pcgd tcl occurring in all patients in this study and involving a variety of antigens ip shifts do not seem to be linked to changes in the tcell clone and are without obvious clinical or morphologic correlates the occurrence of ip shifts in pcgd tcl suggests that antigen modulation may be involved in pathogenesis ip shifts are somewhat frequent in tcell lymphoma however it does not suggest a second neoplasm and molecular studies can be used to determine clonal identity'\n",
            " 'neuroendocrine ne gastroenteropancreatic tumors are a heterogeneous group of neoplasias arising from neuroendocrine cells of the embryological gut their incidence have increased significantly over the past 3 decades probably due to the improvements in imaging and diagnosis the recent advances in molecular biology have translated into an expansion of therapeutic approaches to these patients somatostatin analogs which initially were approved for control of hormonal syndromes have recently been proven to inhibit tumor growth several new drugs such as antiangiogenics and others targeting mammalian target of rapamycin pathways have been approved to treat progressive pancreatic neuroendocrine tumors nets although their role in nonpancreatic is still controversial the treatment of nets requires a coordinated multidisciplinary approach the management of localized nets primarily involves surgical resection followed by surveillance however the treatment of unresectable andor metastatic disease may involve a combination of surgical resection systemic therapy and liverdirected therapies with the goal of alleviating symptoms of peptide release and controlling tumor growth this article will review the current therapeutic strategies for metastatic gastroenteropancreatic nets and will take a glimpse into the future approaches']\n",
            "Number of keywords:  5736\n",
            "Shape of keywords:  (5736,)\n",
            "['primary cutaneous gamma delta tcell lymphoma pcgd tcl an aggressive type of lymphoma accounts for approximately 1 of all primary cutaneous lymphomas we have occasionally observed changes in tcell antigen expression immunophenotypic ip shift over time a phenomenon that is considered rare in tcell lymphoma including cutaneous tcell lymphoma therefore we assessed sequential biopsies of pcgd tcl for possible ip shifts of the lymphoma cells we searched for cases of pcgd tcl with consecutive biopsies to perform a comprehensive immunohistochemical analysis of paired specimens a median of 12 markers per case was tested we evaluated the percentage of neoplastic lymphocytes and determined the differential expression of antigens gain loss increase or decrease we identified 9 patients with pcgd tcl with consecutive biopsies all 100 cases had ip shifts of at least 1 antigen whereas overall 22 pairs of markers were shifted gain of reactivity occurred in 7 318 and loss in 3 136 increased reactivity in 4 182 and decreased in 8 364 molecular analysis of tcr gamma showed identically sized monoclonal rearrangements between biopsy pairs in 44 100 patients there was no correlation between ip shifts and the clinical appearance of lesions histopathologic or cytologic features or molecular rearrangements ip shifts are common in pcgd tcl occurring in all patients in this study and involving a variety of antigens ip shifts do not seem to be linked to changes in the tcell clone and are without obvious clinical or morphologic correlates the occurrence of ip shifts in pcgd tcl suggests that antigen modulation may be involved in pathogenesis ip shifts are somewhat frequent in tcell lymphoma however it does not suggest a second neoplasm and molecular studies can be used to determine clonal identity'\n",
            " 'neuroendocrine ne gastroenteropancreatic tumors are a heterogeneous group of neoplasias arising from neuroendocrine cells of the embryological gut their incidence have increased significantly over the past 3 decades probably due to the improvements in imaging and diagnosis the recent advances in molecular biology have translated into an expansion of therapeutic approaches to these patients somatostatin analogs which initially were approved for control of hormonal syndromes have recently been proven to inhibit tumor growth several new drugs such as antiangiogenics and others targeting mammalian target of rapamycin pathways have been approved to treat progressive pancreatic neuroendocrine tumors nets although their role in nonpancreatic is still controversial the treatment of nets requires a coordinated multidisciplinary approach the management of localized nets primarily involves surgical resection followed by surveillance however the treatment of unresectable andor metastatic disease may involve a combination of surgical resection systemic therapy and liverdirected therapies with the goal of alleviating symptoms of peptide release and controlling tumor growth this article will review the current therapeutic strategies for metastatic gastroenteropancreatic nets and will take a glimpse into the future approaches']\n",
            "Number of domains:  5736\n",
            "Shape of domains:  (5736,)\n",
            "['biochemistry' 'biochemistry']\n",
            "Number of labels:  5736\n",
            "Shape of labels:  (5736,)\n",
            "['2' '2']\n",
            "['primary cutaneous gamma delta tcell lymphoma pcgd tcl an aggressive type of lymphoma accounts for approximately 1 of all primary cutaneous lymphomas we have occasionally observed changes in tcell antigen expression immunophenotypic ip shift over time a phenomenon that is considered rare in tcell lymphoma including cutaneous tcell lymphoma therefore we assessed sequential biopsies of pcgd tcl for possible ip shifts of the lymphoma cells we searched for cases of pcgd tcl with consecutive biopsies to perform a comprehensive immunohistochemical analysis of paired specimens a median of 12 markers per case was tested we evaluated the percentage of neoplastic lymphocytes and determined the differential expression of antigens gain loss increase or decrease we identified 9 patients with pcgd tcl with consecutive biopsies all 100 cases had ip shifts of at least 1 antigen whereas overall 22 pairs of markers were shifted gain of reactivity occurred in 7 318 and loss in 3 136 increased reactivity in 4 182 and decreased in 8 364 molecular analysis of tcr gamma showed identically sized monoclonal rearrangements between biopsy pairs in 44 100 patients there was no correlation between ip shifts and the clinical appearance of lesions histopathologic or cytologic features or molecular rearrangements ip shifts are common in pcgd tcl occurring in all patients in this study and involving a variety of antigens ip shifts do not seem to be linked to changes in the tcell clone and are without obvious clinical or morphologic correlates the occurrence of ip shifts in pcgd tcl suggests that antigen modulation may be involved in pathogenesis ip shifts are somewhat frequent in tcell lymphoma however it does not suggest a second neoplasm and molecular studies can be used to determine clonal identity'\n",
            " 'neuroendocrine ne gastroenteropancreatic tumors are a heterogeneous group of neoplasias arising from neuroendocrine cells of the embryological gut their incidence have increased significantly over the past 3 decades probably due to the improvements in imaging and diagnosis the recent advances in molecular biology have translated into an expansion of therapeutic approaches to these patients somatostatin analogs which initially were approved for control of hormonal syndromes have recently been proven to inhibit tumor growth several new drugs such as antiangiogenics and others targeting mammalian target of rapamycin pathways have been approved to treat progressive pancreatic neuroendocrine tumors nets although their role in nonpancreatic is still controversial the treatment of nets requires a coordinated multidisciplinary approach the management of localized nets primarily involves surgical resection followed by surveillance however the treatment of unresectable andor metastatic disease may involve a combination of surgical resection systemic therapy and liverdirected therapies with the goal of alleviating symptoms of peptide release and controlling tumor growth this article will review the current therapeutic strategies for metastatic gastroenteropancreatic nets and will take a glimpse into the future approaches'\n",
            " 'temperature is one of the basic biophysical quantity monitored for various biomedical systems moreover the variation of temperature is also an important parameter which can be used for estimating other measurands such as respiratory airflow this paper proposes a simple operational amplifierbased astable multivibrator circuit for linearization of the characteristic of a negative temperature coefficient thermistor constituting one of the timing resistors the circuit has been combined with a lookup table to get the unknown temperature value from multivibrator output moreover the same system topology can be used as a linearizer for measurement of respiratory airflow the performance of the composite system has been verified experimentally a linearity of approximately  075 has been achieved over 30 degrees c110 degrees c in the case of temperature measurement and  12 for airflow of 1060 lpm better results can also be achieved with the introduction of interpolation algorithms but at a higher computational and component cost the compactness of the complete system makes it a good candidate for embedded sensing applications in biomedical systems such as pointofcare monitoring or in sleep study'\n",
            " 'the view of what constitutes child abuse and neglect is dependent on the laws cultural context local thresholds and the availability since 1982 the international society for the prevention of child abuse and neglect ispcan has conducted surveillance of child maltreatment and child protection every two years published in world perspectives on child abuse it is hoped that up to date information will inform the development of laws policies and programs to better address child abuse and neglect this article is based on data on child sexual abuse and exploitation from 73 countries gathered online in 201516 for the 12 edition of world perspectives respondents were key informants who were knowledgeable professionals in the child protection field they were encouraged to consult with colleagues so as to provide accurate information countries were grouped into different regions of the world and into income level categories the findings focus on definitions of abuse and neglect laws policies and programs to address and prevent maltreatment and barriers to prevention it is evident that there is considerable variability across regions and country income categories and that programs and services need to be considerably strengthened even in high income countries c 2017 published by elsevier ltd'\n",
            " 'introduced the basic principle of synchronous rectification in low voltage high current fields using digital controls feature in switch power a design scheme of sr digital buck converter was put forward and analyzed the device choice designed all the circuit of the converter designed and made a prototype the experiment data were given including driving waveform and efficiency curve onecycle control strategy was made to extend the using fields of the prototype designed the intelligence communication interface by means of experiment the power supply has fast dynamic response and high precision and its efficiency can reach up to 95'\n",
            " 'trypsin has been documented in a variety of species including both vertebrates and invertebrates but little is known about it in amphioxus a model organism for insights into the origin and evolution of vertebrates here we identified a trypsin gene in branchiostoma japonicum the cdna was 978 bp long with an orf encoding a deduced protein of 272 amino acids the deduced protein had an nterminal signal peptide of 15 amino acids a 16 activation peptide with the typical cleavage site argile a trypspc domain with the catalytic triad his72asp118ser215 and the s1 substrate binding residue asp209 which are all characteristic of trypsinogens the recombinant trypsin protein was able to hydrolyse the trypsin prototypic substrate baee which was inhibited by the trypsinspecific inhibitor soybean trypsin inhibitor both northern blotting and tissuesection in situ hybridization demonstrated that trypsin gene was expressed in a tissuespecific manner with most abundant levels in the hepatic caecum midgut and ovary and the whole mount in situ hybridization showed that it began to express in the middle third of the fulllength primitive gut in 2day larvae where the hepatic caecum will form later during development phylogenetic analysis indicated that both amphioxus and ascidian trypsins are more closer to each other than to vertebrate trypsins suggesting a continuous evolutionary divergence of vertebrate trypsins after split from protochordatevertebrate common ancestor'\n",
            " 'this study explores whether object relations or functioning improves over the course of psychodynamic psychotherapy and whether this improvement is related to symptom decrease as well as therapist technique the sample consisted of 75 outpatients engaged in shortterm psychodynamic psychotherapy at a universitybased psychological service clinic or functioning was assessed pre and posttreatment by independent raters using the social cognition and object relations scale from insession patient relational narratives the comparative psychotherapy process scale was used to assess therapist activity and psychotherapy techniques early in treatment independent clinical ratings of global or and psychotherapy techniques were conducted and rater agreement was found to be in the excellent range regarding the results global or overall quality and level of interpersonal functioning significantly improved with large effect size after psychodynamic therapy change in global or functioning was significantly and positively related to the incidence of psychodynamic techniques in early sessions as were number of psychotherapy sessions attended patient selfreported reliable change in symptomatology and reliable change in global or were significantly related as well multilevel model analyses confirmed pairwise correlations accounting for therapist effects on a variety of processoutcome measures number of sessions attended initial levels of psychiatric symptoms employment of therapeutic techniques as well overall or functioning at outcome limitations of the present study future research directions and implications for clinical practice are also discussed copyright c 2016 john wiley  sons ltd'\n",
            " 'central to the basis of ecological immunology are the ideas of costs and tradeoffs between immunity and life history traits as a physical barrier the insect cuticle provides a key resistance trait and tenebrio molitor shows phenotypic variation in cuticular colour that correlates with resistance to the entomopathogenic fungus metarhizium anisopliae here we first examined whether there is a relationship between cuticular colour variation and two aspects of cuticular architecture that we hypothesised may influence resistance to fungal invasion through the cuticle its thickness and its porosity second we tested the hypothesis that tyrosine a semiessential amino acid required for immune defence and cuticular melanisation and sclerotisation can act as a limiting resource by supplementing the larval diet and subsequently examining adult cuticular colouration and thickness we found that stock beetles and beetles artificially selected for extremes of cuticular colour had thicker less porous cuticles when they were darker and thinner more porous cuticles when they were lighter showing that colour covaries with two architectural cuticular features experimental supplementation of the larval diet with tyrosine led to the development of darker adult cuticle and affected thickness in a sexspecific manner however it did not affect two immune traits the results of this study provide a mechanism for maintenance of cuticular colour variation in this species of beetle darker cuticles are thicker but their production is potentially limited by resource constraints and differential investments in resistance mechanisms between the sexes c 2016 elsevier ltd all rights reserved'\n",
            " 'the paper aims at explaining why largescale energyintensive industrieshere the german iron and steel industryhad a period of slow uptake of major energyefficient technologies from the mid 1990s to mid 2000s arens and worrell 2014 and why from the mid 2000s onwards these technologies are increasingly implemented again we analyze the underlying factors and investmentinnovation behavior of individual firms in the german iron and steel industry to better understand barriers and drivers for technological change the paper gives insights on the decisionmaking process on energy efficiency in firms and helps to understand how policy affects decisionmaking we use a mixed method approach first we analyze the diffusion of three energyefficient technologies eet for primary steelmaking from their introduction until today toppressure recovery turbine trt basic oxygen furnace gas recovery bofgr and pulverized coal injection pci we derive the uptake of these technologies both at the national level and at the level of the individual firm second we analyze the impact of drivers and barriers on the decisionmaking process of individual firms whether or not they want to implement these technologies economics and access to capital are the foremost barriers to the uptake of an eet if the expected payback period exceeds a certain value or if the company lacks capital investments in eet seem not to happen but even if an eet is economically viable and the company has access to capital investments in eet might not be realized policyinduced prices might have strengthened the recent diffusion of trt we found indications that in a limited number of cases policy intervention was a driving factor technical risks and imperfect information are only marginal factors in our cases sitespecific factors seem to be important as sitespecific factors shape the economics of the selected eet'\n",
            " 'growing attention in mature tcell lymphomasleukemias mtcl is committed to more accurate and meaningful classifications improved pathogenetic concepts and expanded therapeutic options this requires considerations of the immunologic concepts of tcell homeostasis and the specifics of tcell receptor tcr affinities and signaling scientists from various disciplines established the controlt research unit and in an international conference on mtcl they brought together experts from tcell immunity oncology immunotherapy and systems biology we report here meeting highlights on the covered topics of diagnostic pitfalls implications by the new who classification insights from discovered genomic lesions as well as tcrcentric concepts of cellular dynamics in host defense autoimmunity and tumorigenic clonal escape including predictions to be derived from in vivo imaging and mathematical modeling presentations on novel treatment approaches were supplemented by strategies of optimizing tcell immunotherapies work packages that in joint efforts would advance the field of mtcl more efficiently are identified']\n",
            "[' immunophenotypic shift tcell lymphoma gamma delta tcell lymphoma clonal identity antigen modulation panniculitic lymphoma epidermotropic lymphoma        '\n",
            " ' gastroenteropancreatic neuroendocrine tumors peptide receptor radionuclide therapy somatostatin analogs octreotide transarterial chemoembolization carcinoid syndrome setotonin chromogranin        '\n",
            " ' temperature sensors ntc thermistor linearization operational amplifier astable multivibrator airflow measurement        '\n",
            " ' child sexual abuse child sexual exploitation prevention        '\n",
            " ' synchronous rectification digital power stm32 pwm onecycle control        '\n",
            " ' amphioxus lancelet branchiostoma trypsin evolution        '\n",
            " ' object relations interpersonal problems psychodynamic psychotherapy cognitivebehavioural therapy        '\n",
            " ' tenebrio molitor cuticular thickness pore canal fungal resistance immunity tyrosine        '\n",
            " ' diffusion drivers barriers energy efficiency iron and steel industry        '\n",
            " ' chimeric antigen receptor tcell tcell homeostasis tcell immunotherapy tcell leukemia tcell lymphoma tcell receptor        ']\n",
            "['biochemistry' 'biochemistry' 'ECE' 'Psychology' 'ECE' 'biochemistry'\n",
            " 'Psychology' 'biochemistry' 'ECE' 'biochemistry']\n",
            "['2' '2' '0' '1' '0' '2' '1' '2' '0' '2']\n",
            "[2 2 0 1 0 2 1 2 0 2]\n"
          ]
        }
      ],
      "source": [
        "# Shuffle data\n",
        "dataShuffled = sklearn.utils.shuffle(tsvData)\n",
        "\n",
        "abstractsShuffled = dataShuffled[:,3]\n",
        "keywordsShuffled = dataShuffled[:,2]\n",
        "domainsShuffled = dataShuffled[:,1]\n",
        "allLabelsShuffled = dataShuffled[:,0]\n",
        "\n",
        "print(\"Number of abstracts: \", len(abstractsShuffled))\n",
        "print(\"Shape of abstracts: \", np.shape(abstractsShuffled))\n",
        "print(abstractsShuffled[0:2])\n",
        "\n",
        "print(\"Number of keywords: \", len(keywordsShuffled))\n",
        "print(\"Shape of keywords: \", np.shape(keywordsShuffled))\n",
        "print(abstractsShuffled[0:2])\n",
        "\n",
        "print(\"Number of domains: \", len(domainsShuffled))\n",
        "print(\"Shape of domains: \", np.shape(domainsShuffled))\n",
        "print(domainsShuffled[0:2])\n",
        "\n",
        "print(\"Number of labels: \", len(allLabelsShuffled))\n",
        "print(\"Shape of labels: \", np.shape(allLabelsShuffled))\n",
        "print(allLabelsShuffled[0:2])\n",
        "\n",
        "\n",
        "# Convert labels to integer\n",
        "allLabelsDigitShuffled = allLabelsShuffled.astype(int)\n",
        "\n",
        "print(abstractsShuffled[0:10])\n",
        "print(keywordsShuffled[0:10])\n",
        "print(domainsShuffled[0:10])\n",
        "print(allLabelsShuffled[0:10])\n",
        "print(allLabelsDigitShuffled[0:10])"
      ]
    },
    {
      "cell_type": "code",
      "execution_count": 14,
      "metadata": {
        "colab": {
          "base_uri": "https://localhost:8080/",
          "height": 301,
          "referenced_widgets": [
            "b7594057ccc045b8864c3d7a521c3b8e",
            "879206303a5d4bd88bbde5d2855c05e4",
            "8b2f9b21d46e41e881f2fa13343f600a",
            "ae13b2bb5f9b4883843310a76b1b10b9",
            "2da333b030bf47c2ae6af9be42d20f17",
            "b2711cf72b8b4d5898196c287aa3fb09",
            "b195ef38c90b4bcdae4777f241d9f88b",
            "5b31dfcec5b2475998afd0d4d04fcb5c",
            "64b5cf3758b2483eace9c3c19a07a1db",
            "7595a57c5afa4ff486d214fa2d9d05da",
            "05be5bfe29f5442bacc78cd1ea798686",
            "55e14a4360d946b4b0d723b301de95b2",
            "08a1ff9ed6074941b1e9f8cf39500899",
            "213ca4a7bcfd4da496593cd14a9034d2",
            "b6b5ad10cf2c4f5d96b00b1e98270c86",
            "5085f7deeb3d4fe3becad33d3d6ba7d3",
            "62238f571c9a4ceab7ce70ab08cee8dd",
            "3267f3f20ccd4bd1b02b6afd58a89e78",
            "028f70ef54ab40f691e3e70a169f4f81",
            "8560de17883b4d23861a11f547276c19",
            "9df3885ba51b4ac3a05db2f9e0e7d8f3",
            "ab297e61903644f1bc0680481932d5f4"
          ]
        },
        "id": "t9_3IhKwWXUI",
        "outputId": "35cbda8d-d25e-4759-df38-6ef748c83a22"
      },
      "outputs": [
        {
          "output_type": "stream",
          "name": "stdout",
          "text": [
            "(4588, 4)\n",
            "(1148, 4)\n",
            "(4588, 4)\n",
            "(1148, 4)\n",
            "(230, 4)\n"
          ]
        },
        {
          "output_type": "stream",
          "name": "stderr",
          "text": [
            "/usr/local/lib/python3.10/dist-packages/huggingface_hub/utils/_token.py:89: UserWarning: \n",
            "The secret `HF_TOKEN` does not exist in your Colab secrets.\n",
            "To authenticate with the Hugging Face Hub, create a token in your settings tab (https://huggingface.co/settings/tokens), set it as secret in your Google Colab and restart your session.\n",
            "You will be able to reuse this secret in all of your notebooks.\n",
            "Please note that authentication is recommended but still optional to access public models or datasets.\n",
            "  warnings.warn(\n"
          ]
        },
        {
          "output_type": "display_data",
          "data": {
            "text/plain": [
              "config.json:   0%|          | 0.00/385 [00:00<?, ?B/s]"
            ],
            "application/vnd.jupyter.widget-view+json": {
              "version_major": 2,
              "version_minor": 0,
              "model_id": "b7594057ccc045b8864c3d7a521c3b8e"
            }
          },
          "metadata": {}
        },
        {
          "output_type": "display_data",
          "data": {
            "text/plain": [
              "vocab.txt:   0%|          | 0.00/228k [00:00<?, ?B/s]"
            ],
            "application/vnd.jupyter.widget-view+json": {
              "version_major": 2,
              "version_minor": 0,
              "model_id": "55e14a4360d946b4b0d723b301de95b2"
            }
          },
          "metadata": {}
        }
      ],
      "source": [
        "# Split dataset into training and testing (80/20 split)\n",
        "train_data, test_data = train_test_split(dataShuffled, test_size=0.2, random_state=42)\n",
        "print(np.shape(train_data))\n",
        "print(np.shape(test_data))\n",
        "\n",
        "# Further split training data into training and validation (80/20 split of training set)\n",
        "_, val_data = train_test_split(test_data, test_size=0.2, random_state=42)\n",
        "print(np.shape(train_data))\n",
        "print(np.shape(test_data))\n",
        "print(np.shape(val_data))\n",
        "# Load SciBERT tokenizer\n",
        "tokenizer = AutoTokenizer.from_pretrained(\"allenai/scibert_scivocab_uncased\")"
      ]
    },
    {
      "cell_type": "code",
      "execution_count": 15,
      "metadata": {
        "colab": {
          "base_uri": "https://localhost:8080/"
        },
        "id": "5wYiosJzWXUJ",
        "outputId": "09a04a96-4bd1-4f57-a329-6c83f613fcef"
      },
      "outputs": [
        {
          "output_type": "stream",
          "name": "stdout",
          "text": [
            "Number of abstracts:  4588\n",
            "Shape of abstracts:  (4588,)\n",
            "Number of keywords:  4588\n",
            "Shape of keywords:  (4588,)\n",
            "Number of domains:  4588\n",
            "Shape of domains:  (4588,)\n",
            "Number of labels:  4588\n",
            "Shape of labels:  (4588,)\n",
            "['by focusing on the case of the jarso and the girhi in eastern ethiopia this article seeks to contribute to comparative studies on the social territorial and relational effects of the effort at political and administrative decentralization in multiethnic settings the article analyses the political and social implications of the elements that constitute impediments to social cohesion and socioeconomic interaction in the study area the data required for the study were collected through fieldwork that involved interviews focus group discussions and field observations on the basis of the analysis the article recommends what should be done to create a relational politics of place in which places and spaces that connect people remain open discontinuous relational and internally diverse'\n",
            " 'david stoesz offers a sweeping critique of the childrens bureau and social work education by claiming the existence of a child welfare cartel he also attacks the quality of social work education and research which he claims has poorly invested government funding and helped create the unmitigated failures of the american child welfare system however closer examination reveals that many of his claims while dramatic are actually ill conceived and unsupportable we attempt to clarify and inform readers about some significant aspects of the field of child welfare and the contemporary responses being made by the federal government in partnership with social work educators and researchers']\n",
            "[' oromo somali protective territoriality social cognition ethiopia        '\n",
            " ' child welfare field of practice child abuse education        ']\n",
            "['Psychology' 'Psychology']\n",
            "['1' '1']\n"
          ]
        }
      ],
      "source": [
        "abstractsTrain = train_data[:,3]\n",
        "keywordsTrain = train_data[:,2]\n",
        "domainsTrain = train_data[:,1]\n",
        "allLabelsTrain = train_data[:,0]\n",
        "\n",
        "print(\"Number of abstracts: \",len(abstractsTrain))\n",
        "print(\"Shape of abstracts: \",np.shape(abstractsTrain))\n",
        "print(\"Number of keywords: \",len(keywordsTrain))\n",
        "print(\"Shape of keywords: \",np.shape(keywordsTrain))\n",
        "print(\"Number of domains: \",len(domainsTrain))\n",
        "print(\"Shape of domains: \",np.shape(domainsTrain))\n",
        "print(\"Number of labels: \",len(allLabelsTrain))\n",
        "print(\"Shape of labels: \",np.shape(allLabelsTrain))\n",
        "\n",
        "print(abstractsTrain[0:2])\n",
        "print(keywordsTrain[0:2])\n",
        "print(domainsTrain[0:2])\n",
        "print(allLabelsTrain[0:2])"
      ]
    },
    {
      "cell_type": "code",
      "execution_count": 16,
      "metadata": {
        "colab": {
          "base_uri": "https://localhost:8080/",
          "height": 523
        },
        "id": "kuvxdWDRWXUJ",
        "outputId": "c517306c-627c-4f55-d4d7-a17c39e0d2a7"
      },
      "outputs": [
        {
          "output_type": "stream",
          "name": "stdout",
          "text": [
            "Labels  ['ECE' 'Psychology' 'biochemistry']\n",
            "Label counts  [1025 1277 2286]\n"
          ]
        },
        {
          "output_type": "display_data",
          "data": {
            "text/plain": [
              "<Figure size 1000x600 with 1 Axes>"
            ],
            "image/png": "[encoded data removed]"
          },
          "metadata": {}
        },
        {
          "output_type": "stream",
          "name": "stdout",
          "text": [
            "The domain ECE has 1025 records in the training set.\n",
            "The domain Psychology has 1277 records in the training set.\n",
            "The domain biochemistry has 2286 records in the training set.\n"
          ]
        }
      ],
      "source": [
        "labels = np.unique(domainsTrain, return_counts=True)[0]\n",
        "labelCounts =  np.unique(domainsTrain, return_counts=True)[1]\n",
        "\n",
        "print(\"Labels \", labels)\n",
        "print(\"Label counts \", labelCounts)\n",
        "\n",
        "nAbstract = len(abstractsTrain)\n",
        "plt.figure(figsize=(10, 6))\n",
        "plt.title(\"Domain Counts (Training Set)\")\n",
        "plt.pie(labelCounts, labels=labels, autopct='%1.1f%%', startangle=140, colors=plt.cm.Paired(range(len(labels))))\n",
        "plt.axis('equal')  # Equal aspect ratio ensures that pie is drawn as a circle.\n",
        "plt.show()\n",
        "\n",
        "for i, domain in enumerate(labels):\n",
        "    print(\"The domain\", domain, \"has\", labelCounts[i], \"records in the training set.\")"
      ]
    },
    {
      "cell_type": "code",
      "execution_count": 17,
      "metadata": {
        "colab": {
          "base_uri": "https://localhost:8080/"
        },
        "id": "WpHlCnwUWXUJ",
        "outputId": "b5c83ed7-c2d1-4dd6-d5cf-f54859156cc3"
      },
      "outputs": [
        {
          "output_type": "stream",
          "name": "stdout",
          "text": [
            "Number of abstracts:  1148\n",
            "Shape of abstracts:  (1148,)\n",
            "Number of keywords:  1148\n",
            "Shape of keywords:  (1148,)\n",
            "Number of domains:  1148\n",
            "Shape of domains:  (1148,)\n",
            "Number of labels:  1148\n",
            "Shape of labels:  (1148,)\n",
            "['objectivebackground matrix metalloproteinases mmps have already been identified as key players in the pathogenesis of abdominal aortic aneurysm aaa however the current data remain inconclusive in this study the expression of mmps at mrna and protein levels were investigated in relation to the degradation of collagen i and collagen iii methods tissue samples were obtained from 40 patients with aaa undergoing open aortic repair and from five healthy controls during kidney transplantation expression of mmps 1 2 3 7 8 9 and 12 and tissue inhibitor of metalloproteinase timp1 and timp2 were measured at the mrna level using quantitative reverse transcription polymerase chain reaction at the protein level mmps collagen i and collagen iii and their degradation products carboxyterminal collagen crosslinks ctxi and ctxiii were quantified via enzyme linked immunosorbent assay in addition immunohistochemistry and gelatine zymography were performed results in aaa significantly enhanced mrna expression was observed for mmps 3 9 and 12 compared with controls p  001 mmps 3 9 and 12 correlated significantly with macrophages p  007 p  018 and p  015 respectively and synthetic smooth muscle cells with mmps 1 2 and 9 p  020 p  018 and p  027 respectively at the protein level mmps 8 9 and 12 were significantly elevated in aaa p  006 p  0004 and p  001 respectively no significant correlation between mrna and protein was observed for any mmp aaa contained significantly reduced intact collagen i twofold p  002 whereas collagen iii was increased 46 fold p  001 regarding degraded collagen i and iii relative to intact collagens observations were inverse 14 fold increase for ctx1 p  001 fivefold decrease for ctxiii p  004 mmps 8 9 and 12 correlated with collagen i p  019 p  001 and p  0003 respectively collagen iii p  015 p  001 and p  001 respectively and degraded collagen i p  012 p  049 and p  001 respectively conclusion no significant relationship was found between mrna and protein and mmp levels mmps 9 and 12 were overexpressed in aaa at the mrna and protein level and mmp8 at the protein level mmp2 was detected in synthetic smcs collagen i and iii showed inverse behaviour in aaa in particular mmps 8 9 and12 appear to be associated with collagen i collagen iii and their degradation products c 2017 european society for vascular surgery published by elsevier ltd all rights reserved'\n",
            " 'the arabidopsis thaliana bzip60 atbzip60 transcription factor regulates stress signaling pathogen defense and flower development however molecular mechanism involved in plant salt tolerance via overexpression of transcription factor atbzip60 is elusive in this investigation cell suspension cultures of four different plant species cotton gossypium hirsutum l virginia pine pinus virginiana l white pine pinus strobus l and arabidopsis arabidopsis thaliana were transformed via agrobacterium tumefaciens lba4404 harboring pbiatzip60 integration of atbzip60 into the genome of g hirsutum p virginiana p strobes and a thaliana has been confirmed by polymerase chain reaction southern blotting and northern blotting analyses six transgenic cell lines from each of four species were used to analyze the salt tolerance conferred by the overexpression of atbzip60 our results demonstrated that expression of atbzip60 enhanced salt tolerance of transgenic cells in all transgenic lines and that improved salt tolerance was associated with increased activities of both hatpase and acid phosphatase and decreased lipid peroxidation thiobarbituric acid reactive substances in transgenic cell lines from cotton gh1 gh2 gh3 gh4 gh5 and gh6 virginia pine pv1 pv2 pv3 pv4 pv5 and pv6 white pine ps1 ps2 ps3 ps4 ps5 and ps6 and arabidopsis at1 at2 at3 at4 at5 and at6 this investigation demonstrated that the expression of atbzip60 gene in transgenic cell lines reduced saltinduced oxidative damage by increasing the activities of both hatpase and acid phosphatase and that the overexpression of atbzip60 gene could be valuable for engineering plant salt tolerance']\n",
            "[' abdominal aortic aneurysm collagen degradation matrix metalloproteinases        '\n",
            " ' agrobacteriummediated transformation atbzip60 gene transgenic cell cultures salt tolerance hatpase acid phosphatase        ']\n",
            "['biochemistry' 'biochemistry']\n",
            "['2' '2']\n"
          ]
        }
      ],
      "source": [
        "abstractsTest = test_data[:,3]\n",
        "keywordsTest = test_data[:,2]\n",
        "domainsTest = test_data[:,1]\n",
        "allLabelsTest = test_data[:,0]\n",
        "\n",
        "print(\"Number of abstracts: \",len(abstractsTest))\n",
        "print(\"Shape of abstracts: \",np.shape(abstractsTest))\n",
        "print(\"Number of keywords: \",len(keywordsTest))\n",
        "print(\"Shape of keywords: \",np.shape(keywordsTest))\n",
        "print(\"Number of domains: \",len(domainsTest))\n",
        "print(\"Shape of domains: \",np.shape(domainsTest))\n",
        "print(\"Number of labels: \",len(allLabelsTest))\n",
        "print(\"Shape of labels: \",np.shape(allLabelsTest))\n",
        "\n",
        "# arr = np.array(domainsTest)\n",
        "# cleaned_domains = np.char.strip(arr)\n",
        "# print(\"Cleaned arr \", cleaned_domains)\n",
        "# domainsLabelsTest = cleaned_domains\n",
        "# print(\"Labels domains \", domainsLabelsTest)\n",
        "\n",
        "print(abstractsTest[0:2])\n",
        "print(keywordsTest[0:2])\n",
        "print(domainsTest[0:2])\n",
        "print(allLabelsTest[0:2])"
      ]
    },
    {
      "cell_type": "code",
      "execution_count": 18,
      "metadata": {
        "colab": {
          "base_uri": "https://localhost:8080/",
          "height": 522
        },
        "id": "imNTasg6WXUJ",
        "outputId": "bb793f28-84df-4ec4-92eb-cc923c93928c"
      },
      "outputs": [
        {
          "output_type": "stream",
          "name": "stdout",
          "text": [
            "Labels  ['ECE' 'Psychology' 'biochemistry']\n",
            "Label counts  [267 320 561]\n"
          ]
        },
        {
          "output_type": "display_data",
          "data": {
            "text/plain": [
              "<Figure size 1000x600 with 1 Axes>"
            ],
            "image/png": "[encoded data removed]"
          },
          "metadata": {}
        },
        {
          "output_type": "stream",
          "name": "stdout",
          "text": [
            "The domain ECE has 267 records in the test set.\n",
            "The domain Psychology has 320 records in the test set.\n",
            "The domain biochemistry has 561 records in the test set.\n"
          ]
        }
      ],
      "source": [
        "labels = np.unique(domainsTest, return_counts=True)[0]\n",
        "labelCounts =  np.unique(domainsTest, return_counts=True)[1]\n",
        "\n",
        "print(\"Labels \", labels)\n",
        "print(\"Label counts \", labelCounts)\n",
        "\n",
        "nAbstract = len(abstractsTest)\n",
        "plt.figure(figsize=(10, 6))\n",
        "plt.title(\"Domain Counts (Test Set)\")\n",
        "plt.pie(labelCounts, labels=labels, autopct='%1.1f%%', startangle=140, colors=plt.cm.Paired(range(len(labels))))\n",
        "plt.axis('equal')  # Equal aspect ratio ensures that pie is drawn as a circle.\n",
        "plt.show()\n",
        "\n",
        "for i, domain in enumerate(labels):\n",
        "    print(\"The domain\", domain, \"has\", labelCounts[i], \"records in the test set.\")"
      ]
    },
    {
      "cell_type": "code",
      "execution_count": 19,
      "metadata": {
        "colab": {
          "base_uri": "https://localhost:8080/"
        },
        "id": "sPFav1v1WXUJ",
        "outputId": "af00d228-26ae-45b1-e6ea-bc4e322d539b"
      },
      "outputs": [
        {
          "output_type": "stream",
          "name": "stdout",
          "text": [
            "Number of abstracts:  230\n",
            "Shape of abstracts:  (230,)\n",
            "Number of keywords:  230\n",
            "Shape of keywords:  (230,)\n",
            "Number of domains:  230\n",
            "Shape of domains:  (230,)\n",
            "Number of labels:  230\n",
            "Shape of labels:  (230,)\n",
            "['we detected luteinizing hormone receptor lhr mrna in the immature rat uterus by northern blotting and downregulation of this receptor mrna after pregnant mare serum gonadotropin pmsghuman chorionic gonadotropin hcg treatment after administration of hcg the mrna levels in the rat uterus declined to an extremely low level from days 1 to 3 and then rebounded and reached higher than pretreatment values at day 4 at day 5 the levels were 3fold higher than the control levels the cultured uterus displayed an hcg concentrationdependent increase in camp production in the medium immunohistochemical experiments showed that these receptor proteins were expressed in the epithelial cells of the endometrium these results suggest that functional lhrs are present in the immature rat uterus and are downregulated by signals resulting from hcg treatment these data may support the idea that lh acts on the uterus to inhibit contraction at ovulation although the precise role of the lhr in the uterus remains unknown this study may provide a model with which to investigate the regulation of lhr'\n",
            " 'in the present study two novel dominant genera ie advenella kashmirensis and desulfovibrio aminophilus in consortium as confirmed by illuminamiseq has been used in the anode side of a microbial fuel cell reactor to find out the influence of cathode environment on cell performance a model terminal electron acceptor tea kmno4 at different phs has been used in the cathode side an oxidation peak obtained at 0478 vs agagci 0281 v vs she corresponding to s0h2s 0280v vs she in cyclic voltammogram confirms the complete mineralization of sulphate to biogenic elemental sulphur in accordance with the microbial community higher cathodic ph 10 has a detrimental effect on the cell performance as the power density is reduced to half to that for aqkmno4 ph  686 catholyte solution resistance is found to be low for aqkmno460 ohm and high ie 1245 ohm for aqkmno4 with ph  10 which corroborates to highest power density obtained for aqkmno4 buffering of the catholyte provided stability to the system with lowest internal resistance of 40 ohm and comparable performance the highest current density 25 am3 and power density 78 wm3 is obtained with aqueous kmno4 at ph 686 the developed consortium can be successfully utilized in microbial fuel cells for simultaneous electricity generation and wastewater treatment c 2017 elsevier bv all rights reserved']\n",
            "[' luteinizing hormone receptor uterus luteinizing hormone human chorionic gonadotropin down regulation        '\n",
            " ' microbial fuel cell srb sob kmno4 catholyte ph effect cell performance landfill leachate        ']\n",
            "['biochemistry' 'ECE']\n",
            "['2' '0']\n"
          ]
        }
      ],
      "source": [
        "abstractsVal = val_data[:,3]\n",
        "keywordsVal = val_data[:,2]\n",
        "domainsVal = val_data[:,1]\n",
        "allLabelsVal = val_data[:,0]\n",
        "\n",
        "print(\"Number of abstracts: \",len(abstractsVal))\n",
        "print(\"Shape of abstracts: \",np.shape(abstractsVal))\n",
        "print(\"Number of keywords: \",len(keywordsVal))\n",
        "print(\"Shape of keywords: \",np.shape(keywordsVal))\n",
        "print(\"Number of domains: \",len(domainsVal))\n",
        "print(\"Shape of domains: \",np.shape(domainsVal))\n",
        "print(\"Number of labels: \",len(allLabelsVal))\n",
        "print(\"Shape of labels: \",np.shape(allLabelsVal))\n",
        "\n",
        "print(abstractsVal[0:2])\n",
        "print(keywordsVal[0:2])\n",
        "print(domainsVal[0:2])\n",
        "print(allLabelsVal[0:2])"
      ]
    },
    {
      "cell_type": "code",
      "execution_count": 20,
      "metadata": {
        "colab": {
          "base_uri": "https://localhost:8080/",
          "height": 518
        },
        "id": "qW_P1Zn6WXUJ",
        "outputId": "3c2f781e-9df6-4e3e-cb26-c268160cc426"
      },
      "outputs": [
        {
          "output_type": "stream",
          "name": "stdout",
          "text": [
            "Labels  ['ECE' 'Psychology' 'biochemistry']\n",
            "Label counts  [ 62  58 110]\n"
          ]
        },
        {
          "output_type": "display_data",
          "data": {
            "text/plain": [
              "<Figure size 1000x600 with 1 Axes>"
            ],
            "image/png": "[encoded data removed]"
          },
          "metadata": {}
        },
        {
          "output_type": "stream",
          "name": "stdout",
          "text": [
            "The domain ECE has 62 records in the vaidation set.\n",
            "The domain Psychology has 58 records in the vaidation set.\n",
            "The domain biochemistry has 110 records in the vaidation set.\n"
          ]
        }
      ],
      "source": [
        "labels = np.unique(domainsVal, return_counts=True)[0]\n",
        "labelCounts =  np.unique(domainsVal, return_counts=True)[1]\n",
        "\n",
        "print(\"Labels \", labels)\n",
        "print(\"Label counts \", labelCounts)\n",
        "\n",
        "nAbstract = len(abstractsVal)\n",
        "plt.figure(figsize=(10, 6))\n",
        "plt.title(\"Domain Counts (Validation Set)\")\n",
        "plt.pie(labelCounts, labels=labels, autopct='%1.1f%%', startangle=140, colors=plt.cm.Paired(range(len(labels))))\n",
        "plt.axis('equal')  # Equal aspect ratio ensures that pie is drawn as a circle.\n",
        "plt.show()\n",
        "\n",
        "for i, domain in enumerate(labels):\n",
        "    print(\"The domain\", domain, \"has\", labelCounts[i], \"records in the vaidation set.\")"
      ]
    },
    {
      "cell_type": "code",
      "execution_count": 21,
      "metadata": {
        "id": "AewCWU8XWXUJ"
      },
      "outputs": [],
      "source": [
        "# Function to tokenize and encode the dataset\n",
        "def encode_data(data, tokenizer, max_length=128):\n",
        "    # print(len(data[:,2]))\n",
        "    inputs = tokenizer(\n",
        "        data[:,2].tolist(), # keywords\n",
        "        max_length=max_length,\n",
        "        padding='max_length',\n",
        "        truncation=True,\n",
        "        return_tensors=\"pt\"\n",
        "    )\n",
        "    # print(len(dataShuffled[:, 0]))\n",
        "    labels = torch.tensor(data[:, 0].astype(int))\n",
        "    print(\"Label length \", len(labels))\n",
        "    return TensorDataset(inputs['input_ids'], inputs['attention_mask'], labels)"
      ]
    },
    {
      "cell_type": "code",
      "execution_count": 22,
      "metadata": {
        "colab": {
          "base_uri": "https://localhost:8080/"
        },
        "id": "qosmRYrmWXUJ",
        "outputId": "ed74ff2b-b78b-4c65-f9be-b14e136eb4ff"
      },
      "outputs": [
        {
          "output_type": "stream",
          "name": "stdout",
          "text": [
            "(4588, 4)\n",
            "(1148, 4)\n",
            "(230, 4)\n"
          ]
        }
      ],
      "source": [
        "print(np.shape(train_data))\n",
        "print(np.shape(test_data))\n",
        "print(np.shape(val_data))\n"
      ]
    },
    {
      "cell_type": "code",
      "execution_count": 23,
      "metadata": {
        "colab": {
          "base_uri": "https://localhost:8080/"
        },
        "id": "ntqAS03ZWXUJ",
        "outputId": "ca71b4f2-68ff-4f2d-bce4-ec2565901c5b"
      },
      "outputs": [
        {
          "output_type": "stream",
          "name": "stdout",
          "text": [
            "Label length  4588\n",
            "Label length  230\n",
            "Label length  1148\n"
          ]
        }
      ],
      "source": [
        "# Encode training, validation, and testing data\n",
        "train_dataset = encode_data(train_data, tokenizer)\n",
        "val_dataset = encode_data(val_data, tokenizer)\n",
        "test_dataset = encode_data(test_data, tokenizer)\n",
        "\n",
        "\n",
        "\n",
        "# Data loaders\n",
        "train_dataloader = DataLoader(train_dataset, sampler=RandomSampler(train_dataset), batch_size=32)\n",
        "val_dataloader = DataLoader(val_dataset, sampler=SequentialSampler(val_dataset), batch_size=32)\n",
        "test_dataloader = DataLoader(test_dataset, sampler=SequentialSampler(test_dataset), batch_size=32)"
      ]
    },
    {
      "cell_type": "code",
      "source": [
        "print(np.unique(train_data[:,0]))"
      ],
      "metadata": {
        "colab": {
          "base_uri": "https://localhost:8080/"
        },
        "id": "cGH9hmFwafTf",
        "outputId": "6404b383-50b3-4699-dea9-0e373353572d"
      },
      "execution_count": 24,
      "outputs": [
        {
          "output_type": "stream",
          "name": "stdout",
          "text": [
            "['0' '1' '2']\n"
          ]
        }
      ]
    },
    {
      "cell_type": "code",
      "execution_count": 25,
      "metadata": {
        "colab": {
          "base_uri": "https://localhost:8080/",
          "height": 940,
          "referenced_widgets": [
            "39200186bcf6427fae836128f46a4776",
            "97f06b8ec01e47b4abc55a1f5111d0ce",
            "162a63b9214f4c7fad0c5939ca19b10e",
            "e7d33249e2744ce9a7dd9a39d5f12c20",
            "4af8b8486bcf4d71937286613c338641",
            "9ec7121085e14cc0b08e68ce2a343a22",
            "d72b66f10f8d44d18222ff2fb25d25b9",
            "f7884fa3919f4a72a2b442537867e61c",
            "90d0ffa2262c4f9ca72badcb45fce2f8",
            "6e198e50d942403c8515558d27b3db95",
            "ba2d14189713448dbe7fd3915b15f34a"
          ]
        },
        "id": "GWDExyfRWXUJ",
        "outputId": "2708eab9-fba4-4715-87dc-ad313072fa42"
      },
      "outputs": [
        {
          "output_type": "stream",
          "name": "stdout",
          "text": [
            "3\n"
          ]
        },
        {
          "output_type": "display_data",
          "data": {
            "text/plain": [
              "pytorch_model.bin:   0%|          | 0.00/442M [00:00<?, ?B/s]"
            ],
            "application/vnd.jupyter.widget-view+json": {
              "version_major": 2,
              "version_minor": 0,
              "model_id": "39200186bcf6427fae836128f46a4776"
            }
          },
          "metadata": {}
        },
        {
          "output_type": "stream",
          "name": "stderr",
          "text": [
            "Some weights of BertForSequenceClassification were not initialized from the model checkpoint at allenai/scibert_scivocab_uncased and are newly initialized: ['classifier.bias', 'classifier.weight']\n",
            "You should probably TRAIN this model on a down-stream task to be able to use it for predictions and inference.\n"
          ]
        },
        {
          "output_type": "execute_result",
          "data": {
            "text/plain": [
              "BertForSequenceClassification(\n",
              "  (bert): BertModel(\n",
              "    (embeddings): BertEmbeddings(\n",
              "      (word_embeddings): Embedding(31090, 768, padding_idx=0)\n",
              "      (position_embeddings): Embedding(512, 768)\n",
              "      (token_type_embeddings): Embedding(2, 768)\n",
              "      (LayerNorm): LayerNorm((768,), eps=1e-12, elementwise_affine=True)\n",
              "      (dropout): Dropout(p=0.1, inplace=False)\n",
              "    )\n",
              "    (encoder): BertEncoder(\n",
              "      (layer): ModuleList(\n",
              "        (0-11): 12 x BertLayer(\n",
              "          (attention): BertAttention(\n",
              "            (self): BertSdpaSelfAttention(\n",
              "              (query): Linear(in_features=768, out_features=768, bias=True)\n",
              "              (key): Linear(in_features=768, out_features=768, bias=True)\n",
              "              (value): Linear(in_features=768, out_features=768, bias=True)\n",
              "              (dropout): Dropout(p=0.1, inplace=False)\n",
              "            )\n",
              "            (output): BertSelfOutput(\n",
              "              (dense): Linear(in_features=768, out_features=768, bias=True)\n",
              "              (LayerNorm): LayerNorm((768,), eps=1e-12, elementwise_affine=True)\n",
              "              (dropout): Dropout(p=0.1, inplace=False)\n",
              "            )\n",
              "          )\n",
              "          (intermediate): BertIntermediate(\n",
              "            (dense): Linear(in_features=768, out_features=3072, bias=True)\n",
              "            (intermediate_act_fn): GELUActivation()\n",
              "          )\n",
              "          (output): BertOutput(\n",
              "            (dense): Linear(in_features=3072, out_features=768, bias=True)\n",
              "            (LayerNorm): LayerNorm((768,), eps=1e-12, elementwise_affine=True)\n",
              "            (dropout): Dropout(p=0.1, inplace=False)\n",
              "          )\n",
              "        )\n",
              "      )\n",
              "    )\n",
              "    (pooler): BertPooler(\n",
              "      (dense): Linear(in_features=768, out_features=768, bias=True)\n",
              "      (activation): Tanh()\n",
              "    )\n",
              "  )\n",
              "  (dropout): Dropout(p=0.1, inplace=False)\n",
              "  (classifier): Linear(in_features=768, out_features=3, bias=True)\n",
              ")"
            ]
          },
          "metadata": {},
          "execution_count": 25
        }
      ],
      "source": [
        "# Load SciBERT model\n",
        "print(len(np.unique(train_data[:,0])))\n",
        "model = AutoModelForSequenceClassification.from_pretrained(\"allenai/scibert_scivocab_uncased\", num_labels=len(np.unique(train_data[:,0])))\n",
        "device = torch.device(\"cuda\" if torch.cuda.is_available() else \"cpu\")\n",
        "model.to(device)"
      ]
    },
    {
      "cell_type": "code",
      "execution_count": 26,
      "metadata": {
        "colab": {
          "base_uri": "https://localhost:8080/"
        },
        "id": "FXZH5dFPWXUJ",
        "outputId": "26a192c4-3703-4f4e-95a5-f56225b19de8"
      },
      "outputs": [
        {
          "output_type": "execute_result",
          "data": {
            "text/plain": [
              "BertConfig {\n",
              "  \"_name_or_path\": \"allenai/scibert_scivocab_uncased\",\n",
              "  \"attention_probs_dropout_prob\": 0.1,\n",
              "  \"classifier_dropout\": null,\n",
              "  \"hidden_act\": \"gelu\",\n",
              "  \"hidden_dropout_prob\": 0.1,\n",
              "  \"hidden_size\": 768,\n",
              "  \"id2label\": {\n",
              "    \"0\": \"LABEL_0\",\n",
              "    \"1\": \"LABEL_1\",\n",
              "    \"2\": \"LABEL_2\"\n",
              "  },\n",
              "  \"initializer_range\": 0.02,\n",
              "  \"intermediate_size\": 3072,\n",
              "  \"label2id\": {\n",
              "    \"LABEL_0\": 0,\n",
              "    \"LABEL_1\": 1,\n",
              "    \"LABEL_2\": 2\n",
              "  },\n",
              "  \"layer_norm_eps\": 1e-12,\n",
              "  \"max_position_embeddings\": 512,\n",
              "  \"model_type\": \"bert\",\n",
              "  \"num_attention_heads\": 12,\n",
              "  \"num_hidden_layers\": 12,\n",
              "  \"pad_token_id\": 0,\n",
              "  \"position_embedding_type\": \"absolute\",\n",
              "  \"transformers_version\": \"4.42.4\",\n",
              "  \"type_vocab_size\": 2,\n",
              "  \"use_cache\": true,\n",
              "  \"vocab_size\": 31090\n",
              "}"
            ]
          },
          "metadata": {},
          "execution_count": 26
        }
      ],
      "source": [
        "model.config"
      ]
    },
    {
      "cell_type": "code",
      "execution_count": 27,
      "metadata": {
        "colab": {
          "base_uri": "https://localhost:8080/"
        },
        "id": "SXpJq-t0WXUJ",
        "outputId": "8bf17dfd-006b-48c9-cea0-cba6b0a59e16"
      },
      "outputs": [
        {
          "output_type": "stream",
          "name": "stderr",
          "text": [
            "/usr/local/lib/python3.10/dist-packages/transformers/optimization.py:591: FutureWarning: This implementation of AdamW is deprecated and will be removed in a future version. Use the PyTorch implementation torch.optim.AdamW instead, or set `no_deprecation_warning=True` to disable this warning\n",
            "  warnings.warn(\n"
          ]
        }
      ],
      "source": [
        "# Optimizer and learning rate scheduler\n",
        "optimizer = AdamW(model.parameters(), lr=2e-5, eps=1e-8)\n",
        "total_steps = len(train_dataloader) * 20\n",
        "num_warmup_steps = 1e-4\n",
        "scheduler = get_linear_schedule_with_warmup(optimizer, num_warmup_steps=num_warmup_steps, num_training_steps=total_steps)"
      ]
    },
    {
      "cell_type": "code",
      "execution_count": 28,
      "metadata": {
        "id": "PL4PtJ4_WXUJ"
      },
      "outputs": [],
      "source": [
        "def calculate_metrics(valType, predictions, true_labels):\n",
        "    # Confusion matrix\n",
        "    if(valType == 'test'):\n",
        "        cm = confusion_matrix(true_labels, predictions)\n",
        "        print(\"Confusion Matrix:\\n\", cm)\n",
        "\n",
        "        # Classification report (includes precision, recall, F1 score)\n",
        "        report = classification_report(true_labels, predictions, target_names=[str(i) for i in range(len(np.unique(true_labels)))])\n",
        "        print(\"\\nClassification Report:\\n\", report)\n",
        "\n",
        "        # Calculate different types of F1 scores, precision, and recall\n",
        "        f1_macro = f1_score(true_labels, predictions, average='macro')\n",
        "        f1_micro = f1_score(true_labels, predictions, average='micro')\n",
        "        f1_weighted = f1_score(true_labels, predictions, average='weighted')\n",
        "\n",
        "        precision_macro = precision_score(true_labels, predictions, average='macro')\n",
        "        precision_micro = precision_score(true_labels, predictions, average='micro')\n",
        "        precision_weighted = precision_score(true_labels, predictions, average='weighted')\n",
        "\n",
        "        recall_macro = recall_score(true_labels, predictions, average='macro')\n",
        "        recall_micro = recall_score(true_labels, predictions, average='micro')\n",
        "        recall_weighted = recall_score(true_labels, predictions, average='weighted')\n",
        "\n",
        "        print(f\"Macro F1 Score: {f1_macro}\")\n",
        "        print(f\"Micro F1 Score: {f1_micro}\")\n",
        "        print(f\"Weighted F1 Score: {f1_weighted}\")\n",
        "\n",
        "        print(f\"Macro Precision: {precision_macro}\")\n",
        "        print(f\"Micro Precision: {precision_micro}\")\n",
        "        print(f\"Weighted Precision: {precision_weighted}\")\n",
        "\n",
        "        print(f\"Macro Recall: {recall_macro}\")\n",
        "        print(f\"Micro Recall: {recall_micro}\")\n",
        "        print(f\"Weighted Recall: {recall_weighted}\")\n",
        "\n",
        "    elif(valType == 'val'):\n",
        "        cm = confusion_matrix(true_labels, predictions)\n",
        "        f1_macro = f1_score(true_labels, predictions, average='macro')\n",
        "        f1_micro = f1_score(true_labels, predictions, average='micro')\n",
        "        f1_weighted = f1_score(true_labels, predictions, average='weighted')\n",
        "\n",
        "        precision_macro = precision_score(true_labels, predictions, average='macro')\n",
        "        precision_micro = precision_score(true_labels, predictions, average='micro')\n",
        "        precision_weighted = precision_score(true_labels, predictions, average='weighted')\n",
        "\n",
        "        recall_macro = recall_score(true_labels, predictions, average='macro')\n",
        "        recall_micro = recall_score(true_labels, predictions, average='micro')\n",
        "        recall_weighted = recall_score(true_labels, predictions, average='weighted')\n",
        "        # print('Val Micro F1:', f1_micro)\n",
        "        return f1_micro"
      ]
    },
    {
      "cell_type": "code",
      "execution_count": 29,
      "metadata": {
        "colab": {
          "base_uri": "https://localhost:8080/"
        },
        "id": "aAhwPA8HWXUJ",
        "outputId": "1ae96e5a-a7d1-43bd-e43a-9bff117da03a"
      },
      "outputs": [
        {
          "output_type": "stream",
          "name": "stderr",
          "text": [
            "Epoch 1/20: 100%|██████████| 144/144 [01:22<00:00,  1.75batch/s]\n"
          ]
        },
        {
          "output_type": "stream",
          "name": "stdout",
          "text": [
            "Epoch 1/20\n",
            "  Train Loss: 0.2918544799969014\n",
            "  Val Micro F1: 0.9391304347826087\n",
            "  Time: 1m 24s\n"
          ]
        },
        {
          "output_type": "stream",
          "name": "stderr",
          "text": [
            "Epoch 2/20: 100%|██████████| 144/144 [01:26<00:00,  1.67batch/s]\n"
          ]
        },
        {
          "output_type": "stream",
          "name": "stdout",
          "text": [
            "Epoch 2/20\n",
            "  Train Loss: 0.14990263242766055\n",
            "  Val Micro F1: 0.9304347826086956\n",
            "  Time: 1m 28s\n"
          ]
        },
        {
          "output_type": "stream",
          "name": "stderr",
          "text": [
            "Epoch 3/20: 100%|██████████| 144/144 [01:29<00:00,  1.61batch/s]\n"
          ]
        },
        {
          "output_type": "stream",
          "name": "stdout",
          "text": [
            "Epoch 3/20\n",
            "  Train Loss: 0.08471893307675298\n",
            "  Val Micro F1: 0.9260869565217392\n",
            "  Time: 1m 31s\n"
          ]
        },
        {
          "output_type": "stream",
          "name": "stderr",
          "text": [
            "Epoch 4/20: 100%|██████████| 144/144 [01:29<00:00,  1.62batch/s]\n"
          ]
        },
        {
          "output_type": "stream",
          "name": "stdout",
          "text": [
            "Epoch 4/20\n",
            "  Train Loss: 0.05318951098565271\n",
            "  Val Micro F1: 0.9478260869565217\n",
            "  Time: 1m 31s\n"
          ]
        },
        {
          "output_type": "stream",
          "name": "stderr",
          "text": [
            "Epoch 5/20: 100%|██████████| 144/144 [01:28<00:00,  1.62batch/s]\n"
          ]
        },
        {
          "output_type": "stream",
          "name": "stdout",
          "text": [
            "Epoch 5/20\n",
            "  Train Loss: 0.023768353552441113\n",
            "  Val Micro F1: 0.9304347826086956\n",
            "  Time: 1m 30s\n"
          ]
        },
        {
          "output_type": "stream",
          "name": "stderr",
          "text": [
            "Epoch 6/20: 100%|██████████| 144/144 [01:29<00:00,  1.62batch/s]\n"
          ]
        },
        {
          "output_type": "stream",
          "name": "stdout",
          "text": [
            "Epoch 6/20\n",
            "  Train Loss: 0.01276540500010823\n",
            "  Val Micro F1: 0.9347826086956522\n",
            "  Time: 1m 31s\n"
          ]
        },
        {
          "output_type": "stream",
          "name": "stderr",
          "text": [
            "Epoch 7/20: 100%|██████████| 144/144 [01:28<00:00,  1.62batch/s]\n"
          ]
        },
        {
          "output_type": "stream",
          "name": "stdout",
          "text": [
            "Epoch 7/20\n",
            "  Train Loss: 0.0035221916031231456\n",
            "  Val Micro F1: 0.9304347826086956\n",
            "  Time: 1m 30s\n"
          ]
        },
        {
          "output_type": "stream",
          "name": "stderr",
          "text": [
            "Epoch 8/20: 100%|██████████| 144/144 [01:29<00:00,  1.62batch/s]\n"
          ]
        },
        {
          "output_type": "stream",
          "name": "stdout",
          "text": [
            "Epoch 8/20\n",
            "  Train Loss: 0.004012231271291158\n",
            "  Val Micro F1: 0.9347826086956522\n",
            "  Time: 1m 31s\n"
          ]
        },
        {
          "output_type": "stream",
          "name": "stderr",
          "text": [
            "Epoch 9/20: 100%|██████████| 144/144 [01:29<00:00,  1.62batch/s]\n"
          ]
        },
        {
          "output_type": "stream",
          "name": "stdout",
          "text": [
            "Epoch 9/20\n",
            "  Train Loss: 0.0033926597686028495\n",
            "  Val Micro F1: 0.9347826086956522\n",
            "  Time: 1m 31s\n"
          ]
        },
        {
          "output_type": "stream",
          "name": "stderr",
          "text": [
            "Epoch 10/20: 100%|██████████| 144/144 [01:28<00:00,  1.62batch/s]\n"
          ]
        },
        {
          "output_type": "stream",
          "name": "stdout",
          "text": [
            "Epoch 10/20\n",
            "  Train Loss: 0.0017420546154325064\n",
            "  Val Micro F1: 0.9260869565217392\n",
            "  Time: 1m 31s\n"
          ]
        },
        {
          "output_type": "stream",
          "name": "stderr",
          "text": [
            "Epoch 11/20: 100%|██████████| 144/144 [01:29<00:00,  1.62batch/s]\n"
          ]
        },
        {
          "output_type": "stream",
          "name": "stdout",
          "text": [
            "Epoch 11/20\n",
            "  Train Loss: 0.0007364170967068478\n",
            "  Val Micro F1: 0.9260869565217392\n",
            "  Time: 1m 31s\n"
          ]
        },
        {
          "output_type": "stream",
          "name": "stderr",
          "text": [
            "Epoch 12/20: 100%|██████████| 144/144 [01:29<00:00,  1.62batch/s]\n"
          ]
        },
        {
          "output_type": "stream",
          "name": "stdout",
          "text": [
            "Epoch 12/20\n",
            "  Train Loss: 0.0003392653740977241\n",
            "  Val Micro F1: 0.9260869565217392\n",
            "  Time: 1m 31s\n"
          ]
        },
        {
          "output_type": "stream",
          "name": "stderr",
          "text": [
            "Epoch 13/20: 100%|██████████| 144/144 [01:29<00:00,  1.62batch/s]\n"
          ]
        },
        {
          "output_type": "stream",
          "name": "stdout",
          "text": [
            "Epoch 13/20\n",
            "  Train Loss: 0.0013644230557979932\n",
            "  Val Micro F1: 0.9304347826086956\n",
            "  Time: 1m 31s\n"
          ]
        },
        {
          "output_type": "stream",
          "name": "stderr",
          "text": [
            "Epoch 14/20: 100%|██████████| 144/144 [01:29<00:00,  1.62batch/s]\n"
          ]
        },
        {
          "output_type": "stream",
          "name": "stdout",
          "text": [
            "Epoch 14/20\n",
            "  Train Loss: 0.00013217413783826891\n",
            "  Val Micro F1: 0.9304347826086956\n",
            "  Time: 1m 31s\n"
          ]
        },
        {
          "output_type": "stream",
          "name": "stderr",
          "text": [
            "Epoch 15/20: 100%|██████████| 144/144 [01:28<00:00,  1.62batch/s]\n"
          ]
        },
        {
          "output_type": "stream",
          "name": "stdout",
          "text": [
            "Epoch 15/20\n",
            "  Train Loss: 9.645603338665549e-05\n",
            "  Val Micro F1: 0.9304347826086956\n",
            "  Time: 1m 30s\n"
          ]
        },
        {
          "output_type": "stream",
          "name": "stderr",
          "text": [
            "Epoch 16/20: 100%|██████████| 144/144 [01:28<00:00,  1.62batch/s]\n"
          ]
        },
        {
          "output_type": "stream",
          "name": "stdout",
          "text": [
            "Epoch 16/20\n",
            "  Train Loss: 0.00044495122817049076\n",
            "  Val Micro F1: 0.9304347826086956\n",
            "  Time: 1m 31s\n"
          ]
        },
        {
          "output_type": "stream",
          "name": "stderr",
          "text": [
            "Epoch 17/20: 100%|██████████| 144/144 [01:29<00:00,  1.62batch/s]\n"
          ]
        },
        {
          "output_type": "stream",
          "name": "stdout",
          "text": [
            "Epoch 17/20\n",
            "  Train Loss: 8.870685986847902e-05\n",
            "  Val Micro F1: 0.9347826086956522\n",
            "  Time: 1m 31s\n"
          ]
        },
        {
          "output_type": "stream",
          "name": "stderr",
          "text": [
            "Epoch 18/20: 100%|██████████| 144/144 [01:28<00:00,  1.62batch/s]\n"
          ]
        },
        {
          "output_type": "stream",
          "name": "stdout",
          "text": [
            "Epoch 18/20\n",
            "  Train Loss: 8.049063474876068e-05\n",
            "  Val Micro F1: 0.9347826086956522\n",
            "  Time: 1m 30s\n"
          ]
        },
        {
          "output_type": "stream",
          "name": "stderr",
          "text": [
            "Epoch 19/20: 100%|██████████| 144/144 [01:28<00:00,  1.62batch/s]\n"
          ]
        },
        {
          "output_type": "stream",
          "name": "stdout",
          "text": [
            "Epoch 19/20\n",
            "  Train Loss: 0.0007622466481128262\n",
            "  Val Micro F1: 0.9347826086956522\n",
            "  Time: 1m 30s\n"
          ]
        },
        {
          "output_type": "stream",
          "name": "stderr",
          "text": [
            "Epoch 20/20: 100%|██████████| 144/144 [01:29<00:00,  1.62batch/s]\n"
          ]
        },
        {
          "output_type": "stream",
          "name": "stdout",
          "text": [
            "Epoch 20/20\n",
            "  Train Loss: 8.392658345554891e-05\n",
            "  Val Micro F1: 0.9391304347826087\n",
            "  Time: 1m 31s\n"
          ]
        }
      ],
      "source": [
        "epochs = 20\n",
        "for epoch in range(epochs):\n",
        "    model.train()\n",
        "    total_train_loss = 0\n",
        "    start_time = time.time()\n",
        "\n",
        "    # Training\n",
        "    for step, batch in enumerate(tqdm(train_dataloader, desc=f\"Epoch {epoch + 1}/{epochs}\", unit=\"batch\")):\n",
        "        batch = tuple(t.to(device) for t in batch)\n",
        "        input_ids, input_mask, labels = batch\n",
        "\n",
        "\n",
        "        model.zero_grad()\n",
        "        outputs = model(input_ids=input_ids, attention_mask=input_mask, labels=labels)\n",
        "        loss = outputs.loss\n",
        "        total_train_loss += loss.item()\n",
        "\n",
        "        loss.backward()\n",
        "        torch.nn.utils.clip_grad_norm_(model.parameters(), max_norm=1.0)\n",
        "        optimizer.step()\n",
        "        scheduler.step()\n",
        "\n",
        "    avg_train_loss = total_train_loss / len(train_dataloader)\n",
        "\n",
        "    # Validation\n",
        "    model.eval()\n",
        "    predictions = []\n",
        "    true_labels = []\n",
        "\n",
        "    for batch in val_dataloader:\n",
        "        batch = tuple(t.to(device) for t in batch)\n",
        "        input_ids, input_mask, labels = batch\n",
        "\n",
        "        with torch.no_grad():\n",
        "            outputs = model(input_ids=input_ids, attention_mask=input_mask)\n",
        "            logits = outputs.logits\n",
        "\n",
        "        logits = logits.detach().cpu().numpy()\n",
        "        label_ids = labels.to('cpu').numpy()\n",
        "\n",
        "        batch_predictions = np.argmax(logits, axis=1)\n",
        "        predictions.extend(batch_predictions)\n",
        "        true_labels.extend(label_ids)\n",
        "\n",
        "    val_micro_f1 = calculate_metrics('val', predictions, true_labels)\n",
        "    elapsed_time = time.time() - start_time\n",
        "\n",
        "    # Print epoch summary\n",
        "    print(f\"Epoch {epoch + 1}/{epochs}\")\n",
        "    print(f\"  Train Loss: {avg_train_loss}\")\n",
        "    print(f\"  Val Micro F1: {val_micro_f1}\")\n",
        "    print(f\"  Time: {elapsed_time // 60:.0f}m {elapsed_time % 60:.0f}s\")"
      ]
    },
    {
      "cell_type": "code",
      "execution_count": 30,
      "metadata": {
        "colab": {
          "base_uri": "https://localhost:8080/"
        },
        "id": "eySPoilnWXUJ",
        "outputId": "83ce37c7-2ca7-4409-fcbc-6bdbe6af2442"
      },
      "outputs": [
        {
          "output_type": "stream",
          "name": "stdout",
          "text": [
            "Confusion Matrix:\n",
            " [[254   8   5]\n",
            " [ 14 291  15]\n",
            " [  3  22 536]]\n",
            "\n",
            "Classification Report:\n",
            "               precision    recall  f1-score   support\n",
            "\n",
            "           0       0.94      0.95      0.94       267\n",
            "           1       0.91      0.91      0.91       320\n",
            "           2       0.96      0.96      0.96       561\n",
            "\n",
            "    accuracy                           0.94      1148\n",
            "   macro avg       0.94      0.94      0.94      1148\n",
            "weighted avg       0.94      0.94      0.94      1148\n",
            "\n",
            "Macro F1 Score: 0.9373025849403579\n",
            "Micro F1 Score: 0.9416376306620209\n",
            "Weighted F1 Score: 0.9416871339724079\n",
            "Macro Precision: 0.9359467352489702\n",
            "Micro Precision: 0.9416376306620209\n",
            "Weighted Precision: 0.9417809445453331\n",
            "Macro Recall: 0.9387075271886078\n",
            "Micro Recall: 0.9416376306620209\n",
            "Weighted Recall: 0.9416376306620209\n"
          ]
        }
      ],
      "source": [
        "# Evaluation\n",
        "model.eval()\n",
        "predictions = []\n",
        "true_labels = []\n",
        "\n",
        "for batch in test_dataloader:\n",
        "    batch = tuple(t.to(device) for t in batch)\n",
        "    input_ids, input_mask, labels = batch\n",
        "\n",
        "    with torch.no_grad():\n",
        "        outputs = model(input_ids=input_ids, attention_mask=input_mask)\n",
        "        logits = outputs.logits\n",
        "\n",
        "    logits = logits.detach().cpu().numpy()\n",
        "    label_ids = labels.to('cpu').numpy()\n",
        "\n",
        "    batch_predictions = np.argmax(logits, axis=1)\n",
        "    predictions.extend(batch_predictions)\n",
        "    true_labels.extend(label_ids)\n",
        "\n",
        "# Calculate and print metrics\n",
        "calculate_metrics('test', predictions, true_labels)"
      ]
    },
    {
      "cell_type": "code",
      "execution_count": 31,
      "metadata": {
        "id": "GDaeLSDEWXUJ"
      },
      "outputs": [],
      "source": [
        "model.save_pretrained('/content/drive/MyDrive/WoS/SciBERT_WoS_Keywords_5736')"
      ]
    },
    {
      "cell_type": "code",
      "source": [
        "runtime.unassign()"
      ],
      "metadata": {
        "id": "al5m_MWpULLW"
      },
      "execution_count": null,
      "outputs": []
    }
  ],
  "metadata": {
    "language_info": {
      "name": "python"
    },
    "colab": {
      "provenance": [],
      "gpuType": "T4"
    },
    "kernelspec": {
      "name": "python3",
      "display_name": "Python 3"
    },
    "accelerator": "GPU",
    "widgets": {
      "application/vnd.jupyter.widget-state+json": {
        "b7594057ccc045b8864c3d7a521c3b8e": {
          "model_module": "@jupyter-widgets/controls",
          "model_name": "HBoxModel",
          "model_module_version": "1.5.0",
          "state": {
            "_dom_classes": [],
            "_model_module": "@jupyter-widgets/controls",
            "_model_module_version": "1.5.0",
            "_model_name": "HBoxModel",
            "_view_count": null,
            "_view_module": "@jupyter-widgets/controls",
            "_view_module_version": "1.5.0",
            "_view_name": "HBoxView",
            "box_style": "",
            "children": [
              "IPY_MODEL_879206303a5d4bd88bbde5d2855c05e4",
              "IPY_MODEL_8b2f9b21d46e41e881f2fa13343f600a",
              "IPY_MODEL_ae13b2bb5f9b4883843310a76b1b10b9"
            ],
            "layout": "IPY_MODEL_2da333b030bf47c2ae6af9be42d20f17"
          }
        },
        "879206303a5d4bd88bbde5d2855c05e4": {
          "model_module": "@jupyter-widgets/controls",
          "model_name": "HTMLModel",
          "model_module_version": "1.5.0",
          "state": {
            "_dom_classes": [],
            "_model_module": "@jupyter-widgets/controls",
            "_model_module_version": "1.5.0",
            "_model_name": "HTMLModel",
            "_view_count": null,
            "_view_module": "@jupyter-widgets/controls",
            "_view_module_version": "1.5.0",
            "_view_name": "HTMLView",
            "description": "",
            "description_tooltip": null,
            "layout": "IPY_MODEL_b2711cf72b8b4d5898196c287aa3fb09",
            "placeholder": "​",
            "style": "IPY_MODEL_b195ef38c90b4bcdae4777f241d9f88b",
            "value": "config.json: 100%"
          }
        },
        "8b2f9b21d46e41e881f2fa13343f600a": {
          "model_module": "@jupyter-widgets/controls",
          "model_name": "FloatProgressModel",
          "model_module_version": "1.5.0",
          "state": {
            "_dom_classes": [],
            "_model_module": "@jupyter-widgets/controls",
            "_model_module_version": "1.5.0",
            "_model_name": "FloatProgressModel",
            "_view_count": null,
            "_view_module": "@jupyter-widgets/controls",
            "_view_module_version": "1.5.0",
            "_view_name": "ProgressView",
            "bar_style": "success",
            "description": "",
            "description_tooltip": null,
            "layout": "IPY_MODEL_5b31dfcec5b2475998afd0d4d04fcb5c",
            "max": 385,
            "min": 0,
            "orientation": "horizontal",
            "style": "IPY_MODEL_64b5cf3758b2483eace9c3c19a07a1db",
            "value": 385
          }
        },
        "ae13b2bb5f9b4883843310a76b1b10b9": {
          "model_module": "@jupyter-widgets/controls",
          "model_name": "HTMLModel",
          "model_module_version": "1.5.0",
          "state": {
            "_dom_classes": [],
            "_model_module": "@jupyter-widgets/controls",
            "_model_module_version": "1.5.0",
            "_model_name": "HTMLModel",
            "_view_count": null,
            "_view_module": "@jupyter-widgets/controls",
            "_view_module_version": "1.5.0",
            "_view_name": "HTMLView",
            "description": "",
            "description_tooltip": null,
            "layout": "IPY_MODEL_7595a57c5afa4ff486d214fa2d9d05da",
            "placeholder": "​",
            "style": "IPY_MODEL_05be5bfe29f5442bacc78cd1ea798686",
            "value": " 385/385 [00:00&lt;00:00, 15.9kB/s]"
          }
        },
        "2da333b030bf47c2ae6af9be42d20f17": {
          "model_module": "@jupyter-widgets/base",
          "model_name": "LayoutModel",
          "model_module_version": "1.2.0",
          "state": {
            "_model_module": "@jupyter-widgets/base",
            "_model_module_version": "1.2.0",
            "_model_name": "LayoutModel",
            "_view_count": null,
            "_view_module": "@jupyter-widgets/base",
            "_view_module_version": "1.2.0",
            "_view_name": "LayoutView",
            "align_content": null,
            "align_items": null,
            "align_self": null,
            "border": null,
            "bottom": null,
            "display": null,
            "flex": null,
            "flex_flow": null,
            "grid_area": null,
            "grid_auto_columns": null,
            "grid_auto_flow": null,
            "grid_auto_rows": null,
            "grid_column": null,
            "grid_gap": null,
            "grid_row": null,
            "grid_template_areas": null,
            "grid_template_columns": null,
            "grid_template_rows": null,
            "height": null,
            "justify_content": null,
            "justify_items": null,
            "left": null,
            "margin": null,
            "max_height": null,
            "max_width": null,
            "min_height": null,
            "min_width": null,
            "object_fit": null,
            "object_position": null,
            "order": null,
            "overflow": null,
            "overflow_x": null,
            "overflow_y": null,
            "padding": null,
            "right": null,
            "top": null,
            "visibility": null,
            "width": null
          }
        },
        "b2711cf72b8b4d5898196c287aa3fb09": {
          "model_module": "@jupyter-widgets/base",
          "model_name": "LayoutModel",
          "model_module_version": "1.2.0",
          "state": {
            "_model_module": "@jupyter-widgets/base",
            "_model_module_version": "1.2.0",
            "_model_name": "LayoutModel",
            "_view_count": null,
            "_view_module": "@jupyter-widgets/base",
            "_view_module_version": "1.2.0",
            "_view_name": "LayoutView",
            "align_content": null,
            "align_items": null,
            "align_self": null,
            "border": null,
            "bottom": null,
            "display": null,
            "flex": null,
            "flex_flow": null,
            "grid_area": null,
            "grid_auto_columns": null,
            "grid_auto_flow": null,
            "grid_auto_rows": null,
            "grid_column": null,
            "grid_gap": null,
            "grid_row": null,
            "grid_template_areas": null,
            "grid_template_columns": null,
            "grid_template_rows": null,
            "height": null,
            "justify_content": null,
            "justify_items": null,
            "left": null,
            "margin": null,
            "max_height": null,
            "max_width": null,
            "min_height": null,
            "min_width": null,
            "object_fit": null,
            "object_position": null,
            "order": null,
            "overflow": null,
            "overflow_x": null,
            "overflow_y": null,
            "padding": null,
            "right": null,
            "top": null,
            "visibility": null,
            "width": null
          }
        },
        "b195ef38c90b4bcdae4777f241d9f88b": {
          "model_module": "@jupyter-widgets/controls",
          "model_name": "DescriptionStyleModel",
          "model_module_version": "1.5.0",
          "state": {
            "_model_module": "@jupyter-widgets/controls",
            "_model_module_version": "1.5.0",
            "_model_name": "DescriptionStyleModel",
            "_view_count": null,
            "_view_module": "@jupyter-widgets/base",
            "_view_module_version": "1.2.0",
            "_view_name": "StyleView",
            "description_width": ""
          }
        },
        "5b31dfcec5b2475998afd0d4d04fcb5c": {
          "model_module": "@jupyter-widgets/base",
          "model_name": "LayoutModel",
          "model_module_version": "1.2.0",
          "state": {
            "_model_module": "@jupyter-widgets/base",
            "_model_module_version": "1.2.0",
            "_model_name": "LayoutModel",
            "_view_count": null,
            "_view_module": "@jupyter-widgets/base",
            "_view_module_version": "1.2.0",
            "_view_name": "LayoutView",
            "align_content": null,
            "align_items": null,
            "align_self": null,
            "border": null,
            "bottom": null,
            "display": null,
            "flex": null,
            "flex_flow": null,
            "grid_area": null,
            "grid_auto_columns": null,
            "grid_auto_flow": null,
            "grid_auto_rows": null,
            "grid_column": null,
            "grid_gap": null,
            "grid_row": null,
            "grid_template_areas": null,
            "grid_template_columns": null,
            "grid_template_rows": null,
            "height": null,
            "justify_content": null,
            "justify_items": null,
            "left": null,
            "margin": null,
            "max_height": null,
            "max_width": null,
            "min_height": null,
            "min_width": null,
            "object_fit": null,
            "object_position": null,
            "order": null,
            "overflow": null,
            "overflow_x": null,
            "overflow_y": null,
            "padding": null,
            "right": null,
            "top": null,
            "visibility": null,
            "width": null
          }
        },
        "64b5cf3758b2483eace9c3c19a07a1db": {
          "model_module": "@jupyter-widgets/controls",
          "model_name": "ProgressStyleModel",
          "model_module_version": "1.5.0",
          "state": {
            "_model_module": "@jupyter-widgets/controls",
            "_model_module_version": "1.5.0",
            "_model_name": "ProgressStyleModel",
            "_view_count": null,
            "_view_module": "@jupyter-widgets/base",
            "_view_module_version": "1.2.0",
            "_view_name": "StyleView",
            "bar_color": null,
            "description_width": ""
          }
        },
        "7595a57c5afa4ff486d214fa2d9d05da": {
          "model_module": "@jupyter-widgets/base",
          "model_name": "LayoutModel",
          "model_module_version": "1.2.0",
          "state": {
            "_model_module": "@jupyter-widgets/base",
            "_model_module_version": "1.2.0",
            "_model_name": "LayoutModel",
            "_view_count": null,
            "_view_module": "@jupyter-widgets/base",
            "_view_module_version": "1.2.0",
            "_view_name": "LayoutView",
            "align_content": null,
            "align_items": null,
            "align_self": null,
            "border": null,
            "bottom": null,
            "display": null,
            "flex": null,
            "flex_flow": null,
            "grid_area": null,
            "grid_auto_columns": null,
            "grid_auto_flow": null,
            "grid_auto_rows": null,
            "grid_column": null,
            "grid_gap": null,
            "grid_row": null,
            "grid_template_areas": null,
            "grid_template_columns": null,
            "grid_template_rows": null,
            "height": null,
            "justify_content": null,
            "justify_items": null,
            "left": null,
            "margin": null,
            "max_height": null,
            "max_width": null,
            "min_height": null,
            "min_width": null,
            "object_fit": null,
            "object_position": null,
            "order": null,
            "overflow": null,
            "overflow_x": null,
            "overflow_y": null,
            "padding": null,
            "right": null,
            "top": null,
            "visibility": null,
            "width": null
          }
        },
        "05be5bfe29f5442bacc78cd1ea798686": {
          "model_module": "@jupyter-widgets/controls",
          "model_name": "DescriptionStyleModel",
          "model_module_version": "1.5.0",
          "state": {
            "_model_module": "@jupyter-widgets/controls",
            "_model_module_version": "1.5.0",
            "_model_name": "DescriptionStyleModel",
            "_view_count": null,
            "_view_module": "@jupyter-widgets/base",
            "_view_module_version": "1.2.0",
            "_view_name": "StyleView",
            "description_width": ""
          }
        },
        "55e14a4360d946b4b0d723b301de95b2": {
          "model_module": "@jupyter-widgets/controls",
          "model_name": "HBoxModel",
          "model_module_version": "1.5.0",
          "state": {
            "_dom_classes": [],
            "_model_module": "@jupyter-widgets/controls",
            "_model_module_version": "1.5.0",
            "_model_name": "HBoxModel",
            "_view_count": null,
            "_view_module": "@jupyter-widgets/controls",
            "_view_module_version": "1.5.0",
            "_view_name": "HBoxView",
            "box_style": "",
            "children": [
              "IPY_MODEL_08a1ff9ed6074941b1e9f8cf39500899",
              "IPY_MODEL_213ca4a7bcfd4da496593cd14a9034d2",
              "IPY_MODEL_b6b5ad10cf2c4f5d96b00b1e98270c86"
            ],
            "layout": "IPY_MODEL_5085f7deeb3d4fe3becad33d3d6ba7d3"
          }
        },
        "08a1ff9ed6074941b1e9f8cf39500899": {
          "model_module": "@jupyter-widgets/controls",
          "model_name": "HTMLModel",
          "model_module_version": "1.5.0",
          "state": {
            "_dom_classes": [],
            "_model_module": "@jupyter-widgets/controls",
            "_model_module_version": "1.5.0",
            "_model_name": "HTMLModel",
            "_view_count": null,
            "_view_module": "@jupyter-widgets/controls",
            "_view_module_version": "1.5.0",
            "_view_name": "HTMLView",
            "description": "",
            "description_tooltip": null,
            "layout": "IPY_MODEL_62238f571c9a4ceab7ce70ab08cee8dd",
            "placeholder": "​",
            "style": "IPY_MODEL_3267f3f20ccd4bd1b02b6afd58a89e78",
            "value": "vocab.txt: 100%"
          }
        },
        "213ca4a7bcfd4da496593cd14a9034d2": {
          "model_module": "@jupyter-widgets/controls",
          "model_name": "FloatProgressModel",
          "model_module_version": "1.5.0",
          "state": {
            "_dom_classes": [],
            "_model_module": "@jupyter-widgets/controls",
            "_model_module_version": "1.5.0",
            "_model_name": "FloatProgressModel",
            "_view_count": null,
            "_view_module": "@jupyter-widgets/controls",
            "_view_module_version": "1.5.0",
            "_view_name": "ProgressView",
            "bar_style": "success",
            "description": "",
            "description_tooltip": null,
            "layout": "IPY_MODEL_028f70ef54ab40f691e3e70a169f4f81",
            "max": 227845,
            "min": 0,
            "orientation": "horizontal",
            "style": "IPY_MODEL_8560de17883b4d23861a11f547276c19",
            "value": 227845
          }
        },
        "b6b5ad10cf2c4f5d96b00b1e98270c86": {
          "model_module": "@jupyter-widgets/controls",
          "model_name": "HTMLModel",
          "model_module_version": "1.5.0",
          "state": {
            "_dom_classes": [],
            "_model_module": "@jupyter-widgets/controls",
            "_model_module_version": "1.5.0",
            "_model_name": "HTMLModel",
            "_view_count": null,
            "_view_module": "@jupyter-widgets/controls",
            "_view_module_version": "1.5.0",
            "_view_name": "HTMLView",
            "description": "",
            "description_tooltip": null,
            "layout": "IPY_MODEL_9df3885ba51b4ac3a05db2f9e0e7d8f3",
            "placeholder": "​",
            "style": "IPY_MODEL_ab297e61903644f1bc0680481932d5f4",
            "value": " 228k/228k [00:00&lt;00:00, 1.92MB/s]"
          }
        },
        "5085f7deeb3d4fe3becad33d3d6ba7d3": {
          "model_module": "@jupyter-widgets/base",
          "model_name": "LayoutModel",
          "model_module_version": "1.2.0",
          "state": {
            "_model_module": "@jupyter-widgets/base",
            "_model_module_version": "1.2.0",
            "_model_name": "LayoutModel",
            "_view_count": null,
            "_view_module": "@jupyter-widgets/base",
            "_view_module_version": "1.2.0",
            "_view_name": "LayoutView",
            "align_content": null,
            "align_items": null,
            "align_self": null,
            "border": null,
            "bottom": null,
            "display": null,
            "flex": null,
            "flex_flow": null,
            "grid_area": null,
            "grid_auto_columns": null,
            "grid_auto_flow": null,
            "grid_auto_rows": null,
            "grid_column": null,
            "grid_gap": null,
            "grid_row": null,
            "grid_template_areas": null,
            "grid_template_columns": null,
            "grid_template_rows": null,
            "height": null,
            "justify_content": null,
            "justify_items": null,
            "left": null,
            "margin": null,
            "max_height": null,
            "max_width": null,
            "min_height": null,
            "min_width": null,
            "object_fit": null,
            "object_position": null,
            "order": null,
            "overflow": null,
            "overflow_x": null,
            "overflow_y": null,
            "padding": null,
            "right": null,
            "top": null,
            "visibility": null,
            "width": null
          }
        },
        "62238f571c9a4ceab7ce70ab08cee8dd": {
          "model_module": "@jupyter-widgets/base",
          "model_name": "LayoutModel",
          "model_module_version": "1.2.0",
          "state": {
            "_model_module": "@jupyter-widgets/base",
            "_model_module_version": "1.2.0",
            "_model_name": "LayoutModel",
            "_view_count": null,
            "_view_module": "@jupyter-widgets/base",
            "_view_module_version": "1.2.0",
            "_view_name": "LayoutView",
            "align_content": null,
            "align_items": null,
            "align_self": null,
            "border": null,
            "bottom": null,
            "display": null,
            "flex": null,
            "flex_flow": null,
            "grid_area": null,
            "grid_auto_columns": null,
            "grid_auto_flow": null,
            "grid_auto_rows": null,
            "grid_column": null,
            "grid_gap": null,
            "grid_row": null,
            "grid_template_areas": null,
            "grid_template_columns": null,
            "grid_template_rows": null,
            "height": null,
            "justify_content": null,
            "justify_items": null,
            "left": null,
            "margin": null,
            "max_height": null,
            "max_width": null,
            "min_height": null,
            "min_width": null,
            "object_fit": null,
            "object_position": null,
            "order": null,
            "overflow": null,
            "overflow_x": null,
            "overflow_y": null,
            "padding": null,
            "right": null,
            "top": null,
            "visibility": null,
            "width": null
          }
        },
        "3267f3f20ccd4bd1b02b6afd58a89e78": {
          "model_module": "@jupyter-widgets/controls",
          "model_name": "DescriptionStyleModel",
          "model_module_version": "1.5.0",
          "state": {
            "_model_module": "@jupyter-widgets/controls",
            "_model_module_version": "1.5.0",
            "_model_name": "DescriptionStyleModel",
            "_view_count": null,
            "_view_module": "@jupyter-widgets/base",
            "_view_module_version": "1.2.0",
            "_view_name": "StyleView",
            "description_width": ""
          }
        },
        "028f70ef54ab40f691e3e70a169f4f81": {
          "model_module": "@jupyter-widgets/base",
          "model_name": "LayoutModel",
          "model_module_version": "1.2.0",
          "state": {
            "_model_module": "@jupyter-widgets/base",
            "_model_module_version": "1.2.0",
            "_model_name": "LayoutModel",
            "_view_count": null,
            "_view_module": "@jupyter-widgets/base",
            "_view_module_version": "1.2.0",
            "_view_name": "LayoutView",
            "align_content": null,
            "align_items": null,
            "align_self": null,
            "border": null,
            "bottom": null,
            "display": null,
            "flex": null,
            "flex_flow": null,
            "grid_area": null,
            "grid_auto_columns": null,
            "grid_auto_flow": null,
            "grid_auto_rows": null,
            "grid_column": null,
            "grid_gap": null,
            "grid_row": null,
            "grid_template_areas": null,
            "grid_template_columns": null,
            "grid_template_rows": null,
            "height": null,
            "justify_content": null,
            "justify_items": null,
            "left": null,
            "margin": null,
            "max_height": null,
            "max_width": null,
            "min_height": null,
            "min_width": null,
            "object_fit": null,
            "object_position": null,
            "order": null,
            "overflow": null,
            "overflow_x": null,
            "overflow_y": null,
            "padding": null,
            "right": null,
            "top": null,
            "visibility": null,
            "width": null
          }
        },
        "8560de17883b4d23861a11f547276c19": {
          "model_module": "@jupyter-widgets/controls",
          "model_name": "ProgressStyleModel",
          "model_module_version": "1.5.0",
          "state": {
            "_model_module": "@jupyter-widgets/controls",
            "_model_module_version": "1.5.0",
            "_model_name": "ProgressStyleModel",
            "_view_count": null,
            "_view_module": "@jupyter-widgets/base",
            "_view_module_version": "1.2.0",
            "_view_name": "StyleView",
            "bar_color": null,
            "description_width": ""
          }
        },
        "9df3885ba51b4ac3a05db2f9e0e7d8f3": {
          "model_module": "@jupyter-widgets/base",
          "model_name": "LayoutModel",
          "model_module_version": "1.2.0",
          "state": {
            "_model_module": "@jupyter-widgets/base",
            "_model_module_version": "1.2.0",
            "_model_name": "LayoutModel",
            "_view_count": null,
            "_view_module": "@jupyter-widgets/base",
            "_view_module_version": "1.2.0",
            "_view_name": "LayoutView",
            "align_content": null,
            "align_items": null,
            "align_self": null,
            "border": null,
            "bottom": null,
            "display": null,
            "flex": null,
            "flex_flow": null,
            "grid_area": null,
            "grid_auto_columns": null,
            "grid_auto_flow": null,
            "grid_auto_rows": null,
            "grid_column": null,
            "grid_gap": null,
            "grid_row": null,
            "grid_template_areas": null,
            "grid_template_columns": null,
            "grid_template_rows": null,
            "height": null,
            "justify_content": null,
            "justify_items": null,
            "left": null,
            "margin": null,
            "max_height": null,
            "max_width": null,
            "min_height": null,
            "min_width": null,
            "object_fit": null,
            "object_position": null,
            "order": null,
            "overflow": null,
            "overflow_x": null,
            "overflow_y": null,
            "padding": null,
            "right": null,
            "top": null,
            "visibility": null,
            "width": null
          }
        },
        "ab297e61903644f1bc0680481932d5f4": {
          "model_module": "@jupyter-widgets/controls",
          "model_name": "DescriptionStyleModel",
          "model_module_version": "1.5.0",
          "state": {
            "_model_module": "@jupyter-widgets/controls",
            "_model_module_version": "1.5.0",
            "_model_name": "DescriptionStyleModel",
            "_view_count": null,
            "_view_module": "@jupyter-widgets/base",
            "_view_module_version": "1.2.0",
            "_view_name": "StyleView",
            "description_width": ""
          }
        },
        "39200186bcf6427fae836128f46a4776": {
          "model_module": "@jupyter-widgets/controls",
          "model_name": "HBoxModel",
          "model_module_version": "1.5.0",
          "state": {
            "_dom_classes": [],
            "_model_module": "@jupyter-widgets/controls",
            "_model_module_version": "1.5.0",
            "_model_name": "HBoxModel",
            "_view_count": null,
            "_view_module": "@jupyter-widgets/controls",
            "_view_module_version": "1.5.0",
            "_view_name": "HBoxView",
            "box_style": "",
            "children": [
              "IPY_MODEL_97f06b8ec01e47b4abc55a1f5111d0ce",
              "IPY_MODEL_162a63b9214f4c7fad0c5939ca19b10e",
              "IPY_MODEL_e7d33249e2744ce9a7dd9a39d5f12c20"
            ],
            "layout": "IPY_MODEL_4af8b8486bcf4d71937286613c338641"
          }
        },
        "97f06b8ec01e47b4abc55a1f5111d0ce": {
          "model_module": "@jupyter-widgets/controls",
          "model_name": "HTMLModel",
          "model_module_version": "1.5.0",
          "state": {
            "_dom_classes": [],
            "_model_module": "@jupyter-widgets/controls",
            "_model_module_version": "1.5.0",
            "_model_name": "HTMLModel",
            "_view_count": null,
            "_view_module": "@jupyter-widgets/controls",
            "_view_module_version": "1.5.0",
            "_view_name": "HTMLView",
            "description": "",
            "description_tooltip": null,
            "layout": "IPY_MODEL_9ec7121085e14cc0b08e68ce2a343a22",
            "placeholder": "​",
            "style": "IPY_MODEL_d72b66f10f8d44d18222ff2fb25d25b9",
            "value": "pytorch_model.bin: 100%"
          }
        },
        "162a63b9214f4c7fad0c5939ca19b10e": {
          "model_module": "@jupyter-widgets/controls",
          "model_name": "FloatProgressModel",
          "model_module_version": "1.5.0",
          "state": {
            "_dom_classes": [],
            "_model_module": "@jupyter-widgets/controls",
            "_model_module_version": "1.5.0",
            "_model_name": "FloatProgressModel",
            "_view_count": null,
            "_view_module": "@jupyter-widgets/controls",
            "_view_module_version": "1.5.0",
            "_view_name": "ProgressView",
            "bar_style": "success",
            "description": "",
            "description_tooltip": null,
            "layout": "IPY_MODEL_f7884fa3919f4a72a2b442537867e61c",
            "max": 442221694,
            "min": 0,
            "orientation": "horizontal",
            "style": "IPY_MODEL_90d0ffa2262c4f9ca72badcb45fce2f8",
            "value": 442221694
          }
        },
        "e7d33249e2744ce9a7dd9a39d5f12c20": {
          "model_module": "@jupyter-widgets/controls",
          "model_name": "HTMLModel",
          "model_module_version": "1.5.0",
          "state": {
            "_dom_classes": [],
            "_model_module": "@jupyter-widgets/controls",
            "_model_module_version": "1.5.0",
            "_model_name": "HTMLModel",
            "_view_count": null,
            "_view_module": "@jupyter-widgets/controls",
            "_view_module_version": "1.5.0",
            "_view_name": "HTMLView",
            "description": "",
            "description_tooltip": null,
            "layout": "IPY_MODEL_6e198e50d942403c8515558d27b3db95",
            "placeholder": "​",
            "style": "IPY_MODEL_ba2d14189713448dbe7fd3915b15f34a",
            "value": " 442M/442M [00:03&lt;00:00, 73.9MB/s]"
          }
        },
        "4af8b8486bcf4d71937286613c338641": {
          "model_module": "@jupyter-widgets/base",
          "model_name": "LayoutModel",
          "model_module_version": "1.2.0",
          "state": {
            "_model_module": "@jupyter-widgets/base",
            "_model_module_version": "1.2.0",
            "_model_name": "LayoutModel",
            "_view_count": null,
            "_view_module": "@jupyter-widgets/base",
            "_view_module_version": "1.2.0",
            "_view_name": "LayoutView",
            "align_content": null,
            "align_items": null,
            "align_self": null,
            "border": null,
            "bottom": null,
            "display": null,
            "flex": null,
            "flex_flow": null,
            "grid_area": null,
            "grid_auto_columns": null,
            "grid_auto_flow": null,
            "grid_auto_rows": null,
            "grid_column": null,
            "grid_gap": null,
            "grid_row": null,
            "grid_template_areas": null,
            "grid_template_columns": null,
            "grid_template_rows": null,
            "height": null,
            "justify_content": null,
            "justify_items": null,
            "left": null,
            "margin": null,
            "max_height": null,
            "max_width": null,
            "min_height": null,
            "min_width": null,
            "object_fit": null,
            "object_position": null,
            "order": null,
            "overflow": null,
            "overflow_x": null,
            "overflow_y": null,
            "padding": null,
            "right": null,
            "top": null,
            "visibility": null,
            "width": null
          }
        },
        "9ec7121085e14cc0b08e68ce2a343a22": {
          "model_module": "@jupyter-widgets/base",
          "model_name": "LayoutModel",
          "model_module_version": "1.2.0",
          "state": {
            "_model_module": "@jupyter-widgets/base",
            "_model_module_version": "1.2.0",
            "_model_name": "LayoutModel",
            "_view_count": null,
            "_view_module": "@jupyter-widgets/base",
            "_view_module_version": "1.2.0",
            "_view_name": "LayoutView",
            "align_content": null,
            "align_items": null,
            "align_self": null,
            "border": null,
            "bottom": null,
            "display": null,
            "flex": null,
            "flex_flow": null,
            "grid_area": null,
            "grid_auto_columns": null,
            "grid_auto_flow": null,
            "grid_auto_rows": null,
            "grid_column": null,
            "grid_gap": null,
            "grid_row": null,
            "grid_template_areas": null,
            "grid_template_columns": null,
            "grid_template_rows": null,
            "height": null,
            "justify_content": null,
            "justify_items": null,
            "left": null,
            "margin": null,
            "max_height": null,
            "max_width": null,
            "min_height": null,
            "min_width": null,
            "object_fit": null,
            "object_position": null,
            "order": null,
            "overflow": null,
            "overflow_x": null,
            "overflow_y": null,
            "padding": null,
            "right": null,
            "top": null,
            "visibility": null,
            "width": null
          }
        },
        "d72b66f10f8d44d18222ff2fb25d25b9": {
          "model_module": "@jupyter-widgets/controls",
          "model_name": "DescriptionStyleModel",
          "model_module_version": "1.5.0",
          "state": {
            "_model_module": "@jupyter-widgets/controls",
            "_model_module_version": "1.5.0",
            "_model_name": "DescriptionStyleModel",
            "_view_count": null,
            "_view_module": "@jupyter-widgets/base",
            "_view_module_version": "1.2.0",
            "_view_name": "StyleView",
            "description_width": ""
          }
        },
        "f7884fa3919f4a72a2b442537867e61c": {
          "model_module": "@jupyter-widgets/base",
          "model_name": "LayoutModel",
          "model_module_version": "1.2.0",
          "state": {
            "_model_module": "@jupyter-widgets/base",
            "_model_module_version": "1.2.0",
            "_model_name": "LayoutModel",
            "_view_count": null,
            "_view_module": "@jupyter-widgets/base",
            "_view_module_version": "1.2.0",
            "_view_name": "LayoutView",
            "align_content": null,
            "align_items": null,
            "align_self": null,
            "border": null,
            "bottom": null,
            "display": null,
            "flex": null,
            "flex_flow": null,
            "grid_area": null,
            "grid_auto_columns": null,
            "grid_auto_flow": null,
            "grid_auto_rows": null,
            "grid_column": null,
            "grid_gap": null,
            "grid_row": null,
            "grid_template_areas": null,
            "grid_template_columns": null,
            "grid_template_rows": null,
            "height": null,
            "justify_content": null,
            "justify_items": null,
            "left": null,
            "margin": null,
            "max_height": null,
            "max_width": null,
            "min_height": null,
            "min_width": null,
            "object_fit": null,
            "object_position": null,
            "order": null,
            "overflow": null,
            "overflow_x": null,
            "overflow_y": null,
            "padding": null,
            "right": null,
            "top": null,
            "visibility": null,
            "width": null
          }
        },
        "90d0ffa2262c4f9ca72badcb45fce2f8": {
          "model_module": "@jupyter-widgets/controls",
          "model_name": "ProgressStyleModel",
          "model_module_version": "1.5.0",
          "state": {
            "_model_module": "@jupyter-widgets/controls",
            "_model_module_version": "1.5.0",
            "_model_name": "ProgressStyleModel",
            "_view_count": null,
            "_view_module": "@jupyter-widgets/base",
            "_view_module_version": "1.2.0",
            "_view_name": "StyleView",
            "bar_color": null,
            "description_width": ""
          }
        },
        "6e198e50d942403c8515558d27b3db95": {
          "model_module": "@jupyter-widgets/base",
          "model_name": "LayoutModel",
          "model_module_version": "1.2.0",
          "state": {
            "_model_module": "@jupyter-widgets/base",
            "_model_module_version": "1.2.0",
            "_model_name": "LayoutModel",
            "_view_count": null,
            "_view_module": "@jupyter-widgets/base",
            "_view_module_version": "1.2.0",
            "_view_name": "LayoutView",
            "align_content": null,
            "align_items": null,
            "align_self": null,
            "border": null,
            "bottom": null,
            "display": null,
            "flex": null,
            "flex_flow": null,
            "grid_area": null,
            "grid_auto_columns": null,
            "grid_auto_flow": null,
            "grid_auto_rows": null,
            "grid_column": null,
            "grid_gap": null,
            "grid_row": null,
            "grid_template_areas": null,
            "grid_template_columns": null,
            "grid_template_rows": null,
            "height": null,
            "justify_content": null,
            "justify_items": null,
            "left": null,
            "margin": null,
            "max_height": null,
            "max_width": null,
            "min_height": null,
            "min_width": null,
            "object_fit": null,
            "object_position": null,
            "order": null,
            "overflow": null,
            "overflow_x": null,
            "overflow_y": null,
            "padding": null,
            "right": null,
            "top": null,
            "visibility": null,
            "width": null
          }
        },
        "ba2d14189713448dbe7fd3915b15f34a": {
          "model_module": "@jupyter-widgets/controls",
          "model_name": "DescriptionStyleModel",
          "model_module_version": "1.5.0",
          "state": {
            "_model_module": "@jupyter-widgets/controls",
            "_model_module_version": "1.5.0",
            "_model_name": "DescriptionStyleModel",
            "_view_count": null,
            "_view_module": "@jupyter-widgets/base",
            "_view_module_version": "1.2.0",
            "_view_name": "StyleView",
            "description_width": ""
          }
        }
      }
    }
  },
  "nbformat": 4,
  "nbformat_minor": 0
}