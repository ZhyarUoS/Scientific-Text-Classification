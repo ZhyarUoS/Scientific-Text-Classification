{
  "cells": [
    {
      "cell_type": "code",
      "execution_count": 1,
      "metadata": {
        "colab": {
          "base_uri": "https://localhost:8080/"
        },
        "id": "Va5ItHiVWXUG",
        "outputId": "114e2be7-0575-4eb2-e923-9dfb4018b198"
      },
      "outputs": [
        {
          "output_type": "stream",
          "name": "stdout",
          "text": [
            "Tue Sep  3 11:07:25 2024       \n",
            "+---------------------------------------------------------------------------------------+\n",
            "| NVIDIA-SMI 535.104.05             Driver Version: 535.104.05   CUDA Version: 12.2     |\n",
            "|-----------------------------------------+----------------------+----------------------+\n",
            "| GPU  Name                 Persistence-M | Bus-Id        Disp.A | Volatile Uncorr. ECC |\n",
            "| Fan  Temp   Perf          Pwr:Usage/Cap |         Memory-Usage | GPU-Util  Compute M. |\n",
            "|                                         |                      |               MIG M. |\n",
            "|=========================================+======================+======================|\n",
            "|   0  Tesla T4                       Off | 00000000:00:04.0 Off |                    0 |\n",
            "| N/A   52C    P8              10W /  70W |      0MiB / 15360MiB |      0%      Default |\n",
            "|                                         |                      |                  N/A |\n",
            "+-----------------------------------------+----------------------+----------------------+\n",
            "                                                                                         \n",
            "+---------------------------------------------------------------------------------------+\n",
            "| Processes:                                                                            |\n",
            "|  GPU   GI   CI        PID   Type   Process name                            GPU Memory |\n",
            "|        ID   ID                                                             Usage      |\n",
            "|=======================================================================================|\n",
            "|  No running processes found                                                           |\n",
            "+---------------------------------------------------------------------------------------+\n"
          ]
        }
      ],
      "source": [
        "gpu_info = !nvidia-smi\n",
        "gpu_info = '\\n'.join(gpu_info)\n",
        "if gpu_info.find('failed') >= 0:\n",
        "  print('Not connected to a GPU')\n",
        "else:\n",
        "  print(gpu_info)"
      ]
    },
    {
      "cell_type": "code",
      "execution_count": 2,
      "metadata": {
        "colab": {
          "base_uri": "https://localhost:8080/"
        },
        "id": "6PAN1HD9WXUH",
        "outputId": "0fadf2b9-e68a-49f3-8628-8401d5678b65"
      },
      "outputs": [
        {
          "output_type": "stream",
          "name": "stdout",
          "text": [
            "Your runtime has 13.6 gigabytes of available RAM\n",
            "\n",
            "Not using a high-RAM runtime\n"
          ]
        }
      ],
      "source": [
        "from psutil import virtual_memory\n",
        "ram_gb = virtual_memory().total / 1e9\n",
        "print('Your runtime has {:.1f} gigabytes of available RAM\\n'.format(ram_gb))\n",
        "\n",
        "if ram_gb < 20:\n",
        "  print('Not using a high-RAM runtime')\n",
        "else:\n",
        "  print('You are using a high-RAM runtime!')"
      ]
    },
    {
      "cell_type": "code",
      "execution_count": 3,
      "metadata": {
        "colab": {
          "base_uri": "https://localhost:8080/"
        },
        "id": "M7k7VLmJWXUH",
        "outputId": "7e581857-6978-4205-c4a3-ef028ba517be"
      },
      "outputs": [
        {
          "output_type": "stream",
          "name": "stdout",
          "text": [
            "Mounted at /content/drive\n"
          ]
        }
      ],
      "source": [
        "from google.colab import drive\n",
        "drive.mount('/content/drive')"
      ]
    },
    {
      "cell_type": "code",
      "execution_count": 4,
      "metadata": {
        "colab": {
          "base_uri": "https://localhost:8080/"
        },
        "id": "SqnIUcZCWXUI",
        "outputId": "98d6f1ae-8cb9-440e-d1c4-c758c93491be"
      },
      "outputs": [
        {
          "output_type": "stream",
          "name": "stdout",
          "text": [
            "Requirement already satisfied: transformers in /usr/local/lib/python3.10/dist-packages (4.42.4)\n",
            "Requirement already satisfied: filelock in /usr/local/lib/python3.10/dist-packages (from transformers) (3.15.4)\n",
            "Requirement already satisfied: huggingface-hub<1.0,>=0.23.2 in /usr/local/lib/python3.10/dist-packages (from transformers) (0.23.5)\n",
            "Requirement already satisfied: numpy<2.0,>=1.17 in /usr/local/lib/python3.10/dist-packages (from transformers) (1.25.2)\n",
            "Requirement already satisfied: packaging>=20.0 in /usr/local/lib/python3.10/dist-packages (from transformers) (24.1)\n",
            "Requirement already satisfied: pyyaml>=5.1 in /usr/local/lib/python3.10/dist-packages (from transformers) (6.0.1)\n",
            "Requirement already satisfied: regex!=2019.12.17 in /usr/local/lib/python3.10/dist-packages (from transformers) (2024.5.15)\n",
            "Requirement already satisfied: requests in /usr/local/lib/python3.10/dist-packages (from transformers) (2.31.0)\n",
            "Requirement already satisfied: safetensors>=0.4.1 in /usr/local/lib/python3.10/dist-packages (from transformers) (0.4.3)\n",
            "Requirement already satisfied: tokenizers<0.20,>=0.19 in /usr/local/lib/python3.10/dist-packages (from transformers) (0.19.1)\n",
            "Requirement already satisfied: tqdm>=4.27 in /usr/local/lib/python3.10/dist-packages (from transformers) (4.66.4)\n",
            "Requirement already satisfied: fsspec>=2023.5.0 in /usr/local/lib/python3.10/dist-packages (from huggingface-hub<1.0,>=0.23.2->transformers) (2023.6.0)\n",
            "Requirement already satisfied: typing-extensions>=3.7.4.3 in /usr/local/lib/python3.10/dist-packages (from huggingface-hub<1.0,>=0.23.2->transformers) (4.12.2)\n",
            "Requirement already satisfied: charset-normalizer<4,>=2 in /usr/local/lib/python3.10/dist-packages (from requests->transformers) (3.3.2)\n",
            "Requirement already satisfied: idna<4,>=2.5 in /usr/local/lib/python3.10/dist-packages (from requests->transformers) (3.7)\n",
            "Requirement already satisfied: urllib3<3,>=1.21.1 in /usr/local/lib/python3.10/dist-packages (from requests->transformers) (2.0.7)\n",
            "Requirement already satisfied: certifi>=2017.4.17 in /usr/local/lib/python3.10/dist-packages (from requests->transformers) (2024.7.4)\n"
          ]
        }
      ],
      "source": [
        "!pip install transformers"
      ]
    },
    {
      "cell_type": "code",
      "execution_count": 5,
      "metadata": {
        "id": "WhVPx8QYWXUI"
      },
      "outputs": [],
      "source": [
        "import os\n",
        "import numpy as np\n",
        "import pandas as pd\n",
        "from sklearn.model_selection import train_test_split\n",
        "from sklearn.metrics import confusion_matrix, classification_report, f1_score, precision_score, recall_score\n",
        "from transformers import AutoTokenizer, AutoModelForSequenceClassification, AdamW, get_linear_schedule_with_warmup\n",
        "import torch\n",
        "from torch.utils.data import DataLoader, TensorDataset, RandomSampler, SequentialSampler\n",
        "import torch.nn.functional as F\n",
        "from tqdm import trange, tqdm\n",
        "import matplotlib.pyplot as plt\n",
        "import sklearn.utils\n",
        "import time\n",
        "import re\n"
      ]
    },
    {
      "cell_type": "code",
      "execution_count": 6,
      "metadata": {
        "colab": {
          "base_uri": "https://localhost:8080/"
        },
        "id": "3oFtbbtBWXUI",
        "outputId": "7ae1cae8-006f-4b5f-876d-feea856a465c"
      },
      "outputs": [
        {
          "output_type": "stream",
          "name": "stdout",
          "text": [
            "(5736, 4)\n"
          ]
        }
      ],
      "source": [
        "# Retrive the data from stored dataset\n",
        "dataDir = \"/content/drive/MyDrive/WoS/data\"\n",
        "tsvData = os.path.join(dataDir,\"WoSDataset_5736.tsv\")\n",
        "\n",
        "tsvData = np.loadtxt(tsvData, dtype=str, delimiter=\"\\t\")\n",
        "print(np.shape(tsvData))"
      ]
    },
    {
      "cell_type": "code",
      "execution_count": 7,
      "metadata": {
        "colab": {
          "base_uri": "https://localhost:8080/"
        },
        "id": "5xw9-_jdWXUI",
        "outputId": "8605ca90-cdba-44eb-8bb0-d7f6f3244727"
      },
      "outputs": [
        {
          "output_type": "stream",
          "name": "stdout",
          "text": [
            "[['2' 'biochemistry'\n",
            "  ' candidatus phytoplasma    16s rrna biosecurity taxonomy biodiversity vector seed transmission host range       '\n",
            "  'phytoplasmas are insectvectored bacteria that cause disease in a wide range of plant species the increasing availability of molecular dna analyses expertise and additional methods in recent years has led to a proliferation of discoveries of phytoplasmaplant host associations and in the numbers of taxonomic groupings for phytoplasmas the widespread use of common names based on the diseases with which they are associated as well as separate phenetic and taxonomic systems for classifying phytoplasmas based on variation at the 16s rrnaencoding gene complicates interpretation of the literature we explore this issue and related trends through a focus on australian pathosystems providing the first comprehensive compilation of information for this continent covering the phytoplasmas host plants vectors and diseases of the 33 16sr groups reported internationally only groups i ii iii x xi and xii have been recorded in australia and this highlights the need for ongoing biosecurity measures to prevent the introduction of additional pathogen groups many of the phytoplasmas reported in australia have not been sufficiently well studied to assign them to 16sr groups so it is likely that unrecognized groups and subgroups are present wide host plant ranges are apparent among well studied phytoplasmas with multiple crop and noncrop species infected by some disease management is further complicated by the fact that putative vectors have been identified for few phytoplasmas especially in australia despite rapid progress in recent years using molecular approaches phytoplasmas remain the least well studied group of plant pathogens making them a crouching tiger disease threat']\n",
            " ['2' 'biochemistry'\n",
            "  ' alphabisabolol alphabisabolol synthase mevalonate pathway farnesyl diphosphate synthase in situ extraction vegetable oils escherichia coli        '\n",
            "  'background alphabisabolol also known as levomenol is an unsaturated sesquiterpene alcohol that has mainly been used in pharmaceutical and cosmetic products due to its antiinflammatory and skinsoothing properties alphabisabolol is currently manufactured mainly by steamdistillation of the essential oils extracted from the brazilian candeia tree that is under threat because its natural habitat is constantly shrinking therefore microbial production of alphabisabolol plays a key role in the development of its sustainable production from renewable feedstock results here we created an escherichia coli strain producing alphabisabolol at high titer and developed an in situ extraction method of alphabisabolol using natural vegetable oils we expressed a recently identified alphabisabolol synthase isolated from german chamomile matricaria recutita titer 3 mgl converted the acetylcoa to mevalonate using the biosynthetic mevalonate pathway 128 mgl and overexpressed farnesyl diphosphate synthase to efficiently supply the alphabisabolol precursor farnesyl diphosphate combinatorial expression of the exogenous mevalonate pathway and farnesyl diphosphate synthase enabled a dramatic increase in alphabisabolol production in the shake flask culture 80 mgl and 5 l bioreactor culture 342 mgl of engineered e coli harboring alphabisabolol synthase fedbatch fermentation using a 50 l fermenter was conducted after optimizing culture conditions resulting in efficient alphabisabolol production with a titer of 91 gl moreover a green downstream extraction process using vegetable oils was developed for in situ extraction of alphabisabolol during fermentation and showed high yield recovery 98 conclusions the engineered e coli strains and economically viable extraction process developed in this study will serve as promising platforms for further development of microbial production of alphabisabolol at large scale']\n",
            " ['2' 'biochemistry'\n",
            "  ' rna virus cirv yeast programmed cell death acetic acid        '\n",
            "  'a universal feature of the replication of positivestrand rna viruses is the association with intracellular membranes carnation italian ringspot virus cirv replication in plants occurs in vesicles derived from the mitochondrial outer membrane the product encoded by cirv orf1 p36 is required for targeting the virus replication complex to the outer mitochondrial membrane both in plant and yeast cells here the yeast saccharomyces cerevisiae was used as a model host to study the effect of cirv p36 on cell survival and death it was shown that p36 does not promote cell death but decreases cell growth rate in addition p36 changed the nature of acetic acidinduced cell death in yeast by increasing the number of cells dying by necrosis with concomitant decrease of the number of cells dying by programmed cell death as judged by measurements of phosphatidylserine externalization the tight association of p36 to membranes was not affected by acetic acid treatment thus confirming the peculiar and independent interaction of cirv p36 with mitochondria in yeast this work proved yeast as an invaluable model organism to study both the mitochondrial determinants of the type of cell death in response to stress and the molecular pathogenesis of rna viruses c 2016 elsevier ireland ltd all rights reserved']\n",
            " ['2' 'biochemistry'\n",
            "  ' 1 2dicloropropane dichloromethane gpt delta rat in vivo mutagenicity liver        '\n",
            "  '12dichloropropane 12dcp and dichloromethane dcm are possible causative agents associated with the development of cholangiocarcinoma in employees working in printing plant in osaka japan however few reports have demonstrated an association between these agents and cholangiocarcinoma in rodent carcinogenicity studies moreover the combined effects of these compounds have not been fully elucidated in the present study we evaluated the in vivo mutagenicity of 12dcp and dcm alone or combined in the livers of gpt delta rats sixweekold male f344 gpt delta rats were treated with 12dcp dcm or 12dcpdcm by oral administration for 4weeks at the dose 200mgkg1 body weight 12dcp and 500mgkg1 body weight dcm used in the carcinogenesis study performed by the national toxicology program in vivo mutagenicity was analyzed by gpt mutationspi assays in the livers of rats in addition gene and protein expression of cyp2e1 and gstt1 the major enzymes responsible for the genotoxic effects of 12dcp and dcm were analyzed by quantitative polymerase chain reaction and western blotting gpt and spi mutation frequencies were not increased by 12dcp andor dcm in any group additionally there were no significant changes in the gene and protein expression of cyp2e1 and gstt1 in any group these results indicated that 12dcp dcm and 12dcpdcm had no significant impact on mutagenicity in the livers of gpt delta rats under our experimental conditions copyright c 2016 john wiley  sons ltd']\n",
            " ['0' 'ECE' ' 130 nm cmos pa programmable pa 24 ghz pa        '\n",
            "  'this paper presents the simulation results of a linear fully integrated twostage digitally programmable 130 nm cmos power amplifier pa operating at 24 ghz its power stage is composed of a set of amplifying cells which can be enabled or disabled independently by a digital control circuit all seven operational modes are univocal in terms of 1 db output compression point ocp1db saturated output power psat and power gain at 24 ghz the lowest power mode achieves an 81 dbm psat a 135 db power gain and consumes 171 mw dc power pdc at an ocp1db of 6 dbm whereas the highest power mode reaches an 189 dbm psat and a 211 db power gain and consumes 415 mw pdc at an ocp1db of 182 dbm']\n",
            " ['2' 'biochemistry'\n",
            "  ' 14alphaglucan branching enzyme hispatch thioredoxin geobacillus sp glycogen branching enzyme genome mining        '\n",
            "  'the glycogen branching enzyme ec 24118 which catalyses the formation of alpha16glycosidic branch points in glycogen structure is often used to enhance the nutritional value and quality of food and beverages in order to be applicable in industries enzymes that are stable and active at high temperature are much desired using genome mining the nucleotide sequence of the branching enzyme gene glgb was extracted from the geobacillus mahadia geo05 genome sequence provided by the malaysia genome institute the size of the gene is 2013 bp and the theoretical molecular weight of the protein is 7843 kda the gene sequence was then used to predict the thermostability function and the three dimensional structure of the enzyme the gene was cloned and overexpressed in e coli to verify the predicted result experimentally the purified enzyme was used to study the effect of temperature and ph on enzyme activity and stability and the inhibitory effect by metal ion on enzyme activity this thermostable glycogen branching enzyme was found to be most active at 55 degrees c and the halflife at 60 degrees c and 70 degrees c was 24 h and 5 h respectively from this research a thermostable glycogen branching enzyme was successfully isolated from geobacillus mahadia geo05 by genome mining together with molecular biology technique']\n",
            " ['2' 'biochemistry'\n",
            "  ' 16s rrna amplicon sequencing activated sludge bacterial populations molecular biology        '\n",
            "  'the microbial populations in the activated sludge of two polish wastewater treatment plants wwtps were identified and quantified using illumina sequencing of 16s ribosomal rna amplicons over a 2year period their dynamics over time were compared to danish wwtps data collected in previous studies by center for microbial communities aalborg university the bacterial communities in polish and danish wwtps were similar to each other but the microbial diversity in polish wwtps was lower the dominant genera in polish wwtps were more abundant than in danish wwtps 30 of them constituted more than half the of activated sludge community polish wwtps showed a higher abundance of bacteria involved in nitrogen and chemical oxygen demand removal proteobacteria and bacteroidetes while polyphosphateacculumating bacteria were the dominant bacterial group in danish plants the microbial community structures in the examined polish wwtps were relatively similar to each other and showed strong seasonal variations which are not normally observed in danish wwtps']\n",
            " ['2' 'biochemistry'\n",
            "  ' 16s 16s rrna utility bacterial infections cost analysis        '\n",
            "  'background broadrange 16s rrna pcr can be used for the detection and identification of bacteria from clinical specimens in patients for whom there is a high suspicion of infection and cultures are negative the aims of this study were 1 to compare 16s rrna pcr results with microbiolog ical culture results 2 to assess the utility of 16s rrna pcr with regard to antimicrobial therapy and 3 to compare the yield of 16s rrna pcr for different types of clinical specimen and to perform a cost analysis of the test methods a retrospective study was performed on different clinical specimens which had 16s performed over 3 years 20122015 standard microbiological cultures were performed on appropriate media as per the laboratory protocol patient clinical and microbiological data were obtained from the electronic medical records and laboratory information system respectively 16s rrna pcr was performed in a reference laboratory using a validated method for amplification and sequencing the outcomes assessed were the performance of 16s rrna pcr change of antimicrobials rationalization cessation or addition and duration of therapy concordance of 16s rrna pcr with bacterial cultures was also determined for tissue specimens results thirtytwo patients were included in the study for whom an equal number of specimens n  32 were sent for 16s rrna pcr 16s rrna pcr could identify an organism in 10 of 32 cases 312 of which seven were culturepositive and three were culturenegative the sensitivity was 58 confidence interval ci 2859835 and specificity was 85 ci 611396 with a positive predictive value of 70 ci 353919 and negative predictive value of 772 ci 5417913 antimicrobial therapy was rationalized after 16s rrna pcr results in five patients 156 and was ceased in four based on negative results 125 overall the 16s rrna pcr result had an impact on antimicrobial therapy in 28 of patients 932 the highest concordance of 16s rrna pcr with bacterial culture was found for heart valve tissue 80 followed by joint fluidtissue 50 conclusions despite the low diagnostic yield results of 16s rrna pcr can still have a significant impact on patient management due to rationalization or cessation of the antimicrobial therapy the yield of 16s rrna pcr was highest for heart valves c 2017 the authors published by elsevier ltd on behalf of international society for infectious diseases']\n",
            " ['2' 'biochemistry'\n",
            "  ' 16sriid subgroup 16srvid subgroup phytoplasma hishimonas phycitis cannabis sativa subsp sativa portulaca oleracea        '\n",
            "  'brinjal little leaf bll is a widespread disease of phytoplasma etiology in india that induces severe economic losses surveys were conducted in eight brinjalgrowing states of india during july 2014 to september 2015 and eighteen bll samples showing little leaf phyllody and witches broom symptoms were collected for phytoplasma identification presence of phytoplasmas was confirmed in all the eighteen bll samples using polymerase chain reaction with phytoplasmaspecific primer pairs p1p6 r16f2nr16r2 pair wise sequence comparison and phylogenetic relationship of 16s rrna gene sequences of bll phytoplasma strains confirmed that sixteen out of eighteen bll strains belonged to clover proliferation phytoplasma 16srvi group and two bll strains gkpa and gkpb from gorakhpur uttar pradesh were classified under 16srii group further virtual rflp analysis of 16s rdna sequences allowed finer classification of bll strains into 16sriid and 16srvid subgroups bll phytoplasma strains belonging to 16srvid subgroup were found as the most widespread phytoplasma strains associated with bll disease in india 16srvid subgroup phytoplasma association with two symptomatic weed species viz cannabis sativa subsp sativa at noida uttar pradesh and portulaca oleracea at iari fields new delhi was also confirmed by nested pcr assays with similar set of phytoplasmaspecific primers pairwise 16s rdna sequence comparison phylogeny and virtual rflp analysis out of five identified leafhopper species from bllinfected fields at noida uttar pradesh and delhi only hishimonas phycitis was identified as carrier and natural vector of 16srvid subgroup of phytoplasmas by nested pcr assays sequence comparison phylogeny virtual rflp analysis and transmission assays']\n",
            " ['2' 'biochemistry'\n",
            "  ' 16srxxiib phytoplasma candidatus phytoplasma palmicola coconut palm cocos nucifera lethal yellowing pcrrflp phylogeny ribosomal protein gene seca gene        '\n",
            "  'surveys for the cote divoire lethal yellowing cily phytoplasma were conducted in eight severely cilyaffected villages of grandlahou in 2015 leaves inflorescences and trunk borings were collected from coconut palms showing cily symptoms and from symptomless trees total dna was extracted from these samples and tested by nested polymerase chain reactionrflp and sequence analysis of the 16s rrna ribosomal protein rp and the translocation protein seca genes the cily phytoplasma was detected in 829 of the symptombearing palms collected from all the surveyed villages and from all the plant parts trunk borings were recommended as the most suitable plant tissue type for sampling results indicate that the cily phytoplasma may have a westward spread to other coconutgrowing areas of grandlahou cily phytoplasma strains infecting coconut palms in the western region of grandlahou exhibited unique single nucleotide polymorphisms on the rp sequence compared to the strains from the eastern region moreover single nucleotide polymorphisms on the seca sequence distinguished the cily phytoplasma from the cape st paul wilt disease phytoplasma in ghana and the lethal yellowing phytoplasma in mozambique']\n",
            " ['2' 'biochemistry'\n",
            "  ' 18s qsmrt quantitative ribosomal ross sea sequencing silicoflagellate smrt        '\n",
            "  'advances in sequencing technologies continue to provide unprecedented opportunities to characterize microbial communities for example the pacific biosciences single molecule realtime smrt platform has emerged as a unique approach harnessing dna polymerase activity to sequence template molecules enabling long reads at low costs with the aim to simultaneously classify and enumerate in situ microbial populations we developed a quantitative smrt qsmrt approach that involves the addition of exogenous standards to quantify ribosomal amplicons derived from environmental samples the v79 regions of 18s ssu rdna were targeted and quantified from protistan community samples collected in the ross sea during the austral summer of 2011 we used three standards of different length and optimized conditions to obtain accurate quantitative retrieval across the range of expected amplicon sizes a necessary criterion for analyzing taxonomically diverse 18s rdna molecules from natural environments the ability to concurrently identify and quantify microorganisms in their natural environment makes qsmrt a powerful rapid and costeffective approach for defining ecosystem diversity and function c 2017 elsevier bv all rights reserved']\n",
            " ['2' 'biochemistry'\n",
            "  ' 1a6drim utp20 18s rrna processing u3 snorna        '\n",
            "  '1a6drim is a nucleolar protein with a nucleolar targeting sequence in its 3terminus bioinformatic analysis indicated that human 1a6 drim shares 23 identity and 43 similarity with yeast utp20 which has been reported as a component of u3 snorna protein complex and has been implicated in 18s rrna processing in the present study we found by utilizing rtpcr with rna extracted from anti1a6drim inummoprecipitates and northern blotting that 1a6drim is associated with u3 snorna pulsechase labeling assays showed that silencing of 1a6drim expression in hela cells resulted in a delayed 18s rrna processing furthermore immunoprecipitations revealed that 1a6drim was also associated with fibrillarin another u3 rnp component in hela cells these results indicate that 1a6drim is involved in 18s rrna processing and is the bona fide mammalian utp20 c 2007 elsevier bv all rights reserved']\n",
            " ['1' 'Psychology'\n",
            "  ' 22q112 deletion syndrome face recognition negative performance belief negative symptom        '\n",
            "  'aims 22q112 deletion syndrome 22q112ds is a neurogenetic condition associated with an increased risk of developing schizophrenia previous studies have shown that negative symptoms represent the most specific clinical characteristic of psychosis in 22q112ds and are strongly associated with outcome however the psychological mechanisms associated with these symptoms in this population are poorly understood in accordance with recent conceptualizations in the field of schizophrenia the present study aims at investigating whether negative symptoms are associated with the presence of negative performance beliefs and cognitive deficits methods thirtyfive participants with 22q112ds and 24 typically developing individuals aged between 11 and 24 years were included in the study selfreported schizotypal symptoms cognitiveperceptual paranoid negative and disorganization symptoms and dysfunctional beliefs negative performance beliefs and need for approval were assessed measures of processing speed verbal memory working memory executive functioning and face recognitionwere also extracted from a broad cognitive evaluation protocol results adolescents with 22q112ds reported significantly higher score on the negative dimension of the schizotypal personality questionnaire than controls even when controlling for the influence of anxietydepression and intellectual functioning negative and paranoid symptoms were associated with the severity of negative performance beliefs and lower face recognition abilities mediation analyses revealed that negative performance beliefs significantly mediated the association between face recognition and negativeparanoid symptoms conclusions these findings suggest that negative performance beliefs and basic social cognitive mechanisms are associated with negative and paranoid symptoms in individuals with 22q112ds implications for intervention are discussed in this article']\n",
            " ['1' 'Psychology'\n",
            "  ' 22q112 deletion syndrome social brain network social cognition twotensor tractography white matter tracts        '\n",
            "  'background chromosome 22q112 deletion syndrome 22q112ds is a neurogenetic disorder that is associated with a 25fold increase in schizophrenia both individuals with 22q112ds and those with schizophrenia present with social cognitive deficits which are putatively subserved by a network of brain regions that are involved in the processing of social cognitive information this study used twotensor tractography to examine the white matter tracts believed to underlie the social brain network in a group of 57 young adults with 22q112ds compared to 30 unaffected controls results results indicated that relative to controls participants with 22q112ds showed significant differences in several dti metrics within the inferior frontooccipital fasciculus cingulum bundle thalamofrontal tract and inferior longitudinal fasciculus in addition participants with 22q112ds showed significant differences in scores on measures of social cognition including the social responsiveness scale and trait emotional intelligence questionnaire further analyses among individuals with 22q112ds demonstrated an association between dti metrics and positive and negative symptoms of psychosis as well as differentiation between individuals with 22q112ds and overt psychosis relative to those with positive prodromal symptoms or no psychosis conclusions findings suggest that white matter disruption specifically disrupted axonal coherence in the right inferior frontooccipital fasciculus may be a biomarker for social cognitive difficulties and psychosis in individuals with 22q112ds']\n",
            " ['2' 'biochemistry'\n",
            "  ' 22q121 tetratricopeptide repeat tpr centrosome aurora kinase b cell division midbody        '\n",
            "  'through the comprehensive analysis of the genomic dna sequence of human chromosome 22 we identified a novel gene of 702 kb encoding a big protein of 2481 amino acid residues and named it as tprbk tpr containing big gene cloned at keio a novel protein tprbk possesses 25 units of the tpr motif which has been known to associate with a diverse range of biological functions orthologous genes of human tprbk were found widely in animal species from insecta to mammal but not found in plants fungi and nematoda northern blotting and rtpcr analyses revealed that tprbk gene is expressed ubiquitously in the human and mouse fetal tissues and various cell lines of human monkey and mouse lmmunofluorescent staining of the synchronized monkey cos7 cells with several relevant antibodies indicated that tprbk changes its subcellular localization during the cell cycle at interphase tprbk locates on the centrosomes during mitosis it translocates from spindle poles to mitotic spindles then to spindle midzone and through a period of cytokinesis it stays on the midbody coimmunoprecipitation assay and immunofluorescent staining with adequate antibodies revealed that tprbk binds to aurora b and those proteins together translocate throughout mitosis and cytokinesis treatments of cells with two drugs blebbistatin and y27632 that are known to inhibit the contractility of actinmyosin disturbed the proper intracellular localization of tprbk moreover the knockdown of tprbk expression by small interfering rna sirna suppressed the bundling of spindle midzone microtubules and disrupted the midbody formation arresting the cells at g2  m phase these observations indicated that a novel big protein tprbk is essential for the formation and integrity of the midbody hence we postulated that tprbk plays a critical role in the progress of mitosis and cytokinesis during mammalian cell cycle c 2012 elsevier bv all rights reserved']]\n"
          ]
        }
      ],
      "source": [
        "print(tsvData[0:15])"
      ]
    },
    {
      "cell_type": "code",
      "execution_count": 8,
      "metadata": {
        "id": "eMlvUSrlWXUI"
      },
      "outputs": [],
      "source": [
        "allLabels = tsvData[:,0]\n",
        "domains = tsvData[:,1]\n",
        "keywords = tsvData[:,2]\n",
        "abstracts = tsvData[:,3]"
      ]
    },
    {
      "cell_type": "code",
      "execution_count": 9,
      "metadata": {
        "colab": {
          "base_uri": "https://localhost:8080/"
        },
        "id": "I5ukmXOvWXUI",
        "outputId": "fc29d704-0b7c-41cd-9334-8ab8b46afe9e"
      },
      "outputs": [
        {
          "output_type": "stream",
          "name": "stdout",
          "text": [
            "Labels  ['ECE' 'Psychology' 'biochemistry']\n",
            "Label counts  [1292 1597 2847]\n"
          ]
        }
      ],
      "source": [
        "labels = np.unique(domains, return_counts=True)[0]\n",
        "labelCounts=  np.unique(domains, return_counts=True)[1]\n",
        "\n",
        "print(\"Labels \", labels)\n",
        "print(\"Label counts \", labelCounts)"
      ]
    },
    {
      "cell_type": "code",
      "execution_count": 10,
      "metadata": {
        "colab": {
          "base_uri": "https://localhost:8080/",
          "height": 582
        },
        "id": "-T7QrmVmWXUI",
        "outputId": "58468a37-9d0b-4e58-f79d-e738266ee922"
      },
      "outputs": [
        {
          "output_type": "display_data",
          "data": {
            "text/plain": [
              "<Figure size 1000x600 with 1 Axes>"
            ],
            "image/png": "[encoded data removed]"
          },
          "metadata": {}
        },
        {
          "output_type": "stream",
          "name": "stdout",
          "text": [
            "The domain ECE has 1292 records in the dataset.\n",
            "The domain Psychology has 1597 records in the dataset.\n",
            "The domain biochemistry has 2847 records in the dataset.\n"
          ]
        }
      ],
      "source": [
        "# Visualize domain counts in dataset\n",
        "plt.figure(figsize=(10, 6))\n",
        "plt.title(\"Domain Counts (Dataset)\")\n",
        "plt.pie(labelCounts, labels=labels, autopct='%1.1f%%', startangle=140, colors=plt.cm.Paired(range(len(labels))))\n",
        "plt.axis('equal')\n",
        "plt.show()\n",
        "\n",
        "for i, domain in enumerate(labels):\n",
        "    print(\"The domain\", domain, \"has\", labelCounts[i], \"records in the dataset.\")"
      ]
    },
    {
      "cell_type": "code",
      "execution_count": 11,
      "metadata": {
        "colab": {
          "base_uri": "https://localhost:8080/"
        },
        "id": "MWaqWll9WXUI",
        "outputId": "4a8fbe9b-3228-41d7-8c87-82ca5a939287"
      },
      "outputs": [
        {
          "output_type": "stream",
          "name": "stdout",
          "text": [
            "Number of abstracts:  5736\n",
            "Shape of abstracts:  (5736,)\n",
            "['genetically modified organisms are increasingly used in the production of feed and food which has met with opposition from consumers the aim of the study was the use of molecular biology methods with particular emphasis on techniques of realtime pcr in the research in the detection and identification of genetically modified feed the research materials were samples of feed taken from feed produced and used in animal nutrition in poland in the years 20042015 the applied research methods included pcr and realtime pcr techniques and consisted in the detection and determination of the dna content of genetically modified plants cascade methods used in this study included the screening method of detection of gmos the method of identifying the type of gmo and methods of quantitative analysis of gmo content as part of the research task in the years 20042015 a total of 1435 samples of feed towards gmos were examined a positive result was found in 559 cases 39 most frequently the positive samples were found the presence of genetically modified soybeans 531 37 moreover within the years 20142015 an increase in the number of positive gm rape samples was observed 56 4 gm maize contained the least positive samples 38 26 gmo content above the legislative threshold 09 was found in the vast majority of samples containing gm soy while for maize and rapeseed the number of samples containing more than 09 gmo was respectively 12 and 8 analysis of the feed market in poland indicates that the soybean plant is the most common genetically modified crop analysis of the origin of sources of gm rapeseed showed that the reasons for this should be sought in batches of rapeseed imported from third countries it has been observed with regard to the situation of gm maize for the feed market in poland that from 2013 the situation changed radically as a result of the decree of the ministry of agriculture issued prohibiting the cultivation of mon810 maize on polish fields the result of our study showed that the proportion of genetically modified feed on the feed market in poland is very similar to other eu countries the source of gmos in feed on the polish market is feed materials imported into poland as a source of feed protein'\n",
            " 'purposemore than 25 of us adults experience mental health or substance use conditions annually yet less than half receive treatment this study explored how rural participants with behavioral health conditions pursue and receive care and it examined how these factors differed across american indian ai and geographic subpopulations methodswe undertook a qualitative followup study from a statewide survey of unmet mental health and substance use needs in south dakota we conducted semistructured phone interviews with a purposive sample of key informants with varying perceptions of need for mental health and substance use treatment resultswe interviewed 33 participants with mental health n  18 substance use n  9 and cooccurring disorders n  6 twenty participants 610 lived in rural communities that did not overlap with ai tribal land twelve participants 343 were ai 8 of whom lived on a reservation 242 the discrepancy between actual and perceived treatment need was related to how participants defined mental health alcohol and drug use problems mental health disorders and excessive alcohol consumption were seen as a normal part of life in rural and reservation communities seeking mental health care or maintaining sobriety was viewed as the result of an individuals willpower and frequently related to a substantial life event eg childbirth participants recommended treatment gaps be addressed through multicomponent communitylevel interventions discussionthis study describes how rural populations view mental health alcohol and drug use enhancing access to care addressing discordant perceptions and improving communitybased interventions may increase treatment uptake']\n",
            "Number of keywords:  5736\n",
            "Shape of keywords:  (5736,)\n",
            "['genetically modified organisms are increasingly used in the production of feed and food which has met with opposition from consumers the aim of the study was the use of molecular biology methods with particular emphasis on techniques of realtime pcr in the research in the detection and identification of genetically modified feed the research materials were samples of feed taken from feed produced and used in animal nutrition in poland in the years 20042015 the applied research methods included pcr and realtime pcr techniques and consisted in the detection and determination of the dna content of genetically modified plants cascade methods used in this study included the screening method of detection of gmos the method of identifying the type of gmo and methods of quantitative analysis of gmo content as part of the research task in the years 20042015 a total of 1435 samples of feed towards gmos were examined a positive result was found in 559 cases 39 most frequently the positive samples were found the presence of genetically modified soybeans 531 37 moreover within the years 20142015 an increase in the number of positive gm rape samples was observed 56 4 gm maize contained the least positive samples 38 26 gmo content above the legislative threshold 09 was found in the vast majority of samples containing gm soy while for maize and rapeseed the number of samples containing more than 09 gmo was respectively 12 and 8 analysis of the feed market in poland indicates that the soybean plant is the most common genetically modified crop analysis of the origin of sources of gm rapeseed showed that the reasons for this should be sought in batches of rapeseed imported from third countries it has been observed with regard to the situation of gm maize for the feed market in poland that from 2013 the situation changed radically as a result of the decree of the ministry of agriculture issued prohibiting the cultivation of mon810 maize on polish fields the result of our study showed that the proportion of genetically modified feed on the feed market in poland is very similar to other eu countries the source of gmos in feed on the polish market is feed materials imported into poland as a source of feed protein'\n",
            " 'purposemore than 25 of us adults experience mental health or substance use conditions annually yet less than half receive treatment this study explored how rural participants with behavioral health conditions pursue and receive care and it examined how these factors differed across american indian ai and geographic subpopulations methodswe undertook a qualitative followup study from a statewide survey of unmet mental health and substance use needs in south dakota we conducted semistructured phone interviews with a purposive sample of key informants with varying perceptions of need for mental health and substance use treatment resultswe interviewed 33 participants with mental health n  18 substance use n  9 and cooccurring disorders n  6 twenty participants 610 lived in rural communities that did not overlap with ai tribal land twelve participants 343 were ai 8 of whom lived on a reservation 242 the discrepancy between actual and perceived treatment need was related to how participants defined mental health alcohol and drug use problems mental health disorders and excessive alcohol consumption were seen as a normal part of life in rural and reservation communities seeking mental health care or maintaining sobriety was viewed as the result of an individuals willpower and frequently related to a substantial life event eg childbirth participants recommended treatment gaps be addressed through multicomponent communitylevel interventions discussionthis study describes how rural populations view mental health alcohol and drug use enhancing access to care addressing discordant perceptions and improving communitybased interventions may increase treatment uptake']\n",
            "Number of domains:  5736\n",
            "Shape of domains:  (5736,)\n",
            "['biochemistry' 'Psychology']\n",
            "Number of labels:  5736\n",
            "Shape of labels:  (5736,)\n",
            "['2' '1']\n",
            "['genetically modified organisms are increasingly used in the production of feed and food which has met with opposition from consumers the aim of the study was the use of molecular biology methods with particular emphasis on techniques of realtime pcr in the research in the detection and identification of genetically modified feed the research materials were samples of feed taken from feed produced and used in animal nutrition in poland in the years 20042015 the applied research methods included pcr and realtime pcr techniques and consisted in the detection and determination of the dna content of genetically modified plants cascade methods used in this study included the screening method of detection of gmos the method of identifying the type of gmo and methods of quantitative analysis of gmo content as part of the research task in the years 20042015 a total of 1435 samples of feed towards gmos were examined a positive result was found in 559 cases 39 most frequently the positive samples were found the presence of genetically modified soybeans 531 37 moreover within the years 20142015 an increase in the number of positive gm rape samples was observed 56 4 gm maize contained the least positive samples 38 26 gmo content above the legislative threshold 09 was found in the vast majority of samples containing gm soy while for maize and rapeseed the number of samples containing more than 09 gmo was respectively 12 and 8 analysis of the feed market in poland indicates that the soybean plant is the most common genetically modified crop analysis of the origin of sources of gm rapeseed showed that the reasons for this should be sought in batches of rapeseed imported from third countries it has been observed with regard to the situation of gm maize for the feed market in poland that from 2013 the situation changed radically as a result of the decree of the ministry of agriculture issued prohibiting the cultivation of mon810 maize on polish fields the result of our study showed that the proportion of genetically modified feed on the feed market in poland is very similar to other eu countries the source of gmos in feed on the polish market is feed materials imported into poland as a source of feed protein'\n",
            " 'purposemore than 25 of us adults experience mental health or substance use conditions annually yet less than half receive treatment this study explored how rural participants with behavioral health conditions pursue and receive care and it examined how these factors differed across american indian ai and geographic subpopulations methodswe undertook a qualitative followup study from a statewide survey of unmet mental health and substance use needs in south dakota we conducted semistructured phone interviews with a purposive sample of key informants with varying perceptions of need for mental health and substance use treatment resultswe interviewed 33 participants with mental health n  18 substance use n  9 and cooccurring disorders n  6 twenty participants 610 lived in rural communities that did not overlap with ai tribal land twelve participants 343 were ai 8 of whom lived on a reservation 242 the discrepancy between actual and perceived treatment need was related to how participants defined mental health alcohol and drug use problems mental health disorders and excessive alcohol consumption were seen as a normal part of life in rural and reservation communities seeking mental health care or maintaining sobriety was viewed as the result of an individuals willpower and frequently related to a substantial life event eg childbirth participants recommended treatment gaps be addressed through multicomponent communitylevel interventions discussionthis study describes how rural populations view mental health alcohol and drug use enhancing access to care addressing discordant perceptions and improving communitybased interventions may increase treatment uptake'\n",
            " 'elongation factor ef is a key regulation factor for translation in many organisms including plants bacteria fungi animals and insects to investigate the nature and function of elongation factor 1 beta from spodoptera exigua seef1 beta its cdna was cloned this contained an open reading frame of 672 nucleotides encoding a protein of 223 amino acids with a predicted molecular weight of 2404 kda and pi of 453 northern blotting revealed that seef1 beta mrna is expressed in brain epidermis fat body midgut malpighian tubules ovary and tracheae rtpcr revealed that seef1 beta mrna is expressed at different levels in fat body and whole body during different developmental stages in rnai experiments the survival rate of insects injected with seef1 beta dsrna was 587 at 36 h after injection which was significantly lower than three control groups other elongation factors and transcription factors were also influenced when ef1 beta was suppressed the results demonstrate that seef1 beta is a key gene in transcription in s exigua'\n",
            " 'exposure of children to domestic violence and abuse dva is a form of child maltreatment with shortand longterm behavioural and mental health impact health care professionals are generally uncertain about how to respond to domestic violence and are particularly unclear about best practice with regards to childrens exposure and their role in a multiagency response in this systematic review we report educational and structural or wholesystem interventions that aim to improve professionals understanding of and response to dva survivors and their children we searched 22 bibliographic databases and contacted topic experts for studies reporting quantitative outcomes for any type of intervention aiming to improve professional responses to disclosure of dva with child involvement we included interventions for physicians nurses socialworkers and teachers twentyone studiesmet the inclusion criteria three randomised controlled trials rcts 18 prepost intervention surveys there were 18 training and three systemlevel interventions training interventions generally had positive effects on participants knowledge attitudes towards dva and clinical competence the results from the rcts were consistent with the beforeafter surveys results from systemlevel interventions aimed to change organisational practice and interorganisational collaboration demonstrates the benefit of coordinating system change in child welfare agencies with primary health care and other organisations implications for policy and research are discussed c 2015 the authors child abuse review published by john wiley  sons ltd'\n",
            " 'it is traditionally challenging to implement higherorder pwm closedloop classd audio amplifiers using analog intensive techniques in deepsubmicron low voltage process technologies this is primarily attributed to reduced power supply degraded analog transistor characteristics including shortchannel effects increased flicker noise random telegraph noise transistor reliability concerns and passive component performance in this paper we introduce a global closedloop mixedsignal architecture incorporating digital control and integrate a fourthorder amplifier prototype in 55 nm cmos a systematic approach to analyze design and compensate the feedback loop in the digital domain is also presented the versatility of implementing the loop gain poles and zeros digitally attains high gain throughout the audio band and attenuates residual high frequency ripples around the loop simultaneously accomplishing improvements in thd n and psrr the overall architecture is inherently amenable to implementation in deepsubmicron and is therefore compatible with scaled cmos the measured prototype achieves a high 105 dba snr 00031 thd n 92 db psrr and 85 efficiency when supplying 1 w into emulated 8 speaker load this performance is competitive with conventional designs using large feature size precision cmos or specialized bcd technologies and reports the highest output power 15 w for deepsubmicron designs'\n",
            " 'the prevalence of the use of herbal medicines is on the rise across the world especially amongst pregnant women a fact that draws attention is that many species commonly used by pregnant women including the tropaeolum majus l tropaeolaceae also present inhibitory activity on the angiotensinconverting enzyme ace herein we have investigated the effects of t majus extract hetm on fetal development evaluating its relationship with possible ace inhibitory activity pregnant wistar rats were treated with different hetm doses 3 30 and 300 mgkgday from gestational days 820 rats were sacrificed on the day 20 of pregnancy and the following parameters were evaluated clinical symptoms of maternal toxicity maternal body weight feed and water intake maternal liver kidney and ovary weights maternal ace activity and aldosterone levels live fetuses mean dead fetuses percentage fetus weight and fetal malformation all pregnant rats treated with high hetm doses showed significant reduction in plasma ace activity accompanied by a decrease in serum aldosterone levels moreover significant changes in fetal development were observed including growth retardation and renal damage after 20 days of gestation thus data presented demonstrate the significant effects of the use of hetm on fetal development during pregnancy'\n",
            " 'this paper explores the performance of a dcdc converter based with current mode controller photovoltaic pv simulator which emulates the output characteristics of a real pv module a portable pv simulator prototype of 85 w is examined in terms of its steady state iv curve matching capacity and the convergence time corresponding to step change in current source load voltage source load and insolation levels the current voltage iv characteristics of the pv module are implemented as a lookuptable lut which determines the reference output current from measured output voltage a thevenin equivalent method approach to pv arrays analysis is also included in order to model the smallsignal linearized characteristics extensive simulation results obtained in mat lab are included to show that the pv simulator can work in most situations as a real pv module preliminary experimental results verify performance with currentsource and voltagesource loads'\n",
            " 'the immunomodulatory effects of dietary pglucan were evaluated in silver catfish pglucan was added to the diet 001 and 01 and fed to the fish for 21 days to evaluate effects on blood and some innate immune parameter or fed for 42 days to evaluate growth rate and resistance to challenge with pathogenic aeromonas hydrophila we found that adding pglucan to the diet had no effect on fish growth and no effect on blood cells or serum bacterial agglutination and serum myeloperoxidase activity however fish that received pglucan in the diet had the natural hemolytic activity of complement significantly higher compared to control fish furthermore fish fed with pglucan and challenged with a hydrophila had fewer bacteria in blood and presented a significantly higher survival rate compared to control fish thus we concluded that pglucan might be explored as feed additive aiming to improve silver catfish innate immunity and resistance to specific pathogen'\n",
            " 'in this paper a novel lossless grounded negative inductance simulator is proposed using only one operational transresistance amplifier otra as an active element and one capacitor and three or four resistors as passive elements all the properties of the proposed negative inductance simulator are verified using both cmos and current feedback operational amplifier cfoa based otra realization is pspice the proposed circuit is also tested experimentally to verify the theoretical results as an application the cancellation of unwanted inductance is tested using the proposed inductance simulator'\n",
            " 'background limited accessibility to providers may delay appropriate control of asthma exacerbations the objective of our study is to estimate the contributors to the hospitalemergency department ed visits among adults with asthma focusing on the availability of healthcare providers methods we conducted a pooled crosssectional analysis using the 20112013 asthma callback survey linked with 20122016 area health resource files we employed multivariable logistic regression with dichotomous outcomes of hospitalization and ed visits key covariates were the availability of countylevel healthcare provider variables per 100000 persons such as the number of lung disease specialists including pulmonary care specialists and allergy and immunology specialists the number of hospitals the number of safetynet facilities including rural health centers rhcs and federally qualified health centers fqhcs and the number of primary care physicians pcps results among 25621 adults proportions of hospital visits and ed visits were 33 and 132 respectively an additional rhc reduced by 3 the odds of having an ed visit odds ratio or  097 p004 patients with cost barriers to seeing a pcp were 60 or  160 p028 more likely to have a hospital visit than those without in addition patients with cost barriers to seeing a specialist were 90 or  190 p007 and 111 or 211 p001 more likely to have a hospital visit and ed visit respectively than those without conclusions hospital and ed visits among adults with asthma are partially related to the availability of providers and more related to financial barriers therefore financial support for the vulnerable asthma population might be a target for policy makers interested in reducing hospitalizations and ed visits']\n",
            "[' genetically modified organisms molecular biology gm feed        '\n",
            " ' alcohol abuse drug abuse mental health policy qualitative research        '\n",
            " ' elongation factor cloning expression pattern rnai spodoptera exigua        '\n",
            " ' domestic violence child safeguarding systematic review professional assessment        '\n",
            " ' audio power amplifier classd amplifier power supply rejection ratio psrr pulsewidth modulation pwm total harmonic distortion and noise thd plus n        '\n",
            " ' tropaeolum majus tropaeolaceae ace inhibitors pregnancy toxicity        '\n",
            " ' digital control photovoltaic simulator predictive current mode control solar panel iv curve        '\n",
            " ' silver catfish rhamdia quelen fish immunostimulants betaglucan aeromonas hydrophila        '\n",
            " ' grounded lossless inductance negative inductance simulation operational transresistance amplifier otra        '\n",
            " ' allergist ed visit hospitalization pulmonary specialist        ']\n",
            "['biochemistry' 'Psychology' 'biochemistry' 'Psychology' 'ECE'\n",
            " 'Psychology' 'ECE' 'biochemistry' 'ECE' 'biochemistry']\n",
            "['2' '1' '2' '1' '0' '1' '0' '2' '0' '2']\n",
            "[2 1 2 1 0 1 0 2 0 2]\n"
          ]
        }
      ],
      "source": [
        "# Shuffle data\n",
        "dataShuffled = sklearn.utils.shuffle(tsvData)\n",
        "\n",
        "abstractsShuffled = dataShuffled[:,3]\n",
        "keywordsShuffled = dataShuffled[:,2]\n",
        "domainsShuffled = dataShuffled[:,1]\n",
        "allLabelsShuffled = dataShuffled[:,0]\n",
        "\n",
        "print(\"Number of abstracts: \", len(abstractsShuffled))\n",
        "print(\"Shape of abstracts: \", np.shape(abstractsShuffled))\n",
        "print(abstractsShuffled[0:2])\n",
        "\n",
        "print(\"Number of keywords: \", len(keywordsShuffled))\n",
        "print(\"Shape of keywords: \", np.shape(keywordsShuffled))\n",
        "print(abstractsShuffled[0:2])\n",
        "\n",
        "print(\"Number of domains: \", len(domainsShuffled))\n",
        "print(\"Shape of domains: \", np.shape(domainsShuffled))\n",
        "print(domainsShuffled[0:2])\n",
        "\n",
        "print(\"Number of labels: \", len(allLabelsShuffled))\n",
        "print(\"Shape of labels: \", np.shape(allLabelsShuffled))\n",
        "print(allLabelsShuffled[0:2])\n",
        "\n",
        "\n",
        "# Convert labels to integer\n",
        "allLabelsDigitShuffled = allLabelsShuffled.astype(int)\n",
        "\n",
        "print(abstractsShuffled[0:10])\n",
        "print(keywordsShuffled[0:10])\n",
        "print(domainsShuffled[0:10])\n",
        "print(allLabelsShuffled[0:10])\n",
        "print(allLabelsDigitShuffled[0:10])"
      ]
    },
    {
      "cell_type": "code",
      "execution_count": 12,
      "metadata": {
        "colab": {
          "base_uri": "https://localhost:8080/",
          "height": 301,
          "referenced_widgets": [
            "dc54c987015143b5b6872fcd5221be82",
            "fc10c7b74eb847ab9a50b54d219cc0c2",
            "5dbe7ffe86904214874a05b3d738da4a",
            "3c79ba540c8840e18871a6c4212020fe",
            "4f66a43f83384e14aa2b82b88ab16f21",
            "40ed1f12e4a34decb1a551a122c64a51",
            "fd59ce171a654a19bbff357017c0f5fb",
            "8dc6e5c5ab2f42b48dc1afcd3a0a7bca",
            "074b815f5e81476a835556291ea8ab77",
            "0362b539552843b7b74cc7264e63ef56",
            "69c30cdf1a6e4ba18b3384cc2cf3713a",
            "424f0343991b4418970f0cf07cbad3c8",
            "f6c66079e1cf4b69ad557ce26709fae0",
            "e8fe86b4862b403f9c66e7fbdcf46789",
            "a31b6109fdf64914a58041b07ae1b3e6",
            "eb23fa2b25fe49ad8574c9fa9c3b7e3d",
            "17e4c707d63c47af9284b1ff1ccc0035",
            "6658de2d3a69445ababf2f7ada42ad22",
            "800d08aa19cd46d8ab930cf62fc9b271",
            "7a73c8a6143c46c3abea1f6733b11e61",
            "da5aaa0870124e6b8ddd196fcfd13830",
            "5e350681db804644811cf9ec1488c114"
          ]
        },
        "id": "t9_3IhKwWXUI",
        "outputId": "23aefbb6-c071-4494-b01e-c3816886acf9"
      },
      "outputs": [
        {
          "output_type": "stream",
          "name": "stdout",
          "text": [
            "(4588, 4)\n",
            "(1148, 4)\n",
            "(4588, 4)\n",
            "(1148, 4)\n",
            "(230, 4)\n"
          ]
        },
        {
          "output_type": "stream",
          "name": "stderr",
          "text": [
            "/usr/local/lib/python3.10/dist-packages/huggingface_hub/utils/_token.py:89: UserWarning: \n",
            "The secret `HF_TOKEN` does not exist in your Colab secrets.\n",
            "To authenticate with the Hugging Face Hub, create a token in your settings tab (https://huggingface.co/settings/tokens), set it as secret in your Google Colab and restart your session.\n",
            "You will be able to reuse this secret in all of your notebooks.\n",
            "Please note that authentication is recommended but still optional to access public models or datasets.\n",
            "  warnings.warn(\n"
          ]
        },
        {
          "output_type": "display_data",
          "data": {
            "text/plain": [
              "config.json:   0%|          | 0.00/1.11k [00:00<?, ?B/s]"
            ],
            "application/vnd.jupyter.widget-view+json": {
              "version_major": 2,
              "version_minor": 0,
              "model_id": "dc54c987015143b5b6872fcd5221be82"
            }
          },
          "metadata": {}
        },
        {
          "output_type": "display_data",
          "data": {
            "text/plain": [
              "vocab.txt:   0%|          | 0.00/213k [00:00<?, ?B/s]"
            ],
            "application/vnd.jupyter.widget-view+json": {
              "version_major": 2,
              "version_minor": 0,
              "model_id": "424f0343991b4418970f0cf07cbad3c8"
            }
          },
          "metadata": {}
        }
      ],
      "source": [
        "# Split dataset into training and testing (80/20 split)\n",
        "train_data, test_data = train_test_split(dataShuffled, test_size=0.2, random_state=42)\n",
        "print(np.shape(train_data))\n",
        "print(np.shape(test_data))\n",
        "\n",
        "# Further split training data into training and validation (80/20 split of training set)\n",
        "_, val_data = train_test_split(test_data, test_size=0.2, random_state=42)\n",
        "print(np.shape(train_data))\n",
        "print(np.shape(test_data))\n",
        "print(np.shape(val_data))\n",
        "# Load BioBERT tokenizer\n",
        "tokenizer = AutoTokenizer.from_pretrained(\"dmis-lab/biobert-base-cased-v1.2\")"
      ]
    },
    {
      "cell_type": "code",
      "execution_count": 13,
      "metadata": {
        "colab": {
          "base_uri": "https://localhost:8080/"
        },
        "id": "5wYiosJzWXUJ",
        "outputId": "cd51f8bd-e54c-4b5f-d71f-0ccbfb2a07d0"
      },
      "outputs": [
        {
          "output_type": "stream",
          "name": "stdout",
          "text": [
            "Number of abstracts:  4588\n",
            "Shape of abstracts:  (4588,)\n",
            "Number of keywords:  4588\n",
            "Shape of keywords:  (4588,)\n",
            "Number of domains:  4588\n",
            "Shape of domains:  (4588,)\n",
            "Number of labels:  4588\n",
            "Shape of labels:  (4588,)\n",
            "['child temperament as well as parenting behaviors have been linked to adolescent depression beyond their main effects the interplay between these factors is of interest for example in an interactive model a differential susceptibility of temperamental variants to parenting has been suggested however so far the differential susceptibility hypothesis has mostly been studied with a focus on externalizing disorders on the other hand parenting may shape the childs temperament and vice versa in a transactional process in a prospective longitudinal atrisk sample 163 boys 176 girls we assessed emotional easydifficult and regulative selfcontrol temperament at ages 45 and 8 years respectively as well as parenting quality at age 45 years using the home inventory hierarchical linear regression analysis was used to investigate the prediction of depressive symptoms at age 11 measured by the child depression inventory including interaction terms between the temperament variable and parenting we additionally tested whether parenting was mediated by child temperament as previously reported both selfcontrol and parenting were longitudinally associated with preadolescent depressive symptoms there were no interactive effects between temperament and parenting however the effects of parenting were partly mediated by selfcontrol our data do not support a differential susceptibility of temperamental variants in the development of preadolescent depression however our results are in line with the assumption that parenting may shape young childrens temperament with positive parenting in the early childhood fostering the development of regulative temperament'\n",
            " 'biofuels have transitioned from a technology expected to deliver numerous benefits to a highly contested sociotechnical solution initial hopes about their potential to mitigate climate change and to deliver energy security benefits and rural development particularly in the global south have unravelled in the face of numerous controversies in recognition of the negative externalities associated with biofuels the european union developed sustainability criteria which are enforced by certification schemes this paper draws on the literature on stewardship to analyse the outcomes of these schemes in two countries the uk and guatemala it explores two key issues first how has european union biofuels policy shaped biofuel industries in the uk and guatemala and second what are the implications for sustainable land stewardship by drawing attention to the outcomes of european demand for biofuels we raise questions about the ability of european policy to drive sustainable land practices in these two cases the paper concludes that rather than promoting stewardship the current governance framework effectively rubberstamps existing agricultural systems and serves to further embed existing inequalities']\n",
            "[' temperament parenting children depression parentchildinteraction        '\n",
            " ' biofuels certification guatemala land use stewardship uk        ']\n",
            "['Psychology' 'Psychology']\n",
            "['1' '1']\n"
          ]
        }
      ],
      "source": [
        "abstractsTrain = train_data[:,3]\n",
        "keywordsTrain = train_data[:,2]\n",
        "domainsTrain = train_data[:,1]\n",
        "allLabelsTrain = train_data[:,0]\n",
        "\n",
        "print(\"Number of abstracts: \",len(abstractsTrain))\n",
        "print(\"Shape of abstracts: \",np.shape(abstractsTrain))\n",
        "print(\"Number of keywords: \",len(keywordsTrain))\n",
        "print(\"Shape of keywords: \",np.shape(keywordsTrain))\n",
        "print(\"Number of domains: \",len(domainsTrain))\n",
        "print(\"Shape of domains: \",np.shape(domainsTrain))\n",
        "print(\"Number of labels: \",len(allLabelsTrain))\n",
        "print(\"Shape of labels: \",np.shape(allLabelsTrain))\n",
        "\n",
        "print(abstractsTrain[0:2])\n",
        "print(keywordsTrain[0:2])\n",
        "print(domainsTrain[0:2])\n",
        "print(allLabelsTrain[0:2])"
      ]
    },
    {
      "cell_type": "code",
      "execution_count": 14,
      "metadata": {
        "colab": {
          "base_uri": "https://localhost:8080/",
          "height": 619
        },
        "id": "kuvxdWDRWXUJ",
        "outputId": "326b47af-c58a-42bb-d480-6ac2b54499ef"
      },
      "outputs": [
        {
          "output_type": "stream",
          "name": "stdout",
          "text": [
            "Labels  ['ECE' 'Psychology' 'biochemistry']\n",
            "Label counts  [1040 1273 2275]\n"
          ]
        },
        {
          "output_type": "display_data",
          "data": {
            "text/plain": [
              "<Figure size 1000x600 with 1 Axes>"
            ],
            "image/png": "[encoded data removed]"
          },
          "metadata": {}
        },
        {
          "output_type": "stream",
          "name": "stdout",
          "text": [
            "The domain ECE has 1040 records in the training set.\n",
            "The domain Psychology has 1273 records in the training set.\n",
            "The domain biochemistry has 2275 records in the training set.\n"
          ]
        }
      ],
      "source": [
        "labels = np.unique(domainsTrain, return_counts=True)[0]\n",
        "labelCounts =  np.unique(domainsTrain, return_counts=True)[1]\n",
        "\n",
        "print(\"Labels \", labels)\n",
        "print(\"Label counts \", labelCounts)\n",
        "\n",
        "nAbstract = len(abstractsTrain)\n",
        "plt.figure(figsize=(10, 6))\n",
        "plt.title(\"Domain Counts (Training Set)\")\n",
        "plt.pie(labelCounts, labels=labels, autopct='%1.1f%%', startangle=140, colors=plt.cm.Paired(range(len(labels))))\n",
        "plt.axis('equal')  # Equal aspect ratio ensures that pie is drawn as a circle.\n",
        "plt.show()\n",
        "\n",
        "for i, domain in enumerate(labels):\n",
        "    print(\"The domain\", domain, \"has\", labelCounts[i], \"records in the training set.\")"
      ]
    },
    {
      "cell_type": "code",
      "execution_count": 15,
      "metadata": {
        "colab": {
          "base_uri": "https://localhost:8080/"
        },
        "id": "WpHlCnwUWXUJ",
        "outputId": "8ba668e1-cfa8-48f5-9986-15ec027878a1"
      },
      "outputs": [
        {
          "output_type": "stream",
          "name": "stdout",
          "text": [
            "Number of abstracts:  1148\n",
            "Shape of abstracts:  (1148,)\n",
            "Number of keywords:  1148\n",
            "Shape of keywords:  (1148,)\n",
            "Number of domains:  1148\n",
            "Shape of domains:  (1148,)\n",
            "Number of labels:  1148\n",
            "Shape of labels:  (1148,)\n",
            "['aims verrucous carcinoma vc is a variant of welldifferentiated squamous cell carcinoma and in the anal region is regarded as synonymous with giant condyloma buschkelowenstein tumour blt aetiology diagnostic criteria and clinical behaviour of both lesions are controversial recent studies suggest that vc at other sites is not associated with human papillomaviruses hpv we hypothesized that anal vc is also not related to hpv while blt is a hpvinduced lesion methods and results ten cases of vc and four cases of blt were included several techniques were used for hpv detection insitu hybridization for hpv6 11 16 and 18 six different polymerase chain reaction pcr protocols for detection of at least 89 hpv types from alpha beta gamma and mupv genera and insitu hybridization for highrisk hpv e6e7 mrna p16 immunohistochemistry and morphometric analysis were also performed alpha gamma and mupvs were not found in any case of vc while hpv6 was detected in all cases of blt p16 overexpression was not present in any of the lesions among microscopic features only the absence of koilocytosis and enlarged spinous cells seem to be useful to distinguish vc from blt conclusions our results suggest that anal vc similarly to vc at other sites is not associated with hpv infection and must be distinguished from blt which is associated with lowrisk hpv only with wellset diagnostic criteria will it be possible to ascertain clinical behaviour and optimal treatment for both lesions'\n",
            " 'infrastructure services are essential to human development yet the drivers of service access at a global scale remain largely unexplored this paper presents trends and global patterns in access to water sanitation electricity and telephony services using a panel data set from 1990 to 2010 we empirically explore plausible determinants of access rates to key infrastructure services although percapita gdp is correlated with access rates access still varies significantly at comparable income levels much of this variation is explained by differences in population density access levels are higher for urban areas and highest for water followed by sanitation electricity and telephony c 2017 elsevier ltd all rights reserved']\n",
            "[' anal giant condyloma anal verrucous carcinoma buschkelowenstein tumour human papillomaviruses        '\n",
            " ' infrastructure access basic needs sdgs fractional logit model global panel data        ']\n",
            "['biochemistry' 'ECE']\n",
            "['2' '0']\n"
          ]
        }
      ],
      "source": [
        "abstractsTest = test_data[:,3]\n",
        "keywordsTest = test_data[:,2]\n",
        "domainsTest = test_data[:,1]\n",
        "allLabelsTest = test_data[:,0]\n",
        "\n",
        "print(\"Number of abstracts: \",len(abstractsTest))\n",
        "print(\"Shape of abstracts: \",np.shape(abstractsTest))\n",
        "print(\"Number of keywords: \",len(keywordsTest))\n",
        "print(\"Shape of keywords: \",np.shape(keywordsTest))\n",
        "print(\"Number of domains: \",len(domainsTest))\n",
        "print(\"Shape of domains: \",np.shape(domainsTest))\n",
        "print(\"Number of labels: \",len(allLabelsTest))\n",
        "print(\"Shape of labels: \",np.shape(allLabelsTest))\n",
        "\n",
        "# arr = np.array(domainsTest)\n",
        "# cleaned_domains = np.char.strip(arr)\n",
        "# print(\"Cleaned arr \", cleaned_domains)\n",
        "# domainsLabelsTest = cleaned_domains\n",
        "# print(\"Labels domains \", domainsLabelsTest)\n",
        "\n",
        "print(abstractsTest[0:2])\n",
        "print(keywordsTest[0:2])\n",
        "print(domainsTest[0:2])\n",
        "print(allLabelsTest[0:2])"
      ]
    },
    {
      "cell_type": "code",
      "execution_count": 16,
      "metadata": {
        "colab": {
          "base_uri": "https://localhost:8080/",
          "height": 619
        },
        "id": "imNTasg6WXUJ",
        "outputId": "d10f2f5f-b4b7-4c63-f8f5-bc10be3bc1cc"
      },
      "outputs": [
        {
          "output_type": "stream",
          "name": "stdout",
          "text": [
            "Labels  ['ECE' 'Psychology' 'biochemistry']\n",
            "Label counts  [252 324 572]\n"
          ]
        },
        {
          "output_type": "display_data",
          "data": {
            "text/plain": [
              "<Figure size 1000x600 with 1 Axes>"
            ],
            "image/png": "[encoded data removed]"
          },
          "metadata": {}
        },
        {
          "output_type": "stream",
          "name": "stdout",
          "text": [
            "The domain ECE has 252 records in the test set.\n",
            "The domain Psychology has 324 records in the test set.\n",
            "The domain biochemistry has 572 records in the test set.\n"
          ]
        }
      ],
      "source": [
        "labels = np.unique(domainsTest, return_counts=True)[0]\n",
        "labelCounts =  np.unique(domainsTest, return_counts=True)[1]\n",
        "\n",
        "print(\"Labels \", labels)\n",
        "print(\"Label counts \", labelCounts)\n",
        "\n",
        "nAbstract = len(abstractsTest)\n",
        "plt.figure(figsize=(10, 6))\n",
        "plt.title(\"Domain Counts (Test Set)\")\n",
        "plt.pie(labelCounts, labels=labels, autopct='%1.1f%%', startangle=140, colors=plt.cm.Paired(range(len(labels))))\n",
        "plt.axis('equal')  # Equal aspect ratio ensures that pie is drawn as a circle.\n",
        "plt.show()\n",
        "\n",
        "for i, domain in enumerate(labels):\n",
        "    print(\"The domain\", domain, \"has\", labelCounts[i], \"records in the test set.\")"
      ]
    },
    {
      "cell_type": "code",
      "execution_count": 17,
      "metadata": {
        "colab": {
          "base_uri": "https://localhost:8080/"
        },
        "id": "sPFav1v1WXUJ",
        "outputId": "82a82e86-9ba8-4cc1-e4e6-26a5c5d6bbe3"
      },
      "outputs": [
        {
          "output_type": "stream",
          "name": "stdout",
          "text": [
            "Number of abstracts:  230\n",
            "Shape of abstracts:  (230,)\n",
            "Number of keywords:  230\n",
            "Shape of keywords:  (230,)\n",
            "Number of domains:  230\n",
            "Shape of domains:  (230,)\n",
            "Number of labels:  230\n",
            "Shape of labels:  (230,)\n",
            "['background eotaxinccl11 plays an important role in asthma it acts through the chemokine receptor ccr3 expressed on hematopoietic and nonhematopoietic cells in the lung objective to determine whether eotaxinccl11 modulates lung and bronchial fibroblast properties and thereby might contribute to airway remodeling methods ccr3 expression was characterized on a lung fibroblast line mrc5 flow cytometry fluorescent microscopy rtpcr and northern blotting on primary bronchial fibroblasts flow cytometry and on fibroblasts in human lung tissue confocal laser microscopy the effects of eotaxinccl11 on lung fibroblast migration boyden chamber proliferation tritiated thymidine incorporation asmooth muscle actin expression elisa 3dimensional collagen gel contraction floating gel proalpha 1i collagen mrna northern blotting total collagen synthesis tritiated proline incorporation matrix metalloproteinase activity gelatin zymography and tgfbeta1 release elisa were evaluated the contribution of eotaxinccl11ccr3 binding on lung fibroblasts was also investigated by neutralizing experiments results ccr3 is constitutively expressed in cultured lung and primary bronchial fibroblasts and colocalizes with specific surface markers for human fibroblasts in lung tissue eotaxinccl11 selectively modulates fibroblast activities by increasing their proliferation matrix metalloproteinase 2 activity and collagen synthesis but not their differentiation into myofibroblasts contractility in collagen gel or tgfbeta1 release eotaxinccl11 enhances migration of lung fibroblasts in response to nonspecific chemoattractants and this effect is completely inhibited by anticcr3neutralizing antibodies conclusion these data demonstrate that eotaxinccl11 has a direct and selective profibrogenic effect on lung and bronchial fibroblasts providing a novel mechanism whereby eotaxinccl11 can participate in airway remodeling in asthma'\n",
            " 'the current study determined the ability of a p75ntr antagonistic cyclic peptide to rescue cells from beta amyloid a beta 140induced death p75ntr p140trkanih3t3 cells or e17 foetal rat cortical neurones were incubated with i125ngf or i125a beta 140 and increasing concentrations of the cyclic peptide catdikgaec peptide ability to displace i125ngf or i125a beta 140 binding was determined duplicate cultures were preincubated with catdikgaec 250 nm or diluent and then stimulated with a beta 140 peptide ability to displace a beta 140 binding interfere with a beta 140induced signalling and rescue cells from a betamediated toxicity was determined by immunoprecipitation and autoradiography northern blotting jnk activation mtt and trypan blue assays the peptide inhibited ngf and a beta 140 binding to p75ntr but not to p140trka a beta 140 induced cjun transcription 573  007 in diluenttreated p75ntrcells but not in cells preincubated with the cyclic peptide also at 250 nm the peptide reduced a beta 140induced phsophorylation of jnk by 718  003 and protected neurones against a betainduced toxicity as determined by trypan blue exclusion assay 53  11 trypan bluepositive cells in diluent pretreated cultures vs 28  5 in cyclic peptidepretreated cultures mtt assay 009  003 units in diluentpretreated cells vs 012  0004 units in cyclic peptidepretreated cells and visualization of representative microscopic fields our data suggest that a cyclic peptide homologous to amino acids 2836 of ngf known to mediate binding to p75ntr can interfere with a beta 140 signalling and rescue neurones from a beta 140induced toxicity']\n",
            "[' cc chemokine eotaxinccl11 ccr3 fibroblast myofibroblast airway remodeling asthma alphasmooth muscle actin        '\n",
            " ' alzheimers disease apoptosis cjun jnk neurotrophin receptor ngf        ']\n",
            "['biochemistry' 'biochemistry']\n",
            "['2' '2']\n"
          ]
        }
      ],
      "source": [
        "abstractsVal = val_data[:,3]\n",
        "keywordsVal = val_data[:,2]\n",
        "domainsVal = val_data[:,1]\n",
        "allLabelsVal = val_data[:,0]\n",
        "\n",
        "print(\"Number of abstracts: \",len(abstractsVal))\n",
        "print(\"Shape of abstracts: \",np.shape(abstractsVal))\n",
        "print(\"Number of keywords: \",len(keywordsVal))\n",
        "print(\"Shape of keywords: \",np.shape(keywordsVal))\n",
        "print(\"Number of domains: \",len(domainsVal))\n",
        "print(\"Shape of domains: \",np.shape(domainsVal))\n",
        "print(\"Number of labels: \",len(allLabelsVal))\n",
        "print(\"Shape of labels: \",np.shape(allLabelsVal))\n",
        "\n",
        "print(abstractsVal[0:2])\n",
        "print(keywordsVal[0:2])\n",
        "print(domainsVal[0:2])\n",
        "print(allLabelsVal[0:2])"
      ]
    },
    {
      "cell_type": "code",
      "execution_count": 18,
      "metadata": {
        "colab": {
          "base_uri": "https://localhost:8080/",
          "height": 614
        },
        "id": "qW_P1Zn6WXUJ",
        "outputId": "68b7c505-51cd-4d28-9c09-45ca4f225fae"
      },
      "outputs": [
        {
          "output_type": "stream",
          "name": "stdout",
          "text": [
            "Labels  ['ECE' 'Psychology' 'biochemistry']\n",
            "Label counts  [ 61  59 110]\n"
          ]
        },
        {
          "output_type": "display_data",
          "data": {
            "text/plain": [
              "<Figure size 1000x600 with 1 Axes>"
            ],
            "image/png": "[encoded data removed]"
          },
          "metadata": {}
        },
        {
          "output_type": "stream",
          "name": "stdout",
          "text": [
            "The domain ECE has 61 records in the vaidation set.\n",
            "The domain Psychology has 59 records in the vaidation set.\n",
            "The domain biochemistry has 110 records in the vaidation set.\n"
          ]
        }
      ],
      "source": [
        "labels = np.unique(domainsVal, return_counts=True)[0]\n",
        "labelCounts =  np.unique(domainsVal, return_counts=True)[1]\n",
        "\n",
        "print(\"Labels \", labels)\n",
        "print(\"Label counts \", labelCounts)\n",
        "\n",
        "nAbstract = len(abstractsVal)\n",
        "plt.figure(figsize=(10, 6))\n",
        "plt.title(\"Domain Counts (Validation Set)\")\n",
        "plt.pie(labelCounts, labels=labels, autopct='%1.1f%%', startangle=140, colors=plt.cm.Paired(range(len(labels))))\n",
        "plt.axis('equal')  # Equal aspect ratio ensures that pie is drawn as a circle.\n",
        "plt.show()\n",
        "\n",
        "for i, domain in enumerate(labels):\n",
        "    print(\"The domain\", domain, \"has\", labelCounts[i], \"records in the vaidation set.\")"
      ]
    },
    {
      "cell_type": "code",
      "execution_count": 19,
      "metadata": {
        "id": "AewCWU8XWXUJ"
      },
      "outputs": [],
      "source": [
        "# Function to tokenize and encode the dataset\n",
        "def encode_data(data, tokenizer, max_length=128):\n",
        "    # print(len(data[:,2]))\n",
        "    inputs = tokenizer(\n",
        "        data[:,3].tolist(), # abstract\n",
        "        max_length=max_length,\n",
        "        padding='max_length',\n",
        "        truncation=True,\n",
        "        return_tensors=\"pt\"\n",
        "    )\n",
        "    # print(len(dataShuffled[:, 0]))\n",
        "    labels = torch.tensor(data[:, 0].astype(int))\n",
        "    print(\"Label length \", len(labels))\n",
        "    return TensorDataset(inputs['input_ids'], inputs['attention_mask'], labels)"
      ]
    },
    {
      "cell_type": "code",
      "execution_count": 20,
      "metadata": {
        "colab": {
          "base_uri": "https://localhost:8080/"
        },
        "id": "qosmRYrmWXUJ",
        "outputId": "cbb79aa9-66f0-474f-fa11-a1ada64036f4"
      },
      "outputs": [
        {
          "output_type": "stream",
          "name": "stdout",
          "text": [
            "(4588, 4)\n",
            "(1148, 4)\n",
            "(230, 4)\n"
          ]
        }
      ],
      "source": [
        "print(np.shape(train_data))\n",
        "print(np.shape(test_data))\n",
        "print(np.shape(val_data))\n"
      ]
    },
    {
      "cell_type": "code",
      "execution_count": 21,
      "metadata": {
        "colab": {
          "base_uri": "https://localhost:8080/"
        },
        "id": "ntqAS03ZWXUJ",
        "outputId": "4c13a391-4be6-4f2c-b469-a7960dfa9968"
      },
      "outputs": [
        {
          "output_type": "stream",
          "name": "stdout",
          "text": [
            "Label length  4588\n",
            "Label length  230\n",
            "Label length  1148\n"
          ]
        }
      ],
      "source": [
        "# Encode training, validation, and testing data\n",
        "train_dataset = encode_data(train_data, tokenizer)\n",
        "val_dataset = encode_data(val_data, tokenizer)\n",
        "test_dataset = encode_data(test_data, tokenizer)\n",
        "\n",
        "\n",
        "\n",
        "# Data loaders\n",
        "train_dataloader = DataLoader(train_dataset, sampler=RandomSampler(train_dataset), batch_size=32)\n",
        "val_dataloader = DataLoader(val_dataset, sampler=SequentialSampler(val_dataset), batch_size=32)\n",
        "test_dataloader = DataLoader(test_dataset, sampler=SequentialSampler(test_dataset), batch_size=32)"
      ]
    },
    {
      "cell_type": "code",
      "source": [
        "print(np.unique(train_data[:,0]))"
      ],
      "metadata": {
        "colab": {
          "base_uri": "https://localhost:8080/"
        },
        "id": "cGH9hmFwafTf",
        "outputId": "be2598da-0412-40e7-e914-98d75abdf49c"
      },
      "execution_count": 22,
      "outputs": [
        {
          "output_type": "stream",
          "name": "stdout",
          "text": [
            "['0' '1' '2']\n"
          ]
        }
      ]
    },
    {
      "cell_type": "code",
      "execution_count": 23,
      "metadata": {
        "colab": {
          "base_uri": "https://localhost:8080/",
          "height": 940,
          "referenced_widgets": [
            "e2ffc8f175a549ff96712dc2f16fa161",
            "017fb5c5cb2040e9b0d13f7d9e74ce2c",
            "518ca94532fd4865a4337aba04149a91",
            "e12cc834ec8d4f7d85a823c91ad62361",
            "11990b4a5be743588522d066f8247608",
            "ebc25f8183f64eaca221c552f36ce5e0",
            "fc6f3013342e497b92f09460061b45a1",
            "fa3e3dcc60c14e7dbf6d86b19eff3080",
            "e5d8b07a1d564e40bfec20fe7e51df67",
            "57b1f32c9d5a48b78e757a3b72abfbe8",
            "b15eba8e3d3e4e0887ee82a5ca07d1f3"
          ]
        },
        "id": "GWDExyfRWXUJ",
        "outputId": "4196467e-d00e-4c7c-b000-e51f0232e57b"
      },
      "outputs": [
        {
          "output_type": "stream",
          "name": "stdout",
          "text": [
            "3\n"
          ]
        },
        {
          "output_type": "display_data",
          "data": {
            "text/plain": [
              "pytorch_model.bin:   0%|          | 0.00/436M [00:00<?, ?B/s]"
            ],
            "application/vnd.jupyter.widget-view+json": {
              "version_major": 2,
              "version_minor": 0,
              "model_id": "e2ffc8f175a549ff96712dc2f16fa161"
            }
          },
          "metadata": {}
        },
        {
          "output_type": "stream",
          "name": "stderr",
          "text": [
            "Some weights of BertForSequenceClassification were not initialized from the model checkpoint at dmis-lab/biobert-base-cased-v1.2 and are newly initialized: ['classifier.bias', 'classifier.weight']\n",
            "You should probably TRAIN this model on a down-stream task to be able to use it for predictions and inference.\n"
          ]
        },
        {
          "output_type": "execute_result",
          "data": {
            "text/plain": [
              "BertForSequenceClassification(\n",
              "  (bert): BertModel(\n",
              "    (embeddings): BertEmbeddings(\n",
              "      (word_embeddings): Embedding(28996, 768, padding_idx=0)\n",
              "      (position_embeddings): Embedding(512, 768)\n",
              "      (token_type_embeddings): Embedding(2, 768)\n",
              "      (LayerNorm): LayerNorm((768,), eps=1e-12, elementwise_affine=True)\n",
              "      (dropout): Dropout(p=0.1, inplace=False)\n",
              "    )\n",
              "    (encoder): BertEncoder(\n",
              "      (layer): ModuleList(\n",
              "        (0-11): 12 x BertLayer(\n",
              "          (attention): BertAttention(\n",
              "            (self): BertSdpaSelfAttention(\n",
              "              (query): Linear(in_features=768, out_features=768, bias=True)\n",
              "              (key): Linear(in_features=768, out_features=768, bias=True)\n",
              "              (value): Linear(in_features=768, out_features=768, bias=True)\n",
              "              (dropout): Dropout(p=0.1, inplace=False)\n",
              "            )\n",
              "            (output): BertSelfOutput(\n",
              "              (dense): Linear(in_features=768, out_features=768, bias=True)\n",
              "              (LayerNorm): LayerNorm((768,), eps=1e-12, elementwise_affine=True)\n",
              "              (dropout): Dropout(p=0.1, inplace=False)\n",
              "            )\n",
              "          )\n",
              "          (intermediate): BertIntermediate(\n",
              "            (dense): Linear(in_features=768, out_features=3072, bias=True)\n",
              "            (intermediate_act_fn): GELUActivation()\n",
              "          )\n",
              "          (output): BertOutput(\n",
              "            (dense): Linear(in_features=3072, out_features=768, bias=True)\n",
              "            (LayerNorm): LayerNorm((768,), eps=1e-12, elementwise_affine=True)\n",
              "            (dropout): Dropout(p=0.1, inplace=False)\n",
              "          )\n",
              "        )\n",
              "      )\n",
              "    )\n",
              "    (pooler): BertPooler(\n",
              "      (dense): Linear(in_features=768, out_features=768, bias=True)\n",
              "      (activation): Tanh()\n",
              "    )\n",
              "  )\n",
              "  (dropout): Dropout(p=0.1, inplace=False)\n",
              "  (classifier): Linear(in_features=768, out_features=3, bias=True)\n",
              ")"
            ]
          },
          "metadata": {},
          "execution_count": 23
        }
      ],
      "source": [
        "# Load BioBERT model\n",
        "print(len(np.unique(train_data[:,0])))\n",
        "model = AutoModelForSequenceClassification.from_pretrained(\"dmis-lab/biobert-base-cased-v1.2\", num_labels=len(np.unique(train_data[:,0])))\n",
        "device = torch.device(\"cuda\" if torch.cuda.is_available() else \"cpu\")\n",
        "model.to(device)"
      ]
    },
    {
      "cell_type": "code",
      "execution_count": 24,
      "metadata": {
        "colab": {
          "base_uri": "https://localhost:8080/"
        },
        "id": "FXZH5dFPWXUJ",
        "outputId": "dbf003ca-c894-4a5e-b6ed-51e3658e229b"
      },
      "outputs": [
        {
          "output_type": "execute_result",
          "data": {
            "text/plain": [
              "BertConfig {\n",
              "  \"_name_or_path\": \"dmis-lab/biobert-base-cased-v1.2\",\n",
              "  \"architectures\": [\n",
              "    \"BertForMaskedLM\"\n",
              "  ],\n",
              "  \"attention_probs_dropout_prob\": 0.1,\n",
              "  \"classifier_dropout\": null,\n",
              "  \"hidden_act\": \"gelu\",\n",
              "  \"hidden_dropout_prob\": 0.1,\n",
              "  \"hidden_size\": 768,\n",
              "  \"id2label\": {\n",
              "    \"0\": \"LABEL_0\",\n",
              "    \"1\": \"LABEL_1\",\n",
              "    \"2\": \"LABEL_2\"\n",
              "  },\n",
              "  \"initializer_range\": 0.02,\n",
              "  \"intermediate_size\": 3072,\n",
              "  \"label2id\": {\n",
              "    \"LABEL_0\": 0,\n",
              "    \"LABEL_1\": 1,\n",
              "    \"LABEL_2\": 2\n",
              "  },\n",
              "  \"layer_norm_eps\": 1e-12,\n",
              "  \"max_position_embeddings\": 512,\n",
              "  \"model_type\": \"bert\",\n",
              "  \"num_attention_heads\": 12,\n",
              "  \"num_hidden_layers\": 12,\n",
              "  \"pad_token_id\": 0,\n",
              "  \"position_embedding_type\": \"absolute\",\n",
              "  \"transformers_version\": \"4.42.4\",\n",
              "  \"type_vocab_size\": 2,\n",
              "  \"use_cache\": true,\n",
              "  \"vocab_size\": 28996\n",
              "}"
            ]
          },
          "metadata": {},
          "execution_count": 24
        }
      ],
      "source": [
        "model.config"
      ]
    },
    {
      "cell_type": "code",
      "execution_count": 25,
      "metadata": {
        "colab": {
          "base_uri": "https://localhost:8080/"
        },
        "id": "SXpJq-t0WXUJ",
        "outputId": "448215b2-f7e8-4f92-dcd5-347c5b6a7f96"
      },
      "outputs": [
        {
          "output_type": "stream",
          "name": "stderr",
          "text": [
            "/usr/local/lib/python3.10/dist-packages/transformers/optimization.py:591: FutureWarning: This implementation of AdamW is deprecated and will be removed in a future version. Use the PyTorch implementation torch.optim.AdamW instead, or set `no_deprecation_warning=True` to disable this warning\n",
            "  warnings.warn(\n"
          ]
        }
      ],
      "source": [
        "# Optimizer and learning rate scheduler\n",
        "optimizer = AdamW(model.parameters(), lr=2e-5, eps=1e-8)\n",
        "total_steps = len(train_dataloader) * 20\n",
        "num_warmup_steps = 1e-4\n",
        "scheduler = get_linear_schedule_with_warmup(optimizer, num_warmup_steps=num_warmup_steps, num_training_steps=total_steps)"
      ]
    },
    {
      "cell_type": "code",
      "execution_count": 26,
      "metadata": {
        "id": "PL4PtJ4_WXUJ"
      },
      "outputs": [],
      "source": [
        "def calculate_metrics(valType, predictions, true_labels):\n",
        "    # Confusion matrix\n",
        "    if(valType == 'test'):\n",
        "        cm = confusion_matrix(true_labels, predictions)\n",
        "        print(\"Confusion Matrix:\\n\", cm)\n",
        "\n",
        "        # Classification report (includes precision, recall, F1 score)\n",
        "        report = classification_report(true_labels, predictions, target_names=[str(i) for i in range(len(np.unique(true_labels)))])\n",
        "        print(\"\\nClassification Report:\\n\", report)\n",
        "\n",
        "        # Calculate different types of F1 scores, precision, and recall\n",
        "        f1_macro = f1_score(true_labels, predictions, average='macro')\n",
        "        f1_micro = f1_score(true_labels, predictions, average='micro')\n",
        "        f1_weighted = f1_score(true_labels, predictions, average='weighted')\n",
        "\n",
        "        precision_macro = precision_score(true_labels, predictions, average='macro')\n",
        "        precision_micro = precision_score(true_labels, predictions, average='micro')\n",
        "        precision_weighted = precision_score(true_labels, predictions, average='weighted')\n",
        "\n",
        "        recall_macro = recall_score(true_labels, predictions, average='macro')\n",
        "        recall_micro = recall_score(true_labels, predictions, average='micro')\n",
        "        recall_weighted = recall_score(true_labels, predictions, average='weighted')\n",
        "\n",
        "        print(f\"Macro F1 Score: {f1_macro}\")\n",
        "        print(f\"Micro F1 Score: {f1_micro}\")\n",
        "        print(f\"Weighted F1 Score: {f1_weighted}\")\n",
        "\n",
        "        print(f\"Macro Precision: {precision_macro}\")\n",
        "        print(f\"Micro Precision: {precision_micro}\")\n",
        "        print(f\"Weighted Precision: {precision_weighted}\")\n",
        "\n",
        "        print(f\"Macro Recall: {recall_macro}\")\n",
        "        print(f\"Micro Recall: {recall_micro}\")\n",
        "        print(f\"Weighted Recall: {recall_weighted}\")\n",
        "\n",
        "    elif(valType == 'val'):\n",
        "        cm = confusion_matrix(true_labels, predictions)\n",
        "        f1_macro = f1_score(true_labels, predictions, average='macro')\n",
        "        f1_micro = f1_score(true_labels, predictions, average='micro')\n",
        "        f1_weighted = f1_score(true_labels, predictions, average='weighted')\n",
        "\n",
        "        precision_macro = precision_score(true_labels, predictions, average='macro')\n",
        "        precision_micro = precision_score(true_labels, predictions, average='micro')\n",
        "        precision_weighted = precision_score(true_labels, predictions, average='weighted')\n",
        "\n",
        "        recall_macro = recall_score(true_labels, predictions, average='macro')\n",
        "        recall_micro = recall_score(true_labels, predictions, average='micro')\n",
        "        recall_weighted = recall_score(true_labels, predictions, average='weighted')\n",
        "        # print('Val Micro F1:', f1_micro)\n",
        "        return f1_micro"
      ]
    },
    {
      "cell_type": "code",
      "execution_count": 27,
      "metadata": {
        "colab": {
          "base_uri": "https://localhost:8080/"
        },
        "id": "aAhwPA8HWXUJ",
        "outputId": "a5195f29-c6e2-4cc7-d835-882e9612e4a0"
      },
      "outputs": [
        {
          "output_type": "stream",
          "name": "stderr",
          "text": [
            "Epoch 1/20: 100%|██████████| 144/144 [01:32<00:00,  1.55batch/s]\n"
          ]
        },
        {
          "output_type": "stream",
          "name": "stdout",
          "text": [
            "Epoch 1/20\n",
            "  Train Loss: 0.33440089476708734\n",
            "  Val Micro F1: 0.9695652173913043\n",
            "  Time: 1m 34s\n"
          ]
        },
        {
          "output_type": "stream",
          "name": "stderr",
          "text": [
            "Epoch 2/20: 100%|██████████| 144/144 [01:35<00:00,  1.51batch/s]\n"
          ]
        },
        {
          "output_type": "stream",
          "name": "stdout",
          "text": [
            "Epoch 2/20\n",
            "  Train Loss: 0.10961853688220596\n",
            "  Val Micro F1: 0.9826086956521739\n",
            "  Time: 1m 37s\n"
          ]
        },
        {
          "output_type": "stream",
          "name": "stderr",
          "text": [
            "Epoch 3/20: 100%|██████████| 144/144 [01:35<00:00,  1.51batch/s]\n"
          ]
        },
        {
          "output_type": "stream",
          "name": "stdout",
          "text": [
            "Epoch 3/20\n",
            "  Train Loss: 0.05082418904284067\n",
            "  Val Micro F1: 0.991304347826087\n",
            "  Time: 1m 37s\n"
          ]
        },
        {
          "output_type": "stream",
          "name": "stderr",
          "text": [
            "Epoch 4/20: 100%|██████████| 144/144 [01:35<00:00,  1.52batch/s]\n"
          ]
        },
        {
          "output_type": "stream",
          "name": "stdout",
          "text": [
            "Epoch 4/20\n",
            "  Train Loss: 0.022212972836617457\n",
            "  Val Micro F1: 0.9782608695652174\n",
            "  Time: 1m 37s\n"
          ]
        },
        {
          "output_type": "stream",
          "name": "stderr",
          "text": [
            "Epoch 5/20: 100%|██████████| 144/144 [01:35<00:00,  1.51batch/s]\n"
          ]
        },
        {
          "output_type": "stream",
          "name": "stdout",
          "text": [
            "Epoch 5/20\n",
            "  Train Loss: 0.011595380272208584\n",
            "  Val Micro F1: 0.9869565217391304\n",
            "  Time: 1m 37s\n"
          ]
        },
        {
          "output_type": "stream",
          "name": "stderr",
          "text": [
            "Epoch 6/20: 100%|██████████| 144/144 [01:35<00:00,  1.51batch/s]\n"
          ]
        },
        {
          "output_type": "stream",
          "name": "stdout",
          "text": [
            "Epoch 6/20\n",
            "  Train Loss: 0.007373399472877888\n",
            "  Val Micro F1: 0.9869565217391304\n",
            "  Time: 1m 37s\n"
          ]
        },
        {
          "output_type": "stream",
          "name": "stderr",
          "text": [
            "Epoch 7/20: 100%|██████████| 144/144 [01:34<00:00,  1.52batch/s]\n"
          ]
        },
        {
          "output_type": "stream",
          "name": "stdout",
          "text": [
            "Epoch 7/20\n",
            "  Train Loss: 0.0028985267496561087\n",
            "  Val Micro F1: 0.991304347826087\n",
            "  Time: 1m 37s\n"
          ]
        },
        {
          "output_type": "stream",
          "name": "stderr",
          "text": [
            "Epoch 8/20: 100%|██████████| 144/144 [01:35<00:00,  1.52batch/s]\n"
          ]
        },
        {
          "output_type": "stream",
          "name": "stdout",
          "text": [
            "Epoch 8/20\n",
            "  Train Loss: 0.002117897173573308\n",
            "  Val Micro F1: 0.9869565217391304\n",
            "  Time: 1m 37s\n"
          ]
        },
        {
          "output_type": "stream",
          "name": "stderr",
          "text": [
            "Epoch 9/20: 100%|██████████| 144/144 [01:34<00:00,  1.52batch/s]\n"
          ]
        },
        {
          "output_type": "stream",
          "name": "stdout",
          "text": [
            "Epoch 9/20\n",
            "  Train Loss: 0.0019875786796951112\n",
            "  Val Micro F1: 0.9869565217391304\n",
            "  Time: 1m 37s\n"
          ]
        },
        {
          "output_type": "stream",
          "name": "stderr",
          "text": [
            "Epoch 10/20: 100%|██████████| 144/144 [01:35<00:00,  1.51batch/s]\n"
          ]
        },
        {
          "output_type": "stream",
          "name": "stdout",
          "text": [
            "Epoch 10/20\n",
            "  Train Loss: 0.0019238448268070999\n",
            "  Val Micro F1: 0.9869565217391304\n",
            "  Time: 1m 37s\n"
          ]
        },
        {
          "output_type": "stream",
          "name": "stderr",
          "text": [
            "Epoch 11/20: 100%|██████████| 144/144 [01:35<00:00,  1.51batch/s]\n"
          ]
        },
        {
          "output_type": "stream",
          "name": "stdout",
          "text": [
            "Epoch 11/20\n",
            "  Train Loss: 0.0034917332354274955\n",
            "  Val Micro F1: 0.991304347826087\n",
            "  Time: 1m 37s\n"
          ]
        },
        {
          "output_type": "stream",
          "name": "stderr",
          "text": [
            "Epoch 12/20: 100%|██████████| 144/144 [01:34<00:00,  1.52batch/s]\n"
          ]
        },
        {
          "output_type": "stream",
          "name": "stdout",
          "text": [
            "Epoch 12/20\n",
            "  Train Loss: 0.0015440783542241359\n",
            "  Val Micro F1: 0.9869565217391304\n",
            "  Time: 1m 36s\n"
          ]
        },
        {
          "output_type": "stream",
          "name": "stderr",
          "text": [
            "Epoch 13/20: 100%|██████████| 144/144 [01:35<00:00,  1.51batch/s]\n"
          ]
        },
        {
          "output_type": "stream",
          "name": "stdout",
          "text": [
            "Epoch 13/20\n",
            "  Train Loss: 0.0011065450959095971\n",
            "  Val Micro F1: 0.9869565217391304\n",
            "  Time: 1m 37s\n"
          ]
        },
        {
          "output_type": "stream",
          "name": "stderr",
          "text": [
            "Epoch 14/20: 100%|██████████| 144/144 [01:35<00:00,  1.51batch/s]\n"
          ]
        },
        {
          "output_type": "stream",
          "name": "stdout",
          "text": [
            "Epoch 14/20\n",
            "  Train Loss: 0.0004894063004030613\n",
            "  Val Micro F1: 0.991304347826087\n",
            "  Time: 1m 37s\n"
          ]
        },
        {
          "output_type": "stream",
          "name": "stderr",
          "text": [
            "Epoch 15/20: 100%|██████████| 144/144 [01:35<00:00,  1.51batch/s]\n"
          ]
        },
        {
          "output_type": "stream",
          "name": "stdout",
          "text": [
            "Epoch 15/20\n",
            "  Train Loss: 0.000860161378012789\n",
            "  Val Micro F1: 0.9869565217391304\n",
            "  Time: 1m 37s\n"
          ]
        },
        {
          "output_type": "stream",
          "name": "stderr",
          "text": [
            "Epoch 16/20: 100%|██████████| 144/144 [01:35<00:00,  1.51batch/s]\n"
          ]
        },
        {
          "output_type": "stream",
          "name": "stdout",
          "text": [
            "Epoch 16/20\n",
            "  Train Loss: 0.0001278711033592117\n",
            "  Val Micro F1: 0.991304347826087\n",
            "  Time: 1m 37s\n"
          ]
        },
        {
          "output_type": "stream",
          "name": "stderr",
          "text": [
            "Epoch 17/20: 100%|██████████| 144/144 [01:35<00:00,  1.51batch/s]\n"
          ]
        },
        {
          "output_type": "stream",
          "name": "stdout",
          "text": [
            "Epoch 17/20\n",
            "  Train Loss: 0.00012169538735583451\n",
            "  Val Micro F1: 0.991304347826087\n",
            "  Time: 1m 37s\n"
          ]
        },
        {
          "output_type": "stream",
          "name": "stderr",
          "text": [
            "Epoch 18/20: 100%|██████████| 144/144 [01:35<00:00,  1.51batch/s]\n"
          ]
        },
        {
          "output_type": "stream",
          "name": "stdout",
          "text": [
            "Epoch 18/20\n",
            "  Train Loss: 0.00011061561796547419\n",
            "  Val Micro F1: 0.991304347826087\n",
            "  Time: 1m 37s\n"
          ]
        },
        {
          "output_type": "stream",
          "name": "stderr",
          "text": [
            "Epoch 19/20: 100%|██████████| 144/144 [01:35<00:00,  1.51batch/s]\n"
          ]
        },
        {
          "output_type": "stream",
          "name": "stdout",
          "text": [
            "Epoch 19/20\n",
            "  Train Loss: 0.0001064416580144704\n",
            "  Val Micro F1: 0.991304347826087\n",
            "  Time: 1m 37s\n"
          ]
        },
        {
          "output_type": "stream",
          "name": "stderr",
          "text": [
            "Epoch 20/20: 100%|██████████| 144/144 [01:35<00:00,  1.51batch/s]\n"
          ]
        },
        {
          "output_type": "stream",
          "name": "stdout",
          "text": [
            "Epoch 20/20\n",
            "  Train Loss: 0.00010402868444240691\n",
            "  Val Micro F1: 0.991304347826087\n",
            "  Time: 1m 37s\n"
          ]
        }
      ],
      "source": [
        "epochs = 20\n",
        "for epoch in range(epochs):\n",
        "    model.train()\n",
        "    total_train_loss = 0\n",
        "    start_time = time.time()\n",
        "\n",
        "    # Training\n",
        "    for step, batch in enumerate(tqdm(train_dataloader, desc=f\"Epoch {epoch + 1}/{epochs}\", unit=\"batch\")):\n",
        "        batch = tuple(t.to(device) for t in batch)\n",
        "        input_ids, input_mask, labels = batch\n",
        "\n",
        "\n",
        "        model.zero_grad()\n",
        "        outputs = model(input_ids=input_ids, attention_mask=input_mask, labels=labels)\n",
        "        loss = outputs.loss\n",
        "        total_train_loss += loss.item()\n",
        "\n",
        "        loss.backward()\n",
        "        torch.nn.utils.clip_grad_norm_(model.parameters(), max_norm=1.0)\n",
        "        optimizer.step()\n",
        "        scheduler.step()\n",
        "\n",
        "    avg_train_loss = total_train_loss / len(train_dataloader)\n",
        "\n",
        "    # Validation\n",
        "    model.eval()\n",
        "    predictions = []\n",
        "    true_labels = []\n",
        "\n",
        "    for batch in val_dataloader:\n",
        "        batch = tuple(t.to(device) for t in batch)\n",
        "        input_ids, input_mask, labels = batch\n",
        "\n",
        "        with torch.no_grad():\n",
        "            outputs = model(input_ids=input_ids, attention_mask=input_mask)\n",
        "            logits = outputs.logits\n",
        "\n",
        "        logits = logits.detach().cpu().numpy()\n",
        "        label_ids = labels.to('cpu').numpy()\n",
        "\n",
        "        batch_predictions = np.argmax(logits, axis=1)\n",
        "        predictions.extend(batch_predictions)\n",
        "        true_labels.extend(label_ids)\n",
        "\n",
        "    val_micro_f1 = calculate_metrics('val', predictions, true_labels)\n",
        "    elapsed_time = time.time() - start_time\n",
        "\n",
        "    # Print epoch summary\n",
        "    print(f\"Epoch {epoch + 1}/{epochs}\")\n",
        "    print(f\"  Train Loss: {avg_train_loss}\")\n",
        "    print(f\"  Val Micro F1: {val_micro_f1}\")\n",
        "    print(f\"  Time: {elapsed_time // 60:.0f}m {elapsed_time % 60:.0f}s\")"
      ]
    },
    {
      "cell_type": "code",
      "execution_count": 28,
      "metadata": {
        "colab": {
          "base_uri": "https://localhost:8080/"
        },
        "id": "eySPoilnWXUJ",
        "outputId": "07b828c8-47d3-42a1-c3f6-835ab2dde338"
      },
      "outputs": [
        {
          "output_type": "stream",
          "name": "stdout",
          "text": [
            "Confusion Matrix:\n",
            " [[245   5   2]\n",
            " [  5 313   6]\n",
            " [  1   7 564]]\n",
            "\n",
            "Classification Report:\n",
            "               precision    recall  f1-score   support\n",
            "\n",
            "           0       0.98      0.97      0.97       252\n",
            "           1       0.96      0.97      0.96       324\n",
            "           2       0.99      0.99      0.99       572\n",
            "\n",
            "    accuracy                           0.98      1148\n",
            "   macro avg       0.98      0.97      0.97      1148\n",
            "weighted avg       0.98      0.98      0.98      1148\n",
            "\n",
            "Macro F1 Score: 0.9749099728208129\n",
            "Micro F1 Score: 0.9773519163763065\n",
            "Weighted F1 Score: 0.9773560950377684\n",
            "Macro Precision: 0.9750621755402632\n",
            "Micro Precision: 0.9773519163763066\n",
            "Weighted Precision: 0.9773632567024851\n",
            "Macro Recall: 0.9747618636507526\n",
            "Micro Recall: 0.9773519163763066\n",
            "Weighted Recall: 0.9773519163763066\n"
          ]
        }
      ],
      "source": [
        "# Evaluation\n",
        "model.eval()\n",
        "predictions = []\n",
        "true_labels = []\n",
        "\n",
        "for batch in test_dataloader:\n",
        "    batch = tuple(t.to(device) for t in batch)\n",
        "    input_ids, input_mask, labels = batch\n",
        "\n",
        "    with torch.no_grad():\n",
        "        outputs = model(input_ids=input_ids, attention_mask=input_mask)\n",
        "        logits = outputs.logits\n",
        "\n",
        "    logits = logits.detach().cpu().numpy()\n",
        "    label_ids = labels.to('cpu').numpy()\n",
        "\n",
        "    batch_predictions = np.argmax(logits, axis=1)\n",
        "    predictions.extend(batch_predictions)\n",
        "    true_labels.extend(label_ids)\n",
        "\n",
        "# Calculate and print metrics\n",
        "calculate_metrics('test', predictions, true_labels)"
      ]
    },
    {
      "cell_type": "code",
      "execution_count": 29,
      "metadata": {
        "id": "GDaeLSDEWXUJ"
      },
      "outputs": [],
      "source": [
        "model.save_pretrained('/content/drive/MyDrive/WoS/BioBERT_WoS_Abstracts_5736')"
      ]
    }
  ],
  "metadata": {
    "language_info": {
      "name": "python"
    },
    "colab": {
      "provenance": []
    },
    "kernelspec": {
      "name": "python3",
      "display_name": "Python 3"
    },
    "widgets": {
      "application/vnd.jupyter.widget-state+json": {
        "dc54c987015143b5b6872fcd5221be82": {
          "model_module": "@jupyter-widgets/controls",
          "model_name": "HBoxModel",
          "model_module_version": "1.5.0",
          "state": {
            "_dom_classes": [],
            "_model_module": "@jupyter-widgets/controls",
            "_model_module_version": "1.5.0",
            "_model_name": "HBoxModel",
            "_view_count": null,
            "_view_module": "@jupyter-widgets/controls",
            "_view_module_version": "1.5.0",
            "_view_name": "HBoxView",
            "box_style": "",
            "children": [
              "IPY_MODEL_fc10c7b74eb847ab9a50b54d219cc0c2",
              "IPY_MODEL_5dbe7ffe86904214874a05b3d738da4a",
              "IPY_MODEL_3c79ba540c8840e18871a6c4212020fe"
            ],
            "layout": "IPY_MODEL_4f66a43f83384e14aa2b82b88ab16f21"
          }
        },
        "fc10c7b74eb847ab9a50b54d219cc0c2": {
          "model_module": "@jupyter-widgets/controls",
          "model_name": "HTMLModel",
          "model_module_version": "1.5.0",
          "state": {
            "_dom_classes": [],
            "_model_module": "@jupyter-widgets/controls",
            "_model_module_version": "1.5.0",
            "_model_name": "HTMLModel",
            "_view_count": null,
            "_view_module": "@jupyter-widgets/controls",
            "_view_module_version": "1.5.0",
            "_view_name": "HTMLView",
            "description": "",
            "description_tooltip": null,
            "layout": "IPY_MODEL_40ed1f12e4a34decb1a551a122c64a51",
            "placeholder": "​",
            "style": "IPY_MODEL_fd59ce171a654a19bbff357017c0f5fb",
            "value": "config.json: 100%"
          }
        },
        "5dbe7ffe86904214874a05b3d738da4a": {
          "model_module": "@jupyter-widgets/controls",
          "model_name": "FloatProgressModel",
          "model_module_version": "1.5.0",
          "state": {
            "_dom_classes": [],
            "_model_module": "@jupyter-widgets/controls",
            "_model_module_version": "1.5.0",
            "_model_name": "FloatProgressModel",
            "_view_count": null,
            "_view_module": "@jupyter-widgets/controls",
            "_view_module_version": "1.5.0",
            "_view_name": "ProgressView",
            "bar_style": "success",
            "description": "",
            "description_tooltip": null,
            "layout": "IPY_MODEL_8dc6e5c5ab2f42b48dc1afcd3a0a7bca",
            "max": 1110,
            "min": 0,
            "orientation": "horizontal",
            "style": "IPY_MODEL_074b815f5e81476a835556291ea8ab77",
            "value": 1110
          }
        },
        "3c79ba540c8840e18871a6c4212020fe": {
          "model_module": "@jupyter-widgets/controls",
          "model_name": "HTMLModel",
          "model_module_version": "1.5.0",
          "state": {
            "_dom_classes": [],
            "_model_module": "@jupyter-widgets/controls",
            "_model_module_version": "1.5.0",
            "_model_name": "HTMLModel",
            "_view_count": null,
            "_view_module": "@jupyter-widgets/controls",
            "_view_module_version": "1.5.0",
            "_view_name": "HTMLView",
            "description": "",
            "description_tooltip": null,
            "layout": "IPY_MODEL_0362b539552843b7b74cc7264e63ef56",
            "placeholder": "​",
            "style": "IPY_MODEL_69c30cdf1a6e4ba18b3384cc2cf3713a",
            "value": " 1.11k/1.11k [00:00&lt;00:00, 9.90kB/s]"
          }
        },
        "4f66a43f83384e14aa2b82b88ab16f21": {
          "model_module": "@jupyter-widgets/base",
          "model_name": "LayoutModel",
          "model_module_version": "1.2.0",
          "state": {
            "_model_module": "@jupyter-widgets/base",
            "_model_module_version": "1.2.0",
            "_model_name": "LayoutModel",
            "_view_count": null,
            "_view_module": "@jupyter-widgets/base",
            "_view_module_version": "1.2.0",
            "_view_name": "LayoutView",
            "align_content": null,
            "align_items": null,
            "align_self": null,
            "border": null,
            "bottom": null,
            "display": null,
            "flex": null,
            "flex_flow": null,
            "grid_area": null,
            "grid_auto_columns": null,
            "grid_auto_flow": null,
            "grid_auto_rows": null,
            "grid_column": null,
            "grid_gap": null,
            "grid_row": null,
            "grid_template_areas": null,
            "grid_template_columns": null,
            "grid_template_rows": null,
            "height": null,
            "justify_content": null,
            "justify_items": null,
            "left": null,
            "margin": null,
            "max_height": null,
            "max_width": null,
            "min_height": null,
            "min_width": null,
            "object_fit": null,
            "object_position": null,
            "order": null,
            "overflow": null,
            "overflow_x": null,
            "overflow_y": null,
            "padding": null,
            "right": null,
            "top": null,
            "visibility": null,
            "width": null
          }
        },
        "40ed1f12e4a34decb1a551a122c64a51": {
          "model_module": "@jupyter-widgets/base",
          "model_name": "LayoutModel",
          "model_module_version": "1.2.0",
          "state": {
            "_model_module": "@jupyter-widgets/base",
            "_model_module_version": "1.2.0",
            "_model_name": "LayoutModel",
            "_view_count": null,
            "_view_module": "@jupyter-widgets/base",
            "_view_module_version": "1.2.0",
            "_view_name": "LayoutView",
            "align_content": null,
            "align_items": null,
            "align_self": null,
            "border": null,
            "bottom": null,
            "display": null,
            "flex": null,
            "flex_flow": null,
            "grid_area": null,
            "grid_auto_columns": null,
            "grid_auto_flow": null,
            "grid_auto_rows": null,
            "grid_column": null,
            "grid_gap": null,
            "grid_row": null,
            "grid_template_areas": null,
            "grid_template_columns": null,
            "grid_template_rows": null,
            "height": null,
            "justify_content": null,
            "justify_items": null,
            "left": null,
            "margin": null,
            "max_height": null,
            "max_width": null,
            "min_height": null,
            "min_width": null,
            "object_fit": null,
            "object_position": null,
            "order": null,
            "overflow": null,
            "overflow_x": null,
            "overflow_y": null,
            "padding": null,
            "right": null,
            "top": null,
            "visibility": null,
            "width": null
          }
        },
        "fd59ce171a654a19bbff357017c0f5fb": {
          "model_module": "@jupyter-widgets/controls",
          "model_name": "DescriptionStyleModel",
          "model_module_version": "1.5.0",
          "state": {
            "_model_module": "@jupyter-widgets/controls",
            "_model_module_version": "1.5.0",
            "_model_name": "DescriptionStyleModel",
            "_view_count": null,
            "_view_module": "@jupyter-widgets/base",
            "_view_module_version": "1.2.0",
            "_view_name": "StyleView",
            "description_width": ""
          }
        },
        "8dc6e5c5ab2f42b48dc1afcd3a0a7bca": {
          "model_module": "@jupyter-widgets/base",
          "model_name": "LayoutModel",
          "model_module_version": "1.2.0",
          "state": {
            "_model_module": "@jupyter-widgets/base",
            "_model_module_version": "1.2.0",
            "_model_name": "LayoutModel",
            "_view_count": null,
            "_view_module": "@jupyter-widgets/base",
            "_view_module_version": "1.2.0",
            "_view_name": "LayoutView",
            "align_content": null,
            "align_items": null,
            "align_self": null,
            "border": null,
            "bottom": null,
            "display": null,
            "flex": null,
            "flex_flow": null,
            "grid_area": null,
            "grid_auto_columns": null,
            "grid_auto_flow": null,
            "grid_auto_rows": null,
            "grid_column": null,
            "grid_gap": null,
            "grid_row": null,
            "grid_template_areas": null,
            "grid_template_columns": null,
            "grid_template_rows": null,
            "height": null,
            "justify_content": null,
            "justify_items": null,
            "left": null,
            "margin": null,
            "max_height": null,
            "max_width": null,
            "min_height": null,
            "min_width": null,
            "object_fit": null,
            "object_position": null,
            "order": null,
            "overflow": null,
            "overflow_x": null,
            "overflow_y": null,
            "padding": null,
            "right": null,
            "top": null,
            "visibility": null,
            "width": null
          }
        },
        "074b815f5e81476a835556291ea8ab77": {
          "model_module": "@jupyter-widgets/controls",
          "model_name": "ProgressStyleModel",
          "model_module_version": "1.5.0",
          "state": {
            "_model_module": "@jupyter-widgets/controls",
            "_model_module_version": "1.5.0",
            "_model_name": "ProgressStyleModel",
            "_view_count": null,
            "_view_module": "@jupyter-widgets/base",
            "_view_module_version": "1.2.0",
            "_view_name": "StyleView",
            "bar_color": null,
            "description_width": ""
          }
        },
        "0362b539552843b7b74cc7264e63ef56": {
          "model_module": "@jupyter-widgets/base",
          "model_name": "LayoutModel",
          "model_module_version": "1.2.0",
          "state": {
            "_model_module": "@jupyter-widgets/base",
            "_model_module_version": "1.2.0",
            "_model_name": "LayoutModel",
            "_view_count": null,
            "_view_module": "@jupyter-widgets/base",
            "_view_module_version": "1.2.0",
            "_view_name": "LayoutView",
            "align_content": null,
            "align_items": null,
            "align_self": null,
            "border": null,
            "bottom": null,
            "display": null,
            "flex": null,
            "flex_flow": null,
            "grid_area": null,
            "grid_auto_columns": null,
            "grid_auto_flow": null,
            "grid_auto_rows": null,
            "grid_column": null,
            "grid_gap": null,
            "grid_row": null,
            "grid_template_areas": null,
            "grid_template_columns": null,
            "grid_template_rows": null,
            "height": null,
            "justify_content": null,
            "justify_items": null,
            "left": null,
            "margin": null,
            "max_height": null,
            "max_width": null,
            "min_height": null,
            "min_width": null,
            "object_fit": null,
            "object_position": null,
            "order": null,
            "overflow": null,
            "overflow_x": null,
            "overflow_y": null,
            "padding": null,
            "right": null,
            "top": null,
            "visibility": null,
            "width": null
          }
        },
        "69c30cdf1a6e4ba18b3384cc2cf3713a": {
          "model_module": "@jupyter-widgets/controls",
          "model_name": "DescriptionStyleModel",
          "model_module_version": "1.5.0",
          "state": {
            "_model_module": "@jupyter-widgets/controls",
            "_model_module_version": "1.5.0",
            "_model_name": "DescriptionStyleModel",
            "_view_count": null,
            "_view_module": "@jupyter-widgets/base",
            "_view_module_version": "1.2.0",
            "_view_name": "StyleView",
            "description_width": ""
          }
        },
        "424f0343991b4418970f0cf07cbad3c8": {
          "model_module": "@jupyter-widgets/controls",
          "model_name": "HBoxModel",
          "model_module_version": "1.5.0",
          "state": {
            "_dom_classes": [],
            "_model_module": "@jupyter-widgets/controls",
            "_model_module_version": "1.5.0",
            "_model_name": "HBoxModel",
            "_view_count": null,
            "_view_module": "@jupyter-widgets/controls",
            "_view_module_version": "1.5.0",
            "_view_name": "HBoxView",
            "box_style": "",
            "children": [
              "IPY_MODEL_f6c66079e1cf4b69ad557ce26709fae0",
              "IPY_MODEL_e8fe86b4862b403f9c66e7fbdcf46789",
              "IPY_MODEL_a31b6109fdf64914a58041b07ae1b3e6"
            ],
            "layout": "IPY_MODEL_eb23fa2b25fe49ad8574c9fa9c3b7e3d"
          }
        },
        "f6c66079e1cf4b69ad557ce26709fae0": {
          "model_module": "@jupyter-widgets/controls",
          "model_name": "HTMLModel",
          "model_module_version": "1.5.0",
          "state": {
            "_dom_classes": [],
            "_model_module": "@jupyter-widgets/controls",
            "_model_module_version": "1.5.0",
            "_model_name": "HTMLModel",
            "_view_count": null,
            "_view_module": "@jupyter-widgets/controls",
            "_view_module_version": "1.5.0",
            "_view_name": "HTMLView",
            "description": "",
            "description_tooltip": null,
            "layout": "IPY_MODEL_17e4c707d63c47af9284b1ff1ccc0035",
            "placeholder": "​",
            "style": "IPY_MODEL_6658de2d3a69445ababf2f7ada42ad22",
            "value": "vocab.txt: 100%"
          }
        },
        "e8fe86b4862b403f9c66e7fbdcf46789": {
          "model_module": "@jupyter-widgets/controls",
          "model_name": "FloatProgressModel",
          "model_module_version": "1.5.0",
          "state": {
            "_dom_classes": [],
            "_model_module": "@jupyter-widgets/controls",
            "_model_module_version": "1.5.0",
            "_model_name": "FloatProgressModel",
            "_view_count": null,
            "_view_module": "@jupyter-widgets/controls",
            "_view_module_version": "1.5.0",
            "_view_name": "ProgressView",
            "bar_style": "success",
            "description": "",
            "description_tooltip": null,
            "layout": "IPY_MODEL_800d08aa19cd46d8ab930cf62fc9b271",
            "max": 213450,
            "min": 0,
            "orientation": "horizontal",
            "style": "IPY_MODEL_7a73c8a6143c46c3abea1f6733b11e61",
            "value": 213450
          }
        },
        "a31b6109fdf64914a58041b07ae1b3e6": {
          "model_module": "@jupyter-widgets/controls",
          "model_name": "HTMLModel",
          "model_module_version": "1.5.0",
          "state": {
            "_dom_classes": [],
            "_model_module": "@jupyter-widgets/controls",
            "_model_module_version": "1.5.0",
            "_model_name": "HTMLModel",
            "_view_count": null,
            "_view_module": "@jupyter-widgets/controls",
            "_view_module_version": "1.5.0",
            "_view_name": "HTMLView",
            "description": "",
            "description_tooltip": null,
            "layout": "IPY_MODEL_da5aaa0870124e6b8ddd196fcfd13830",
            "placeholder": "​",
            "style": "IPY_MODEL_5e350681db804644811cf9ec1488c114",
            "value": " 213k/213k [00:00&lt;00:00, 2.37MB/s]"
          }
        },
        "eb23fa2b25fe49ad8574c9fa9c3b7e3d": {
          "model_module": "@jupyter-widgets/base",
          "model_name": "LayoutModel",
          "model_module_version": "1.2.0",
          "state": {
            "_model_module": "@jupyter-widgets/base",
            "_model_module_version": "1.2.0",
            "_model_name": "LayoutModel",
            "_view_count": null,
            "_view_module": "@jupyter-widgets/base",
            "_view_module_version": "1.2.0",
            "_view_name": "LayoutView",
            "align_content": null,
            "align_items": null,
            "align_self": null,
            "border": null,
            "bottom": null,
            "display": null,
            "flex": null,
            "flex_flow": null,
            "grid_area": null,
            "grid_auto_columns": null,
            "grid_auto_flow": null,
            "grid_auto_rows": null,
            "grid_column": null,
            "grid_gap": null,
            "grid_row": null,
            "grid_template_areas": null,
            "grid_template_columns": null,
            "grid_template_rows": null,
            "height": null,
            "justify_content": null,
            "justify_items": null,
            "left": null,
            "margin": null,
            "max_height": null,
            "max_width": null,
            "min_height": null,
            "min_width": null,
            "object_fit": null,
            "object_position": null,
            "order": null,
            "overflow": null,
            "overflow_x": null,
            "overflow_y": null,
            "padding": null,
            "right": null,
            "top": null,
            "visibility": null,
            "width": null
          }
        },
        "17e4c707d63c47af9284b1ff1ccc0035": {
          "model_module": "@jupyter-widgets/base",
          "model_name": "LayoutModel",
          "model_module_version": "1.2.0",
          "state": {
            "_model_module": "@jupyter-widgets/base",
            "_model_module_version": "1.2.0",
            "_model_name": "LayoutModel",
            "_view_count": null,
            "_view_module": "@jupyter-widgets/base",
            "_view_module_version": "1.2.0",
            "_view_name": "LayoutView",
            "align_content": null,
            "align_items": null,
            "align_self": null,
            "border": null,
            "bottom": null,
            "display": null,
            "flex": null,
            "flex_flow": null,
            "grid_area": null,
            "grid_auto_columns": null,
            "grid_auto_flow": null,
            "grid_auto_rows": null,
            "grid_column": null,
            "grid_gap": null,
            "grid_row": null,
            "grid_template_areas": null,
            "grid_template_columns": null,
            "grid_template_rows": null,
            "height": null,
            "justify_content": null,
            "justify_items": null,
            "left": null,
            "margin": null,
            "max_height": null,
            "max_width": null,
            "min_height": null,
            "min_width": null,
            "object_fit": null,
            "object_position": null,
            "order": null,
            "overflow": null,
            "overflow_x": null,
            "overflow_y": null,
            "padding": null,
            "right": null,
            "top": null,
            "visibility": null,
            "width": null
          }
        },
        "6658de2d3a69445ababf2f7ada42ad22": {
          "model_module": "@jupyter-widgets/controls",
          "model_name": "DescriptionStyleModel",
          "model_module_version": "1.5.0",
          "state": {
            "_model_module": "@jupyter-widgets/controls",
            "_model_module_version": "1.5.0",
            "_model_name": "DescriptionStyleModel",
            "_view_count": null,
            "_view_module": "@jupyter-widgets/base",
            "_view_module_version": "1.2.0",
            "_view_name": "StyleView",
            "description_width": ""
          }
        },
        "800d08aa19cd46d8ab930cf62fc9b271": {
          "model_module": "@jupyter-widgets/base",
          "model_name": "LayoutModel",
          "model_module_version": "1.2.0",
          "state": {
            "_model_module": "@jupyter-widgets/base",
            "_model_module_version": "1.2.0",
            "_model_name": "LayoutModel",
            "_view_count": null,
            "_view_module": "@jupyter-widgets/base",
            "_view_module_version": "1.2.0",
            "_view_name": "LayoutView",
            "align_content": null,
            "align_items": null,
            "align_self": null,
            "border": null,
            "bottom": null,
            "display": null,
            "flex": null,
            "flex_flow": null,
            "grid_area": null,
            "grid_auto_columns": null,
            "grid_auto_flow": null,
            "grid_auto_rows": null,
            "grid_column": null,
            "grid_gap": null,
            "grid_row": null,
            "grid_template_areas": null,
            "grid_template_columns": null,
            "grid_template_rows": null,
            "height": null,
            "justify_content": null,
            "justify_items": null,
            "left": null,
            "margin": null,
            "max_height": null,
            "max_width": null,
            "min_height": null,
            "min_width": null,
            "object_fit": null,
            "object_position": null,
            "order": null,
            "overflow": null,
            "overflow_x": null,
            "overflow_y": null,
            "padding": null,
            "right": null,
            "top": null,
            "visibility": null,
            "width": null
          }
        },
        "7a73c8a6143c46c3abea1f6733b11e61": {
          "model_module": "@jupyter-widgets/controls",
          "model_name": "ProgressStyleModel",
          "model_module_version": "1.5.0",
          "state": {
            "_model_module": "@jupyter-widgets/controls",
            "_model_module_version": "1.5.0",
            "_model_name": "ProgressStyleModel",
            "_view_count": null,
            "_view_module": "@jupyter-widgets/base",
            "_view_module_version": "1.2.0",
            "_view_name": "StyleView",
            "bar_color": null,
            "description_width": ""
          }
        },
        "da5aaa0870124e6b8ddd196fcfd13830": {
          "model_module": "@jupyter-widgets/base",
          "model_name": "LayoutModel",
          "model_module_version": "1.2.0",
          "state": {
            "_model_module": "@jupyter-widgets/base",
            "_model_module_version": "1.2.0",
            "_model_name": "LayoutModel",
            "_view_count": null,
            "_view_module": "@jupyter-widgets/base",
            "_view_module_version": "1.2.0",
            "_view_name": "LayoutView",
            "align_content": null,
            "align_items": null,
            "align_self": null,
            "border": null,
            "bottom": null,
            "display": null,
            "flex": null,
            "flex_flow": null,
            "grid_area": null,
            "grid_auto_columns": null,
            "grid_auto_flow": null,
            "grid_auto_rows": null,
            "grid_column": null,
            "grid_gap": null,
            "grid_row": null,
            "grid_template_areas": null,
            "grid_template_columns": null,
            "grid_template_rows": null,
            "height": null,
            "justify_content": null,
            "justify_items": null,
            "left": null,
            "margin": null,
            "max_height": null,
            "max_width": null,
            "min_height": null,
            "min_width": null,
            "object_fit": null,
            "object_position": null,
            "order": null,
            "overflow": null,
            "overflow_x": null,
            "overflow_y": null,
            "padding": null,
            "right": null,
            "top": null,
            "visibility": null,
            "width": null
          }
        },
        "5e350681db804644811cf9ec1488c114": {
          "model_module": "@jupyter-widgets/controls",
          "model_name": "DescriptionStyleModel",
          "model_module_version": "1.5.0",
          "state": {
            "_model_module": "@jupyter-widgets/controls",
            "_model_module_version": "1.5.0",
            "_model_name": "DescriptionStyleModel",
            "_view_count": null,
            "_view_module": "@jupyter-widgets/base",
            "_view_module_version": "1.2.0",
            "_view_name": "StyleView",
            "description_width": ""
          }
        },
        "e2ffc8f175a549ff96712dc2f16fa161": {
          "model_module": "@jupyter-widgets/controls",
          "model_name": "HBoxModel",
          "model_module_version": "1.5.0",
          "state": {
            "_dom_classes": [],
            "_model_module": "@jupyter-widgets/controls",
            "_model_module_version": "1.5.0",
            "_model_name": "HBoxModel",
            "_view_count": null,
            "_view_module": "@jupyter-widgets/controls",
            "_view_module_version": "1.5.0",
            "_view_name": "HBoxView",
            "box_style": "",
            "children": [
              "IPY_MODEL_017fb5c5cb2040e9b0d13f7d9e74ce2c",
              "IPY_MODEL_518ca94532fd4865a4337aba04149a91",
              "IPY_MODEL_e12cc834ec8d4f7d85a823c91ad62361"
            ],
            "layout": "IPY_MODEL_11990b4a5be743588522d066f8247608"
          }
        },
        "017fb5c5cb2040e9b0d13f7d9e74ce2c": {
          "model_module": "@jupyter-widgets/controls",
          "model_name": "HTMLModel",
          "model_module_version": "1.5.0",
          "state": {
            "_dom_classes": [],
            "_model_module": "@jupyter-widgets/controls",
            "_model_module_version": "1.5.0",
            "_model_name": "HTMLModel",
            "_view_count": null,
            "_view_module": "@jupyter-widgets/controls",
            "_view_module_version": "1.5.0",
            "_view_name": "HTMLView",
            "description": "",
            "description_tooltip": null,
            "layout": "IPY_MODEL_ebc25f8183f64eaca221c552f36ce5e0",
            "placeholder": "​",
            "style": "IPY_MODEL_fc6f3013342e497b92f09460061b45a1",
            "value": "pytorch_model.bin: 100%"
          }
        },
        "518ca94532fd4865a4337aba04149a91": {
          "model_module": "@jupyter-widgets/controls",
          "model_name": "FloatProgressModel",
          "model_module_version": "1.5.0",
          "state": {
            "_dom_classes": [],
            "_model_module": "@jupyter-widgets/controls",
            "_model_module_version": "1.5.0",
            "_model_name": "FloatProgressModel",
            "_view_count": null,
            "_view_module": "@jupyter-widgets/controls",
            "_view_module_version": "1.5.0",
            "_view_name": "ProgressView",
            "bar_style": "success",
            "description": "",
            "description_tooltip": null,
            "layout": "IPY_MODEL_fa3e3dcc60c14e7dbf6d86b19eff3080",
            "max": 435783451,
            "min": 0,
            "orientation": "horizontal",
            "style": "IPY_MODEL_e5d8b07a1d564e40bfec20fe7e51df67",
            "value": 435783451
          }
        },
        "e12cc834ec8d4f7d85a823c91ad62361": {
          "model_module": "@jupyter-widgets/controls",
          "model_name": "HTMLModel",
          "model_module_version": "1.5.0",
          "state": {
            "_dom_classes": [],
            "_model_module": "@jupyter-widgets/controls",
            "_model_module_version": "1.5.0",
            "_model_name": "HTMLModel",
            "_view_count": null,
            "_view_module": "@jupyter-widgets/controls",
            "_view_module_version": "1.5.0",
            "_view_name": "HTMLView",
            "description": "",
            "description_tooltip": null,
            "layout": "IPY_MODEL_57b1f32c9d5a48b78e757a3b72abfbe8",
            "placeholder": "​",
            "style": "IPY_MODEL_b15eba8e3d3e4e0887ee82a5ca07d1f3",
            "value": " 436M/436M [00:05&lt;00:00, 34.0MB/s]"
          }
        },
        "11990b4a5be743588522d066f8247608": {
          "model_module": "@jupyter-widgets/base",
          "model_name": "LayoutModel",
          "model_module_version": "1.2.0",
          "state": {
            "_model_module": "@jupyter-widgets/base",
            "_model_module_version": "1.2.0",
            "_model_name": "LayoutModel",
            "_view_count": null,
            "_view_module": "@jupyter-widgets/base",
            "_view_module_version": "1.2.0",
            "_view_name": "LayoutView",
            "align_content": null,
            "align_items": null,
            "align_self": null,
            "border": null,
            "bottom": null,
            "display": null,
            "flex": null,
            "flex_flow": null,
            "grid_area": null,
            "grid_auto_columns": null,
            "grid_auto_flow": null,
            "grid_auto_rows": null,
            "grid_column": null,
            "grid_gap": null,
            "grid_row": null,
            "grid_template_areas": null,
            "grid_template_columns": null,
            "grid_template_rows": null,
            "height": null,
            "justify_content": null,
            "justify_items": null,
            "left": null,
            "margin": null,
            "max_height": null,
            "max_width": null,
            "min_height": null,
            "min_width": null,
            "object_fit": null,
            "object_position": null,
            "order": null,
            "overflow": null,
            "overflow_x": null,
            "overflow_y": null,
            "padding": null,
            "right": null,
            "top": null,
            "visibility": null,
            "width": null
          }
        },
        "ebc25f8183f64eaca221c552f36ce5e0": {
          "model_module": "@jupyter-widgets/base",
          "model_name": "LayoutModel",
          "model_module_version": "1.2.0",
          "state": {
            "_model_module": "@jupyter-widgets/base",
            "_model_module_version": "1.2.0",
            "_model_name": "LayoutModel",
            "_view_count": null,
            "_view_module": "@jupyter-widgets/base",
            "_view_module_version": "1.2.0",
            "_view_name": "LayoutView",
            "align_content": null,
            "align_items": null,
            "align_self": null,
            "border": null,
            "bottom": null,
            "display": null,
            "flex": null,
            "flex_flow": null,
            "grid_area": null,
            "grid_auto_columns": null,
            "grid_auto_flow": null,
            "grid_auto_rows": null,
            "grid_column": null,
            "grid_gap": null,
            "grid_row": null,
            "grid_template_areas": null,
            "grid_template_columns": null,
            "grid_template_rows": null,
            "height": null,
            "justify_content": null,
            "justify_items": null,
            "left": null,
            "margin": null,
            "max_height": null,
            "max_width": null,
            "min_height": null,
            "min_width": null,
            "object_fit": null,
            "object_position": null,
            "order": null,
            "overflow": null,
            "overflow_x": null,
            "overflow_y": null,
            "padding": null,
            "right": null,
            "top": null,
            "visibility": null,
            "width": null
          }
        },
        "fc6f3013342e497b92f09460061b45a1": {
          "model_module": "@jupyter-widgets/controls",
          "model_name": "DescriptionStyleModel",
          "model_module_version": "1.5.0",
          "state": {
            "_model_module": "@jupyter-widgets/controls",
            "_model_module_version": "1.5.0",
            "_model_name": "DescriptionStyleModel",
            "_view_count": null,
            "_view_module": "@jupyter-widgets/base",
            "_view_module_version": "1.2.0",
            "_view_name": "StyleView",
            "description_width": ""
          }
        },
        "fa3e3dcc60c14e7dbf6d86b19eff3080": {
          "model_module": "@jupyter-widgets/base",
          "model_name": "LayoutModel",
          "model_module_version": "1.2.0",
          "state": {
            "_model_module": "@jupyter-widgets/base",
            "_model_module_version": "1.2.0",
            "_model_name": "LayoutModel",
            "_view_count": null,
            "_view_module": "@jupyter-widgets/base",
            "_view_module_version": "1.2.0",
            "_view_name": "LayoutView",
            "align_content": null,
            "align_items": null,
            "align_self": null,
            "border": null,
            "bottom": null,
            "display": null,
            "flex": null,
            "flex_flow": null,
            "grid_area": null,
            "grid_auto_columns": null,
            "grid_auto_flow": null,
            "grid_auto_rows": null,
            "grid_column": null,
            "grid_gap": null,
            "grid_row": null,
            "grid_template_areas": null,
            "grid_template_columns": null,
            "grid_template_rows": null,
            "height": null,
            "justify_content": null,
            "justify_items": null,
            "left": null,
            "margin": null,
            "max_height": null,
            "max_width": null,
            "min_height": null,
            "min_width": null,
            "object_fit": null,
            "object_position": null,
            "order": null,
            "overflow": null,
            "overflow_x": null,
            "overflow_y": null,
            "padding": null,
            "right": null,
            "top": null,
            "visibility": null,
            "width": null
          }
        },
        "e5d8b07a1d564e40bfec20fe7e51df67": {
          "model_module": "@jupyter-widgets/controls",
          "model_name": "ProgressStyleModel",
          "model_module_version": "1.5.0",
          "state": {
            "_model_module": "@jupyter-widgets/controls",
            "_model_module_version": "1.5.0",
            "_model_name": "ProgressStyleModel",
            "_view_count": null,
            "_view_module": "@jupyter-widgets/base",
            "_view_module_version": "1.2.0",
            "_view_name": "StyleView",
            "bar_color": null,
            "description_width": ""
          }
        },
        "57b1f32c9d5a48b78e757a3b72abfbe8": {
          "model_module": "@jupyter-widgets/base",
          "model_name": "LayoutModel",
          "model_module_version": "1.2.0",
          "state": {
            "_model_module": "@jupyter-widgets/base",
            "_model_module_version": "1.2.0",
            "_model_name": "LayoutModel",
            "_view_count": null,
            "_view_module": "@jupyter-widgets/base",
            "_view_module_version": "1.2.0",
            "_view_name": "LayoutView",
            "align_content": null,
            "align_items": null,
            "align_self": null,
            "border": null,
            "bottom": null,
            "display": null,
            "flex": null,
            "flex_flow": null,
            "grid_area": null,
            "grid_auto_columns": null,
            "grid_auto_flow": null,
            "grid_auto_rows": null,
            "grid_column": null,
            "grid_gap": null,
            "grid_row": null,
            "grid_template_areas": null,
            "grid_template_columns": null,
            "grid_template_rows": null,
            "height": null,
            "justify_content": null,
            "justify_items": null,
            "left": null,
            "margin": null,
            "max_height": null,
            "max_width": null,
            "min_height": null,
            "min_width": null,
            "object_fit": null,
            "object_position": null,
            "order": null,
            "overflow": null,
            "overflow_x": null,
            "overflow_y": null,
            "padding": null,
            "right": null,
            "top": null,
            "visibility": null,
            "width": null
          }
        },
        "b15eba8e3d3e4e0887ee82a5ca07d1f3": {
          "model_module": "@jupyter-widgets/controls",
          "model_name": "DescriptionStyleModel",
          "model_module_version": "1.5.0",
          "state": {
            "_model_module": "@jupyter-widgets/controls",
            "_model_module_version": "1.5.0",
            "_model_name": "DescriptionStyleModel",
            "_view_count": null,
            "_view_module": "@jupyter-widgets/base",
            "_view_module_version": "1.2.0",
            "_view_name": "StyleView",
            "description_width": ""
          }
        }
      }
    }
  },
  "nbformat": 4,
  "nbformat_minor": 0
}
