{
  "cells": [
    {
      "cell_type": "code",
      "execution_count": 1,
      "metadata": {
        "colab": {
          "base_uri": "https://localhost:8080/"
        },
        "id": "Va5ItHiVWXUG",
        "outputId": "97e466d8-002b-4394-e6e0-13b8b4c4924b"
      },
      "outputs": [
        {
          "output_type": "stream",
          "name": "stdout",
          "text": [
            "Tue Sep  3 12:15:06 2024       \n",
            "+---------------------------------------------------------------------------------------+\n",
            "| NVIDIA-SMI 535.104.05             Driver Version: 535.104.05   CUDA Version: 12.2     |\n",
            "|-----------------------------------------+----------------------+----------------------+\n",
            "| GPU  Name                 Persistence-M | Bus-Id        Disp.A | Volatile Uncorr. ECC |\n",
            "| Fan  Temp   Perf          Pwr:Usage/Cap |         Memory-Usage | GPU-Util  Compute M. |\n",
            "|                                         |                      |               MIG M. |\n",
            "|=========================================+======================+======================|\n",
            "|   0  Tesla T4                       Off | 00000000:00:04.0 Off |                    0 |\n",
            "| N/A   56C    P8              11W /  70W |      0MiB / 15360MiB |      0%      Default |\n",
            "|                                         |                      |                  N/A |\n",
            "+-----------------------------------------+----------------------+----------------------+\n",
            "                                                                                         \n",
            "+---------------------------------------------------------------------------------------+\n",
            "| Processes:                                                                            |\n",
            "|  GPU   GI   CI        PID   Type   Process name                            GPU Memory |\n",
            "|        ID   ID                                                             Usage      |\n",
            "|=======================================================================================|\n",
            "|  No running processes found                                                           |\n",
            "+---------------------------------------------------------------------------------------+\n"
          ]
        }
      ],
      "source": [
        "gpu_info = !nvidia-smi\n",
        "gpu_info = '\\n'.join(gpu_info)\n",
        "if gpu_info.find('failed') >= 0:\n",
        "  print('Not connected to a GPU')\n",
        "else:\n",
        "  print(gpu_info)"
      ]
    },
    {
      "cell_type": "code",
      "execution_count": 2,
      "metadata": {
        "colab": {
          "base_uri": "https://localhost:8080/"
        },
        "id": "6PAN1HD9WXUH",
        "outputId": "9140e81b-fe8f-4fed-b58e-5601e58f842d"
      },
      "outputs": [
        {
          "output_type": "stream",
          "name": "stdout",
          "text": [
            "Your runtime has 13.6 gigabytes of available RAM\n",
            "\n",
            "Not using a high-RAM runtime\n"
          ]
        }
      ],
      "source": [
        "from psutil import virtual_memory\n",
        "ram_gb = virtual_memory().total / 1e9\n",
        "print('Your runtime has {:.1f} gigabytes of available RAM\\n'.format(ram_gb))\n",
        "\n",
        "if ram_gb < 20:\n",
        "  print('Not using a high-RAM runtime')\n",
        "else:\n",
        "  print('You are using a high-RAM runtime!')"
      ]
    },
    {
      "cell_type": "code",
      "execution_count": 3,
      "metadata": {
        "colab": {
          "base_uri": "https://localhost:8080/"
        },
        "id": "M7k7VLmJWXUH",
        "outputId": "c8e6c5ab-fc7f-49dd-c7a3-b91b9d33d023"
      },
      "outputs": [
        {
          "output_type": "stream",
          "name": "stdout",
          "text": [
            "Mounted at /content/drive\n"
          ]
        }
      ],
      "source": [
        "from google.colab import drive\n",
        "drive.mount('/content/drive')"
      ]
    },
    {
      "cell_type": "code",
      "execution_count": 4,
      "metadata": {
        "colab": {
          "base_uri": "https://localhost:8080/"
        },
        "id": "SqnIUcZCWXUI",
        "outputId": "8c5a93a1-92f6-4295-a7e1-7de687d6295a"
      },
      "outputs": [
        {
          "output_type": "stream",
          "name": "stdout",
          "text": [
            "Requirement already satisfied: transformers in /usr/local/lib/python3.10/dist-packages (4.42.4)\n",
            "Requirement already satisfied: filelock in /usr/local/lib/python3.10/dist-packages (from transformers) (3.15.4)\n",
            "Requirement already satisfied: huggingface-hub<1.0,>=0.23.2 in /usr/local/lib/python3.10/dist-packages (from transformers) (0.23.5)\n",
            "Requirement already satisfied: numpy<2.0,>=1.17 in /usr/local/lib/python3.10/dist-packages (from transformers) (1.26.4)\n",
            "Requirement already satisfied: packaging>=20.0 in /usr/local/lib/python3.10/dist-packages (from transformers) (24.1)\n",
            "Requirement already satisfied: pyyaml>=5.1 in /usr/local/lib/python3.10/dist-packages (from transformers) (6.0.2)\n",
            "Requirement already satisfied: regex!=2019.12.17 in /usr/local/lib/python3.10/dist-packages (from transformers) (2024.5.15)\n",
            "Requirement already satisfied: requests in /usr/local/lib/python3.10/dist-packages (from transformers) (2.32.3)\n",
            "Requirement already satisfied: safetensors>=0.4.1 in /usr/local/lib/python3.10/dist-packages (from transformers) (0.4.4)\n",
            "Requirement already satisfied: tokenizers<0.20,>=0.19 in /usr/local/lib/python3.10/dist-packages (from transformers) (0.19.1)\n",
            "Requirement already satisfied: tqdm>=4.27 in /usr/local/lib/python3.10/dist-packages (from transformers) (4.66.5)\n",
            "Requirement already satisfied: fsspec>=2023.5.0 in /usr/local/lib/python3.10/dist-packages (from huggingface-hub<1.0,>=0.23.2->transformers) (2024.6.1)\n",
            "Requirement already satisfied: typing-extensions>=3.7.4.3 in /usr/local/lib/python3.10/dist-packages (from huggingface-hub<1.0,>=0.23.2->transformers) (4.12.2)\n",
            "Requirement already satisfied: charset-normalizer<4,>=2 in /usr/local/lib/python3.10/dist-packages (from requests->transformers) (3.3.2)\n",
            "Requirement already satisfied: idna<4,>=2.5 in /usr/local/lib/python3.10/dist-packages (from requests->transformers) (3.8)\n",
            "Requirement already satisfied: urllib3<3,>=1.21.1 in /usr/local/lib/python3.10/dist-packages (from requests->transformers) (2.0.7)\n",
            "Requirement already satisfied: certifi>=2017.4.17 in /usr/local/lib/python3.10/dist-packages (from requests->transformers) (2024.7.4)\n"
          ]
        }
      ],
      "source": [
        "!pip install transformers"
      ]
    },
    {
      "cell_type": "code",
      "execution_count": 5,
      "metadata": {
        "id": "WhVPx8QYWXUI"
      },
      "outputs": [],
      "source": [
        "import os\n",
        "import numpy as np\n",
        "import pandas as pd\n",
        "from sklearn.model_selection import train_test_split\n",
        "from sklearn.metrics import confusion_matrix, classification_report, f1_score, precision_score, recall_score\n",
        "from transformers import AutoTokenizer, AutoModelForSequenceClassification, AdamW, get_linear_schedule_with_warmup\n",
        "import torch\n",
        "from torch.utils.data import DataLoader, TensorDataset, RandomSampler, SequentialSampler\n",
        "import torch.nn.functional as F\n",
        "from tqdm import trange, tqdm\n",
        "import matplotlib.pyplot as plt\n",
        "import sklearn.utils\n",
        "import time\n",
        "import re\n"
      ]
    },
    {
      "cell_type": "code",
      "execution_count": 6,
      "metadata": {
        "colab": {
          "base_uri": "https://localhost:8080/"
        },
        "id": "3oFtbbtBWXUI",
        "outputId": "cc4b68ec-4a59-40df-d6dc-2b6c41f60fcc"
      },
      "outputs": [
        {
          "output_type": "stream",
          "name": "stdout",
          "text": [
            "(5736, 4)\n"
          ]
        }
      ],
      "source": [
        "# Retrive the data from stored dataset\n",
        "dataDir = \"/content/drive/MyDrive/WoS/data\"\n",
        "tsvData = os.path.join(dataDir,\"WoSDataset_5736.tsv\")\n",
        "\n",
        "tsvData = np.loadtxt(tsvData, dtype=str, delimiter=\"\\t\")\n",
        "print(np.shape(tsvData))"
      ]
    },
    {
      "cell_type": "code",
      "execution_count": 7,
      "metadata": {
        "colab": {
          "base_uri": "https://localhost:8080/"
        },
        "id": "5xw9-_jdWXUI",
        "outputId": "1976a7fa-f01e-42a3-a6de-459810e5b285"
      },
      "outputs": [
        {
          "output_type": "stream",
          "name": "stdout",
          "text": [
            "[['2' 'biochemistry'\n",
            "  ' candidatus phytoplasma    16s rrna biosecurity taxonomy biodiversity vector seed transmission host range       '\n",
            "  'phytoplasmas are insectvectored bacteria that cause disease in a wide range of plant species the increasing availability of molecular dna analyses expertise and additional methods in recent years has led to a proliferation of discoveries of phytoplasmaplant host associations and in the numbers of taxonomic groupings for phytoplasmas the widespread use of common names based on the diseases with which they are associated as well as separate phenetic and taxonomic systems for classifying phytoplasmas based on variation at the 16s rrnaencoding gene complicates interpretation of the literature we explore this issue and related trends through a focus on australian pathosystems providing the first comprehensive compilation of information for this continent covering the phytoplasmas host plants vectors and diseases of the 33 16sr groups reported internationally only groups i ii iii x xi and xii have been recorded in australia and this highlights the need for ongoing biosecurity measures to prevent the introduction of additional pathogen groups many of the phytoplasmas reported in australia have not been sufficiently well studied to assign them to 16sr groups so it is likely that unrecognized groups and subgroups are present wide host plant ranges are apparent among well studied phytoplasmas with multiple crop and noncrop species infected by some disease management is further complicated by the fact that putative vectors have been identified for few phytoplasmas especially in australia despite rapid progress in recent years using molecular approaches phytoplasmas remain the least well studied group of plant pathogens making them a crouching tiger disease threat']\n",
            " ['2' 'biochemistry'\n",
            "  ' alphabisabolol alphabisabolol synthase mevalonate pathway farnesyl diphosphate synthase in situ extraction vegetable oils escherichia coli        '\n",
            "  'background alphabisabolol also known as levomenol is an unsaturated sesquiterpene alcohol that has mainly been used in pharmaceutical and cosmetic products due to its antiinflammatory and skinsoothing properties alphabisabolol is currently manufactured mainly by steamdistillation of the essential oils extracted from the brazilian candeia tree that is under threat because its natural habitat is constantly shrinking therefore microbial production of alphabisabolol plays a key role in the development of its sustainable production from renewable feedstock results here we created an escherichia coli strain producing alphabisabolol at high titer and developed an in situ extraction method of alphabisabolol using natural vegetable oils we expressed a recently identified alphabisabolol synthase isolated from german chamomile matricaria recutita titer 3 mgl converted the acetylcoa to mevalonate using the biosynthetic mevalonate pathway 128 mgl and overexpressed farnesyl diphosphate synthase to efficiently supply the alphabisabolol precursor farnesyl diphosphate combinatorial expression of the exogenous mevalonate pathway and farnesyl diphosphate synthase enabled a dramatic increase in alphabisabolol production in the shake flask culture 80 mgl and 5 l bioreactor culture 342 mgl of engineered e coli harboring alphabisabolol synthase fedbatch fermentation using a 50 l fermenter was conducted after optimizing culture conditions resulting in efficient alphabisabolol production with a titer of 91 gl moreover a green downstream extraction process using vegetable oils was developed for in situ extraction of alphabisabolol during fermentation and showed high yield recovery 98 conclusions the engineered e coli strains and economically viable extraction process developed in this study will serve as promising platforms for further development of microbial production of alphabisabolol at large scale']\n",
            " ['2' 'biochemistry'\n",
            "  ' rna virus cirv yeast programmed cell death acetic acid        '\n",
            "  'a universal feature of the replication of positivestrand rna viruses is the association with intracellular membranes carnation italian ringspot virus cirv replication in plants occurs in vesicles derived from the mitochondrial outer membrane the product encoded by cirv orf1 p36 is required for targeting the virus replication complex to the outer mitochondrial membrane both in plant and yeast cells here the yeast saccharomyces cerevisiae was used as a model host to study the effect of cirv p36 on cell survival and death it was shown that p36 does not promote cell death but decreases cell growth rate in addition p36 changed the nature of acetic acidinduced cell death in yeast by increasing the number of cells dying by necrosis with concomitant decrease of the number of cells dying by programmed cell death as judged by measurements of phosphatidylserine externalization the tight association of p36 to membranes was not affected by acetic acid treatment thus confirming the peculiar and independent interaction of cirv p36 with mitochondria in yeast this work proved yeast as an invaluable model organism to study both the mitochondrial determinants of the type of cell death in response to stress and the molecular pathogenesis of rna viruses c 2016 elsevier ireland ltd all rights reserved']\n",
            " ['2' 'biochemistry'\n",
            "  ' 1 2dicloropropane dichloromethane gpt delta rat in vivo mutagenicity liver        '\n",
            "  '12dichloropropane 12dcp and dichloromethane dcm are possible causative agents associated with the development of cholangiocarcinoma in employees working in printing plant in osaka japan however few reports have demonstrated an association between these agents and cholangiocarcinoma in rodent carcinogenicity studies moreover the combined effects of these compounds have not been fully elucidated in the present study we evaluated the in vivo mutagenicity of 12dcp and dcm alone or combined in the livers of gpt delta rats sixweekold male f344 gpt delta rats were treated with 12dcp dcm or 12dcpdcm by oral administration for 4weeks at the dose 200mgkg1 body weight 12dcp and 500mgkg1 body weight dcm used in the carcinogenesis study performed by the national toxicology program in vivo mutagenicity was analyzed by gpt mutationspi assays in the livers of rats in addition gene and protein expression of cyp2e1 and gstt1 the major enzymes responsible for the genotoxic effects of 12dcp and dcm were analyzed by quantitative polymerase chain reaction and western blotting gpt and spi mutation frequencies were not increased by 12dcp andor dcm in any group additionally there were no significant changes in the gene and protein expression of cyp2e1 and gstt1 in any group these results indicated that 12dcp dcm and 12dcpdcm had no significant impact on mutagenicity in the livers of gpt delta rats under our experimental conditions copyright c 2016 john wiley  sons ltd']\n",
            " ['0' 'ECE' ' 130 nm cmos pa programmable pa 24 ghz pa        '\n",
            "  'this paper presents the simulation results of a linear fully integrated twostage digitally programmable 130 nm cmos power amplifier pa operating at 24 ghz its power stage is composed of a set of amplifying cells which can be enabled or disabled independently by a digital control circuit all seven operational modes are univocal in terms of 1 db output compression point ocp1db saturated output power psat and power gain at 24 ghz the lowest power mode achieves an 81 dbm psat a 135 db power gain and consumes 171 mw dc power pdc at an ocp1db of 6 dbm whereas the highest power mode reaches an 189 dbm psat and a 211 db power gain and consumes 415 mw pdc at an ocp1db of 182 dbm']\n",
            " ['2' 'biochemistry'\n",
            "  ' 14alphaglucan branching enzyme hispatch thioredoxin geobacillus sp glycogen branching enzyme genome mining        '\n",
            "  'the glycogen branching enzyme ec 24118 which catalyses the formation of alpha16glycosidic branch points in glycogen structure is often used to enhance the nutritional value and quality of food and beverages in order to be applicable in industries enzymes that are stable and active at high temperature are much desired using genome mining the nucleotide sequence of the branching enzyme gene glgb was extracted from the geobacillus mahadia geo05 genome sequence provided by the malaysia genome institute the size of the gene is 2013 bp and the theoretical molecular weight of the protein is 7843 kda the gene sequence was then used to predict the thermostability function and the three dimensional structure of the enzyme the gene was cloned and overexpressed in e coli to verify the predicted result experimentally the purified enzyme was used to study the effect of temperature and ph on enzyme activity and stability and the inhibitory effect by metal ion on enzyme activity this thermostable glycogen branching enzyme was found to be most active at 55 degrees c and the halflife at 60 degrees c and 70 degrees c was 24 h and 5 h respectively from this research a thermostable glycogen branching enzyme was successfully isolated from geobacillus mahadia geo05 by genome mining together with molecular biology technique']\n",
            " ['2' 'biochemistry'\n",
            "  ' 16s rrna amplicon sequencing activated sludge bacterial populations molecular biology        '\n",
            "  'the microbial populations in the activated sludge of two polish wastewater treatment plants wwtps were identified and quantified using illumina sequencing of 16s ribosomal rna amplicons over a 2year period their dynamics over time were compared to danish wwtps data collected in previous studies by center for microbial communities aalborg university the bacterial communities in polish and danish wwtps were similar to each other but the microbial diversity in polish wwtps was lower the dominant genera in polish wwtps were more abundant than in danish wwtps 30 of them constituted more than half the of activated sludge community polish wwtps showed a higher abundance of bacteria involved in nitrogen and chemical oxygen demand removal proteobacteria and bacteroidetes while polyphosphateacculumating bacteria were the dominant bacterial group in danish plants the microbial community structures in the examined polish wwtps were relatively similar to each other and showed strong seasonal variations which are not normally observed in danish wwtps']\n",
            " ['2' 'biochemistry'\n",
            "  ' 16s 16s rrna utility bacterial infections cost analysis        '\n",
            "  'background broadrange 16s rrna pcr can be used for the detection and identification of bacteria from clinical specimens in patients for whom there is a high suspicion of infection and cultures are negative the aims of this study were 1 to compare 16s rrna pcr results with microbiolog ical culture results 2 to assess the utility of 16s rrna pcr with regard to antimicrobial therapy and 3 to compare the yield of 16s rrna pcr for different types of clinical specimen and to perform a cost analysis of the test methods a retrospective study was performed on different clinical specimens which had 16s performed over 3 years 20122015 standard microbiological cultures were performed on appropriate media as per the laboratory protocol patient clinical and microbiological data were obtained from the electronic medical records and laboratory information system respectively 16s rrna pcr was performed in a reference laboratory using a validated method for amplification and sequencing the outcomes assessed were the performance of 16s rrna pcr change of antimicrobials rationalization cessation or addition and duration of therapy concordance of 16s rrna pcr with bacterial cultures was also determined for tissue specimens results thirtytwo patients were included in the study for whom an equal number of specimens n  32 were sent for 16s rrna pcr 16s rrna pcr could identify an organism in 10 of 32 cases 312 of which seven were culturepositive and three were culturenegative the sensitivity was 58 confidence interval ci 2859835 and specificity was 85 ci 611396 with a positive predictive value of 70 ci 353919 and negative predictive value of 772 ci 5417913 antimicrobial therapy was rationalized after 16s rrna pcr results in five patients 156 and was ceased in four based on negative results 125 overall the 16s rrna pcr result had an impact on antimicrobial therapy in 28 of patients 932 the highest concordance of 16s rrna pcr with bacterial culture was found for heart valve tissue 80 followed by joint fluidtissue 50 conclusions despite the low diagnostic yield results of 16s rrna pcr can still have a significant impact on patient management due to rationalization or cessation of the antimicrobial therapy the yield of 16s rrna pcr was highest for heart valves c 2017 the authors published by elsevier ltd on behalf of international society for infectious diseases']\n",
            " ['2' 'biochemistry'\n",
            "  ' 16sriid subgroup 16srvid subgroup phytoplasma hishimonas phycitis cannabis sativa subsp sativa portulaca oleracea        '\n",
            "  'brinjal little leaf bll is a widespread disease of phytoplasma etiology in india that induces severe economic losses surveys were conducted in eight brinjalgrowing states of india during july 2014 to september 2015 and eighteen bll samples showing little leaf phyllody and witches broom symptoms were collected for phytoplasma identification presence of phytoplasmas was confirmed in all the eighteen bll samples using polymerase chain reaction with phytoplasmaspecific primer pairs p1p6 r16f2nr16r2 pair wise sequence comparison and phylogenetic relationship of 16s rrna gene sequences of bll phytoplasma strains confirmed that sixteen out of eighteen bll strains belonged to clover proliferation phytoplasma 16srvi group and two bll strains gkpa and gkpb from gorakhpur uttar pradesh were classified under 16srii group further virtual rflp analysis of 16s rdna sequences allowed finer classification of bll strains into 16sriid and 16srvid subgroups bll phytoplasma strains belonging to 16srvid subgroup were found as the most widespread phytoplasma strains associated with bll disease in india 16srvid subgroup phytoplasma association with two symptomatic weed species viz cannabis sativa subsp sativa at noida uttar pradesh and portulaca oleracea at iari fields new delhi was also confirmed by nested pcr assays with similar set of phytoplasmaspecific primers pairwise 16s rdna sequence comparison phylogeny and virtual rflp analysis out of five identified leafhopper species from bllinfected fields at noida uttar pradesh and delhi only hishimonas phycitis was identified as carrier and natural vector of 16srvid subgroup of phytoplasmas by nested pcr assays sequence comparison phylogeny virtual rflp analysis and transmission assays']\n",
            " ['2' 'biochemistry'\n",
            "  ' 16srxxiib phytoplasma candidatus phytoplasma palmicola coconut palm cocos nucifera lethal yellowing pcrrflp phylogeny ribosomal protein gene seca gene        '\n",
            "  'surveys for the cote divoire lethal yellowing cily phytoplasma were conducted in eight severely cilyaffected villages of grandlahou in 2015 leaves inflorescences and trunk borings were collected from coconut palms showing cily symptoms and from symptomless trees total dna was extracted from these samples and tested by nested polymerase chain reactionrflp and sequence analysis of the 16s rrna ribosomal protein rp and the translocation protein seca genes the cily phytoplasma was detected in 829 of the symptombearing palms collected from all the surveyed villages and from all the plant parts trunk borings were recommended as the most suitable plant tissue type for sampling results indicate that the cily phytoplasma may have a westward spread to other coconutgrowing areas of grandlahou cily phytoplasma strains infecting coconut palms in the western region of grandlahou exhibited unique single nucleotide polymorphisms on the rp sequence compared to the strains from the eastern region moreover single nucleotide polymorphisms on the seca sequence distinguished the cily phytoplasma from the cape st paul wilt disease phytoplasma in ghana and the lethal yellowing phytoplasma in mozambique']\n",
            " ['2' 'biochemistry'\n",
            "  ' 18s qsmrt quantitative ribosomal ross sea sequencing silicoflagellate smrt        '\n",
            "  'advances in sequencing technologies continue to provide unprecedented opportunities to characterize microbial communities for example the pacific biosciences single molecule realtime smrt platform has emerged as a unique approach harnessing dna polymerase activity to sequence template molecules enabling long reads at low costs with the aim to simultaneously classify and enumerate in situ microbial populations we developed a quantitative smrt qsmrt approach that involves the addition of exogenous standards to quantify ribosomal amplicons derived from environmental samples the v79 regions of 18s ssu rdna were targeted and quantified from protistan community samples collected in the ross sea during the austral summer of 2011 we used three standards of different length and optimized conditions to obtain accurate quantitative retrieval across the range of expected amplicon sizes a necessary criterion for analyzing taxonomically diverse 18s rdna molecules from natural environments the ability to concurrently identify and quantify microorganisms in their natural environment makes qsmrt a powerful rapid and costeffective approach for defining ecosystem diversity and function c 2017 elsevier bv all rights reserved']\n",
            " ['2' 'biochemistry'\n",
            "  ' 1a6drim utp20 18s rrna processing u3 snorna        '\n",
            "  '1a6drim is a nucleolar protein with a nucleolar targeting sequence in its 3terminus bioinformatic analysis indicated that human 1a6 drim shares 23 identity and 43 similarity with yeast utp20 which has been reported as a component of u3 snorna protein complex and has been implicated in 18s rrna processing in the present study we found by utilizing rtpcr with rna extracted from anti1a6drim inummoprecipitates and northern blotting that 1a6drim is associated with u3 snorna pulsechase labeling assays showed that silencing of 1a6drim expression in hela cells resulted in a delayed 18s rrna processing furthermore immunoprecipitations revealed that 1a6drim was also associated with fibrillarin another u3 rnp component in hela cells these results indicate that 1a6drim is involved in 18s rrna processing and is the bona fide mammalian utp20 c 2007 elsevier bv all rights reserved']\n",
            " ['1' 'Psychology'\n",
            "  ' 22q112 deletion syndrome face recognition negative performance belief negative symptom        '\n",
            "  'aims 22q112 deletion syndrome 22q112ds is a neurogenetic condition associated with an increased risk of developing schizophrenia previous studies have shown that negative symptoms represent the most specific clinical characteristic of psychosis in 22q112ds and are strongly associated with outcome however the psychological mechanisms associated with these symptoms in this population are poorly understood in accordance with recent conceptualizations in the field of schizophrenia the present study aims at investigating whether negative symptoms are associated with the presence of negative performance beliefs and cognitive deficits methods thirtyfive participants with 22q112ds and 24 typically developing individuals aged between 11 and 24 years were included in the study selfreported schizotypal symptoms cognitiveperceptual paranoid negative and disorganization symptoms and dysfunctional beliefs negative performance beliefs and need for approval were assessed measures of processing speed verbal memory working memory executive functioning and face recognitionwere also extracted from a broad cognitive evaluation protocol results adolescents with 22q112ds reported significantly higher score on the negative dimension of the schizotypal personality questionnaire than controls even when controlling for the influence of anxietydepression and intellectual functioning negative and paranoid symptoms were associated with the severity of negative performance beliefs and lower face recognition abilities mediation analyses revealed that negative performance beliefs significantly mediated the association between face recognition and negativeparanoid symptoms conclusions these findings suggest that negative performance beliefs and basic social cognitive mechanisms are associated with negative and paranoid symptoms in individuals with 22q112ds implications for intervention are discussed in this article']\n",
            " ['1' 'Psychology'\n",
            "  ' 22q112 deletion syndrome social brain network social cognition twotensor tractography white matter tracts        '\n",
            "  'background chromosome 22q112 deletion syndrome 22q112ds is a neurogenetic disorder that is associated with a 25fold increase in schizophrenia both individuals with 22q112ds and those with schizophrenia present with social cognitive deficits which are putatively subserved by a network of brain regions that are involved in the processing of social cognitive information this study used twotensor tractography to examine the white matter tracts believed to underlie the social brain network in a group of 57 young adults with 22q112ds compared to 30 unaffected controls results results indicated that relative to controls participants with 22q112ds showed significant differences in several dti metrics within the inferior frontooccipital fasciculus cingulum bundle thalamofrontal tract and inferior longitudinal fasciculus in addition participants with 22q112ds showed significant differences in scores on measures of social cognition including the social responsiveness scale and trait emotional intelligence questionnaire further analyses among individuals with 22q112ds demonstrated an association between dti metrics and positive and negative symptoms of psychosis as well as differentiation between individuals with 22q112ds and overt psychosis relative to those with positive prodromal symptoms or no psychosis conclusions findings suggest that white matter disruption specifically disrupted axonal coherence in the right inferior frontooccipital fasciculus may be a biomarker for social cognitive difficulties and psychosis in individuals with 22q112ds']\n",
            " ['2' 'biochemistry'\n",
            "  ' 22q121 tetratricopeptide repeat tpr centrosome aurora kinase b cell division midbody        '\n",
            "  'through the comprehensive analysis of the genomic dna sequence of human chromosome 22 we identified a novel gene of 702 kb encoding a big protein of 2481 amino acid residues and named it as tprbk tpr containing big gene cloned at keio a novel protein tprbk possesses 25 units of the tpr motif which has been known to associate with a diverse range of biological functions orthologous genes of human tprbk were found widely in animal species from insecta to mammal but not found in plants fungi and nematoda northern blotting and rtpcr analyses revealed that tprbk gene is expressed ubiquitously in the human and mouse fetal tissues and various cell lines of human monkey and mouse lmmunofluorescent staining of the synchronized monkey cos7 cells with several relevant antibodies indicated that tprbk changes its subcellular localization during the cell cycle at interphase tprbk locates on the centrosomes during mitosis it translocates from spindle poles to mitotic spindles then to spindle midzone and through a period of cytokinesis it stays on the midbody coimmunoprecipitation assay and immunofluorescent staining with adequate antibodies revealed that tprbk binds to aurora b and those proteins together translocate throughout mitosis and cytokinesis treatments of cells with two drugs blebbistatin and y27632 that are known to inhibit the contractility of actinmyosin disturbed the proper intracellular localization of tprbk moreover the knockdown of tprbk expression by small interfering rna sirna suppressed the bundling of spindle midzone microtubules and disrupted the midbody formation arresting the cells at g2  m phase these observations indicated that a novel big protein tprbk is essential for the formation and integrity of the midbody hence we postulated that tprbk plays a critical role in the progress of mitosis and cytokinesis during mammalian cell cycle c 2012 elsevier bv all rights reserved']]\n"
          ]
        }
      ],
      "source": [
        "print(tsvData[0:15])"
      ]
    },
    {
      "cell_type": "code",
      "execution_count": 8,
      "metadata": {
        "id": "eMlvUSrlWXUI"
      },
      "outputs": [],
      "source": [
        "allLabels = tsvData[:,0]\n",
        "domains = tsvData[:,1]\n",
        "keywords = tsvData[:,2]\n",
        "abstracts = tsvData[:,3]"
      ]
    },
    {
      "cell_type": "code",
      "execution_count": 9,
      "metadata": {
        "colab": {
          "base_uri": "https://localhost:8080/"
        },
        "id": "I5ukmXOvWXUI",
        "outputId": "a7196ff3-50a2-46bc-fbbb-907b23a7bbe0"
      },
      "outputs": [
        {
          "output_type": "stream",
          "name": "stdout",
          "text": [
            "Labels  ['ECE' 'Psychology' 'biochemistry']\n",
            "Label counts  [1292 1597 2847]\n"
          ]
        }
      ],
      "source": [
        "labels = np.unique(domains, return_counts=True)[0]\n",
        "labelCounts=  np.unique(domains, return_counts=True)[1]\n",
        "\n",
        "print(\"Labels \", labels)\n",
        "print(\"Label counts \", labelCounts)"
      ]
    },
    {
      "cell_type": "code",
      "execution_count": 10,
      "metadata": {
        "colab": {
          "base_uri": "https://localhost:8080/",
          "height": 582
        },
        "id": "-T7QrmVmWXUI",
        "outputId": "1713d964-7881-4b40-f318-ceaddd2d9b16"
      },
      "outputs": [
        {
          "output_type": "display_data",
          "data": {
            "text/plain": [
              "<Figure size 1000x600 with 1 Axes>"
            ],
            "image/png": "[encoded data removed]"
          },
          "metadata": {}
        },
        {
          "output_type": "stream",
          "name": "stdout",
          "text": [
            "The domain ECE has 1292 records in the dataset.\n",
            "The domain Psychology has 1597 records in the dataset.\n",
            "The domain biochemistry has 2847 records in the dataset.\n"
          ]
        }
      ],
      "source": [
        "# Visualize domain counts in dataset\n",
        "plt.figure(figsize=(10, 6))\n",
        "plt.title(\"Domain Counts (Dataset)\")\n",
        "plt.pie(labelCounts, labels=labels, autopct='%1.1f%%', startangle=140, colors=plt.cm.Paired(range(len(labels))))\n",
        "plt.axis('equal')\n",
        "plt.show()\n",
        "\n",
        "for i, domain in enumerate(labels):\n",
        "    print(\"The domain\", domain, \"has\", labelCounts[i], \"records in the dataset.\")"
      ]
    },
    {
      "cell_type": "code",
      "execution_count": 11,
      "metadata": {
        "colab": {
          "base_uri": "https://localhost:8080/"
        },
        "id": "MWaqWll9WXUI",
        "outputId": "3294d428-01ed-423b-d339-71a342ce19a0"
      },
      "outputs": [
        {
          "output_type": "stream",
          "name": "stdout",
          "text": [
            "Number of abstracts:  5736\n",
            "Shape of abstracts:  (5736,)\n",
            "['let ohm subset of r2 be an open domain with fractal boundary partial derivative ohm we define a proper convex and lower semicontinuous functional on the space x2ohmpartial derivative ohm  l2ohm dx x l2partial derivative ohm d mu and we characterize its subdifferential which gives rise to nonlocal venttsel boundary conditions then we consider the associated nonlinear semigroup tp generated by the opposite of the subdifferential and we prove that the corresponding abstract cauchy problem is uniquely solvable we prove that the unique strong solution solves a quasilinear parabolic venttsel problem with a nonlocal term on the boundary partial derivative ohm of ohm moreover we study the properties of the nonlinear semigroup tp and we prove that it is orderpreserving markovian and ultracontractive at the end we turn our attention to the elliptic venttsel problem and we show existence uniqueness and global boundedness of weak solutions c 2016 elsevier ltd all rights reserved'\n",
            " 'this paper presents a current sense amplifier csa capable of performing measurements at high input common mode cm voltages independent of the power supply rail the proposed circuit employs a fully low voltage amplifier cell a correction block for maintaining the linearity of the input stage over the entire input cm and a protection circuit against high differential input voltages diff furthermore a trimming procedure that enables the use of typical polysilicon gain resistors without losing accuracy and precision is discussed the proposed architecture has been implemented in a standard 025 mu m bcd technology and its performances have been confirmed by both simulations and measurements']\n",
            "Number of keywords:  5736\n",
            "Shape of keywords:  (5736,)\n",
            "['let ohm subset of r2 be an open domain with fractal boundary partial derivative ohm we define a proper convex and lower semicontinuous functional on the space x2ohmpartial derivative ohm  l2ohm dx x l2partial derivative ohm d mu and we characterize its subdifferential which gives rise to nonlocal venttsel boundary conditions then we consider the associated nonlinear semigroup tp generated by the opposite of the subdifferential and we prove that the corresponding abstract cauchy problem is uniquely solvable we prove that the unique strong solution solves a quasilinear parabolic venttsel problem with a nonlocal term on the boundary partial derivative ohm of ohm moreover we study the properties of the nonlinear semigroup tp and we prove that it is orderpreserving markovian and ultracontractive at the end we turn our attention to the elliptic venttsel problem and we show existence uniqueness and global boundedness of weak solutions c 2016 elsevier ltd all rights reserved'\n",
            " 'this paper presents a current sense amplifier csa capable of performing measurements at high input common mode cm voltages independent of the power supply rail the proposed circuit employs a fully low voltage amplifier cell a correction block for maintaining the linearity of the input stage over the entire input cm and a protection circuit against high differential input voltages diff furthermore a trimming procedure that enables the use of typical polysilicon gain resistors without losing accuracy and precision is discussed the proposed architecture has been implemented in a standard 025 mu m bcd technology and its performances have been confirmed by both simulations and measurements']\n",
            "Number of domains:  5736\n",
            "Shape of domains:  (5736,)\n",
            "['Psychology' 'ECE']\n",
            "Number of labels:  5736\n",
            "Shape of labels:  (5736,)\n",
            "['1' '0']\n",
            "['let ohm subset of r2 be an open domain with fractal boundary partial derivative ohm we define a proper convex and lower semicontinuous functional on the space x2ohmpartial derivative ohm  l2ohm dx x l2partial derivative ohm d mu and we characterize its subdifferential which gives rise to nonlocal venttsel boundary conditions then we consider the associated nonlinear semigroup tp generated by the opposite of the subdifferential and we prove that the corresponding abstract cauchy problem is uniquely solvable we prove that the unique strong solution solves a quasilinear parabolic venttsel problem with a nonlocal term on the boundary partial derivative ohm of ohm moreover we study the properties of the nonlinear semigroup tp and we prove that it is orderpreserving markovian and ultracontractive at the end we turn our attention to the elliptic venttsel problem and we show existence uniqueness and global boundedness of weak solutions c 2016 elsevier ltd all rights reserved'\n",
            " 'this paper presents a current sense amplifier csa capable of performing measurements at high input common mode cm voltages independent of the power supply rail the proposed circuit employs a fully low voltage amplifier cell a correction block for maintaining the linearity of the input stage over the entire input cm and a protection circuit against high differential input voltages diff furthermore a trimming procedure that enables the use of typical polysilicon gain resistors without losing accuracy and precision is discussed the proposed architecture has been implemented in a standard 025 mu m bcd technology and its performances have been confirmed by both simulations and measurements'\n",
            " 'a design of a new hybridtype digital pulsewidth modulator dpwm with a wide frequency range of 1000  1 from 10 khz to 10 mhz is presented the proposed dpwm has the maximum dutycycle resolution of 11 bits and consumes the power of 175 mu w at 10 khz and 236 mw at 10 mhz respectively the proposed dpwm realizes the upper 5bit resolution using a programmable digital counter and the lower 6bit resolution using a currentintegratingtype phase interpolator employing an m2mladder currentsteering digitaltoanalog converter for low power consumption the operating clock is generated in onchip using a relaxation oscillator the prototype integrated circuit fabricated in a 025mu m highvoltage complementary metaloxidesemiconductor demonstrates that the proposed dpwm maintains a good linearity across the entire operating range'\n",
            " 'midkine mk is a unique growth and differentiation factor that modulates the proliferation and migration of various cells however little is known regarding its relationship to intestinal diseases the aim of this study was to investigate mk expression and its role in dextran sulfate sodium dssinduced colitis in rats the expressions of mk receptorlike proteintyrosine phosphatase rptpbeta and proinflammatory cytokines were examined in rat colonic tissues after the development of dssinduced colitis using northern blotting immunohistochemistry and lasercapture microdissection lcm coupled with rtpcr the effects of mk on the migration of intestinal epithelial cells iec6 were also evaluated in vitro using an intestinal wound repair model mk expression was significantly increased in damaged colonic mucosa mainly from day 3 to day 5 after the end of dss administration with abundant mk immunoreactive signals detected in submucosal fibroblasts expressions of proinflammatory cytokines were most strongly induced on day 1 which preceded the augmentation of mk expression results of lcm coupled with rtpcr clearly indicated rptpbeta expression in colonic epithelial cells the migration assay showed that wound repair in the mktreated groups was accelerated dose dependently the present results showed for the first time that intestinal inflammation upregulates the mkrptpbeta system which may stimulate mucosal regeneration during the process of healing of colitis additional investigations regarding the role of mk may contribute to the development of new options for the treatment of inflammatory bowel diseases'\n",
            " 'backgroundthe klf10 gene could indirectly modify gammaglobin chain production and hence the level of fetal hemoglobin hbf ameliorating the phenotype of betahemoglobinopathies and the response to hydroxycarbamide hydroxyurea hu therapy in this study we aimed to evaluate the frequency of different genotypes for the klf10 gene in betathalassemia major btm betathalassemia intermedia bti and sickle cell disease scd patients by polymerase chain reaction and to assess its relation to disease phenotypes and hu response methodsthis crosssectional study included 75 patients 50 btm 12 scd and 13 bti patients on stable hu dose the relation of the klf10 gene polymorphism tieg tieg1 egr alpha rs3191333 c0141c t to phenotype was studied through baseline mean corpuscular volume hbf and transfusion history whereas evaluation of response to hu therapy was carried out clinically and laboratory resultsthe frequency of the mutant klf10 genotype tt and that of the mutant allele t was significantly higher among btm patients compared with those with bti and scd patients only homozygous scd patients for the wildtype allele within the klf10 gene had a significantly lower transfusion frequency the percentage of hu responders and nonresponders between different klf10 polymorphic genotypes among bti or scd patients was comparable conclusionsalthough the klf10 gene does not play a standalone role as an hbf modifier our data support its importance in ameliorating phenotype among betahemoglobinopathies'\n",
            " 'exposure to air pollution claimed the lives of about seven million people worldwide in 2010 largely from combustion of solid biomass fuels bioenergy is an alternative renewable source which can mitigate a climate change little is known about the human health and ecosystem effects of bioenergy mainly in the electricity sector this research applied a life cycle assessment approach to examine the human health and ecosystem effects of four bioenergy pathways direct combustion of wood biomass direct combustion of forest residue direct combustion of pellets and biomass integrated gasification and combined cycle bigcc all pathways showed some variability of impacts therefore no single bioenergy pathway was the best absolute option with the exception of the slightly higher human health impact bigcc has the least impact for all impact categories however all bioenergy systems implied lower ecosystem impact but higher human health impact as compared to climate change impact electricity generation from woodbiomass would improve the environmental sustainability of albertas electricity grid system because it reduces the human health and ecosystem impacts as compared to the existing electricity production mix of the province c 2017 elsevier ltd all rights reserved'\n",
            " 'with the rapid developments of computer technology and information technology humanmachine interfaces of aircrafts ships nuclear power plants battlefield command system and other complex information systems have evolved from the traditional control mode to digital control mode with visual information interface this paper studies error factors of information interface in humancomputer interaction based on visual cognition theory a feasible errorcognition model is established to solve some design problems which result in serious failures in information recognition and analysis and even in operation and execution processes based on rasmussen norman reason and other error types as well as the hera and cream failure identification models we performed classification and cognitive characterization for error factors according to information search information recognition information identification information selection and judgment as well as the decisionmaking process and obtained the comprehensive errorcognition model for complex information interface'\n",
            " 'in spite of reduction of rejection rates and improvement in shortterm survival postkidney transplantation modest progress has occurred in longterm graft attrition over the years timely identification of molecular events that precede clinical and histopathological changes might help in early intervention and thereby increase the graft halflife evolution of omics tools has enabled systemic investigation of the influence of the whole genome epigenome transcriptome proteome and microbiome on transplant function and survival in this omics era systemic approaches indepth clinical phenotyping and use of strict validation methods are the key for further understanding the complex mechanisms associated with graft function systems biology is an interdisciplinary holistic approach that focuses on complex and dynamic interactions within biological systems the complexity of the human kidney transplant is unlikely to be captured by a reductionist approach it appears essential to integrate multiomics data that can elucidate the multidimensional and multilayered regulation of the underlying heterogeneous and complex kidney transplant model herein we discuss studies that focus on genetic biomarkers emerging technologies and systems biology approaches which should increase the ability to discover biomarkers understand mechanisms and stratify patients and responses postkidney transplantation this review focuses on the importance of a multiomics integration approach and its advantages over the reductionist and onedimensional omics approaches for better mechanistic understanding and diagnosis of kidney graft outcomes'\n",
            " 'in this paper a geothermal based multigeneration energy system including organic rankine cycle domestic water heater absorption refrigeration cycle and proton exchange membrane electrolyzer is developed to generate electricity heating cooling and hydrogen for this purpose energetic exergetic and exergoeconomic analysis are undertaken upon proposed system also the effects of some important variables ie geothermal water temperature turbine inlet temperature and pressure generator temperature geothermal water mass flow rate and electrolyzer current density on the several parameters such as energy and exergy efficiencies of the proposed system heating and cooling load net electrical output power hydrogen production unit cost of each system products and total unit cost of the products are investigated for specified conditions the results show that energy and exergy efficiencies of the proposed multigeneration system are calculated about 3498 and 4917 respectively the highest and lowest total unit cost of the products estimated approximately 2318 and 2273 gj respectively by considering that geothermal water temperature increases from 185 degrees c to 215 degrees c c 2017 published by elsevier ltd'\n",
            " 'this paper refers to recovering waste heat from the hot gases exhausted by internal combustion engines ices driving electric generators egs at full and partial load the topic is of particular interest for developing countries where electric grids are underdeveloped or missing and electricity is generated locally by using classical fuels the heat recovery system is based on an organic rankine cycle orc a novel method is proposed for the optimum design of orcbased systems operating in combination with ice at partial eg loads first orcbased systems coupled with ices operating at full eg load is treated specific results for the operation at full eg load are as follows i the optimum superheating increment ranges between 30 and 40 degrees c depending on the type of the working fluids ii a pinch point temperature difference exits between the flue gas temperature and the working fluid at the evaporator inlet iii the total area of the evaporator is very close to the total area of the condenser a fact which facilitates manufacturing iv the surface area of the preheater zone is about 75 of the total surface area while those of the boiler zone and superheater zone is about 135 and 115 respectively second the case of the orcbased systems coupled with ices operating at partial eg load is considered specific results for this case are as follows v the net power may be maximized by optimizing the working fluid mass flow rate vi when the ice is coupled with an orcbased system the overall thermal efficiency of the combined system etaiceorc is higher than the thermal efficiency of the ice operating alone as an example for the case treated here etaiceorc is higher than hits by 600 585 and 591 for eg loads of 100 75 and 50 respectively c 2017 elsevier ltd']\n",
            "[' venttsel boundary conditions nonlocal boundary conditions nonlinear cosemigroups ultracontractivity for nonlinear semigroups a priori estimates nonlinear energy forms on fractals        '\n",
            " ' current sense amplifier extended common mode range        '\n",
            " ' digital control mixed analog digital integrated circuits ics power system control programmable control pulsewidth modulation        '\n",
            " ' receptorlike proteintyrosine phosphatasebeta proinflammatory cytokines inflammatory bowel diseases dextran sulfate sodium induced colitis        '\n",
            " ' klf10 gene polymorphism pharmacogenomic biomarker hydroxycarbamide genetic modifier hemoglobinopathies        '\n",
            " ' bioenergy human health ecosystem lca electricity sustainability        '\n",
            " ' error factors design factors humancomputer interface interaction visual cognition errorcognition model        '\n",
            " ' translational research science kidney transplantation nephrology molecular biology biomarker genetics genomics graft survival        '\n",
            " ' exergoeconomic analysis geothermal energy multigeneration organic rankine cycle peme absorption refrigeration cycle        '\n",
            " ' internal combustion engines waste heat recovery electric generator organic rankine cycle partial load        ']\n",
            "['Psychology' 'ECE' 'ECE' 'biochemistry' 'biochemistry' 'ECE' 'ECE'\n",
            " 'biochemistry' 'ECE' 'ECE']\n",
            "['1' '0' '0' '2' '2' '0' '0' '2' '0' '0']\n",
            "[1 0 0 2 2 0 0 2 0 0]\n"
          ]
        }
      ],
      "source": [
        "# Shuffle data\n",
        "dataShuffled = sklearn.utils.shuffle(tsvData)\n",
        "\n",
        "abstractsShuffled = dataShuffled[:,3]\n",
        "keywordsShuffled = dataShuffled[:,2]\n",
        "domainsShuffled = dataShuffled[:,1]\n",
        "allLabelsShuffled = dataShuffled[:,0]\n",
        "\n",
        "print(\"Number of abstracts: \", len(abstractsShuffled))\n",
        "print(\"Shape of abstracts: \", np.shape(abstractsShuffled))\n",
        "print(abstractsShuffled[0:2])\n",
        "\n",
        "print(\"Number of keywords: \", len(keywordsShuffled))\n",
        "print(\"Shape of keywords: \", np.shape(keywordsShuffled))\n",
        "print(abstractsShuffled[0:2])\n",
        "\n",
        "print(\"Number of domains: \", len(domainsShuffled))\n",
        "print(\"Shape of domains: \", np.shape(domainsShuffled))\n",
        "print(domainsShuffled[0:2])\n",
        "\n",
        "print(\"Number of labels: \", len(allLabelsShuffled))\n",
        "print(\"Shape of labels: \", np.shape(allLabelsShuffled))\n",
        "print(allLabelsShuffled[0:2])\n",
        "\n",
        "\n",
        "# Convert labels to integer\n",
        "allLabelsDigitShuffled = allLabelsShuffled.astype(int)\n",
        "\n",
        "print(abstractsShuffled[0:10])\n",
        "print(keywordsShuffled[0:10])\n",
        "print(domainsShuffled[0:10])\n",
        "print(allLabelsShuffled[0:10])\n",
        "print(allLabelsDigitShuffled[0:10])"
      ]
    },
    {
      "cell_type": "code",
      "execution_count": 12,
      "metadata": {
        "colab": {
          "base_uri": "https://localhost:8080/",
          "height": 365,
          "referenced_widgets": [
            "2aa369cd369c4ae5b4bbae1319056f50",
            "038b140ab84848b2a50ed7f0991ccffa",
            "ae1ce97e136244339a927ab6745f4c85",
            "703a3bb1e1094a6681ae9b3bf9cdd4e4",
            "ebea7310588a4d2988dcada17b3d2a74",
            "813611e20c83496185a695681dcfc47a",
            "93b1b023e8c74a42ac270abbb258abc5",
            "fa3577c7df384d39a4cb467f15b20c8f",
            "69b385d9544f491186540659f988912d",
            "473302ee7a49460095dad25488268825",
            "f9badc5e6b1e48a9ba15676cc8a7a5b3",
            "5e1b01e45a4a4726828ef011952834bc",
            "a7c96458587d4203b3aad5cb27bf4d70",
            "e6c5d519711f425c8e68adbae8430815",
            "3ada77b8c6ca4ede90283a5f6d15cd4c",
            "5634b2c5cdbb4f8dbbbca0b5e25919ce",
            "d03e9b603ce64ba98d7b3eaf4b692eb3",
            "4ba18aed67b54e6cb7cda53afc8b496a",
            "29ae516398a74cf4a00206b60ab74bea",
            "d8a0f33ebd68460a8b0ff2eb1cf886ec",
            "295d99539d3d4b218b837627eaeb02ec",
            "9d400f1888194024aa07f4c609422188",
            "b37a5cbf2ab34b988f1a0a49c66acf06",
            "3b50a6ffde07493789902c4f0ec24354",
            "46f9dda0a9a34057ae25f100023e9e7c",
            "5618ae1cdb974e8b99393b26a4deaf6a",
            "d59028760c474cf4a271a9a79373155b",
            "ca1c32ec4454417480e182f22f603023",
            "72d451def84e44b09451d0d0012c7907",
            "818bad05d3994a95a34d040641260ec6",
            "efcd164f07df4915840f033c293c1efe",
            "704c883da73a4318a702528345c22d7b",
            "adf885be074149ec90c1b4bf8c0aa700",
            "d6d5f1fe89574c2f8c8414a173ec38dd",
            "80e056dab4fc4de6b5266c3c6d2821e0",
            "ebceea3ff6d5424fa0f2bb858b430e28",
            "d104beff1cef4b7fa05dd7469f05af0e",
            "5ea30272e31e4479818679d494ad9205",
            "2019bbedaa044a9d8ee18566134665b0",
            "9865978066294cacb22cd5c2aeaae209",
            "f037a6606bb145d598e1aa7ea76f73e4",
            "e3a01149c41d49d68214126a9206f134",
            "f46e05777c0a4ec7b4c98ecd50092f7d",
            "f95f3bdc12024ab09cd590676650fa60"
          ]
        },
        "id": "t9_3IhKwWXUI",
        "outputId": "71fb7781-4011-4219-8271-e84a39165244"
      },
      "outputs": [
        {
          "output_type": "stream",
          "name": "stdout",
          "text": [
            "(4588, 4)\n",
            "(1148, 4)\n",
            "(4588, 4)\n",
            "(1148, 4)\n",
            "(230, 4)\n"
          ]
        },
        {
          "output_type": "stream",
          "name": "stderr",
          "text": [
            "/usr/local/lib/python3.10/dist-packages/huggingface_hub/utils/_token.py:89: UserWarning: \n",
            "The secret `HF_TOKEN` does not exist in your Colab secrets.\n",
            "To authenticate with the Hugging Face Hub, create a token in your settings tab (https://huggingface.co/settings/tokens), set it as secret in your Google Colab and restart your session.\n",
            "You will be able to reuse this secret in all of your notebooks.\n",
            "Please note that authentication is recommended but still optional to access public models or datasets.\n",
            "  warnings.warn(\n"
          ]
        },
        {
          "output_type": "display_data",
          "data": {
            "text/plain": [
              "tokenizer_config.json:   0%|          | 0.00/48.0 [00:00<?, ?B/s]"
            ],
            "application/vnd.jupyter.widget-view+json": {
              "version_major": 2,
              "version_minor": 0,
              "model_id": "2aa369cd369c4ae5b4bbae1319056f50"
            }
          },
          "metadata": {}
        },
        {
          "output_type": "display_data",
          "data": {
            "text/plain": [
              "config.json:   0%|          | 0.00/570 [00:00<?, ?B/s]"
            ],
            "application/vnd.jupyter.widget-view+json": {
              "version_major": 2,
              "version_minor": 0,
              "model_id": "5e1b01e45a4a4726828ef011952834bc"
            }
          },
          "metadata": {}
        },
        {
          "output_type": "display_data",
          "data": {
            "text/plain": [
              "vocab.txt:   0%|          | 0.00/232k [00:00<?, ?B/s]"
            ],
            "application/vnd.jupyter.widget-view+json": {
              "version_major": 2,
              "version_minor": 0,
              "model_id": "b37a5cbf2ab34b988f1a0a49c66acf06"
            }
          },
          "metadata": {}
        },
        {
          "output_type": "display_data",
          "data": {
            "text/plain": [
              "tokenizer.json:   0%|          | 0.00/466k [00:00<?, ?B/s]"
            ],
            "application/vnd.jupyter.widget-view+json": {
              "version_major": 2,
              "version_minor": 0,
              "model_id": "d6d5f1fe89574c2f8c8414a173ec38dd"
            }
          },
          "metadata": {}
        }
      ],
      "source": [
        "# Split dataset into training and testing (80/20 split)\n",
        "train_data, test_data = train_test_split(dataShuffled, test_size=0.2, random_state=42)\n",
        "print(np.shape(train_data))\n",
        "print(np.shape(test_data))\n",
        "\n",
        "# Further split training data into training and validation (80/20 split of training set)\n",
        "_, val_data = train_test_split(test_data, test_size=0.2, random_state=42)\n",
        "print(np.shape(train_data))\n",
        "print(np.shape(test_data))\n",
        "print(np.shape(val_data))\n",
        "# Load BERT tokenizer\n",
        "tokenizer = AutoTokenizer.from_pretrained(\"bert-base-uncased\")"
      ]
    },
    {
      "cell_type": "code",
      "execution_count": 13,
      "metadata": {
        "colab": {
          "base_uri": "https://localhost:8080/"
        },
        "id": "5wYiosJzWXUJ",
        "outputId": "feb50a4a-5f3a-4300-d6fe-6d22333a95b6"
      },
      "outputs": [
        {
          "output_type": "stream",
          "name": "stdout",
          "text": [
            "Number of abstracts:  4588\n",
            "Shape of abstracts:  (4588,)\n",
            "Number of keywords:  4588\n",
            "Shape of keywords:  (4588,)\n",
            "Number of domains:  4588\n",
            "Shape of domains:  (4588,)\n",
            "Number of labels:  4588\n",
            "Shape of labels:  (4588,)\n",
            "['mobile technologies are increasingly adopted by information intensive organizations such as public police corporations to support the tasks of its employees for information management and innovation however because police organizations are government organizations technology decisions are largely made by managers and politicians with budget being a key factor therefore whether the technologies adopted are suitable for police tasks and if they enhance performance is generally not assessed the aim of this research is to establish if mobile technologies support police tasks and if tablet pcs especially are suitable for specialist police tasks of the criminal investigators and sexual offence and child abuse units guided by an interpretive paradigm and the theory of task technology fit this research explores the use of tablet pcs by the two police units for improved performance because information is critical for police tasks data collected via focus groups establishes the impact of these technologies on case investigations information management and the performance of these units with the use of tablet pcs the contribution this study makes to mobile information systems is that if technology dimensions are suitable for information based tasks the outcome is virtualization of processes through which improved performance is achieved due to reduced costs transparency teamwork and quick and informed decisions the findings of this research can be used by police organizations as well as by other organizations for effective implementation of mobile technologies'\n",
            " 'the present work was aimed at developing vector constructs suitable for restoring fertility in transgenic male sterile tobacco plants expressing malesterilityinducing orfh522 in tapetal cell layer nizampatnam et al planta 2299871001 2009 ptgs vectors that could produce either intron spliced hairpin rna against the orfh522 or induce silencing of orfh522 by heterologous 3utr region were developed using the selected 316 bp orf316 fragment of orfh522 the constructs were independently mobilized into agrobacterium and used for transforming tobacco the t1 generation plants carrying the restorer gene cassettes in homozygous condition were identified and crossed with the male sterile transgenic tobacco plants to obtain the hybrid seeds pcr analysis of hybrid plants indicated segregation for the sterility inducing cassette while all the plants carried the restorer cassette hybrid plants produced fertile pollen grains and formed normal capsules upon selfing further molecular analyses of these hybrid plants with rtpcr northern blotting and sirna detection revealed that intron interrupted hairpin rna ihprna mediated gene silencing was more effective compared to silencing by heterologous 3utr shutr as indicated by the complete degradation of orfh522 transcripts and formation of higher levels of orf316 specific sirna molecules in plants carrying ihprna restorer construct segregation analyses of f2 selfed hybrid plants confirmed the cosegregation of gene cassettes and the traits in mendelian dihybrid ratio 9331 taken together the results established that intron hairpin and transitive rnai mediated silencing of orfh522 transcripts restored fertility in transgenic male sterile tobacco plants expressing orfh522 and ihprna was more efficient in silencing orfh522 transcripts']\n",
            "[' focus group research information intensive organizations mobile technologies police tasks and processes theory of task technology fit theory of virtualization        '\n",
            " ' introninterrupted hairpin transitive rnai ptgs orfh522 restoration of fertility transgenic male sterility        ']\n",
            "['Psychology' 'biochemistry']\n",
            "['1' '2']\n"
          ]
        }
      ],
      "source": [
        "abstractsTrain = train_data[:,3]\n",
        "keywordsTrain = train_data[:,2]\n",
        "domainsTrain = train_data[:,1]\n",
        "allLabelsTrain = train_data[:,0]\n",
        "\n",
        "print(\"Number of abstracts: \",len(abstractsTrain))\n",
        "print(\"Shape of abstracts: \",np.shape(abstractsTrain))\n",
        "print(\"Number of keywords: \",len(keywordsTrain))\n",
        "print(\"Shape of keywords: \",np.shape(keywordsTrain))\n",
        "print(\"Number of domains: \",len(domainsTrain))\n",
        "print(\"Shape of domains: \",np.shape(domainsTrain))\n",
        "print(\"Number of labels: \",len(allLabelsTrain))\n",
        "print(\"Shape of labels: \",np.shape(allLabelsTrain))\n",
        "\n",
        "print(abstractsTrain[0:2])\n",
        "print(keywordsTrain[0:2])\n",
        "print(domainsTrain[0:2])\n",
        "print(allLabelsTrain[0:2])"
      ]
    },
    {
      "cell_type": "code",
      "execution_count": 14,
      "metadata": {
        "colab": {
          "base_uri": "https://localhost:8080/",
          "height": 619
        },
        "id": "kuvxdWDRWXUJ",
        "outputId": "4cf3f371-dd88-4972-864a-d73a8af0c4da"
      },
      "outputs": [
        {
          "output_type": "stream",
          "name": "stdout",
          "text": [
            "Labels  ['ECE' 'Psychology' 'biochemistry']\n",
            "Label counts  [1022 1304 2262]\n"
          ]
        },
        {
          "output_type": "display_data",
          "data": {
            "text/plain": [
              "<Figure size 1000x600 with 1 Axes>"
            ],
            "image/png": "[encoded data removed]"
          },
          "metadata": {}
        },
        {
          "output_type": "stream",
          "name": "stdout",
          "text": [
            "The domain ECE has 1022 records in the training set.\n",
            "The domain Psychology has 1304 records in the training set.\n",
            "The domain biochemistry has 2262 records in the training set.\n"
          ]
        }
      ],
      "source": [
        "labels = np.unique(domainsTrain, return_counts=True)[0]\n",
        "labelCounts =  np.unique(domainsTrain, return_counts=True)[1]\n",
        "\n",
        "print(\"Labels \", labels)\n",
        "print(\"Label counts \", labelCounts)\n",
        "\n",
        "nAbstract = len(abstractsTrain)\n",
        "plt.figure(figsize=(10, 6))\n",
        "plt.title(\"Domain Counts (Training Set)\")\n",
        "plt.pie(labelCounts, labels=labels, autopct='%1.1f%%', startangle=140, colors=plt.cm.Paired(range(len(labels))))\n",
        "plt.axis('equal')  # Equal aspect ratio ensures that pie is drawn as a circle.\n",
        "plt.show()\n",
        "\n",
        "for i, domain in enumerate(labels):\n",
        "    print(\"The domain\", domain, \"has\", labelCounts[i], \"records in the training set.\")"
      ]
    },
    {
      "cell_type": "code",
      "execution_count": 15,
      "metadata": {
        "colab": {
          "base_uri": "https://localhost:8080/"
        },
        "id": "WpHlCnwUWXUJ",
        "outputId": "9252a2d6-246e-42e4-9411-66dd6afa771a"
      },
      "outputs": [
        {
          "output_type": "stream",
          "name": "stdout",
          "text": [
            "Number of abstracts:  1148\n",
            "Shape of abstracts:  (1148,)\n",
            "Number of keywords:  1148\n",
            "Shape of keywords:  (1148,)\n",
            "Number of domains:  1148\n",
            "Shape of domains:  (1148,)\n",
            "Number of labels:  1148\n",
            "Shape of labels:  (1148,)\n",
            "['this article deals with the simulation of the power converter with voltagesource inverter and sinefilter the repetitive control system was designed the existing power converter has a control system which makes fourier transform of the output voltage to inject these harmonics with opposite phase the new proposed system based on repetitive controller which is much simpler and with smaller cpu load the higher harmonics elimination works perfect and the power converter produces output voltage with less than 5 thd under linear or nonlinear load this paper describes the improved control system structure and its implementation in matlab simulink environment the advantages of the repetitive algorithm facing fourier transform harmonic compensation are shown the performance of the new control method is shown in simulation results the algorithm is carried out in c language using matlab sfunction block so it is suitable for implementation in the realtime control systems'\n",
            " 'in this study a specific and sensitive method for simultaneous detection of human astrovirus human rotavirus norovirus sapovirus and enteric adenovirus associated with acute enteritis was developed based on the specific dual priming oligonucleotide dpo system and the sensitive highperformance liquid chromatography hplc analysis the dpo systembased multiplex reverse transcriptionpolymerase chain reaction rtpcr combined with hplc assay was more sensitive than agarose gel electrophoresis analysis and realtime sybr green pcr assay and showed a specificity of 100 and sensitivity of 96100 the high sensitivity and specificity of the assay indicates its great potential to be a useful tool for the accurate diagnosis of enteric virus infections c 2017 elsevier bv all rights reserved']\n",
            "[' acac converters adaptive control digital control harmonic distortion power filters pulse width modulation total harmonic distortion        '\n",
            " ' dpo systembased mrtpcrhplc assay five enteric viruses associated with acute enteritis accurate diagnosis        ']\n",
            "['ECE' 'biochemistry']\n",
            "['0' '2']\n"
          ]
        }
      ],
      "source": [
        "abstractsTest = test_data[:,3]\n",
        "keywordsTest = test_data[:,2]\n",
        "domainsTest = test_data[:,1]\n",
        "allLabelsTest = test_data[:,0]\n",
        "\n",
        "print(\"Number of abstracts: \",len(abstractsTest))\n",
        "print(\"Shape of abstracts: \",np.shape(abstractsTest))\n",
        "print(\"Number of keywords: \",len(keywordsTest))\n",
        "print(\"Shape of keywords: \",np.shape(keywordsTest))\n",
        "print(\"Number of domains: \",len(domainsTest))\n",
        "print(\"Shape of domains: \",np.shape(domainsTest))\n",
        "print(\"Number of labels: \",len(allLabelsTest))\n",
        "print(\"Shape of labels: \",np.shape(allLabelsTest))\n",
        "\n",
        "# arr = np.array(domainsTest)\n",
        "# cleaned_domains = np.char.strip(arr)\n",
        "# print(\"Cleaned arr \", cleaned_domains)\n",
        "# domainsLabelsTest = cleaned_domains\n",
        "# print(\"Labels domains \", domainsLabelsTest)\n",
        "\n",
        "print(abstractsTest[0:2])\n",
        "print(keywordsTest[0:2])\n",
        "print(domainsTest[0:2])\n",
        "print(allLabelsTest[0:2])"
      ]
    },
    {
      "cell_type": "code",
      "execution_count": 16,
      "metadata": {
        "colab": {
          "base_uri": "https://localhost:8080/",
          "height": 619
        },
        "id": "imNTasg6WXUJ",
        "outputId": "48fc54d4-e145-4943-facd-53808714b114"
      },
      "outputs": [
        {
          "output_type": "stream",
          "name": "stdout",
          "text": [
            "Labels  ['ECE' 'Psychology' 'biochemistry']\n",
            "Label counts  [270 293 585]\n"
          ]
        },
        {
          "output_type": "display_data",
          "data": {
            "text/plain": [
              "<Figure size 1000x600 with 1 Axes>"
            ],
            "image/png": "[encoded data removed]"
          },
          "metadata": {}
        },
        {
          "output_type": "stream",
          "name": "stdout",
          "text": [
            "The domain ECE has 270 records in the test set.\n",
            "The domain Psychology has 293 records in the test set.\n",
            "The domain biochemistry has 585 records in the test set.\n"
          ]
        }
      ],
      "source": [
        "labels = np.unique(domainsTest, return_counts=True)[0]\n",
        "labelCounts =  np.unique(domainsTest, return_counts=True)[1]\n",
        "\n",
        "print(\"Labels \", labels)\n",
        "print(\"Label counts \", labelCounts)\n",
        "\n",
        "nAbstract = len(abstractsTest)\n",
        "plt.figure(figsize=(10, 6))\n",
        "plt.title(\"Domain Counts (Test Set)\")\n",
        "plt.pie(labelCounts, labels=labels, autopct='%1.1f%%', startangle=140, colors=plt.cm.Paired(range(len(labels))))\n",
        "plt.axis('equal')  # Equal aspect ratio ensures that pie is drawn as a circle.\n",
        "plt.show()\n",
        "\n",
        "for i, domain in enumerate(labels):\n",
        "    print(\"The domain\", domain, \"has\", labelCounts[i], \"records in the test set.\")"
      ]
    },
    {
      "cell_type": "code",
      "execution_count": 17,
      "metadata": {
        "colab": {
          "base_uri": "https://localhost:8080/"
        },
        "id": "sPFav1v1WXUJ",
        "outputId": "71285076-b993-487c-9824-9ea368387ac4"
      },
      "outputs": [
        {
          "output_type": "stream",
          "name": "stdout",
          "text": [
            "Number of abstracts:  230\n",
            "Shape of abstracts:  (230,)\n",
            "Number of keywords:  230\n",
            "Shape of keywords:  (230,)\n",
            "Number of domains:  230\n",
            "Shape of domains:  (230,)\n",
            "Number of labels:  230\n",
            "Shape of labels:  (230,)\n",
            "['purpose of the review in this review we will discuss the basic fundamentals of how to perform molecular imaging to better understand the underlyingmechanisms contributing to cardiovascular disease report findings molecular imaging combines molecular biology with in vivo imaging molecular probes are used to target discrete biological processes such as cell death inflammation and angiogenesis these probes emit signals that are detected by traditional imaging systems because the same disease processes can manifest in individuals in different ways molecular imaging may emerge as an important strategy for delivering precision medicine summary molecular imaging is a powerful tool that may help physicians provide more personalized care in the near future'\n",
            " 'the aim of this paper is to propose a neural network based reference modified pid control which has a simple duration design method for transient characteristics improvement of digitally controlled dcdc converters in renewable energy network systems various types of dcdc converters are widely used for power conversion and such converters require a superior control method for a stable operation especially transient characteristics should be improved since they heavily affect the stability of the system for such purposes designing of conventional control methods becomes a difficult task since the optimization of control parameters needs complicated analysis and it is affected from variations of circuit components of converters therefore simple and easy design of control is widely required for a stable operation of power converters the neural network can provide a suitable control methodology for such situation since it treats the plant as a black box and it can realize a nonlinear control based on training of the inputoutput relation without complicated modelling and analysis on the other hand the neural network based method has a disadvantage caused from the fact that the neural network is trained with data obtained in advance and an overcompensation phenomenon occurs in the transient response in this paper the neural network control is adopted to control the dcdc converter in coordination with a conventional pid control the neural network predicts the output voltage of the converter and the reference value in the pid control is modified with the predictions to reduce the error of the output voltage to avoid overcompensation a simple duration design for the neural network control is also provided to improve the transient response effectively from prototype testing in simulation and experiment it is revealed that the proposed method contributes to obtain a superior transient performance compared with the conventional pid control']\n",
            "[' molecular imaging molecular imaging probes cardiovascular disease        '\n",
            " ' dcdc converter digital control neural network reference modification        ']\n",
            "['biochemistry' 'ECE']\n",
            "['2' '0']\n"
          ]
        }
      ],
      "source": [
        "abstractsVal = val_data[:,3]\n",
        "keywordsVal = val_data[:,2]\n",
        "domainsVal = val_data[:,1]\n",
        "allLabelsVal = val_data[:,0]\n",
        "\n",
        "print(\"Number of abstracts: \",len(abstractsVal))\n",
        "print(\"Shape of abstracts: \",np.shape(abstractsVal))\n",
        "print(\"Number of keywords: \",len(keywordsVal))\n",
        "print(\"Shape of keywords: \",np.shape(keywordsVal))\n",
        "print(\"Number of domains: \",len(domainsVal))\n",
        "print(\"Shape of domains: \",np.shape(domainsVal))\n",
        "print(\"Number of labels: \",len(allLabelsVal))\n",
        "print(\"Shape of labels: \",np.shape(allLabelsVal))\n",
        "\n",
        "print(abstractsVal[0:2])\n",
        "print(keywordsVal[0:2])\n",
        "print(domainsVal[0:2])\n",
        "print(allLabelsVal[0:2])"
      ]
    },
    {
      "cell_type": "code",
      "execution_count": 18,
      "metadata": {
        "colab": {
          "base_uri": "https://localhost:8080/",
          "height": 618
        },
        "id": "qW_P1Zn6WXUJ",
        "outputId": "db371b84-f5e0-4fbf-a279-8c1e22f074a7"
      },
      "outputs": [
        {
          "output_type": "stream",
          "name": "stdout",
          "text": [
            "Labels  ['ECE' 'Psychology' 'biochemistry']\n",
            "Label counts  [ 60  53 117]\n"
          ]
        },
        {
          "output_type": "display_data",
          "data": {
            "text/plain": [
              "<Figure size 1000x600 with 1 Axes>"
            ],
            "image/png": "[encoded data removed]"
          },
          "metadata": {}
        },
        {
          "output_type": "stream",
          "name": "stdout",
          "text": [
            "The domain ECE has 60 records in the vaidation set.\n",
            "The domain Psychology has 53 records in the vaidation set.\n",
            "The domain biochemistry has 117 records in the vaidation set.\n"
          ]
        }
      ],
      "source": [
        "labels = np.unique(domainsVal, return_counts=True)[0]\n",
        "labelCounts =  np.unique(domainsVal, return_counts=True)[1]\n",
        "\n",
        "print(\"Labels \", labels)\n",
        "print(\"Label counts \", labelCounts)\n",
        "\n",
        "nAbstract = len(abstractsVal)\n",
        "plt.figure(figsize=(10, 6))\n",
        "plt.title(\"Domain Counts (Validation Set)\")\n",
        "plt.pie(labelCounts, labels=labels, autopct='%1.1f%%', startangle=140, colors=plt.cm.Paired(range(len(labels))))\n",
        "plt.axis('equal')  # Equal aspect ratio ensures that pie is drawn as a circle.\n",
        "plt.show()\n",
        "\n",
        "for i, domain in enumerate(labels):\n",
        "    print(\"The domain\", domain, \"has\", labelCounts[i], \"records in the vaidation set.\")"
      ]
    },
    {
      "cell_type": "code",
      "execution_count": 19,
      "metadata": {
        "id": "AewCWU8XWXUJ"
      },
      "outputs": [],
      "source": [
        "# Function to tokenize and encode the dataset\n",
        "def encode_data(data, tokenizer, max_length=128):\n",
        "    # print(len(data[:,2]))\n",
        "    inputs = tokenizer(\n",
        "        data[:,3].tolist(), # abstract\n",
        "        max_length=max_length,\n",
        "        padding='max_length',\n",
        "        truncation=True,\n",
        "        return_tensors=\"pt\"\n",
        "    )\n",
        "    # print(len(dataShuffled[:, 0]))\n",
        "    labels = torch.tensor(data[:, 0].astype(int))\n",
        "    print(\"Label length \", len(labels))\n",
        "    return TensorDataset(inputs['input_ids'], inputs['attention_mask'], labels)"
      ]
    },
    {
      "cell_type": "code",
      "execution_count": 20,
      "metadata": {
        "colab": {
          "base_uri": "https://localhost:8080/"
        },
        "id": "qosmRYrmWXUJ",
        "outputId": "ac3f6710-d5af-4c08-a7a5-8e827f1b4ef3"
      },
      "outputs": [
        {
          "output_type": "stream",
          "name": "stdout",
          "text": [
            "(4588, 4)\n",
            "(1148, 4)\n",
            "(230, 4)\n"
          ]
        }
      ],
      "source": [
        "print(np.shape(train_data))\n",
        "print(np.shape(test_data))\n",
        "print(np.shape(val_data))\n"
      ]
    },
    {
      "cell_type": "code",
      "execution_count": 21,
      "metadata": {
        "colab": {
          "base_uri": "https://localhost:8080/"
        },
        "id": "ntqAS03ZWXUJ",
        "outputId": "655624d2-733c-4883-b98c-4ba0e774888b"
      },
      "outputs": [
        {
          "output_type": "stream",
          "name": "stdout",
          "text": [
            "Label length  4588\n",
            "Label length  230\n",
            "Label length  1148\n"
          ]
        }
      ],
      "source": [
        "# Encode training, validation, and testing data\n",
        "train_dataset = encode_data(train_data, tokenizer)\n",
        "val_dataset = encode_data(val_data, tokenizer)\n",
        "test_dataset = encode_data(test_data, tokenizer)\n",
        "\n",
        "\n",
        "\n",
        "# Data loaders\n",
        "train_dataloader = DataLoader(train_dataset, sampler=RandomSampler(train_dataset), batch_size=32)\n",
        "val_dataloader = DataLoader(val_dataset, sampler=SequentialSampler(val_dataset), batch_size=32)\n",
        "test_dataloader = DataLoader(test_dataset, sampler=SequentialSampler(test_dataset), batch_size=32)"
      ]
    },
    {
      "cell_type": "code",
      "source": [
        "print(np.unique(train_data[:,0]))"
      ],
      "metadata": {
        "colab": {
          "base_uri": "https://localhost:8080/"
        },
        "id": "cGH9hmFwafTf",
        "outputId": "61c7934c-deb5-40e0-e05c-df36808cb71c"
      },
      "execution_count": 22,
      "outputs": [
        {
          "output_type": "stream",
          "name": "stdout",
          "text": [
            "['0' '1' '2']\n"
          ]
        }
      ]
    },
    {
      "cell_type": "code",
      "execution_count": 23,
      "metadata": {
        "colab": {
          "base_uri": "https://localhost:8080/",
          "height": 940,
          "referenced_widgets": [
            "436f612045724de292fccbf836d2d4a8",
            "b9fd91513dce410f973777def6bd0541",
            "259b0a6fd6414d7db0bc413cb2a3cf87",
            "d40aad1c7a754fe4a5ee418e0636afd6",
            "d4d4b96250004567936211210c395997",
            "2e5fbcb57087413db67f174d9719347a",
            "0199f3bd199d4fc5be1b58bf7c6ce5ff",
            "c31fa1dc885e4854946a1e15170c9d03",
            "444c265ba9ba4b899f386cf77c9499c2",
            "6540e251e2d14120914bb61928805b03",
            "aa3f2227a109447493a73514d8653a18"
          ]
        },
        "id": "GWDExyfRWXUJ",
        "outputId": "7dba6693-3560-4645-f97a-fe41334d2bca"
      },
      "outputs": [
        {
          "output_type": "stream",
          "name": "stdout",
          "text": [
            "3\n"
          ]
        },
        {
          "output_type": "display_data",
          "data": {
            "text/plain": [
              "model.safetensors:   0%|          | 0.00/440M [00:00<?, ?B/s]"
            ],
            "application/vnd.jupyter.widget-view+json": {
              "version_major": 2,
              "version_minor": 0,
              "model_id": "436f612045724de292fccbf836d2d4a8"
            }
          },
          "metadata": {}
        },
        {
          "output_type": "stream",
          "name": "stderr",
          "text": [
            "Some weights of BertForSequenceClassification were not initialized from the model checkpoint at bert-base-uncased and are newly initialized: ['classifier.bias', 'classifier.weight']\n",
            "You should probably TRAIN this model on a down-stream task to be able to use it for predictions and inference.\n"
          ]
        },
        {
          "output_type": "execute_result",
          "data": {
            "text/plain": [
              "BertForSequenceClassification(\n",
              "  (bert): BertModel(\n",
              "    (embeddings): BertEmbeddings(\n",
              "      (word_embeddings): Embedding(30522, 768, padding_idx=0)\n",
              "      (position_embeddings): Embedding(512, 768)\n",
              "      (token_type_embeddings): Embedding(2, 768)\n",
              "      (LayerNorm): LayerNorm((768,), eps=1e-12, elementwise_affine=True)\n",
              "      (dropout): Dropout(p=0.1, inplace=False)\n",
              "    )\n",
              "    (encoder): BertEncoder(\n",
              "      (layer): ModuleList(\n",
              "        (0-11): 12 x BertLayer(\n",
              "          (attention): BertAttention(\n",
              "            (self): BertSdpaSelfAttention(\n",
              "              (query): Linear(in_features=768, out_features=768, bias=True)\n",
              "              (key): Linear(in_features=768, out_features=768, bias=True)\n",
              "              (value): Linear(in_features=768, out_features=768, bias=True)\n",
              "              (dropout): Dropout(p=0.1, inplace=False)\n",
              "            )\n",
              "            (output): BertSelfOutput(\n",
              "              (dense): Linear(in_features=768, out_features=768, bias=True)\n",
              "              (LayerNorm): LayerNorm((768,), eps=1e-12, elementwise_affine=True)\n",
              "              (dropout): Dropout(p=0.1, inplace=False)\n",
              "            )\n",
              "          )\n",
              "          (intermediate): BertIntermediate(\n",
              "            (dense): Linear(in_features=768, out_features=3072, bias=True)\n",
              "            (intermediate_act_fn): GELUActivation()\n",
              "          )\n",
              "          (output): BertOutput(\n",
              "            (dense): Linear(in_features=3072, out_features=768, bias=True)\n",
              "            (LayerNorm): LayerNorm((768,), eps=1e-12, elementwise_affine=True)\n",
              "            (dropout): Dropout(p=0.1, inplace=False)\n",
              "          )\n",
              "        )\n",
              "      )\n",
              "    )\n",
              "    (pooler): BertPooler(\n",
              "      (dense): Linear(in_features=768, out_features=768, bias=True)\n",
              "      (activation): Tanh()\n",
              "    )\n",
              "  )\n",
              "  (dropout): Dropout(p=0.1, inplace=False)\n",
              "  (classifier): Linear(in_features=768, out_features=3, bias=True)\n",
              ")"
            ]
          },
          "metadata": {},
          "execution_count": 23
        }
      ],
      "source": [
        "# Load BERT model\n",
        "print(len(np.unique(train_data[:,0])))\n",
        "model = AutoModelForSequenceClassification.from_pretrained(\"bert-base-uncased\", num_labels=len(np.unique(train_data[:,0])))\n",
        "device = torch.device(\"cuda\" if torch.cuda.is_available() else \"cpu\")\n",
        "model.to(device)"
      ]
    },
    {
      "cell_type": "code",
      "execution_count": 24,
      "metadata": {
        "colab": {
          "base_uri": "https://localhost:8080/"
        },
        "id": "FXZH5dFPWXUJ",
        "outputId": "ad241717-0319-4750-8b60-a20915ec667e"
      },
      "outputs": [
        {
          "output_type": "execute_result",
          "data": {
            "text/plain": [
              "BertConfig {\n",
              "  \"_name_or_path\": \"bert-base-uncased\",\n",
              "  \"architectures\": [\n",
              "    \"BertForMaskedLM\"\n",
              "  ],\n",
              "  \"attention_probs_dropout_prob\": 0.1,\n",
              "  \"classifier_dropout\": null,\n",
              "  \"gradient_checkpointing\": false,\n",
              "  \"hidden_act\": \"gelu\",\n",
              "  \"hidden_dropout_prob\": 0.1,\n",
              "  \"hidden_size\": 768,\n",
              "  \"id2label\": {\n",
              "    \"0\": \"LABEL_0\",\n",
              "    \"1\": \"LABEL_1\",\n",
              "    \"2\": \"LABEL_2\"\n",
              "  },\n",
              "  \"initializer_range\": 0.02,\n",
              "  \"intermediate_size\": 3072,\n",
              "  \"label2id\": {\n",
              "    \"LABEL_0\": 0,\n",
              "    \"LABEL_1\": 1,\n",
              "    \"LABEL_2\": 2\n",
              "  },\n",
              "  \"layer_norm_eps\": 1e-12,\n",
              "  \"max_position_embeddings\": 512,\n",
              "  \"model_type\": \"bert\",\n",
              "  \"num_attention_heads\": 12,\n",
              "  \"num_hidden_layers\": 12,\n",
              "  \"pad_token_id\": 0,\n",
              "  \"position_embedding_type\": \"absolute\",\n",
              "  \"transformers_version\": \"4.42.4\",\n",
              "  \"type_vocab_size\": 2,\n",
              "  \"use_cache\": true,\n",
              "  \"vocab_size\": 30522\n",
              "}"
            ]
          },
          "metadata": {},
          "execution_count": 24
        }
      ],
      "source": [
        "model.config"
      ]
    },
    {
      "cell_type": "code",
      "execution_count": 25,
      "metadata": {
        "colab": {
          "base_uri": "https://localhost:8080/"
        },
        "id": "SXpJq-t0WXUJ",
        "outputId": "9cb82e1b-a6df-4c9f-b1bf-a665d9fefdfe"
      },
      "outputs": [
        {
          "output_type": "stream",
          "name": "stderr",
          "text": [
            "/usr/local/lib/python3.10/dist-packages/transformers/optimization.py:591: FutureWarning: This implementation of AdamW is deprecated and will be removed in a future version. Use the PyTorch implementation torch.optim.AdamW instead, or set `no_deprecation_warning=True` to disable this warning\n",
            "  warnings.warn(\n"
          ]
        }
      ],
      "source": [
        "# Optimizer and learning rate scheduler\n",
        "optimizer = AdamW(model.parameters(), lr=2e-5, eps=1e-8)\n",
        "total_steps = len(train_dataloader) * 20\n",
        "num_warmup_steps = 1e-4\n",
        "scheduler = get_linear_schedule_with_warmup(optimizer, num_warmup_steps=num_warmup_steps, num_training_steps=total_steps)"
      ]
    },
    {
      "cell_type": "code",
      "execution_count": 26,
      "metadata": {
        "id": "PL4PtJ4_WXUJ"
      },
      "outputs": [],
      "source": [
        "def calculate_metrics(valType, predictions, true_labels):\n",
        "    # Confusion matrix\n",
        "    if(valType == 'test'):\n",
        "        cm = confusion_matrix(true_labels, predictions)\n",
        "        print(\"Confusion Matrix:\\n\", cm)\n",
        "\n",
        "        # Classification report (includes precision, recall, F1 score)\n",
        "        report = classification_report(true_labels, predictions, target_names=[str(i) for i in range(len(np.unique(true_labels)))])\n",
        "        print(\"\\nClassification Report:\\n\", report)\n",
        "\n",
        "        # Calculate different types of F1 scores, precision, and recall\n",
        "        f1_macro = f1_score(true_labels, predictions, average='macro')\n",
        "        f1_micro = f1_score(true_labels, predictions, average='micro')\n",
        "        f1_weighted = f1_score(true_labels, predictions, average='weighted')\n",
        "\n",
        "        precision_macro = precision_score(true_labels, predictions, average='macro')\n",
        "        precision_micro = precision_score(true_labels, predictions, average='micro')\n",
        "        precision_weighted = precision_score(true_labels, predictions, average='weighted')\n",
        "\n",
        "        recall_macro = recall_score(true_labels, predictions, average='macro')\n",
        "        recall_micro = recall_score(true_labels, predictions, average='micro')\n",
        "        recall_weighted = recall_score(true_labels, predictions, average='weighted')\n",
        "\n",
        "        print(f\"Macro F1 Score: {f1_macro}\")\n",
        "        print(f\"Micro F1 Score: {f1_micro}\")\n",
        "        print(f\"Weighted F1 Score: {f1_weighted}\")\n",
        "\n",
        "        print(f\"Macro Precision: {precision_macro}\")\n",
        "        print(f\"Micro Precision: {precision_micro}\")\n",
        "        print(f\"Weighted Precision: {precision_weighted}\")\n",
        "\n",
        "        print(f\"Macro Recall: {recall_macro}\")\n",
        "        print(f\"Micro Recall: {recall_micro}\")\n",
        "        print(f\"Weighted Recall: {recall_weighted}\")\n",
        "\n",
        "    elif(valType == 'val'):\n",
        "        cm = confusion_matrix(true_labels, predictions)\n",
        "        f1_macro = f1_score(true_labels, predictions, average='macro')\n",
        "        f1_micro = f1_score(true_labels, predictions, average='micro')\n",
        "        f1_weighted = f1_score(true_labels, predictions, average='weighted')\n",
        "\n",
        "        precision_macro = precision_score(true_labels, predictions, average='macro')\n",
        "        precision_micro = precision_score(true_labels, predictions, average='micro')\n",
        "        precision_weighted = precision_score(true_labels, predictions, average='weighted')\n",
        "\n",
        "        recall_macro = recall_score(true_labels, predictions, average='macro')\n",
        "        recall_micro = recall_score(true_labels, predictions, average='micro')\n",
        "        recall_weighted = recall_score(true_labels, predictions, average='weighted')\n",
        "        # print('Val Micro F1:', f1_micro)\n",
        "        return f1_micro"
      ]
    },
    {
      "cell_type": "code",
      "execution_count": 27,
      "metadata": {
        "colab": {
          "base_uri": "https://localhost:8080/"
        },
        "id": "aAhwPA8HWXUJ",
        "outputId": "c28a86da-f7a8-4ec0-a96a-3101b6b5ecc6"
      },
      "outputs": [
        {
          "output_type": "stream",
          "name": "stderr",
          "text": [
            "Epoch 1/20: 100%|██████████| 144/144 [01:33<00:00,  1.54batch/s]\n"
          ]
        },
        {
          "output_type": "stream",
          "name": "stdout",
          "text": [
            "Epoch 1/20\n",
            "  Train Loss: 0.3239739878206617\n",
            "  Val Micro F1: 0.9521739130434783\n",
            "  Time: 1m 35s\n"
          ]
        },
        {
          "output_type": "stream",
          "name": "stderr",
          "text": [
            "Epoch 2/20: 100%|██████████| 144/144 [01:35<00:00,  1.51batch/s]\n"
          ]
        },
        {
          "output_type": "stream",
          "name": "stdout",
          "text": [
            "Epoch 2/20\n",
            "  Train Loss: 0.12295201090293834\n",
            "  Val Micro F1: 0.9652173913043478\n",
            "  Time: 1m 37s\n"
          ]
        },
        {
          "output_type": "stream",
          "name": "stderr",
          "text": [
            "Epoch 3/20: 100%|██████████| 144/144 [01:35<00:00,  1.51batch/s]\n"
          ]
        },
        {
          "output_type": "stream",
          "name": "stdout",
          "text": [
            "Epoch 3/20\n",
            "  Train Loss: 0.05185841385456216\n",
            "  Val Micro F1: 0.9739130434782609\n",
            "  Time: 1m 37s\n"
          ]
        },
        {
          "output_type": "stream",
          "name": "stderr",
          "text": [
            "Epoch 4/20: 100%|██████████| 144/144 [01:35<00:00,  1.51batch/s]\n"
          ]
        },
        {
          "output_type": "stream",
          "name": "stdout",
          "text": [
            "Epoch 4/20\n",
            "  Train Loss: 0.02462635030840627\n",
            "  Val Micro F1: 0.9782608695652174\n",
            "  Time: 1m 37s\n"
          ]
        },
        {
          "output_type": "stream",
          "name": "stderr",
          "text": [
            "Epoch 5/20: 100%|██████████| 144/144 [01:35<00:00,  1.51batch/s]\n"
          ]
        },
        {
          "output_type": "stream",
          "name": "stdout",
          "text": [
            "Epoch 5/20\n",
            "  Train Loss: 0.014114945282118343\n",
            "  Val Micro F1: 0.9739130434782609\n",
            "  Time: 1m 37s\n"
          ]
        },
        {
          "output_type": "stream",
          "name": "stderr",
          "text": [
            "Epoch 6/20: 100%|██████████| 144/144 [01:34<00:00,  1.52batch/s]\n"
          ]
        },
        {
          "output_type": "stream",
          "name": "stdout",
          "text": [
            "Epoch 6/20\n",
            "  Train Loss: 0.007840930131755562\n",
            "  Val Micro F1: 0.9782608695652174\n",
            "  Time: 1m 37s\n"
          ]
        },
        {
          "output_type": "stream",
          "name": "stderr",
          "text": [
            "Epoch 7/20: 100%|██████████| 144/144 [01:35<00:00,  1.51batch/s]\n"
          ]
        },
        {
          "output_type": "stream",
          "name": "stdout",
          "text": [
            "Epoch 7/20\n",
            "  Train Loss: 0.0023810704062472926\n",
            "  Val Micro F1: 0.9739130434782609\n",
            "  Time: 1m 37s\n"
          ]
        },
        {
          "output_type": "stream",
          "name": "stderr",
          "text": [
            "Epoch 8/20: 100%|██████████| 144/144 [01:35<00:00,  1.51batch/s]\n"
          ]
        },
        {
          "output_type": "stream",
          "name": "stdout",
          "text": [
            "Epoch 8/20\n",
            "  Train Loss: 0.003741782930066822\n",
            "  Val Micro F1: 0.9826086956521739\n",
            "  Time: 1m 37s\n"
          ]
        },
        {
          "output_type": "stream",
          "name": "stderr",
          "text": [
            "Epoch 9/20: 100%|██████████| 144/144 [01:35<00:00,  1.51batch/s]\n"
          ]
        },
        {
          "output_type": "stream",
          "name": "stdout",
          "text": [
            "Epoch 9/20\n",
            "  Train Loss: 0.0011736784051916199\n",
            "  Val Micro F1: 0.9826086956521739\n",
            "  Time: 1m 37s\n"
          ]
        },
        {
          "output_type": "stream",
          "name": "stderr",
          "text": [
            "Epoch 10/20: 100%|██████████| 144/144 [01:35<00:00,  1.51batch/s]\n"
          ]
        },
        {
          "output_type": "stream",
          "name": "stdout",
          "text": [
            "Epoch 10/20\n",
            "  Train Loss: 0.000358294556665189\n",
            "  Val Micro F1: 0.9826086956521739\n",
            "  Time: 1m 37s\n"
          ]
        },
        {
          "output_type": "stream",
          "name": "stderr",
          "text": [
            "Epoch 11/20: 100%|██████████| 144/144 [01:35<00:00,  1.51batch/s]\n"
          ]
        },
        {
          "output_type": "stream",
          "name": "stdout",
          "text": [
            "Epoch 11/20\n",
            "  Train Loss: 0.0002822379718862875\n",
            "  Val Micro F1: 0.9826086956521739\n",
            "  Time: 1m 37s\n"
          ]
        },
        {
          "output_type": "stream",
          "name": "stderr",
          "text": [
            "Epoch 12/20: 100%|██████████| 144/144 [01:35<00:00,  1.52batch/s]\n"
          ]
        },
        {
          "output_type": "stream",
          "name": "stdout",
          "text": [
            "Epoch 12/20\n",
            "  Train Loss: 0.0002365447271586163\n",
            "  Val Micro F1: 0.9826086956521739\n",
            "  Time: 1m 37s\n"
          ]
        },
        {
          "output_type": "stream",
          "name": "stderr",
          "text": [
            "Epoch 13/20: 100%|██████████| 144/144 [01:34<00:00,  1.52batch/s]\n"
          ]
        },
        {
          "output_type": "stream",
          "name": "stdout",
          "text": [
            "Epoch 13/20\n",
            "  Train Loss: 0.0007721719113962738\n",
            "  Val Micro F1: 0.9826086956521739\n",
            "  Time: 1m 37s\n"
          ]
        },
        {
          "output_type": "stream",
          "name": "stderr",
          "text": [
            "Epoch 14/20: 100%|██████████| 144/144 [01:35<00:00,  1.51batch/s]\n"
          ]
        },
        {
          "output_type": "stream",
          "name": "stdout",
          "text": [
            "Epoch 14/20\n",
            "  Train Loss: 0.00017413739432312368\n",
            "  Val Micro F1: 0.9826086956521739\n",
            "  Time: 1m 37s\n"
          ]
        },
        {
          "output_type": "stream",
          "name": "stderr",
          "text": [
            "Epoch 15/20: 100%|██████████| 144/144 [01:35<00:00,  1.51batch/s]\n"
          ]
        },
        {
          "output_type": "stream",
          "name": "stdout",
          "text": [
            "Epoch 15/20\n",
            "  Train Loss: 0.0001611273477869367\n",
            "  Val Micro F1: 0.9826086956521739\n",
            "  Time: 1m 37s\n"
          ]
        },
        {
          "output_type": "stream",
          "name": "stderr",
          "text": [
            "Epoch 16/20: 100%|██████████| 144/144 [01:35<00:00,  1.52batch/s]\n"
          ]
        },
        {
          "output_type": "stream",
          "name": "stdout",
          "text": [
            "Epoch 16/20\n",
            "  Train Loss: 0.00015316641363622493\n",
            "  Val Micro F1: 0.9826086956521739\n",
            "  Time: 1m 37s\n"
          ]
        },
        {
          "output_type": "stream",
          "name": "stderr",
          "text": [
            "Epoch 17/20: 100%|██████████| 144/144 [01:34<00:00,  1.52batch/s]\n"
          ]
        },
        {
          "output_type": "stream",
          "name": "stdout",
          "text": [
            "Epoch 17/20\n",
            "  Train Loss: 0.00014356801031883352\n",
            "  Val Micro F1: 0.9826086956521739\n",
            "  Time: 1m 37s\n"
          ]
        },
        {
          "output_type": "stream",
          "name": "stderr",
          "text": [
            "Epoch 18/20: 100%|██████████| 144/144 [01:35<00:00,  1.51batch/s]\n"
          ]
        },
        {
          "output_type": "stream",
          "name": "stdout",
          "text": [
            "Epoch 18/20\n",
            "  Train Loss: 0.00013778950915366295\n",
            "  Val Micro F1: 0.9826086956521739\n",
            "  Time: 1m 37s\n"
          ]
        },
        {
          "output_type": "stream",
          "name": "stderr",
          "text": [
            "Epoch 19/20: 100%|██████████| 144/144 [01:35<00:00,  1.51batch/s]\n"
          ]
        },
        {
          "output_type": "stream",
          "name": "stdout",
          "text": [
            "Epoch 19/20\n",
            "  Train Loss: 0.00013570250444495791\n",
            "  Val Micro F1: 0.9826086956521739\n",
            "  Time: 1m 37s\n"
          ]
        },
        {
          "output_type": "stream",
          "name": "stderr",
          "text": [
            "Epoch 20/20: 100%|██████████| 144/144 [01:35<00:00,  1.51batch/s]\n"
          ]
        },
        {
          "output_type": "stream",
          "name": "stdout",
          "text": [
            "Epoch 20/20\n",
            "  Train Loss: 0.00013281226205840035\n",
            "  Val Micro F1: 0.9826086956521739\n",
            "  Time: 1m 37s\n"
          ]
        }
      ],
      "source": [
        "epochs = 20\n",
        "for epoch in range(epochs):\n",
        "    model.train()\n",
        "    total_train_loss = 0\n",
        "    start_time = time.time()\n",
        "\n",
        "    # Training\n",
        "    for step, batch in enumerate(tqdm(train_dataloader, desc=f\"Epoch {epoch + 1}/{epochs}\", unit=\"batch\")):\n",
        "        batch = tuple(t.to(device) for t in batch)\n",
        "        input_ids, input_mask, labels = batch\n",
        "\n",
        "\n",
        "        model.zero_grad()\n",
        "        outputs = model(input_ids=input_ids, attention_mask=input_mask, labels=labels)\n",
        "        loss = outputs.loss\n",
        "        total_train_loss += loss.item()\n",
        "\n",
        "        loss.backward()\n",
        "        torch.nn.utils.clip_grad_norm_(model.parameters(), max_norm=1.0)\n",
        "        optimizer.step()\n",
        "        scheduler.step()\n",
        "\n",
        "    avg_train_loss = total_train_loss / len(train_dataloader)\n",
        "\n",
        "    # Validation\n",
        "    model.eval()\n",
        "    predictions = []\n",
        "    true_labels = []\n",
        "\n",
        "    for batch in val_dataloader:\n",
        "        batch = tuple(t.to(device) for t in batch)\n",
        "        input_ids, input_mask, labels = batch\n",
        "\n",
        "        with torch.no_grad():\n",
        "            outputs = model(input_ids=input_ids, attention_mask=input_mask)\n",
        "            logits = outputs.logits\n",
        "\n",
        "        logits = logits.detach().cpu().numpy()\n",
        "        label_ids = labels.to('cpu').numpy()\n",
        "\n",
        "        batch_predictions = np.argmax(logits, axis=1)\n",
        "        predictions.extend(batch_predictions)\n",
        "        true_labels.extend(label_ids)\n",
        "\n",
        "    val_micro_f1 = calculate_metrics('val', predictions, true_labels)\n",
        "    elapsed_time = time.time() - start_time\n",
        "\n",
        "    # Print epoch summary\n",
        "    print(f\"Epoch {epoch + 1}/{epochs}\")\n",
        "    print(f\"  Train Loss: {avg_train_loss}\")\n",
        "    print(f\"  Val Micro F1: {val_micro_f1}\")\n",
        "    print(f\"  Time: {elapsed_time // 60:.0f}m {elapsed_time % 60:.0f}s\")"
      ]
    },
    {
      "cell_type": "code",
      "execution_count": 28,
      "metadata": {
        "colab": {
          "base_uri": "https://localhost:8080/"
        },
        "id": "eySPoilnWXUJ",
        "outputId": "709274f9-a281-4217-d271-fb0da24f611e"
      },
      "outputs": [
        {
          "output_type": "stream",
          "name": "stdout",
          "text": [
            "Confusion Matrix:\n",
            " [[264   4   2]\n",
            " [  7 269  17]\n",
            " [  3   3 579]]\n",
            "\n",
            "Classification Report:\n",
            "               precision    recall  f1-score   support\n",
            "\n",
            "           0       0.96      0.98      0.97       270\n",
            "           1       0.97      0.92      0.95       293\n",
            "           2       0.97      0.99      0.98       585\n",
            "\n",
            "    accuracy                           0.97      1148\n",
            "   macro avg       0.97      0.96      0.96      1148\n",
            "weighted avg       0.97      0.97      0.97      1148\n",
            "\n",
            "Macro F1 Score: 0.9649913250935924\n",
            "Micro F1 Score: 0.9686411149825784\n",
            "Weighted F1 Score: 0.9684086176140284\n",
            "Macro Precision: 0.9687895851812068\n",
            "Micro Precision: 0.9686411149825784\n",
            "Weighted Precision: 0.9687524995291208\n",
            "Macro Recall: 0.9618700349075775\n",
            "Micro Recall: 0.9686411149825784\n",
            "Weighted Recall: 0.9686411149825784\n"
          ]
        }
      ],
      "source": [
        "# Evaluation\n",
        "model.eval()\n",
        "predictions = []\n",
        "true_labels = []\n",
        "\n",
        "for batch in test_dataloader:\n",
        "    batch = tuple(t.to(device) for t in batch)\n",
        "    input_ids, input_mask, labels = batch\n",
        "\n",
        "    with torch.no_grad():\n",
        "        outputs = model(input_ids=input_ids, attention_mask=input_mask)\n",
        "        logits = outputs.logits\n",
        "\n",
        "    logits = logits.detach().cpu().numpy()\n",
        "    label_ids = labels.to('cpu').numpy()\n",
        "\n",
        "    batch_predictions = np.argmax(logits, axis=1)\n",
        "    predictions.extend(batch_predictions)\n",
        "    true_labels.extend(label_ids)\n",
        "\n",
        "# Calculate and print metrics\n",
        "calculate_metrics('test', predictions, true_labels)"
      ]
    },
    {
      "cell_type": "code",
      "execution_count": 29,
      "metadata": {
        "id": "GDaeLSDEWXUJ"
      },
      "outputs": [],
      "source": [
        "model.save_pretrained('/content/drive/MyDrive/WoS/BERT_WoS_Abstracts_5736')"
      ]
    }
  ],
  "metadata": {
    "language_info": {
      "name": "python"
    },
    "colab": {
      "provenance": [],
      "gpuType": "T4",
      "toc_visible": true
    },
    "kernelspec": {
      "name": "python3",
      "display_name": "Python 3"
    },
    "accelerator": "GPU",
    "widgets": {
      "application/vnd.jupyter.widget-state+json": {
        "2aa369cd369c4ae5b4bbae1319056f50": {
          "model_module": "@jupyter-widgets/controls",
          "model_name": "HBoxModel",
          "model_module_version": "1.5.0",
          "state": {
            "_dom_classes": [],
            "_model_module": "@jupyter-widgets/controls",
            "_model_module_version": "1.5.0",
            "_model_name": "HBoxModel",
            "_view_count": null,
            "_view_module": "@jupyter-widgets/controls",
            "_view_module_version": "1.5.0",
            "_view_name": "HBoxView",
            "box_style": "",
            "children": [
              "IPY_MODEL_038b140ab84848b2a50ed7f0991ccffa",
              "IPY_MODEL_ae1ce97e136244339a927ab6745f4c85",
              "IPY_MODEL_703a3bb1e1094a6681ae9b3bf9cdd4e4"
            ],
            "layout": "IPY_MODEL_ebea7310588a4d2988dcada17b3d2a74"
          }
        },
        "038b140ab84848b2a50ed7f0991ccffa": {
          "model_module": "@jupyter-widgets/controls",
          "model_name": "HTMLModel",
          "model_module_version": "1.5.0",
          "state": {
            "_dom_classes": [],
            "_model_module": "@jupyter-widgets/controls",
            "_model_module_version": "1.5.0",
            "_model_name": "HTMLModel",
            "_view_count": null,
            "_view_module": "@jupyter-widgets/controls",
            "_view_module_version": "1.5.0",
            "_view_name": "HTMLView",
            "description": "",
            "description_tooltip": null,
            "layout": "IPY_MODEL_813611e20c83496185a695681dcfc47a",
            "placeholder": "​",
            "style": "IPY_MODEL_93b1b023e8c74a42ac270abbb258abc5",
            "value": "tokenizer_config.json: 100%"
          }
        },
        "ae1ce97e136244339a927ab6745f4c85": {
          "model_module": "@jupyter-widgets/controls",
          "model_name": "FloatProgressModel",
          "model_module_version": "1.5.0",
          "state": {
            "_dom_classes": [],
            "_model_module": "@jupyter-widgets/controls",
            "_model_module_version": "1.5.0",
            "_model_name": "FloatProgressModel",
            "_view_count": null,
            "_view_module": "@jupyter-widgets/controls",
            "_view_module_version": "1.5.0",
            "_view_name": "ProgressView",
            "bar_style": "success",
            "description": "",
            "description_tooltip": null,
            "layout": "IPY_MODEL_fa3577c7df384d39a4cb467f15b20c8f",
            "max": 48,
            "min": 0,
            "orientation": "horizontal",
            "style": "IPY_MODEL_69b385d9544f491186540659f988912d",
            "value": 48
          }
        },
        "703a3bb1e1094a6681ae9b3bf9cdd4e4": {
          "model_module": "@jupyter-widgets/controls",
          "model_name": "HTMLModel",
          "model_module_version": "1.5.0",
          "state": {
            "_dom_classes": [],
            "_model_module": "@jupyter-widgets/controls",
            "_model_module_version": "1.5.0",
            "_model_name": "HTMLModel",
            "_view_count": null,
            "_view_module": "@jupyter-widgets/controls",
            "_view_module_version": "1.5.0",
            "_view_name": "HTMLView",
            "description": "",
            "description_tooltip": null,
            "layout": "IPY_MODEL_473302ee7a49460095dad25488268825",
            "placeholder": "​",
            "style": "IPY_MODEL_f9badc5e6b1e48a9ba15676cc8a7a5b3",
            "value": " 48.0/48.0 [00:00&lt;00:00, 1.26kB/s]"
          }
        },
        "ebea7310588a4d2988dcada17b3d2a74": {
          "model_module": "@jupyter-widgets/base",
          "model_name": "LayoutModel",
          "model_module_version": "1.2.0",
          "state": {
            "_model_module": "@jupyter-widgets/base",
            "_model_module_version": "1.2.0",
            "_model_name": "LayoutModel",
            "_view_count": null,
            "_view_module": "@jupyter-widgets/base",
            "_view_module_version": "1.2.0",
            "_view_name": "LayoutView",
            "align_content": null,
            "align_items": null,
            "align_self": null,
            "border": null,
            "bottom": null,
            "display": null,
            "flex": null,
            "flex_flow": null,
            "grid_area": null,
            "grid_auto_columns": null,
            "grid_auto_flow": null,
            "grid_auto_rows": null,
            "grid_column": null,
            "grid_gap": null,
            "grid_row": null,
            "grid_template_areas": null,
            "grid_template_columns": null,
            "grid_template_rows": null,
            "height": null,
            "justify_content": null,
            "justify_items": null,
            "left": null,
            "margin": null,
            "max_height": null,
            "max_width": null,
            "min_height": null,
            "min_width": null,
            "object_fit": null,
            "object_position": null,
            "order": null,
            "overflow": null,
            "overflow_x": null,
            "overflow_y": null,
            "padding": null,
            "right": null,
            "top": null,
            "visibility": null,
            "width": null
          }
        },
        "813611e20c83496185a695681dcfc47a": {
          "model_module": "@jupyter-widgets/base",
          "model_name": "LayoutModel",
          "model_module_version": "1.2.0",
          "state": {
            "_model_module": "@jupyter-widgets/base",
            "_model_module_version": "1.2.0",
            "_model_name": "LayoutModel",
            "_view_count": null,
            "_view_module": "@jupyter-widgets/base",
            "_view_module_version": "1.2.0",
            "_view_name": "LayoutView",
            "align_content": null,
            "align_items": null,
            "align_self": null,
            "border": null,
            "bottom": null,
            "display": null,
            "flex": null,
            "flex_flow": null,
            "grid_area": null,
            "grid_auto_columns": null,
            "grid_auto_flow": null,
            "grid_auto_rows": null,
            "grid_column": null,
            "grid_gap": null,
            "grid_row": null,
            "grid_template_areas": null,
            "grid_template_columns": null,
            "grid_template_rows": null,
            "height": null,
            "justify_content": null,
            "justify_items": null,
            "left": null,
            "margin": null,
            "max_height": null,
            "max_width": null,
            "min_height": null,
            "min_width": null,
            "object_fit": null,
            "object_position": null,
            "order": null,
            "overflow": null,
            "overflow_x": null,
            "overflow_y": null,
            "padding": null,
            "right": null,
            "top": null,
            "visibility": null,
            "width": null
          }
        },
        "93b1b023e8c74a42ac270abbb258abc5": {
          "model_module": "@jupyter-widgets/controls",
          "model_name": "DescriptionStyleModel",
          "model_module_version": "1.5.0",
          "state": {
            "_model_module": "@jupyter-widgets/controls",
            "_model_module_version": "1.5.0",
            "_model_name": "DescriptionStyleModel",
            "_view_count": null,
            "_view_module": "@jupyter-widgets/base",
            "_view_module_version": "1.2.0",
            "_view_name": "StyleView",
            "description_width": ""
          }
        },
        "fa3577c7df384d39a4cb467f15b20c8f": {
          "model_module": "@jupyter-widgets/base",
          "model_name": "LayoutModel",
          "model_module_version": "1.2.0",
          "state": {
            "_model_module": "@jupyter-widgets/base",
            "_model_module_version": "1.2.0",
            "_model_name": "LayoutModel",
            "_view_count": null,
            "_view_module": "@jupyter-widgets/base",
            "_view_module_version": "1.2.0",
            "_view_name": "LayoutView",
            "align_content": null,
            "align_items": null,
            "align_self": null,
            "border": null,
            "bottom": null,
            "display": null,
            "flex": null,
            "flex_flow": null,
            "grid_area": null,
            "grid_auto_columns": null,
            "grid_auto_flow": null,
            "grid_auto_rows": null,
            "grid_column": null,
            "grid_gap": null,
            "grid_row": null,
            "grid_template_areas": null,
            "grid_template_columns": null,
            "grid_template_rows": null,
            "height": null,
            "justify_content": null,
            "justify_items": null,
            "left": null,
            "margin": null,
            "max_height": null,
            "max_width": null,
            "min_height": null,
            "min_width": null,
            "object_fit": null,
            "object_position": null,
            "order": null,
            "overflow": null,
            "overflow_x": null,
            "overflow_y": null,
            "padding": null,
            "right": null,
            "top": null,
            "visibility": null,
            "width": null
          }
        },
        "69b385d9544f491186540659f988912d": {
          "model_module": "@jupyter-widgets/controls",
          "model_name": "ProgressStyleModel",
          "model_module_version": "1.5.0",
          "state": {
            "_model_module": "@jupyter-widgets/controls",
            "_model_module_version": "1.5.0",
            "_model_name": "ProgressStyleModel",
            "_view_count": null,
            "_view_module": "@jupyter-widgets/base",
            "_view_module_version": "1.2.0",
            "_view_name": "StyleView",
            "bar_color": null,
            "description_width": ""
          }
        },
        "473302ee7a49460095dad25488268825": {
          "model_module": "@jupyter-widgets/base",
          "model_name": "LayoutModel",
          "model_module_version": "1.2.0",
          "state": {
            "_model_module": "@jupyter-widgets/base",
            "_model_module_version": "1.2.0",
            "_model_name": "LayoutModel",
            "_view_count": null,
            "_view_module": "@jupyter-widgets/base",
            "_view_module_version": "1.2.0",
            "_view_name": "LayoutView",
            "align_content": null,
            "align_items": null,
            "align_self": null,
            "border": null,
            "bottom": null,
            "display": null,
            "flex": null,
            "flex_flow": null,
            "grid_area": null,
            "grid_auto_columns": null,
            "grid_auto_flow": null,
            "grid_auto_rows": null,
            "grid_column": null,
            "grid_gap": null,
            "grid_row": null,
            "grid_template_areas": null,
            "grid_template_columns": null,
            "grid_template_rows": null,
            "height": null,
            "justify_content": null,
            "justify_items": null,
            "left": null,
            "margin": null,
            "max_height": null,
            "max_width": null,
            "min_height": null,
            "min_width": null,
            "object_fit": null,
            "object_position": null,
            "order": null,
            "overflow": null,
            "overflow_x": null,
            "overflow_y": null,
            "padding": null,
            "right": null,
            "top": null,
            "visibility": null,
            "width": null
          }
        },
        "f9badc5e6b1e48a9ba15676cc8a7a5b3": {
          "model_module": "@jupyter-widgets/controls",
          "model_name": "DescriptionStyleModel",
          "model_module_version": "1.5.0",
          "state": {
            "_model_module": "@jupyter-widgets/controls",
            "_model_module_version": "1.5.0",
            "_model_name": "DescriptionStyleModel",
            "_view_count": null,
            "_view_module": "@jupyter-widgets/base",
            "_view_module_version": "1.2.0",
            "_view_name": "StyleView",
            "description_width": ""
          }
        },
        "5e1b01e45a4a4726828ef011952834bc": {
          "model_module": "@jupyter-widgets/controls",
          "model_name": "HBoxModel",
          "model_module_version": "1.5.0",
          "state": {
            "_dom_classes": [],
            "_model_module": "@jupyter-widgets/controls",
            "_model_module_version": "1.5.0",
            "_model_name": "HBoxModel",
            "_view_count": null,
            "_view_module": "@jupyter-widgets/controls",
            "_view_module_version": "1.5.0",
            "_view_name": "HBoxView",
            "box_style": "",
            "children": [
              "IPY_MODEL_a7c96458587d4203b3aad5cb27bf4d70",
              "IPY_MODEL_e6c5d519711f425c8e68adbae8430815",
              "IPY_MODEL_3ada77b8c6ca4ede90283a5f6d15cd4c"
            ],
            "layout": "IPY_MODEL_5634b2c5cdbb4f8dbbbca0b5e25919ce"
          }
        },
        "a7c96458587d4203b3aad5cb27bf4d70": {
          "model_module": "@jupyter-widgets/controls",
          "model_name": "HTMLModel",
          "model_module_version": "1.5.0",
          "state": {
            "_dom_classes": [],
            "_model_module": "@jupyter-widgets/controls",
            "_model_module_version": "1.5.0",
            "_model_name": "HTMLModel",
            "_view_count": null,
            "_view_module": "@jupyter-widgets/controls",
            "_view_module_version": "1.5.0",
            "_view_name": "HTMLView",
            "description": "",
            "description_tooltip": null,
            "layout": "IPY_MODEL_d03e9b603ce64ba98d7b3eaf4b692eb3",
            "placeholder": "​",
            "style": "IPY_MODEL_4ba18aed67b54e6cb7cda53afc8b496a",
            "value": "config.json: 100%"
          }
        },
        "e6c5d519711f425c8e68adbae8430815": {
          "model_module": "@jupyter-widgets/controls",
          "model_name": "FloatProgressModel",
          "model_module_version": "1.5.0",
          "state": {
            "_dom_classes": [],
            "_model_module": "@jupyter-widgets/controls",
            "_model_module_version": "1.5.0",
            "_model_name": "FloatProgressModel",
            "_view_count": null,
            "_view_module": "@jupyter-widgets/controls",
            "_view_module_version": "1.5.0",
            "_view_name": "ProgressView",
            "bar_style": "success",
            "description": "",
            "description_tooltip": null,
            "layout": "IPY_MODEL_29ae516398a74cf4a00206b60ab74bea",
            "max": 570,
            "min": 0,
            "orientation": "horizontal",
            "style": "IPY_MODEL_d8a0f33ebd68460a8b0ff2eb1cf886ec",
            "value": 570
          }
        },
        "3ada77b8c6ca4ede90283a5f6d15cd4c": {
          "model_module": "@jupyter-widgets/controls",
          "model_name": "HTMLModel",
          "model_module_version": "1.5.0",
          "state": {
            "_dom_classes": [],
            "_model_module": "@jupyter-widgets/controls",
            "_model_module_version": "1.5.0",
            "_model_name": "HTMLModel",
            "_view_count": null,
            "_view_module": "@jupyter-widgets/controls",
            "_view_module_version": "1.5.0",
            "_view_name": "HTMLView",
            "description": "",
            "description_tooltip": null,
            "layout": "IPY_MODEL_295d99539d3d4b218b837627eaeb02ec",
            "placeholder": "​",
            "style": "IPY_MODEL_9d400f1888194024aa07f4c609422188",
            "value": " 570/570 [00:00&lt;00:00, 16.1kB/s]"
          }
        },
        "5634b2c5cdbb4f8dbbbca0b5e25919ce": {
          "model_module": "@jupyter-widgets/base",
          "model_name": "LayoutModel",
          "model_module_version": "1.2.0",
          "state": {
            "_model_module": "@jupyter-widgets/base",
            "_model_module_version": "1.2.0",
            "_model_name": "LayoutModel",
            "_view_count": null,
            "_view_module": "@jupyter-widgets/base",
            "_view_module_version": "1.2.0",
            "_view_name": "LayoutView",
            "align_content": null,
            "align_items": null,
            "align_self": null,
            "border": null,
            "bottom": null,
            "display": null,
            "flex": null,
            "flex_flow": null,
            "grid_area": null,
            "grid_auto_columns": null,
            "grid_auto_flow": null,
            "grid_auto_rows": null,
            "grid_column": null,
            "grid_gap": null,
            "grid_row": null,
            "grid_template_areas": null,
            "grid_template_columns": null,
            "grid_template_rows": null,
            "height": null,
            "justify_content": null,
            "justify_items": null,
            "left": null,
            "margin": null,
            "max_height": null,
            "max_width": null,
            "min_height": null,
            "min_width": null,
            "object_fit": null,
            "object_position": null,
            "order": null,
            "overflow": null,
            "overflow_x": null,
            "overflow_y": null,
            "padding": null,
            "right": null,
            "top": null,
            "visibility": null,
            "width": null
          }
        },
        "d03e9b603ce64ba98d7b3eaf4b692eb3": {
          "model_module": "@jupyter-widgets/base",
          "model_name": "LayoutModel",
          "model_module_version": "1.2.0",
          "state": {
            "_model_module": "@jupyter-widgets/base",
            "_model_module_version": "1.2.0",
            "_model_name": "LayoutModel",
            "_view_count": null,
            "_view_module": "@jupyter-widgets/base",
            "_view_module_version": "1.2.0",
            "_view_name": "LayoutView",
            "align_content": null,
            "align_items": null,
            "align_self": null,
            "border": null,
            "bottom": null,
            "display": null,
            "flex": null,
            "flex_flow": null,
            "grid_area": null,
            "grid_auto_columns": null,
            "grid_auto_flow": null,
            "grid_auto_rows": null,
            "grid_column": null,
            "grid_gap": null,
            "grid_row": null,
            "grid_template_areas": null,
            "grid_template_columns": null,
            "grid_template_rows": null,
            "height": null,
            "justify_content": null,
            "justify_items": null,
            "left": null,
            "margin": null,
            "max_height": null,
            "max_width": null,
            "min_height": null,
            "min_width": null,
            "object_fit": null,
            "object_position": null,
            "order": null,
            "overflow": null,
            "overflow_x": null,
            "overflow_y": null,
            "padding": null,
            "right": null,
            "top": null,
            "visibility": null,
            "width": null
          }
        },
        "4ba18aed67b54e6cb7cda53afc8b496a": {
          "model_module": "@jupyter-widgets/controls",
          "model_name": "DescriptionStyleModel",
          "model_module_version": "1.5.0",
          "state": {
            "_model_module": "@jupyter-widgets/controls",
            "_model_module_version": "1.5.0",
            "_model_name": "DescriptionStyleModel",
            "_view_count": null,
            "_view_module": "@jupyter-widgets/base",
            "_view_module_version": "1.2.0",
            "_view_name": "StyleView",
            "description_width": ""
          }
        },
        "29ae516398a74cf4a00206b60ab74bea": {
          "model_module": "@jupyter-widgets/base",
          "model_name": "LayoutModel",
          "model_module_version": "1.2.0",
          "state": {
            "_model_module": "@jupyter-widgets/base",
            "_model_module_version": "1.2.0",
            "_model_name": "LayoutModel",
            "_view_count": null,
            "_view_module": "@jupyter-widgets/base",
            "_view_module_version": "1.2.0",
            "_view_name": "LayoutView",
            "align_content": null,
            "align_items": null,
            "align_self": null,
            "border": null,
            "bottom": null,
            "display": null,
            "flex": null,
            "flex_flow": null,
            "grid_area": null,
            "grid_auto_columns": null,
            "grid_auto_flow": null,
            "grid_auto_rows": null,
            "grid_column": null,
            "grid_gap": null,
            "grid_row": null,
            "grid_template_areas": null,
            "grid_template_columns": null,
            "grid_template_rows": null,
            "height": null,
            "justify_content": null,
            "justify_items": null,
            "left": null,
            "margin": null,
            "max_height": null,
            "max_width": null,
            "min_height": null,
            "min_width": null,
            "object_fit": null,
            "object_position": null,
            "order": null,
            "overflow": null,
            "overflow_x": null,
            "overflow_y": null,
            "padding": null,
            "right": null,
            "top": null,
            "visibility": null,
            "width": null
          }
        },
        "d8a0f33ebd68460a8b0ff2eb1cf886ec": {
          "model_module": "@jupyter-widgets/controls",
          "model_name": "ProgressStyleModel",
          "model_module_version": "1.5.0",
          "state": {
            "_model_module": "@jupyter-widgets/controls",
            "_model_module_version": "1.5.0",
            "_model_name": "ProgressStyleModel",
            "_view_count": null,
            "_view_module": "@jupyter-widgets/base",
            "_view_module_version": "1.2.0",
            "_view_name": "StyleView",
            "bar_color": null,
            "description_width": ""
          }
        },
        "295d99539d3d4b218b837627eaeb02ec": {
          "model_module": "@jupyter-widgets/base",
          "model_name": "LayoutModel",
          "model_module_version": "1.2.0",
          "state": {
            "_model_module": "@jupyter-widgets/base",
            "_model_module_version": "1.2.0",
            "_model_name": "LayoutModel",
            "_view_count": null,
            "_view_module": "@jupyter-widgets/base",
            "_view_module_version": "1.2.0",
            "_view_name": "LayoutView",
            "align_content": null,
            "align_items": null,
            "align_self": null,
            "border": null,
            "bottom": null,
            "display": null,
            "flex": null,
            "flex_flow": null,
            "grid_area": null,
            "grid_auto_columns": null,
            "grid_auto_flow": null,
            "grid_auto_rows": null,
            "grid_column": null,
            "grid_gap": null,
            "grid_row": null,
            "grid_template_areas": null,
            "grid_template_columns": null,
            "grid_template_rows": null,
            "height": null,
            "justify_content": null,
            "justify_items": null,
            "left": null,
            "margin": null,
            "max_height": null,
            "max_width": null,
            "min_height": null,
            "min_width": null,
            "object_fit": null,
            "object_position": null,
            "order": null,
            "overflow": null,
            "overflow_x": null,
            "overflow_y": null,
            "padding": null,
            "right": null,
            "top": null,
            "visibility": null,
            "width": null
          }
        },
        "9d400f1888194024aa07f4c609422188": {
          "model_module": "@jupyter-widgets/controls",
          "model_name": "DescriptionStyleModel",
          "model_module_version": "1.5.0",
          "state": {
            "_model_module": "@jupyter-widgets/controls",
            "_model_module_version": "1.5.0",
            "_model_name": "DescriptionStyleModel",
            "_view_count": null,
            "_view_module": "@jupyter-widgets/base",
            "_view_module_version": "1.2.0",
            "_view_name": "StyleView",
            "description_width": ""
          }
        },
        "b37a5cbf2ab34b988f1a0a49c66acf06": {
          "model_module": "@jupyter-widgets/controls",
          "model_name": "HBoxModel",
          "model_module_version": "1.5.0",
          "state": {
            "_dom_classes": [],
            "_model_module": "@jupyter-widgets/controls",
            "_model_module_version": "1.5.0",
            "_model_name": "HBoxModel",
            "_view_count": null,
            "_view_module": "@jupyter-widgets/controls",
            "_view_module_version": "1.5.0",
            "_view_name": "HBoxView",
            "box_style": "",
            "children": [
              "IPY_MODEL_3b50a6ffde07493789902c4f0ec24354",
              "IPY_MODEL_46f9dda0a9a34057ae25f100023e9e7c",
              "IPY_MODEL_5618ae1cdb974e8b99393b26a4deaf6a"
            ],
            "layout": "IPY_MODEL_d59028760c474cf4a271a9a79373155b"
          }
        },
        "3b50a6ffde07493789902c4f0ec24354": {
          "model_module": "@jupyter-widgets/controls",
          "model_name": "HTMLModel",
          "model_module_version": "1.5.0",
          "state": {
            "_dom_classes": [],
            "_model_module": "@jupyter-widgets/controls",
            "_model_module_version": "1.5.0",
            "_model_name": "HTMLModel",
            "_view_count": null,
            "_view_module": "@jupyter-widgets/controls",
            "_view_module_version": "1.5.0",
            "_view_name": "HTMLView",
            "description": "",
            "description_tooltip": null,
            "layout": "IPY_MODEL_ca1c32ec4454417480e182f22f603023",
            "placeholder": "​",
            "style": "IPY_MODEL_72d451def84e44b09451d0d0012c7907",
            "value": "vocab.txt: 100%"
          }
        },
        "46f9dda0a9a34057ae25f100023e9e7c": {
          "model_module": "@jupyter-widgets/controls",
          "model_name": "FloatProgressModel",
          "model_module_version": "1.5.0",
          "state": {
            "_dom_classes": [],
            "_model_module": "@jupyter-widgets/controls",
            "_model_module_version": "1.5.0",
            "_model_name": "FloatProgressModel",
            "_view_count": null,
            "_view_module": "@jupyter-widgets/controls",
            "_view_module_version": "1.5.0",
            "_view_name": "ProgressView",
            "bar_style": "success",
            "description": "",
            "description_tooltip": null,
            "layout": "IPY_MODEL_818bad05d3994a95a34d040641260ec6",
            "max": 231508,
            "min": 0,
            "orientation": "horizontal",
            "style": "IPY_MODEL_efcd164f07df4915840f033c293c1efe",
            "value": 231508
          }
        },
        "5618ae1cdb974e8b99393b26a4deaf6a": {
          "model_module": "@jupyter-widgets/controls",
          "model_name": "HTMLModel",
          "model_module_version": "1.5.0",
          "state": {
            "_dom_classes": [],
            "_model_module": "@jupyter-widgets/controls",
            "_model_module_version": "1.5.0",
            "_model_name": "HTMLModel",
            "_view_count": null,
            "_view_module": "@jupyter-widgets/controls",
            "_view_module_version": "1.5.0",
            "_view_name": "HTMLView",
            "description": "",
            "description_tooltip": null,
            "layout": "IPY_MODEL_704c883da73a4318a702528345c22d7b",
            "placeholder": "​",
            "style": "IPY_MODEL_adf885be074149ec90c1b4bf8c0aa700",
            "value": " 232k/232k [00:00&lt;00:00, 1.40MB/s]"
          }
        },
        "d59028760c474cf4a271a9a79373155b": {
          "model_module": "@jupyter-widgets/base",
          "model_name": "LayoutModel",
          "model_module_version": "1.2.0",
          "state": {
            "_model_module": "@jupyter-widgets/base",
            "_model_module_version": "1.2.0",
            "_model_name": "LayoutModel",
            "_view_count": null,
            "_view_module": "@jupyter-widgets/base",
            "_view_module_version": "1.2.0",
            "_view_name": "LayoutView",
            "align_content": null,
            "align_items": null,
            "align_self": null,
            "border": null,
            "bottom": null,
            "display": null,
            "flex": null,
            "flex_flow": null,
            "grid_area": null,
            "grid_auto_columns": null,
            "grid_auto_flow": null,
            "grid_auto_rows": null,
            "grid_column": null,
            "grid_gap": null,
            "grid_row": null,
            "grid_template_areas": null,
            "grid_template_columns": null,
            "grid_template_rows": null,
            "height": null,
            "justify_content": null,
            "justify_items": null,
            "left": null,
            "margin": null,
            "max_height": null,
            "max_width": null,
            "min_height": null,
            "min_width": null,
            "object_fit": null,
            "object_position": null,
            "order": null,
            "overflow": null,
            "overflow_x": null,
            "overflow_y": null,
            "padding": null,
            "right": null,
            "top": null,
            "visibility": null,
            "width": null
          }
        },
        "ca1c32ec4454417480e182f22f603023": {
          "model_module": "@jupyter-widgets/base",
          "model_name": "LayoutModel",
          "model_module_version": "1.2.0",
          "state": {
            "_model_module": "@jupyter-widgets/base",
            "_model_module_version": "1.2.0",
            "_model_name": "LayoutModel",
            "_view_count": null,
            "_view_module": "@jupyter-widgets/base",
            "_view_module_version": "1.2.0",
            "_view_name": "LayoutView",
            "align_content": null,
            "align_items": null,
            "align_self": null,
            "border": null,
            "bottom": null,
            "display": null,
            "flex": null,
            "flex_flow": null,
            "grid_area": null,
            "grid_auto_columns": null,
            "grid_auto_flow": null,
            "grid_auto_rows": null,
            "grid_column": null,
            "grid_gap": null,
            "grid_row": null,
            "grid_template_areas": null,
            "grid_template_columns": null,
            "grid_template_rows": null,
            "height": null,
            "justify_content": null,
            "justify_items": null,
            "left": null,
            "margin": null,
            "max_height": null,
            "max_width": null,
            "min_height": null,
            "min_width": null,
            "object_fit": null,
            "object_position": null,
            "order": null,
            "overflow": null,
            "overflow_x": null,
            "overflow_y": null,
            "padding": null,
            "right": null,
            "top": null,
            "visibility": null,
            "width": null
          }
        },
        "72d451def84e44b09451d0d0012c7907": {
          "model_module": "@jupyter-widgets/controls",
          "model_name": "DescriptionStyleModel",
          "model_module_version": "1.5.0",
          "state": {
            "_model_module": "@jupyter-widgets/controls",
            "_model_module_version": "1.5.0",
            "_model_name": "DescriptionStyleModel",
            "_view_count": null,
            "_view_module": "@jupyter-widgets/base",
            "_view_module_version": "1.2.0",
            "_view_name": "StyleView",
            "description_width": ""
          }
        },
        "818bad05d3994a95a34d040641260ec6": {
          "model_module": "@jupyter-widgets/base",
          "model_name": "LayoutModel",
          "model_module_version": "1.2.0",
          "state": {
            "_model_module": "@jupyter-widgets/base",
            "_model_module_version": "1.2.0",
            "_model_name": "LayoutModel",
            "_view_count": null,
            "_view_module": "@jupyter-widgets/base",
            "_view_module_version": "1.2.0",
            "_view_name": "LayoutView",
            "align_content": null,
            "align_items": null,
            "align_self": null,
            "border": null,
            "bottom": null,
            "display": null,
            "flex": null,
            "flex_flow": null,
            "grid_area": null,
            "grid_auto_columns": null,
            "grid_auto_flow": null,
            "grid_auto_rows": null,
            "grid_column": null,
            "grid_gap": null,
            "grid_row": null,
            "grid_template_areas": null,
            "grid_template_columns": null,
            "grid_template_rows": null,
            "height": null,
            "justify_content": null,
            "justify_items": null,
            "left": null,
            "margin": null,
            "max_height": null,
            "max_width": null,
            "min_height": null,
            "min_width": null,
            "object_fit": null,
            "object_position": null,
            "order": null,
            "overflow": null,
            "overflow_x": null,
            "overflow_y": null,
            "padding": null,
            "right": null,
            "top": null,
            "visibility": null,
            "width": null
          }
        },
        "efcd164f07df4915840f033c293c1efe": {
          "model_module": "@jupyter-widgets/controls",
          "model_name": "ProgressStyleModel",
          "model_module_version": "1.5.0",
          "state": {
            "_model_module": "@jupyter-widgets/controls",
            "_model_module_version": "1.5.0",
            "_model_name": "ProgressStyleModel",
            "_view_count": null,
            "_view_module": "@jupyter-widgets/base",
            "_view_module_version": "1.2.0",
            "_view_name": "StyleView",
            "bar_color": null,
            "description_width": ""
          }
        },
        "704c883da73a4318a702528345c22d7b": {
          "model_module": "@jupyter-widgets/base",
          "model_name": "LayoutModel",
          "model_module_version": "1.2.0",
          "state": {
            "_model_module": "@jupyter-widgets/base",
            "_model_module_version": "1.2.0",
            "_model_name": "LayoutModel",
            "_view_count": null,
            "_view_module": "@jupyter-widgets/base",
            "_view_module_version": "1.2.0",
            "_view_name": "LayoutView",
            "align_content": null,
            "align_items": null,
            "align_self": null,
            "border": null,
            "bottom": null,
            "display": null,
            "flex": null,
            "flex_flow": null,
            "grid_area": null,
            "grid_auto_columns": null,
            "grid_auto_flow": null,
            "grid_auto_rows": null,
            "grid_column": null,
            "grid_gap": null,
            "grid_row": null,
            "grid_template_areas": null,
            "grid_template_columns": null,
            "grid_template_rows": null,
            "height": null,
            "justify_content": null,
            "justify_items": null,
            "left": null,
            "margin": null,
            "max_height": null,
            "max_width": null,
            "min_height": null,
            "min_width": null,
            "object_fit": null,
            "object_position": null,
            "order": null,
            "overflow": null,
            "overflow_x": null,
            "overflow_y": null,
            "padding": null,
            "right": null,
            "top": null,
            "visibility": null,
            "width": null
          }
        },
        "adf885be074149ec90c1b4bf8c0aa700": {
          "model_module": "@jupyter-widgets/controls",
          "model_name": "DescriptionStyleModel",
          "model_module_version": "1.5.0",
          "state": {
            "_model_module": "@jupyter-widgets/controls",
            "_model_module_version": "1.5.0",
            "_model_name": "DescriptionStyleModel",
            "_view_count": null,
            "_view_module": "@jupyter-widgets/base",
            "_view_module_version": "1.2.0",
            "_view_name": "StyleView",
            "description_width": ""
          }
        },
        "d6d5f1fe89574c2f8c8414a173ec38dd": {
          "model_module": "@jupyter-widgets/controls",
          "model_name": "HBoxModel",
          "model_module_version": "1.5.0",
          "state": {
            "_dom_classes": [],
            "_model_module": "@jupyter-widgets/controls",
            "_model_module_version": "1.5.0",
            "_model_name": "HBoxModel",
            "_view_count": null,
            "_view_module": "@jupyter-widgets/controls",
            "_view_module_version": "1.5.0",
            "_view_name": "HBoxView",
            "box_style": "",
            "children": [
              "IPY_MODEL_80e056dab4fc4de6b5266c3c6d2821e0",
              "IPY_MODEL_ebceea3ff6d5424fa0f2bb858b430e28",
              "IPY_MODEL_d104beff1cef4b7fa05dd7469f05af0e"
            ],
            "layout": "IPY_MODEL_5ea30272e31e4479818679d494ad9205"
          }
        },
        "80e056dab4fc4de6b5266c3c6d2821e0": {
          "model_module": "@jupyter-widgets/controls",
          "model_name": "HTMLModel",
          "model_module_version": "1.5.0",
          "state": {
            "_dom_classes": [],
            "_model_module": "@jupyter-widgets/controls",
            "_model_module_version": "1.5.0",
            "_model_name": "HTMLModel",
            "_view_count": null,
            "_view_module": "@jupyter-widgets/controls",
            "_view_module_version": "1.5.0",
            "_view_name": "HTMLView",
            "description": "",
            "description_tooltip": null,
            "layout": "IPY_MODEL_2019bbedaa044a9d8ee18566134665b0",
            "placeholder": "​",
            "style": "IPY_MODEL_9865978066294cacb22cd5c2aeaae209",
            "value": "tokenizer.json: 100%"
          }
        },
        "ebceea3ff6d5424fa0f2bb858b430e28": {
          "model_module": "@jupyter-widgets/controls",
          "model_name": "FloatProgressModel",
          "model_module_version": "1.5.0",
          "state": {
            "_dom_classes": [],
            "_model_module": "@jupyter-widgets/controls",
            "_model_module_version": "1.5.0",
            "_model_name": "FloatProgressModel",
            "_view_count": null,
            "_view_module": "@jupyter-widgets/controls",
            "_view_module_version": "1.5.0",
            "_view_name": "ProgressView",
            "bar_style": "success",
            "description": "",
            "description_tooltip": null,
            "layout": "IPY_MODEL_f037a6606bb145d598e1aa7ea76f73e4",
            "max": 466062,
            "min": 0,
            "orientation": "horizontal",
            "style": "IPY_MODEL_e3a01149c41d49d68214126a9206f134",
            "value": 466062
          }
        },
        "d104beff1cef4b7fa05dd7469f05af0e": {
          "model_module": "@jupyter-widgets/controls",
          "model_name": "HTMLModel",
          "model_module_version": "1.5.0",
          "state": {
            "_dom_classes": [],
            "_model_module": "@jupyter-widgets/controls",
            "_model_module_version": "1.5.0",
            "_model_name": "HTMLModel",
            "_view_count": null,
            "_view_module": "@jupyter-widgets/controls",
            "_view_module_version": "1.5.0",
            "_view_name": "HTMLView",
            "description": "",
            "description_tooltip": null,
            "layout": "IPY_MODEL_f46e05777c0a4ec7b4c98ecd50092f7d",
            "placeholder": "​",
            "style": "IPY_MODEL_f95f3bdc12024ab09cd590676650fa60",
            "value": " 466k/466k [00:00&lt;00:00, 2.87MB/s]"
          }
        },
        "5ea30272e31e4479818679d494ad9205": {
          "model_module": "@jupyter-widgets/base",
          "model_name": "LayoutModel",
          "model_module_version": "1.2.0",
          "state": {
            "_model_module": "@jupyter-widgets/base",
            "_model_module_version": "1.2.0",
            "_model_name": "LayoutModel",
            "_view_count": null,
            "_view_module": "@jupyter-widgets/base",
            "_view_module_version": "1.2.0",
            "_view_name": "LayoutView",
            "align_content": null,
            "align_items": null,
            "align_self": null,
            "border": null,
            "bottom": null,
            "display": null,
            "flex": null,
            "flex_flow": null,
            "grid_area": null,
            "grid_auto_columns": null,
            "grid_auto_flow": null,
            "grid_auto_rows": null,
            "grid_column": null,
            "grid_gap": null,
            "grid_row": null,
            "grid_template_areas": null,
            "grid_template_columns": null,
            "grid_template_rows": null,
            "height": null,
            "justify_content": null,
            "justify_items": null,
            "left": null,
            "margin": null,
            "max_height": null,
            "max_width": null,
            "min_height": null,
            "min_width": null,
            "object_fit": null,
            "object_position": null,
            "order": null,
            "overflow": null,
            "overflow_x": null,
            "overflow_y": null,
            "padding": null,
            "right": null,
            "top": null,
            "visibility": null,
            "width": null
          }
        },
        "2019bbedaa044a9d8ee18566134665b0": {
          "model_module": "@jupyter-widgets/base",
          "model_name": "LayoutModel",
          "model_module_version": "1.2.0",
          "state": {
            "_model_module": "@jupyter-widgets/base",
            "_model_module_version": "1.2.0",
            "_model_name": "LayoutModel",
            "_view_count": null,
            "_view_module": "@jupyter-widgets/base",
            "_view_module_version": "1.2.0",
            "_view_name": "LayoutView",
            "align_content": null,
            "align_items": null,
            "align_self": null,
            "border": null,
            "bottom": null,
            "display": null,
            "flex": null,
            "flex_flow": null,
            "grid_area": null,
            "grid_auto_columns": null,
            "grid_auto_flow": null,
            "grid_auto_rows": null,
            "grid_column": null,
            "grid_gap": null,
            "grid_row": null,
            "grid_template_areas": null,
            "grid_template_columns": null,
            "grid_template_rows": null,
            "height": null,
            "justify_content": null,
            "justify_items": null,
            "left": null,
            "margin": null,
            "max_height": null,
            "max_width": null,
            "min_height": null,
            "min_width": null,
            "object_fit": null,
            "object_position": null,
            "order": null,
            "overflow": null,
            "overflow_x": null,
            "overflow_y": null,
            "padding": null,
            "right": null,
            "top": null,
            "visibility": null,
            "width": null
          }
        },
        "9865978066294cacb22cd5c2aeaae209": {
          "model_module": "@jupyter-widgets/controls",
          "model_name": "DescriptionStyleModel",
          "model_module_version": "1.5.0",
          "state": {
            "_model_module": "@jupyter-widgets/controls",
            "_model_module_version": "1.5.0",
            "_model_name": "DescriptionStyleModel",
            "_view_count": null,
            "_view_module": "@jupyter-widgets/base",
            "_view_module_version": "1.2.0",
            "_view_name": "StyleView",
            "description_width": ""
          }
        },
        "f037a6606bb145d598e1aa7ea76f73e4": {
          "model_module": "@jupyter-widgets/base",
          "model_name": "LayoutModel",
          "model_module_version": "1.2.0",
          "state": {
            "_model_module": "@jupyter-widgets/base",
            "_model_module_version": "1.2.0",
            "_model_name": "LayoutModel",
            "_view_count": null,
            "_view_module": "@jupyter-widgets/base",
            "_view_module_version": "1.2.0",
            "_view_name": "LayoutView",
            "align_content": null,
            "align_items": null,
            "align_self": null,
            "border": null,
            "bottom": null,
            "display": null,
            "flex": null,
            "flex_flow": null,
            "grid_area": null,
            "grid_auto_columns": null,
            "grid_auto_flow": null,
            "grid_auto_rows": null,
            "grid_column": null,
            "grid_gap": null,
            "grid_row": null,
            "grid_template_areas": null,
            "grid_template_columns": null,
            "grid_template_rows": null,
            "height": null,
            "justify_content": null,
            "justify_items": null,
            "left": null,
            "margin": null,
            "max_height": null,
            "max_width": null,
            "min_height": null,
            "min_width": null,
            "object_fit": null,
            "object_position": null,
            "order": null,
            "overflow": null,
            "overflow_x": null,
            "overflow_y": null,
            "padding": null,
            "right": null,
            "top": null,
            "visibility": null,
            "width": null
          }
        },
        "e3a01149c41d49d68214126a9206f134": {
          "model_module": "@jupyter-widgets/controls",
          "model_name": "ProgressStyleModel",
          "model_module_version": "1.5.0",
          "state": {
            "_model_module": "@jupyter-widgets/controls",
            "_model_module_version": "1.5.0",
            "_model_name": "ProgressStyleModel",
            "_view_count": null,
            "_view_module": "@jupyter-widgets/base",
            "_view_module_version": "1.2.0",
            "_view_name": "StyleView",
            "bar_color": null,
            "description_width": ""
          }
        },
        "f46e05777c0a4ec7b4c98ecd50092f7d": {
          "model_module": "@jupyter-widgets/base",
          "model_name": "LayoutModel",
          "model_module_version": "1.2.0",
          "state": {
            "_model_module": "@jupyter-widgets/base",
            "_model_module_version": "1.2.0",
            "_model_name": "LayoutModel",
            "_view_count": null,
            "_view_module": "@jupyter-widgets/base",
            "_view_module_version": "1.2.0",
            "_view_name": "LayoutView",
            "align_content": null,
            "align_items": null,
            "align_self": null,
            "border": null,
            "bottom": null,
            "display": null,
            "flex": null,
            "flex_flow": null,
            "grid_area": null,
            "grid_auto_columns": null,
            "grid_auto_flow": null,
            "grid_auto_rows": null,
            "grid_column": null,
            "grid_gap": null,
            "grid_row": null,
            "grid_template_areas": null,
            "grid_template_columns": null,
            "grid_template_rows": null,
            "height": null,
            "justify_content": null,
            "justify_items": null,
            "left": null,
            "margin": null,
            "max_height": null,
            "max_width": null,
            "min_height": null,
            "min_width": null,
            "object_fit": null,
            "object_position": null,
            "order": null,
            "overflow": null,
            "overflow_x": null,
            "overflow_y": null,
            "padding": null,
            "right": null,
            "top": null,
            "visibility": null,
            "width": null
          }
        },
        "f95f3bdc12024ab09cd590676650fa60": {
          "model_module": "@jupyter-widgets/controls",
          "model_name": "DescriptionStyleModel",
          "model_module_version": "1.5.0",
          "state": {
            "_model_module": "@jupyter-widgets/controls",
            "_model_module_version": "1.5.0",
            "_model_name": "DescriptionStyleModel",
            "_view_count": null,
            "_view_module": "@jupyter-widgets/base",
            "_view_module_version": "1.2.0",
            "_view_name": "StyleView",
            "description_width": ""
          }
        },
        "436f612045724de292fccbf836d2d4a8": {
          "model_module": "@jupyter-widgets/controls",
          "model_name": "HBoxModel",
          "model_module_version": "1.5.0",
          "state": {
            "_dom_classes": [],
            "_model_module": "@jupyter-widgets/controls",
            "_model_module_version": "1.5.0",
            "_model_name": "HBoxModel",
            "_view_count": null,
            "_view_module": "@jupyter-widgets/controls",
            "_view_module_version": "1.5.0",
            "_view_name": "HBoxView",
            "box_style": "",
            "children": [
              "IPY_MODEL_b9fd91513dce410f973777def6bd0541",
              "IPY_MODEL_259b0a6fd6414d7db0bc413cb2a3cf87",
              "IPY_MODEL_d40aad1c7a754fe4a5ee418e0636afd6"
            ],
            "layout": "IPY_MODEL_d4d4b96250004567936211210c395997"
          }
        },
        "b9fd91513dce410f973777def6bd0541": {
          "model_module": "@jupyter-widgets/controls",
          "model_name": "HTMLModel",
          "model_module_version": "1.5.0",
          "state": {
            "_dom_classes": [],
            "_model_module": "@jupyter-widgets/controls",
            "_model_module_version": "1.5.0",
            "_model_name": "HTMLModel",
            "_view_count": null,
            "_view_module": "@jupyter-widgets/controls",
            "_view_module_version": "1.5.0",
            "_view_name": "HTMLView",
            "description": "",
            "description_tooltip": null,
            "layout": "IPY_MODEL_2e5fbcb57087413db67f174d9719347a",
            "placeholder": "​",
            "style": "IPY_MODEL_0199f3bd199d4fc5be1b58bf7c6ce5ff",
            "value": "model.safetensors: 100%"
          }
        },
        "259b0a6fd6414d7db0bc413cb2a3cf87": {
          "model_module": "@jupyter-widgets/controls",
          "model_name": "FloatProgressModel",
          "model_module_version": "1.5.0",
          "state": {
            "_dom_classes": [],
            "_model_module": "@jupyter-widgets/controls",
            "_model_module_version": "1.5.0",
            "_model_name": "FloatProgressModel",
            "_view_count": null,
            "_view_module": "@jupyter-widgets/controls",
            "_view_module_version": "1.5.0",
            "_view_name": "ProgressView",
            "bar_style": "success",
            "description": "",
            "description_tooltip": null,
            "layout": "IPY_MODEL_c31fa1dc885e4854946a1e15170c9d03",
            "max": 440449768,
            "min": 0,
            "orientation": "horizontal",
            "style": "IPY_MODEL_444c265ba9ba4b899f386cf77c9499c2",
            "value": 440449768
          }
        },
        "d40aad1c7a754fe4a5ee418e0636afd6": {
          "model_module": "@jupyter-widgets/controls",
          "model_name": "HTMLModel",
          "model_module_version": "1.5.0",
          "state": {
            "_dom_classes": [],
            "_model_module": "@jupyter-widgets/controls",
            "_model_module_version": "1.5.0",
            "_model_name": "HTMLModel",
            "_view_count": null,
            "_view_module": "@jupyter-widgets/controls",
            "_view_module_version": "1.5.0",
            "_view_name": "HTMLView",
            "description": "",
            "description_tooltip": null,
            "layout": "IPY_MODEL_6540e251e2d14120914bb61928805b03",
            "placeholder": "​",
            "style": "IPY_MODEL_aa3f2227a109447493a73514d8653a18",
            "value": " 440M/440M [00:06&lt;00:00, 93.0MB/s]"
          }
        },
        "d4d4b96250004567936211210c395997": {
          "model_module": "@jupyter-widgets/base",
          "model_name": "LayoutModel",
          "model_module_version": "1.2.0",
          "state": {
            "_model_module": "@jupyter-widgets/base",
            "_model_module_version": "1.2.0",
            "_model_name": "LayoutModel",
            "_view_count": null,
            "_view_module": "@jupyter-widgets/base",
            "_view_module_version": "1.2.0",
            "_view_name": "LayoutView",
            "align_content": null,
            "align_items": null,
            "align_self": null,
            "border": null,
            "bottom": null,
            "display": null,
            "flex": null,
            "flex_flow": null,
            "grid_area": null,
            "grid_auto_columns": null,
            "grid_auto_flow": null,
            "grid_auto_rows": null,
            "grid_column": null,
            "grid_gap": null,
            "grid_row": null,
            "grid_template_areas": null,
            "grid_template_columns": null,
            "grid_template_rows": null,
            "height": null,
            "justify_content": null,
            "justify_items": null,
            "left": null,
            "margin": null,
            "max_height": null,
            "max_width": null,
            "min_height": null,
            "min_width": null,
            "object_fit": null,
            "object_position": null,
            "order": null,
            "overflow": null,
            "overflow_x": null,
            "overflow_y": null,
            "padding": null,
            "right": null,
            "top": null,
            "visibility": null,
            "width": null
          }
        },
        "2e5fbcb57087413db67f174d9719347a": {
          "model_module": "@jupyter-widgets/base",
          "model_name": "LayoutModel",
          "model_module_version": "1.2.0",
          "state": {
            "_model_module": "@jupyter-widgets/base",
            "_model_module_version": "1.2.0",
            "_model_name": "LayoutModel",
            "_view_count": null,
            "_view_module": "@jupyter-widgets/base",
            "_view_module_version": "1.2.0",
            "_view_name": "LayoutView",
            "align_content": null,
            "align_items": null,
            "align_self": null,
            "border": null,
            "bottom": null,
            "display": null,
            "flex": null,
            "flex_flow": null,
            "grid_area": null,
            "grid_auto_columns": null,
            "grid_auto_flow": null,
            "grid_auto_rows": null,
            "grid_column": null,
            "grid_gap": null,
            "grid_row": null,
            "grid_template_areas": null,
            "grid_template_columns": null,
            "grid_template_rows": null,
            "height": null,
            "justify_content": null,
            "justify_items": null,
            "left": null,
            "margin": null,
            "max_height": null,
            "max_width": null,
            "min_height": null,
            "min_width": null,
            "object_fit": null,
            "object_position": null,
            "order": null,
            "overflow": null,
            "overflow_x": null,
            "overflow_y": null,
            "padding": null,
            "right": null,
            "top": null,
            "visibility": null,
            "width": null
          }
        },
        "0199f3bd199d4fc5be1b58bf7c6ce5ff": {
          "model_module": "@jupyter-widgets/controls",
          "model_name": "DescriptionStyleModel",
          "model_module_version": "1.5.0",
          "state": {
            "_model_module": "@jupyter-widgets/controls",
            "_model_module_version": "1.5.0",
            "_model_name": "DescriptionStyleModel",
            "_view_count": null,
            "_view_module": "@jupyter-widgets/base",
            "_view_module_version": "1.2.0",
            "_view_name": "StyleView",
            "description_width": ""
          }
        },
        "c31fa1dc885e4854946a1e15170c9d03": {
          "model_module": "@jupyter-widgets/base",
          "model_name": "LayoutModel",
          "model_module_version": "1.2.0",
          "state": {
            "_model_module": "@jupyter-widgets/base",
            "_model_module_version": "1.2.0",
            "_model_name": "LayoutModel",
            "_view_count": null,
            "_view_module": "@jupyter-widgets/base",
            "_view_module_version": "1.2.0",
            "_view_name": "LayoutView",
            "align_content": null,
            "align_items": null,
            "align_self": null,
            "border": null,
            "bottom": null,
            "display": null,
            "flex": null,
            "flex_flow": null,
            "grid_area": null,
            "grid_auto_columns": null,
            "grid_auto_flow": null,
            "grid_auto_rows": null,
            "grid_column": null,
            "grid_gap": null,
            "grid_row": null,
            "grid_template_areas": null,
            "grid_template_columns": null,
            "grid_template_rows": null,
            "height": null,
            "justify_content": null,
            "justify_items": null,
            "left": null,
            "margin": null,
            "max_height": null,
            "max_width": null,
            "min_height": null,
            "min_width": null,
            "object_fit": null,
            "object_position": null,
            "order": null,
            "overflow": null,
            "overflow_x": null,
            "overflow_y": null,
            "padding": null,
            "right": null,
            "top": null,
            "visibility": null,
            "width": null
          }
        },
        "444c265ba9ba4b899f386cf77c9499c2": {
          "model_module": "@jupyter-widgets/controls",
          "model_name": "ProgressStyleModel",
          "model_module_version": "1.5.0",
          "state": {
            "_model_module": "@jupyter-widgets/controls",
            "_model_module_version": "1.5.0",
            "_model_name": "ProgressStyleModel",
            "_view_count": null,
            "_view_module": "@jupyter-widgets/base",
            "_view_module_version": "1.2.0",
            "_view_name": "StyleView",
            "bar_color": null,
            "description_width": ""
          }
        },
        "6540e251e2d14120914bb61928805b03": {
          "model_module": "@jupyter-widgets/base",
          "model_name": "LayoutModel",
          "model_module_version": "1.2.0",
          "state": {
            "_model_module": "@jupyter-widgets/base",
            "_model_module_version": "1.2.0",
            "_model_name": "LayoutModel",
            "_view_count": null,
            "_view_module": "@jupyter-widgets/base",
            "_view_module_version": "1.2.0",
            "_view_name": "LayoutView",
            "align_content": null,
            "align_items": null,
            "align_self": null,
            "border": null,
            "bottom": null,
            "display": null,
            "flex": null,
            "flex_flow": null,
            "grid_area": null,
            "grid_auto_columns": null,
            "grid_auto_flow": null,
            "grid_auto_rows": null,
            "grid_column": null,
            "grid_gap": null,
            "grid_row": null,
            "grid_template_areas": null,
            "grid_template_columns": null,
            "grid_template_rows": null,
            "height": null,
            "justify_content": null,
            "justify_items": null,
            "left": null,
            "margin": null,
            "max_height": null,
            "max_width": null,
            "min_height": null,
            "min_width": null,
            "object_fit": null,
            "object_position": null,
            "order": null,
            "overflow": null,
            "overflow_x": null,
            "overflow_y": null,
            "padding": null,
            "right": null,
            "top": null,
            "visibility": null,
            "width": null
          }
        },
        "aa3f2227a109447493a73514d8653a18": {
          "model_module": "@jupyter-widgets/controls",
          "model_name": "DescriptionStyleModel",
          "model_module_version": "1.5.0",
          "state": {
            "_model_module": "@jupyter-widgets/controls",
            "_model_module_version": "1.5.0",
            "_model_name": "DescriptionStyleModel",
            "_view_count": null,
            "_view_module": "@jupyter-widgets/base",
            "_view_module_version": "1.2.0",
            "_view_name": "StyleView",
            "description_width": ""
          }
        }
      }
    }
  },
  "nbformat": 4,
  "nbformat_minor": 0
}
