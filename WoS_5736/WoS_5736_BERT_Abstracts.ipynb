{
  "cells": [
    {
      "cell_type": "code",
      "execution_count": 1,
      "metadata": {
        "colab": {
          "base_uri": "https://localhost:8080/"
        },
        "id": "Va5ItHiVWXUG",
        "outputId": "f152316b-ca38-46a1-a624-381de67e27dc"
      },
      "outputs": [
        {
          "output_type": "stream",
          "name": "stdout",
          "text": [
            "Mon Jul 29 21:16:09 2024       \n",
            "+---------------------------------------------------------------------------------------+\n",
            "| NVIDIA-SMI 535.104.05             Driver Version: 535.104.05   CUDA Version: 12.2     |\n",
            "|-----------------------------------------+----------------------+----------------------+\n",
            "| GPU  Name                 Persistence-M | Bus-Id        Disp.A | Volatile Uncorr. ECC |\n",
            "| Fan  Temp   Perf          Pwr:Usage/Cap |         Memory-Usage | GPU-Util  Compute M. |\n",
            "|                                         |                      |               MIG M. |\n",
            "|=========================================+======================+======================|\n",
            "|   0  Tesla T4                       Off | 00000000:00:04.0 Off |                    0 |\n",
            "| N/A   38C    P8              10W /  70W |      0MiB / 15360MiB |      0%      Default |\n",
            "|                                         |                      |                  N/A |\n",
            "+-----------------------------------------+----------------------+----------------------+\n",
            "                                                                                         \n",
            "+---------------------------------------------------------------------------------------+\n",
            "| Processes:                                                                            |\n",
            "|  GPU   GI   CI        PID   Type   Process name                            GPU Memory |\n",
            "|        ID   ID                                                             Usage      |\n",
            "|=======================================================================================|\n",
            "|  No running processes found                                                           |\n",
            "+---------------------------------------------------------------------------------------+\n"
          ]
        }
      ],
      "source": [
        "gpu_info = !nvidia-smi\n",
        "gpu_info = '\\n'.join(gpu_info)\n",
        "if gpu_info.find('failed') >= 0:\n",
        "  print('Not connected to a GPU')\n",
        "else:\n",
        "  print(gpu_info)"
      ]
    },
    {
      "cell_type": "code",
      "execution_count": 2,
      "metadata": {
        "colab": {
          "base_uri": "https://localhost:8080/"
        },
        "id": "6PAN1HD9WXUH",
        "outputId": "1dff3da2-0cbc-4eab-97ec-92bc8fc3c739"
      },
      "outputs": [
        {
          "output_type": "stream",
          "name": "stdout",
          "text": [
            "Your runtime has 13.6 gigabytes of available RAM\n",
            "\n",
            "Not using a high-RAM runtime\n"
          ]
        }
      ],
      "source": [
        "from psutil import virtual_memory\n",
        "ram_gb = virtual_memory().total / 1e9\n",
        "print('Your runtime has {:.1f} gigabytes of available RAM\\n'.format(ram_gb))\n",
        "\n",
        "if ram_gb < 20:\n",
        "  print('Not using a high-RAM runtime')\n",
        "else:\n",
        "  print('You are using a high-RAM runtime!')"
      ]
    },
    {
      "cell_type": "code",
      "execution_count": 3,
      "metadata": {
        "colab": {
          "base_uri": "https://localhost:8080/"
        },
        "id": "M7k7VLmJWXUH",
        "outputId": "1d8c484c-ffd1-45c1-e216-6eeb6f550572"
      },
      "outputs": [
        {
          "output_type": "stream",
          "name": "stdout",
          "text": [
            "Mounted at /content/drive\n"
          ]
        }
      ],
      "source": [
        "from google.colab import drive\n",
        "drive.mount('/content/drive')"
      ]
    },
    {
      "cell_type": "code",
      "execution_count": 4,
      "metadata": {
        "colab": {
          "base_uri": "https://localhost:8080/"
        },
        "id": "SqnIUcZCWXUI",
        "outputId": "893c2753-74db-481c-e9ac-0cbdeec30603"
      },
      "outputs": [
        {
          "output_type": "stream",
          "name": "stdout",
          "text": [
            "Requirement already satisfied: transformers in /usr/local/lib/python3.10/dist-packages (4.42.4)\n",
            "Requirement already satisfied: filelock in /usr/local/lib/python3.10/dist-packages (from transformers) (3.15.4)\n",
            "Requirement already satisfied: huggingface-hub<1.0,>=0.23.2 in /usr/local/lib/python3.10/dist-packages (from transformers) (0.23.5)\n",
            "Requirement already satisfied: numpy<2.0,>=1.17 in /usr/local/lib/python3.10/dist-packages (from transformers) (1.26.4)\n",
            "Requirement already satisfied: packaging>=20.0 in /usr/local/lib/python3.10/dist-packages (from transformers) (24.1)\n",
            "Requirement already satisfied: pyyaml>=5.1 in /usr/local/lib/python3.10/dist-packages (from transformers) (6.0.1)\n",
            "Requirement already satisfied: regex!=2019.12.17 in /usr/local/lib/python3.10/dist-packages (from transformers) (2024.5.15)\n",
            "Requirement already satisfied: requests in /usr/local/lib/python3.10/dist-packages (from transformers) (2.31.0)\n",
            "Requirement already satisfied: safetensors>=0.4.1 in /usr/local/lib/python3.10/dist-packages (from transformers) (0.4.3)\n",
            "Requirement already satisfied: tokenizers<0.20,>=0.19 in /usr/local/lib/python3.10/dist-packages (from transformers) (0.19.1)\n",
            "Requirement already satisfied: tqdm>=4.27 in /usr/local/lib/python3.10/dist-packages (from transformers) (4.66.4)\n",
            "Requirement already satisfied: fsspec>=2023.5.0 in /usr/local/lib/python3.10/dist-packages (from huggingface-hub<1.0,>=0.23.2->transformers) (2024.6.1)\n",
            "Requirement already satisfied: typing-extensions>=3.7.4.3 in /usr/local/lib/python3.10/dist-packages (from huggingface-hub<1.0,>=0.23.2->transformers) (4.12.2)\n",
            "Requirement already satisfied: charset-normalizer<4,>=2 in /usr/local/lib/python3.10/dist-packages (from requests->transformers) (3.3.2)\n",
            "Requirement already satisfied: idna<4,>=2.5 in /usr/local/lib/python3.10/dist-packages (from requests->transformers) (3.7)\n",
            "Requirement already satisfied: urllib3<3,>=1.21.1 in /usr/local/lib/python3.10/dist-packages (from requests->transformers) (2.0.7)\n",
            "Requirement already satisfied: certifi>=2017.4.17 in /usr/local/lib/python3.10/dist-packages (from requests->transformers) (2024.7.4)\n"
          ]
        }
      ],
      "source": [
        "!pip install transformers"
      ]
    },
    {
      "cell_type": "code",
      "execution_count": 5,
      "metadata": {
        "id": "WhVPx8QYWXUI"
      },
      "outputs": [],
      "source": [
        "import os\n",
        "import numpy as np\n",
        "import pandas as pd\n",
        "from sklearn.model_selection import train_test_split\n",
        "from sklearn.metrics import confusion_matrix, classification_report, f1_score, precision_score, recall_score\n",
        "from transformers import AutoTokenizer, AutoModelForSequenceClassification, AdamW, get_linear_schedule_with_warmup\n",
        "import torch\n",
        "from torch.utils.data import DataLoader, TensorDataset, RandomSampler, SequentialSampler\n",
        "import torch.nn.functional as F\n",
        "from tqdm import trange, tqdm\n",
        "import matplotlib.pyplot as plt\n",
        "import sklearn.utils\n",
        "import time\n",
        "import re\n"
      ]
    },
    {
      "cell_type": "code",
      "execution_count": 6,
      "metadata": {
        "colab": {
          "base_uri": "https://localhost:8080/"
        },
        "id": "3oFtbbtBWXUI",
        "outputId": "511d4523-143c-4b21-c18a-f68deb80ffd2"
      },
      "outputs": [
        {
          "output_type": "stream",
          "name": "stdout",
          "text": [
            "(5736, 4)\n"
          ]
        }
      ],
      "source": [
        "# Retrive the data from stored dataset\n",
        "dataDir = \"/content/drive/MyDrive/WoS/data\"\n",
        "tsvData = os.path.join(dataDir,\"WoSDataset_5736.tsv\")\n",
        "\n",
        "tsvData = np.loadtxt(tsvData, dtype=str, delimiter=\"\\t\")\n",
        "print(np.shape(tsvData))"
      ]
    },
    {
      "cell_type": "code",
      "execution_count": 7,
      "metadata": {
        "colab": {
          "base_uri": "https://localhost:8080/"
        },
        "id": "5xw9-_jdWXUI",
        "outputId": "d4d0f59e-851e-4af6-cce8-f699bde126ed"
      },
      "outputs": [
        {
          "output_type": "stream",
          "name": "stdout",
          "text": [
            "[['2' 'biochemistry'\n",
            "  ' candidatus phytoplasma    16s rrna biosecurity taxonomy biodiversity vector seed transmission host range       '\n",
            "  'phytoplasmas are insectvectored bacteria that cause disease in a wide range of plant species the increasing availability of molecular dna analyses expertise and additional methods in recent years has led to a proliferation of discoveries of phytoplasmaplant host associations and in the numbers of taxonomic groupings for phytoplasmas the widespread use of common names based on the diseases with which they are associated as well as separate phenetic and taxonomic systems for classifying phytoplasmas based on variation at the 16s rrnaencoding gene complicates interpretation of the literature we explore this issue and related trends through a focus on australian pathosystems providing the first comprehensive compilation of information for this continent covering the phytoplasmas host plants vectors and diseases of the 33 16sr groups reported internationally only groups i ii iii x xi and xii have been recorded in australia and this highlights the need for ongoing biosecurity measures to prevent the introduction of additional pathogen groups many of the phytoplasmas reported in australia have not been sufficiently well studied to assign them to 16sr groups so it is likely that unrecognized groups and subgroups are present wide host plant ranges are apparent among well studied phytoplasmas with multiple crop and noncrop species infected by some disease management is further complicated by the fact that putative vectors have been identified for few phytoplasmas especially in australia despite rapid progress in recent years using molecular approaches phytoplasmas remain the least well studied group of plant pathogens making them a crouching tiger disease threat']\n",
            " ['2' 'biochemistry'\n",
            "  ' alphabisabolol alphabisabolol synthase mevalonate pathway farnesyl diphosphate synthase in situ extraction vegetable oils escherichia coli        '\n",
            "  'background alphabisabolol also known as levomenol is an unsaturated sesquiterpene alcohol that has mainly been used in pharmaceutical and cosmetic products due to its antiinflammatory and skinsoothing properties alphabisabolol is currently manufactured mainly by steamdistillation of the essential oils extracted from the brazilian candeia tree that is under threat because its natural habitat is constantly shrinking therefore microbial production of alphabisabolol plays a key role in the development of its sustainable production from renewable feedstock results here we created an escherichia coli strain producing alphabisabolol at high titer and developed an in situ extraction method of alphabisabolol using natural vegetable oils we expressed a recently identified alphabisabolol synthase isolated from german chamomile matricaria recutita titer 3 mgl converted the acetylcoa to mevalonate using the biosynthetic mevalonate pathway 128 mgl and overexpressed farnesyl diphosphate synthase to efficiently supply the alphabisabolol precursor farnesyl diphosphate combinatorial expression of the exogenous mevalonate pathway and farnesyl diphosphate synthase enabled a dramatic increase in alphabisabolol production in the shake flask culture 80 mgl and 5 l bioreactor culture 342 mgl of engineered e coli harboring alphabisabolol synthase fedbatch fermentation using a 50 l fermenter was conducted after optimizing culture conditions resulting in efficient alphabisabolol production with a titer of 91 gl moreover a green downstream extraction process using vegetable oils was developed for in situ extraction of alphabisabolol during fermentation and showed high yield recovery 98 conclusions the engineered e coli strains and economically viable extraction process developed in this study will serve as promising platforms for further development of microbial production of alphabisabolol at large scale']\n",
            " ['2' 'biochemistry'\n",
            "  ' rna virus cirv yeast programmed cell death acetic acid        '\n",
            "  'a universal feature of the replication of positivestrand rna viruses is the association with intracellular membranes carnation italian ringspot virus cirv replication in plants occurs in vesicles derived from the mitochondrial outer membrane the product encoded by cirv orf1 p36 is required for targeting the virus replication complex to the outer mitochondrial membrane both in plant and yeast cells here the yeast saccharomyces cerevisiae was used as a model host to study the effect of cirv p36 on cell survival and death it was shown that p36 does not promote cell death but decreases cell growth rate in addition p36 changed the nature of acetic acidinduced cell death in yeast by increasing the number of cells dying by necrosis with concomitant decrease of the number of cells dying by programmed cell death as judged by measurements of phosphatidylserine externalization the tight association of p36 to membranes was not affected by acetic acid treatment thus confirming the peculiar and independent interaction of cirv p36 with mitochondria in yeast this work proved yeast as an invaluable model organism to study both the mitochondrial determinants of the type of cell death in response to stress and the molecular pathogenesis of rna viruses c 2016 elsevier ireland ltd all rights reserved']\n",
            " ['2' 'biochemistry'\n",
            "  ' 1 2dicloropropane dichloromethane gpt delta rat in vivo mutagenicity liver        '\n",
            "  '12dichloropropane 12dcp and dichloromethane dcm are possible causative agents associated with the development of cholangiocarcinoma in employees working in printing plant in osaka japan however few reports have demonstrated an association between these agents and cholangiocarcinoma in rodent carcinogenicity studies moreover the combined effects of these compounds have not been fully elucidated in the present study we evaluated the in vivo mutagenicity of 12dcp and dcm alone or combined in the livers of gpt delta rats sixweekold male f344 gpt delta rats were treated with 12dcp dcm or 12dcpdcm by oral administration for 4weeks at the dose 200mgkg1 body weight 12dcp and 500mgkg1 body weight dcm used in the carcinogenesis study performed by the national toxicology program in vivo mutagenicity was analyzed by gpt mutationspi assays in the livers of rats in addition gene and protein expression of cyp2e1 and gstt1 the major enzymes responsible for the genotoxic effects of 12dcp and dcm were analyzed by quantitative polymerase chain reaction and western blotting gpt and spi mutation frequencies were not increased by 12dcp andor dcm in any group additionally there were no significant changes in the gene and protein expression of cyp2e1 and gstt1 in any group these results indicated that 12dcp dcm and 12dcpdcm had no significant impact on mutagenicity in the livers of gpt delta rats under our experimental conditions copyright c 2016 john wiley  sons ltd']\n",
            " ['0' 'ECE' ' 130 nm cmos pa programmable pa 24 ghz pa        '\n",
            "  'this paper presents the simulation results of a linear fully integrated twostage digitally programmable 130 nm cmos power amplifier pa operating at 24 ghz its power stage is composed of a set of amplifying cells which can be enabled or disabled independently by a digital control circuit all seven operational modes are univocal in terms of 1 db output compression point ocp1db saturated output power psat and power gain at 24 ghz the lowest power mode achieves an 81 dbm psat a 135 db power gain and consumes 171 mw dc power pdc at an ocp1db of 6 dbm whereas the highest power mode reaches an 189 dbm psat and a 211 db power gain and consumes 415 mw pdc at an ocp1db of 182 dbm']\n",
            " ['2' 'biochemistry'\n",
            "  ' 14alphaglucan branching enzyme hispatch thioredoxin geobacillus sp glycogen branching enzyme genome mining        '\n",
            "  'the glycogen branching enzyme ec 24118 which catalyses the formation of alpha16glycosidic branch points in glycogen structure is often used to enhance the nutritional value and quality of food and beverages in order to be applicable in industries enzymes that are stable and active at high temperature are much desired using genome mining the nucleotide sequence of the branching enzyme gene glgb was extracted from the geobacillus mahadia geo05 genome sequence provided by the malaysia genome institute the size of the gene is 2013 bp and the theoretical molecular weight of the protein is 7843 kda the gene sequence was then used to predict the thermostability function and the three dimensional structure of the enzyme the gene was cloned and overexpressed in e coli to verify the predicted result experimentally the purified enzyme was used to study the effect of temperature and ph on enzyme activity and stability and the inhibitory effect by metal ion on enzyme activity this thermostable glycogen branching enzyme was found to be most active at 55 degrees c and the halflife at 60 degrees c and 70 degrees c was 24 h and 5 h respectively from this research a thermostable glycogen branching enzyme was successfully isolated from geobacillus mahadia geo05 by genome mining together with molecular biology technique']\n",
            " ['2' 'biochemistry'\n",
            "  ' 16s rrna amplicon sequencing activated sludge bacterial populations molecular biology        '\n",
            "  'the microbial populations in the activated sludge of two polish wastewater treatment plants wwtps were identified and quantified using illumina sequencing of 16s ribosomal rna amplicons over a 2year period their dynamics over time were compared to danish wwtps data collected in previous studies by center for microbial communities aalborg university the bacterial communities in polish and danish wwtps were similar to each other but the microbial diversity in polish wwtps was lower the dominant genera in polish wwtps were more abundant than in danish wwtps 30 of them constituted more than half the of activated sludge community polish wwtps showed a higher abundance of bacteria involved in nitrogen and chemical oxygen demand removal proteobacteria and bacteroidetes while polyphosphateacculumating bacteria were the dominant bacterial group in danish plants the microbial community structures in the examined polish wwtps were relatively similar to each other and showed strong seasonal variations which are not normally observed in danish wwtps']\n",
            " ['2' 'biochemistry'\n",
            "  ' 16s 16s rrna utility bacterial infections cost analysis        '\n",
            "  'background broadrange 16s rrna pcr can be used for the detection and identification of bacteria from clinical specimens in patients for whom there is a high suspicion of infection and cultures are negative the aims of this study were 1 to compare 16s rrna pcr results with microbiolog ical culture results 2 to assess the utility of 16s rrna pcr with regard to antimicrobial therapy and 3 to compare the yield of 16s rrna pcr for different types of clinical specimen and to perform a cost analysis of the test methods a retrospective study was performed on different clinical specimens which had 16s performed over 3 years 20122015 standard microbiological cultures were performed on appropriate media as per the laboratory protocol patient clinical and microbiological data were obtained from the electronic medical records and laboratory information system respectively 16s rrna pcr was performed in a reference laboratory using a validated method for amplification and sequencing the outcomes assessed were the performance of 16s rrna pcr change of antimicrobials rationalization cessation or addition and duration of therapy concordance of 16s rrna pcr with bacterial cultures was also determined for tissue specimens results thirtytwo patients were included in the study for whom an equal number of specimens n  32 were sent for 16s rrna pcr 16s rrna pcr could identify an organism in 10 of 32 cases 312 of which seven were culturepositive and three were culturenegative the sensitivity was 58 confidence interval ci 2859835 and specificity was 85 ci 611396 with a positive predictive value of 70 ci 353919 and negative predictive value of 772 ci 5417913 antimicrobial therapy was rationalized after 16s rrna pcr results in five patients 156 and was ceased in four based on negative results 125 overall the 16s rrna pcr result had an impact on antimicrobial therapy in 28 of patients 932 the highest concordance of 16s rrna pcr with bacterial culture was found for heart valve tissue 80 followed by joint fluidtissue 50 conclusions despite the low diagnostic yield results of 16s rrna pcr can still have a significant impact on patient management due to rationalization or cessation of the antimicrobial therapy the yield of 16s rrna pcr was highest for heart valves c 2017 the authors published by elsevier ltd on behalf of international society for infectious diseases']\n",
            " ['2' 'biochemistry'\n",
            "  ' 16sriid subgroup 16srvid subgroup phytoplasma hishimonas phycitis cannabis sativa subsp sativa portulaca oleracea        '\n",
            "  'brinjal little leaf bll is a widespread disease of phytoplasma etiology in india that induces severe economic losses surveys were conducted in eight brinjalgrowing states of india during july 2014 to september 2015 and eighteen bll samples showing little leaf phyllody and witches broom symptoms were collected for phytoplasma identification presence of phytoplasmas was confirmed in all the eighteen bll samples using polymerase chain reaction with phytoplasmaspecific primer pairs p1p6 r16f2nr16r2 pair wise sequence comparison and phylogenetic relationship of 16s rrna gene sequences of bll phytoplasma strains confirmed that sixteen out of eighteen bll strains belonged to clover proliferation phytoplasma 16srvi group and two bll strains gkpa and gkpb from gorakhpur uttar pradesh were classified under 16srii group further virtual rflp analysis of 16s rdna sequences allowed finer classification of bll strains into 16sriid and 16srvid subgroups bll phytoplasma strains belonging to 16srvid subgroup were found as the most widespread phytoplasma strains associated with bll disease in india 16srvid subgroup phytoplasma association with two symptomatic weed species viz cannabis sativa subsp sativa at noida uttar pradesh and portulaca oleracea at iari fields new delhi was also confirmed by nested pcr assays with similar set of phytoplasmaspecific primers pairwise 16s rdna sequence comparison phylogeny and virtual rflp analysis out of five identified leafhopper species from bllinfected fields at noida uttar pradesh and delhi only hishimonas phycitis was identified as carrier and natural vector of 16srvid subgroup of phytoplasmas by nested pcr assays sequence comparison phylogeny virtual rflp analysis and transmission assays']\n",
            " ['2' 'biochemistry'\n",
            "  ' 16srxxiib phytoplasma candidatus phytoplasma palmicola coconut palm cocos nucifera lethal yellowing pcrrflp phylogeny ribosomal protein gene seca gene        '\n",
            "  'surveys for the cote divoire lethal yellowing cily phytoplasma were conducted in eight severely cilyaffected villages of grandlahou in 2015 leaves inflorescences and trunk borings were collected from coconut palms showing cily symptoms and from symptomless trees total dna was extracted from these samples and tested by nested polymerase chain reactionrflp and sequence analysis of the 16s rrna ribosomal protein rp and the translocation protein seca genes the cily phytoplasma was detected in 829 of the symptombearing palms collected from all the surveyed villages and from all the plant parts trunk borings were recommended as the most suitable plant tissue type for sampling results indicate that the cily phytoplasma may have a westward spread to other coconutgrowing areas of grandlahou cily phytoplasma strains infecting coconut palms in the western region of grandlahou exhibited unique single nucleotide polymorphisms on the rp sequence compared to the strains from the eastern region moreover single nucleotide polymorphisms on the seca sequence distinguished the cily phytoplasma from the cape st paul wilt disease phytoplasma in ghana and the lethal yellowing phytoplasma in mozambique']\n",
            " ['2' 'biochemistry'\n",
            "  ' 18s qsmrt quantitative ribosomal ross sea sequencing silicoflagellate smrt        '\n",
            "  'advances in sequencing technologies continue to provide unprecedented opportunities to characterize microbial communities for example the pacific biosciences single molecule realtime smrt platform has emerged as a unique approach harnessing dna polymerase activity to sequence template molecules enabling long reads at low costs with the aim to simultaneously classify and enumerate in situ microbial populations we developed a quantitative smrt qsmrt approach that involves the addition of exogenous standards to quantify ribosomal amplicons derived from environmental samples the v79 regions of 18s ssu rdna were targeted and quantified from protistan community samples collected in the ross sea during the austral summer of 2011 we used three standards of different length and optimized conditions to obtain accurate quantitative retrieval across the range of expected amplicon sizes a necessary criterion for analyzing taxonomically diverse 18s rdna molecules from natural environments the ability to concurrently identify and quantify microorganisms in their natural environment makes qsmrt a powerful rapid and costeffective approach for defining ecosystem diversity and function c 2017 elsevier bv all rights reserved']\n",
            " ['2' 'biochemistry'\n",
            "  ' 1a6drim utp20 18s rrna processing u3 snorna        '\n",
            "  '1a6drim is a nucleolar protein with a nucleolar targeting sequence in its 3terminus bioinformatic analysis indicated that human 1a6 drim shares 23 identity and 43 similarity with yeast utp20 which has been reported as a component of u3 snorna protein complex and has been implicated in 18s rrna processing in the present study we found by utilizing rtpcr with rna extracted from anti1a6drim inummoprecipitates and northern blotting that 1a6drim is associated with u3 snorna pulsechase labeling assays showed that silencing of 1a6drim expression in hela cells resulted in a delayed 18s rrna processing furthermore immunoprecipitations revealed that 1a6drim was also associated with fibrillarin another u3 rnp component in hela cells these results indicate that 1a6drim is involved in 18s rrna processing and is the bona fide mammalian utp20 c 2007 elsevier bv all rights reserved']\n",
            " ['1' 'Psychology'\n",
            "  ' 22q112 deletion syndrome face recognition negative performance belief negative symptom        '\n",
            "  'aims 22q112 deletion syndrome 22q112ds is a neurogenetic condition associated with an increased risk of developing schizophrenia previous studies have shown that negative symptoms represent the most specific clinical characteristic of psychosis in 22q112ds and are strongly associated with outcome however the psychological mechanisms associated with these symptoms in this population are poorly understood in accordance with recent conceptualizations in the field of schizophrenia the present study aims at investigating whether negative symptoms are associated with the presence of negative performance beliefs and cognitive deficits methods thirtyfive participants with 22q112ds and 24 typically developing individuals aged between 11 and 24 years were included in the study selfreported schizotypal symptoms cognitiveperceptual paranoid negative and disorganization symptoms and dysfunctional beliefs negative performance beliefs and need for approval were assessed measures of processing speed verbal memory working memory executive functioning and face recognitionwere also extracted from a broad cognitive evaluation protocol results adolescents with 22q112ds reported significantly higher score on the negative dimension of the schizotypal personality questionnaire than controls even when controlling for the influence of anxietydepression and intellectual functioning negative and paranoid symptoms were associated with the severity of negative performance beliefs and lower face recognition abilities mediation analyses revealed that negative performance beliefs significantly mediated the association between face recognition and negativeparanoid symptoms conclusions these findings suggest that negative performance beliefs and basic social cognitive mechanisms are associated with negative and paranoid symptoms in individuals with 22q112ds implications for intervention are discussed in this article']\n",
            " ['1' 'Psychology'\n",
            "  ' 22q112 deletion syndrome social brain network social cognition twotensor tractography white matter tracts        '\n",
            "  'background chromosome 22q112 deletion syndrome 22q112ds is a neurogenetic disorder that is associated with a 25fold increase in schizophrenia both individuals with 22q112ds and those with schizophrenia present with social cognitive deficits which are putatively subserved by a network of brain regions that are involved in the processing of social cognitive information this study used twotensor tractography to examine the white matter tracts believed to underlie the social brain network in a group of 57 young adults with 22q112ds compared to 30 unaffected controls results results indicated that relative to controls participants with 22q112ds showed significant differences in several dti metrics within the inferior frontooccipital fasciculus cingulum bundle thalamofrontal tract and inferior longitudinal fasciculus in addition participants with 22q112ds showed significant differences in scores on measures of social cognition including the social responsiveness scale and trait emotional intelligence questionnaire further analyses among individuals with 22q112ds demonstrated an association between dti metrics and positive and negative symptoms of psychosis as well as differentiation between individuals with 22q112ds and overt psychosis relative to those with positive prodromal symptoms or no psychosis conclusions findings suggest that white matter disruption specifically disrupted axonal coherence in the right inferior frontooccipital fasciculus may be a biomarker for social cognitive difficulties and psychosis in individuals with 22q112ds']\n",
            " ['2' 'biochemistry'\n",
            "  ' 22q121 tetratricopeptide repeat tpr centrosome aurora kinase b cell division midbody        '\n",
            "  'through the comprehensive analysis of the genomic dna sequence of human chromosome 22 we identified a novel gene of 702 kb encoding a big protein of 2481 amino acid residues and named it as tprbk tpr containing big gene cloned at keio a novel protein tprbk possesses 25 units of the tpr motif which has been known to associate with a diverse range of biological functions orthologous genes of human tprbk were found widely in animal species from insecta to mammal but not found in plants fungi and nematoda northern blotting and rtpcr analyses revealed that tprbk gene is expressed ubiquitously in the human and mouse fetal tissues and various cell lines of human monkey and mouse lmmunofluorescent staining of the synchronized monkey cos7 cells with several relevant antibodies indicated that tprbk changes its subcellular localization during the cell cycle at interphase tprbk locates on the centrosomes during mitosis it translocates from spindle poles to mitotic spindles then to spindle midzone and through a period of cytokinesis it stays on the midbody coimmunoprecipitation assay and immunofluorescent staining with adequate antibodies revealed that tprbk binds to aurora b and those proteins together translocate throughout mitosis and cytokinesis treatments of cells with two drugs blebbistatin and y27632 that are known to inhibit the contractility of actinmyosin disturbed the proper intracellular localization of tprbk moreover the knockdown of tprbk expression by small interfering rna sirna suppressed the bundling of spindle midzone microtubules and disrupted the midbody formation arresting the cells at g2  m phase these observations indicated that a novel big protein tprbk is essential for the formation and integrity of the midbody hence we postulated that tprbk plays a critical role in the progress of mitosis and cytokinesis during mammalian cell cycle c 2012 elsevier bv all rights reserved']]\n"
          ]
        }
      ],
      "source": [
        "print(tsvData[0:15])"
      ]
    },
    {
      "cell_type": "code",
      "execution_count": 8,
      "metadata": {
        "id": "eMlvUSrlWXUI"
      },
      "outputs": [],
      "source": [
        "allLabels = tsvData[:,0]\n",
        "domains = tsvData[:,1]\n",
        "keywords = tsvData[:,2]\n",
        "abstracts = tsvData[:,3]"
      ]
    },
    {
      "cell_type": "code",
      "execution_count": 9,
      "metadata": {
        "colab": {
          "base_uri": "https://localhost:8080/"
        },
        "id": "I5ukmXOvWXUI",
        "outputId": "b3125c96-7a27-4a20-89c4-bed43814b071"
      },
      "outputs": [
        {
          "output_type": "stream",
          "name": "stdout",
          "text": [
            "Labels  ['ECE' 'Psychology' 'biochemistry']\n",
            "Label counts  [1292 1597 2847]\n"
          ]
        }
      ],
      "source": [
        "labels = np.unique(domains, return_counts=True)[0]\n",
        "labelCounts=  np.unique(domains, return_counts=True)[1]\n",
        "\n",
        "print(\"Labels \", labels)\n",
        "print(\"Label counts \", labelCounts)"
      ]
    },
    {
      "cell_type": "code",
      "execution_count": 10,
      "metadata": {
        "colab": {
          "base_uri": "https://localhost:8080/",
          "height": 582
        },
        "id": "-T7QrmVmWXUI",
        "outputId": "14be762b-5241-489f-fd86-a45d6e2ab5ed"
      },
      "outputs": [
        {
          "output_type": "display_data",
          "data": {
            "text/plain": [
              "<Figure size 1000x600 with 1 Axes>"
            ],
            "image/png": "[encoded data removed]"
          },
          "metadata": {}
        },
        {
          "output_type": "stream",
          "name": "stdout",
          "text": [
            "The domain ECE has 1292 records in the dataset.\n",
            "The domain Psychology has 1597 records in the dataset.\n",
            "The domain biochemistry has 2847 records in the dataset.\n"
          ]
        }
      ],
      "source": [
        "# Visualize domain counts in dataset\n",
        "plt.figure(figsize=(10, 6))\n",
        "plt.title(\"Domain Counts (Dataset)\")\n",
        "plt.pie(labelCounts, labels=labels, autopct='%1.1f%%', startangle=140, colors=plt.cm.Paired(range(len(labels))))\n",
        "plt.axis('equal')\n",
        "plt.show()\n",
        "\n",
        "for i, domain in enumerate(labels):\n",
        "    print(\"The domain\", domain, \"has\", labelCounts[i], \"records in the dataset.\")"
      ]
    },
    {
      "cell_type": "code",
      "execution_count": 11,
      "metadata": {
        "colab": {
          "base_uri": "https://localhost:8080/"
        },
        "id": "MWaqWll9WXUI",
        "outputId": "be4e5374-fa63-4fc9-9f85-12f742bcdb68"
      },
      "outputs": [
        {
          "output_type": "stream",
          "name": "stdout",
          "text": [
            "Number of abstracts:  5736\n",
            "Shape of abstracts:  (5736,)\n",
            "['constantly elevated temperatures cause an array of physiobiochemical changes in tomato lycopersicum esculentum mill which make the fruit ripen quickly and up to 50  yield loss the development of tomato cultivars using genetic engineering approaches which delay ripening offers a new way to keep tomatoes healthy under heat stress overexpression of small heat shock protein gene viscosity 1 vis 1 plays a role in increasing juice viscosity early ripening and tissue soften which emphasizes the importance of this gene in premature ripening the aim of this work was therefore to develop a useful system for silencing the vis1 gene using small interfering rna strategy agrobacterium strain gv3101 harbouring the binary vector picbv19 containing the gus and bar genes was used to adapt the transformation process in this study the primers were designed to amplified the first exon of the vis 1 gene and the amplified fragment was used for cloning into the pfgc5941 at xhoincoi site at sense orientation then additional fragment was subsequently cloned at bamhixbai to form senseantisense cloned fragment interrupted by the chsaintron agrobacterium strain lba4404 with the binary vector pfgc5941 which harbors vis1 gene under the control of the 35s promoter containing bar gene under the control of a mannopine synthase 2mas2 as selectable marker was used to reduce the expression of vis1 gene in fruit polymerase chain reaction pcr rtpcr and northern blotting analysis were applied to detect putative transgenic plants significantly silencing of vis 1 gene was potently occur and new transgenic tomato cultivars were produced with enhanced ripening qualities for recommendation for growing under heat stress'\n",
            " 'psychological research on the relationship between spiritualityreligion and mental health has grown considerably over the past several decades and now constitutes a sizable body of scholarship among dimensions of sr positive beliefs about god have been significantly related to better mental health outcomes and conversely negative beliefs about god are generally associated with more distress however prior research on this topic has relied heavily upon selfreport likerttype scales which are vulnerable to selfreport biases and measure only explicit cognitive processes in this study we developed and validated an implicit social cognition task the positivenegative god gonogo association task pnggnat for use in psychological research on spirituality and religion sr preliminary evidence in a large sample n  381 suggests that the pnggnat demonstrates internal consistency testretest and splithalf reliability and concurrent evidence of validity further our results suggest that pnggnat scores represent different underlying dimensions of sr than explicit selfreport measures and incrementally predict mental health above and beyond selfreport assessment the pnggnat appears to be an effective tool for measuring implicit positivenegative beliefs about god']\n",
            "Number of keywords:  5736\n",
            "Shape of keywords:  (5736,)\n",
            "['constantly elevated temperatures cause an array of physiobiochemical changes in tomato lycopersicum esculentum mill which make the fruit ripen quickly and up to 50  yield loss the development of tomato cultivars using genetic engineering approaches which delay ripening offers a new way to keep tomatoes healthy under heat stress overexpression of small heat shock protein gene viscosity 1 vis 1 plays a role in increasing juice viscosity early ripening and tissue soften which emphasizes the importance of this gene in premature ripening the aim of this work was therefore to develop a useful system for silencing the vis1 gene using small interfering rna strategy agrobacterium strain gv3101 harbouring the binary vector picbv19 containing the gus and bar genes was used to adapt the transformation process in this study the primers were designed to amplified the first exon of the vis 1 gene and the amplified fragment was used for cloning into the pfgc5941 at xhoincoi site at sense orientation then additional fragment was subsequently cloned at bamhixbai to form senseantisense cloned fragment interrupted by the chsaintron agrobacterium strain lba4404 with the binary vector pfgc5941 which harbors vis1 gene under the control of the 35s promoter containing bar gene under the control of a mannopine synthase 2mas2 as selectable marker was used to reduce the expression of vis1 gene in fruit polymerase chain reaction pcr rtpcr and northern blotting analysis were applied to detect putative transgenic plants significantly silencing of vis 1 gene was potently occur and new transgenic tomato cultivars were produced with enhanced ripening qualities for recommendation for growing under heat stress'\n",
            " 'psychological research on the relationship between spiritualityreligion and mental health has grown considerably over the past several decades and now constitutes a sizable body of scholarship among dimensions of sr positive beliefs about god have been significantly related to better mental health outcomes and conversely negative beliefs about god are generally associated with more distress however prior research on this topic has relied heavily upon selfreport likerttype scales which are vulnerable to selfreport biases and measure only explicit cognitive processes in this study we developed and validated an implicit social cognition task the positivenegative god gonogo association task pnggnat for use in psychological research on spirituality and religion sr preliminary evidence in a large sample n  381 suggests that the pnggnat demonstrates internal consistency testretest and splithalf reliability and concurrent evidence of validity further our results suggest that pnggnat scores represent different underlying dimensions of sr than explicit selfreport measures and incrementally predict mental health above and beyond selfreport assessment the pnggnat appears to be an effective tool for measuring implicit positivenegative beliefs about god']\n",
            "Number of domains:  5736\n",
            "Shape of domains:  (5736,)\n",
            "['biochemistry' 'Psychology']\n",
            "Number of labels:  5736\n",
            "Shape of labels:  (5736,)\n",
            "['2' '1']\n",
            "['constantly elevated temperatures cause an array of physiobiochemical changes in tomato lycopersicum esculentum mill which make the fruit ripen quickly and up to 50  yield loss the development of tomato cultivars using genetic engineering approaches which delay ripening offers a new way to keep tomatoes healthy under heat stress overexpression of small heat shock protein gene viscosity 1 vis 1 plays a role in increasing juice viscosity early ripening and tissue soften which emphasizes the importance of this gene in premature ripening the aim of this work was therefore to develop a useful system for silencing the vis1 gene using small interfering rna strategy agrobacterium strain gv3101 harbouring the binary vector picbv19 containing the gus and bar genes was used to adapt the transformation process in this study the primers were designed to amplified the first exon of the vis 1 gene and the amplified fragment was used for cloning into the pfgc5941 at xhoincoi site at sense orientation then additional fragment was subsequently cloned at bamhixbai to form senseantisense cloned fragment interrupted by the chsaintron agrobacterium strain lba4404 with the binary vector pfgc5941 which harbors vis1 gene under the control of the 35s promoter containing bar gene under the control of a mannopine synthase 2mas2 as selectable marker was used to reduce the expression of vis1 gene in fruit polymerase chain reaction pcr rtpcr and northern blotting analysis were applied to detect putative transgenic plants significantly silencing of vis 1 gene was potently occur and new transgenic tomato cultivars were produced with enhanced ripening qualities for recommendation for growing under heat stress'\n",
            " 'psychological research on the relationship between spiritualityreligion and mental health has grown considerably over the past several decades and now constitutes a sizable body of scholarship among dimensions of sr positive beliefs about god have been significantly related to better mental health outcomes and conversely negative beliefs about god are generally associated with more distress however prior research on this topic has relied heavily upon selfreport likerttype scales which are vulnerable to selfreport biases and measure only explicit cognitive processes in this study we developed and validated an implicit social cognition task the positivenegative god gonogo association task pnggnat for use in psychological research on spirituality and religion sr preliminary evidence in a large sample n  381 suggests that the pnggnat demonstrates internal consistency testretest and splithalf reliability and concurrent evidence of validity further our results suggest that pnggnat scores represent different underlying dimensions of sr than explicit selfreport measures and incrementally predict mental health above and beyond selfreport assessment the pnggnat appears to be an effective tool for measuring implicit positivenegative beliefs about god'\n",
            " 'background breast cancer is the most common type of cancer among females genetic polymorphisms might have a role in carcinogenesis the aim of this study was to determine whether c to t base substitution within taqi vitamin d receptor vdr gene rs731236 in exon 9 was a risk factor among patients with breast cancer methods peripheral blood was drawn from 122 jordanian breast cancer patients and 100 healthy jordanian volunteers in albasheer hospital during the summer months from june to november of 2013 2014 and 2015 dna was amplified using polymerase chain reaction pcr followed by taqi restriction enzyme digestion quantification of serum 25hydroxy vitamin d 25oh d level was determined by competitive immunoassay elecsys results genotypic frequencies for taqi tt tt and tt genotypes were 41 46 and 13 for breast cancer compared to 42 50 and 8 for control respectively vitamin d serum level was significantly lower in the breast cancer patients 81  03 ngml compared to the control group 212  06 ngml p  0001 this study showed an inverse association between 25oh d serum level and breast cancer risk odds ratio or 2272 95 confidence interval ci 10065129 conclusions an inverse association was found between 25ohd serum level and breast cancer risk statistical difference was also found between different vdr taqi genotypes and circulating levels of 25oh d among jordanian females with breast cancer'\n",
            " 'schadenfreude occurs when people feel pleasure at others misfortunes previous research suggested that individuals feel such a malicious pleasure when the misfortune befalls social targets perceived as highly competent but lacking human warmth two experiments explored whether the two components of warmth ie sociability and morality have distinct roles in driving schadenfreude study 1 n  128 compared a competent but immoral individual to a competent but unsociable person and found that people felt more schadenfreude when a misfortune befell an individual lacking morality study 2 n  199 confirmed the primary role of morality in driving schadenfreude by manipulating not only morality and sociability but also competence moreover both experiments showed that social targets lacking moral qualities elicited higher levels of schadenfreude because their misfortunes were perceived as deserved overall our findings suggest that morality has a primary role over other basic dimensions of person perception ie sociability and competence in driving schadenfreude'\n",
            " 'various types of longterm stable relationships that individuals uphold including cooperation and competition between group members define social complexity in vertebrates numerous life history physiological and cognitive traits have been shown to affect or to be affected by such social relationships as such differences in developmental modes ie the altricialprecocial spectrum may play an important role in understanding the interspecific variation in occurrence of social interactions but to what extent this is the case is unclear because the role of the developmental mode has not been studied directly in acrossspecies studies of sociality in other words although there are studies on the effects of developmental mode on brain size on the effects of brain size on cognition and on the effects of cognition on social complexity there are no studies directly investigating the link between developmental mode and social complexity this is surprising because developmental differences play a significant role in the evolution of for example brain size which is in turn considered an essential building block with respect to social complexity here we compiled an overview of studies on various aspects of the complexity of social systems in altricial and precocial mammals and birds although systematic studies are scarce and do not allow for a quantitative comparison we show that several forms of social relationships and cognitive abilities occur in species along the entire developmental spectrum based on the existing evidence it seems that differences in developmental modes play a minor role in whether or not individuals or species are able to meet the cognitive capabilities and requirements for maintaining complex social relationships given the scarcity of comparative studies and potential subtle differences however we suggest that future studies should consider developmental differences to determine whether our finding is general or whether some of the vast variation in social complexity across species can be explained by developmental mode this would allow a more detailed assessment of the relative importance of developmental mode in the evolution of vertebrate social systems'\n",
            " 'memristor is a nano device that exhibits unique iv pinched hysteresis loop with switching mechanism and has ability to remember its last state these interesting memristor characteristics encourage researchers to understand the new device and develop its potential applications the problem is memristor has not yet available in current market due to the cost and technical difficulties in fabrication nanoscale device thus the only way is develop model for memristor in this paper few spice memristor models are selected and their iv behaviors are compared to a physical memristor to verify model similarity with actual device next a new approach of cmos memristor application is proposed an interfacing circuit between spice memristor model and cmos circuit is presented the interfacing circuit is composed by write circuit to program memristor resistance and read circuit to read memristor current using operational amplifier and current mirror this interfacing circuit is very important to incorporate memristor into cmos for cmosmemristor application studies'\n",
            " 'the construction of physical threedimensional 3d models of biomolecules can uniquely contribute to the study of the structurefunction relationship 3d structures are most often perceived using the twodimensional and exclusively visual medium of the computer screen converting digital 3d molecular data into real objects enables information to be perceived through an expanded range of human senses including direct stereoscopic vision touch and interaction such tangible models facilitate new insights enable hypothesis testing and serve as psychological or sensory anchors for conceptual information about the functions of biomolecules recent advances in consumer 3d printing technology enable for the first time the costeffective fabrication of highquality and scientifically accurate models of biomolecules in a variety of molecular representations however the optimization of the virtual model and its printing parameters is difficult and time consuming without detailed guidance here we provide a guide on the digital design and physical fabrication of biomolecule models for research and pedagogy using open source or lowcost software and lowcost 3d printers that use fused filament fabrication technology'\n",
            " 'we examined the extent to which the arginine vasopressin receptor 1a avpr1a and dopamine receptor d4 drd4 were related to sensitive maternal behavior directly or indirectly via maternal social cognition participants were 207 105 europeanamerican and 102 africanamerican mothers and their children 52 females sensitive maternal behavior was rated and aggregated across a series of tasks when infants were 6 months 1 year and 2 years old at 6 months mothers were interviewed about their empathy attributions about infant behavior and beliefs about crying to assess their parentingrelated social cognition mothers with long alleles for avpr1a and drd4 engaged in more motheroriented social cognition ie negative attributions and beliefs about their infants crying beta  013 p  005 and beta  016 p  005 respectively which in turn predicted less sensitive maternal behavior beta  023 p  001 both indirect effects were statistically significant independent of one another and covariates 95 confidence interval ci 022 003 and beta  003 for avpr 95 ci 020 003 and beta  004 for drd4 there were no significant direct effects of avpr1a or drd4 on maternal sensitivity beta  002 p  73 and beta  010 p  57 respectively the results did not vary for africanamerican and europeanamerican mothers delta chi2  1876 delta df  16 p  028 results support the view that one mechanism by which maternal genes are associated with parental behavior is via social cognition'\n",
            " 'background dendritic cells dcs form a key link between innate and adaptive immune responses the aim of this study is to analyze presence and distribution of immature im and mature m dcs in gingival tissue samples obtained from patients diagnosed with aggressive periodontitis agp chronic periodontitis cp and clinically healthy periodontium control group methods gingival tissue samples obtained from patients with 1 agp aged 35 years and 3 control group aged 18 years n  10 per group were collected twoway analysis of variance and posterior fisher least significant difference test were used to observe differences between the means of cells positively marked for imdc s100 cd1a and cd207 and mdc cd208 immunomarkers results imdcs were more numerous in agp than cp and control groups being statistically significant only for s100 cells conversely mdcs were visualized in higher numbers in cp than agp and control groups both p 005 considering frequency of immunostained cells the number of s100 cells was greater than cd207 and cd1a cells followed by a lesser number of cd208 cells in all groups conclusions considering that the ability of dcs to regulate immunity is dependent on dc maturation results suggest that predominance of imdcs appears to be involved in agp pathogenesis probably due to lack of ability to induce immune cell activation further studies are necessary to elucidate the role of dc maturation in regulating immune responses in periodontal disease'\n",
            " 'it is well known that exposure to maternal separation ms in early life causes plastic changes in the nervous system in adulthood occasionally resulting in ubiquitous chronic pain however the pathogenic mechanisms of pain hypersensitivity remain unclear here the authors examined the involvement of corticosterone in orofacial mechanical hypersensitivity induced by ms to establish a rat model of ms pups were placed in isolated cages 180 mind and kept in a temperaturecontrolled environment at 22  2 degrees c for 14 d mechanical allodynia in the whisker pad skin in adulthood was induced by ms and was significantly suppressed by successive postnatal subcutaneous administration of the glucocorticoid receptor antagonist mifepristone corticosterone levels were increased in the serum of ms rats and successive postnatal administration of subcutaneous corticosterone to naive rats induced mechanical allodynia in the whisker pad skin the number of p2x3 receptorimmunoreactive p2x3rir trigeminal ganglion tg neurons innervating the whisker pad skin was significantly increased in ms rats and decreased following subcutaneous administration of mifepristone the number of p2x3rir tg neurons innervating the whisker pad skin was also significantly increased following successive postnatal administration of subcutaneous corticosterone in naive rats moreover the mechanical allodynia was suppressed 30 min after administration of the p2x3r antagonist a317491 to the whisker pad skin in ms rats these findings suggest that the increase in p2x3rir tg neurons innervating the whisker pad skin via enhanced neonatal corticosterone signaling by ms plays an important role in orofacial mechanical allodynia in adulthood']\n",
            "[' agrobacterium tumefaciens gene expression gene viscosity 1 heat shock protein in vitro regeneration small interfering rnas tomato transgenic        '\n",
            " ' religion spirituality gnat anxiety disorders        '\n",
            " ' breast cancer genotypes taqi vitamin d receptor        '\n",
            " ' emotion schadenfreude social cognition morality sociability competence        '\n",
            " ' altricialprecocial spectrum birds mammals social behaviour social cognition        '\n",
            " ' memristor memristor model memristor cmos application        '\n",
            " ' engineering issue 121 3d printing molecular biology education structure biomolecules models extrusion printers        '\n",
            " ' arginine vasopressin avpr1a dopamine drd4 infants mothers sensitivity social cognition        '\n",
            " ' aggressive periodontitis immunology oral pathology        '\n",
            " ' trigeminal ganglion corticosterone p2x3 receptor child abuse glucocorticoid receptor orofacial pain        ']\n",
            "['biochemistry' 'Psychology' 'biochemistry' 'Psychology' 'Psychology'\n",
            " 'ECE' 'biochemistry' 'Psychology' 'biochemistry' 'Psychology']\n",
            "['2' '1' '2' '1' '1' '0' '2' '1' '2' '1']\n",
            "[2 1 2 1 1 0 2 1 2 1]\n"
          ]
        }
      ],
      "source": [
        "# Shuffle data\n",
        "dataShuffled = sklearn.utils.shuffle(tsvData)\n",
        "\n",
        "abstractsShuffled = dataShuffled[:,3]\n",
        "keywordsShuffled = dataShuffled[:,2]\n",
        "domainsShuffled = dataShuffled[:,1]\n",
        "allLabelsShuffled = dataShuffled[:,0]\n",
        "\n",
        "print(\"Number of abstracts: \", len(abstractsShuffled))\n",
        "print(\"Shape of abstracts: \", np.shape(abstractsShuffled))\n",
        "print(abstractsShuffled[0:2])\n",
        "\n",
        "print(\"Number of keywords: \", len(keywordsShuffled))\n",
        "print(\"Shape of keywords: \", np.shape(keywordsShuffled))\n",
        "print(abstractsShuffled[0:2])\n",
        "\n",
        "print(\"Number of domains: \", len(domainsShuffled))\n",
        "print(\"Shape of domains: \", np.shape(domainsShuffled))\n",
        "print(domainsShuffled[0:2])\n",
        "\n",
        "print(\"Number of labels: \", len(allLabelsShuffled))\n",
        "print(\"Shape of labels: \", np.shape(allLabelsShuffled))\n",
        "print(allLabelsShuffled[0:2])\n",
        "\n",
        "\n",
        "# Convert labels to integer\n",
        "allLabelsDigitShuffled = allLabelsShuffled.astype(int)\n",
        "\n",
        "print(abstractsShuffled[0:10])\n",
        "print(keywordsShuffled[0:10])\n",
        "print(domainsShuffled[0:10])\n",
        "print(allLabelsShuffled[0:10])\n",
        "print(allLabelsDigitShuffled[0:10])"
      ]
    },
    {
      "cell_type": "code",
      "execution_count": 12,
      "metadata": {
        "colab": {
          "base_uri": "https://localhost:8080/",
          "height": 365,
          "referenced_widgets": [
            "26d8204e845c4432824aa5c89b171736",
            "ecf184d9cfee4b178c00897a74622d73",
            "cddf50e13de54c1f825f1dc42af11bf6",
            "0e44f249610f4f449f93231f7551202e",
            "c3a3f87df5af490ca067fdcb8b5fabfd",
            "fdd8cfffbad44d4baaa56c3ac2a2f64b",
            "b19ad6f3d0374262b18ddce26515ce10",
            "c35f6522c9f44f3ba16a69fd3004aabc",
            "dd5fc63de53240d29ced65c22cd0c523",
            "f8a0f1859e74436f9bb102f8f9b00a7a",
            "66e7c8ab95354b939c4c543b857d653b",
            "54a9220d2a194235934db4e995c51ac6",
            "20207d18e932481aa4c0b454f074e6a3",
            "89a75ecd09e24cc897af635e0e0677ef",
            "51ddac616dbc4ebda01c31520de4286b",
            "c63429ad09bb486dbff560b123c5f3d0",
            "8b47e9adcb7442a4b404f3454fcef48f",
            "d406668abdfb45e9b5075a365f25f305",
            "48f28284c2844fe0a8c87ad7b14303eb",
            "6cd0e6fcf0a4428fa6529e4c0d083deb",
            "18003d08bb1444a98b7d38e21ec7df1a",
            "559d95e20c824e52be12f5f6bc36c66d",
            "6f201ebd5ac44ef19668cfc03b69954f",
            "20605c149e6944ef92726179a8475659",
            "35918c2eb43a44c984ae5e5b7d07e4ff",
            "8ad14bbd809e49178601bed0978ceaec",
            "1e49c67c0a8f4f219c3c855dec3444b5",
            "45704ba6d91e491996afea31a5da774d",
            "acfb0ce832d04ba39059239f600235bf",
            "c011eb404c054636b2a1a9f239c6c79f",
            "fc9f8de119ba4222a020f7dae0566da1",
            "49ac85e626b3408a8ffc7e1e5d411ed9",
            "4ab469f2ed2a496f95001c61b63a1e3f",
            "cc307a363e8e4660b57dfc174ad984ae",
            "2a5f7834f83b474dba870a5a2114ae6d",
            "40affb92a4044afa8d28c500199d20b4",
            "88c4aa59d3c24d359ace5fec0480f45f",
            "5ca8d7d9fd2047489ba257c917799c32",
            "2792db4abc084e689e3c0474513954ea",
            "3814aa6d2fda4f779e1eeb53462aec00",
            "67380869815e4cd0a378a8e7ea1d522f",
            "df99909042cb44d8bfe17be812e780f4",
            "480469c2a777429f8582b5169ed7647d",
            "7715ec1ac27d4200af2f63a5267863fa"
          ]
        },
        "id": "t9_3IhKwWXUI",
        "outputId": "8dbfe40e-00fa-4804-8d20-30e9289f3d1f"
      },
      "outputs": [
        {
          "output_type": "stream",
          "name": "stdout",
          "text": [
            "(4588, 4)\n",
            "(1148, 4)\n",
            "(4588, 4)\n",
            "(1148, 4)\n",
            "(230, 4)\n"
          ]
        },
        {
          "output_type": "stream",
          "name": "stderr",
          "text": [
            "/usr/local/lib/python3.10/dist-packages/huggingface_hub/utils/_token.py:89: UserWarning: \n",
            "The secret `HF_TOKEN` does not exist in your Colab secrets.\n",
            "To authenticate with the Hugging Face Hub, create a token in your settings tab (https://huggingface.co/settings/tokens), set it as secret in your Google Colab and restart your session.\n",
            "You will be able to reuse this secret in all of your notebooks.\n",
            "Please note that authentication is recommended but still optional to access public models or datasets.\n",
            "  warnings.warn(\n"
          ]
        },
        {
          "output_type": "display_data",
          "data": {
            "text/plain": [
              "tokenizer_config.json:   0%|          | 0.00/48.0 [00:00<?, ?B/s]"
            ],
            "application/vnd.jupyter.widget-view+json": {
              "version_major": 2,
              "version_minor": 0,
              "model_id": "26d8204e845c4432824aa5c89b171736"
            }
          },
          "metadata": {}
        },
        {
          "output_type": "display_data",
          "data": {
            "text/plain": [
              "config.json:   0%|          | 0.00/570 [00:00<?, ?B/s]"
            ],
            "application/vnd.jupyter.widget-view+json": {
              "version_major": 2,
              "version_minor": 0,
              "model_id": "54a9220d2a194235934db4e995c51ac6"
            }
          },
          "metadata": {}
        },
        {
          "output_type": "display_data",
          "data": {
            "text/plain": [
              "vocab.txt:   0%|          | 0.00/232k [00:00<?, ?B/s]"
            ],
            "application/vnd.jupyter.widget-view+json": {
              "version_major": 2,
              "version_minor": 0,
              "model_id": "6f201ebd5ac44ef19668cfc03b69954f"
            }
          },
          "metadata": {}
        },
        {
          "output_type": "display_data",
          "data": {
            "text/plain": [
              "tokenizer.json:   0%|          | 0.00/466k [00:00<?, ?B/s]"
            ],
            "application/vnd.jupyter.widget-view+json": {
              "version_major": 2,
              "version_minor": 0,
              "model_id": "cc307a363e8e4660b57dfc174ad984ae"
            }
          },
          "metadata": {}
        }
      ],
      "source": [
        "# Split dataset into training and testing (80/20 split)\n",
        "train_data, test_data = train_test_split(dataShuffled, test_size=0.2, random_state=42)\n",
        "print(np.shape(train_data))\n",
        "print(np.shape(test_data))\n",
        "\n",
        "# Further split training data into training and validation (80/20 split of training set)\n",
        "_, val_data = train_test_split(test_data, test_size=0.2, random_state=42)\n",
        "print(np.shape(train_data))\n",
        "print(np.shape(test_data))\n",
        "print(np.shape(val_data))\n",
        "# Load SciBERT tokenizer\n",
        "tokenizer = AutoTokenizer.from_pretrained(\"bert-base-uncased\")"
      ]
    },
    {
      "cell_type": "code",
      "execution_count": 13,
      "metadata": {
        "colab": {
          "base_uri": "https://localhost:8080/"
        },
        "id": "5wYiosJzWXUJ",
        "outputId": "9f1e10ba-8bdc-4046-b001-3fce620c618c"
      },
      "outputs": [
        {
          "output_type": "stream",
          "name": "stdout",
          "text": [
            "Number of abstracts:  4588\n",
            "Shape of abstracts:  (4588,)\n",
            "Number of keywords:  4588\n",
            "Shape of keywords:  (4588,)\n",
            "Number of domains:  4588\n",
            "Shape of domains:  (4588,)\n",
            "Number of labels:  4588\n",
            "Shape of labels:  (4588,)\n",
            "['spontaneous epileptiform activity has previously been observed in lateral amygdala la slices derived from patients with intractabletemporal lobe epilepsy the present study aimed to characterize intranuclear la synaptic connectivity and to test the hypothesis that differences in the spread of flow of neuronal activity may relate to spontaneous epileptiform activity occurrence electrical activity was evoked through electrical microstimulation in acute human brain slices containing the la signals were recorded as local field potentials combined with fast optical imaging of voltagesensitive dye fluorescence sites of stimulation and recording were systematically varied following recordings slices were anatomically reconstructed using twodimensional unitary slices as a reference for coronal and parasagittal planes local spatial patterns and spread of activity were assessed by incorporating the coordinates of electrical and optical recording sites into the respective unitary slice a preferential directional spread of evoked electrical signals was observed from ventral to dorsal rostra to caudal and medial to lateral regions in the la no differences in spread of evoked activity were observed between spontaneously and nonspontaneously active la slices ie basic properties of evoked synaptic responses were similar in the two functional types of la slices including input output relationship and pairedpulse depression these results indicate a directed propagation of synaptic signals within the human la in spontaneously active epileptic slices we suggest that the lack of differences in local and in systemic information processing has to be found in confined epileptiform circuits within the amygdala likely involving wellknown epileptic neurons c 2017 the authors publishedby elsevier ltd on behalf of ibro'\n",
            " 'the current study aimed to investigate the potential role of mir9 in the inhibition of ovarian cancer progression through the stromal cellderived factor1 sdf1 cxc chemokine receptor type 4 cxcr4 pathway and to provide a theoretical basis for the diagnosis and treatment of ovarian cancer human ovarian cancer ovcar3 cells were transfected with mir9 short hairpin rna shrna the effect of mir9 on the mrna expression levels of cxcr4 were analyzed using reverse transcriptionquantitative polymerase chain reaction the effects of mir9 on ovcar3 cell proliferation invasion and apoptotic ability were detected using a 345dimethyl2thiazolyl25diphenyl tetrazolium bromide assay matrigel method and annexin vfluorescein isothiocyanate flow cytometry respectively in addition expression levels of sdf1cxcr4 pathway associated proteins were determined by western blot analysis mrna expression levels of cxcr4 in ovcar3 cells transfected with mir9 shrna was significantly downregulated compared with the blank and control groups p005 furthermore compared with the two control groups the current results revealed that mir9 inhibited cell proliferation suppressed invasive ability and induced cell apoptosis in ovcar3 cells p005 finally it was observed that mir9 functioned as a tumor inhibitor through the sdf1cxcr4 pathway by suppressing the expression levels of extracellular signalregulated kinase 1 erk1 erk2 and matrix metalloproteinase9 proteins the present study suggested that mir9 may function as a promising tumor inhibitor for ovarian cancer through targeting the sdf1cxcr4 pathway']\n",
            "[' temporal lobe epilepsy living human brain slices lateral amygdala field potentials voltagesensitive dyes        '\n",
            " ' ovarian cancer mir9 stromal cellderived factor1 cxc chemokine receptor type 4 pathway cell proliferation        ']\n",
            "['Psychology' 'biochemistry']\n",
            "['1' '2']\n"
          ]
        }
      ],
      "source": [
        "abstractsTrain = train_data[:,3]\n",
        "keywordsTrain = train_data[:,2]\n",
        "domainsTrain = train_data[:,1]\n",
        "allLabelsTrain = train_data[:,0]\n",
        "\n",
        "print(\"Number of abstracts: \",len(abstractsTrain))\n",
        "print(\"Shape of abstracts: \",np.shape(abstractsTrain))\n",
        "print(\"Number of keywords: \",len(keywordsTrain))\n",
        "print(\"Shape of keywords: \",np.shape(keywordsTrain))\n",
        "print(\"Number of domains: \",len(domainsTrain))\n",
        "print(\"Shape of domains: \",np.shape(domainsTrain))\n",
        "print(\"Number of labels: \",len(allLabelsTrain))\n",
        "print(\"Shape of labels: \",np.shape(allLabelsTrain))\n",
        "\n",
        "print(abstractsTrain[0:2])\n",
        "print(keywordsTrain[0:2])\n",
        "print(domainsTrain[0:2])\n",
        "print(allLabelsTrain[0:2])"
      ]
    },
    {
      "cell_type": "code",
      "execution_count": 14,
      "metadata": {
        "colab": {
          "base_uri": "https://localhost:8080/",
          "height": 619
        },
        "id": "kuvxdWDRWXUJ",
        "outputId": "1f9f71a3-8b93-4888-8064-6768e393855f"
      },
      "outputs": [
        {
          "output_type": "stream",
          "name": "stdout",
          "text": [
            "Labels  ['ECE' 'Psychology' 'biochemistry']\n",
            "Label counts  [1048 1277 2263]\n"
          ]
        },
        {
          "output_type": "display_data",
          "data": {
            "text/plain": [
              "<Figure size 1000x600 with 1 Axes>"
            ],
            "image/png": "[encoded data removed]"
          },
          "metadata": {}
        },
        {
          "output_type": "stream",
          "name": "stdout",
          "text": [
            "The domain ECE has 1048 records in the training set.\n",
            "The domain Psychology has 1277 records in the training set.\n",
            "The domain biochemistry has 2263 records in the training set.\n"
          ]
        }
      ],
      "source": [
        "labels = np.unique(domainsTrain, return_counts=True)[0]\n",
        "labelCounts =  np.unique(domainsTrain, return_counts=True)[1]\n",
        "\n",
        "print(\"Labels \", labels)\n",
        "print(\"Label counts \", labelCounts)\n",
        "\n",
        "nAbstract = len(abstractsTrain)\n",
        "plt.figure(figsize=(10, 6))\n",
        "plt.title(\"Domain Counts (Training Set)\")\n",
        "plt.pie(labelCounts, labels=labels, autopct='%1.1f%%', startangle=140, colors=plt.cm.Paired(range(len(labels))))\n",
        "plt.axis('equal')  # Equal aspect ratio ensures that pie is drawn as a circle.\n",
        "plt.show()\n",
        "\n",
        "for i, domain in enumerate(labels):\n",
        "    print(\"The domain\", domain, \"has\", labelCounts[i], \"records in the training set.\")"
      ]
    },
    {
      "cell_type": "code",
      "execution_count": 15,
      "metadata": {
        "colab": {
          "base_uri": "https://localhost:8080/"
        },
        "id": "WpHlCnwUWXUJ",
        "outputId": "e1f1be57-2b34-4b68-f507-5f2074aa67fb"
      },
      "outputs": [
        {
          "output_type": "stream",
          "name": "stdout",
          "text": [
            "Number of abstracts:  1148\n",
            "Shape of abstracts:  (1148,)\n",
            "Number of keywords:  1148\n",
            "Shape of keywords:  (1148,)\n",
            "Number of domains:  1148\n",
            "Shape of domains:  (1148,)\n",
            "Number of labels:  1148\n",
            "Shape of labels:  (1148,)\n",
            "['the bangor gambling task bgt bowman  turnbull 2004 is a simple test of emotionbased decision making with contingencies varying across five blocks of 20 trials this is the first study to characterise bgt performance in survivors of traumatic brain injury tbi relative to healthy controls the study also aimed to explore subgroups cluster analysis and identify predictors of task performance multiple regression thirty survivors of tbi and thirtynine controls completed the bgt and measures of processing speed premorbid iq working memory and executive function results showed that survivors of tbi made more gamble choices than controls total bgt score although the groups did not significantly differ when using a cutoff score for impairedperformance unexpectedly the groups did not significantly differ in their performance across the blocks however the cluster analysis revealed three subgroups with survivors of tbi and controls represented in each cluster findings also indicated that only age and group were significant predictors of overall bgt performance in conclusion the study findings are consistent with an individual difference account of emotionbased decision making and a number of issues need to be addressed prior to recommending the clinical use of the bgt'\n",
            " 'cadmium cd accumulation in rice and its subsequent transfer to food chain is a major environmental issue worldwide understanding of cd transport processes and its management aiming to reduce cd uptake and accumulation in rice may help to improve rice growth and grain quality moreover a thorough understanding of the factors influencing cd accumulation will be helpful to derive efficient strategies to minimize cd in rice in this article we reviewed cd transport mechanisms in rice the factors affecting cd uptake including physicochemical characters of soil and ecophysiological features of rice and discussed efficient measures to immobilize cd in soil and reduce cd uptake by rice including agronomic practices bioremediation and molecular biology techniques these findings will contribute to ensuring food safety and reducing cd risk on human beings c 2017 elsevier ltd all rights reserved']\n",
            "[' executive social cognition emotion processing measurement psychometric traumatic brain injury        '\n",
            " ' microorganisms soil characteristics water management bioremediation genetic engineering        ']\n",
            "['Psychology' 'biochemistry']\n",
            "['1' '2']\n"
          ]
        }
      ],
      "source": [
        "abstractsTest = test_data[:,3]\n",
        "keywordsTest = test_data[:,2]\n",
        "domainsTest = test_data[:,1]\n",
        "allLabelsTest = test_data[:,0]\n",
        "\n",
        "print(\"Number of abstracts: \",len(abstractsTest))\n",
        "print(\"Shape of abstracts: \",np.shape(abstractsTest))\n",
        "print(\"Number of keywords: \",len(keywordsTest))\n",
        "print(\"Shape of keywords: \",np.shape(keywordsTest))\n",
        "print(\"Number of domains: \",len(domainsTest))\n",
        "print(\"Shape of domains: \",np.shape(domainsTest))\n",
        "print(\"Number of labels: \",len(allLabelsTest))\n",
        "print(\"Shape of labels: \",np.shape(allLabelsTest))\n",
        "\n",
        "# arr = np.array(domainsTest)\n",
        "# cleaned_domains = np.char.strip(arr)\n",
        "# print(\"Cleaned arr \", cleaned_domains)\n",
        "# domainsLabelsTest = cleaned_domains\n",
        "# print(\"Labels domains \", domainsLabelsTest)\n",
        "\n",
        "print(abstractsTest[0:2])\n",
        "print(keywordsTest[0:2])\n",
        "print(domainsTest[0:2])\n",
        "print(allLabelsTest[0:2])"
      ]
    },
    {
      "cell_type": "code",
      "execution_count": 16,
      "metadata": {
        "colab": {
          "base_uri": "https://localhost:8080/",
          "height": 618
        },
        "id": "imNTasg6WXUJ",
        "outputId": "76a00260-809c-4378-a10a-fa7e8f44c041"
      },
      "outputs": [
        {
          "output_type": "stream",
          "name": "stdout",
          "text": [
            "Labels  ['ECE' 'Psychology' 'biochemistry']\n",
            "Label counts  [244 320 584]\n"
          ]
        },
        {
          "output_type": "display_data",
          "data": {
            "text/plain": [
              "<Figure size 1000x600 with 1 Axes>"
            ],
            "image/png": "[encoded data removed]"
          },
          "metadata": {}
        },
        {
          "output_type": "stream",
          "name": "stdout",
          "text": [
            "The domain ECE has 244 records in the test set.\n",
            "The domain Psychology has 320 records in the test set.\n",
            "The domain biochemistry has 584 records in the test set.\n"
          ]
        }
      ],
      "source": [
        "labels = np.unique(domainsTest, return_counts=True)[0]\n",
        "labelCounts =  np.unique(domainsTest, return_counts=True)[1]\n",
        "\n",
        "print(\"Labels \", labels)\n",
        "print(\"Label counts \", labelCounts)\n",
        "\n",
        "nAbstract = len(abstractsTest)\n",
        "plt.figure(figsize=(10, 6))\n",
        "plt.title(\"Domain Counts (Test Set)\")\n",
        "plt.pie(labelCounts, labels=labels, autopct='%1.1f%%', startangle=140, colors=plt.cm.Paired(range(len(labels))))\n",
        "plt.axis('equal')  # Equal aspect ratio ensures that pie is drawn as a circle.\n",
        "plt.show()\n",
        "\n",
        "for i, domain in enumerate(labels):\n",
        "    print(\"The domain\", domain, \"has\", labelCounts[i], \"records in the test set.\")"
      ]
    },
    {
      "cell_type": "code",
      "execution_count": 17,
      "metadata": {
        "colab": {
          "base_uri": "https://localhost:8080/"
        },
        "id": "sPFav1v1WXUJ",
        "outputId": "b54f964c-32fc-4988-f4de-4b27dc2d6f80"
      },
      "outputs": [
        {
          "output_type": "stream",
          "name": "stdout",
          "text": [
            "Number of abstracts:  230\n",
            "Shape of abstracts:  (230,)\n",
            "Number of keywords:  230\n",
            "Shape of keywords:  (230,)\n",
            "Number of domains:  230\n",
            "Shape of domains:  (230,)\n",
            "Number of labels:  230\n",
            "Shape of labels:  (230,)\n",
            "['background invasive meningococcal disease imd incidence increased in quebec starting in 2003 and was caused by a serogroup b sequence type 269 clone the saguenaylacsaintjean slsj region was particularly affected with a rate of 34 per 100 000 personyears in 20062013 in may 2014 an immunization campaign was launched in slsj using the 4component proteinbased meningococcal vaccine menb4c we aimed to evaluate the impact of the campaign 2 years after its initiation methods immunization registry data and serogroup b invasive meningococcal disease bimd cases notified to public health authorities and confirmed by culture or polymerase chain reaction from july 1996 to december 2016 were analyzed including a multivariate poisson regression model of incidence rates results by the end of the campaign 82 of the 59 000 targeted slsj residents between 2 months and 20 years of age had been immunized following the initiation of the campaign no bimd case occurred among vaccinees whereas 2 cases were reported among unvaccinated adult slsj residents and a third case in an unvaccinated child who had stayed in the region during the week prior to disease onset in 2015 bimd incidence decreased in all other regions in the years 20152016 but sporadic cases continued to occur a multivariate analysis showed a significant effect of the campaign in the slsj region relative bimd risk 022 p 04 conclusions results suggest a high level of protection provided by menb4c following mass vaccination at regional level this along with reassuring safety data supports the current recommendations for menb4c use for controlling outbreaks caused by clones covered by the vaccine'\n",
            " 'the goal of tissue engineering is to mitigate the critical shortage of donor organs via in vitro fabrication of functional biological structures tissue engineering is one of the most prominent examples of interdisciplinary fields where scientists with different backgrounds work together to boost the quality of life by addressing critical health issues many different fields such as developmental and molecular biology as well as technologies such as microand nanotechnologies and additive manufacturing have been integral for advancing the field of tissue engineering over the past 20 years spectacular advancements have been achieved to harness natures ability to cure diseased tissues and organs patients have received laboratorygrown tissues and organs made out of their own cells thus eliminating the risk of rejection however challenges remain when addressing more complex solid organs such as the heart liver and kidney herein we review recent accomplishments as well as challenges that must be addressed in the field of tissue engineering and provide a perspective regarding strategies in further development']\n",
            "[' serogroup b meningococcal disease outbreak immunization campaign meningococcal vaccine        '\n",
            " ' scaffold tissue vascularization hydrogel bioprinting        ']\n",
            "['biochemistry' 'biochemistry']\n",
            "['2' '2']\n"
          ]
        }
      ],
      "source": [
        "abstractsVal = val_data[:,3]\n",
        "keywordsVal = val_data[:,2]\n",
        "domainsVal = val_data[:,1]\n",
        "allLabelsVal = val_data[:,0]\n",
        "\n",
        "print(\"Number of abstracts: \",len(abstractsVal))\n",
        "print(\"Shape of abstracts: \",np.shape(abstractsVal))\n",
        "print(\"Number of keywords: \",len(keywordsVal))\n",
        "print(\"Shape of keywords: \",np.shape(keywordsVal))\n",
        "print(\"Number of domains: \",len(domainsVal))\n",
        "print(\"Shape of domains: \",np.shape(domainsVal))\n",
        "print(\"Number of labels: \",len(allLabelsVal))\n",
        "print(\"Shape of labels: \",np.shape(allLabelsVal))\n",
        "\n",
        "print(abstractsVal[0:2])\n",
        "print(keywordsVal[0:2])\n",
        "print(domainsVal[0:2])\n",
        "print(allLabelsVal[0:2])"
      ]
    },
    {
      "cell_type": "code",
      "execution_count": 18,
      "metadata": {
        "colab": {
          "base_uri": "https://localhost:8080/",
          "height": 619
        },
        "id": "qW_P1Zn6WXUJ",
        "outputId": "17adf925-f20e-4fa5-d628-e977a93a50b5"
      },
      "outputs": [
        {
          "output_type": "stream",
          "name": "stdout",
          "text": [
            "Labels  ['ECE' 'Psychology' 'biochemistry']\n",
            "Label counts  [ 47  71 112]\n"
          ]
        },
        {
          "output_type": "display_data",
          "data": {
            "text/plain": [
              "<Figure size 1000x600 with 1 Axes>"
            ],
            "image/png": "[encoded data removed]"
          },
          "metadata": {}
        },
        {
          "output_type": "stream",
          "name": "stdout",
          "text": [
            "The domain ECE has 47 records in the vaidation set.\n",
            "The domain Psychology has 71 records in the vaidation set.\n",
            "The domain biochemistry has 112 records in the vaidation set.\n"
          ]
        }
      ],
      "source": [
        "labels = np.unique(domainsVal, return_counts=True)[0]\n",
        "labelCounts =  np.unique(domainsVal, return_counts=True)[1]\n",
        "\n",
        "print(\"Labels \", labels)\n",
        "print(\"Label counts \", labelCounts)\n",
        "\n",
        "nAbstract = len(abstractsVal)\n",
        "plt.figure(figsize=(10, 6))\n",
        "plt.title(\"Domain Counts (Validation Set)\")\n",
        "plt.pie(labelCounts, labels=labels, autopct='%1.1f%%', startangle=140, colors=plt.cm.Paired(range(len(labels))))\n",
        "plt.axis('equal')  # Equal aspect ratio ensures that pie is drawn as a circle.\n",
        "plt.show()\n",
        "\n",
        "for i, domain in enumerate(labels):\n",
        "    print(\"The domain\", domain, \"has\", labelCounts[i], \"records in the vaidation set.\")"
      ]
    },
    {
      "cell_type": "code",
      "execution_count": 19,
      "metadata": {
        "id": "AewCWU8XWXUJ"
      },
      "outputs": [],
      "source": [
        "# Function to tokenize and encode the dataset\n",
        "def encode_data(data, tokenizer, max_length=128):\n",
        "    # print(len(data[:,2]))\n",
        "    inputs = tokenizer(\n",
        "        data[:,3].tolist(), # abstract\n",
        "        max_length=max_length,\n",
        "        padding='max_length',\n",
        "        truncation=True,\n",
        "        return_tensors=\"pt\"\n",
        "    )\n",
        "    # print(len(dataShuffled[:, 0]))\n",
        "    labels = torch.tensor(data[:, 0].astype(int))\n",
        "    print(\"Label length \", len(labels))\n",
        "    return TensorDataset(inputs['input_ids'], inputs['attention_mask'], labels)"
      ]
    },
    {
      "cell_type": "code",
      "execution_count": 20,
      "metadata": {
        "colab": {
          "base_uri": "https://localhost:8080/"
        },
        "id": "qosmRYrmWXUJ",
        "outputId": "e27357fd-e695-419a-fe2b-58fc4b0cc082"
      },
      "outputs": [
        {
          "output_type": "stream",
          "name": "stdout",
          "text": [
            "(4588, 4)\n",
            "(1148, 4)\n",
            "(230, 4)\n"
          ]
        }
      ],
      "source": [
        "print(np.shape(train_data))\n",
        "print(np.shape(test_data))\n",
        "print(np.shape(val_data))\n"
      ]
    },
    {
      "cell_type": "code",
      "execution_count": 21,
      "metadata": {
        "colab": {
          "base_uri": "https://localhost:8080/"
        },
        "id": "ntqAS03ZWXUJ",
        "outputId": "aefaa8e0-093b-46ee-fb51-6d2b2e359d1b"
      },
      "outputs": [
        {
          "output_type": "stream",
          "name": "stdout",
          "text": [
            "Label length  4588\n",
            "Label length  230\n",
            "Label length  1148\n"
          ]
        }
      ],
      "source": [
        "# Encode training, validation, and testing data\n",
        "train_dataset = encode_data(train_data, tokenizer)\n",
        "val_dataset = encode_data(val_data, tokenizer)\n",
        "test_dataset = encode_data(test_data, tokenizer)\n",
        "\n",
        "\n",
        "\n",
        "# Data loaders\n",
        "train_dataloader = DataLoader(train_dataset, sampler=RandomSampler(train_dataset), batch_size=32)\n",
        "val_dataloader = DataLoader(val_dataset, sampler=SequentialSampler(val_dataset), batch_size=32)\n",
        "test_dataloader = DataLoader(test_dataset, sampler=SequentialSampler(test_dataset), batch_size=32)"
      ]
    },
    {
      "cell_type": "code",
      "source": [
        "print(np.unique(train_data[:,0]))"
      ],
      "metadata": {
        "colab": {
          "base_uri": "https://localhost:8080/"
        },
        "id": "cGH9hmFwafTf",
        "outputId": "891580a7-ad2f-48eb-b041-ff2c8cc437e4"
      },
      "execution_count": 22,
      "outputs": [
        {
          "output_type": "stream",
          "name": "stdout",
          "text": [
            "['0' '1' '2']\n"
          ]
        }
      ]
    },
    {
      "cell_type": "code",
      "execution_count": 23,
      "metadata": {
        "colab": {
          "base_uri": "https://localhost:8080/",
          "height": 920,
          "referenced_widgets": [
            "ff65ce7b7f3e47aab12920080748b405",
            "009a61fd90c747a5ab0dba5c85d15051",
            "76e939930ccf4d8bbde90a28733e61d8",
            "15eec4ac52454033b2112051435ea7cc",
            "b542b9e2e2fc4f3a8d9ee5707d54ba98",
            "28c0f40f80144869841a44da025dd6d6",
            "3ff794ad4ef54afd955383feae99fb88",
            "226c10d3faea41eb82228c4176e7fae1",
            "a80bff283a104b77a1dbc144d7e85eb4",
            "f723b2aa18d348a4a1e14cee6e2a726c",
            "41fcf8e87e6a4ebdbb99e2e4df2d167a"
          ]
        },
        "id": "GWDExyfRWXUJ",
        "outputId": "c5353dc0-e3e7-4a89-d024-7b065ba500d5"
      },
      "outputs": [
        {
          "output_type": "stream",
          "name": "stdout",
          "text": [
            "3\n"
          ]
        },
        {
          "output_type": "display_data",
          "data": {
            "text/plain": [
              "model.safetensors:   0%|          | 0.00/440M [00:00<?, ?B/s]"
            ],
            "application/vnd.jupyter.widget-view+json": {
              "version_major": 2,
              "version_minor": 0,
              "model_id": "ff65ce7b7f3e47aab12920080748b405"
            }
          },
          "metadata": {}
        },
        {
          "output_type": "stream",
          "name": "stderr",
          "text": [
            "Some weights of BertForSequenceClassification were not initialized from the model checkpoint at bert-base-uncased and are newly initialized: ['classifier.bias', 'classifier.weight']\n",
            "You should probably TRAIN this model on a down-stream task to be able to use it for predictions and inference.\n"
          ]
        },
        {
          "output_type": "execute_result",
          "data": {
            "text/plain": [
              "BertForSequenceClassification(\n",
              "  (bert): BertModel(\n",
              "    (embeddings): BertEmbeddings(\n",
              "      (word_embeddings): Embedding(30522, 768, padding_idx=0)\n",
              "      (position_embeddings): Embedding(512, 768)\n",
              "      (token_type_embeddings): Embedding(2, 768)\n",
              "      (LayerNorm): LayerNorm((768,), eps=1e-12, elementwise_affine=True)\n",
              "      (dropout): Dropout(p=0.1, inplace=False)\n",
              "    )\n",
              "    (encoder): BertEncoder(\n",
              "      (layer): ModuleList(\n",
              "        (0-11): 12 x BertLayer(\n",
              "          (attention): BertAttention(\n",
              "            (self): BertSdpaSelfAttention(\n",
              "              (query): Linear(in_features=768, out_features=768, bias=True)\n",
              "              (key): Linear(in_features=768, out_features=768, bias=True)\n",
              "              (value): Linear(in_features=768, out_features=768, bias=True)\n",
              "              (dropout): Dropout(p=0.1, inplace=False)\n",
              "            )\n",
              "            (output): BertSelfOutput(\n",
              "              (dense): Linear(in_features=768, out_features=768, bias=True)\n",
              "              (LayerNorm): LayerNorm((768,), eps=1e-12, elementwise_affine=True)\n",
              "              (dropout): Dropout(p=0.1, inplace=False)\n",
              "            )\n",
              "          )\n",
              "          (intermediate): BertIntermediate(\n",
              "            (dense): Linear(in_features=768, out_features=3072, bias=True)\n",
              "            (intermediate_act_fn): GELUActivation()\n",
              "          )\n",
              "          (output): BertOutput(\n",
              "            (dense): Linear(in_features=3072, out_features=768, bias=True)\n",
              "            (LayerNorm): LayerNorm((768,), eps=1e-12, elementwise_affine=True)\n",
              "            (dropout): Dropout(p=0.1, inplace=False)\n",
              "          )\n",
              "        )\n",
              "      )\n",
              "    )\n",
              "    (pooler): BertPooler(\n",
              "      (dense): Linear(in_features=768, out_features=768, bias=True)\n",
              "      (activation): Tanh()\n",
              "    )\n",
              "  )\n",
              "  (dropout): Dropout(p=0.1, inplace=False)\n",
              "  (classifier): Linear(in_features=768, out_features=3, bias=True)\n",
              ")"
            ]
          },
          "metadata": {},
          "execution_count": 23
        }
      ],
      "source": [
        "# Load SciBERT model\n",
        "print(len(np.unique(train_data[:,0])))\n",
        "model = AutoModelForSequenceClassification.from_pretrained(\"bert-base-uncased\", num_labels=len(np.unique(train_data[:,0])))\n",
        "device = torch.device(\"cuda\" if torch.cuda.is_available() else \"cpu\")\n",
        "model.to(device)"
      ]
    },
    {
      "cell_type": "code",
      "execution_count": 24,
      "metadata": {
        "colab": {
          "base_uri": "https://localhost:8080/"
        },
        "id": "FXZH5dFPWXUJ",
        "outputId": "33ecaa36-804f-4333-f9a9-080a0fc0277a"
      },
      "outputs": [
        {
          "output_type": "execute_result",
          "data": {
            "text/plain": [
              "BertConfig {\n",
              "  \"_name_or_path\": \"bert-base-uncased\",\n",
              "  \"architectures\": [\n",
              "    \"BertForMaskedLM\"\n",
              "  ],\n",
              "  \"attention_probs_dropout_prob\": 0.1,\n",
              "  \"classifier_dropout\": null,\n",
              "  \"gradient_checkpointing\": false,\n",
              "  \"hidden_act\": \"gelu\",\n",
              "  \"hidden_dropout_prob\": 0.1,\n",
              "  \"hidden_size\": 768,\n",
              "  \"id2label\": {\n",
              "    \"0\": \"LABEL_0\",\n",
              "    \"1\": \"LABEL_1\",\n",
              "    \"2\": \"LABEL_2\"\n",
              "  },\n",
              "  \"initializer_range\": 0.02,\n",
              "  \"intermediate_size\": 3072,\n",
              "  \"label2id\": {\n",
              "    \"LABEL_0\": 0,\n",
              "    \"LABEL_1\": 1,\n",
              "    \"LABEL_2\": 2\n",
              "  },\n",
              "  \"layer_norm_eps\": 1e-12,\n",
              "  \"max_position_embeddings\": 512,\n",
              "  \"model_type\": \"bert\",\n",
              "  \"num_attention_heads\": 12,\n",
              "  \"num_hidden_layers\": 12,\n",
              "  \"pad_token_id\": 0,\n",
              "  \"position_embedding_type\": \"absolute\",\n",
              "  \"transformers_version\": \"4.42.4\",\n",
              "  \"type_vocab_size\": 2,\n",
              "  \"use_cache\": true,\n",
              "  \"vocab_size\": 30522\n",
              "}"
            ]
          },
          "metadata": {},
          "execution_count": 24
        }
      ],
      "source": [
        "model.config"
      ]
    },
    {
      "cell_type": "code",
      "execution_count": 25,
      "metadata": {
        "colab": {
          "base_uri": "https://localhost:8080/"
        },
        "id": "SXpJq-t0WXUJ",
        "outputId": "15fdc988-b2ad-48ab-8f0e-7ac8eee326dc"
      },
      "outputs": [
        {
          "output_type": "stream",
          "name": "stderr",
          "text": [
            "/usr/local/lib/python3.10/dist-packages/transformers/optimization.py:591: FutureWarning: This implementation of AdamW is deprecated and will be removed in a future version. Use the PyTorch implementation torch.optim.AdamW instead, or set `no_deprecation_warning=True` to disable this warning\n",
            "  warnings.warn(\n"
          ]
        }
      ],
      "source": [
        "# Optimizer and learning rate scheduler\n",
        "optimizer = AdamW(model.parameters(), lr=2e-5, eps=1e-8)\n",
        "total_steps = len(train_dataloader) * 20\n",
        "num_warmup_steps = 1e-4\n",
        "scheduler = get_linear_schedule_with_warmup(optimizer, num_warmup_steps=num_warmup_steps, num_training_steps=total_steps)"
      ]
    },
    {
      "cell_type": "code",
      "execution_count": 26,
      "metadata": {
        "id": "PL4PtJ4_WXUJ"
      },
      "outputs": [],
      "source": [
        "def calculate_metrics(valType, predictions, true_labels):\n",
        "    # Confusion matrix\n",
        "    if(valType == 'test'):\n",
        "        cm = confusion_matrix(true_labels, predictions)\n",
        "        print(\"Confusion Matrix:\\n\", cm)\n",
        "\n",
        "        # Classification report (includes precision, recall, F1 score)\n",
        "        report = classification_report(true_labels, predictions, target_names=[str(i) for i in range(len(np.unique(true_labels)))])\n",
        "        print(\"\\nClassification Report:\\n\", report)\n",
        "\n",
        "        # Calculate different types of F1 scores, precision, and recall\n",
        "        f1_macro = f1_score(true_labels, predictions, average='macro')\n",
        "        f1_micro = f1_score(true_labels, predictions, average='micro')\n",
        "        f1_weighted = f1_score(true_labels, predictions, average='weighted')\n",
        "\n",
        "        precision_macro = precision_score(true_labels, predictions, average='macro')\n",
        "        precision_micro = precision_score(true_labels, predictions, average='micro')\n",
        "        precision_weighted = precision_score(true_labels, predictions, average='weighted')\n",
        "\n",
        "        recall_macro = recall_score(true_labels, predictions, average='macro')\n",
        "        recall_micro = recall_score(true_labels, predictions, average='micro')\n",
        "        recall_weighted = recall_score(true_labels, predictions, average='weighted')\n",
        "\n",
        "        print(f\"Macro F1 Score: {f1_macro}\")\n",
        "        print(f\"Micro F1 Score: {f1_micro}\")\n",
        "        print(f\"Weighted F1 Score: {f1_weighted}\")\n",
        "\n",
        "        print(f\"Macro Precision: {precision_macro}\")\n",
        "        print(f\"Micro Precision: {precision_micro}\")\n",
        "        print(f\"Weighted Precision: {precision_weighted}\")\n",
        "\n",
        "        print(f\"Macro Recall: {recall_macro}\")\n",
        "        print(f\"Micro Recall: {recall_micro}\")\n",
        "        print(f\"Weighted Recall: {recall_weighted}\")\n",
        "\n",
        "    elif(valType == 'val'):\n",
        "        cm = confusion_matrix(true_labels, predictions)\n",
        "        f1_macro = f1_score(true_labels, predictions, average='macro')\n",
        "        f1_micro = f1_score(true_labels, predictions, average='micro')\n",
        "        f1_weighted = f1_score(true_labels, predictions, average='weighted')\n",
        "\n",
        "        precision_macro = precision_score(true_labels, predictions, average='macro')\n",
        "        precision_micro = precision_score(true_labels, predictions, average='micro')\n",
        "        precision_weighted = precision_score(true_labels, predictions, average='weighted')\n",
        "\n",
        "        recall_macro = recall_score(true_labels, predictions, average='macro')\n",
        "        recall_micro = recall_score(true_labels, predictions, average='micro')\n",
        "        recall_weighted = recall_score(true_labels, predictions, average='weighted')\n",
        "        # print('Val Micro F1:', f1_micro)\n",
        "        return f1_micro"
      ]
    },
    {
      "cell_type": "code",
      "execution_count": 27,
      "metadata": {
        "colab": {
          "base_uri": "https://localhost:8080/"
        },
        "id": "aAhwPA8HWXUJ",
        "outputId": "c2c1cf58-9dc3-47f4-dcc9-c37f2004827a"
      },
      "outputs": [
        {
          "output_type": "stream",
          "name": "stderr",
          "text": [
            "Epoch 1/20: 100%|██████████| 144/144 [01:31<00:00,  1.57batch/s]\n"
          ]
        },
        {
          "output_type": "stream",
          "name": "stdout",
          "text": [
            "Epoch 1/20\n",
            "  Train Loss: 0.3391011112835258\n",
            "  Val Micro F1: 0.9652173913043478\n",
            "  Time: 1m 33s\n"
          ]
        },
        {
          "output_type": "stream",
          "name": "stderr",
          "text": [
            "Epoch 2/20: 100%|██████████| 144/144 [01:41<00:00,  1.42batch/s]\n"
          ]
        },
        {
          "output_type": "stream",
          "name": "stdout",
          "text": [
            "Epoch 2/20\n",
            "  Train Loss: 0.09626991716019499\n",
            "  Val Micro F1: 0.9652173913043478\n",
            "  Time: 1m 43s\n"
          ]
        },
        {
          "output_type": "stream",
          "name": "stderr",
          "text": [
            "Epoch 3/20: 100%|██████████| 144/144 [01:41<00:00,  1.42batch/s]\n"
          ]
        },
        {
          "output_type": "stream",
          "name": "stdout",
          "text": [
            "Epoch 3/20\n",
            "  Train Loss: 0.047965413433202125\n",
            "  Val Micro F1: 0.9782608695652174\n",
            "  Time: 1m 43s\n"
          ]
        },
        {
          "output_type": "stream",
          "name": "stderr",
          "text": [
            "Epoch 4/20: 100%|██████████| 144/144 [01:41<00:00,  1.42batch/s]\n"
          ]
        },
        {
          "output_type": "stream",
          "name": "stdout",
          "text": [
            "Epoch 4/20\n",
            "  Train Loss: 0.02322025409133251\n",
            "  Val Micro F1: 0.9739130434782609\n",
            "  Time: 1m 43s\n"
          ]
        },
        {
          "output_type": "stream",
          "name": "stderr",
          "text": [
            "Epoch 5/20: 100%|██████████| 144/144 [01:41<00:00,  1.42batch/s]\n"
          ]
        },
        {
          "output_type": "stream",
          "name": "stdout",
          "text": [
            "Epoch 5/20\n",
            "  Train Loss: 0.01259628910863992\n",
            "  Val Micro F1: 0.9608695652173913\n",
            "  Time: 1m 43s\n"
          ]
        },
        {
          "output_type": "stream",
          "name": "stderr",
          "text": [
            "Epoch 6/20: 100%|██████████| 144/144 [01:41<00:00,  1.42batch/s]\n"
          ]
        },
        {
          "output_type": "stream",
          "name": "stdout",
          "text": [
            "Epoch 6/20\n",
            "  Train Loss: 0.006508259394953105\n",
            "  Val Micro F1: 0.9652173913043478\n",
            "  Time: 1m 43s\n"
          ]
        },
        {
          "output_type": "stream",
          "name": "stderr",
          "text": [
            "Epoch 7/20: 100%|██████████| 144/144 [01:41<00:00,  1.42batch/s]\n"
          ]
        },
        {
          "output_type": "stream",
          "name": "stdout",
          "text": [
            "Epoch 7/20\n",
            "  Train Loss: 0.0017296961757690748\n",
            "  Val Micro F1: 0.9652173913043478\n",
            "  Time: 1m 43s\n"
          ]
        },
        {
          "output_type": "stream",
          "name": "stderr",
          "text": [
            "Epoch 8/20: 100%|██████████| 144/144 [01:41<00:00,  1.42batch/s]\n"
          ]
        },
        {
          "output_type": "stream",
          "name": "stdout",
          "text": [
            "Epoch 8/20\n",
            "  Train Loss: 0.0015420057671791357\n",
            "  Val Micro F1: 0.9695652173913043\n",
            "  Time: 1m 43s\n"
          ]
        },
        {
          "output_type": "stream",
          "name": "stderr",
          "text": [
            "Epoch 9/20: 100%|██████████| 144/144 [01:41<00:00,  1.42batch/s]\n"
          ]
        },
        {
          "output_type": "stream",
          "name": "stdout",
          "text": [
            "Epoch 9/20\n",
            "  Train Loss: 0.0007855411226450491\n",
            "  Val Micro F1: 0.9652173913043478\n",
            "  Time: 1m 43s\n"
          ]
        },
        {
          "output_type": "stream",
          "name": "stderr",
          "text": [
            "Epoch 10/20: 100%|██████████| 144/144 [01:41<00:00,  1.42batch/s]\n"
          ]
        },
        {
          "output_type": "stream",
          "name": "stdout",
          "text": [
            "Epoch 10/20\n",
            "  Train Loss: 0.0009861112482920159\n",
            "  Val Micro F1: 0.9695652173913043\n",
            "  Time: 1m 43s\n"
          ]
        },
        {
          "output_type": "stream",
          "name": "stderr",
          "text": [
            "Epoch 11/20: 100%|██████████| 144/144 [01:41<00:00,  1.42batch/s]\n"
          ]
        },
        {
          "output_type": "stream",
          "name": "stdout",
          "text": [
            "Epoch 11/20\n",
            "  Train Loss: 0.0002676571748452261\n",
            "  Val Micro F1: 0.9695652173913043\n",
            "  Time: 1m 43s\n"
          ]
        },
        {
          "output_type": "stream",
          "name": "stderr",
          "text": [
            "Epoch 12/20: 100%|██████████| 144/144 [01:41<00:00,  1.42batch/s]\n"
          ]
        },
        {
          "output_type": "stream",
          "name": "stdout",
          "text": [
            "Epoch 12/20\n",
            "  Train Loss: 0.00023875924398453208\n",
            "  Val Micro F1: 0.9695652173913043\n",
            "  Time: 1m 43s\n"
          ]
        },
        {
          "output_type": "stream",
          "name": "stderr",
          "text": [
            "Epoch 13/20: 100%|██████████| 144/144 [01:41<00:00,  1.42batch/s]\n"
          ]
        },
        {
          "output_type": "stream",
          "name": "stdout",
          "text": [
            "Epoch 13/20\n",
            "  Train Loss: 0.00019064393422417602\n",
            "  Val Micro F1: 0.9695652173913043\n",
            "  Time: 1m 43s\n"
          ]
        },
        {
          "output_type": "stream",
          "name": "stderr",
          "text": [
            "Epoch 14/20: 100%|██████████| 144/144 [01:41<00:00,  1.42batch/s]\n"
          ]
        },
        {
          "output_type": "stream",
          "name": "stdout",
          "text": [
            "Epoch 14/20\n",
            "  Train Loss: 0.00017719495665207633\n",
            "  Val Micro F1: 0.9695652173913043\n",
            "  Time: 1m 43s\n"
          ]
        },
        {
          "output_type": "stream",
          "name": "stderr",
          "text": [
            "Epoch 15/20: 100%|██████████| 144/144 [01:41<00:00,  1.42batch/s]\n"
          ]
        },
        {
          "output_type": "stream",
          "name": "stdout",
          "text": [
            "Epoch 15/20\n",
            "  Train Loss: 0.00016194338574374947\n",
            "  Val Micro F1: 0.9695652173913043\n",
            "  Time: 1m 43s\n"
          ]
        },
        {
          "output_type": "stream",
          "name": "stderr",
          "text": [
            "Epoch 16/20: 100%|██████████| 144/144 [01:41<00:00,  1.42batch/s]\n"
          ]
        },
        {
          "output_type": "stream",
          "name": "stdout",
          "text": [
            "Epoch 16/20\n",
            "  Train Loss: 0.00016795882791282365\n",
            "  Val Micro F1: 0.9695652173913043\n",
            "  Time: 1m 43s\n"
          ]
        },
        {
          "output_type": "stream",
          "name": "stderr",
          "text": [
            "Epoch 17/20: 100%|██████████| 144/144 [01:41<00:00,  1.42batch/s]\n"
          ]
        },
        {
          "output_type": "stream",
          "name": "stdout",
          "text": [
            "Epoch 17/20\n",
            "  Train Loss: 0.0001414465492012419\n",
            "  Val Micro F1: 0.9695652173913043\n",
            "  Time: 1m 43s\n"
          ]
        },
        {
          "output_type": "stream",
          "name": "stderr",
          "text": [
            "Epoch 18/20: 100%|██████████| 144/144 [01:41<00:00,  1.42batch/s]\n"
          ]
        },
        {
          "output_type": "stream",
          "name": "stdout",
          "text": [
            "Epoch 18/20\n",
            "  Train Loss: 0.00013808094399792026\n",
            "  Val Micro F1: 0.9695652173913043\n",
            "  Time: 1m 43s\n"
          ]
        },
        {
          "output_type": "stream",
          "name": "stderr",
          "text": [
            "Epoch 19/20: 100%|██████████| 144/144 [01:41<00:00,  1.42batch/s]\n"
          ]
        },
        {
          "output_type": "stream",
          "name": "stdout",
          "text": [
            "Epoch 19/20\n",
            "  Train Loss: 0.00013079222475830142\n",
            "  Val Micro F1: 0.9695652173913043\n",
            "  Time: 1m 43s\n"
          ]
        },
        {
          "output_type": "stream",
          "name": "stderr",
          "text": [
            "Epoch 20/20: 100%|██████████| 144/144 [01:41<00:00,  1.42batch/s]\n"
          ]
        },
        {
          "output_type": "stream",
          "name": "stdout",
          "text": [
            "Epoch 20/20\n",
            "  Train Loss: 0.00013016799903198262\n",
            "  Val Micro F1: 0.9695652173913043\n",
            "  Time: 1m 43s\n"
          ]
        }
      ],
      "source": [
        "epochs = 20\n",
        "for epoch in range(epochs):\n",
        "    model.train()\n",
        "    total_train_loss = 0\n",
        "    start_time = time.time()\n",
        "\n",
        "    # Training\n",
        "    for step, batch in enumerate(tqdm(train_dataloader, desc=f\"Epoch {epoch + 1}/{epochs}\", unit=\"batch\")):\n",
        "        batch = tuple(t.to(device) for t in batch)\n",
        "        input_ids, input_mask, labels = batch\n",
        "\n",
        "\n",
        "        model.zero_grad()\n",
        "        outputs = model(input_ids=input_ids, attention_mask=input_mask, labels=labels)\n",
        "        loss = outputs.loss\n",
        "        total_train_loss += loss.item()\n",
        "\n",
        "        loss.backward()\n",
        "        torch.nn.utils.clip_grad_norm_(model.parameters(), max_norm=1.0)\n",
        "        optimizer.step()\n",
        "        scheduler.step()\n",
        "\n",
        "    avg_train_loss = total_train_loss / len(train_dataloader)\n",
        "\n",
        "    # Validation\n",
        "    model.eval()\n",
        "    predictions = []\n",
        "    true_labels = []\n",
        "\n",
        "    for batch in val_dataloader:\n",
        "        batch = tuple(t.to(device) for t in batch)\n",
        "        input_ids, input_mask, labels = batch\n",
        "\n",
        "        with torch.no_grad():\n",
        "            outputs = model(input_ids=input_ids, attention_mask=input_mask)\n",
        "            logits = outputs.logits\n",
        "\n",
        "        logits = logits.detach().cpu().numpy()\n",
        "        label_ids = labels.to('cpu').numpy()\n",
        "\n",
        "        batch_predictions = np.argmax(logits, axis=1)\n",
        "        predictions.extend(batch_predictions)\n",
        "        true_labels.extend(label_ids)\n",
        "\n",
        "    val_micro_f1 = calculate_metrics('val', predictions, true_labels)\n",
        "    elapsed_time = time.time() - start_time\n",
        "\n",
        "    # Print epoch summary\n",
        "    print(f\"Epoch {epoch + 1}/{epochs}\")\n",
        "    print(f\"  Train Loss: {avg_train_loss}\")\n",
        "    print(f\"  Val Micro F1: {val_micro_f1}\")\n",
        "    print(f\"  Time: {elapsed_time // 60:.0f}m {elapsed_time % 60:.0f}s\")"
      ]
    },
    {
      "cell_type": "code",
      "execution_count": 28,
      "metadata": {
        "colab": {
          "base_uri": "https://localhost:8080/"
        },
        "id": "eySPoilnWXUJ",
        "outputId": "0ebe2690-bc6a-41a8-b47d-f9ab83357db6"
      },
      "outputs": [
        {
          "output_type": "stream",
          "name": "stdout",
          "text": [
            "Confusion Matrix:\n",
            " [[236   4   4]\n",
            " [  6 302  12]\n",
            " [  3  15 566]]\n",
            "\n",
            "Classification Report:\n",
            "               precision    recall  f1-score   support\n",
            "\n",
            "           0       0.96      0.97      0.97       244\n",
            "           1       0.94      0.94      0.94       320\n",
            "           2       0.97      0.97      0.97       584\n",
            "\n",
            "    accuracy                           0.96      1148\n",
            "   macro avg       0.96      0.96      0.96      1148\n",
            "weighted avg       0.96      0.96      0.96      1148\n",
            "\n",
            "Macro F1 Score: 0.9594511150687391\n",
            "Micro F1 Score: 0.9616724738675958\n",
            "Weighted F1 Score: 0.961687355442342\n",
            "Macro Precision: 0.9588612886783644\n",
            "Micro Precision: 0.9616724738675958\n",
            "Weighted Precision: 0.9617081375497916\n",
            "Macro Recall: 0.9600470656486264\n",
            "Micro Recall: 0.9616724738675958\n",
            "Weighted Recall: 0.9616724738675958\n"
          ]
        }
      ],
      "source": [
        "# Evaluation\n",
        "model.eval()\n",
        "predictions = []\n",
        "true_labels = []\n",
        "\n",
        "for batch in test_dataloader:\n",
        "    batch = tuple(t.to(device) for t in batch)\n",
        "    input_ids, input_mask, labels = batch\n",
        "\n",
        "    with torch.no_grad():\n",
        "        outputs = model(input_ids=input_ids, attention_mask=input_mask)\n",
        "        logits = outputs.logits\n",
        "\n",
        "    logits = logits.detach().cpu().numpy()\n",
        "    label_ids = labels.to('cpu').numpy()\n",
        "\n",
        "    batch_predictions = np.argmax(logits, axis=1)\n",
        "    predictions.extend(batch_predictions)\n",
        "    true_labels.extend(label_ids)\n",
        "\n",
        "# Calculate and print metrics\n",
        "calculate_metrics('test', predictions, true_labels)"
      ]
    },
    {
      "cell_type": "code",
      "execution_count": 29,
      "metadata": {
        "id": "GDaeLSDEWXUJ"
      },
      "outputs": [],
      "source": [
        "model.save_pretrained('/content/drive/MyDrive/WoS/BERT_WoS_Abstracts_5736')"
      ]
    }
  ],
  "metadata": {
    "language_info": {
      "name": "python"
    },
    "colab": {
      "provenance": [],
      "gpuType": "T4"
    },
    "kernelspec": {
      "name": "python3",
      "display_name": "Python 3"
    },
    "accelerator": "GPU",
    "widgets": {
      "application/vnd.jupyter.widget-state+json": {
        "26d8204e845c4432824aa5c89b171736": {
          "model_module": "@jupyter-widgets/controls",
          "model_name": "HBoxModel",
          "model_module_version": "1.5.0",
          "state": {
            "_dom_classes": [],
            "_model_module": "@jupyter-widgets/controls",
            "_model_module_version": "1.5.0",
            "_model_name": "HBoxModel",
            "_view_count": null,
            "_view_module": "@jupyter-widgets/controls",
            "_view_module_version": "1.5.0",
            "_view_name": "HBoxView",
            "box_style": "",
            "children": [
              "IPY_MODEL_ecf184d9cfee4b178c00897a74622d73",
              "IPY_MODEL_cddf50e13de54c1f825f1dc42af11bf6",
              "IPY_MODEL_0e44f249610f4f449f93231f7551202e"
            ],
            "layout": "IPY_MODEL_c3a3f87df5af490ca067fdcb8b5fabfd"
          }
        },
        "ecf184d9cfee4b178c00897a74622d73": {
          "model_module": "@jupyter-widgets/controls",
          "model_name": "HTMLModel",
          "model_module_version": "1.5.0",
          "state": {
            "_dom_classes": [],
            "_model_module": "@jupyter-widgets/controls",
            "_model_module_version": "1.5.0",
            "_model_name": "HTMLModel",
            "_view_count": null,
            "_view_module": "@jupyter-widgets/controls",
            "_view_module_version": "1.5.0",
            "_view_name": "HTMLView",
            "description": "",
            "description_tooltip": null,
            "layout": "IPY_MODEL_fdd8cfffbad44d4baaa56c3ac2a2f64b",
            "placeholder": "​",
            "style": "IPY_MODEL_b19ad6f3d0374262b18ddce26515ce10",
            "value": "tokenizer_config.json: 100%"
          }
        },
        "cddf50e13de54c1f825f1dc42af11bf6": {
          "model_module": "@jupyter-widgets/controls",
          "model_name": "FloatProgressModel",
          "model_module_version": "1.5.0",
          "state": {
            "_dom_classes": [],
            "_model_module": "@jupyter-widgets/controls",
            "_model_module_version": "1.5.0",
            "_model_name": "FloatProgressModel",
            "_view_count": null,
            "_view_module": "@jupyter-widgets/controls",
            "_view_module_version": "1.5.0",
            "_view_name": "ProgressView",
            "bar_style": "success",
            "description": "",
            "description_tooltip": null,
            "layout": "IPY_MODEL_c35f6522c9f44f3ba16a69fd3004aabc",
            "max": 48,
            "min": 0,
            "orientation": "horizontal",
            "style": "IPY_MODEL_dd5fc63de53240d29ced65c22cd0c523",
            "value": 48
          }
        },
        "0e44f249610f4f449f93231f7551202e": {
          "model_module": "@jupyter-widgets/controls",
          "model_name": "HTMLModel",
          "model_module_version": "1.5.0",
          "state": {
            "_dom_classes": [],
            "_model_module": "@jupyter-widgets/controls",
            "_model_module_version": "1.5.0",
            "_model_name": "HTMLModel",
            "_view_count": null,
            "_view_module": "@jupyter-widgets/controls",
            "_view_module_version": "1.5.0",
            "_view_name": "HTMLView",
            "description": "",
            "description_tooltip": null,
            "layout": "IPY_MODEL_f8a0f1859e74436f9bb102f8f9b00a7a",
            "placeholder": "​",
            "style": "IPY_MODEL_66e7c8ab95354b939c4c543b857d653b",
            "value": " 48.0/48.0 [00:00&lt;00:00, 1.37kB/s]"
          }
        },
        "c3a3f87df5af490ca067fdcb8b5fabfd": {
          "model_module": "@jupyter-widgets/base",
          "model_name": "LayoutModel",
          "model_module_version": "1.2.0",
          "state": {
            "_model_module": "@jupyter-widgets/base",
            "_model_module_version": "1.2.0",
            "_model_name": "LayoutModel",
            "_view_count": null,
            "_view_module": "@jupyter-widgets/base",
            "_view_module_version": "1.2.0",
            "_view_name": "LayoutView",
            "align_content": null,
            "align_items": null,
            "align_self": null,
            "border": null,
            "bottom": null,
            "display": null,
            "flex": null,
            "flex_flow": null,
            "grid_area": null,
            "grid_auto_columns": null,
            "grid_auto_flow": null,
            "grid_auto_rows": null,
            "grid_column": null,
            "grid_gap": null,
            "grid_row": null,
            "grid_template_areas": null,
            "grid_template_columns": null,
            "grid_template_rows": null,
            "height": null,
            "justify_content": null,
            "justify_items": null,
            "left": null,
            "margin": null,
            "max_height": null,
            "max_width": null,
            "min_height": null,
            "min_width": null,
            "object_fit": null,
            "object_position": null,
            "order": null,
            "overflow": null,
            "overflow_x": null,
            "overflow_y": null,
            "padding": null,
            "right": null,
            "top": null,
            "visibility": null,
            "width": null
          }
        },
        "fdd8cfffbad44d4baaa56c3ac2a2f64b": {
          "model_module": "@jupyter-widgets/base",
          "model_name": "LayoutModel",
          "model_module_version": "1.2.0",
          "state": {
            "_model_module": "@jupyter-widgets/base",
            "_model_module_version": "1.2.0",
            "_model_name": "LayoutModel",
            "_view_count": null,
            "_view_module": "@jupyter-widgets/base",
            "_view_module_version": "1.2.0",
            "_view_name": "LayoutView",
            "align_content": null,
            "align_items": null,
            "align_self": null,
            "border": null,
            "bottom": null,
            "display": null,
            "flex": null,
            "flex_flow": null,
            "grid_area": null,
            "grid_auto_columns": null,
            "grid_auto_flow": null,
            "grid_auto_rows": null,
            "grid_column": null,
            "grid_gap": null,
            "grid_row": null,
            "grid_template_areas": null,
            "grid_template_columns": null,
            "grid_template_rows": null,
            "height": null,
            "justify_content": null,
            "justify_items": null,
            "left": null,
            "margin": null,
            "max_height": null,
            "max_width": null,
            "min_height": null,
            "min_width": null,
            "object_fit": null,
            "object_position": null,
            "order": null,
            "overflow": null,
            "overflow_x": null,
            "overflow_y": null,
            "padding": null,
            "right": null,
            "top": null,
            "visibility": null,
            "width": null
          }
        },
        "b19ad6f3d0374262b18ddce26515ce10": {
          "model_module": "@jupyter-widgets/controls",
          "model_name": "DescriptionStyleModel",
          "model_module_version": "1.5.0",
          "state": {
            "_model_module": "@jupyter-widgets/controls",
            "_model_module_version": "1.5.0",
            "_model_name": "DescriptionStyleModel",
            "_view_count": null,
            "_view_module": "@jupyter-widgets/base",
            "_view_module_version": "1.2.0",
            "_view_name": "StyleView",
            "description_width": ""
          }
        },
        "c35f6522c9f44f3ba16a69fd3004aabc": {
          "model_module": "@jupyter-widgets/base",
          "model_name": "LayoutModel",
          "model_module_version": "1.2.0",
          "state": {
            "_model_module": "@jupyter-widgets/base",
            "_model_module_version": "1.2.0",
            "_model_name": "LayoutModel",
            "_view_count": null,
            "_view_module": "@jupyter-widgets/base",
            "_view_module_version": "1.2.0",
            "_view_name": "LayoutView",
            "align_content": null,
            "align_items": null,
            "align_self": null,
            "border": null,
            "bottom": null,
            "display": null,
            "flex": null,
            "flex_flow": null,
            "grid_area": null,
            "grid_auto_columns": null,
            "grid_auto_flow": null,
            "grid_auto_rows": null,
            "grid_column": null,
            "grid_gap": null,
            "grid_row": null,
            "grid_template_areas": null,
            "grid_template_columns": null,
            "grid_template_rows": null,
            "height": null,
            "justify_content": null,
            "justify_items": null,
            "left": null,
            "margin": null,
            "max_height": null,
            "max_width": null,
            "min_height": null,
            "min_width": null,
            "object_fit": null,
            "object_position": null,
            "order": null,
            "overflow": null,
            "overflow_x": null,
            "overflow_y": null,
            "padding": null,
            "right": null,
            "top": null,
            "visibility": null,
            "width": null
          }
        },
        "dd5fc63de53240d29ced65c22cd0c523": {
          "model_module": "@jupyter-widgets/controls",
          "model_name": "ProgressStyleModel",
          "model_module_version": "1.5.0",
          "state": {
            "_model_module": "@jupyter-widgets/controls",
            "_model_module_version": "1.5.0",
            "_model_name": "ProgressStyleModel",
            "_view_count": null,
            "_view_module": "@jupyter-widgets/base",
            "_view_module_version": "1.2.0",
            "_view_name": "StyleView",
            "bar_color": null,
            "description_width": ""
          }
        },
        "f8a0f1859e74436f9bb102f8f9b00a7a": {
          "model_module": "@jupyter-widgets/base",
          "model_name": "LayoutModel",
          "model_module_version": "1.2.0",
          "state": {
            "_model_module": "@jupyter-widgets/base",
            "_model_module_version": "1.2.0",
            "_model_name": "LayoutModel",
            "_view_count": null,
            "_view_module": "@jupyter-widgets/base",
            "_view_module_version": "1.2.0",
            "_view_name": "LayoutView",
            "align_content": null,
            "align_items": null,
            "align_self": null,
            "border": null,
            "bottom": null,
            "display": null,
            "flex": null,
            "flex_flow": null,
            "grid_area": null,
            "grid_auto_columns": null,
            "grid_auto_flow": null,
            "grid_auto_rows": null,
            "grid_column": null,
            "grid_gap": null,
            "grid_row": null,
            "grid_template_areas": null,
            "grid_template_columns": null,
            "grid_template_rows": null,
            "height": null,
            "justify_content": null,
            "justify_items": null,
            "left": null,
            "margin": null,
            "max_height": null,
            "max_width": null,
            "min_height": null,
            "min_width": null,
            "object_fit": null,
            "object_position": null,
            "order": null,
            "overflow": null,
            "overflow_x": null,
            "overflow_y": null,
            "padding": null,
            "right": null,
            "top": null,
            "visibility": null,
            "width": null
          }
        },
        "66e7c8ab95354b939c4c543b857d653b": {
          "model_module": "@jupyter-widgets/controls",
          "model_name": "DescriptionStyleModel",
          "model_module_version": "1.5.0",
          "state": {
            "_model_module": "@jupyter-widgets/controls",
            "_model_module_version": "1.5.0",
            "_model_name": "DescriptionStyleModel",
            "_view_count": null,
            "_view_module": "@jupyter-widgets/base",
            "_view_module_version": "1.2.0",
            "_view_name": "StyleView",
            "description_width": ""
          }
        },
        "54a9220d2a194235934db4e995c51ac6": {
          "model_module": "@jupyter-widgets/controls",
          "model_name": "HBoxModel",
          "model_module_version": "1.5.0",
          "state": {
            "_dom_classes": [],
            "_model_module": "@jupyter-widgets/controls",
            "_model_module_version": "1.5.0",
            "_model_name": "HBoxModel",
            "_view_count": null,
            "_view_module": "@jupyter-widgets/controls",
            "_view_module_version": "1.5.0",
            "_view_name": "HBoxView",
            "box_style": "",
            "children": [
              "IPY_MODEL_20207d18e932481aa4c0b454f074e6a3",
              "IPY_MODEL_89a75ecd09e24cc897af635e0e0677ef",
              "IPY_MODEL_51ddac616dbc4ebda01c31520de4286b"
            ],
            "layout": "IPY_MODEL_c63429ad09bb486dbff560b123c5f3d0"
          }
        },
        "20207d18e932481aa4c0b454f074e6a3": {
          "model_module": "@jupyter-widgets/controls",
          "model_name": "HTMLModel",
          "model_module_version": "1.5.0",
          "state": {
            "_dom_classes": [],
            "_model_module": "@jupyter-widgets/controls",
            "_model_module_version": "1.5.0",
            "_model_name": "HTMLModel",
            "_view_count": null,
            "_view_module": "@jupyter-widgets/controls",
            "_view_module_version": "1.5.0",
            "_view_name": "HTMLView",
            "description": "",
            "description_tooltip": null,
            "layout": "IPY_MODEL_8b47e9adcb7442a4b404f3454fcef48f",
            "placeholder": "​",
            "style": "IPY_MODEL_d406668abdfb45e9b5075a365f25f305",
            "value": "config.json: 100%"
          }
        },
        "89a75ecd09e24cc897af635e0e0677ef": {
          "model_module": "@jupyter-widgets/controls",
          "model_name": "FloatProgressModel",
          "model_module_version": "1.5.0",
          "state": {
            "_dom_classes": [],
            "_model_module": "@jupyter-widgets/controls",
            "_model_module_version": "1.5.0",
            "_model_name": "FloatProgressModel",
            "_view_count": null,
            "_view_module": "@jupyter-widgets/controls",
            "_view_module_version": "1.5.0",
            "_view_name": "ProgressView",
            "bar_style": "success",
            "description": "",
            "description_tooltip": null,
            "layout": "IPY_MODEL_48f28284c2844fe0a8c87ad7b14303eb",
            "max": 570,
            "min": 0,
            "orientation": "horizontal",
            "style": "IPY_MODEL_6cd0e6fcf0a4428fa6529e4c0d083deb",
            "value": 570
          }
        },
        "51ddac616dbc4ebda01c31520de4286b": {
          "model_module": "@jupyter-widgets/controls",
          "model_name": "HTMLModel",
          "model_module_version": "1.5.0",
          "state": {
            "_dom_classes": [],
            "_model_module": "@jupyter-widgets/controls",
            "_model_module_version": "1.5.0",
            "_model_name": "HTMLModel",
            "_view_count": null,
            "_view_module": "@jupyter-widgets/controls",
            "_view_module_version": "1.5.0",
            "_view_name": "HTMLView",
            "description": "",
            "description_tooltip": null,
            "layout": "IPY_MODEL_18003d08bb1444a98b7d38e21ec7df1a",
            "placeholder": "​",
            "style": "IPY_MODEL_559d95e20c824e52be12f5f6bc36c66d",
            "value": " 570/570 [00:00&lt;00:00, 12.2kB/s]"
          }
        },
        "c63429ad09bb486dbff560b123c5f3d0": {
          "model_module": "@jupyter-widgets/base",
          "model_name": "LayoutModel",
          "model_module_version": "1.2.0",
          "state": {
            "_model_module": "@jupyter-widgets/base",
            "_model_module_version": "1.2.0",
            "_model_name": "LayoutModel",
            "_view_count": null,
            "_view_module": "@jupyter-widgets/base",
            "_view_module_version": "1.2.0",
            "_view_name": "LayoutView",
            "align_content": null,
            "align_items": null,
            "align_self": null,
            "border": null,
            "bottom": null,
            "display": null,
            "flex": null,
            "flex_flow": null,
            "grid_area": null,
            "grid_auto_columns": null,
            "grid_auto_flow": null,
            "grid_auto_rows": null,
            "grid_column": null,
            "grid_gap": null,
            "grid_row": null,
            "grid_template_areas": null,
            "grid_template_columns": null,
            "grid_template_rows": null,
            "height": null,
            "justify_content": null,
            "justify_items": null,
            "left": null,
            "margin": null,
            "max_height": null,
            "max_width": null,
            "min_height": null,
            "min_width": null,
            "object_fit": null,
            "object_position": null,
            "order": null,
            "overflow": null,
            "overflow_x": null,
            "overflow_y": null,
            "padding": null,
            "right": null,
            "top": null,
            "visibility": null,
            "width": null
          }
        },
        "8b47e9adcb7442a4b404f3454fcef48f": {
          "model_module": "@jupyter-widgets/base",
          "model_name": "LayoutModel",
          "model_module_version": "1.2.0",
          "state": {
            "_model_module": "@jupyter-widgets/base",
            "_model_module_version": "1.2.0",
            "_model_name": "LayoutModel",
            "_view_count": null,
            "_view_module": "@jupyter-widgets/base",
            "_view_module_version": "1.2.0",
            "_view_name": "LayoutView",
            "align_content": null,
            "align_items": null,
            "align_self": null,
            "border": null,
            "bottom": null,
            "display": null,
            "flex": null,
            "flex_flow": null,
            "grid_area": null,
            "grid_auto_columns": null,
            "grid_auto_flow": null,
            "grid_auto_rows": null,
            "grid_column": null,
            "grid_gap": null,
            "grid_row": null,
            "grid_template_areas": null,
            "grid_template_columns": null,
            "grid_template_rows": null,
            "height": null,
            "justify_content": null,
            "justify_items": null,
            "left": null,
            "margin": null,
            "max_height": null,
            "max_width": null,
            "min_height": null,
            "min_width": null,
            "object_fit": null,
            "object_position": null,
            "order": null,
            "overflow": null,
            "overflow_x": null,
            "overflow_y": null,
            "padding": null,
            "right": null,
            "top": null,
            "visibility": null,
            "width": null
          }
        },
        "d406668abdfb45e9b5075a365f25f305": {
          "model_module": "@jupyter-widgets/controls",
          "model_name": "DescriptionStyleModel",
          "model_module_version": "1.5.0",
          "state": {
            "_model_module": "@jupyter-widgets/controls",
            "_model_module_version": "1.5.0",
            "_model_name": "DescriptionStyleModel",
            "_view_count": null,
            "_view_module": "@jupyter-widgets/base",
            "_view_module_version": "1.2.0",
            "_view_name": "StyleView",
            "description_width": ""
          }
        },
        "48f28284c2844fe0a8c87ad7b14303eb": {
          "model_module": "@jupyter-widgets/base",
          "model_name": "LayoutModel",
          "model_module_version": "1.2.0",
          "state": {
            "_model_module": "@jupyter-widgets/base",
            "_model_module_version": "1.2.0",
            "_model_name": "LayoutModel",
            "_view_count": null,
            "_view_module": "@jupyter-widgets/base",
            "_view_module_version": "1.2.0",
            "_view_name": "LayoutView",
            "align_content": null,
            "align_items": null,
            "align_self": null,
            "border": null,
            "bottom": null,
            "display": null,
            "flex": null,
            "flex_flow": null,
            "grid_area": null,
            "grid_auto_columns": null,
            "grid_auto_flow": null,
            "grid_auto_rows": null,
            "grid_column": null,
            "grid_gap": null,
            "grid_row": null,
            "grid_template_areas": null,
            "grid_template_columns": null,
            "grid_template_rows": null,
            "height": null,
            "justify_content": null,
            "justify_items": null,
            "left": null,
            "margin": null,
            "max_height": null,
            "max_width": null,
            "min_height": null,
            "min_width": null,
            "object_fit": null,
            "object_position": null,
            "order": null,
            "overflow": null,
            "overflow_x": null,
            "overflow_y": null,
            "padding": null,
            "right": null,
            "top": null,
            "visibility": null,
            "width": null
          }
        },
        "6cd0e6fcf0a4428fa6529e4c0d083deb": {
          "model_module": "@jupyter-widgets/controls",
          "model_name": "ProgressStyleModel",
          "model_module_version": "1.5.0",
          "state": {
            "_model_module": "@jupyter-widgets/controls",
            "_model_module_version": "1.5.0",
            "_model_name": "ProgressStyleModel",
            "_view_count": null,
            "_view_module": "@jupyter-widgets/base",
            "_view_module_version": "1.2.0",
            "_view_name": "StyleView",
            "bar_color": null,
            "description_width": ""
          }
        },
        "18003d08bb1444a98b7d38e21ec7df1a": {
          "model_module": "@jupyter-widgets/base",
          "model_name": "LayoutModel",
          "model_module_version": "1.2.0",
          "state": {
            "_model_module": "@jupyter-widgets/base",
            "_model_module_version": "1.2.0",
            "_model_name": "LayoutModel",
            "_view_count": null,
            "_view_module": "@jupyter-widgets/base",
            "_view_module_version": "1.2.0",
            "_view_name": "LayoutView",
            "align_content": null,
            "align_items": null,
            "align_self": null,
            "border": null,
            "bottom": null,
            "display": null,
            "flex": null,
            "flex_flow": null,
            "grid_area": null,
            "grid_auto_columns": null,
            "grid_auto_flow": null,
            "grid_auto_rows": null,
            "grid_column": null,
            "grid_gap": null,
            "grid_row": null,
            "grid_template_areas": null,
            "grid_template_columns": null,
            "grid_template_rows": null,
            "height": null,
            "justify_content": null,
            "justify_items": null,
            "left": null,
            "margin": null,
            "max_height": null,
            "max_width": null,
            "min_height": null,
            "min_width": null,
            "object_fit": null,
            "object_position": null,
            "order": null,
            "overflow": null,
            "overflow_x": null,
            "overflow_y": null,
            "padding": null,
            "right": null,
            "top": null,
            "visibility": null,
            "width": null
          }
        },
        "559d95e20c824e52be12f5f6bc36c66d": {
          "model_module": "@jupyter-widgets/controls",
          "model_name": "DescriptionStyleModel",
          "model_module_version": "1.5.0",
          "state": {
            "_model_module": "@jupyter-widgets/controls",
            "_model_module_version": "1.5.0",
            "_model_name": "DescriptionStyleModel",
            "_view_count": null,
            "_view_module": "@jupyter-widgets/base",
            "_view_module_version": "1.2.0",
            "_view_name": "StyleView",
            "description_width": ""
          }
        },
        "6f201ebd5ac44ef19668cfc03b69954f": {
          "model_module": "@jupyter-widgets/controls",
          "model_name": "HBoxModel",
          "model_module_version": "1.5.0",
          "state": {
            "_dom_classes": [],
            "_model_module": "@jupyter-widgets/controls",
            "_model_module_version": "1.5.0",
            "_model_name": "HBoxModel",
            "_view_count": null,
            "_view_module": "@jupyter-widgets/controls",
            "_view_module_version": "1.5.0",
            "_view_name": "HBoxView",
            "box_style": "",
            "children": [
              "IPY_MODEL_20605c149e6944ef92726179a8475659",
              "IPY_MODEL_35918c2eb43a44c984ae5e5b7d07e4ff",
              "IPY_MODEL_8ad14bbd809e49178601bed0978ceaec"
            ],
            "layout": "IPY_MODEL_1e49c67c0a8f4f219c3c855dec3444b5"
          }
        },
        "20605c149e6944ef92726179a8475659": {
          "model_module": "@jupyter-widgets/controls",
          "model_name": "HTMLModel",
          "model_module_version": "1.5.0",
          "state": {
            "_dom_classes": [],
            "_model_module": "@jupyter-widgets/controls",
            "_model_module_version": "1.5.0",
            "_model_name": "HTMLModel",
            "_view_count": null,
            "_view_module": "@jupyter-widgets/controls",
            "_view_module_version": "1.5.0",
            "_view_name": "HTMLView",
            "description": "",
            "description_tooltip": null,
            "layout": "IPY_MODEL_45704ba6d91e491996afea31a5da774d",
            "placeholder": "​",
            "style": "IPY_MODEL_acfb0ce832d04ba39059239f600235bf",
            "value": "vocab.txt: 100%"
          }
        },
        "35918c2eb43a44c984ae5e5b7d07e4ff": {
          "model_module": "@jupyter-widgets/controls",
          "model_name": "FloatProgressModel",
          "model_module_version": "1.5.0",
          "state": {
            "_dom_classes": [],
            "_model_module": "@jupyter-widgets/controls",
            "_model_module_version": "1.5.0",
            "_model_name": "FloatProgressModel",
            "_view_count": null,
            "_view_module": "@jupyter-widgets/controls",
            "_view_module_version": "1.5.0",
            "_view_name": "ProgressView",
            "bar_style": "success",
            "description": "",
            "description_tooltip": null,
            "layout": "IPY_MODEL_c011eb404c054636b2a1a9f239c6c79f",
            "max": 231508,
            "min": 0,
            "orientation": "horizontal",
            "style": "IPY_MODEL_fc9f8de119ba4222a020f7dae0566da1",
            "value": 231508
          }
        },
        "8ad14bbd809e49178601bed0978ceaec": {
          "model_module": "@jupyter-widgets/controls",
          "model_name": "HTMLModel",
          "model_module_version": "1.5.0",
          "state": {
            "_dom_classes": [],
            "_model_module": "@jupyter-widgets/controls",
            "_model_module_version": "1.5.0",
            "_model_name": "HTMLModel",
            "_view_count": null,
            "_view_module": "@jupyter-widgets/controls",
            "_view_module_version": "1.5.0",
            "_view_name": "HTMLView",
            "description": "",
            "description_tooltip": null,
            "layout": "IPY_MODEL_49ac85e626b3408a8ffc7e1e5d411ed9",
            "placeholder": "​",
            "style": "IPY_MODEL_4ab469f2ed2a496f95001c61b63a1e3f",
            "value": " 232k/232k [00:00&lt;00:00, 2.33MB/s]"
          }
        },
        "1e49c67c0a8f4f219c3c855dec3444b5": {
          "model_module": "@jupyter-widgets/base",
          "model_name": "LayoutModel",
          "model_module_version": "1.2.0",
          "state": {
            "_model_module": "@jupyter-widgets/base",
            "_model_module_version": "1.2.0",
            "_model_name": "LayoutModel",
            "_view_count": null,
            "_view_module": "@jupyter-widgets/base",
            "_view_module_version": "1.2.0",
            "_view_name": "LayoutView",
            "align_content": null,
            "align_items": null,
            "align_self": null,
            "border": null,
            "bottom": null,
            "display": null,
            "flex": null,
            "flex_flow": null,
            "grid_area": null,
            "grid_auto_columns": null,
            "grid_auto_flow": null,
            "grid_auto_rows": null,
            "grid_column": null,
            "grid_gap": null,
            "grid_row": null,
            "grid_template_areas": null,
            "grid_template_columns": null,
            "grid_template_rows": null,
            "height": null,
            "justify_content": null,
            "justify_items": null,
            "left": null,
            "margin": null,
            "max_height": null,
            "max_width": null,
            "min_height": null,
            "min_width": null,
            "object_fit": null,
            "object_position": null,
            "order": null,
            "overflow": null,
            "overflow_x": null,
            "overflow_y": null,
            "padding": null,
            "right": null,
            "top": null,
            "visibility": null,
            "width": null
          }
        },
        "45704ba6d91e491996afea31a5da774d": {
          "model_module": "@jupyter-widgets/base",
          "model_name": "LayoutModel",
          "model_module_version": "1.2.0",
          "state": {
            "_model_module": "@jupyter-widgets/base",
            "_model_module_version": "1.2.0",
            "_model_name": "LayoutModel",
            "_view_count": null,
            "_view_module": "@jupyter-widgets/base",
            "_view_module_version": "1.2.0",
            "_view_name": "LayoutView",
            "align_content": null,
            "align_items": null,
            "align_self": null,
            "border": null,
            "bottom": null,
            "display": null,
            "flex": null,
            "flex_flow": null,
            "grid_area": null,
            "grid_auto_columns": null,
            "grid_auto_flow": null,
            "grid_auto_rows": null,
            "grid_column": null,
            "grid_gap": null,
            "grid_row": null,
            "grid_template_areas": null,
            "grid_template_columns": null,
            "grid_template_rows": null,
            "height": null,
            "justify_content": null,
            "justify_items": null,
            "left": null,
            "margin": null,
            "max_height": null,
            "max_width": null,
            "min_height": null,
            "min_width": null,
            "object_fit": null,
            "object_position": null,
            "order": null,
            "overflow": null,
            "overflow_x": null,
            "overflow_y": null,
            "padding": null,
            "right": null,
            "top": null,
            "visibility": null,
            "width": null
          }
        },
        "acfb0ce832d04ba39059239f600235bf": {
          "model_module": "@jupyter-widgets/controls",
          "model_name": "DescriptionStyleModel",
          "model_module_version": "1.5.0",
          "state": {
            "_model_module": "@jupyter-widgets/controls",
            "_model_module_version": "1.5.0",
            "_model_name": "DescriptionStyleModel",
            "_view_count": null,
            "_view_module": "@jupyter-widgets/base",
            "_view_module_version": "1.2.0",
            "_view_name": "StyleView",
            "description_width": ""
          }
        },
        "c011eb404c054636b2a1a9f239c6c79f": {
          "model_module": "@jupyter-widgets/base",
          "model_name": "LayoutModel",
          "model_module_version": "1.2.0",
          "state": {
            "_model_module": "@jupyter-widgets/base",
            "_model_module_version": "1.2.0",
            "_model_name": "LayoutModel",
            "_view_count": null,
            "_view_module": "@jupyter-widgets/base",
            "_view_module_version": "1.2.0",
            "_view_name": "LayoutView",
            "align_content": null,
            "align_items": null,
            "align_self": null,
            "border": null,
            "bottom": null,
            "display": null,
            "flex": null,
            "flex_flow": null,
            "grid_area": null,
            "grid_auto_columns": null,
            "grid_auto_flow": null,
            "grid_auto_rows": null,
            "grid_column": null,
            "grid_gap": null,
            "grid_row": null,
            "grid_template_areas": null,
            "grid_template_columns": null,
            "grid_template_rows": null,
            "height": null,
            "justify_content": null,
            "justify_items": null,
            "left": null,
            "margin": null,
            "max_height": null,
            "max_width": null,
            "min_height": null,
            "min_width": null,
            "object_fit": null,
            "object_position": null,
            "order": null,
            "overflow": null,
            "overflow_x": null,
            "overflow_y": null,
            "padding": null,
            "right": null,
            "top": null,
            "visibility": null,
            "width": null
          }
        },
        "fc9f8de119ba4222a020f7dae0566da1": {
          "model_module": "@jupyter-widgets/controls",
          "model_name": "ProgressStyleModel",
          "model_module_version": "1.5.0",
          "state": {
            "_model_module": "@jupyter-widgets/controls",
            "_model_module_version": "1.5.0",
            "_model_name": "ProgressStyleModel",
            "_view_count": null,
            "_view_module": "@jupyter-widgets/base",
            "_view_module_version": "1.2.0",
            "_view_name": "StyleView",
            "bar_color": null,
            "description_width": ""
          }
        },
        "49ac85e626b3408a8ffc7e1e5d411ed9": {
          "model_module": "@jupyter-widgets/base",
          "model_name": "LayoutModel",
          "model_module_version": "1.2.0",
          "state": {
            "_model_module": "@jupyter-widgets/base",
            "_model_module_version": "1.2.0",
            "_model_name": "LayoutModel",
            "_view_count": null,
            "_view_module": "@jupyter-widgets/base",
            "_view_module_version": "1.2.0",
            "_view_name": "LayoutView",
            "align_content": null,
            "align_items": null,
            "align_self": null,
            "border": null,
            "bottom": null,
            "display": null,
            "flex": null,
            "flex_flow": null,
            "grid_area": null,
            "grid_auto_columns": null,
            "grid_auto_flow": null,
            "grid_auto_rows": null,
            "grid_column": null,
            "grid_gap": null,
            "grid_row": null,
            "grid_template_areas": null,
            "grid_template_columns": null,
            "grid_template_rows": null,
            "height": null,
            "justify_content": null,
            "justify_items": null,
            "left": null,
            "margin": null,
            "max_height": null,
            "max_width": null,
            "min_height": null,
            "min_width": null,
            "object_fit": null,
            "object_position": null,
            "order": null,
            "overflow": null,
            "overflow_x": null,
            "overflow_y": null,
            "padding": null,
            "right": null,
            "top": null,
            "visibility": null,
            "width": null
          }
        },
        "4ab469f2ed2a496f95001c61b63a1e3f": {
          "model_module": "@jupyter-widgets/controls",
          "model_name": "DescriptionStyleModel",
          "model_module_version": "1.5.0",
          "state": {
            "_model_module": "@jupyter-widgets/controls",
            "_model_module_version": "1.5.0",
            "_model_name": "DescriptionStyleModel",
            "_view_count": null,
            "_view_module": "@jupyter-widgets/base",
            "_view_module_version": "1.2.0",
            "_view_name": "StyleView",
            "description_width": ""
          }
        },
        "cc307a363e8e4660b57dfc174ad984ae": {
          "model_module": "@jupyter-widgets/controls",
          "model_name": "HBoxModel",
          "model_module_version": "1.5.0",
          "state": {
            "_dom_classes": [],
            "_model_module": "@jupyter-widgets/controls",
            "_model_module_version": "1.5.0",
            "_model_name": "HBoxModel",
            "_view_count": null,
            "_view_module": "@jupyter-widgets/controls",
            "_view_module_version": "1.5.0",
            "_view_name": "HBoxView",
            "box_style": "",
            "children": [
              "IPY_MODEL_2a5f7834f83b474dba870a5a2114ae6d",
              "IPY_MODEL_40affb92a4044afa8d28c500199d20b4",
              "IPY_MODEL_88c4aa59d3c24d359ace5fec0480f45f"
            ],
            "layout": "IPY_MODEL_5ca8d7d9fd2047489ba257c917799c32"
          }
        },
        "2a5f7834f83b474dba870a5a2114ae6d": {
          "model_module": "@jupyter-widgets/controls",
          "model_name": "HTMLModel",
          "model_module_version": "1.5.0",
          "state": {
            "_dom_classes": [],
            "_model_module": "@jupyter-widgets/controls",
            "_model_module_version": "1.5.0",
            "_model_name": "HTMLModel",
            "_view_count": null,
            "_view_module": "@jupyter-widgets/controls",
            "_view_module_version": "1.5.0",
            "_view_name": "HTMLView",
            "description": "",
            "description_tooltip": null,
            "layout": "IPY_MODEL_2792db4abc084e689e3c0474513954ea",
            "placeholder": "​",
            "style": "IPY_MODEL_3814aa6d2fda4f779e1eeb53462aec00",
            "value": "tokenizer.json: 100%"
          }
        },
        "40affb92a4044afa8d28c500199d20b4": {
          "model_module": "@jupyter-widgets/controls",
          "model_name": "FloatProgressModel",
          "model_module_version": "1.5.0",
          "state": {
            "_dom_classes": [],
            "_model_module": "@jupyter-widgets/controls",
            "_model_module_version": "1.5.0",
            "_model_name": "FloatProgressModel",
            "_view_count": null,
            "_view_module": "@jupyter-widgets/controls",
            "_view_module_version": "1.5.0",
            "_view_name": "ProgressView",
            "bar_style": "success",
            "description": "",
            "description_tooltip": null,
            "layout": "IPY_MODEL_67380869815e4cd0a378a8e7ea1d522f",
            "max": 466062,
            "min": 0,
            "orientation": "horizontal",
            "style": "IPY_MODEL_df99909042cb44d8bfe17be812e780f4",
            "value": 466062
          }
        },
        "88c4aa59d3c24d359ace5fec0480f45f": {
          "model_module": "@jupyter-widgets/controls",
          "model_name": "HTMLModel",
          "model_module_version": "1.5.0",
          "state": {
            "_dom_classes": [],
            "_model_module": "@jupyter-widgets/controls",
            "_model_module_version": "1.5.0",
            "_model_name": "HTMLModel",
            "_view_count": null,
            "_view_module": "@jupyter-widgets/controls",
            "_view_module_version": "1.5.0",
            "_view_name": "HTMLView",
            "description": "",
            "description_tooltip": null,
            "layout": "IPY_MODEL_480469c2a777429f8582b5169ed7647d",
            "placeholder": "​",
            "style": "IPY_MODEL_7715ec1ac27d4200af2f63a5267863fa",
            "value": " 466k/466k [00:00&lt;00:00, 7.27MB/s]"
          }
        },
        "5ca8d7d9fd2047489ba257c917799c32": {
          "model_module": "@jupyter-widgets/base",
          "model_name": "LayoutModel",
          "model_module_version": "1.2.0",
          "state": {
            "_model_module": "@jupyter-widgets/base",
            "_model_module_version": "1.2.0",
            "_model_name": "LayoutModel",
            "_view_count": null,
            "_view_module": "@jupyter-widgets/base",
            "_view_module_version": "1.2.0",
            "_view_name": "LayoutView",
            "align_content": null,
            "align_items": null,
            "align_self": null,
            "border": null,
            "bottom": null,
            "display": null,
            "flex": null,
            "flex_flow": null,
            "grid_area": null,
            "grid_auto_columns": null,
            "grid_auto_flow": null,
            "grid_auto_rows": null,
            "grid_column": null,
            "grid_gap": null,
            "grid_row": null,
            "grid_template_areas": null,
            "grid_template_columns": null,
            "grid_template_rows": null,
            "height": null,
            "justify_content": null,
            "justify_items": null,
            "left": null,
            "margin": null,
            "max_height": null,
            "max_width": null,
            "min_height": null,
            "min_width": null,
            "object_fit": null,
            "object_position": null,
            "order": null,
            "overflow": null,
            "overflow_x": null,
            "overflow_y": null,
            "padding": null,
            "right": null,
            "top": null,
            "visibility": null,
            "width": null
          }
        },
        "2792db4abc084e689e3c0474513954ea": {
          "model_module": "@jupyter-widgets/base",
          "model_name": "LayoutModel",
          "model_module_version": "1.2.0",
          "state": {
            "_model_module": "@jupyter-widgets/base",
            "_model_module_version": "1.2.0",
            "_model_name": "LayoutModel",
            "_view_count": null,
            "_view_module": "@jupyter-widgets/base",
            "_view_module_version": "1.2.0",
            "_view_name": "LayoutView",
            "align_content": null,
            "align_items": null,
            "align_self": null,
            "border": null,
            "bottom": null,
            "display": null,
            "flex": null,
            "flex_flow": null,
            "grid_area": null,
            "grid_auto_columns": null,
            "grid_auto_flow": null,
            "grid_auto_rows": null,
            "grid_column": null,
            "grid_gap": null,
            "grid_row": null,
            "grid_template_areas": null,
            "grid_template_columns": null,
            "grid_template_rows": null,
            "height": null,
            "justify_content": null,
            "justify_items": null,
            "left": null,
            "margin": null,
            "max_height": null,
            "max_width": null,
            "min_height": null,
            "min_width": null,
            "object_fit": null,
            "object_position": null,
            "order": null,
            "overflow": null,
            "overflow_x": null,
            "overflow_y": null,
            "padding": null,
            "right": null,
            "top": null,
            "visibility": null,
            "width": null
          }
        },
        "3814aa6d2fda4f779e1eeb53462aec00": {
          "model_module": "@jupyter-widgets/controls",
          "model_name": "DescriptionStyleModel",
          "model_module_version": "1.5.0",
          "state": {
            "_model_module": "@jupyter-widgets/controls",
            "_model_module_version": "1.5.0",
            "_model_name": "DescriptionStyleModel",
            "_view_count": null,
            "_view_module": "@jupyter-widgets/base",
            "_view_module_version": "1.2.0",
            "_view_name": "StyleView",
            "description_width": ""
          }
        },
        "67380869815e4cd0a378a8e7ea1d522f": {
          "model_module": "@jupyter-widgets/base",
          "model_name": "LayoutModel",
          "model_module_version": "1.2.0",
          "state": {
            "_model_module": "@jupyter-widgets/base",
            "_model_module_version": "1.2.0",
            "_model_name": "LayoutModel",
            "_view_count": null,
            "_view_module": "@jupyter-widgets/base",
            "_view_module_version": "1.2.0",
            "_view_name": "LayoutView",
            "align_content": null,
            "align_items": null,
            "align_self": null,
            "border": null,
            "bottom": null,
            "display": null,
            "flex": null,
            "flex_flow": null,
            "grid_area": null,
            "grid_auto_columns": null,
            "grid_auto_flow": null,
            "grid_auto_rows": null,
            "grid_column": null,
            "grid_gap": null,
            "grid_row": null,
            "grid_template_areas": null,
            "grid_template_columns": null,
            "grid_template_rows": null,
            "height": null,
            "justify_content": null,
            "justify_items": null,
            "left": null,
            "margin": null,
            "max_height": null,
            "max_width": null,
            "min_height": null,
            "min_width": null,
            "object_fit": null,
            "object_position": null,
            "order": null,
            "overflow": null,
            "overflow_x": null,
            "overflow_y": null,
            "padding": null,
            "right": null,
            "top": null,
            "visibility": null,
            "width": null
          }
        },
        "df99909042cb44d8bfe17be812e780f4": {
          "model_module": "@jupyter-widgets/controls",
          "model_name": "ProgressStyleModel",
          "model_module_version": "1.5.0",
          "state": {
            "_model_module": "@jupyter-widgets/controls",
            "_model_module_version": "1.5.0",
            "_model_name": "ProgressStyleModel",
            "_view_count": null,
            "_view_module": "@jupyter-widgets/base",
            "_view_module_version": "1.2.0",
            "_view_name": "StyleView",
            "bar_color": null,
            "description_width": ""
          }
        },
        "480469c2a777429f8582b5169ed7647d": {
          "model_module": "@jupyter-widgets/base",
          "model_name": "LayoutModel",
          "model_module_version": "1.2.0",
          "state": {
            "_model_module": "@jupyter-widgets/base",
            "_model_module_version": "1.2.0",
            "_model_name": "LayoutModel",
            "_view_count": null,
            "_view_module": "@jupyter-widgets/base",
            "_view_module_version": "1.2.0",
            "_view_name": "LayoutView",
            "align_content": null,
            "align_items": null,
            "align_self": null,
            "border": null,
            "bottom": null,
            "display": null,
            "flex": null,
            "flex_flow": null,
            "grid_area": null,
            "grid_auto_columns": null,
            "grid_auto_flow": null,
            "grid_auto_rows": null,
            "grid_column": null,
            "grid_gap": null,
            "grid_row": null,
            "grid_template_areas": null,
            "grid_template_columns": null,
            "grid_template_rows": null,
            "height": null,
            "justify_content": null,
            "justify_items": null,
            "left": null,
            "margin": null,
            "max_height": null,
            "max_width": null,
            "min_height": null,
            "min_width": null,
            "object_fit": null,
            "object_position": null,
            "order": null,
            "overflow": null,
            "overflow_x": null,
            "overflow_y": null,
            "padding": null,
            "right": null,
            "top": null,
            "visibility": null,
            "width": null
          }
        },
        "7715ec1ac27d4200af2f63a5267863fa": {
          "model_module": "@jupyter-widgets/controls",
          "model_name": "DescriptionStyleModel",
          "model_module_version": "1.5.0",
          "state": {
            "_model_module": "@jupyter-widgets/controls",
            "_model_module_version": "1.5.0",
            "_model_name": "DescriptionStyleModel",
            "_view_count": null,
            "_view_module": "@jupyter-widgets/base",
            "_view_module_version": "1.2.0",
            "_view_name": "StyleView",
            "description_width": ""
          }
        },
        "ff65ce7b7f3e47aab12920080748b405": {
          "model_module": "@jupyter-widgets/controls",
          "model_name": "HBoxModel",
          "model_module_version": "1.5.0",
          "state": {
            "_dom_classes": [],
            "_model_module": "@jupyter-widgets/controls",
            "_model_module_version": "1.5.0",
            "_model_name": "HBoxModel",
            "_view_count": null,
            "_view_module": "@jupyter-widgets/controls",
            "_view_module_version": "1.5.0",
            "_view_name": "HBoxView",
            "box_style": "",
            "children": [
              "IPY_MODEL_009a61fd90c747a5ab0dba5c85d15051",
              "IPY_MODEL_76e939930ccf4d8bbde90a28733e61d8",
              "IPY_MODEL_15eec4ac52454033b2112051435ea7cc"
            ],
            "layout": "IPY_MODEL_b542b9e2e2fc4f3a8d9ee5707d54ba98"
          }
        },
        "009a61fd90c747a5ab0dba5c85d15051": {
          "model_module": "@jupyter-widgets/controls",
          "model_name": "HTMLModel",
          "model_module_version": "1.5.0",
          "state": {
            "_dom_classes": [],
            "_model_module": "@jupyter-widgets/controls",
            "_model_module_version": "1.5.0",
            "_model_name": "HTMLModel",
            "_view_count": null,
            "_view_module": "@jupyter-widgets/controls",
            "_view_module_version": "1.5.0",
            "_view_name": "HTMLView",
            "description": "",
            "description_tooltip": null,
            "layout": "IPY_MODEL_28c0f40f80144869841a44da025dd6d6",
            "placeholder": "​",
            "style": "IPY_MODEL_3ff794ad4ef54afd955383feae99fb88",
            "value": "model.safetensors: 100%"
          }
        },
        "76e939930ccf4d8bbde90a28733e61d8": {
          "model_module": "@jupyter-widgets/controls",
          "model_name": "FloatProgressModel",
          "model_module_version": "1.5.0",
          "state": {
            "_dom_classes": [],
            "_model_module": "@jupyter-widgets/controls",
            "_model_module_version": "1.5.0",
            "_model_name": "FloatProgressModel",
            "_view_count": null,
            "_view_module": "@jupyter-widgets/controls",
            "_view_module_version": "1.5.0",
            "_view_name": "ProgressView",
            "bar_style": "success",
            "description": "",
            "description_tooltip": null,
            "layout": "IPY_MODEL_226c10d3faea41eb82228c4176e7fae1",
            "max": 440449768,
            "min": 0,
            "orientation": "horizontal",
            "style": "IPY_MODEL_a80bff283a104b77a1dbc144d7e85eb4",
            "value": 440449768
          }
        },
        "15eec4ac52454033b2112051435ea7cc": {
          "model_module": "@jupyter-widgets/controls",
          "model_name": "HTMLModel",
          "model_module_version": "1.5.0",
          "state": {
            "_dom_classes": [],
            "_model_module": "@jupyter-widgets/controls",
            "_model_module_version": "1.5.0",
            "_model_name": "HTMLModel",
            "_view_count": null,
            "_view_module": "@jupyter-widgets/controls",
            "_view_module_version": "1.5.0",
            "_view_name": "HTMLView",
            "description": "",
            "description_tooltip": null,
            "layout": "IPY_MODEL_f723b2aa18d348a4a1e14cee6e2a726c",
            "placeholder": "​",
            "style": "IPY_MODEL_41fcf8e87e6a4ebdbb99e2e4df2d167a",
            "value": " 440M/440M [00:08&lt;00:00, 79.0MB/s]"
          }
        },
        "b542b9e2e2fc4f3a8d9ee5707d54ba98": {
          "model_module": "@jupyter-widgets/base",
          "model_name": "LayoutModel",
          "model_module_version": "1.2.0",
          "state": {
            "_model_module": "@jupyter-widgets/base",
            "_model_module_version": "1.2.0",
            "_model_name": "LayoutModel",
            "_view_count": null,
            "_view_module": "@jupyter-widgets/base",
            "_view_module_version": "1.2.0",
            "_view_name": "LayoutView",
            "align_content": null,
            "align_items": null,
            "align_self": null,
            "border": null,
            "bottom": null,
            "display": null,
            "flex": null,
            "flex_flow": null,
            "grid_area": null,
            "grid_auto_columns": null,
            "grid_auto_flow": null,
            "grid_auto_rows": null,
            "grid_column": null,
            "grid_gap": null,
            "grid_row": null,
            "grid_template_areas": null,
            "grid_template_columns": null,
            "grid_template_rows": null,
            "height": null,
            "justify_content": null,
            "justify_items": null,
            "left": null,
            "margin": null,
            "max_height": null,
            "max_width": null,
            "min_height": null,
            "min_width": null,
            "object_fit": null,
            "object_position": null,
            "order": null,
            "overflow": null,
            "overflow_x": null,
            "overflow_y": null,
            "padding": null,
            "right": null,
            "top": null,
            "visibility": null,
            "width": null
          }
        },
        "28c0f40f80144869841a44da025dd6d6": {
          "model_module": "@jupyter-widgets/base",
          "model_name": "LayoutModel",
          "model_module_version": "1.2.0",
          "state": {
            "_model_module": "@jupyter-widgets/base",
            "_model_module_version": "1.2.0",
            "_model_name": "LayoutModel",
            "_view_count": null,
            "_view_module": "@jupyter-widgets/base",
            "_view_module_version": "1.2.0",
            "_view_name": "LayoutView",
            "align_content": null,
            "align_items": null,
            "align_self": null,
            "border": null,
            "bottom": null,
            "display": null,
            "flex": null,
            "flex_flow": null,
            "grid_area": null,
            "grid_auto_columns": null,
            "grid_auto_flow": null,
            "grid_auto_rows": null,
            "grid_column": null,
            "grid_gap": null,
            "grid_row": null,
            "grid_template_areas": null,
            "grid_template_columns": null,
            "grid_template_rows": null,
            "height": null,
            "justify_content": null,
            "justify_items": null,
            "left": null,
            "margin": null,
            "max_height": null,
            "max_width": null,
            "min_height": null,
            "min_width": null,
            "object_fit": null,
            "object_position": null,
            "order": null,
            "overflow": null,
            "overflow_x": null,
            "overflow_y": null,
            "padding": null,
            "right": null,
            "top": null,
            "visibility": null,
            "width": null
          }
        },
        "3ff794ad4ef54afd955383feae99fb88": {
          "model_module": "@jupyter-widgets/controls",
          "model_name": "DescriptionStyleModel",
          "model_module_version": "1.5.0",
          "state": {
            "_model_module": "@jupyter-widgets/controls",
            "_model_module_version": "1.5.0",
            "_model_name": "DescriptionStyleModel",
            "_view_count": null,
            "_view_module": "@jupyter-widgets/base",
            "_view_module_version": "1.2.0",
            "_view_name": "StyleView",
            "description_width": ""
          }
        },
        "226c10d3faea41eb82228c4176e7fae1": {
          "model_module": "@jupyter-widgets/base",
          "model_name": "LayoutModel",
          "model_module_version": "1.2.0",
          "state": {
            "_model_module": "@jupyter-widgets/base",
            "_model_module_version": "1.2.0",
            "_model_name": "LayoutModel",
            "_view_count": null,
            "_view_module": "@jupyter-widgets/base",
            "_view_module_version": "1.2.0",
            "_view_name": "LayoutView",
            "align_content": null,
            "align_items": null,
            "align_self": null,
            "border": null,
            "bottom": null,
            "display": null,
            "flex": null,
            "flex_flow": null,
            "grid_area": null,
            "grid_auto_columns": null,
            "grid_auto_flow": null,
            "grid_auto_rows": null,
            "grid_column": null,
            "grid_gap": null,
            "grid_row": null,
            "grid_template_areas": null,
            "grid_template_columns": null,
            "grid_template_rows": null,
            "height": null,
            "justify_content": null,
            "justify_items": null,
            "left": null,
            "margin": null,
            "max_height": null,
            "max_width": null,
            "min_height": null,
            "min_width": null,
            "object_fit": null,
            "object_position": null,
            "order": null,
            "overflow": null,
            "overflow_x": null,
            "overflow_y": null,
            "padding": null,
            "right": null,
            "top": null,
            "visibility": null,
            "width": null
          }
        },
        "a80bff283a104b77a1dbc144d7e85eb4": {
          "model_module": "@jupyter-widgets/controls",
          "model_name": "ProgressStyleModel",
          "model_module_version": "1.5.0",
          "state": {
            "_model_module": "@jupyter-widgets/controls",
            "_model_module_version": "1.5.0",
            "_model_name": "ProgressStyleModel",
            "_view_count": null,
            "_view_module": "@jupyter-widgets/base",
            "_view_module_version": "1.2.0",
            "_view_name": "StyleView",
            "bar_color": null,
            "description_width": ""
          }
        },
        "f723b2aa18d348a4a1e14cee6e2a726c": {
          "model_module": "@jupyter-widgets/base",
          "model_name": "LayoutModel",
          "model_module_version": "1.2.0",
          "state": {
            "_model_module": "@jupyter-widgets/base",
            "_model_module_version": "1.2.0",
            "_model_name": "LayoutModel",
            "_view_count": null,
            "_view_module": "@jupyter-widgets/base",
            "_view_module_version": "1.2.0",
            "_view_name": "LayoutView",
            "align_content": null,
            "align_items": null,
            "align_self": null,
            "border": null,
            "bottom": null,
            "display": null,
            "flex": null,
            "flex_flow": null,
            "grid_area": null,
            "grid_auto_columns": null,
            "grid_auto_flow": null,
            "grid_auto_rows": null,
            "grid_column": null,
            "grid_gap": null,
            "grid_row": null,
            "grid_template_areas": null,
            "grid_template_columns": null,
            "grid_template_rows": null,
            "height": null,
            "justify_content": null,
            "justify_items": null,
            "left": null,
            "margin": null,
            "max_height": null,
            "max_width": null,
            "min_height": null,
            "min_width": null,
            "object_fit": null,
            "object_position": null,
            "order": null,
            "overflow": null,
            "overflow_x": null,
            "overflow_y": null,
            "padding": null,
            "right": null,
            "top": null,
            "visibility": null,
            "width": null
          }
        },
        "41fcf8e87e6a4ebdbb99e2e4df2d167a": {
          "model_module": "@jupyter-widgets/controls",
          "model_name": "DescriptionStyleModel",
          "model_module_version": "1.5.0",
          "state": {
            "_model_module": "@jupyter-widgets/controls",
            "_model_module_version": "1.5.0",
            "_model_name": "DescriptionStyleModel",
            "_view_count": null,
            "_view_module": "@jupyter-widgets/base",
            "_view_module_version": "1.2.0",
            "_view_name": "StyleView",
            "description_width": ""
          }
        }
      }
    }
  },
  "nbformat": 4,
  "nbformat_minor": 0
}