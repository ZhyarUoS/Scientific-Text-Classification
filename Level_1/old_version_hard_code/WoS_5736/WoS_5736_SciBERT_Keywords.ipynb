{
  "cells": [
    {
      "cell_type": "code",
      "execution_count": null,
      "metadata": {
        "colab": {
          "base_uri": "https://localhost:8080/"
        },
        "id": "Va5ItHiVWXUG",
        "outputId": "8bb232d8-d932-406c-8eb2-4903b9462610"
      },
      "outputs": [],
      "source": [
        "gpu_info = !nvidia-smi\n",
        "gpu_info = '\\n'.join(gpu_info)\n",
        "if gpu_info.find('failed') >= 0:\n",
        "  print('Not connected to a GPU')\n",
        "else:\n",
        "  print(gpu_info)"
      ]
    },
    {
      "cell_type": "code",
      "execution_count": null,
      "metadata": {
        "colab": {
          "base_uri": "https://localhost:8080/"
        },
        "id": "6PAN1HD9WXUH",
        "outputId": "d7cd7b04-8941-4538-a1f7-1f1537d6ed33"
      },
      "outputs": [],
      "source": [
        "from psutil import virtual_memory\n",
        "ram_gb = virtual_memory().total / 1e9\n",
        "print('Your runtime has {:.1f} gigabytes of available RAM\\n'.format(ram_gb))\n",
        "\n",
        "if ram_gb < 20:\n",
        "  print('Not using a high-RAM runtime')\n",
        "else:\n",
        "  print('You are using a high-RAM runtime!')"
      ]
    },
    {
      "cell_type": "code",
      "execution_count": null,
      "metadata": {
        "colab": {
          "base_uri": "https://localhost:8080/"
        },
        "id": "M7k7VLmJWXUH",
        "outputId": "5e3a5e3d-a945-4958-ce3b-15773167c158"
      },
      "outputs": [],
      "source": [
        "from google.colab import drive\n",
        "drive.mount('/content/drive')"
      ]
    },
    {
      "cell_type": "code",
      "execution_count": null,
      "metadata": {
        "colab": {
          "base_uri": "https://localhost:8080/"
        },
        "id": "SqnIUcZCWXUI",
        "outputId": "1a3db643-5bcc-4060-b4d6-1467a73cbc81"
      },
      "outputs": [],
      "source": [
        "!pip install transformers"
      ]
    },
    {
      "cell_type": "code",
      "execution_count": null,
      "metadata": {
        "id": "WhVPx8QYWXUI"
      },
      "outputs": [],
      "source": [
        "import os\n",
        "import numpy as np\n",
        "import pandas as pd\n",
        "from sklearn.model_selection import train_test_split\n",
        "from sklearn.metrics import confusion_matrix, classification_report, f1_score, precision_score, recall_score\n",
        "from transformers import AutoTokenizer, AutoModelForSequenceClassification, AdamW, get_linear_schedule_with_warmup\n",
        "import torch\n",
        "from torch.utils.data import DataLoader, TensorDataset, RandomSampler, SequentialSampler\n",
        "import torch.nn.functional as F\n",
        "from tqdm import trange, tqdm\n",
        "import matplotlib.pyplot as plt\n",
        "import sklearn.utils\n",
        "import time\n",
        "import re\n",
        "from google.colab import runtime\n"
      ]
    },
    {
      "cell_type": "code",
      "execution_count": null,
      "metadata": {
        "colab": {
          "base_uri": "https://localhost:8080/"
        },
        "id": "3oFtbbtBWXUI",
        "outputId": "ad812ae5-ce72-4681-dccc-ed86770813b9"
      },
      "outputs": [],
      "source": [
        "# Retrive the data from stored dataset\n",
        "dataDir = \"/content/drive/MyDrive/WoS/data\"\n",
        "tsvData = os.path.join(dataDir,\"WoSDataset_5736.tsv\")\n",
        "\n",
        "tsvData = np.loadtxt(tsvData, dtype=str, delimiter=\"\\t\")\n",
        "print(np.shape(tsvData))"
      ]
    },
    {
      "cell_type": "code",
      "execution_count": null,
      "metadata": {
        "colab": {
          "base_uri": "https://localhost:8080/"
        },
        "id": "5xw9-_jdWXUI",
        "outputId": "b9e6656a-ee4f-40db-ebc1-01564d6c6a6a"
      },
      "outputs": [],
      "source": [
        "print(tsvData[0:15])"
      ]
    },
    {
      "cell_type": "code",
      "execution_count": null,
      "metadata": {
        "id": "eMlvUSrlWXUI"
      },
      "outputs": [],
      "source": [
        "allLabels = tsvData[:,0]\n",
        "domains = tsvData[:,1]\n",
        "keywords = tsvData[:,2]\n",
        "abstracts = tsvData[:,3]"
      ]
    },
    {
      "cell_type": "code",
      "execution_count": null,
      "metadata": {
        "colab": {
          "base_uri": "https://localhost:8080/"
        },
        "id": "I5ukmXOvWXUI",
        "outputId": "30976b76-eb11-4f0e-c051-fb0037611e30"
      },
      "outputs": [],
      "source": [
        "labels = np.unique(domains, return_counts=True)[0]\n",
        "labelCounts=  np.unique(domains, return_counts=True)[1]\n",
        "\n",
        "print(\"Labels \", labels)\n",
        "print(\"Label counts \", labelCounts)"
      ]
    },
    {
      "cell_type": "code",
      "execution_count": null,
      "metadata": {
        "colab": {
          "base_uri": "https://localhost:8080/",
          "height": 486
        },
        "id": "-T7QrmVmWXUI",
        "outputId": "be441c5f-c064-4f01-fd3f-b7efe29d0ea0"
      },
      "outputs": [],
      "source": [
        "# Visualize domain counts in dataset\n",
        "plt.figure(figsize=(10, 6))\n",
        "plt.title(\"Domain Counts (Dataset)\")\n",
        "plt.pie(labelCounts, labels=labels, autopct='%1.1f%%', startangle=140, colors=plt.cm.Paired(range(len(labels))))\n",
        "plt.axis('equal')\n",
        "plt.show()\n",
        "\n",
        "for i, domain in enumerate(labels):\n",
        "    print(\"The domain\", domain, \"has\", labelCounts[i], \"records in the dataset.\")"
      ]
    },
    {
      "cell_type": "code",
      "execution_count": null,
      "metadata": {
        "colab": {
          "base_uri": "https://localhost:8080/"
        },
        "id": "MWaqWll9WXUI",
        "outputId": "2be43b55-92e0-4b47-d949-5a98683cde86"
      },
      "outputs": [],
      "source": [
        "# Shuffle data\n",
        "dataShuffled = sklearn.utils.shuffle(tsvData)\n",
        "\n",
        "abstractsShuffled = dataShuffled[:,3]\n",
        "keywordsShuffled = dataShuffled[:,2]\n",
        "domainsShuffled = dataShuffled[:,1]\n",
        "allLabelsShuffled = dataShuffled[:,0]\n",
        "\n",
        "print(\"Number of abstracts: \", len(abstractsShuffled))\n",
        "print(\"Shape of abstracts: \", np.shape(abstractsShuffled))\n",
        "print(abstractsShuffled[0:2])\n",
        "\n",
        "print(\"Number of keywords: \", len(keywordsShuffled))\n",
        "print(\"Shape of keywords: \", np.shape(keywordsShuffled))\n",
        "print(abstractsShuffled[0:2])\n",
        "\n",
        "print(\"Number of domains: \", len(domainsShuffled))\n",
        "print(\"Shape of domains: \", np.shape(domainsShuffled))\n",
        "print(domainsShuffled[0:2])\n",
        "\n",
        "print(\"Number of labels: \", len(allLabelsShuffled))\n",
        "print(\"Shape of labels: \", np.shape(allLabelsShuffled))\n",
        "print(allLabelsShuffled[0:2])\n",
        "\n",
        "\n",
        "# Convert labels to integer\n",
        "allLabelsDigitShuffled = allLabelsShuffled.astype(int)\n",
        "\n",
        "print(abstractsShuffled[0:10])\n",
        "print(keywordsShuffled[0:10])\n",
        "print(domainsShuffled[0:10])\n",
        "print(allLabelsShuffled[0:10])\n",
        "print(allLabelsDigitShuffled[0:10])"
      ]
    },
    {
      "cell_type": "code",
      "execution_count": null,
      "metadata": {
        "colab": {
          "base_uri": "https://localhost:8080/",
          "height": 301,
          "referenced_widgets": [
            "b7594057ccc045b8864c3d7a521c3b8e",
            "879206303a5d4bd88bbde5d2855c05e4",
            "8b2f9b21d46e41e881f2fa13343f600a",
            "ae13b2bb5f9b4883843310a76b1b10b9",
            "2da333b030bf47c2ae6af9be42d20f17",
            "b2711cf72b8b4d5898196c287aa3fb09",
            "b195ef38c90b4bcdae4777f241d9f88b",
            "5b31dfcec5b2475998afd0d4d04fcb5c",
            "64b5cf3758b2483eace9c3c19a07a1db",
            "7595a57c5afa4ff486d214fa2d9d05da",
            "05be5bfe29f5442bacc78cd1ea798686",
            "55e14a4360d946b4b0d723b301de95b2",
            "08a1ff9ed6074941b1e9f8cf39500899",
            "213ca4a7bcfd4da496593cd14a9034d2",
            "b6b5ad10cf2c4f5d96b00b1e98270c86",
            "5085f7deeb3d4fe3becad33d3d6ba7d3",
            "62238f571c9a4ceab7ce70ab08cee8dd",
            "3267f3f20ccd4bd1b02b6afd58a89e78",
            "028f70ef54ab40f691e3e70a169f4f81",
            "8560de17883b4d23861a11f547276c19",
            "9df3885ba51b4ac3a05db2f9e0e7d8f3",
            "ab297e61903644f1bc0680481932d5f4"
          ]
        },
        "id": "t9_3IhKwWXUI",
        "outputId": "35cbda8d-d25e-4759-df38-6ef748c83a22"
      },
      "outputs": [],
      "source": [
        "# Split dataset into training and testing (80/20 split)\n",
        "train_data, test_data = train_test_split(dataShuffled, test_size=0.2, random_state=42)\n",
        "print(np.shape(train_data))\n",
        "print(np.shape(test_data))\n",
        "\n",
        "# Further split training data into training and validation (80/20 split of training set)\n",
        "_, val_data = train_test_split(test_data, test_size=0.2, random_state=42)\n",
        "print(np.shape(train_data))\n",
        "print(np.shape(test_data))\n",
        "print(np.shape(val_data))\n",
        "# Load SciBERT tokenizer\n",
        "tokenizer = AutoTokenizer.from_pretrained(\"allenai/scibert_scivocab_uncased\")"
      ]
    },
    {
      "cell_type": "code",
      "execution_count": null,
      "metadata": {
        "colab": {
          "base_uri": "https://localhost:8080/"
        },
        "id": "5wYiosJzWXUJ",
        "outputId": "09a04a96-4bd1-4f57-a329-6c83f613fcef"
      },
      "outputs": [],
      "source": [
        "abstractsTrain = train_data[:,3]\n",
        "keywordsTrain = train_data[:,2]\n",
        "domainsTrain = train_data[:,1]\n",
        "allLabelsTrain = train_data[:,0]\n",
        "\n",
        "print(\"Number of abstracts: \",len(abstractsTrain))\n",
        "print(\"Shape of abstracts: \",np.shape(abstractsTrain))\n",
        "print(\"Number of keywords: \",len(keywordsTrain))\n",
        "print(\"Shape of keywords: \",np.shape(keywordsTrain))\n",
        "print(\"Number of domains: \",len(domainsTrain))\n",
        "print(\"Shape of domains: \",np.shape(domainsTrain))\n",
        "print(\"Number of labels: \",len(allLabelsTrain))\n",
        "print(\"Shape of labels: \",np.shape(allLabelsTrain))\n",
        "\n",
        "print(abstractsTrain[0:2])\n",
        "print(keywordsTrain[0:2])\n",
        "print(domainsTrain[0:2])\n",
        "print(allLabelsTrain[0:2])"
      ]
    },
    {
      "cell_type": "code",
      "execution_count": null,
      "metadata": {
        "colab": {
          "base_uri": "https://localhost:8080/",
          "height": 523
        },
        "id": "kuvxdWDRWXUJ",
        "outputId": "c517306c-627c-4f55-d4d7-a17c39e0d2a7"
      },
      "outputs": [],
      "source": [
        "labels = np.unique(domainsTrain, return_counts=True)[0]\n",
        "labelCounts =  np.unique(domainsTrain, return_counts=True)[1]\n",
        "\n",
        "print(\"Labels \", labels)\n",
        "print(\"Label counts \", labelCounts)\n",
        "\n",
        "nAbstract = len(abstractsTrain)\n",
        "plt.figure(figsize=(10, 6))\n",
        "plt.title(\"Domain Counts (Training Set)\")\n",
        "plt.pie(labelCounts, labels=labels, autopct='%1.1f%%', startangle=140, colors=plt.cm.Paired(range(len(labels))))\n",
        "plt.axis('equal')  # Equal aspect ratio ensures that pie is drawn as a circle.\n",
        "plt.show()\n",
        "\n",
        "for i, domain in enumerate(labels):\n",
        "    print(\"The domain\", domain, \"has\", labelCounts[i], \"records in the training set.\")"
      ]
    },
    {
      "cell_type": "code",
      "execution_count": null,
      "metadata": {
        "colab": {
          "base_uri": "https://localhost:8080/"
        },
        "id": "WpHlCnwUWXUJ",
        "outputId": "b5c83ed7-c2d1-4dd6-d5cf-f54859156cc3"
      },
      "outputs": [],
      "source": [
        "abstractsTest = test_data[:,3]\n",
        "keywordsTest = test_data[:,2]\n",
        "domainsTest = test_data[:,1]\n",
        "allLabelsTest = test_data[:,0]\n",
        "\n",
        "print(\"Number of abstracts: \",len(abstractsTest))\n",
        "print(\"Shape of abstracts: \",np.shape(abstractsTest))\n",
        "print(\"Number of keywords: \",len(keywordsTest))\n",
        "print(\"Shape of keywords: \",np.shape(keywordsTest))\n",
        "print(\"Number of domains: \",len(domainsTest))\n",
        "print(\"Shape of domains: \",np.shape(domainsTest))\n",
        "print(\"Number of labels: \",len(allLabelsTest))\n",
        "print(\"Shape of labels: \",np.shape(allLabelsTest))\n",
        "\n",
        "# arr = np.array(domainsTest)\n",
        "# cleaned_domains = np.char.strip(arr)\n",
        "# print(\"Cleaned arr \", cleaned_domains)\n",
        "# domainsLabelsTest = cleaned_domains\n",
        "# print(\"Labels domains \", domainsLabelsTest)\n",
        "\n",
        "print(abstractsTest[0:2])\n",
        "print(keywordsTest[0:2])\n",
        "print(domainsTest[0:2])\n",
        "print(allLabelsTest[0:2])"
      ]
    },
    {
      "cell_type": "code",
      "execution_count": null,
      "metadata": {
        "colab": {
          "base_uri": "https://localhost:8080/",
          "height": 522
        },
        "id": "imNTasg6WXUJ",
        "outputId": "bb793f28-84df-4ec4-92eb-cc923c93928c"
      },
      "outputs": [],
      "source": [
        "labels = np.unique(domainsTest, return_counts=True)[0]\n",
        "labelCounts =  np.unique(domainsTest, return_counts=True)[1]\n",
        "\n",
        "print(\"Labels \", labels)\n",
        "print(\"Label counts \", labelCounts)\n",
        "\n",
        "nAbstract = len(abstractsTest)\n",
        "plt.figure(figsize=(10, 6))\n",
        "plt.title(\"Domain Counts (Test Set)\")\n",
        "plt.pie(labelCounts, labels=labels, autopct='%1.1f%%', startangle=140, colors=plt.cm.Paired(range(len(labels))))\n",
        "plt.axis('equal')  # Equal aspect ratio ensures that pie is drawn as a circle.\n",
        "plt.show()\n",
        "\n",
        "for i, domain in enumerate(labels):\n",
        "    print(\"The domain\", domain, \"has\", labelCounts[i], \"records in the test set.\")"
      ]
    },
    {
      "cell_type": "code",
      "execution_count": null,
      "metadata": {
        "colab": {
          "base_uri": "https://localhost:8080/"
        },
        "id": "sPFav1v1WXUJ",
        "outputId": "af00d228-26ae-45b1-e6ea-bc4e322d539b"
      },
      "outputs": [],
      "source": [
        "abstractsVal = val_data[:,3]\n",
        "keywordsVal = val_data[:,2]\n",
        "domainsVal = val_data[:,1]\n",
        "allLabelsVal = val_data[:,0]\n",
        "\n",
        "print(\"Number of abstracts: \",len(abstractsVal))\n",
        "print(\"Shape of abstracts: \",np.shape(abstractsVal))\n",
        "print(\"Number of keywords: \",len(keywordsVal))\n",
        "print(\"Shape of keywords: \",np.shape(keywordsVal))\n",
        "print(\"Number of domains: \",len(domainsVal))\n",
        "print(\"Shape of domains: \",np.shape(domainsVal))\n",
        "print(\"Number of labels: \",len(allLabelsVal))\n",
        "print(\"Shape of labels: \",np.shape(allLabelsVal))\n",
        "\n",
        "print(abstractsVal[0:2])\n",
        "print(keywordsVal[0:2])\n",
        "print(domainsVal[0:2])\n",
        "print(allLabelsVal[0:2])"
      ]
    },
    {
      "cell_type": "code",
      "execution_count": null,
      "metadata": {
        "colab": {
          "base_uri": "https://localhost:8080/",
          "height": 518
        },
        "id": "qW_P1Zn6WXUJ",
        "outputId": "3c2f781e-9df6-4e3e-cb26-c268160cc426"
      },
      "outputs": [],
      "source": [
        "labels = np.unique(domainsVal, return_counts=True)[0]\n",
        "labelCounts =  np.unique(domainsVal, return_counts=True)[1]\n",
        "\n",
        "print(\"Labels \", labels)\n",
        "print(\"Label counts \", labelCounts)\n",
        "\n",
        "nAbstract = len(abstractsVal)\n",
        "plt.figure(figsize=(10, 6))\n",
        "plt.title(\"Domain Counts (Validation Set)\")\n",
        "plt.pie(labelCounts, labels=labels, autopct='%1.1f%%', startangle=140, colors=plt.cm.Paired(range(len(labels))))\n",
        "plt.axis('equal')  # Equal aspect ratio ensures that pie is drawn as a circle.\n",
        "plt.show()\n",
        "\n",
        "for i, domain in enumerate(labels):\n",
        "    print(\"The domain\", domain, \"has\", labelCounts[i], \"records in the vaidation set.\")"
      ]
    },
    {
      "cell_type": "code",
      "execution_count": null,
      "metadata": {
        "id": "AewCWU8XWXUJ"
      },
      "outputs": [],
      "source": [
        "# Function to tokenize and encode the dataset\n",
        "def encode_data(data, tokenizer, max_length=128):\n",
        "    # print(len(data[:,2]))\n",
        "    inputs = tokenizer(\n",
        "        data[:,2].tolist(), # keywords\n",
        "        max_length=max_length,\n",
        "        padding='max_length',\n",
        "        truncation=True,\n",
        "        return_tensors=\"pt\"\n",
        "    )\n",
        "    # print(len(dataShuffled[:, 0]))\n",
        "    labels = torch.tensor(data[:, 0].astype(int))\n",
        "    print(\"Label length \", len(labels))\n",
        "    return TensorDataset(inputs['input_ids'], inputs['attention_mask'], labels)"
      ]
    },
    {
      "cell_type": "code",
      "execution_count": null,
      "metadata": {
        "colab": {
          "base_uri": "https://localhost:8080/"
        },
        "id": "qosmRYrmWXUJ",
        "outputId": "ed74ff2b-b78b-4c65-f9be-b14e136eb4ff"
      },
      "outputs": [],
      "source": [
        "print(np.shape(train_data))\n",
        "print(np.shape(test_data))\n",
        "print(np.shape(val_data))\n"
      ]
    },
    {
      "cell_type": "code",
      "execution_count": null,
      "metadata": {
        "colab": {
          "base_uri": "https://localhost:8080/"
        },
        "id": "ntqAS03ZWXUJ",
        "outputId": "ca71b4f2-68ff-4f2d-bce4-ec2565901c5b"
      },
      "outputs": [],
      "source": [
        "# Encode training, validation, and testing data\n",
        "train_dataset = encode_data(train_data, tokenizer)\n",
        "val_dataset = encode_data(val_data, tokenizer)\n",
        "test_dataset = encode_data(test_data, tokenizer)\n",
        "\n",
        "\n",
        "\n",
        "# Data loaders\n",
        "train_dataloader = DataLoader(train_dataset, sampler=RandomSampler(train_dataset), batch_size=32)\n",
        "val_dataloader = DataLoader(val_dataset, sampler=SequentialSampler(val_dataset), batch_size=32)\n",
        "test_dataloader = DataLoader(test_dataset, sampler=SequentialSampler(test_dataset), batch_size=32)"
      ]
    },
    {
      "cell_type": "code",
      "execution_count": null,
      "metadata": {
        "colab": {
          "base_uri": "https://localhost:8080/"
        },
        "id": "cGH9hmFwafTf",
        "outputId": "6404b383-50b3-4699-dea9-0e373353572d"
      },
      "outputs": [],
      "source": [
        "print(np.unique(train_data[:,0]))"
      ]
    },
    {
      "cell_type": "code",
      "execution_count": null,
      "metadata": {
        "colab": {
          "base_uri": "https://localhost:8080/",
          "height": 940,
          "referenced_widgets": [
            "39200186bcf6427fae836128f46a4776",
            "97f06b8ec01e47b4abc55a1f5111d0ce",
            "162a63b9214f4c7fad0c5939ca19b10e",
            "e7d33249e2744ce9a7dd9a39d5f12c20",
            "4af8b8486bcf4d71937286613c338641",
            "9ec7121085e14cc0b08e68ce2a343a22",
            "d72b66f10f8d44d18222ff2fb25d25b9",
            "f7884fa3919f4a72a2b442537867e61c",
            "90d0ffa2262c4f9ca72badcb45fce2f8",
            "6e198e50d942403c8515558d27b3db95",
            "ba2d14189713448dbe7fd3915b15f34a"
          ]
        },
        "id": "GWDExyfRWXUJ",
        "outputId": "2708eab9-fba4-4715-87dc-ad313072fa42"
      },
      "outputs": [],
      "source": [
        "# Load SciBERT model\n",
        "print(len(np.unique(train_data[:,0])))\n",
        "model = AutoModelForSequenceClassification.from_pretrained(\"allenai/scibert_scivocab_uncased\", num_labels=len(np.unique(train_data[:,0])))\n",
        "device = torch.device(\"cuda\" if torch.cuda.is_available() else \"cpu\")\n",
        "model.to(device)"
      ]
    },
    {
      "cell_type": "code",
      "execution_count": null,
      "metadata": {
        "colab": {
          "base_uri": "https://localhost:8080/"
        },
        "id": "FXZH5dFPWXUJ",
        "outputId": "26a192c4-3703-4f4e-95a5-f56225b19de8"
      },
      "outputs": [],
      "source": [
        "model.config"
      ]
    },
    {
      "cell_type": "code",
      "execution_count": null,
      "metadata": {
        "colab": {
          "base_uri": "https://localhost:8080/"
        },
        "id": "SXpJq-t0WXUJ",
        "outputId": "8bf17dfd-006b-48c9-cea0-cba6b0a59e16"
      },
      "outputs": [],
      "source": [
        "# Optimizer and learning rate scheduler\n",
        "optimizer = AdamW(model.parameters(), lr=2e-5, eps=1e-8)\n",
        "total_steps = len(train_dataloader) * 20\n",
        "num_warmup_steps = 1e-4\n",
        "scheduler = get_linear_schedule_with_warmup(optimizer, num_warmup_steps=num_warmup_steps, num_training_steps=total_steps)"
      ]
    },
    {
      "cell_type": "code",
      "execution_count": null,
      "metadata": {
        "id": "PL4PtJ4_WXUJ"
      },
      "outputs": [],
      "source": [
        "def calculate_metrics(valType, predictions, true_labels):\n",
        "    # Confusion matrix\n",
        "    if(valType == 'test'):\n",
        "        cm = confusion_matrix(true_labels, predictions)\n",
        "        print(\"Confusion Matrix:\\n\", cm)\n",
        "\n",
        "        # Classification report (includes precision, recall, F1 score)\n",
        "        report = classification_report(true_labels, predictions, target_names=[str(i) for i in range(len(np.unique(true_labels)))])\n",
        "        print(\"\\nClassification Report:\\n\", report)\n",
        "\n",
        "        # Calculate different types of F1 scores, precision, and recall\n",
        "        f1_macro = f1_score(true_labels, predictions, average='macro')\n",
        "        f1_micro = f1_score(true_labels, predictions, average='micro')\n",
        "        f1_weighted = f1_score(true_labels, predictions, average='weighted')\n",
        "\n",
        "        precision_macro = precision_score(true_labels, predictions, average='macro')\n",
        "        precision_micro = precision_score(true_labels, predictions, average='micro')\n",
        "        precision_weighted = precision_score(true_labels, predictions, average='weighted')\n",
        "\n",
        "        recall_macro = recall_score(true_labels, predictions, average='macro')\n",
        "        recall_micro = recall_score(true_labels, predictions, average='micro')\n",
        "        recall_weighted = recall_score(true_labels, predictions, average='weighted')\n",
        "\n",
        "        print(f\"Macro F1 Score: {f1_macro}\")\n",
        "        print(f\"Micro F1 Score: {f1_micro}\")\n",
        "        print(f\"Weighted F1 Score: {f1_weighted}\")\n",
        "\n",
        "        print(f\"Macro Precision: {precision_macro}\")\n",
        "        print(f\"Micro Precision: {precision_micro}\")\n",
        "        print(f\"Weighted Precision: {precision_weighted}\")\n",
        "\n",
        "        print(f\"Macro Recall: {recall_macro}\")\n",
        "        print(f\"Micro Recall: {recall_micro}\")\n",
        "        print(f\"Weighted Recall: {recall_weighted}\")\n",
        "\n",
        "    elif(valType == 'val'):\n",
        "        cm = confusion_matrix(true_labels, predictions)\n",
        "        f1_macro = f1_score(true_labels, predictions, average='macro')\n",
        "        f1_micro = f1_score(true_labels, predictions, average='micro')\n",
        "        f1_weighted = f1_score(true_labels, predictions, average='weighted')\n",
        "\n",
        "        precision_macro = precision_score(true_labels, predictions, average='macro')\n",
        "        precision_micro = precision_score(true_labels, predictions, average='micro')\n",
        "        precision_weighted = precision_score(true_labels, predictions, average='weighted')\n",
        "\n",
        "        recall_macro = recall_score(true_labels, predictions, average='macro')\n",
        "        recall_micro = recall_score(true_labels, predictions, average='micro')\n",
        "        recall_weighted = recall_score(true_labels, predictions, average='weighted')\n",
        "        # print('Val Micro F1:', f1_micro)\n",
        "        return f1_micro"
      ]
    },
    {
      "cell_type": "code",
      "execution_count": null,
      "metadata": {
        "colab": {
          "base_uri": "https://localhost:8080/"
        },
        "id": "aAhwPA8HWXUJ",
        "outputId": "1ae96e5a-a7d1-43bd-e43a-9bff117da03a"
      },
      "outputs": [],
      "source": [
        "epochs = 20\n",
        "for epoch in range(epochs):\n",
        "    model.train()\n",
        "    total_train_loss = 0\n",
        "    start_time = time.time()\n",
        "\n",
        "    # Training\n",
        "    for step, batch in enumerate(tqdm(train_dataloader, desc=f\"Epoch {epoch + 1}/{epochs}\", unit=\"batch\")):\n",
        "        batch = tuple(t.to(device) for t in batch)\n",
        "        input_ids, input_mask, labels = batch\n",
        "\n",
        "\n",
        "        model.zero_grad()\n",
        "        outputs = model(input_ids=input_ids, attention_mask=input_mask, labels=labels)\n",
        "        loss = outputs.loss\n",
        "        total_train_loss += loss.item()\n",
        "\n",
        "        loss.backward()\n",
        "        torch.nn.utils.clip_grad_norm_(model.parameters(), max_norm=1.0)\n",
        "        optimizer.step()\n",
        "        scheduler.step()\n",
        "\n",
        "    avg_train_loss = total_train_loss / len(train_dataloader)\n",
        "\n",
        "    # Validation\n",
        "    model.eval()\n",
        "    predictions = []\n",
        "    true_labels = []\n",
        "\n",
        "    for batch in val_dataloader:\n",
        "        batch = tuple(t.to(device) for t in batch)\n",
        "        input_ids, input_mask, labels = batch\n",
        "\n",
        "        with torch.no_grad():\n",
        "            outputs = model(input_ids=input_ids, attention_mask=input_mask)\n",
        "            logits = outputs.logits\n",
        "\n",
        "        logits = logits.detach().cpu().numpy()\n",
        "        label_ids = labels.to('cpu').numpy()\n",
        "\n",
        "        batch_predictions = np.argmax(logits, axis=1)\n",
        "        predictions.extend(batch_predictions)\n",
        "        true_labels.extend(label_ids)\n",
        "\n",
        "    val_micro_f1 = calculate_metrics('val', predictions, true_labels)\n",
        "    elapsed_time = time.time() - start_time\n",
        "\n",
        "    # Print epoch summary\n",
        "    print(f\"Epoch {epoch + 1}/{epochs}\")\n",
        "    print(f\"  Train Loss: {avg_train_loss}\")\n",
        "    print(f\"  Val Micro F1: {val_micro_f1}\")\n",
        "    print(f\"  Time: {elapsed_time // 60:.0f}m {elapsed_time % 60:.0f}s\")"
      ]
    },
    {
      "cell_type": "code",
      "execution_count": null,
      "metadata": {
        "colab": {
          "base_uri": "https://localhost:8080/"
        },
        "id": "eySPoilnWXUJ",
        "outputId": "83ce37c7-2ca7-4409-fcbc-6bdbe6af2442"
      },
      "outputs": [],
      "source": [
        "# Evaluation\n",
        "model.eval()\n",
        "predictions = []\n",
        "true_labels = []\n",
        "\n",
        "for batch in test_dataloader:\n",
        "    batch = tuple(t.to(device) for t in batch)\n",
        "    input_ids, input_mask, labels = batch\n",
        "\n",
        "    with torch.no_grad():\n",
        "        outputs = model(input_ids=input_ids, attention_mask=input_mask)\n",
        "        logits = outputs.logits\n",
        "\n",
        "    logits = logits.detach().cpu().numpy()\n",
        "    label_ids = labels.to('cpu').numpy()\n",
        "\n",
        "    batch_predictions = np.argmax(logits, axis=1)\n",
        "    predictions.extend(batch_predictions)\n",
        "    true_labels.extend(label_ids)\n",
        "\n",
        "# Calculate and print metrics\n",
        "calculate_metrics('test', predictions, true_labels)"
      ]
    },
    {
      "cell_type": "code",
      "execution_count": null,
      "metadata": {
        "id": "GDaeLSDEWXUJ"
      },
      "outputs": [],
      "source": [
        "model.save_pretrained('/content/drive/MyDrive/WoS/SciBERT_WoS_Keywords_5736')"
      ]
    },
    {
      "cell_type": "code",
      "execution_count": null,
      "metadata": {
        "id": "al5m_MWpULLW"
      },
      "outputs": [],
      "source": [
        "runtime.unassign()"
      ]
    }
  ],
  "metadata": {
    "accelerator": "GPU",
    "colab": {
      "gpuType": "T4",
      "provenance": []
    },
    "kernelspec": {
      "display_name": "Python 3",
      "name": "python3"
    },
    "language_info": {
      "name": "python"
    },
    "widgets": {
      "application/vnd.jupyter.widget-state+json": {
        "028f70ef54ab40f691e3e70a169f4f81": {
          "model_module": "@jupyter-widgets/base",
          "model_module_version": "1.2.0",
          "model_name": "LayoutModel",
          "state": {
            "_model_module": "@jupyter-widgets/base",
            "_model_module_version": "1.2.0",
            "_model_name": "LayoutModel",
            "_view_count": null,
            "_view_module": "@jupyter-widgets/base",
            "_view_module_version": "1.2.0",
            "_view_name": "LayoutView",
            "align_content": null,
            "align_items": null,
            "align_self": null,
            "border": null,
            "bottom": null,
            "display": null,
            "flex": null,
            "flex_flow": null,
            "grid_area": null,
            "grid_auto_columns": null,
            "grid_auto_flow": null,
            "grid_auto_rows": null,
            "grid_column": null,
            "grid_gap": null,
            "grid_row": null,
            "grid_template_areas": null,
            "grid_template_columns": null,
            "grid_template_rows": null,
            "height": null,
            "justify_content": null,
            "justify_items": null,
            "left": null,
            "margin": null,
            "max_height": null,
            "max_width": null,
            "min_height": null,
            "min_width": null,
            "object_fit": null,
            "object_position": null,
            "order": null,
            "overflow": null,
            "overflow_x": null,
            "overflow_y": null,
            "padding": null,
            "right": null,
            "top": null,
            "visibility": null,
            "width": null
          }
        },
        "05be5bfe29f5442bacc78cd1ea798686": {
          "model_module": "@jupyter-widgets/controls",
          "model_module_version": "1.5.0",
          "model_name": "DescriptionStyleModel",
          "state": {
            "_model_module": "@jupyter-widgets/controls",
            "_model_module_version": "1.5.0",
            "_model_name": "DescriptionStyleModel",
            "_view_count": null,
            "_view_module": "@jupyter-widgets/base",
            "_view_module_version": "1.2.0",
            "_view_name": "StyleView",
            "description_width": ""
          }
        },
        "08a1ff9ed6074941b1e9f8cf39500899": {
          "model_module": "@jupyter-widgets/controls",
          "model_module_version": "1.5.0",
          "model_name": "HTMLModel",
          "state": {
            "_dom_classes": [],
            "_model_module": "@jupyter-widgets/controls",
            "_model_module_version": "1.5.0",
            "_model_name": "HTMLModel",
            "_view_count": null,
            "_view_module": "@jupyter-widgets/controls",
            "_view_module_version": "1.5.0",
            "_view_name": "HTMLView",
            "description": "",
            "description_tooltip": null,
            "layout": "IPY_MODEL_62238f571c9a4ceab7ce70ab08cee8dd",
            "placeholder": "​",
            "style": "IPY_MODEL_3267f3f20ccd4bd1b02b6afd58a89e78",
            "value": "vocab.txt: 100%"
          }
        },
        "162a63b9214f4c7fad0c5939ca19b10e": {
          "model_module": "@jupyter-widgets/controls",
          "model_module_version": "1.5.0",
          "model_name": "FloatProgressModel",
          "state": {
            "_dom_classes": [],
            "_model_module": "@jupyter-widgets/controls",
            "_model_module_version": "1.5.0",
            "_model_name": "FloatProgressModel",
            "_view_count": null,
            "_view_module": "@jupyter-widgets/controls",
            "_view_module_version": "1.5.0",
            "_view_name": "ProgressView",
            "bar_style": "success",
            "description": "",
            "description_tooltip": null,
            "layout": "IPY_MODEL_f7884fa3919f4a72a2b442537867e61c",
            "max": 442221694,
            "min": 0,
            "orientation": "horizontal",
            "style": "IPY_MODEL_90d0ffa2262c4f9ca72badcb45fce2f8",
            "value": 442221694
          }
        },
        "213ca4a7bcfd4da496593cd14a9034d2": {
          "model_module": "@jupyter-widgets/controls",
          "model_module_version": "1.5.0",
          "model_name": "FloatProgressModel",
          "state": {
            "_dom_classes": [],
            "_model_module": "@jupyter-widgets/controls",
            "_model_module_version": "1.5.0",
            "_model_name": "FloatProgressModel",
            "_view_count": null,
            "_view_module": "@jupyter-widgets/controls",
            "_view_module_version": "1.5.0",
            "_view_name": "ProgressView",
            "bar_style": "success",
            "description": "",
            "description_tooltip": null,
            "layout": "IPY_MODEL_028f70ef54ab40f691e3e70a169f4f81",
            "max": 227845,
            "min": 0,
            "orientation": "horizontal",
            "style": "IPY_MODEL_8560de17883b4d23861a11f547276c19",
            "value": 227845
          }
        },
        "2da333b030bf47c2ae6af9be42d20f17": {
          "model_module": "@jupyter-widgets/base",
          "model_module_version": "1.2.0",
          "model_name": "LayoutModel",
          "state": {
            "_model_module": "@jupyter-widgets/base",
            "_model_module_version": "1.2.0",
            "_model_name": "LayoutModel",
            "_view_count": null,
            "_view_module": "@jupyter-widgets/base",
            "_view_module_version": "1.2.0",
            "_view_name": "LayoutView",
            "align_content": null,
            "align_items": null,
            "align_self": null,
            "border": null,
            "bottom": null,
            "display": null,
            "flex": null,
            "flex_flow": null,
            "grid_area": null,
            "grid_auto_columns": null,
            "grid_auto_flow": null,
            "grid_auto_rows": null,
            "grid_column": null,
            "grid_gap": null,
            "grid_row": null,
            "grid_template_areas": null,
            "grid_template_columns": null,
            "grid_template_rows": null,
            "height": null,
            "justify_content": null,
            "justify_items": null,
            "left": null,
            "margin": null,
            "max_height": null,
            "max_width": null,
            "min_height": null,
            "min_width": null,
            "object_fit": null,
            "object_position": null,
            "order": null,
            "overflow": null,
            "overflow_x": null,
            "overflow_y": null,
            "padding": null,
            "right": null,
            "top": null,
            "visibility": null,
            "width": null
          }
        },
        "3267f3f20ccd4bd1b02b6afd58a89e78": {
          "model_module": "@jupyter-widgets/controls",
          "model_module_version": "1.5.0",
          "model_name": "DescriptionStyleModel",
          "state": {
            "_model_module": "@jupyter-widgets/controls",
            "_model_module_version": "1.5.0",
            "_model_name": "DescriptionStyleModel",
            "_view_count": null,
            "_view_module": "@jupyter-widgets/base",
            "_view_module_version": "1.2.0",
            "_view_name": "StyleView",
            "description_width": ""
          }
        },
        "39200186bcf6427fae836128f46a4776": {
          "model_module": "@jupyter-widgets/controls",
          "model_module_version": "1.5.0",
          "model_name": "HBoxModel",
          "state": {
            "_dom_classes": [],
            "_model_module": "@jupyter-widgets/controls",
            "_model_module_version": "1.5.0",
            "_model_name": "HBoxModel",
            "_view_count": null,
            "_view_module": "@jupyter-widgets/controls",
            "_view_module_version": "1.5.0",
            "_view_name": "HBoxView",
            "box_style": "",
            "children": [
              "IPY_MODEL_97f06b8ec01e47b4abc55a1f5111d0ce",
              "IPY_MODEL_162a63b9214f4c7fad0c5939ca19b10e",
              "IPY_MODEL_e7d33249e2744ce9a7dd9a39d5f12c20"
            ],
            "layout": "IPY_MODEL_4af8b8486bcf4d71937286613c338641"
          }
        },
        "4af8b8486bcf4d71937286613c338641": {
          "model_module": "@jupyter-widgets/base",
          "model_module_version": "1.2.0",
          "model_name": "LayoutModel",
          "state": {
            "_model_module": "@jupyter-widgets/base",
            "_model_module_version": "1.2.0",
            "_model_name": "LayoutModel",
            "_view_count": null,
            "_view_module": "@jupyter-widgets/base",
            "_view_module_version": "1.2.0",
            "_view_name": "LayoutView",
            "align_content": null,
            "align_items": null,
            "align_self": null,
            "border": null,
            "bottom": null,
            "display": null,
            "flex": null,
            "flex_flow": null,
            "grid_area": null,
            "grid_auto_columns": null,
            "grid_auto_flow": null,
            "grid_auto_rows": null,
            "grid_column": null,
            "grid_gap": null,
            "grid_row": null,
            "grid_template_areas": null,
            "grid_template_columns": null,
            "grid_template_rows": null,
            "height": null,
            "justify_content": null,
            "justify_items": null,
            "left": null,
            "margin": null,
            "max_height": null,
            "max_width": null,
            "min_height": null,
            "min_width": null,
            "object_fit": null,
            "object_position": null,
            "order": null,
            "overflow": null,
            "overflow_x": null,
            "overflow_y": null,
            "padding": null,
            "right": null,
            "top": null,
            "visibility": null,
            "width": null
          }
        },
        "5085f7deeb3d4fe3becad33d3d6ba7d3": {
          "model_module": "@jupyter-widgets/base",
          "model_module_version": "1.2.0",
          "model_name": "LayoutModel",
          "state": {
            "_model_module": "@jupyter-widgets/base",
            "_model_module_version": "1.2.0",
            "_model_name": "LayoutModel",
            "_view_count": null,
            "_view_module": "@jupyter-widgets/base",
            "_view_module_version": "1.2.0",
            "_view_name": "LayoutView",
            "align_content": null,
            "align_items": null,
            "align_self": null,
            "border": null,
            "bottom": null,
            "display": null,
            "flex": null,
            "flex_flow": null,
            "grid_area": null,
            "grid_auto_columns": null,
            "grid_auto_flow": null,
            "grid_auto_rows": null,
            "grid_column": null,
            "grid_gap": null,
            "grid_row": null,
            "grid_template_areas": null,
            "grid_template_columns": null,
            "grid_template_rows": null,
            "height": null,
            "justify_content": null,
            "justify_items": null,
            "left": null,
            "margin": null,
            "max_height": null,
            "max_width": null,
            "min_height": null,
            "min_width": null,
            "object_fit": null,
            "object_position": null,
            "order": null,
            "overflow": null,
            "overflow_x": null,
            "overflow_y": null,
            "padding": null,
            "right": null,
            "top": null,
            "visibility": null,
            "width": null
          }
        },
        "55e14a4360d946b4b0d723b301de95b2": {
          "model_module": "@jupyter-widgets/controls",
          "model_module_version": "1.5.0",
          "model_name": "HBoxModel",
          "state": {
            "_dom_classes": [],
            "_model_module": "@jupyter-widgets/controls",
            "_model_module_version": "1.5.0",
            "_model_name": "HBoxModel",
            "_view_count": null,
            "_view_module": "@jupyter-widgets/controls",
            "_view_module_version": "1.5.0",
            "_view_name": "HBoxView",
            "box_style": "",
            "children": [
              "IPY_MODEL_08a1ff9ed6074941b1e9f8cf39500899",
              "IPY_MODEL_213ca4a7bcfd4da496593cd14a9034d2",
              "IPY_MODEL_b6b5ad10cf2c4f5d96b00b1e98270c86"
            ],
            "layout": "IPY_MODEL_5085f7deeb3d4fe3becad33d3d6ba7d3"
          }
        },
        "5b31dfcec5b2475998afd0d4d04fcb5c": {
          "model_module": "@jupyter-widgets/base",
          "model_module_version": "1.2.0",
          "model_name": "LayoutModel",
          "state": {
            "_model_module": "@jupyter-widgets/base",
            "_model_module_version": "1.2.0",
            "_model_name": "LayoutModel",
            "_view_count": null,
            "_view_module": "@jupyter-widgets/base",
            "_view_module_version": "1.2.0",
            "_view_name": "LayoutView",
            "align_content": null,
            "align_items": null,
            "align_self": null,
            "border": null,
            "bottom": null,
            "display": null,
            "flex": null,
            "flex_flow": null,
            "grid_area": null,
            "grid_auto_columns": null,
            "grid_auto_flow": null,
            "grid_auto_rows": null,
            "grid_column": null,
            "grid_gap": null,
            "grid_row": null,
            "grid_template_areas": null,
            "grid_template_columns": null,
            "grid_template_rows": null,
            "height": null,
            "justify_content": null,
            "justify_items": null,
            "left": null,
            "margin": null,
            "max_height": null,
            "max_width": null,
            "min_height": null,
            "min_width": null,
            "object_fit": null,
            "object_position": null,
            "order": null,
            "overflow": null,
            "overflow_x": null,
            "overflow_y": null,
            "padding": null,
            "right": null,
            "top": null,
            "visibility": null,
            "width": null
          }
        },
        "62238f571c9a4ceab7ce70ab08cee8dd": {
          "model_module": "@jupyter-widgets/base",
          "model_module_version": "1.2.0",
          "model_name": "LayoutModel",
          "state": {
            "_model_module": "@jupyter-widgets/base",
            "_model_module_version": "1.2.0",
            "_model_name": "LayoutModel",
            "_view_count": null,
            "_view_module": "@jupyter-widgets/base",
            "_view_module_version": "1.2.0",
            "_view_name": "LayoutView",
            "align_content": null,
            "align_items": null,
            "align_self": null,
            "border": null,
            "bottom": null,
            "display": null,
            "flex": null,
            "flex_flow": null,
            "grid_area": null,
            "grid_auto_columns": null,
            "grid_auto_flow": null,
            "grid_auto_rows": null,
            "grid_column": null,
            "grid_gap": null,
            "grid_row": null,
            "grid_template_areas": null,
            "grid_template_columns": null,
            "grid_template_rows": null,
            "height": null,
            "justify_content": null,
            "justify_items": null,
            "left": null,
            "margin": null,
            "max_height": null,
            "max_width": null,
            "min_height": null,
            "min_width": null,
            "object_fit": null,
            "object_position": null,
            "order": null,
            "overflow": null,
            "overflow_x": null,
            "overflow_y": null,
            "padding": null,
            "right": null,
            "top": null,
            "visibility": null,
            "width": null
          }
        },
        "64b5cf3758b2483eace9c3c19a07a1db": {
          "model_module": "@jupyter-widgets/controls",
          "model_module_version": "1.5.0",
          "model_name": "ProgressStyleModel",
          "state": {
            "_model_module": "@jupyter-widgets/controls",
            "_model_module_version": "1.5.0",
            "_model_name": "ProgressStyleModel",
            "_view_count": null,
            "_view_module": "@jupyter-widgets/base",
            "_view_module_version": "1.2.0",
            "_view_name": "StyleView",
            "bar_color": null,
            "description_width": ""
          }
        },
        "6e198e50d942403c8515558d27b3db95": {
          "model_module": "@jupyter-widgets/base",
          "model_module_version": "1.2.0",
          "model_name": "LayoutModel",
          "state": {
            "_model_module": "@jupyter-widgets/base",
            "_model_module_version": "1.2.0",
            "_model_name": "LayoutModel",
            "_view_count": null,
            "_view_module": "@jupyter-widgets/base",
            "_view_module_version": "1.2.0",
            "_view_name": "LayoutView",
            "align_content": null,
            "align_items": null,
            "align_self": null,
            "border": null,
            "bottom": null,
            "display": null,
            "flex": null,
            "flex_flow": null,
            "grid_area": null,
            "grid_auto_columns": null,
            "grid_auto_flow": null,
            "grid_auto_rows": null,
            "grid_column": null,
            "grid_gap": null,
            "grid_row": null,
            "grid_template_areas": null,
            "grid_template_columns": null,
            "grid_template_rows": null,
            "height": null,
            "justify_content": null,
            "justify_items": null,
            "left": null,
            "margin": null,
            "max_height": null,
            "max_width": null,
            "min_height": null,
            "min_width": null,
            "object_fit": null,
            "object_position": null,
            "order": null,
            "overflow": null,
            "overflow_x": null,
            "overflow_y": null,
            "padding": null,
            "right": null,
            "top": null,
            "visibility": null,
            "width": null
          }
        },
        "7595a57c5afa4ff486d214fa2d9d05da": {
          "model_module": "@jupyter-widgets/base",
          "model_module_version": "1.2.0",
          "model_name": "LayoutModel",
          "state": {
            "_model_module": "@jupyter-widgets/base",
            "_model_module_version": "1.2.0",
            "_model_name": "LayoutModel",
            "_view_count": null,
            "_view_module": "@jupyter-widgets/base",
            "_view_module_version": "1.2.0",
            "_view_name": "LayoutView",
            "align_content": null,
            "align_items": null,
            "align_self": null,
            "border": null,
            "bottom": null,
            "display": null,
            "flex": null,
            "flex_flow": null,
            "grid_area": null,
            "grid_auto_columns": null,
            "grid_auto_flow": null,
            "grid_auto_rows": null,
            "grid_column": null,
            "grid_gap": null,
            "grid_row": null,
            "grid_template_areas": null,
            "grid_template_columns": null,
            "grid_template_rows": null,
            "height": null,
            "justify_content": null,
            "justify_items": null,
            "left": null,
            "margin": null,
            "max_height": null,
            "max_width": null,
            "min_height": null,
            "min_width": null,
            "object_fit": null,
            "object_position": null,
            "order": null,
            "overflow": null,
            "overflow_x": null,
            "overflow_y": null,
            "padding": null,
            "right": null,
            "top": null,
            "visibility": null,
            "width": null
          }
        },
        "8560de17883b4d23861a11f547276c19": {
          "model_module": "@jupyter-widgets/controls",
          "model_module_version": "1.5.0",
          "model_name": "ProgressStyleModel",
          "state": {
            "_model_module": "@jupyter-widgets/controls",
            "_model_module_version": "1.5.0",
            "_model_name": "ProgressStyleModel",
            "_view_count": null,
            "_view_module": "@jupyter-widgets/base",
            "_view_module_version": "1.2.0",
            "_view_name": "StyleView",
            "bar_color": null,
            "description_width": ""
          }
        },
        "879206303a5d4bd88bbde5d2855c05e4": {
          "model_module": "@jupyter-widgets/controls",
          "model_module_version": "1.5.0",
          "model_name": "HTMLModel",
          "state": {
            "_dom_classes": [],
            "_model_module": "@jupyter-widgets/controls",
            "_model_module_version": "1.5.0",
            "_model_name": "HTMLModel",
            "_view_count": null,
            "_view_module": "@jupyter-widgets/controls",
            "_view_module_version": "1.5.0",
            "_view_name": "HTMLView",
            "description": "",
            "description_tooltip": null,
            "layout": "IPY_MODEL_b2711cf72b8b4d5898196c287aa3fb09",
            "placeholder": "​",
            "style": "IPY_MODEL_b195ef38c90b4bcdae4777f241d9f88b",
            "value": "config.json: 100%"
          }
        },
        "8b2f9b21d46e41e881f2fa13343f600a": {
          "model_module": "@jupyter-widgets/controls",
          "model_module_version": "1.5.0",
          "model_name": "FloatProgressModel",
          "state": {
            "_dom_classes": [],
            "_model_module": "@jupyter-widgets/controls",
            "_model_module_version": "1.5.0",
            "_model_name": "FloatProgressModel",
            "_view_count": null,
            "_view_module": "@jupyter-widgets/controls",
            "_view_module_version": "1.5.0",
            "_view_name": "ProgressView",
            "bar_style": "success",
            "description": "",
            "description_tooltip": null,
            "layout": "IPY_MODEL_5b31dfcec5b2475998afd0d4d04fcb5c",
            "max": 385,
            "min": 0,
            "orientation": "horizontal",
            "style": "IPY_MODEL_64b5cf3758b2483eace9c3c19a07a1db",
            "value": 385
          }
        },
        "90d0ffa2262c4f9ca72badcb45fce2f8": {
          "model_module": "@jupyter-widgets/controls",
          "model_module_version": "1.5.0",
          "model_name": "ProgressStyleModel",
          "state": {
            "_model_module": "@jupyter-widgets/controls",
            "_model_module_version": "1.5.0",
            "_model_name": "ProgressStyleModel",
            "_view_count": null,
            "_view_module": "@jupyter-widgets/base",
            "_view_module_version": "1.2.0",
            "_view_name": "StyleView",
            "bar_color": null,
            "description_width": ""
          }
        },
        "97f06b8ec01e47b4abc55a1f5111d0ce": {
          "model_module": "@jupyter-widgets/controls",
          "model_module_version": "1.5.0",
          "model_name": "HTMLModel",
          "state": {
            "_dom_classes": [],
            "_model_module": "@jupyter-widgets/controls",
            "_model_module_version": "1.5.0",
            "_model_name": "HTMLModel",
            "_view_count": null,
            "_view_module": "@jupyter-widgets/controls",
            "_view_module_version": "1.5.0",
            "_view_name": "HTMLView",
            "description": "",
            "description_tooltip": null,
            "layout": "IPY_MODEL_9ec7121085e14cc0b08e68ce2a343a22",
            "placeholder": "​",
            "style": "IPY_MODEL_d72b66f10f8d44d18222ff2fb25d25b9",
            "value": "pytorch_model.bin: 100%"
          }
        },
        "9df3885ba51b4ac3a05db2f9e0e7d8f3": {
          "model_module": "@jupyter-widgets/base",
          "model_module_version": "1.2.0",
          "model_name": "LayoutModel",
          "state": {
            "_model_module": "@jupyter-widgets/base",
            "_model_module_version": "1.2.0",
            "_model_name": "LayoutModel",
            "_view_count": null,
            "_view_module": "@jupyter-widgets/base",
            "_view_module_version": "1.2.0",
            "_view_name": "LayoutView",
            "align_content": null,
            "align_items": null,
            "align_self": null,
            "border": null,
            "bottom": null,
            "display": null,
            "flex": null,
            "flex_flow": null,
            "grid_area": null,
            "grid_auto_columns": null,
            "grid_auto_flow": null,
            "grid_auto_rows": null,
            "grid_column": null,
            "grid_gap": null,
            "grid_row": null,
            "grid_template_areas": null,
            "grid_template_columns": null,
            "grid_template_rows": null,
            "height": null,
            "justify_content": null,
            "justify_items": null,
            "left": null,
            "margin": null,
            "max_height": null,
            "max_width": null,
            "min_height": null,
            "min_width": null,
            "object_fit": null,
            "object_position": null,
            "order": null,
            "overflow": null,
            "overflow_x": null,
            "overflow_y": null,
            "padding": null,
            "right": null,
            "top": null,
            "visibility": null,
            "width": null
          }
        },
        "9ec7121085e14cc0b08e68ce2a343a22": {
          "model_module": "@jupyter-widgets/base",
          "model_module_version": "1.2.0",
          "model_name": "LayoutModel",
          "state": {
            "_model_module": "@jupyter-widgets/base",
            "_model_module_version": "1.2.0",
            "_model_name": "LayoutModel",
            "_view_count": null,
            "_view_module": "@jupyter-widgets/base",
            "_view_module_version": "1.2.0",
            "_view_name": "LayoutView",
            "align_content": null,
            "align_items": null,
            "align_self": null,
            "border": null,
            "bottom": null,
            "display": null,
            "flex": null,
            "flex_flow": null,
            "grid_area": null,
            "grid_auto_columns": null,
            "grid_auto_flow": null,
            "grid_auto_rows": null,
            "grid_column": null,
            "grid_gap": null,
            "grid_row": null,
            "grid_template_areas": null,
            "grid_template_columns": null,
            "grid_template_rows": null,
            "height": null,
            "justify_content": null,
            "justify_items": null,
            "left": null,
            "margin": null,
            "max_height": null,
            "max_width": null,
            "min_height": null,
            "min_width": null,
            "object_fit": null,
            "object_position": null,
            "order": null,
            "overflow": null,
            "overflow_x": null,
            "overflow_y": null,
            "padding": null,
            "right": null,
            "top": null,
            "visibility": null,
            "width": null
          }
        },
        "ab297e61903644f1bc0680481932d5f4": {
          "model_module": "@jupyter-widgets/controls",
          "model_module_version": "1.5.0",
          "model_name": "DescriptionStyleModel",
          "state": {
            "_model_module": "@jupyter-widgets/controls",
            "_model_module_version": "1.5.0",
            "_model_name": "DescriptionStyleModel",
            "_view_count": null,
            "_view_module": "@jupyter-widgets/base",
            "_view_module_version": "1.2.0",
            "_view_name": "StyleView",
            "description_width": ""
          }
        },
        "ae13b2bb5f9b4883843310a76b1b10b9": {
          "model_module": "@jupyter-widgets/controls",
          "model_module_version": "1.5.0",
          "model_name": "HTMLModel",
          "state": {
            "_dom_classes": [],
            "_model_module": "@jupyter-widgets/controls",
            "_model_module_version": "1.5.0",
            "_model_name": "HTMLModel",
            "_view_count": null,
            "_view_module": "@jupyter-widgets/controls",
            "_view_module_version": "1.5.0",
            "_view_name": "HTMLView",
            "description": "",
            "description_tooltip": null,
            "layout": "IPY_MODEL_7595a57c5afa4ff486d214fa2d9d05da",
            "placeholder": "​",
            "style": "IPY_MODEL_05be5bfe29f5442bacc78cd1ea798686",
            "value": " 385/385 [00:00&lt;00:00, 15.9kB/s]"
          }
        },
        "b195ef38c90b4bcdae4777f241d9f88b": {
          "model_module": "@jupyter-widgets/controls",
          "model_module_version": "1.5.0",
          "model_name": "DescriptionStyleModel",
          "state": {
            "_model_module": "@jupyter-widgets/controls",
            "_model_module_version": "1.5.0",
            "_model_name": "DescriptionStyleModel",
            "_view_count": null,
            "_view_module": "@jupyter-widgets/base",
            "_view_module_version": "1.2.0",
            "_view_name": "StyleView",
            "description_width": ""
          }
        },
        "b2711cf72b8b4d5898196c287aa3fb09": {
          "model_module": "@jupyter-widgets/base",
          "model_module_version": "1.2.0",
          "model_name": "LayoutModel",
          "state": {
            "_model_module": "@jupyter-widgets/base",
            "_model_module_version": "1.2.0",
            "_model_name": "LayoutModel",
            "_view_count": null,
            "_view_module": "@jupyter-widgets/base",
            "_view_module_version": "1.2.0",
            "_view_name": "LayoutView",
            "align_content": null,
            "align_items": null,
            "align_self": null,
            "border": null,
            "bottom": null,
            "display": null,
            "flex": null,
            "flex_flow": null,
            "grid_area": null,
            "grid_auto_columns": null,
            "grid_auto_flow": null,
            "grid_auto_rows": null,
            "grid_column": null,
            "grid_gap": null,
            "grid_row": null,
            "grid_template_areas": null,
            "grid_template_columns": null,
            "grid_template_rows": null,
            "height": null,
            "justify_content": null,
            "justify_items": null,
            "left": null,
            "margin": null,
            "max_height": null,
            "max_width": null,
            "min_height": null,
            "min_width": null,
            "object_fit": null,
            "object_position": null,
            "order": null,
            "overflow": null,
            "overflow_x": null,
            "overflow_y": null,
            "padding": null,
            "right": null,
            "top": null,
            "visibility": null,
            "width": null
          }
        },
        "b6b5ad10cf2c4f5d96b00b1e98270c86": {
          "model_module": "@jupyter-widgets/controls",
          "model_module_version": "1.5.0",
          "model_name": "HTMLModel",
          "state": {
            "_dom_classes": [],
            "_model_module": "@jupyter-widgets/controls",
            "_model_module_version": "1.5.0",
            "_model_name": "HTMLModel",
            "_view_count": null,
            "_view_module": "@jupyter-widgets/controls",
            "_view_module_version": "1.5.0",
            "_view_name": "HTMLView",
            "description": "",
            "description_tooltip": null,
            "layout": "IPY_MODEL_9df3885ba51b4ac3a05db2f9e0e7d8f3",
            "placeholder": "​",
            "style": "IPY_MODEL_ab297e61903644f1bc0680481932d5f4",
            "value": " 228k/228k [00:00&lt;00:00, 1.92MB/s]"
          }
        },
        "b7594057ccc045b8864c3d7a521c3b8e": {
          "model_module": "@jupyter-widgets/controls",
          "model_module_version": "1.5.0",
          "model_name": "HBoxModel",
          "state": {
            "_dom_classes": [],
            "_model_module": "@jupyter-widgets/controls",
            "_model_module_version": "1.5.0",
            "_model_name": "HBoxModel",
            "_view_count": null,
            "_view_module": "@jupyter-widgets/controls",
            "_view_module_version": "1.5.0",
            "_view_name": "HBoxView",
            "box_style": "",
            "children": [
              "IPY_MODEL_879206303a5d4bd88bbde5d2855c05e4",
              "IPY_MODEL_8b2f9b21d46e41e881f2fa13343f600a",
              "IPY_MODEL_ae13b2bb5f9b4883843310a76b1b10b9"
            ],
            "layout": "IPY_MODEL_2da333b030bf47c2ae6af9be42d20f17"
          }
        },
        "ba2d14189713448dbe7fd3915b15f34a": {
          "model_module": "@jupyter-widgets/controls",
          "model_module_version": "1.5.0",
          "model_name": "DescriptionStyleModel",
          "state": {
            "_model_module": "@jupyter-widgets/controls",
            "_model_module_version": "1.5.0",
            "_model_name": "DescriptionStyleModel",
            "_view_count": null,
            "_view_module": "@jupyter-widgets/base",
            "_view_module_version": "1.2.0",
            "_view_name": "StyleView",
            "description_width": ""
          }
        },
        "d72b66f10f8d44d18222ff2fb25d25b9": {
          "model_module": "@jupyter-widgets/controls",
          "model_module_version": "1.5.0",
          "model_name": "DescriptionStyleModel",
          "state": {
            "_model_module": "@jupyter-widgets/controls",
            "_model_module_version": "1.5.0",
            "_model_name": "DescriptionStyleModel",
            "_view_count": null,
            "_view_module": "@jupyter-widgets/base",
            "_view_module_version": "1.2.0",
            "_view_name": "StyleView",
            "description_width": ""
          }
        },
        "e7d33249e2744ce9a7dd9a39d5f12c20": {
          "model_module": "@jupyter-widgets/controls",
          "model_module_version": "1.5.0",
          "model_name": "HTMLModel",
          "state": {
            "_dom_classes": [],
            "_model_module": "@jupyter-widgets/controls",
            "_model_module_version": "1.5.0",
            "_model_name": "HTMLModel",
            "_view_count": null,
            "_view_module": "@jupyter-widgets/controls",
            "_view_module_version": "1.5.0",
            "_view_name": "HTMLView",
            "description": "",
            "description_tooltip": null,
            "layout": "IPY_MODEL_6e198e50d942403c8515558d27b3db95",
            "placeholder": "​",
            "style": "IPY_MODEL_ba2d14189713448dbe7fd3915b15f34a",
            "value": " 442M/442M [00:03&lt;00:00, 73.9MB/s]"
          }
        },
        "f7884fa3919f4a72a2b442537867e61c": {
          "model_module": "@jupyter-widgets/base",
          "model_module_version": "1.2.0",
          "model_name": "LayoutModel",
          "state": {
            "_model_module": "@jupyter-widgets/base",
            "_model_module_version": "1.2.0",
            "_model_name": "LayoutModel",
            "_view_count": null,
            "_view_module": "@jupyter-widgets/base",
            "_view_module_version": "1.2.0",
            "_view_name": "LayoutView",
            "align_content": null,
            "align_items": null,
            "align_self": null,
            "border": null,
            "bottom": null,
            "display": null,
            "flex": null,
            "flex_flow": null,
            "grid_area": null,
            "grid_auto_columns": null,
            "grid_auto_flow": null,
            "grid_auto_rows": null,
            "grid_column": null,
            "grid_gap": null,
            "grid_row": null,
            "grid_template_areas": null,
            "grid_template_columns": null,
            "grid_template_rows": null,
            "height": null,
            "justify_content": null,
            "justify_items": null,
            "left": null,
            "margin": null,
            "max_height": null,
            "max_width": null,
            "min_height": null,
            "min_width": null,
            "object_fit": null,
            "object_position": null,
            "order": null,
            "overflow": null,
            "overflow_x": null,
            "overflow_y": null,
            "padding": null,
            "right": null,
            "top": null,
            "visibility": null,
            "width": null
          }
        }
      }
    }
  },
  "nbformat": 4,
  "nbformat_minor": 0
}
