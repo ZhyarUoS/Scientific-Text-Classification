{
  "cells": [
    {
      "cell_type": "code",
      "execution_count": null,
      "metadata": {
        "colab": {
          "base_uri": "https://localhost:8080/"
        },
        "id": "Va5ItHiVWXUG",
        "outputId": "16bc25cf-86e2-4997-f65a-9cd4e2fb7a27"
      },
      "outputs": [],
      "source": [
        "gpu_info = !nvidia-smi\n",
        "gpu_info = '\\n'.join(gpu_info)\n",
        "if gpu_info.find('failed') >= 0:\n",
        "  print('Not connected to a GPU')\n",
        "else:\n",
        "  print(gpu_info)"
      ]
    },
    {
      "cell_type": "code",
      "execution_count": null,
      "metadata": {
        "colab": {
          "base_uri": "https://localhost:8080/"
        },
        "id": "6PAN1HD9WXUH",
        "outputId": "1abb50de-7297-4afc-fec6-1bc7a6265934"
      },
      "outputs": [],
      "source": [
        "from psutil import virtual_memory\n",
        "ram_gb = virtual_memory().total / 1e9\n",
        "print('Your runtime has {:.1f} gigabytes of available RAM\\n'.format(ram_gb))\n",
        "\n",
        "if ram_gb < 20:\n",
        "  print('Not using a high-RAM runtime')\n",
        "else:\n",
        "  print('You are using a high-RAM runtime!')"
      ]
    },
    {
      "cell_type": "code",
      "execution_count": null,
      "metadata": {
        "colab": {
          "base_uri": "https://localhost:8080/"
        },
        "id": "M7k7VLmJWXUH",
        "outputId": "41885370-504a-410f-e01d-9c7a6aff3b71"
      },
      "outputs": [],
      "source": [
        "from google.colab import drive\n",
        "drive.mount('/content/drive')"
      ]
    },
    {
      "cell_type": "code",
      "execution_count": null,
      "metadata": {
        "colab": {
          "base_uri": "https://localhost:8080/"
        },
        "id": "SqnIUcZCWXUI",
        "outputId": "790fd344-0393-4b42-9357-6b074c962a3e"
      },
      "outputs": [],
      "source": [
        "!pip install transformers"
      ]
    },
    {
      "cell_type": "code",
      "execution_count": null,
      "metadata": {
        "id": "WhVPx8QYWXUI"
      },
      "outputs": [],
      "source": [
        "import os\n",
        "import numpy as np\n",
        "import pandas as pd\n",
        "from sklearn.model_selection import train_test_split\n",
        "from sklearn.metrics import confusion_matrix, classification_report, f1_score, precision_score, recall_score\n",
        "from transformers import AutoTokenizer, AutoModelForSequenceClassification, AdamW, get_linear_schedule_with_warmup\n",
        "import torch\n",
        "from torch.utils.data import DataLoader, TensorDataset, RandomSampler, SequentialSampler\n",
        "import torch.nn.functional as F\n",
        "from tqdm import trange, tqdm\n",
        "import matplotlib.pyplot as plt\n",
        "import sklearn.utils\n",
        "import time\n",
        "import re\n",
        "from google.colab import runtime"
      ]
    },
    {
      "cell_type": "code",
      "execution_count": null,
      "metadata": {
        "colab": {
          "base_uri": "https://localhost:8080/"
        },
        "id": "3oFtbbtBWXUI",
        "outputId": "44ebd062-2b73-4986-e61b-91fd13688e37"
      },
      "outputs": [],
      "source": [
        "# Retrive the data from stored dataset\n",
        "dataDir = \"/content/drive/MyDrive/WoS/data\"\n",
        "tsvData = os.path.join(dataDir,\"WoSDataset_5736.tsv\")\n",
        "\n",
        "tsvData = np.loadtxt(tsvData, dtype=str, delimiter=\"\\t\")\n",
        "print(np.shape(tsvData))"
      ]
    },
    {
      "cell_type": "code",
      "execution_count": null,
      "metadata": {
        "colab": {
          "base_uri": "https://localhost:8080/"
        },
        "id": "5xw9-_jdWXUI",
        "outputId": "df23e661-2506-4a23-8099-51c347cf230d"
      },
      "outputs": [],
      "source": [
        "print(tsvData[0:15])"
      ]
    },
    {
      "cell_type": "code",
      "execution_count": null,
      "metadata": {
        "id": "eMlvUSrlWXUI"
      },
      "outputs": [],
      "source": [
        "allLabels = tsvData[:,0]\n",
        "domains = tsvData[:,1]\n",
        "keywords = tsvData[:,2]\n",
        "abstracts = tsvData[:,3]"
      ]
    },
    {
      "cell_type": "code",
      "execution_count": null,
      "metadata": {
        "colab": {
          "base_uri": "https://localhost:8080/"
        },
        "id": "I5ukmXOvWXUI",
        "outputId": "8e9067c5-a18e-41fa-ea18-28c09946c35f"
      },
      "outputs": [],
      "source": [
        "labels = np.unique(domains, return_counts=True)[0]\n",
        "labelCounts=  np.unique(domains, return_counts=True)[1]\n",
        "\n",
        "print(\"Labels \", labels)\n",
        "print(\"Label counts \", labelCounts)"
      ]
    },
    {
      "cell_type": "code",
      "execution_count": null,
      "metadata": {
        "colab": {
          "base_uri": "https://localhost:8080/",
          "height": 582
        },
        "id": "-T7QrmVmWXUI",
        "outputId": "f984e77f-3688-4255-b705-9d9e602de6f5"
      },
      "outputs": [],
      "source": [
        "# Visualize domain counts in dataset\n",
        "plt.figure(figsize=(10, 6))\n",
        "plt.title(\"Domain Counts (Dataset)\")\n",
        "plt.pie(labelCounts, labels=labels, autopct='%1.1f%%', startangle=140, colors=plt.cm.Paired(range(len(labels))))\n",
        "plt.axis('equal')\n",
        "plt.show()\n",
        "\n",
        "for i, domain in enumerate(labels):\n",
        "    print(\"The domain\", domain, \"has\", labelCounts[i], \"records in the dataset.\")"
      ]
    },
    {
      "cell_type": "code",
      "execution_count": null,
      "metadata": {
        "colab": {
          "base_uri": "https://localhost:8080/"
        },
        "id": "MWaqWll9WXUI",
        "outputId": "dc661c87-9f66-4e9a-f0e8-87a2846d9f5a"
      },
      "outputs": [],
      "source": [
        "# Shuffle data\n",
        "dataShuffled = sklearn.utils.shuffle(tsvData)\n",
        "\n",
        "abstractsShuffled = dataShuffled[:,3]\n",
        "keywordsShuffled = dataShuffled[:,2]\n",
        "domainsShuffled = dataShuffled[:,1]\n",
        "allLabelsShuffled = dataShuffled[:,0]\n",
        "\n",
        "print(\"Number of abstracts: \", len(abstractsShuffled))\n",
        "print(\"Shape of abstracts: \", np.shape(abstractsShuffled))\n",
        "print(abstractsShuffled[0:2])\n",
        "\n",
        "print(\"Number of keywords: \", len(keywordsShuffled))\n",
        "print(\"Shape of keywords: \", np.shape(keywordsShuffled))\n",
        "print(abstractsShuffled[0:2])\n",
        "\n",
        "print(\"Number of domains: \", len(domainsShuffled))\n",
        "print(\"Shape of domains: \", np.shape(domainsShuffled))\n",
        "print(domainsShuffled[0:2])\n",
        "\n",
        "print(\"Number of labels: \", len(allLabelsShuffled))\n",
        "print(\"Shape of labels: \", np.shape(allLabelsShuffled))\n",
        "print(allLabelsShuffled[0:2])\n",
        "\n",
        "\n",
        "# Convert labels to integer\n",
        "allLabelsDigitShuffled = allLabelsShuffled.astype(int)\n",
        "\n",
        "print(abstractsShuffled[0:10])\n",
        "print(keywordsShuffled[0:10])\n",
        "print(domainsShuffled[0:10])\n",
        "print(allLabelsShuffled[0:10])\n",
        "print(allLabelsDigitShuffled[0:10])"
      ]
    },
    {
      "cell_type": "code",
      "execution_count": null,
      "metadata": {
        "colab": {
          "base_uri": "https://localhost:8080/",
          "height": 301,
          "referenced_widgets": [
            "1f319b1d1f5f487d9be6778af690e6eb",
            "bb5e548a95c34fb69f737b40ff6204f8",
            "10f3a61f535b456a83c84ec65d263365",
            "daeb953508504c90a726cdde25dadff5",
            "b37bff729ba24bd4ac462fa4b5e6d803",
            "07256f1c1d404b43bbdfcc9cda8866fa",
            "2f1ad09495b84751889ac03cf6a4fbce",
            "4eb11c20838d4ca1add3d42e2faa3264",
            "95a5caec8ff447ceb04e2a0c263dc82a",
            "440455a202c245d5bb06803679f79289",
            "7c502171010f445da97881599d6142dd",
            "da75a6cf21504e00a0736a6140ce684e",
            "fa23d49afae54eca998049ae4eb8f9cd",
            "7ee876d8b5034873bf7a657875e8d3a9",
            "525dc98ec6334eabbe6bcd604c5902be",
            "cadf5b444ad448a4b61c82868f710783",
            "fbf74b4f43fc49a698e509834fac3057",
            "4a50fb50d4ec4cada2d6c1f938fbcb25",
            "c26bb1f024284e4f970d09372d9dd91b",
            "5e30a0ed903d49aa97fe8f6e94fecec4",
            "b4c079f032e74f939cce0ae8fac41818",
            "3c11c802c7cd4cd2b8e96ef0de2ea26d"
          ]
        },
        "id": "t9_3IhKwWXUI",
        "outputId": "beaefc11-74a6-4bba-edc0-5b8080e191f8"
      },
      "outputs": [],
      "source": [
        "# Split dataset into training and testing (80/20 split)\n",
        "train_data, test_data = train_test_split(dataShuffled, test_size=0.2, random_state=42)\n",
        "print(np.shape(train_data))\n",
        "print(np.shape(test_data))\n",
        "\n",
        "# Further split training data into training and validation (80/20 split of training set)\n",
        "_, val_data = train_test_split(test_data, test_size=0.2, random_state=42)\n",
        "print(np.shape(train_data))\n",
        "print(np.shape(test_data))\n",
        "print(np.shape(val_data))\n",
        "# Load BlueBERT tokenizer\n",
        "tokenizer = AutoTokenizer.from_pretrained(\"bionlp/bluebert_pubmed_uncased_L-24_H-1024_A-16\")"
      ]
    },
    {
      "cell_type": "code",
      "execution_count": null,
      "metadata": {
        "colab": {
          "base_uri": "https://localhost:8080/"
        },
        "id": "5wYiosJzWXUJ",
        "outputId": "dbf3175c-e5d4-41d0-d144-a6fabafb1639"
      },
      "outputs": [],
      "source": [
        "abstractsTrain = train_data[:,3]\n",
        "keywordsTrain = train_data[:,2]\n",
        "domainsTrain = train_data[:,1]\n",
        "allLabelsTrain = train_data[:,0]\n",
        "\n",
        "print(\"Number of abstracts: \",len(abstractsTrain))\n",
        "print(\"Shape of abstracts: \",np.shape(abstractsTrain))\n",
        "print(\"Number of keywords: \",len(keywordsTrain))\n",
        "print(\"Shape of keywords: \",np.shape(keywordsTrain))\n",
        "print(\"Number of domains: \",len(domainsTrain))\n",
        "print(\"Shape of domains: \",np.shape(domainsTrain))\n",
        "print(\"Number of labels: \",len(allLabelsTrain))\n",
        "print(\"Shape of labels: \",np.shape(allLabelsTrain))\n",
        "\n",
        "print(abstractsTrain[0:2])\n",
        "print(keywordsTrain[0:2])\n",
        "print(domainsTrain[0:2])\n",
        "print(allLabelsTrain[0:2])"
      ]
    },
    {
      "cell_type": "code",
      "execution_count": null,
      "metadata": {
        "colab": {
          "base_uri": "https://localhost:8080/",
          "height": 619
        },
        "id": "kuvxdWDRWXUJ",
        "outputId": "056ae2a9-5bc8-4f01-e1fd-36a4f84cd27d"
      },
      "outputs": [],
      "source": [
        "labels = np.unique(domainsTrain, return_counts=True)[0]\n",
        "labelCounts =  np.unique(domainsTrain, return_counts=True)[1]\n",
        "\n",
        "print(\"Labels \", labels)\n",
        "print(\"Label counts \", labelCounts)\n",
        "\n",
        "nAbstract = len(abstractsTrain)\n",
        "plt.figure(figsize=(10, 6))\n",
        "plt.title(\"Domain Counts (Training Set)\")\n",
        "plt.pie(labelCounts, labels=labels, autopct='%1.1f%%', startangle=140, colors=plt.cm.Paired(range(len(labels))))\n",
        "plt.axis('equal')  # Equal aspect ratio ensures that pie is drawn as a circle.\n",
        "plt.show()\n",
        "\n",
        "for i, domain in enumerate(labels):\n",
        "    print(\"The domain\", domain, \"has\", labelCounts[i], \"records in the training set.\")"
      ]
    },
    {
      "cell_type": "code",
      "execution_count": null,
      "metadata": {
        "colab": {
          "base_uri": "https://localhost:8080/"
        },
        "id": "WpHlCnwUWXUJ",
        "outputId": "cb866ae4-b26a-4f04-f745-dbd248374b3b"
      },
      "outputs": [],
      "source": [
        "abstractsTest = test_data[:,3]\n",
        "keywordsTest = test_data[:,2]\n",
        "domainsTest = test_data[:,1]\n",
        "allLabelsTest = test_data[:,0]\n",
        "\n",
        "print(\"Number of abstracts: \",len(abstractsTest))\n",
        "print(\"Shape of abstracts: \",np.shape(abstractsTest))\n",
        "print(\"Number of keywords: \",len(keywordsTest))\n",
        "print(\"Shape of keywords: \",np.shape(keywordsTest))\n",
        "print(\"Number of domains: \",len(domainsTest))\n",
        "print(\"Shape of domains: \",np.shape(domainsTest))\n",
        "print(\"Number of labels: \",len(allLabelsTest))\n",
        "print(\"Shape of labels: \",np.shape(allLabelsTest))\n",
        "\n",
        "# arr = np.array(domainsTest)\n",
        "# cleaned_domains = np.char.strip(arr)\n",
        "# print(\"Cleaned arr \", cleaned_domains)\n",
        "# domainsLabelsTest = cleaned_domains\n",
        "# print(\"Labels domains \", domainsLabelsTest)\n",
        "\n",
        "print(abstractsTest[0:2])\n",
        "print(keywordsTest[0:2])\n",
        "print(domainsTest[0:2])\n",
        "print(allLabelsTest[0:2])"
      ]
    },
    {
      "cell_type": "code",
      "execution_count": null,
      "metadata": {
        "colab": {
          "base_uri": "https://localhost:8080/",
          "height": 619
        },
        "id": "imNTasg6WXUJ",
        "outputId": "dc3fc644-b56a-47dc-9180-982daaee211c"
      },
      "outputs": [],
      "source": [
        "labels = np.unique(domainsTest, return_counts=True)[0]\n",
        "labelCounts =  np.unique(domainsTest, return_counts=True)[1]\n",
        "\n",
        "print(\"Labels \", labels)\n",
        "print(\"Label counts \", labelCounts)\n",
        "\n",
        "nAbstract = len(abstractsTest)\n",
        "plt.figure(figsize=(10, 6))\n",
        "plt.title(\"Domain Counts (Test Set)\")\n",
        "plt.pie(labelCounts, labels=labels, autopct='%1.1f%%', startangle=140, colors=plt.cm.Paired(range(len(labels))))\n",
        "plt.axis('equal')  # Equal aspect ratio ensures that pie is drawn as a circle.\n",
        "plt.show()\n",
        "\n",
        "for i, domain in enumerate(labels):\n",
        "    print(\"The domain\", domain, \"has\", labelCounts[i], \"records in the test set.\")"
      ]
    },
    {
      "cell_type": "code",
      "execution_count": null,
      "metadata": {
        "colab": {
          "base_uri": "https://localhost:8080/"
        },
        "id": "sPFav1v1WXUJ",
        "outputId": "83b0301a-95db-429c-d94c-0709d8c0e873"
      },
      "outputs": [],
      "source": [
        "abstractsVal = val_data[:,3]\n",
        "keywordsVal = val_data[:,2]\n",
        "domainsVal = val_data[:,1]\n",
        "allLabelsVal = val_data[:,0]\n",
        "\n",
        "print(\"Number of abstracts: \",len(abstractsVal))\n",
        "print(\"Shape of abstracts: \",np.shape(abstractsVal))\n",
        "print(\"Number of keywords: \",len(keywordsVal))\n",
        "print(\"Shape of keywords: \",np.shape(keywordsVal))\n",
        "print(\"Number of domains: \",len(domainsVal))\n",
        "print(\"Shape of domains: \",np.shape(domainsVal))\n",
        "print(\"Number of labels: \",len(allLabelsVal))\n",
        "print(\"Shape of labels: \",np.shape(allLabelsVal))\n",
        "\n",
        "print(abstractsVal[0:2])\n",
        "print(keywordsVal[0:2])\n",
        "print(domainsVal[0:2])\n",
        "print(allLabelsVal[0:2])"
      ]
    },
    {
      "cell_type": "code",
      "execution_count": null,
      "metadata": {
        "colab": {
          "base_uri": "https://localhost:8080/",
          "height": 619
        },
        "id": "qW_P1Zn6WXUJ",
        "outputId": "adfe3d5c-0515-4388-fff1-31300334d9ae"
      },
      "outputs": [],
      "source": [
        "labels = np.unique(domainsVal, return_counts=True)[0]\n",
        "labelCounts =  np.unique(domainsVal, return_counts=True)[1]\n",
        "\n",
        "print(\"Labels \", labels)\n",
        "print(\"Label counts \", labelCounts)\n",
        "\n",
        "nAbstract = len(abstractsVal)\n",
        "plt.figure(figsize=(10, 6))\n",
        "plt.title(\"Domain Counts (Validation Set)\")\n",
        "plt.pie(labelCounts, labels=labels, autopct='%1.1f%%', startangle=140, colors=plt.cm.Paired(range(len(labels))))\n",
        "plt.axis('equal')  # Equal aspect ratio ensures that pie is drawn as a circle.\n",
        "plt.show()\n",
        "\n",
        "for i, domain in enumerate(labels):\n",
        "    print(\"The domain\", domain, \"has\", labelCounts[i], \"records in the vaidation set.\")"
      ]
    },
    {
      "cell_type": "code",
      "execution_count": null,
      "metadata": {
        "id": "AewCWU8XWXUJ"
      },
      "outputs": [],
      "source": [
        "# Function to tokenize and encode the dataset\n",
        "def encode_data(data, tokenizer, max_length=128):\n",
        "    # print(len(data[:,2]))\n",
        "    inputs = tokenizer(\n",
        "        data[:,2].tolist(), # keywords\n",
        "        max_length=max_length,\n",
        "        padding='max_length',\n",
        "        truncation=True,\n",
        "        return_tensors=\"pt\"\n",
        "    )\n",
        "    # print(len(dataShuffled[:, 0]))\n",
        "    labels = torch.tensor(data[:, 0].astype(int))\n",
        "    print(\"Label length \", len(labels))\n",
        "    return TensorDataset(inputs['input_ids'], inputs['attention_mask'], labels)"
      ]
    },
    {
      "cell_type": "code",
      "execution_count": null,
      "metadata": {
        "colab": {
          "base_uri": "https://localhost:8080/"
        },
        "id": "qosmRYrmWXUJ",
        "outputId": "192d0bb7-7c0b-49a6-c7f1-e5a64a54a80a"
      },
      "outputs": [],
      "source": [
        "print(np.shape(train_data))\n",
        "print(np.shape(test_data))\n",
        "print(np.shape(val_data))\n"
      ]
    },
    {
      "cell_type": "code",
      "execution_count": null,
      "metadata": {
        "colab": {
          "base_uri": "https://localhost:8080/"
        },
        "id": "ntqAS03ZWXUJ",
        "outputId": "12327af1-a799-42b1-ad93-8bbc9ea5c345"
      },
      "outputs": [],
      "source": [
        "# Encode training, validation, and testing data\n",
        "train_dataset = encode_data(train_data, tokenizer)\n",
        "val_dataset = encode_data(val_data, tokenizer)\n",
        "test_dataset = encode_data(test_data, tokenizer)\n",
        "\n",
        "\n",
        "\n",
        "# Data loaders\n",
        "train_dataloader = DataLoader(train_dataset, sampler=RandomSampler(train_dataset), batch_size=32)\n",
        "val_dataloader = DataLoader(val_dataset, sampler=SequentialSampler(val_dataset), batch_size=32)\n",
        "test_dataloader = DataLoader(test_dataset, sampler=SequentialSampler(test_dataset), batch_size=32)"
      ]
    },
    {
      "cell_type": "code",
      "execution_count": null,
      "metadata": {
        "colab": {
          "base_uri": "https://localhost:8080/"
        },
        "id": "cGH9hmFwafTf",
        "outputId": "e3b1d542-00ce-4ece-d34c-06426ffe9763"
      },
      "outputs": [],
      "source": [
        "print(np.unique(train_data[:,0]))"
      ]
    },
    {
      "cell_type": "code",
      "execution_count": null,
      "metadata": {
        "colab": {
          "base_uri": "https://localhost:8080/",
          "height": 940,
          "referenced_widgets": [
            "76f4b37e6a0040fab43bbeff2ab06771",
            "3caa8470403047fd849fcccf1a821e31",
            "d5a250d7e19041108e32f918ce55ae23",
            "1c51ae3c872e43a39fa068ca9f57c1e4",
            "1b1d68260b2940f5b783c85665310f9b",
            "817b1bd54e2148f282e276b31ef54b82",
            "a02868097b8749589572345c26042b59",
            "92a585e9405642b6a3af9f31484a254c",
            "c6bb99df238d4d4d970bf87fb666428c",
            "23b63a83a70d454b90c9c2acb7e5b354",
            "fdd6714506d84370ad862faa85f6ac8f"
          ]
        },
        "id": "GWDExyfRWXUJ",
        "outputId": "b5730a19-5945-4136-a3e2-ee92f8b881b6"
      },
      "outputs": [],
      "source": [
        "# Load BlueBERT model\n",
        "print(len(np.unique(train_data[:,0])))\n",
        "model = AutoModelForSequenceClassification.from_pretrained(\"bionlp/bluebert_pubmed_uncased_L-24_H-1024_A-16\", num_labels=len(np.unique(train_data[:,0])))\n",
        "device = torch.device(\"cuda\" if torch.cuda.is_available() else \"cpu\")\n",
        "model.to(device)"
      ]
    },
    {
      "cell_type": "code",
      "execution_count": null,
      "metadata": {
        "colab": {
          "base_uri": "https://localhost:8080/"
        },
        "id": "FXZH5dFPWXUJ",
        "outputId": "60b9f977-694b-4873-e3f1-a57405911761"
      },
      "outputs": [],
      "source": [
        "model.config"
      ]
    },
    {
      "cell_type": "code",
      "execution_count": null,
      "metadata": {
        "colab": {
          "base_uri": "https://localhost:8080/"
        },
        "id": "SXpJq-t0WXUJ",
        "outputId": "0c1a2c19-f382-44f9-aff1-8eaf443b8f15"
      },
      "outputs": [],
      "source": [
        "# Optimizer and learning rate scheduler\n",
        "optimizer = AdamW(model.parameters(), lr=2e-5, eps=1e-8)\n",
        "total_steps = len(train_dataloader) * 20\n",
        "num_warmup_steps = 1e-4\n",
        "scheduler = get_linear_schedule_with_warmup(optimizer, num_warmup_steps=num_warmup_steps, num_training_steps=total_steps)"
      ]
    },
    {
      "cell_type": "code",
      "execution_count": null,
      "metadata": {
        "id": "PL4PtJ4_WXUJ"
      },
      "outputs": [],
      "source": [
        "def calculate_metrics(valType, predictions, true_labels):\n",
        "    # Confusion matrix\n",
        "    if(valType == 'test'):\n",
        "        cm = confusion_matrix(true_labels, predictions)\n",
        "        print(\"Confusion Matrix:\\n\", cm)\n",
        "\n",
        "        # Classification report (includes precision, recall, F1 score)\n",
        "        report = classification_report(true_labels, predictions, target_names=[str(i) for i in range(len(np.unique(true_labels)))])\n",
        "        print(\"\\nClassification Report:\\n\", report)\n",
        "\n",
        "        # Calculate different types of F1 scores, precision, and recall\n",
        "        f1_macro = f1_score(true_labels, predictions, average='macro')\n",
        "        f1_micro = f1_score(true_labels, predictions, average='micro')\n",
        "        f1_weighted = f1_score(true_labels, predictions, average='weighted')\n",
        "\n",
        "        precision_macro = precision_score(true_labels, predictions, average='macro')\n",
        "        precision_micro = precision_score(true_labels, predictions, average='micro')\n",
        "        precision_weighted = precision_score(true_labels, predictions, average='weighted')\n",
        "\n",
        "        recall_macro = recall_score(true_labels, predictions, average='macro')\n",
        "        recall_micro = recall_score(true_labels, predictions, average='micro')\n",
        "        recall_weighted = recall_score(true_labels, predictions, average='weighted')\n",
        "\n",
        "        print(f\"Macro F1 Score: {f1_macro}\")\n",
        "        print(f\"Micro F1 Score: {f1_micro}\")\n",
        "        print(f\"Weighted F1 Score: {f1_weighted}\")\n",
        "\n",
        "        print(f\"Macro Precision: {precision_macro}\")\n",
        "        print(f\"Micro Precision: {precision_micro}\")\n",
        "        print(f\"Weighted Precision: {precision_weighted}\")\n",
        "\n",
        "        print(f\"Macro Recall: {recall_macro}\")\n",
        "        print(f\"Micro Recall: {recall_micro}\")\n",
        "        print(f\"Weighted Recall: {recall_weighted}\")\n",
        "\n",
        "    elif(valType == 'val'):\n",
        "        cm = confusion_matrix(true_labels, predictions)\n",
        "        f1_macro = f1_score(true_labels, predictions, average='macro')\n",
        "        f1_micro = f1_score(true_labels, predictions, average='micro')\n",
        "        f1_weighted = f1_score(true_labels, predictions, average='weighted')\n",
        "\n",
        "        precision_macro = precision_score(true_labels, predictions, average='macro')\n",
        "        precision_micro = precision_score(true_labels, predictions, average='micro')\n",
        "        precision_weighted = precision_score(true_labels, predictions, average='weighted')\n",
        "\n",
        "        recall_macro = recall_score(true_labels, predictions, average='macro')\n",
        "        recall_micro = recall_score(true_labels, predictions, average='micro')\n",
        "        recall_weighted = recall_score(true_labels, predictions, average='weighted')\n",
        "        # print('Val Micro F1:', f1_micro)\n",
        "        return f1_micro"
      ]
    },
    {
      "cell_type": "code",
      "execution_count": null,
      "metadata": {
        "colab": {
          "base_uri": "https://localhost:8080/"
        },
        "id": "aAhwPA8HWXUJ",
        "outputId": "84b81ac2-6555-4ae2-aee8-8db48b5ea267"
      },
      "outputs": [],
      "source": [
        "epochs = 20\n",
        "for epoch in range(epochs):\n",
        "    model.train()\n",
        "    total_train_loss = 0\n",
        "    start_time = time.time()\n",
        "\n",
        "    # Training\n",
        "    for step, batch in enumerate(tqdm(train_dataloader, desc=f\"Epoch {epoch + 1}/{epochs}\", unit=\"batch\")):\n",
        "        batch = tuple(t.to(device) for t in batch)\n",
        "        input_ids, input_mask, labels = batch\n",
        "\n",
        "\n",
        "        model.zero_grad()\n",
        "        outputs = model(input_ids=input_ids, attention_mask=input_mask, labels=labels)\n",
        "        loss = outputs.loss\n",
        "        total_train_loss += loss.item()\n",
        "\n",
        "        loss.backward()\n",
        "        torch.nn.utils.clip_grad_norm_(model.parameters(), max_norm=1.0)\n",
        "        optimizer.step()\n",
        "        scheduler.step()\n",
        "\n",
        "    avg_train_loss = total_train_loss / len(train_dataloader)\n",
        "\n",
        "    # Validation\n",
        "    model.eval()\n",
        "    predictions = []\n",
        "    true_labels = []\n",
        "\n",
        "    for batch in val_dataloader:\n",
        "        batch = tuple(t.to(device) for t in batch)\n",
        "        input_ids, input_mask, labels = batch\n",
        "\n",
        "        with torch.no_grad():\n",
        "            outputs = model(input_ids=input_ids, attention_mask=input_mask)\n",
        "            logits = outputs.logits\n",
        "\n",
        "        logits = logits.detach().cpu().numpy()\n",
        "        label_ids = labels.to('cpu').numpy()\n",
        "\n",
        "        batch_predictions = np.argmax(logits, axis=1)\n",
        "        predictions.extend(batch_predictions)\n",
        "        true_labels.extend(label_ids)\n",
        "\n",
        "    val_micro_f1 = calculate_metrics('val', predictions, true_labels)\n",
        "    elapsed_time = time.time() - start_time\n",
        "\n",
        "    # Print epoch summary\n",
        "    print(f\"Epoch {epoch + 1}/{epochs}\")\n",
        "    print(f\"  Train Loss: {avg_train_loss}\")\n",
        "    print(f\"  Val Micro F1: {val_micro_f1}\")\n",
        "    print(f\"  Time: {elapsed_time // 60:.0f}m {elapsed_time % 60:.0f}s\")"
      ]
    },
    {
      "cell_type": "code",
      "execution_count": null,
      "metadata": {
        "colab": {
          "base_uri": "https://localhost:8080/"
        },
        "id": "eySPoilnWXUJ",
        "outputId": "9f32f422-d8cf-4b28-e7f6-a2d99a632391"
      },
      "outputs": [],
      "source": [
        "# Evaluation\n",
        "model.eval()\n",
        "predictions = []\n",
        "true_labels = []\n",
        "\n",
        "for batch in test_dataloader:\n",
        "    batch = tuple(t.to(device) for t in batch)\n",
        "    input_ids, input_mask, labels = batch\n",
        "\n",
        "    with torch.no_grad():\n",
        "        outputs = model(input_ids=input_ids, attention_mask=input_mask)\n",
        "        logits = outputs.logits\n",
        "\n",
        "    logits = logits.detach().cpu().numpy()\n",
        "    label_ids = labels.to('cpu').numpy()\n",
        "\n",
        "    batch_predictions = np.argmax(logits, axis=1)\n",
        "    predictions.extend(batch_predictions)\n",
        "    true_labels.extend(label_ids)\n",
        "\n",
        "# Calculate and print metrics\n",
        "calculate_metrics('test', predictions, true_labels)"
      ]
    },
    {
      "cell_type": "code",
      "execution_count": null,
      "metadata": {
        "id": "GDaeLSDEWXUJ"
      },
      "outputs": [],
      "source": [
        "model.save_pretrained('/content/drive/MyDrive/WoS/BlueBERT_WoS_Keywords_5736')"
      ]
    },
    {
      "cell_type": "code",
      "execution_count": null,
      "metadata": {
        "id": "MO5pkHJIhIP9"
      },
      "outputs": [],
      "source": [
        "runtime.unassign()"
      ]
    }
  ],
  "metadata": {
    "accelerator": "GPU",
    "colab": {
      "gpuType": "T4",
      "provenance": []
    },
    "kernelspec": {
      "display_name": "Python 3",
      "name": "python3"
    },
    "language_info": {
      "name": "python"
    },
    "widgets": {
      "application/vnd.jupyter.widget-state+json": {
        "07256f1c1d404b43bbdfcc9cda8866fa": {
          "model_module": "@jupyter-widgets/base",
          "model_module_version": "1.2.0",
          "model_name": "LayoutModel",
          "state": {
            "_model_module": "@jupyter-widgets/base",
            "_model_module_version": "1.2.0",
            "_model_name": "LayoutModel",
            "_view_count": null,
            "_view_module": "@jupyter-widgets/base",
            "_view_module_version": "1.2.0",
            "_view_name": "LayoutView",
            "align_content": null,
            "align_items": null,
            "align_self": null,
            "border": null,
            "bottom": null,
            "display": null,
            "flex": null,
            "flex_flow": null,
            "grid_area": null,
            "grid_auto_columns": null,
            "grid_auto_flow": null,
            "grid_auto_rows": null,
            "grid_column": null,
            "grid_gap": null,
            "grid_row": null,
            "grid_template_areas": null,
            "grid_template_columns": null,
            "grid_template_rows": null,
            "height": null,
            "justify_content": null,
            "justify_items": null,
            "left": null,
            "margin": null,
            "max_height": null,
            "max_width": null,
            "min_height": null,
            "min_width": null,
            "object_fit": null,
            "object_position": null,
            "order": null,
            "overflow": null,
            "overflow_x": null,
            "overflow_y": null,
            "padding": null,
            "right": null,
            "top": null,
            "visibility": null,
            "width": null
          }
        },
        "10f3a61f535b456a83c84ec65d263365": {
          "model_module": "@jupyter-widgets/controls",
          "model_module_version": "1.5.0",
          "model_name": "FloatProgressModel",
          "state": {
            "_dom_classes": [],
            "_model_module": "@jupyter-widgets/controls",
            "_model_module_version": "1.5.0",
            "_model_name": "FloatProgressModel",
            "_view_count": null,
            "_view_module": "@jupyter-widgets/controls",
            "_view_module_version": "1.5.0",
            "_view_name": "ProgressView",
            "bar_style": "success",
            "description": "",
            "description_tooltip": null,
            "layout": "IPY_MODEL_4eb11c20838d4ca1add3d42e2faa3264",
            "max": 314,
            "min": 0,
            "orientation": "horizontal",
            "style": "IPY_MODEL_95a5caec8ff447ceb04e2a0c263dc82a",
            "value": 314
          }
        },
        "1b1d68260b2940f5b783c85665310f9b": {
          "model_module": "@jupyter-widgets/base",
          "model_module_version": "1.2.0",
          "model_name": "LayoutModel",
          "state": {
            "_model_module": "@jupyter-widgets/base",
            "_model_module_version": "1.2.0",
            "_model_name": "LayoutModel",
            "_view_count": null,
            "_view_module": "@jupyter-widgets/base",
            "_view_module_version": "1.2.0",
            "_view_name": "LayoutView",
            "align_content": null,
            "align_items": null,
            "align_self": null,
            "border": null,
            "bottom": null,
            "display": null,
            "flex": null,
            "flex_flow": null,
            "grid_area": null,
            "grid_auto_columns": null,
            "grid_auto_flow": null,
            "grid_auto_rows": null,
            "grid_column": null,
            "grid_gap": null,
            "grid_row": null,
            "grid_template_areas": null,
            "grid_template_columns": null,
            "grid_template_rows": null,
            "height": null,
            "justify_content": null,
            "justify_items": null,
            "left": null,
            "margin": null,
            "max_height": null,
            "max_width": null,
            "min_height": null,
            "min_width": null,
            "object_fit": null,
            "object_position": null,
            "order": null,
            "overflow": null,
            "overflow_x": null,
            "overflow_y": null,
            "padding": null,
            "right": null,
            "top": null,
            "visibility": null,
            "width": null
          }
        },
        "1c51ae3c872e43a39fa068ca9f57c1e4": {
          "model_module": "@jupyter-widgets/controls",
          "model_module_version": "1.5.0",
          "model_name": "HTMLModel",
          "state": {
            "_dom_classes": [],
            "_model_module": "@jupyter-widgets/controls",
            "_model_module_version": "1.5.0",
            "_model_name": "HTMLModel",
            "_view_count": null,
            "_view_module": "@jupyter-widgets/controls",
            "_view_module_version": "1.5.0",
            "_view_name": "HTMLView",
            "description": "",
            "description_tooltip": null,
            "layout": "IPY_MODEL_23b63a83a70d454b90c9c2acb7e5b354",
            "placeholder": "​",
            "style": "IPY_MODEL_fdd6714506d84370ad862faa85f6ac8f",
            "value": " 1.35G/1.35G [00:15&lt;00:00, 25.9MB/s]"
          }
        },
        "1f319b1d1f5f487d9be6778af690e6eb": {
          "model_module": "@jupyter-widgets/controls",
          "model_module_version": "1.5.0",
          "model_name": "HBoxModel",
          "state": {
            "_dom_classes": [],
            "_model_module": "@jupyter-widgets/controls",
            "_model_module_version": "1.5.0",
            "_model_name": "HBoxModel",
            "_view_count": null,
            "_view_module": "@jupyter-widgets/controls",
            "_view_module_version": "1.5.0",
            "_view_name": "HBoxView",
            "box_style": "",
            "children": [
              "IPY_MODEL_bb5e548a95c34fb69f737b40ff6204f8",
              "IPY_MODEL_10f3a61f535b456a83c84ec65d263365",
              "IPY_MODEL_daeb953508504c90a726cdde25dadff5"
            ],
            "layout": "IPY_MODEL_b37bff729ba24bd4ac462fa4b5e6d803"
          }
        },
        "23b63a83a70d454b90c9c2acb7e5b354": {
          "model_module": "@jupyter-widgets/base",
          "model_module_version": "1.2.0",
          "model_name": "LayoutModel",
          "state": {
            "_model_module": "@jupyter-widgets/base",
            "_model_module_version": "1.2.0",
            "_model_name": "LayoutModel",
            "_view_count": null,
            "_view_module": "@jupyter-widgets/base",
            "_view_module_version": "1.2.0",
            "_view_name": "LayoutView",
            "align_content": null,
            "align_items": null,
            "align_self": null,
            "border": null,
            "bottom": null,
            "display": null,
            "flex": null,
            "flex_flow": null,
            "grid_area": null,
            "grid_auto_columns": null,
            "grid_auto_flow": null,
            "grid_auto_rows": null,
            "grid_column": null,
            "grid_gap": null,
            "grid_row": null,
            "grid_template_areas": null,
            "grid_template_columns": null,
            "grid_template_rows": null,
            "height": null,
            "justify_content": null,
            "justify_items": null,
            "left": null,
            "margin": null,
            "max_height": null,
            "max_width": null,
            "min_height": null,
            "min_width": null,
            "object_fit": null,
            "object_position": null,
            "order": null,
            "overflow": null,
            "overflow_x": null,
            "overflow_y": null,
            "padding": null,
            "right": null,
            "top": null,
            "visibility": null,
            "width": null
          }
        },
        "2f1ad09495b84751889ac03cf6a4fbce": {
          "model_module": "@jupyter-widgets/controls",
          "model_module_version": "1.5.0",
          "model_name": "DescriptionStyleModel",
          "state": {
            "_model_module": "@jupyter-widgets/controls",
            "_model_module_version": "1.5.0",
            "_model_name": "DescriptionStyleModel",
            "_view_count": null,
            "_view_module": "@jupyter-widgets/base",
            "_view_module_version": "1.2.0",
            "_view_name": "StyleView",
            "description_width": ""
          }
        },
        "3c11c802c7cd4cd2b8e96ef0de2ea26d": {
          "model_module": "@jupyter-widgets/controls",
          "model_module_version": "1.5.0",
          "model_name": "DescriptionStyleModel",
          "state": {
            "_model_module": "@jupyter-widgets/controls",
            "_model_module_version": "1.5.0",
            "_model_name": "DescriptionStyleModel",
            "_view_count": null,
            "_view_module": "@jupyter-widgets/base",
            "_view_module_version": "1.2.0",
            "_view_name": "StyleView",
            "description_width": ""
          }
        },
        "3caa8470403047fd849fcccf1a821e31": {
          "model_module": "@jupyter-widgets/controls",
          "model_module_version": "1.5.0",
          "model_name": "HTMLModel",
          "state": {
            "_dom_classes": [],
            "_model_module": "@jupyter-widgets/controls",
            "_model_module_version": "1.5.0",
            "_model_name": "HTMLModel",
            "_view_count": null,
            "_view_module": "@jupyter-widgets/controls",
            "_view_module_version": "1.5.0",
            "_view_name": "HTMLView",
            "description": "",
            "description_tooltip": null,
            "layout": "IPY_MODEL_817b1bd54e2148f282e276b31ef54b82",
            "placeholder": "​",
            "style": "IPY_MODEL_a02868097b8749589572345c26042b59",
            "value": "pytorch_model.bin: 100%"
          }
        },
        "440455a202c245d5bb06803679f79289": {
          "model_module": "@jupyter-widgets/base",
          "model_module_version": "1.2.0",
          "model_name": "LayoutModel",
          "state": {
            "_model_module": "@jupyter-widgets/base",
            "_model_module_version": "1.2.0",
            "_model_name": "LayoutModel",
            "_view_count": null,
            "_view_module": "@jupyter-widgets/base",
            "_view_module_version": "1.2.0",
            "_view_name": "LayoutView",
            "align_content": null,
            "align_items": null,
            "align_self": null,
            "border": null,
            "bottom": null,
            "display": null,
            "flex": null,
            "flex_flow": null,
            "grid_area": null,
            "grid_auto_columns": null,
            "grid_auto_flow": null,
            "grid_auto_rows": null,
            "grid_column": null,
            "grid_gap": null,
            "grid_row": null,
            "grid_template_areas": null,
            "grid_template_columns": null,
            "grid_template_rows": null,
            "height": null,
            "justify_content": null,
            "justify_items": null,
            "left": null,
            "margin": null,
            "max_height": null,
            "max_width": null,
            "min_height": null,
            "min_width": null,
            "object_fit": null,
            "object_position": null,
            "order": null,
            "overflow": null,
            "overflow_x": null,
            "overflow_y": null,
            "padding": null,
            "right": null,
            "top": null,
            "visibility": null,
            "width": null
          }
        },
        "4a50fb50d4ec4cada2d6c1f938fbcb25": {
          "model_module": "@jupyter-widgets/controls",
          "model_module_version": "1.5.0",
          "model_name": "DescriptionStyleModel",
          "state": {
            "_model_module": "@jupyter-widgets/controls",
            "_model_module_version": "1.5.0",
            "_model_name": "DescriptionStyleModel",
            "_view_count": null,
            "_view_module": "@jupyter-widgets/base",
            "_view_module_version": "1.2.0",
            "_view_name": "StyleView",
            "description_width": ""
          }
        },
        "4eb11c20838d4ca1add3d42e2faa3264": {
          "model_module": "@jupyter-widgets/base",
          "model_module_version": "1.2.0",
          "model_name": "LayoutModel",
          "state": {
            "_model_module": "@jupyter-widgets/base",
            "_model_module_version": "1.2.0",
            "_model_name": "LayoutModel",
            "_view_count": null,
            "_view_module": "@jupyter-widgets/base",
            "_view_module_version": "1.2.0",
            "_view_name": "LayoutView",
            "align_content": null,
            "align_items": null,
            "align_self": null,
            "border": null,
            "bottom": null,
            "display": null,
            "flex": null,
            "flex_flow": null,
            "grid_area": null,
            "grid_auto_columns": null,
            "grid_auto_flow": null,
            "grid_auto_rows": null,
            "grid_column": null,
            "grid_gap": null,
            "grid_row": null,
            "grid_template_areas": null,
            "grid_template_columns": null,
            "grid_template_rows": null,
            "height": null,
            "justify_content": null,
            "justify_items": null,
            "left": null,
            "margin": null,
            "max_height": null,
            "max_width": null,
            "min_height": null,
            "min_width": null,
            "object_fit": null,
            "object_position": null,
            "order": null,
            "overflow": null,
            "overflow_x": null,
            "overflow_y": null,
            "padding": null,
            "right": null,
            "top": null,
            "visibility": null,
            "width": null
          }
        },
        "525dc98ec6334eabbe6bcd604c5902be": {
          "model_module": "@jupyter-widgets/controls",
          "model_module_version": "1.5.0",
          "model_name": "HTMLModel",
          "state": {
            "_dom_classes": [],
            "_model_module": "@jupyter-widgets/controls",
            "_model_module_version": "1.5.0",
            "_model_name": "HTMLModel",
            "_view_count": null,
            "_view_module": "@jupyter-widgets/controls",
            "_view_module_version": "1.5.0",
            "_view_name": "HTMLView",
            "description": "",
            "description_tooltip": null,
            "layout": "IPY_MODEL_b4c079f032e74f939cce0ae8fac41818",
            "placeholder": "​",
            "style": "IPY_MODEL_3c11c802c7cd4cd2b8e96ef0de2ea26d",
            "value": " 232k/232k [00:00&lt;00:00, 3.16MB/s]"
          }
        },
        "5e30a0ed903d49aa97fe8f6e94fecec4": {
          "model_module": "@jupyter-widgets/controls",
          "model_module_version": "1.5.0",
          "model_name": "ProgressStyleModel",
          "state": {
            "_model_module": "@jupyter-widgets/controls",
            "_model_module_version": "1.5.0",
            "_model_name": "ProgressStyleModel",
            "_view_count": null,
            "_view_module": "@jupyter-widgets/base",
            "_view_module_version": "1.2.0",
            "_view_name": "StyleView",
            "bar_color": null,
            "description_width": ""
          }
        },
        "76f4b37e6a0040fab43bbeff2ab06771": {
          "model_module": "@jupyter-widgets/controls",
          "model_module_version": "1.5.0",
          "model_name": "HBoxModel",
          "state": {
            "_dom_classes": [],
            "_model_module": "@jupyter-widgets/controls",
            "_model_module_version": "1.5.0",
            "_model_name": "HBoxModel",
            "_view_count": null,
            "_view_module": "@jupyter-widgets/controls",
            "_view_module_version": "1.5.0",
            "_view_name": "HBoxView",
            "box_style": "",
            "children": [
              "IPY_MODEL_3caa8470403047fd849fcccf1a821e31",
              "IPY_MODEL_d5a250d7e19041108e32f918ce55ae23",
              "IPY_MODEL_1c51ae3c872e43a39fa068ca9f57c1e4"
            ],
            "layout": "IPY_MODEL_1b1d68260b2940f5b783c85665310f9b"
          }
        },
        "7c502171010f445da97881599d6142dd": {
          "model_module": "@jupyter-widgets/controls",
          "model_module_version": "1.5.0",
          "model_name": "DescriptionStyleModel",
          "state": {
            "_model_module": "@jupyter-widgets/controls",
            "_model_module_version": "1.5.0",
            "_model_name": "DescriptionStyleModel",
            "_view_count": null,
            "_view_module": "@jupyter-widgets/base",
            "_view_module_version": "1.2.0",
            "_view_name": "StyleView",
            "description_width": ""
          }
        },
        "7ee876d8b5034873bf7a657875e8d3a9": {
          "model_module": "@jupyter-widgets/controls",
          "model_module_version": "1.5.0",
          "model_name": "FloatProgressModel",
          "state": {
            "_dom_classes": [],
            "_model_module": "@jupyter-widgets/controls",
            "_model_module_version": "1.5.0",
            "_model_name": "FloatProgressModel",
            "_view_count": null,
            "_view_module": "@jupyter-widgets/controls",
            "_view_module_version": "1.5.0",
            "_view_name": "ProgressView",
            "bar_style": "success",
            "description": "",
            "description_tooltip": null,
            "layout": "IPY_MODEL_c26bb1f024284e4f970d09372d9dd91b",
            "max": 231508,
            "min": 0,
            "orientation": "horizontal",
            "style": "IPY_MODEL_5e30a0ed903d49aa97fe8f6e94fecec4",
            "value": 231508
          }
        },
        "817b1bd54e2148f282e276b31ef54b82": {
          "model_module": "@jupyter-widgets/base",
          "model_module_version": "1.2.0",
          "model_name": "LayoutModel",
          "state": {
            "_model_module": "@jupyter-widgets/base",
            "_model_module_version": "1.2.0",
            "_model_name": "LayoutModel",
            "_view_count": null,
            "_view_module": "@jupyter-widgets/base",
            "_view_module_version": "1.2.0",
            "_view_name": "LayoutView",
            "align_content": null,
            "align_items": null,
            "align_self": null,
            "border": null,
            "bottom": null,
            "display": null,
            "flex": null,
            "flex_flow": null,
            "grid_area": null,
            "grid_auto_columns": null,
            "grid_auto_flow": null,
            "grid_auto_rows": null,
            "grid_column": null,
            "grid_gap": null,
            "grid_row": null,
            "grid_template_areas": null,
            "grid_template_columns": null,
            "grid_template_rows": null,
            "height": null,
            "justify_content": null,
            "justify_items": null,
            "left": null,
            "margin": null,
            "max_height": null,
            "max_width": null,
            "min_height": null,
            "min_width": null,
            "object_fit": null,
            "object_position": null,
            "order": null,
            "overflow": null,
            "overflow_x": null,
            "overflow_y": null,
            "padding": null,
            "right": null,
            "top": null,
            "visibility": null,
            "width": null
          }
        },
        "92a585e9405642b6a3af9f31484a254c": {
          "model_module": "@jupyter-widgets/base",
          "model_module_version": "1.2.0",
          "model_name": "LayoutModel",
          "state": {
            "_model_module": "@jupyter-widgets/base",
            "_model_module_version": "1.2.0",
            "_model_name": "LayoutModel",
            "_view_count": null,
            "_view_module": "@jupyter-widgets/base",
            "_view_module_version": "1.2.0",
            "_view_name": "LayoutView",
            "align_content": null,
            "align_items": null,
            "align_self": null,
            "border": null,
            "bottom": null,
            "display": null,
            "flex": null,
            "flex_flow": null,
            "grid_area": null,
            "grid_auto_columns": null,
            "grid_auto_flow": null,
            "grid_auto_rows": null,
            "grid_column": null,
            "grid_gap": null,
            "grid_row": null,
            "grid_template_areas": null,
            "grid_template_columns": null,
            "grid_template_rows": null,
            "height": null,
            "justify_content": null,
            "justify_items": null,
            "left": null,
            "margin": null,
            "max_height": null,
            "max_width": null,
            "min_height": null,
            "min_width": null,
            "object_fit": null,
            "object_position": null,
            "order": null,
            "overflow": null,
            "overflow_x": null,
            "overflow_y": null,
            "padding": null,
            "right": null,
            "top": null,
            "visibility": null,
            "width": null
          }
        },
        "95a5caec8ff447ceb04e2a0c263dc82a": {
          "model_module": "@jupyter-widgets/controls",
          "model_module_version": "1.5.0",
          "model_name": "ProgressStyleModel",
          "state": {
            "_model_module": "@jupyter-widgets/controls",
            "_model_module_version": "1.5.0",
            "_model_name": "ProgressStyleModel",
            "_view_count": null,
            "_view_module": "@jupyter-widgets/base",
            "_view_module_version": "1.2.0",
            "_view_name": "StyleView",
            "bar_color": null,
            "description_width": ""
          }
        },
        "a02868097b8749589572345c26042b59": {
          "model_module": "@jupyter-widgets/controls",
          "model_module_version": "1.5.0",
          "model_name": "DescriptionStyleModel",
          "state": {
            "_model_module": "@jupyter-widgets/controls",
            "_model_module_version": "1.5.0",
            "_model_name": "DescriptionStyleModel",
            "_view_count": null,
            "_view_module": "@jupyter-widgets/base",
            "_view_module_version": "1.2.0",
            "_view_name": "StyleView",
            "description_width": ""
          }
        },
        "b37bff729ba24bd4ac462fa4b5e6d803": {
          "model_module": "@jupyter-widgets/base",
          "model_module_version": "1.2.0",
          "model_name": "LayoutModel",
          "state": {
            "_model_module": "@jupyter-widgets/base",
            "_model_module_version": "1.2.0",
            "_model_name": "LayoutModel",
            "_view_count": null,
            "_view_module": "@jupyter-widgets/base",
            "_view_module_version": "1.2.0",
            "_view_name": "LayoutView",
            "align_content": null,
            "align_items": null,
            "align_self": null,
            "border": null,
            "bottom": null,
            "display": null,
            "flex": null,
            "flex_flow": null,
            "grid_area": null,
            "grid_auto_columns": null,
            "grid_auto_flow": null,
            "grid_auto_rows": null,
            "grid_column": null,
            "grid_gap": null,
            "grid_row": null,
            "grid_template_areas": null,
            "grid_template_columns": null,
            "grid_template_rows": null,
            "height": null,
            "justify_content": null,
            "justify_items": null,
            "left": null,
            "margin": null,
            "max_height": null,
            "max_width": null,
            "min_height": null,
            "min_width": null,
            "object_fit": null,
            "object_position": null,
            "order": null,
            "overflow": null,
            "overflow_x": null,
            "overflow_y": null,
            "padding": null,
            "right": null,
            "top": null,
            "visibility": null,
            "width": null
          }
        },
        "b4c079f032e74f939cce0ae8fac41818": {
          "model_module": "@jupyter-widgets/base",
          "model_module_version": "1.2.0",
          "model_name": "LayoutModel",
          "state": {
            "_model_module": "@jupyter-widgets/base",
            "_model_module_version": "1.2.0",
            "_model_name": "LayoutModel",
            "_view_count": null,
            "_view_module": "@jupyter-widgets/base",
            "_view_module_version": "1.2.0",
            "_view_name": "LayoutView",
            "align_content": null,
            "align_items": null,
            "align_self": null,
            "border": null,
            "bottom": null,
            "display": null,
            "flex": null,
            "flex_flow": null,
            "grid_area": null,
            "grid_auto_columns": null,
            "grid_auto_flow": null,
            "grid_auto_rows": null,
            "grid_column": null,
            "grid_gap": null,
            "grid_row": null,
            "grid_template_areas": null,
            "grid_template_columns": null,
            "grid_template_rows": null,
            "height": null,
            "justify_content": null,
            "justify_items": null,
            "left": null,
            "margin": null,
            "max_height": null,
            "max_width": null,
            "min_height": null,
            "min_width": null,
            "object_fit": null,
            "object_position": null,
            "order": null,
            "overflow": null,
            "overflow_x": null,
            "overflow_y": null,
            "padding": null,
            "right": null,
            "top": null,
            "visibility": null,
            "width": null
          }
        },
        "bb5e548a95c34fb69f737b40ff6204f8": {
          "model_module": "@jupyter-widgets/controls",
          "model_module_version": "1.5.0",
          "model_name": "HTMLModel",
          "state": {
            "_dom_classes": [],
            "_model_module": "@jupyter-widgets/controls",
            "_model_module_version": "1.5.0",
            "_model_name": "HTMLModel",
            "_view_count": null,
            "_view_module": "@jupyter-widgets/controls",
            "_view_module_version": "1.5.0",
            "_view_name": "HTMLView",
            "description": "",
            "description_tooltip": null,
            "layout": "IPY_MODEL_07256f1c1d404b43bbdfcc9cda8866fa",
            "placeholder": "​",
            "style": "IPY_MODEL_2f1ad09495b84751889ac03cf6a4fbce",
            "value": "config.json: 100%"
          }
        },
        "c26bb1f024284e4f970d09372d9dd91b": {
          "model_module": "@jupyter-widgets/base",
          "model_module_version": "1.2.0",
          "model_name": "LayoutModel",
          "state": {
            "_model_module": "@jupyter-widgets/base",
            "_model_module_version": "1.2.0",
            "_model_name": "LayoutModel",
            "_view_count": null,
            "_view_module": "@jupyter-widgets/base",
            "_view_module_version": "1.2.0",
            "_view_name": "LayoutView",
            "align_content": null,
            "align_items": null,
            "align_self": null,
            "border": null,
            "bottom": null,
            "display": null,
            "flex": null,
            "flex_flow": null,
            "grid_area": null,
            "grid_auto_columns": null,
            "grid_auto_flow": null,
            "grid_auto_rows": null,
            "grid_column": null,
            "grid_gap": null,
            "grid_row": null,
            "grid_template_areas": null,
            "grid_template_columns": null,
            "grid_template_rows": null,
            "height": null,
            "justify_content": null,
            "justify_items": null,
            "left": null,
            "margin": null,
            "max_height": null,
            "max_width": null,
            "min_height": null,
            "min_width": null,
            "object_fit": null,
            "object_position": null,
            "order": null,
            "overflow": null,
            "overflow_x": null,
            "overflow_y": null,
            "padding": null,
            "right": null,
            "top": null,
            "visibility": null,
            "width": null
          }
        },
        "c6bb99df238d4d4d970bf87fb666428c": {
          "model_module": "@jupyter-widgets/controls",
          "model_module_version": "1.5.0",
          "model_name": "ProgressStyleModel",
          "state": {
            "_model_module": "@jupyter-widgets/controls",
            "_model_module_version": "1.5.0",
            "_model_name": "ProgressStyleModel",
            "_view_count": null,
            "_view_module": "@jupyter-widgets/base",
            "_view_module_version": "1.2.0",
            "_view_name": "StyleView",
            "bar_color": null,
            "description_width": ""
          }
        },
        "cadf5b444ad448a4b61c82868f710783": {
          "model_module": "@jupyter-widgets/base",
          "model_module_version": "1.2.0",
          "model_name": "LayoutModel",
          "state": {
            "_model_module": "@jupyter-widgets/base",
            "_model_module_version": "1.2.0",
            "_model_name": "LayoutModel",
            "_view_count": null,
            "_view_module": "@jupyter-widgets/base",
            "_view_module_version": "1.2.0",
            "_view_name": "LayoutView",
            "align_content": null,
            "align_items": null,
            "align_self": null,
            "border": null,
            "bottom": null,
            "display": null,
            "flex": null,
            "flex_flow": null,
            "grid_area": null,
            "grid_auto_columns": null,
            "grid_auto_flow": null,
            "grid_auto_rows": null,
            "grid_column": null,
            "grid_gap": null,
            "grid_row": null,
            "grid_template_areas": null,
            "grid_template_columns": null,
            "grid_template_rows": null,
            "height": null,
            "justify_content": null,
            "justify_items": null,
            "left": null,
            "margin": null,
            "max_height": null,
            "max_width": null,
            "min_height": null,
            "min_width": null,
            "object_fit": null,
            "object_position": null,
            "order": null,
            "overflow": null,
            "overflow_x": null,
            "overflow_y": null,
            "padding": null,
            "right": null,
            "top": null,
            "visibility": null,
            "width": null
          }
        },
        "d5a250d7e19041108e32f918ce55ae23": {
          "model_module": "@jupyter-widgets/controls",
          "model_module_version": "1.5.0",
          "model_name": "FloatProgressModel",
          "state": {
            "_dom_classes": [],
            "_model_module": "@jupyter-widgets/controls",
            "_model_module_version": "1.5.0",
            "_model_name": "FloatProgressModel",
            "_view_count": null,
            "_view_module": "@jupyter-widgets/controls",
            "_view_module_version": "1.5.0",
            "_view_name": "ProgressView",
            "bar_style": "success",
            "description": "",
            "description_tooltip": null,
            "layout": "IPY_MODEL_92a585e9405642b6a3af9f31484a254c",
            "max": 1345067985,
            "min": 0,
            "orientation": "horizontal",
            "style": "IPY_MODEL_c6bb99df238d4d4d970bf87fb666428c",
            "value": 1345067985
          }
        },
        "da75a6cf21504e00a0736a6140ce684e": {
          "model_module": "@jupyter-widgets/controls",
          "model_module_version": "1.5.0",
          "model_name": "HBoxModel",
          "state": {
            "_dom_classes": [],
            "_model_module": "@jupyter-widgets/controls",
            "_model_module_version": "1.5.0",
            "_model_name": "HBoxModel",
            "_view_count": null,
            "_view_module": "@jupyter-widgets/controls",
            "_view_module_version": "1.5.0",
            "_view_name": "HBoxView",
            "box_style": "",
            "children": [
              "IPY_MODEL_fa23d49afae54eca998049ae4eb8f9cd",
              "IPY_MODEL_7ee876d8b5034873bf7a657875e8d3a9",
              "IPY_MODEL_525dc98ec6334eabbe6bcd604c5902be"
            ],
            "layout": "IPY_MODEL_cadf5b444ad448a4b61c82868f710783"
          }
        },
        "daeb953508504c90a726cdde25dadff5": {
          "model_module": "@jupyter-widgets/controls",
          "model_module_version": "1.5.0",
          "model_name": "HTMLModel",
          "state": {
            "_dom_classes": [],
            "_model_module": "@jupyter-widgets/controls",
            "_model_module_version": "1.5.0",
            "_model_name": "HTMLModel",
            "_view_count": null,
            "_view_module": "@jupyter-widgets/controls",
            "_view_module_version": "1.5.0",
            "_view_name": "HTMLView",
            "description": "",
            "description_tooltip": null,
            "layout": "IPY_MODEL_440455a202c245d5bb06803679f79289",
            "placeholder": "​",
            "style": "IPY_MODEL_7c502171010f445da97881599d6142dd",
            "value": " 314/314 [00:00&lt;00:00, 10.0kB/s]"
          }
        },
        "fa23d49afae54eca998049ae4eb8f9cd": {
          "model_module": "@jupyter-widgets/controls",
          "model_module_version": "1.5.0",
          "model_name": "HTMLModel",
          "state": {
            "_dom_classes": [],
            "_model_module": "@jupyter-widgets/controls",
            "_model_module_version": "1.5.0",
            "_model_name": "HTMLModel",
            "_view_count": null,
            "_view_module": "@jupyter-widgets/controls",
            "_view_module_version": "1.5.0",
            "_view_name": "HTMLView",
            "description": "",
            "description_tooltip": null,
            "layout": "IPY_MODEL_fbf74b4f43fc49a698e509834fac3057",
            "placeholder": "​",
            "style": "IPY_MODEL_4a50fb50d4ec4cada2d6c1f938fbcb25",
            "value": "vocab.txt: 100%"
          }
        },
        "fbf74b4f43fc49a698e509834fac3057": {
          "model_module": "@jupyter-widgets/base",
          "model_module_version": "1.2.0",
          "model_name": "LayoutModel",
          "state": {
            "_model_module": "@jupyter-widgets/base",
            "_model_module_version": "1.2.0",
            "_model_name": "LayoutModel",
            "_view_count": null,
            "_view_module": "@jupyter-widgets/base",
            "_view_module_version": "1.2.0",
            "_view_name": "LayoutView",
            "align_content": null,
            "align_items": null,
            "align_self": null,
            "border": null,
            "bottom": null,
            "display": null,
            "flex": null,
            "flex_flow": null,
            "grid_area": null,
            "grid_auto_columns": null,
            "grid_auto_flow": null,
            "grid_auto_rows": null,
            "grid_column": null,
            "grid_gap": null,
            "grid_row": null,
            "grid_template_areas": null,
            "grid_template_columns": null,
            "grid_template_rows": null,
            "height": null,
            "justify_content": null,
            "justify_items": null,
            "left": null,
            "margin": null,
            "max_height": null,
            "max_width": null,
            "min_height": null,
            "min_width": null,
            "object_fit": null,
            "object_position": null,
            "order": null,
            "overflow": null,
            "overflow_x": null,
            "overflow_y": null,
            "padding": null,
            "right": null,
            "top": null,
            "visibility": null,
            "width": null
          }
        },
        "fdd6714506d84370ad862faa85f6ac8f": {
          "model_module": "@jupyter-widgets/controls",
          "model_module_version": "1.5.0",
          "model_name": "DescriptionStyleModel",
          "state": {
            "_model_module": "@jupyter-widgets/controls",
            "_model_module_version": "1.5.0",
            "_model_name": "DescriptionStyleModel",
            "_view_count": null,
            "_view_module": "@jupyter-widgets/base",
            "_view_module_version": "1.2.0",
            "_view_name": "StyleView",
            "description_width": ""
          }
        }
      }
    }
  },
  "nbformat": 4,
  "nbformat_minor": 0
}
