{
  "cells": [
    {
      "cell_type": "code",
      "execution_count": null,
      "metadata": {
        "colab": {
          "base_uri": "https://localhost:8080/"
        },
        "id": "iRuetRKhDN59",
        "outputId": "b751eca2-6bf1-4c84-a1b4-fdf8ed5f0394"
      },
      "outputs": [],
      "source": [
        "gpu_info = !nvidia-smi\n",
        "gpu_info = '\\n'.join(gpu_info)\n",
        "if gpu_info.find('failed') >= 0:\n",
        "  print('Not connected to a GPU')\n",
        "else:\n",
        "  print(gpu_info)"
      ]
    },
    {
      "cell_type": "code",
      "execution_count": null,
      "metadata": {
        "colab": {
          "base_uri": "https://localhost:8080/"
        },
        "id": "7BMB0YxADN5-",
        "outputId": "105432df-51ae-442c-ec33-225958dbfe06"
      },
      "outputs": [],
      "source": [
        "from psutil import virtual_memory\n",
        "ram_gb = virtual_memory().total / 1e9\n",
        "print('Your runtime has {:.1f} gigabytes of available RAM\\n'.format(ram_gb))\n",
        "\n",
        "if ram_gb < 20:\n",
        "  print('Not using a high-RAM runtime')\n",
        "else:\n",
        "  print('You are using a high-RAM runtime!')"
      ]
    },
    {
      "cell_type": "code",
      "execution_count": null,
      "metadata": {
        "colab": {
          "base_uri": "https://localhost:8080/"
        },
        "id": "e2qEb3ivDN5-",
        "outputId": "7387130b-ab96-47e9-ba6f-6a66ab518c8f"
      },
      "outputs": [],
      "source": [
        "from google.colab import drive\n",
        "drive.mount('/content/drive')"
      ]
    },
    {
      "cell_type": "code",
      "execution_count": null,
      "metadata": {
        "colab": {
          "base_uri": "https://localhost:8080/"
        },
        "id": "ZRaneJBnDN5_",
        "outputId": "5bcce10c-7aca-4a3e-ff35-878fbe9bcdbf"
      },
      "outputs": [],
      "source": [
        "!pip install transformers"
      ]
    },
    {
      "cell_type": "code",
      "execution_count": null,
      "metadata": {
        "id": "jEVF9FbODN5_"
      },
      "outputs": [],
      "source": [
        "import os\n",
        "import numpy as np\n",
        "import pandas as pd\n",
        "from sklearn.model_selection import train_test_split\n",
        "from sklearn.metrics import confusion_matrix, classification_report, f1_score, precision_score, recall_score\n",
        "from transformers import AutoTokenizer, AutoModelForSequenceClassification, AdamW, get_linear_schedule_with_warmup\n",
        "import torch\n",
        "from torch.utils.data import DataLoader, TensorDataset, RandomSampler, SequentialSampler\n",
        "import torch.nn.functional as F\n",
        "from tqdm import trange, tqdm\n",
        "import matplotlib.pyplot as plt\n",
        "import sklearn.utils\n",
        "import time\n",
        "import re\n",
        "from google.colab import runtime"
      ]
    },
    {
      "cell_type": "code",
      "execution_count": null,
      "metadata": {
        "colab": {
          "base_uri": "https://localhost:8080/"
        },
        "id": "d84lKOxcDN5_",
        "outputId": "d14cca55-b0c3-4bbe-91c9-56c8db9b0642"
      },
      "outputs": [],
      "source": [
        "# Retrive the data from stored dataset\n",
        "dataDir = \"/content/drive/MyDrive/WoS/data/46985\"\n",
        "tsvData = os.path.join(dataDir,\"WoSDataset_46985.tsv\")\n",
        "\n",
        "tsvData = np.loadtxt(tsvData, dtype=str, delimiter=\"\\t\")\n",
        "print(np.shape(tsvData))"
      ]
    },
    {
      "cell_type": "code",
      "execution_count": null,
      "metadata": {
        "colab": {
          "base_uri": "https://localhost:8080/"
        },
        "id": "FIYp3nhcDN5_",
        "outputId": "20792743-cc43-401a-f6d4-69253168f227"
      },
      "outputs": [],
      "source": [
        "print(tsvData[0:10])"
      ]
    },
    {
      "cell_type": "code",
      "execution_count": null,
      "metadata": {
        "id": "WUvZlOibDN5_"
      },
      "outputs": [],
      "source": [
        "allLabels = tsvData[:,0]\n",
        "domains = tsvData[:,1]\n",
        "keywords = tsvData[:,2]\n",
        "abstracts = tsvData[:,3]"
      ]
    },
    {
      "cell_type": "code",
      "execution_count": null,
      "metadata": {
        "colab": {
          "base_uri": "https://localhost:8080/"
        },
        "id": "SE5jkqySDN6A",
        "outputId": "29742787-c65f-4c0e-b976-207dd10e1095"
      },
      "outputs": [],
      "source": [
        "labels = np.unique(domains, return_counts=True)[0]\n",
        "labelCounts=  np.unique(domains, return_counts=True)[1]\n",
        "\n",
        "print(\"Labels \", labels)\n",
        "print(\"Label counts \", labelCounts)"
      ]
    },
    {
      "cell_type": "code",
      "execution_count": null,
      "metadata": {
        "colab": {
          "base_uri": "https://localhost:8080/",
          "height": 653
        },
        "id": "4wUHmcLtDN6A",
        "outputId": "0eb29c88-a82d-476e-f4f6-a2b45e470393"
      },
      "outputs": [],
      "source": [
        "# Visualize domain counts in dataset\n",
        "plt.figure(figsize=(10, 6))\n",
        "plt.title(\"Domain Counts (Dataset)\")\n",
        "plt.pie(labelCounts, labels=labels, autopct='%1.1f%%', startangle=140, colors=plt.cm.Paired(range(len(labels))))\n",
        "plt.axis('equal')\n",
        "plt.show()\n",
        "\n",
        "for i, domain in enumerate(labels):\n",
        "    print(\"The domain\", domain, \"has\", labelCounts[i], \"records in the dataset.\")"
      ]
    },
    {
      "cell_type": "code",
      "execution_count": null,
      "metadata": {
        "colab": {
          "base_uri": "https://localhost:8080/"
        },
        "id": "iy4b69DrDN6A",
        "outputId": "adbe921a-0e54-4c1c-dc53-6b59732c210b"
      },
      "outputs": [],
      "source": [
        "# Shuffle data\n",
        "dataShuffled = sklearn.utils.shuffle(tsvData)\n",
        "\n",
        "abstractsShuffled = dataShuffled[:,3]\n",
        "keywordsShuffled = dataShuffled[:,2]\n",
        "domainsShuffled = dataShuffled[:,1]\n",
        "allLabelsShuffled = dataShuffled[:,0]\n",
        "\n",
        "print(\"Number of abstracts: \", len(abstractsShuffled))\n",
        "print(\"Shape of abstracts: \", np.shape(abstractsShuffled))\n",
        "print(abstractsShuffled[0:2])\n",
        "\n",
        "print(\"Number of keywords: \", len(keywordsShuffled))\n",
        "print(\"Shape of keywords: \", np.shape(keywordsShuffled))\n",
        "print(abstractsShuffled[0:2])\n",
        "\n",
        "print(\"Number of domains: \", len(domainsShuffled))\n",
        "print(\"Shape of domains: \", np.shape(domainsShuffled))\n",
        "print(domainsShuffled[0:2])\n",
        "\n",
        "print(\"Number of labels: \", len(allLabelsShuffled))\n",
        "print(\"Shape of labels: \", np.shape(allLabelsShuffled))\n",
        "print(allLabelsShuffled[0:2])\n",
        "\n",
        "\n",
        "# Convert labels to integer\n",
        "allLabelsDigitShuffled = allLabelsShuffled.astype(int)\n",
        "\n",
        "print(abstractsShuffled[0:10])\n",
        "print(keywordsShuffled[0:10])\n",
        "print(domainsShuffled[0:10])\n",
        "print(allLabelsShuffled[0:10])\n",
        "print(allLabelsDigitShuffled[0:10])"
      ]
    },
    {
      "cell_type": "code",
      "execution_count": null,
      "metadata": {
        "colab": {
          "base_uri": "https://localhost:8080/",
          "height": 301,
          "referenced_widgets": [
            "37d6441e88dd4397bb225719d0afb900",
            "6ba047d4c6964f369fcd45841203a6d4",
            "77d0852f17e04d3d866ecc2404db7f62",
            "42951753291043f289e7ab8474831738",
            "9a72a14c0f6548dcb995b6033903684e",
            "5146521a7c2e40b4bd835b8e55e1413c",
            "f652ad670fe6408d90c232b3d9ed36c3",
            "e8696c15ad3b4da8aabacca0555d766a",
            "1b8efd5319e447ee9c157b477494df28",
            "75734eeeee7446639f136c6dd785a9f6",
            "3cc60f6607e444fbb6edac94f809ffbf",
            "cb9d52e261a742bfb636e0f0f93828d9",
            "94d42c68c25a4c7fafb09f718b2dce57",
            "e45934cd0729434a9d5fb2b319eb3e02",
            "1ba852dfa20247368d36a6652bd9955f",
            "d35c9fd6a01f4402a19670ea89f4ab6e",
            "fdb10e97387d4b8097e6f4cdb0c4337c",
            "b55d382a67584cf0aad40fdb71b5a111",
            "4276ae2b0b0b4212b8d4b0c4dcbfda09",
            "87a8a450134a4aa49dd80ccce9be7ef7",
            "045a3443052f4f5585ce5117bc5d7ed2",
            "97914cdce3c241509e6422c489593d79"
          ]
        },
        "id": "oE8v68D2DN6A",
        "outputId": "36f6f0ee-305c-40a6-d629-c4f2f0673cd1"
      },
      "outputs": [],
      "source": [
        "# Split dataset into training and testing (80/20 split)\n",
        "train_data, test_data = train_test_split(dataShuffled, test_size=0.2, random_state=42)\n",
        "print(np.shape(train_data))\n",
        "print(np.shape(test_data))\n",
        "\n",
        "# Further split training data into training and validation (80/20 split of training set)\n",
        "_, val_data = train_test_split(test_data, test_size=0.2, random_state=42)\n",
        "print(np.shape(train_data))\n",
        "print(np.shape(test_data))\n",
        "print(np.shape(val_data))\n",
        "# Load BioBERT tokenizer\n",
        "tokenizer = AutoTokenizer.from_pretrained(\"dmis-lab/biobert-base-cased-v1.2\")"
      ]
    },
    {
      "cell_type": "code",
      "execution_count": null,
      "metadata": {
        "colab": {
          "base_uri": "https://localhost:8080/"
        },
        "id": "ONFXZGUUDN6A",
        "outputId": "d0de2b5e-13ae-4109-c9fd-64541f1189d3"
      },
      "outputs": [],
      "source": [
        "abstractsTrain = train_data[:,3]\n",
        "keywordsTrain = train_data[:,2]\n",
        "domainsTrain = train_data[:,1]\n",
        "allLabelsTrain = train_data[:,0]\n",
        "\n",
        "print(\"Number of abstracts: \",len(abstractsTrain))\n",
        "print(\"Shape of abstracts: \",np.shape(abstractsTrain))\n",
        "print(\"Number of keywords: \",len(keywordsTrain))\n",
        "print(\"Shape of keywords: \",np.shape(keywordsTrain))\n",
        "print(\"Number of domains: \",len(domainsTrain))\n",
        "print(\"Shape of domains: \",np.shape(domainsTrain))\n",
        "print(\"Number of labels: \",len(allLabelsTrain))\n",
        "print(\"Shape of labels: \",np.shape(allLabelsTrain))\n",
        "\n",
        "print(abstractsTrain[0:2])\n",
        "print(keywordsTrain[0:2])\n",
        "print(domainsTrain[0:2])\n",
        "print(allLabelsTrain[0:2])"
      ]
    },
    {
      "cell_type": "code",
      "execution_count": null,
      "metadata": {
        "colab": {
          "base_uri": "https://localhost:8080/",
          "height": 689
        },
        "id": "RBJjrIkeDN6A",
        "outputId": "7cb2123b-9c00-4133-9fc9-61970a2ea6d4"
      },
      "outputs": [],
      "source": [
        "labels = np.unique(domainsTrain, return_counts=True)[0]\n",
        "labelCounts =  np.unique(domainsTrain, return_counts=True)[1]\n",
        "\n",
        "print(\"Labels \", labels)\n",
        "print(\"Label counts \", labelCounts)\n",
        "\n",
        "nAbstract = len(abstractsTrain)\n",
        "plt.figure(figsize=(10, 6))\n",
        "plt.title(\"Domain Counts (Training Set)\")\n",
        "plt.pie(labelCounts, labels=labels, autopct='%1.1f%%', startangle=140, colors=plt.cm.Paired(range(len(labels))))\n",
        "plt.axis('equal')  # Equal aspect ratio ensures that pie is drawn as a circle.\n",
        "plt.show()\n",
        "\n",
        "for i, domain in enumerate(labels):\n",
        "    print(\"The domain\", domain, \"has\", labelCounts[i], \"records in the training set.\")"
      ]
    },
    {
      "cell_type": "code",
      "execution_count": null,
      "metadata": {
        "colab": {
          "base_uri": "https://localhost:8080/"
        },
        "id": "o4urSnRFDN6B",
        "outputId": "fc0f61d3-0b66-444e-a42b-8c617c187164"
      },
      "outputs": [],
      "source": [
        "abstractsTest = test_data[:,3]\n",
        "keywordsTest = test_data[:,2]\n",
        "domainsTest = test_data[:,1]\n",
        "allLabelsTest = test_data[:,0]\n",
        "\n",
        "print(\"Number of abstracts: \",len(abstractsTest))\n",
        "print(\"Shape of abstracts: \",np.shape(abstractsTest))\n",
        "print(\"Number of keywords: \",len(keywordsTest))\n",
        "print(\"Shape of keywords: \",np.shape(keywordsTest))\n",
        "print(\"Number of domains: \",len(domainsTest))\n",
        "print(\"Shape of domains: \",np.shape(domainsTest))\n",
        "print(\"Number of labels: \",len(allLabelsTest))\n",
        "print(\"Shape of labels: \",np.shape(allLabelsTest))\n",
        "\n",
        "# arr = np.array(domainsTest)\n",
        "# cleaned_domains = np.char.strip(arr)\n",
        "# print(\"Cleaned arr \", cleaned_domains)\n",
        "# domainsLabelsTest = cleaned_domains\n",
        "# print(\"Labels domains \", domainsLabelsTest)\n",
        "\n",
        "print(abstractsTest[0:2])\n",
        "print(keywordsTest[0:2])\n",
        "print(domainsTest[0:2])\n",
        "print(allLabelsTest[0:2])"
      ]
    },
    {
      "cell_type": "code",
      "execution_count": null,
      "metadata": {
        "colab": {
          "base_uri": "https://localhost:8080/",
          "height": 690
        },
        "id": "wXDx7H28DN6B",
        "outputId": "9880db79-9697-4ddf-d98c-b484211ae688"
      },
      "outputs": [],
      "source": [
        "labels = np.unique(domainsTest, return_counts=True)[0]\n",
        "labelCounts =  np.unique(domainsTest, return_counts=True)[1]\n",
        "\n",
        "print(\"Labels \", labels)\n",
        "print(\"Label counts \", labelCounts)\n",
        "\n",
        "nAbstract = len(abstractsTest)\n",
        "plt.figure(figsize=(10, 6))\n",
        "plt.title(\"Domain Counts (Test Set)\")\n",
        "plt.pie(labelCounts, labels=labels, autopct='%1.1f%%', startangle=140, colors=plt.cm.Paired(range(len(labels))))\n",
        "plt.axis('equal')  # Equal aspect ratio ensures that pie is drawn as a circle.\n",
        "plt.show()\n",
        "\n",
        "for i, domain in enumerate(labels):\n",
        "    print(\"The domain\", domain, \"has\", labelCounts[i], \"records in the test set.\")"
      ]
    },
    {
      "cell_type": "code",
      "execution_count": null,
      "metadata": {
        "colab": {
          "base_uri": "https://localhost:8080/"
        },
        "id": "zkEyui06DN6B",
        "outputId": "2ef9ef68-d5b2-45be-bbd8-8ce561e6d1ac"
      },
      "outputs": [],
      "source": [
        "abstractsVal = val_data[:,3]\n",
        "keywordsVal = val_data[:,2]\n",
        "domainsVal = val_data[:,1]\n",
        "allLabelsVal = val_data[:,0]\n",
        "\n",
        "print(\"Number of abstracts: \",len(abstractsVal))\n",
        "print(\"Shape of abstracts: \",np.shape(abstractsVal))\n",
        "print(\"Number of keywords: \",len(keywordsVal))\n",
        "print(\"Shape of keywords: \",np.shape(keywordsVal))\n",
        "print(\"Number of domains: \",len(domainsVal))\n",
        "print(\"Shape of domains: \",np.shape(domainsVal))\n",
        "print(\"Number of labels: \",len(allLabelsVal))\n",
        "print(\"Shape of labels: \",np.shape(allLabelsVal))\n",
        "\n",
        "print(abstractsVal[0:2])\n",
        "print(keywordsVal[0:2])\n",
        "print(domainsVal[0:2])\n",
        "print(allLabelsVal[0:2])"
      ]
    },
    {
      "cell_type": "code",
      "execution_count": null,
      "metadata": {
        "colab": {
          "base_uri": "https://localhost:8080/",
          "height": 690
        },
        "id": "1ax8-nZaDN6B",
        "outputId": "0a3bf8b6-267e-44da-9f94-d35504224f4d"
      },
      "outputs": [],
      "source": [
        "labels = np.unique(domainsVal, return_counts=True)[0]\n",
        "labelCounts =  np.unique(domainsVal, return_counts=True)[1]\n",
        "\n",
        "print(\"Labels \", labels)\n",
        "print(\"Label counts \", labelCounts)\n",
        "\n",
        "nAbstract = len(abstractsVal)\n",
        "plt.figure(figsize=(10, 6))\n",
        "plt.title(\"Domain Counts (Validation Set)\")\n",
        "plt.pie(labelCounts, labels=labels, autopct='%1.1f%%', startangle=140, colors=plt.cm.Paired(range(len(labels))))\n",
        "plt.axis('equal')  # Equal aspect ratio ensures that pie is drawn as a circle.\n",
        "plt.show()\n",
        "\n",
        "for i, domain in enumerate(labels):\n",
        "    print(\"The domain\", domain, \"has\", labelCounts[i], \"records in the vaidation set.\")"
      ]
    },
    {
      "cell_type": "code",
      "execution_count": null,
      "metadata": {
        "id": "sxbOFbMrDN6C"
      },
      "outputs": [],
      "source": [
        "# Function to tokenize and encode the dataset\n",
        "def encode_data(data, tokenizer, max_length=128):\n",
        "    # print(len(data[:,2]))\n",
        "    inputs = tokenizer(\n",
        "        data[:,2].tolist(), # Keywords 2\n",
        "        max_length=max_length,\n",
        "        padding='max_length',\n",
        "        truncation=True,\n",
        "        return_tensors=\"pt\"\n",
        "    )\n",
        "    # print(len(dataShuffled[:, 0]))\n",
        "    labels = torch.tensor(data[:, 0].astype(int))\n",
        "    print(\"Label length \", len(labels))\n",
        "    return TensorDataset(inputs['input_ids'], inputs['attention_mask'], labels)"
      ]
    },
    {
      "cell_type": "code",
      "execution_count": null,
      "metadata": {
        "colab": {
          "base_uri": "https://localhost:8080/"
        },
        "id": "Y8_HDuDUDN6C",
        "outputId": "3254cd7d-9491-4f43-c454-f81383d9454b"
      },
      "outputs": [],
      "source": [
        "print(np.shape(train_data))\n",
        "print(np.shape(test_data))\n",
        "print(np.shape(val_data))\n"
      ]
    },
    {
      "cell_type": "code",
      "execution_count": null,
      "metadata": {
        "colab": {
          "base_uri": "https://localhost:8080/"
        },
        "id": "c6avATPgDN6C",
        "outputId": "219b7ed0-f692-490c-aa09-115619ac8259"
      },
      "outputs": [],
      "source": [
        "# Encode training, validation, and testing data\n",
        "train_dataset = encode_data(train_data, tokenizer)\n",
        "val_dataset = encode_data(val_data, tokenizer)\n",
        "test_dataset = encode_data(test_data, tokenizer)\n",
        "\n",
        "\n",
        "\n",
        "# Data loaders\n",
        "train_dataloader = DataLoader(train_dataset, sampler=RandomSampler(train_dataset), batch_size=32)\n",
        "val_dataloader = DataLoader(val_dataset, sampler=SequentialSampler(val_dataset), batch_size=32)\n",
        "test_dataloader = DataLoader(test_dataset, sampler=SequentialSampler(test_dataset), batch_size=32)"
      ]
    },
    {
      "cell_type": "code",
      "execution_count": null,
      "metadata": {
        "colab": {
          "base_uri": "https://localhost:8080/",
          "height": 940,
          "referenced_widgets": [
            "82939930f5a74a69b2ff93b2a9e4c611",
            "957a3467a4dc49f18f9c8bd45fe8dfd0",
            "4dffd6adf0fb41a2838b1622eea1e059",
            "acecfde4ffa14ff2ab398ca8f63b1851",
            "b9ff959839d94c4d9df8d9e4d804df40",
            "212624df10d1429792b8132cfbed7e67",
            "bf39e8b90d014571b1c2cac7438c3502",
            "9243a576d3354835aa76ee106dfdc5dd",
            "4cb6c23ed0ff4534825e252d2cd705bb",
            "9fa4fc242bd34e76b50d2b062bef801b",
            "231f308ce17d449dbffc8e44e17400d7"
          ]
        },
        "id": "ybVLIN-JDN6C",
        "outputId": "4753c8a4-096e-4220-fa4e-7b160aa02077"
      },
      "outputs": [],
      "source": [
        "# Load BioBERT model\n",
        "print(len(np.unique(train_data[:,0])))\n",
        "model = AutoModelForSequenceClassification.from_pretrained(\"dmis-lab/biobert-base-cased-v1.2\", num_labels=len(np.unique(train_data[:,0])))\n",
        "device = torch.device(\"cuda\" if torch.cuda.is_available() else \"cpu\")\n",
        "model.to(device)"
      ]
    },
    {
      "cell_type": "code",
      "execution_count": null,
      "metadata": {
        "colab": {
          "base_uri": "https://localhost:8080/"
        },
        "id": "ps1DInjXDN6C",
        "outputId": "2e3295e2-26ec-4450-bc2c-bb33724a0fcd"
      },
      "outputs": [],
      "source": [
        "model.config"
      ]
    },
    {
      "cell_type": "code",
      "execution_count": null,
      "metadata": {
        "colab": {
          "base_uri": "https://localhost:8080/"
        },
        "id": "qmjlyLnkDN6C",
        "outputId": "1f0976e9-7eaf-4b03-8834-153ecdb01cf2"
      },
      "outputs": [],
      "source": [
        "# Optimizer and learning rate scheduler\n",
        "optimizer = AdamW(model.parameters(), lr=2e-5, eps=1e-8)\n",
        "total_steps = len(train_dataloader) * 20\n",
        "num_warmup_steps = 1e-4\n",
        "scheduler = get_linear_schedule_with_warmup(optimizer, num_warmup_steps=num_warmup_steps, num_training_steps=total_steps)"
      ]
    },
    {
      "cell_type": "code",
      "execution_count": null,
      "metadata": {
        "id": "xj4AnpxJDN6C"
      },
      "outputs": [],
      "source": [
        "def calculate_metrics(valType, predictions, true_labels):\n",
        "    # Confusion matrix\n",
        "    if(valType == 'test'):\n",
        "        cm = confusion_matrix(true_labels, predictions)\n",
        "        print(\"Confusion Matrix:\\n\", cm)\n",
        "\n",
        "        # Classification report (includes precision, recall, F1 score)\n",
        "        report = classification_report(true_labels, predictions, target_names=[str(i) for i in range(len(np.unique(true_labels)))])\n",
        "        print(\"\\nClassification Report:\\n\", report)\n",
        "\n",
        "        # Calculate different types of F1 scores, precision, and recall\n",
        "        f1_macro = f1_score(true_labels, predictions, average='macro')\n",
        "        f1_micro = f1_score(true_labels, predictions, average='micro')\n",
        "        f1_weighted = f1_score(true_labels, predictions, average='weighted')\n",
        "\n",
        "        precision_macro = precision_score(true_labels, predictions, average='macro')\n",
        "        precision_micro = precision_score(true_labels, predictions, average='micro')\n",
        "        precision_weighted = precision_score(true_labels, predictions, average='weighted')\n",
        "\n",
        "        recall_macro = recall_score(true_labels, predictions, average='macro')\n",
        "        recall_micro = recall_score(true_labels, predictions, average='micro')\n",
        "        recall_weighted = recall_score(true_labels, predictions, average='weighted')\n",
        "\n",
        "        print(f\"Macro F1 Score: {f1_macro}\")\n",
        "        print(f\"Micro F1 Score: {f1_micro}\")\n",
        "        print(f\"Weighted F1 Score: {f1_weighted}\")\n",
        "\n",
        "        print(f\"Macro Precision: {precision_macro}\")\n",
        "        print(f\"Micro Precision: {precision_micro}\")\n",
        "        print(f\"Weighted Precision: {precision_weighted}\")\n",
        "\n",
        "        print(f\"Macro Recall: {recall_macro}\")\n",
        "        print(f\"Micro Recall: {recall_micro}\")\n",
        "        print(f\"Weighted Recall: {recall_weighted}\")\n",
        "\n",
        "    elif(valType == 'val'):\n",
        "        cm = confusion_matrix(true_labels, predictions)\n",
        "        f1_macro = f1_score(true_labels, predictions, average='macro')\n",
        "        f1_micro = f1_score(true_labels, predictions, average='micro')\n",
        "        f1_weighted = f1_score(true_labels, predictions, average='weighted')\n",
        "\n",
        "        precision_macro = precision_score(true_labels, predictions, average='macro')\n",
        "        precision_micro = precision_score(true_labels, predictions, average='micro')\n",
        "        precision_weighted = precision_score(true_labels, predictions, average='weighted')\n",
        "\n",
        "        recall_macro = recall_score(true_labels, predictions, average='macro')\n",
        "        recall_micro = recall_score(true_labels, predictions, average='micro')\n",
        "        recall_weighted = recall_score(true_labels, predictions, average='weighted')\n",
        "        # print('Val Micro F1:', f1_micro)\n",
        "        return f1_micro"
      ]
    },
    {
      "cell_type": "code",
      "execution_count": null,
      "metadata": {
        "colab": {
          "base_uri": "https://localhost:8080/"
        },
        "id": "05xzH0FEDN6C",
        "outputId": "f01e6cc8-9dc0-40c2-f72c-a1abea1f052a"
      },
      "outputs": [],
      "source": [
        "epochs = 20\n",
        "for epoch in range(epochs):\n",
        "    model.train()\n",
        "    total_train_loss = 0\n",
        "    start_time = time.time()\n",
        "\n",
        "    # Training\n",
        "    for step, batch in enumerate(tqdm(train_dataloader, desc=f\"Epoch {epoch + 1}/{epochs}\", unit=\"batch\")):\n",
        "        batch = tuple(t.to(device) for t in batch)\n",
        "        input_ids, input_mask, labels = batch\n",
        "\n",
        "\n",
        "        model.zero_grad()\n",
        "        outputs = model(input_ids=input_ids, attention_mask=input_mask, labels=labels)\n",
        "        loss = outputs.loss\n",
        "        total_train_loss += loss.item()\n",
        "\n",
        "        loss.backward()\n",
        "        torch.nn.utils.clip_grad_norm_(model.parameters(), max_norm=1.0)\n",
        "        optimizer.step()\n",
        "        scheduler.step()\n",
        "\n",
        "    avg_train_loss = total_train_loss / len(train_dataloader)\n",
        "\n",
        "    # Validation\n",
        "    model.eval()\n",
        "    predictions = []\n",
        "    true_labels = []\n",
        "\n",
        "    for batch in val_dataloader:\n",
        "        batch = tuple(t.to(device) for t in batch)\n",
        "        input_ids, input_mask, labels = batch\n",
        "\n",
        "        with torch.no_grad():\n",
        "            outputs = model(input_ids=input_ids, attention_mask=input_mask)\n",
        "            logits = outputs.logits\n",
        "\n",
        "        logits = logits.detach().cpu().numpy()\n",
        "        label_ids = labels.to('cpu').numpy()\n",
        "\n",
        "        batch_predictions = np.argmax(logits, axis=1)\n",
        "        predictions.extend(batch_predictions)\n",
        "        true_labels.extend(label_ids)\n",
        "\n",
        "    val_micro_f1 = calculate_metrics('val', predictions, true_labels)\n",
        "    elapsed_time = time.time() - start_time\n",
        "\n",
        "    # Print epoch summary\n",
        "    print(f\"Epoch {epoch + 1}/{epochs}\")\n",
        "    print(f\"  Train Loss: {avg_train_loss}\")\n",
        "    print(f\"  Val Micro F1: {val_micro_f1}\")\n",
        "    print(f\"  Time: {elapsed_time // 60:.0f}m {elapsed_time % 60:.0f}s\")"
      ]
    },
    {
      "cell_type": "code",
      "execution_count": null,
      "metadata": {
        "colab": {
          "base_uri": "https://localhost:8080/"
        },
        "id": "YF1GCpcUDN6D",
        "outputId": "1ea5f495-e89d-4a4e-f444-b8cbd69165ff"
      },
      "outputs": [],
      "source": [
        "# Evaluation\n",
        "model.eval()\n",
        "predictions = []\n",
        "true_labels = []\n",
        "\n",
        "for batch in test_dataloader:\n",
        "    batch = tuple(t.to(device) for t in batch)\n",
        "    input_ids, input_mask, labels = batch\n",
        "\n",
        "    with torch.no_grad():\n",
        "        outputs = model(input_ids=input_ids, attention_mask=input_mask)\n",
        "        logits = outputs.logits\n",
        "\n",
        "    logits = logits.detach().cpu().numpy()\n",
        "    label_ids = labels.to('cpu').numpy()\n",
        "\n",
        "    batch_predictions = np.argmax(logits, axis=1)\n",
        "    predictions.extend(batch_predictions)\n",
        "    true_labels.extend(label_ids)\n",
        "\n",
        "# Calculate and print metrics\n",
        "calculate_metrics('test', predictions, true_labels)"
      ]
    },
    {
      "cell_type": "code",
      "execution_count": null,
      "metadata": {
        "id": "zBU4h6E7DN6D"
      },
      "outputs": [],
      "source": [
        "model.save_pretrained('/content/drive/MyDrive/WoS/BioBERT_WoS_Keywords_46985')"
      ]
    },
    {
      "cell_type": "code",
      "execution_count": null,
      "metadata": {
        "colab": {
          "base_uri": "https://localhost:8080/"
        },
        "id": "gXML14r1fqZ9",
        "outputId": "32b3ec34-fcc4-47e3-8d4f-5d1346e62d9d"
      },
      "outputs": [],
      "source": [
        "print('End of the runtime!')"
      ]
    },
    {
      "cell_type": "code",
      "execution_count": null,
      "metadata": {
        "id": "a3ftL0Kkd3f0"
      },
      "outputs": [],
      "source": [
        "runtime.unassign()"
      ]
    }
  ],
  "metadata": {
    "accelerator": "GPU",
    "colab": {
      "gpuType": "T4",
      "machine_shape": "hm",
      "provenance": []
    },
    "kernelspec": {
      "display_name": "Python 3",
      "name": "python3"
    },
    "language_info": {
      "name": "python"
    },
    "widgets": {
      "application/vnd.jupyter.widget-state+json": {
        "045a3443052f4f5585ce5117bc5d7ed2": {
          "model_module": "@jupyter-widgets/base",
          "model_module_version": "1.2.0",
          "model_name": "LayoutModel",
          "state": {
            "_model_module": "@jupyter-widgets/base",
            "_model_module_version": "1.2.0",
            "_model_name": "LayoutModel",
            "_view_count": null,
            "_view_module": "@jupyter-widgets/base",
            "_view_module_version": "1.2.0",
            "_view_name": "LayoutView",
            "align_content": null,
            "align_items": null,
            "align_self": null,
            "border": null,
            "bottom": null,
            "display": null,
            "flex": null,
            "flex_flow": null,
            "grid_area": null,
            "grid_auto_columns": null,
            "grid_auto_flow": null,
            "grid_auto_rows": null,
            "grid_column": null,
            "grid_gap": null,
            "grid_row": null,
            "grid_template_areas": null,
            "grid_template_columns": null,
            "grid_template_rows": null,
            "height": null,
            "justify_content": null,
            "justify_items": null,
            "left": null,
            "margin": null,
            "max_height": null,
            "max_width": null,
            "min_height": null,
            "min_width": null,
            "object_fit": null,
            "object_position": null,
            "order": null,
            "overflow": null,
            "overflow_x": null,
            "overflow_y": null,
            "padding": null,
            "right": null,
            "top": null,
            "visibility": null,
            "width": null
          }
        },
        "1b8efd5319e447ee9c157b477494df28": {
          "model_module": "@jupyter-widgets/controls",
          "model_module_version": "1.5.0",
          "model_name": "ProgressStyleModel",
          "state": {
            "_model_module": "@jupyter-widgets/controls",
            "_model_module_version": "1.5.0",
            "_model_name": "ProgressStyleModel",
            "_view_count": null,
            "_view_module": "@jupyter-widgets/base",
            "_view_module_version": "1.2.0",
            "_view_name": "StyleView",
            "bar_color": null,
            "description_width": ""
          }
        },
        "1ba852dfa20247368d36a6652bd9955f": {
          "model_module": "@jupyter-widgets/controls",
          "model_module_version": "1.5.0",
          "model_name": "HTMLModel",
          "state": {
            "_dom_classes": [],
            "_model_module": "@jupyter-widgets/controls",
            "_model_module_version": "1.5.0",
            "_model_name": "HTMLModel",
            "_view_count": null,
            "_view_module": "@jupyter-widgets/controls",
            "_view_module_version": "1.5.0",
            "_view_name": "HTMLView",
            "description": "",
            "description_tooltip": null,
            "layout": "IPY_MODEL_045a3443052f4f5585ce5117bc5d7ed2",
            "placeholder": "​",
            "style": "IPY_MODEL_97914cdce3c241509e6422c489593d79",
            "value": " 213k/213k [00:00&lt;00:00, 11.7MB/s]"
          }
        },
        "212624df10d1429792b8132cfbed7e67": {
          "model_module": "@jupyter-widgets/base",
          "model_module_version": "1.2.0",
          "model_name": "LayoutModel",
          "state": {
            "_model_module": "@jupyter-widgets/base",
            "_model_module_version": "1.2.0",
            "_model_name": "LayoutModel",
            "_view_count": null,
            "_view_module": "@jupyter-widgets/base",
            "_view_module_version": "1.2.0",
            "_view_name": "LayoutView",
            "align_content": null,
            "align_items": null,
            "align_self": null,
            "border": null,
            "bottom": null,
            "display": null,
            "flex": null,
            "flex_flow": null,
            "grid_area": null,
            "grid_auto_columns": null,
            "grid_auto_flow": null,
            "grid_auto_rows": null,
            "grid_column": null,
            "grid_gap": null,
            "grid_row": null,
            "grid_template_areas": null,
            "grid_template_columns": null,
            "grid_template_rows": null,
            "height": null,
            "justify_content": null,
            "justify_items": null,
            "left": null,
            "margin": null,
            "max_height": null,
            "max_width": null,
            "min_height": null,
            "min_width": null,
            "object_fit": null,
            "object_position": null,
            "order": null,
            "overflow": null,
            "overflow_x": null,
            "overflow_y": null,
            "padding": null,
            "right": null,
            "top": null,
            "visibility": null,
            "width": null
          }
        },
        "231f308ce17d449dbffc8e44e17400d7": {
          "model_module": "@jupyter-widgets/controls",
          "model_module_version": "1.5.0",
          "model_name": "DescriptionStyleModel",
          "state": {
            "_model_module": "@jupyter-widgets/controls",
            "_model_module_version": "1.5.0",
            "_model_name": "DescriptionStyleModel",
            "_view_count": null,
            "_view_module": "@jupyter-widgets/base",
            "_view_module_version": "1.2.0",
            "_view_name": "StyleView",
            "description_width": ""
          }
        },
        "37d6441e88dd4397bb225719d0afb900": {
          "model_module": "@jupyter-widgets/controls",
          "model_module_version": "1.5.0",
          "model_name": "HBoxModel",
          "state": {
            "_dom_classes": [],
            "_model_module": "@jupyter-widgets/controls",
            "_model_module_version": "1.5.0",
            "_model_name": "HBoxModel",
            "_view_count": null,
            "_view_module": "@jupyter-widgets/controls",
            "_view_module_version": "1.5.0",
            "_view_name": "HBoxView",
            "box_style": "",
            "children": [
              "IPY_MODEL_6ba047d4c6964f369fcd45841203a6d4",
              "IPY_MODEL_77d0852f17e04d3d866ecc2404db7f62",
              "IPY_MODEL_42951753291043f289e7ab8474831738"
            ],
            "layout": "IPY_MODEL_9a72a14c0f6548dcb995b6033903684e"
          }
        },
        "3cc60f6607e444fbb6edac94f809ffbf": {
          "model_module": "@jupyter-widgets/controls",
          "model_module_version": "1.5.0",
          "model_name": "DescriptionStyleModel",
          "state": {
            "_model_module": "@jupyter-widgets/controls",
            "_model_module_version": "1.5.0",
            "_model_name": "DescriptionStyleModel",
            "_view_count": null,
            "_view_module": "@jupyter-widgets/base",
            "_view_module_version": "1.2.0",
            "_view_name": "StyleView",
            "description_width": ""
          }
        },
        "4276ae2b0b0b4212b8d4b0c4dcbfda09": {
          "model_module": "@jupyter-widgets/base",
          "model_module_version": "1.2.0",
          "model_name": "LayoutModel",
          "state": {
            "_model_module": "@jupyter-widgets/base",
            "_model_module_version": "1.2.0",
            "_model_name": "LayoutModel",
            "_view_count": null,
            "_view_module": "@jupyter-widgets/base",
            "_view_module_version": "1.2.0",
            "_view_name": "LayoutView",
            "align_content": null,
            "align_items": null,
            "align_self": null,
            "border": null,
            "bottom": null,
            "display": null,
            "flex": null,
            "flex_flow": null,
            "grid_area": null,
            "grid_auto_columns": null,
            "grid_auto_flow": null,
            "grid_auto_rows": null,
            "grid_column": null,
            "grid_gap": null,
            "grid_row": null,
            "grid_template_areas": null,
            "grid_template_columns": null,
            "grid_template_rows": null,
            "height": null,
            "justify_content": null,
            "justify_items": null,
            "left": null,
            "margin": null,
            "max_height": null,
            "max_width": null,
            "min_height": null,
            "min_width": null,
            "object_fit": null,
            "object_position": null,
            "order": null,
            "overflow": null,
            "overflow_x": null,
            "overflow_y": null,
            "padding": null,
            "right": null,
            "top": null,
            "visibility": null,
            "width": null
          }
        },
        "42951753291043f289e7ab8474831738": {
          "model_module": "@jupyter-widgets/controls",
          "model_module_version": "1.5.0",
          "model_name": "HTMLModel",
          "state": {
            "_dom_classes": [],
            "_model_module": "@jupyter-widgets/controls",
            "_model_module_version": "1.5.0",
            "_model_name": "HTMLModel",
            "_view_count": null,
            "_view_module": "@jupyter-widgets/controls",
            "_view_module_version": "1.5.0",
            "_view_name": "HTMLView",
            "description": "",
            "description_tooltip": null,
            "layout": "IPY_MODEL_75734eeeee7446639f136c6dd785a9f6",
            "placeholder": "​",
            "style": "IPY_MODEL_3cc60f6607e444fbb6edac94f809ffbf",
            "value": " 1.11k/1.11k [00:00&lt;00:00, 86.5kB/s]"
          }
        },
        "4cb6c23ed0ff4534825e252d2cd705bb": {
          "model_module": "@jupyter-widgets/controls",
          "model_module_version": "1.5.0",
          "model_name": "ProgressStyleModel",
          "state": {
            "_model_module": "@jupyter-widgets/controls",
            "_model_module_version": "1.5.0",
            "_model_name": "ProgressStyleModel",
            "_view_count": null,
            "_view_module": "@jupyter-widgets/base",
            "_view_module_version": "1.2.0",
            "_view_name": "StyleView",
            "bar_color": null,
            "description_width": ""
          }
        },
        "4dffd6adf0fb41a2838b1622eea1e059": {
          "model_module": "@jupyter-widgets/controls",
          "model_module_version": "1.5.0",
          "model_name": "FloatProgressModel",
          "state": {
            "_dom_classes": [],
            "_model_module": "@jupyter-widgets/controls",
            "_model_module_version": "1.5.0",
            "_model_name": "FloatProgressModel",
            "_view_count": null,
            "_view_module": "@jupyter-widgets/controls",
            "_view_module_version": "1.5.0",
            "_view_name": "ProgressView",
            "bar_style": "success",
            "description": "",
            "description_tooltip": null,
            "layout": "IPY_MODEL_9243a576d3354835aa76ee106dfdc5dd",
            "max": 435783451,
            "min": 0,
            "orientation": "horizontal",
            "style": "IPY_MODEL_4cb6c23ed0ff4534825e252d2cd705bb",
            "value": 435783451
          }
        },
        "5146521a7c2e40b4bd835b8e55e1413c": {
          "model_module": "@jupyter-widgets/base",
          "model_module_version": "1.2.0",
          "model_name": "LayoutModel",
          "state": {
            "_model_module": "@jupyter-widgets/base",
            "_model_module_version": "1.2.0",
            "_model_name": "LayoutModel",
            "_view_count": null,
            "_view_module": "@jupyter-widgets/base",
            "_view_module_version": "1.2.0",
            "_view_name": "LayoutView",
            "align_content": null,
            "align_items": null,
            "align_self": null,
            "border": null,
            "bottom": null,
            "display": null,
            "flex": null,
            "flex_flow": null,
            "grid_area": null,
            "grid_auto_columns": null,
            "grid_auto_flow": null,
            "grid_auto_rows": null,
            "grid_column": null,
            "grid_gap": null,
            "grid_row": null,
            "grid_template_areas": null,
            "grid_template_columns": null,
            "grid_template_rows": null,
            "height": null,
            "justify_content": null,
            "justify_items": null,
            "left": null,
            "margin": null,
            "max_height": null,
            "max_width": null,
            "min_height": null,
            "min_width": null,
            "object_fit": null,
            "object_position": null,
            "order": null,
            "overflow": null,
            "overflow_x": null,
            "overflow_y": null,
            "padding": null,
            "right": null,
            "top": null,
            "visibility": null,
            "width": null
          }
        },
        "6ba047d4c6964f369fcd45841203a6d4": {
          "model_module": "@jupyter-widgets/controls",
          "model_module_version": "1.5.0",
          "model_name": "HTMLModel",
          "state": {
            "_dom_classes": [],
            "_model_module": "@jupyter-widgets/controls",
            "_model_module_version": "1.5.0",
            "_model_name": "HTMLModel",
            "_view_count": null,
            "_view_module": "@jupyter-widgets/controls",
            "_view_module_version": "1.5.0",
            "_view_name": "HTMLView",
            "description": "",
            "description_tooltip": null,
            "layout": "IPY_MODEL_5146521a7c2e40b4bd835b8e55e1413c",
            "placeholder": "​",
            "style": "IPY_MODEL_f652ad670fe6408d90c232b3d9ed36c3",
            "value": "config.json: 100%"
          }
        },
        "75734eeeee7446639f136c6dd785a9f6": {
          "model_module": "@jupyter-widgets/base",
          "model_module_version": "1.2.0",
          "model_name": "LayoutModel",
          "state": {
            "_model_module": "@jupyter-widgets/base",
            "_model_module_version": "1.2.0",
            "_model_name": "LayoutModel",
            "_view_count": null,
            "_view_module": "@jupyter-widgets/base",
            "_view_module_version": "1.2.0",
            "_view_name": "LayoutView",
            "align_content": null,
            "align_items": null,
            "align_self": null,
            "border": null,
            "bottom": null,
            "display": null,
            "flex": null,
            "flex_flow": null,
            "grid_area": null,
            "grid_auto_columns": null,
            "grid_auto_flow": null,
            "grid_auto_rows": null,
            "grid_column": null,
            "grid_gap": null,
            "grid_row": null,
            "grid_template_areas": null,
            "grid_template_columns": null,
            "grid_template_rows": null,
            "height": null,
            "justify_content": null,
            "justify_items": null,
            "left": null,
            "margin": null,
            "max_height": null,
            "max_width": null,
            "min_height": null,
            "min_width": null,
            "object_fit": null,
            "object_position": null,
            "order": null,
            "overflow": null,
            "overflow_x": null,
            "overflow_y": null,
            "padding": null,
            "right": null,
            "top": null,
            "visibility": null,
            "width": null
          }
        },
        "77d0852f17e04d3d866ecc2404db7f62": {
          "model_module": "@jupyter-widgets/controls",
          "model_module_version": "1.5.0",
          "model_name": "FloatProgressModel",
          "state": {
            "_dom_classes": [],
            "_model_module": "@jupyter-widgets/controls",
            "_model_module_version": "1.5.0",
            "_model_name": "FloatProgressModel",
            "_view_count": null,
            "_view_module": "@jupyter-widgets/controls",
            "_view_module_version": "1.5.0",
            "_view_name": "ProgressView",
            "bar_style": "success",
            "description": "",
            "description_tooltip": null,
            "layout": "IPY_MODEL_e8696c15ad3b4da8aabacca0555d766a",
            "max": 1110,
            "min": 0,
            "orientation": "horizontal",
            "style": "IPY_MODEL_1b8efd5319e447ee9c157b477494df28",
            "value": 1110
          }
        },
        "82939930f5a74a69b2ff93b2a9e4c611": {
          "model_module": "@jupyter-widgets/controls",
          "model_module_version": "1.5.0",
          "model_name": "HBoxModel",
          "state": {
            "_dom_classes": [],
            "_model_module": "@jupyter-widgets/controls",
            "_model_module_version": "1.5.0",
            "_model_name": "HBoxModel",
            "_view_count": null,
            "_view_module": "@jupyter-widgets/controls",
            "_view_module_version": "1.5.0",
            "_view_name": "HBoxView",
            "box_style": "",
            "children": [
              "IPY_MODEL_957a3467a4dc49f18f9c8bd45fe8dfd0",
              "IPY_MODEL_4dffd6adf0fb41a2838b1622eea1e059",
              "IPY_MODEL_acecfde4ffa14ff2ab398ca8f63b1851"
            ],
            "layout": "IPY_MODEL_b9ff959839d94c4d9df8d9e4d804df40"
          }
        },
        "87a8a450134a4aa49dd80ccce9be7ef7": {
          "model_module": "@jupyter-widgets/controls",
          "model_module_version": "1.5.0",
          "model_name": "ProgressStyleModel",
          "state": {
            "_model_module": "@jupyter-widgets/controls",
            "_model_module_version": "1.5.0",
            "_model_name": "ProgressStyleModel",
            "_view_count": null,
            "_view_module": "@jupyter-widgets/base",
            "_view_module_version": "1.2.0",
            "_view_name": "StyleView",
            "bar_color": null,
            "description_width": ""
          }
        },
        "9243a576d3354835aa76ee106dfdc5dd": {
          "model_module": "@jupyter-widgets/base",
          "model_module_version": "1.2.0",
          "model_name": "LayoutModel",
          "state": {
            "_model_module": "@jupyter-widgets/base",
            "_model_module_version": "1.2.0",
            "_model_name": "LayoutModel",
            "_view_count": null,
            "_view_module": "@jupyter-widgets/base",
            "_view_module_version": "1.2.0",
            "_view_name": "LayoutView",
            "align_content": null,
            "align_items": null,
            "align_self": null,
            "border": null,
            "bottom": null,
            "display": null,
            "flex": null,
            "flex_flow": null,
            "grid_area": null,
            "grid_auto_columns": null,
            "grid_auto_flow": null,
            "grid_auto_rows": null,
            "grid_column": null,
            "grid_gap": null,
            "grid_row": null,
            "grid_template_areas": null,
            "grid_template_columns": null,
            "grid_template_rows": null,
            "height": null,
            "justify_content": null,
            "justify_items": null,
            "left": null,
            "margin": null,
            "max_height": null,
            "max_width": null,
            "min_height": null,
            "min_width": null,
            "object_fit": null,
            "object_position": null,
            "order": null,
            "overflow": null,
            "overflow_x": null,
            "overflow_y": null,
            "padding": null,
            "right": null,
            "top": null,
            "visibility": null,
            "width": null
          }
        },
        "94d42c68c25a4c7fafb09f718b2dce57": {
          "model_module": "@jupyter-widgets/controls",
          "model_module_version": "1.5.0",
          "model_name": "HTMLModel",
          "state": {
            "_dom_classes": [],
            "_model_module": "@jupyter-widgets/controls",
            "_model_module_version": "1.5.0",
            "_model_name": "HTMLModel",
            "_view_count": null,
            "_view_module": "@jupyter-widgets/controls",
            "_view_module_version": "1.5.0",
            "_view_name": "HTMLView",
            "description": "",
            "description_tooltip": null,
            "layout": "IPY_MODEL_fdb10e97387d4b8097e6f4cdb0c4337c",
            "placeholder": "​",
            "style": "IPY_MODEL_b55d382a67584cf0aad40fdb71b5a111",
            "value": "vocab.txt: 100%"
          }
        },
        "957a3467a4dc49f18f9c8bd45fe8dfd0": {
          "model_module": "@jupyter-widgets/controls",
          "model_module_version": "1.5.0",
          "model_name": "HTMLModel",
          "state": {
            "_dom_classes": [],
            "_model_module": "@jupyter-widgets/controls",
            "_model_module_version": "1.5.0",
            "_model_name": "HTMLModel",
            "_view_count": null,
            "_view_module": "@jupyter-widgets/controls",
            "_view_module_version": "1.5.0",
            "_view_name": "HTMLView",
            "description": "",
            "description_tooltip": null,
            "layout": "IPY_MODEL_212624df10d1429792b8132cfbed7e67",
            "placeholder": "​",
            "style": "IPY_MODEL_bf39e8b90d014571b1c2cac7438c3502",
            "value": "pytorch_model.bin: 100%"
          }
        },
        "97914cdce3c241509e6422c489593d79": {
          "model_module": "@jupyter-widgets/controls",
          "model_module_version": "1.5.0",
          "model_name": "DescriptionStyleModel",
          "state": {
            "_model_module": "@jupyter-widgets/controls",
            "_model_module_version": "1.5.0",
            "_model_name": "DescriptionStyleModel",
            "_view_count": null,
            "_view_module": "@jupyter-widgets/base",
            "_view_module_version": "1.2.0",
            "_view_name": "StyleView",
            "description_width": ""
          }
        },
        "9a72a14c0f6548dcb995b6033903684e": {
          "model_module": "@jupyter-widgets/base",
          "model_module_version": "1.2.0",
          "model_name": "LayoutModel",
          "state": {
            "_model_module": "@jupyter-widgets/base",
            "_model_module_version": "1.2.0",
            "_model_name": "LayoutModel",
            "_view_count": null,
            "_view_module": "@jupyter-widgets/base",
            "_view_module_version": "1.2.0",
            "_view_name": "LayoutView",
            "align_content": null,
            "align_items": null,
            "align_self": null,
            "border": null,
            "bottom": null,
            "display": null,
            "flex": null,
            "flex_flow": null,
            "grid_area": null,
            "grid_auto_columns": null,
            "grid_auto_flow": null,
            "grid_auto_rows": null,
            "grid_column": null,
            "grid_gap": null,
            "grid_row": null,
            "grid_template_areas": null,
            "grid_template_columns": null,
            "grid_template_rows": null,
            "height": null,
            "justify_content": null,
            "justify_items": null,
            "left": null,
            "margin": null,
            "max_height": null,
            "max_width": null,
            "min_height": null,
            "min_width": null,
            "object_fit": null,
            "object_position": null,
            "order": null,
            "overflow": null,
            "overflow_x": null,
            "overflow_y": null,
            "padding": null,
            "right": null,
            "top": null,
            "visibility": null,
            "width": null
          }
        },
        "9fa4fc242bd34e76b50d2b062bef801b": {
          "model_module": "@jupyter-widgets/base",
          "model_module_version": "1.2.0",
          "model_name": "LayoutModel",
          "state": {
            "_model_module": "@jupyter-widgets/base",
            "_model_module_version": "1.2.0",
            "_model_name": "LayoutModel",
            "_view_count": null,
            "_view_module": "@jupyter-widgets/base",
            "_view_module_version": "1.2.0",
            "_view_name": "LayoutView",
            "align_content": null,
            "align_items": null,
            "align_self": null,
            "border": null,
            "bottom": null,
            "display": null,
            "flex": null,
            "flex_flow": null,
            "grid_area": null,
            "grid_auto_columns": null,
            "grid_auto_flow": null,
            "grid_auto_rows": null,
            "grid_column": null,
            "grid_gap": null,
            "grid_row": null,
            "grid_template_areas": null,
            "grid_template_columns": null,
            "grid_template_rows": null,
            "height": null,
            "justify_content": null,
            "justify_items": null,
            "left": null,
            "margin": null,
            "max_height": null,
            "max_width": null,
            "min_height": null,
            "min_width": null,
            "object_fit": null,
            "object_position": null,
            "order": null,
            "overflow": null,
            "overflow_x": null,
            "overflow_y": null,
            "padding": null,
            "right": null,
            "top": null,
            "visibility": null,
            "width": null
          }
        },
        "acecfde4ffa14ff2ab398ca8f63b1851": {
          "model_module": "@jupyter-widgets/controls",
          "model_module_version": "1.5.0",
          "model_name": "HTMLModel",
          "state": {
            "_dom_classes": [],
            "_model_module": "@jupyter-widgets/controls",
            "_model_module_version": "1.5.0",
            "_model_name": "HTMLModel",
            "_view_count": null,
            "_view_module": "@jupyter-widgets/controls",
            "_view_module_version": "1.5.0",
            "_view_name": "HTMLView",
            "description": "",
            "description_tooltip": null,
            "layout": "IPY_MODEL_9fa4fc242bd34e76b50d2b062bef801b",
            "placeholder": "​",
            "style": "IPY_MODEL_231f308ce17d449dbffc8e44e17400d7",
            "value": " 436M/436M [00:01&lt;00:00, 436MB/s]"
          }
        },
        "b55d382a67584cf0aad40fdb71b5a111": {
          "model_module": "@jupyter-widgets/controls",
          "model_module_version": "1.5.0",
          "model_name": "DescriptionStyleModel",
          "state": {
            "_model_module": "@jupyter-widgets/controls",
            "_model_module_version": "1.5.0",
            "_model_name": "DescriptionStyleModel",
            "_view_count": null,
            "_view_module": "@jupyter-widgets/base",
            "_view_module_version": "1.2.0",
            "_view_name": "StyleView",
            "description_width": ""
          }
        },
        "b9ff959839d94c4d9df8d9e4d804df40": {
          "model_module": "@jupyter-widgets/base",
          "model_module_version": "1.2.0",
          "model_name": "LayoutModel",
          "state": {
            "_model_module": "@jupyter-widgets/base",
            "_model_module_version": "1.2.0",
            "_model_name": "LayoutModel",
            "_view_count": null,
            "_view_module": "@jupyter-widgets/base",
            "_view_module_version": "1.2.0",
            "_view_name": "LayoutView",
            "align_content": null,
            "align_items": null,
            "align_self": null,
            "border": null,
            "bottom": null,
            "display": null,
            "flex": null,
            "flex_flow": null,
            "grid_area": null,
            "grid_auto_columns": null,
            "grid_auto_flow": null,
            "grid_auto_rows": null,
            "grid_column": null,
            "grid_gap": null,
            "grid_row": null,
            "grid_template_areas": null,
            "grid_template_columns": null,
            "grid_template_rows": null,
            "height": null,
            "justify_content": null,
            "justify_items": null,
            "left": null,
            "margin": null,
            "max_height": null,
            "max_width": null,
            "min_height": null,
            "min_width": null,
            "object_fit": null,
            "object_position": null,
            "order": null,
            "overflow": null,
            "overflow_x": null,
            "overflow_y": null,
            "padding": null,
            "right": null,
            "top": null,
            "visibility": null,
            "width": null
          }
        },
        "bf39e8b90d014571b1c2cac7438c3502": {
          "model_module": "@jupyter-widgets/controls",
          "model_module_version": "1.5.0",
          "model_name": "DescriptionStyleModel",
          "state": {
            "_model_module": "@jupyter-widgets/controls",
            "_model_module_version": "1.5.0",
            "_model_name": "DescriptionStyleModel",
            "_view_count": null,
            "_view_module": "@jupyter-widgets/base",
            "_view_module_version": "1.2.0",
            "_view_name": "StyleView",
            "description_width": ""
          }
        },
        "cb9d52e261a742bfb636e0f0f93828d9": {
          "model_module": "@jupyter-widgets/controls",
          "model_module_version": "1.5.0",
          "model_name": "HBoxModel",
          "state": {
            "_dom_classes": [],
            "_model_module": "@jupyter-widgets/controls",
            "_model_module_version": "1.5.0",
            "_model_name": "HBoxModel",
            "_view_count": null,
            "_view_module": "@jupyter-widgets/controls",
            "_view_module_version": "1.5.0",
            "_view_name": "HBoxView",
            "box_style": "",
            "children": [
              "IPY_MODEL_94d42c68c25a4c7fafb09f718b2dce57",
              "IPY_MODEL_e45934cd0729434a9d5fb2b319eb3e02",
              "IPY_MODEL_1ba852dfa20247368d36a6652bd9955f"
            ],
            "layout": "IPY_MODEL_d35c9fd6a01f4402a19670ea89f4ab6e"
          }
        },
        "d35c9fd6a01f4402a19670ea89f4ab6e": {
          "model_module": "@jupyter-widgets/base",
          "model_module_version": "1.2.0",
          "model_name": "LayoutModel",
          "state": {
            "_model_module": "@jupyter-widgets/base",
            "_model_module_version": "1.2.0",
            "_model_name": "LayoutModel",
            "_view_count": null,
            "_view_module": "@jupyter-widgets/base",
            "_view_module_version": "1.2.0",
            "_view_name": "LayoutView",
            "align_content": null,
            "align_items": null,
            "align_self": null,
            "border": null,
            "bottom": null,
            "display": null,
            "flex": null,
            "flex_flow": null,
            "grid_area": null,
            "grid_auto_columns": null,
            "grid_auto_flow": null,
            "grid_auto_rows": null,
            "grid_column": null,
            "grid_gap": null,
            "grid_row": null,
            "grid_template_areas": null,
            "grid_template_columns": null,
            "grid_template_rows": null,
            "height": null,
            "justify_content": null,
            "justify_items": null,
            "left": null,
            "margin": null,
            "max_height": null,
            "max_width": null,
            "min_height": null,
            "min_width": null,
            "object_fit": null,
            "object_position": null,
            "order": null,
            "overflow": null,
            "overflow_x": null,
            "overflow_y": null,
            "padding": null,
            "right": null,
            "top": null,
            "visibility": null,
            "width": null
          }
        },
        "e45934cd0729434a9d5fb2b319eb3e02": {
          "model_module": "@jupyter-widgets/controls",
          "model_module_version": "1.5.0",
          "model_name": "FloatProgressModel",
          "state": {
            "_dom_classes": [],
            "_model_module": "@jupyter-widgets/controls",
            "_model_module_version": "1.5.0",
            "_model_name": "FloatProgressModel",
            "_view_count": null,
            "_view_module": "@jupyter-widgets/controls",
            "_view_module_version": "1.5.0",
            "_view_name": "ProgressView",
            "bar_style": "success",
            "description": "",
            "description_tooltip": null,
            "layout": "IPY_MODEL_4276ae2b0b0b4212b8d4b0c4dcbfda09",
            "max": 213450,
            "min": 0,
            "orientation": "horizontal",
            "style": "IPY_MODEL_87a8a450134a4aa49dd80ccce9be7ef7",
            "value": 213450
          }
        },
        "e8696c15ad3b4da8aabacca0555d766a": {
          "model_module": "@jupyter-widgets/base",
          "model_module_version": "1.2.0",
          "model_name": "LayoutModel",
          "state": {
            "_model_module": "@jupyter-widgets/base",
            "_model_module_version": "1.2.0",
            "_model_name": "LayoutModel",
            "_view_count": null,
            "_view_module": "@jupyter-widgets/base",
            "_view_module_version": "1.2.0",
            "_view_name": "LayoutView",
            "align_content": null,
            "align_items": null,
            "align_self": null,
            "border": null,
            "bottom": null,
            "display": null,
            "flex": null,
            "flex_flow": null,
            "grid_area": null,
            "grid_auto_columns": null,
            "grid_auto_flow": null,
            "grid_auto_rows": null,
            "grid_column": null,
            "grid_gap": null,
            "grid_row": null,
            "grid_template_areas": null,
            "grid_template_columns": null,
            "grid_template_rows": null,
            "height": null,
            "justify_content": null,
            "justify_items": null,
            "left": null,
            "margin": null,
            "max_height": null,
            "max_width": null,
            "min_height": null,
            "min_width": null,
            "object_fit": null,
            "object_position": null,
            "order": null,
            "overflow": null,
            "overflow_x": null,
            "overflow_y": null,
            "padding": null,
            "right": null,
            "top": null,
            "visibility": null,
            "width": null
          }
        },
        "f652ad670fe6408d90c232b3d9ed36c3": {
          "model_module": "@jupyter-widgets/controls",
          "model_module_version": "1.5.0",
          "model_name": "DescriptionStyleModel",
          "state": {
            "_model_module": "@jupyter-widgets/controls",
            "_model_module_version": "1.5.0",
            "_model_name": "DescriptionStyleModel",
            "_view_count": null,
            "_view_module": "@jupyter-widgets/base",
            "_view_module_version": "1.2.0",
            "_view_name": "StyleView",
            "description_width": ""
          }
        },
        "fdb10e97387d4b8097e6f4cdb0c4337c": {
          "model_module": "@jupyter-widgets/base",
          "model_module_version": "1.2.0",
          "model_name": "LayoutModel",
          "state": {
            "_model_module": "@jupyter-widgets/base",
            "_model_module_version": "1.2.0",
            "_model_name": "LayoutModel",
            "_view_count": null,
            "_view_module": "@jupyter-widgets/base",
            "_view_module_version": "1.2.0",
            "_view_name": "LayoutView",
            "align_content": null,
            "align_items": null,
            "align_self": null,
            "border": null,
            "bottom": null,
            "display": null,
            "flex": null,
            "flex_flow": null,
            "grid_area": null,
            "grid_auto_columns": null,
            "grid_auto_flow": null,
            "grid_auto_rows": null,
            "grid_column": null,
            "grid_gap": null,
            "grid_row": null,
            "grid_template_areas": null,
            "grid_template_columns": null,
            "grid_template_rows": null,
            "height": null,
            "justify_content": null,
            "justify_items": null,
            "left": null,
            "margin": null,
            "max_height": null,
            "max_width": null,
            "min_height": null,
            "min_width": null,
            "object_fit": null,
            "object_position": null,
            "order": null,
            "overflow": null,
            "overflow_x": null,
            "overflow_y": null,
            "padding": null,
            "right": null,
            "top": null,
            "visibility": null,
            "width": null
          }
        }
      }
    }
  },
  "nbformat": 4,
  "nbformat_minor": 0
}
